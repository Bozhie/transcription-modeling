{
 "cells": [
  {
   "cell_type": "markdown",
   "id": "85214964-d6f2-488b-81eb-fe9d597605d8",
   "metadata": {},
   "source": [
    "# Processing RNA-seq data\n",
    "\n",
    "Trying some alternative pipelines for processing RNA-seq data using existing tools: sleuth + DESeq. Will collect data to generate a summary of the changes (similarities and differences) between differential expression results that come out of these tools, dependent on the pipeline and tool's analysis methods used.\n",
    "\n",
    "All are starting out with the same RNA-seq results mapped to ensembl transcriptome using kallisto. \n",
    "\n",
    "List of existing models/pipelines:\n",
    "- [x] One sleuth object constructed and trained with a full model, supplied gene-to-transcript mapping, individual wald-tests based on condition to pull out DE transcripts based on these results \n",
    "    * notes from specs on expected behavior:\n",
    "- [ ] Pairwise sleuth objects generated per condition, with a wald test to analyze the DE transcripts for that condition\n",
    "- [ ] DESeq2 pipeline with only the two variables ('CTCF_AID_untreated' vs some auxin treatment) "
   ]
  },
  {
   "cell_type": "markdown",
   "id": "8f83fce5-2612-481f-8586-6a199ec7ef42",
   "metadata": {},
   "source": [
    "## Creating sleuth full model + Wald Test using only two conditions"
   ]
  },
  {
   "cell_type": "code",
   "execution_count": 2,
   "id": "7af4e5e1-a13e-4ff1-ac3a-f8badf10b206",
   "metadata": {},
   "outputs": [
    {
     "name": "stderr",
     "output_type": "stream",
     "text": [
      "Warning message:\n",
      "\"package 'stringr' was built under R version 3.6.3\"\n",
      "\n",
      "Attaching package: 'dplyr'\n",
      "\n",
      "\n",
      "The following objects are masked from 'package:stats':\n",
      "\n",
      "    filter, lag\n",
      "\n",
      "\n",
      "The following objects are masked from 'package:base':\n",
      "\n",
      "    intersect, setdiff, setequal, union\n",
      "\n",
      "\n"
     ]
    }
   ],
   "source": [
    "library(\"sleuth\")\n",
    "library(stringr)\n",
    "library(dplyr)\n",
    "\n",
    "suppressMessages({\n",
    "  library(\"sleuth\")\n",
    "})"
   ]
  },
  {
   "cell_type": "code",
   "execution_count": 3,
   "id": "cc14bcfd-72c3-48df-a5eb-6123b733ae3b",
   "metadata": {},
   "outputs": [],
   "source": [
    "# Getting location of the kalliso outputs\n",
    "elphege_proj_files = \"/project/fudenber_735/GEO/nora_2017_rna-seq_SRP106652\"\n",
    "sample_id <- dir(file.path(elphege_proj_files,\"SRP106652\"))\n",
    "kal_dirs <- file.path(elphege_proj_files, \"SRP106652\", sample_id, \"kallisto-mm9\")\n",
    "\n",
    "files <- file.path(kal_dirs, \"abundance.h5\")\n",
    "names(files) <- str_split_fixed(files,'/',9)[,7]"
   ]
  },
  {
   "cell_type": "code",
   "execution_count": 4,
   "id": "264ff0b5-a1c8-40b6-af2e-d8a8e068beb5",
   "metadata": {},
   "outputs": [
    {
     "data": {
      "text/html": [
       "<style>\n",
       ".list-inline {list-style: none; margin:0; padding: 0}\n",
       ".list-inline>li {display: inline-block}\n",
       ".list-inline>li:not(:last-child)::after {content: \"\\00b7\"; padding: 0 .5ex}\n",
       "</style>\n",
       "<ol class=list-inline><li>'CTCF_AID_auxin1day'</li><li>'CTCF_AID_auxin2days'</li><li>'CTCF_AID_auxin4days'</li><li>'CTCF_AID_untreated'</li><li>'CTCF_AID_washoff2days'</li><li>'WT_untagged_auxin2days'</li><li>'WT_untagged_auxin4days'</li><li>'WT_untagged_untreated'</li></ol>\n"
      ],
      "text/latex": [
       "\\begin{enumerate*}\n",
       "\\item 'CTCF\\_AID\\_auxin1day'\n",
       "\\item 'CTCF\\_AID\\_auxin2days'\n",
       "\\item 'CTCF\\_AID\\_auxin4days'\n",
       "\\item 'CTCF\\_AID\\_untreated'\n",
       "\\item 'CTCF\\_AID\\_washoff2days'\n",
       "\\item 'WT\\_untagged\\_auxin2days'\n",
       "\\item 'WT\\_untagged\\_auxin4days'\n",
       "\\item 'WT\\_untagged\\_untreated'\n",
       "\\end{enumerate*}\n"
      ],
      "text/markdown": [
       "1. 'CTCF_AID_auxin1day'\n",
       "2. 'CTCF_AID_auxin2days'\n",
       "3. 'CTCF_AID_auxin4days'\n",
       "4. 'CTCF_AID_untreated'\n",
       "5. 'CTCF_AID_washoff2days'\n",
       "6. 'WT_untagged_auxin2days'\n",
       "7. 'WT_untagged_auxin4days'\n",
       "8. 'WT_untagged_untreated'\n",
       "\n",
       "\n"
      ],
      "text/plain": [
       "[1] \"CTCF_AID_auxin1day\"     \"CTCF_AID_auxin2days\"    \"CTCF_AID_auxin4days\"   \n",
       "[4] \"CTCF_AID_untreated\"     \"CTCF_AID_washoff2days\"  \"WT_untagged_auxin2days\"\n",
       "[7] \"WT_untagged_auxin4days\" \"WT_untagged_untreated\" "
      ]
     },
     "metadata": {},
     "output_type": "display_data"
    }
   ],
   "source": [
    "# Getting \"Run\" and \"condition\" from Experiment Name of the SRA deposits\n",
    "sra_summary <- read.table(\n",
    "                    file.path(elphege_proj_files, \n",
    "                             \"metadata\", \"sra_result_summary.csv\"), \n",
    "                              header = TRUE, sep = \",\", stringsAsFactors=FALSE)\n",
    "\n",
    "# # Parse experiment name to get 'condition' -- str_split_fixed(string, pattern, n)\n",
    "# # also Removing replicate number so that sleuth can do some grouping\n",
    "\n",
    "conditions = data.frame(\n",
    "                condition=str_split_fixed( str_split_fixed(\n",
    "                             sra_summary$Experiment.Title,\n",
    "                             \"seq_\", 4)[,2] ,'_rep',2)[,1])\n",
    "\n",
    "sra_summary <- cbind(sra_summary,  conditions)\n",
    "    \n",
    "    \n",
    "run_info <- read.table(file.path(elphege_proj_files, \"metadata\", \"SraRunInfo.csv\"), header = TRUE, sep = \",\", stringsAsFactors=FALSE)\n",
    "\n",
    "# # merge sra_result file and sraRunInfo to get the condition\n",
    "# # (buried in 'Experiment Name' in sra_result_summary -- put in 'condition')\n",
    "sra_info_combined <- merge(run_info, sra_summary, \n",
    "                             by.x=c(\"Experiment\"),\n",
    "                             by.y=c(\"Experiment.Accession\"),\n",
    "                             all.x=TRUE)\n",
    "\n",
    "s2c <- dplyr::select(sra_info_combined, Experiment, Run, condition, Library.Strategy, Library.Selection)\n",
    "s2c <- dplyr::select(s2c, sample = Run, condition)\n",
    "s2c$condition <- gsub('-', '_', s2c$condition) # apparently R wants  of factors in the design to only have letters, numbers, '_' and '.'\n",
    "s2c$condition <- as.factor(s2c$condition)        # Convert character column to factor (not necessary, just suppresses warning below)\n",
    "\n",
    "# Adding kallisto result directory file path so sleuth knows where to find the files for each sample\n",
    "s2c <- dplyr::mutate(s2c, path = kal_dirs)\n",
    "\n",
    "# Reformatting condition so that when converted to levels, we can put the base case first\n",
    "## note: default behavior for sleuth will order the levels alphabetically and perform comparisons based on this order\n",
    "s2c$condition = as.factor(s2c$condition)\n",
    "\n",
    "levels(s2c$condition)\n",
    "\n",
    "# Getting rid of whitespace didn't work? so just going to try to se the base level\n",
    "s2c$condition <- relevel(s2c$condition, ref = \"CTCF_AID_untreated\")"
   ]
  },
  {
   "cell_type": "code",
   "execution_count": 5,
   "id": "8a0bc510-cd33-4623-afaf-18ae9051939f",
   "metadata": {},
   "outputs": [
    {
     "data": {
      "text/html": [
       "<table class=\"dataframe\">\n",
       "<caption>A data.frame: 6 × 3</caption>\n",
       "<thead>\n",
       "\t<tr><th></th><th scope=col>sample</th><th scope=col>condition</th><th scope=col>path</th></tr>\n",
       "\t<tr><th></th><th scope=col>&lt;chr&gt;</th><th scope=col>&lt;fct&gt;</th><th scope=col>&lt;chr&gt;</th></tr>\n",
       "</thead>\n",
       "<tbody>\n",
       "\t<tr><th scope=row>1</th><td>SRR5517500</td><td>CTCF_AID_untreated</td><td>/project/fudenber_735/GEO/nora_2017_rna-seq_SRP106652/SRP106652/SRR5517500/kallisto-mm9</td></tr>\n",
       "\t<tr><th scope=row>2</th><td>SRR5517501</td><td>CTCF_AID_auxin1day</td><td>/project/fudenber_735/GEO/nora_2017_rna-seq_SRP106652/SRP106652/SRR5517501/kallisto-mm9</td></tr>\n",
       "\t<tr><th scope=row>6</th><td>SRR5517505</td><td>CTCF_AID_untreated</td><td>/project/fudenber_735/GEO/nora_2017_rna-seq_SRP106652/SRP106652/SRR5517505/kallisto-mm9</td></tr>\n",
       "\t<tr><th scope=row>7</th><td>SRR5517506</td><td>CTCF_AID_auxin1day</td><td>/project/fudenber_735/GEO/nora_2017_rna-seq_SRP106652/SRP106652/SRR5517506/kallisto-mm9</td></tr>\n",
       "\t<tr><th scope=row>11</th><td>SRR5517510</td><td>CTCF_AID_untreated</td><td>/project/fudenber_735/GEO/nora_2017_rna-seq_SRP106652/SRP106652/SRR5517510/kallisto-mm9</td></tr>\n",
       "\t<tr><th scope=row>12</th><td>SRR5517511</td><td>CTCF_AID_auxin1day</td><td>/project/fudenber_735/GEO/nora_2017_rna-seq_SRP106652/SRP106652/SRR5517511/kallisto-mm9</td></tr>\n",
       "</tbody>\n",
       "</table>\n"
      ],
      "text/latex": [
       "A data.frame: 6 × 3\n",
       "\\begin{tabular}{r|lll}\n",
       "  & sample & condition & path\\\\\n",
       "  & <chr> & <fct> & <chr>\\\\\n",
       "\\hline\n",
       "\t1 & SRR5517500 & CTCF\\_AID\\_untreated & /project/fudenber\\_735/GEO/nora\\_2017\\_rna-seq\\_SRP106652/SRP106652/SRR5517500/kallisto-mm9\\\\\n",
       "\t2 & SRR5517501 & CTCF\\_AID\\_auxin1day & /project/fudenber\\_735/GEO/nora\\_2017\\_rna-seq\\_SRP106652/SRP106652/SRR5517501/kallisto-mm9\\\\\n",
       "\t6 & SRR5517505 & CTCF\\_AID\\_untreated & /project/fudenber\\_735/GEO/nora\\_2017\\_rna-seq\\_SRP106652/SRP106652/SRR5517505/kallisto-mm9\\\\\n",
       "\t7 & SRR5517506 & CTCF\\_AID\\_auxin1day & /project/fudenber\\_735/GEO/nora\\_2017\\_rna-seq\\_SRP106652/SRP106652/SRR5517506/kallisto-mm9\\\\\n",
       "\t11 & SRR5517510 & CTCF\\_AID\\_untreated & /project/fudenber\\_735/GEO/nora\\_2017\\_rna-seq\\_SRP106652/SRP106652/SRR5517510/kallisto-mm9\\\\\n",
       "\t12 & SRR5517511 & CTCF\\_AID\\_auxin1day & /project/fudenber\\_735/GEO/nora\\_2017\\_rna-seq\\_SRP106652/SRP106652/SRR5517511/kallisto-mm9\\\\\n",
       "\\end{tabular}\n"
      ],
      "text/markdown": [
       "\n",
       "A data.frame: 6 × 3\n",
       "\n",
       "| <!--/--> | sample &lt;chr&gt; | condition &lt;fct&gt; | path &lt;chr&gt; |\n",
       "|---|---|---|---|\n",
       "| 1 | SRR5517500 | CTCF_AID_untreated | /project/fudenber_735/GEO/nora_2017_rna-seq_SRP106652/SRP106652/SRR5517500/kallisto-mm9 |\n",
       "| 2 | SRR5517501 | CTCF_AID_auxin1day | /project/fudenber_735/GEO/nora_2017_rna-seq_SRP106652/SRP106652/SRR5517501/kallisto-mm9 |\n",
       "| 6 | SRR5517505 | CTCF_AID_untreated | /project/fudenber_735/GEO/nora_2017_rna-seq_SRP106652/SRP106652/SRR5517505/kallisto-mm9 |\n",
       "| 7 | SRR5517506 | CTCF_AID_auxin1day | /project/fudenber_735/GEO/nora_2017_rna-seq_SRP106652/SRP106652/SRR5517506/kallisto-mm9 |\n",
       "| 11 | SRR5517510 | CTCF_AID_untreated | /project/fudenber_735/GEO/nora_2017_rna-seq_SRP106652/SRP106652/SRR5517510/kallisto-mm9 |\n",
       "| 12 | SRR5517511 | CTCF_AID_auxin1day | /project/fudenber_735/GEO/nora_2017_rna-seq_SRP106652/SRP106652/SRR5517511/kallisto-mm9 |\n",
       "\n"
      ],
      "text/plain": [
       "   sample     condition         \n",
       "1  SRR5517500 CTCF_AID_untreated\n",
       "2  SRR5517501 CTCF_AID_auxin1day\n",
       "6  SRR5517505 CTCF_AID_untreated\n",
       "7  SRR5517506 CTCF_AID_auxin1day\n",
       "11 SRR5517510 CTCF_AID_untreated\n",
       "12 SRR5517511 CTCF_AID_auxin1day\n",
       "   path                                                                                   \n",
       "1  /project/fudenber_735/GEO/nora_2017_rna-seq_SRP106652/SRP106652/SRR5517500/kallisto-mm9\n",
       "2  /project/fudenber_735/GEO/nora_2017_rna-seq_SRP106652/SRP106652/SRR5517501/kallisto-mm9\n",
       "6  /project/fudenber_735/GEO/nora_2017_rna-seq_SRP106652/SRP106652/SRR5517505/kallisto-mm9\n",
       "7  /project/fudenber_735/GEO/nora_2017_rna-seq_SRP106652/SRP106652/SRR5517506/kallisto-mm9\n",
       "11 /project/fudenber_735/GEO/nora_2017_rna-seq_SRP106652/SRP106652/SRR5517510/kallisto-mm9\n",
       "12 /project/fudenber_735/GEO/nora_2017_rna-seq_SRP106652/SRP106652/SRR5517511/kallisto-mm9"
      ]
     },
     "metadata": {},
     "output_type": "display_data"
    }
   ],
   "source": [
    "# Creating a sample2condition set for only the untreated vs. variable of interest\n",
    "condition = 'CTCF_AID_auxin1day'\n",
    "\n",
    "s2c_untreated_vs_auxin1day = s2c[ (s2c$condition=='CTCF_AID_untreated') | (s2c$condition==condition), ]\n",
    "\n",
    "s2c_untreated_vs_auxin1day"
   ]
  },
  {
   "cell_type": "code",
   "execution_count": 51,
   "id": "e0526841-d4f5-4def-9208-4607f17f5167",
   "metadata": {},
   "outputs": [
    {
     "name": "stderr",
     "output_type": "stream",
     "text": [
      "reading in kallisto results\n",
      "\n",
      "dropping unused factor levels\n",
      "\n",
      ".\n",
      ".\n",
      ".\n",
      ".\n",
      ".\n",
      ".\n",
      "\n",
      "\n",
      "normalizing est_counts\n",
      "\n",
      "48729 targets passed the filter\n",
      "\n",
      "normalizing tpm\n",
      "\n",
      "merging in metadata\n",
      "\n",
      "summarizing bootstraps\n",
      "\n",
      "\n",
      "\n"
     ]
    }
   ],
   "source": [
    "so_1day <- sleuth_prep(s2c_untreated_vs_auxin1day, extra_bootstrap_summary = TRUE)"
   ]
  },
  {
   "cell_type": "code",
   "execution_count": 52,
   "id": "cd879a14-34ac-4af1-a449-3a8b566117e8",
   "metadata": {},
   "outputs": [
    {
     "name": "stderr",
     "output_type": "stream",
     "text": [
      "fitting measurement error models\n",
      "\n",
      "shrinkage estimation\n",
      "\n",
      "computing variance of betas\n",
      "\n"
     ]
    }
   ],
   "source": [
    "so_1day <- sleuth_fit(so_1day, ~condition, 'full')"
   ]
  },
  {
   "cell_type": "code",
   "execution_count": 34,
   "id": "6c79304c-4bda-4922-a4b9-afeb6e2a90a4",
   "metadata": {},
   "outputs": [
    {
     "name": "stderr",
     "output_type": "stream",
     "text": [
      "fitting measurement error models\n",
      "\n",
      "shrinkage estimation\n",
      "\n",
      "computing variance of betas\n",
      "\n"
     ]
    }
   ],
   "source": [
    "#so_1day <- sleuth_fit(so_1day, ~1, 'reduced')"
   ]
  },
  {
   "cell_type": "code",
   "execution_count": 53,
   "id": "e976d199-3d50-42e7-9e8f-a696f00f21e9",
   "metadata": {},
   "outputs": [
    {
     "name": "stdout",
     "output_type": "stream",
     "text": [
      "[  full  ]\n",
      "formula:  ~condition \n",
      "data modeled:  obs_counts \n",
      "transform sync'ed:  TRUE \n",
      "coefficients:\n",
      "\t(Intercept)\n",
      " \tconditionCTCF_AID_auxin1day\n"
     ]
    }
   ],
   "source": [
    "models(so_1day)"
   ]
  },
  {
   "cell_type": "code",
   "execution_count": 54,
   "id": "1bf2f4fc-09fc-47a1-ac2a-46e43ba1e5f8",
   "metadata": {},
   "outputs": [],
   "source": [
    "# Running wald test to do pair-wise comparison of these two guys\n",
    "so_1day <- sleuth_wt(so_1day, which_beta = paste(\"condition\",condition, sep=\"\"))\n",
    "wt_1day_res <- sleuth_results(so_1day, test = paste(\"condition\", condition, sep=\"\"), test_type='wt', show_all=TRUE)"
   ]
  },
  {
   "cell_type": "code",
   "execution_count": 55,
   "id": "71dae389-e2cf-485c-84c9-7d12aa9fa13e",
   "metadata": {},
   "outputs": [
    {
     "name": "stdout",
     "output_type": "stream",
     "text": [
      "[1] 88366    11\n",
      "[1] \"88366\"\n"
     ]
    },
    {
     "data": {
      "text/html": [
       "<table class=\"dataframe\">\n",
       "<caption>A data.frame: 6 × 11</caption>\n",
       "<thead>\n",
       "\t<tr><th></th><th scope=col>target_id</th><th scope=col>pval</th><th scope=col>qval</th><th scope=col>b</th><th scope=col>se_b</th><th scope=col>mean_obs</th><th scope=col>var_obs</th><th scope=col>tech_var</th><th scope=col>sigma_sq</th><th scope=col>smooth_sigma_sq</th><th scope=col>final_sigma_sq</th></tr>\n",
       "\t<tr><th></th><th scope=col>&lt;chr&gt;</th><th scope=col>&lt;dbl&gt;</th><th scope=col>&lt;dbl&gt;</th><th scope=col>&lt;dbl&gt;</th><th scope=col>&lt;dbl&gt;</th><th scope=col>&lt;dbl&gt;</th><th scope=col>&lt;dbl&gt;</th><th scope=col>&lt;dbl&gt;</th><th scope=col>&lt;dbl&gt;</th><th scope=col>&lt;dbl&gt;</th><th scope=col>&lt;dbl&gt;</th></tr>\n",
       "</thead>\n",
       "<tbody>\n",
       "\t<tr><th scope=row>1</th><td>ENSMUST00000168900</td><td>1.492824e-21</td><td>7.274380e-17</td><td>-1.913805</td><td>0.2007049</td><td>6.664804</td><td>1.1094981</td><td>0.0034162545</td><td>0.0099630455</td><td>0.05700740</td><td>0.05700740</td></tr>\n",
       "\t<tr><th scope=row>2</th><td>ENSMUST00000102763</td><td>7.946625e-21</td><td>1.936155e-16</td><td>-1.671124</td><td>0.1785320</td><td>7.230924</td><td>0.8743488</td><td>0.0011131293</td><td>0.0445774204</td><td>0.04669739</td><td>0.04669739</td></tr>\n",
       "\t<tr><th scope=row>3</th><td>ENSMUST00000006451</td><td>5.340841e-20</td><td>8.675129e-16</td><td>-1.848426</td><td>0.2018615</td><td>6.753079</td><td>1.0332171</td><td>0.0059649274</td><td>0.0043014988</td><td>0.05515719</td><td>0.05515719</td></tr>\n",
       "\t<tr><th scope=row>4</th><td>ENSMUST00000029644</td><td>5.457137e-19</td><td>6.648021e-15</td><td>-1.830264</td><td>0.2055884</td><td>6.536837</td><td>1.0083426</td><td>0.0034754271</td><td>0.0007535977</td><td>0.05992444</td><td>0.05992444</td></tr>\n",
       "\t<tr><th scope=row>5</th><td>ENSMUST00000034097</td><td>4.881522e-15</td><td>4.757433e-11</td><td>-1.247161</td><td>0.1592813</td><td>8.471965</td><td>0.4970679</td><td>0.0003769877</td><td>0.0376788179</td><td>0.03536896</td><td>0.03767882</td></tr>\n",
       "\t<tr><th scope=row>6</th><td>ENSMUST00000032839</td><td>1.443162e-14</td><td>1.172064e-10</td><td>-1.980281</td><td>0.2574310</td><td>5.620549</td><td>1.2257721</td><td>0.0062543955</td><td>0.0553932438</td><td>0.09315165</td><td>0.09315165</td></tr>\n",
       "</tbody>\n",
       "</table>\n"
      ],
      "text/latex": [
       "A data.frame: 6 × 11\n",
       "\\begin{tabular}{r|lllllllllll}\n",
       "  & target\\_id & pval & qval & b & se\\_b & mean\\_obs & var\\_obs & tech\\_var & sigma\\_sq & smooth\\_sigma\\_sq & final\\_sigma\\_sq\\\\\n",
       "  & <chr> & <dbl> & <dbl> & <dbl> & <dbl> & <dbl> & <dbl> & <dbl> & <dbl> & <dbl> & <dbl>\\\\\n",
       "\\hline\n",
       "\t1 & ENSMUST00000168900 & 1.492824e-21 & 7.274380e-17 & -1.913805 & 0.2007049 & 6.664804 & 1.1094981 & 0.0034162545 & 0.0099630455 & 0.05700740 & 0.05700740\\\\\n",
       "\t2 & ENSMUST00000102763 & 7.946625e-21 & 1.936155e-16 & -1.671124 & 0.1785320 & 7.230924 & 0.8743488 & 0.0011131293 & 0.0445774204 & 0.04669739 & 0.04669739\\\\\n",
       "\t3 & ENSMUST00000006451 & 5.340841e-20 & 8.675129e-16 & -1.848426 & 0.2018615 & 6.753079 & 1.0332171 & 0.0059649274 & 0.0043014988 & 0.05515719 & 0.05515719\\\\\n",
       "\t4 & ENSMUST00000029644 & 5.457137e-19 & 6.648021e-15 & -1.830264 & 0.2055884 & 6.536837 & 1.0083426 & 0.0034754271 & 0.0007535977 & 0.05992444 & 0.05992444\\\\\n",
       "\t5 & ENSMUST00000034097 & 4.881522e-15 & 4.757433e-11 & -1.247161 & 0.1592813 & 8.471965 & 0.4970679 & 0.0003769877 & 0.0376788179 & 0.03536896 & 0.03767882\\\\\n",
       "\t6 & ENSMUST00000032839 & 1.443162e-14 & 1.172064e-10 & -1.980281 & 0.2574310 & 5.620549 & 1.2257721 & 0.0062543955 & 0.0553932438 & 0.09315165 & 0.09315165\\\\\n",
       "\\end{tabular}\n"
      ],
      "text/markdown": [
       "\n",
       "A data.frame: 6 × 11\n",
       "\n",
       "| <!--/--> | target_id &lt;chr&gt; | pval &lt;dbl&gt; | qval &lt;dbl&gt; | b &lt;dbl&gt; | se_b &lt;dbl&gt; | mean_obs &lt;dbl&gt; | var_obs &lt;dbl&gt; | tech_var &lt;dbl&gt; | sigma_sq &lt;dbl&gt; | smooth_sigma_sq &lt;dbl&gt; | final_sigma_sq &lt;dbl&gt; |\n",
       "|---|---|---|---|---|---|---|---|---|---|---|---|\n",
       "| 1 | ENSMUST00000168900 | 1.492824e-21 | 7.274380e-17 | -1.913805 | 0.2007049 | 6.664804 | 1.1094981 | 0.0034162545 | 0.0099630455 | 0.05700740 | 0.05700740 |\n",
       "| 2 | ENSMUST00000102763 | 7.946625e-21 | 1.936155e-16 | -1.671124 | 0.1785320 | 7.230924 | 0.8743488 | 0.0011131293 | 0.0445774204 | 0.04669739 | 0.04669739 |\n",
       "| 3 | ENSMUST00000006451 | 5.340841e-20 | 8.675129e-16 | -1.848426 | 0.2018615 | 6.753079 | 1.0332171 | 0.0059649274 | 0.0043014988 | 0.05515719 | 0.05515719 |\n",
       "| 4 | ENSMUST00000029644 | 5.457137e-19 | 6.648021e-15 | -1.830264 | 0.2055884 | 6.536837 | 1.0083426 | 0.0034754271 | 0.0007535977 | 0.05992444 | 0.05992444 |\n",
       "| 5 | ENSMUST00000034097 | 4.881522e-15 | 4.757433e-11 | -1.247161 | 0.1592813 | 8.471965 | 0.4970679 | 0.0003769877 | 0.0376788179 | 0.03536896 | 0.03767882 |\n",
       "| 6 | ENSMUST00000032839 | 1.443162e-14 | 1.172064e-10 | -1.980281 | 0.2574310 | 5.620549 | 1.2257721 | 0.0062543955 | 0.0553932438 | 0.09315165 | 0.09315165 |\n",
       "\n"
      ],
      "text/plain": [
       "  target_id          pval         qval         b         se_b      mean_obs\n",
       "1 ENSMUST00000168900 1.492824e-21 7.274380e-17 -1.913805 0.2007049 6.664804\n",
       "2 ENSMUST00000102763 7.946625e-21 1.936155e-16 -1.671124 0.1785320 7.230924\n",
       "3 ENSMUST00000006451 5.340841e-20 8.675129e-16 -1.848426 0.2018615 6.753079\n",
       "4 ENSMUST00000029644 5.457137e-19 6.648021e-15 -1.830264 0.2055884 6.536837\n",
       "5 ENSMUST00000034097 4.881522e-15 4.757433e-11 -1.247161 0.1592813 8.471965\n",
       "6 ENSMUST00000032839 1.443162e-14 1.172064e-10 -1.980281 0.2574310 5.620549\n",
       "  var_obs   tech_var     sigma_sq     smooth_sigma_sq final_sigma_sq\n",
       "1 1.1094981 0.0034162545 0.0099630455 0.05700740      0.05700740    \n",
       "2 0.8743488 0.0011131293 0.0445774204 0.04669739      0.04669739    \n",
       "3 1.0332171 0.0059649274 0.0043014988 0.05515719      0.05515719    \n",
       "4 1.0083426 0.0034754271 0.0007535977 0.05992444      0.05992444    \n",
       "5 0.4970679 0.0003769877 0.0376788179 0.03536896      0.03767882    \n",
       "6 1.2257721 0.0062543955 0.0553932438 0.09315165      0.09315165    "
      ]
     },
     "metadata": {},
     "output_type": "display_data"
    }
   ],
   "source": [
    "print(dim(wt_1day_res))\n",
    "print(toString(count(wt_1day_res)))\n",
    "head(wt_1day_res)"
   ]
  },
  {
   "cell_type": "code",
   "execution_count": 56,
   "id": "52b93f34-74d6-47bf-bb23-2cb234958052",
   "metadata": {},
   "outputs": [],
   "source": [
    "sig_res <- dplyr::filter(wt_1day_res, qval <= 0.05)\n",
    "sig_up <- dplyr::filter(sig_res, b <= 0)\n",
    "sig_down <- dplyr::filter(sig_res, b > 0)"
   ]
  },
  {
   "cell_type": "code",
   "execution_count": 66,
   "id": "8ac18b28-85e1-4d47-bd2f-d25da1104da7",
   "metadata": {},
   "outputs": [
    {
     "name": "stdout",
     "output_type": "stream",
     "text": [
      "[1] \"Number of significant DE genes for condition: CTCF_AID_auxin1day 103\"\n",
      "[1] \"beta < 0 [up]: 80\"\n",
      "[1] \"beta > 0 [down]: 23\"\n",
      "[1] \"\"\n"
     ]
    }
   ],
   "source": [
    "print(paste(\"Number of significant DE genes for condition:\", condition, toString(count(sig_res)), sep=\" \"))\n",
    "print(paste(\"beta < 0 [up]:\", toString(count(sig_up)), sep=\" \"))\n",
    "print(paste(\"beta > 0 [down]:\", toString(count(sig_down)), sep=\" \"))\n",
    "print('')"
   ]
  },
  {
   "cell_type": "markdown",
   "id": "36e04df4-a061-4954-8816-32b151492fce",
   "metadata": {},
   "source": [
    "## Pairwise WT for all"
   ]
  },
  {
   "cell_type": "code",
   "execution_count": 6,
   "id": "9f31a956-1306-4e90-b229-7ba195128038",
   "metadata": {},
   "outputs": [
    {
     "name": "stderr",
     "output_type": "stream",
     "text": [
      "reading in kallisto results\n",
      "\n",
      "dropping unused factor levels\n",
      "\n",
      ".\n",
      ".\n",
      ".\n",
      ".\n",
      ".\n",
      ".\n",
      "\n",
      "\n",
      "normalizing est_counts\n",
      "\n",
      "48729 targets passed the filter\n",
      "\n",
      "normalizing tpm\n",
      "\n",
      "merging in metadata\n",
      "\n",
      "summarizing bootstraps\n",
      "\n",
      "\n",
      "\n",
      "fitting measurement error models\n",
      "\n",
      "shrinkage estimation\n",
      "\n",
      "computing variance of betas\n",
      "\n"
     ]
    },
    {
     "name": "stdout",
     "output_type": "stream",
     "text": [
      "[1] \"=== Some basic stats ===\"\n",
      "[1] \"Number of significant DE genes for condition: CTCF_AID_auxin1day 103\"\n",
      "[1] \"beta < 0 [up]: 80\"\n",
      "[1] \"beta > 0 [down]: 23\"\n",
      "[1] \"\"\n"
     ]
    },
    {
     "name": "stderr",
     "output_type": "stream",
     "text": [
      "reading in kallisto results\n",
      "\n",
      "dropping unused factor levels\n",
      "\n",
      ".\n",
      ".\n",
      ".\n",
      ".\n",
      ".\n",
      ".\n",
      "\n",
      "\n",
      "normalizing est_counts\n",
      "\n",
      "49577 targets passed the filter\n",
      "\n",
      "normalizing tpm\n",
      "\n",
      "merging in metadata\n",
      "\n",
      "summarizing bootstraps\n",
      "\n",
      "\n",
      "\n",
      "fitting measurement error models\n",
      "\n",
      "shrinkage estimation\n",
      "\n",
      "7 NA values were found during variance shrinkage estimation due to mean observation values outside of the range used for the LOESS fit.\n",
      "The LOESS fit will be repeated using exact computation of the fitted surface to extrapolate the missing values.\n",
      "These are the target ids with NA values: ENSMUST00000024843, ENSMUST00000067075, ENSMUST00000101065, ENSMUST00000115561, ENSMUST00000143407, ENSMUST00000149144, ENSMUST00000152167\n",
      "\n",
      "computing variance of betas\n",
      "\n"
     ]
    },
    {
     "name": "stdout",
     "output_type": "stream",
     "text": [
      "[1] \"=== Some basic stats ===\"\n",
      "[1] \"Number of significant DE genes for condition: CTCF_AID_auxin2days 269\"\n",
      "[1] \"beta < 0 [up]: 118\"\n",
      "[1] \"beta > 0 [down]: 151\"\n",
      "[1] \"\"\n"
     ]
    },
    {
     "name": "stderr",
     "output_type": "stream",
     "text": [
      "reading in kallisto results\n",
      "\n",
      "dropping unused factor levels\n",
      "\n",
      ".\n",
      ".\n",
      ".\n",
      ".\n",
      ".\n",
      ".\n",
      "\n",
      "\n",
      "normalizing est_counts\n",
      "\n",
      "50352 targets passed the filter\n",
      "\n",
      "normalizing tpm\n",
      "\n",
      "merging in metadata\n",
      "\n",
      "summarizing bootstraps\n",
      "\n",
      "\n",
      "\n",
      "fitting measurement error models\n",
      "\n",
      "shrinkage estimation\n",
      "\n",
      "8 NA values were found during variance shrinkage estimation due to mean observation values outside of the range used for the LOESS fit.\n",
      "The LOESS fit will be repeated using exact computation of the fitted surface to extrapolate the missing values.\n",
      "These are the target ids with NA values: ENSMUST00000115335, ENSMUST00000119141, ENSMUST00000130376, ENSMUST00000136744, ENSMUST00000146174, ENSMUST00000147633, ENSMUST00000150543, ENSMUST00000172772\n",
      "\n",
      "computing variance of betas\n",
      "\n"
     ]
    },
    {
     "name": "stdout",
     "output_type": "stream",
     "text": [
      "[1] \"=== Some basic stats ===\"\n",
      "[1] \"Number of significant DE genes for condition: CTCF_AID_auxin4days 2155\"\n",
      "[1] \"beta < 0 [up]: 893\"\n",
      "[1] \"beta > 0 [down]: 1262\"\n",
      "[1] \"\"\n"
     ]
    },
    {
     "name": "stderr",
     "output_type": "stream",
     "text": [
      "reading in kallisto results\n",
      "\n",
      "dropping unused factor levels\n",
      "\n",
      ".\n",
      ".\n",
      ".\n",
      ".\n",
      ".\n",
      ".\n",
      "\n",
      "\n",
      "normalizing est_counts\n",
      "\n",
      "49540 targets passed the filter\n",
      "\n",
      "normalizing tpm\n",
      "\n",
      "merging in metadata\n",
      "\n",
      "summarizing bootstraps\n",
      "\n",
      "\n",
      "\n",
      "fitting measurement error models\n",
      "\n",
      "shrinkage estimation\n",
      "\n",
      "2 NA values were found during variance shrinkage estimation due to mean observation values outside of the range used for the LOESS fit.\n",
      "The LOESS fit will be repeated using exact computation of the fitted surface to extrapolate the missing values.\n",
      "These are the target ids with NA values: ENSMUST00000074898, ENSMUST00000162993\n",
      "\n",
      "computing variance of betas\n",
      "\n"
     ]
    },
    {
     "name": "stdout",
     "output_type": "stream",
     "text": [
      "[1] \"=== Some basic stats ===\"\n",
      "[1] \"Number of significant DE genes for condition: CTCF_AID_washoff2days 76\"\n",
      "[1] \"beta < 0 [up]: 1\"\n",
      "[1] \"beta > 0 [down]: 75\"\n",
      "[1] \"\"\n"
     ]
    },
    {
     "name": "stderr",
     "output_type": "stream",
     "text": [
      "reading in kallisto results\n",
      "\n",
      "dropping unused factor levels\n",
      "\n",
      ".\n",
      ".\n",
      ".\n",
      ".\n",
      ".\n",
      ".\n",
      "\n",
      "\n",
      "normalizing est_counts\n",
      "\n",
      "49211 targets passed the filter\n",
      "\n",
      "normalizing tpm\n",
      "\n",
      "merging in metadata\n",
      "\n",
      "summarizing bootstraps\n",
      "\n",
      "\n",
      "\n",
      "fitting measurement error models\n",
      "\n",
      "shrinkage estimation\n",
      "\n",
      "2 NA values were found during variance shrinkage estimation due to mean observation values outside of the range used for the LOESS fit.\n",
      "The LOESS fit will be repeated using exact computation of the fitted surface to extrapolate the missing values.\n",
      "These are the target ids with NA values: ENSMUST00000057019, ENSMUST00000155330\n",
      "\n",
      "computing variance of betas\n",
      "\n"
     ]
    },
    {
     "name": "stdout",
     "output_type": "stream",
     "text": [
      "[1] \"=== Some basic stats ===\"\n",
      "[1] \"Number of significant DE genes for condition: WT_untagged_auxin2days 10\"\n",
      "[1] \"beta < 0 [up]: 4\"\n",
      "[1] \"beta > 0 [down]: 6\"\n",
      "[1] \"\"\n"
     ]
    },
    {
     "name": "stderr",
     "output_type": "stream",
     "text": [
      "reading in kallisto results\n",
      "\n",
      "dropping unused factor levels\n",
      "\n",
      ".\n",
      ".\n",
      ".\n",
      ".\n",
      ".\n",
      ".\n",
      "\n",
      "\n",
      "normalizing est_counts\n",
      "\n",
      "49725 targets passed the filter\n",
      "\n",
      "normalizing tpm\n",
      "\n",
      "merging in metadata\n",
      "\n",
      "summarizing bootstraps\n",
      "\n",
      "\n",
      "\n",
      "fitting measurement error models\n",
      "\n",
      "shrinkage estimation\n",
      "\n",
      "computing variance of betas\n",
      "\n"
     ]
    },
    {
     "name": "stdout",
     "output_type": "stream",
     "text": [
      "[1] \"=== Some basic stats ===\"\n",
      "[1] \"Number of significant DE genes for condition: WT_untagged_auxin4days 17\"\n",
      "[1] \"beta < 0 [up]: 2\"\n",
      "[1] \"beta > 0 [down]: 15\"\n",
      "[1] \"\"\n"
     ]
    },
    {
     "name": "stderr",
     "output_type": "stream",
     "text": [
      "reading in kallisto results\n",
      "\n",
      "dropping unused factor levels\n",
      "\n",
      ".\n",
      ".\n",
      ".\n",
      ".\n",
      ".\n",
      ".\n",
      "\n",
      "\n",
      "normalizing est_counts\n",
      "\n",
      "50357 targets passed the filter\n",
      "\n",
      "normalizing tpm\n",
      "\n",
      "merging in metadata\n",
      "\n",
      "summarizing bootstraps\n",
      "\n",
      "\n",
      "\n",
      "fitting measurement error models\n",
      "\n",
      "shrinkage estimation\n",
      "\n",
      "1 NA values were found during variance shrinkage estimation due to mean observation values outside of the range used for the LOESS fit.\n",
      "The LOESS fit will be repeated using exact computation of the fitted surface to extrapolate the missing values.\n",
      "These are the target ids with NA values: ENSMUST00000118207\n",
      "\n",
      "computing variance of betas\n",
      "\n"
     ]
    },
    {
     "name": "stdout",
     "output_type": "stream",
     "text": [
      "[1] \"=== Some basic stats ===\"\n",
      "[1] \"Number of significant DE genes for condition: WT_untagged_untreated 21\"\n",
      "[1] \"beta < 0 [up]: 10\"\n",
      "[1] \"beta > 0 [down]: 11\"\n",
      "[1] \"\"\n"
     ]
    }
   ],
   "source": [
    "# Training and getting details of pairwise model for each of the conditions\n",
    "for (cond in levels(s2c$condition)) {\n",
    "    \n",
    "    if (cond != \"CTCF_AID_untreated\") {\n",
    "        \n",
    "        # build sleuth object and model for this condition\n",
    "        s2c_untreated_vs_treatment = s2c[ (s2c$condition=='CTCF_AID_untreated') | (s2c$condition==cond), ]\n",
    "        so <- sleuth_prep(s2c_untreated_vs_treatment, extra_bootstrap_summary = TRUE)\n",
    "        so <- sleuth_fit(so, ~condition, 'full')\n",
    "        \n",
    "        # perform wald test and extract results\n",
    "        so <- sleuth_wt(so, which_beta = paste(\"condition\",cond, sep=\"\"))\n",
    "        wt_res <- sleuth_results(so, test = paste(\"condition\", cond, sep=\"\"), test_type='wt', show_all=TRUE)\n",
    "        \n",
    "        # Save full results from this as .csv \n",
    "        write.csv(wt_res,file.path(elphege_proj_files, \"WT-mm9-results\", \"pairwise-sleuth-wt\", paste(\"pairwite_sleuth_wt_\", cond, \".csv\", sep=\"\")))\n",
    "        \n",
    "        sig_res <- dplyr::filter(wt_res, qval <= 0.05)\n",
    "        sig_up <- dplyr::filter(sig_res, b <= 0)\n",
    "        sig_down <- dplyr::filter(sig_res, b > 0)\n",
    "        \n",
    "        print(\"=== Some basic stats ===\")\n",
    "        print(paste(\"Number of significant DE genes for condition:\", cond, toString(count(sig_res)), sep=\" \"))\n",
    "        print(paste(\"beta < 0 [up]:\", toString(count(sig_up)), sep=\" \"))\n",
    "        print(paste(\"beta > 0 [down]:\", toString(count(sig_down)), sep=\" \"))\n",
    "        print('')\n",
    "        \n",
    "        }\n",
    "    }"
   ]
  },
  {
   "cell_type": "code",
   "execution_count": null,
   "id": "97fcd225-f699-4d87-adf8-2adfe209ad38",
   "metadata": {},
   "outputs": [],
   "source": []
  }
 ],
 "metadata": {
  "kernelspec": {
   "display_name": "R 4.1.0 sleuth",
   "language": "R",
   "name": "r410"
  },
  "language_info": {
   "codemirror_mode": "r",
   "file_extension": ".r",
   "mimetype": "text/x-r-source",
   "name": "R",
   "pygments_lexer": "r",
   "version": "3.6.1"
  }
 },
 "nbformat": 4,
 "nbformat_minor": 5
}
