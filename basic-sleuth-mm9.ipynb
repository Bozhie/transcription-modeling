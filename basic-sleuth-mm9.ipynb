{
 "cells": [
  {
   "cell_type": "markdown",
   "id": "747e6257-d147-40f8-8c30-c9debb29e6c5",
   "metadata": {},
   "source": [
    "# Using sleuth for Differential analysis\n",
    "\n",
    "Using mm9 genome so that the results can be more directly comparable to tables produced by elphege. We can see similarities and differences in the methods used for producing data relevant to DE analysis. "
   ]
  },
  {
   "cell_type": "code",
   "execution_count": null,
   "id": "1c6824dc-19d5-43e3-83f9-b0325b602f66",
   "metadata": {},
   "outputs": [],
   "source": []
  },
  {
   "cell_type": "code",
   "execution_count": 10,
   "id": "3c73b1c1-7882-47b8-8eb7-413067ecbeed",
   "metadata": {},
   "outputs": [],
   "source": [
    "library(\"sleuth\")"
   ]
  },
  {
   "cell_type": "code",
   "execution_count": 11,
   "id": "43099d43-28c4-4d72-bc96-00bcf7dd6f38",
   "metadata": {},
   "outputs": [],
   "source": [
    "suppressMessages({\n",
    "  library(\"sleuth\")\n",
    "})"
   ]
  },
  {
   "cell_type": "code",
   "execution_count": 12,
   "id": "065d111e-146c-44fc-a180-cdfde211ba20",
   "metadata": {},
   "outputs": [],
   "source": [
    "elphege_proj_files = \"/project/fudenber_735/GEO/nora_2017_rna-seq_SRP106652\"\n",
    "sample_id <- dir(file.path(elphege_proj_files,\"SRP106652\"))\n",
    "kal_dirs <- file.path(elphege_proj_files, \"SRP106652\", sample_id, \"kallisto-mm9\")"
   ]
  },
  {
   "cell_type": "code",
   "execution_count": 13,
   "id": "de28a749-d771-412c-b908-4daa357980a7",
   "metadata": {},
   "outputs": [
    {
     "data": {
      "text/html": [
       "<style>\n",
       ".list-inline {list-style: none; margin:0; padding: 0}\n",
       ".list-inline>li {display: inline-block}\n",
       ".list-inline>li:not(:last-child)::after {content: \"\\00b7\"; padding: 0 .5ex}\n",
       "</style>\n",
       "<ol class=list-inline><li>'/project/fudenber_735/GEO/nora_2017_rna-seq_SRP106652/SRP106652/SRR5517500/kallisto-mm9'</li><li>'/project/fudenber_735/GEO/nora_2017_rna-seq_SRP106652/SRP106652/SRR5517501/kallisto-mm9'</li><li>'/project/fudenber_735/GEO/nora_2017_rna-seq_SRP106652/SRP106652/SRR5517502/kallisto-mm9'</li><li>'/project/fudenber_735/GEO/nora_2017_rna-seq_SRP106652/SRP106652/SRR5517503/kallisto-mm9'</li><li>'/project/fudenber_735/GEO/nora_2017_rna-seq_SRP106652/SRP106652/SRR5517504/kallisto-mm9'</li><li>'/project/fudenber_735/GEO/nora_2017_rna-seq_SRP106652/SRP106652/SRR5517505/kallisto-mm9'</li><li>'/project/fudenber_735/GEO/nora_2017_rna-seq_SRP106652/SRP106652/SRR5517506/kallisto-mm9'</li><li>'/project/fudenber_735/GEO/nora_2017_rna-seq_SRP106652/SRP106652/SRR5517507/kallisto-mm9'</li><li>'/project/fudenber_735/GEO/nora_2017_rna-seq_SRP106652/SRP106652/SRR5517508/kallisto-mm9'</li><li>'/project/fudenber_735/GEO/nora_2017_rna-seq_SRP106652/SRP106652/SRR5517509/kallisto-mm9'</li><li>'/project/fudenber_735/GEO/nora_2017_rna-seq_SRP106652/SRP106652/SRR5517510/kallisto-mm9'</li><li>'/project/fudenber_735/GEO/nora_2017_rna-seq_SRP106652/SRP106652/SRR5517511/kallisto-mm9'</li><li>'/project/fudenber_735/GEO/nora_2017_rna-seq_SRP106652/SRP106652/SRR5517512/kallisto-mm9'</li><li>'/project/fudenber_735/GEO/nora_2017_rna-seq_SRP106652/SRP106652/SRR5517513/kallisto-mm9'</li><li>'/project/fudenber_735/GEO/nora_2017_rna-seq_SRP106652/SRP106652/SRR5517514/kallisto-mm9'</li><li>'/project/fudenber_735/GEO/nora_2017_rna-seq_SRP106652/SRP106652/SRR5517515/kallisto-mm9'</li><li>'/project/fudenber_735/GEO/nora_2017_rna-seq_SRP106652/SRP106652/SRR5517516/kallisto-mm9'</li><li>'/project/fudenber_735/GEO/nora_2017_rna-seq_SRP106652/SRP106652/SRR5517517/kallisto-mm9'</li><li>'/project/fudenber_735/GEO/nora_2017_rna-seq_SRP106652/SRP106652/SRR5517518/kallisto-mm9'</li><li>'/project/fudenber_735/GEO/nora_2017_rna-seq_SRP106652/SRP106652/SRR5517519/kallisto-mm9'</li><li>'/project/fudenber_735/GEO/nora_2017_rna-seq_SRP106652/SRP106652/SRR5517520/kallisto-mm9'</li><li>'/project/fudenber_735/GEO/nora_2017_rna-seq_SRP106652/SRP106652/SRR5517521/kallisto-mm9'</li><li>'/project/fudenber_735/GEO/nora_2017_rna-seq_SRP106652/SRP106652/SRR5517522/kallisto-mm9'</li><li>'/project/fudenber_735/GEO/nora_2017_rna-seq_SRP106652/SRP106652/SRR5517523/kallisto-mm9'</li></ol>\n"
      ],
      "text/latex": [
       "\\begin{enumerate*}\n",
       "\\item '/project/fudenber\\_735/GEO/nora\\_2017\\_rna-seq\\_SRP106652/SRP106652/SRR5517500/kallisto-mm9'\n",
       "\\item '/project/fudenber\\_735/GEO/nora\\_2017\\_rna-seq\\_SRP106652/SRP106652/SRR5517501/kallisto-mm9'\n",
       "\\item '/project/fudenber\\_735/GEO/nora\\_2017\\_rna-seq\\_SRP106652/SRP106652/SRR5517502/kallisto-mm9'\n",
       "\\item '/project/fudenber\\_735/GEO/nora\\_2017\\_rna-seq\\_SRP106652/SRP106652/SRR5517503/kallisto-mm9'\n",
       "\\item '/project/fudenber\\_735/GEO/nora\\_2017\\_rna-seq\\_SRP106652/SRP106652/SRR5517504/kallisto-mm9'\n",
       "\\item '/project/fudenber\\_735/GEO/nora\\_2017\\_rna-seq\\_SRP106652/SRP106652/SRR5517505/kallisto-mm9'\n",
       "\\item '/project/fudenber\\_735/GEO/nora\\_2017\\_rna-seq\\_SRP106652/SRP106652/SRR5517506/kallisto-mm9'\n",
       "\\item '/project/fudenber\\_735/GEO/nora\\_2017\\_rna-seq\\_SRP106652/SRP106652/SRR5517507/kallisto-mm9'\n",
       "\\item '/project/fudenber\\_735/GEO/nora\\_2017\\_rna-seq\\_SRP106652/SRP106652/SRR5517508/kallisto-mm9'\n",
       "\\item '/project/fudenber\\_735/GEO/nora\\_2017\\_rna-seq\\_SRP106652/SRP106652/SRR5517509/kallisto-mm9'\n",
       "\\item '/project/fudenber\\_735/GEO/nora\\_2017\\_rna-seq\\_SRP106652/SRP106652/SRR5517510/kallisto-mm9'\n",
       "\\item '/project/fudenber\\_735/GEO/nora\\_2017\\_rna-seq\\_SRP106652/SRP106652/SRR5517511/kallisto-mm9'\n",
       "\\item '/project/fudenber\\_735/GEO/nora\\_2017\\_rna-seq\\_SRP106652/SRP106652/SRR5517512/kallisto-mm9'\n",
       "\\item '/project/fudenber\\_735/GEO/nora\\_2017\\_rna-seq\\_SRP106652/SRP106652/SRR5517513/kallisto-mm9'\n",
       "\\item '/project/fudenber\\_735/GEO/nora\\_2017\\_rna-seq\\_SRP106652/SRP106652/SRR5517514/kallisto-mm9'\n",
       "\\item '/project/fudenber\\_735/GEO/nora\\_2017\\_rna-seq\\_SRP106652/SRP106652/SRR5517515/kallisto-mm9'\n",
       "\\item '/project/fudenber\\_735/GEO/nora\\_2017\\_rna-seq\\_SRP106652/SRP106652/SRR5517516/kallisto-mm9'\n",
       "\\item '/project/fudenber\\_735/GEO/nora\\_2017\\_rna-seq\\_SRP106652/SRP106652/SRR5517517/kallisto-mm9'\n",
       "\\item '/project/fudenber\\_735/GEO/nora\\_2017\\_rna-seq\\_SRP106652/SRP106652/SRR5517518/kallisto-mm9'\n",
       "\\item '/project/fudenber\\_735/GEO/nora\\_2017\\_rna-seq\\_SRP106652/SRP106652/SRR5517519/kallisto-mm9'\n",
       "\\item '/project/fudenber\\_735/GEO/nora\\_2017\\_rna-seq\\_SRP106652/SRP106652/SRR5517520/kallisto-mm9'\n",
       "\\item '/project/fudenber\\_735/GEO/nora\\_2017\\_rna-seq\\_SRP106652/SRP106652/SRR5517521/kallisto-mm9'\n",
       "\\item '/project/fudenber\\_735/GEO/nora\\_2017\\_rna-seq\\_SRP106652/SRP106652/SRR5517522/kallisto-mm9'\n",
       "\\item '/project/fudenber\\_735/GEO/nora\\_2017\\_rna-seq\\_SRP106652/SRP106652/SRR5517523/kallisto-mm9'\n",
       "\\end{enumerate*}\n"
      ],
      "text/markdown": [
       "1. '/project/fudenber_735/GEO/nora_2017_rna-seq_SRP106652/SRP106652/SRR5517500/kallisto-mm9'\n",
       "2. '/project/fudenber_735/GEO/nora_2017_rna-seq_SRP106652/SRP106652/SRR5517501/kallisto-mm9'\n",
       "3. '/project/fudenber_735/GEO/nora_2017_rna-seq_SRP106652/SRP106652/SRR5517502/kallisto-mm9'\n",
       "4. '/project/fudenber_735/GEO/nora_2017_rna-seq_SRP106652/SRP106652/SRR5517503/kallisto-mm9'\n",
       "5. '/project/fudenber_735/GEO/nora_2017_rna-seq_SRP106652/SRP106652/SRR5517504/kallisto-mm9'\n",
       "6. '/project/fudenber_735/GEO/nora_2017_rna-seq_SRP106652/SRP106652/SRR5517505/kallisto-mm9'\n",
       "7. '/project/fudenber_735/GEO/nora_2017_rna-seq_SRP106652/SRP106652/SRR5517506/kallisto-mm9'\n",
       "8. '/project/fudenber_735/GEO/nora_2017_rna-seq_SRP106652/SRP106652/SRR5517507/kallisto-mm9'\n",
       "9. '/project/fudenber_735/GEO/nora_2017_rna-seq_SRP106652/SRP106652/SRR5517508/kallisto-mm9'\n",
       "10. '/project/fudenber_735/GEO/nora_2017_rna-seq_SRP106652/SRP106652/SRR5517509/kallisto-mm9'\n",
       "11. '/project/fudenber_735/GEO/nora_2017_rna-seq_SRP106652/SRP106652/SRR5517510/kallisto-mm9'\n",
       "12. '/project/fudenber_735/GEO/nora_2017_rna-seq_SRP106652/SRP106652/SRR5517511/kallisto-mm9'\n",
       "13. '/project/fudenber_735/GEO/nora_2017_rna-seq_SRP106652/SRP106652/SRR5517512/kallisto-mm9'\n",
       "14. '/project/fudenber_735/GEO/nora_2017_rna-seq_SRP106652/SRP106652/SRR5517513/kallisto-mm9'\n",
       "15. '/project/fudenber_735/GEO/nora_2017_rna-seq_SRP106652/SRP106652/SRR5517514/kallisto-mm9'\n",
       "16. '/project/fudenber_735/GEO/nora_2017_rna-seq_SRP106652/SRP106652/SRR5517515/kallisto-mm9'\n",
       "17. '/project/fudenber_735/GEO/nora_2017_rna-seq_SRP106652/SRP106652/SRR5517516/kallisto-mm9'\n",
       "18. '/project/fudenber_735/GEO/nora_2017_rna-seq_SRP106652/SRP106652/SRR5517517/kallisto-mm9'\n",
       "19. '/project/fudenber_735/GEO/nora_2017_rna-seq_SRP106652/SRP106652/SRR5517518/kallisto-mm9'\n",
       "20. '/project/fudenber_735/GEO/nora_2017_rna-seq_SRP106652/SRP106652/SRR5517519/kallisto-mm9'\n",
       "21. '/project/fudenber_735/GEO/nora_2017_rna-seq_SRP106652/SRP106652/SRR5517520/kallisto-mm9'\n",
       "22. '/project/fudenber_735/GEO/nora_2017_rna-seq_SRP106652/SRP106652/SRR5517521/kallisto-mm9'\n",
       "23. '/project/fudenber_735/GEO/nora_2017_rna-seq_SRP106652/SRP106652/SRR5517522/kallisto-mm9'\n",
       "24. '/project/fudenber_735/GEO/nora_2017_rna-seq_SRP106652/SRP106652/SRR5517523/kallisto-mm9'\n",
       "\n",
       "\n"
      ],
      "text/plain": [
       " [1] \"/project/fudenber_735/GEO/nora_2017_rna-seq_SRP106652/SRP106652/SRR5517500/kallisto-mm9\"\n",
       " [2] \"/project/fudenber_735/GEO/nora_2017_rna-seq_SRP106652/SRP106652/SRR5517501/kallisto-mm9\"\n",
       " [3] \"/project/fudenber_735/GEO/nora_2017_rna-seq_SRP106652/SRP106652/SRR5517502/kallisto-mm9\"\n",
       " [4] \"/project/fudenber_735/GEO/nora_2017_rna-seq_SRP106652/SRP106652/SRR5517503/kallisto-mm9\"\n",
       " [5] \"/project/fudenber_735/GEO/nora_2017_rna-seq_SRP106652/SRP106652/SRR5517504/kallisto-mm9\"\n",
       " [6] \"/project/fudenber_735/GEO/nora_2017_rna-seq_SRP106652/SRP106652/SRR5517505/kallisto-mm9\"\n",
       " [7] \"/project/fudenber_735/GEO/nora_2017_rna-seq_SRP106652/SRP106652/SRR5517506/kallisto-mm9\"\n",
       " [8] \"/project/fudenber_735/GEO/nora_2017_rna-seq_SRP106652/SRP106652/SRR5517507/kallisto-mm9\"\n",
       " [9] \"/project/fudenber_735/GEO/nora_2017_rna-seq_SRP106652/SRP106652/SRR5517508/kallisto-mm9\"\n",
       "[10] \"/project/fudenber_735/GEO/nora_2017_rna-seq_SRP106652/SRP106652/SRR5517509/kallisto-mm9\"\n",
       "[11] \"/project/fudenber_735/GEO/nora_2017_rna-seq_SRP106652/SRP106652/SRR5517510/kallisto-mm9\"\n",
       "[12] \"/project/fudenber_735/GEO/nora_2017_rna-seq_SRP106652/SRP106652/SRR5517511/kallisto-mm9\"\n",
       "[13] \"/project/fudenber_735/GEO/nora_2017_rna-seq_SRP106652/SRP106652/SRR5517512/kallisto-mm9\"\n",
       "[14] \"/project/fudenber_735/GEO/nora_2017_rna-seq_SRP106652/SRP106652/SRR5517513/kallisto-mm9\"\n",
       "[15] \"/project/fudenber_735/GEO/nora_2017_rna-seq_SRP106652/SRP106652/SRR5517514/kallisto-mm9\"\n",
       "[16] \"/project/fudenber_735/GEO/nora_2017_rna-seq_SRP106652/SRP106652/SRR5517515/kallisto-mm9\"\n",
       "[17] \"/project/fudenber_735/GEO/nora_2017_rna-seq_SRP106652/SRP106652/SRR5517516/kallisto-mm9\"\n",
       "[18] \"/project/fudenber_735/GEO/nora_2017_rna-seq_SRP106652/SRP106652/SRR5517517/kallisto-mm9\"\n",
       "[19] \"/project/fudenber_735/GEO/nora_2017_rna-seq_SRP106652/SRP106652/SRR5517518/kallisto-mm9\"\n",
       "[20] \"/project/fudenber_735/GEO/nora_2017_rna-seq_SRP106652/SRP106652/SRR5517519/kallisto-mm9\"\n",
       "[21] \"/project/fudenber_735/GEO/nora_2017_rna-seq_SRP106652/SRP106652/SRR5517520/kallisto-mm9\"\n",
       "[22] \"/project/fudenber_735/GEO/nora_2017_rna-seq_SRP106652/SRP106652/SRR5517521/kallisto-mm9\"\n",
       "[23] \"/project/fudenber_735/GEO/nora_2017_rna-seq_SRP106652/SRP106652/SRR5517522/kallisto-mm9\"\n",
       "[24] \"/project/fudenber_735/GEO/nora_2017_rna-seq_SRP106652/SRP106652/SRR5517523/kallisto-mm9\""
      ]
     },
     "metadata": {},
     "output_type": "display_data"
    }
   ],
   "source": [
    "kal_dirs"
   ]
  },
  {
   "cell_type": "code",
   "execution_count": 14,
   "id": "b6a1ed3f-71ae-4bef-adf4-7dd4c8e9b7c3",
   "metadata": {},
   "outputs": [
    {
     "data": {
      "text/html": [
       "<table class=\"dataframe\">\n",
       "<caption>A data.frame: 5 × 47</caption>\n",
       "<thead>\n",
       "\t<tr><th></th><th scope=col>Run</th><th scope=col>ReleaseDate</th><th scope=col>LoadDate</th><th scope=col>spots</th><th scope=col>bases</th><th scope=col>spots_with_mates</th><th scope=col>avgLength</th><th scope=col>size_MB</th><th scope=col>AssemblyName</th><th scope=col>download_path</th><th scope=col>⋯</th><th scope=col>Affection_Status</th><th scope=col>Analyte_Type</th><th scope=col>Histological_Type</th><th scope=col>Body_Site</th><th scope=col>CenterName</th><th scope=col>Submission</th><th scope=col>dbgap_study_accession</th><th scope=col>Consent</th><th scope=col>RunHash</th><th scope=col>ReadHash</th></tr>\n",
       "\t<tr><th></th><th scope=col>&lt;chr&gt;</th><th scope=col>&lt;chr&gt;</th><th scope=col>&lt;chr&gt;</th><th scope=col>&lt;int&gt;</th><th scope=col>&lt;dbl&gt;</th><th scope=col>&lt;int&gt;</th><th scope=col>&lt;int&gt;</th><th scope=col>&lt;int&gt;</th><th scope=col>&lt;lgl&gt;</th><th scope=col>&lt;chr&gt;</th><th scope=col>⋯</th><th scope=col>&lt;lgl&gt;</th><th scope=col>&lt;lgl&gt;</th><th scope=col>&lt;lgl&gt;</th><th scope=col>&lt;lgl&gt;</th><th scope=col>&lt;chr&gt;</th><th scope=col>&lt;chr&gt;</th><th scope=col>&lt;lgl&gt;</th><th scope=col>&lt;chr&gt;</th><th scope=col>&lt;chr&gt;</th><th scope=col>&lt;chr&gt;</th></tr>\n",
       "</thead>\n",
       "<tbody>\n",
       "\t<tr><th scope=row>1</th><td>SRR5517500</td><td>2017-05-26 10:16:21</td><td>2017-05-08 17:35:25</td><td>28656716</td><td>4355820832</td><td>28656716</td><td>152</td><td>1603</td><td>NA</td><td>https://sra-downloadb.st-va.ncbi.nlm.nih.gov/sos1/sra-pub-run-8/SRR5517500/SRR5517500.1</td><td>⋯</td><td>NA</td><td>NA</td><td>NA</td><td>NA</td><td>GEO</td><td>SRA560605</td><td>NA</td><td>public</td><td>F81677DDDD471559B2F07AE966817AAF</td><td>7C8A3510A0405D532E497E49E19F67B9</td></tr>\n",
       "\t<tr><th scope=row>2</th><td>SRR5517501</td><td>2017-05-26 10:16:21</td><td>2017-05-08 17:35:57</td><td>30176838</td><td>4586879376</td><td>30176838</td><td>152</td><td>1672</td><td>NA</td><td>https://sra-downloadb.st-va.ncbi.nlm.nih.gov/sos1/sra-pub-run-8/SRR5517501/SRR5517501.1</td><td>⋯</td><td>NA</td><td>NA</td><td>NA</td><td>NA</td><td>GEO</td><td>SRA560605</td><td>NA</td><td>public</td><td>B8469693637BD9B86CA631EDC8C3F149</td><td>850B6F66A9C3670E4D7A9D42ECEA8FDE</td></tr>\n",
       "\t<tr><th scope=row>3</th><td>SRR5517502</td><td>2017-05-26 10:16:21</td><td>2017-05-08 17:55:26</td><td>41274152</td><td>6273671104</td><td>41274152</td><td>152</td><td>2310</td><td>NA</td><td>https://sra-downloadb.st-va.ncbi.nlm.nih.gov/sos1/sra-pub-run-8/SRR5517502/SRR5517502.1</td><td>⋯</td><td>NA</td><td>NA</td><td>NA</td><td>NA</td><td>GEO</td><td>SRA560605</td><td>NA</td><td>public</td><td>1EAA03FB52CABD86B77EDC88F938701C</td><td>AE5EA653D9F5031ABE66E27ABAEC2773</td></tr>\n",
       "\t<tr><th scope=row>4</th><td>SRR5517503</td><td>2017-05-26 10:16:21</td><td>2017-05-08 17:39:08</td><td>28848858</td><td>4385026416</td><td>28848858</td><td>152</td><td>1603</td><td>NA</td><td>https://sra-downloadb.st-va.ncbi.nlm.nih.gov/sos1/sra-pub-run-8/SRR5517503/SRR5517503.1</td><td>⋯</td><td>NA</td><td>NA</td><td>NA</td><td>NA</td><td>GEO</td><td>SRA560605</td><td>NA</td><td>public</td><td>EC245424F964BB5621856DA6FCFB0ED2</td><td>264A772C22561DD1B389FC115F2767ED</td></tr>\n",
       "\t<tr><th scope=row>5</th><td>SRR5517504</td><td>2017-05-26 10:16:21</td><td>2017-05-08 17:36:17</td><td>28605084</td><td>4347972768</td><td>28605084</td><td>152</td><td>1589</td><td>NA</td><td>https://sra-downloadb.st-va.ncbi.nlm.nih.gov/sos1/sra-pub-run-8/SRR5517504/SRR5517504.1</td><td>⋯</td><td>NA</td><td>NA</td><td>NA</td><td>NA</td><td>GEO</td><td>SRA560605</td><td>NA</td><td>public</td><td>238EDD94BDDEDACD0D2D51FAF7FE86AD</td><td>E9D992BB7AA74585B2AE37AF7953ED12</td></tr>\n",
       "</tbody>\n",
       "</table>\n"
      ],
      "text/latex": [
       "A data.frame: 5 × 47\n",
       "\\begin{tabular}{r|lllllllllllllllllllll}\n",
       "  & Run & ReleaseDate & LoadDate & spots & bases & spots\\_with\\_mates & avgLength & size\\_MB & AssemblyName & download\\_path & ⋯ & Affection\\_Status & Analyte\\_Type & Histological\\_Type & Body\\_Site & CenterName & Submission & dbgap\\_study\\_accession & Consent & RunHash & ReadHash\\\\\n",
       "  & <chr> & <chr> & <chr> & <int> & <dbl> & <int> & <int> & <int> & <lgl> & <chr> & ⋯ & <lgl> & <lgl> & <lgl> & <lgl> & <chr> & <chr> & <lgl> & <chr> & <chr> & <chr>\\\\\n",
       "\\hline\n",
       "\t1 & SRR5517500 & 2017-05-26 10:16:21 & 2017-05-08 17:35:25 & 28656716 & 4355820832 & 28656716 & 152 & 1603 & NA & https://sra-downloadb.st-va.ncbi.nlm.nih.gov/sos1/sra-pub-run-8/SRR5517500/SRR5517500.1 & ⋯ & NA & NA & NA & NA & GEO & SRA560605 & NA & public & F81677DDDD471559B2F07AE966817AAF & 7C8A3510A0405D532E497E49E19F67B9\\\\\n",
       "\t2 & SRR5517501 & 2017-05-26 10:16:21 & 2017-05-08 17:35:57 & 30176838 & 4586879376 & 30176838 & 152 & 1672 & NA & https://sra-downloadb.st-va.ncbi.nlm.nih.gov/sos1/sra-pub-run-8/SRR5517501/SRR5517501.1 & ⋯ & NA & NA & NA & NA & GEO & SRA560605 & NA & public & B8469693637BD9B86CA631EDC8C3F149 & 850B6F66A9C3670E4D7A9D42ECEA8FDE\\\\\n",
       "\t3 & SRR5517502 & 2017-05-26 10:16:21 & 2017-05-08 17:55:26 & 41274152 & 6273671104 & 41274152 & 152 & 2310 & NA & https://sra-downloadb.st-va.ncbi.nlm.nih.gov/sos1/sra-pub-run-8/SRR5517502/SRR5517502.1 & ⋯ & NA & NA & NA & NA & GEO & SRA560605 & NA & public & 1EAA03FB52CABD86B77EDC88F938701C & AE5EA653D9F5031ABE66E27ABAEC2773\\\\\n",
       "\t4 & SRR5517503 & 2017-05-26 10:16:21 & 2017-05-08 17:39:08 & 28848858 & 4385026416 & 28848858 & 152 & 1603 & NA & https://sra-downloadb.st-va.ncbi.nlm.nih.gov/sos1/sra-pub-run-8/SRR5517503/SRR5517503.1 & ⋯ & NA & NA & NA & NA & GEO & SRA560605 & NA & public & EC245424F964BB5621856DA6FCFB0ED2 & 264A772C22561DD1B389FC115F2767ED\\\\\n",
       "\t5 & SRR5517504 & 2017-05-26 10:16:21 & 2017-05-08 17:36:17 & 28605084 & 4347972768 & 28605084 & 152 & 1589 & NA & https://sra-downloadb.st-va.ncbi.nlm.nih.gov/sos1/sra-pub-run-8/SRR5517504/SRR5517504.1 & ⋯ & NA & NA & NA & NA & GEO & SRA560605 & NA & public & 238EDD94BDDEDACD0D2D51FAF7FE86AD & E9D992BB7AA74585B2AE37AF7953ED12\\\\\n",
       "\\end{tabular}\n"
      ],
      "text/markdown": [
       "\n",
       "A data.frame: 5 × 47\n",
       "\n",
       "| <!--/--> | Run &lt;chr&gt; | ReleaseDate &lt;chr&gt; | LoadDate &lt;chr&gt; | spots &lt;int&gt; | bases &lt;dbl&gt; | spots_with_mates &lt;int&gt; | avgLength &lt;int&gt; | size_MB &lt;int&gt; | AssemblyName &lt;lgl&gt; | download_path &lt;chr&gt; | ⋯ ⋯ | Affection_Status &lt;lgl&gt; | Analyte_Type &lt;lgl&gt; | Histological_Type &lt;lgl&gt; | Body_Site &lt;lgl&gt; | CenterName &lt;chr&gt; | Submission &lt;chr&gt; | dbgap_study_accession &lt;lgl&gt; | Consent &lt;chr&gt; | RunHash &lt;chr&gt; | ReadHash &lt;chr&gt; |\n",
       "|---|---|---|---|---|---|---|---|---|---|---|---|---|---|---|---|---|---|---|---|---|---|\n",
       "| 1 | SRR5517500 | 2017-05-26 10:16:21 | 2017-05-08 17:35:25 | 28656716 | 4355820832 | 28656716 | 152 | 1603 | NA | https://sra-downloadb.st-va.ncbi.nlm.nih.gov/sos1/sra-pub-run-8/SRR5517500/SRR5517500.1 | ⋯ | NA | NA | NA | NA | GEO | SRA560605 | NA | public | F81677DDDD471559B2F07AE966817AAF | 7C8A3510A0405D532E497E49E19F67B9 |\n",
       "| 2 | SRR5517501 | 2017-05-26 10:16:21 | 2017-05-08 17:35:57 | 30176838 | 4586879376 | 30176838 | 152 | 1672 | NA | https://sra-downloadb.st-va.ncbi.nlm.nih.gov/sos1/sra-pub-run-8/SRR5517501/SRR5517501.1 | ⋯ | NA | NA | NA | NA | GEO | SRA560605 | NA | public | B8469693637BD9B86CA631EDC8C3F149 | 850B6F66A9C3670E4D7A9D42ECEA8FDE |\n",
       "| 3 | SRR5517502 | 2017-05-26 10:16:21 | 2017-05-08 17:55:26 | 41274152 | 6273671104 | 41274152 | 152 | 2310 | NA | https://sra-downloadb.st-va.ncbi.nlm.nih.gov/sos1/sra-pub-run-8/SRR5517502/SRR5517502.1 | ⋯ | NA | NA | NA | NA | GEO | SRA560605 | NA | public | 1EAA03FB52CABD86B77EDC88F938701C | AE5EA653D9F5031ABE66E27ABAEC2773 |\n",
       "| 4 | SRR5517503 | 2017-05-26 10:16:21 | 2017-05-08 17:39:08 | 28848858 | 4385026416 | 28848858 | 152 | 1603 | NA | https://sra-downloadb.st-va.ncbi.nlm.nih.gov/sos1/sra-pub-run-8/SRR5517503/SRR5517503.1 | ⋯ | NA | NA | NA | NA | GEO | SRA560605 | NA | public | EC245424F964BB5621856DA6FCFB0ED2 | 264A772C22561DD1B389FC115F2767ED |\n",
       "| 5 | SRR5517504 | 2017-05-26 10:16:21 | 2017-05-08 17:36:17 | 28605084 | 4347972768 | 28605084 | 152 | 1589 | NA | https://sra-downloadb.st-va.ncbi.nlm.nih.gov/sos1/sra-pub-run-8/SRR5517504/SRR5517504.1 | ⋯ | NA | NA | NA | NA | GEO | SRA560605 | NA | public | 238EDD94BDDEDACD0D2D51FAF7FE86AD | E9D992BB7AA74585B2AE37AF7953ED12 |\n",
       "\n"
      ],
      "text/plain": [
       "  Run        ReleaseDate         LoadDate            spots    bases     \n",
       "1 SRR5517500 2017-05-26 10:16:21 2017-05-08 17:35:25 28656716 4355820832\n",
       "2 SRR5517501 2017-05-26 10:16:21 2017-05-08 17:35:57 30176838 4586879376\n",
       "3 SRR5517502 2017-05-26 10:16:21 2017-05-08 17:55:26 41274152 6273671104\n",
       "4 SRR5517503 2017-05-26 10:16:21 2017-05-08 17:39:08 28848858 4385026416\n",
       "5 SRR5517504 2017-05-26 10:16:21 2017-05-08 17:36:17 28605084 4347972768\n",
       "  spots_with_mates avgLength size_MB AssemblyName\n",
       "1 28656716         152       1603    NA          \n",
       "2 30176838         152       1672    NA          \n",
       "3 41274152         152       2310    NA          \n",
       "4 28848858         152       1603    NA          \n",
       "5 28605084         152       1589    NA          \n",
       "  download_path                                                                          \n",
       "1 https://sra-downloadb.st-va.ncbi.nlm.nih.gov/sos1/sra-pub-run-8/SRR5517500/SRR5517500.1\n",
       "2 https://sra-downloadb.st-va.ncbi.nlm.nih.gov/sos1/sra-pub-run-8/SRR5517501/SRR5517501.1\n",
       "3 https://sra-downloadb.st-va.ncbi.nlm.nih.gov/sos1/sra-pub-run-8/SRR5517502/SRR5517502.1\n",
       "4 https://sra-downloadb.st-va.ncbi.nlm.nih.gov/sos1/sra-pub-run-8/SRR5517503/SRR5517503.1\n",
       "5 https://sra-downloadb.st-va.ncbi.nlm.nih.gov/sos1/sra-pub-run-8/SRR5517504/SRR5517504.1\n",
       "  <U+22EF>   Affection_Status Analyte_Type Histological_Type Body_Site CenterName\n",
       "1 <U+22EF> NA               NA           NA                NA        GEO       \n",
       "2 <U+22EF> NA               NA           NA                NA        GEO       \n",
       "3 <U+22EF> NA               NA           NA                NA        GEO       \n",
       "4 <U+22EF> NA               NA           NA                NA        GEO       \n",
       "5 <U+22EF> NA               NA           NA                NA        GEO       \n",
       "  Submission dbgap_study_accession Consent RunHash                         \n",
       "1 SRA560605  NA                    public  F81677DDDD471559B2F07AE966817AAF\n",
       "2 SRA560605  NA                    public  B8469693637BD9B86CA631EDC8C3F149\n",
       "3 SRA560605  NA                    public  1EAA03FB52CABD86B77EDC88F938701C\n",
       "4 SRA560605  NA                    public  EC245424F964BB5621856DA6FCFB0ED2\n",
       "5 SRA560605  NA                    public  238EDD94BDDEDACD0D2D51FAF7FE86AD\n",
       "  ReadHash                        \n",
       "1 7C8A3510A0405D532E497E49E19F67B9\n",
       "2 850B6F66A9C3670E4D7A9D42ECEA8FDE\n",
       "3 AE5EA653D9F5031ABE66E27ABAEC2773\n",
       "4 264A772C22561DD1B389FC115F2767ED\n",
       "5 E9D992BB7AA74585B2AE37AF7953ED12"
      ]
     },
     "metadata": {},
     "output_type": "display_data"
    }
   ],
   "source": [
    "# Getting \"Run\" and \"condition\" from Experiment Name of the SRA deposits\n",
    "\n",
    "sum <- read.table(file.path(elphege_proj_files, \"metadata\", \"sra_result_summary.csv\"), header = TRUE, sep = \",\", stringsAsFactors=FALSE)\n",
    "\n",
    "# Parse experiment name to get 'condition' -- str_split_fixed(string, pattern, n)\n",
    "sum_extended <- cbind(sum,  stringr::str_split_fixed(sum$Experiment.Title, \"[:;]+\", 4))\n",
    "colnames(sum_extended)[19] <- \"condition\"\n",
    "\n",
    "# Removing replicate number so that sleuth can do some grouping\n",
    "sum_extended$condition <- sub(\"_rep[0-4]\", \"\", sum_extended$condition)\n",
    "\n",
    "runInfo <- read.table(file.path(elphege_proj_files, \"metadata\", \"SraRunInfo.csv\"), header = TRUE, sep = \",\", stringsAsFactors=FALSE)\n",
    "head(runInfo, 5)"
   ]
  },
  {
   "cell_type": "code",
   "execution_count": 15,
   "id": "5e7b1a1f-3b1f-4bbd-aff6-04700314ae78",
   "metadata": {},
   "outputs": [
    {
     "name": "stderr",
     "output_type": "stream",
     "text": [
      "\n",
      "Attaching package: 'dplyr'\n",
      "\n",
      "\n",
      "The following objects are masked from 'package:stats':\n",
      "\n",
      "    filter, lag\n",
      "\n",
      "\n",
      "The following objects are masked from 'package:base':\n",
      "\n",
      "    intersect, setdiff, setequal, union\n",
      "\n",
      "\n"
     ]
    },
    {
     "data": {
      "text/html": [
       "<table class=\"dataframe\">\n",
       "<caption>A data.frame: 24 × 2</caption>\n",
       "<thead>\n",
       "\t<tr><th scope=col>sample</th><th scope=col>condition</th></tr>\n",
       "\t<tr><th scope=col>&lt;chr&gt;</th><th scope=col>&lt;chr&gt;</th></tr>\n",
       "</thead>\n",
       "<tbody>\n",
       "\t<tr><td>SRR5517500</td><td>RNA-seq_CTCF-AID_untreated    </td></tr>\n",
       "\t<tr><td>SRR5517501</td><td>RNA-seq_CTCF-AID_auxin1day    </td></tr>\n",
       "\t<tr><td>SRR5517502</td><td>RNA-seq_CTCF-AID_auxin2days   </td></tr>\n",
       "\t<tr><td>SRR5517503</td><td>RNA-seq_CTCF-AID_auxin4days   </td></tr>\n",
       "\t<tr><td>SRR5517504</td><td>RNA-seq_CTCF-AID_washoff2days </td></tr>\n",
       "\t<tr><td>SRR5517505</td><td>RNA-seq_CTCF-AID_untreated    </td></tr>\n",
       "\t<tr><td>SRR5517506</td><td>RNA-seq_CTCF-AID_auxin1day    </td></tr>\n",
       "\t<tr><td>SRR5517507</td><td>RNA-seq_CTCF-AID_auxin2days   </td></tr>\n",
       "\t<tr><td>SRR5517508</td><td>RNA-seq_CTCF-AID_auxin4days   </td></tr>\n",
       "\t<tr><td>SRR5517509</td><td>RNA-seq_CTCF-AID_washoff2days </td></tr>\n",
       "\t<tr><td>SRR5517510</td><td>RNA-seq_CTCF-AID_untreated    </td></tr>\n",
       "\t<tr><td>SRR5517511</td><td>RNA-seq_CTCF-AID_auxin1day    </td></tr>\n",
       "\t<tr><td>SRR5517512</td><td>RNA-seq_CTCF-AID_auxin2days   </td></tr>\n",
       "\t<tr><td>SRR5517513</td><td>RNA-seq_CTCF-AID_auxin4days   </td></tr>\n",
       "\t<tr><td>SRR5517514</td><td>RNA-seq_CTCF-AID_washoff2days </td></tr>\n",
       "\t<tr><td>SRR5517515</td><td>RNA-seq_WT-untagged_untreated </td></tr>\n",
       "\t<tr><td>SRR5517516</td><td>RNA-seq_WT-untagged_auxin2days</td></tr>\n",
       "\t<tr><td>SRR5517517</td><td>RNA-seq_WT-untagged_auxin4days</td></tr>\n",
       "\t<tr><td>SRR5517518</td><td>RNA-seq_WT-untagged_untreated </td></tr>\n",
       "\t<tr><td>SRR5517519</td><td>RNA-seq_WT-untagged_auxin2days</td></tr>\n",
       "\t<tr><td>SRR5517520</td><td>RNA-seq_WT-untagged_auxin4days</td></tr>\n",
       "\t<tr><td>SRR5517521</td><td>RNA-seq_WT-untagged_untreated </td></tr>\n",
       "\t<tr><td>SRR5517522</td><td>RNA-seq_WT-untagged_auxin2days</td></tr>\n",
       "\t<tr><td>SRR5517523</td><td>RNA-seq_WT-untagged_auxin4days</td></tr>\n",
       "</tbody>\n",
       "</table>\n"
      ],
      "text/latex": [
       "A data.frame: 24 × 2\n",
       "\\begin{tabular}{ll}\n",
       " sample & condition\\\\\n",
       " <chr> & <chr>\\\\\n",
       "\\hline\n",
       "\t SRR5517500 & RNA-seq\\_CTCF-AID\\_untreated    \\\\\n",
       "\t SRR5517501 & RNA-seq\\_CTCF-AID\\_auxin1day    \\\\\n",
       "\t SRR5517502 & RNA-seq\\_CTCF-AID\\_auxin2days   \\\\\n",
       "\t SRR5517503 & RNA-seq\\_CTCF-AID\\_auxin4days   \\\\\n",
       "\t SRR5517504 & RNA-seq\\_CTCF-AID\\_washoff2days \\\\\n",
       "\t SRR5517505 & RNA-seq\\_CTCF-AID\\_untreated    \\\\\n",
       "\t SRR5517506 & RNA-seq\\_CTCF-AID\\_auxin1day    \\\\\n",
       "\t SRR5517507 & RNA-seq\\_CTCF-AID\\_auxin2days   \\\\\n",
       "\t SRR5517508 & RNA-seq\\_CTCF-AID\\_auxin4days   \\\\\n",
       "\t SRR5517509 & RNA-seq\\_CTCF-AID\\_washoff2days \\\\\n",
       "\t SRR5517510 & RNA-seq\\_CTCF-AID\\_untreated    \\\\\n",
       "\t SRR5517511 & RNA-seq\\_CTCF-AID\\_auxin1day    \\\\\n",
       "\t SRR5517512 & RNA-seq\\_CTCF-AID\\_auxin2days   \\\\\n",
       "\t SRR5517513 & RNA-seq\\_CTCF-AID\\_auxin4days   \\\\\n",
       "\t SRR5517514 & RNA-seq\\_CTCF-AID\\_washoff2days \\\\\n",
       "\t SRR5517515 & RNA-seq\\_WT-untagged\\_untreated \\\\\n",
       "\t SRR5517516 & RNA-seq\\_WT-untagged\\_auxin2days\\\\\n",
       "\t SRR5517517 & RNA-seq\\_WT-untagged\\_auxin4days\\\\\n",
       "\t SRR5517518 & RNA-seq\\_WT-untagged\\_untreated \\\\\n",
       "\t SRR5517519 & RNA-seq\\_WT-untagged\\_auxin2days\\\\\n",
       "\t SRR5517520 & RNA-seq\\_WT-untagged\\_auxin4days\\\\\n",
       "\t SRR5517521 & RNA-seq\\_WT-untagged\\_untreated \\\\\n",
       "\t SRR5517522 & RNA-seq\\_WT-untagged\\_auxin2days\\\\\n",
       "\t SRR5517523 & RNA-seq\\_WT-untagged\\_auxin4days\\\\\n",
       "\\end{tabular}\n"
      ],
      "text/markdown": [
       "\n",
       "A data.frame: 24 × 2\n",
       "\n",
       "| sample &lt;chr&gt; | condition &lt;chr&gt; |\n",
       "|---|---|\n",
       "| SRR5517500 | RNA-seq_CTCF-AID_untreated     |\n",
       "| SRR5517501 | RNA-seq_CTCF-AID_auxin1day     |\n",
       "| SRR5517502 | RNA-seq_CTCF-AID_auxin2days    |\n",
       "| SRR5517503 | RNA-seq_CTCF-AID_auxin4days    |\n",
       "| SRR5517504 | RNA-seq_CTCF-AID_washoff2days  |\n",
       "| SRR5517505 | RNA-seq_CTCF-AID_untreated     |\n",
       "| SRR5517506 | RNA-seq_CTCF-AID_auxin1day     |\n",
       "| SRR5517507 | RNA-seq_CTCF-AID_auxin2days    |\n",
       "| SRR5517508 | RNA-seq_CTCF-AID_auxin4days    |\n",
       "| SRR5517509 | RNA-seq_CTCF-AID_washoff2days  |\n",
       "| SRR5517510 | RNA-seq_CTCF-AID_untreated     |\n",
       "| SRR5517511 | RNA-seq_CTCF-AID_auxin1day     |\n",
       "| SRR5517512 | RNA-seq_CTCF-AID_auxin2days    |\n",
       "| SRR5517513 | RNA-seq_CTCF-AID_auxin4days    |\n",
       "| SRR5517514 | RNA-seq_CTCF-AID_washoff2days  |\n",
       "| SRR5517515 | RNA-seq_WT-untagged_untreated  |\n",
       "| SRR5517516 | RNA-seq_WT-untagged_auxin2days |\n",
       "| SRR5517517 | RNA-seq_WT-untagged_auxin4days |\n",
       "| SRR5517518 | RNA-seq_WT-untagged_untreated  |\n",
       "| SRR5517519 | RNA-seq_WT-untagged_auxin2days |\n",
       "| SRR5517520 | RNA-seq_WT-untagged_auxin4days |\n",
       "| SRR5517521 | RNA-seq_WT-untagged_untreated  |\n",
       "| SRR5517522 | RNA-seq_WT-untagged_auxin2days |\n",
       "| SRR5517523 | RNA-seq_WT-untagged_auxin4days |\n",
       "\n"
      ],
      "text/plain": [
       "   sample     condition                     \n",
       "1  SRR5517500 RNA-seq_CTCF-AID_untreated    \n",
       "2  SRR5517501 RNA-seq_CTCF-AID_auxin1day    \n",
       "3  SRR5517502 RNA-seq_CTCF-AID_auxin2days   \n",
       "4  SRR5517503 RNA-seq_CTCF-AID_auxin4days   \n",
       "5  SRR5517504 RNA-seq_CTCF-AID_washoff2days \n",
       "6  SRR5517505 RNA-seq_CTCF-AID_untreated    \n",
       "7  SRR5517506 RNA-seq_CTCF-AID_auxin1day    \n",
       "8  SRR5517507 RNA-seq_CTCF-AID_auxin2days   \n",
       "9  SRR5517508 RNA-seq_CTCF-AID_auxin4days   \n",
       "10 SRR5517509 RNA-seq_CTCF-AID_washoff2days \n",
       "11 SRR5517510 RNA-seq_CTCF-AID_untreated    \n",
       "12 SRR5517511 RNA-seq_CTCF-AID_auxin1day    \n",
       "13 SRR5517512 RNA-seq_CTCF-AID_auxin2days   \n",
       "14 SRR5517513 RNA-seq_CTCF-AID_auxin4days   \n",
       "15 SRR5517514 RNA-seq_CTCF-AID_washoff2days \n",
       "16 SRR5517515 RNA-seq_WT-untagged_untreated \n",
       "17 SRR5517516 RNA-seq_WT-untagged_auxin2days\n",
       "18 SRR5517517 RNA-seq_WT-untagged_auxin4days\n",
       "19 SRR5517518 RNA-seq_WT-untagged_untreated \n",
       "20 SRR5517519 RNA-seq_WT-untagged_auxin2days\n",
       "21 SRR5517520 RNA-seq_WT-untagged_auxin4days\n",
       "22 SRR5517521 RNA-seq_WT-untagged_untreated \n",
       "23 SRR5517522 RNA-seq_WT-untagged_auxin2days\n",
       "24 SRR5517523 RNA-seq_WT-untagged_auxin4days"
      ]
     },
     "metadata": {},
     "output_type": "display_data"
    }
   ],
   "source": [
    "# merge sra_result file and sraRunInfo to get the condition (buried in 'Experiment Name' in sra_result_summary -- put in 'condition')\n",
    "\n",
    "# runInfo.Experiment\n",
    "# sum_extended.Experiment.Accession\n",
    "\n",
    "total <- merge(runInfo, sum_extended, by.x=c(\"Experiment\"),\n",
    "      by.y=c(\"Experiment.Accession\"),\n",
    "      all.x=TRUE)\n",
    "\n",
    "library(dplyr)\n",
    "\n",
    "s2c <- select(total, Experiment, Run, condition, Library.Strategy, Library.Selection)\n",
    "s2c <- dplyr::select(s2c, sample = Run, condition)\n",
    "\n",
    "# getting rid of whitespace \n",
    "s2c %>%\n",
    "  mutate(across(where(is.character), stringr::str_trim))"
   ]
  },
  {
   "cell_type": "code",
   "execution_count": 16,
   "id": "cf3e0152-f8a2-47e7-b215-5668ea0c312b",
   "metadata": {},
   "outputs": [
    {
     "data": {
      "text/html": [
       "<pre class=language-r><code>function (.data, ...) \n",
       "{\n",
       "<span style=white-space:pre-wrap>    UseMethod(\"select\")</span>\n",
       "}</code></pre>"
      ],
      "text/latex": [
       "\\begin{minted}{r}\n",
       "function (.data, ...) \n",
       "\\{\n",
       "    UseMethod(\"select\")\n",
       "\\}\n",
       "\\end{minted}"
      ],
      "text/markdown": [
       "```r\n",
       "function (.data, ...) \n",
       "{\n",
       "    UseMethod(\"select\")\n",
       "}\n",
       "```"
      ],
      "text/plain": [
       "function (.data, ...) \n",
       "{\n",
       "    UseMethod(\"select\")\n",
       "}\n",
       "<bytecode: 0x55a62b2c0548>\n",
       "<environment: namespace:dplyr>"
      ]
     },
     "metadata": {},
     "output_type": "display_data"
    }
   ],
   "source": [
    "dplyr::select"
   ]
  },
  {
   "cell_type": "code",
   "execution_count": 17,
   "id": "544adfa2-786d-45d5-972d-9db82cd03642",
   "metadata": {},
   "outputs": [
    {
     "data": {
      "text/html": [
       "<style>\n",
       ".list-inline {list-style: none; margin:0; padding: 0}\n",
       ".list-inline>li {display: inline-block}\n",
       ".list-inline>li:not(:last-child)::after {content: \"\\00b7\"; padding: 0 .5ex}\n",
       "</style>\n",
       "<ol class=list-inline><li>' RNA-seq_CTCF-AID_auxin1day'</li><li>' RNA-seq_CTCF-AID_auxin2days'</li><li>' RNA-seq_CTCF-AID_auxin4days'</li><li>' RNA-seq_CTCF-AID_untreated'</li><li>' RNA-seq_CTCF-AID_washoff2days'</li><li>' RNA-seq_WT-untagged_auxin2days'</li><li>' RNA-seq_WT-untagged_auxin4days'</li><li>' RNA-seq_WT-untagged_untreated'</li></ol>\n"
      ],
      "text/latex": [
       "\\begin{enumerate*}\n",
       "\\item ' RNA-seq\\_CTCF-AID\\_auxin1day'\n",
       "\\item ' RNA-seq\\_CTCF-AID\\_auxin2days'\n",
       "\\item ' RNA-seq\\_CTCF-AID\\_auxin4days'\n",
       "\\item ' RNA-seq\\_CTCF-AID\\_untreated'\n",
       "\\item ' RNA-seq\\_CTCF-AID\\_washoff2days'\n",
       "\\item ' RNA-seq\\_WT-untagged\\_auxin2days'\n",
       "\\item ' RNA-seq\\_WT-untagged\\_auxin4days'\n",
       "\\item ' RNA-seq\\_WT-untagged\\_untreated'\n",
       "\\end{enumerate*}\n"
      ],
      "text/markdown": [
       "1. ' RNA-seq_CTCF-AID_auxin1day'\n",
       "2. ' RNA-seq_CTCF-AID_auxin2days'\n",
       "3. ' RNA-seq_CTCF-AID_auxin4days'\n",
       "4. ' RNA-seq_CTCF-AID_untreated'\n",
       "5. ' RNA-seq_CTCF-AID_washoff2days'\n",
       "6. ' RNA-seq_WT-untagged_auxin2days'\n",
       "7. ' RNA-seq_WT-untagged_auxin4days'\n",
       "8. ' RNA-seq_WT-untagged_untreated'\n",
       "\n",
       "\n"
      ],
      "text/plain": [
       "[1] \" RNA-seq_CTCF-AID_auxin1day\"     \" RNA-seq_CTCF-AID_auxin2days\"   \n",
       "[3] \" RNA-seq_CTCF-AID_auxin4days\"    \" RNA-seq_CTCF-AID_untreated\"    \n",
       "[5] \" RNA-seq_CTCF-AID_washoff2days\"  \" RNA-seq_WT-untagged_auxin2days\"\n",
       "[7] \" RNA-seq_WT-untagged_auxin4days\" \" RNA-seq_WT-untagged_untreated\" "
      ]
     },
     "metadata": {},
     "output_type": "display_data"
    },
    {
     "data": {
      "text/html": [
       "<table class=\"dataframe\">\n",
       "<caption>A data.frame: 24 × 2</caption>\n",
       "<thead>\n",
       "\t<tr><th scope=col>sample</th><th scope=col>condition</th></tr>\n",
       "\t<tr><th scope=col>&lt;chr&gt;</th><th scope=col>&lt;fct&gt;</th></tr>\n",
       "</thead>\n",
       "<tbody>\n",
       "\t<tr><td>SRR5517500</td><td> RNA-seq_CTCF-AID_untreated    </td></tr>\n",
       "\t<tr><td>SRR5517501</td><td> RNA-seq_CTCF-AID_auxin1day    </td></tr>\n",
       "\t<tr><td>SRR5517502</td><td> RNA-seq_CTCF-AID_auxin2days   </td></tr>\n",
       "\t<tr><td>SRR5517503</td><td> RNA-seq_CTCF-AID_auxin4days   </td></tr>\n",
       "\t<tr><td>SRR5517504</td><td> RNA-seq_CTCF-AID_washoff2days </td></tr>\n",
       "\t<tr><td>SRR5517505</td><td> RNA-seq_CTCF-AID_untreated    </td></tr>\n",
       "\t<tr><td>SRR5517506</td><td> RNA-seq_CTCF-AID_auxin1day    </td></tr>\n",
       "\t<tr><td>SRR5517507</td><td> RNA-seq_CTCF-AID_auxin2days   </td></tr>\n",
       "\t<tr><td>SRR5517508</td><td> RNA-seq_CTCF-AID_auxin4days   </td></tr>\n",
       "\t<tr><td>SRR5517509</td><td> RNA-seq_CTCF-AID_washoff2days </td></tr>\n",
       "\t<tr><td>SRR5517510</td><td> RNA-seq_CTCF-AID_untreated    </td></tr>\n",
       "\t<tr><td>SRR5517511</td><td> RNA-seq_CTCF-AID_auxin1day    </td></tr>\n",
       "\t<tr><td>SRR5517512</td><td> RNA-seq_CTCF-AID_auxin2days   </td></tr>\n",
       "\t<tr><td>SRR5517513</td><td> RNA-seq_CTCF-AID_auxin4days   </td></tr>\n",
       "\t<tr><td>SRR5517514</td><td> RNA-seq_CTCF-AID_washoff2days </td></tr>\n",
       "\t<tr><td>SRR5517515</td><td> RNA-seq_WT-untagged_untreated </td></tr>\n",
       "\t<tr><td>SRR5517516</td><td> RNA-seq_WT-untagged_auxin2days</td></tr>\n",
       "\t<tr><td>SRR5517517</td><td> RNA-seq_WT-untagged_auxin4days</td></tr>\n",
       "\t<tr><td>SRR5517518</td><td> RNA-seq_WT-untagged_untreated </td></tr>\n",
       "\t<tr><td>SRR5517519</td><td> RNA-seq_WT-untagged_auxin2days</td></tr>\n",
       "\t<tr><td>SRR5517520</td><td> RNA-seq_WT-untagged_auxin4days</td></tr>\n",
       "\t<tr><td>SRR5517521</td><td> RNA-seq_WT-untagged_untreated </td></tr>\n",
       "\t<tr><td>SRR5517522</td><td> RNA-seq_WT-untagged_auxin2days</td></tr>\n",
       "\t<tr><td>SRR5517523</td><td> RNA-seq_WT-untagged_auxin4days</td></tr>\n",
       "</tbody>\n",
       "</table>\n"
      ],
      "text/latex": [
       "A data.frame: 24 × 2\n",
       "\\begin{tabular}{ll}\n",
       " sample & condition\\\\\n",
       " <chr> & <fct>\\\\\n",
       "\\hline\n",
       "\t SRR5517500 &  RNA-seq\\_CTCF-AID\\_untreated    \\\\\n",
       "\t SRR5517501 &  RNA-seq\\_CTCF-AID\\_auxin1day    \\\\\n",
       "\t SRR5517502 &  RNA-seq\\_CTCF-AID\\_auxin2days   \\\\\n",
       "\t SRR5517503 &  RNA-seq\\_CTCF-AID\\_auxin4days   \\\\\n",
       "\t SRR5517504 &  RNA-seq\\_CTCF-AID\\_washoff2days \\\\\n",
       "\t SRR5517505 &  RNA-seq\\_CTCF-AID\\_untreated    \\\\\n",
       "\t SRR5517506 &  RNA-seq\\_CTCF-AID\\_auxin1day    \\\\\n",
       "\t SRR5517507 &  RNA-seq\\_CTCF-AID\\_auxin2days   \\\\\n",
       "\t SRR5517508 &  RNA-seq\\_CTCF-AID\\_auxin4days   \\\\\n",
       "\t SRR5517509 &  RNA-seq\\_CTCF-AID\\_washoff2days \\\\\n",
       "\t SRR5517510 &  RNA-seq\\_CTCF-AID\\_untreated    \\\\\n",
       "\t SRR5517511 &  RNA-seq\\_CTCF-AID\\_auxin1day    \\\\\n",
       "\t SRR5517512 &  RNA-seq\\_CTCF-AID\\_auxin2days   \\\\\n",
       "\t SRR5517513 &  RNA-seq\\_CTCF-AID\\_auxin4days   \\\\\n",
       "\t SRR5517514 &  RNA-seq\\_CTCF-AID\\_washoff2days \\\\\n",
       "\t SRR5517515 &  RNA-seq\\_WT-untagged\\_untreated \\\\\n",
       "\t SRR5517516 &  RNA-seq\\_WT-untagged\\_auxin2days\\\\\n",
       "\t SRR5517517 &  RNA-seq\\_WT-untagged\\_auxin4days\\\\\n",
       "\t SRR5517518 &  RNA-seq\\_WT-untagged\\_untreated \\\\\n",
       "\t SRR5517519 &  RNA-seq\\_WT-untagged\\_auxin2days\\\\\n",
       "\t SRR5517520 &  RNA-seq\\_WT-untagged\\_auxin4days\\\\\n",
       "\t SRR5517521 &  RNA-seq\\_WT-untagged\\_untreated \\\\\n",
       "\t SRR5517522 &  RNA-seq\\_WT-untagged\\_auxin2days\\\\\n",
       "\t SRR5517523 &  RNA-seq\\_WT-untagged\\_auxin4days\\\\\n",
       "\\end{tabular}\n"
      ],
      "text/markdown": [
       "\n",
       "A data.frame: 24 × 2\n",
       "\n",
       "| sample &lt;chr&gt; | condition &lt;fct&gt; |\n",
       "|---|---|\n",
       "| SRR5517500 |  RNA-seq_CTCF-AID_untreated     |\n",
       "| SRR5517501 |  RNA-seq_CTCF-AID_auxin1day     |\n",
       "| SRR5517502 |  RNA-seq_CTCF-AID_auxin2days    |\n",
       "| SRR5517503 |  RNA-seq_CTCF-AID_auxin4days    |\n",
       "| SRR5517504 |  RNA-seq_CTCF-AID_washoff2days  |\n",
       "| SRR5517505 |  RNA-seq_CTCF-AID_untreated     |\n",
       "| SRR5517506 |  RNA-seq_CTCF-AID_auxin1day     |\n",
       "| SRR5517507 |  RNA-seq_CTCF-AID_auxin2days    |\n",
       "| SRR5517508 |  RNA-seq_CTCF-AID_auxin4days    |\n",
       "| SRR5517509 |  RNA-seq_CTCF-AID_washoff2days  |\n",
       "| SRR5517510 |  RNA-seq_CTCF-AID_untreated     |\n",
       "| SRR5517511 |  RNA-seq_CTCF-AID_auxin1day     |\n",
       "| SRR5517512 |  RNA-seq_CTCF-AID_auxin2days    |\n",
       "| SRR5517513 |  RNA-seq_CTCF-AID_auxin4days    |\n",
       "| SRR5517514 |  RNA-seq_CTCF-AID_washoff2days  |\n",
       "| SRR5517515 |  RNA-seq_WT-untagged_untreated  |\n",
       "| SRR5517516 |  RNA-seq_WT-untagged_auxin2days |\n",
       "| SRR5517517 |  RNA-seq_WT-untagged_auxin4days |\n",
       "| SRR5517518 |  RNA-seq_WT-untagged_untreated  |\n",
       "| SRR5517519 |  RNA-seq_WT-untagged_auxin2days |\n",
       "| SRR5517520 |  RNA-seq_WT-untagged_auxin4days |\n",
       "| SRR5517521 |  RNA-seq_WT-untagged_untreated  |\n",
       "| SRR5517522 |  RNA-seq_WT-untagged_auxin2days |\n",
       "| SRR5517523 |  RNA-seq_WT-untagged_auxin4days |\n",
       "\n"
      ],
      "text/plain": [
       "   sample     condition                      \n",
       "1  SRR5517500  RNA-seq_CTCF-AID_untreated    \n",
       "2  SRR5517501  RNA-seq_CTCF-AID_auxin1day    \n",
       "3  SRR5517502  RNA-seq_CTCF-AID_auxin2days   \n",
       "4  SRR5517503  RNA-seq_CTCF-AID_auxin4days   \n",
       "5  SRR5517504  RNA-seq_CTCF-AID_washoff2days \n",
       "6  SRR5517505  RNA-seq_CTCF-AID_untreated    \n",
       "7  SRR5517506  RNA-seq_CTCF-AID_auxin1day    \n",
       "8  SRR5517507  RNA-seq_CTCF-AID_auxin2days   \n",
       "9  SRR5517508  RNA-seq_CTCF-AID_auxin4days   \n",
       "10 SRR5517509  RNA-seq_CTCF-AID_washoff2days \n",
       "11 SRR5517510  RNA-seq_CTCF-AID_untreated    \n",
       "12 SRR5517511  RNA-seq_CTCF-AID_auxin1day    \n",
       "13 SRR5517512  RNA-seq_CTCF-AID_auxin2days   \n",
       "14 SRR5517513  RNA-seq_CTCF-AID_auxin4days   \n",
       "15 SRR5517514  RNA-seq_CTCF-AID_washoff2days \n",
       "16 SRR5517515  RNA-seq_WT-untagged_untreated \n",
       "17 SRR5517516  RNA-seq_WT-untagged_auxin2days\n",
       "18 SRR5517517  RNA-seq_WT-untagged_auxin4days\n",
       "19 SRR5517518  RNA-seq_WT-untagged_untreated \n",
       "20 SRR5517519  RNA-seq_WT-untagged_auxin2days\n",
       "21 SRR5517520  RNA-seq_WT-untagged_auxin4days\n",
       "22 SRR5517521  RNA-seq_WT-untagged_untreated \n",
       "23 SRR5517522  RNA-seq_WT-untagged_auxin2days\n",
       "24 SRR5517523  RNA-seq_WT-untagged_auxin4days"
      ]
     },
     "metadata": {},
     "output_type": "display_data"
    }
   ],
   "source": [
    "# Reformatting condition so that when converted to levels, we can put the base case first\n",
    "## note: default behavior for sleuth will \n",
    "\n",
    "s2c$condition = as.factor(s2c$condition)\n",
    "\n",
    "levels(s2c$condition)\n",
    "\n",
    "# Getting rid of whitespace didn't work? so just going to try to se the base level\n",
    "s2c$condition <- relevel(s2c$condition, ref = \" RNA-seq_CTCF-AID_untreated\")\n",
    "s2c"
   ]
  },
  {
   "cell_type": "code",
   "execution_count": 19,
   "id": "ce9880dc-f304-4e57-8af3-9fe55d54ea89",
   "metadata": {},
   "outputs": [
    {
     "data": {
      "text/html": [
       "<table class=\"dataframe\">\n",
       "<caption>A data.frame: 24 × 3</caption>\n",
       "<thead>\n",
       "\t<tr><th scope=col>sample</th><th scope=col>condition</th><th scope=col>path</th></tr>\n",
       "\t<tr><th scope=col>&lt;chr&gt;</th><th scope=col>&lt;fct&gt;</th><th scope=col>&lt;chr&gt;</th></tr>\n",
       "</thead>\n",
       "<tbody>\n",
       "\t<tr><td>SRR5517500</td><td> RNA-seq_CTCF-AID_untreated    </td><td>/project/fudenber_735/GEO/nora_2017_rna-seq_SRP106652/SRP106652/SRR5517500/kallisto-mm9</td></tr>\n",
       "\t<tr><td>SRR5517501</td><td> RNA-seq_CTCF-AID_auxin1day    </td><td>/project/fudenber_735/GEO/nora_2017_rna-seq_SRP106652/SRP106652/SRR5517501/kallisto-mm9</td></tr>\n",
       "\t<tr><td>SRR5517502</td><td> RNA-seq_CTCF-AID_auxin2days   </td><td>/project/fudenber_735/GEO/nora_2017_rna-seq_SRP106652/SRP106652/SRR5517502/kallisto-mm9</td></tr>\n",
       "\t<tr><td>SRR5517503</td><td> RNA-seq_CTCF-AID_auxin4days   </td><td>/project/fudenber_735/GEO/nora_2017_rna-seq_SRP106652/SRP106652/SRR5517503/kallisto-mm9</td></tr>\n",
       "\t<tr><td>SRR5517504</td><td> RNA-seq_CTCF-AID_washoff2days </td><td>/project/fudenber_735/GEO/nora_2017_rna-seq_SRP106652/SRP106652/SRR5517504/kallisto-mm9</td></tr>\n",
       "\t<tr><td>SRR5517505</td><td> RNA-seq_CTCF-AID_untreated    </td><td>/project/fudenber_735/GEO/nora_2017_rna-seq_SRP106652/SRP106652/SRR5517505/kallisto-mm9</td></tr>\n",
       "\t<tr><td>SRR5517506</td><td> RNA-seq_CTCF-AID_auxin1day    </td><td>/project/fudenber_735/GEO/nora_2017_rna-seq_SRP106652/SRP106652/SRR5517506/kallisto-mm9</td></tr>\n",
       "\t<tr><td>SRR5517507</td><td> RNA-seq_CTCF-AID_auxin2days   </td><td>/project/fudenber_735/GEO/nora_2017_rna-seq_SRP106652/SRP106652/SRR5517507/kallisto-mm9</td></tr>\n",
       "\t<tr><td>SRR5517508</td><td> RNA-seq_CTCF-AID_auxin4days   </td><td>/project/fudenber_735/GEO/nora_2017_rna-seq_SRP106652/SRP106652/SRR5517508/kallisto-mm9</td></tr>\n",
       "\t<tr><td>SRR5517509</td><td> RNA-seq_CTCF-AID_washoff2days </td><td>/project/fudenber_735/GEO/nora_2017_rna-seq_SRP106652/SRP106652/SRR5517509/kallisto-mm9</td></tr>\n",
       "\t<tr><td>SRR5517510</td><td> RNA-seq_CTCF-AID_untreated    </td><td>/project/fudenber_735/GEO/nora_2017_rna-seq_SRP106652/SRP106652/SRR5517510/kallisto-mm9</td></tr>\n",
       "\t<tr><td>SRR5517511</td><td> RNA-seq_CTCF-AID_auxin1day    </td><td>/project/fudenber_735/GEO/nora_2017_rna-seq_SRP106652/SRP106652/SRR5517511/kallisto-mm9</td></tr>\n",
       "\t<tr><td>SRR5517512</td><td> RNA-seq_CTCF-AID_auxin2days   </td><td>/project/fudenber_735/GEO/nora_2017_rna-seq_SRP106652/SRP106652/SRR5517512/kallisto-mm9</td></tr>\n",
       "\t<tr><td>SRR5517513</td><td> RNA-seq_CTCF-AID_auxin4days   </td><td>/project/fudenber_735/GEO/nora_2017_rna-seq_SRP106652/SRP106652/SRR5517513/kallisto-mm9</td></tr>\n",
       "\t<tr><td>SRR5517514</td><td> RNA-seq_CTCF-AID_washoff2days </td><td>/project/fudenber_735/GEO/nora_2017_rna-seq_SRP106652/SRP106652/SRR5517514/kallisto-mm9</td></tr>\n",
       "\t<tr><td>SRR5517515</td><td> RNA-seq_WT-untagged_untreated </td><td>/project/fudenber_735/GEO/nora_2017_rna-seq_SRP106652/SRP106652/SRR5517515/kallisto-mm9</td></tr>\n",
       "\t<tr><td>SRR5517516</td><td> RNA-seq_WT-untagged_auxin2days</td><td>/project/fudenber_735/GEO/nora_2017_rna-seq_SRP106652/SRP106652/SRR5517516/kallisto-mm9</td></tr>\n",
       "\t<tr><td>SRR5517517</td><td> RNA-seq_WT-untagged_auxin4days</td><td>/project/fudenber_735/GEO/nora_2017_rna-seq_SRP106652/SRP106652/SRR5517517/kallisto-mm9</td></tr>\n",
       "\t<tr><td>SRR5517518</td><td> RNA-seq_WT-untagged_untreated </td><td>/project/fudenber_735/GEO/nora_2017_rna-seq_SRP106652/SRP106652/SRR5517518/kallisto-mm9</td></tr>\n",
       "\t<tr><td>SRR5517519</td><td> RNA-seq_WT-untagged_auxin2days</td><td>/project/fudenber_735/GEO/nora_2017_rna-seq_SRP106652/SRP106652/SRR5517519/kallisto-mm9</td></tr>\n",
       "\t<tr><td>SRR5517520</td><td> RNA-seq_WT-untagged_auxin4days</td><td>/project/fudenber_735/GEO/nora_2017_rna-seq_SRP106652/SRP106652/SRR5517520/kallisto-mm9</td></tr>\n",
       "\t<tr><td>SRR5517521</td><td> RNA-seq_WT-untagged_untreated </td><td>/project/fudenber_735/GEO/nora_2017_rna-seq_SRP106652/SRP106652/SRR5517521/kallisto-mm9</td></tr>\n",
       "\t<tr><td>SRR5517522</td><td> RNA-seq_WT-untagged_auxin2days</td><td>/project/fudenber_735/GEO/nora_2017_rna-seq_SRP106652/SRP106652/SRR5517522/kallisto-mm9</td></tr>\n",
       "\t<tr><td>SRR5517523</td><td> RNA-seq_WT-untagged_auxin4days</td><td>/project/fudenber_735/GEO/nora_2017_rna-seq_SRP106652/SRP106652/SRR5517523/kallisto-mm9</td></tr>\n",
       "</tbody>\n",
       "</table>\n"
      ],
      "text/latex": [
       "A data.frame: 24 × 3\n",
       "\\begin{tabular}{lll}\n",
       " sample & condition & path\\\\\n",
       " <chr> & <fct> & <chr>\\\\\n",
       "\\hline\n",
       "\t SRR5517500 &  RNA-seq\\_CTCF-AID\\_untreated     & /project/fudenber\\_735/GEO/nora\\_2017\\_rna-seq\\_SRP106652/SRP106652/SRR5517500/kallisto-mm9\\\\\n",
       "\t SRR5517501 &  RNA-seq\\_CTCF-AID\\_auxin1day     & /project/fudenber\\_735/GEO/nora\\_2017\\_rna-seq\\_SRP106652/SRP106652/SRR5517501/kallisto-mm9\\\\\n",
       "\t SRR5517502 &  RNA-seq\\_CTCF-AID\\_auxin2days    & /project/fudenber\\_735/GEO/nora\\_2017\\_rna-seq\\_SRP106652/SRP106652/SRR5517502/kallisto-mm9\\\\\n",
       "\t SRR5517503 &  RNA-seq\\_CTCF-AID\\_auxin4days    & /project/fudenber\\_735/GEO/nora\\_2017\\_rna-seq\\_SRP106652/SRP106652/SRR5517503/kallisto-mm9\\\\\n",
       "\t SRR5517504 &  RNA-seq\\_CTCF-AID\\_washoff2days  & /project/fudenber\\_735/GEO/nora\\_2017\\_rna-seq\\_SRP106652/SRP106652/SRR5517504/kallisto-mm9\\\\\n",
       "\t SRR5517505 &  RNA-seq\\_CTCF-AID\\_untreated     & /project/fudenber\\_735/GEO/nora\\_2017\\_rna-seq\\_SRP106652/SRP106652/SRR5517505/kallisto-mm9\\\\\n",
       "\t SRR5517506 &  RNA-seq\\_CTCF-AID\\_auxin1day     & /project/fudenber\\_735/GEO/nora\\_2017\\_rna-seq\\_SRP106652/SRP106652/SRR5517506/kallisto-mm9\\\\\n",
       "\t SRR5517507 &  RNA-seq\\_CTCF-AID\\_auxin2days    & /project/fudenber\\_735/GEO/nora\\_2017\\_rna-seq\\_SRP106652/SRP106652/SRR5517507/kallisto-mm9\\\\\n",
       "\t SRR5517508 &  RNA-seq\\_CTCF-AID\\_auxin4days    & /project/fudenber\\_735/GEO/nora\\_2017\\_rna-seq\\_SRP106652/SRP106652/SRR5517508/kallisto-mm9\\\\\n",
       "\t SRR5517509 &  RNA-seq\\_CTCF-AID\\_washoff2days  & /project/fudenber\\_735/GEO/nora\\_2017\\_rna-seq\\_SRP106652/SRP106652/SRR5517509/kallisto-mm9\\\\\n",
       "\t SRR5517510 &  RNA-seq\\_CTCF-AID\\_untreated     & /project/fudenber\\_735/GEO/nora\\_2017\\_rna-seq\\_SRP106652/SRP106652/SRR5517510/kallisto-mm9\\\\\n",
       "\t SRR5517511 &  RNA-seq\\_CTCF-AID\\_auxin1day     & /project/fudenber\\_735/GEO/nora\\_2017\\_rna-seq\\_SRP106652/SRP106652/SRR5517511/kallisto-mm9\\\\\n",
       "\t SRR5517512 &  RNA-seq\\_CTCF-AID\\_auxin2days    & /project/fudenber\\_735/GEO/nora\\_2017\\_rna-seq\\_SRP106652/SRP106652/SRR5517512/kallisto-mm9\\\\\n",
       "\t SRR5517513 &  RNA-seq\\_CTCF-AID\\_auxin4days    & /project/fudenber\\_735/GEO/nora\\_2017\\_rna-seq\\_SRP106652/SRP106652/SRR5517513/kallisto-mm9\\\\\n",
       "\t SRR5517514 &  RNA-seq\\_CTCF-AID\\_washoff2days  & /project/fudenber\\_735/GEO/nora\\_2017\\_rna-seq\\_SRP106652/SRP106652/SRR5517514/kallisto-mm9\\\\\n",
       "\t SRR5517515 &  RNA-seq\\_WT-untagged\\_untreated  & /project/fudenber\\_735/GEO/nora\\_2017\\_rna-seq\\_SRP106652/SRP106652/SRR5517515/kallisto-mm9\\\\\n",
       "\t SRR5517516 &  RNA-seq\\_WT-untagged\\_auxin2days & /project/fudenber\\_735/GEO/nora\\_2017\\_rna-seq\\_SRP106652/SRP106652/SRR5517516/kallisto-mm9\\\\\n",
       "\t SRR5517517 &  RNA-seq\\_WT-untagged\\_auxin4days & /project/fudenber\\_735/GEO/nora\\_2017\\_rna-seq\\_SRP106652/SRP106652/SRR5517517/kallisto-mm9\\\\\n",
       "\t SRR5517518 &  RNA-seq\\_WT-untagged\\_untreated  & /project/fudenber\\_735/GEO/nora\\_2017\\_rna-seq\\_SRP106652/SRP106652/SRR5517518/kallisto-mm9\\\\\n",
       "\t SRR5517519 &  RNA-seq\\_WT-untagged\\_auxin2days & /project/fudenber\\_735/GEO/nora\\_2017\\_rna-seq\\_SRP106652/SRP106652/SRR5517519/kallisto-mm9\\\\\n",
       "\t SRR5517520 &  RNA-seq\\_WT-untagged\\_auxin4days & /project/fudenber\\_735/GEO/nora\\_2017\\_rna-seq\\_SRP106652/SRP106652/SRR5517520/kallisto-mm9\\\\\n",
       "\t SRR5517521 &  RNA-seq\\_WT-untagged\\_untreated  & /project/fudenber\\_735/GEO/nora\\_2017\\_rna-seq\\_SRP106652/SRP106652/SRR5517521/kallisto-mm9\\\\\n",
       "\t SRR5517522 &  RNA-seq\\_WT-untagged\\_auxin2days & /project/fudenber\\_735/GEO/nora\\_2017\\_rna-seq\\_SRP106652/SRP106652/SRR5517522/kallisto-mm9\\\\\n",
       "\t SRR5517523 &  RNA-seq\\_WT-untagged\\_auxin4days & /project/fudenber\\_735/GEO/nora\\_2017\\_rna-seq\\_SRP106652/SRP106652/SRR5517523/kallisto-mm9\\\\\n",
       "\\end{tabular}\n"
      ],
      "text/markdown": [
       "\n",
       "A data.frame: 24 × 3\n",
       "\n",
       "| sample &lt;chr&gt; | condition &lt;fct&gt; | path &lt;chr&gt; |\n",
       "|---|---|---|\n",
       "| SRR5517500 |  RNA-seq_CTCF-AID_untreated     | /project/fudenber_735/GEO/nora_2017_rna-seq_SRP106652/SRP106652/SRR5517500/kallisto-mm9 |\n",
       "| SRR5517501 |  RNA-seq_CTCF-AID_auxin1day     | /project/fudenber_735/GEO/nora_2017_rna-seq_SRP106652/SRP106652/SRR5517501/kallisto-mm9 |\n",
       "| SRR5517502 |  RNA-seq_CTCF-AID_auxin2days    | /project/fudenber_735/GEO/nora_2017_rna-seq_SRP106652/SRP106652/SRR5517502/kallisto-mm9 |\n",
       "| SRR5517503 |  RNA-seq_CTCF-AID_auxin4days    | /project/fudenber_735/GEO/nora_2017_rna-seq_SRP106652/SRP106652/SRR5517503/kallisto-mm9 |\n",
       "| SRR5517504 |  RNA-seq_CTCF-AID_washoff2days  | /project/fudenber_735/GEO/nora_2017_rna-seq_SRP106652/SRP106652/SRR5517504/kallisto-mm9 |\n",
       "| SRR5517505 |  RNA-seq_CTCF-AID_untreated     | /project/fudenber_735/GEO/nora_2017_rna-seq_SRP106652/SRP106652/SRR5517505/kallisto-mm9 |\n",
       "| SRR5517506 |  RNA-seq_CTCF-AID_auxin1day     | /project/fudenber_735/GEO/nora_2017_rna-seq_SRP106652/SRP106652/SRR5517506/kallisto-mm9 |\n",
       "| SRR5517507 |  RNA-seq_CTCF-AID_auxin2days    | /project/fudenber_735/GEO/nora_2017_rna-seq_SRP106652/SRP106652/SRR5517507/kallisto-mm9 |\n",
       "| SRR5517508 |  RNA-seq_CTCF-AID_auxin4days    | /project/fudenber_735/GEO/nora_2017_rna-seq_SRP106652/SRP106652/SRR5517508/kallisto-mm9 |\n",
       "| SRR5517509 |  RNA-seq_CTCF-AID_washoff2days  | /project/fudenber_735/GEO/nora_2017_rna-seq_SRP106652/SRP106652/SRR5517509/kallisto-mm9 |\n",
       "| SRR5517510 |  RNA-seq_CTCF-AID_untreated     | /project/fudenber_735/GEO/nora_2017_rna-seq_SRP106652/SRP106652/SRR5517510/kallisto-mm9 |\n",
       "| SRR5517511 |  RNA-seq_CTCF-AID_auxin1day     | /project/fudenber_735/GEO/nora_2017_rna-seq_SRP106652/SRP106652/SRR5517511/kallisto-mm9 |\n",
       "| SRR5517512 |  RNA-seq_CTCF-AID_auxin2days    | /project/fudenber_735/GEO/nora_2017_rna-seq_SRP106652/SRP106652/SRR5517512/kallisto-mm9 |\n",
       "| SRR5517513 |  RNA-seq_CTCF-AID_auxin4days    | /project/fudenber_735/GEO/nora_2017_rna-seq_SRP106652/SRP106652/SRR5517513/kallisto-mm9 |\n",
       "| SRR5517514 |  RNA-seq_CTCF-AID_washoff2days  | /project/fudenber_735/GEO/nora_2017_rna-seq_SRP106652/SRP106652/SRR5517514/kallisto-mm9 |\n",
       "| SRR5517515 |  RNA-seq_WT-untagged_untreated  | /project/fudenber_735/GEO/nora_2017_rna-seq_SRP106652/SRP106652/SRR5517515/kallisto-mm9 |\n",
       "| SRR5517516 |  RNA-seq_WT-untagged_auxin2days | /project/fudenber_735/GEO/nora_2017_rna-seq_SRP106652/SRP106652/SRR5517516/kallisto-mm9 |\n",
       "| SRR5517517 |  RNA-seq_WT-untagged_auxin4days | /project/fudenber_735/GEO/nora_2017_rna-seq_SRP106652/SRP106652/SRR5517517/kallisto-mm9 |\n",
       "| SRR5517518 |  RNA-seq_WT-untagged_untreated  | /project/fudenber_735/GEO/nora_2017_rna-seq_SRP106652/SRP106652/SRR5517518/kallisto-mm9 |\n",
       "| SRR5517519 |  RNA-seq_WT-untagged_auxin2days | /project/fudenber_735/GEO/nora_2017_rna-seq_SRP106652/SRP106652/SRR5517519/kallisto-mm9 |\n",
       "| SRR5517520 |  RNA-seq_WT-untagged_auxin4days | /project/fudenber_735/GEO/nora_2017_rna-seq_SRP106652/SRP106652/SRR5517520/kallisto-mm9 |\n",
       "| SRR5517521 |  RNA-seq_WT-untagged_untreated  | /project/fudenber_735/GEO/nora_2017_rna-seq_SRP106652/SRP106652/SRR5517521/kallisto-mm9 |\n",
       "| SRR5517522 |  RNA-seq_WT-untagged_auxin2days | /project/fudenber_735/GEO/nora_2017_rna-seq_SRP106652/SRP106652/SRR5517522/kallisto-mm9 |\n",
       "| SRR5517523 |  RNA-seq_WT-untagged_auxin4days | /project/fudenber_735/GEO/nora_2017_rna-seq_SRP106652/SRP106652/SRR5517523/kallisto-mm9 |\n",
       "\n"
      ],
      "text/plain": [
       "   sample     condition                      \n",
       "1  SRR5517500  RNA-seq_CTCF-AID_untreated    \n",
       "2  SRR5517501  RNA-seq_CTCF-AID_auxin1day    \n",
       "3  SRR5517502  RNA-seq_CTCF-AID_auxin2days   \n",
       "4  SRR5517503  RNA-seq_CTCF-AID_auxin4days   \n",
       "5  SRR5517504  RNA-seq_CTCF-AID_washoff2days \n",
       "6  SRR5517505  RNA-seq_CTCF-AID_untreated    \n",
       "7  SRR5517506  RNA-seq_CTCF-AID_auxin1day    \n",
       "8  SRR5517507  RNA-seq_CTCF-AID_auxin2days   \n",
       "9  SRR5517508  RNA-seq_CTCF-AID_auxin4days   \n",
       "10 SRR5517509  RNA-seq_CTCF-AID_washoff2days \n",
       "11 SRR5517510  RNA-seq_CTCF-AID_untreated    \n",
       "12 SRR5517511  RNA-seq_CTCF-AID_auxin1day    \n",
       "13 SRR5517512  RNA-seq_CTCF-AID_auxin2days   \n",
       "14 SRR5517513  RNA-seq_CTCF-AID_auxin4days   \n",
       "15 SRR5517514  RNA-seq_CTCF-AID_washoff2days \n",
       "16 SRR5517515  RNA-seq_WT-untagged_untreated \n",
       "17 SRR5517516  RNA-seq_WT-untagged_auxin2days\n",
       "18 SRR5517517  RNA-seq_WT-untagged_auxin4days\n",
       "19 SRR5517518  RNA-seq_WT-untagged_untreated \n",
       "20 SRR5517519  RNA-seq_WT-untagged_auxin2days\n",
       "21 SRR5517520  RNA-seq_WT-untagged_auxin4days\n",
       "22 SRR5517521  RNA-seq_WT-untagged_untreated \n",
       "23 SRR5517522  RNA-seq_WT-untagged_auxin2days\n",
       "24 SRR5517523  RNA-seq_WT-untagged_auxin4days\n",
       "   path                                                                                   \n",
       "1  /project/fudenber_735/GEO/nora_2017_rna-seq_SRP106652/SRP106652/SRR5517500/kallisto-mm9\n",
       "2  /project/fudenber_735/GEO/nora_2017_rna-seq_SRP106652/SRP106652/SRR5517501/kallisto-mm9\n",
       "3  /project/fudenber_735/GEO/nora_2017_rna-seq_SRP106652/SRP106652/SRR5517502/kallisto-mm9\n",
       "4  /project/fudenber_735/GEO/nora_2017_rna-seq_SRP106652/SRP106652/SRR5517503/kallisto-mm9\n",
       "5  /project/fudenber_735/GEO/nora_2017_rna-seq_SRP106652/SRP106652/SRR5517504/kallisto-mm9\n",
       "6  /project/fudenber_735/GEO/nora_2017_rna-seq_SRP106652/SRP106652/SRR5517505/kallisto-mm9\n",
       "7  /project/fudenber_735/GEO/nora_2017_rna-seq_SRP106652/SRP106652/SRR5517506/kallisto-mm9\n",
       "8  /project/fudenber_735/GEO/nora_2017_rna-seq_SRP106652/SRP106652/SRR5517507/kallisto-mm9\n",
       "9  /project/fudenber_735/GEO/nora_2017_rna-seq_SRP106652/SRP106652/SRR5517508/kallisto-mm9\n",
       "10 /project/fudenber_735/GEO/nora_2017_rna-seq_SRP106652/SRP106652/SRR5517509/kallisto-mm9\n",
       "11 /project/fudenber_735/GEO/nora_2017_rna-seq_SRP106652/SRP106652/SRR5517510/kallisto-mm9\n",
       "12 /project/fudenber_735/GEO/nora_2017_rna-seq_SRP106652/SRP106652/SRR5517511/kallisto-mm9\n",
       "13 /project/fudenber_735/GEO/nora_2017_rna-seq_SRP106652/SRP106652/SRR5517512/kallisto-mm9\n",
       "14 /project/fudenber_735/GEO/nora_2017_rna-seq_SRP106652/SRP106652/SRR5517513/kallisto-mm9\n",
       "15 /project/fudenber_735/GEO/nora_2017_rna-seq_SRP106652/SRP106652/SRR5517514/kallisto-mm9\n",
       "16 /project/fudenber_735/GEO/nora_2017_rna-seq_SRP106652/SRP106652/SRR5517515/kallisto-mm9\n",
       "17 /project/fudenber_735/GEO/nora_2017_rna-seq_SRP106652/SRP106652/SRR5517516/kallisto-mm9\n",
       "18 /project/fudenber_735/GEO/nora_2017_rna-seq_SRP106652/SRP106652/SRR5517517/kallisto-mm9\n",
       "19 /project/fudenber_735/GEO/nora_2017_rna-seq_SRP106652/SRP106652/SRR5517518/kallisto-mm9\n",
       "20 /project/fudenber_735/GEO/nora_2017_rna-seq_SRP106652/SRP106652/SRR5517519/kallisto-mm9\n",
       "21 /project/fudenber_735/GEO/nora_2017_rna-seq_SRP106652/SRP106652/SRR5517520/kallisto-mm9\n",
       "22 /project/fudenber_735/GEO/nora_2017_rna-seq_SRP106652/SRP106652/SRR5517521/kallisto-mm9\n",
       "23 /project/fudenber_735/GEO/nora_2017_rna-seq_SRP106652/SRP106652/SRR5517522/kallisto-mm9\n",
       "24 /project/fudenber_735/GEO/nora_2017_rna-seq_SRP106652/SRP106652/SRR5517523/kallisto-mm9"
      ]
     },
     "metadata": {},
     "output_type": "display_data"
    }
   ],
   "source": [
    "s2c <- dplyr::mutate(s2c, path = kal_dirs)\n",
    "\n",
    "s2c"
   ]
  },
  {
   "cell_type": "markdown",
   "id": "5f197a10-c138-485d-a4ce-c469c9025333",
   "metadata": {},
   "source": [
    "# Adding gene aggregation"
   ]
  },
  {
   "cell_type": "markdown",
   "id": "7e3cd561-0622-4230-9a38-0ba07ba6ba51",
   "metadata": {},
   "source": [
    "### Preparing target 2 gene mapping\n",
    "\n",
    "t2g build using bioconductor, as seen in sleuth manual and tutorials. For reference:\n",
    "\n",
    "```\n",
    "library(biomaRt)\n",
    "\n",
    "#for mm9 -- use ensembl version 54 / mmusculus genome NCBI37\n",
    "\n",
    "mm9mart = useEnsembl(biomart=\"ensembl\", version=54, dataset=\"mmusculus_gene_ensembl\")\n",
    "\n",
    "bioMartTargets <- getBM(attributes = c(\"ensembl_transcript_id\", \"ensembl_gene_id\", \"mgi_id\"), mart = mm9mart)\n",
    "\n",
    "```"
   ]
  },
  {
   "cell_type": "code",
   "execution_count": 10,
   "id": "73080bc7-130b-4070-abf4-0fc1c9e4db15",
   "metadata": {},
   "outputs": [],
   "source": [
    "bioMartTargets <- read.csv(\"/project/fudenber_735/genomes/mm9/ensembl/ensembl_relational_downloads/biomaRt_mm9_t2g.csv\")"
   ]
  },
  {
   "cell_type": "code",
   "execution_count": 11,
   "id": "91fca804-1338-406c-b8ee-c364523c22c4",
   "metadata": {},
   "outputs": [],
   "source": [
    "t2g = bioMartTargets[c(\"ensembl_transcript_id\", \"ensembl_gene_id\", \"mgi_symbol\")]"
   ]
  },
  {
   "cell_type": "code",
   "execution_count": 12,
   "id": "3ed3c869-19fc-4477-87a3-91de936ba05e",
   "metadata": {},
   "outputs": [
    {
     "data": {
      "text/html": [
       "<table class=\"dataframe\">\n",
       "<caption>A data.frame: 5 × 3</caption>\n",
       "<thead>\n",
       "\t<tr><th></th><th scope=col>ensembl_transcript_id</th><th scope=col>ensembl_gene_id</th><th scope=col>mgi_symbol</th></tr>\n",
       "\t<tr><th></th><th scope=col>&lt;fct&gt;</th><th scope=col>&lt;fct&gt;</th><th scope=col>&lt;fct&gt;</th></tr>\n",
       "</thead>\n",
       "<tbody>\n",
       "\t<tr><th scope=row>1</th><td>ENSMUST00000115962</td><td>ENSMUSG00000079832</td><td></td></tr>\n",
       "\t<tr><th scope=row>2</th><td>ENSMUST00000099422</td><td>ENSMUSG00000074844</td><td></td></tr>\n",
       "\t<tr><th scope=row>3</th><td>ENSMUST00000115951</td><td>ENSMUSG00000079818</td><td></td></tr>\n",
       "\t<tr><th scope=row>4</th><td>ENSMUST00000115940</td><td>ENSMUSG00000079806</td><td></td></tr>\n",
       "\t<tr><th scope=row>5</th><td>ENSMUST00000096847</td><td>ENSMUSG00000079797</td><td></td></tr>\n",
       "</tbody>\n",
       "</table>\n"
      ],
      "text/latex": [
       "A data.frame: 5 × 3\n",
       "\\begin{tabular}{r|lll}\n",
       "  & ensembl\\_transcript\\_id & ensembl\\_gene\\_id & mgi\\_symbol\\\\\n",
       "  & <fct> & <fct> & <fct>\\\\\n",
       "\\hline\n",
       "\t1 & ENSMUST00000115962 & ENSMUSG00000079832 & \\\\\n",
       "\t2 & ENSMUST00000099422 & ENSMUSG00000074844 & \\\\\n",
       "\t3 & ENSMUST00000115951 & ENSMUSG00000079818 & \\\\\n",
       "\t4 & ENSMUST00000115940 & ENSMUSG00000079806 & \\\\\n",
       "\t5 & ENSMUST00000096847 & ENSMUSG00000079797 & \\\\\n",
       "\\end{tabular}\n"
      ],
      "text/markdown": [
       "\n",
       "A data.frame: 5 × 3\n",
       "\n",
       "| <!--/--> | ensembl_transcript_id &lt;fct&gt; | ensembl_gene_id &lt;fct&gt; | mgi_symbol &lt;fct&gt; |\n",
       "|---|---|---|---|\n",
       "| 1 | ENSMUST00000115962 | ENSMUSG00000079832 | <!----> |\n",
       "| 2 | ENSMUST00000099422 | ENSMUSG00000074844 | <!----> |\n",
       "| 3 | ENSMUST00000115951 | ENSMUSG00000079818 | <!----> |\n",
       "| 4 | ENSMUST00000115940 | ENSMUSG00000079806 | <!----> |\n",
       "| 5 | ENSMUST00000096847 | ENSMUSG00000079797 | <!----> |\n",
       "\n"
      ],
      "text/plain": [
       "  ensembl_transcript_id ensembl_gene_id    mgi_symbol\n",
       "1 ENSMUST00000115962    ENSMUSG00000079832           \n",
       "2 ENSMUST00000099422    ENSMUSG00000074844           \n",
       "3 ENSMUST00000115951    ENSMUSG00000079818           \n",
       "4 ENSMUST00000115940    ENSMUSG00000079806           \n",
       "5 ENSMUST00000096847    ENSMUSG00000079797           "
      ]
     },
     "metadata": {},
     "output_type": "display_data"
    },
    {
     "data": {
      "text/html": [
       "<style>\n",
       ".list-inline {list-style: none; margin:0; padding: 0}\n",
       ".list-inline>li {display: inline-block}\n",
       ".list-inline>li:not(:last-child)::after {content: \"\\00b7\"; padding: 0 .5ex}\n",
       "</style>\n",
       "<ol class=list-inline><li>50179</li><li>3</li></ol>\n"
      ],
      "text/latex": [
       "\\begin{enumerate*}\n",
       "\\item 50179\n",
       "\\item 3\n",
       "\\end{enumerate*}\n"
      ],
      "text/markdown": [
       "1. 50179\n",
       "2. 3\n",
       "\n",
       "\n"
      ],
      "text/plain": [
       "[1] 50179     3"
      ]
     },
     "metadata": {},
     "output_type": "display_data"
    }
   ],
   "source": [
    "head(t2g, 5)\n",
    "dim(t2g)"
   ]
  },
  {
   "cell_type": "code",
   "execution_count": 13,
   "id": "a05315f0-d8d3-48b8-9f0f-1915859a6dd4",
   "metadata": {},
   "outputs": [
    {
     "data": {
      "text/html": [
       "<style>\n",
       ".list-inline {list-style: none; margin:0; padding: 0}\n",
       ".list-inline>li {display: inline-block}\n",
       ".list-inline>li:not(:last-child)::after {content: \"\\00b7\"; padding: 0 .5ex}\n",
       "</style>\n",
       "<ol class=list-inline><li>38921</li><li>3</li></ol>\n"
      ],
      "text/latex": [
       "\\begin{enumerate*}\n",
       "\\item 38921\n",
       "\\item 3\n",
       "\\end{enumerate*}\n"
      ],
      "text/markdown": [
       "1. 38921\n",
       "2. 3\n",
       "\n",
       "\n"
      ],
      "text/plain": [
       "[1] 38921     3"
      ]
     },
     "metadata": {},
     "output_type": "display_data"
    }
   ],
   "source": [
    "dim(t2g[which(t2g$mgi_symbol != \"\"),])"
   ]
  },
  {
   "cell_type": "markdown",
   "id": "e421431b-a03a-435e-86d1-18226d11d10b",
   "metadata": {},
   "source": [
    "Will try first without removing blank mgi --> not sure what type these are so it's possible that the aggregated genes we do get won't even be affected / might be good to know if we end up with a bunch of genes whose mgi symbol don't show up in this database. Then, might have to try a different mart/different download"
   ]
  },
  {
   "cell_type": "code",
   "execution_count": 14,
   "id": "fbea8e6d-a5c5-455b-8d38-d607f6aa5b2a",
   "metadata": {},
   "outputs": [],
   "source": [
    "t2g <- dplyr::rename(t2g, target_id = ensembl_transcript_id,\n",
    "  ens_gene = ensembl_gene_id, ext_gene = mgi_symbol) "
   ]
  },
  {
   "cell_type": "code",
   "execution_count": 15,
   "id": "c367ab3b-58f0-4551-9f2f-e3864191ac33",
   "metadata": {},
   "outputs": [
    {
     "data": {
      "text/html": [
       "<table class=\"dataframe\">\n",
       "<caption>A data.frame: 2 × 3</caption>\n",
       "<thead>\n",
       "\t<tr><th></th><th scope=col>target_id</th><th scope=col>ens_gene</th><th scope=col>ext_gene</th></tr>\n",
       "\t<tr><th></th><th scope=col>&lt;fct&gt;</th><th scope=col>&lt;fct&gt;</th><th scope=col>&lt;fct&gt;</th></tr>\n",
       "</thead>\n",
       "<tbody>\n",
       "\t<tr><th scope=row>49</th><td>ENSMUST00000103741</td><td>ENSMUSG00000076929</td><td>Igl-V1</td></tr>\n",
       "\t<tr><th scope=row>50</th><td>ENSMUST00000103741</td><td>ENSMUSG00000076929</td><td>Igl-C1</td></tr>\n",
       "</tbody>\n",
       "</table>\n"
      ],
      "text/latex": [
       "A data.frame: 2 × 3\n",
       "\\begin{tabular}{r|lll}\n",
       "  & target\\_id & ens\\_gene & ext\\_gene\\\\\n",
       "  & <fct> & <fct> & <fct>\\\\\n",
       "\\hline\n",
       "\t49 & ENSMUST00000103741 & ENSMUSG00000076929 & Igl-V1\\\\\n",
       "\t50 & ENSMUST00000103741 & ENSMUSG00000076929 & Igl-C1\\\\\n",
       "\\end{tabular}\n"
      ],
      "text/markdown": [
       "\n",
       "A data.frame: 2 × 3\n",
       "\n",
       "| <!--/--> | target_id &lt;fct&gt; | ens_gene &lt;fct&gt; | ext_gene &lt;fct&gt; |\n",
       "|---|---|---|---|\n",
       "| 49 | ENSMUST00000103741 | ENSMUSG00000076929 | Igl-V1 |\n",
       "| 50 | ENSMUST00000103741 | ENSMUSG00000076929 | Igl-C1 |\n",
       "\n"
      ],
      "text/plain": [
       "   target_id          ens_gene           ext_gene\n",
       "49 ENSMUST00000103741 ENSMUSG00000076929 Igl-V1  \n",
       "50 ENSMUST00000103741 ENSMUSG00000076929 Igl-C1  "
      ]
     },
     "metadata": {},
     "output_type": "display_data"
    }
   ],
   "source": [
    "t2g[which(t2g$target_id == \"ENSMUST00000103741\"),]"
   ]
  },
  {
   "cell_type": "code",
   "execution_count": 16,
   "id": "49af7b3c-a0f9-4d97-864e-fbf4b0a123cf",
   "metadata": {},
   "outputs": [
    {
     "data": {
      "text/html": [
       "<table class=\"dataframe\">\n",
       "<caption>A data.frame: 10 × 3</caption>\n",
       "<thead>\n",
       "\t<tr><th></th><th scope=col>target_id</th><th scope=col>ens_gene</th><th scope=col>ext_gene</th></tr>\n",
       "\t<tr><th></th><th scope=col>&lt;fct&gt;</th><th scope=col>&lt;fct&gt;</th><th scope=col>&lt;fct&gt;</th></tr>\n",
       "</thead>\n",
       "<tbody>\n",
       "\t<tr><th scope=row>50</th><td>ENSMUST00000103741</td><td>ENSMUSG00000076929</td><td>Igl-C1    </td></tr>\n",
       "\t<tr><th scope=row>59</th><td>ENSMUST00000103749</td><td>ENSMUSG00000076937</td><td>Igl-C2    </td></tr>\n",
       "\t<tr><th scope=row>683</th><td>ENSMUST00000103574</td><td>ENSMUSG00000076765</td><td>EG667457  </td></tr>\n",
       "\t<tr><th scope=row>684</th><td>ENSMUST00000103574</td><td>ENSMUSG00000076765</td><td>EG673730  </td></tr>\n",
       "\t<tr><th scope=row>695</th><td>ENSMUST00000103583</td><td>ENSMUSG00000076773</td><td>Tcra-V22.4</td></tr>\n",
       "\t<tr><th scope=row>700</th><td>ENSMUST00000103587</td><td>ENSMUSG00000076777</td><td>100043218 </td></tr>\n",
       "\t<tr><th scope=row>708</th><td>ENSMUST00000103593</td><td>ENSMUSG00000076783</td><td>EG667677  </td></tr>\n",
       "\t<tr><th scope=row>713</th><td>ENSMUST00000103597</td><td>ENSMUSG00000076787</td><td>EG667553  </td></tr>\n",
       "\t<tr><th scope=row>732</th><td>ENSMUST00000110632</td><td>ENSMUSG00000079098</td><td>100043218 </td></tr>\n",
       "\t<tr><th scope=row>740</th><td>ENSMUST00000103619</td><td>ENSMUSG00000076808</td><td>EG667677  </td></tr>\n",
       "</tbody>\n",
       "</table>\n"
      ],
      "text/latex": [
       "A data.frame: 10 × 3\n",
       "\\begin{tabular}{r|lll}\n",
       "  & target\\_id & ens\\_gene & ext\\_gene\\\\\n",
       "  & <fct> & <fct> & <fct>\\\\\n",
       "\\hline\n",
       "\t50 & ENSMUST00000103741 & ENSMUSG00000076929 & Igl-C1    \\\\\n",
       "\t59 & ENSMUST00000103749 & ENSMUSG00000076937 & Igl-C2    \\\\\n",
       "\t683 & ENSMUST00000103574 & ENSMUSG00000076765 & EG667457  \\\\\n",
       "\t684 & ENSMUST00000103574 & ENSMUSG00000076765 & EG673730  \\\\\n",
       "\t695 & ENSMUST00000103583 & ENSMUSG00000076773 & Tcra-V22.4\\\\\n",
       "\t700 & ENSMUST00000103587 & ENSMUSG00000076777 & 100043218 \\\\\n",
       "\t708 & ENSMUST00000103593 & ENSMUSG00000076783 & EG667677  \\\\\n",
       "\t713 & ENSMUST00000103597 & ENSMUSG00000076787 & EG667553  \\\\\n",
       "\t732 & ENSMUST00000110632 & ENSMUSG00000079098 & 100043218 \\\\\n",
       "\t740 & ENSMUST00000103619 & ENSMUSG00000076808 & EG667677  \\\\\n",
       "\\end{tabular}\n"
      ],
      "text/markdown": [
       "\n",
       "A data.frame: 10 × 3\n",
       "\n",
       "| <!--/--> | target_id &lt;fct&gt; | ens_gene &lt;fct&gt; | ext_gene &lt;fct&gt; |\n",
       "|---|---|---|---|\n",
       "| 50 | ENSMUST00000103741 | ENSMUSG00000076929 | Igl-C1     |\n",
       "| 59 | ENSMUST00000103749 | ENSMUSG00000076937 | Igl-C2     |\n",
       "| 683 | ENSMUST00000103574 | ENSMUSG00000076765 | EG667457   |\n",
       "| 684 | ENSMUST00000103574 | ENSMUSG00000076765 | EG673730   |\n",
       "| 695 | ENSMUST00000103583 | ENSMUSG00000076773 | Tcra-V22.4 |\n",
       "| 700 | ENSMUST00000103587 | ENSMUSG00000076777 | 100043218  |\n",
       "| 708 | ENSMUST00000103593 | ENSMUSG00000076783 | EG667677   |\n",
       "| 713 | ENSMUST00000103597 | ENSMUSG00000076787 | EG667553   |\n",
       "| 732 | ENSMUST00000110632 | ENSMUSG00000079098 | 100043218  |\n",
       "| 740 | ENSMUST00000103619 | ENSMUSG00000076808 | EG667677   |\n",
       "\n"
      ],
      "text/plain": [
       "    target_id          ens_gene           ext_gene  \n",
       "50  ENSMUST00000103741 ENSMUSG00000076929 Igl-C1    \n",
       "59  ENSMUST00000103749 ENSMUSG00000076937 Igl-C2    \n",
       "683 ENSMUST00000103574 ENSMUSG00000076765 EG667457  \n",
       "684 ENSMUST00000103574 ENSMUSG00000076765 EG673730  \n",
       "695 ENSMUST00000103583 ENSMUSG00000076773 Tcra-V22.4\n",
       "700 ENSMUST00000103587 ENSMUSG00000076777 100043218 \n",
       "708 ENSMUST00000103593 ENSMUSG00000076783 EG667677  \n",
       "713 ENSMUST00000103597 ENSMUSG00000076787 EG667553  \n",
       "732 ENSMUST00000110632 ENSMUSG00000079098 100043218 \n",
       "740 ENSMUST00000103619 ENSMUSG00000076808 EG667677  "
      ]
     },
     "metadata": {},
     "output_type": "display_data"
    }
   ],
   "source": [
    "head(t2g[duplicated(t2g$target_id),], 10)"
   ]
  },
  {
   "cell_type": "code",
   "execution_count": 17,
   "id": "34682a64-28c5-456b-b839-584349598a37",
   "metadata": {},
   "outputs": [
    {
     "data": {
      "text/html": [
       "<table class=\"dataframe\">\n",
       "<caption>A data.frame: 1 × 3</caption>\n",
       "<thead>\n",
       "\t<tr><th></th><th scope=col>target_id</th><th scope=col>ens_gene</th><th scope=col>ext_gene</th></tr>\n",
       "\t<tr><th></th><th scope=col>&lt;fct&gt;</th><th scope=col>&lt;fct&gt;</th><th scope=col>&lt;fct&gt;</th></tr>\n",
       "</thead>\n",
       "<tbody>\n",
       "\t<tr><th scope=row>49</th><td>ENSMUST00000103741</td><td>ENSMUSG00000076929</td><td>Igl-V1</td></tr>\n",
       "</tbody>\n",
       "</table>\n"
      ],
      "text/latex": [
       "A data.frame: 1 × 3\n",
       "\\begin{tabular}{r|lll}\n",
       "  & target\\_id & ens\\_gene & ext\\_gene\\\\\n",
       "  & <fct> & <fct> & <fct>\\\\\n",
       "\\hline\n",
       "\t49 & ENSMUST00000103741 & ENSMUSG00000076929 & Igl-V1\\\\\n",
       "\\end{tabular}\n"
      ],
      "text/markdown": [
       "\n",
       "A data.frame: 1 × 3\n",
       "\n",
       "| <!--/--> | target_id &lt;fct&gt; | ens_gene &lt;fct&gt; | ext_gene &lt;fct&gt; |\n",
       "|---|---|---|---|\n",
       "| 49 | ENSMUST00000103741 | ENSMUSG00000076929 | Igl-V1 |\n",
       "\n"
      ],
      "text/plain": [
       "   target_id          ens_gene           ext_gene\n",
       "49 ENSMUST00000103741 ENSMUSG00000076929 Igl-V1  "
      ]
     },
     "metadata": {},
     "output_type": "display_data"
    }
   ],
   "source": [
    "# remove duplicated elements\n",
    "t2g <- t2g[!duplicated(t2g$target_id),]\n",
    "\n",
    "# check that one of the duplicates is still in there\n",
    "t2g[which(t2g$target_id == \"ENSMUST00000103741\"),]"
   ]
  },
  {
   "cell_type": "code",
   "execution_count": 18,
   "id": "ac11f377-4bb7-4f77-9f00-d0216551d71f",
   "metadata": {},
   "outputs": [
    {
     "data": {
      "text/html": [
       "FALSE"
      ],
      "text/latex": [
       "FALSE"
      ],
      "text/markdown": [
       "FALSE"
      ],
      "text/plain": [
       "[1] FALSE"
      ]
     },
     "metadata": {},
     "output_type": "display_data"
    }
   ],
   "source": [
    "# making sure that duplicate entries are now gone\n",
    "\n",
    "#head(t2g[duplicated(t2g$target_id),], 10)\n",
    "any(duplicated(t2g$target_id))"
   ]
  },
  {
   "cell_type": "code",
   "execution_count": 19,
   "id": "c0777b62-37e8-4858-bc32-582956a16e60",
   "metadata": {},
   "outputs": [
    {
     "data": {
      "text/html": [
       "49039"
      ],
      "text/latex": [
       "49039"
      ],
      "text/markdown": [
       "49039"
      ],
      "text/plain": [
       "[1] 49039"
      ]
     },
     "metadata": {},
     "output_type": "display_data"
    }
   ],
   "source": [
    "length(unique(t2g$target_id))"
   ]
  },
  {
   "cell_type": "code",
   "execution_count": 20,
   "id": "c51890c6-6012-488d-a446-7cfab66f9993",
   "metadata": {},
   "outputs": [
    {
     "data": {
      "text/html": [
       "<table class=\"dataframe\">\n",
       "<caption>A data.frame: 10 × 3</caption>\n",
       "<thead>\n",
       "\t<tr><th></th><th scope=col>target_id</th><th scope=col>ens_gene</th><th scope=col>ext_gene</th></tr>\n",
       "\t<tr><th></th><th scope=col>&lt;fct&gt;</th><th scope=col>&lt;fct&gt;</th><th scope=col>&lt;fct&gt;</th></tr>\n",
       "</thead>\n",
       "<tbody>\n",
       "\t<tr><th scope=row>1</th><td>ENSMUST00000115962</td><td>ENSMUSG00000079832</td><td></td></tr>\n",
       "\t<tr><th scope=row>2</th><td>ENSMUST00000099422</td><td>ENSMUSG00000074844</td><td></td></tr>\n",
       "\t<tr><th scope=row>3</th><td>ENSMUST00000115951</td><td>ENSMUSG00000079818</td><td></td></tr>\n",
       "\t<tr><th scope=row>4</th><td>ENSMUST00000115940</td><td>ENSMUSG00000079806</td><td></td></tr>\n",
       "\t<tr><th scope=row>5</th><td>ENSMUST00000096847</td><td>ENSMUSG00000079797</td><td></td></tr>\n",
       "\t<tr><th scope=row>6</th><td>ENSMUST00000115916</td><td>ENSMUSG00000079777</td><td></td></tr>\n",
       "\t<tr><th scope=row>7</th><td>ENSMUST00000115902</td><td>ENSMUSG00000079764</td><td></td></tr>\n",
       "\t<tr><th scope=row>8</th><td>ENSMUST00000115901</td><td>ENSMUSG00000079763</td><td></td></tr>\n",
       "\t<tr><th scope=row>9</th><td>ENSMUST00000115890</td><td>ENSMUSG00000079756</td><td></td></tr>\n",
       "\t<tr><th scope=row>10</th><td>ENSMUST00000115495</td><td>ENSMUSG00000079682</td><td></td></tr>\n",
       "</tbody>\n",
       "</table>\n"
      ],
      "text/latex": [
       "A data.frame: 10 × 3\n",
       "\\begin{tabular}{r|lll}\n",
       "  & target\\_id & ens\\_gene & ext\\_gene\\\\\n",
       "  & <fct> & <fct> & <fct>\\\\\n",
       "\\hline\n",
       "\t1 & ENSMUST00000115962 & ENSMUSG00000079832 & \\\\\n",
       "\t2 & ENSMUST00000099422 & ENSMUSG00000074844 & \\\\\n",
       "\t3 & ENSMUST00000115951 & ENSMUSG00000079818 & \\\\\n",
       "\t4 & ENSMUST00000115940 & ENSMUSG00000079806 & \\\\\n",
       "\t5 & ENSMUST00000096847 & ENSMUSG00000079797 & \\\\\n",
       "\t6 & ENSMUST00000115916 & ENSMUSG00000079777 & \\\\\n",
       "\t7 & ENSMUST00000115902 & ENSMUSG00000079764 & \\\\\n",
       "\t8 & ENSMUST00000115901 & ENSMUSG00000079763 & \\\\\n",
       "\t9 & ENSMUST00000115890 & ENSMUSG00000079756 & \\\\\n",
       "\t10 & ENSMUST00000115495 & ENSMUSG00000079682 & \\\\\n",
       "\\end{tabular}\n"
      ],
      "text/markdown": [
       "\n",
       "A data.frame: 10 × 3\n",
       "\n",
       "| <!--/--> | target_id &lt;fct&gt; | ens_gene &lt;fct&gt; | ext_gene &lt;fct&gt; |\n",
       "|---|---|---|---|\n",
       "| 1 | ENSMUST00000115962 | ENSMUSG00000079832 | <!----> |\n",
       "| 2 | ENSMUST00000099422 | ENSMUSG00000074844 | <!----> |\n",
       "| 3 | ENSMUST00000115951 | ENSMUSG00000079818 | <!----> |\n",
       "| 4 | ENSMUST00000115940 | ENSMUSG00000079806 | <!----> |\n",
       "| 5 | ENSMUST00000096847 | ENSMUSG00000079797 | <!----> |\n",
       "| 6 | ENSMUST00000115916 | ENSMUSG00000079777 | <!----> |\n",
       "| 7 | ENSMUST00000115902 | ENSMUSG00000079764 | <!----> |\n",
       "| 8 | ENSMUST00000115901 | ENSMUSG00000079763 | <!----> |\n",
       "| 9 | ENSMUST00000115890 | ENSMUSG00000079756 | <!----> |\n",
       "| 10 | ENSMUST00000115495 | ENSMUSG00000079682 | <!----> |\n",
       "\n"
      ],
      "text/plain": [
       "   target_id          ens_gene           ext_gene\n",
       "1  ENSMUST00000115962 ENSMUSG00000079832         \n",
       "2  ENSMUST00000099422 ENSMUSG00000074844         \n",
       "3  ENSMUST00000115951 ENSMUSG00000079818         \n",
       "4  ENSMUST00000115940 ENSMUSG00000079806         \n",
       "5  ENSMUST00000096847 ENSMUSG00000079797         \n",
       "6  ENSMUST00000115916 ENSMUSG00000079777         \n",
       "7  ENSMUST00000115902 ENSMUSG00000079764         \n",
       "8  ENSMUST00000115901 ENSMUSG00000079763         \n",
       "9  ENSMUST00000115890 ENSMUSG00000079756         \n",
       "10 ENSMUST00000115495 ENSMUSG00000079682         "
      ]
     },
     "metadata": {},
     "output_type": "display_data"
    }
   ],
   "source": [
    "head(t2g, 10)"
   ]
  },
  {
   "cell_type": "code",
   "execution_count": null,
   "id": "29e1a625-1666-4dd8-a1e0-7e2f83efa0a5",
   "metadata": {},
   "outputs": [],
   "source": []
  },
  {
   "cell_type": "markdown",
   "id": "b39f3176-22fa-4d86-96f0-064b934c0fff",
   "metadata": {},
   "source": [
    "# Proceeding with sleuth model fitting\n",
    "\n",
    "performing a quick LRT and then WT for each of the conditions"
   ]
  },
  {
   "cell_type": "markdown",
   "id": "5f92a06c-5851-4281-930b-f0db9b653a86",
   "metadata": {},
   "source": [
    "# Gene-level analysis: model transcripts, then aggregate pvals"
   ]
  },
  {
   "cell_type": "code",
   "execution_count": 21,
   "id": "290e5cc2-84d8-4c76-9007-f842d26716d3",
   "metadata": {},
   "outputs": [
    {
     "name": "stderr",
     "output_type": "stream",
     "text": [
      "reading in kallisto results\n",
      "\n",
      "dropping unused factor levels\n",
      "\n",
      ".\n",
      ".\n",
      ".\n",
      ".\n",
      ".\n",
      ".\n",
      ".\n",
      ".\n",
      ".\n",
      ".\n",
      ".\n",
      ".\n",
      ".\n",
      ".\n",
      ".\n",
      ".\n",
      ".\n",
      ".\n",
      ".\n",
      ".\n",
      ".\n",
      ".\n",
      ".\n",
      ".\n",
      "\n",
      "\n",
      "normalizing est_counts\n",
      "\n",
      "48055 targets passed the filter\n",
      "\n",
      "normalizing tpm\n",
      "\n",
      "merging in metadata\n",
      "\n",
      "summarizing bootstraps\n",
      "\n",
      ".\n",
      ".\n",
      ".\n",
      ".\n",
      ".\n",
      ".\n",
      ".\n",
      ".\n",
      ".\n",
      ".\n",
      ".\n",
      ".\n",
      ".\n",
      ".\n",
      ".\n",
      ".\n",
      ".\n",
      ".\n",
      ".\n",
      ".\n",
      ".\n",
      ".\n",
      ".\n",
      ".\n",
      "\n",
      "\n"
     ]
    }
   ],
   "source": [
    "so_gene <- sleuth_prep(s2c, target_mapping = t2g, aggregation_column = 'ens_gene', extra_bootstrap_summary = TRUE, num_cores=1)"
   ]
  },
  {
   "cell_type": "code",
   "execution_count": 22,
   "id": "2bf27dd3-63e0-40f4-8fae-c364989935e6",
   "metadata": {},
   "outputs": [
    {
     "name": "stderr",
     "output_type": "stream",
     "text": [
      "fitting measurement error models\n",
      "\n",
      "shrinkage estimation\n",
      "\n",
      "1 NA values were found during variance shrinkage estimation due to mean observation values outside of the range used for the LOESS fit.\n",
      "The LOESS fit will be repeated using exact computation of the fitted surface to extrapolate the missing values.\n",
      "These are the target ids with NA values: ENSMUST00000049324\n",
      "\n",
      "computing variance of betas\n",
      "\n"
     ]
    }
   ],
   "source": [
    "so_gene <- sleuth_fit(so_gene, ~condition, 'full')"
   ]
  },
  {
   "cell_type": "code",
   "execution_count": 23,
   "id": "1bb21378-9b7d-446b-9450-388e742f2b94",
   "metadata": {},
   "outputs": [
    {
     "name": "stderr",
     "output_type": "stream",
     "text": [
      "fitting measurement error models\n",
      "\n",
      "shrinkage estimation\n",
      "\n",
      "computing variance of betas\n",
      "\n"
     ]
    }
   ],
   "source": [
    "so_gene <- sleuth_fit(so_gene, ~1, 'reduced')"
   ]
  },
  {
   "cell_type": "code",
   "execution_count": 33,
   "id": "3b46d8f2-c070-496b-ac2d-de0b85111d65",
   "metadata": {},
   "outputs": [
    {
     "data": {
      "image/png": "[encoded data removed]",
      "text/plain": [
       "plot without title"
      ]
     },
     "metadata": {
      "image/png": {
       "height": 420,
       "width": 420
      }
     },
     "output_type": "display_data"
    }
   ],
   "source": [
    "plot_pca(so_gene, color_by = s2c$condition, width=500, height=100)"
   ]
  },
  {
   "cell_type": "code",
   "execution_count": 20,
   "id": "225c7f61-ae26-4873-87e6-6cde5f7554c5",
   "metadata": {},
   "outputs": [
    {
     "ename": "ERROR",
     "evalue": "Error in is(obj, \"sleuth\"): object 'so_gene' not found\n",
     "output_type": "error",
     "traceback": [
      "Error in is(obj, \"sleuth\"): object 'so_gene' not found\nTraceback:\n",
      "1. plot_group_density(so_gene, use_filtered = TRUE, units = \"est_counts\", \n .     trans = \"log\", grouping = s2c$condition, offset = 1)",
      "2. sleuth:::check_quant_mode(obj, units)",
      "3. stopifnot(is(obj, \"sleuth\"))",
      "4. is(obj, \"sleuth\")"
     ]
    }
   ],
   "source": [
    "plot_group_density(so_gene, use_filtered = TRUE, units = \"est_counts\",trans = \"log\", grouping = s2c$condition, offset = 1) "
   ]
  },
  {
   "cell_type": "code",
   "execution_count": 39,
   "id": "63d0545d-e3c0-4073-9f87-29d3e0a05c00",
   "metadata": {},
   "outputs": [],
   "source": [
    "ppv <- plot_pc_variance(so_gene)\n",
    "PCpc <- ppv$data$var\n",
    "names(PCpc) <- paste0(\"PC\", seq(1:length(PCpc)))"
   ]
  },
  {
   "cell_type": "code",
   "execution_count": 40,
   "id": "a1cbbb68-ccab-4f32-bf7c-4715a9d953a4",
   "metadata": {},
   "outputs": [
    {
     "data": {
      "image/png": "[encoded data removed]",
      "text/plain": [
       "plot without title"
      ]
     },
     "metadata": {
      "image/png": {
       "height": 420,
       "width": 420
      }
     },
     "output_type": "display_data"
    }
   ],
   "source": [
    "show(ppv)"
   ]
  },
  {
   "cell_type": "markdown",
   "id": "d57a76d1-aa40-48f8-bee7-40b8148dc254",
   "metadata": {},
   "source": [
    "## Comparison: TPM from sleuth to FPKM from elphege\n",
    "\n",
    "--> exported and moved to python for ~ ease ~. See notebook: `compare-sleuth-results.ipynb` instead"
   ]
  },
  {
   "cell_type": "code",
   "execution_count": 24,
   "id": "7d55d68f-4fba-4e43-bb10-d63ea7426917",
   "metadata": {},
   "outputs": [
    {
     "name": "stderr",
     "output_type": "stream",
     "text": [
      "Warning message:\n",
      "\"`select_()` was deprecated in dplyr 0.7.0.\n",
      "Please use `select()` instead.\n",
      "\u001b[90mThis warning is displayed once every 8 hours.\u001b[39m\n",
      "\u001b[90mCall `lifecycle::last_lifecycle_warnings()` to see where this warning was generated.\u001b[39m\"\n"
     ]
    }
   ],
   "source": [
    "sleuth_matrix <- sleuth_to_matrix(so_gene, 'obs_norm', 'tpm')"
   ]
  },
  {
   "cell_type": "code",
   "execution_count": 25,
   "id": "e494cc1f-e4ed-4047-9d11-61d88142cb30",
   "metadata": {},
   "outputs": [],
   "source": [
    "# sleuth_matrix"
   ]
  },
  {
   "cell_type": "code",
   "execution_count": 26,
   "id": "1c913c05-9a4a-4f07-80bc-9edf5b0403d4",
   "metadata": {},
   "outputs": [],
   "source": [
    "# cols = s2c[which(levels(s2c$condition)[1] == s2c$condition), ]$sample\n",
    "\n",
    "# #select.me <- c(cols[1], cols[2], cols[3])\n",
    "\n",
    "# #sleuth_matrix[ , select.me]\n",
    "\n",
    "# # head(sleuth_matrix[ , names(sleuth_matrix %in% select.me)], 4)\n",
    "\n",
    "# dplyr::select(sleuth_matrix, c(cols[1], cols[2], cols[3]))\n",
    "\n",
    "# # sleuth_matrix <- sleuth_matrix %>% \n",
    "# #   mutate(avgTPM = mean(c_across(cols[1], cols[2], cols[3]))) %>%\n",
    "# #   head()"
   ]
  },
  {
   "cell_type": "code",
   "execution_count": 27,
   "id": "8dcbd791-4ef1-4ee9-bb36-c502655ae443",
   "metadata": {},
   "outputs": [],
   "source": [
    "# gene_and_symbol<-as.data.frame(cbind(t2g$ens_gene,t2g$ext_gene))\n",
    "# colnames(gene_and_symbol)<-c(\"target_id\",\"ext_gene\")\n",
    "# gene_and_symbol<-dplyr::distinct(gene_and_symbol,target_id,.keep_all=TRUE)\n",
    "\n",
    "# sleuth_matrix_genes_level<-left_join(sleuth_matrix,gene_and_symbol)"
   ]
  },
  {
   "cell_type": "code",
   "execution_count": 60,
   "id": "ecab1c94-6c1c-4d2f-afe3-ffc63d4af24e",
   "metadata": {},
   "outputs": [],
   "source": [
    "write.csv(sleuth_matrix, \"/project/fudenber_735/GEO/nora_2017_rna-seq_SRP106652/supplementary/sleuth_matrix.csv\")"
   ]
  },
  {
   "cell_type": "code",
   "execution_count": 61,
   "id": "838eb612-4431-4d7c-a73e-9650dbc7d197",
   "metadata": {},
   "outputs": [],
   "source": [
    "write.csv(s2c, \"/project/fudenber_735/GEO/nora_2017_rna-seq_SRP106652/supplementary/s2c.csv\")"
   ]
  },
  {
   "cell_type": "markdown",
   "id": "655b3c4a-12c1-44dd-bcc5-8ae7bcf6183b",
   "metadata": {},
   "source": [
    "## Gene-level analysis: p-value Aggregation method\n",
    "\n",
    "The recommended aggregation method is to do use pval aggregation. However, this method does not return all the columns needed to asses DEGs (specifically, beta for wald test)\n",
    "https://www.rdocumentation.org/packages/sleuth/versions/0.30.0/topics/sleuth_results"
   ]
  },
  {
   "cell_type": "code",
   "execution_count": 41,
   "id": "9fe3cefd-c82a-4bbe-b864-69028511f3fc",
   "metadata": {},
   "outputs": [],
   "source": [
    "so_gene <- sleuth_lrt(so_gene, 'reduced', 'full')\n",
    "lrt_results <- sleuth_results(so_gene, 'reduced:full', 'lrt', pval_aggregate=TRUE, show_all = TRUE)"
   ]
  },
  {
   "cell_type": "code",
   "execution_count": 42,
   "id": "39f7961e-0ab4-48e9-b405-c6a54acf3703",
   "metadata": {},
   "outputs": [
    {
     "data": {
      "text/html": [
       "<table class=\"dataframe\">\n",
       "<caption>A data.frame: 5 × 6</caption>\n",
       "<thead>\n",
       "\t<tr><th></th><th scope=col>target_id</th><th scope=col>ext_gene</th><th scope=col>num_aggregated_transcripts</th><th scope=col>sum_mean_obs_counts</th><th scope=col>pval</th><th scope=col>qval</th></tr>\n",
       "\t<tr><th></th><th scope=col>&lt;chr&gt;</th><th scope=col>&lt;chr&gt;</th><th scope=col>&lt;int&gt;</th><th scope=col>&lt;dbl&gt;</th><th scope=col>&lt;dbl&gt;</th><th scope=col>&lt;dbl&gt;</th></tr>\n",
       "</thead>\n",
       "<tbody>\n",
       "\t<tr><th scope=row>1</th><td>ENSMUSG00000028013</td><td>Ppa2      </td><td>3</td><td>12.841514</td><td>3.936264e-19</td><td>6.522784e-15</td></tr>\n",
       "\t<tr><th scope=row>2</th><td>ENSMUSG00000043073</td><td>EG625530  </td><td>2</td><td>11.312923</td><td>9.259837e-17</td><td>7.672238e-13</td></tr>\n",
       "\t<tr><th scope=row>3</th><td>ENSMUSG00000023036</td><td>Pcdhga11  </td><td>9</td><td>40.535291</td><td>3.548994e-16</td><td>1.960346e-12</td></tr>\n",
       "\t<tr><th scope=row>4</th><td>ENSMUSG00000048583</td><td>Igf2      </td><td>5</td><td>24.022722</td><td>7.798495e-14</td><td>3.230721e-10</td></tr>\n",
       "\t<tr><th scope=row>5</th><td>ENSMUSG00000020392</td><td>Cdkn2aipnl</td><td>1</td><td> 7.556659</td><td>1.079232e-13</td><td>3.576791e-10</td></tr>\n",
       "</tbody>\n",
       "</table>\n"
      ],
      "text/latex": [
       "A data.frame: 5 × 6\n",
       "\\begin{tabular}{r|llllll}\n",
       "  & target\\_id & ext\\_gene & num\\_aggregated\\_transcripts & sum\\_mean\\_obs\\_counts & pval & qval\\\\\n",
       "  & <chr> & <chr> & <int> & <dbl> & <dbl> & <dbl>\\\\\n",
       "\\hline\n",
       "\t1 & ENSMUSG00000028013 & Ppa2       & 3 & 12.841514 & 3.936264e-19 & 6.522784e-15\\\\\n",
       "\t2 & ENSMUSG00000043073 & EG625530   & 2 & 11.312923 & 9.259837e-17 & 7.672238e-13\\\\\n",
       "\t3 & ENSMUSG00000023036 & Pcdhga11   & 9 & 40.535291 & 3.548994e-16 & 1.960346e-12\\\\\n",
       "\t4 & ENSMUSG00000048583 & Igf2       & 5 & 24.022722 & 7.798495e-14 & 3.230721e-10\\\\\n",
       "\t5 & ENSMUSG00000020392 & Cdkn2aipnl & 1 &  7.556659 & 1.079232e-13 & 3.576791e-10\\\\\n",
       "\\end{tabular}\n"
      ],
      "text/markdown": [
       "\n",
       "A data.frame: 5 × 6\n",
       "\n",
       "| <!--/--> | target_id &lt;chr&gt; | ext_gene &lt;chr&gt; | num_aggregated_transcripts &lt;int&gt; | sum_mean_obs_counts &lt;dbl&gt; | pval &lt;dbl&gt; | qval &lt;dbl&gt; |\n",
       "|---|---|---|---|---|---|---|\n",
       "| 1 | ENSMUSG00000028013 | Ppa2       | 3 | 12.841514 | 3.936264e-19 | 6.522784e-15 |\n",
       "| 2 | ENSMUSG00000043073 | EG625530   | 2 | 11.312923 | 9.259837e-17 | 7.672238e-13 |\n",
       "| 3 | ENSMUSG00000023036 | Pcdhga11   | 9 | 40.535291 | 3.548994e-16 | 1.960346e-12 |\n",
       "| 4 | ENSMUSG00000048583 | Igf2       | 5 | 24.022722 | 7.798495e-14 | 3.230721e-10 |\n",
       "| 5 | ENSMUSG00000020392 | Cdkn2aipnl | 1 |  7.556659 | 1.079232e-13 | 3.576791e-10 |\n",
       "\n"
      ],
      "text/plain": [
       "  target_id          ext_gene   num_aggregated_transcripts sum_mean_obs_counts\n",
       "1 ENSMUSG00000028013 Ppa2       3                          12.841514          \n",
       "2 ENSMUSG00000043073 EG625530   2                          11.312923          \n",
       "3 ENSMUSG00000023036 Pcdhga11   9                          40.535291          \n",
       "4 ENSMUSG00000048583 Igf2       5                          24.022722          \n",
       "5 ENSMUSG00000020392 Cdkn2aipnl 1                           7.556659          \n",
       "  pval         qval        \n",
       "1 3.936264e-19 6.522784e-15\n",
       "2 9.259837e-17 7.672238e-13\n",
       "3 3.548994e-16 1.960346e-12\n",
       "4 7.798495e-14 3.230721e-10\n",
       "5 1.079232e-13 3.576791e-10"
      ]
     },
     "metadata": {},
     "output_type": "display_data"
    },
    {
     "data": {
      "text/html": [
       "<style>\n",
       ".list-inline {list-style: none; margin:0; padding: 0}\n",
       ".list-inline>li {display: inline-block}\n",
       ".list-inline>li:not(:last-child)::after {content: \"\\00b7\"; padding: 0 .5ex}\n",
       "</style>\n",
       "<ol class=list-inline><li>31804</li><li>6</li></ol>\n"
      ],
      "text/latex": [
       "\\begin{enumerate*}\n",
       "\\item 31804\n",
       "\\item 6\n",
       "\\end{enumerate*}\n"
      ],
      "text/markdown": [
       "1. 31804\n",
       "2. 6\n",
       "\n",
       "\n"
      ],
      "text/plain": [
       "[1] 31804     6"
      ]
     },
     "metadata": {},
     "output_type": "display_data"
    }
   ],
   "source": [
    "head(lrt_results, 5)\n",
    "dim(lrt_results)"
   ]
  },
  {
   "cell_type": "code",
   "execution_count": 43,
   "id": "0fc9d578-c788-4e94-be4d-a30dcc15fab4",
   "metadata": {},
   "outputs": [
    {
     "data": {
      "text/html": [
       "<table class=\"dataframe\">\n",
       "<caption>A data.frame: 10 × 14</caption>\n",
       "<thead>\n",
       "\t<tr><th></th><th scope=col>target_id</th><th scope=col>ens_gene</th><th scope=col>ext_gene</th><th scope=col>pval</th><th scope=col>qval</th><th scope=col>test_stat</th><th scope=col>rss</th><th scope=col>degrees_free</th><th scope=col>mean_obs</th><th scope=col>var_obs</th><th scope=col>tech_var</th><th scope=col>sigma_sq</th><th scope=col>smooth_sigma_sq</th><th scope=col>final_sigma_sq</th></tr>\n",
       "\t<tr><th></th><th scope=col>&lt;chr&gt;</th><th scope=col>&lt;chr&gt;</th><th scope=col>&lt;chr&gt;</th><th scope=col>&lt;dbl&gt;</th><th scope=col>&lt;dbl&gt;</th><th scope=col>&lt;dbl&gt;</th><th scope=col>&lt;dbl&gt;</th><th scope=col>&lt;int&gt;</th><th scope=col>&lt;dbl&gt;</th><th scope=col>&lt;dbl&gt;</th><th scope=col>&lt;dbl&gt;</th><th scope=col>&lt;dbl&gt;</th><th scope=col>&lt;dbl&gt;</th><th scope=col>&lt;dbl&gt;</th></tr>\n",
       "</thead>\n",
       "<tbody>\n",
       "\t<tr><th scope=row>1</th><td>ENSMUST00000029644</td><td>ENSMUSG00000028013</td><td>Ppa2      </td><td>3.047563e-14</td><td>1.464506e-09</td><td>78.30769</td><td>22.20803</td><td>7</td><td>6.862515</td><td>0.9655665</td><td>0.0029059542</td><td>0.9626605</td><td>0.09593575</td><td>0.9626605</td></tr>\n",
       "\t<tr><th scope=row>2</th><td>ENSMUST00000102763</td><td>ENSMUSG00000020392</td><td>Cdkn2aipnl</td><td>1.079232e-13</td><td>2.593125e-09</td><td>75.60788</td><td>16.36757</td><td>7</td><td>7.556659</td><td>0.7116337</td><td>0.0008762691</td><td>0.7107574</td><td>0.07613686</td><td>0.7107574</td></tr>\n",
       "\t<tr><th scope=row>3</th><td>ENSMUST00000078953</td><td>ENSMUSG00000015377</td><td>Fam116b   </td><td>4.004208e-13</td><td>4.026421e-09</td><td>72.80175</td><td>44.93722</td><td>7</td><td>5.188072</td><td>1.9537923</td><td>0.0177739637</td><td>1.9360183</td><td>0.21619344</td><td>1.9360183</td></tr>\n",
       "\t<tr><th scope=row>4</th><td>ENSMUST00000006451</td><td>ENSMUSG00000006288</td><td>Ttc5      </td><td>3.690048e-13</td><td>4.026421e-09</td><td>72.97684</td><td>20.41545</td><td>7</td><td>7.017841</td><td>0.8876284</td><td>0.0033801130</td><td>0.8842483</td><td>0.09048501</td><td>0.8842483</td></tr>\n",
       "\t<tr><th scope=row>5</th><td>ENSMUST00000155572</td><td>NA                </td><td>NA        </td><td>4.189388e-13</td><td>4.026421e-09</td><td>72.70486</td><td>16.65296</td><td>7</td><td>8.060573</td><td>0.7240418</td><td>0.0004519891</td><td>0.7235898</td><td>0.06742466</td><td>0.7235898</td></tr>\n",
       "\t<tr><th scope=row>6</th><td>ENSMUST00000168900</td><td>NA                </td><td>NA        </td><td>6.272445e-13</td><td>5.023706e-09</td><td>71.83944</td><td>20.21256</td><td>7</td><td>7.059538</td><td>0.8788068</td><td>0.0019773653</td><td>0.8768295</td><td>0.08914646</td><td>0.8768295</td></tr>\n",
       "\t<tr><th scope=row>7</th><td>ENSMUST00000171066</td><td>NA                </td><td>NA        </td><td>1.212480e-12</td><td>8.255836e-09</td><td>70.42464</td><td>24.01509</td><td>7</td><td>9.518412</td><td>1.0441342</td><td>0.0001302209</td><td>1.0440040</td><td>0.06076378</td><td>1.0440040</td></tr>\n",
       "\t<tr><th scope=row>8</th><td>ENSMUST00000136299</td><td>NA                </td><td>NA        </td><td>1.374398e-12</td><td>8.255836e-09</td><td>70.15534</td><td>26.36358</td><td>7</td><td>8.066746</td><td>1.1462428</td><td>0.0004998462</td><td>1.1457429</td><td>0.06734164</td><td>1.1457429</td></tr>\n",
       "\t<tr><th scope=row>9</th><td>ENSMUST00000014892</td><td>ENSMUSG00000014748</td><td>Tex261    </td><td>2.382672e-12</td><td>1.272214e-08</td><td>68.97237</td><td>15.94276</td><td>7</td><td>6.670008</td><td>0.6931633</td><td>0.0027184562</td><td>0.6904448</td><td>0.10375566</td><td>0.6904448</td></tr>\n",
       "\t<tr><th scope=row>10</th><td>ENSMUST00000004949</td><td>ENSMUSG00000027164</td><td>Traf6     </td><td>4.088220e-12</td><td>1.964594e-08</td><td>67.81014</td><td>29.05456</td><td>7</td><td>5.892552</td><td>1.2632418</td><td>0.0066628145</td><td>1.2565790</td><td>0.14910365</td><td>1.2565790</td></tr>\n",
       "</tbody>\n",
       "</table>\n"
      ],
      "text/latex": [
       "A data.frame: 10 × 14\n",
       "\\begin{tabular}{r|llllllllllllll}\n",
       "  & target\\_id & ens\\_gene & ext\\_gene & pval & qval & test\\_stat & rss & degrees\\_free & mean\\_obs & var\\_obs & tech\\_var & sigma\\_sq & smooth\\_sigma\\_sq & final\\_sigma\\_sq\\\\\n",
       "  & <chr> & <chr> & <chr> & <dbl> & <dbl> & <dbl> & <dbl> & <int> & <dbl> & <dbl> & <dbl> & <dbl> & <dbl> & <dbl>\\\\\n",
       "\\hline\n",
       "\t1 & ENSMUST00000029644 & ENSMUSG00000028013 & Ppa2       & 3.047563e-14 & 1.464506e-09 & 78.30769 & 22.20803 & 7 & 6.862515 & 0.9655665 & 0.0029059542 & 0.9626605 & 0.09593575 & 0.9626605\\\\\n",
       "\t2 & ENSMUST00000102763 & ENSMUSG00000020392 & Cdkn2aipnl & 1.079232e-13 & 2.593125e-09 & 75.60788 & 16.36757 & 7 & 7.556659 & 0.7116337 & 0.0008762691 & 0.7107574 & 0.07613686 & 0.7107574\\\\\n",
       "\t3 & ENSMUST00000078953 & ENSMUSG00000015377 & Fam116b    & 4.004208e-13 & 4.026421e-09 & 72.80175 & 44.93722 & 7 & 5.188072 & 1.9537923 & 0.0177739637 & 1.9360183 & 0.21619344 & 1.9360183\\\\\n",
       "\t4 & ENSMUST00000006451 & ENSMUSG00000006288 & Ttc5       & 3.690048e-13 & 4.026421e-09 & 72.97684 & 20.41545 & 7 & 7.017841 & 0.8876284 & 0.0033801130 & 0.8842483 & 0.09048501 & 0.8842483\\\\\n",
       "\t5 & ENSMUST00000155572 & NA                 & NA         & 4.189388e-13 & 4.026421e-09 & 72.70486 & 16.65296 & 7 & 8.060573 & 0.7240418 & 0.0004519891 & 0.7235898 & 0.06742466 & 0.7235898\\\\\n",
       "\t6 & ENSMUST00000168900 & NA                 & NA         & 6.272445e-13 & 5.023706e-09 & 71.83944 & 20.21256 & 7 & 7.059538 & 0.8788068 & 0.0019773653 & 0.8768295 & 0.08914646 & 0.8768295\\\\\n",
       "\t7 & ENSMUST00000171066 & NA                 & NA         & 1.212480e-12 & 8.255836e-09 & 70.42464 & 24.01509 & 7 & 9.518412 & 1.0441342 & 0.0001302209 & 1.0440040 & 0.06076378 & 1.0440040\\\\\n",
       "\t8 & ENSMUST00000136299 & NA                 & NA         & 1.374398e-12 & 8.255836e-09 & 70.15534 & 26.36358 & 7 & 8.066746 & 1.1462428 & 0.0004998462 & 1.1457429 & 0.06734164 & 1.1457429\\\\\n",
       "\t9 & ENSMUST00000014892 & ENSMUSG00000014748 & Tex261     & 2.382672e-12 & 1.272214e-08 & 68.97237 & 15.94276 & 7 & 6.670008 & 0.6931633 & 0.0027184562 & 0.6904448 & 0.10375566 & 0.6904448\\\\\n",
       "\t10 & ENSMUST00000004949 & ENSMUSG00000027164 & Traf6      & 4.088220e-12 & 1.964594e-08 & 67.81014 & 29.05456 & 7 & 5.892552 & 1.2632418 & 0.0066628145 & 1.2565790 & 0.14910365 & 1.2565790\\\\\n",
       "\\end{tabular}\n"
      ],
      "text/markdown": [
       "\n",
       "A data.frame: 10 × 14\n",
       "\n",
       "| <!--/--> | target_id &lt;chr&gt; | ens_gene &lt;chr&gt; | ext_gene &lt;chr&gt; | pval &lt;dbl&gt; | qval &lt;dbl&gt; | test_stat &lt;dbl&gt; | rss &lt;dbl&gt; | degrees_free &lt;int&gt; | mean_obs &lt;dbl&gt; | var_obs &lt;dbl&gt; | tech_var &lt;dbl&gt; | sigma_sq &lt;dbl&gt; | smooth_sigma_sq &lt;dbl&gt; | final_sigma_sq &lt;dbl&gt; |\n",
       "|---|---|---|---|---|---|---|---|---|---|---|---|---|---|---|\n",
       "| 1 | ENSMUST00000029644 | ENSMUSG00000028013 | Ppa2       | 3.047563e-14 | 1.464506e-09 | 78.30769 | 22.20803 | 7 | 6.862515 | 0.9655665 | 0.0029059542 | 0.9626605 | 0.09593575 | 0.9626605 |\n",
       "| 2 | ENSMUST00000102763 | ENSMUSG00000020392 | Cdkn2aipnl | 1.079232e-13 | 2.593125e-09 | 75.60788 | 16.36757 | 7 | 7.556659 | 0.7116337 | 0.0008762691 | 0.7107574 | 0.07613686 | 0.7107574 |\n",
       "| 3 | ENSMUST00000078953 | ENSMUSG00000015377 | Fam116b    | 4.004208e-13 | 4.026421e-09 | 72.80175 | 44.93722 | 7 | 5.188072 | 1.9537923 | 0.0177739637 | 1.9360183 | 0.21619344 | 1.9360183 |\n",
       "| 4 | ENSMUST00000006451 | ENSMUSG00000006288 | Ttc5       | 3.690048e-13 | 4.026421e-09 | 72.97684 | 20.41545 | 7 | 7.017841 | 0.8876284 | 0.0033801130 | 0.8842483 | 0.09048501 | 0.8842483 |\n",
       "| 5 | ENSMUST00000155572 | NA                 | NA         | 4.189388e-13 | 4.026421e-09 | 72.70486 | 16.65296 | 7 | 8.060573 | 0.7240418 | 0.0004519891 | 0.7235898 | 0.06742466 | 0.7235898 |\n",
       "| 6 | ENSMUST00000168900 | NA                 | NA         | 6.272445e-13 | 5.023706e-09 | 71.83944 | 20.21256 | 7 | 7.059538 | 0.8788068 | 0.0019773653 | 0.8768295 | 0.08914646 | 0.8768295 |\n",
       "| 7 | ENSMUST00000171066 | NA                 | NA         | 1.212480e-12 | 8.255836e-09 | 70.42464 | 24.01509 | 7 | 9.518412 | 1.0441342 | 0.0001302209 | 1.0440040 | 0.06076378 | 1.0440040 |\n",
       "| 8 | ENSMUST00000136299 | NA                 | NA         | 1.374398e-12 | 8.255836e-09 | 70.15534 | 26.36358 | 7 | 8.066746 | 1.1462428 | 0.0004998462 | 1.1457429 | 0.06734164 | 1.1457429 |\n",
       "| 9 | ENSMUST00000014892 | ENSMUSG00000014748 | Tex261     | 2.382672e-12 | 1.272214e-08 | 68.97237 | 15.94276 | 7 | 6.670008 | 0.6931633 | 0.0027184562 | 0.6904448 | 0.10375566 | 0.6904448 |\n",
       "| 10 | ENSMUST00000004949 | ENSMUSG00000027164 | Traf6      | 4.088220e-12 | 1.964594e-08 | 67.81014 | 29.05456 | 7 | 5.892552 | 1.2632418 | 0.0066628145 | 1.2565790 | 0.14910365 | 1.2565790 |\n",
       "\n"
      ],
      "text/plain": [
       "   target_id          ens_gene           ext_gene   pval         qval        \n",
       "1  ENSMUST00000029644 ENSMUSG00000028013 Ppa2       3.047563e-14 1.464506e-09\n",
       "2  ENSMUST00000102763 ENSMUSG00000020392 Cdkn2aipnl 1.079232e-13 2.593125e-09\n",
       "3  ENSMUST00000078953 ENSMUSG00000015377 Fam116b    4.004208e-13 4.026421e-09\n",
       "4  ENSMUST00000006451 ENSMUSG00000006288 Ttc5       3.690048e-13 4.026421e-09\n",
       "5  ENSMUST00000155572 NA                 NA         4.189388e-13 4.026421e-09\n",
       "6  ENSMUST00000168900 NA                 NA         6.272445e-13 5.023706e-09\n",
       "7  ENSMUST00000171066 NA                 NA         1.212480e-12 8.255836e-09\n",
       "8  ENSMUST00000136299 NA                 NA         1.374398e-12 8.255836e-09\n",
       "9  ENSMUST00000014892 ENSMUSG00000014748 Tex261     2.382672e-12 1.272214e-08\n",
       "10 ENSMUST00000004949 ENSMUSG00000027164 Traf6      4.088220e-12 1.964594e-08\n",
       "   test_stat rss      degrees_free mean_obs var_obs   tech_var     sigma_sq \n",
       "1  78.30769  22.20803 7            6.862515 0.9655665 0.0029059542 0.9626605\n",
       "2  75.60788  16.36757 7            7.556659 0.7116337 0.0008762691 0.7107574\n",
       "3  72.80175  44.93722 7            5.188072 1.9537923 0.0177739637 1.9360183\n",
       "4  72.97684  20.41545 7            7.017841 0.8876284 0.0033801130 0.8842483\n",
       "5  72.70486  16.65296 7            8.060573 0.7240418 0.0004519891 0.7235898\n",
       "6  71.83944  20.21256 7            7.059538 0.8788068 0.0019773653 0.8768295\n",
       "7  70.42464  24.01509 7            9.518412 1.0441342 0.0001302209 1.0440040\n",
       "8  70.15534  26.36358 7            8.066746 1.1462428 0.0004998462 1.1457429\n",
       "9  68.97237  15.94276 7            6.670008 0.6931633 0.0027184562 0.6904448\n",
       "10 67.81014  29.05456 7            5.892552 1.2632418 0.0066628145 1.2565790\n",
       "   smooth_sigma_sq final_sigma_sq\n",
       "1  0.09593575      0.9626605     \n",
       "2  0.07613686      0.7107574     \n",
       "3  0.21619344      1.9360183     \n",
       "4  0.09048501      0.8842483     \n",
       "5  0.06742466      0.7235898     \n",
       "6  0.08914646      0.8768295     \n",
       "7  0.06076378      1.0440040     \n",
       "8  0.06734164      1.1457429     \n",
       "9  0.10375566      0.6904448     \n",
       "10 0.14910365      1.2565790     "
      ]
     },
     "metadata": {},
     "output_type": "display_data"
    },
    {
     "data": {
      "text/html": [
       "<style>\n",
       ".list-inline {list-style: none; margin:0; padding: 0}\n",
       ".list-inline>li {display: inline-block}\n",
       ".list-inline>li:not(:last-child)::after {content: \"\\00b7\"; padding: 0 .5ex}\n",
       "</style>\n",
       "<ol class=list-inline><li>88366</li><li>14</li></ol>\n"
      ],
      "text/latex": [
       "\\begin{enumerate*}\n",
       "\\item 88366\n",
       "\\item 14\n",
       "\\end{enumerate*}\n"
      ],
      "text/markdown": [
       "1. 88366\n",
       "2. 14\n",
       "\n",
       "\n"
      ],
      "text/plain": [
       "[1] 88366    14"
      ]
     },
     "metadata": {},
     "output_type": "display_data"
    }
   ],
   "source": [
    "lrt_results_no_agg <- sleuth_results(so_gene, 'reduced:full', 'lrt', pval_aggregate=FALSE, show_all = TRUE)\n",
    "head(lrt_results_no_agg, 10)\n",
    "dim(lrt_results_no_agg)"
   ]
  },
  {
   "cell_type": "code",
   "execution_count": 44,
   "id": "ba4c8cd3-2d45-41e0-936d-8cf27ae42181",
   "metadata": {},
   "outputs": [
    {
     "data": {
      "text/html": [
       "7874"
      ],
      "text/latex": [
       "7874"
      ],
      "text/markdown": [
       "7874"
      ],
      "text/plain": [
       "[1] 7874"
      ]
     },
     "metadata": {},
     "output_type": "display_data"
    }
   ],
   "source": [
    "# We lose most of the useful information about expression levels when doing aggregation. \n",
    "\n",
    "# how many ens_gene names have at least one transcript\n",
    "length(unique(lrt_results_no_agg[duplicated(lrt_results_no_agg$ens_gene),]$ens_gene))"
   ]
  },
  {
   "cell_type": "code",
   "execution_count": 45,
   "id": "4b7ed52e-366f-4e75-b412-0a3908d19f17",
   "metadata": {},
   "outputs": [
    {
     "data": {
      "text/html": [
       "<table class=\"dataframe\">\n",
       "<caption>A data.frame: 9 × 14</caption>\n",
       "<thead>\n",
       "\t<tr><th></th><th scope=col>target_id</th><th scope=col>ens_gene</th><th scope=col>ext_gene</th><th scope=col>pval</th><th scope=col>qval</th><th scope=col>test_stat</th><th scope=col>rss</th><th scope=col>degrees_free</th><th scope=col>mean_obs</th><th scope=col>var_obs</th><th scope=col>tech_var</th><th scope=col>sigma_sq</th><th scope=col>smooth_sigma_sq</th><th scope=col>final_sigma_sq</th></tr>\n",
       "\t<tr><th></th><th scope=col>&lt;chr&gt;</th><th scope=col>&lt;chr&gt;</th><th scope=col>&lt;chr&gt;</th><th scope=col>&lt;dbl&gt;</th><th scope=col>&lt;dbl&gt;</th><th scope=col>&lt;dbl&gt;</th><th scope=col>&lt;dbl&gt;</th><th scope=col>&lt;int&gt;</th><th scope=col>&lt;dbl&gt;</th><th scope=col>&lt;dbl&gt;</th><th scope=col>&lt;dbl&gt;</th><th scope=col>&lt;dbl&gt;</th><th scope=col>&lt;dbl&gt;</th><th scope=col>&lt;dbl&gt;</th></tr>\n",
       "</thead>\n",
       "<tbody>\n",
       "\t<tr><th scope=row>147</th><td>ENSMUST00000073447</td><td>ENSMUSG00000023036</td><td>Pcdhga11</td><td>3.024118e-07</td><td>9.885986e-05</td><td>43.220443</td><td>52.452372</td><td>7</td><td>4.163996</td><td>2.2805379</td><td>0.167036960</td><td> 2.11350095</td><td>0.3820925</td><td>2.1135010</td></tr>\n",
       "\t<tr><th scope=row>164</th><td>ENSMUST00000091935</td><td>ENSMUSG00000023036</td><td>Pcdhga11</td><td>6.761956e-07</td><td>1.981377e-04</td><td>41.407058</td><td>85.749415</td><td>7</td><td>3.325960</td><td>3.7282354</td><td>0.301477158</td><td> 3.42675826</td><td>0.6158432</td><td>3.4267583</td></tr>\n",
       "\t<tr><th scope=row>295</th><td>ENSMUST00000066149</td><td>ENSMUSG00000023036</td><td>Pcdhga11</td><td>6.841357e-06</td><td>1.114445e-03</td><td>36.133264</td><td>59.316069</td><td>7</td><td>4.210621</td><td>2.5789595</td><td>0.200318222</td><td> 2.37864131</td><td>0.3721965</td><td>2.3786413</td></tr>\n",
       "\t<tr><th scope=row>319</th><td>ENSMUST00000061279</td><td>ENSMUSG00000023036</td><td>Pcdhga11</td><td>1.057301e-05</td><td>1.592746e-03</td><td>35.129879</td><td>15.241537</td><td>7</td><td>5.356267</td><td>0.6626755</td><td>0.082653909</td><td> 0.58002160</td><td>0.1972190</td><td>0.5800216</td></tr>\n",
       "\t<tr><th scope=row>1470</th><td>ENSMUST00000044851</td><td>ENSMUSG00000023036</td><td>Pcdhga11</td><td>3.932808e-03</td><td>1.285654e-01</td><td>20.892336</td><td> 4.668241</td><td>7</td><td>5.792533</td><td>0.2029670</td><td>0.010056279</td><td> 0.19291073</td><td>0.1567535</td><td>0.1929107</td></tr>\n",
       "\t<tr><th scope=row>23771</th><td>ENSMUST00000091934</td><td>ENSMUSG00000023036</td><td>Pcdhga11</td><td>8.009913e-01</td><td>1.000000e+00</td><td> 3.813494</td><td> 6.331399</td><td>7</td><td>3.168518</td><td>0.2752782</td><td>0.146009503</td><td> 0.12926872</td><td>0.6660438</td><td>0.6660438</td></tr>\n",
       "\t<tr><th scope=row>23772</th><td>ENSMUST00000055935</td><td>ENSMUSG00000023036</td><td>Pcdhga11</td><td>7.424708e-01</td><td>1.000000e+00</td><td> 4.318310</td><td> 4.694338</td><td>7</td><td>4.045651</td><td>0.2041017</td><td>0.300873034</td><td>-0.09677138</td><td>0.4081367</td><td>0.4081367</td></tr>\n",
       "\t<tr><th scope=row>23773</th><td>ENSMUST00000066140</td><td>ENSMUSG00000023036</td><td>Pcdhga11</td><td>6.849932e-01</td><td>1.000000e+00</td><td> 4.794759</td><td> 5.510157</td><td>7</td><td>3.769013</td><td>0.2395720</td><td>0.123501300</td><td> 0.11607074</td><td>0.4748645</td><td>0.4748645</td></tr>\n",
       "\t<tr><th scope=row>23774</th><td>ENSMUST00000076807</td><td>ENSMUSG00000023036</td><td>Pcdhga11</td><td>4.691107e-01</td><td>1.000000e+00</td><td> 6.623437</td><td> 4.910299</td><td>7</td><td>6.702732</td><td>0.2134912</td><td>0.004727993</td><td> 0.20876325</td><td>0.1023400</td><td>0.2087632</td></tr>\n",
       "</tbody>\n",
       "</table>\n"
      ],
      "text/latex": [
       "A data.frame: 9 × 14\n",
       "\\begin{tabular}{r|llllllllllllll}\n",
       "  & target\\_id & ens\\_gene & ext\\_gene & pval & qval & test\\_stat & rss & degrees\\_free & mean\\_obs & var\\_obs & tech\\_var & sigma\\_sq & smooth\\_sigma\\_sq & final\\_sigma\\_sq\\\\\n",
       "  & <chr> & <chr> & <chr> & <dbl> & <dbl> & <dbl> & <dbl> & <int> & <dbl> & <dbl> & <dbl> & <dbl> & <dbl> & <dbl>\\\\\n",
       "\\hline\n",
       "\t147 & ENSMUST00000073447 & ENSMUSG00000023036 & Pcdhga11 & 3.024118e-07 & 9.885986e-05 & 43.220443 & 52.452372 & 7 & 4.163996 & 2.2805379 & 0.167036960 &  2.11350095 & 0.3820925 & 2.1135010\\\\\n",
       "\t164 & ENSMUST00000091935 & ENSMUSG00000023036 & Pcdhga11 & 6.761956e-07 & 1.981377e-04 & 41.407058 & 85.749415 & 7 & 3.325960 & 3.7282354 & 0.301477158 &  3.42675826 & 0.6158432 & 3.4267583\\\\\n",
       "\t295 & ENSMUST00000066149 & ENSMUSG00000023036 & Pcdhga11 & 6.841357e-06 & 1.114445e-03 & 36.133264 & 59.316069 & 7 & 4.210621 & 2.5789595 & 0.200318222 &  2.37864131 & 0.3721965 & 2.3786413\\\\\n",
       "\t319 & ENSMUST00000061279 & ENSMUSG00000023036 & Pcdhga11 & 1.057301e-05 & 1.592746e-03 & 35.129879 & 15.241537 & 7 & 5.356267 & 0.6626755 & 0.082653909 &  0.58002160 & 0.1972190 & 0.5800216\\\\\n",
       "\t1470 & ENSMUST00000044851 & ENSMUSG00000023036 & Pcdhga11 & 3.932808e-03 & 1.285654e-01 & 20.892336 &  4.668241 & 7 & 5.792533 & 0.2029670 & 0.010056279 &  0.19291073 & 0.1567535 & 0.1929107\\\\\n",
       "\t23771 & ENSMUST00000091934 & ENSMUSG00000023036 & Pcdhga11 & 8.009913e-01 & 1.000000e+00 &  3.813494 &  6.331399 & 7 & 3.168518 & 0.2752782 & 0.146009503 &  0.12926872 & 0.6660438 & 0.6660438\\\\\n",
       "\t23772 & ENSMUST00000055935 & ENSMUSG00000023036 & Pcdhga11 & 7.424708e-01 & 1.000000e+00 &  4.318310 &  4.694338 & 7 & 4.045651 & 0.2041017 & 0.300873034 & -0.09677138 & 0.4081367 & 0.4081367\\\\\n",
       "\t23773 & ENSMUST00000066140 & ENSMUSG00000023036 & Pcdhga11 & 6.849932e-01 & 1.000000e+00 &  4.794759 &  5.510157 & 7 & 3.769013 & 0.2395720 & 0.123501300 &  0.11607074 & 0.4748645 & 0.4748645\\\\\n",
       "\t23774 & ENSMUST00000076807 & ENSMUSG00000023036 & Pcdhga11 & 4.691107e-01 & 1.000000e+00 &  6.623437 &  4.910299 & 7 & 6.702732 & 0.2134912 & 0.004727993 &  0.20876325 & 0.1023400 & 0.2087632\\\\\n",
       "\\end{tabular}\n"
      ],
      "text/markdown": [
       "\n",
       "A data.frame: 9 × 14\n",
       "\n",
       "| <!--/--> | target_id &lt;chr&gt; | ens_gene &lt;chr&gt; | ext_gene &lt;chr&gt; | pval &lt;dbl&gt; | qval &lt;dbl&gt; | test_stat &lt;dbl&gt; | rss &lt;dbl&gt; | degrees_free &lt;int&gt; | mean_obs &lt;dbl&gt; | var_obs &lt;dbl&gt; | tech_var &lt;dbl&gt; | sigma_sq &lt;dbl&gt; | smooth_sigma_sq &lt;dbl&gt; | final_sigma_sq &lt;dbl&gt; |\n",
       "|---|---|---|---|---|---|---|---|---|---|---|---|---|---|---|\n",
       "| 147 | ENSMUST00000073447 | ENSMUSG00000023036 | Pcdhga11 | 3.024118e-07 | 9.885986e-05 | 43.220443 | 52.452372 | 7 | 4.163996 | 2.2805379 | 0.167036960 |  2.11350095 | 0.3820925 | 2.1135010 |\n",
       "| 164 | ENSMUST00000091935 | ENSMUSG00000023036 | Pcdhga11 | 6.761956e-07 | 1.981377e-04 | 41.407058 | 85.749415 | 7 | 3.325960 | 3.7282354 | 0.301477158 |  3.42675826 | 0.6158432 | 3.4267583 |\n",
       "| 295 | ENSMUST00000066149 | ENSMUSG00000023036 | Pcdhga11 | 6.841357e-06 | 1.114445e-03 | 36.133264 | 59.316069 | 7 | 4.210621 | 2.5789595 | 0.200318222 |  2.37864131 | 0.3721965 | 2.3786413 |\n",
       "| 319 | ENSMUST00000061279 | ENSMUSG00000023036 | Pcdhga11 | 1.057301e-05 | 1.592746e-03 | 35.129879 | 15.241537 | 7 | 5.356267 | 0.6626755 | 0.082653909 |  0.58002160 | 0.1972190 | 0.5800216 |\n",
       "| 1470 | ENSMUST00000044851 | ENSMUSG00000023036 | Pcdhga11 | 3.932808e-03 | 1.285654e-01 | 20.892336 |  4.668241 | 7 | 5.792533 | 0.2029670 | 0.010056279 |  0.19291073 | 0.1567535 | 0.1929107 |\n",
       "| 23771 | ENSMUST00000091934 | ENSMUSG00000023036 | Pcdhga11 | 8.009913e-01 | 1.000000e+00 |  3.813494 |  6.331399 | 7 | 3.168518 | 0.2752782 | 0.146009503 |  0.12926872 | 0.6660438 | 0.6660438 |\n",
       "| 23772 | ENSMUST00000055935 | ENSMUSG00000023036 | Pcdhga11 | 7.424708e-01 | 1.000000e+00 |  4.318310 |  4.694338 | 7 | 4.045651 | 0.2041017 | 0.300873034 | -0.09677138 | 0.4081367 | 0.4081367 |\n",
       "| 23773 | ENSMUST00000066140 | ENSMUSG00000023036 | Pcdhga11 | 6.849932e-01 | 1.000000e+00 |  4.794759 |  5.510157 | 7 | 3.769013 | 0.2395720 | 0.123501300 |  0.11607074 | 0.4748645 | 0.4748645 |\n",
       "| 23774 | ENSMUST00000076807 | ENSMUSG00000023036 | Pcdhga11 | 4.691107e-01 | 1.000000e+00 |  6.623437 |  4.910299 | 7 | 6.702732 | 0.2134912 | 0.004727993 |  0.20876325 | 0.1023400 | 0.2087632 |\n",
       "\n"
      ],
      "text/plain": [
       "      target_id          ens_gene           ext_gene pval         qval        \n",
       "147   ENSMUST00000073447 ENSMUSG00000023036 Pcdhga11 3.024118e-07 9.885986e-05\n",
       "164   ENSMUST00000091935 ENSMUSG00000023036 Pcdhga11 6.761956e-07 1.981377e-04\n",
       "295   ENSMUST00000066149 ENSMUSG00000023036 Pcdhga11 6.841357e-06 1.114445e-03\n",
       "319   ENSMUST00000061279 ENSMUSG00000023036 Pcdhga11 1.057301e-05 1.592746e-03\n",
       "1470  ENSMUST00000044851 ENSMUSG00000023036 Pcdhga11 3.932808e-03 1.285654e-01\n",
       "23771 ENSMUST00000091934 ENSMUSG00000023036 Pcdhga11 8.009913e-01 1.000000e+00\n",
       "23772 ENSMUST00000055935 ENSMUSG00000023036 Pcdhga11 7.424708e-01 1.000000e+00\n",
       "23773 ENSMUST00000066140 ENSMUSG00000023036 Pcdhga11 6.849932e-01 1.000000e+00\n",
       "23774 ENSMUST00000076807 ENSMUSG00000023036 Pcdhga11 4.691107e-01 1.000000e+00\n",
       "      test_stat rss       degrees_free mean_obs var_obs   tech_var   \n",
       "147   43.220443 52.452372 7            4.163996 2.2805379 0.167036960\n",
       "164   41.407058 85.749415 7            3.325960 3.7282354 0.301477158\n",
       "295   36.133264 59.316069 7            4.210621 2.5789595 0.200318222\n",
       "319   35.129879 15.241537 7            5.356267 0.6626755 0.082653909\n",
       "1470  20.892336  4.668241 7            5.792533 0.2029670 0.010056279\n",
       "23771  3.813494  6.331399 7            3.168518 0.2752782 0.146009503\n",
       "23772  4.318310  4.694338 7            4.045651 0.2041017 0.300873034\n",
       "23773  4.794759  5.510157 7            3.769013 0.2395720 0.123501300\n",
       "23774  6.623437  4.910299 7            6.702732 0.2134912 0.004727993\n",
       "      sigma_sq    smooth_sigma_sq final_sigma_sq\n",
       "147    2.11350095 0.3820925       2.1135010     \n",
       "164    3.42675826 0.6158432       3.4267583     \n",
       "295    2.37864131 0.3721965       2.3786413     \n",
       "319    0.58002160 0.1972190       0.5800216     \n",
       "1470   0.19291073 0.1567535       0.1929107     \n",
       "23771  0.12926872 0.6660438       0.6660438     \n",
       "23772 -0.09677138 0.4081367       0.4081367     \n",
       "23773  0.11607074 0.4748645       0.4748645     \n",
       "23774  0.20876325 0.1023400       0.2087632     "
      ]
     },
     "metadata": {},
     "output_type": "display_data"
    }
   ],
   "source": [
    "# do all of the aggregated transcripts show up separately when no aggreggation?\n",
    "# looking at 'ENSMUSG00000023036', that had 9 aggregated transcripts:\n",
    "lrt_results_no_agg[which(lrt_results_no_agg$ens_gene=='ENSMUSG00000023036'),]"
   ]
  },
  {
   "cell_type": "markdown",
   "id": "9c1df80b-006e-4524-95f5-777ae0dc8506",
   "metadata": {},
   "source": [
    "# Looking at some Set differences between significant DE genes and the conditions:"
   ]
  },
  {
   "cell_type": "code",
   "execution_count": 46,
   "id": "d90c17f6-0104-4013-8718-959081314759",
   "metadata": {},
   "outputs": [
    {
     "name": "stdout",
     "output_type": "stream",
     "text": [
      "[1] \"total Number of Genes in LRT model with p-val aggregation: \"\n"
     ]
    },
    {
     "data": {
      "text/html": [
       "31804"
      ],
      "text/latex": [
       "31804"
      ],
      "text/markdown": [
       "31804"
      ],
      "text/plain": [
       "[1] 31804"
      ]
     },
     "metadata": {},
     "output_type": "display_data"
    },
    {
     "name": "stdout",
     "output_type": "stream",
     "text": [
      "[1] \"Total number of significant DE in LRT model with p-val aggregation: \"\n",
      "    n\n",
      "1 953\n",
      "[1] \"Number of nonsig genes (qval > 0.05): \"\n",
      "[1] 30851\n"
     ]
    }
   ],
   "source": [
    "sleuth_significant_lrt <- dplyr::filter(lrt_results, qval <= 0.05)\n",
    "\n",
    "print(\"total Number of Genes in LRT model with p-val aggregation: \")\n",
    "length(unique(lrt_results$target_id))\n",
    "print(\"Total number of significant DE in LRT model with p-val aggregation: \")\n",
    "print(count(sleuth_significant_lrt))\n",
    "\n",
    "sig_genes_LRT = unique(sleuth_significant_lrt$target_id)\n",
    "nonsig_genes_LRT = setdiff(unique(lrt_results$target_id), unique(sleuth_significant_lrt$target_id))\n",
    "\n",
    "print(\"Number of nonsig genes (qval > 0.05): \")\n",
    "print(length(nonsig_genes_LRT))"
   ]
  },
  {
   "cell_type": "code",
   "execution_count": 47,
   "id": "60fd6fcc-d502-4f4e-82be-1c1a3bee381b",
   "metadata": {},
   "outputs": [
    {
     "data": {
      "text/html": [
       "<style>\n",
       ".list-inline {list-style: none; margin:0; padding: 0}\n",
       ".list-inline>li {display: inline-block}\n",
       ".list-inline>li:not(:last-child)::after {content: \"\\00b7\"; padding: 0 .5ex}\n",
       "</style>\n",
       "<ol class=list-inline><li>'ENSMUSG00000028013'</li><li>'ENSMUSG00000043073'</li><li>'ENSMUSG00000023036'</li></ol>\n"
      ],
      "text/latex": [
       "\\begin{enumerate*}\n",
       "\\item 'ENSMUSG00000028013'\n",
       "\\item 'ENSMUSG00000043073'\n",
       "\\item 'ENSMUSG00000023036'\n",
       "\\end{enumerate*}\n"
      ],
      "text/markdown": [
       "1. 'ENSMUSG00000028013'\n",
       "2. 'ENSMUSG00000043073'\n",
       "3. 'ENSMUSG00000023036'\n",
       "\n",
       "\n"
      ],
      "text/plain": [
       "[1] \"ENSMUSG00000028013\" \"ENSMUSG00000043073\" \"ENSMUSG00000023036\""
      ]
     },
     "metadata": {},
     "output_type": "display_data"
    }
   ],
   "source": [
    "head(sig_genes_LRT, 3)"
   ]
  },
  {
   "cell_type": "code",
   "execution_count": 48,
   "id": "7b324144-6e94-4289-a319-e9fc4fbd9049",
   "metadata": {},
   "outputs": [
    {
     "data": {
      "text/html": [
       "<style>\n",
       ".list-inline {list-style: none; margin:0; padding: 0}\n",
       ".list-inline>li {display: inline-block}\n",
       ".list-inline>li:not(:last-child)::after {content: \"\\00b7\"; padding: 0 .5ex}\n",
       "</style>\n",
       "<ol class=list-inline><li>'ENSMUSG00000029407'</li><li>'ENSMUSG00000022099'</li><li>'ENSMUSG00000037390'</li></ol>\n"
      ],
      "text/latex": [
       "\\begin{enumerate*}\n",
       "\\item 'ENSMUSG00000029407'\n",
       "\\item 'ENSMUSG00000022099'\n",
       "\\item 'ENSMUSG00000037390'\n",
       "\\end{enumerate*}\n"
      ],
      "text/markdown": [
       "1. 'ENSMUSG00000029407'\n",
       "2. 'ENSMUSG00000022099'\n",
       "3. 'ENSMUSG00000037390'\n",
       "\n",
       "\n"
      ],
      "text/plain": [
       "[1] \"ENSMUSG00000029407\" \"ENSMUSG00000022099\" \"ENSMUSG00000037390\""
      ]
     },
     "metadata": {},
     "output_type": "display_data"
    }
   ],
   "source": [
    "head(nonsig_genes_LRT, 3)"
   ]
  },
  {
   "cell_type": "code",
   "execution_count": 49,
   "id": "6bad64e0-63aa-4169-bab7-987303736317",
   "metadata": {},
   "outputs": [
    {
     "data": {
      "text/html": [
       "<table class=\"dataframe\">\n",
       "<caption>A data.frame: 5 × 6</caption>\n",
       "<thead>\n",
       "\t<tr><th></th><th scope=col>target_id</th><th scope=col>ext_gene</th><th scope=col>num_aggregated_transcripts</th><th scope=col>sum_mean_obs_counts</th><th scope=col>pval</th><th scope=col>qval</th></tr>\n",
       "\t<tr><th></th><th scope=col>&lt;chr&gt;</th><th scope=col>&lt;chr&gt;</th><th scope=col>&lt;int&gt;</th><th scope=col>&lt;dbl&gt;</th><th scope=col>&lt;dbl&gt;</th><th scope=col>&lt;dbl&gt;</th></tr>\n",
       "</thead>\n",
       "<tbody>\n",
       "\t<tr><th scope=row>1</th><td>ENSMUSG00000028013</td><td>Ppa2      </td><td>3</td><td>12.841514</td><td>3.936264e-19</td><td>6.522784e-15</td></tr>\n",
       "\t<tr><th scope=row>2</th><td>ENSMUSG00000043073</td><td>EG625530  </td><td>2</td><td>11.312923</td><td>9.259837e-17</td><td>7.672238e-13</td></tr>\n",
       "\t<tr><th scope=row>3</th><td>ENSMUSG00000023036</td><td>Pcdhga11  </td><td>9</td><td>40.535291</td><td>3.548994e-16</td><td>1.960346e-12</td></tr>\n",
       "\t<tr><th scope=row>4</th><td>ENSMUSG00000048583</td><td>Igf2      </td><td>5</td><td>24.022722</td><td>7.798495e-14</td><td>3.230721e-10</td></tr>\n",
       "\t<tr><th scope=row>5</th><td>ENSMUSG00000020392</td><td>Cdkn2aipnl</td><td>1</td><td> 7.556659</td><td>1.079232e-13</td><td>3.576791e-10</td></tr>\n",
       "</tbody>\n",
       "</table>\n"
      ],
      "text/latex": [
       "A data.frame: 5 × 6\n",
       "\\begin{tabular}{r|llllll}\n",
       "  & target\\_id & ext\\_gene & num\\_aggregated\\_transcripts & sum\\_mean\\_obs\\_counts & pval & qval\\\\\n",
       "  & <chr> & <chr> & <int> & <dbl> & <dbl> & <dbl>\\\\\n",
       "\\hline\n",
       "\t1 & ENSMUSG00000028013 & Ppa2       & 3 & 12.841514 & 3.936264e-19 & 6.522784e-15\\\\\n",
       "\t2 & ENSMUSG00000043073 & EG625530   & 2 & 11.312923 & 9.259837e-17 & 7.672238e-13\\\\\n",
       "\t3 & ENSMUSG00000023036 & Pcdhga11   & 9 & 40.535291 & 3.548994e-16 & 1.960346e-12\\\\\n",
       "\t4 & ENSMUSG00000048583 & Igf2       & 5 & 24.022722 & 7.798495e-14 & 3.230721e-10\\\\\n",
       "\t5 & ENSMUSG00000020392 & Cdkn2aipnl & 1 &  7.556659 & 1.079232e-13 & 3.576791e-10\\\\\n",
       "\\end{tabular}\n"
      ],
      "text/markdown": [
       "\n",
       "A data.frame: 5 × 6\n",
       "\n",
       "| <!--/--> | target_id &lt;chr&gt; | ext_gene &lt;chr&gt; | num_aggregated_transcripts &lt;int&gt; | sum_mean_obs_counts &lt;dbl&gt; | pval &lt;dbl&gt; | qval &lt;dbl&gt; |\n",
       "|---|---|---|---|---|---|---|\n",
       "| 1 | ENSMUSG00000028013 | Ppa2       | 3 | 12.841514 | 3.936264e-19 | 6.522784e-15 |\n",
       "| 2 | ENSMUSG00000043073 | EG625530   | 2 | 11.312923 | 9.259837e-17 | 7.672238e-13 |\n",
       "| 3 | ENSMUSG00000023036 | Pcdhga11   | 9 | 40.535291 | 3.548994e-16 | 1.960346e-12 |\n",
       "| 4 | ENSMUSG00000048583 | Igf2       | 5 | 24.022722 | 7.798495e-14 | 3.230721e-10 |\n",
       "| 5 | ENSMUSG00000020392 | Cdkn2aipnl | 1 |  7.556659 | 1.079232e-13 | 3.576791e-10 |\n",
       "\n"
      ],
      "text/plain": [
       "  target_id          ext_gene   num_aggregated_transcripts sum_mean_obs_counts\n",
       "1 ENSMUSG00000028013 Ppa2       3                          12.841514          \n",
       "2 ENSMUSG00000043073 EG625530   2                          11.312923          \n",
       "3 ENSMUSG00000023036 Pcdhga11   9                          40.535291          \n",
       "4 ENSMUSG00000048583 Igf2       5                          24.022722          \n",
       "5 ENSMUSG00000020392 Cdkn2aipnl 1                           7.556659          \n",
       "  pval         qval        \n",
       "1 3.936264e-19 6.522784e-15\n",
       "2 9.259837e-17 7.672238e-13\n",
       "3 3.548994e-16 1.960346e-12\n",
       "4 7.798495e-14 3.230721e-10\n",
       "5 1.079232e-13 3.576791e-10"
      ]
     },
     "metadata": {},
     "output_type": "display_data"
    },
    {
     "data": {
      "text/html": [
       "<style>\n",
       ".list-inline {list-style: none; margin:0; padding: 0}\n",
       ".list-inline>li {display: inline-block}\n",
       ".list-inline>li:not(:last-child)::after {content: \"\\00b7\"; padding: 0 .5ex}\n",
       "</style>\n",
       "<ol class=list-inline><li>31804</li><li>6</li></ol>\n"
      ],
      "text/latex": [
       "\\begin{enumerate*}\n",
       "\\item 31804\n",
       "\\item 6\n",
       "\\end{enumerate*}\n"
      ],
      "text/markdown": [
       "1. 31804\n",
       "2. 6\n",
       "\n",
       "\n"
      ],
      "text/plain": [
       "[1] 31804     6"
      ]
     },
     "metadata": {},
     "output_type": "display_data"
    },
    {
     "data": {
      "text/html": [
       "<style>\n",
       ".list-inline {list-style: none; margin:0; padding: 0}\n",
       ".list-inline>li {display: inline-block}\n",
       ".list-inline>li:not(:last-child)::after {content: \"\\00b7\"; padding: 0 .5ex}\n",
       "</style>\n",
       "<ol class=list-inline><li>953</li><li>6</li></ol>\n"
      ],
      "text/latex": [
       "\\begin{enumerate*}\n",
       "\\item 953\n",
       "\\item 6\n",
       "\\end{enumerate*}\n"
      ],
      "text/markdown": [
       "1. 953\n",
       "2. 6\n",
       "\n",
       "\n"
      ],
      "text/plain": [
       "[1] 953   6"
      ]
     },
     "metadata": {},
     "output_type": "display_data"
    }
   ],
   "source": [
    "head(lrt_results, 5)\n",
    "dim(lrt_results)\n",
    "dim(sleuth_significant_lrt)"
   ]
  },
  {
   "cell_type": "markdown",
   "id": "6a4f57cb-e52c-4352-829f-cb45b40c8c15",
   "metadata": {},
   "source": [
    "Percentage of significant genes from the aggregated transcripts using LRT:"
   ]
  },
  {
   "cell_type": "code",
   "execution_count": 50,
   "id": "8c190a1c-4011-4ca5-b25a-58a2b2726788",
   "metadata": {},
   "outputs": [
    {
     "data": {
      "text/html": [
       "0.057510108020035"
      ],
      "text/latex": [
       "0.057510108020035"
      ],
      "text/markdown": [
       "0.057510108020035"
      ],
      "text/plain": [
       "[1] 0.05751011"
      ]
     },
     "metadata": {},
     "output_type": "display_data"
    }
   ],
   "source": [
    "953/16571"
   ]
  },
  {
   "cell_type": "code",
   "execution_count": 51,
   "id": "8bce6b0f-d375-4d25-a83b-e5b4b88d2b15",
   "metadata": {},
   "outputs": [
    {
     "data": {
      "text/html": [
       "<table class=\"dataframe\">\n",
       "<caption>A data.frame: 1 × 1</caption>\n",
       "<thead>\n",
       "\t<tr><th scope=col>n</th></tr>\n",
       "\t<tr><th scope=col>&lt;int&gt;</th></tr>\n",
       "</thead>\n",
       "<tbody>\n",
       "\t<tr><td>0</td></tr>\n",
       "</tbody>\n",
       "</table>\n"
      ],
      "text/latex": [
       "A data.frame: 1 × 1\n",
       "\\begin{tabular}{l}\n",
       " n\\\\\n",
       " <int>\\\\\n",
       "\\hline\n",
       "\t 0\\\\\n",
       "\\end{tabular}\n"
      ],
      "text/markdown": [
       "\n",
       "A data.frame: 1 × 1\n",
       "\n",
       "| n &lt;int&gt; |\n",
       "|---|\n",
       "| 0 |\n",
       "\n"
      ],
      "text/plain": [
       "  n\n",
       "1 0"
      ]
     },
     "metadata": {},
     "output_type": "display_data"
    }
   ],
   "source": [
    "# checking target mapping for missing values because of issues in gene mode (below):\n",
    "count(t2g[t2g$ens_gene==\"\",])"
   ]
  },
  {
   "cell_type": "markdown",
   "id": "ad0bb9d5-0a4f-4a86-9871-1c97254959ea",
   "metadata": {
    "tags": []
   },
   "source": [
    "## Wald test for all\n",
    "\n",
    "--> using so_gene, and no pval aggregation. \n",
    "--> The something seems to be wrong with so_genemode during set-up, so will instead not do aggregation now, but "
   ]
  },
  {
   "cell_type": "code",
   "execution_count": 61,
   "id": "c8d2ac32-9602-4441-92ea-db6b9123e675",
   "metadata": {},
   "outputs": [
    {
     "name": "stdout",
     "output_type": "stream",
     "text": [
      "[1] \"Looking at condition  RNA-seq_CTCF-AID_auxin1day\"\n"
     ]
    }
   ],
   "source": [
    "# Performing wald test for first beta condition (at index=2 of s2c)\n",
    "condition = s2c$condition[2]\n",
    "\n",
    "print(paste(\"Looking at condition\", condition))\n",
    "so_gene <- sleuth_wt(so_gene, which_beta = paste(\"condition\",condition, sep=\"\"))\n",
    "wald_res <- sleuth_results(so_gene, test = paste(\"condition\",condition, sep=\"\"), test_type = 'wt', pval_aggregate=FALSE, show_all = TRUE)"
   ]
  },
  {
   "cell_type": "code",
   "execution_count": 62,
   "id": "cf026b11-546b-49e0-935c-9b6c31b21de1",
   "metadata": {},
   "outputs": [
    {
     "data": {
      "text/html": [
       "<table class=\"dataframe\">\n",
       "<caption>A data.frame: 5 × 13</caption>\n",
       "<thead>\n",
       "\t<tr><th></th><th scope=col>target_id</th><th scope=col>ens_gene</th><th scope=col>ext_gene</th><th scope=col>pval</th><th scope=col>qval</th><th scope=col>b</th><th scope=col>se_b</th><th scope=col>mean_obs</th><th scope=col>var_obs</th><th scope=col>tech_var</th><th scope=col>sigma_sq</th><th scope=col>smooth_sigma_sq</th><th scope=col>final_sigma_sq</th></tr>\n",
       "\t<tr><th></th><th scope=col>&lt;chr&gt;</th><th scope=col>&lt;chr&gt;</th><th scope=col>&lt;chr&gt;</th><th scope=col>&lt;dbl&gt;</th><th scope=col>&lt;dbl&gt;</th><th scope=col>&lt;dbl&gt;</th><th scope=col>&lt;dbl&gt;</th><th scope=col>&lt;dbl&gt;</th><th scope=col>&lt;dbl&gt;</th><th scope=col>&lt;dbl&gt;</th><th scope=col>&lt;dbl&gt;</th><th scope=col>&lt;dbl&gt;</th><th scope=col>&lt;dbl&gt;</th></tr>\n",
       "</thead>\n",
       "<tbody>\n",
       "\t<tr><th scope=row>1</th><td>ENSMUST00000168900</td><td>NA                </td><td>NA        </td><td>2.872365e-17</td><td>1.380315e-12</td><td>-1.905176</td><td>0.2254208</td><td>7.059538</td><td>0.8788068</td><td>0.0019773653</td><td>0.04489230</td><td>0.07424445</td><td>0.07424445</td></tr>\n",
       "\t<tr><th scope=row>2</th><td>ENSMUST00000102763</td><td>ENSMUSG00000020392</td><td>Cdkn2aipnl</td><td>6.894337e-16</td><td>1.606176e-11</td><td>-1.662413</td><td>0.2059385</td><td>7.556659</td><td>0.7116337</td><td>0.0008762691</td><td>0.02037499</td><td>0.06273970</td><td>0.06273970</td></tr>\n",
       "\t<tr><th scope=row>3</th><td>ENSMUST00000006451</td><td>ENSMUSG00000006288</td><td>Ttc5      </td><td>1.002711e-15</td><td>1.606176e-11</td><td>-1.839779</td><td>0.2292124</td><td>7.017841</td><td>0.8876284</td><td>0.0033801130</td><td>0.03671444</td><td>0.07542735</td><td>0.07542735</td></tr>\n",
       "\t<tr><th scope=row>4</th><td>ENSMUST00000029644</td><td>ENSMUSG00000028013</td><td>Ppa2      </td><td>1.007347e-14</td><td>1.210202e-10</td><td>-1.821647</td><td>0.2354059</td><td>6.862515</td><td>0.9655665</td><td>0.0029059542</td><td>0.01553460</td><td>0.08021792</td><td>0.08021792</td></tr>\n",
       "\t<tr><th scope=row>5</th><td>ENSMUST00000108830</td><td>ENSMUSG00000001482</td><td>Def8      </td><td>1.827492e-13</td><td>1.756403e-09</td><td>-6.382005</td><td>0.8670207</td><td>3.389990</td><td>8.9131355</td><td>0.2951307665</td><td>0.83245665</td><td>0.57447928</td><td>0.83245665</td></tr>\n",
       "</tbody>\n",
       "</table>\n"
      ],
      "text/latex": [
       "A data.frame: 5 × 13\n",
       "\\begin{tabular}{r|lllllllllllll}\n",
       "  & target\\_id & ens\\_gene & ext\\_gene & pval & qval & b & se\\_b & mean\\_obs & var\\_obs & tech\\_var & sigma\\_sq & smooth\\_sigma\\_sq & final\\_sigma\\_sq\\\\\n",
       "  & <chr> & <chr> & <chr> & <dbl> & <dbl> & <dbl> & <dbl> & <dbl> & <dbl> & <dbl> & <dbl> & <dbl> & <dbl>\\\\\n",
       "\\hline\n",
       "\t1 & ENSMUST00000168900 & NA                 & NA         & 2.872365e-17 & 1.380315e-12 & -1.905176 & 0.2254208 & 7.059538 & 0.8788068 & 0.0019773653 & 0.04489230 & 0.07424445 & 0.07424445\\\\\n",
       "\t2 & ENSMUST00000102763 & ENSMUSG00000020392 & Cdkn2aipnl & 6.894337e-16 & 1.606176e-11 & -1.662413 & 0.2059385 & 7.556659 & 0.7116337 & 0.0008762691 & 0.02037499 & 0.06273970 & 0.06273970\\\\\n",
       "\t3 & ENSMUST00000006451 & ENSMUSG00000006288 & Ttc5       & 1.002711e-15 & 1.606176e-11 & -1.839779 & 0.2292124 & 7.017841 & 0.8876284 & 0.0033801130 & 0.03671444 & 0.07542735 & 0.07542735\\\\\n",
       "\t4 & ENSMUST00000029644 & ENSMUSG00000028013 & Ppa2       & 1.007347e-14 & 1.210202e-10 & -1.821647 & 0.2354059 & 6.862515 & 0.9655665 & 0.0029059542 & 0.01553460 & 0.08021792 & 0.08021792\\\\\n",
       "\t5 & ENSMUST00000108830 & ENSMUSG00000001482 & Def8       & 1.827492e-13 & 1.756403e-09 & -6.382005 & 0.8670207 & 3.389990 & 8.9131355 & 0.2951307665 & 0.83245665 & 0.57447928 & 0.83245665\\\\\n",
       "\\end{tabular}\n"
      ],
      "text/markdown": [
       "\n",
       "A data.frame: 5 × 13\n",
       "\n",
       "| <!--/--> | target_id &lt;chr&gt; | ens_gene &lt;chr&gt; | ext_gene &lt;chr&gt; | pval &lt;dbl&gt; | qval &lt;dbl&gt; | b &lt;dbl&gt; | se_b &lt;dbl&gt; | mean_obs &lt;dbl&gt; | var_obs &lt;dbl&gt; | tech_var &lt;dbl&gt; | sigma_sq &lt;dbl&gt; | smooth_sigma_sq &lt;dbl&gt; | final_sigma_sq &lt;dbl&gt; |\n",
       "|---|---|---|---|---|---|---|---|---|---|---|---|---|---|\n",
       "| 1 | ENSMUST00000168900 | NA                 | NA         | 2.872365e-17 | 1.380315e-12 | -1.905176 | 0.2254208 | 7.059538 | 0.8788068 | 0.0019773653 | 0.04489230 | 0.07424445 | 0.07424445 |\n",
       "| 2 | ENSMUST00000102763 | ENSMUSG00000020392 | Cdkn2aipnl | 6.894337e-16 | 1.606176e-11 | -1.662413 | 0.2059385 | 7.556659 | 0.7116337 | 0.0008762691 | 0.02037499 | 0.06273970 | 0.06273970 |\n",
       "| 3 | ENSMUST00000006451 | ENSMUSG00000006288 | Ttc5       | 1.002711e-15 | 1.606176e-11 | -1.839779 | 0.2292124 | 7.017841 | 0.8876284 | 0.0033801130 | 0.03671444 | 0.07542735 | 0.07542735 |\n",
       "| 4 | ENSMUST00000029644 | ENSMUSG00000028013 | Ppa2       | 1.007347e-14 | 1.210202e-10 | -1.821647 | 0.2354059 | 6.862515 | 0.9655665 | 0.0029059542 | 0.01553460 | 0.08021792 | 0.08021792 |\n",
       "| 5 | ENSMUST00000108830 | ENSMUSG00000001482 | Def8       | 1.827492e-13 | 1.756403e-09 | -6.382005 | 0.8670207 | 3.389990 | 8.9131355 | 0.2951307665 | 0.83245665 | 0.57447928 | 0.83245665 |\n",
       "\n"
      ],
      "text/plain": [
       "  target_id          ens_gene           ext_gene   pval         qval        \n",
       "1 ENSMUST00000168900 NA                 NA         2.872365e-17 1.380315e-12\n",
       "2 ENSMUST00000102763 ENSMUSG00000020392 Cdkn2aipnl 6.894337e-16 1.606176e-11\n",
       "3 ENSMUST00000006451 ENSMUSG00000006288 Ttc5       1.002711e-15 1.606176e-11\n",
       "4 ENSMUST00000029644 ENSMUSG00000028013 Ppa2       1.007347e-14 1.210202e-10\n",
       "5 ENSMUST00000108830 ENSMUSG00000001482 Def8       1.827492e-13 1.756403e-09\n",
       "  b         se_b      mean_obs var_obs   tech_var     sigma_sq  \n",
       "1 -1.905176 0.2254208 7.059538 0.8788068 0.0019773653 0.04489230\n",
       "2 -1.662413 0.2059385 7.556659 0.7116337 0.0008762691 0.02037499\n",
       "3 -1.839779 0.2292124 7.017841 0.8876284 0.0033801130 0.03671444\n",
       "4 -1.821647 0.2354059 6.862515 0.9655665 0.0029059542 0.01553460\n",
       "5 -6.382005 0.8670207 3.389990 8.9131355 0.2951307665 0.83245665\n",
       "  smooth_sigma_sq final_sigma_sq\n",
       "1 0.07424445      0.07424445    \n",
       "2 0.06273970      0.06273970    \n",
       "3 0.07542735      0.07542735    \n",
       "4 0.08021792      0.08021792    \n",
       "5 0.57447928      0.83245665    "
      ]
     },
     "metadata": {},
     "output_type": "display_data"
    }
   ],
   "source": [
    "head(wald_res, 5)"
   ]
  },
  {
   "cell_type": "code",
   "execution_count": 63,
   "id": "4433da73-d07a-4bb1-8011-8180e1948fc1",
   "metadata": {},
   "outputs": [],
   "source": [
    "# Look at how many transcripts there are for a significantly expressed gene (for pval_aggregate=FALSE mode): \n",
    "\n",
    "# wald_res[which(wald_res$ens_gene == 'ENSMUSG00000028013'),]"
   ]
  },
  {
   "cell_type": "code",
   "execution_count": 64,
   "id": "876f1148-3252-48b8-acc6-2c54501690e3",
   "metadata": {},
   "outputs": [],
   "source": [
    "# looks like only one of the transcripts has a significant qval, and it's data generally/approximately aligns with the data from the aggregation"
   ]
  },
  {
   "cell_type": "code",
   "execution_count": 65,
   "id": "dc2019af-4d35-46bd-9e0d-1831a89ad592",
   "metadata": {},
   "outputs": [
    {
     "name": "stdout",
     "output_type": "stream",
     "text": [
      "[1] \"total Number of Genes in WT model with p-val aggregation, for condition:   RNA-seq_CTCF-AID_auxin1day\"\n"
     ]
    },
    {
     "data": {
      "text/html": [
       "88366"
      ],
      "text/latex": [
       "88366"
      ],
      "text/markdown": [
       "88366"
      ],
      "text/plain": [
       "[1] 88366"
      ]
     },
     "metadata": {},
     "output_type": "display_data"
    },
    {
     "name": "stdout",
     "output_type": "stream",
     "text": [
      "[1] \"Total number of significant DE in WT model with p-val aggregation: \"\n",
      "[1] 76\n",
      "[1] \"Number of nonsig genes (qval > 0.05): \"\n",
      "[1] 88290\n"
     ]
    }
   ],
   "source": [
    "sleuth_significant_wt <- dplyr::filter(wald_res, qval <= 0.05)\n",
    "\n",
    "print(paste(\"total Number of Genes in WT model with p-val aggregation, for condition: \", condition))\n",
    "length(unique(wald_res$target_id))\n",
    "print(\"Total number of significant DE in WT model with p-val aggregation: \")\n",
    "print(length(unique(sleuth_significant_wt$target_id)))\n",
    "\n",
    "sig_genes_WT = unique(sleuth_significant_wt$target_id)\n",
    "nonsig_genes_WT = setdiff(unique(wald_res$target_id), unique(sleuth_significant_wt$target_id))\n",
    "\n",
    "\n",
    "print(\"Number of nonsig genes (qval > 0.05): \")\n",
    "print(length(nonsig_genes_WT))"
   ]
  },
  {
   "cell_type": "code",
   "execution_count": 66,
   "id": "19e90c65-52ea-4a33-a2f9-798b6a3fefc9",
   "metadata": {},
   "outputs": [
    {
     "name": "stdout",
     "output_type": "stream",
     "text": [
      "[1] \"total Number of Genes in WT model without p-val aggregation, for condition:   RNA-seq_CTCF-AID_auxin1day\"\n"
     ]
    },
    {
     "data": {
      "text/html": [
       "26521"
      ],
      "text/latex": [
       "26521"
      ],
      "text/markdown": [
       "26521"
      ],
      "text/plain": [
       "[1] 26521"
      ]
     },
     "metadata": {},
     "output_type": "display_data"
    },
    {
     "name": "stdout",
     "output_type": "stream",
     "text": [
      "[1] \"Total number of significant DE in WT model with p-val aggregation: \"\n",
      "[1] 63\n",
      "[1] \"Number of nonsig genes (qval > 0.05): \"\n",
      "[1] 26458\n"
     ]
    }
   ],
   "source": [
    "sleuth_significant_wt <- dplyr::filter(wald_res, qval <= 0.05)\n",
    "\n",
    "print(paste(\"total Number of Genes in WT model without p-val aggregation, for condition: \", condition))\n",
    "length(unique(wald_res$ens_gene))\n",
    "print(\"Total number of significant DE in WT model with p-val aggregation: \")\n",
    "print(length(unique(sleuth_significant_wt$ens_gene)))\n",
    "\n",
    "sig_genes_WT = unique(sleuth_significant_wt$ens_gene)\n",
    "nonsig_genes_WT = setdiff(unique(wald_res$ens_gene), unique(sleuth_significant_wt$ens_gene))\n",
    "\n",
    "\n",
    "print(\"Number of nonsig genes (qval > 0.05): \")\n",
    "print(length(nonsig_genes_WT))"
   ]
  },
  {
   "cell_type": "code",
   "execution_count": 67,
   "id": "128f8e30-98f0-40dd-a39b-444a54135e0b",
   "metadata": {},
   "outputs": [
    {
     "name": "stdout",
     "output_type": "stream",
     "text": [
      "[1] 0\n",
      "[1] 61\n",
      "[1] 25566\n",
      "[1] 1\n",
      "[1] 892\n"
     ]
    }
   ],
   "source": [
    "# Looking at intersections\n",
    "\n",
    "print(length(intersect(sig_genes_WT, nonsig_genes_WT)))\n",
    "print(length(intersect(sig_genes_LRT, sig_genes_WT)))\n",
    "print(length(intersect(nonsig_genes_LRT, nonsig_genes_WT)))\n",
    "\n",
    "print(length(intersect(nonsig_genes_LRT, sig_genes_WT)))\n",
    "print(length(intersect(sig_genes_LRT, nonsig_genes_WT)))"
   ]
  },
  {
   "cell_type": "code",
   "execution_count": 68,
   "id": "ba8982da-bcf6-40cf-b2ae-7624b8279273",
   "metadata": {},
   "outputs": [
    {
     "data": {
      "text/html": [
       "<table class=\"dataframe\">\n",
       "<caption>A data.frame: 1 × 1</caption>\n",
       "<thead>\n",
       "\t<tr><th scope=col>n</th></tr>\n",
       "\t<tr><th scope=col>&lt;int&gt;</th></tr>\n",
       "</thead>\n",
       "<tbody>\n",
       "\t<tr><td>76</td></tr>\n",
       "</tbody>\n",
       "</table>\n"
      ],
      "text/latex": [
       "A data.frame: 1 × 1\n",
       "\\begin{tabular}{l}\n",
       " n\\\\\n",
       " <int>\\\\\n",
       "\\hline\n",
       "\t 76\\\\\n",
       "\\end{tabular}\n"
      ],
      "text/markdown": [
       "\n",
       "A data.frame: 1 × 1\n",
       "\n",
       "| n &lt;int&gt; |\n",
       "|---|\n",
       "| 76 |\n",
       "\n"
      ],
      "text/plain": [
       "  n \n",
       "1 76"
      ]
     },
     "metadata": {},
     "output_type": "display_data"
    }
   ],
   "source": [
    "count(dplyr::filter(wald_res, qval <= 0.05))"
   ]
  },
  {
   "cell_type": "code",
   "execution_count": null,
   "id": "7daa25bb-0ad3-4edd-9df7-f83d92f10a1d",
   "metadata": {},
   "outputs": [],
   "source": []
  },
  {
   "cell_type": "code",
   "execution_count": 70,
   "id": "e6b19e79-8f1f-400c-8c1f-a8b89068592f",
   "metadata": {},
   "outputs": [
    {
     "data": {
      "text/html": [
       "<table class=\"dataframe\">\n",
       "<caption>A data.frame: 4 × 6</caption>\n",
       "<thead>\n",
       "\t<tr><th></th><th scope=col>target_id</th><th scope=col>ext_gene</th><th scope=col>num_aggregated_transcripts</th><th scope=col>sum_mean_obs_counts</th><th scope=col>pval</th><th scope=col>qval</th></tr>\n",
       "\t<tr><th></th><th scope=col>&lt;chr&gt;</th><th scope=col>&lt;chr&gt;</th><th scope=col>&lt;int&gt;</th><th scope=col>&lt;dbl&gt;</th><th scope=col>&lt;dbl&gt;</th><th scope=col>&lt;dbl&gt;</th></tr>\n",
       "</thead>\n",
       "<tbody>\n",
       "\t<tr><th scope=row>1</th><td>ENSMUSG00000028013</td><td>Ppa2      </td><td>3</td><td>12.841514</td><td>1.065986e-15</td><td>5.888149e-12</td></tr>\n",
       "\t<tr><th scope=row>2</th><td>ENSMUSG00000020392</td><td>Cdkn2aipnl</td><td>1</td><td> 7.556659</td><td>6.894337e-16</td><td>5.888149e-12</td></tr>\n",
       "\t<tr><th scope=row>3</th><td>ENSMUSG00000006288</td><td>Ttc5      </td><td>1</td><td> 7.017841</td><td>1.002711e-15</td><td>5.888149e-12</td></tr>\n",
       "\t<tr><th scope=row>4</th><td>ENSMUSG00000030532</td><td>Hddc3     </td><td>1</td><td> 4.413944</td><td>1.137684e-12</td><td>3.770512e-09</td></tr>\n",
       "</tbody>\n",
       "</table>\n"
      ],
      "text/latex": [
       "A data.frame: 4 × 6\n",
       "\\begin{tabular}{r|llllll}\n",
       "  & target\\_id & ext\\_gene & num\\_aggregated\\_transcripts & sum\\_mean\\_obs\\_counts & pval & qval\\\\\n",
       "  & <chr> & <chr> & <int> & <dbl> & <dbl> & <dbl>\\\\\n",
       "\\hline\n",
       "\t1 & ENSMUSG00000028013 & Ppa2       & 3 & 12.841514 & 1.065986e-15 & 5.888149e-12\\\\\n",
       "\t2 & ENSMUSG00000020392 & Cdkn2aipnl & 1 &  7.556659 & 6.894337e-16 & 5.888149e-12\\\\\n",
       "\t3 & ENSMUSG00000006288 & Ttc5       & 1 &  7.017841 & 1.002711e-15 & 5.888149e-12\\\\\n",
       "\t4 & ENSMUSG00000030532 & Hddc3      & 1 &  4.413944 & 1.137684e-12 & 3.770512e-09\\\\\n",
       "\\end{tabular}\n"
      ],
      "text/markdown": [
       "\n",
       "A data.frame: 4 × 6\n",
       "\n",
       "| <!--/--> | target_id &lt;chr&gt; | ext_gene &lt;chr&gt; | num_aggregated_transcripts &lt;int&gt; | sum_mean_obs_counts &lt;dbl&gt; | pval &lt;dbl&gt; | qval &lt;dbl&gt; |\n",
       "|---|---|---|---|---|---|---|\n",
       "| 1 | ENSMUSG00000028013 | Ppa2       | 3 | 12.841514 | 1.065986e-15 | 5.888149e-12 |\n",
       "| 2 | ENSMUSG00000020392 | Cdkn2aipnl | 1 |  7.556659 | 6.894337e-16 | 5.888149e-12 |\n",
       "| 3 | ENSMUSG00000006288 | Ttc5       | 1 |  7.017841 | 1.002711e-15 | 5.888149e-12 |\n",
       "| 4 | ENSMUSG00000030532 | Hddc3      | 1 |  4.413944 | 1.137684e-12 | 3.770512e-09 |\n",
       "\n"
      ],
      "text/plain": [
       "  target_id          ext_gene   num_aggregated_transcripts sum_mean_obs_counts\n",
       "1 ENSMUSG00000028013 Ppa2       3                          12.841514          \n",
       "2 ENSMUSG00000020392 Cdkn2aipnl 1                           7.556659          \n",
       "3 ENSMUSG00000006288 Ttc5       1                           7.017841          \n",
       "4 ENSMUSG00000030532 Hddc3      1                           4.413944          \n",
       "  pval         qval        \n",
       "1 1.065986e-15 5.888149e-12\n",
       "2 6.894337e-16 5.888149e-12\n",
       "3 1.002711e-15 5.888149e-12\n",
       "4 1.137684e-12 3.770512e-09"
      ]
     },
     "metadata": {},
     "output_type": "display_data"
    }
   ],
   "source": [
    "head(sleuth_results(so_gene, \"condition RNA-seq_CTCF-AID_auxin1day\"), 4)"
   ]
  },
  {
   "cell_type": "code",
   "execution_count": 71,
   "id": "d1376623-a05a-409d-8e55-6b01d7e16ecb",
   "metadata": {},
   "outputs": [
    {
     "name": "stderr",
     "output_type": "stream",
     "text": [
      "ERROR while rich displaying an object: Error in FUN(X[[i]], ...): object 'mean_obs' not found\n",
      "\n",
      "Traceback:\n",
      "1. FUN(X[[i]], ...)\n",
      "2. tryCatch(withCallingHandlers({\n",
      " .     if (!mime %in% names(repr::mime2repr)) \n",
      " .         stop(\"No repr_* for mimetype \", mime, \" in repr::mime2repr\")\n",
      " .     rpr <- repr::mime2repr[[mime]](obj)\n",
      " .     if (is.null(rpr)) \n",
      " .         return(NULL)\n",
      " .     prepare_content(is.raw(rpr), rpr)\n",
      " . }, error = error_handler), error = outer_handler)\n",
      "3. tryCatchList(expr, classes, parentenv, handlers)\n",
      "4. tryCatchOne(expr, names, parentenv, handlers[[1L]])\n",
      "5. doTryCatch(return(expr), name, parentenv, handler)\n",
      "6. withCallingHandlers({\n",
      " .     if (!mime %in% names(repr::mime2repr)) \n",
      " .         stop(\"No repr_* for mimetype \", mime, \" in repr::mime2repr\")\n",
      " .     rpr <- repr::mime2repr[[mime]](obj)\n",
      " .     if (is.null(rpr)) \n",
      " .         return(NULL)\n",
      " .     prepare_content(is.raw(rpr), rpr)\n",
      " . }, error = error_handler)\n",
      "7. repr::mime2repr[[mime]](obj)\n",
      "8. repr_text.default(obj)\n",
      "9. paste(capture.output(print(obj)), collapse = \"\\n\")\n",
      "10. capture.output(print(obj))\n",
      "11. evalVis(expr)\n",
      "12. withVisible(eval(expr, pf))\n",
      "13. eval(expr, pf)\n",
      "14. eval(expr, pf)\n",
      "15. print(obj)\n",
      "16. print.ggplot(obj)\n",
      "17. ggplot_build(x)\n",
      "18. ggplot_build.ggplot(x)\n",
      "19. by_layer(function(l, d) l$compute_aesthetics(d, plot))\n",
      "20. f(l = layers[[i]], d = data[[i]])\n",
      "21. l$compute_aesthetics(d, plot)\n",
      "22. f(..., self = self)\n",
      "23. scales_add_defaults(plot$scales, data, aesthetics, plot$plot_env)\n",
      "24. lapply(aesthetics[new_aesthetics], eval_tidy, data = data)\n",
      "25. FUN(X[[i]], ...)\n"
     ]
    },
    {
     "data": {
      "image/png": "[encoded data removed]",
      "text/plain": [
       "plot without title"
      ]
     },
     "metadata": {
      "image/png": {
       "height": 420,
       "width": 420
      }
     },
     "output_type": "display_data"
    }
   ],
   "source": [
    "plot_ma(so_gene, \"condition RNA-seq_CTCF-AID_auxin1day\")"
   ]
  },
  {
   "cell_type": "code",
   "execution_count": 120,
   "id": "631b9ad5-b8fa-4883-adb0-0fe88b1600d9",
   "metadata": {},
   "outputs": [
    {
     "ename": "ERROR",
     "evalue": "\u001b[1m\u001b[33mError\u001b[39m in \u001b[1m\u001b[1m\u001b[30m\u001b[47m`stop_subscript()`\u001b[49m\u001b[39m:\u001b[22m\n\u001b[33m!\u001b[39m Can't subset columns that don't exist.\n\u001b[31mx\u001b[39m Column `b` doesn't exist.\n",
     "output_type": "error",
     "traceback": [
      "\u001b[1m\u001b[33mError\u001b[39m in \u001b[1m\u001b[1m\u001b[30m\u001b[47m`stop_subscript()`\u001b[49m\u001b[39m:\u001b[22m\n\u001b[33m!\u001b[39m Can't subset columns that don't exist.\n\u001b[31mx\u001b[39m Column `b` doesn't exist.\nTraceback:\n",
      "1. results %>% select(target_id, sum_mean_obs_counts, pval, qval, \n .     b, se_b)",
      "2. select(., target_id, sum_mean_obs_counts, pval, qval, b, se_b)",
      "3. select.data.frame(., target_id, sum_mean_obs_counts, pval, qval, \n .     b, se_b)",
      "4. tidyselect::eval_select(expr(c(...)), .data)",
      "5. eval_select_impl(data, names(data), as_quosure(expr, env), include = include, \n .     exclude = exclude, strict = strict, name_spec = name_spec, \n .     allow_rename = allow_rename)",
      "6. with_subscript_errors(vars_select_eval(vars, expr, strict, data = x, \n .     name_spec = name_spec, uniquely_named = uniquely_named, allow_rename = allow_rename, \n .     type = type), type = type)",
      "7. tryCatch(instrument_base_errors(expr), vctrs_error_subscript = function(cnd) {\n .     cnd$subscript_action <- subscript_action(type)\n .     cnd$subscript_elt <- \"column\"\n .     cnd_signal(cnd)\n . })",
      "8. tryCatchList(expr, classes, parentenv, handlers)",
      "9. tryCatchOne(expr, names, parentenv, handlers[[1L]])",
      "10. value[[3L]](cond)",
      "11. cnd_signal(cnd)",
      "12. signal_abort(cnd)"
     ]
    }
   ],
   "source": [
    "mergecols <- results %>%\n",
    "        select(target_id, sum_mean_obs_counts, pval, qval, b, se_b)\n",
    "\n",
    "print(paste(\"Total number of significant differentially expressed genes: \",count(dplyr::filter(results, qval <= 0.05)), sep=\"\"))"
   ]
  },
  {
   "cell_type": "markdown",
   "id": "557c4538-2af6-443e-81fa-f7319435c560",
   "metadata": {
    "tags": []
   },
   "source": [
    "# Gene-level analysis: gene mode\n",
    "\n",
    "from docs:\n",
    "\"In this mode, the modeling and testing was done using aggregated counts (or TPMs), and so the results are same as for the transcript-level results, except the target IDs are now gene IDs instead of transcript IDs.\"\n",
    "\n",
    "Note: Getting lot's of warnings in the prep using this method."
   ]
  },
  {
   "cell_type": "markdown",
   "id": "f833a531-d05b-4118-aae0-9a99b64c3744",
   "metadata": {
    "jp-MarkdownHeadingCollapsed": true,
    "tags": []
   },
   "source": [
    "## Pachter lab updates / recommendations for gene aggregation\n",
    "\n",
    "Pausing here, https://github.com/pachterlab/sleuth/issues/164\n",
    "\n",
    "https://www.biorxiv.org/content/10.1101/190199v1.full.pdf"
   ]
  },
  {
   "cell_type": "code",
   "execution_count": 226,
   "id": "0b63d5ed-7965-4030-a12b-7ce0f1cf8848",
   "metadata": {},
   "outputs": [
    {
     "name": "stderr",
     "output_type": "stream",
     "text": [
      "'gene_mode' is TRUE. Sleuth will do counts aggregation at the gene level for downstream normalization, transformation, and modeling steps, as well as for plotting and results.\n",
      "\n",
      "reading in kallisto results\n",
      "\n",
      "dropping unused factor levels\n",
      "\n",
      ".\n",
      ".\n",
      ".\n",
      ".\n",
      ".\n",
      ".\n",
      ".\n",
      ".\n",
      ".\n",
      ".\n",
      ".\n",
      ".\n",
      ".\n",
      ".\n",
      ".\n",
      ".\n",
      ".\n",
      ".\n",
      ".\n",
      ".\n",
      ".\n",
      ".\n",
      ".\n",
      ".\n",
      "\n",
      "\n",
      "normalizing est_counts\n",
      "\n",
      "48055 targets passed the filter\n",
      "\n",
      "normalizing tpm\n",
      "\n",
      "merging in metadata\n",
      "\n",
      "aggregating by column: ens_gene\n",
      "\n",
      "16571 genes passed the filter\n",
      "\n",
      "Warning message in sleuth_prep(s2c, target_mapping = t2g, aggregation_column = \"ens_gene\", :\n",
      "\"47421 target_ids are missing annotations for the aggregation_column: ens_gene.\n",
      "These target_ids will be dropped from the gene-level analysis.\n",
      "If you did not expect this, check your 'target_mapping' table for missing values.\"\n",
      "summarizing bootstraps\n",
      "\n",
      ".\n",
      "Warning message in data.table::melt(bs_df, id.vars = \"bootstrap_num\", variable.name = \"target_id\", :\n",
      "\"The melt generic in data.table has been passed a data.frame and will attempt to redirect to the relevant reshape2 method; please note that reshape2 is deprecated, and this redirection is now deprecated as well. To continue using melt methods from reshape2 while both libraries are attached, e.g. melt.list, you can prepend the namespace like reshape2::melt(bs_df). In the next version, this warning will become an error.\"\n",
      "Warning message in data.table::dcast(scaled_bs, sample ~ target_id, value.var = \"scaled_reads_per_base\"):\n",
      "\"The dcast generic in data.table has been passed a data.frame and will attempt to redirect to the reshape2::dcast; please note that reshape2 is deprecated, and this redirection is now deprecated as well. Please do this redirection yourself like reshape2::dcast(scaled_bs). In the next version, this warning will become an error.\"\n",
      ".\n",
      "Warning message in data.table::melt(bs_df, id.vars = \"bootstrap_num\", variable.name = \"target_id\", :\n",
      "\"The melt generic in data.table has been passed a data.frame and will attempt to redirect to the relevant reshape2 method; please note that reshape2 is deprecated, and this redirection is now deprecated as well. To continue using melt methods from reshape2 while both libraries are attached, e.g. melt.list, you can prepend the namespace like reshape2::melt(bs_df). In the next version, this warning will become an error.\"\n",
      "Warning message in data.table::dcast(scaled_bs, sample ~ target_id, value.var = \"scaled_reads_per_base\"):\n",
      "\"The dcast generic in data.table has been passed a data.frame and will attempt to redirect to the reshape2::dcast; please note that reshape2 is deprecated, and this redirection is now deprecated as well. Please do this redirection yourself like reshape2::dcast(scaled_bs). In the next version, this warning will become an error.\"\n",
      ".\n",
      "Warning message in data.table::melt(bs_df, id.vars = \"bootstrap_num\", variable.name = \"target_id\", :\n",
      "\"The melt generic in data.table has been passed a data.frame and will attempt to redirect to the relevant reshape2 method; please note that reshape2 is deprecated, and this redirection is now deprecated as well. To continue using melt methods from reshape2 while both libraries are attached, e.g. melt.list, you can prepend the namespace like reshape2::melt(bs_df). In the next version, this warning will become an error.\"\n",
      "Warning message in data.table::dcast(scaled_bs, sample ~ target_id, value.var = \"scaled_reads_per_base\"):\n",
      "\"The dcast generic in data.table has been passed a data.frame and will attempt to redirect to the reshape2::dcast; please note that reshape2 is deprecated, and this redirection is now deprecated as well. Please do this redirection yourself like reshape2::dcast(scaled_bs). In the next version, this warning will become an error.\"\n",
      ".\n",
      "Warning message in data.table::melt(bs_df, id.vars = \"bootstrap_num\", variable.name = \"target_id\", :\n",
      "\"The melt generic in data.table has been passed a data.frame and will attempt to redirect to the relevant reshape2 method; please note that reshape2 is deprecated, and this redirection is now deprecated as well. To continue using melt methods from reshape2 while both libraries are attached, e.g. melt.list, you can prepend the namespace like reshape2::melt(bs_df). In the next version, this warning will become an error.\"\n",
      "Warning message in data.table::dcast(scaled_bs, sample ~ target_id, value.var = \"scaled_reads_per_base\"):\n",
      "\"The dcast generic in data.table has been passed a data.frame and will attempt to redirect to the reshape2::dcast; please note that reshape2 is deprecated, and this redirection is now deprecated as well. Please do this redirection yourself like reshape2::dcast(scaled_bs). In the next version, this warning will become an error.\"\n",
      ".\n",
      "Warning message in data.table::melt(bs_df, id.vars = \"bootstrap_num\", variable.name = \"target_id\", :\n",
      "\"The melt generic in data.table has been passed a data.frame and will attempt to redirect to the relevant reshape2 method; please note that reshape2 is deprecated, and this redirection is now deprecated as well. To continue using melt methods from reshape2 while both libraries are attached, e.g. melt.list, you can prepend the namespace like reshape2::melt(bs_df). In the next version, this warning will become an error.\"\n",
      "Warning message in data.table::dcast(scaled_bs, sample ~ target_id, value.var = \"scaled_reads_per_base\"):\n",
      "\"The dcast generic in data.table has been passed a data.frame and will attempt to redirect to the reshape2::dcast; please note that reshape2 is deprecated, and this redirection is now deprecated as well. Please do this redirection yourself like reshape2::dcast(scaled_bs). In the next version, this warning will become an error.\"\n",
      ".\n",
      "Warning message in data.table::melt(bs_df, id.vars = \"bootstrap_num\", variable.name = \"target_id\", :\n",
      "\"The melt generic in data.table has been passed a data.frame and will attempt to redirect to the relevant reshape2 method; please note that reshape2 is deprecated, and this redirection is now deprecated as well. To continue using melt methods from reshape2 while both libraries are attached, e.g. melt.list, you can prepend the namespace like reshape2::melt(bs_df). In the next version, this warning will become an error.\"\n",
      "Warning message in data.table::dcast(scaled_bs, sample ~ target_id, value.var = \"scaled_reads_per_base\"):\n",
      "\"The dcast generic in data.table has been passed a data.frame and will attempt to redirect to the reshape2::dcast; please note that reshape2 is deprecated, and this redirection is now deprecated as well. Please do this redirection yourself like reshape2::dcast(scaled_bs). In the next version, this warning will become an error.\"\n",
      ".\n",
      "Warning message in data.table::melt(bs_df, id.vars = \"bootstrap_num\", variable.name = \"target_id\", :\n",
      "\"The melt generic in data.table has been passed a data.frame and will attempt to redirect to the relevant reshape2 method; please note that reshape2 is deprecated, and this redirection is now deprecated as well. To continue using melt methods from reshape2 while both libraries are attached, e.g. melt.list, you can prepend the namespace like reshape2::melt(bs_df). In the next version, this warning will become an error.\"\n",
      "Warning message in data.table::dcast(scaled_bs, sample ~ target_id, value.var = \"scaled_reads_per_base\"):\n",
      "\"The dcast generic in data.table has been passed a data.frame and will attempt to redirect to the reshape2::dcast; please note that reshape2 is deprecated, and this redirection is now deprecated as well. Please do this redirection yourself like reshape2::dcast(scaled_bs). In the next version, this warning will become an error.\"\n",
      ".\n",
      "Warning message in data.table::melt(bs_df, id.vars = \"bootstrap_num\", variable.name = \"target_id\", :\n",
      "\"The melt generic in data.table has been passed a data.frame and will attempt to redirect to the relevant reshape2 method; please note that reshape2 is deprecated, and this redirection is now deprecated as well. To continue using melt methods from reshape2 while both libraries are attached, e.g. melt.list, you can prepend the namespace like reshape2::melt(bs_df). In the next version, this warning will become an error.\"\n",
      "Warning message in data.table::dcast(scaled_bs, sample ~ target_id, value.var = \"scaled_reads_per_base\"):\n",
      "\"The dcast generic in data.table has been passed a data.frame and will attempt to redirect to the reshape2::dcast; please note that reshape2 is deprecated, and this redirection is now deprecated as well. Please do this redirection yourself like reshape2::dcast(scaled_bs). In the next version, this warning will become an error.\"\n",
      ".\n",
      "Warning message in data.table::melt(bs_df, id.vars = \"bootstrap_num\", variable.name = \"target_id\", :\n",
      "\"The melt generic in data.table has been passed a data.frame and will attempt to redirect to the relevant reshape2 method; please note that reshape2 is deprecated, and this redirection is now deprecated as well. To continue using melt methods from reshape2 while both libraries are attached, e.g. melt.list, you can prepend the namespace like reshape2::melt(bs_df). In the next version, this warning will become an error.\"\n",
      "Warning message in data.table::dcast(scaled_bs, sample ~ target_id, value.var = \"scaled_reads_per_base\"):\n",
      "\"The dcast generic in data.table has been passed a data.frame and will attempt to redirect to the reshape2::dcast; please note that reshape2 is deprecated, and this redirection is now deprecated as well. Please do this redirection yourself like reshape2::dcast(scaled_bs). In the next version, this warning will become an error.\"\n",
      ".\n",
      "Warning message in data.table::melt(bs_df, id.vars = \"bootstrap_num\", variable.name = \"target_id\", :\n",
      "\"The melt generic in data.table has been passed a data.frame and will attempt to redirect to the relevant reshape2 method; please note that reshape2 is deprecated, and this redirection is now deprecated as well. To continue using melt methods from reshape2 while both libraries are attached, e.g. melt.list, you can prepend the namespace like reshape2::melt(bs_df). In the next version, this warning will become an error.\"\n",
      "Warning message in data.table::dcast(scaled_bs, sample ~ target_id, value.var = \"scaled_reads_per_base\"):\n",
      "\"The dcast generic in data.table has been passed a data.frame and will attempt to redirect to the reshape2::dcast; please note that reshape2 is deprecated, and this redirection is now deprecated as well. Please do this redirection yourself like reshape2::dcast(scaled_bs). In the next version, this warning will become an error.\"\n",
      ".\n",
      "Warning message in data.table::melt(bs_df, id.vars = \"bootstrap_num\", variable.name = \"target_id\", :\n",
      "\"The melt generic in data.table has been passed a data.frame and will attempt to redirect to the relevant reshape2 method; please note that reshape2 is deprecated, and this redirection is now deprecated as well. To continue using melt methods from reshape2 while both libraries are attached, e.g. melt.list, you can prepend the namespace like reshape2::melt(bs_df). In the next version, this warning will become an error.\"\n",
      "Warning message in data.table::dcast(scaled_bs, sample ~ target_id, value.var = \"scaled_reads_per_base\"):\n",
      "\"The dcast generic in data.table has been passed a data.frame and will attempt to redirect to the reshape2::dcast; please note that reshape2 is deprecated, and this redirection is now deprecated as well. Please do this redirection yourself like reshape2::dcast(scaled_bs). In the next version, this warning will become an error.\"\n",
      ".\n",
      "Warning message in data.table::melt(bs_df, id.vars = \"bootstrap_num\", variable.name = \"target_id\", :\n",
      "\"The melt generic in data.table has been passed a data.frame and will attempt to redirect to the relevant reshape2 method; please note that reshape2 is deprecated, and this redirection is now deprecated as well. To continue using melt methods from reshape2 while both libraries are attached, e.g. melt.list, you can prepend the namespace like reshape2::melt(bs_df). In the next version, this warning will become an error.\"\n",
      "Warning message in data.table::dcast(scaled_bs, sample ~ target_id, value.var = \"scaled_reads_per_base\"):\n",
      "\"The dcast generic in data.table has been passed a data.frame and will attempt to redirect to the reshape2::dcast; please note that reshape2 is deprecated, and this redirection is now deprecated as well. Please do this redirection yourself like reshape2::dcast(scaled_bs). In the next version, this warning will become an error.\"\n",
      ".\n",
      "Warning message in data.table::melt(bs_df, id.vars = \"bootstrap_num\", variable.name = \"target_id\", :\n",
      "\"The melt generic in data.table has been passed a data.frame and will attempt to redirect to the relevant reshape2 method; please note that reshape2 is deprecated, and this redirection is now deprecated as well. To continue using melt methods from reshape2 while both libraries are attached, e.g. melt.list, you can prepend the namespace like reshape2::melt(bs_df). In the next version, this warning will become an error.\"\n",
      "Warning message in data.table::dcast(scaled_bs, sample ~ target_id, value.var = \"scaled_reads_per_base\"):\n",
      "\"The dcast generic in data.table has been passed a data.frame and will attempt to redirect to the reshape2::dcast; please note that reshape2 is deprecated, and this redirection is now deprecated as well. Please do this redirection yourself like reshape2::dcast(scaled_bs). In the next version, this warning will become an error.\"\n",
      ".\n",
      "Warning message in data.table::melt(bs_df, id.vars = \"bootstrap_num\", variable.name = \"target_id\", :\n",
      "\"The melt generic in data.table has been passed a data.frame and will attempt to redirect to the relevant reshape2 method; please note that reshape2 is deprecated, and this redirection is now deprecated as well. To continue using melt methods from reshape2 while both libraries are attached, e.g. melt.list, you can prepend the namespace like reshape2::melt(bs_df). In the next version, this warning will become an error.\"\n",
      "Warning message in data.table::dcast(scaled_bs, sample ~ target_id, value.var = \"scaled_reads_per_base\"):\n",
      "\"The dcast generic in data.table has been passed a data.frame and will attempt to redirect to the reshape2::dcast; please note that reshape2 is deprecated, and this redirection is now deprecated as well. Please do this redirection yourself like reshape2::dcast(scaled_bs). In the next version, this warning will become an error.\"\n",
      ".\n",
      "Warning message in data.table::melt(bs_df, id.vars = \"bootstrap_num\", variable.name = \"target_id\", :\n",
      "\"The melt generic in data.table has been passed a data.frame and will attempt to redirect to the relevant reshape2 method; please note that reshape2 is deprecated, and this redirection is now deprecated as well. To continue using melt methods from reshape2 while both libraries are attached, e.g. melt.list, you can prepend the namespace like reshape2::melt(bs_df). In the next version, this warning will become an error.\"\n",
      "Warning message in data.table::dcast(scaled_bs, sample ~ target_id, value.var = \"scaled_reads_per_base\"):\n",
      "\"The dcast generic in data.table has been passed a data.frame and will attempt to redirect to the reshape2::dcast; please note that reshape2 is deprecated, and this redirection is now deprecated as well. Please do this redirection yourself like reshape2::dcast(scaled_bs). In the next version, this warning will become an error.\"\n",
      ".\n",
      "Warning message in data.table::melt(bs_df, id.vars = \"bootstrap_num\", variable.name = \"target_id\", :\n",
      "\"The melt generic in data.table has been passed a data.frame and will attempt to redirect to the relevant reshape2 method; please note that reshape2 is deprecated, and this redirection is now deprecated as well. To continue using melt methods from reshape2 while both libraries are attached, e.g. melt.list, you can prepend the namespace like reshape2::melt(bs_df). In the next version, this warning will become an error.\"\n",
      "Warning message in data.table::dcast(scaled_bs, sample ~ target_id, value.var = \"scaled_reads_per_base\"):\n",
      "\"The dcast generic in data.table has been passed a data.frame and will attempt to redirect to the reshape2::dcast; please note that reshape2 is deprecated, and this redirection is now deprecated as well. Please do this redirection yourself like reshape2::dcast(scaled_bs). In the next version, this warning will become an error.\"\n",
      ".\n",
      "Warning message in data.table::melt(bs_df, id.vars = \"bootstrap_num\", variable.name = \"target_id\", :\n",
      "\"The melt generic in data.table has been passed a data.frame and will attempt to redirect to the relevant reshape2 method; please note that reshape2 is deprecated, and this redirection is now deprecated as well. To continue using melt methods from reshape2 while both libraries are attached, e.g. melt.list, you can prepend the namespace like reshape2::melt(bs_df). In the next version, this warning will become an error.\"\n",
      "Warning message in data.table::dcast(scaled_bs, sample ~ target_id, value.var = \"scaled_reads_per_base\"):\n",
      "\"The dcast generic in data.table has been passed a data.frame and will attempt to redirect to the reshape2::dcast; please note that reshape2 is deprecated, and this redirection is now deprecated as well. Please do this redirection yourself like reshape2::dcast(scaled_bs). In the next version, this warning will become an error.\"\n",
      ".\n",
      "Warning message in data.table::melt(bs_df, id.vars = \"bootstrap_num\", variable.name = \"target_id\", :\n",
      "\"The melt generic in data.table has been passed a data.frame and will attempt to redirect to the relevant reshape2 method; please note that reshape2 is deprecated, and this redirection is now deprecated as well. To continue using melt methods from reshape2 while both libraries are attached, e.g. melt.list, you can prepend the namespace like reshape2::melt(bs_df). In the next version, this warning will become an error.\"\n",
      "Warning message in data.table::dcast(scaled_bs, sample ~ target_id, value.var = \"scaled_reads_per_base\"):\n",
      "\"The dcast generic in data.table has been passed a data.frame and will attempt to redirect to the reshape2::dcast; please note that reshape2 is deprecated, and this redirection is now deprecated as well. Please do this redirection yourself like reshape2::dcast(scaled_bs). In the next version, this warning will become an error.\"\n",
      ".\n",
      "Warning message in data.table::melt(bs_df, id.vars = \"bootstrap_num\", variable.name = \"target_id\", :\n",
      "\"The melt generic in data.table has been passed a data.frame and will attempt to redirect to the relevant reshape2 method; please note that reshape2 is deprecated, and this redirection is now deprecated as well. To continue using melt methods from reshape2 while both libraries are attached, e.g. melt.list, you can prepend the namespace like reshape2::melt(bs_df). In the next version, this warning will become an error.\"\n",
      "Warning message in data.table::dcast(scaled_bs, sample ~ target_id, value.var = \"scaled_reads_per_base\"):\n",
      "\"The dcast generic in data.table has been passed a data.frame and will attempt to redirect to the reshape2::dcast; please note that reshape2 is deprecated, and this redirection is now deprecated as well. Please do this redirection yourself like reshape2::dcast(scaled_bs). In the next version, this warning will become an error.\"\n",
      ".\n",
      "Warning message in data.table::melt(bs_df, id.vars = \"bootstrap_num\", variable.name = \"target_id\", :\n",
      "\"The melt generic in data.table has been passed a data.frame and will attempt to redirect to the relevant reshape2 method; please note that reshape2 is deprecated, and this redirection is now deprecated as well. To continue using melt methods from reshape2 while both libraries are attached, e.g. melt.list, you can prepend the namespace like reshape2::melt(bs_df). In the next version, this warning will become an error.\"\n",
      "Warning message in data.table::dcast(scaled_bs, sample ~ target_id, value.var = \"scaled_reads_per_base\"):\n",
      "\"The dcast generic in data.table has been passed a data.frame and will attempt to redirect to the reshape2::dcast; please note that reshape2 is deprecated, and this redirection is now deprecated as well. Please do this redirection yourself like reshape2::dcast(scaled_bs). In the next version, this warning will become an error.\"\n",
      ".\n",
      "Warning message in data.table::melt(bs_df, id.vars = \"bootstrap_num\", variable.name = \"target_id\", :\n",
      "\"The melt generic in data.table has been passed a data.frame and will attempt to redirect to the relevant reshape2 method; please note that reshape2 is deprecated, and this redirection is now deprecated as well. To continue using melt methods from reshape2 while both libraries are attached, e.g. melt.list, you can prepend the namespace like reshape2::melt(bs_df). In the next version, this warning will become an error.\"\n",
      "Warning message in data.table::dcast(scaled_bs, sample ~ target_id, value.var = \"scaled_reads_per_base\"):\n",
      "\"The dcast generic in data.table has been passed a data.frame and will attempt to redirect to the reshape2::dcast; please note that reshape2 is deprecated, and this redirection is now deprecated as well. Please do this redirection yourself like reshape2::dcast(scaled_bs). In the next version, this warning will become an error.\"\n",
      ".\n",
      "Warning message in data.table::melt(bs_df, id.vars = \"bootstrap_num\", variable.name = \"target_id\", :\n",
      "\"The melt generic in data.table has been passed a data.frame and will attempt to redirect to the relevant reshape2 method; please note that reshape2 is deprecated, and this redirection is now deprecated as well. To continue using melt methods from reshape2 while both libraries are attached, e.g. melt.list, you can prepend the namespace like reshape2::melt(bs_df). In the next version, this warning will become an error.\"\n",
      "Warning message in data.table::dcast(scaled_bs, sample ~ target_id, value.var = \"scaled_reads_per_base\"):\n",
      "\"The dcast generic in data.table has been passed a data.frame and will attempt to redirect to the reshape2::dcast; please note that reshape2 is deprecated, and this redirection is now deprecated as well. Please do this redirection yourself like reshape2::dcast(scaled_bs). In the next version, this warning will become an error.\"\n",
      ".\n",
      "Warning message in data.table::melt(bs_df, id.vars = \"bootstrap_num\", variable.name = \"target_id\", :\n",
      "\"The melt generic in data.table has been passed a data.frame and will attempt to redirect to the relevant reshape2 method; please note that reshape2 is deprecated, and this redirection is now deprecated as well. To continue using melt methods from reshape2 while both libraries are attached, e.g. melt.list, you can prepend the namespace like reshape2::melt(bs_df). In the next version, this warning will become an error.\"\n",
      "Warning message in data.table::dcast(scaled_bs, sample ~ target_id, value.var = \"scaled_reads_per_base\"):\n",
      "\"The dcast generic in data.table has been passed a data.frame and will attempt to redirect to the reshape2::dcast; please note that reshape2 is deprecated, and this redirection is now deprecated as well. Please do this redirection yourself like reshape2::dcast(scaled_bs). In the next version, this warning will become an error.\"\n",
      ".\n",
      "Warning message in data.table::melt(bs_df, id.vars = \"bootstrap_num\", variable.name = \"target_id\", :\n",
      "\"The melt generic in data.table has been passed a data.frame and will attempt to redirect to the relevant reshape2 method; please note that reshape2 is deprecated, and this redirection is now deprecated as well. To continue using melt methods from reshape2 while both libraries are attached, e.g. melt.list, you can prepend the namespace like reshape2::melt(bs_df). In the next version, this warning will become an error.\"\n",
      "Warning message in data.table::dcast(scaled_bs, sample ~ target_id, value.var = \"scaled_reads_per_base\"):\n",
      "\"The dcast generic in data.table has been passed a data.frame and will attempt to redirect to the reshape2::dcast; please note that reshape2 is deprecated, and this redirection is now deprecated as well. Please do this redirection yourself like reshape2::dcast(scaled_bs). In the next version, this warning will become an error.\"\n",
      "\n",
      "\n"
     ]
    }
   ],
   "source": [
    "so_genemode <- sleuth_prep(s2c, target_mapping = t2g, aggregation_column = 'ens_gene', gene_mode=TRUE, num_cores=1)"
   ]
  },
  {
   "cell_type": "code",
   "execution_count": 171,
   "id": "7da464f0-085f-4222-8122-325f11ba4917",
   "metadata": {},
   "outputs": [
    {
     "name": "stderr",
     "output_type": "stream",
     "text": [
      "fitting measurement error models\n",
      "\n",
      "shrinkage estimation\n",
      "\n",
      "2 NA values were found during variance shrinkage estimation due to mean observation values outside of the range used for the LOESS fit.\n",
      "The LOESS fit will be repeated using exact computation of the fitted surface to extrapolate the missing values.\n",
      "These are the target ids with NA values: ENSMUSG00000018634, ENSMUSG00000052372\n",
      "\n",
      "computing variance of betas\n",
      "\n"
     ]
    }
   ],
   "source": [
    "so_genemode <- sleuth_fit(so_genemode, ~condition, 'full')"
   ]
  },
  {
   "cell_type": "code",
   "execution_count": 172,
   "id": "611a0f8d-3647-4ed5-ba2e-9ca43b64f37a",
   "metadata": {},
   "outputs": [
    {
     "name": "stderr",
     "output_type": "stream",
     "text": [
      "fitting measurement error models\n",
      "\n",
      "shrinkage estimation\n",
      "\n",
      "2 NA values were found during variance shrinkage estimation due to mean observation values outside of the range used for the LOESS fit.\n",
      "The LOESS fit will be repeated using exact computation of the fitted surface to extrapolate the missing values.\n",
      "These are the target ids with NA values: ENSMUSG00000018634, ENSMUSG00000052372\n",
      "\n",
      "computing variance of betas\n",
      "\n"
     ]
    }
   ],
   "source": [
    "so_genemode <- sleuth_fit(so_genemode, ~1, 'reduced')"
   ]
  },
  {
   "cell_type": "code",
   "execution_count": 175,
   "id": "8848f978-c0c1-47d6-afb8-1c4836b41bbc",
   "metadata": {},
   "outputs": [],
   "source": [
    "so_genemode <- sleuth_lrt(so_genemode, 'reduced', 'full')\n",
    "lrt_results_genemode <- sleuth_results(so_genemode, 'reduced:full', 'lrt', show_all = TRUE)"
   ]
  },
  {
   "cell_type": "code",
   "execution_count": 189,
   "id": "19089694-3c91-400c-bf17-544c3899da66",
   "metadata": {},
   "outputs": [
    {
     "data": {
      "text/html": [
       "<table class=\"dataframe\">\n",
       "<caption>A data.frame: 5 × 13</caption>\n",
       "<thead>\n",
       "\t<tr><th></th><th scope=col>target_id</th><th scope=col>ext_gene</th><th scope=col>pval</th><th scope=col>qval</th><th scope=col>test_stat</th><th scope=col>rss</th><th scope=col>degrees_free</th><th scope=col>mean_obs</th><th scope=col>var_obs</th><th scope=col>tech_var</th><th scope=col>sigma_sq</th><th scope=col>smooth_sigma_sq</th><th scope=col>final_sigma_sq</th></tr>\n",
       "\t<tr><th></th><th scope=col>&lt;chr&gt;</th><th scope=col>&lt;chr&gt;</th><th scope=col>&lt;dbl&gt;</th><th scope=col>&lt;dbl&gt;</th><th scope=col>&lt;dbl&gt;</th><th scope=col>&lt;dbl&gt;</th><th scope=col>&lt;int&gt;</th><th scope=col>&lt;dbl&gt;</th><th scope=col>&lt;dbl&gt;</th><th scope=col>&lt;dbl&gt;</th><th scope=col>&lt;dbl&gt;</th><th scope=col>&lt;dbl&gt;</th><th scope=col>&lt;dbl&gt;</th></tr>\n",
       "</thead>\n",
       "<tbody>\n",
       "\t<tr><th scope=row>1</th><td>ENSMUSG00000028013</td><td>Ppa2      </td><td>1.088193e-15</td><td>1.803245e-11</td><td>85.39500</td><td>22.76519</td><td>7</td><td>6.940018</td><td>0.9897908</td><td>0.0023897340</td><td>0.9874011</td><td>0.06767982</td><td>0.9874011</td></tr>\n",
       "\t<tr><th scope=row>2</th><td>ENSMUSG00000015377</td><td>Fam116b   </td><td>2.792723e-15</td><td>2.313910e-11</td><td>83.39430</td><td>44.93722</td><td>7</td><td>5.188072</td><td>1.9537923</td><td>0.0177739637</td><td>1.9360183</td><td>0.14329708</td><td>1.9360183</td></tr>\n",
       "\t<tr><th scope=row>3</th><td>ENSMUSG00000020392</td><td>Cdkn2aipnl</td><td>1.363844e-14</td><td>7.533422e-11</td><td>80.02122</td><td>16.36757</td><td>7</td><td>7.556659</td><td>0.7116337</td><td>0.0008762691</td><td>0.7107574</td><td>0.05894051</td><td>0.7107574</td></tr>\n",
       "\t<tr><th scope=row>4</th><td>ENSMUSG00000006288</td><td>Ttc5      </td><td>4.301347e-14</td><td>1.781940e-10</td><td>77.57258</td><td>20.41545</td><td>7</td><td>7.017841</td><td>0.8876284</td><td>0.0033801130</td><td>0.8842483</td><td>0.06625875</td><td>0.8842483</td></tr>\n",
       "\t<tr><th scope=row>5</th><td>ENSMUSG00000014748</td><td>Tex261    </td><td>6.555817e-14</td><td>2.172729e-10</td><td>76.67293</td><td>15.94276</td><td>7</td><td>6.670008</td><td>0.6931633</td><td>0.0027184562</td><td>0.6904448</td><td>0.07357323</td><td>0.6904448</td></tr>\n",
       "</tbody>\n",
       "</table>\n"
      ],
      "text/latex": [
       "A data.frame: 5 × 13\n",
       "\\begin{tabular}{r|lllllllllllll}\n",
       "  & target\\_id & ext\\_gene & pval & qval & test\\_stat & rss & degrees\\_free & mean\\_obs & var\\_obs & tech\\_var & sigma\\_sq & smooth\\_sigma\\_sq & final\\_sigma\\_sq\\\\\n",
       "  & <chr> & <chr> & <dbl> & <dbl> & <dbl> & <dbl> & <int> & <dbl> & <dbl> & <dbl> & <dbl> & <dbl> & <dbl>\\\\\n",
       "\\hline\n",
       "\t1 & ENSMUSG00000028013 & Ppa2       & 1.088193e-15 & 1.803245e-11 & 85.39500 & 22.76519 & 7 & 6.940018 & 0.9897908 & 0.0023897340 & 0.9874011 & 0.06767982 & 0.9874011\\\\\n",
       "\t2 & ENSMUSG00000015377 & Fam116b    & 2.792723e-15 & 2.313910e-11 & 83.39430 & 44.93722 & 7 & 5.188072 & 1.9537923 & 0.0177739637 & 1.9360183 & 0.14329708 & 1.9360183\\\\\n",
       "\t3 & ENSMUSG00000020392 & Cdkn2aipnl & 1.363844e-14 & 7.533422e-11 & 80.02122 & 16.36757 & 7 & 7.556659 & 0.7116337 & 0.0008762691 & 0.7107574 & 0.05894051 & 0.7107574\\\\\n",
       "\t4 & ENSMUSG00000006288 & Ttc5       & 4.301347e-14 & 1.781940e-10 & 77.57258 & 20.41545 & 7 & 7.017841 & 0.8876284 & 0.0033801130 & 0.8842483 & 0.06625875 & 0.8842483\\\\\n",
       "\t5 & ENSMUSG00000014748 & Tex261     & 6.555817e-14 & 2.172729e-10 & 76.67293 & 15.94276 & 7 & 6.670008 & 0.6931633 & 0.0027184562 & 0.6904448 & 0.07357323 & 0.6904448\\\\\n",
       "\\end{tabular}\n"
      ],
      "text/markdown": [
       "\n",
       "A data.frame: 5 × 13\n",
       "\n",
       "| <!--/--> | target_id &lt;chr&gt; | ext_gene &lt;chr&gt; | pval &lt;dbl&gt; | qval &lt;dbl&gt; | test_stat &lt;dbl&gt; | rss &lt;dbl&gt; | degrees_free &lt;int&gt; | mean_obs &lt;dbl&gt; | var_obs &lt;dbl&gt; | tech_var &lt;dbl&gt; | sigma_sq &lt;dbl&gt; | smooth_sigma_sq &lt;dbl&gt; | final_sigma_sq &lt;dbl&gt; |\n",
       "|---|---|---|---|---|---|---|---|---|---|---|---|---|---|\n",
       "| 1 | ENSMUSG00000028013 | Ppa2       | 1.088193e-15 | 1.803245e-11 | 85.39500 | 22.76519 | 7 | 6.940018 | 0.9897908 | 0.0023897340 | 0.9874011 | 0.06767982 | 0.9874011 |\n",
       "| 2 | ENSMUSG00000015377 | Fam116b    | 2.792723e-15 | 2.313910e-11 | 83.39430 | 44.93722 | 7 | 5.188072 | 1.9537923 | 0.0177739637 | 1.9360183 | 0.14329708 | 1.9360183 |\n",
       "| 3 | ENSMUSG00000020392 | Cdkn2aipnl | 1.363844e-14 | 7.533422e-11 | 80.02122 | 16.36757 | 7 | 7.556659 | 0.7116337 | 0.0008762691 | 0.7107574 | 0.05894051 | 0.7107574 |\n",
       "| 4 | ENSMUSG00000006288 | Ttc5       | 4.301347e-14 | 1.781940e-10 | 77.57258 | 20.41545 | 7 | 7.017841 | 0.8876284 | 0.0033801130 | 0.8842483 | 0.06625875 | 0.8842483 |\n",
       "| 5 | ENSMUSG00000014748 | Tex261     | 6.555817e-14 | 2.172729e-10 | 76.67293 | 15.94276 | 7 | 6.670008 | 0.6931633 | 0.0027184562 | 0.6904448 | 0.07357323 | 0.6904448 |\n",
       "\n"
      ],
      "text/plain": [
       "  target_id          ext_gene   pval         qval         test_stat rss     \n",
       "1 ENSMUSG00000028013 Ppa2       1.088193e-15 1.803245e-11 85.39500  22.76519\n",
       "2 ENSMUSG00000015377 Fam116b    2.792723e-15 2.313910e-11 83.39430  44.93722\n",
       "3 ENSMUSG00000020392 Cdkn2aipnl 1.363844e-14 7.533422e-11 80.02122  16.36757\n",
       "4 ENSMUSG00000006288 Ttc5       4.301347e-14 1.781940e-10 77.57258  20.41545\n",
       "5 ENSMUSG00000014748 Tex261     6.555817e-14 2.172729e-10 76.67293  15.94276\n",
       "  degrees_free mean_obs var_obs   tech_var     sigma_sq  smooth_sigma_sq\n",
       "1 7            6.940018 0.9897908 0.0023897340 0.9874011 0.06767982     \n",
       "2 7            5.188072 1.9537923 0.0177739637 1.9360183 0.14329708     \n",
       "3 7            7.556659 0.7116337 0.0008762691 0.7107574 0.05894051     \n",
       "4 7            7.017841 0.8876284 0.0033801130 0.8842483 0.06625875     \n",
       "5 7            6.670008 0.6931633 0.0027184562 0.6904448 0.07357323     \n",
       "  final_sigma_sq\n",
       "1 0.9874011     \n",
       "2 1.9360183     \n",
       "3 0.7107574     \n",
       "4 0.8842483     \n",
       "5 0.6904448     "
      ]
     },
     "metadata": {},
     "output_type": "display_data"
    },
    {
     "data": {
      "text/html": [
       "<style>\n",
       ".list-inline {list-style: none; margin:0; padding: 0}\n",
       ".list-inline>li {display: inline-block}\n",
       ".list-inline>li:not(:last-child)::after {content: \"\\00b7\"; padding: 0 .5ex}\n",
       "</style>\n",
       "<ol class=list-inline><li>31804</li><li>13</li></ol>\n"
      ],
      "text/latex": [
       "\\begin{enumerate*}\n",
       "\\item 31804\n",
       "\\item 13\n",
       "\\end{enumerate*}\n"
      ],
      "text/markdown": [
       "1. 31804\n",
       "2. 13\n",
       "\n",
       "\n"
      ],
      "text/plain": [
       "[1] 31804    13"
      ]
     },
     "metadata": {},
     "output_type": "display_data"
    },
    {
     "data": {
      "text/html": [
       "<style>\n",
       ".list-inline {list-style: none; margin:0; padding: 0}\n",
       ".list-inline>li {display: inline-block}\n",
       ".list-inline>li:not(:last-child)::after {content: \"\\00b7\"; padding: 0 .5ex}\n",
       "</style>\n",
       "<ol class=list-inline><li>1847</li><li>13</li></ol>\n"
      ],
      "text/latex": [
       "\\begin{enumerate*}\n",
       "\\item 1847\n",
       "\\item 13\n",
       "\\end{enumerate*}\n"
      ],
      "text/markdown": [
       "1. 1847\n",
       "2. 13\n",
       "\n",
       "\n"
      ],
      "text/plain": [
       "[1] 1847   13"
      ]
     },
     "metadata": {},
     "output_type": "display_data"
    }
   ],
   "source": [
    "head(lrt_results_genemode, 5)\n",
    "dim(lrt_results_genemode)\n",
    "sleuth_significant_lrt_genemode <- dplyr::filter(lrt_results_genemode, qval <= 0.05)\n",
    "dim(sleuth_significant_lrt_genemode)"
   ]
  },
  {
   "cell_type": "code",
   "execution_count": 190,
   "id": "cb97104a-e303-4933-b1f7-b4385af542f5",
   "metadata": {},
   "outputs": [
    {
     "data": {
      "text/html": [
       "0.058074456043265"
      ],
      "text/latex": [
       "0.058074456043265"
      ],
      "text/markdown": [
       "0.058074456043265"
      ],
      "text/plain": [
       "[1] 0.05807446"
      ]
     },
     "metadata": {},
     "output_type": "display_data"
    }
   ],
   "source": [
    "1847/31804"
   ]
  },
  {
   "cell_type": "code",
   "execution_count": 26,
   "id": "269c4360-a015-43d8-8175-ff5935eb9cc5",
   "metadata": {},
   "outputs": [
    {
     "ename": "ERROR",
     "evalue": "Error in is(obj, \"sleuth\"): object 'so_genemode' not found\n",
     "output_type": "error",
     "traceback": [
      "Error in is(obj, \"sleuth\"): object 'so_genemode' not found\nTraceback:\n",
      "1. sleuth_to_matrix(so_genemode, \"obs_norm\", \"tpm\")",
      "2. check_quant_mode(obj, which_units)",
      "3. stopifnot(is(obj, \"sleuth\"))",
      "4. is(obj, \"sleuth\")"
     ]
    }
   ],
   "source": [
    "sleuth_matrix_gene <- sleuth_to_matrix(so_genemode, 'obs_norm', 'tpm')\n",
    "head(sleuth_matrix_gene, 5)"
   ]
  },
  {
   "cell_type": "code",
   "execution_count": 202,
   "id": "18c15153-6059-4741-a337-667d612faade",
   "metadata": {},
   "outputs": [
    {
     "data": {
      "text/html": [
       "15237"
      ],
      "text/latex": [
       "15237"
      ],
      "text/markdown": [
       "15237"
      ],
      "text/plain": [
       "[1] 15237"
      ]
     },
     "metadata": {},
     "output_type": "display_data"
    },
    {
     "data": {
      "text/html": [
       "16567"
      ],
      "text/latex": [
       "16567"
      ],
      "text/markdown": [
       "16567"
      ],
      "text/plain": [
       "[1] 16567"
      ]
     },
     "metadata": {},
     "output_type": "display_data"
    }
   ],
   "source": [
    "length(which(lrt_results_genemode$target_id == lrt_results$target_id))\n",
    "length(which(lrt_results_genemode$target_id != lrt_results$target_id))"
   ]
  },
  {
   "cell_type": "code",
   "execution_count": 214,
   "id": "1a28df78-f938-449c-a0af-a69edb007ce2",
   "metadata": {},
   "outputs": [],
   "source": [
    "# checking wald test in genemode model\n",
    "so_genemode <- sleuth_wt(so_genemode, which_beta = paste(\"condition\",s2c$condition[2], sep=\"\"))\n",
    "wald_res_genemode <- sleuth_results(so_genemode, test = paste(\"condition\",s2c$condition[2], sep=\"\"), test_type = 'wt', show_all = TRUE)"
   ]
  },
  {
   "cell_type": "code",
   "execution_count": 215,
   "id": "0a56404a-fca5-4be8-96b9-f3db09dd58cf",
   "metadata": {},
   "outputs": [
    {
     "data": {
      "text/html": [
       "<table class=\"dataframe\">\n",
       "<caption>A data.frame: 5 × 12</caption>\n",
       "<thead>\n",
       "\t<tr><th></th><th scope=col>target_id</th><th scope=col>ext_gene</th><th scope=col>pval</th><th scope=col>qval</th><th scope=col>b</th><th scope=col>se_b</th><th scope=col>mean_obs</th><th scope=col>var_obs</th><th scope=col>tech_var</th><th scope=col>sigma_sq</th><th scope=col>smooth_sigma_sq</th><th scope=col>final_sigma_sq</th></tr>\n",
       "\t<tr><th></th><th scope=col>&lt;chr&gt;</th><th scope=col>&lt;chr&gt;</th><th scope=col>&lt;dbl&gt;</th><th scope=col>&lt;dbl&gt;</th><th scope=col>&lt;dbl&gt;</th><th scope=col>&lt;dbl&gt;</th><th scope=col>&lt;dbl&gt;</th><th scope=col>&lt;dbl&gt;</th><th scope=col>&lt;dbl&gt;</th><th scope=col>&lt;dbl&gt;</th><th scope=col>&lt;dbl&gt;</th><th scope=col>&lt;dbl&gt;</th></tr>\n",
       "</thead>\n",
       "<tbody>\n",
       "\t<tr><th scope=row>1</th><td>ENSMUSG00000028013</td><td>Ppa2      </td><td>5.602543e-21</td><td>4.028510e-17</td><td>-1.835536</td><td>0.1953277</td><td>6.940018</td><td>0.9897908</td><td>0.0023897340</td><td>0.01912580</td><td>0.05483960</td><td>0.05483960</td></tr>\n",
       "\t<tr><th scope=row>2</th><td>ENSMUSG00000030532</td><td>Hddc3     </td><td>7.293182e-21</td><td>4.028510e-17</td><td>-3.597136</td><td>0.3839230</td><td>4.413944</td><td>2.6447887</td><td>0.0796148464</td><td>0.02296489</td><td>0.14148040</td><td>0.14148040</td></tr>\n",
       "\t<tr><th scope=row>3</th><td>ENSMUSG00000006288</td><td>Ttc5      </td><td>4.778830e-21</td><td>4.028510e-17</td><td>-1.839779</td><td>0.1954314</td><td>7.017841</td><td>0.8876284</td><td>0.0033801130</td><td>0.03671444</td><td>0.05391002</td><td>0.05391002</td></tr>\n",
       "\t<tr><th scope=row>4</th><td>ENSMUSG00000020392</td><td>Cdkn2aipnl</td><td>6.917972e-20</td><td>2.396414e-16</td><td>-1.662413</td><td>0.1821038</td><td>7.556659</td><td>0.7116337</td><td>0.0008762691</td><td>0.02037499</td><td>0.04886641</td><td>0.04886641</td></tr>\n",
       "\t<tr><th scope=row>5</th><td>ENSMUSG00000015377</td><td>Fam116b   </td><td>7.230746e-20</td><td>2.396414e-16</td><td>-2.554509</td><td>0.2799725</td><td>5.188072</td><td>1.9537923</td><td>0.0177739637</td><td>0.03407843</td><td>0.09980294</td><td>0.09980294</td></tr>\n",
       "</tbody>\n",
       "</table>\n"
      ],
      "text/latex": [
       "A data.frame: 5 × 12\n",
       "\\begin{tabular}{r|llllllllllll}\n",
       "  & target\\_id & ext\\_gene & pval & qval & b & se\\_b & mean\\_obs & var\\_obs & tech\\_var & sigma\\_sq & smooth\\_sigma\\_sq & final\\_sigma\\_sq\\\\\n",
       "  & <chr> & <chr> & <dbl> & <dbl> & <dbl> & <dbl> & <dbl> & <dbl> & <dbl> & <dbl> & <dbl> & <dbl>\\\\\n",
       "\\hline\n",
       "\t1 & ENSMUSG00000028013 & Ppa2       & 5.602543e-21 & 4.028510e-17 & -1.835536 & 0.1953277 & 6.940018 & 0.9897908 & 0.0023897340 & 0.01912580 & 0.05483960 & 0.05483960\\\\\n",
       "\t2 & ENSMUSG00000030532 & Hddc3      & 7.293182e-21 & 4.028510e-17 & -3.597136 & 0.3839230 & 4.413944 & 2.6447887 & 0.0796148464 & 0.02296489 & 0.14148040 & 0.14148040\\\\\n",
       "\t3 & ENSMUSG00000006288 & Ttc5       & 4.778830e-21 & 4.028510e-17 & -1.839779 & 0.1954314 & 7.017841 & 0.8876284 & 0.0033801130 & 0.03671444 & 0.05391002 & 0.05391002\\\\\n",
       "\t4 & ENSMUSG00000020392 & Cdkn2aipnl & 6.917972e-20 & 2.396414e-16 & -1.662413 & 0.1821038 & 7.556659 & 0.7116337 & 0.0008762691 & 0.02037499 & 0.04886641 & 0.04886641\\\\\n",
       "\t5 & ENSMUSG00000015377 & Fam116b    & 7.230746e-20 & 2.396414e-16 & -2.554509 & 0.2799725 & 5.188072 & 1.9537923 & 0.0177739637 & 0.03407843 & 0.09980294 & 0.09980294\\\\\n",
       "\\end{tabular}\n"
      ],
      "text/markdown": [
       "\n",
       "A data.frame: 5 × 12\n",
       "\n",
       "| <!--/--> | target_id &lt;chr&gt; | ext_gene &lt;chr&gt; | pval &lt;dbl&gt; | qval &lt;dbl&gt; | b &lt;dbl&gt; | se_b &lt;dbl&gt; | mean_obs &lt;dbl&gt; | var_obs &lt;dbl&gt; | tech_var &lt;dbl&gt; | sigma_sq &lt;dbl&gt; | smooth_sigma_sq &lt;dbl&gt; | final_sigma_sq &lt;dbl&gt; |\n",
       "|---|---|---|---|---|---|---|---|---|---|---|---|---|\n",
       "| 1 | ENSMUSG00000028013 | Ppa2       | 5.602543e-21 | 4.028510e-17 | -1.835536 | 0.1953277 | 6.940018 | 0.9897908 | 0.0023897340 | 0.01912580 | 0.05483960 | 0.05483960 |\n",
       "| 2 | ENSMUSG00000030532 | Hddc3      | 7.293182e-21 | 4.028510e-17 | -3.597136 | 0.3839230 | 4.413944 | 2.6447887 | 0.0796148464 | 0.02296489 | 0.14148040 | 0.14148040 |\n",
       "| 3 | ENSMUSG00000006288 | Ttc5       | 4.778830e-21 | 4.028510e-17 | -1.839779 | 0.1954314 | 7.017841 | 0.8876284 | 0.0033801130 | 0.03671444 | 0.05391002 | 0.05391002 |\n",
       "| 4 | ENSMUSG00000020392 | Cdkn2aipnl | 6.917972e-20 | 2.396414e-16 | -1.662413 | 0.1821038 | 7.556659 | 0.7116337 | 0.0008762691 | 0.02037499 | 0.04886641 | 0.04886641 |\n",
       "| 5 | ENSMUSG00000015377 | Fam116b    | 7.230746e-20 | 2.396414e-16 | -2.554509 | 0.2799725 | 5.188072 | 1.9537923 | 0.0177739637 | 0.03407843 | 0.09980294 | 0.09980294 |\n",
       "\n"
      ],
      "text/plain": [
       "  target_id          ext_gene   pval         qval         b         se_b     \n",
       "1 ENSMUSG00000028013 Ppa2       5.602543e-21 4.028510e-17 -1.835536 0.1953277\n",
       "2 ENSMUSG00000030532 Hddc3      7.293182e-21 4.028510e-17 -3.597136 0.3839230\n",
       "3 ENSMUSG00000006288 Ttc5       4.778830e-21 4.028510e-17 -1.839779 0.1954314\n",
       "4 ENSMUSG00000020392 Cdkn2aipnl 6.917972e-20 2.396414e-16 -1.662413 0.1821038\n",
       "5 ENSMUSG00000015377 Fam116b    7.230746e-20 2.396414e-16 -2.554509 0.2799725\n",
       "  mean_obs var_obs   tech_var     sigma_sq   smooth_sigma_sq final_sigma_sq\n",
       "1 6.940018 0.9897908 0.0023897340 0.01912580 0.05483960      0.05483960    \n",
       "2 4.413944 2.6447887 0.0796148464 0.02296489 0.14148040      0.14148040    \n",
       "3 7.017841 0.8876284 0.0033801130 0.03671444 0.05391002      0.05391002    \n",
       "4 7.556659 0.7116337 0.0008762691 0.02037499 0.04886641      0.04886641    \n",
       "5 5.188072 1.9537923 0.0177739637 0.03407843 0.09980294      0.09980294    "
      ]
     },
     "metadata": {},
     "output_type": "display_data"
    }
   ],
   "source": [
    "head(wald_res_genemode , 5)"
   ]
  },
  {
   "cell_type": "markdown",
   "id": "45e9c07b-a5c8-43b3-a4f1-b4a3d55b04f9",
   "metadata": {},
   "source": [
    "## General steps:\n",
    "\n",
    "* Use p_val aggregation to get general data: aggregated pval, sum_obs_counts, etc\n",
    "* then, use transcript-level wald test to assess DE --> map only this value"
   ]
  },
  {
   "cell_type": "code",
   "execution_count": 119,
   "id": "d325715c-8cde-4014-aa17-18c9e0a69014",
   "metadata": {},
   "outputs": [
    {
     "data": {
      "text/html": [
       "<table class=\"dataframe\">\n",
       "<caption>A data.frame: 4 × 4</caption>\n",
       "<thead>\n",
       "\t<tr><th></th><th scope=col>hi</th><th scope=col>sum_mean_obs_counts</th><th scope=col>pval</th><th scope=col>qval</th></tr>\n",
       "\t<tr><th></th><th scope=col>&lt;chr&gt;</th><th scope=col>&lt;dbl&gt;</th><th scope=col>&lt;dbl&gt;</th><th scope=col>&lt;dbl&gt;</th></tr>\n",
       "</thead>\n",
       "<tbody>\n",
       "\t<tr><th scope=row>1</th><td>ENSMUSG00000028013</td><td>12.841514</td><td>1.065986e-15</td><td>5.888149e-12</td></tr>\n",
       "\t<tr><th scope=row>2</th><td>ENSMUSG00000020392</td><td> 7.556659</td><td>6.894337e-16</td><td>5.888149e-12</td></tr>\n",
       "\t<tr><th scope=row>3</th><td>ENSMUSG00000006288</td><td> 7.017841</td><td>1.002711e-15</td><td>5.888149e-12</td></tr>\n",
       "\t<tr><th scope=row>4</th><td>ENSMUSG00000030532</td><td> 4.413944</td><td>1.137684e-12</td><td>3.770512e-09</td></tr>\n",
       "</tbody>\n",
       "</table>\n"
      ],
      "text/latex": [
       "A data.frame: 4 × 4\n",
       "\\begin{tabular}{r|llll}\n",
       "  & hi & sum\\_mean\\_obs\\_counts & pval & qval\\\\\n",
       "  & <chr> & <dbl> & <dbl> & <dbl>\\\\\n",
       "\\hline\n",
       "\t1 & ENSMUSG00000028013 & 12.841514 & 1.065986e-15 & 5.888149e-12\\\\\n",
       "\t2 & ENSMUSG00000020392 &  7.556659 & 6.894337e-16 & 5.888149e-12\\\\\n",
       "\t3 & ENSMUSG00000006288 &  7.017841 & 1.002711e-15 & 5.888149e-12\\\\\n",
       "\t4 & ENSMUSG00000030532 &  4.413944 & 1.137684e-12 & 3.770512e-09\\\\\n",
       "\\end{tabular}\n"
      ],
      "text/markdown": [
       "\n",
       "A data.frame: 4 × 4\n",
       "\n",
       "| <!--/--> | hi &lt;chr&gt; | sum_mean_obs_counts &lt;dbl&gt; | pval &lt;dbl&gt; | qval &lt;dbl&gt; |\n",
       "|---|---|---|---|---|\n",
       "| 1 | ENSMUSG00000028013 | 12.841514 | 1.065986e-15 | 5.888149e-12 |\n",
       "| 2 | ENSMUSG00000020392 |  7.556659 | 6.894337e-16 | 5.888149e-12 |\n",
       "| 3 | ENSMUSG00000006288 |  7.017841 | 1.002711e-15 | 5.888149e-12 |\n",
       "| 4 | ENSMUSG00000030532 |  4.413944 | 1.137684e-12 | 3.770512e-09 |\n",
       "\n"
      ],
      "text/plain": [
       "  hi                 sum_mean_obs_counts pval         qval        \n",
       "1 ENSMUSG00000028013 12.841514           1.065986e-15 5.888149e-12\n",
       "2 ENSMUSG00000020392  7.556659           6.894337e-16 5.888149e-12\n",
       "3 ENSMUSG00000006288  7.017841           1.002711e-15 5.888149e-12\n",
       "4 ENSMUSG00000030532  4.413944           1.137684e-12 3.770512e-09"
      ]
     },
     "metadata": {},
     "output_type": "display_data"
    }
   ],
   "source": [
    "colnames(mergecols)[1] = \"hi\"\n",
    "\n",
    "head(mergecols, 4)"
   ]
  },
  {
   "cell_type": "code",
   "execution_count": 60,
   "id": "8dbdf3bf-59ae-4d2f-a87d-c188685a4db0",
   "metadata": {},
   "outputs": [
    {
     "data": {
      "text/html": [
       "<table class=\"dataframe\">\n",
       "<caption>A data.frame: 10 × 6</caption>\n",
       "<thead>\n",
       "\t<tr><th></th><th scope=col>target_id</th><th scope=col>ext_gene</th><th scope=col>num_aggregated_transcripts</th><th scope=col>sum_mean_obs_counts</th><th scope=col>pval</th><th scope=col>qval</th></tr>\n",
       "\t<tr><th></th><th scope=col>&lt;chr&gt;</th><th scope=col>&lt;chr&gt;</th><th scope=col>&lt;int&gt;</th><th scope=col>&lt;dbl&gt;</th><th scope=col>&lt;dbl&gt;</th><th scope=col>&lt;dbl&gt;</th></tr>\n",
       "</thead>\n",
       "<tbody>\n",
       "\t<tr><th scope=row>1</th><td>ENSMUSG00000028013</td><td>Ppa2      </td><td>3</td><td>12.841514</td><td>1.065986e-15</td><td>5.888149e-12</td></tr>\n",
       "\t<tr><th scope=row>2</th><td>ENSMUSG00000020392</td><td>Cdkn2aipnl</td><td>1</td><td> 7.556659</td><td>6.894337e-16</td><td>5.888149e-12</td></tr>\n",
       "\t<tr><th scope=row>3</th><td>ENSMUSG00000006288</td><td>Ttc5      </td><td>1</td><td> 7.017841</td><td>1.002711e-15</td><td>5.888149e-12</td></tr>\n",
       "\t<tr><th scope=row>4</th><td>ENSMUSG00000030532</td><td>Hddc3     </td><td>1</td><td> 4.413944</td><td>1.137684e-12</td><td>3.770512e-09</td></tr>\n",
       "\t<tr><th scope=row>5</th><td>ENSMUSG00000023036</td><td>Pcdhga11  </td><td>9</td><td>40.535291</td><td>1.086197e-12</td><td>3.770512e-09</td></tr>\n",
       "\t<tr><th scope=row>6</th><td>ENSMUSG00000015377</td><td>Fam116b   </td><td>1</td><td> 5.188072</td><td>6.639283e-12</td><td>1.833659e-08</td></tr>\n",
       "\t<tr><th scope=row>7</th><td>ENSMUSG00000027164</td><td>Traf6     </td><td>1</td><td> 5.892552</td><td>1.002905e-11</td><td>1.846571e-08</td></tr>\n",
       "\t<tr><th scope=row>8</th><td>ENSMUSG00000031672</td><td>Got2      </td><td>1</td><td> 8.730232</td><td>9.885852e-12</td><td>1.846571e-08</td></tr>\n",
       "\t<tr><th scope=row>9</th><td>ENSMUSG00000014748</td><td>Tex261    </td><td>1</td><td> 6.670008</td><td>8.574306e-12</td><td>1.846571e-08</td></tr>\n",
       "\t<tr><th scope=row>10</th><td>ENSMUSG00000042558</td><td>Adprhl2   </td><td>1</td><td> 6.963113</td><td>1.352449e-11</td><td>2.163071e-08</td></tr>\n",
       "</tbody>\n",
       "</table>\n"
      ],
      "text/latex": [
       "A data.frame: 10 × 6\n",
       "\\begin{tabular}{r|llllll}\n",
       "  & target\\_id & ext\\_gene & num\\_aggregated\\_transcripts & sum\\_mean\\_obs\\_counts & pval & qval\\\\\n",
       "  & <chr> & <chr> & <int> & <dbl> & <dbl> & <dbl>\\\\\n",
       "\\hline\n",
       "\t1 & ENSMUSG00000028013 & Ppa2       & 3 & 12.841514 & 1.065986e-15 & 5.888149e-12\\\\\n",
       "\t2 & ENSMUSG00000020392 & Cdkn2aipnl & 1 &  7.556659 & 6.894337e-16 & 5.888149e-12\\\\\n",
       "\t3 & ENSMUSG00000006288 & Ttc5       & 1 &  7.017841 & 1.002711e-15 & 5.888149e-12\\\\\n",
       "\t4 & ENSMUSG00000030532 & Hddc3      & 1 &  4.413944 & 1.137684e-12 & 3.770512e-09\\\\\n",
       "\t5 & ENSMUSG00000023036 & Pcdhga11   & 9 & 40.535291 & 1.086197e-12 & 3.770512e-09\\\\\n",
       "\t6 & ENSMUSG00000015377 & Fam116b    & 1 &  5.188072 & 6.639283e-12 & 1.833659e-08\\\\\n",
       "\t7 & ENSMUSG00000027164 & Traf6      & 1 &  5.892552 & 1.002905e-11 & 1.846571e-08\\\\\n",
       "\t8 & ENSMUSG00000031672 & Got2       & 1 &  8.730232 & 9.885852e-12 & 1.846571e-08\\\\\n",
       "\t9 & ENSMUSG00000014748 & Tex261     & 1 &  6.670008 & 8.574306e-12 & 1.846571e-08\\\\\n",
       "\t10 & ENSMUSG00000042558 & Adprhl2    & 1 &  6.963113 & 1.352449e-11 & 2.163071e-08\\\\\n",
       "\\end{tabular}\n"
      ],
      "text/markdown": [
       "\n",
       "A data.frame: 10 × 6\n",
       "\n",
       "| <!--/--> | target_id &lt;chr&gt; | ext_gene &lt;chr&gt; | num_aggregated_transcripts &lt;int&gt; | sum_mean_obs_counts &lt;dbl&gt; | pval &lt;dbl&gt; | qval &lt;dbl&gt; |\n",
       "|---|---|---|---|---|---|---|\n",
       "| 1 | ENSMUSG00000028013 | Ppa2       | 3 | 12.841514 | 1.065986e-15 | 5.888149e-12 |\n",
       "| 2 | ENSMUSG00000020392 | Cdkn2aipnl | 1 |  7.556659 | 6.894337e-16 | 5.888149e-12 |\n",
       "| 3 | ENSMUSG00000006288 | Ttc5       | 1 |  7.017841 | 1.002711e-15 | 5.888149e-12 |\n",
       "| 4 | ENSMUSG00000030532 | Hddc3      | 1 |  4.413944 | 1.137684e-12 | 3.770512e-09 |\n",
       "| 5 | ENSMUSG00000023036 | Pcdhga11   | 9 | 40.535291 | 1.086197e-12 | 3.770512e-09 |\n",
       "| 6 | ENSMUSG00000015377 | Fam116b    | 1 |  5.188072 | 6.639283e-12 | 1.833659e-08 |\n",
       "| 7 | ENSMUSG00000027164 | Traf6      | 1 |  5.892552 | 1.002905e-11 | 1.846571e-08 |\n",
       "| 8 | ENSMUSG00000031672 | Got2       | 1 |  8.730232 | 9.885852e-12 | 1.846571e-08 |\n",
       "| 9 | ENSMUSG00000014748 | Tex261     | 1 |  6.670008 | 8.574306e-12 | 1.846571e-08 |\n",
       "| 10 | ENSMUSG00000042558 | Adprhl2    | 1 |  6.963113 | 1.352449e-11 | 2.163071e-08 |\n",
       "\n"
      ],
      "text/plain": [
       "   target_id          ext_gene   num_aggregated_transcripts sum_mean_obs_counts\n",
       "1  ENSMUSG00000028013 Ppa2       3                          12.841514          \n",
       "2  ENSMUSG00000020392 Cdkn2aipnl 1                           7.556659          \n",
       "3  ENSMUSG00000006288 Ttc5       1                           7.017841          \n",
       "4  ENSMUSG00000030532 Hddc3      1                           4.413944          \n",
       "5  ENSMUSG00000023036 Pcdhga11   9                          40.535291          \n",
       "6  ENSMUSG00000015377 Fam116b    1                           5.188072          \n",
       "7  ENSMUSG00000027164 Traf6      1                           5.892552          \n",
       "8  ENSMUSG00000031672 Got2       1                           8.730232          \n",
       "9  ENSMUSG00000014748 Tex261     1                           6.670008          \n",
       "10 ENSMUSG00000042558 Adprhl2    1                           6.963113          \n",
       "   pval         qval        \n",
       "1  1.065986e-15 5.888149e-12\n",
       "2  6.894337e-16 5.888149e-12\n",
       "3  1.002711e-15 5.888149e-12\n",
       "4  1.137684e-12 3.770512e-09\n",
       "5  1.086197e-12 3.770512e-09\n",
       "6  6.639283e-12 1.833659e-08\n",
       "7  1.002905e-11 1.846571e-08\n",
       "8  9.885852e-12 1.846571e-08\n",
       "9  8.574306e-12 1.846571e-08\n",
       "10 1.352449e-11 2.163071e-08"
      ]
     },
     "metadata": {},
     "output_type": "display_data"
    },
    {
     "data": {
      "text/html": [
       "<style>\n",
       ".list-inline {list-style: none; margin:0; padding: 0}\n",
       ".list-inline>li {display: inline-block}\n",
       ".list-inline>li:not(:last-child)::after {content: \"\\00b7\"; padding: 0 .5ex}\n",
       "</style>\n",
       "<ol class=list-inline><li>31804</li><li>6</li></ol>\n"
      ],
      "text/latex": [
       "\\begin{enumerate*}\n",
       "\\item 31804\n",
       "\\item 6\n",
       "\\end{enumerate*}\n"
      ],
      "text/markdown": [
       "1. 31804\n",
       "2. 6\n",
       "\n",
       "\n"
      ],
      "text/plain": [
       "[1] 31804     6"
      ]
     },
     "metadata": {},
     "output_type": "display_data"
    }
   ],
   "source": [
    "head(results, 10)\n",
    "dim(results)"
   ]
  },
  {
   "cell_type": "code",
   "execution_count": null,
   "id": "98b240f2-c33c-4d81-9ac3-1156c8d784c9",
   "metadata": {},
   "outputs": [],
   "source": []
  },
  {
   "cell_type": "code",
   "execution_count": 61,
   "id": "531f8b6f-7284-4571-ba4f-a04e34898cf3",
   "metadata": {},
   "outputs": [
    {
     "name": "stdout",
     "output_type": "stream",
     "text": [
      "[1] \" RNA-seq_CTCF-AID_untreated\"     \" RNA-seq_CTCF-AID_auxin1day\"    \n",
      "[3] \" RNA-seq_CTCF-AID_auxin2days\"    \" RNA-seq_CTCF-AID_auxin4days\"   \n",
      "[5] \" RNA-seq_CTCF-AID_washoff2days\"  \" RNA-seq_WT-untagged_auxin2days\"\n",
      "[7] \" RNA-seq_WT-untagged_auxin4days\" \" RNA-seq_WT-untagged_untreated\" \n"
     ]
    }
   ],
   "source": [
    "print(levels(s2c$condition))"
   ]
  },
  {
   "cell_type": "code",
   "execution_count": 72,
   "id": "8cc02d74-9caa-4a82-8809-9c08c61598ef",
   "metadata": {},
   "outputs": [
    {
     "name": "stdout",
     "output_type": "stream",
     "text": [
      "[1] \"General information for condition:  RNA-seq_CTCF-AID_auxin1day\"\n",
      "[1] \"Total number of significant differentially expressed genes: 86\"\n",
      "[1] \"General information for condition:  RNA-seq_CTCF-AID_auxin2days\"\n",
      "[1] \"Total number of significant differentially expressed genes: 185\"\n",
      "[1] \"General information for condition:  RNA-seq_CTCF-AID_auxin4days\"\n",
      "[1] \"Total number of significant differentially expressed genes: 1279\"\n",
      "[1] \"General information for condition:  RNA-seq_CTCF-AID_washoff2days\"\n",
      "[1] \"Total number of significant differentially expressed genes: 24\"\n",
      "[1] \"General information for condition:  RNA-seq_WT-untagged_auxin2days\"\n",
      "[1] \"Total number of significant differentially expressed genes: 4\"\n",
      "[1] \"General information for condition:  RNA-seq_WT-untagged_auxin4days\"\n",
      "[1] \"Total number of significant differentially expressed genes: 5\"\n",
      "[1] \"General information for condition:  RNA-seq_WT-untagged_untreated\"\n",
      "[1] \"Total number of significant differentially expressed genes: 3\"\n"
     ]
    }
   ],
   "source": [
    "# adding the results of each test to one table\n",
    "## failed attempt idk why it doesn't work for the gene version\n",
    "for(cond in levels(s2c$condition)) {\n",
    "    if (cond != levels(s2c$condition)[1]) {\n",
    "        \n",
    "        print(paste(\"General information for condition: \", cond, sep=\"\"))\n",
    "        \n",
    "        so_gene <- sleuth_wt(so_gene, which_beta = paste(\"condition\", cond, sep=\"\"))\n",
    "        res <- sleuth_results(so_gene, test = paste(\"condition\", cond, sep=\"\"), show_all = FALSE)\n",
    "        print(paste(\"Total number of significant differentially expressed genes: \", count(dplyr::filter(res, qval <= 0.05)), sep=\"\"))\n",
    "\n",
    "        \n",
    "        # Only keeping non-redundant columns, plus the target_id for identification\n",
    "        mergecols <- res %>%\n",
    "            select(target_id, sum_mean_obs_counts, pval, qval)\n",
    "        \n",
    "        # Adding condition to column name before merging\n",
    "        colnames(res) <- paste(colnames(res),cond,sep=\"_\")\n",
    "        \n",
    "        \n",
    "        # first, initialize new wt if this is a new set\n",
    "        if(cond == levels(s2c$condition)[2]) {\n",
    "            colnames(res)[1] = \"target_id\" # removing condition description from target_id\n",
    "            sleuth_results_wt <- res\n",
    "            \n",
    "        } else {\n",
    "            sleuth_results_wt <- merge(sleuth_results_wt, res, \n",
    "                                       by.x = colnames(sleuth_results_wt)[1], \n",
    "                                       by.y = colnames(res)[1],\n",
    "                                       all.x = TRUE,\n",
    "                                       all.y = TRUE)        }\n",
    "        \n",
    "    }\n",
    "}\n"
   ]
  },
  {
   "cell_type": "code",
   "execution_count": 73,
   "id": "28bf5e6c-f55f-435f-93c2-093e9ccadb4b",
   "metadata": {},
   "outputs": [
    {
     "data": {
      "text/html": [
       "<table class=\"dataframe\">\n",
       "<caption>A data.frame: 20 × 36</caption>\n",
       "<thead>\n",
       "\t<tr><th></th><th scope=col>target_id</th><th scope=col>ext_gene_ RNA-seq_CTCF-AID_auxin1day</th><th scope=col>num_aggregated_transcripts_ RNA-seq_CTCF-AID_auxin1day</th><th scope=col>sum_mean_obs_counts_ RNA-seq_CTCF-AID_auxin1day</th><th scope=col>pval_ RNA-seq_CTCF-AID_auxin1day</th><th scope=col>qval_ RNA-seq_CTCF-AID_auxin1day</th><th scope=col>ext_gene_ RNA-seq_CTCF-AID_auxin2days</th><th scope=col>num_aggregated_transcripts_ RNA-seq_CTCF-AID_auxin2days</th><th scope=col>sum_mean_obs_counts_ RNA-seq_CTCF-AID_auxin2days</th><th scope=col>pval_ RNA-seq_CTCF-AID_auxin2days</th><th scope=col>⋯</th><th scope=col>ext_gene_ RNA-seq_WT-untagged_auxin4days</th><th scope=col>num_aggregated_transcripts_ RNA-seq_WT-untagged_auxin4days</th><th scope=col>sum_mean_obs_counts_ RNA-seq_WT-untagged_auxin4days</th><th scope=col>pval_ RNA-seq_WT-untagged_auxin4days</th><th scope=col>qval_ RNA-seq_WT-untagged_auxin4days</th><th scope=col>ext_gene_ RNA-seq_WT-untagged_untreated</th><th scope=col>num_aggregated_transcripts_ RNA-seq_WT-untagged_untreated</th><th scope=col>sum_mean_obs_counts_ RNA-seq_WT-untagged_untreated</th><th scope=col>pval_ RNA-seq_WT-untagged_untreated</th><th scope=col>qval_ RNA-seq_WT-untagged_untreated</th></tr>\n",
       "\t<tr><th></th><th scope=col>&lt;chr&gt;</th><th scope=col>&lt;chr&gt;</th><th scope=col>&lt;int&gt;</th><th scope=col>&lt;dbl&gt;</th><th scope=col>&lt;dbl&gt;</th><th scope=col>&lt;dbl&gt;</th><th scope=col>&lt;chr&gt;</th><th scope=col>&lt;int&gt;</th><th scope=col>&lt;dbl&gt;</th><th scope=col>&lt;dbl&gt;</th><th scope=col>⋯</th><th scope=col>&lt;chr&gt;</th><th scope=col>&lt;int&gt;</th><th scope=col>&lt;dbl&gt;</th><th scope=col>&lt;dbl&gt;</th><th scope=col>&lt;dbl&gt;</th><th scope=col>&lt;chr&gt;</th><th scope=col>&lt;int&gt;</th><th scope=col>&lt;dbl&gt;</th><th scope=col>&lt;dbl&gt;</th><th scope=col>&lt;dbl&gt;</th></tr>\n",
       "</thead>\n",
       "<tbody>\n",
       "\t<tr><th scope=row>1</th><td>ENSMUSG00000000001</td><td>Gnai3   </td><td>1</td><td> 8.655712</td><td>0.905705444</td><td>1.0000000</td><td>Gnai3   </td><td>1</td><td> 8.655712</td><td>0.7355967750</td><td>⋯</td><td>Gnai3   </td><td>1</td><td> 8.655712</td><td>0.17616517</td><td>0.9999882</td><td>Gnai3   </td><td>1</td><td> 8.655712</td><td>0.3342214</td><td>0.9999742</td></tr>\n",
       "\t<tr><th scope=row>2</th><td>ENSMUSG00000000028</td><td>Cdc45l  </td><td>2</td><td>13.832493</td><td>0.964720091</td><td>1.0000000</td><td>Cdc45l  </td><td>2</td><td>13.832493</td><td>0.3929913011</td><td>⋯</td><td>Cdc45l  </td><td>2</td><td>13.832493</td><td>0.64266493</td><td>0.9999882</td><td>Cdc45l  </td><td>2</td><td>13.832493</td><td>0.6930097</td><td>0.9999742</td></tr>\n",
       "\t<tr><th scope=row>3</th><td>ENSMUSG00000000037</td><td>Scml2   </td><td>6</td><td>17.754630</td><td>0.008941752</td><td>0.7149052</td><td>Scml2   </td><td>6</td><td>17.754630</td><td>0.0002887995</td><td>⋯</td><td>Scml2   </td><td>6</td><td>17.754630</td><td>0.06472297</td><td>0.9999882</td><td>Scml2   </td><td>6</td><td>17.754630</td><td>0.1189984</td><td>0.9999742</td></tr>\n",
       "\t<tr><th scope=row>4</th><td>ENSMUSG00000000056</td><td>Narf    </td><td>1</td><td> 6.753225</td><td>0.841518758</td><td>1.0000000</td><td>Narf    </td><td>1</td><td> 6.753225</td><td>0.9562774905</td><td>⋯</td><td>Narf    </td><td>1</td><td> 6.753225</td><td>0.34977290</td><td>0.9999882</td><td>Narf    </td><td>1</td><td> 6.753225</td><td>0.3151654</td><td>0.9999742</td></tr>\n",
       "\t<tr><th scope=row>5</th><td>ENSMUSG00000000058</td><td>Cav2    </td><td>1</td><td> 3.232592</td><td>0.315200646</td><td>1.0000000</td><td>Cav2    </td><td>1</td><td> 3.232592</td><td>0.0089185983</td><td>⋯</td><td>Cav2    </td><td>1</td><td> 3.232592</td><td>0.24903364</td><td>0.9999882</td><td>Cav2    </td><td>1</td><td> 3.232592</td><td>0.5007491</td><td>0.9999742</td></tr>\n",
       "\t<tr><th scope=row>6</th><td>ENSMUSG00000000078</td><td>Klf6    </td><td>1</td><td> 7.715875</td><td>0.424791110</td><td>1.0000000</td><td>Klf6    </td><td>1</td><td> 7.715875</td><td>0.0222408949</td><td>⋯</td><td>Klf6    </td><td>1</td><td> 7.715875</td><td>0.62366469</td><td>0.9999882</td><td>Klf6    </td><td>1</td><td> 7.715875</td><td>0.8013308</td><td>0.9999742</td></tr>\n",
       "\t<tr><th scope=row>7</th><td>ENSMUSG00000000085</td><td>Scmh1   </td><td>2</td><td>11.008463</td><td>0.085290985</td><td>1.0000000</td><td>Scmh1   </td><td>2</td><td>11.008463</td><td>0.4914930403</td><td>⋯</td><td>Scmh1   </td><td>2</td><td>11.008463</td><td>0.80752862</td><td>0.9999882</td><td>Scmh1   </td><td>2</td><td>11.008463</td><td>0.5138481</td><td>0.9999742</td></tr>\n",
       "\t<tr><th scope=row>8</th><td>ENSMUSG00000000088</td><td>Cox5a   </td><td>1</td><td> 9.142045</td><td>0.914178821</td><td>1.0000000</td><td>Cox5a   </td><td>1</td><td> 9.142045</td><td>0.7726463677</td><td>⋯</td><td>Cox5a   </td><td>1</td><td> 9.142045</td><td>0.61384708</td><td>0.9999882</td><td>Cox5a   </td><td>1</td><td> 9.142045</td><td>0.5845718</td><td>0.9999742</td></tr>\n",
       "\t<tr><th scope=row>9</th><td>ENSMUSG00000000093</td><td>Tbx2    </td><td>1</td><td> 2.970723</td><td>0.841847828</td><td>1.0000000</td><td>Tbx2    </td><td>1</td><td> 2.970723</td><td>0.4838007876</td><td>⋯</td><td>Tbx2    </td><td>1</td><td> 2.970723</td><td>0.82410740</td><td>0.9999882</td><td>Tbx2    </td><td>1</td><td> 2.970723</td><td>0.8893849</td><td>0.9999742</td></tr>\n",
       "\t<tr><th scope=row>10</th><td>ENSMUSG00000000094</td><td>Tbx4    </td><td>2</td><td> 3.901104</td><td>0.356399751</td><td>1.0000000</td><td>Tbx4    </td><td>2</td><td> 3.901104</td><td>0.7799340918</td><td>⋯</td><td>Tbx4    </td><td>2</td><td> 3.901104</td><td>0.77695965</td><td>0.9999882</td><td>Tbx4    </td><td>2</td><td> 3.901104</td><td>0.5584286</td><td>0.9999742</td></tr>\n",
       "\t<tr><th scope=row>11</th><td>ENSMUSG00000000120</td><td>Ngfr    </td><td>1</td><td> 6.394765</td><td>0.463315896</td><td>1.0000000</td><td>Ngfr    </td><td>1</td><td> 6.394765</td><td>0.2535264932</td><td>⋯</td><td>Ngfr    </td><td>1</td><td> 6.394765</td><td>0.45379247</td><td>0.9999882</td><td>Ngfr    </td><td>1</td><td> 6.394765</td><td>0.5745138</td><td>0.9999742</td></tr>\n",
       "\t<tr><th scope=row>12</th><td>ENSMUSG00000000125</td><td>Wnt3    </td><td>1</td><td> 4.659734</td><td>0.720963716</td><td>1.0000000</td><td>Wnt3    </td><td>1</td><td> 4.659734</td><td>0.0657125542</td><td>⋯</td><td>Wnt3    </td><td>1</td><td> 4.659734</td><td>0.45070651</td><td>0.9999882</td><td>Wnt3    </td><td>1</td><td> 4.659734</td><td>0.2799886</td><td>0.9999742</td></tr>\n",
       "\t<tr><th scope=row>13</th><td>ENSMUSG00000000126</td><td>Wnt9a   </td><td>2</td><td> 6.065905</td><td>0.638457578</td><td>1.0000000</td><td>Wnt9a   </td><td>2</td><td> 6.065905</td><td>0.0072342244</td><td>⋯</td><td>Wnt9a   </td><td>2</td><td> 6.065905</td><td>0.04859814</td><td>0.9999882</td><td>Wnt9a   </td><td>2</td><td> 6.065905</td><td>0.3631236</td><td>0.9999742</td></tr>\n",
       "\t<tr><th scope=row>14</th><td>ENSMUSG00000000127</td><td>Fert2   </td><td>3</td><td>14.382213</td><td>0.994689843</td><td>1.0000000</td><td>Fert2   </td><td>3</td><td>14.382213</td><td>0.5909972836</td><td>⋯</td><td>Fert2   </td><td>3</td><td>14.382213</td><td>0.59620306</td><td>0.9999882</td><td>Fert2   </td><td>3</td><td>14.382213</td><td>0.4253298</td><td>0.9999742</td></tr>\n",
       "\t<tr><th scope=row>15</th><td>ENSMUSG00000000131</td><td>Xpo6    </td><td>1</td><td> 4.959104</td><td>0.285167316</td><td>1.0000000</td><td>Xpo6    </td><td>1</td><td> 4.959104</td><td>0.1059419782</td><td>⋯</td><td>Xpo6    </td><td>1</td><td> 4.959104</td><td>0.91724601</td><td>0.9999882</td><td>Xpo6    </td><td>1</td><td> 4.959104</td><td>0.8898429</td><td>0.9999742</td></tr>\n",
       "\t<tr><th scope=row>16</th><td>ENSMUSG00000000134</td><td>Tcfe3   </td><td>5</td><td>28.188851</td><td>0.989324190</td><td>1.0000000</td><td>Tcfe3   </td><td>5</td><td>28.188851</td><td>0.6061112755</td><td>⋯</td><td>Tcfe3   </td><td>5</td><td>28.188851</td><td>0.76235421</td><td>0.9999882</td><td>Tcfe3   </td><td>5</td><td>28.188851</td><td>0.7920068</td><td>0.9999742</td></tr>\n",
       "\t<tr><th scope=row>17</th><td>ENSMUSG00000000142</td><td>Axin2   </td><td>1</td><td> 5.854338</td><td>0.842118883</td><td>1.0000000</td><td>Axin2   </td><td>1</td><td> 5.854338</td><td>0.6210478485</td><td>⋯</td><td>Axin2   </td><td>1</td><td> 5.854338</td><td>0.70938248</td><td>0.9999882</td><td>Axin2   </td><td>1</td><td> 5.854338</td><td>0.6565548</td><td>0.9999742</td></tr>\n",
       "\t<tr><th scope=row>18</th><td>ENSMUSG00000000148</td><td>AA881470</td><td>3</td><td>13.428619</td><td>0.935495475</td><td>1.0000000</td><td>AA881470</td><td>3</td><td>13.428619</td><td>0.5914222583</td><td>⋯</td><td>AA881470</td><td>3</td><td>13.428619</td><td>0.61476208</td><td>0.9999882</td><td>AA881470</td><td>3</td><td>13.428619</td><td>0.5741385</td><td>0.9999742</td></tr>\n",
       "\t<tr><th scope=row>19</th><td>ENSMUSG00000000149</td><td>Gna12   </td><td>1</td><td> 7.633828</td><td>0.996002485</td><td>1.0000000</td><td>Gna12   </td><td>1</td><td> 7.633828</td><td>0.8210583483</td><td>⋯</td><td>Gna12   </td><td>1</td><td> 7.633828</td><td>0.62401434</td><td>0.9999882</td><td>Gna12   </td><td>1</td><td> 7.633828</td><td>0.4992518</td><td>0.9999742</td></tr>\n",
       "\t<tr><th scope=row>20</th><td>ENSMUSG00000000154</td><td>Slc22a18</td><td>2</td><td> 6.224676</td><td>0.978189217</td><td>1.0000000</td><td>Slc22a18</td><td>2</td><td> 6.224676</td><td>0.2021637405</td><td>⋯</td><td>Slc22a18</td><td>2</td><td> 6.224676</td><td>0.24683065</td><td>0.9999882</td><td>Slc22a18</td><td>2</td><td> 6.224676</td><td>0.1141084</td><td>0.9999742</td></tr>\n",
       "</tbody>\n",
       "</table>\n"
      ],
      "text/latex": [
       "A data.frame: 20 × 36\n",
       "\\begin{tabular}{r|lllllllllllllllllllll}\n",
       "  & target\\_id & ext\\_gene\\_ RNA-seq\\_CTCF-AID\\_auxin1day & num\\_aggregated\\_transcripts\\_ RNA-seq\\_CTCF-AID\\_auxin1day & sum\\_mean\\_obs\\_counts\\_ RNA-seq\\_CTCF-AID\\_auxin1day & pval\\_ RNA-seq\\_CTCF-AID\\_auxin1day & qval\\_ RNA-seq\\_CTCF-AID\\_auxin1day & ext\\_gene\\_ RNA-seq\\_CTCF-AID\\_auxin2days & num\\_aggregated\\_transcripts\\_ RNA-seq\\_CTCF-AID\\_auxin2days & sum\\_mean\\_obs\\_counts\\_ RNA-seq\\_CTCF-AID\\_auxin2days & pval\\_ RNA-seq\\_CTCF-AID\\_auxin2days & ⋯ & ext\\_gene\\_ RNA-seq\\_WT-untagged\\_auxin4days & num\\_aggregated\\_transcripts\\_ RNA-seq\\_WT-untagged\\_auxin4days & sum\\_mean\\_obs\\_counts\\_ RNA-seq\\_WT-untagged\\_auxin4days & pval\\_ RNA-seq\\_WT-untagged\\_auxin4days & qval\\_ RNA-seq\\_WT-untagged\\_auxin4days & ext\\_gene\\_ RNA-seq\\_WT-untagged\\_untreated & num\\_aggregated\\_transcripts\\_ RNA-seq\\_WT-untagged\\_untreated & sum\\_mean\\_obs\\_counts\\_ RNA-seq\\_WT-untagged\\_untreated & pval\\_ RNA-seq\\_WT-untagged\\_untreated & qval\\_ RNA-seq\\_WT-untagged\\_untreated\\\\\n",
       "  & <chr> & <chr> & <int> & <dbl> & <dbl> & <dbl> & <chr> & <int> & <dbl> & <dbl> & ⋯ & <chr> & <int> & <dbl> & <dbl> & <dbl> & <chr> & <int> & <dbl> & <dbl> & <dbl>\\\\\n",
       "\\hline\n",
       "\t1 & ENSMUSG00000000001 & Gnai3    & 1 &  8.655712 & 0.905705444 & 1.0000000 & Gnai3    & 1 &  8.655712 & 0.7355967750 & ⋯ & Gnai3    & 1 &  8.655712 & 0.17616517 & 0.9999882 & Gnai3    & 1 &  8.655712 & 0.3342214 & 0.9999742\\\\\n",
       "\t2 & ENSMUSG00000000028 & Cdc45l   & 2 & 13.832493 & 0.964720091 & 1.0000000 & Cdc45l   & 2 & 13.832493 & 0.3929913011 & ⋯ & Cdc45l   & 2 & 13.832493 & 0.64266493 & 0.9999882 & Cdc45l   & 2 & 13.832493 & 0.6930097 & 0.9999742\\\\\n",
       "\t3 & ENSMUSG00000000037 & Scml2    & 6 & 17.754630 & 0.008941752 & 0.7149052 & Scml2    & 6 & 17.754630 & 0.0002887995 & ⋯ & Scml2    & 6 & 17.754630 & 0.06472297 & 0.9999882 & Scml2    & 6 & 17.754630 & 0.1189984 & 0.9999742\\\\\n",
       "\t4 & ENSMUSG00000000056 & Narf     & 1 &  6.753225 & 0.841518758 & 1.0000000 & Narf     & 1 &  6.753225 & 0.9562774905 & ⋯ & Narf     & 1 &  6.753225 & 0.34977290 & 0.9999882 & Narf     & 1 &  6.753225 & 0.3151654 & 0.9999742\\\\\n",
       "\t5 & ENSMUSG00000000058 & Cav2     & 1 &  3.232592 & 0.315200646 & 1.0000000 & Cav2     & 1 &  3.232592 & 0.0089185983 & ⋯ & Cav2     & 1 &  3.232592 & 0.24903364 & 0.9999882 & Cav2     & 1 &  3.232592 & 0.5007491 & 0.9999742\\\\\n",
       "\t6 & ENSMUSG00000000078 & Klf6     & 1 &  7.715875 & 0.424791110 & 1.0000000 & Klf6     & 1 &  7.715875 & 0.0222408949 & ⋯ & Klf6     & 1 &  7.715875 & 0.62366469 & 0.9999882 & Klf6     & 1 &  7.715875 & 0.8013308 & 0.9999742\\\\\n",
       "\t7 & ENSMUSG00000000085 & Scmh1    & 2 & 11.008463 & 0.085290985 & 1.0000000 & Scmh1    & 2 & 11.008463 & 0.4914930403 & ⋯ & Scmh1    & 2 & 11.008463 & 0.80752862 & 0.9999882 & Scmh1    & 2 & 11.008463 & 0.5138481 & 0.9999742\\\\\n",
       "\t8 & ENSMUSG00000000088 & Cox5a    & 1 &  9.142045 & 0.914178821 & 1.0000000 & Cox5a    & 1 &  9.142045 & 0.7726463677 & ⋯ & Cox5a    & 1 &  9.142045 & 0.61384708 & 0.9999882 & Cox5a    & 1 &  9.142045 & 0.5845718 & 0.9999742\\\\\n",
       "\t9 & ENSMUSG00000000093 & Tbx2     & 1 &  2.970723 & 0.841847828 & 1.0000000 & Tbx2     & 1 &  2.970723 & 0.4838007876 & ⋯ & Tbx2     & 1 &  2.970723 & 0.82410740 & 0.9999882 & Tbx2     & 1 &  2.970723 & 0.8893849 & 0.9999742\\\\\n",
       "\t10 & ENSMUSG00000000094 & Tbx4     & 2 &  3.901104 & 0.356399751 & 1.0000000 & Tbx4     & 2 &  3.901104 & 0.7799340918 & ⋯ & Tbx4     & 2 &  3.901104 & 0.77695965 & 0.9999882 & Tbx4     & 2 &  3.901104 & 0.5584286 & 0.9999742\\\\\n",
       "\t11 & ENSMUSG00000000120 & Ngfr     & 1 &  6.394765 & 0.463315896 & 1.0000000 & Ngfr     & 1 &  6.394765 & 0.2535264932 & ⋯ & Ngfr     & 1 &  6.394765 & 0.45379247 & 0.9999882 & Ngfr     & 1 &  6.394765 & 0.5745138 & 0.9999742\\\\\n",
       "\t12 & ENSMUSG00000000125 & Wnt3     & 1 &  4.659734 & 0.720963716 & 1.0000000 & Wnt3     & 1 &  4.659734 & 0.0657125542 & ⋯ & Wnt3     & 1 &  4.659734 & 0.45070651 & 0.9999882 & Wnt3     & 1 &  4.659734 & 0.2799886 & 0.9999742\\\\\n",
       "\t13 & ENSMUSG00000000126 & Wnt9a    & 2 &  6.065905 & 0.638457578 & 1.0000000 & Wnt9a    & 2 &  6.065905 & 0.0072342244 & ⋯ & Wnt9a    & 2 &  6.065905 & 0.04859814 & 0.9999882 & Wnt9a    & 2 &  6.065905 & 0.3631236 & 0.9999742\\\\\n",
       "\t14 & ENSMUSG00000000127 & Fert2    & 3 & 14.382213 & 0.994689843 & 1.0000000 & Fert2    & 3 & 14.382213 & 0.5909972836 & ⋯ & Fert2    & 3 & 14.382213 & 0.59620306 & 0.9999882 & Fert2    & 3 & 14.382213 & 0.4253298 & 0.9999742\\\\\n",
       "\t15 & ENSMUSG00000000131 & Xpo6     & 1 &  4.959104 & 0.285167316 & 1.0000000 & Xpo6     & 1 &  4.959104 & 0.1059419782 & ⋯ & Xpo6     & 1 &  4.959104 & 0.91724601 & 0.9999882 & Xpo6     & 1 &  4.959104 & 0.8898429 & 0.9999742\\\\\n",
       "\t16 & ENSMUSG00000000134 & Tcfe3    & 5 & 28.188851 & 0.989324190 & 1.0000000 & Tcfe3    & 5 & 28.188851 & 0.6061112755 & ⋯ & Tcfe3    & 5 & 28.188851 & 0.76235421 & 0.9999882 & Tcfe3    & 5 & 28.188851 & 0.7920068 & 0.9999742\\\\\n",
       "\t17 & ENSMUSG00000000142 & Axin2    & 1 &  5.854338 & 0.842118883 & 1.0000000 & Axin2    & 1 &  5.854338 & 0.6210478485 & ⋯ & Axin2    & 1 &  5.854338 & 0.70938248 & 0.9999882 & Axin2    & 1 &  5.854338 & 0.6565548 & 0.9999742\\\\\n",
       "\t18 & ENSMUSG00000000148 & AA881470 & 3 & 13.428619 & 0.935495475 & 1.0000000 & AA881470 & 3 & 13.428619 & 0.5914222583 & ⋯ & AA881470 & 3 & 13.428619 & 0.61476208 & 0.9999882 & AA881470 & 3 & 13.428619 & 0.5741385 & 0.9999742\\\\\n",
       "\t19 & ENSMUSG00000000149 & Gna12    & 1 &  7.633828 & 0.996002485 & 1.0000000 & Gna12    & 1 &  7.633828 & 0.8210583483 & ⋯ & Gna12    & 1 &  7.633828 & 0.62401434 & 0.9999882 & Gna12    & 1 &  7.633828 & 0.4992518 & 0.9999742\\\\\n",
       "\t20 & ENSMUSG00000000154 & Slc22a18 & 2 &  6.224676 & 0.978189217 & 1.0000000 & Slc22a18 & 2 &  6.224676 & 0.2021637405 & ⋯ & Slc22a18 & 2 &  6.224676 & 0.24683065 & 0.9999882 & Slc22a18 & 2 &  6.224676 & 0.1141084 & 0.9999742\\\\\n",
       "\\end{tabular}\n"
      ],
      "text/markdown": [
       "\n",
       "A data.frame: 20 × 36\n",
       "\n",
       "| <!--/--> | target_id &lt;chr&gt; | ext_gene_ RNA-seq_CTCF-AID_auxin1day &lt;chr&gt; | num_aggregated_transcripts_ RNA-seq_CTCF-AID_auxin1day &lt;int&gt; | sum_mean_obs_counts_ RNA-seq_CTCF-AID_auxin1day &lt;dbl&gt; | pval_ RNA-seq_CTCF-AID_auxin1day &lt;dbl&gt; | qval_ RNA-seq_CTCF-AID_auxin1day &lt;dbl&gt; | ext_gene_ RNA-seq_CTCF-AID_auxin2days &lt;chr&gt; | num_aggregated_transcripts_ RNA-seq_CTCF-AID_auxin2days &lt;int&gt; | sum_mean_obs_counts_ RNA-seq_CTCF-AID_auxin2days &lt;dbl&gt; | pval_ RNA-seq_CTCF-AID_auxin2days &lt;dbl&gt; | ⋯ ⋯ | ext_gene_ RNA-seq_WT-untagged_auxin4days &lt;chr&gt; | num_aggregated_transcripts_ RNA-seq_WT-untagged_auxin4days &lt;int&gt; | sum_mean_obs_counts_ RNA-seq_WT-untagged_auxin4days &lt;dbl&gt; | pval_ RNA-seq_WT-untagged_auxin4days &lt;dbl&gt; | qval_ RNA-seq_WT-untagged_auxin4days &lt;dbl&gt; | ext_gene_ RNA-seq_WT-untagged_untreated &lt;chr&gt; | num_aggregated_transcripts_ RNA-seq_WT-untagged_untreated &lt;int&gt; | sum_mean_obs_counts_ RNA-seq_WT-untagged_untreated &lt;dbl&gt; | pval_ RNA-seq_WT-untagged_untreated &lt;dbl&gt; | qval_ RNA-seq_WT-untagged_untreated &lt;dbl&gt; |\n",
       "|---|---|---|---|---|---|---|---|---|---|---|---|---|---|---|---|---|---|---|---|---|---|\n",
       "| 1 | ENSMUSG00000000001 | Gnai3    | 1 |  8.655712 | 0.905705444 | 1.0000000 | Gnai3    | 1 |  8.655712 | 0.7355967750 | ⋯ | Gnai3    | 1 |  8.655712 | 0.17616517 | 0.9999882 | Gnai3    | 1 |  8.655712 | 0.3342214 | 0.9999742 |\n",
       "| 2 | ENSMUSG00000000028 | Cdc45l   | 2 | 13.832493 | 0.964720091 | 1.0000000 | Cdc45l   | 2 | 13.832493 | 0.3929913011 | ⋯ | Cdc45l   | 2 | 13.832493 | 0.64266493 | 0.9999882 | Cdc45l   | 2 | 13.832493 | 0.6930097 | 0.9999742 |\n",
       "| 3 | ENSMUSG00000000037 | Scml2    | 6 | 17.754630 | 0.008941752 | 0.7149052 | Scml2    | 6 | 17.754630 | 0.0002887995 | ⋯ | Scml2    | 6 | 17.754630 | 0.06472297 | 0.9999882 | Scml2    | 6 | 17.754630 | 0.1189984 | 0.9999742 |\n",
       "| 4 | ENSMUSG00000000056 | Narf     | 1 |  6.753225 | 0.841518758 | 1.0000000 | Narf     | 1 |  6.753225 | 0.9562774905 | ⋯ | Narf     | 1 |  6.753225 | 0.34977290 | 0.9999882 | Narf     | 1 |  6.753225 | 0.3151654 | 0.9999742 |\n",
       "| 5 | ENSMUSG00000000058 | Cav2     | 1 |  3.232592 | 0.315200646 | 1.0000000 | Cav2     | 1 |  3.232592 | 0.0089185983 | ⋯ | Cav2     | 1 |  3.232592 | 0.24903364 | 0.9999882 | Cav2     | 1 |  3.232592 | 0.5007491 | 0.9999742 |\n",
       "| 6 | ENSMUSG00000000078 | Klf6     | 1 |  7.715875 | 0.424791110 | 1.0000000 | Klf6     | 1 |  7.715875 | 0.0222408949 | ⋯ | Klf6     | 1 |  7.715875 | 0.62366469 | 0.9999882 | Klf6     | 1 |  7.715875 | 0.8013308 | 0.9999742 |\n",
       "| 7 | ENSMUSG00000000085 | Scmh1    | 2 | 11.008463 | 0.085290985 | 1.0000000 | Scmh1    | 2 | 11.008463 | 0.4914930403 | ⋯ | Scmh1    | 2 | 11.008463 | 0.80752862 | 0.9999882 | Scmh1    | 2 | 11.008463 | 0.5138481 | 0.9999742 |\n",
       "| 8 | ENSMUSG00000000088 | Cox5a    | 1 |  9.142045 | 0.914178821 | 1.0000000 | Cox5a    | 1 |  9.142045 | 0.7726463677 | ⋯ | Cox5a    | 1 |  9.142045 | 0.61384708 | 0.9999882 | Cox5a    | 1 |  9.142045 | 0.5845718 | 0.9999742 |\n",
       "| 9 | ENSMUSG00000000093 | Tbx2     | 1 |  2.970723 | 0.841847828 | 1.0000000 | Tbx2     | 1 |  2.970723 | 0.4838007876 | ⋯ | Tbx2     | 1 |  2.970723 | 0.82410740 | 0.9999882 | Tbx2     | 1 |  2.970723 | 0.8893849 | 0.9999742 |\n",
       "| 10 | ENSMUSG00000000094 | Tbx4     | 2 |  3.901104 | 0.356399751 | 1.0000000 | Tbx4     | 2 |  3.901104 | 0.7799340918 | ⋯ | Tbx4     | 2 |  3.901104 | 0.77695965 | 0.9999882 | Tbx4     | 2 |  3.901104 | 0.5584286 | 0.9999742 |\n",
       "| 11 | ENSMUSG00000000120 | Ngfr     | 1 |  6.394765 | 0.463315896 | 1.0000000 | Ngfr     | 1 |  6.394765 | 0.2535264932 | ⋯ | Ngfr     | 1 |  6.394765 | 0.45379247 | 0.9999882 | Ngfr     | 1 |  6.394765 | 0.5745138 | 0.9999742 |\n",
       "| 12 | ENSMUSG00000000125 | Wnt3     | 1 |  4.659734 | 0.720963716 | 1.0000000 | Wnt3     | 1 |  4.659734 | 0.0657125542 | ⋯ | Wnt3     | 1 |  4.659734 | 0.45070651 | 0.9999882 | Wnt3     | 1 |  4.659734 | 0.2799886 | 0.9999742 |\n",
       "| 13 | ENSMUSG00000000126 | Wnt9a    | 2 |  6.065905 | 0.638457578 | 1.0000000 | Wnt9a    | 2 |  6.065905 | 0.0072342244 | ⋯ | Wnt9a    | 2 |  6.065905 | 0.04859814 | 0.9999882 | Wnt9a    | 2 |  6.065905 | 0.3631236 | 0.9999742 |\n",
       "| 14 | ENSMUSG00000000127 | Fert2    | 3 | 14.382213 | 0.994689843 | 1.0000000 | Fert2    | 3 | 14.382213 | 0.5909972836 | ⋯ | Fert2    | 3 | 14.382213 | 0.59620306 | 0.9999882 | Fert2    | 3 | 14.382213 | 0.4253298 | 0.9999742 |\n",
       "| 15 | ENSMUSG00000000131 | Xpo6     | 1 |  4.959104 | 0.285167316 | 1.0000000 | Xpo6     | 1 |  4.959104 | 0.1059419782 | ⋯ | Xpo6     | 1 |  4.959104 | 0.91724601 | 0.9999882 | Xpo6     | 1 |  4.959104 | 0.8898429 | 0.9999742 |\n",
       "| 16 | ENSMUSG00000000134 | Tcfe3    | 5 | 28.188851 | 0.989324190 | 1.0000000 | Tcfe3    | 5 | 28.188851 | 0.6061112755 | ⋯ | Tcfe3    | 5 | 28.188851 | 0.76235421 | 0.9999882 | Tcfe3    | 5 | 28.188851 | 0.7920068 | 0.9999742 |\n",
       "| 17 | ENSMUSG00000000142 | Axin2    | 1 |  5.854338 | 0.842118883 | 1.0000000 | Axin2    | 1 |  5.854338 | 0.6210478485 | ⋯ | Axin2    | 1 |  5.854338 | 0.70938248 | 0.9999882 | Axin2    | 1 |  5.854338 | 0.6565548 | 0.9999742 |\n",
       "| 18 | ENSMUSG00000000148 | AA881470 | 3 | 13.428619 | 0.935495475 | 1.0000000 | AA881470 | 3 | 13.428619 | 0.5914222583 | ⋯ | AA881470 | 3 | 13.428619 | 0.61476208 | 0.9999882 | AA881470 | 3 | 13.428619 | 0.5741385 | 0.9999742 |\n",
       "| 19 | ENSMUSG00000000149 | Gna12    | 1 |  7.633828 | 0.996002485 | 1.0000000 | Gna12    | 1 |  7.633828 | 0.8210583483 | ⋯ | Gna12    | 1 |  7.633828 | 0.62401434 | 0.9999882 | Gna12    | 1 |  7.633828 | 0.4992518 | 0.9999742 |\n",
       "| 20 | ENSMUSG00000000154 | Slc22a18 | 2 |  6.224676 | 0.978189217 | 1.0000000 | Slc22a18 | 2 |  6.224676 | 0.2021637405 | ⋯ | Slc22a18 | 2 |  6.224676 | 0.24683065 | 0.9999882 | Slc22a18 | 2 |  6.224676 | 0.1141084 | 0.9999742 |\n",
       "\n"
      ],
      "text/plain": [
       "   target_id          ext_gene_ RNA-seq_CTCF-AID_auxin1day\n",
       "1  ENSMUSG00000000001 Gnai3                               \n",
       "2  ENSMUSG00000000028 Cdc45l                              \n",
       "3  ENSMUSG00000000037 Scml2                               \n",
       "4  ENSMUSG00000000056 Narf                                \n",
       "5  ENSMUSG00000000058 Cav2                                \n",
       "6  ENSMUSG00000000078 Klf6                                \n",
       "7  ENSMUSG00000000085 Scmh1                               \n",
       "8  ENSMUSG00000000088 Cox5a                               \n",
       "9  ENSMUSG00000000093 Tbx2                                \n",
       "10 ENSMUSG00000000094 Tbx4                                \n",
       "11 ENSMUSG00000000120 Ngfr                                \n",
       "12 ENSMUSG00000000125 Wnt3                                \n",
       "13 ENSMUSG00000000126 Wnt9a                               \n",
       "14 ENSMUSG00000000127 Fert2                               \n",
       "15 ENSMUSG00000000131 Xpo6                                \n",
       "16 ENSMUSG00000000134 Tcfe3                               \n",
       "17 ENSMUSG00000000142 Axin2                               \n",
       "18 ENSMUSG00000000148 AA881470                            \n",
       "19 ENSMUSG00000000149 Gna12                               \n",
       "20 ENSMUSG00000000154 Slc22a18                            \n",
       "   num_aggregated_transcripts_ RNA-seq_CTCF-AID_auxin1day\n",
       "1  1                                                     \n",
       "2  2                                                     \n",
       "3  6                                                     \n",
       "4  1                                                     \n",
       "5  1                                                     \n",
       "6  1                                                     \n",
       "7  2                                                     \n",
       "8  1                                                     \n",
       "9  1                                                     \n",
       "10 2                                                     \n",
       "11 1                                                     \n",
       "12 1                                                     \n",
       "13 2                                                     \n",
       "14 3                                                     \n",
       "15 1                                                     \n",
       "16 5                                                     \n",
       "17 1                                                     \n",
       "18 3                                                     \n",
       "19 1                                                     \n",
       "20 2                                                     \n",
       "   sum_mean_obs_counts_ RNA-seq_CTCF-AID_auxin1day\n",
       "1   8.655712                                      \n",
       "2  13.832493                                      \n",
       "3  17.754630                                      \n",
       "4   6.753225                                      \n",
       "5   3.232592                                      \n",
       "6   7.715875                                      \n",
       "7  11.008463                                      \n",
       "8   9.142045                                      \n",
       "9   2.970723                                      \n",
       "10  3.901104                                      \n",
       "11  6.394765                                      \n",
       "12  4.659734                                      \n",
       "13  6.065905                                      \n",
       "14 14.382213                                      \n",
       "15  4.959104                                      \n",
       "16 28.188851                                      \n",
       "17  5.854338                                      \n",
       "18 13.428619                                      \n",
       "19  7.633828                                      \n",
       "20  6.224676                                      \n",
       "   pval_ RNA-seq_CTCF-AID_auxin1day qval_ RNA-seq_CTCF-AID_auxin1day\n",
       "1  0.905705444                      1.0000000                       \n",
       "2  0.964720091                      1.0000000                       \n",
       "3  0.008941752                      0.7149052                       \n",
       "4  0.841518758                      1.0000000                       \n",
       "5  0.315200646                      1.0000000                       \n",
       "6  0.424791110                      1.0000000                       \n",
       "7  0.085290985                      1.0000000                       \n",
       "8  0.914178821                      1.0000000                       \n",
       "9  0.841847828                      1.0000000                       \n",
       "10 0.356399751                      1.0000000                       \n",
       "11 0.463315896                      1.0000000                       \n",
       "12 0.720963716                      1.0000000                       \n",
       "13 0.638457578                      1.0000000                       \n",
       "14 0.994689843                      1.0000000                       \n",
       "15 0.285167316                      1.0000000                       \n",
       "16 0.989324190                      1.0000000                       \n",
       "17 0.842118883                      1.0000000                       \n",
       "18 0.935495475                      1.0000000                       \n",
       "19 0.996002485                      1.0000000                       \n",
       "20 0.978189217                      1.0000000                       \n",
       "   ext_gene_ RNA-seq_CTCF-AID_auxin2days\n",
       "1  Gnai3                                \n",
       "2  Cdc45l                               \n",
       "3  Scml2                                \n",
       "4  Narf                                 \n",
       "5  Cav2                                 \n",
       "6  Klf6                                 \n",
       "7  Scmh1                                \n",
       "8  Cox5a                                \n",
       "9  Tbx2                                 \n",
       "10 Tbx4                                 \n",
       "11 Ngfr                                 \n",
       "12 Wnt3                                 \n",
       "13 Wnt9a                                \n",
       "14 Fert2                                \n",
       "15 Xpo6                                 \n",
       "16 Tcfe3                                \n",
       "17 Axin2                                \n",
       "18 AA881470                             \n",
       "19 Gna12                                \n",
       "20 Slc22a18                             \n",
       "   num_aggregated_transcripts_ RNA-seq_CTCF-AID_auxin2days\n",
       "1  1                                                      \n",
       "2  2                                                      \n",
       "3  6                                                      \n",
       "4  1                                                      \n",
       "5  1                                                      \n",
       "6  1                                                      \n",
       "7  2                                                      \n",
       "8  1                                                      \n",
       "9  1                                                      \n",
       "10 2                                                      \n",
       "11 1                                                      \n",
       "12 1                                                      \n",
       "13 2                                                      \n",
       "14 3                                                      \n",
       "15 1                                                      \n",
       "16 5                                                      \n",
       "17 1                                                      \n",
       "18 3                                                      \n",
       "19 1                                                      \n",
       "20 2                                                      \n",
       "   sum_mean_obs_counts_ RNA-seq_CTCF-AID_auxin2days\n",
       "1   8.655712                                       \n",
       "2  13.832493                                       \n",
       "3  17.754630                                       \n",
       "4   6.753225                                       \n",
       "5   3.232592                                       \n",
       "6   7.715875                                       \n",
       "7  11.008463                                       \n",
       "8   9.142045                                       \n",
       "9   2.970723                                       \n",
       "10  3.901104                                       \n",
       "11  6.394765                                       \n",
       "12  4.659734                                       \n",
       "13  6.065905                                       \n",
       "14 14.382213                                       \n",
       "15  4.959104                                       \n",
       "16 28.188851                                       \n",
       "17  5.854338                                       \n",
       "18 13.428619                                       \n",
       "19  7.633828                                       \n",
       "20  6.224676                                       \n",
       "   pval_ RNA-seq_CTCF-AID_auxin2days <U+22EF>  \n",
       "1  0.7355967750                      <U+22EF>\n",
       "2  0.3929913011                      <U+22EF>\n",
       "3  0.0002887995                      <U+22EF>\n",
       "4  0.9562774905                      <U+22EF>\n",
       "5  0.0089185983                      <U+22EF>\n",
       "6  0.0222408949                      <U+22EF>\n",
       "7  0.4914930403                      <U+22EF>\n",
       "8  0.7726463677                      <U+22EF>\n",
       "9  0.4838007876                      <U+22EF>\n",
       "10 0.7799340918                      <U+22EF>\n",
       "11 0.2535264932                      <U+22EF>\n",
       "12 0.0657125542                      <U+22EF>\n",
       "13 0.0072342244                      <U+22EF>\n",
       "14 0.5909972836                      <U+22EF>\n",
       "15 0.1059419782                      <U+22EF>\n",
       "16 0.6061112755                      <U+22EF>\n",
       "17 0.6210478485                      <U+22EF>\n",
       "18 0.5914222583                      <U+22EF>\n",
       "19 0.8210583483                      <U+22EF>\n",
       "20 0.2021637405                      <U+22EF>\n",
       "   ext_gene_ RNA-seq_WT-untagged_auxin4days\n",
       "1  Gnai3                                   \n",
       "2  Cdc45l                                  \n",
       "3  Scml2                                   \n",
       "4  Narf                                    \n",
       "5  Cav2                                    \n",
       "6  Klf6                                    \n",
       "7  Scmh1                                   \n",
       "8  Cox5a                                   \n",
       "9  Tbx2                                    \n",
       "10 Tbx4                                    \n",
       "11 Ngfr                                    \n",
       "12 Wnt3                                    \n",
       "13 Wnt9a                                   \n",
       "14 Fert2                                   \n",
       "15 Xpo6                                    \n",
       "16 Tcfe3                                   \n",
       "17 Axin2                                   \n",
       "18 AA881470                                \n",
       "19 Gna12                                   \n",
       "20 Slc22a18                                \n",
       "   num_aggregated_transcripts_ RNA-seq_WT-untagged_auxin4days\n",
       "1  1                                                         \n",
       "2  2                                                         \n",
       "3  6                                                         \n",
       "4  1                                                         \n",
       "5  1                                                         \n",
       "6  1                                                         \n",
       "7  2                                                         \n",
       "8  1                                                         \n",
       "9  1                                                         \n",
       "10 2                                                         \n",
       "11 1                                                         \n",
       "12 1                                                         \n",
       "13 2                                                         \n",
       "14 3                                                         \n",
       "15 1                                                         \n",
       "16 5                                                         \n",
       "17 1                                                         \n",
       "18 3                                                         \n",
       "19 1                                                         \n",
       "20 2                                                         \n",
       "   sum_mean_obs_counts_ RNA-seq_WT-untagged_auxin4days\n",
       "1   8.655712                                          \n",
       "2  13.832493                                          \n",
       "3  17.754630                                          \n",
       "4   6.753225                                          \n",
       "5   3.232592                                          \n",
       "6   7.715875                                          \n",
       "7  11.008463                                          \n",
       "8   9.142045                                          \n",
       "9   2.970723                                          \n",
       "10  3.901104                                          \n",
       "11  6.394765                                          \n",
       "12  4.659734                                          \n",
       "13  6.065905                                          \n",
       "14 14.382213                                          \n",
       "15  4.959104                                          \n",
       "16 28.188851                                          \n",
       "17  5.854338                                          \n",
       "18 13.428619                                          \n",
       "19  7.633828                                          \n",
       "20  6.224676                                          \n",
       "   pval_ RNA-seq_WT-untagged_auxin4days qval_ RNA-seq_WT-untagged_auxin4days\n",
       "1  0.17616517                           0.9999882                           \n",
       "2  0.64266493                           0.9999882                           \n",
       "3  0.06472297                           0.9999882                           \n",
       "4  0.34977290                           0.9999882                           \n",
       "5  0.24903364                           0.9999882                           \n",
       "6  0.62366469                           0.9999882                           \n",
       "7  0.80752862                           0.9999882                           \n",
       "8  0.61384708                           0.9999882                           \n",
       "9  0.82410740                           0.9999882                           \n",
       "10 0.77695965                           0.9999882                           \n",
       "11 0.45379247                           0.9999882                           \n",
       "12 0.45070651                           0.9999882                           \n",
       "13 0.04859814                           0.9999882                           \n",
       "14 0.59620306                           0.9999882                           \n",
       "15 0.91724601                           0.9999882                           \n",
       "16 0.76235421                           0.9999882                           \n",
       "17 0.70938248                           0.9999882                           \n",
       "18 0.61476208                           0.9999882                           \n",
       "19 0.62401434                           0.9999882                           \n",
       "20 0.24683065                           0.9999882                           \n",
       "   ext_gene_ RNA-seq_WT-untagged_untreated\n",
       "1  Gnai3                                  \n",
       "2  Cdc45l                                 \n",
       "3  Scml2                                  \n",
       "4  Narf                                   \n",
       "5  Cav2                                   \n",
       "6  Klf6                                   \n",
       "7  Scmh1                                  \n",
       "8  Cox5a                                  \n",
       "9  Tbx2                                   \n",
       "10 Tbx4                                   \n",
       "11 Ngfr                                   \n",
       "12 Wnt3                                   \n",
       "13 Wnt9a                                  \n",
       "14 Fert2                                  \n",
       "15 Xpo6                                   \n",
       "16 Tcfe3                                  \n",
       "17 Axin2                                  \n",
       "18 AA881470                               \n",
       "19 Gna12                                  \n",
       "20 Slc22a18                               \n",
       "   num_aggregated_transcripts_ RNA-seq_WT-untagged_untreated\n",
       "1  1                                                        \n",
       "2  2                                                        \n",
       "3  6                                                        \n",
       "4  1                                                        \n",
       "5  1                                                        \n",
       "6  1                                                        \n",
       "7  2                                                        \n",
       "8  1                                                        \n",
       "9  1                                                        \n",
       "10 2                                                        \n",
       "11 1                                                        \n",
       "12 1                                                        \n",
       "13 2                                                        \n",
       "14 3                                                        \n",
       "15 1                                                        \n",
       "16 5                                                        \n",
       "17 1                                                        \n",
       "18 3                                                        \n",
       "19 1                                                        \n",
       "20 2                                                        \n",
       "   sum_mean_obs_counts_ RNA-seq_WT-untagged_untreated\n",
       "1   8.655712                                         \n",
       "2  13.832493                                         \n",
       "3  17.754630                                         \n",
       "4   6.753225                                         \n",
       "5   3.232592                                         \n",
       "6   7.715875                                         \n",
       "7  11.008463                                         \n",
       "8   9.142045                                         \n",
       "9   2.970723                                         \n",
       "10  3.901104                                         \n",
       "11  6.394765                                         \n",
       "12  4.659734                                         \n",
       "13  6.065905                                         \n",
       "14 14.382213                                         \n",
       "15  4.959104                                         \n",
       "16 28.188851                                         \n",
       "17  5.854338                                         \n",
       "18 13.428619                                         \n",
       "19  7.633828                                         \n",
       "20  6.224676                                         \n",
       "   pval_ RNA-seq_WT-untagged_untreated qval_ RNA-seq_WT-untagged_untreated\n",
       "1  0.3342214                           0.9999742                          \n",
       "2  0.6930097                           0.9999742                          \n",
       "3  0.1189984                           0.9999742                          \n",
       "4  0.3151654                           0.9999742                          \n",
       "5  0.5007491                           0.9999742                          \n",
       "6  0.8013308                           0.9999742                          \n",
       "7  0.5138481                           0.9999742                          \n",
       "8  0.5845718                           0.9999742                          \n",
       "9  0.8893849                           0.9999742                          \n",
       "10 0.5584286                           0.9999742                          \n",
       "11 0.5745138                           0.9999742                          \n",
       "12 0.2799886                           0.9999742                          \n",
       "13 0.3631236                           0.9999742                          \n",
       "14 0.4253298                           0.9999742                          \n",
       "15 0.8898429                           0.9999742                          \n",
       "16 0.7920068                           0.9999742                          \n",
       "17 0.6565548                           0.9999742                          \n",
       "18 0.5741385                           0.9999742                          \n",
       "19 0.4992518                           0.9999742                          \n",
       "20 0.1141084                           0.9999742                          "
      ]
     },
     "metadata": {},
     "output_type": "display_data"
    },
    {
     "data": {
      "text/html": [
       "<style>\n",
       ".list-inline {list-style: none; margin:0; padding: 0}\n",
       ".list-inline>li {display: inline-block}\n",
       ".list-inline>li:not(:last-child)::after {content: \"\\00b7\"; padding: 0 .5ex}\n",
       "</style>\n",
       "<ol class=list-inline><li>16571</li><li>36</li></ol>\n"
      ],
      "text/latex": [
       "\\begin{enumerate*}\n",
       "\\item 16571\n",
       "\\item 36\n",
       "\\end{enumerate*}\n"
      ],
      "text/markdown": [
       "1. 16571\n",
       "2. 36\n",
       "\n",
       "\n"
      ],
      "text/plain": [
       "[1] 16571    36"
      ]
     },
     "metadata": {},
     "output_type": "display_data"
    }
   ],
   "source": [
    "head(sleuth_results_wt, 20)\n",
    "dim(sleuth_results_wt)"
   ]
  },
  {
   "cell_type": "code",
   "execution_count": 74,
   "id": "031c450d-5f1b-4e1a-832c-81ce71f82fd1",
   "metadata": {},
   "outputs": [
    {
     "name": "stdout",
     "output_type": "stream",
     "text": [
      "[1] \" RNA-seq_CTCF-AID_untreated\"\n",
      "[1] \" RNA-seq_CTCF-AID_auxin1day\"\n",
      "[1] \" RNA-seq_CTCF-AID_auxin2days\"\n",
      "[1] \" RNA-seq_CTCF-AID_auxin4days\"\n",
      "[1] \" RNA-seq_CTCF-AID_washoff2days\"\n",
      "[1] \" RNA-seq_WT-untagged_auxin2days\"\n",
      "[1] \" RNA-seq_WT-untagged_auxin4days\"\n",
      "[1] \" RNA-seq_WT-untagged_untreated\"\n"
     ]
    }
   ],
   "source": [
    "# instead, printing/saving all the results to .csv\n",
    "for(cond in levels(s2c$condition)) {\n",
    "    print(cond)\n",
    "    \n",
    "    if (cond != levels(s2c$condition)[1]) {\n",
    "        \n",
    "        so_gene <- sleuth_wt(so_gene, which_beta = paste(\"condition\",cond, sep=\"\"))\n",
    "        res <- sleuth_results(so_gene, test = paste(\"condition\",cond, sep=\"\"), test_type = 'wt', pval_aggregate=FALSE, show_all = TRUE)\n",
    "        colnames(res) <- paste(colnames(res),cond,sep=\"_\")\n",
    "        \n",
    "        write.csv(res,file.path(elphege_proj_files, \"WT-mm9-results\", paste(\"sleuth_WT_\", cond, \".csv\", sep=\"\")))\n",
    "    }\n",
    "        \n",
    "}"
   ]
  },
  {
   "cell_type": "markdown",
   "id": "74c333e9-b1c8-43c6-8eee-7c522173dff6",
   "metadata": {},
   "source": [
    "# Comparison with Elphege's data"
   ]
  },
  {
   "cell_type": "markdown",
   "id": "ef243333-f420-47d1-8fd0-7861003a7217",
   "metadata": {},
   "source": [
    "## First, looking at basic information:\n",
    "\n",
    "* % of upregulated vs. down\n",
    "   * \"The absolute number of differentially expressed genes increased more than 10-fold between day 1 (370) and day 4 (4,996) (Figures S6A and S6B), and around half of the dysregulated genes were downregulated and half were upregulated at each time point.\" \n",
    "* Set differences between supplemental-table-10 and sleuth DE predictions\n",
    "   * total number of genes\n",
    "   * number up-regulated/down-regulated at each step in process\n",
    "   "
   ]
  },
  {
   "cell_type": "code",
   "execution_count": 109,
   "id": "2f0b0071-30ab-44dd-938c-7cf4ce3ab90a",
   "metadata": {},
   "outputs": [
    {
     "ename": "ERROR",
     "evalue": "Error in readxl(\"/scratch/pokorny/Elphege_2017/sup_data/NIHMS873912-supplement-10.xlsx\", : could not find function \"readxl\"\n",
     "output_type": "error",
     "traceback": [
      "Error in readxl(\"/scratch/pokorny/Elphege_2017/sup_data/NIHMS873912-supplement-10.xlsx\", : could not find function \"readxl\"\nTraceback:\n"
     ]
    }
   ],
   "source": []
  },
  {
   "cell_type": "markdown",
   "id": "3cfb71d4-23b6-4de5-a509-2d779eb44e5b",
   "metadata": {},
   "source": [
    "## Try other approach: all log-fold differences calculated using LRT\n",
    "\n",
    "\"If you are doing a simple comparison between wild-type and mutant samples, then you can technically do the wald test. However, in our preprint [1], all of the analyses are done with the likelihood ratio test. This is because we found that the FDR is much more believable under the likelihood ratio test then the Wald test. My general impression is that the Wald test gives too many false positives, although, the rankings are fairly comparable between the two tests.\" - H. Pimental\n",
    "\n",
    "https://www.biostars.org/p/226022/"
   ]
  },
  {
   "cell_type": "code",
   "execution_count": 32,
   "id": "d9a3d8ea-3aa0-41ec-93c0-09a66dfdeb30",
   "metadata": {},
   "outputs": [
    {
     "ename": "ERROR",
     "evalue": "Error in parse(text = x, srcfile = src): <text>:6:0: unexpected end of input\n4:         \n5:         \n  ^\n",
     "output_type": "error",
     "traceback": [
      "Error in parse(text = x, srcfile = src): <text>:6:0: unexpected end of input\n4:         \n5:         \n  ^\nTraceback:\n"
     ]
    }
   ],
   "source": [
    "# # Otherwise, saving the results of each test -- can aggregate together some other time <3\n",
    "# for(cond in levels(s2c$condition)) {\n",
    "#     if (cond != levels(s2c$condition)[1]) {\n",
    "        \n",
    "        "
   ]
  },
  {
   "cell_type": "markdown",
   "id": "5095b663-b353-4d78-8ef7-ffeb9b5b4e85",
   "metadata": {},
   "source": [
    "# Deprecated / Not pursued\n",
    "\n",
    "but keeping in case a code reference is needed / so I may learn from my mistakes"
   ]
  },
  {
   "cell_type": "code",
   "execution_count": null,
   "id": "076413b2-fd6b-4fed-9543-d1ca6c7765a3",
   "metadata": {},
   "outputs": [],
   "source": []
  },
  {
   "cell_type": "code",
   "execution_count": 23,
   "id": "827b67a8-e5b2-4a3d-9195-f3f00cfc1fc0",
   "metadata": {},
   "outputs": [],
   "source": [
    "# sleuth_matrix"
   ]
  },
  {
   "cell_type": "code",
   "execution_count": 56,
   "id": "00b92117-64ca-4f3f-ac57-6f9966466ff6",
   "metadata": {},
   "outputs": [
    {
     "ename": "ERROR",
     "evalue": "Error in UseMethod(\"select\"): no applicable method for 'select' applied to an object of class \"c('matrix', 'double', 'numeric')\"\n",
     "output_type": "error",
     "traceback": [
      "Error in UseMethod(\"select\"): no applicable method for 'select' applied to an object of class \"c('matrix', 'double', 'numeric')\"\nTraceback:\n",
      "1. dplyr::select(sleuth_matrix, c(cols[1], cols[2], cols[3]))"
     ]
    }
   ],
   "source": [
    "# cols = s2c[which(levels(s2c$condition)[1] == s2c$condition), ]$sample\n",
    "\n",
    "# #select.me <- c(cols[1], cols[2], cols[3])\n",
    "\n",
    "# #sleuth_matrix[ , select.me]\n",
    "\n",
    "# # head(sleuth_matrix[ , names(sleuth_matrix %in% select.me)], 4)\n",
    "\n",
    "# dplyr::select(sleuth_matrix, c(cols[1], cols[2], cols[3]))\n",
    "\n",
    "# # sleuth_matrix <- sleuth_matrix %>% \n",
    "# #   mutate(avgTPM = mean(c_across(cols[1], cols[2], cols[3]))) %>%\n",
    "# #   head()"
   ]
  },
  {
   "cell_type": "code",
   "execution_count": 59,
   "id": "84fa5eda-968c-4f43-b0b3-d5d15ea51c20",
   "metadata": {},
   "outputs": [
    {
     "ename": "ERROR",
     "evalue": "Error in UseMethod(\"left_join\"): no applicable method for 'left_join' applied to an object of class \"c('matrix', 'double', 'numeric')\"\n",
     "output_type": "error",
     "traceback": [
      "Error in UseMethod(\"left_join\"): no applicable method for 'left_join' applied to an object of class \"c('matrix', 'double', 'numeric')\"\nTraceback:\n",
      "1. left_join(sleuth_matrix, gene_and_symbol)"
     ]
    }
   ],
   "source": [
    "# gene_and_symbol<-as.data.frame(cbind(t2g$ens_gene,t2g$ext_gene))\n",
    "# colnames(gene_and_symbol)<-c(\"target_id\",\"ext_gene\")\n",
    "# gene_and_symbol<-dplyr::distinct(gene_and_symbol,target_id,.keep_all=TRUE)\n",
    "\n",
    "# sleuth_matrix_genes_level<-left_join(sleuth_matrix,gene_and_symbol)"
   ]
  },
  {
   "cell_type": "code",
   "execution_count": null,
   "id": "6ea8b89f-14ca-4972-87e6-790a07d4cf8e",
   "metadata": {},
   "outputs": [],
   "source": []
  },
  {
   "cell_type": "code",
   "execution_count": 106,
   "id": "70b9e4f5-6edc-4ca6-9ab2-8387ebce7f9d",
   "metadata": {},
   "outputs": [],
   "source": [
    "# Possibly a useful package for complicated heatmap generation:\n",
    "\n",
    "?pheatmap"
   ]
  },
  {
   "cell_type": "code",
   "execution_count": null,
   "id": "8059ec7c-d390-4665-81d3-7796be2b24a5",
   "metadata": {},
   "outputs": [],
   "source": [
    "# Generate annotations for rows and columns\n",
    "annotation_col = sleuth_significant_lrt(\n",
    "\n",
    "annotation_col = data.frame(\n",
    "                    CellType = factor(rep(c(\"CT1\", \"CT2\"), 5)), \n",
    "                    Time = 1:5\n",
    "                )\n",
    "rownames(annotation_col) = paste(\"Test\", 1:10, sep = \"\")"
   ]
  },
  {
   "cell_type": "code",
   "execution_count": 89,
   "id": "6097c038-c8c8-4de4-be0c-800de31f8e10",
   "metadata": {},
   "outputs": [
    {
     "ename": "ERROR",
     "evalue": "Error in qchisq(pnts, df = df): Non-numeric argument to mathematical function\n",
     "output_type": "error",
     "traceback": [
      "Error in qchisq(pnts, df = df): Non-numeric argument to mathematical function\nTraceback:\n",
      "1. plot_qq(so_gene, test = \"reduced:full\", test_type = \"lrt\", sig_level = 0.05)",
      "2. qchisq(pnts, df = df)"
     ]
    }
   ],
   "source": [
    "plot_qq(so_gene, test = 'reduced:full', test_type = 'lrt', sig_level = 0.05)"
   ]
  },
  {
   "cell_type": "code",
   "execution_count": 93,
   "id": "3ebd7480-182b-4b35-a970-0c2299ccd87b",
   "metadata": {},
   "outputs": [],
   "source": [
    "#plot_sample_heatmap(so_gene, use_filtered=TRUE, annotation_cols = setdiff(colnames(so_gene$sample_to_covariates), \"sample\"))\n",
    "\n",
    "#head(sleuth_significant_lrt, n = 20)$target_id\n",
    "\n",
    "plot_sample_heatmap(so_gene, use_filtered=TRUE, annotation_cols = setdiff(colnames(so_gene$sample_to_covariates), 'est_counts'))"
   ]
  },
  {
   "cell_type": "markdown",
   "id": "59946a74-6dfe-4797-bc68-66f7033da9ba",
   "metadata": {},
   "source": [
    "### Notes on gene labeling:\n",
    "\n",
    "MGI gene name is the one used by paper as stable ID. Also found that RefSeq is mainly a resource for transcripts, so there is not a 1-1 mapping between the gene names on ensembl to these transcripts. The best would be to find an exact mapping of each ensembl gene_id to the MGI. \n",
    "\n",
    "Issue: The set mouse_gene_db appears to be incomplete, it's 1/4 of the size of the ensembl 'genes' df. Seen below, I ran into issues with merging the datasets and ended up with something incomplete.\n",
    "\n",
    "An alternative option is to extract the MGI from the gene description, which is already in the aggregated dataset and then lookup the MGI-->gene_name for direct comparison. Still, have not yet found a good mapping for MGI-->gene name. looking here for downloads: http://www.informatics.jax.org/downloads/B37_processed/OriginalAnnotations/\n",
    "http://www.informatics.jax.org/downloads/reports/index.html#seq"
   ]
  },
  {
   "cell_type": "code",
   "execution_count": null,
   "id": "65126dbe-39ff-4f69-8f3f-a6cea302ea79",
   "metadata": {},
   "outputs": [],
   "source": []
  },
  {
   "cell_type": "code",
   "execution_count": null,
   "id": "d81d6bbf-52b3-4290-acf6-8c9a4fe55bbf",
   "metadata": {},
   "outputs": [],
   "source": [
    "# add ext_gene to == mgk name\n",
    "mouse_gene_db <- rename(mouse_gene_db, ens_gene = V6, \n",
    "                   gene_name = V2,\n",
    "                   MGI_id = V1)"
   ]
  },
  {
   "cell_type": "code",
   "execution_count": null,
   "id": "6999a85f-9315-40dc-af9d-758ba9b2bc3a",
   "metadata": {},
   "outputs": [],
   "source": [
    "head(mouse_gene_db, 5)\n",
    "dim(mouse_gene_db)\n",
    "# todo: left join on ens_gene and add mouse_gene_db\n",
    "# create new pared-down df with target_id, ens_gene ext_gene == V2, "
   ]
  },
  {
   "cell_type": "code",
   "execution_count": null,
   "id": "78e0c11c-da04-4f1d-b1a1-393b94a68aa3",
   "metadata": {},
   "outputs": [],
   "source": [
    "length(unique(mouse_gene_db$ens_gene))"
   ]
  },
  {
   "cell_type": "code",
   "execution_count": null,
   "id": "ff221014-3428-44b0-adf1-7d6043141b9a",
   "metadata": {},
   "outputs": [],
   "source": [
    "unique(mouse_gene_db$V9)"
   ]
  },
  {
   "cell_type": "code",
   "execution_count": null,
   "id": "00400beb-7b39-406d-b036-068f14cd7547",
   "metadata": {},
   "outputs": [],
   "source": [
    "length(unique(genes$ens_gene))"
   ]
  },
  {
   "cell_type": "code",
   "execution_count": null,
   "id": "3b49beae-d9a9-4646-88fd-737b3c27e9dc",
   "metadata": {},
   "outputs": [],
   "source": [
    "genes <- genes %>% distinct(target_id, .keep_all= TRUE)\n",
    "dim(genes)"
   ]
  },
  {
   "cell_type": "code",
   "execution_count": null,
   "id": "103b9976-96e5-427b-aea5-dc24dffb4064",
   "metadata": {},
   "outputs": [],
   "source": [
    "head(genes,5)"
   ]
  },
  {
   "cell_type": "code",
   "execution_count": null,
   "id": "cea12948-ba57-49d5-9032-87e682b25c5b",
   "metadata": {},
   "outputs": [],
   "source": [
    "head(genes[which(genes$ens_gene == -1),], 5)\n",
    "dim(genes[which(genes$ens_gene == -1),])"
   ]
  },
  {
   "cell_type": "code",
   "execution_count": null,
   "id": "67e1180b-5447-4063-855d-659b198297e6",
   "metadata": {},
   "outputs": [],
   "source": [
    "genes[which(genes$ext_gene == \"\"),]"
   ]
  },
  {
   "cell_type": "markdown",
   "id": "9abe9951-6501-4b5b-8f9c-89a4e25a6ede",
   "metadata": {},
   "source": [
    "#todo:\n",
    "\n",
    "- look into parsing issuess (maybe just a type of table/parser is available)\n",
    "- "
   ]
  },
  {
   "cell_type": "code",
   "execution_count": null,
   "id": "b5097d94-c863-48ea-948c-0513bf65c197",
   "metadata": {},
   "outputs": [],
   "source": [
    "genes <- genes[which(genes$ens_gene != -1),]\n",
    "genes <- genes[which(genes$ens_gene != 1),]"
   ]
  },
  {
   "cell_type": "markdown",
   "id": "b2b34cc9-4ca1-44a0-9120-31d2b964ff13",
   "metadata": {},
   "source": [
    "when searching `which(genes$ens_gene == -1)` or `which(genes$ens_gene == 1)` --> found basically a bunch of blank entries. cleaning up."
   ]
  },
  {
   "cell_type": "code",
   "execution_count": null,
   "id": "45e15cc4-cf82-4e17-8270-05c39aa015c8",
   "metadata": {},
   "outputs": [],
   "source": [
    "dim(genes[which(genes$ens_gene == \"\"),])"
   ]
  },
  {
   "cell_type": "code",
   "execution_count": null,
   "id": "ba29c3f7-d426-4dcf-bff5-b1457481e187",
   "metadata": {},
   "outputs": [],
   "source": [
    "genes <- genes[which(genes$ens_gene != \"\"),]"
   ]
  },
  {
   "cell_type": "code",
   "execution_count": null,
   "id": "4fd02638-e49c-4f1f-a193-fdf69cbbe184",
   "metadata": {},
   "outputs": [],
   "source": [
    "head(genes$target_id, 1000)"
   ]
  },
  {
   "cell_type": "code",
   "execution_count": null,
   "id": "cc6f8dc9-e76b-41a0-b1e7-fcf132f6eea7",
   "metadata": {},
   "outputs": [],
   "source": [
    "head(genes$ens_gene, 1000)"
   ]
  },
  {
   "cell_type": "code",
   "execution_count": null,
   "id": "0bede9a1-7568-4fac-9cc7-2d56cde7c27b",
   "metadata": {},
   "outputs": [],
   "source": [
    "new_df <-\n",
    "  left_join(genes,\n",
    "            mouse_gene_db %>% dplyr::select(ens_gene, gene_name, MGI_id),\n",
    "            by = \"ens_gene\")\n",
    "head(new_df, 5)"
   ]
  },
  {
   "cell_type": "code",
   "execution_count": null,
   "id": "c9bb253d-9434-48e9-9a09-81a08be3370d",
   "metadata": {},
   "outputs": [],
   "source": []
  },
  {
   "cell_type": "code",
   "execution_count": null,
   "id": "7ccd927d-203b-4da3-bb7f-8692877328be",
   "metadata": {},
   "outputs": [],
   "source": [
    "genemap <- new_df %>% dplyr::select(target_id, ens_gene, gene_name, MGI_id, seq_region_start, seq_region_end, seq_region_strand, ext_gene)"
   ]
  },
  {
   "cell_type": "markdown",
   "id": "9dc2c8b5-3649-45fb-9008-72a0028cbde0",
   "metadata": {},
   "source": [
    "Didn't quite work -- looks like the join on the ens_gene id was not very full (see new_df, above)\n",
    "\n",
    "Trying to see why"
   ]
  },
  {
   "cell_type": "code",
   "execution_count": null,
   "id": "5f228d3b-c69c-472d-b7fc-dc5c3e7fb0d1",
   "metadata": {},
   "outputs": [],
   "source": []
  },
  {
   "cell_type": "code",
   "execution_count": 88,
   "id": "ee8b632b-6d7a-4fbd-a5d4-e9aa017c0ee2",
   "metadata": {},
   "outputs": [
    {
     "data": {
      "text/html": [
       "<table class=\"dataframe\">\n",
       "<caption>A data.frame: 5 × 8</caption>\n",
       "<thead>\n",
       "\t<tr><th></th><th scope=col>target_id</th><th scope=col>ens_gene</th><th scope=col>gene_name</th><th scope=col>MGI_id</th><th scope=col>seq_region_start</th><th scope=col>seq_region_end</th><th scope=col>seq_region_strand</th><th scope=col>ext_gene</th></tr>\n",
       "\t<tr><th></th><th scope=col>&lt;fct&gt;</th><th scope=col>&lt;fct&gt;</th><th scope=col>&lt;fct&gt;</th><th scope=col>&lt;fct&gt;</th><th scope=col>&lt;fct&gt;</th><th scope=col>&lt;fct&gt;</th><th scope=col>&lt;fct&gt;</th><th scope=col>&lt;fct&gt;</th></tr>\n",
       "</thead>\n",
       "<tbody>\n",
       "\t<tr><th scope=row>1</th><td>ENSMUST00000082423</td><td>ENSMUSG00000064372</td><td>NA</td><td>NA</td><td>15356</td><td>15422</td><td>-1</td><td>mitochondrially encoded tRNA proline [Source:MGI Symbol;Acc:MGI:102478]        </td></tr>\n",
       "\t<tr><th scope=row>2</th><td>ENSMUST00000082422</td><td>ENSMUSG00000064371</td><td>NA</td><td>NA</td><td>15289</td><td>15355</td><td>1 </td><td>mitochondrially encoded tRNA threonine [Source:MGI Symbol;Acc:MGI:102473]      </td></tr>\n",
       "\t<tr><th scope=row>3</th><td>ENSMUST00000082421</td><td>ENSMUSG00000064370</td><td>NA</td><td>NA</td><td>14145</td><td>15288</td><td>1 </td><td>mitochondrially encoded cytochrome b [Source:MGI Symbol;Acc:MGI:102501]        </td></tr>\n",
       "\t<tr><th scope=row>4</th><td>ENSMUST00000082420</td><td>ENSMUSG00000064369</td><td>NA</td><td>NA</td><td>14071</td><td>14139</td><td>-1</td><td>mitochondrially encoded tRNA glutamic acid [Source:MGI Symbol;Acc:MGI:102488]  </td></tr>\n",
       "\t<tr><th scope=row>5</th><td>ENSMUST00000082419</td><td>ENSMUSG00000064368</td><td>NA</td><td>NA</td><td>13552</td><td>14070</td><td>-1</td><td>mitochondrially encoded NADH dehydrogenase 6 [Source:MGI Symbol;Acc:MGI:102495]</td></tr>\n",
       "</tbody>\n",
       "</table>\n"
      ],
      "text/latex": [
       "A data.frame: 5 × 8\n",
       "\\begin{tabular}{r|llllllll}\n",
       "  & target\\_id & ens\\_gene & gene\\_name & MGI\\_id & seq\\_region\\_start & seq\\_region\\_end & seq\\_region\\_strand & ext\\_gene\\\\\n",
       "  & <fct> & <fct> & <fct> & <fct> & <fct> & <fct> & <fct> & <fct>\\\\\n",
       "\\hline\n",
       "\t1 & ENSMUST00000082423 & ENSMUSG00000064372 & NA & NA & 15356 & 15422 & -1 & mitochondrially encoded tRNA proline {[}Source:MGI Symbol;Acc:MGI:102478{]}        \\\\\n",
       "\t2 & ENSMUST00000082422 & ENSMUSG00000064371 & NA & NA & 15289 & 15355 & 1  & mitochondrially encoded tRNA threonine {[}Source:MGI Symbol;Acc:MGI:102473{]}      \\\\\n",
       "\t3 & ENSMUST00000082421 & ENSMUSG00000064370 & NA & NA & 14145 & 15288 & 1  & mitochondrially encoded cytochrome b {[}Source:MGI Symbol;Acc:MGI:102501{]}        \\\\\n",
       "\t4 & ENSMUST00000082420 & ENSMUSG00000064369 & NA & NA & 14071 & 14139 & -1 & mitochondrially encoded tRNA glutamic acid {[}Source:MGI Symbol;Acc:MGI:102488{]}  \\\\\n",
       "\t5 & ENSMUST00000082419 & ENSMUSG00000064368 & NA & NA & 13552 & 14070 & -1 & mitochondrially encoded NADH dehydrogenase 6 {[}Source:MGI Symbol;Acc:MGI:102495{]}\\\\\n",
       "\\end{tabular}\n"
      ],
      "text/markdown": [
       "\n",
       "A data.frame: 5 × 8\n",
       "\n",
       "| <!--/--> | target_id &lt;fct&gt; | ens_gene &lt;fct&gt; | gene_name &lt;fct&gt; | MGI_id &lt;fct&gt; | seq_region_start &lt;fct&gt; | seq_region_end &lt;fct&gt; | seq_region_strand &lt;fct&gt; | ext_gene &lt;fct&gt; |\n",
       "|---|---|---|---|---|---|---|---|---|\n",
       "| 1 | ENSMUST00000082423 | ENSMUSG00000064372 | NA | NA | 15356 | 15422 | -1 | mitochondrially encoded tRNA proline [Source:MGI Symbol;Acc:MGI:102478]         |\n",
       "| 2 | ENSMUST00000082422 | ENSMUSG00000064371 | NA | NA | 15289 | 15355 | 1  | mitochondrially encoded tRNA threonine [Source:MGI Symbol;Acc:MGI:102473]       |\n",
       "| 3 | ENSMUST00000082421 | ENSMUSG00000064370 | NA | NA | 14145 | 15288 | 1  | mitochondrially encoded cytochrome b [Source:MGI Symbol;Acc:MGI:102501]         |\n",
       "| 4 | ENSMUST00000082420 | ENSMUSG00000064369 | NA | NA | 14071 | 14139 | -1 | mitochondrially encoded tRNA glutamic acid [Source:MGI Symbol;Acc:MGI:102488]   |\n",
       "| 5 | ENSMUST00000082419 | ENSMUSG00000064368 | NA | NA | 13552 | 14070 | -1 | mitochondrially encoded NADH dehydrogenase 6 [Source:MGI Symbol;Acc:MGI:102495] |\n",
       "\n"
      ],
      "text/plain": [
       "  target_id          ens_gene           gene_name MGI_id seq_region_start\n",
       "1 ENSMUST00000082423 ENSMUSG00000064372 NA        NA     15356           \n",
       "2 ENSMUST00000082422 ENSMUSG00000064371 NA        NA     15289           \n",
       "3 ENSMUST00000082421 ENSMUSG00000064370 NA        NA     14145           \n",
       "4 ENSMUST00000082420 ENSMUSG00000064369 NA        NA     14071           \n",
       "5 ENSMUST00000082419 ENSMUSG00000064368 NA        NA     13552           \n",
       "  seq_region_end seq_region_strand\n",
       "1 15422          -1               \n",
       "2 15355          1                \n",
       "3 15288          1                \n",
       "4 14139          -1               \n",
       "5 14070          -1               \n",
       "  ext_gene                                                                       \n",
       "1 mitochondrially encoded tRNA proline [Source:MGI Symbol;Acc:MGI:102478]        \n",
       "2 mitochondrially encoded tRNA threonine [Source:MGI Symbol;Acc:MGI:102473]      \n",
       "3 mitochondrially encoded cytochrome b [Source:MGI Symbol;Acc:MGI:102501]        \n",
       "4 mitochondrially encoded tRNA glutamic acid [Source:MGI Symbol;Acc:MGI:102488]  \n",
       "5 mitochondrially encoded NADH dehydrogenase 6 [Source:MGI Symbol;Acc:MGI:102495]"
      ]
     },
     "metadata": {},
     "output_type": "display_data"
    }
   ],
   "source": [
    "head(genemap, 5)"
   ]
  },
  {
   "cell_type": "code",
   "execution_count": null,
   "id": "b7d7fd24-7a82-4093-a6d8-58205ba8874a",
   "metadata": {},
   "outputs": [],
   "source": [
    "for(cond in levels(s2c$condition)) {\n",
    "    if (cond != levels(s2c$condition)[1]) {\n",
    "        \n",
    "        so <- sleuth_wt(so, which_beta = paste(\"condition\",cond, sep=\"\"))\n",
    "        res <- sleuth_results(so, test = paste(\"condition\",cond, sep=\"\"), show_all = TRUE)\n",
    "        colnames(res) <- paste(colnames(res),cond,sep=\"_\")\n",
    "        \n",
    "        # first, initialize new wt if this is a new set\n",
    "        if(!exists(\"sleuth_results_wt\")) {\n",
    "            sleuth_results_wt <- res\n",
    "        } else {\n",
    "            sleuth_results_wt <- cbind(sleuth_results_wt, res[,1:11])\n",
    "        }\n",
    "        \n",
    "    }\n",
    "}"
   ]
  },
  {
   "cell_type": "code",
   "execution_count": null,
   "id": "0a659d21-556c-4b62-9939-7a465e8f6985",
   "metadata": {},
   "outputs": [],
   "source": []
  },
  {
   "cell_type": "code",
   "execution_count": null,
   "id": "5c97c49f-3f9a-434c-a389-508ce382c1b7",
   "metadata": {},
   "outputs": [],
   "source": [
    "# map refseq_ids in additional column using the df refseq_ids \n",
    "head(refseq_ids, 3)"
   ]
  },
  {
   "cell_type": "code",
   "execution_count": null,
   "id": "cbf44171-c5d5-4877-965a-805c94c74a1c",
   "metadata": {},
   "outputs": [],
   "source": [
    "mouse_gene_db <- read.table(\"/project/fudenber_735/genomes/mm9/ensembl/ensembl_relational_downloads/MRK_ENSEMBL.rpt\", sep = '\\t')"
   ]
  },
  {
   "cell_type": "code",
   "execution_count": null,
   "id": "42f2fdfd-0d0b-4162-9d68-ef7a91a58c02",
   "metadata": {},
   "outputs": [],
   "source": [
    "head(mouse_gene_db, 5)"
   ]
  }
 ],
 "metadata": {
  "kernelspec": {
   "display_name": "R 4.1.0 sleuth",
   "language": "R",
   "name": "r410"
  },
  "language_info": {
   "codemirror_mode": "r",
   "file_extension": ".r",
   "mimetype": "text/x-r-source",
   "name": "R",
   "pygments_lexer": "r",
   "version": "3.6.1"
  }
 },
 "nbformat": 4,
 "nbformat_minor": 5
}
