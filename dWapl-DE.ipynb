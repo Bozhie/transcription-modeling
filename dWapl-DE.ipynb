{
 "cells": [
  {
   "cell_type": "code",
   "execution_count": 1,
   "id": "0e8b46a0-ad56-4618-ab0b-35663f8c1fd7",
   "metadata": {},
   "outputs": [
    {
     "name": "stderr",
     "output_type": "stream",
     "text": [
      "Loading required package: S4Vectors\n",
      "\n",
      "Loading required package: stats4\n",
      "\n",
      "Loading required package: BiocGenerics\n",
      "\n",
      "\n",
      "Attaching package: 'BiocGenerics'\n",
      "\n",
      "\n",
      "The following objects are masked from 'package:stats':\n",
      "\n",
      "    IQR, mad, sd, var, xtabs\n",
      "\n",
      "\n",
      "The following objects are masked from 'package:base':\n",
      "\n",
      "    Filter, Find, Map, Position, Reduce, anyDuplicated, append,\n",
      "    as.data.frame, basename, cbind, colnames, dirname, do.call,\n",
      "    duplicated, eval, evalq, get, grep, grepl, intersect, is.unsorted,\n",
      "    lapply, mapply, match, mget, order, paste, pmax, pmax.int, pmin,\n",
      "    pmin.int, rank, rbind, rownames, sapply, setdiff, sort, table,\n",
      "    tapply, union, unique, unsplit, which.max, which.min\n",
      "\n",
      "\n",
      "\n",
      "Attaching package: 'S4Vectors'\n",
      "\n",
      "\n",
      "The following objects are masked from 'package:base':\n",
      "\n",
      "    I, expand.grid, unname\n",
      "\n",
      "\n",
      "Loading required package: IRanges\n",
      "\n",
      "Loading required package: GenomicRanges\n",
      "\n",
      "Loading required package: GenomeInfoDb\n",
      "\n",
      "Loading required package: SummarizedExperiment\n",
      "\n",
      "Loading required package: MatrixGenerics\n",
      "\n",
      "Loading required package: matrixStats\n",
      "\n",
      "\n",
      "Attaching package: 'MatrixGenerics'\n",
      "\n",
      "\n",
      "The following objects are masked from 'package:matrixStats':\n",
      "\n",
      "    colAlls, colAnyNAs, colAnys, colAvgsPerRowSet, colCollapse,\n",
      "    colCounts, colCummaxs, colCummins, colCumprods, colCumsums,\n",
      "    colDiffs, colIQRDiffs, colIQRs, colLogSumExps, colMadDiffs,\n",
      "    colMads, colMaxs, colMeans2, colMedians, colMins, colOrderStats,\n",
      "    colProds, colQuantiles, colRanges, colRanks, colSdDiffs, colSds,\n",
      "    colSums2, colTabulates, colVarDiffs, colVars, colWeightedMads,\n",
      "    colWeightedMeans, colWeightedMedians, colWeightedSds,\n",
      "    colWeightedVars, rowAlls, rowAnyNAs, rowAnys, rowAvgsPerColSet,\n",
      "    rowCollapse, rowCounts, rowCummaxs, rowCummins, rowCumprods,\n",
      "    rowCumsums, rowDiffs, rowIQRDiffs, rowIQRs, rowLogSumExps,\n",
      "    rowMadDiffs, rowMads, rowMaxs, rowMeans2, rowMedians, rowMins,\n",
      "    rowOrderStats, rowProds, rowQuantiles, rowRanges, rowRanks,\n",
      "    rowSdDiffs, rowSds, rowSums2, rowTabulates, rowVarDiffs, rowVars,\n",
      "    rowWeightedMads, rowWeightedMeans, rowWeightedMedians,\n",
      "    rowWeightedSds, rowWeightedVars\n",
      "\n",
      "\n",
      "Loading required package: Biobase\n",
      "\n",
      "Welcome to Bioconductor\n",
      "\n",
      "    Vignettes contain introductory material; view with\n",
      "    'browseVignettes()'. To cite Bioconductor, see\n",
      "    'citation(\"Biobase\")', and for packages 'citation(\"pkgname\")'.\n",
      "\n",
      "\n",
      "\n",
      "Attaching package: 'Biobase'\n",
      "\n",
      "\n",
      "The following object is masked from 'package:MatrixGenerics':\n",
      "\n",
      "    rowMedians\n",
      "\n",
      "\n",
      "The following objects are masked from 'package:matrixStats':\n",
      "\n",
      "    anyMissing, rowMedians\n",
      "\n",
      "\n",
      "\n",
      "Attaching package: 'dplyr'\n",
      "\n",
      "\n",
      "The following object is masked from 'package:Biobase':\n",
      "\n",
      "    combine\n",
      "\n",
      "\n",
      "The following object is masked from 'package:matrixStats':\n",
      "\n",
      "    count\n",
      "\n",
      "\n",
      "The following objects are masked from 'package:GenomicRanges':\n",
      "\n",
      "    intersect, setdiff, union\n",
      "\n",
      "\n",
      "The following object is masked from 'package:GenomeInfoDb':\n",
      "\n",
      "    intersect\n",
      "\n",
      "\n",
      "The following objects are masked from 'package:IRanges':\n",
      "\n",
      "    collapse, desc, intersect, setdiff, slice, union\n",
      "\n",
      "\n",
      "The following objects are masked from 'package:S4Vectors':\n",
      "\n",
      "    first, intersect, rename, setdiff, setequal, union\n",
      "\n",
      "\n",
      "The following objects are masked from 'package:BiocGenerics':\n",
      "\n",
      "    combine, intersect, setdiff, union\n",
      "\n",
      "\n",
      "The following objects are masked from 'package:stats':\n",
      "\n",
      "    filter, lag\n",
      "\n",
      "\n",
      "The following objects are masked from 'package:base':\n",
      "\n",
      "    intersect, setdiff, setequal, union\n",
      "\n",
      "\n"
     ]
    }
   ],
   "source": [
    "library(DESeq2)\n",
    "library(\"tximport\")\n",
    "library(\"rhdf5\")\n",
    "library(stringr)\n",
    "library(dplyr)"
   ]
  },
  {
   "cell_type": "code",
   "execution_count": 2,
   "id": "6b47b9c9-4c04-4ef7-bf43-b62629bcb441",
   "metadata": {},
   "outputs": [],
   "source": [
    "proj = \"/project/fudenber_735/GEO/liu_deWit_2021_GSE135180/pysradb_downloads/SRP216929\""
   ]
  },
  {
   "cell_type": "code",
   "execution_count": 3,
   "id": "bf3a5937-717a-424f-85ae-b961a7d1c169",
   "metadata": {},
   "outputs": [],
   "source": [
    "s2c <- read.table(file.path(proj, \n",
    "                             \"s2c.tsv\"), \n",
    "                              header = TRUE, sep = \"\\t\", stringsAsFactors=FALSE)\n",
    "\n",
    "# get rid of the extra PT variable\n",
    "s2c <- s2c %>% filter(grepl('Wapl', condition))\n",
    "\n",
    "s2c$condition <- gsub('-', '_', s2c$condition) # apparently R wants  of factors in the design to only have letters, numbers, '_' and '.'\n",
    "s2c$condition <- as.factor(s2c$condition)"
   ]
  },
  {
   "cell_type": "code",
   "execution_count": 4,
   "id": "4aa47175-f620-434d-9652-18a3fc2f89df",
   "metadata": {},
   "outputs": [
    {
     "data": {
      "text/html": [
       "<table class=\"dataframe\">\n",
       "<caption>A data.frame: 10 × 4</caption>\n",
       "<thead>\n",
       "\t<tr><th scope=col>X</th><th scope=col>sample</th><th scope=col>condition</th><th scope=col>path</th></tr>\n",
       "\t<tr><th scope=col>&lt;int&gt;</th><th scope=col>&lt;chr&gt;</th><th scope=col>&lt;fct&gt;</th><th scope=col>&lt;chr&gt;</th></tr>\n",
       "</thead>\n",
       "<tbody>\n",
       "\t<tr><td>0</td><td>SRR12623461</td><td>Wapl_C20_96h</td><td>/project/fudenber_735/GEO/liu_deWit_2021_GSE135180/pysradb_downloads/SRP216929/SRX9106192/kallisto</td></tr>\n",
       "\t<tr><td>1</td><td>SRR12623460</td><td>Wapl_C20_96h</td><td>/project/fudenber_735/GEO/liu_deWit_2021_GSE135180/pysradb_downloads/SRP216929/SRX9106191/kallisto</td></tr>\n",
       "\t<tr><td>2</td><td>SRR12623459</td><td>Wapl_C20_48h</td><td>/project/fudenber_735/GEO/liu_deWit_2021_GSE135180/pysradb_downloads/SRP216929/SRX9106190/kallisto</td></tr>\n",
       "\t<tr><td>3</td><td>SRR12623458</td><td>Wapl_C20_48h</td><td>/project/fudenber_735/GEO/liu_deWit_2021_GSE135180/pysradb_downloads/SRP216929/SRX9106189/kallisto</td></tr>\n",
       "\t<tr><td>4</td><td>SRR12623457</td><td>Wapl_C20_24h</td><td>/project/fudenber_735/GEO/liu_deWit_2021_GSE135180/pysradb_downloads/SRP216929/SRX9106188/kallisto</td></tr>\n",
       "\t<tr><td>5</td><td>SRR12623456</td><td>Wapl_C20_24h</td><td>/project/fudenber_735/GEO/liu_deWit_2021_GSE135180/pysradb_downloads/SRP216929/SRX9106187/kallisto</td></tr>\n",
       "\t<tr><td>6</td><td>SRR12623455</td><td>Wapl_C20_6h </td><td>/project/fudenber_735/GEO/liu_deWit_2021_GSE135180/pysradb_downloads/SRP216929/SRX9106186/kallisto</td></tr>\n",
       "\t<tr><td>7</td><td>SRR12623454</td><td>Wapl_C20_6h </td><td>/project/fudenber_735/GEO/liu_deWit_2021_GSE135180/pysradb_downloads/SRP216929/SRX9106185/kallisto</td></tr>\n",
       "\t<tr><td>8</td><td>SRR12623453</td><td>Wapl_C20_0h </td><td>/project/fudenber_735/GEO/liu_deWit_2021_GSE135180/pysradb_downloads/SRP216929/SRX9106184/kallisto</td></tr>\n",
       "\t<tr><td>9</td><td>SRR12623452</td><td>Wapl_C20_0h </td><td>/project/fudenber_735/GEO/liu_deWit_2021_GSE135180/pysradb_downloads/SRP216929/SRX9106183/kallisto</td></tr>\n",
       "</tbody>\n",
       "</table>\n"
      ],
      "text/latex": [
       "A data.frame: 10 × 4\n",
       "\\begin{tabular}{llll}\n",
       " X & sample & condition & path\\\\\n",
       " <int> & <chr> & <fct> & <chr>\\\\\n",
       "\\hline\n",
       "\t 0 & SRR12623461 & Wapl\\_C20\\_96h & /project/fudenber\\_735/GEO/liu\\_deWit\\_2021\\_GSE135180/pysradb\\_downloads/SRP216929/SRX9106192/kallisto\\\\\n",
       "\t 1 & SRR12623460 & Wapl\\_C20\\_96h & /project/fudenber\\_735/GEO/liu\\_deWit\\_2021\\_GSE135180/pysradb\\_downloads/SRP216929/SRX9106191/kallisto\\\\\n",
       "\t 2 & SRR12623459 & Wapl\\_C20\\_48h & /project/fudenber\\_735/GEO/liu\\_deWit\\_2021\\_GSE135180/pysradb\\_downloads/SRP216929/SRX9106190/kallisto\\\\\n",
       "\t 3 & SRR12623458 & Wapl\\_C20\\_48h & /project/fudenber\\_735/GEO/liu\\_deWit\\_2021\\_GSE135180/pysradb\\_downloads/SRP216929/SRX9106189/kallisto\\\\\n",
       "\t 4 & SRR12623457 & Wapl\\_C20\\_24h & /project/fudenber\\_735/GEO/liu\\_deWit\\_2021\\_GSE135180/pysradb\\_downloads/SRP216929/SRX9106188/kallisto\\\\\n",
       "\t 5 & SRR12623456 & Wapl\\_C20\\_24h & /project/fudenber\\_735/GEO/liu\\_deWit\\_2021\\_GSE135180/pysradb\\_downloads/SRP216929/SRX9106187/kallisto\\\\\n",
       "\t 6 & SRR12623455 & Wapl\\_C20\\_6h  & /project/fudenber\\_735/GEO/liu\\_deWit\\_2021\\_GSE135180/pysradb\\_downloads/SRP216929/SRX9106186/kallisto\\\\\n",
       "\t 7 & SRR12623454 & Wapl\\_C20\\_6h  & /project/fudenber\\_735/GEO/liu\\_deWit\\_2021\\_GSE135180/pysradb\\_downloads/SRP216929/SRX9106185/kallisto\\\\\n",
       "\t 8 & SRR12623453 & Wapl\\_C20\\_0h  & /project/fudenber\\_735/GEO/liu\\_deWit\\_2021\\_GSE135180/pysradb\\_downloads/SRP216929/SRX9106184/kallisto\\\\\n",
       "\t 9 & SRR12623452 & Wapl\\_C20\\_0h  & /project/fudenber\\_735/GEO/liu\\_deWit\\_2021\\_GSE135180/pysradb\\_downloads/SRP216929/SRX9106183/kallisto\\\\\n",
       "\\end{tabular}\n"
      ],
      "text/markdown": [
       "\n",
       "A data.frame: 10 × 4\n",
       "\n",
       "| X &lt;int&gt; | sample &lt;chr&gt; | condition &lt;fct&gt; | path &lt;chr&gt; |\n",
       "|---|---|---|---|\n",
       "| 0 | SRR12623461 | Wapl_C20_96h | /project/fudenber_735/GEO/liu_deWit_2021_GSE135180/pysradb_downloads/SRP216929/SRX9106192/kallisto |\n",
       "| 1 | SRR12623460 | Wapl_C20_96h | /project/fudenber_735/GEO/liu_deWit_2021_GSE135180/pysradb_downloads/SRP216929/SRX9106191/kallisto |\n",
       "| 2 | SRR12623459 | Wapl_C20_48h | /project/fudenber_735/GEO/liu_deWit_2021_GSE135180/pysradb_downloads/SRP216929/SRX9106190/kallisto |\n",
       "| 3 | SRR12623458 | Wapl_C20_48h | /project/fudenber_735/GEO/liu_deWit_2021_GSE135180/pysradb_downloads/SRP216929/SRX9106189/kallisto |\n",
       "| 4 | SRR12623457 | Wapl_C20_24h | /project/fudenber_735/GEO/liu_deWit_2021_GSE135180/pysradb_downloads/SRP216929/SRX9106188/kallisto |\n",
       "| 5 | SRR12623456 | Wapl_C20_24h | /project/fudenber_735/GEO/liu_deWit_2021_GSE135180/pysradb_downloads/SRP216929/SRX9106187/kallisto |\n",
       "| 6 | SRR12623455 | Wapl_C20_6h  | /project/fudenber_735/GEO/liu_deWit_2021_GSE135180/pysradb_downloads/SRP216929/SRX9106186/kallisto |\n",
       "| 7 | SRR12623454 | Wapl_C20_6h  | /project/fudenber_735/GEO/liu_deWit_2021_GSE135180/pysradb_downloads/SRP216929/SRX9106185/kallisto |\n",
       "| 8 | SRR12623453 | Wapl_C20_0h  | /project/fudenber_735/GEO/liu_deWit_2021_GSE135180/pysradb_downloads/SRP216929/SRX9106184/kallisto |\n",
       "| 9 | SRR12623452 | Wapl_C20_0h  | /project/fudenber_735/GEO/liu_deWit_2021_GSE135180/pysradb_downloads/SRP216929/SRX9106183/kallisto |\n",
       "\n"
      ],
      "text/plain": [
       "   X sample      condition   \n",
       "1  0 SRR12623461 Wapl_C20_96h\n",
       "2  1 SRR12623460 Wapl_C20_96h\n",
       "3  2 SRR12623459 Wapl_C20_48h\n",
       "4  3 SRR12623458 Wapl_C20_48h\n",
       "5  4 SRR12623457 Wapl_C20_24h\n",
       "6  5 SRR12623456 Wapl_C20_24h\n",
       "7  6 SRR12623455 Wapl_C20_6h \n",
       "8  7 SRR12623454 Wapl_C20_6h \n",
       "9  8 SRR12623453 Wapl_C20_0h \n",
       "10 9 SRR12623452 Wapl_C20_0h \n",
       "   path                                                                                              \n",
       "1  /project/fudenber_735/GEO/liu_deWit_2021_GSE135180/pysradb_downloads/SRP216929/SRX9106192/kallisto\n",
       "2  /project/fudenber_735/GEO/liu_deWit_2021_GSE135180/pysradb_downloads/SRP216929/SRX9106191/kallisto\n",
       "3  /project/fudenber_735/GEO/liu_deWit_2021_GSE135180/pysradb_downloads/SRP216929/SRX9106190/kallisto\n",
       "4  /project/fudenber_735/GEO/liu_deWit_2021_GSE135180/pysradb_downloads/SRP216929/SRX9106189/kallisto\n",
       "5  /project/fudenber_735/GEO/liu_deWit_2021_GSE135180/pysradb_downloads/SRP216929/SRX9106188/kallisto\n",
       "6  /project/fudenber_735/GEO/liu_deWit_2021_GSE135180/pysradb_downloads/SRP216929/SRX9106187/kallisto\n",
       "7  /project/fudenber_735/GEO/liu_deWit_2021_GSE135180/pysradb_downloads/SRP216929/SRX9106186/kallisto\n",
       "8  /project/fudenber_735/GEO/liu_deWit_2021_GSE135180/pysradb_downloads/SRP216929/SRX9106185/kallisto\n",
       "9  /project/fudenber_735/GEO/liu_deWit_2021_GSE135180/pysradb_downloads/SRP216929/SRX9106184/kallisto\n",
       "10 /project/fudenber_735/GEO/liu_deWit_2021_GSE135180/pysradb_downloads/SRP216929/SRX9106183/kallisto"
      ]
     },
     "metadata": {},
     "output_type": "display_data"
    }
   ],
   "source": [
    "s2c"
   ]
  },
  {
   "cell_type": "code",
   "execution_count": 5,
   "id": "9e1e9c63-6a7a-4b8e-89f4-d7cf2de0d265",
   "metadata": {},
   "outputs": [],
   "source": [
    "# load conversion between transcripts and genes\n",
    "ensembl_dir = \"/project/fudenber_735/genomes/mm10/ensembl/ensembl_relational_downloads\"\n",
    "tx <- read.csv(file.path(ensembl_dir,\"biomaRt_mm10_t2g.csv\"))"
   ]
  },
  {
   "cell_type": "code",
   "execution_count": 6,
   "id": "ad610193-4054-40e5-9fc6-428be772b6aa",
   "metadata": {},
   "outputs": [],
   "source": [
    "TXNAME <- tx$ensembl_transcript_id\n",
    "GENEID <- tx$ensembl_gene_id"
   ]
  },
  {
   "cell_type": "code",
   "execution_count": 7,
   "id": "1c894d13-57fc-45dc-8a25-575a01334a0b",
   "metadata": {},
   "outputs": [],
   "source": [
    "tx2gene <- data.frame(TXNAME, GENEID)"
   ]
  },
  {
   "cell_type": "code",
   "execution_count": 8,
   "id": "5151cd80-161f-45df-9c46-820dd9fe8ad0",
   "metadata": {},
   "outputs": [],
   "source": [
    "files <- file.path(s2c$path, \"abundance.h5\")\n",
    "names(files) <- s2c$sample"
   ]
  },
  {
   "cell_type": "code",
   "execution_count": 9,
   "id": "01fce686-2c66-49ad-bae1-a39a1de7d763",
   "metadata": {},
   "outputs": [
    {
     "name": "stderr",
     "output_type": "stream",
     "text": [
      "1 \n",
      "2 \n",
      "3 \n",
      "4 \n",
      "5 \n",
      "6 \n",
      "7 \n",
      "8 \n",
      "9 \n",
      "10 \n",
      "\n",
      "\n",
      "transcripts missing from tx2gene: 8427\n",
      "\n",
      "summarizing abundance\n",
      "\n",
      "summarizing counts\n",
      "\n",
      "summarizing length\n",
      "\n",
      "summarizing inferential replicates\n",
      "\n"
     ]
    }
   ],
   "source": [
    "txi <- tximport(files, type=\"kallisto\", tx2gene=tx2gene)"
   ]
  },
  {
   "cell_type": "code",
   "execution_count": 10,
   "id": "08f01d87-c7bf-466b-a26f-4514de3d14ab",
   "metadata": {},
   "outputs": [],
   "source": [
    "#s2c_wapl <- s2c %>% filter(grepl('Wapl', condition))\n",
    "\n",
    "s2c$condition <- relevel(s2c$condition, \"Wapl_C20_0h\")"
   ]
  },
  {
   "cell_type": "code",
   "execution_count": 11,
   "id": "519f81c3-cfa6-48b2-a79b-758574855176",
   "metadata": {},
   "outputs": [
    {
     "data": {
      "text/html": [
       "<style>\n",
       ".list-inline {list-style: none; margin:0; padding: 0}\n",
       ".list-inline>li {display: inline-block}\n",
       ".list-inline>li:not(:last-child)::after {content: \"\\00b7\"; padding: 0 .5ex}\n",
       "</style>\n",
       "<ol class=list-inline><li>'Wapl_C20_0h'</li><li>'Wapl_C20_24h'</li><li>'Wapl_C20_48h'</li><li>'Wapl_C20_6h'</li><li>'Wapl_C20_96h'</li></ol>\n"
      ],
      "text/latex": [
       "\\begin{enumerate*}\n",
       "\\item 'Wapl\\_C20\\_0h'\n",
       "\\item 'Wapl\\_C20\\_24h'\n",
       "\\item 'Wapl\\_C20\\_48h'\n",
       "\\item 'Wapl\\_C20\\_6h'\n",
       "\\item 'Wapl\\_C20\\_96h'\n",
       "\\end{enumerate*}\n"
      ],
      "text/markdown": [
       "1. 'Wapl_C20_0h'\n",
       "2. 'Wapl_C20_24h'\n",
       "3. 'Wapl_C20_48h'\n",
       "4. 'Wapl_C20_6h'\n",
       "5. 'Wapl_C20_96h'\n",
       "\n",
       "\n"
      ],
      "text/plain": [
       "[1] \"Wapl_C20_0h\"  \"Wapl_C20_24h\" \"Wapl_C20_48h\" \"Wapl_C20_6h\"  \"Wapl_C20_96h\""
      ]
     },
     "metadata": {},
     "output_type": "display_data"
    }
   ],
   "source": [
    "levels(s2c$condition)"
   ]
  },
  {
   "cell_type": "code",
   "execution_count": null,
   "id": "9d4b1956-384b-42bc-8518-da28758baff6",
   "metadata": {},
   "outputs": [],
   "source": []
  },
  {
   "cell_type": "markdown",
   "id": "a428fb02-4d8d-478f-9570-cd071b575925",
   "metadata": {},
   "source": [
    "# Exploratory Data Analysis\n",
    "\n",
    "Following steps from Mike Love's tutorial and vignettes to ensure technical variation is accounted for:\n",
    "\n",
    "(1) https://twitter.com/mikelove/status/1513468597288452097?lang=en\n",
    "\n",
    "(2) https://f1000research.com/articles/4-1070#s2\n",
    "\n",
    "(3) https://f1000research.com/articles/5-1438\n",
    "\n",
    "(4) https://www.bioconductor.org/packages/devel/workflows/vignettes/rnaseqGene/inst/doc/rnaseqGene.html#exploratory-analysis-and-visualization"
   ]
  },
  {
   "cell_type": "code",
   "execution_count": 12,
   "id": "012c1528-5b4f-4321-a04e-4ca09fa66eec",
   "metadata": {},
   "outputs": [
    {
     "name": "stderr",
     "output_type": "stream",
     "text": [
      "using counts and average transcript lengths from tximport\n",
      "\n"
     ]
    }
   ],
   "source": [
    "# load the full dataset for exploratory analysis\n",
    "dds <- DESeqDataSetFromTximport(txi, colData = s2c, design = ~condition)\n",
    "                                                                                                  "
   ]
  },
  {
   "cell_type": "code",
   "execution_count": 13,
   "id": "d2b2ee33-86e2-45e6-8233-bfc2de246bb3",
   "metadata": {},
   "outputs": [
    {
     "data": {
      "text/html": [
       "29723"
      ],
      "text/latex": [
       "29723"
      ],
      "text/markdown": [
       "29723"
      ],
      "text/plain": [
       "[1] 29723"
      ]
     },
     "metadata": {},
     "output_type": "display_data"
    }
   ],
   "source": [
    "nrow(dds)"
   ]
  },
  {
   "cell_type": "code",
   "execution_count": 14,
   "id": "a8e07a66-70bd-40b9-92f1-815ccda0ad62",
   "metadata": {},
   "outputs": [
    {
     "data": {
      "text/html": [
       "21238"
      ],
      "text/latex": [
       "21238"
      ],
      "text/markdown": [
       "21238"
      ],
      "text/plain": [
       "[1] 21238"
      ]
     },
     "metadata": {},
     "output_type": "display_data"
    }
   ],
   "source": [
    "# filter out count matrix rows with many ones and zeros\n",
    "keep <- rowSums(counts(dds)) > 1\n",
    "dds <- dds[keep,]\n",
    "nrow(dds)"
   ]
  },
  {
   "cell_type": "code",
   "execution_count": 15,
   "id": "0267bc22-dc5f-49ad-95c3-82d1e3dd8e02",
   "metadata": {},
   "outputs": [],
   "source": [
    "## an optional filter to add:\n",
    "\n",
    "# # at least 3 samples with a count of 10 or higher\n",
    "# keep <- rowSums(counts(dds) >= 10) >= 3"
   ]
  },
  {
   "cell_type": "code",
   "execution_count": 28,
   "id": "30e70069-91a8-48b6-a08b-b740a1233a11",
   "metadata": {},
   "outputs": [
    {
     "data": {
      "text/html": [
       "<table class=\"dataframe\">\n",
       "<caption>A matrix: 21238 × 10 of type dbl</caption>\n",
       "<thead>\n",
       "\t<tr><th></th><th scope=col>SRR12623461</th><th scope=col>SRR12623460</th><th scope=col>SRR12623459</th><th scope=col>SRR12623458</th><th scope=col>SRR12623457</th><th scope=col>SRR12623456</th><th scope=col>SRR12623455</th><th scope=col>SRR12623454</th><th scope=col>SRR12623453</th><th scope=col>SRR12623452</th></tr>\n",
       "</thead>\n",
       "<tbody>\n",
       "\t<tr><th scope=row>ENSMUSG00000000001</th><td>1.0261481</td><td>1.065896</td><td>0.9872603</td><td>1.0339930</td><td>0.8937284</td><td>1.0754735</td><td>0.9741726</td><td>1.0287218</td><td>0.9345942</td><td>0.9948640</td></tr>\n",
       "\t<tr><th scope=row>ENSMUSG00000000028</th><td>1.0394035</td><td>1.069173</td><td>0.9899089</td><td>1.0285188</td><td>0.8996112</td><td>1.0737625</td><td>0.9666387</td><td>1.0296180</td><td>0.9270406</td><td>0.9916499</td></tr>\n",
       "\t<tr><th scope=row>ENSMUSG00000000031</th><td>0.6738371</td><td>1.524286</td><td>1.3226877</td><td>1.3626381</td><td>0.9579022</td><td>1.5944658</td><td>0.5220614</td><td>1.5785774</td><td>0.7920736</td><td>0.5418155</td></tr>\n",
       "\t<tr><th scope=row>ENSMUSG00000000037</th><td>1.2758660</td><td>1.408438</td><td>0.6913396</td><td>0.6868846</td><td>1.0058986</td><td>1.1800942</td><td>0.9795580</td><td>1.1457302</td><td>0.6937308</td><td>1.2679664</td></tr>\n",
       "\t<tr><th scope=row>ENSMUSG00000000056</th><td>1.0722125</td><td>1.072868</td><td>0.8092622</td><td>0.9490446</td><td>0.8916184</td><td>1.0961141</td><td>1.0547116</td><td>1.1231345</td><td>1.0827983</td><td>0.9029199</td></tr>\n",
       "\t<tr><th scope=row>ENSMUSG00000000058</th><td>1.0261481</td><td>1.065896</td><td>0.9872603</td><td>1.0339930</td><td>0.8937284</td><td>1.0754735</td><td>0.9741726</td><td>1.0287218</td><td>0.9345942</td><td>0.9948640</td></tr>\n",
       "\t<tr><th scope=row>ENSMUSG00000000078</th><td>1.0261481</td><td>1.065896</td><td>0.9872603</td><td>1.0339930</td><td>0.8937284</td><td>1.0754735</td><td>0.9741726</td><td>1.0287218</td><td>0.9345942</td><td>0.9948640</td></tr>\n",
       "\t<tr><th scope=row>ENSMUSG00000000085</th><td>0.7373057</td><td>1.225753</td><td>0.8972746</td><td>1.0343805</td><td>0.8499647</td><td>1.1088256</td><td>1.0337221</td><td>1.0187294</td><td>1.1747659</td><td>1.0225057</td></tr>\n",
       "\t<tr><th scope=row>ENSMUSG00000000088</th><td>1.0261481</td><td>1.065896</td><td>0.9872603</td><td>1.0339930</td><td>0.8937284</td><td>1.0754735</td><td>0.9741726</td><td>1.0287218</td><td>0.9345942</td><td>0.9948640</td></tr>\n",
       "\t<tr><th scope=row>ENSMUSG00000000093</th><td>1.0261481</td><td>1.065896</td><td>0.9872603</td><td>1.0339930</td><td>0.8937284</td><td>1.0754735</td><td>0.9741726</td><td>1.0287218</td><td>0.9345942</td><td>0.9948640</td></tr>\n",
       "\t<tr><th scope=row>ENSMUSG00000000094</th><td>1.0351222</td><td>1.056276</td><td>0.9810015</td><td>1.0199877</td><td>0.8880625</td><td>1.0497990</td><td>1.0146393</td><td>1.0222001</td><td>0.9122829</td><td>1.0361902</td></tr>\n",
       "\t<tr><th scope=row>ENSMUSG00000000103</th><td>1.0261481</td><td>1.065896</td><td>0.9872603</td><td>1.0339930</td><td>0.8937284</td><td>1.0754735</td><td>0.9741726</td><td>1.0287218</td><td>0.9345942</td><td>0.9948640</td></tr>\n",
       "\t<tr><th scope=row>ENSMUSG00000000120</th><td>1.0261481</td><td>1.065896</td><td>0.9872603</td><td>1.0339930</td><td>0.8937284</td><td>1.0754735</td><td>0.9741726</td><td>1.0287218</td><td>0.9345942</td><td>0.9948640</td></tr>\n",
       "\t<tr><th scope=row>ENSMUSG00000000125</th><td>1.0261481</td><td>1.065896</td><td>0.9872603</td><td>1.0339930</td><td>0.8937284</td><td>1.0754735</td><td>0.9741726</td><td>1.0287218</td><td>0.9345942</td><td>0.9948640</td></tr>\n",
       "\t<tr><th scope=row>ENSMUSG00000000126</th><td>1.0261717</td><td>1.065924</td><td>0.9872792</td><td>1.0338115</td><td>0.8937397</td><td>1.0754973</td><td>0.9741951</td><td>1.0287465</td><td>0.9345970</td><td>0.9948859</td></tr>\n",
       "\t<tr><th scope=row>ENSMUSG00000000127</th><td>1.0146875</td><td>1.078073</td><td>0.9785060</td><td>1.0291421</td><td>0.9076027</td><td>1.0737991</td><td>0.9619449</td><td>1.0336036</td><td>0.9272650</td><td>1.0103083</td></tr>\n",
       "\t<tr><th scope=row>ENSMUSG00000000131</th><td>1.0748664</td><td>1.371974</td><td>1.1318275</td><td>0.9059315</td><td>0.7681602</td><td>1.0890853</td><td>0.7735611</td><td>1.1070087</td><td>0.8961720</td><td>1.0300854</td></tr>\n",
       "\t<tr><th scope=row>ENSMUSG00000000134</th><td>1.0227458</td><td>1.100629</td><td>0.9534780</td><td>1.0604572</td><td>0.9044664</td><td>1.0667476</td><td>0.8791135</td><td>1.0744298</td><td>0.9181502</td><td>1.0500175</td></tr>\n",
       "\t<tr><th scope=row>ENSMUSG00000000142</th><td>0.9385201</td><td>1.112842</td><td>0.9136896</td><td>0.9039953</td><td>1.0296948</td><td>1.1480055</td><td>0.9271533</td><td>1.0393951</td><td>0.9855822</td><td>1.0324769</td></tr>\n",
       "\t<tr><th scope=row>ENSMUSG00000000148</th><td>0.8669559</td><td>1.093431</td><td>0.9494877</td><td>1.0063851</td><td>0.9642614</td><td>1.2230796</td><td>0.9513946</td><td>1.0446673</td><td>0.9159412</td><td>1.0282583</td></tr>\n",
       "\t<tr><th scope=row>ENSMUSG00000000149</th><td>1.0261481</td><td>1.065896</td><td>0.9872603</td><td>1.0339930</td><td>0.8937284</td><td>1.0754735</td><td>0.9741726</td><td>1.0287218</td><td>0.9345942</td><td>0.9948640</td></tr>\n",
       "\t<tr><th scope=row>ENSMUSG00000000154</th><td>0.8950376</td><td>1.134755</td><td>1.0703270</td><td>1.1199681</td><td>0.8286683</td><td>1.0660757</td><td>1.0371062</td><td>1.0951793</td><td>0.7969154</td><td>1.0271766</td></tr>\n",
       "\t<tr><th scope=row>ENSMUSG00000000159</th><td>1.2128053</td><td>1.188023</td><td>1.1003780</td><td>1.0339930</td><td>1.1946867</td><td>0.7779472</td><td>0.4605502</td><td>1.3751384</td><td>1.0416775</td><td>0.9948640</td></tr>\n",
       "\t<tr><th scope=row>ENSMUSG00000000167</th><td>1.0273483</td><td>1.008044</td><td>1.0773379</td><td>1.0008535</td><td>0.6608499</td><td>0.9933026</td><td>1.1194622</td><td>1.3363476</td><td>1.1405759</td><td>0.7995454</td></tr>\n",
       "\t<tr><th scope=row>ENSMUSG00000000168</th><td>1.0072328</td><td>1.244979</td><td>0.9131410</td><td>1.0410425</td><td>0.9395365</td><td>1.1064780</td><td>0.9710191</td><td>1.0285565</td><td>0.9220279</td><td>0.8762851</td></tr>\n",
       "\t<tr><th scope=row>ENSMUSG00000000171</th><td>1.0261481</td><td>1.065896</td><td>0.9872603</td><td>1.0339930</td><td>0.8937284</td><td>1.0754735</td><td>0.9741726</td><td>1.0287218</td><td>0.9345942</td><td>0.9948640</td></tr>\n",
       "\t<tr><th scope=row>ENSMUSG00000000182</th><td>1.0261481</td><td>1.065896</td><td>0.9872603</td><td>1.0339930</td><td>0.8937284</td><td>1.0754735</td><td>0.9741726</td><td>1.0287218</td><td>0.9345942</td><td>0.9948640</td></tr>\n",
       "\t<tr><th scope=row>ENSMUSG00000000184</th><td>1.0261481</td><td>1.065896</td><td>0.9872603</td><td>1.0339930</td><td>0.8937284</td><td>1.0754735</td><td>0.9741726</td><td>1.0287218</td><td>0.9345942</td><td>0.9948640</td></tr>\n",
       "\t<tr><th scope=row>ENSMUSG00000000194</th><td>1.2499881</td><td>1.392060</td><td>0.8914899</td><td>1.0907934</td><td>0.7807315</td><td>1.1015752</td><td>0.9057936</td><td>0.8934096</td><td>0.9359774</td><td>0.9072275</td></tr>\n",
       "\t<tr><th scope=row>ENSMUSG00000000197</th><td>1.0261481</td><td>1.065896</td><td>0.9872603</td><td>1.0339930</td><td>0.8937284</td><td>1.0754735</td><td>0.9741726</td><td>1.0287218</td><td>0.9345942</td><td>0.9948640</td></tr>\n",
       "\t<tr><th scope=row>⋮</th><td>⋮</td><td>⋮</td><td>⋮</td><td>⋮</td><td>⋮</td><td>⋮</td><td>⋮</td><td>⋮</td><td>⋮</td><td>⋮</td></tr>\n",
       "\t<tr><th scope=row>ENSMUSG00000096854</th><td>1.0261481</td><td>1.0658958</td><td>0.9872603</td><td>1.0339930</td><td>0.8937284</td><td>1.0754735</td><td>0.9741726</td><td>1.0287218</td><td>0.9345942</td><td>0.9948640</td></tr>\n",
       "\t<tr><th scope=row>ENSMUSG00000096856</th><td>1.0261481</td><td>1.0658958</td><td>0.9872603</td><td>1.0339930</td><td>0.8937284</td><td>1.0754735</td><td>0.9741726</td><td>1.0287218</td><td>0.9345942</td><td>0.9948640</td></tr>\n",
       "\t<tr><th scope=row>ENSMUSG00000096869</th><td>1.0261481</td><td>1.0658958</td><td>0.9872603</td><td>1.0339930</td><td>0.8937284</td><td>1.0754735</td><td>0.9741726</td><td>1.0287218</td><td>0.9345942</td><td>0.9948640</td></tr>\n",
       "\t<tr><th scope=row>ENSMUSG00000096874</th><td>1.0261481</td><td>1.0658958</td><td>0.9872603</td><td>1.0339930</td><td>0.8937284</td><td>1.0754735</td><td>0.9741726</td><td>1.0287218</td><td>0.9345942</td><td>0.9948640</td></tr>\n",
       "\t<tr><th scope=row>ENSMUSG00000096901</th><td>1.0261481</td><td>1.0658958</td><td>0.9872603</td><td>1.0339930</td><td>0.8937284</td><td>1.0754735</td><td>0.9741726</td><td>1.0287218</td><td>0.9345942</td><td>0.9948640</td></tr>\n",
       "\t<tr><th scope=row>ENSMUSG00000096904</th><td>1.0261481</td><td>1.0658958</td><td>0.9872603</td><td>1.0339930</td><td>0.8937284</td><td>1.0754735</td><td>0.9741726</td><td>1.0287218</td><td>0.9345942</td><td>0.9948640</td></tr>\n",
       "\t<tr><th scope=row>ENSMUSG00000096910</th><td>1.0261481</td><td>1.0658958</td><td>0.9872603</td><td>1.0339930</td><td>0.8937284</td><td>1.0754735</td><td>0.9741726</td><td>1.0287218</td><td>0.9345942</td><td>0.9948640</td></tr>\n",
       "\t<tr><th scope=row>ENSMUSG00000096911</th><td>1.1526088</td><td>3.2716360</td><td>0.9915343</td><td>1.6071562</td><td>0.5126162</td><td>0.7919755</td><td>0.6270316</td><td>1.1886700</td><td>0.9205314</td><td>0.5974394</td></tr>\n",
       "\t<tr><th scope=row>ENSMUSG00000097239</th><td>1.0265487</td><td>1.0627890</td><td>0.9881044</td><td>1.0348769</td><td>0.8944925</td><td>1.0763930</td><td>0.9750046</td><td>1.0296013</td><td>0.9313733</td><td>0.9957145</td></tr>\n",
       "\t<tr><th scope=row>ENSMUSG00000097487</th><td>2.0298196</td><td>0.8725797</td><td>0.9957476</td><td>1.1535177</td><td>0.7527059</td><td>0.9646880</td><td>0.6964906</td><td>1.0976897</td><td>0.9076782</td><td>0.9754948</td></tr>\n",
       "\t<tr><th scope=row>ENSMUSG00000097565</th><td>1.0261481</td><td>1.0658958</td><td>0.9872603</td><td>1.0339930</td><td>0.8937284</td><td>1.0754735</td><td>0.9741726</td><td>1.0287218</td><td>0.9345942</td><td>0.9948640</td></tr>\n",
       "\t<tr><th scope=row>ENSMUSG00000097993</th><td>1.0261481</td><td>1.0658958</td><td>0.9872603</td><td>1.0339930</td><td>0.8937284</td><td>1.0754735</td><td>0.9741726</td><td>1.0287218</td><td>0.9345942</td><td>0.9948640</td></tr>\n",
       "\t<tr><th scope=row>ENSMUSG00000098022</th><td>1.0261481</td><td>1.0658958</td><td>0.9872603</td><td>1.0339930</td><td>0.8937284</td><td>1.0754735</td><td>0.9741726</td><td>1.0287218</td><td>0.9345942</td><td>0.9948640</td></tr>\n",
       "\t<tr><th scope=row>ENSMUSG00000098274</th><td>1.0235160</td><td>1.0638165</td><td>0.9862820</td><td>1.0347244</td><td>0.8910424</td><td>1.0747721</td><td>0.9753131</td><td>1.0315195</td><td>0.9362407</td><td>0.9976751</td></tr>\n",
       "\t<tr><th scope=row>ENSMUSG00000098371</th><td>1.0261481</td><td>1.0658958</td><td>0.9872603</td><td>1.0339930</td><td>0.8937284</td><td>1.0754735</td><td>0.9741726</td><td>1.0287218</td><td>0.9345942</td><td>0.9948640</td></tr>\n",
       "\t<tr><th scope=row>ENSMUSG00000098374</th><td>1.0261481</td><td>1.0658958</td><td>0.9872603</td><td>1.0339930</td><td>0.8937284</td><td>1.0754735</td><td>0.9741726</td><td>1.0287218</td><td>0.9345942</td><td>0.9948640</td></tr>\n",
       "\t<tr><th scope=row>ENSMUSG00000098463</th><td>1.0261481</td><td>1.0658958</td><td>0.9872603</td><td>1.0339930</td><td>0.8937284</td><td>1.0754735</td><td>0.9741726</td><td>1.0287218</td><td>0.9345942</td><td>0.9948640</td></tr>\n",
       "\t<tr><th scope=row>ENSMUSG00000098488</th><td>1.8285179</td><td>1.8993453</td><td>1.3151257</td><td>0.3957333</td><td>0.4786514</td><td>0.8465800</td><td>1.1345994</td><td>1.8160632</td><td>0.5607973</td><td>1.1815721</td></tr>\n",
       "\t<tr><th scope=row>ENSMUSG00000098650</th><td>1.0261481</td><td>1.0658958</td><td>0.9872603</td><td>1.0339930</td><td>0.8937284</td><td>1.0754735</td><td>0.9741726</td><td>1.0287218</td><td>0.9345942</td><td>0.9948640</td></tr>\n",
       "\t<tr><th scope=row>ENSMUSG00000098692</th><td>1.0261481</td><td>1.0658958</td><td>0.9872603</td><td>1.0339930</td><td>0.8937284</td><td>1.0754735</td><td>0.9741726</td><td>1.0287218</td><td>0.9345942</td><td>0.9948640</td></tr>\n",
       "\t<tr><th scope=row>ENSMUSG00000098781</th><td>0.9038938</td><td>0.7809687</td><td>1.3445540</td><td>1.2154493</td><td>1.2171724</td><td>1.0754735</td><td>1.2896133</td><td>0.7537318</td><td>0.9345942</td><td>0.7289246</td></tr>\n",
       "\t<tr><th scope=row>ENSMUSG00000098789</th><td>1.1413291</td><td>1.0522253</td><td>1.1361139</td><td>1.0404970</td><td>0.8561379</td><td>1.0429958</td><td>0.9992946</td><td>1.0975361</td><td>0.9089750</td><td>0.7912744</td></tr>\n",
       "\t<tr><th scope=row>ENSMUSG00000098889</th><td>1.0261481</td><td>1.0658958</td><td>0.9872603</td><td>1.0339930</td><td>0.8937284</td><td>1.0754735</td><td>0.9741726</td><td>1.0287218</td><td>0.9345942</td><td>0.9948640</td></tr>\n",
       "\t<tr><th scope=row>ENSMUSG00000098905</th><td>1.0261481</td><td>1.0658958</td><td>0.9872603</td><td>1.0339930</td><td>0.8937284</td><td>1.0754735</td><td>0.9741726</td><td>1.0287218</td><td>0.9345942</td><td>0.9948640</td></tr>\n",
       "\t<tr><th scope=row>ENSMUSG00000098950</th><td>1.0339860</td><td>1.0740373</td><td>1.0186312</td><td>1.0478363</td><td>0.9005548</td><td>1.0940114</td><td>0.9816135</td><td>0.9240323</td><td>0.9417328</td><td>1.0024629</td></tr>\n",
       "\t<tr><th scope=row>ENSMUSG00000099009</th><td>1.0261481</td><td>1.0658958</td><td>0.9872603</td><td>1.0339930</td><td>0.8937284</td><td>1.0754735</td><td>0.9741726</td><td>1.0287218</td><td>0.9345942</td><td>0.9948640</td></tr>\n",
       "\t<tr><th scope=row>ENSMUSG00000099041</th><td>1.0261481</td><td>1.0658958</td><td>0.9872603</td><td>1.0339930</td><td>0.8937284</td><td>1.0754735</td><td>0.9741726</td><td>1.0287218</td><td>0.9345942</td><td>0.9948640</td></tr>\n",
       "\t<tr><th scope=row>ENSMUSG00000099061</th><td>1.0261481</td><td>1.0658958</td><td>0.9872603</td><td>1.0339930</td><td>0.8937284</td><td>1.0754735</td><td>0.9741726</td><td>1.0287218</td><td>0.9345942</td><td>0.9948640</td></tr>\n",
       "\t<tr><th scope=row>ENSMUSG00000099083</th><td>1.0314994</td><td>1.0714544</td><td>0.9872603</td><td>1.0339930</td><td>0.8983891</td><td>1.0810821</td><td>0.9792529</td><td>1.0340865</td><td>0.9011778</td><td>1.0000521</td></tr>\n",
       "\t<tr><th scope=row>ENSMUSG00000099329</th><td>1.0261481</td><td>1.0658958</td><td>0.9872603</td><td>1.0339930</td><td>0.8937284</td><td>1.0754735</td><td>0.9741726</td><td>1.0287218</td><td>0.9345942</td><td>0.9948640</td></tr>\n",
       "</tbody>\n",
       "</table>\n"
      ],
      "text/latex": [
       "A matrix: 21238 × 10 of type dbl\n",
       "\\begin{tabular}{r|llllllllll}\n",
       "  & SRR12623461 & SRR12623460 & SRR12623459 & SRR12623458 & SRR12623457 & SRR12623456 & SRR12623455 & SRR12623454 & SRR12623453 & SRR12623452\\\\\n",
       "\\hline\n",
       "\tENSMUSG00000000001 & 1.0261481 & 1.065896 & 0.9872603 & 1.0339930 & 0.8937284 & 1.0754735 & 0.9741726 & 1.0287218 & 0.9345942 & 0.9948640\\\\\n",
       "\tENSMUSG00000000028 & 1.0394035 & 1.069173 & 0.9899089 & 1.0285188 & 0.8996112 & 1.0737625 & 0.9666387 & 1.0296180 & 0.9270406 & 0.9916499\\\\\n",
       "\tENSMUSG00000000031 & 0.6738371 & 1.524286 & 1.3226877 & 1.3626381 & 0.9579022 & 1.5944658 & 0.5220614 & 1.5785774 & 0.7920736 & 0.5418155\\\\\n",
       "\tENSMUSG00000000037 & 1.2758660 & 1.408438 & 0.6913396 & 0.6868846 & 1.0058986 & 1.1800942 & 0.9795580 & 1.1457302 & 0.6937308 & 1.2679664\\\\\n",
       "\tENSMUSG00000000056 & 1.0722125 & 1.072868 & 0.8092622 & 0.9490446 & 0.8916184 & 1.0961141 & 1.0547116 & 1.1231345 & 1.0827983 & 0.9029199\\\\\n",
       "\tENSMUSG00000000058 & 1.0261481 & 1.065896 & 0.9872603 & 1.0339930 & 0.8937284 & 1.0754735 & 0.9741726 & 1.0287218 & 0.9345942 & 0.9948640\\\\\n",
       "\tENSMUSG00000000078 & 1.0261481 & 1.065896 & 0.9872603 & 1.0339930 & 0.8937284 & 1.0754735 & 0.9741726 & 1.0287218 & 0.9345942 & 0.9948640\\\\\n",
       "\tENSMUSG00000000085 & 0.7373057 & 1.225753 & 0.8972746 & 1.0343805 & 0.8499647 & 1.1088256 & 1.0337221 & 1.0187294 & 1.1747659 & 1.0225057\\\\\n",
       "\tENSMUSG00000000088 & 1.0261481 & 1.065896 & 0.9872603 & 1.0339930 & 0.8937284 & 1.0754735 & 0.9741726 & 1.0287218 & 0.9345942 & 0.9948640\\\\\n",
       "\tENSMUSG00000000093 & 1.0261481 & 1.065896 & 0.9872603 & 1.0339930 & 0.8937284 & 1.0754735 & 0.9741726 & 1.0287218 & 0.9345942 & 0.9948640\\\\\n",
       "\tENSMUSG00000000094 & 1.0351222 & 1.056276 & 0.9810015 & 1.0199877 & 0.8880625 & 1.0497990 & 1.0146393 & 1.0222001 & 0.9122829 & 1.0361902\\\\\n",
       "\tENSMUSG00000000103 & 1.0261481 & 1.065896 & 0.9872603 & 1.0339930 & 0.8937284 & 1.0754735 & 0.9741726 & 1.0287218 & 0.9345942 & 0.9948640\\\\\n",
       "\tENSMUSG00000000120 & 1.0261481 & 1.065896 & 0.9872603 & 1.0339930 & 0.8937284 & 1.0754735 & 0.9741726 & 1.0287218 & 0.9345942 & 0.9948640\\\\\n",
       "\tENSMUSG00000000125 & 1.0261481 & 1.065896 & 0.9872603 & 1.0339930 & 0.8937284 & 1.0754735 & 0.9741726 & 1.0287218 & 0.9345942 & 0.9948640\\\\\n",
       "\tENSMUSG00000000126 & 1.0261717 & 1.065924 & 0.9872792 & 1.0338115 & 0.8937397 & 1.0754973 & 0.9741951 & 1.0287465 & 0.9345970 & 0.9948859\\\\\n",
       "\tENSMUSG00000000127 & 1.0146875 & 1.078073 & 0.9785060 & 1.0291421 & 0.9076027 & 1.0737991 & 0.9619449 & 1.0336036 & 0.9272650 & 1.0103083\\\\\n",
       "\tENSMUSG00000000131 & 1.0748664 & 1.371974 & 1.1318275 & 0.9059315 & 0.7681602 & 1.0890853 & 0.7735611 & 1.1070087 & 0.8961720 & 1.0300854\\\\\n",
       "\tENSMUSG00000000134 & 1.0227458 & 1.100629 & 0.9534780 & 1.0604572 & 0.9044664 & 1.0667476 & 0.8791135 & 1.0744298 & 0.9181502 & 1.0500175\\\\\n",
       "\tENSMUSG00000000142 & 0.9385201 & 1.112842 & 0.9136896 & 0.9039953 & 1.0296948 & 1.1480055 & 0.9271533 & 1.0393951 & 0.9855822 & 1.0324769\\\\\n",
       "\tENSMUSG00000000148 & 0.8669559 & 1.093431 & 0.9494877 & 1.0063851 & 0.9642614 & 1.2230796 & 0.9513946 & 1.0446673 & 0.9159412 & 1.0282583\\\\\n",
       "\tENSMUSG00000000149 & 1.0261481 & 1.065896 & 0.9872603 & 1.0339930 & 0.8937284 & 1.0754735 & 0.9741726 & 1.0287218 & 0.9345942 & 0.9948640\\\\\n",
       "\tENSMUSG00000000154 & 0.8950376 & 1.134755 & 1.0703270 & 1.1199681 & 0.8286683 & 1.0660757 & 1.0371062 & 1.0951793 & 0.7969154 & 1.0271766\\\\\n",
       "\tENSMUSG00000000159 & 1.2128053 & 1.188023 & 1.1003780 & 1.0339930 & 1.1946867 & 0.7779472 & 0.4605502 & 1.3751384 & 1.0416775 & 0.9948640\\\\\n",
       "\tENSMUSG00000000167 & 1.0273483 & 1.008044 & 1.0773379 & 1.0008535 & 0.6608499 & 0.9933026 & 1.1194622 & 1.3363476 & 1.1405759 & 0.7995454\\\\\n",
       "\tENSMUSG00000000168 & 1.0072328 & 1.244979 & 0.9131410 & 1.0410425 & 0.9395365 & 1.1064780 & 0.9710191 & 1.0285565 & 0.9220279 & 0.8762851\\\\\n",
       "\tENSMUSG00000000171 & 1.0261481 & 1.065896 & 0.9872603 & 1.0339930 & 0.8937284 & 1.0754735 & 0.9741726 & 1.0287218 & 0.9345942 & 0.9948640\\\\\n",
       "\tENSMUSG00000000182 & 1.0261481 & 1.065896 & 0.9872603 & 1.0339930 & 0.8937284 & 1.0754735 & 0.9741726 & 1.0287218 & 0.9345942 & 0.9948640\\\\\n",
       "\tENSMUSG00000000184 & 1.0261481 & 1.065896 & 0.9872603 & 1.0339930 & 0.8937284 & 1.0754735 & 0.9741726 & 1.0287218 & 0.9345942 & 0.9948640\\\\\n",
       "\tENSMUSG00000000194 & 1.2499881 & 1.392060 & 0.8914899 & 1.0907934 & 0.7807315 & 1.1015752 & 0.9057936 & 0.8934096 & 0.9359774 & 0.9072275\\\\\n",
       "\tENSMUSG00000000197 & 1.0261481 & 1.065896 & 0.9872603 & 1.0339930 & 0.8937284 & 1.0754735 & 0.9741726 & 1.0287218 & 0.9345942 & 0.9948640\\\\\n",
       "\t⋮ & ⋮ & ⋮ & ⋮ & ⋮ & ⋮ & ⋮ & ⋮ & ⋮ & ⋮ & ⋮\\\\\n",
       "\tENSMUSG00000096854 & 1.0261481 & 1.0658958 & 0.9872603 & 1.0339930 & 0.8937284 & 1.0754735 & 0.9741726 & 1.0287218 & 0.9345942 & 0.9948640\\\\\n",
       "\tENSMUSG00000096856 & 1.0261481 & 1.0658958 & 0.9872603 & 1.0339930 & 0.8937284 & 1.0754735 & 0.9741726 & 1.0287218 & 0.9345942 & 0.9948640\\\\\n",
       "\tENSMUSG00000096869 & 1.0261481 & 1.0658958 & 0.9872603 & 1.0339930 & 0.8937284 & 1.0754735 & 0.9741726 & 1.0287218 & 0.9345942 & 0.9948640\\\\\n",
       "\tENSMUSG00000096874 & 1.0261481 & 1.0658958 & 0.9872603 & 1.0339930 & 0.8937284 & 1.0754735 & 0.9741726 & 1.0287218 & 0.9345942 & 0.9948640\\\\\n",
       "\tENSMUSG00000096901 & 1.0261481 & 1.0658958 & 0.9872603 & 1.0339930 & 0.8937284 & 1.0754735 & 0.9741726 & 1.0287218 & 0.9345942 & 0.9948640\\\\\n",
       "\tENSMUSG00000096904 & 1.0261481 & 1.0658958 & 0.9872603 & 1.0339930 & 0.8937284 & 1.0754735 & 0.9741726 & 1.0287218 & 0.9345942 & 0.9948640\\\\\n",
       "\tENSMUSG00000096910 & 1.0261481 & 1.0658958 & 0.9872603 & 1.0339930 & 0.8937284 & 1.0754735 & 0.9741726 & 1.0287218 & 0.9345942 & 0.9948640\\\\\n",
       "\tENSMUSG00000096911 & 1.1526088 & 3.2716360 & 0.9915343 & 1.6071562 & 0.5126162 & 0.7919755 & 0.6270316 & 1.1886700 & 0.9205314 & 0.5974394\\\\\n",
       "\tENSMUSG00000097239 & 1.0265487 & 1.0627890 & 0.9881044 & 1.0348769 & 0.8944925 & 1.0763930 & 0.9750046 & 1.0296013 & 0.9313733 & 0.9957145\\\\\n",
       "\tENSMUSG00000097487 & 2.0298196 & 0.8725797 & 0.9957476 & 1.1535177 & 0.7527059 & 0.9646880 & 0.6964906 & 1.0976897 & 0.9076782 & 0.9754948\\\\\n",
       "\tENSMUSG00000097565 & 1.0261481 & 1.0658958 & 0.9872603 & 1.0339930 & 0.8937284 & 1.0754735 & 0.9741726 & 1.0287218 & 0.9345942 & 0.9948640\\\\\n",
       "\tENSMUSG00000097993 & 1.0261481 & 1.0658958 & 0.9872603 & 1.0339930 & 0.8937284 & 1.0754735 & 0.9741726 & 1.0287218 & 0.9345942 & 0.9948640\\\\\n",
       "\tENSMUSG00000098022 & 1.0261481 & 1.0658958 & 0.9872603 & 1.0339930 & 0.8937284 & 1.0754735 & 0.9741726 & 1.0287218 & 0.9345942 & 0.9948640\\\\\n",
       "\tENSMUSG00000098274 & 1.0235160 & 1.0638165 & 0.9862820 & 1.0347244 & 0.8910424 & 1.0747721 & 0.9753131 & 1.0315195 & 0.9362407 & 0.9976751\\\\\n",
       "\tENSMUSG00000098371 & 1.0261481 & 1.0658958 & 0.9872603 & 1.0339930 & 0.8937284 & 1.0754735 & 0.9741726 & 1.0287218 & 0.9345942 & 0.9948640\\\\\n",
       "\tENSMUSG00000098374 & 1.0261481 & 1.0658958 & 0.9872603 & 1.0339930 & 0.8937284 & 1.0754735 & 0.9741726 & 1.0287218 & 0.9345942 & 0.9948640\\\\\n",
       "\tENSMUSG00000098463 & 1.0261481 & 1.0658958 & 0.9872603 & 1.0339930 & 0.8937284 & 1.0754735 & 0.9741726 & 1.0287218 & 0.9345942 & 0.9948640\\\\\n",
       "\tENSMUSG00000098488 & 1.8285179 & 1.8993453 & 1.3151257 & 0.3957333 & 0.4786514 & 0.8465800 & 1.1345994 & 1.8160632 & 0.5607973 & 1.1815721\\\\\n",
       "\tENSMUSG00000098650 & 1.0261481 & 1.0658958 & 0.9872603 & 1.0339930 & 0.8937284 & 1.0754735 & 0.9741726 & 1.0287218 & 0.9345942 & 0.9948640\\\\\n",
       "\tENSMUSG00000098692 & 1.0261481 & 1.0658958 & 0.9872603 & 1.0339930 & 0.8937284 & 1.0754735 & 0.9741726 & 1.0287218 & 0.9345942 & 0.9948640\\\\\n",
       "\tENSMUSG00000098781 & 0.9038938 & 0.7809687 & 1.3445540 & 1.2154493 & 1.2171724 & 1.0754735 & 1.2896133 & 0.7537318 & 0.9345942 & 0.7289246\\\\\n",
       "\tENSMUSG00000098789 & 1.1413291 & 1.0522253 & 1.1361139 & 1.0404970 & 0.8561379 & 1.0429958 & 0.9992946 & 1.0975361 & 0.9089750 & 0.7912744\\\\\n",
       "\tENSMUSG00000098889 & 1.0261481 & 1.0658958 & 0.9872603 & 1.0339930 & 0.8937284 & 1.0754735 & 0.9741726 & 1.0287218 & 0.9345942 & 0.9948640\\\\\n",
       "\tENSMUSG00000098905 & 1.0261481 & 1.0658958 & 0.9872603 & 1.0339930 & 0.8937284 & 1.0754735 & 0.9741726 & 1.0287218 & 0.9345942 & 0.9948640\\\\\n",
       "\tENSMUSG00000098950 & 1.0339860 & 1.0740373 & 1.0186312 & 1.0478363 & 0.9005548 & 1.0940114 & 0.9816135 & 0.9240323 & 0.9417328 & 1.0024629\\\\\n",
       "\tENSMUSG00000099009 & 1.0261481 & 1.0658958 & 0.9872603 & 1.0339930 & 0.8937284 & 1.0754735 & 0.9741726 & 1.0287218 & 0.9345942 & 0.9948640\\\\\n",
       "\tENSMUSG00000099041 & 1.0261481 & 1.0658958 & 0.9872603 & 1.0339930 & 0.8937284 & 1.0754735 & 0.9741726 & 1.0287218 & 0.9345942 & 0.9948640\\\\\n",
       "\tENSMUSG00000099061 & 1.0261481 & 1.0658958 & 0.9872603 & 1.0339930 & 0.8937284 & 1.0754735 & 0.9741726 & 1.0287218 & 0.9345942 & 0.9948640\\\\\n",
       "\tENSMUSG00000099083 & 1.0314994 & 1.0714544 & 0.9872603 & 1.0339930 & 0.8983891 & 1.0810821 & 0.9792529 & 1.0340865 & 0.9011778 & 1.0000521\\\\\n",
       "\tENSMUSG00000099329 & 1.0261481 & 1.0658958 & 0.9872603 & 1.0339930 & 0.8937284 & 1.0754735 & 0.9741726 & 1.0287218 & 0.9345942 & 0.9948640\\\\\n",
       "\\end{tabular}\n"
      ],
      "text/markdown": [
       "\n",
       "A matrix: 21238 × 10 of type dbl\n",
       "\n",
       "| <!--/--> | SRR12623461 | SRR12623460 | SRR12623459 | SRR12623458 | SRR12623457 | SRR12623456 | SRR12623455 | SRR12623454 | SRR12623453 | SRR12623452 |\n",
       "|---|---|---|---|---|---|---|---|---|---|---|\n",
       "| ENSMUSG00000000001 | 1.0261481 | 1.065896 | 0.9872603 | 1.0339930 | 0.8937284 | 1.0754735 | 0.9741726 | 1.0287218 | 0.9345942 | 0.9948640 |\n",
       "| ENSMUSG00000000028 | 1.0394035 | 1.069173 | 0.9899089 | 1.0285188 | 0.8996112 | 1.0737625 | 0.9666387 | 1.0296180 | 0.9270406 | 0.9916499 |\n",
       "| ENSMUSG00000000031 | 0.6738371 | 1.524286 | 1.3226877 | 1.3626381 | 0.9579022 | 1.5944658 | 0.5220614 | 1.5785774 | 0.7920736 | 0.5418155 |\n",
       "| ENSMUSG00000000037 | 1.2758660 | 1.408438 | 0.6913396 | 0.6868846 | 1.0058986 | 1.1800942 | 0.9795580 | 1.1457302 | 0.6937308 | 1.2679664 |\n",
       "| ENSMUSG00000000056 | 1.0722125 | 1.072868 | 0.8092622 | 0.9490446 | 0.8916184 | 1.0961141 | 1.0547116 | 1.1231345 | 1.0827983 | 0.9029199 |\n",
       "| ENSMUSG00000000058 | 1.0261481 | 1.065896 | 0.9872603 | 1.0339930 | 0.8937284 | 1.0754735 | 0.9741726 | 1.0287218 | 0.9345942 | 0.9948640 |\n",
       "| ENSMUSG00000000078 | 1.0261481 | 1.065896 | 0.9872603 | 1.0339930 | 0.8937284 | 1.0754735 | 0.9741726 | 1.0287218 | 0.9345942 | 0.9948640 |\n",
       "| ENSMUSG00000000085 | 0.7373057 | 1.225753 | 0.8972746 | 1.0343805 | 0.8499647 | 1.1088256 | 1.0337221 | 1.0187294 | 1.1747659 | 1.0225057 |\n",
       "| ENSMUSG00000000088 | 1.0261481 | 1.065896 | 0.9872603 | 1.0339930 | 0.8937284 | 1.0754735 | 0.9741726 | 1.0287218 | 0.9345942 | 0.9948640 |\n",
       "| ENSMUSG00000000093 | 1.0261481 | 1.065896 | 0.9872603 | 1.0339930 | 0.8937284 | 1.0754735 | 0.9741726 | 1.0287218 | 0.9345942 | 0.9948640 |\n",
       "| ENSMUSG00000000094 | 1.0351222 | 1.056276 | 0.9810015 | 1.0199877 | 0.8880625 | 1.0497990 | 1.0146393 | 1.0222001 | 0.9122829 | 1.0361902 |\n",
       "| ENSMUSG00000000103 | 1.0261481 | 1.065896 | 0.9872603 | 1.0339930 | 0.8937284 | 1.0754735 | 0.9741726 | 1.0287218 | 0.9345942 | 0.9948640 |\n",
       "| ENSMUSG00000000120 | 1.0261481 | 1.065896 | 0.9872603 | 1.0339930 | 0.8937284 | 1.0754735 | 0.9741726 | 1.0287218 | 0.9345942 | 0.9948640 |\n",
       "| ENSMUSG00000000125 | 1.0261481 | 1.065896 | 0.9872603 | 1.0339930 | 0.8937284 | 1.0754735 | 0.9741726 | 1.0287218 | 0.9345942 | 0.9948640 |\n",
       "| ENSMUSG00000000126 | 1.0261717 | 1.065924 | 0.9872792 | 1.0338115 | 0.8937397 | 1.0754973 | 0.9741951 | 1.0287465 | 0.9345970 | 0.9948859 |\n",
       "| ENSMUSG00000000127 | 1.0146875 | 1.078073 | 0.9785060 | 1.0291421 | 0.9076027 | 1.0737991 | 0.9619449 | 1.0336036 | 0.9272650 | 1.0103083 |\n",
       "| ENSMUSG00000000131 | 1.0748664 | 1.371974 | 1.1318275 | 0.9059315 | 0.7681602 | 1.0890853 | 0.7735611 | 1.1070087 | 0.8961720 | 1.0300854 |\n",
       "| ENSMUSG00000000134 | 1.0227458 | 1.100629 | 0.9534780 | 1.0604572 | 0.9044664 | 1.0667476 | 0.8791135 | 1.0744298 | 0.9181502 | 1.0500175 |\n",
       "| ENSMUSG00000000142 | 0.9385201 | 1.112842 | 0.9136896 | 0.9039953 | 1.0296948 | 1.1480055 | 0.9271533 | 1.0393951 | 0.9855822 | 1.0324769 |\n",
       "| ENSMUSG00000000148 | 0.8669559 | 1.093431 | 0.9494877 | 1.0063851 | 0.9642614 | 1.2230796 | 0.9513946 | 1.0446673 | 0.9159412 | 1.0282583 |\n",
       "| ENSMUSG00000000149 | 1.0261481 | 1.065896 | 0.9872603 | 1.0339930 | 0.8937284 | 1.0754735 | 0.9741726 | 1.0287218 | 0.9345942 | 0.9948640 |\n",
       "| ENSMUSG00000000154 | 0.8950376 | 1.134755 | 1.0703270 | 1.1199681 | 0.8286683 | 1.0660757 | 1.0371062 | 1.0951793 | 0.7969154 | 1.0271766 |\n",
       "| ENSMUSG00000000159 | 1.2128053 | 1.188023 | 1.1003780 | 1.0339930 | 1.1946867 | 0.7779472 | 0.4605502 | 1.3751384 | 1.0416775 | 0.9948640 |\n",
       "| ENSMUSG00000000167 | 1.0273483 | 1.008044 | 1.0773379 | 1.0008535 | 0.6608499 | 0.9933026 | 1.1194622 | 1.3363476 | 1.1405759 | 0.7995454 |\n",
       "| ENSMUSG00000000168 | 1.0072328 | 1.244979 | 0.9131410 | 1.0410425 | 0.9395365 | 1.1064780 | 0.9710191 | 1.0285565 | 0.9220279 | 0.8762851 |\n",
       "| ENSMUSG00000000171 | 1.0261481 | 1.065896 | 0.9872603 | 1.0339930 | 0.8937284 | 1.0754735 | 0.9741726 | 1.0287218 | 0.9345942 | 0.9948640 |\n",
       "| ENSMUSG00000000182 | 1.0261481 | 1.065896 | 0.9872603 | 1.0339930 | 0.8937284 | 1.0754735 | 0.9741726 | 1.0287218 | 0.9345942 | 0.9948640 |\n",
       "| ENSMUSG00000000184 | 1.0261481 | 1.065896 | 0.9872603 | 1.0339930 | 0.8937284 | 1.0754735 | 0.9741726 | 1.0287218 | 0.9345942 | 0.9948640 |\n",
       "| ENSMUSG00000000194 | 1.2499881 | 1.392060 | 0.8914899 | 1.0907934 | 0.7807315 | 1.1015752 | 0.9057936 | 0.8934096 | 0.9359774 | 0.9072275 |\n",
       "| ENSMUSG00000000197 | 1.0261481 | 1.065896 | 0.9872603 | 1.0339930 | 0.8937284 | 1.0754735 | 0.9741726 | 1.0287218 | 0.9345942 | 0.9948640 |\n",
       "| ⋮ | ⋮ | ⋮ | ⋮ | ⋮ | ⋮ | ⋮ | ⋮ | ⋮ | ⋮ | ⋮ |\n",
       "| ENSMUSG00000096854 | 1.0261481 | 1.0658958 | 0.9872603 | 1.0339930 | 0.8937284 | 1.0754735 | 0.9741726 | 1.0287218 | 0.9345942 | 0.9948640 |\n",
       "| ENSMUSG00000096856 | 1.0261481 | 1.0658958 | 0.9872603 | 1.0339930 | 0.8937284 | 1.0754735 | 0.9741726 | 1.0287218 | 0.9345942 | 0.9948640 |\n",
       "| ENSMUSG00000096869 | 1.0261481 | 1.0658958 | 0.9872603 | 1.0339930 | 0.8937284 | 1.0754735 | 0.9741726 | 1.0287218 | 0.9345942 | 0.9948640 |\n",
       "| ENSMUSG00000096874 | 1.0261481 | 1.0658958 | 0.9872603 | 1.0339930 | 0.8937284 | 1.0754735 | 0.9741726 | 1.0287218 | 0.9345942 | 0.9948640 |\n",
       "| ENSMUSG00000096901 | 1.0261481 | 1.0658958 | 0.9872603 | 1.0339930 | 0.8937284 | 1.0754735 | 0.9741726 | 1.0287218 | 0.9345942 | 0.9948640 |\n",
       "| ENSMUSG00000096904 | 1.0261481 | 1.0658958 | 0.9872603 | 1.0339930 | 0.8937284 | 1.0754735 | 0.9741726 | 1.0287218 | 0.9345942 | 0.9948640 |\n",
       "| ENSMUSG00000096910 | 1.0261481 | 1.0658958 | 0.9872603 | 1.0339930 | 0.8937284 | 1.0754735 | 0.9741726 | 1.0287218 | 0.9345942 | 0.9948640 |\n",
       "| ENSMUSG00000096911 | 1.1526088 | 3.2716360 | 0.9915343 | 1.6071562 | 0.5126162 | 0.7919755 | 0.6270316 | 1.1886700 | 0.9205314 | 0.5974394 |\n",
       "| ENSMUSG00000097239 | 1.0265487 | 1.0627890 | 0.9881044 | 1.0348769 | 0.8944925 | 1.0763930 | 0.9750046 | 1.0296013 | 0.9313733 | 0.9957145 |\n",
       "| ENSMUSG00000097487 | 2.0298196 | 0.8725797 | 0.9957476 | 1.1535177 | 0.7527059 | 0.9646880 | 0.6964906 | 1.0976897 | 0.9076782 | 0.9754948 |\n",
       "| ENSMUSG00000097565 | 1.0261481 | 1.0658958 | 0.9872603 | 1.0339930 | 0.8937284 | 1.0754735 | 0.9741726 | 1.0287218 | 0.9345942 | 0.9948640 |\n",
       "| ENSMUSG00000097993 | 1.0261481 | 1.0658958 | 0.9872603 | 1.0339930 | 0.8937284 | 1.0754735 | 0.9741726 | 1.0287218 | 0.9345942 | 0.9948640 |\n",
       "| ENSMUSG00000098022 | 1.0261481 | 1.0658958 | 0.9872603 | 1.0339930 | 0.8937284 | 1.0754735 | 0.9741726 | 1.0287218 | 0.9345942 | 0.9948640 |\n",
       "| ENSMUSG00000098274 | 1.0235160 | 1.0638165 | 0.9862820 | 1.0347244 | 0.8910424 | 1.0747721 | 0.9753131 | 1.0315195 | 0.9362407 | 0.9976751 |\n",
       "| ENSMUSG00000098371 | 1.0261481 | 1.0658958 | 0.9872603 | 1.0339930 | 0.8937284 | 1.0754735 | 0.9741726 | 1.0287218 | 0.9345942 | 0.9948640 |\n",
       "| ENSMUSG00000098374 | 1.0261481 | 1.0658958 | 0.9872603 | 1.0339930 | 0.8937284 | 1.0754735 | 0.9741726 | 1.0287218 | 0.9345942 | 0.9948640 |\n",
       "| ENSMUSG00000098463 | 1.0261481 | 1.0658958 | 0.9872603 | 1.0339930 | 0.8937284 | 1.0754735 | 0.9741726 | 1.0287218 | 0.9345942 | 0.9948640 |\n",
       "| ENSMUSG00000098488 | 1.8285179 | 1.8993453 | 1.3151257 | 0.3957333 | 0.4786514 | 0.8465800 | 1.1345994 | 1.8160632 | 0.5607973 | 1.1815721 |\n",
       "| ENSMUSG00000098650 | 1.0261481 | 1.0658958 | 0.9872603 | 1.0339930 | 0.8937284 | 1.0754735 | 0.9741726 | 1.0287218 | 0.9345942 | 0.9948640 |\n",
       "| ENSMUSG00000098692 | 1.0261481 | 1.0658958 | 0.9872603 | 1.0339930 | 0.8937284 | 1.0754735 | 0.9741726 | 1.0287218 | 0.9345942 | 0.9948640 |\n",
       "| ENSMUSG00000098781 | 0.9038938 | 0.7809687 | 1.3445540 | 1.2154493 | 1.2171724 | 1.0754735 | 1.2896133 | 0.7537318 | 0.9345942 | 0.7289246 |\n",
       "| ENSMUSG00000098789 | 1.1413291 | 1.0522253 | 1.1361139 | 1.0404970 | 0.8561379 | 1.0429958 | 0.9992946 | 1.0975361 | 0.9089750 | 0.7912744 |\n",
       "| ENSMUSG00000098889 | 1.0261481 | 1.0658958 | 0.9872603 | 1.0339930 | 0.8937284 | 1.0754735 | 0.9741726 | 1.0287218 | 0.9345942 | 0.9948640 |\n",
       "| ENSMUSG00000098905 | 1.0261481 | 1.0658958 | 0.9872603 | 1.0339930 | 0.8937284 | 1.0754735 | 0.9741726 | 1.0287218 | 0.9345942 | 0.9948640 |\n",
       "| ENSMUSG00000098950 | 1.0339860 | 1.0740373 | 1.0186312 | 1.0478363 | 0.9005548 | 1.0940114 | 0.9816135 | 0.9240323 | 0.9417328 | 1.0024629 |\n",
       "| ENSMUSG00000099009 | 1.0261481 | 1.0658958 | 0.9872603 | 1.0339930 | 0.8937284 | 1.0754735 | 0.9741726 | 1.0287218 | 0.9345942 | 0.9948640 |\n",
       "| ENSMUSG00000099041 | 1.0261481 | 1.0658958 | 0.9872603 | 1.0339930 | 0.8937284 | 1.0754735 | 0.9741726 | 1.0287218 | 0.9345942 | 0.9948640 |\n",
       "| ENSMUSG00000099061 | 1.0261481 | 1.0658958 | 0.9872603 | 1.0339930 | 0.8937284 | 1.0754735 | 0.9741726 | 1.0287218 | 0.9345942 | 0.9948640 |\n",
       "| ENSMUSG00000099083 | 1.0314994 | 1.0714544 | 0.9872603 | 1.0339930 | 0.8983891 | 1.0810821 | 0.9792529 | 1.0340865 | 0.9011778 | 1.0000521 |\n",
       "| ENSMUSG00000099329 | 1.0261481 | 1.0658958 | 0.9872603 | 1.0339930 | 0.8937284 | 1.0754735 | 0.9741726 | 1.0287218 | 0.9345942 | 0.9948640 |\n",
       "\n"
      ],
      "text/plain": [
       "                   SRR12623461 SRR12623460 SRR12623459 SRR12623458 SRR12623457\n",
       "ENSMUSG00000000001 1.0261481   1.065896    0.9872603   1.0339930   0.8937284  \n",
       "ENSMUSG00000000028 1.0394035   1.069173    0.9899089   1.0285188   0.8996112  \n",
       "ENSMUSG00000000031 0.6738371   1.524286    1.3226877   1.3626381   0.9579022  \n",
       "ENSMUSG00000000037 1.2758660   1.408438    0.6913396   0.6868846   1.0058986  \n",
       "ENSMUSG00000000056 1.0722125   1.072868    0.8092622   0.9490446   0.8916184  \n",
       "ENSMUSG00000000058 1.0261481   1.065896    0.9872603   1.0339930   0.8937284  \n",
       "ENSMUSG00000000078 1.0261481   1.065896    0.9872603   1.0339930   0.8937284  \n",
       "ENSMUSG00000000085 0.7373057   1.225753    0.8972746   1.0343805   0.8499647  \n",
       "ENSMUSG00000000088 1.0261481   1.065896    0.9872603   1.0339930   0.8937284  \n",
       "ENSMUSG00000000093 1.0261481   1.065896    0.9872603   1.0339930   0.8937284  \n",
       "ENSMUSG00000000094 1.0351222   1.056276    0.9810015   1.0199877   0.8880625  \n",
       "ENSMUSG00000000103 1.0261481   1.065896    0.9872603   1.0339930   0.8937284  \n",
       "ENSMUSG00000000120 1.0261481   1.065896    0.9872603   1.0339930   0.8937284  \n",
       "ENSMUSG00000000125 1.0261481   1.065896    0.9872603   1.0339930   0.8937284  \n",
       "ENSMUSG00000000126 1.0261717   1.065924    0.9872792   1.0338115   0.8937397  \n",
       "ENSMUSG00000000127 1.0146875   1.078073    0.9785060   1.0291421   0.9076027  \n",
       "ENSMUSG00000000131 1.0748664   1.371974    1.1318275   0.9059315   0.7681602  \n",
       "ENSMUSG00000000134 1.0227458   1.100629    0.9534780   1.0604572   0.9044664  \n",
       "ENSMUSG00000000142 0.9385201   1.112842    0.9136896   0.9039953   1.0296948  \n",
       "ENSMUSG00000000148 0.8669559   1.093431    0.9494877   1.0063851   0.9642614  \n",
       "ENSMUSG00000000149 1.0261481   1.065896    0.9872603   1.0339930   0.8937284  \n",
       "ENSMUSG00000000154 0.8950376   1.134755    1.0703270   1.1199681   0.8286683  \n",
       "ENSMUSG00000000159 1.2128053   1.188023    1.1003780   1.0339930   1.1946867  \n",
       "ENSMUSG00000000167 1.0273483   1.008044    1.0773379   1.0008535   0.6608499  \n",
       "ENSMUSG00000000168 1.0072328   1.244979    0.9131410   1.0410425   0.9395365  \n",
       "ENSMUSG00000000171 1.0261481   1.065896    0.9872603   1.0339930   0.8937284  \n",
       "ENSMUSG00000000182 1.0261481   1.065896    0.9872603   1.0339930   0.8937284  \n",
       "ENSMUSG00000000184 1.0261481   1.065896    0.9872603   1.0339930   0.8937284  \n",
       "ENSMUSG00000000194 1.2499881   1.392060    0.8914899   1.0907934   0.7807315  \n",
       "ENSMUSG00000000197 1.0261481   1.065896    0.9872603   1.0339930   0.8937284  \n",
       "<U+22EE>             <U+22EE>    <U+22EE>    <U+22EE>    <U+22EE>    <U+22EE>   \n",
       "ENSMUSG00000096854 1.0261481   1.0658958   0.9872603   1.0339930   0.8937284  \n",
       "ENSMUSG00000096856 1.0261481   1.0658958   0.9872603   1.0339930   0.8937284  \n",
       "ENSMUSG00000096869 1.0261481   1.0658958   0.9872603   1.0339930   0.8937284  \n",
       "ENSMUSG00000096874 1.0261481   1.0658958   0.9872603   1.0339930   0.8937284  \n",
       "ENSMUSG00000096901 1.0261481   1.0658958   0.9872603   1.0339930   0.8937284  \n",
       "ENSMUSG00000096904 1.0261481   1.0658958   0.9872603   1.0339930   0.8937284  \n",
       "ENSMUSG00000096910 1.0261481   1.0658958   0.9872603   1.0339930   0.8937284  \n",
       "ENSMUSG00000096911 1.1526088   3.2716360   0.9915343   1.6071562   0.5126162  \n",
       "ENSMUSG00000097239 1.0265487   1.0627890   0.9881044   1.0348769   0.8944925  \n",
       "ENSMUSG00000097487 2.0298196   0.8725797   0.9957476   1.1535177   0.7527059  \n",
       "ENSMUSG00000097565 1.0261481   1.0658958   0.9872603   1.0339930   0.8937284  \n",
       "ENSMUSG00000097993 1.0261481   1.0658958   0.9872603   1.0339930   0.8937284  \n",
       "ENSMUSG00000098022 1.0261481   1.0658958   0.9872603   1.0339930   0.8937284  \n",
       "ENSMUSG00000098274 1.0235160   1.0638165   0.9862820   1.0347244   0.8910424  \n",
       "ENSMUSG00000098371 1.0261481   1.0658958   0.9872603   1.0339930   0.8937284  \n",
       "ENSMUSG00000098374 1.0261481   1.0658958   0.9872603   1.0339930   0.8937284  \n",
       "ENSMUSG00000098463 1.0261481   1.0658958   0.9872603   1.0339930   0.8937284  \n",
       "ENSMUSG00000098488 1.8285179   1.8993453   1.3151257   0.3957333   0.4786514  \n",
       "ENSMUSG00000098650 1.0261481   1.0658958   0.9872603   1.0339930   0.8937284  \n",
       "ENSMUSG00000098692 1.0261481   1.0658958   0.9872603   1.0339930   0.8937284  \n",
       "ENSMUSG00000098781 0.9038938   0.7809687   1.3445540   1.2154493   1.2171724  \n",
       "ENSMUSG00000098789 1.1413291   1.0522253   1.1361139   1.0404970   0.8561379  \n",
       "ENSMUSG00000098889 1.0261481   1.0658958   0.9872603   1.0339930   0.8937284  \n",
       "ENSMUSG00000098905 1.0261481   1.0658958   0.9872603   1.0339930   0.8937284  \n",
       "ENSMUSG00000098950 1.0339860   1.0740373   1.0186312   1.0478363   0.9005548  \n",
       "ENSMUSG00000099009 1.0261481   1.0658958   0.9872603   1.0339930   0.8937284  \n",
       "ENSMUSG00000099041 1.0261481   1.0658958   0.9872603   1.0339930   0.8937284  \n",
       "ENSMUSG00000099061 1.0261481   1.0658958   0.9872603   1.0339930   0.8937284  \n",
       "ENSMUSG00000099083 1.0314994   1.0714544   0.9872603   1.0339930   0.8983891  \n",
       "ENSMUSG00000099329 1.0261481   1.0658958   0.9872603   1.0339930   0.8937284  \n",
       "                   SRR12623456 SRR12623455 SRR12623454 SRR12623453 SRR12623452\n",
       "ENSMUSG00000000001 1.0754735   0.9741726   1.0287218   0.9345942   0.9948640  \n",
       "ENSMUSG00000000028 1.0737625   0.9666387   1.0296180   0.9270406   0.9916499  \n",
       "ENSMUSG00000000031 1.5944658   0.5220614   1.5785774   0.7920736   0.5418155  \n",
       "ENSMUSG00000000037 1.1800942   0.9795580   1.1457302   0.6937308   1.2679664  \n",
       "ENSMUSG00000000056 1.0961141   1.0547116   1.1231345   1.0827983   0.9029199  \n",
       "ENSMUSG00000000058 1.0754735   0.9741726   1.0287218   0.9345942   0.9948640  \n",
       "ENSMUSG00000000078 1.0754735   0.9741726   1.0287218   0.9345942   0.9948640  \n",
       "ENSMUSG00000000085 1.1088256   1.0337221   1.0187294   1.1747659   1.0225057  \n",
       "ENSMUSG00000000088 1.0754735   0.9741726   1.0287218   0.9345942   0.9948640  \n",
       "ENSMUSG00000000093 1.0754735   0.9741726   1.0287218   0.9345942   0.9948640  \n",
       "ENSMUSG00000000094 1.0497990   1.0146393   1.0222001   0.9122829   1.0361902  \n",
       "ENSMUSG00000000103 1.0754735   0.9741726   1.0287218   0.9345942   0.9948640  \n",
       "ENSMUSG00000000120 1.0754735   0.9741726   1.0287218   0.9345942   0.9948640  \n",
       "ENSMUSG00000000125 1.0754735   0.9741726   1.0287218   0.9345942   0.9948640  \n",
       "ENSMUSG00000000126 1.0754973   0.9741951   1.0287465   0.9345970   0.9948859  \n",
       "ENSMUSG00000000127 1.0737991   0.9619449   1.0336036   0.9272650   1.0103083  \n",
       "ENSMUSG00000000131 1.0890853   0.7735611   1.1070087   0.8961720   1.0300854  \n",
       "ENSMUSG00000000134 1.0667476   0.8791135   1.0744298   0.9181502   1.0500175  \n",
       "ENSMUSG00000000142 1.1480055   0.9271533   1.0393951   0.9855822   1.0324769  \n",
       "ENSMUSG00000000148 1.2230796   0.9513946   1.0446673   0.9159412   1.0282583  \n",
       "ENSMUSG00000000149 1.0754735   0.9741726   1.0287218   0.9345942   0.9948640  \n",
       "ENSMUSG00000000154 1.0660757   1.0371062   1.0951793   0.7969154   1.0271766  \n",
       "ENSMUSG00000000159 0.7779472   0.4605502   1.3751384   1.0416775   0.9948640  \n",
       "ENSMUSG00000000167 0.9933026   1.1194622   1.3363476   1.1405759   0.7995454  \n",
       "ENSMUSG00000000168 1.1064780   0.9710191   1.0285565   0.9220279   0.8762851  \n",
       "ENSMUSG00000000171 1.0754735   0.9741726   1.0287218   0.9345942   0.9948640  \n",
       "ENSMUSG00000000182 1.0754735   0.9741726   1.0287218   0.9345942   0.9948640  \n",
       "ENSMUSG00000000184 1.0754735   0.9741726   1.0287218   0.9345942   0.9948640  \n",
       "ENSMUSG00000000194 1.1015752   0.9057936   0.8934096   0.9359774   0.9072275  \n",
       "ENSMUSG00000000197 1.0754735   0.9741726   1.0287218   0.9345942   0.9948640  \n",
       "<U+22EE>             <U+22EE>    <U+22EE>    <U+22EE>    <U+22EE>    <U+22EE>   \n",
       "ENSMUSG00000096854 1.0754735   0.9741726   1.0287218   0.9345942   0.9948640  \n",
       "ENSMUSG00000096856 1.0754735   0.9741726   1.0287218   0.9345942   0.9948640  \n",
       "ENSMUSG00000096869 1.0754735   0.9741726   1.0287218   0.9345942   0.9948640  \n",
       "ENSMUSG00000096874 1.0754735   0.9741726   1.0287218   0.9345942   0.9948640  \n",
       "ENSMUSG00000096901 1.0754735   0.9741726   1.0287218   0.9345942   0.9948640  \n",
       "ENSMUSG00000096904 1.0754735   0.9741726   1.0287218   0.9345942   0.9948640  \n",
       "ENSMUSG00000096910 1.0754735   0.9741726   1.0287218   0.9345942   0.9948640  \n",
       "ENSMUSG00000096911 0.7919755   0.6270316   1.1886700   0.9205314   0.5974394  \n",
       "ENSMUSG00000097239 1.0763930   0.9750046   1.0296013   0.9313733   0.9957145  \n",
       "ENSMUSG00000097487 0.9646880   0.6964906   1.0976897   0.9076782   0.9754948  \n",
       "ENSMUSG00000097565 1.0754735   0.9741726   1.0287218   0.9345942   0.9948640  \n",
       "ENSMUSG00000097993 1.0754735   0.9741726   1.0287218   0.9345942   0.9948640  \n",
       "ENSMUSG00000098022 1.0754735   0.9741726   1.0287218   0.9345942   0.9948640  \n",
       "ENSMUSG00000098274 1.0747721   0.9753131   1.0315195   0.9362407   0.9976751  \n",
       "ENSMUSG00000098371 1.0754735   0.9741726   1.0287218   0.9345942   0.9948640  \n",
       "ENSMUSG00000098374 1.0754735   0.9741726   1.0287218   0.9345942   0.9948640  \n",
       "ENSMUSG00000098463 1.0754735   0.9741726   1.0287218   0.9345942   0.9948640  \n",
       "ENSMUSG00000098488 0.8465800   1.1345994   1.8160632   0.5607973   1.1815721  \n",
       "ENSMUSG00000098650 1.0754735   0.9741726   1.0287218   0.9345942   0.9948640  \n",
       "ENSMUSG00000098692 1.0754735   0.9741726   1.0287218   0.9345942   0.9948640  \n",
       "ENSMUSG00000098781 1.0754735   1.2896133   0.7537318   0.9345942   0.7289246  \n",
       "ENSMUSG00000098789 1.0429958   0.9992946   1.0975361   0.9089750   0.7912744  \n",
       "ENSMUSG00000098889 1.0754735   0.9741726   1.0287218   0.9345942   0.9948640  \n",
       "ENSMUSG00000098905 1.0754735   0.9741726   1.0287218   0.9345942   0.9948640  \n",
       "ENSMUSG00000098950 1.0940114   0.9816135   0.9240323   0.9417328   1.0024629  \n",
       "ENSMUSG00000099009 1.0754735   0.9741726   1.0287218   0.9345942   0.9948640  \n",
       "ENSMUSG00000099041 1.0754735   0.9741726   1.0287218   0.9345942   0.9948640  \n",
       "ENSMUSG00000099061 1.0754735   0.9741726   1.0287218   0.9345942   0.9948640  \n",
       "ENSMUSG00000099083 1.0810821   0.9792529   1.0340865   0.9011778   1.0000521  \n",
       "ENSMUSG00000099329 1.0754735   0.9741726   1.0287218   0.9345942   0.9948640  "
      ]
     },
     "metadata": {},
     "output_type": "display_data"
    }
   ],
   "source": [
    "normalizationFactors(dds)"
   ]
  },
  {
   "cell_type": "code",
   "execution_count": 16,
   "id": "855ef1b4-35e8-45d2-8137-50b73ccc45eb",
   "metadata": {},
   "outputs": [
    {
     "name": "stderr",
     "output_type": "stream",
     "text": [
      "using 'avgTxLength' from assays(dds), correcting for library size\n",
      "\n"
     ]
    },
    {
     "data": {
      "text/html": [
       "<table class=\"dataframe\">\n",
       "<caption>A matrix: 3 × 10 of type dbl</caption>\n",
       "<thead>\n",
       "\t<tr><th></th><th scope=col>SRR12623461</th><th scope=col>SRR12623460</th><th scope=col>SRR12623459</th><th scope=col>SRR12623458</th><th scope=col>SRR12623457</th><th scope=col>SRR12623456</th><th scope=col>SRR12623455</th><th scope=col>SRR12623454</th><th scope=col>SRR12623453</th><th scope=col>SRR12623452</th></tr>\n",
       "</thead>\n",
       "<tbody>\n",
       "\t<tr><th scope=row>ENSMUSG00000000001</th><td>11.474077</td><td>11.515972</td><td>11.534473</td><td>11.574881</td><td>11.542833</td><td>11.517522</td><td>11.530688</td><td>11.522411</td><td>11.595205</td><td>11.610071</td></tr>\n",
       "\t<tr><th scope=row>ENSMUSG00000000028</th><td>10.557188</td><td>10.692554</td><td>10.845313</td><td>10.831302</td><td>10.881424</td><td>10.787351</td><td>10.994686</td><td>10.990791</td><td>10.914782</td><td>10.931851</td></tr>\n",
       "\t<tr><th scope=row>ENSMUSG00000000031</th><td> 9.385801</td><td> 9.383585</td><td> 9.387309</td><td> 9.427155</td><td> 9.395569</td><td> 9.386941</td><td> 9.388393</td><td> 9.306532</td><td> 9.387466</td><td> 9.363957</td></tr>\n",
       "</tbody>\n",
       "</table>\n"
      ],
      "text/latex": [
       "A matrix: 3 × 10 of type dbl\n",
       "\\begin{tabular}{r|llllllllll}\n",
       "  & SRR12623461 & SRR12623460 & SRR12623459 & SRR12623458 & SRR12623457 & SRR12623456 & SRR12623455 & SRR12623454 & SRR12623453 & SRR12623452\\\\\n",
       "\\hline\n",
       "\tENSMUSG00000000001 & 11.474077 & 11.515972 & 11.534473 & 11.574881 & 11.542833 & 11.517522 & 11.530688 & 11.522411 & 11.595205 & 11.610071\\\\\n",
       "\tENSMUSG00000000028 & 10.557188 & 10.692554 & 10.845313 & 10.831302 & 10.881424 & 10.787351 & 10.994686 & 10.990791 & 10.914782 & 10.931851\\\\\n",
       "\tENSMUSG00000000031 &  9.385801 &  9.383585 &  9.387309 &  9.427155 &  9.395569 &  9.386941 &  9.388393 &  9.306532 &  9.387466 &  9.363957\\\\\n",
       "\\end{tabular}\n"
      ],
      "text/markdown": [
       "\n",
       "A matrix: 3 × 10 of type dbl\n",
       "\n",
       "| <!--/--> | SRR12623461 | SRR12623460 | SRR12623459 | SRR12623458 | SRR12623457 | SRR12623456 | SRR12623455 | SRR12623454 | SRR12623453 | SRR12623452 |\n",
       "|---|---|---|---|---|---|---|---|---|---|---|\n",
       "| ENSMUSG00000000001 | 11.474077 | 11.515972 | 11.534473 | 11.574881 | 11.542833 | 11.517522 | 11.530688 | 11.522411 | 11.595205 | 11.610071 |\n",
       "| ENSMUSG00000000028 | 10.557188 | 10.692554 | 10.845313 | 10.831302 | 10.881424 | 10.787351 | 10.994686 | 10.990791 | 10.914782 | 10.931851 |\n",
       "| ENSMUSG00000000031 |  9.385801 |  9.383585 |  9.387309 |  9.427155 |  9.395569 |  9.386941 |  9.388393 |  9.306532 |  9.387466 |  9.363957 |\n",
       "\n"
      ],
      "text/plain": [
       "                   SRR12623461 SRR12623460 SRR12623459 SRR12623458 SRR12623457\n",
       "ENSMUSG00000000001 11.474077   11.515972   11.534473   11.574881   11.542833  \n",
       "ENSMUSG00000000028 10.557188   10.692554   10.845313   10.831302   10.881424  \n",
       "ENSMUSG00000000031  9.385801    9.383585    9.387309    9.427155    9.395569  \n",
       "                   SRR12623456 SRR12623455 SRR12623454 SRR12623453 SRR12623452\n",
       "ENSMUSG00000000001 11.517522   11.530688   11.522411   11.595205   11.610071  \n",
       "ENSMUSG00000000028 10.787351   10.994686   10.990791   10.914782   10.931851  \n",
       "ENSMUSG00000000031  9.386941    9.388393    9.306532    9.387466    9.363957  "
      ]
     },
     "metadata": {},
     "output_type": "display_data"
    }
   ],
   "source": [
    "# Choosing variance stabilizating transformation\n",
    "vsd <- vst(dds, blind = FALSE)\n",
    "head(assay(vsd), 3)"
   ]
  },
  {
   "cell_type": "code",
   "execution_count": 17,
   "id": "236d0e38-2f3b-47ad-8382-1de733e631f2",
   "metadata": {},
   "outputs": [
    {
     "name": "stderr",
     "output_type": "stream",
     "text": [
      "using 'avgTxLength' from assays(dds), correcting for library size\n",
      "\n"
     ]
    },
    {
     "data": {
      "text/html": [
       "<table class=\"dataframe\">\n",
       "<caption>A matrix: 3 × 10 of type dbl</caption>\n",
       "<thead>\n",
       "\t<tr><th></th><th scope=col>SRR12623461</th><th scope=col>SRR12623460</th><th scope=col>SRR12623459</th><th scope=col>SRR12623458</th><th scope=col>SRR12623457</th><th scope=col>SRR12623456</th><th scope=col>SRR12623455</th><th scope=col>SRR12623454</th><th scope=col>SRR12623453</th><th scope=col>SRR12623452</th></tr>\n",
       "</thead>\n",
       "<tbody>\n",
       "\t<tr><th scope=row>ENSMUSG00000000001</th><td>10.807658</td><td>10.861978</td><td>10.885811</td><td>10.937447</td><td>10.896531</td><td>10.863976</td><td>10.880950</td><td>10.870290</td><td>10.963157</td><td>10.981957</td></tr>\n",
       "\t<tr><th scope=row>ENSMUSG00000000028</th><td> 9.235121</td><td> 9.464219</td><td> 9.707237</td><td> 9.685607</td><td> 9.762284</td><td> 9.616861</td><td> 9.930506</td><td> 9.925081</td><td> 9.812547</td><td> 9.838179</td></tr>\n",
       "\t<tr><th scope=row>ENSMUSG00000000031</th><td> 2.853625</td><td> 2.851957</td><td> 2.855037</td><td> 2.891678</td><td> 2.861711</td><td> 2.854778</td><td> 2.855419</td><td> 2.802002</td><td> 2.854969</td><td> 2.838705</td></tr>\n",
       "</tbody>\n",
       "</table>\n"
      ],
      "text/latex": [
       "A matrix: 3 × 10 of type dbl\n",
       "\\begin{tabular}{r|llllllllll}\n",
       "  & SRR12623461 & SRR12623460 & SRR12623459 & SRR12623458 & SRR12623457 & SRR12623456 & SRR12623455 & SRR12623454 & SRR12623453 & SRR12623452\\\\\n",
       "\\hline\n",
       "\tENSMUSG00000000001 & 10.807658 & 10.861978 & 10.885811 & 10.937447 & 10.896531 & 10.863976 & 10.880950 & 10.870290 & 10.963157 & 10.981957\\\\\n",
       "\tENSMUSG00000000028 &  9.235121 &  9.464219 &  9.707237 &  9.685607 &  9.762284 &  9.616861 &  9.930506 &  9.925081 &  9.812547 &  9.838179\\\\\n",
       "\tENSMUSG00000000031 &  2.853625 &  2.851957 &  2.855037 &  2.891678 &  2.861711 &  2.854778 &  2.855419 &  2.802002 &  2.854969 &  2.838705\\\\\n",
       "\\end{tabular}\n"
      ],
      "text/markdown": [
       "\n",
       "A matrix: 3 × 10 of type dbl\n",
       "\n",
       "| <!--/--> | SRR12623461 | SRR12623460 | SRR12623459 | SRR12623458 | SRR12623457 | SRR12623456 | SRR12623455 | SRR12623454 | SRR12623453 | SRR12623452 |\n",
       "|---|---|---|---|---|---|---|---|---|---|---|\n",
       "| ENSMUSG00000000001 | 10.807658 | 10.861978 | 10.885811 | 10.937447 | 10.896531 | 10.863976 | 10.880950 | 10.870290 | 10.963157 | 10.981957 |\n",
       "| ENSMUSG00000000028 |  9.235121 |  9.464219 |  9.707237 |  9.685607 |  9.762284 |  9.616861 |  9.930506 |  9.925081 |  9.812547 |  9.838179 |\n",
       "| ENSMUSG00000000031 |  2.853625 |  2.851957 |  2.855037 |  2.891678 |  2.861711 |  2.854778 |  2.855419 |  2.802002 |  2.854969 |  2.838705 |\n",
       "\n"
      ],
      "text/plain": [
       "                   SRR12623461 SRR12623460 SRR12623459 SRR12623458 SRR12623457\n",
       "ENSMUSG00000000001 10.807658   10.861978   10.885811   10.937447   10.896531  \n",
       "ENSMUSG00000000028  9.235121    9.464219    9.707237    9.685607    9.762284  \n",
       "ENSMUSG00000000031  2.853625    2.851957    2.855037    2.891678    2.861711  \n",
       "                   SRR12623456 SRR12623455 SRR12623454 SRR12623453 SRR12623452\n",
       "ENSMUSG00000000001 10.863976   10.880950   10.870290   10.963157   10.981957  \n",
       "ENSMUSG00000000028  9.616861    9.930506    9.925081    9.812547    9.838179  \n",
       "ENSMUSG00000000031  2.854778    2.855419    2.802002    2.854969    2.838705  "
      ]
     },
     "metadata": {},
     "output_type": "display_data"
    }
   ],
   "source": [
    "rld <- rlog(dds, blind = FALSE)\n",
    "head(assay(rld), 3)"
   ]
  },
  {
   "cell_type": "code",
   "execution_count": 18,
   "id": "ed8a3b59-a987-4487-ad68-cdcecb4a2760",
   "metadata": {},
   "outputs": [
    {
     "data": {
      "image/png": "[encoded data removed]",
      "text/plain": [
       "plot without title"
      ]
     },
     "metadata": {
      "image/png": {
       "height": 420,
       "width": 420
      }
     },
     "output_type": "display_data"
    }
   ],
   "source": [
    "plot(assay(vsd)[, 8], assay(vsd)[, 9])"
   ]
  },
  {
   "cell_type": "code",
   "execution_count": 19,
   "id": "3cef30e3-cd55-4f99-8ec7-c5b1df5c4212",
   "metadata": {},
   "outputs": [
    {
     "data": {
      "image/png": "[encoded data removed]",
      "text/plain": [
       "plot without title"
      ]
     },
     "metadata": {
      "image/png": {
       "height": 420,
       "width": 420
      }
     },
     "output_type": "display_data"
    }
   ],
   "source": [
    "plot(assay(rld)[, 8], assay(rld)[, 9])"
   ]
  },
  {
   "cell_type": "code",
   "execution_count": 20,
   "id": "6ab63d7a-2ab4-4f18-ae11-0be9f23564a8",
   "metadata": {},
   "outputs": [
    {
     "name": "stderr",
     "output_type": "stream",
     "text": [
      "using 'avgTxLength' from assays(dds), correcting for library size\n",
      "\n",
      "Warning message:\n",
      "\"`as_data_frame()` was deprecated in tibble 2.0.0.\n",
      "Please use `as_tibble()` instead.\n",
      "The signature and semantics have changed, see `?as_tibble`.\n",
      "\u001b[90mThis warning is displayed once every 8 hours.\u001b[39m\n",
      "\u001b[90mCall `lifecycle::last_lifecycle_warnings()` to see where this warning was generated.\u001b[39m\"\n",
      "Warning message:\n",
      "\"Computation failed in `stat_binhex()`:\n",
      "\"\n",
      "Warning message:\n",
      "\"Computation failed in `stat_binhex()`:\n",
      "\"\n",
      "Warning message:\n",
      "\"Computation failed in `stat_binhex()`:\n",
      "\"\n"
     ]
    },
    {
     "data": {
      "image/png": "[encoded data removed]",
      "text/plain": [
       "plot without title"
      ]
     },
     "metadata": {
      "image/png": {
       "height": 420,
       "width": 420
      }
     },
     "output_type": "display_data"
    }
   ],
   "source": [
    "library(\"ggplot2\")\n",
    "\n",
    "dds <- estimateSizeFactors(dds)\n",
    "\n",
    "df <- bind_rows(\n",
    "  as_data_frame(log2(counts(dds, normalized=TRUE)[, 1:2]+1)) %>%\n",
    "         mutate(transformation = \"log2(x + 1)\"),\n",
    "  as_data_frame(assay(vsd)[, 1:2]) %>% mutate(transformation = \"vst\"),\n",
    "  as_data_frame(assay(rld)[, 1:2]) %>% mutate(transformation = \"rlog\"))\n",
    "  \n",
    "colnames(df)[1:2] <- c(\"x\", \"y\")  \n",
    "\n",
    "lvls <- c(\"log2(x + 1)\", \"vst\", \"rlog\")\n",
    "df$transformation <- factor(df$transformation, levels=lvls)\n",
    "\n",
    "ggplot(df, aes(x = x, y = y)) + geom_hex(bins = 80) +\n",
    "  coord_fixed() + facet_grid( . ~ transformation)  "
   ]
  },
  {
   "cell_type": "code",
   "execution_count": 21,
   "id": "142eead9-f1c0-4fba-83cf-a7545f95fa28",
   "metadata": {},
   "outputs": [],
   "source": [
    "# Find euclidean distance between two samples\n",
    "sampleDists <- dist(t(assay(rld)))\n"
   ]
  },
  {
   "cell_type": "code",
   "execution_count": 22,
   "id": "80642bb9-ce89-4acf-a905-6d4da05578f3",
   "metadata": {},
   "outputs": [],
   "source": [
    "library(\"pheatmap\")\n",
    "library(\"RColorBrewer\")"
   ]
  },
  {
   "cell_type": "code",
   "execution_count": 23,
   "id": "3a3ab513-2b70-4236-a22c-4761d37e367d",
   "metadata": {},
   "outputs": [
    {
     "data": {
      "image/png": "[encoded data removed]",
      "text/plain": [
       "plot without title"
      ]
     },
     "metadata": {
      "image/png": {
       "height": 420,
       "width": 420
      }
     },
     "output_type": "display_data"
    }
   ],
   "source": [
    "sampleDistMatrix <- as.matrix( sampleDists )\n",
    "rownames(sampleDistMatrix) <- paste( rld$condition)\n",
    "colnames(sampleDistMatrix) <- NULL\n",
    "colors <- colorRampPalette( rev(brewer.pal(9, \"Blues\")) )(255)\n",
    "pheatmap(sampleDistMatrix,\n",
    "         clustering_distance_rows = sampleDists,\n",
    "         clustering_distance_cols = sampleDists,\n",
    "         col = colors)"
   ]
  },
  {
   "cell_type": "code",
   "execution_count": 24,
   "id": "928fa600-556c-4ff1-a818-fb6aaf8dc4a8",
   "metadata": {},
   "outputs": [
    {
     "data": {
      "image/png": "[encoded data removed]",
      "text/plain": [
       "plot without title"
      ]
     },
     "metadata": {
      "image/png": {
       "height": 420,
       "width": 420
      }
     },
     "output_type": "display_data"
    }
   ],
   "source": [
    "plotPCA(rld, intgroup = c(\"condition\"))"
   ]
  },
  {
   "cell_type": "code",
   "execution_count": 25,
   "id": "c34cccbf-d43d-4fa6-8922-5d71645124d7",
   "metadata": {},
   "outputs": [
    {
     "data": {
      "image/png": "[encoded data removed]",
      "text/plain": [
       "plot without title"
      ]
     },
     "metadata": {
      "image/png": {
       "height": 420,
       "width": 420
      }
     },
     "output_type": "display_data"
    }
   ],
   "source": [
    "plotPCA(vsd, intgroup = c(\"condition\"))"
   ]
  },
  {
   "cell_type": "markdown",
   "id": "8eeb35c2-be03-458b-ac27-15985437d3cc",
   "metadata": {},
   "source": [
    "todo: also do PCA/cluster map with a separation by strain: dWapl + PT"
   ]
  },
  {
   "cell_type": "markdown",
   "id": "a3b7f0c7-34ae-4cd8-8d5e-f2b105829a22",
   "metadata": {},
   "source": [
    "### Notes:\n",
    "\n",
    "These maps seem flipped from what I would expect -- it looks like the dWapl treatment continues to have an impact as time wears on).\n",
    "\n",
    "Checking the paper: This seems to align with the DE results/analysis as given by the paper: https://www.nature.com/articles/s41588-020-00744-4/figures/9\n",
    "\n",
    "Collapsing technical replicates\n",
    "DESeq2 provides a function collapseReplicates which can assist in combining the counts from technical replicates into single columns of the count matrix. The term technical replicate implies multiple sequencing runs of the same library. You should not collapse biological replicates using this function. See the manual page for an example of the use of collapseReplicates."
   ]
  },
  {
   "cell_type": "markdown",
   "id": "d2a11c53-fab5-4458-b225-ae3c259eaa37",
   "metadata": {},
   "source": [
    "### Different models/interaction terms:\n",
    "\n",
    "* Time-course analysis with fission package:\n",
    "    * e.g.: `ddsTC <- DESeqDataSet(fission, ~ strain + minute + strain:minute)`\n",
    "    * design formula that models the strain difference at time 0, the difference over time, and any strain-specific differences over time (the interaction term strain:minute\n",
    "* Then, statistical test comparing full (above) model, with all combos of interaction terms, vs \n",
    "    * Testing whether there are strain-specific changes across time (removes interaction term across strain and time)\n",
    "    * genes with small p-value = genes that showed strain-specific effect at one or more time points (if both strains showed a change across time --> does not show as significant)\n",
    "* \n",
    "    * e.g.: `ddsTC <- DESeq(ddsTC, test=\"LRT\", reduced = ~ strain + minute)`"
   ]
  },
  {
   "cell_type": "code",
   "execution_count": null,
   "id": "a542a454-f466-4cf9-9449-2058884a7b02",
   "metadata": {},
   "outputs": [],
   "source": [
    "# if we had a parallel test running for WT version, could run:\n",
    "\n",
    "# ddsTC <- DESeqDataSEtFromTximport(tx_by_genes, colData = ??(do we include all cols), ~strain + timestamp + strain:timestamp)\n",
    "\n",
    "# ddsTC <- DESeq(ddsTC, test=\"LRT\", reduced = ~ strain + timestamp)\n",
    "\n",
    "###### to give strain-specific effect\n",
    "\n",
    "# ddsTC <- DESeq(ddsTC, test=\"LRT\", reduced = ~ strain + minute)\n",
    "# resTC <- results(ddsTC)\n",
    "# resTC$symbol <- mcols(ddsTC)$symbol\n",
    "# head(resTC[order(resTC$padj),],4)\n",
    "\n",
    "# data <- plotCounts(ddsTC, which.min(resTC$padj),\n",
    "#                    intgroup=c(\"minute\",“strain\"), returnData=TRUE)\n",
    "# ggplot(data, aes(x=minute, y=count, color=strain, group=strain)) +\n",
    "# geom_point() + stat_smooth(se=FALSE,method=“loess\") + scale_y_log10()\n",
    "\n",
    "###### generate wald-tests for each condition using the null hypotheses\n"
   ]
  },
  {
   "cell_type": "markdown",
   "id": "d00ba6de-11b1-4e4c-aaed-ea823da63efd",
   "metadata": {},
   "source": [
    "## Basic Results\n",
    "\n",
    "Following the vignette to model results for entire counts matrix, and then visualizing results of the individual wald tests for each pair-wise conditions"
   ]
  },
  {
   "cell_type": "code",
   "execution_count": null,
   "id": "da3917bc-2b0c-4313-9c17-16fa0de22915",
   "metadata": {},
   "outputs": [],
   "source": []
  },
  {
   "cell_type": "code",
   "execution_count": 27,
   "id": "eb3c3bd8-021d-4008-a86a-4b5c34989adb",
   "metadata": {},
   "outputs": [
    {
     "ename": "ERROR",
     "evalue": "Error in eval(expr, envir, enclos): object 'dds.normalizationFactors' not found\n",
     "output_type": "error",
     "traceback": [
      "Error in eval(expr, envir, enclos): object 'dds.normalizationFactors' not found\nTraceback:\n"
     ]
    }
   ],
   "source": [
    "normalizationFactors(dds)"
   ]
  },
  {
   "cell_type": "markdown",
   "id": "51dd3c81-bb4e-41dd-9bc2-249dc67d19e7",
   "metadata": {},
   "source": [
    "# Generating pair-wise DE"
   ]
  },
  {
   "cell_type": "code",
   "execution_count": null,
   "id": "d16bd457-5bc1-49ef-a552-b75affcd89be",
   "metadata": {},
   "outputs": [],
   "source": [
    "## saving all .csvs and getting summaries to generate heatmaps for all of these conditions\n",
    "wt_name = 'Wapl_C20_0h'\n",
    "#s2c = s2c_wapl\n",
    "\n",
    "for (cond in levels(s2c_wapl$condition)) {\n",
    "    \n",
    "    \n",
    "    if (cond != wt_name) {\n",
    "        \n",
    "        print(paste(\"Performing test for condition:\", cond))\n",
    "        \n",
    "        s2c_untreated_vs_variable <- s2c[ (s2c$condition==wt_name) | \n",
    "                                       (s2c$condition==cond) , ]\n",
    "\n",
    "        files_untreated_vs_variable = files[s2c_untreated_vs_variable$sample]\n",
    "\n",
    "        s2c_untreated_vs_variable$condition <-  factor(s2c_untreated_vs_variable$condition,\n",
    "                                                    levels = c(wt_name, cond))\n",
    "        tx_by_genes <- tximport(\n",
    "                 files_untreated_vs_variable,\n",
    "                 type = \"kallisto\", \n",
    "                 tx2gene = tx2gene, \n",
    "                 ignoreAfterBar = TRUE, \n",
    "                )\n",
    "        \n",
    "        print(\"Variables in design ~condition looks like: \")\n",
    "        print(~ condition)\n",
    "        \n",
    "        dds <- DESeqDataSetFromTximport(tx_by_genes,\n",
    "                                colData = s2c_untreated_vs_variable,\n",
    "                                design = ~ condition)\n",
    "        \n",
    "        \n",
    "        dds <- DESeq(dds)\n",
    "        \n",
    "        res <- results(dds, name=paste('condition_', cond, '_vs_', wt_name, sep=\"\"), alpha=0.05)\n",
    "        \n",
    "        print(head(res, 6))\n",
    "        \n",
    "        # save as .csv so can generate heat plots, analyze elsewhere, etc\n",
    "        write.csv(res,file.path(proj, \"deseq-mm10-results\", paste(\"pairwise_deseq_wt_\", cond, \".csv\", sep=\"\")))\n",
    "        \n",
    "        # printing some general stats about the significant set\n",
    "        print(summary(results(dds, alpha=0.05)))\n",
    "        \n",
    "    }\n",
    "    \n",
    "}"
   ]
  },
  {
   "cell_type": "code",
   "execution_count": null,
   "id": "389b81e0-3824-432f-9d69-6dcc712ce040",
   "metadata": {},
   "outputs": [],
   "source": []
  }
 ],
 "metadata": {
  "kernelspec": {
   "display_name": "deseq-R",
   "language": "R",
   "name": "deseq-r-4.1"
  },
  "language_info": {
   "codemirror_mode": "r",
   "file_extension": ".r",
   "mimetype": "text/x-r-source",
   "name": "R",
   "pygments_lexer": "r",
   "version": "4.1.2"
  }
 },
 "nbformat": 4,
 "nbformat_minor": 5
}
