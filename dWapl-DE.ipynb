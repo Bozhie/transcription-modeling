{
 "cells": [
  {
   "cell_type": "code",
   "execution_count": 2,
   "id": "ed27cce1-0ec0-4906-9f56-9e810d914566",
   "metadata": {},
   "outputs": [
    {
     "name": "stderr",
     "output_type": "stream",
     "text": [
      "Warning message:\n",
      "\"package 'stringr' was built under R version 3.6.3\"\n",
      "\n",
      "Attaching package: 'dplyr'\n",
      "\n",
      "\n",
      "The following objects are masked from 'package:stats':\n",
      "\n",
      "    filter, lag\n",
      "\n",
      "\n",
      "The following objects are masked from 'package:base':\n",
      "\n",
      "    intersect, setdiff, setequal, union\n",
      "\n",
      "\n"
     ]
    }
   ],
   "source": [
    "library(\"sleuth\")\n",
    "library(stringr)\n",
    "library(dplyr)\n",
    "\n",
    "suppressMessages({\n",
    "  library(\"sleuth\")\n",
    "})"
   ]
  },
  {
   "cell_type": "code",
   "execution_count": 1,
   "id": "6b47b9c9-4c04-4ef7-bf43-b62629bcb441",
   "metadata": {},
   "outputs": [],
   "source": [
    "proj = \"/project/fudenber_735/GEO/liu_deWit_2021_GSE135180/pysradb_downloads/SRP216929\""
   ]
  },
  {
   "cell_type": "code",
   "execution_count": 5,
   "id": "bf3a5937-717a-424f-85ae-b961a7d1c169",
   "metadata": {},
   "outputs": [],
   "source": [
    "s2c <- read.table(file.path(proj, \n",
    "                             \"s2c.tsv\"), \n",
    "                              header = TRUE, sep = \"\\t\", stringsAsFactors=FALSE)"
   ]
  },
  {
   "cell_type": "code",
   "execution_count": 6,
   "id": "4aa47175-f620-434d-9652-18a3fc2f89df",
   "metadata": {},
   "outputs": [
    {
     "data": {
      "text/html": [
       "<table class=\"dataframe\">\n",
       "<caption>A data.frame: 14 × 4</caption>\n",
       "<thead>\n",
       "\t<tr><th scope=col>X</th><th scope=col>sample</th><th scope=col>condition</th><th scope=col>path</th></tr>\n",
       "\t<tr><th scope=col>&lt;int&gt;</th><th scope=col>&lt;chr&gt;</th><th scope=col>&lt;chr&gt;</th><th scope=col>&lt;chr&gt;</th></tr>\n",
       "</thead>\n",
       "<tbody>\n",
       "\t<tr><td> 0</td><td>SRR12623461</td><td>Wapl-C20_96h</td><td>/project/fudenber_735/GEO/liu_deWit_2021_GSE135180/pysradb_downloads/SRP216929/SRX9106192/kallisto</td></tr>\n",
       "\t<tr><td> 1</td><td>SRR12623460</td><td>Wapl-C20_96h</td><td>/project/fudenber_735/GEO/liu_deWit_2021_GSE135180/pysradb_downloads/SRP216929/SRX9106191/kallisto</td></tr>\n",
       "\t<tr><td> 2</td><td>SRR12623459</td><td>Wapl-C20_48h</td><td>/project/fudenber_735/GEO/liu_deWit_2021_GSE135180/pysradb_downloads/SRP216929/SRX9106190/kallisto</td></tr>\n",
       "\t<tr><td> 3</td><td>SRR12623458</td><td>Wapl-C20_48h</td><td>/project/fudenber_735/GEO/liu_deWit_2021_GSE135180/pysradb_downloads/SRP216929/SRX9106189/kallisto</td></tr>\n",
       "\t<tr><td> 4</td><td>SRR12623457</td><td>Wapl-C20_24h</td><td>/project/fudenber_735/GEO/liu_deWit_2021_GSE135180/pysradb_downloads/SRP216929/SRX9106188/kallisto</td></tr>\n",
       "\t<tr><td> 5</td><td>SRR12623456</td><td>Wapl-C20_24h</td><td>/project/fudenber_735/GEO/liu_deWit_2021_GSE135180/pysradb_downloads/SRP216929/SRX9106187/kallisto</td></tr>\n",
       "\t<tr><td> 6</td><td>SRR12623455</td><td>Wapl-C20_6h </td><td>/project/fudenber_735/GEO/liu_deWit_2021_GSE135180/pysradb_downloads/SRP216929/SRX9106186/kallisto</td></tr>\n",
       "\t<tr><td> 7</td><td>SRR12623454</td><td>Wapl-C20_6h </td><td>/project/fudenber_735/GEO/liu_deWit_2021_GSE135180/pysradb_downloads/SRP216929/SRX9106185/kallisto</td></tr>\n",
       "\t<tr><td> 8</td><td>SRR12623453</td><td>Wapl-C20_0h </td><td>/project/fudenber_735/GEO/liu_deWit_2021_GSE135180/pysradb_downloads/SRP216929/SRX9106184/kallisto</td></tr>\n",
       "\t<tr><td> 9</td><td>SRR12623452</td><td>Wapl-C20_0h </td><td>/project/fudenber_735/GEO/liu_deWit_2021_GSE135180/pysradb_downloads/SRP216929/SRX9106183/kallisto</td></tr>\n",
       "\t<tr><td>10</td><td>SRR9870515 </td><td>PT_96h      </td><td>/project/fudenber_735/GEO/liu_deWit_2021_GSE135180/pysradb_downloads/SRP216929/SRX6623251/kallisto</td></tr>\n",
       "\t<tr><td>11</td><td>SRR9870514 </td><td>PT_96h      </td><td>/project/fudenber_735/GEO/liu_deWit_2021_GSE135180/pysradb_downloads/SRP216929/SRX6623250/kallisto</td></tr>\n",
       "\t<tr><td>12</td><td>SRR9870513 </td><td>PT_0h       </td><td>/project/fudenber_735/GEO/liu_deWit_2021_GSE135180/pysradb_downloads/SRP216929/SRX6623249/kallisto</td></tr>\n",
       "\t<tr><td>13</td><td>SRR9870512 </td><td>PT_0h       </td><td>/project/fudenber_735/GEO/liu_deWit_2021_GSE135180/pysradb_downloads/SRP216929/SRX6623248/kallisto</td></tr>\n",
       "</tbody>\n",
       "</table>\n"
      ],
      "text/latex": [
       "A data.frame: 14 × 4\n",
       "\\begin{tabular}{llll}\n",
       " X & sample & condition & path\\\\\n",
       " <int> & <chr> & <chr> & <chr>\\\\\n",
       "\\hline\n",
       "\t  0 & SRR12623461 & Wapl-C20\\_96h & /project/fudenber\\_735/GEO/liu\\_deWit\\_2021\\_GSE135180/pysradb\\_downloads/SRP216929/SRX9106192/kallisto\\\\\n",
       "\t  1 & SRR12623460 & Wapl-C20\\_96h & /project/fudenber\\_735/GEO/liu\\_deWit\\_2021\\_GSE135180/pysradb\\_downloads/SRP216929/SRX9106191/kallisto\\\\\n",
       "\t  2 & SRR12623459 & Wapl-C20\\_48h & /project/fudenber\\_735/GEO/liu\\_deWit\\_2021\\_GSE135180/pysradb\\_downloads/SRP216929/SRX9106190/kallisto\\\\\n",
       "\t  3 & SRR12623458 & Wapl-C20\\_48h & /project/fudenber\\_735/GEO/liu\\_deWit\\_2021\\_GSE135180/pysradb\\_downloads/SRP216929/SRX9106189/kallisto\\\\\n",
       "\t  4 & SRR12623457 & Wapl-C20\\_24h & /project/fudenber\\_735/GEO/liu\\_deWit\\_2021\\_GSE135180/pysradb\\_downloads/SRP216929/SRX9106188/kallisto\\\\\n",
       "\t  5 & SRR12623456 & Wapl-C20\\_24h & /project/fudenber\\_735/GEO/liu\\_deWit\\_2021\\_GSE135180/pysradb\\_downloads/SRP216929/SRX9106187/kallisto\\\\\n",
       "\t  6 & SRR12623455 & Wapl-C20\\_6h  & /project/fudenber\\_735/GEO/liu\\_deWit\\_2021\\_GSE135180/pysradb\\_downloads/SRP216929/SRX9106186/kallisto\\\\\n",
       "\t  7 & SRR12623454 & Wapl-C20\\_6h  & /project/fudenber\\_735/GEO/liu\\_deWit\\_2021\\_GSE135180/pysradb\\_downloads/SRP216929/SRX9106185/kallisto\\\\\n",
       "\t  8 & SRR12623453 & Wapl-C20\\_0h  & /project/fudenber\\_735/GEO/liu\\_deWit\\_2021\\_GSE135180/pysradb\\_downloads/SRP216929/SRX9106184/kallisto\\\\\n",
       "\t  9 & SRR12623452 & Wapl-C20\\_0h  & /project/fudenber\\_735/GEO/liu\\_deWit\\_2021\\_GSE135180/pysradb\\_downloads/SRP216929/SRX9106183/kallisto\\\\\n",
       "\t 10 & SRR9870515  & PT\\_96h       & /project/fudenber\\_735/GEO/liu\\_deWit\\_2021\\_GSE135180/pysradb\\_downloads/SRP216929/SRX6623251/kallisto\\\\\n",
       "\t 11 & SRR9870514  & PT\\_96h       & /project/fudenber\\_735/GEO/liu\\_deWit\\_2021\\_GSE135180/pysradb\\_downloads/SRP216929/SRX6623250/kallisto\\\\\n",
       "\t 12 & SRR9870513  & PT\\_0h        & /project/fudenber\\_735/GEO/liu\\_deWit\\_2021\\_GSE135180/pysradb\\_downloads/SRP216929/SRX6623249/kallisto\\\\\n",
       "\t 13 & SRR9870512  & PT\\_0h        & /project/fudenber\\_735/GEO/liu\\_deWit\\_2021\\_GSE135180/pysradb\\_downloads/SRP216929/SRX6623248/kallisto\\\\\n",
       "\\end{tabular}\n"
      ],
      "text/markdown": [
       "\n",
       "A data.frame: 14 × 4\n",
       "\n",
       "| X &lt;int&gt; | sample &lt;chr&gt; | condition &lt;chr&gt; | path &lt;chr&gt; |\n",
       "|---|---|---|---|\n",
       "|  0 | SRR12623461 | Wapl-C20_96h | /project/fudenber_735/GEO/liu_deWit_2021_GSE135180/pysradb_downloads/SRP216929/SRX9106192/kallisto |\n",
       "|  1 | SRR12623460 | Wapl-C20_96h | /project/fudenber_735/GEO/liu_deWit_2021_GSE135180/pysradb_downloads/SRP216929/SRX9106191/kallisto |\n",
       "|  2 | SRR12623459 | Wapl-C20_48h | /project/fudenber_735/GEO/liu_deWit_2021_GSE135180/pysradb_downloads/SRP216929/SRX9106190/kallisto |\n",
       "|  3 | SRR12623458 | Wapl-C20_48h | /project/fudenber_735/GEO/liu_deWit_2021_GSE135180/pysradb_downloads/SRP216929/SRX9106189/kallisto |\n",
       "|  4 | SRR12623457 | Wapl-C20_24h | /project/fudenber_735/GEO/liu_deWit_2021_GSE135180/pysradb_downloads/SRP216929/SRX9106188/kallisto |\n",
       "|  5 | SRR12623456 | Wapl-C20_24h | /project/fudenber_735/GEO/liu_deWit_2021_GSE135180/pysradb_downloads/SRP216929/SRX9106187/kallisto |\n",
       "|  6 | SRR12623455 | Wapl-C20_6h  | /project/fudenber_735/GEO/liu_deWit_2021_GSE135180/pysradb_downloads/SRP216929/SRX9106186/kallisto |\n",
       "|  7 | SRR12623454 | Wapl-C20_6h  | /project/fudenber_735/GEO/liu_deWit_2021_GSE135180/pysradb_downloads/SRP216929/SRX9106185/kallisto |\n",
       "|  8 | SRR12623453 | Wapl-C20_0h  | /project/fudenber_735/GEO/liu_deWit_2021_GSE135180/pysradb_downloads/SRP216929/SRX9106184/kallisto |\n",
       "|  9 | SRR12623452 | Wapl-C20_0h  | /project/fudenber_735/GEO/liu_deWit_2021_GSE135180/pysradb_downloads/SRP216929/SRX9106183/kallisto |\n",
       "| 10 | SRR9870515  | PT_96h       | /project/fudenber_735/GEO/liu_deWit_2021_GSE135180/pysradb_downloads/SRP216929/SRX6623251/kallisto |\n",
       "| 11 | SRR9870514  | PT_96h       | /project/fudenber_735/GEO/liu_deWit_2021_GSE135180/pysradb_downloads/SRP216929/SRX6623250/kallisto |\n",
       "| 12 | SRR9870513  | PT_0h        | /project/fudenber_735/GEO/liu_deWit_2021_GSE135180/pysradb_downloads/SRP216929/SRX6623249/kallisto |\n",
       "| 13 | SRR9870512  | PT_0h        | /project/fudenber_735/GEO/liu_deWit_2021_GSE135180/pysradb_downloads/SRP216929/SRX6623248/kallisto |\n",
       "\n"
      ],
      "text/plain": [
       "   X  sample      condition   \n",
       "1   0 SRR12623461 Wapl-C20_96h\n",
       "2   1 SRR12623460 Wapl-C20_96h\n",
       "3   2 SRR12623459 Wapl-C20_48h\n",
       "4   3 SRR12623458 Wapl-C20_48h\n",
       "5   4 SRR12623457 Wapl-C20_24h\n",
       "6   5 SRR12623456 Wapl-C20_24h\n",
       "7   6 SRR12623455 Wapl-C20_6h \n",
       "8   7 SRR12623454 Wapl-C20_6h \n",
       "9   8 SRR12623453 Wapl-C20_0h \n",
       "10  9 SRR12623452 Wapl-C20_0h \n",
       "11 10 SRR9870515  PT_96h      \n",
       "12 11 SRR9870514  PT_96h      \n",
       "13 12 SRR9870513  PT_0h       \n",
       "14 13 SRR9870512  PT_0h       \n",
       "   path                                                                                              \n",
       "1  /project/fudenber_735/GEO/liu_deWit_2021_GSE135180/pysradb_downloads/SRP216929/SRX9106192/kallisto\n",
       "2  /project/fudenber_735/GEO/liu_deWit_2021_GSE135180/pysradb_downloads/SRP216929/SRX9106191/kallisto\n",
       "3  /project/fudenber_735/GEO/liu_deWit_2021_GSE135180/pysradb_downloads/SRP216929/SRX9106190/kallisto\n",
       "4  /project/fudenber_735/GEO/liu_deWit_2021_GSE135180/pysradb_downloads/SRP216929/SRX9106189/kallisto\n",
       "5  /project/fudenber_735/GEO/liu_deWit_2021_GSE135180/pysradb_downloads/SRP216929/SRX9106188/kallisto\n",
       "6  /project/fudenber_735/GEO/liu_deWit_2021_GSE135180/pysradb_downloads/SRP216929/SRX9106187/kallisto\n",
       "7  /project/fudenber_735/GEO/liu_deWit_2021_GSE135180/pysradb_downloads/SRP216929/SRX9106186/kallisto\n",
       "8  /project/fudenber_735/GEO/liu_deWit_2021_GSE135180/pysradb_downloads/SRP216929/SRX9106185/kallisto\n",
       "9  /project/fudenber_735/GEO/liu_deWit_2021_GSE135180/pysradb_downloads/SRP216929/SRX9106184/kallisto\n",
       "10 /project/fudenber_735/GEO/liu_deWit_2021_GSE135180/pysradb_downloads/SRP216929/SRX9106183/kallisto\n",
       "11 /project/fudenber_735/GEO/liu_deWit_2021_GSE135180/pysradb_downloads/SRP216929/SRX6623251/kallisto\n",
       "12 /project/fudenber_735/GEO/liu_deWit_2021_GSE135180/pysradb_downloads/SRP216929/SRX6623250/kallisto\n",
       "13 /project/fudenber_735/GEO/liu_deWit_2021_GSE135180/pysradb_downloads/SRP216929/SRX6623249/kallisto\n",
       "14 /project/fudenber_735/GEO/liu_deWit_2021_GSE135180/pysradb_downloads/SRP216929/SRX6623248/kallisto"
      ]
     },
     "metadata": {},
     "output_type": "display_data"
    }
   ],
   "source": [
    "s2c"
   ]
  },
  {
   "cell_type": "code",
   "execution_count": null,
   "id": "9e1e9c63-6a7a-4b8e-89f4-d7cf2de0d265",
   "metadata": {},
   "outputs": [],
   "source": []
  }
 ],
 "metadata": {
  "kernelspec": {
   "display_name": "R 4.1.0 sleuth",
   "language": "R",
   "name": "r410"
  },
  "language_info": {
   "codemirror_mode": "r",
   "file_extension": ".r",
   "mimetype": "text/x-r-source",
   "name": "R",
   "pygments_lexer": "r",
   "version": "3.6.1"
  }
 },
 "nbformat": 4,
 "nbformat_minor": 5
}
