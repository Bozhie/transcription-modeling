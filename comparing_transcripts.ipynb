{
 "cells": [
  {
   "cell_type": "code",
   "execution_count": 22,
   "id": "fe8499c8-1e21-43d8-bdc8-847dd52deeb0",
   "metadata": {},
   "outputs": [],
   "source": [
    "import bioframe\n",
    "import pandas as pd\n",
    "import requests\n",
    "import matplotlib.pyplot as plt"
   ]
  },
  {
   "cell_type": "markdown",
   "id": "200c052b-5f58-491c-a412-cd766f7cbe0f",
   "metadata": {},
   "source": [
    "# Importing ChIP-seq Peaks for CTCF-AID cells after 2 days of auxin and wildtype after 2 days of auxin treatment"
   ]
  },
  {
   "cell_type": "code",
   "execution_count": 2,
   "id": "7942f6e2-9e4f-4600-aa0b-fe05e5afa792",
   "metadata": {},
   "outputs": [],
   "source": [
    "sdir = '/scratch/pokorny/Elphege_2017/'\n",
    "CTCF_ChIP_seq_CTCF_AID_auxin2days_rep1 = sdir+'GSM2609186_CTCF_ChIP-seq_CTCF-AID_auxin2days_rep1_ENC125_Peaks.bed'\n",
    "CTCF_ChIP_exo_WT_untagged_auxin2days_rep1 = sdir+'GSM2609196_CTCF_ChIP-exo_WT-untagged_auxin2days_rep1_ENC2_Peaks.bed'\n",
    "\n",
    "# Read the files into tables\n",
    "ctcf_auxin2days = bioframe.read_table(CTCF_ChIP_seq_CTCF_AID_auxin2days_rep1, schema='bed')\n",
    "wt_auxin2days = bioframe.read_table(CTCF_ChIP_exo_WT_untagged_auxin2days_rep1, schema='bed')"
   ]
  },
  {
   "cell_type": "code",
   "execution_count": 3,
   "id": "1d3abb98-4080-4329-bd42-afe137144f19",
   "metadata": {},
   "outputs": [
    {
     "data": {
      "text/html": [
       "<div>\n",
       "<style scoped>\n",
       "    .dataframe tbody tr th:only-of-type {\n",
       "        vertical-align: middle;\n",
       "    }\n",
       "\n",
       "    .dataframe tbody tr th {\n",
       "        vertical-align: top;\n",
       "    }\n",
       "\n",
       "    .dataframe thead th {\n",
       "        text-align: right;\n",
       "    }\n",
       "</style>\n",
       "<table border=\"1\" class=\"dataframe\">\n",
       "  <thead>\n",
       "    <tr style=\"text-align: right;\">\n",
       "      <th></th>\n",
       "      <th>chrom</th>\n",
       "      <th>start</th>\n",
       "      <th>end</th>\n",
       "      <th>name</th>\n",
       "      <th>score</th>\n",
       "      <th>strand</th>\n",
       "    </tr>\n",
       "  </thead>\n",
       "  <tbody>\n",
       "    <tr>\n",
       "      <th>0</th>\n",
       "      <td>chr1</td>\n",
       "      <td>4322655</td>\n",
       "      <td>4322855</td>\n",
       "      <td>NaN</td>\n",
       "      <td>NaN</td>\n",
       "      <td>NaN</td>\n",
       "    </tr>\n",
       "    <tr>\n",
       "      <th>1</th>\n",
       "      <td>chr1</td>\n",
       "      <td>4336363</td>\n",
       "      <td>4336563</td>\n",
       "      <td>NaN</td>\n",
       "      <td>NaN</td>\n",
       "      <td>NaN</td>\n",
       "    </tr>\n",
       "    <tr>\n",
       "      <th>2</th>\n",
       "      <td>chr1</td>\n",
       "      <td>4758529</td>\n",
       "      <td>4758729</td>\n",
       "      <td>NaN</td>\n",
       "      <td>NaN</td>\n",
       "      <td>NaN</td>\n",
       "    </tr>\n",
       "    <tr>\n",
       "      <th>3</th>\n",
       "      <td>chr1</td>\n",
       "      <td>4760048</td>\n",
       "      <td>4760248</td>\n",
       "      <td>NaN</td>\n",
       "      <td>NaN</td>\n",
       "      <td>NaN</td>\n",
       "    </tr>\n",
       "    <tr>\n",
       "      <th>4</th>\n",
       "      <td>chr1</td>\n",
       "      <td>6408056</td>\n",
       "      <td>6408256</td>\n",
       "      <td>NaN</td>\n",
       "      <td>NaN</td>\n",
       "      <td>NaN</td>\n",
       "    </tr>\n",
       "  </tbody>\n",
       "</table>\n",
       "</div>"
      ],
      "text/plain": [
       "  chrom    start      end  name  score  strand\n",
       "0  chr1  4322655  4322855   NaN    NaN     NaN\n",
       "1  chr1  4336363  4336563   NaN    NaN     NaN\n",
       "2  chr1  4758529  4758729   NaN    NaN     NaN\n",
       "3  chr1  4760048  4760248   NaN    NaN     NaN\n",
       "4  chr1  6408056  6408256   NaN    NaN     NaN"
      ]
     },
     "execution_count": 3,
     "metadata": {},
     "output_type": "execute_result"
    }
   ],
   "source": [
    "ctcf_auxin2days[0:5]"
   ]
  },
  {
   "cell_type": "code",
   "execution_count": 4,
   "id": "07b11c63-969e-4442-b577-83461b6a3e92",
   "metadata": {},
   "outputs": [
    {
     "data": {
      "text/html": [
       "<div>\n",
       "<style scoped>\n",
       "    .dataframe tbody tr th:only-of-type {\n",
       "        vertical-align: middle;\n",
       "    }\n",
       "\n",
       "    .dataframe tbody tr th {\n",
       "        vertical-align: top;\n",
       "    }\n",
       "\n",
       "    .dataframe thead th {\n",
       "        text-align: right;\n",
       "    }\n",
       "</style>\n",
       "<table border=\"1\" class=\"dataframe\">\n",
       "  <thead>\n",
       "    <tr style=\"text-align: right;\">\n",
       "      <th></th>\n",
       "      <th>chrom</th>\n",
       "      <th>start</th>\n",
       "      <th>end</th>\n",
       "      <th>name</th>\n",
       "      <th>score</th>\n",
       "      <th>strand</th>\n",
       "    </tr>\n",
       "  </thead>\n",
       "  <tbody>\n",
       "    <tr>\n",
       "      <th>0</th>\n",
       "      <td>chr1</td>\n",
       "      <td>3002702</td>\n",
       "      <td>3002902</td>\n",
       "      <td>NaN</td>\n",
       "      <td>NaN</td>\n",
       "      <td>NaN</td>\n",
       "    </tr>\n",
       "    <tr>\n",
       "      <th>1</th>\n",
       "      <td>chr1</td>\n",
       "      <td>3053590</td>\n",
       "      <td>3053790</td>\n",
       "      <td>NaN</td>\n",
       "      <td>NaN</td>\n",
       "      <td>NaN</td>\n",
       "    </tr>\n",
       "    <tr>\n",
       "      <th>2</th>\n",
       "      <td>chr1</td>\n",
       "      <td>3107612</td>\n",
       "      <td>3107812</td>\n",
       "      <td>NaN</td>\n",
       "      <td>NaN</td>\n",
       "      <td>NaN</td>\n",
       "    </tr>\n",
       "    <tr>\n",
       "      <th>3</th>\n",
       "      <td>chr1</td>\n",
       "      <td>3278540</td>\n",
       "      <td>3278740</td>\n",
       "      <td>NaN</td>\n",
       "      <td>NaN</td>\n",
       "      <td>NaN</td>\n",
       "    </tr>\n",
       "    <tr>\n",
       "      <th>4</th>\n",
       "      <td>chr1</td>\n",
       "      <td>3315378</td>\n",
       "      <td>3315578</td>\n",
       "      <td>NaN</td>\n",
       "      <td>NaN</td>\n",
       "      <td>NaN</td>\n",
       "    </tr>\n",
       "  </tbody>\n",
       "</table>\n",
       "</div>"
      ],
      "text/plain": [
       "  chrom    start      end  name  score  strand\n",
       "0  chr1  3002702  3002902   NaN    NaN     NaN\n",
       "1  chr1  3053590  3053790   NaN    NaN     NaN\n",
       "2  chr1  3107612  3107812   NaN    NaN     NaN\n",
       "3  chr1  3278540  3278740   NaN    NaN     NaN\n",
       "4  chr1  3315378  3315578   NaN    NaN     NaN"
      ]
     },
     "execution_count": 4,
     "metadata": {},
     "output_type": "execute_result"
    }
   ],
   "source": [
    "wt_auxin2days[0:5]"
   ]
  },
  {
   "cell_type": "markdown",
   "id": "9c88d60a-789b-4458-a0ee-c1ffbcd13a0d",
   "metadata": {},
   "source": [
    "## Creating summary of the ChIP-seq Peak files\n",
    "\n",
    "Counting number of chromosomes represented, how many peaks in each chromosome, genomic intervals between each\n",
    "Basically, finding here is just that we lost a lot of CTCF-bound to the genome after auxin-induced degradation of CTCF (makes sense). \n",
    "- Could be interesting to use the overlapping intervals (i.e. sites where CTCF still hung on after degradation) and see if these correlate to anything. I predict that they will correlate to strong motifs. The subset of genes regulated by these CTCF binding regions should have similar expression levels in either WT or dCTCF\n",
    "\n",
    "- The strength of these peaks (derived by number sequencing reads) may also be an interesting "
   ]
  },
  {
   "cell_type": "code",
   "execution_count": 5,
   "id": "ff4dd14c-7c99-45e0-86be-8a1004d83911",
   "metadata": {},
   "outputs": [
    {
     "name": "stdout",
     "output_type": "stream",
     "text": [
      "Number of chromosomes represented by data: 20\n",
      "Chromosomes: \n",
      "chr1 chr2 chr3 chr4 chr5 chr6 chr7 chr8 chr9 chrX chr10 chr11 chr12 chr13 chr14 chr15 chr16 chr17 chr18 chr19\n"
     ]
    }
   ],
   "source": [
    "# counting unique values for chromosome column\n",
    "print(\"Number of chromosomes represented by data: \" + str(pd.unique(ctcf_auxin2days['chrom']).size))\n",
    "\n",
    "print(\"Chromosomes: \")\n",
    "print(*pd.unique(ctcf_auxin2days['chrom']))"
   ]
  },
  {
   "cell_type": "code",
   "execution_count": 6,
   "id": "feecd659-219b-4a4b-b7b2-738b244c480d",
   "metadata": {
    "tags": []
   },
   "outputs": [
    {
     "data": {
      "text/plain": [
       "<function matplotlib.pyplot.show(close=None, block=None)>"
      ]
     },
     "execution_count": 6,
     "metadata": {},
     "output_type": "execute_result"
    },
    {
     "data": {
      "image/png": "[encoded data removed]",
      "text/plain": [
       "<Figure size 432x288 with 1 Axes>"
      ]
     },
     "metadata": {
      "needs_background": "light"
     },
     "output_type": "display_data"
    }
   ],
   "source": [
    "# Compare number of peaks\n",
    "num_ctcf_auxin_chipseq_peaks = ctcf_auxin2days.size\n",
    "num_wt_chipseq_peaks = wt_auxin2days.size\n",
    "\n",
    "plt.bar(0, num_wt_chipseq_peaks, width=0.8)\n",
    "plt.bar(1, num_ctcf_auxin_chipseq_peaks, width=0.8)\n",
    "plt.title('Number of chipseq peaks for Wildtype vs dCTCF cells')\n",
    "\n",
    "plt.show"
   ]
  },
  {
   "cell_type": "code",
   "execution_count": 6,
   "id": "221ce1c6-646e-4d98-b3a5-52723b89c859",
   "metadata": {},
   "outputs": [],
   "source": [
    "overlap = bioframe.overlap(ctcf_auxin2days,wt_auxin2days, suffixes=('_ctcf','_wt'))"
   ]
  },
  {
   "cell_type": "code",
   "execution_count": 7,
   "id": "398daf12-42e1-41d0-b910-21784b25e756",
   "metadata": {},
   "outputs": [],
   "source": [
    "wt_exclusive = bioframe.subtract(wt_auxin2days, ctcf_auxin2days)\n",
    "\n",
    "ctcf_exclusive = bioframe.subtract(ctcf_auxin2days, wt_auxin2days)"
   ]
  },
  {
   "cell_type": "code",
   "execution_count": 8,
   "id": "1c10602f-53d9-488d-a5ee-9e557ebd64d5",
   "metadata": {},
   "outputs": [
    {
     "name": "stdout",
     "output_type": "stream",
     "text": [
      "Number of regions bound by CTCF: 19876\n",
      "Number of regions in WT only: 117797\n",
      "Number of regions in -CTCF only: 13977\n"
     ]
    },
    {
     "data": {
      "text/plain": [
       "<function matplotlib.pyplot.show(close=None, block=None)>"
      ]
     },
     "execution_count": 8,
     "metadata": {},
     "output_type": "execute_result"
    },
    {
     "data": {
      "image/png": "[encoded data removed]",
      "text/plain": [
       "<Figure size 432x288 with 1 Axes>"
      ]
     },
     "metadata": {
      "needs_background": "light"
     },
     "output_type": "display_data"
    }
   ],
   "source": [
    "print('Number of regions bound by CTCF: {}'.format(len(overlap)))\n",
    "print('Number of regions in WT only: {}'.format(len(wt_exclusive)))\n",
    "print('Number of regions in -CTCF only: {}'.format(len(ctcf_exclusive)))\n",
    "\n",
    "plt.bar(0, len(overlap), width=0.8)\n",
    "plt.bar(1, len(wt_exclusive), width=0.8)\n",
    "plt.bar(2, len(ctcf_exclusive), width=0.8)\n",
    "plt.title('Comparison of ChIP-seq data for WT vs dCTCF cells 2 days after auxin treatment')\n",
    "\n",
    "plt.show"
   ]
  },
  {
   "cell_type": "markdown",
   "id": "7b07b32b-c83d-4724-b661-66283462e9dd",
   "metadata": {},
   "source": [
    "# Importing RNA-seq data for CTCF-AID cells prior to auxin treatments and after 2 days of auxin treatment\n",
    "\n",
    "## Download Supplementary Table3 RNA-seq FPKM values, Related to figure 6 \n",
    "FPKM = 'Fragments Per Kilobase of transcript per Million' mapped reads. In RNA-Seq, the relative expression of a transcript is proportional to the number of cDNA fragments that originate from it.\n",
    "\n",
    "Can use this data as a measurement of transcription levels for a gene.\n",
    "Note: tried to import one of the bigwig files directly and crashed the jupyter kernel, so might have to process that richer data in the shell env."
   ]
  },
  {
   "cell_type": "code",
   "execution_count": 10,
   "id": "02dfea1c-b542-48ee-ad7d-21dd1d909124",
   "metadata": {},
   "outputs": [],
   "source": [
    "#Download Supplementary Table3 RNA-seq FPKM values, Related to figure 6 \n",
    "RNA_seq_FPKM = pd.read_excel('/scratch/pokorny/Elphege_2017/sup_data/NIHMS873912-supplement-10.xlsx', skiprows=6, usecols=\"A:G, O:Q\")"
   ]
  },
  {
   "cell_type": "code",
   "execution_count": 18,
   "id": "20003a00-f6c5-4fca-b848-fff8925a78d6",
   "metadata": {},
   "outputs": [
    {
     "data": {
      "text/html": [
       "<div>\n",
       "<style scoped>\n",
       "    .dataframe tbody tr th:only-of-type {\n",
       "        vertical-align: middle;\n",
       "    }\n",
       "\n",
       "    .dataframe tbody tr th {\n",
       "        vertical-align: top;\n",
       "    }\n",
       "\n",
       "    .dataframe thead th {\n",
       "        text-align: right;\n",
       "    }\n",
       "</style>\n",
       "<table border=\"1\" class=\"dataframe\">\n",
       "  <thead>\n",
       "    <tr style=\"text-align: right;\">\n",
       "      <th></th>\n",
       "      <th>tracking_id</th>\n",
       "      <th>locus</th>\n",
       "      <th>CTCF-AID_untreated</th>\n",
       "      <th>CTCF-AID_1day</th>\n",
       "      <th>CTCF-AID_2days</th>\n",
       "      <th>CTCF-AID_4days</th>\n",
       "      <th>CTCF-AID_washoff</th>\n",
       "      <th>WT_untreated</th>\n",
       "      <th>WT_2days</th>\n",
       "      <th>WT_4days</th>\n",
       "    </tr>\n",
       "  </thead>\n",
       "  <tbody>\n",
       "    <tr>\n",
       "      <th>0</th>\n",
       "      <td>0610005C13Rik</td>\n",
       "      <td>chr7:52823164-52845080</td>\n",
       "      <td>0.784511</td>\n",
       "      <td>0.804255</td>\n",
       "      <td>1.040841</td>\n",
       "      <td>2.176798</td>\n",
       "      <td>1.209881</td>\n",
       "      <td>0.531110</td>\n",
       "      <td>0.539697</td>\n",
       "      <td>0.414068</td>\n",
       "    </tr>\n",
       "    <tr>\n",
       "      <th>1</th>\n",
       "      <td>0610007P14Rik</td>\n",
       "      <td>chr12:87156404-87165495</td>\n",
       "      <td>71.716133</td>\n",
       "      <td>74.856200</td>\n",
       "      <td>63.412767</td>\n",
       "      <td>59.250033</td>\n",
       "      <td>67.995733</td>\n",
       "      <td>57.020867</td>\n",
       "      <td>49.716167</td>\n",
       "      <td>57.023633</td>\n",
       "    </tr>\n",
       "    <tr>\n",
       "      <th>2</th>\n",
       "      <td>0610009B22Rik</td>\n",
       "      <td>chr11:51498886-51502136</td>\n",
       "      <td>69.529333</td>\n",
       "      <td>76.436433</td>\n",
       "      <td>61.336067</td>\n",
       "      <td>38.937500</td>\n",
       "      <td>58.353700</td>\n",
       "      <td>58.497000</td>\n",
       "      <td>46.990267</td>\n",
       "      <td>58.072767</td>\n",
       "    </tr>\n",
       "    <tr>\n",
       "      <th>3</th>\n",
       "      <td>0610009L18Rik</td>\n",
       "      <td>chr11:120209991-120212504</td>\n",
       "      <td>0.944842</td>\n",
       "      <td>1.154941</td>\n",
       "      <td>0.905838</td>\n",
       "      <td>1.097459</td>\n",
       "      <td>0.889548</td>\n",
       "      <td>1.180704</td>\n",
       "      <td>1.977405</td>\n",
       "      <td>0.825640</td>\n",
       "    </tr>\n",
       "    <tr>\n",
       "      <th>4</th>\n",
       "      <td>0610009O20Rik</td>\n",
       "      <td>chr18:38398058-38422283</td>\n",
       "      <td>17.565900</td>\n",
       "      <td>20.652933</td>\n",
       "      <td>20.476800</td>\n",
       "      <td>20.633733</td>\n",
       "      <td>18.857300</td>\n",
       "      <td>18.864133</td>\n",
       "      <td>18.413433</td>\n",
       "      <td>18.779333</td>\n",
       "    </tr>\n",
       "  </tbody>\n",
       "</table>\n",
       "</div>"
      ],
      "text/plain": [
       "     tracking_id                      locus  CTCF-AID_untreated  \\\n",
       "0  0610005C13Rik     chr7:52823164-52845080            0.784511   \n",
       "1  0610007P14Rik    chr12:87156404-87165495           71.716133   \n",
       "2  0610009B22Rik    chr11:51498886-51502136           69.529333   \n",
       "3  0610009L18Rik  chr11:120209991-120212504            0.944842   \n",
       "4  0610009O20Rik    chr18:38398058-38422283           17.565900   \n",
       "\n",
       "   CTCF-AID_1day  CTCF-AID_2days  CTCF-AID_4days  CTCF-AID_washoff  \\\n",
       "0       0.804255        1.040841        2.176798          1.209881   \n",
       "1      74.856200       63.412767       59.250033         67.995733   \n",
       "2      76.436433       61.336067       38.937500         58.353700   \n",
       "3       1.154941        0.905838        1.097459          0.889548   \n",
       "4      20.652933       20.476800       20.633733         18.857300   \n",
       "\n",
       "   WT_untreated   WT_2days   WT_4days  \n",
       "0      0.531110   0.539697   0.414068  \n",
       "1     57.020867  49.716167  57.023633  \n",
       "2     58.497000  46.990267  58.072767  \n",
       "3      1.180704   1.977405   0.825640  \n",
       "4     18.864133  18.413433  18.779333  "
      ]
     },
     "execution_count": 18,
     "metadata": {},
     "output_type": "execute_result"
    }
   ],
   "source": [
    "RNA_seq_FPKM = RNA_seq_FPKM.rename(columns={'untreated': 'CTCF-AID_untreated', '1day': 'CTCF-AID_1day', '2days': 'CTCF-AID_2days', '4days': 'CTCF-AID_4days',\n",
    "                                '2days_washoff_2days' : 'CTCF-AID_washoff', 'untreated.1' : 'WT_untreated', '2days.3' : 'WT_2days', '4days.3' : 'WT_4days'})\n",
    "\n",
    "RNA_seq_FPKM[0:5]"
   ]
  },
  {
   "cell_type": "code",
   "execution_count": 16,
   "id": "4618f27f-1058-4883-877a-1ee2de1ef1be",
   "metadata": {},
   "outputs": [],
   "source": [
    "# Split the string-format of locus into a list of values that follow bedframe format: [chrom, start, end]\n",
    "def parseLocus(locus):\n",
    "    \n",
    "    chrom = locus.split(':')[0]\n",
    "    bedframe_indices = locus.split(':')[1].split('-')\n",
    "    bedframe_indices.insert(0, chrom)\n",
    "    return bedframe_indices\n",
    "\n",
    "# # little test\n",
    "# sample_locus = 'chr2:174952492-175261278'\n",
    "# bedframe_list = parseLocus(sample_locus)\n",
    "# print(bedframe_list)"
   ]
  },
  {
   "cell_type": "code",
   "execution_count": 29,
   "id": "4e9d8f81-4810-4e86-8aa8-66c6a84cf571",
   "metadata": {},
   "outputs": [
    {
     "data": {
      "text/html": [
       "<div>\n",
       "<style scoped>\n",
       "    .dataframe tbody tr th:only-of-type {\n",
       "        vertical-align: middle;\n",
       "    }\n",
       "\n",
       "    .dataframe tbody tr th {\n",
       "        vertical-align: top;\n",
       "    }\n",
       "\n",
       "    .dataframe thead th {\n",
       "        text-align: right;\n",
       "    }\n",
       "</style>\n",
       "<table border=\"1\" class=\"dataframe\">\n",
       "  <thead>\n",
       "    <tr style=\"text-align: right;\">\n",
       "      <th></th>\n",
       "      <th>chrom</th>\n",
       "      <th>start</th>\n",
       "      <th>end</th>\n",
       "    </tr>\n",
       "  </thead>\n",
       "  <tbody>\n",
       "    <tr>\n",
       "      <th>0</th>\n",
       "      <td>chr7</td>\n",
       "      <td>52823164</td>\n",
       "      <td>52845080</td>\n",
       "    </tr>\n",
       "    <tr>\n",
       "      <th>1</th>\n",
       "      <td>chr12</td>\n",
       "      <td>87156404</td>\n",
       "      <td>87165495</td>\n",
       "    </tr>\n",
       "    <tr>\n",
       "      <th>2</th>\n",
       "      <td>chr11</td>\n",
       "      <td>51498886</td>\n",
       "      <td>51502136</td>\n",
       "    </tr>\n",
       "    <tr>\n",
       "      <th>3</th>\n",
       "      <td>chr11</td>\n",
       "      <td>120209991</td>\n",
       "      <td>120212504</td>\n",
       "    </tr>\n",
       "    <tr>\n",
       "      <th>4</th>\n",
       "      <td>chr18</td>\n",
       "      <td>38398058</td>\n",
       "      <td>38422283</td>\n",
       "    </tr>\n",
       "  </tbody>\n",
       "</table>\n",
       "</div>"
      ],
      "text/plain": [
       "   chrom      start        end\n",
       "0   chr7   52823164   52845080\n",
       "1  chr12   87156404   87165495\n",
       "2  chr11   51498886   51502136\n",
       "3  chr11  120209991  120212504\n",
       "4  chr18   38398058   38422283"
      ]
     },
     "execution_count": 29,
     "metadata": {},
     "output_type": "execute_result"
    }
   ],
   "source": [
    "# Extract locus column to save as a bedframe\n",
    "## note: the indices of this should be the same as RNA_seq_FPKM, so after mapping should be able to extract the FPKM values from there (hopefully)\n",
    "RNA_seq_bf = RNA_seq_FPKM.apply(lambda row: parseLocus(row['locus']), axis=1, result_type='expand')\n",
    "RNA_seq_bf.columns = ['chrom', 'start', 'end']\n",
    "RNA_seq_bf[0:5]\n"
   ]
  },
  {
   "cell_type": "code",
   "execution_count": 40,
   "id": "662a5270-2e89-4817-b1ba-79f47654176e",
   "metadata": {},
   "outputs": [
    {
     "data": {
      "text/html": [
       "<div>\n",
       "<style scoped>\n",
       "    .dataframe tbody tr th:only-of-type {\n",
       "        vertical-align: middle;\n",
       "    }\n",
       "\n",
       "    .dataframe tbody tr th {\n",
       "        vertical-align: top;\n",
       "    }\n",
       "\n",
       "    .dataframe thead th {\n",
       "        text-align: right;\n",
       "    }\n",
       "</style>\n",
       "<table border=\"1\" class=\"dataframe\">\n",
       "  <thead>\n",
       "    <tr style=\"text-align: right;\">\n",
       "      <th></th>\n",
       "      <th>tracking_id</th>\n",
       "      <th>locus</th>\n",
       "      <th>CTCF-AID_untreated</th>\n",
       "      <th>CTCF-AID_2days</th>\n",
       "      <th>delta</th>\n",
       "    </tr>\n",
       "  </thead>\n",
       "  <tbody>\n",
       "    <tr>\n",
       "      <th>0</th>\n",
       "      <td>0610005C13Rik</td>\n",
       "      <td>chr7:52823164-52845080</td>\n",
       "      <td>0.784511</td>\n",
       "      <td>1.040841</td>\n",
       "      <td>1.326738</td>\n",
       "    </tr>\n",
       "    <tr>\n",
       "      <th>1</th>\n",
       "      <td>0610007P14Rik</td>\n",
       "      <td>chr12:87156404-87165495</td>\n",
       "      <td>71.716133</td>\n",
       "      <td>63.412767</td>\n",
       "      <td>0.884219</td>\n",
       "    </tr>\n",
       "    <tr>\n",
       "      <th>2</th>\n",
       "      <td>0610009B22Rik</td>\n",
       "      <td>chr11:51498886-51502136</td>\n",
       "      <td>69.529333</td>\n",
       "      <td>61.336067</td>\n",
       "      <td>0.882161</td>\n",
       "    </tr>\n",
       "    <tr>\n",
       "      <th>3</th>\n",
       "      <td>0610009L18Rik</td>\n",
       "      <td>chr11:120209991-120212504</td>\n",
       "      <td>0.944842</td>\n",
       "      <td>0.905838</td>\n",
       "      <td>0.958719</td>\n",
       "    </tr>\n",
       "    <tr>\n",
       "      <th>4</th>\n",
       "      <td>0610009O20Rik</td>\n",
       "      <td>chr18:38398058-38422283</td>\n",
       "      <td>17.565900</td>\n",
       "      <td>20.476800</td>\n",
       "      <td>1.165713</td>\n",
       "    </tr>\n",
       "  </tbody>\n",
       "</table>\n",
       "</div>"
      ],
      "text/plain": [
       "     tracking_id                      locus  CTCF-AID_untreated  \\\n",
       "0  0610005C13Rik     chr7:52823164-52845080            0.784511   \n",
       "1  0610007P14Rik    chr12:87156404-87165495           71.716133   \n",
       "2  0610009B22Rik    chr11:51498886-51502136           69.529333   \n",
       "3  0610009L18Rik  chr11:120209991-120212504            0.944842   \n",
       "4  0610009O20Rik    chr18:38398058-38422283           17.565900   \n",
       "\n",
       "   CTCF-AID_2days     delta  \n",
       "0        1.040841  1.326738  \n",
       "1       63.412767  0.884219  \n",
       "2       61.336067  0.882161  \n",
       "3        0.905838  0.958719  \n",
       "4       20.476800  1.165713  "
      ]
     },
     "execution_count": 40,
     "metadata": {},
     "output_type": "execute_result"
    }
   ],
   "source": [
    "# Group FPKM data according to change in expression from untreated to 2days of auxin treatment\n",
    "twoDay_RNAseq_change = RNA_seq_FPKM.filter(['tracking_id', 'locus', 'CTCF-AID_untreated', 'CTCF-AID_2days'], axis=1)\n",
    "twoDay_RNAseq_change['delta'] = twoDay_RNAseq_change.apply(lambda row: row['CTCF-AID_2days'] / row['CTCF-AID_untreated'], axis=1)\n",
    "\n",
    "twoDay_RNAseq_change[0:5]"
   ]
  },
  {
   "cell_type": "markdown",
   "id": "1cfb98a0-602b-4de2-ab2b-7fd9f9e7befc",
   "metadata": {},
   "source": [
    "# Visualizing relationship between differentially expressed genes and CTCF binding to the Transcription Start Site"
   ]
  },
  {
   "cell_type": "code",
   "execution_count": 41,
   "id": "0336bb27-650c-4be7-973e-6b0dfffada98",
   "metadata": {},
   "outputs": [],
   "source": [
    "# Importing TSS annotations\n",
    "tssfile = '/scratch/pokorny/genomic_annotations/refTSS_v3.3/refTSS_v3.3_human_coordinate.hg38.bed'\n",
    "\n",
    "tss_intervals = pd.read_table(tssfile, header=None, usecols=[0,1,2], names=['chrom', 'start', 'end'])"
   ]
  },
  {
   "cell_type": "markdown",
   "id": "48b1e48f-4686-43d3-b8c9-f02cbe68ddc1",
   "metadata": {},
   "source": [
    "## "
   ]
  },
  {
   "cell_type": "code",
   "execution_count": null,
   "id": "3e4a141b-97fb-4bee-8d19-67a7f186b711",
   "metadata": {},
   "outputs": [],
   "source": [
    "# mapping to RNA_seq data to TSS\n"
   ]
  },
  {
   "cell_type": "code",
   "execution_count": 55,
   "id": "e58927e5-97f4-46aa-9921-a15c01816734",
   "metadata": {},
   "outputs": [],
   "source": [
    "import numpy as np"
   ]
  },
  {
   "cell_type": "markdown",
   "id": "996ee84e-1aff-4ccd-9475-b8fa5b20b18f",
   "metadata": {},
   "source": [
    "## Getting closest TSS to regions bound by CTCF\n",
    "\n",
    "Note: this is just one of the time-points. Fig. 6(d) uses ChIp-exo data, not ChIp-seq data (so should really do this analysis with those to make the same output as figure 6.\n",
    "\n",
    "Another reason they chose ChiP-exo: https://www.nature.com/articles/s41467-018-05265-7 \n",
    "Although ChIP-seq is widely adopted in academic research, it has inherently high noise. In contrast, ChIP-exo has relatively low noise and achieves near-base pair resolution. Consequently, and unlike other genomic assays, ChIP-exo provides structural information on genome-wide binding proteins.\n",
    "- Not sure why they did ChiP-seq in the first place?"
   ]
  },
  {
   "cell_type": "code",
   "execution_count": 32,
   "id": "f680b5ec-f3c6-4f16-8652-8a136cf1d1a1",
   "metadata": {},
   "outputs": [
    {
     "data": {
      "text/html": [
       "<div>\n",
       "<style scoped>\n",
       "    .dataframe tbody tr th:only-of-type {\n",
       "        vertical-align: middle;\n",
       "    }\n",
       "\n",
       "    .dataframe tbody tr th {\n",
       "        vertical-align: top;\n",
       "    }\n",
       "\n",
       "    .dataframe thead th {\n",
       "        text-align: right;\n",
       "    }\n",
       "</style>\n",
       "<table border=\"1\" class=\"dataframe\">\n",
       "  <thead>\n",
       "    <tr style=\"text-align: right;\">\n",
       "      <th></th>\n",
       "      <th>chrom_ctcf</th>\n",
       "      <th>start_ctcf</th>\n",
       "      <th>end_ctcf</th>\n",
       "      <th>name_ctcf</th>\n",
       "      <th>score_ctcf</th>\n",
       "      <th>strand_ctcf</th>\n",
       "      <th>chrom_tss</th>\n",
       "      <th>start_tss</th>\n",
       "      <th>end_tss</th>\n",
       "      <th>distance</th>\n",
       "    </tr>\n",
       "  </thead>\n",
       "  <tbody>\n",
       "    <tr>\n",
       "      <th>0</th>\n",
       "      <td>chr1</td>\n",
       "      <td>4322655</td>\n",
       "      <td>4322855</td>\n",
       "      <td>NaN</td>\n",
       "      <td>NaN</td>\n",
       "      <td>NaN</td>\n",
       "      <td>chr1</td>\n",
       "      <td>4365720</td>\n",
       "      <td>4365723</td>\n",
       "      <td>42865</td>\n",
       "    </tr>\n",
       "    <tr>\n",
       "      <th>1</th>\n",
       "      <td>chr1</td>\n",
       "      <td>4336363</td>\n",
       "      <td>4336563</td>\n",
       "      <td>NaN</td>\n",
       "      <td>NaN</td>\n",
       "      <td>NaN</td>\n",
       "      <td>chr1</td>\n",
       "      <td>4365720</td>\n",
       "      <td>4365723</td>\n",
       "      <td>29157</td>\n",
       "    </tr>\n",
       "    <tr>\n",
       "      <th>2</th>\n",
       "      <td>chr1</td>\n",
       "      <td>4758529</td>\n",
       "      <td>4758729</td>\n",
       "      <td>NaN</td>\n",
       "      <td>NaN</td>\n",
       "      <td>NaN</td>\n",
       "      <td>chr1</td>\n",
       "      <td>4767093</td>\n",
       "      <td>4767108</td>\n",
       "      <td>8364</td>\n",
       "    </tr>\n",
       "    <tr>\n",
       "      <th>3</th>\n",
       "      <td>chr1</td>\n",
       "      <td>4760048</td>\n",
       "      <td>4760248</td>\n",
       "      <td>NaN</td>\n",
       "      <td>NaN</td>\n",
       "      <td>NaN</td>\n",
       "      <td>chr1</td>\n",
       "      <td>4767093</td>\n",
       "      <td>4767108</td>\n",
       "      <td>6845</td>\n",
       "    </tr>\n",
       "  </tbody>\n",
       "</table>\n",
       "</div>"
      ],
      "text/plain": [
       "  chrom_ctcf  start_ctcf  end_ctcf  name_ctcf  score_ctcf  strand_ctcf  \\\n",
       "0       chr1     4322655   4322855        NaN         NaN          NaN   \n",
       "1       chr1     4336363   4336563        NaN         NaN          NaN   \n",
       "2       chr1     4758529   4758729        NaN         NaN          NaN   \n",
       "3       chr1     4760048   4760248        NaN         NaN          NaN   \n",
       "\n",
       "  chrom_tss  start_tss  end_tss  distance  \n",
       "0      chr1    4365720  4365723     42865  \n",
       "1      chr1    4365720  4365723     29157  \n",
       "2      chr1    4767093  4767108      8364  \n",
       "3      chr1    4767093  4767108      6845  "
      ]
     },
     "execution_count": 32,
     "metadata": {},
     "output_type": "execute_result"
    }
   ],
   "source": [
    "# Getting genomic distances for CTCF-bound genes in either CTCF or WT (after 2 days of auxin treatment)\n",
    "closest_ctcf = bioframe.closest(ctcf_auxin2days, tss_intervals, suffixes=('_ctcf','_tss'))\n",
    "closest_wt = bioframe.closest(wt_auxin2days, tss_intervals, suffixes=('_wt', '_tss'))\n",
    "\n",
    "closest_ctcf[0:4]"
   ]
  },
  {
   "cell_type": "code",
   "execution_count": 71,
   "id": "4c820e85-cd6d-462d-8f1d-94a97b440be4",
   "metadata": {},
   "outputs": [
    {
     "data": {
      "text/plain": [
       "Text(0, 0.5, 'Number of transcripts detected')"
      ]
     },
     "execution_count": 71,
     "metadata": {},
     "output_type": "execute_result"
    },
    {
     "data": {
      "image/png": "[encoded data removed]",
      "text/plain": [
       "<Figure size 432x288 with 1 Axes>"
      ]
     },
     "metadata": {
      "needs_background": "light"
     },
     "output_type": "display_data"
    }
   ],
   "source": [
    "chr1_ctcf_data = closest_ctcf[closest_ctcf['chrom_ctcf']=='chr1']['distance']\n",
    "\n",
    "MIN, MAX = 10.0, 1000000.0\n",
    "\n",
    "plt.figure()\n",
    "plt.hist(chr1_ctcf_data, bins = 10 ** np.linspace(np.log10(MIN), np.log10(MAX), 50))\n",
    "plt.gca().set_xscale(\"log\")\n",
    "plt.title('Histogram for distance of genes up-regulated by CTCF across distance from TSS')\n",
    "plt.xlabel('logarithmic distance from TSS')\n",
    "plt.ylabel('Number of transcripts detected')"
   ]
  },
  {
   "cell_type": "code",
   "execution_count": 72,
   "id": "fa4df48c-3976-4085-beb4-3f9769649222",
   "metadata": {},
   "outputs": [
    {
     "data": {
      "text/plain": [
       "Text(0, 0.5, 'Number of transcripts detected')"
      ]
     },
     "execution_count": 72,
     "metadata": {},
     "output_type": "execute_result"
    },
    {
     "data": {
      "image/png": "[encoded data removed]",
      "text/plain": [
       "<Figure size 432x288 with 1 Axes>"
      ]
     },
     "metadata": {
      "needs_background": "light"
     },
     "output_type": "display_data"
    }
   ],
   "source": [
    "chr1_wt_data = closest_wt[closest_wt['chrom_wt']=='chr1']['distance']\n",
    "\n",
    "plt.figure()\n",
    "plt.hist(chr1_wt_data, bins = 10 ** np.linspace(np.log10(MIN), np.log10(MAX), 50))\n",
    "plt.gca().set_xscale(\"log\")\n",
    "plt.title('Histogram for distance of genes down-regulated by CTCF across distance from TSS')\n",
    "plt.xlabel('logarithmic distance from TSS')\n",
    "plt.ylabel('Number of transcripts detected')"
   ]
  },
  {
   "cell_type": "markdown",
   "id": "86e258d7-4ee1-4003-8dc5-17c71b579f95",
   "metadata": {},
   "source": [
    "# Todo/ Up Next\n",
    "\n",
    "* Get -cohesin RNAseq data and compare to -CTCF\n",
    "* download Nora2017 in supTable 4 and extract the positions from the excel file, look at the distances between those and CTCF.\n",
    "* Replicate Nora2017 Fig. 6c-d: \n",
    "** 1. Fig 6c --> need to download annotation for CTCF binding sites on top to recreate this (look into Smc1a HiChIP loop anchors \"Gene misregulated upon CTCF depletion are more often found close to Smc1a HiChIP loop anchors than expected by chance. See STAR Methods for statistical details\")\n",
    "** 2. Fig. 6d --> need to download enhancer annotation"
   ]
  },
  {
   "cell_type": "markdown",
   "id": "23a9c6d4-e3a2-4ca0-9d87-2e059d36f46a",
   "metadata": {},
   "source": [
    "# For fun, attempted mapping shared vs exclusive genes per TAD regions (failed attempt)"
   ]
  },
  {
   "cell_type": "code",
   "execution_count": null,
   "id": "fa459207-f2de-4144-9817-a6f61113b78b",
   "metadata": {},
   "outputs": [],
   "source": [
    "# downloaded regions from Dixon 2012, GSE35156\n",
    "## note: nevermind, I think trying to load this with pandas kept crashing the kernel? The file has 120423486 rows :0\n",
    "\n",
    "# f = '/scratch/pokorny/Dixon_2012/GSE35156_GSM862723_hESC_HindIII_HiC.nodup.summary.txt'\n",
    "\n",
    "# boundary_regions = pd.read_table(f)\n",
    "# boundary_regions[0:10]"
   ]
  },
  {
   "cell_type": "markdown",
   "id": "06966eea-a8c1-4833-a9bb-4d443769c339",
   "metadata": {
    "tags": []
   },
   "source": [
    "# Questions: \n",
    " * Does this mean that 13977 genes had gained expression by inducing CTCF-degradation? \n",
    " ** Why? (todo: Re-read Nora to see what they had to say about these)\n",
    " * Is there a better way to display these as aggregate data?\n",
    " ** I thought maybe displaying a histogram of - vs + genes, but had trouble figuring an interval to measuring the values over (I thought TAD boundaries, but wouldn't load). "
   ]
  },
  {
   "cell_type": "code",
   "execution_count": null,
   "id": "c8cc5963-e1b5-421f-b323-3921b331bece",
   "metadata": {},
   "outputs": [],
   "source": []
  },
  {
   "cell_type": "code",
   "execution_count": null,
   "id": "6f6821d9-7b37-42f8-9b75-55616b191c82",
   "metadata": {},
   "outputs": [],
   "source": []
  }
 ],
 "metadata": {
  "kernelspec": {
   "display_name": "Bioframe Env",
   "language": "python",
   "name": "bioenv"
  },
  "language_info": {
   "codemirror_mode": {
    "name": "ipython",
    "version": 3
   },
   "file_extension": ".py",
   "mimetype": "text/x-python",
   "name": "python",
   "nbconvert_exporter": "python",
   "pygments_lexer": "ipython3",
   "version": "3.9.7"
  }
 },
 "nbformat": 4,
 "nbformat_minor": 5
}
