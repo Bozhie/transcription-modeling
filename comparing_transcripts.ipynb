{
 "cells": [
  {
   "cell_type": "code",
   "execution_count": 15,
   "id": "fe8499c8-1e21-43d8-bdc8-847dd52deeb0",
   "metadata": {},
   "outputs": [],
   "source": [
    "import bioframe\n",
    "import pandas as pd\n",
    "import requests\n",
    "import matplotlib.pyplot as plt"
   ]
  },
  {
   "cell_type": "code",
   "execution_count": 4,
   "id": "7942f6e2-9e4f-4600-aa0b-fe05e5afa792",
   "metadata": {},
   "outputs": [],
   "source": [
    "CTCF_ChIP_seq_CTCF_AID_auxin2days_rep1 = '/scratch/pokorny/Elphege_2017/GSM2609186_CTCF_ChIP-seq_CTCF-AID_auxin2days_rep1_ENC125_Peaks.bed'\n",
    "CTCF_ChIP_exo_WT_untagged_auxin2days_rep1 = '/scratch/pokorny/Elphege_2017/GSM2609196_CTCF_ChIP-exo_WT-untagged_auxin2days_rep1_ENC2_Peaks.bed'\n",
    "\n",
    "# Read the files into tables\n",
    "ctcf_auxin2days = bioframe.read_table(CTCF_ChIP_seq_CTCF_AID_auxin2days_rep1, schema='bed')\n",
    "wt_auxin2days = bioframe.read_table(CTCF_ChIP_exo_WT_untagged_auxin2days_rep1, schema='bed')"
   ]
  },
  {
   "cell_type": "code",
   "execution_count": 6,
   "id": "1d3abb98-4080-4329-bd42-afe137144f19",
   "metadata": {},
   "outputs": [
    {
     "data": {
      "text/html": [
       "<div>\n",
       "<style scoped>\n",
       "    .dataframe tbody tr th:only-of-type {\n",
       "        vertical-align: middle;\n",
       "    }\n",
       "\n",
       "    .dataframe tbody tr th {\n",
       "        vertical-align: top;\n",
       "    }\n",
       "\n",
       "    .dataframe thead th {\n",
       "        text-align: right;\n",
       "    }\n",
       "</style>\n",
       "<table border=\"1\" class=\"dataframe\">\n",
       "  <thead>\n",
       "    <tr style=\"text-align: right;\">\n",
       "      <th></th>\n",
       "      <th>chrom</th>\n",
       "      <th>start</th>\n",
       "      <th>end</th>\n",
       "      <th>name</th>\n",
       "      <th>score</th>\n",
       "      <th>strand</th>\n",
       "    </tr>\n",
       "  </thead>\n",
       "  <tbody>\n",
       "    <tr>\n",
       "      <th>0</th>\n",
       "      <td>chr1</td>\n",
       "      <td>4322655</td>\n",
       "      <td>4322855</td>\n",
       "      <td>NaN</td>\n",
       "      <td>NaN</td>\n",
       "      <td>NaN</td>\n",
       "    </tr>\n",
       "    <tr>\n",
       "      <th>1</th>\n",
       "      <td>chr1</td>\n",
       "      <td>4336363</td>\n",
       "      <td>4336563</td>\n",
       "      <td>NaN</td>\n",
       "      <td>NaN</td>\n",
       "      <td>NaN</td>\n",
       "    </tr>\n",
       "    <tr>\n",
       "      <th>2</th>\n",
       "      <td>chr1</td>\n",
       "      <td>4758529</td>\n",
       "      <td>4758729</td>\n",
       "      <td>NaN</td>\n",
       "      <td>NaN</td>\n",
       "      <td>NaN</td>\n",
       "    </tr>\n",
       "    <tr>\n",
       "      <th>3</th>\n",
       "      <td>chr1</td>\n",
       "      <td>4760048</td>\n",
       "      <td>4760248</td>\n",
       "      <td>NaN</td>\n",
       "      <td>NaN</td>\n",
       "      <td>NaN</td>\n",
       "    </tr>\n",
       "    <tr>\n",
       "      <th>4</th>\n",
       "      <td>chr1</td>\n",
       "      <td>6408056</td>\n",
       "      <td>6408256</td>\n",
       "      <td>NaN</td>\n",
       "      <td>NaN</td>\n",
       "      <td>NaN</td>\n",
       "    </tr>\n",
       "  </tbody>\n",
       "</table>\n",
       "</div>"
      ],
      "text/plain": [
       "  chrom    start      end  name  score  strand\n",
       "0  chr1  4322655  4322855   NaN    NaN     NaN\n",
       "1  chr1  4336363  4336563   NaN    NaN     NaN\n",
       "2  chr1  4758529  4758729   NaN    NaN     NaN\n",
       "3  chr1  4760048  4760248   NaN    NaN     NaN\n",
       "4  chr1  6408056  6408256   NaN    NaN     NaN"
      ]
     },
     "execution_count": 6,
     "metadata": {},
     "output_type": "execute_result"
    }
   ],
   "source": [
    "ctcf_auxin2days[0:5]"
   ]
  },
  {
   "cell_type": "code",
   "execution_count": 7,
   "id": "07b11c63-969e-4442-b577-83461b6a3e92",
   "metadata": {},
   "outputs": [
    {
     "data": {
      "text/html": [
       "<div>\n",
       "<style scoped>\n",
       "    .dataframe tbody tr th:only-of-type {\n",
       "        vertical-align: middle;\n",
       "    }\n",
       "\n",
       "    .dataframe tbody tr th {\n",
       "        vertical-align: top;\n",
       "    }\n",
       "\n",
       "    .dataframe thead th {\n",
       "        text-align: right;\n",
       "    }\n",
       "</style>\n",
       "<table border=\"1\" class=\"dataframe\">\n",
       "  <thead>\n",
       "    <tr style=\"text-align: right;\">\n",
       "      <th></th>\n",
       "      <th>chrom</th>\n",
       "      <th>start</th>\n",
       "      <th>end</th>\n",
       "      <th>name</th>\n",
       "      <th>score</th>\n",
       "      <th>strand</th>\n",
       "    </tr>\n",
       "  </thead>\n",
       "  <tbody>\n",
       "    <tr>\n",
       "      <th>0</th>\n",
       "      <td>chr1</td>\n",
       "      <td>3002702</td>\n",
       "      <td>3002902</td>\n",
       "      <td>NaN</td>\n",
       "      <td>NaN</td>\n",
       "      <td>NaN</td>\n",
       "    </tr>\n",
       "    <tr>\n",
       "      <th>1</th>\n",
       "      <td>chr1</td>\n",
       "      <td>3053590</td>\n",
       "      <td>3053790</td>\n",
       "      <td>NaN</td>\n",
       "      <td>NaN</td>\n",
       "      <td>NaN</td>\n",
       "    </tr>\n",
       "    <tr>\n",
       "      <th>2</th>\n",
       "      <td>chr1</td>\n",
       "      <td>3107612</td>\n",
       "      <td>3107812</td>\n",
       "      <td>NaN</td>\n",
       "      <td>NaN</td>\n",
       "      <td>NaN</td>\n",
       "    </tr>\n",
       "    <tr>\n",
       "      <th>3</th>\n",
       "      <td>chr1</td>\n",
       "      <td>3278540</td>\n",
       "      <td>3278740</td>\n",
       "      <td>NaN</td>\n",
       "      <td>NaN</td>\n",
       "      <td>NaN</td>\n",
       "    </tr>\n",
       "    <tr>\n",
       "      <th>4</th>\n",
       "      <td>chr1</td>\n",
       "      <td>3315378</td>\n",
       "      <td>3315578</td>\n",
       "      <td>NaN</td>\n",
       "      <td>NaN</td>\n",
       "      <td>NaN</td>\n",
       "    </tr>\n",
       "  </tbody>\n",
       "</table>\n",
       "</div>"
      ],
      "text/plain": [
       "  chrom    start      end  name  score  strand\n",
       "0  chr1  3002702  3002902   NaN    NaN     NaN\n",
       "1  chr1  3053590  3053790   NaN    NaN     NaN\n",
       "2  chr1  3107612  3107812   NaN    NaN     NaN\n",
       "3  chr1  3278540  3278740   NaN    NaN     NaN\n",
       "4  chr1  3315378  3315578   NaN    NaN     NaN"
      ]
     },
     "execution_count": 7,
     "metadata": {},
     "output_type": "execute_result"
    }
   ],
   "source": [
    "wt_auxin2days[0:5]"
   ]
  },
  {
   "cell_type": "markdown",
   "id": "9c88d60a-789b-4458-a0ee-c1ffbcd13a0d",
   "metadata": {},
   "source": [
    "# Creating summary of these files\n",
    "\n",
    "## Counting number of chromosomes represented, how many peaks in each chromosome, genomic intervals between each"
   ]
  },
  {
   "cell_type": "code",
   "execution_count": 8,
   "id": "ff4dd14c-7c99-45e0-86be-8a1004d83911",
   "metadata": {},
   "outputs": [
    {
     "name": "stdout",
     "output_type": "stream",
     "text": [
      "Number of chromosomes represented by data: 20\n",
      "Chromosomes: \n",
      "chr1 chr2 chr3 chr4 chr5 chr6 chr7 chr8 chr9 chrX chr10 chr11 chr12 chr13 chr14 chr15 chr16 chr17 chr18 chr19\n"
     ]
    }
   ],
   "source": [
    "# counting unique values for chromosome column\n",
    "print(\"Number of chromosomes represented by data: \" + str(pd.unique(ctcf_auxin2days['chrom']).size))\n",
    "\n",
    "print(\"Chromosomes: \")\n",
    "print(*pd.unique(ctcf_auxin2days['chrom']))"
   ]
  },
  {
   "cell_type": "markdown",
   "id": "bfb99805-f21c-4b38-b15f-770301968893",
   "metadata": {},
   "source": [
    "## Comparing transcripts present in WT to CTCF-knockout\n",
    "\n"
   ]
  },
  {
   "cell_type": "code",
   "execution_count": 9,
   "id": "221ce1c6-646e-4d98-b3a5-52723b89c859",
   "metadata": {},
   "outputs": [],
   "source": [
    "overlap = bioframe.overlap(ctcf_auxin2days,wt_auxin2days, suffixes=('_ctcf','_wt'))"
   ]
  },
  {
   "cell_type": "code",
   "execution_count": null,
   "id": "398daf12-42e1-41d0-b910-21784b25e756",
   "metadata": {},
   "outputs": [],
   "source": [
    "wt_exclusive = bioframe.subtract(wt_auxin2days, ctcf_auxin2days)\n",
    "\n",
    "ctcf_exclusive = bioframe.subtract(ctcf_auxin2days, wt_auxin2days)"
   ]
  },
  {
   "cell_type": "code",
   "execution_count": 78,
   "id": "1c10602f-53d9-488d-a5ee-9e557ebd64d5",
   "metadata": {},
   "outputs": [
    {
     "name": "stdout",
     "output_type": "stream",
     "text": [
      "Number of shared regions: 19876\n",
      "Number of regions in WT only: 117797\n",
      "Number of regions in -CTCF only: 13977\n"
     ]
    },
    {
     "data": {
      "text/plain": [
       "<function matplotlib.pyplot.show(close=None, block=None)>"
      ]
     },
     "execution_count": 78,
     "metadata": {},
     "output_type": "execute_result"
    },
    {
     "data": {
      "image/png": "[encoded data removed]",
      "text/plain": [
       "<Figure size 432x288 with 1 Axes>"
      ]
     },
     "metadata": {
      "needs_background": "light"
     },
     "output_type": "display_data"
    }
   ],
   "source": [
    "print('Number of shared regions: {}'.format(len(overlap)))\n",
    "print('Number of regions in WT only: {}'.format(len(wt_exclusive)))\n",
    "print('Number of regions in -CTCF only: {}'.format(len(ctcf_exclusive)))\n",
    "\n",
    "plt.bar(0, len(overlap), width=0.8)\n",
    "plt.bar(1, len(wt_exclusive), width=0.8)\n",
    "plt.bar(2, len(ctcf_exclusive), width=0.8)\n",
    "plt.title('Number of genes expressed by both, by WT only, and by -CTCF only')\n",
    "\n",
    "plt.show"
   ]
  },
  {
   "cell_type": "code",
   "execution_count": 79,
   "id": "79ad207a-f47f-469b-88ba-dae82203e6cd",
   "metadata": {},
   "outputs": [
    {
     "ename": "NameError",
     "evalue": "name 'df1' is not defined",
     "output_type": "error",
     "traceback": [
      "\u001b[0;31m---------------------------------------------------------------------------\u001b[0m",
      "\u001b[0;31mNameError\u001b[0m                                 Traceback (most recent call last)",
      "\u001b[0;32m/tmp/SLURM_6166454/ipykernel_26610/2942624836.py\u001b[0m in \u001b[0;36m<module>\u001b[0;34m\u001b[0m\n\u001b[0;32m----> 1\u001b[0;31m \u001b[0mcount_overlap\u001b[0m \u001b[0;34m=\u001b[0m \u001b[0mbioframe\u001b[0m\u001b[0;34m.\u001b[0m\u001b[0moverlap\u001b[0m\u001b[0;34m(\u001b[0m\u001b[0mdf1\u001b[0m\u001b[0;34m,\u001b[0m \u001b[0mdf2\u001b[0m\u001b[0;34m,\u001b[0m \u001b[0mhow\u001b[0m\u001b[0;34m=\u001b[0m\u001b[0;34m'inner'\u001b[0m\u001b[0;34m,\u001b[0m \u001b[0msuffixes\u001b[0m\u001b[0;34m=\u001b[0m\u001b[0;34m(\u001b[0m\u001b[0;34m'_1'\u001b[0m\u001b[0;34m,\u001b[0m\u001b[0;34m'_2'\u001b[0m\u001b[0;34m)\u001b[0m\u001b[0;34m)\u001b[0m\u001b[0;34m.\u001b[0m\u001b[0mcount\u001b[0m\u001b[0;34m\u001b[0m\u001b[0;34m\u001b[0m\u001b[0m\n\u001b[0m\u001b[1;32m      2\u001b[0m \u001b[0;34m\u001b[0m\u001b[0m\n\u001b[1;32m      3\u001b[0m \u001b[0;31m# todo: histogram graph of number of overlapping regions between the two\u001b[0m\u001b[0;34m\u001b[0m\u001b[0;34m\u001b[0m\u001b[0m\n\u001b[1;32m      4\u001b[0m \u001b[0;31m## could also do no of overlapping regions within a set? maybe these ones with lots of overlaps are special kind of genes?\u001b[0m\u001b[0;34m\u001b[0m\u001b[0;34m\u001b[0m\u001b[0m\n",
      "\u001b[0;31mNameError\u001b[0m: name 'df1' is not defined"
     ]
    }
   ],
   "source": [
    "count_overlap = \n",
    "\n",
    "# todo: histogram graph of number of overlapping regions between the two\n",
    "## could also do no of overlapping regions within a set? maybe these ones with lots of overlaps are special kind of genes? "
   ]
  },
  {
   "cell_type": "markdown",
   "id": "06966eea-a8c1-4833-a9bb-4d443769c339",
   "metadata": {},
   "source": [
    "# Questions: \n",
    " * Does this mean that 13977 genes had gained expression by inducing CTCF-degradation? \n",
    " ** Why? (todo: Re-read Nora to see what they had to say about these)\n",
    " * Is there a better way to display these as aggregate data?\n",
    " ** I thought maybe displaying a histogram of - vs + genes, but had trouble figuring an interval to measuring the values over (I thought TAD boundaries, but wouldn't load). "
   ]
  },
  {
   "cell_type": "code",
   "execution_count": 41,
   "id": "0336bb27-650c-4be7-973e-6b0dfffada98",
   "metadata": {},
   "outputs": [
    {
     "data": {
      "text/html": [
       "<div>\n",
       "<style scoped>\n",
       "    .dataframe tbody tr th:only-of-type {\n",
       "        vertical-align: middle;\n",
       "    }\n",
       "\n",
       "    .dataframe tbody tr th {\n",
       "        vertical-align: top;\n",
       "    }\n",
       "\n",
       "    .dataframe thead th {\n",
       "        text-align: right;\n",
       "    }\n",
       "</style>\n",
       "<table border=\"1\" class=\"dataframe\">\n",
       "  <thead>\n",
       "    <tr style=\"text-align: right;\">\n",
       "      <th></th>\n",
       "      <th>chrom</th>\n",
       "      <th>start</th>\n",
       "      <th>end</th>\n",
       "    </tr>\n",
       "  </thead>\n",
       "  <tbody>\n",
       "    <tr>\n",
       "      <th>0</th>\n",
       "      <td>chr1</td>\n",
       "      <td>16013</td>\n",
       "      <td>16020</td>\n",
       "    </tr>\n",
       "    <tr>\n",
       "      <th>1</th>\n",
       "      <td>chr1</td>\n",
       "      <td>29346</td>\n",
       "      <td>29366</td>\n",
       "    </tr>\n",
       "    <tr>\n",
       "      <th>2</th>\n",
       "      <td>chr1</td>\n",
       "      <td>36521</td>\n",
       "      <td>36538</td>\n",
       "    </tr>\n",
       "    <tr>\n",
       "      <th>3</th>\n",
       "      <td>chr1</td>\n",
       "      <td>186535</td>\n",
       "      <td>186542</td>\n",
       "    </tr>\n",
       "    <tr>\n",
       "      <th>4</th>\n",
       "      <td>chr1</td>\n",
       "      <td>199862</td>\n",
       "      <td>199882</td>\n",
       "    </tr>\n",
       "    <tr>\n",
       "      <th>...</th>\n",
       "      <td>...</td>\n",
       "      <td>...</td>\n",
       "      <td>...</td>\n",
       "    </tr>\n",
       "    <tr>\n",
       "      <th>224689</th>\n",
       "      <td>chrY</td>\n",
       "      <td>26409204</td>\n",
       "      <td>26409213</td>\n",
       "    </tr>\n",
       "    <tr>\n",
       "      <th>224690</th>\n",
       "      <td>chrY</td>\n",
       "      <td>26671129</td>\n",
       "      <td>26671136</td>\n",
       "    </tr>\n",
       "    <tr>\n",
       "      <th>224691</th>\n",
       "      <td>chrY</td>\n",
       "      <td>56734794</td>\n",
       "      <td>56734819</td>\n",
       "    </tr>\n",
       "    <tr>\n",
       "      <th>224692</th>\n",
       "      <td>chrY</td>\n",
       "      <td>56827678</td>\n",
       "      <td>56827684</td>\n",
       "    </tr>\n",
       "    <tr>\n",
       "      <th>224693</th>\n",
       "      <td>chrY</td>\n",
       "      <td>56881841</td>\n",
       "      <td>56881853</td>\n",
       "    </tr>\n",
       "  </tbody>\n",
       "</table>\n",
       "<p>224694 rows × 3 columns</p>\n",
       "</div>"
      ],
      "text/plain": [
       "       chrom     start       end\n",
       "0       chr1     16013     16020\n",
       "1       chr1     29346     29366\n",
       "2       chr1     36521     36538\n",
       "3       chr1    186535    186542\n",
       "4       chr1    199862    199882\n",
       "...      ...       ...       ...\n",
       "224689  chrY  26409204  26409213\n",
       "224690  chrY  26671129  26671136\n",
       "224691  chrY  56734794  56734819\n",
       "224692  chrY  56827678  56827684\n",
       "224693  chrY  56881841  56881853\n",
       "\n",
       "[224694 rows x 3 columns]"
      ]
     },
     "metadata": {},
     "output_type": "display_data"
    },
    {
     "data": {
      "text/plain": [
       "True"
      ]
     },
     "execution_count": 41,
     "metadata": {},
     "output_type": "execute_result"
    }
   ],
   "source": [
    "# Importing TSS annotations\n",
    "tssfile = '/scratch/pokorny/genomic_annotations/refTSS_v3.3/refTSS_v3.3_human_coordinate.hg38.bed'\n",
    "\n",
    "tss_intervals = pd.read_table(tssfile, header=None, usecols=[0,1,2], names=['chrom', 'start', 'end'])\n",
    "\n",
    "display(tss_intervals)\n",
    "# turn into valid bedframe\n",
    "bioframe.is_bedframe(tss_intervals)"
   ]
  },
  {
   "cell_type": "markdown",
   "id": "1cfb98a0-602b-4de2-ab2b-7fd9f9e7befc",
   "metadata": {},
   "source": [
    "# Comparing genes differentially regulated -CTCF to TSS\n",
    "\n",
    "Note: Here, assumption is that genes present only in WT cell line transcripts (i.e. not in shared subset) are downregulated by loss of CTCF and genes present only in -CTCF cell line transcripts are upregulated by loss of CTCF."
   ]
  },
  {
   "cell_type": "code",
   "execution_count": 55,
   "id": "e58927e5-97f4-46aa-9921-a15c01816734",
   "metadata": {},
   "outputs": [],
   "source": [
    "import numpy as np"
   ]
  },
  {
   "cell_type": "code",
   "execution_count": 53,
   "id": "f680b5ec-f3c6-4f16-8652-8a136cf1d1a1",
   "metadata": {},
   "outputs": [
    {
     "data": {
      "text/html": [
       "<div>\n",
       "<style scoped>\n",
       "    .dataframe tbody tr th:only-of-type {\n",
       "        vertical-align: middle;\n",
       "    }\n",
       "\n",
       "    .dataframe tbody tr th {\n",
       "        vertical-align: top;\n",
       "    }\n",
       "\n",
       "    .dataframe thead th {\n",
       "        text-align: right;\n",
       "    }\n",
       "</style>\n",
       "<table border=\"1\" class=\"dataframe\">\n",
       "  <thead>\n",
       "    <tr style=\"text-align: right;\">\n",
       "      <th></th>\n",
       "      <th>chrom_wt</th>\n",
       "      <th>start_wt</th>\n",
       "      <th>end_wt</th>\n",
       "      <th>name_wt</th>\n",
       "      <th>score_wt</th>\n",
       "      <th>strand_wt</th>\n",
       "      <th>chrom_tss</th>\n",
       "      <th>start_tss</th>\n",
       "      <th>end_tss</th>\n",
       "      <th>distance</th>\n",
       "    </tr>\n",
       "  </thead>\n",
       "  <tbody>\n",
       "    <tr>\n",
       "      <th>9</th>\n",
       "      <td>chr1</td>\n",
       "      <td>3530904</td>\n",
       "      <td>3531104</td>\n",
       "      <td>NaN</td>\n",
       "      <td>NaN</td>\n",
       "      <td>NaN</td>\n",
       "      <td>chr1</td>\n",
       "      <td>3531337</td>\n",
       "      <td>3531346</td>\n",
       "      <td>233</td>\n",
       "    </tr>\n",
       "    <tr>\n",
       "      <th>15</th>\n",
       "      <td>chr1</td>\n",
       "      <td>3921347</td>\n",
       "      <td>3921547</td>\n",
       "      <td>NaN</td>\n",
       "      <td>NaN</td>\n",
       "      <td>NaN</td>\n",
       "      <td>chr1</td>\n",
       "      <td>3922228</td>\n",
       "      <td>3922231</td>\n",
       "      <td>681</td>\n",
       "    </tr>\n",
       "    <tr>\n",
       "      <th>67</th>\n",
       "      <td>chr1</td>\n",
       "      <td>5118557</td>\n",
       "      <td>5118757</td>\n",
       "      <td>NaN</td>\n",
       "      <td>NaN</td>\n",
       "      <td>NaN</td>\n",
       "      <td>chr1</td>\n",
       "      <td>5118809</td>\n",
       "      <td>5118812</td>\n",
       "      <td>52</td>\n",
       "    </tr>\n",
       "    <tr>\n",
       "      <th>78</th>\n",
       "      <td>chr1</td>\n",
       "      <td>5373991</td>\n",
       "      <td>5374191</td>\n",
       "      <td>NaN</td>\n",
       "      <td>NaN</td>\n",
       "      <td>NaN</td>\n",
       "      <td>chr1</td>\n",
       "      <td>5373358</td>\n",
       "      <td>5373359</td>\n",
       "      <td>632</td>\n",
       "    </tr>\n",
       "    <tr>\n",
       "      <th>84</th>\n",
       "      <td>chr1</td>\n",
       "      <td>5829466</td>\n",
       "      <td>5829666</td>\n",
       "      <td>NaN</td>\n",
       "      <td>NaN</td>\n",
       "      <td>NaN</td>\n",
       "      <td>chr1</td>\n",
       "      <td>5830609</td>\n",
       "      <td>5830613</td>\n",
       "      <td>943</td>\n",
       "    </tr>\n",
       "    <tr>\n",
       "      <th>...</th>\n",
       "      <td>...</td>\n",
       "      <td>...</td>\n",
       "      <td>...</td>\n",
       "      <td>...</td>\n",
       "      <td>...</td>\n",
       "      <td>...</td>\n",
       "      <td>...</td>\n",
       "      <td>...</td>\n",
       "      <td>...</td>\n",
       "      <td>...</td>\n",
       "    </tr>\n",
       "    <tr>\n",
       "      <th>117312</th>\n",
       "      <td>chrX</td>\n",
       "      <td>154440278</td>\n",
       "      <td>154440478</td>\n",
       "      <td>NaN</td>\n",
       "      <td>NaN</td>\n",
       "      <td>NaN</td>\n",
       "      <td>chrX</td>\n",
       "      <td>154440344</td>\n",
       "      <td>154440365</td>\n",
       "      <td>0</td>\n",
       "    </tr>\n",
       "    <tr>\n",
       "      <th>117314</th>\n",
       "      <td>chrX</td>\n",
       "      <td>154479843</td>\n",
       "      <td>154480043</td>\n",
       "      <td>NaN</td>\n",
       "      <td>NaN</td>\n",
       "      <td>NaN</td>\n",
       "      <td>chrX</td>\n",
       "      <td>154479253</td>\n",
       "      <td>154479291</td>\n",
       "      <td>552</td>\n",
       "    </tr>\n",
       "    <tr>\n",
       "      <th>117316</th>\n",
       "      <td>chrX</td>\n",
       "      <td>154515521</td>\n",
       "      <td>154515721</td>\n",
       "      <td>NaN</td>\n",
       "      <td>NaN</td>\n",
       "      <td>NaN</td>\n",
       "      <td>chrX</td>\n",
       "      <td>154516110</td>\n",
       "      <td>154516168</td>\n",
       "      <td>389</td>\n",
       "    </tr>\n",
       "    <tr>\n",
       "      <th>117351</th>\n",
       "      <td>chrX</td>\n",
       "      <td>155880167</td>\n",
       "      <td>155880367</td>\n",
       "      <td>NaN</td>\n",
       "      <td>NaN</td>\n",
       "      <td>NaN</td>\n",
       "      <td>chrX</td>\n",
       "      <td>155881307</td>\n",
       "      <td>155881384</td>\n",
       "      <td>940</td>\n",
       "    </tr>\n",
       "    <tr>\n",
       "      <th>117766</th>\n",
       "      <td>chrY</td>\n",
       "      <td>2788407</td>\n",
       "      <td>2788607</td>\n",
       "      <td>NaN</td>\n",
       "      <td>NaN</td>\n",
       "      <td>NaN</td>\n",
       "      <td>chrY</td>\n",
       "      <td>2787676</td>\n",
       "      <td>2787687</td>\n",
       "      <td>720</td>\n",
       "    </tr>\n",
       "  </tbody>\n",
       "</table>\n",
       "<p>7588 rows × 10 columns</p>\n",
       "</div>"
      ],
      "text/plain": [
       "       chrom_wt   start_wt     end_wt  name_wt  score_wt  strand_wt chrom_tss  \\\n",
       "9          chr1    3530904    3531104      NaN       NaN        NaN      chr1   \n",
       "15         chr1    3921347    3921547      NaN       NaN        NaN      chr1   \n",
       "67         chr1    5118557    5118757      NaN       NaN        NaN      chr1   \n",
       "78         chr1    5373991    5374191      NaN       NaN        NaN      chr1   \n",
       "84         chr1    5829466    5829666      NaN       NaN        NaN      chr1   \n",
       "...         ...        ...        ...      ...       ...        ...       ...   \n",
       "117312     chrX  154440278  154440478      NaN       NaN        NaN      chrX   \n",
       "117314     chrX  154479843  154480043      NaN       NaN        NaN      chrX   \n",
       "117316     chrX  154515521  154515721      NaN       NaN        NaN      chrX   \n",
       "117351     chrX  155880167  155880367      NaN       NaN        NaN      chrX   \n",
       "117766     chrY    2788407    2788607      NaN       NaN        NaN      chrY   \n",
       "\n",
       "        start_tss    end_tss  distance  \n",
       "9         3531337    3531346       233  \n",
       "15        3922228    3922231       681  \n",
       "67        5118809    5118812        52  \n",
       "78        5373358    5373359       632  \n",
       "84        5830609    5830613       943  \n",
       "...           ...        ...       ...  \n",
       "117312  154440344  154440365         0  \n",
       "117314  154479253  154479291       552  \n",
       "117316  154516110  154516168       389  \n",
       "117351  155881307  155881384       940  \n",
       "117766    2787676    2787687       720  \n",
       "\n",
       "[7588 rows x 10 columns]"
      ]
     },
     "metadata": {},
     "output_type": "display_data"
    },
    {
     "name": "stdout",
     "output_type": "stream",
     "text": [
      "Percentage of genes downregulated by CTCF loss within 1000bp of TSS:\n",
      "0.10735983655497734\n",
      "Percentage of genes upregulated by CTCF loss within 1000bp of TSS:\n",
      "0.10243018291955833\n"
     ]
    }
   ],
   "source": [
    "# Comparing genes upregulated in -CTCF to TSS\n",
    "closest_ctcf = bioframe.closest(ctcf_exclusive, tss_intervals, suffixes=('_ctcf','_tss'))\n",
    "closest_wt = bioframe.closest(wt_exclusive, tss_intervals, suffixes=('_wt', '_tss'))\n",
    "display(closest_wt[closest_wt['distance']<1000])\n",
    "print('Percentage of genes downregulated by CTCF loss within 1000bp of TSS:')\n",
    "print(closest_wt[closest_wt['distance']<1000].size / wt_exclusive.size)\n",
    "print('Percentage of genes upregulated by CTCF loss within 1000bp of TSS:')\n",
    "print(closest_ctcf[closest_ctcf['distance']<1000].size / ctcf_exclusive.size)"
   ]
  },
  {
   "cell_type": "code",
   "execution_count": 71,
   "id": "4c820e85-cd6d-462d-8f1d-94a97b440be4",
   "metadata": {},
   "outputs": [
    {
     "data": {
      "text/plain": [
       "Text(0, 0.5, 'Number of transcripts detected')"
      ]
     },
     "execution_count": 71,
     "metadata": {},
     "output_type": "execute_result"
    },
    {
     "data": {
      "image/png": "[encoded data removed]",
      "text/plain": [
       "<Figure size 432x288 with 1 Axes>"
      ]
     },
     "metadata": {
      "needs_background": "light"
     },
     "output_type": "display_data"
    }
   ],
   "source": [
    "chr1_ctcf_data = closest_ctcf[closest_ctcf['chrom_ctcf']=='chr1']['distance']\n",
    "\n",
    "MIN, MAX = 10.0, 1000000.0\n",
    "\n",
    "plt.figure()\n",
    "plt.hist(chr1_ctcf_data, bins = 10 ** np.linspace(np.log10(MIN), np.log10(MAX), 50))\n",
    "plt.gca().set_xscale(\"log\")\n",
    "plt.title('Histogram for distance of genes up-regulated by CTCF across distance from TSS')\n",
    "plt.xlabel('logarithmic distance from TSS')\n",
    "plt.ylabel('Number of transcripts detected')"
   ]
  },
  {
   "cell_type": "code",
   "execution_count": 72,
   "id": "fa4df48c-3976-4085-beb4-3f9769649222",
   "metadata": {},
   "outputs": [
    {
     "data": {
      "text/plain": [
       "Text(0, 0.5, 'Number of transcripts detected')"
      ]
     },
     "execution_count": 72,
     "metadata": {},
     "output_type": "execute_result"
    },
    {
     "data": {
      "image/png": "[encoded data removed]",
      "text/plain": [
       "<Figure size 432x288 with 1 Axes>"
      ]
     },
     "metadata": {
      "needs_background": "light"
     },
     "output_type": "display_data"
    }
   ],
   "source": [
    "chr1_wt_data = closest_wt[closest_wt['chrom_wt']=='chr1']['distance']\n",
    "\n",
    "plt.figure()\n",
    "plt.hist(chr1_wt_data, bins = 10 ** np.linspace(np.log10(MIN), np.log10(MAX), 50))\n",
    "plt.gca().set_xscale(\"log\")\n",
    "plt.title('Histogram for distance of genes down-regulated by CTCF across distance from TSS')\n",
    "plt.xlabel('logarithmic distance from TSS')\n",
    "plt.ylabel('Number of transcripts detected')"
   ]
  },
  {
   "cell_type": "markdown",
   "id": "86e258d7-4ee1-4003-8dc5-17c71b579f95",
   "metadata": {},
   "source": [
    "# Todo/ Up Next\n",
    "\n",
    "* Get -cohesin RNAseq data and compare to -CTCF\n",
    "* download Nora2017 in supTable 4 and extract the positions from the excel file, look at the distances between those and CTCF.\n",
    "* Replicate Nora2017 Fig. 6c-d: \n",
    "** 1. Fig 6c --> need to download annotation for CTCF binding sites on top to recreate this (look into Smc1a HiChIP loop anchors \"Gene misregulated upon CTCF depletion are more often found close to Smc1a HiChIP loop anchors than expected by chance. See STAR Methods for statistical details\")\n",
    "** 2. Fig. 6d --> need to download enhancer annotation"
   ]
  },
  {
   "cell_type": "markdown",
   "id": "23a9c6d4-e3a2-4ca0-9d87-2e059d36f46a",
   "metadata": {},
   "source": [
    "# For fun, attempted mapping shared vs exclusive genes per TAD regions (failed attempt)"
   ]
  },
  {
   "cell_type": "code",
   "execution_count": null,
   "id": "fa459207-f2de-4144-9817-a6f61113b78b",
   "metadata": {},
   "outputs": [],
   "source": [
    "# downloaded regions from Dixon 2012, GSE35156\n",
    "## note: nevermind, I think trying to load this with pandas kept crashing the kernel? The file has 120423486 rows :0\n",
    "\n",
    "# f = '/scratch/pokorny/Dixon_2012/GSE35156_GSM862723_hESC_HindIII_HiC.nodup.summary.txt'\n",
    "\n",
    "# boundary_regions = pd.read_table(f)\n",
    "# boundary_regions[0:10]"
   ]
  },
  {
   "cell_type": "code",
   "execution_count": null,
   "id": "c8cc5963-e1b5-421f-b323-3921b331bece",
   "metadata": {},
   "outputs": [],
   "source": []
  },
  {
   "cell_type": "code",
   "execution_count": null,
   "id": "6f6821d9-7b37-42f8-9b75-55616b191c82",
   "metadata": {},
   "outputs": [],
   "source": []
  }
 ],
 "metadata": {
  "kernelspec": {
   "display_name": "Bioframe Env",
   "language": "python",
   "name": "bioenv"
  },
  "language_info": {
   "codemirror_mode": {
    "name": "ipython",
    "version": 3
   },
   "file_extension": ".py",
   "mimetype": "text/x-python",
   "name": "python",
   "nbconvert_exporter": "python",
   "pygments_lexer": "ipython3",
   "version": "3.9.7"
  }
 },
 "nbformat": 4,
 "nbformat_minor": 5
}
