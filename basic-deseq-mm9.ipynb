{
 "cells": [
  {
   "cell_type": "markdown",
   "id": "747e6257-d147-40f8-8c30-c9debb29e6c5",
   "metadata": {},
   "source": [
    "# Checking out DESeq2 for Gene-level Differential analysis\n",
    "\n",
    "Using mm9 genome so that the results can be more directly comparable to tables produced by elphege. We can see similarities and differences in the methods used for producing data relevant to DE analysis. "
   ]
  },
  {
   "cell_type": "code",
   "execution_count": 1,
   "id": "b676fb13-65ac-4439-bea6-b4d5a6f354ea",
   "metadata": {},
   "outputs": [
    {
     "name": "stderr",
     "output_type": "stream",
     "text": [
      "Loading required package: S4Vectors\n",
      "\n",
      "Loading required package: stats4\n",
      "\n",
      "Loading required package: BiocGenerics\n",
      "\n",
      "\n",
      "Attaching package: 'BiocGenerics'\n",
      "\n",
      "\n",
      "The following objects are masked from 'package:stats':\n",
      "\n",
      "    IQR, mad, sd, var, xtabs\n",
      "\n",
      "\n",
      "The following objects are masked from 'package:base':\n",
      "\n",
      "    Filter, Find, Map, Position, Reduce, anyDuplicated, append,\n",
      "    as.data.frame, basename, cbind, colnames, dirname, do.call,\n",
      "    duplicated, eval, evalq, get, grep, grepl, intersect, is.unsorted,\n",
      "    lapply, mapply, match, mget, order, paste, pmax, pmax.int, pmin,\n",
      "    pmin.int, rank, rbind, rownames, sapply, setdiff, sort, table,\n",
      "    tapply, union, unique, unsplit, which.max, which.min\n",
      "\n",
      "\n",
      "\n",
      "Attaching package: 'S4Vectors'\n",
      "\n",
      "\n",
      "The following objects are masked from 'package:base':\n",
      "\n",
      "    I, expand.grid, unname\n",
      "\n",
      "\n",
      "Loading required package: IRanges\n",
      "\n",
      "Loading required package: GenomicRanges\n",
      "\n",
      "Loading required package: GenomeInfoDb\n",
      "\n",
      "Loading required package: SummarizedExperiment\n",
      "\n",
      "Loading required package: MatrixGenerics\n",
      "\n",
      "Loading required package: matrixStats\n",
      "\n",
      "\n",
      "Attaching package: 'MatrixGenerics'\n",
      "\n",
      "\n",
      "The following objects are masked from 'package:matrixStats':\n",
      "\n",
      "    colAlls, colAnyNAs, colAnys, colAvgsPerRowSet, colCollapse,\n",
      "    colCounts, colCummaxs, colCummins, colCumprods, colCumsums,\n",
      "    colDiffs, colIQRDiffs, colIQRs, colLogSumExps, colMadDiffs,\n",
      "    colMads, colMaxs, colMeans2, colMedians, colMins, colOrderStats,\n",
      "    colProds, colQuantiles, colRanges, colRanks, colSdDiffs, colSds,\n",
      "    colSums2, colTabulates, colVarDiffs, colVars, colWeightedMads,\n",
      "    colWeightedMeans, colWeightedMedians, colWeightedSds,\n",
      "    colWeightedVars, rowAlls, rowAnyNAs, rowAnys, rowAvgsPerColSet,\n",
      "    rowCollapse, rowCounts, rowCummaxs, rowCummins, rowCumprods,\n",
      "    rowCumsums, rowDiffs, rowIQRDiffs, rowIQRs, rowLogSumExps,\n",
      "    rowMadDiffs, rowMads, rowMaxs, rowMeans2, rowMedians, rowMins,\n",
      "    rowOrderStats, rowProds, rowQuantiles, rowRanges, rowRanks,\n",
      "    rowSdDiffs, rowSds, rowSums2, rowTabulates, rowVarDiffs, rowVars,\n",
      "    rowWeightedMads, rowWeightedMeans, rowWeightedMedians,\n",
      "    rowWeightedSds, rowWeightedVars\n",
      "\n",
      "\n",
      "Loading required package: Biobase\n",
      "\n",
      "Welcome to Bioconductor\n",
      "\n",
      "    Vignettes contain introductory material; view with\n",
      "    'browseVignettes()'. To cite Bioconductor, see\n",
      "    'citation(\"Biobase\")', and for packages 'citation(\"pkgname\")'.\n",
      "\n",
      "\n",
      "\n",
      "Attaching package: 'Biobase'\n",
      "\n",
      "\n",
      "The following object is masked from 'package:MatrixGenerics':\n",
      "\n",
      "    rowMedians\n",
      "\n",
      "\n",
      "The following objects are masked from 'package:matrixStats':\n",
      "\n",
      "    anyMissing, rowMedians\n",
      "\n",
      "\n"
     ]
    }
   ],
   "source": [
    "library(DESeq2)"
   ]
  },
  {
   "cell_type": "code",
   "execution_count": 2,
   "id": "3c73b1c1-7882-47b8-8eb7-413067ecbeed",
   "metadata": {},
   "outputs": [],
   "source": [
    "library(\"tximport\")\n",
    "library(\"rhdf5\")\n",
    "library(stringr)\n",
    "library(dplyr)"
   ]
  },
  {
   "cell_type": "code",
   "execution_count": 3,
   "id": "065d111e-146c-44fc-a180-cdfde211ba20",
   "metadata": {},
   "outputs": [],
   "source": [
    "# get location of kallisto outputs\n",
    "elphege_proj_files = \"/project/fudenber_735/GEO/nora_2017_rna-seq_SRP106652\"\n",
    "sample_id <- dir(file.path(elphege_proj_files,\"SRP106652\"))\n",
    "kal_dirs <- file.path(elphege_proj_files, \"SRP106652\", sample_id, \"kallisto-mm9\")\n",
    "files <- file.path(kal_dirs, \"abundance.h5\")\n",
    "names(files) <- str_split_fixed(files,'/',9)[,7]\n"
   ]
  },
  {
   "cell_type": "code",
   "execution_count": 4,
   "id": "2484d418-b5ae-4ff9-870c-d1b170c6f25c",
   "metadata": {},
   "outputs": [],
   "source": [
    "# load conversion between transcripts and genes\n",
    "ensembl_dir = \"/project/fudenber_735/genomes/mm9/ensembl/ensembl_relational_downloads\"\n",
    "tx2gene <- read.csv(file.path(ensembl_dir,\"biomaRt_mm9_t2g.csv\"))[,-1]"
   ]
  },
  {
   "cell_type": "code",
   "execution_count": 36,
   "id": "5f99d33e-93b5-4391-830b-ce3a6f76c42f",
   "metadata": {},
   "outputs": [],
   "source": [
    "# Getting \"Run\" and \"condition\" from Experiment Name of the SRA deposits\n",
    "sra_summary <- read.table(\n",
    "                    file.path(elphege_proj_files, \n",
    "                             \"metadata\", \"sra_result_summary.csv\"), \n",
    "                              header = TRUE, sep = \",\", stringsAsFactors=FALSE)\n",
    "\n",
    "# # Parse experiment name to get 'condition' -- str_split_fixed(string, pattern, n)\n",
    "# # also Removing replicate number so that sleuth can do some grouping\n",
    "\n",
    "conditions = data.frame(\n",
    "                condition=str_split_fixed( str_split_fixed(\n",
    "                             sra_summary$Experiment.Title,\n",
    "                             \"seq_\", 4)[,2] ,'_rep',2)[,1])\n",
    "\n",
    "sra_summary <- cbind(sra_summary,  conditions)\n",
    "    \n",
    "    \n",
    "run_info <- read.table(file.path(elphege_proj_files, \"metadata\", \"SraRunInfo.csv\"), header = TRUE, sep = \",\", stringsAsFactors=FALSE)\n",
    "\n",
    "# # merge sra_result file and sraRunInfo to get the condition\n",
    "# # (buried in 'Experiment Name' in sra_result_summary -- put in 'condition')\n",
    "sra_info_combined <- merge(run_info, sra_summary, \n",
    "                             by.x=c(\"Experiment\"),\n",
    "                             by.y=c(\"Experiment.Accession\"),\n",
    "                             all.x=TRUE)\n",
    "\n",
    "s2c <- dplyr::select(sra_info_combined, Experiment, Run, condition, Library.Strategy, Library.Selection)\n",
    "s2c <- dplyr::select(s2c, sample = Run, condition)\n",
    "s2c$condition <- gsub('-', '_', s2c$condition) # apparently R wants  of factors in the design to only have letters, numbers, '_' and '.'\n",
    "s2c$condition <- as.factor(s2c$condition)        # Convert character column to factor (not necessary, just suppresses warning below)"
   ]
  },
  {
   "cell_type": "code",
   "execution_count": 37,
   "id": "0344b9ad-5500-4841-be3a-d30dbfa6ee33",
   "metadata": {},
   "outputs": [],
   "source": [
    "s2c_untreated_vs_auxin1day <- s2c[ (s2c$condition=='CTCF_AID_untreated') | \n",
    "                               (s2c$condition=='CTCF_AID_auxin1day') , ]\n",
    "files_untreated_vs_auxin1day =   files[untreated_vs_auxin1day$sample]"
   ]
  },
  {
   "cell_type": "code",
   "execution_count": 56,
   "id": "794dbd6c-8787-432b-a587-28197bc9e7e5",
   "metadata": {},
   "outputs": [
    {
     "data": {
      "text/html": [
       "<style>\n",
       ".list-inline {list-style: none; margin:0; padding: 0}\n",
       ".list-inline>li {display: inline-block}\n",
       ".list-inline>li:not(:last-child)::after {content: \"\\00b7\"; padding: 0 .5ex}\n",
       "</style>\n",
       "<ol class=list-inline><li>CTCF_AID_untreated</li><li>CTCF_AID_auxin1day</li><li>CTCF_AID_untreated</li><li>CTCF_AID_auxin1day</li><li>CTCF_AID_untreated</li><li>CTCF_AID_auxin1day</li></ol>\n",
       "\n",
       "<details>\n",
       "\t<summary style=display:list-item;cursor:pointer>\n",
       "\t\t<strong>Levels</strong>:\n",
       "\t</summary>\n",
       "\t<style>\n",
       "\t.list-inline {list-style: none; margin:0; padding: 0}\n",
       "\t.list-inline>li {display: inline-block}\n",
       "\t.list-inline>li:not(:last-child)::after {content: \"\\00b7\"; padding: 0 .5ex}\n",
       "\t</style>\n",
       "\t<ol class=list-inline><li>'CTCF_AID_untreated'</li><li>'CTCF_AID_auxin1day'</li></ol>\n",
       "</details>"
      ],
      "text/latex": [
       "\\begin{enumerate*}\n",
       "\\item CTCF\\_AID\\_untreated\n",
       "\\item CTCF\\_AID\\_auxin1day\n",
       "\\item CTCF\\_AID\\_untreated\n",
       "\\item CTCF\\_AID\\_auxin1day\n",
       "\\item CTCF\\_AID\\_untreated\n",
       "\\item CTCF\\_AID\\_auxin1day\n",
       "\\end{enumerate*}\n",
       "\n",
       "\\emph{Levels}: \\begin{enumerate*}\n",
       "\\item 'CTCF\\_AID\\_untreated'\n",
       "\\item 'CTCF\\_AID\\_auxin1day'\n",
       "\\end{enumerate*}\n"
      ],
      "text/markdown": [
       "1. CTCF_AID_untreated\n",
       "2. CTCF_AID_auxin1day\n",
       "3. CTCF_AID_untreated\n",
       "4. CTCF_AID_auxin1day\n",
       "5. CTCF_AID_untreated\n",
       "6. CTCF_AID_auxin1day\n",
       "\n",
       "\n",
       "\n",
       "**Levels**: 1. 'CTCF_AID_untreated'\n",
       "2. 'CTCF_AID_auxin1day'\n",
       "\n",
       "\n"
      ],
      "text/plain": [
       "[1] CTCF_AID_untreated CTCF_AID_auxin1day CTCF_AID_untreated CTCF_AID_auxin1day\n",
       "[5] CTCF_AID_untreated CTCF_AID_auxin1day\n",
       "Levels: CTCF_AID_untreated CTCF_AID_auxin1day"
      ]
     },
     "metadata": {},
     "output_type": "display_data"
    }
   ],
   "source": [
    "#s2c_untreated_vs_auxin1day$condition\n",
    "s2c_untreated_vs_auxin1day$condition <-  factor(s2c_untreated_vs_auxin1day$condition,\n",
    "                                                levels = c(\"CTCF_AID_untreated\", \"CTCF_AID_auxin1day\"))\n",
    "\n",
    "## to note from DESeq2:\n",
    "# if you never tell the DESeq2 functions which level you want to compare against \n",
    "# (e.g. which level represents the control group), the comparisons will be based\n",
    "# on the alphabetical order of the levels"
   ]
  },
  {
   "cell_type": "code",
   "execution_count": 29,
   "id": "fa3a1d39-160b-4c4e-b1b3-a1421b4549c4",
   "metadata": {},
   "outputs": [
    {
     "name": "stderr",
     "output_type": "stream",
     "text": [
      "1 \n",
      "2 \n",
      "3 \n",
      "4 \n",
      "5 \n",
      "6 \n",
      "\n",
      "\n",
      "removing duplicated transcript rows from tx2gene\n",
      "\n",
      "transcripts missing from tx2gene: 47421\n",
      "\n",
      "summarizing abundance\n",
      "\n",
      "summarizing counts\n",
      "\n",
      "summarizing length\n",
      "\n",
      "summarizing inferential replicates\n",
      "\n"
     ]
    }
   ],
   "source": [
    "tx_by_genes <- tximport(\n",
    "                 files_untreated_vs_auxin1day,\n",
    "                 type = \"kallisto\", \n",
    "                 tx2gene = tx2gene, \n",
    "                 ignoreAfterBar = TRUE, \n",
    "                )\n",
    "\n",
    "# note: transcript-level loading can also be done with tximport\n",
    "#txi <- tximport( files, type=\"kallisto\", txOut=TRUE)"
   ]
  },
  {
   "cell_type": "code",
   "execution_count": 57,
   "id": "82e8ddf9-9705-4b8a-ac6b-26a46b4d445a",
   "metadata": {},
   "outputs": [
    {
     "name": "stderr",
     "output_type": "stream",
     "text": [
      "using counts and average transcript lengths from tximport\n",
      "\n"
     ]
    }
   ],
   "source": [
    "dds <- DESeqDataSetFromTximport(tx_by_genes,\n",
    "                                colData = s2c_untreated_vs_auxin1day,\n",
    "                                design = ~ condition)"
   ]
  },
  {
   "cell_type": "code",
   "execution_count": 58,
   "id": "7d78fd6d-c67c-49e1-9e7c-732eb798014d",
   "metadata": {},
   "outputs": [
    {
     "name": "stderr",
     "output_type": "stream",
     "text": [
      "estimating size factors\n",
      "\n",
      "using 'avgTxLength' from assays(dds), correcting for library size\n",
      "\n",
      "estimating dispersions\n",
      "\n",
      "gene-wise dispersion estimates\n",
      "\n",
      "mean-dispersion relationship\n",
      "\n",
      "final dispersion estimates\n",
      "\n",
      "fitting model and testing\n",
      "\n"
     ]
    }
   ],
   "source": [
    "dds <- DESeq(dds)"
   ]
  },
  {
   "cell_type": "code",
   "execution_count": 60,
   "id": "24423997-f809-4223-a7ef-525d8a03de30",
   "metadata": {},
   "outputs": [
    {
     "data": {
      "text/plain": [
       "log2 fold change (MLE): condition CTCF AID auxin1day vs CTCF AID untreated \n",
       "Wald test p-value: condition CTCF AID auxin1day vs CTCF AID untreated \n",
       "DataFrame with 3 rows and 6 columns\n",
       "                    baseMean log2FoldChange     lfcSE      stat    pvalue\n",
       "                   <numeric>      <numeric> <numeric> <numeric> <numeric>\n",
       "ENSMUSG00000000001   4942.46     -0.0335511  0.236434 -0.141905  0.887155\n",
       "ENSMUSG00000000003      0.00             NA        NA        NA        NA\n",
       "ENSMUSG00000000028   2278.34     -0.0913826  0.163252 -0.559764  0.575640\n",
       "                        padj\n",
       "                   <numeric>\n",
       "ENSMUSG00000000001  0.999818\n",
       "ENSMUSG00000000003        NA\n",
       "ENSMUSG00000000028  0.999818"
      ]
     },
     "metadata": {},
     "output_type": "display_data"
    }
   ],
   "source": [
    "head(results(dds), 3)"
   ]
  },
  {
   "cell_type": "code",
   "execution_count": 72,
   "id": "c31c5d1f-b378-452b-bc38-ef08c975af50",
   "metadata": {},
   "outputs": [],
   "source": [
    "res <- results(dds, name='condition_CTCF_AID_auxin1day_vs_CTCF_AID_untreated')"
   ]
  },
  {
   "cell_type": "code",
   "execution_count": 73,
   "id": "909e9583-6952-49bb-a675-7f08e5ed743b",
   "metadata": {},
   "outputs": [],
   "source": [
    "res05 <- results(dds, alpha=0.05)\n"
   ]
  },
  {
   "cell_type": "code",
   "execution_count": 74,
   "id": "a736371f-f38a-435c-8984-8dcd26ec99e7",
   "metadata": {},
   "outputs": [
    {
     "name": "stdout",
     "output_type": "stream",
     "text": [
      "\n",
      "out of 22072 with nonzero total read count\n",
      "adjusted p-value < 0.05\n",
      "LFC > 0 (up)       : 130, 0.59%\n",
      "LFC < 0 (down)     : 159, 0.72%\n",
      "outliers [1]       : 86, 0.39%\n",
      "low counts [2]     : 5504, 25%\n",
      "(mean count < 5)\n",
      "[1] see 'cooksCutoff' argument of ?results\n",
      "[2] see 'independentFiltering' argument of ?results\n",
      "\n"
     ]
    }
   ],
   "source": [
    "summary(res05)"
   ]
  },
  {
   "cell_type": "code",
   "execution_count": 75,
   "id": "2e3d30d5-a565-44cf-bffd-ded50e7e8c3c",
   "metadata": {},
   "outputs": [
    {
     "data": {
      "image/png": "[encoded data removed]",
      "text/plain": [
       "Plot with title \"\""
      ]
     },
     "metadata": {
      "image/png": {
       "height": 420,
       "width": 420
      }
     },
     "output_type": "display_data"
    }
   ],
   "source": [
    "plotMA(res, ylim=c(-8,8))\n"
   ]
  },
  {
   "cell_type": "code",
   "execution_count": 80,
   "id": "7302158d-8299-43f4-b536-3823d432f6cd",
   "metadata": {},
   "outputs": [
    {
     "name": "stderr",
     "output_type": "stream",
     "text": [
      "1 \n",
      "2 \n",
      "3 \n",
      "4 \n",
      "5 \n",
      "6 \n",
      "7 \n",
      "8 \n",
      "9 \n",
      "10 \n",
      "11 \n",
      "12 \n",
      "13 \n",
      "14 \n",
      "15 \n",
      "16 \n",
      "17 \n",
      "18 \n",
      "19 \n",
      "20 \n",
      "21 \n",
      "22 \n",
      "23 \n",
      "24 \n",
      "\n",
      "\n",
      "removing duplicated transcript rows from tx2gene\n",
      "\n",
      "transcripts missing from tx2gene: 47421\n",
      "\n",
      "summarizing abundance\n",
      "\n",
      "summarizing counts\n",
      "\n",
      "summarizing length\n",
      "\n",
      "summarizing inferential replicates\n",
      "\n",
      "using counts and average transcript lengths from tximport\n",
      "\n"
     ]
    }
   ],
   "source": [
    "tx_by_genes_all <- tximport(\n",
    "                 files,\n",
    "                 type = \"kallisto\", \n",
    "                 tx2gene = tx2gene, \n",
    "                 ignoreAfterBar = TRUE, \n",
    "                )\n",
    "dds_all <- DESeqDataSetFromTximport(tx_by_genes_all,\n",
    "                                colData = s2c,\n",
    "                                design = ~ condition)\n"
   ]
  },
  {
   "cell_type": "code",
   "execution_count": 84,
   "id": "35eb3084-c412-4f6d-a6a7-6befe52277da",
   "metadata": {},
   "outputs": [
    {
     "name": "stderr",
     "output_type": "stream",
     "text": [
      "using 'avgTxLength' from assays(dds), correcting for library size\n",
      "\n"
     ]
    }
   ],
   "source": [
    "vsd_all <- vst(dds_all, blind=FALSE)\n"
   ]
  },
  {
   "cell_type": "code",
   "execution_count": 85,
   "id": "433cfa72-57c7-405d-a26d-77ce3faf8809",
   "metadata": {},
   "outputs": [
    {
     "data": {
      "image/png": "[encoded data removed]",
      "text/plain": [
       "plot without title"
      ]
     },
     "metadata": {
      "image/png": {
       "height": 420,
       "width": 420
      }
     },
     "output_type": "display_data"
    }
   ],
   "source": [
    "plotPCA(vsd_all)"
   ]
  },
  {
   "cell_type": "code",
   "execution_count": null,
   "id": "4eb1cae4-65c6-4aa4-8a5e-b7ef0305dd54",
   "metadata": {},
   "outputs": [],
   "source": []
  },
  {
   "cell_type": "code",
   "execution_count": 5,
   "id": "20800a07-6d55-484b-a044-7ae279c4eaae",
   "metadata": {},
   "outputs": [],
   "source": [
    " "
   ]
  }
 ],
 "metadata": {
  "kernelspec": {
   "display_name": "deseq2_r412",
   "language": "R",
   "name": "deseq2_r412"
  },
  "language_info": {
   "codemirror_mode": "r",
   "file_extension": ".r",
   "mimetype": "text/x-r-source",
   "name": "R",
   "pygments_lexer": "r",
   "version": "4.1.2"
  }
 },
 "nbformat": 4,
 "nbformat_minor": 5
}
