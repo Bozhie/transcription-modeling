{
 "cells": [
  {
   "cell_type": "markdown",
   "id": "747e6257-d147-40f8-8c30-c9debb29e6c5",
   "metadata": {},
   "source": [
    "# Checking out DESeq2 for Gene-level Differential analysis\n",
    "\n",
    "Using mm9 genome so that the results can be more directly comparable to tables produced by elphege. We can see similarities and differences in the methods used for producing data relevant to DE analysis. "
   ]
  },
  {
   "cell_type": "code",
   "execution_count": 1,
   "id": "b676fb13-65ac-4439-bea6-b4d5a6f354ea",
   "metadata": {},
   "outputs": [
    {
     "name": "stderr",
     "output_type": "stream",
     "text": [
      "Loading required package: S4Vectors\n",
      "\n",
      "Loading required package: stats4\n",
      "\n",
      "Loading required package: BiocGenerics\n",
      "\n",
      "\n",
      "Attaching package: 'BiocGenerics'\n",
      "\n",
      "\n",
      "The following objects are masked from 'package:stats':\n",
      "\n",
      "    IQR, mad, sd, var, xtabs\n",
      "\n",
      "\n",
      "The following objects are masked from 'package:base':\n",
      "\n",
      "    Filter, Find, Map, Position, Reduce, anyDuplicated, append,\n",
      "    as.data.frame, basename, cbind, colnames, dirname, do.call,\n",
      "    duplicated, eval, evalq, get, grep, grepl, intersect, is.unsorted,\n",
      "    lapply, mapply, match, mget, order, paste, pmax, pmax.int, pmin,\n",
      "    pmin.int, rank, rbind, rownames, sapply, setdiff, sort, table,\n",
      "    tapply, union, unique, unsplit, which.max, which.min\n",
      "\n",
      "\n",
      "\n",
      "Attaching package: 'S4Vectors'\n",
      "\n",
      "\n",
      "The following objects are masked from 'package:base':\n",
      "\n",
      "    I, expand.grid, unname\n",
      "\n",
      "\n",
      "Loading required package: IRanges\n",
      "\n",
      "Loading required package: GenomicRanges\n",
      "\n",
      "Loading required package: GenomeInfoDb\n",
      "\n",
      "Loading required package: SummarizedExperiment\n",
      "\n",
      "Loading required package: MatrixGenerics\n",
      "\n",
      "Loading required package: matrixStats\n",
      "\n",
      "\n",
      "Attaching package: 'MatrixGenerics'\n",
      "\n",
      "\n",
      "The following objects are masked from 'package:matrixStats':\n",
      "\n",
      "    colAlls, colAnyNAs, colAnys, colAvgsPerRowSet, colCollapse,\n",
      "    colCounts, colCummaxs, colCummins, colCumprods, colCumsums,\n",
      "    colDiffs, colIQRDiffs, colIQRs, colLogSumExps, colMadDiffs,\n",
      "    colMads, colMaxs, colMeans2, colMedians, colMins, colOrderStats,\n",
      "    colProds, colQuantiles, colRanges, colRanks, colSdDiffs, colSds,\n",
      "    colSums2, colTabulates, colVarDiffs, colVars, colWeightedMads,\n",
      "    colWeightedMeans, colWeightedMedians, colWeightedSds,\n",
      "    colWeightedVars, rowAlls, rowAnyNAs, rowAnys, rowAvgsPerColSet,\n",
      "    rowCollapse, rowCounts, rowCummaxs, rowCummins, rowCumprods,\n",
      "    rowCumsums, rowDiffs, rowIQRDiffs, rowIQRs, rowLogSumExps,\n",
      "    rowMadDiffs, rowMads, rowMaxs, rowMeans2, rowMedians, rowMins,\n",
      "    rowOrderStats, rowProds, rowQuantiles, rowRanges, rowRanks,\n",
      "    rowSdDiffs, rowSds, rowSums2, rowTabulates, rowVarDiffs, rowVars,\n",
      "    rowWeightedMads, rowWeightedMeans, rowWeightedMedians,\n",
      "    rowWeightedSds, rowWeightedVars\n",
      "\n",
      "\n",
      "Loading required package: Biobase\n",
      "\n",
      "Welcome to Bioconductor\n",
      "\n",
      "    Vignettes contain introductory material; view with\n",
      "    'browseVignettes()'. To cite Bioconductor, see\n",
      "    'citation(\"Biobase\")', and for packages 'citation(\"pkgname\")'.\n",
      "\n",
      "\n",
      "\n",
      "Attaching package: 'Biobase'\n",
      "\n",
      "\n",
      "The following object is masked from 'package:MatrixGenerics':\n",
      "\n",
      "    rowMedians\n",
      "\n",
      "\n",
      "The following objects are masked from 'package:matrixStats':\n",
      "\n",
      "    anyMissing, rowMedians\n",
      "\n",
      "\n"
     ]
    }
   ],
   "source": [
    "library(DESeq2)"
   ]
  },
  {
   "cell_type": "code",
   "execution_count": 2,
   "id": "3c73b1c1-7882-47b8-8eb7-413067ecbeed",
   "metadata": {},
   "outputs": [
    {
     "name": "stderr",
     "output_type": "stream",
     "text": [
      "\n",
      "Attaching package: 'dplyr'\n",
      "\n",
      "\n",
      "The following object is masked from 'package:Biobase':\n",
      "\n",
      "    combine\n",
      "\n",
      "\n",
      "The following object is masked from 'package:matrixStats':\n",
      "\n",
      "    count\n",
      "\n",
      "\n",
      "The following objects are masked from 'package:GenomicRanges':\n",
      "\n",
      "    intersect, setdiff, union\n",
      "\n",
      "\n",
      "The following object is masked from 'package:GenomeInfoDb':\n",
      "\n",
      "    intersect\n",
      "\n",
      "\n",
      "The following objects are masked from 'package:IRanges':\n",
      "\n",
      "    collapse, desc, intersect, setdiff, slice, union\n",
      "\n",
      "\n",
      "The following objects are masked from 'package:S4Vectors':\n",
      "\n",
      "    first, intersect, rename, setdiff, setequal, union\n",
      "\n",
      "\n",
      "The following objects are masked from 'package:BiocGenerics':\n",
      "\n",
      "    combine, intersect, setdiff, union\n",
      "\n",
      "\n",
      "The following objects are masked from 'package:stats':\n",
      "\n",
      "    filter, lag\n",
      "\n",
      "\n",
      "The following objects are masked from 'package:base':\n",
      "\n",
      "    intersect, setdiff, setequal, union\n",
      "\n",
      "\n"
     ]
    }
   ],
   "source": [
    "library(\"tximport\")\n",
    "library(\"rhdf5\")\n",
    "library(stringr)\n",
    "library(dplyr)"
   ]
  },
  {
   "cell_type": "code",
   "execution_count": 3,
   "id": "065d111e-146c-44fc-a180-cdfde211ba20",
   "metadata": {},
   "outputs": [],
   "source": [
    "# get location of kallisto outputs\n",
    "elphege_proj_files = \"/project/fudenber_735/GEO/nora_2017_rna-seq_SRP106652\"\n",
    "sample_id <- dir(file.path(elphege_proj_files,\"SRP106652\"))\n",
    "kal_dirs <- file.path(elphege_proj_files, \"SRP106652\", sample_id, \"kallisto\")\n",
    "files <- file.path(kal_dirs, \"abundance.h5\")\n",
    "names(files) <- str_split_fixed(files,'/',9)[,7]"
   ]
  },
  {
   "cell_type": "code",
   "execution_count": 7,
   "id": "2484d418-b5ae-4ff9-870c-d1b170c6f25c",
   "metadata": {},
   "outputs": [],
   "source": [
    "# load conversion between transcripts and genes\n",
    "ensembl_dir = \"/project/fudenber_735/genomes/mm10/ensembl/ensembl_relational_downloads\"\n",
    "tx2gene <- read.csv(file.path(ensembl_dir,\"biomaRt_mm10_t2g.csv\"))[,-1]"
   ]
  },
  {
   "cell_type": "code",
   "execution_count": 5,
   "id": "5f99d33e-93b5-4391-830b-ce3a6f76c42f",
   "metadata": {},
   "outputs": [],
   "source": [
    "# Getting \"Run\" and \"condition\" from Experiment Name of the SRA deposits\n",
    "sra_summary <- read.table(\n",
    "                    file.path(elphege_proj_files, \n",
    "                             \"metadata\", \"sra_result_summary.csv\"), \n",
    "                              header = TRUE, sep = \",\", stringsAsFactors=FALSE)\n",
    "\n",
    "# # Parse experiment name to get 'condition' -- str_split_fixed(string, pattern, n)\n",
    "# # also Removing replicate number so that sleuth can do some grouping\n",
    "\n",
    "conditions = data.frame(\n",
    "                condition=str_split_fixed( str_split_fixed(\n",
    "                             sra_summary$Experiment.Title,\n",
    "                             \"seq_\", 4)[,2] ,'_rep',2)[,1])\n",
    "\n",
    "\n",
    "# # putting replicate number as batch so that sleuth can do some grouping + controlling for batch\n",
    "batches = data.frame(\n",
    "                batch=str_split_fixed( str_split_fixed(\n",
    "                sra_summary$Experiment.Title, \n",
    "                '_rep', 2)[,2], ';', 2)[,1])\n",
    "\n",
    "sra_summary <- cbind(sra_summary,  conditions, batches)\n",
    "\n",
    "    \n",
    "run_info <- read.table(file.path(elphege_proj_files, \"metadata\", \"SraRunInfo.csv\"), header = TRUE, sep = \",\", stringsAsFactors=FALSE)\n",
    "\n",
    "# # merge sra_result file and sraRunInfo to get the condition\n",
    "# # (buried in 'Experiment Name' in sra_result_summary -- put in 'condition')\n",
    "sra_info_combined <- merge(run_info, sra_summary, \n",
    "                             by.x=c(\"Experiment\"),\n",
    "                             by.y=c(\"Experiment.Accession\"),\n",
    "                             all.x=TRUE)\n",
    "\n",
    "s2c <- dplyr::select(sra_info_combined, Experiment, Run, condition, Library.Strategy, Library.Selection)\n",
    "s2c <- dplyr::select(s2c, sample = Run, condition)\n",
    "s2c$condition <- gsub('-', '_', s2c$condition) # apparently R wants  of factors in the design to only have letters, numbers, '_' and '.'\n",
    "s2c$condition <- as.factor(s2c$condition)        # Convert character column to factor (not necessary, just suppresses warning below)"
   ]
  },
  {
   "cell_type": "code",
   "execution_count": 14,
   "id": "c1d9e0f6-72fa-42d2-8f2e-de890efe660e",
   "metadata": {},
   "outputs": [],
   "source": [
    "write.csv(s2c, file.path(elphege_proj_files, \"metadata\", \"sample2condition.csv\"))"
   ]
  },
  {
   "cell_type": "code",
   "execution_count": 7,
   "id": "0344b9ad-5500-4841-be3a-d30dbfa6ee33",
   "metadata": {},
   "outputs": [],
   "source": [
    "s2c_untreated_vs_auxin1day <- s2c[ (s2c$condition=='CTCF_AID_untreated') | \n",
    "                               (s2c$condition=='CTCF_AID_auxin1day') , ]\n",
    "\n",
    "files_untreated_vs_auxin1day = files[s2c_untreated_vs_auxin1day$sample]"
   ]
  },
  {
   "cell_type": "code",
   "execution_count": 8,
   "id": "794dbd6c-8787-432b-a587-28197bc9e7e5",
   "metadata": {},
   "outputs": [],
   "source": [
    "#s2c_untreated_vs_auxin1day$condition\n",
    "s2c_untreated_vs_auxin1day$condition <-  factor(s2c_untreated_vs_auxin1day$condition,\n",
    "                                                levels = c(\"CTCF_AID_untreated\", 'CTCF_AID_auxin1day'))\n",
    "\n",
    "## to note from DESeq2:\n",
    "# if you never tell the DESeq2 functions which level you want to compare against \n",
    "# (e.g. which level represents the control group), the comparisons will be based\n",
    "# on the alphabetical order of the levels"
   ]
  },
  {
   "cell_type": "code",
   "execution_count": 4,
   "id": "fa3a1d39-160b-4c4e-b1b3-a1421b4549c4",
   "metadata": {},
   "outputs": [
    {
     "ename": "ERROR",
     "evalue": "Error in file.exists(files): object 'files_untreated_vs_auxin1day' not found\n",
     "output_type": "error",
     "traceback": [
      "Error in file.exists(files): object 'files_untreated_vs_auxin1day' not found\nTraceback:\n",
      "1. tximport(files_untreated_vs_auxin1day, type = \"kallisto\", tx2gene = tx2gene, \n .     ignoreAfterBar = TRUE, )",
      "2. stopifnot(all(file.exists(files)))",
      "3. file.exists(files)"
     ]
    }
   ],
   "source": [
    "tx_by_genes <- tximport(\n",
    "                 files_untreated_vs_auxin1day,\n",
    "                 type = \"kallisto\", \n",
    "                 tx2gene = tx2gene, \n",
    "                 ignoreAfterBar = TRUE, \n",
    "                )\n",
    "\n",
    "# note: transcript-level loading can also be done with tximport\n",
    "#txi <- tximport( files, type=\"kallisto\", txOut=TRUE)"
   ]
  },
  {
   "cell_type": "code",
   "execution_count": 10,
   "id": "63b10ca6-7de1-4f34-a579-9d96b5f89f4e",
   "metadata": {},
   "outputs": [
    {
     "data": {
      "text/html": [
       "<table class=\"dataframe\">\n",
       "<caption>A data.frame: 6 × 2</caption>\n",
       "<thead>\n",
       "\t<tr><th></th><th scope=col>sample</th><th scope=col>condition</th></tr>\n",
       "\t<tr><th></th><th scope=col>&lt;chr&gt;</th><th scope=col>&lt;fct&gt;</th></tr>\n",
       "</thead>\n",
       "<tbody>\n",
       "\t<tr><th scope=row>1</th><td>SRR5517500</td><td>CTCF_AID_untreated</td></tr>\n",
       "\t<tr><th scope=row>2</th><td>SRR5517501</td><td>CTCF_AID_auxin1day</td></tr>\n",
       "\t<tr><th scope=row>6</th><td>SRR5517505</td><td>CTCF_AID_untreated</td></tr>\n",
       "\t<tr><th scope=row>7</th><td>SRR5517506</td><td>CTCF_AID_auxin1day</td></tr>\n",
       "\t<tr><th scope=row>11</th><td>SRR5517510</td><td>CTCF_AID_untreated</td></tr>\n",
       "\t<tr><th scope=row>12</th><td>SRR5517511</td><td>CTCF_AID_auxin1day</td></tr>\n",
       "</tbody>\n",
       "</table>\n"
      ],
      "text/latex": [
       "A data.frame: 6 × 2\n",
       "\\begin{tabular}{r|ll}\n",
       "  & sample & condition\\\\\n",
       "  & <chr> & <fct>\\\\\n",
       "\\hline\n",
       "\t1 & SRR5517500 & CTCF\\_AID\\_untreated\\\\\n",
       "\t2 & SRR5517501 & CTCF\\_AID\\_auxin1day\\\\\n",
       "\t6 & SRR5517505 & CTCF\\_AID\\_untreated\\\\\n",
       "\t7 & SRR5517506 & CTCF\\_AID\\_auxin1day\\\\\n",
       "\t11 & SRR5517510 & CTCF\\_AID\\_untreated\\\\\n",
       "\t12 & SRR5517511 & CTCF\\_AID\\_auxin1day\\\\\n",
       "\\end{tabular}\n"
      ],
      "text/markdown": [
       "\n",
       "A data.frame: 6 × 2\n",
       "\n",
       "| <!--/--> | sample &lt;chr&gt; | condition &lt;fct&gt; |\n",
       "|---|---|---|\n",
       "| 1 | SRR5517500 | CTCF_AID_untreated |\n",
       "| 2 | SRR5517501 | CTCF_AID_auxin1day |\n",
       "| 6 | SRR5517505 | CTCF_AID_untreated |\n",
       "| 7 | SRR5517506 | CTCF_AID_auxin1day |\n",
       "| 11 | SRR5517510 | CTCF_AID_untreated |\n",
       "| 12 | SRR5517511 | CTCF_AID_auxin1day |\n",
       "\n"
      ],
      "text/plain": [
       "   sample     condition         \n",
       "1  SRR5517500 CTCF_AID_untreated\n",
       "2  SRR5517501 CTCF_AID_auxin1day\n",
       "6  SRR5517505 CTCF_AID_untreated\n",
       "7  SRR5517506 CTCF_AID_auxin1day\n",
       "11 SRR5517510 CTCF_AID_untreated\n",
       "12 SRR5517511 CTCF_AID_auxin1day"
      ]
     },
     "metadata": {},
     "output_type": "display_data"
    }
   ],
   "source": [
    "s2c_untreated_vs_auxin1day"
   ]
  },
  {
   "cell_type": "code",
   "execution_count": 11,
   "id": "82e8ddf9-9705-4b8a-ac6b-26a46b4d445a",
   "metadata": {},
   "outputs": [
    {
     "name": "stderr",
     "output_type": "stream",
     "text": [
      "using counts and average transcript lengths from tximport\n",
      "\n"
     ]
    }
   ],
   "source": [
    "dds <- DESeqDataSetFromTximport(tx_by_genes,\n",
    "                                colData = s2c_untreated_vs_auxin1day,\n",
    "                                design = ~ condition)"
   ]
  },
  {
   "cell_type": "code",
   "execution_count": 12,
   "id": "7d78fd6d-c67c-49e1-9e7c-732eb798014d",
   "metadata": {},
   "outputs": [
    {
     "name": "stderr",
     "output_type": "stream",
     "text": [
      "estimating size factors\n",
      "\n",
      "using 'avgTxLength' from assays(dds), correcting for library size\n",
      "\n",
      "estimating dispersions\n",
      "\n",
      "gene-wise dispersion estimates\n",
      "\n",
      "mean-dispersion relationship\n",
      "\n",
      "final dispersion estimates\n",
      "\n",
      "fitting model and testing\n",
      "\n"
     ]
    }
   ],
   "source": [
    "dds <- DESeq(dds)"
   ]
  },
  {
   "cell_type": "code",
   "execution_count": 13,
   "id": "24423997-f809-4223-a7ef-525d8a03de30",
   "metadata": {},
   "outputs": [
    {
     "data": {
      "text/plain": [
       "log2 fold change (MLE): condition CTCF AID auxin1day vs CTCF AID untreated \n",
       "Wald test p-value: condition CTCF AID auxin1day vs CTCF AID untreated \n",
       "DataFrame with 3 rows and 6 columns\n",
       "                    baseMean log2FoldChange     lfcSE      stat    pvalue\n",
       "                   <numeric>      <numeric> <numeric> <numeric> <numeric>\n",
       "ENSMUSG00000000001   4946.92     -0.0308229  0.252413 -0.122113  0.902809\n",
       "ENSMUSG00000000003      0.00             NA        NA        NA        NA\n",
       "ENSMUSG00000000028   2277.24     -0.0917477  0.176626 -0.519447  0.603449\n",
       "                        padj\n",
       "                   <numeric>\n",
       "ENSMUSG00000000001  0.999976\n",
       "ENSMUSG00000000003        NA\n",
       "ENSMUSG00000000028  0.999976"
      ]
     },
     "metadata": {},
     "output_type": "display_data"
    }
   ],
   "source": [
    "head(results(dds), 3)"
   ]
  },
  {
   "cell_type": "code",
   "execution_count": 13,
   "id": "81608db9-30f7-46ba-8356-161fbb036f6c",
   "metadata": {},
   "outputs": [
    {
     "data": {
      "text/html": [
       "<style>\n",
       ".list-inline {list-style: none; margin:0; padding: 0}\n",
       ".list-inline>li {display: inline-block}\n",
       ".list-inline>li:not(:last-child)::after {content: \"\\00b7\"; padding: 0 .5ex}\n",
       "</style>\n",
       "<ol class=list-inline><li>26520</li><li>6</li></ol>\n"
      ],
      "text/latex": [
       "\\begin{enumerate*}\n",
       "\\item 26520\n",
       "\\item 6\n",
       "\\end{enumerate*}\n"
      ],
      "text/markdown": [
       "1. 26520\n",
       "2. 6\n",
       "\n",
       "\n"
      ],
      "text/plain": [
       "[1] 26520     6"
      ]
     },
     "metadata": {},
     "output_type": "display_data"
    }
   ],
   "source": [
    "dim(results(dds))"
   ]
  },
  {
   "cell_type": "code",
   "execution_count": 14,
   "id": "c31c5d1f-b378-452b-bc38-ef08c975af50",
   "metadata": {},
   "outputs": [],
   "source": [
    "res <- results(dds, name='condition_CTCF_AID_auxin1day_vs_CTCF_AID_untreated')"
   ]
  },
  {
   "cell_type": "code",
   "execution_count": 15,
   "id": "909e9583-6952-49bb-a675-7f08e5ed743b",
   "metadata": {},
   "outputs": [],
   "source": [
    "res05 <- results(dds, alpha=0.05)\n"
   ]
  },
  {
   "cell_type": "code",
   "execution_count": 16,
   "id": "a736371f-f38a-435c-8984-8dcd26ec99e7",
   "metadata": {},
   "outputs": [
    {
     "name": "stdout",
     "output_type": "stream",
     "text": [
      "\n",
      "out of 22072 with nonzero total read count\n",
      "adjusted p-value < 0.05\n",
      "LFC > 0 (up)       : 130, 0.59%\n",
      "LFC < 0 (down)     : 159, 0.72%\n",
      "outliers [1]       : 86, 0.39%\n",
      "low counts [2]     : 5504, 25%\n",
      "(mean count < 5)\n",
      "[1] see 'cooksCutoff' argument of ?results\n",
      "[2] see 'independentFiltering' argument of ?results\n",
      "\n"
     ]
    }
   ],
   "source": [
    "summary(res05)"
   ]
  },
  {
   "cell_type": "code",
   "execution_count": 17,
   "id": "2e3d30d5-a565-44cf-bffd-ded50e7e8c3c",
   "metadata": {},
   "outputs": [
    {
     "data": {
      "image/png": "[encoded data removed]",
      "text/plain": [
       "Plot with title \"\""
      ]
     },
     "metadata": {
      "image/png": {
       "height": 420,
       "width": 420
      }
     },
     "output_type": "display_data"
    }
   ],
   "source": [
    "plotMA(res, ylim=c(-8,8))\n"
   ]
  },
  {
   "cell_type": "code",
   "execution_count": 8,
   "id": "7302158d-8299-43f4-b536-3823d432f6cd",
   "metadata": {},
   "outputs": [
    {
     "name": "stderr",
     "output_type": "stream",
     "text": [
      "1 \n",
      "2 \n",
      "3 \n",
      "4 \n",
      "5 \n",
      "6 \n",
      "7 \n",
      "8 \n",
      "9 \n",
      "10 \n",
      "11 \n",
      "12 \n",
      "13 \n",
      "14 \n",
      "15 \n",
      "16 \n",
      "17 \n",
      "18 \n",
      "19 \n",
      "20 \n",
      "21 \n",
      "22 \n",
      "23 \n",
      "24 \n",
      "\n",
      "\n",
      "transcripts missing from tx2gene: 8427\n",
      "\n",
      "summarizing abundance\n",
      "\n",
      "summarizing counts\n",
      "\n",
      "summarizing length\n",
      "\n",
      "summarizing inferential replicates\n",
      "\n"
     ]
    }
   ],
   "source": [
    "tx_by_genes_all <- tximport(\n",
    "                 files,\n",
    "                 type = \"kallisto\", \n",
    "                 tx2gene = tx2gene, \n",
    "                 ignoreAfterBar = TRUE, \n",
    "                )"
   ]
  },
  {
   "cell_type": "code",
   "execution_count": 11,
   "id": "07e37061-e4f0-473c-8545-e64b8f6f4c46",
   "metadata": {},
   "outputs": [
    {
     "data": {
      "text/html": [
       "<table class=\"dataframe\">\n",
       "<caption>A matrix: 6 × 24 of type dbl</caption>\n",
       "<thead>\n",
       "\t<tr><th></th><th scope=col>SRR5517500</th><th scope=col>SRR5517501</th><th scope=col>SRR5517502</th><th scope=col>SRR5517503</th><th scope=col>SRR5517504</th><th scope=col>SRR5517505</th><th scope=col>SRR5517506</th><th scope=col>SRR5517507</th><th scope=col>SRR5517508</th><th scope=col>SRR5517509</th><th scope=col>⋯</th><th scope=col>SRR5517514</th><th scope=col>SRR5517515</th><th scope=col>SRR5517516</th><th scope=col>SRR5517517</th><th scope=col>SRR5517518</th><th scope=col>SRR5517519</th><th scope=col>SRR5517520</th><th scope=col>SRR5517521</th><th scope=col>SRR5517522</th><th scope=col>SRR5517523</th></tr>\n",
       "</thead>\n",
       "<tbody>\n",
       "\t<tr><th scope=row>ENSMUSG00000000001</th><td>2068.00000</td><td>1859.0000</td><td>2966.0000</td><td>2545.0000</td><td>2211.0000</td><td>4792.00000</td><td>5192.0000</td><td>5233.0000</td><td>4693.000</td><td>6473.0000</td><td>⋯</td><td>9352.0000</td><td>7182.0000</td><td>12709.0000</td><td>18706.0000</td><td>11184.0000</td><td>1230</td><td>6731.0000</td><td>12695.0000</td><td>7882.0000</td><td>5317.0000</td></tr>\n",
       "\t<tr><th scope=row>ENSMUSG00000000003</th><td>   0.00000</td><td>   0.0000</td><td>   0.0000</td><td>   0.0000</td><td>   0.0000</td><td>   0.00000</td><td>   0.0000</td><td>   0.0000</td><td>   0.000</td><td>   1.0000</td><td>⋯</td><td>   0.0000</td><td>   0.0000</td><td>    0.0000</td><td>    0.0000</td><td>    0.0000</td><td>   0</td><td>   1.0000</td><td>    0.0000</td><td>   0.0000</td><td>   0.0000</td></tr>\n",
       "\t<tr><th scope=row>ENSMUSG00000000028</th><td>1049.00000</td><td>1252.0000</td><td>1377.0000</td><td> 900.0000</td><td>1174.0000</td><td>2102.00000</td><td>1886.0000</td><td>1927.0000</td><td>1984.000</td><td>2568.0000</td><td>⋯</td><td>3956.0000</td><td>2650.0000</td><td> 5790.0000</td><td> 6500.0000</td><td> 3913.0000</td><td> 852</td><td>2105.0000</td><td> 4494.0000</td><td>2550.0815</td><td>1572.0000</td></tr>\n",
       "\t<tr><th scope=row>ENSMUSG00000000031</th><td>  21.00000</td><td>  20.0000</td><td>  19.0000</td><td>  21.0000</td><td>  35.0000</td><td>  27.00000</td><td>  19.0000</td><td>  21.0000</td><td>  68.000</td><td>  90.0000</td><td>⋯</td><td>  82.0000</td><td> 411.0000</td><td> 1083.0000</td><td> 1286.0000</td><td> 1621.0000</td><td> 443</td><td>1100.0000</td><td>  873.0000</td><td> 487.0000</td><td> 291.0000</td></tr>\n",
       "\t<tr><th scope=row>ENSMUSG00000000037</th><td>  57.24222</td><td> 125.6492</td><td> 535.8678</td><td> 314.4085</td><td> 114.8587</td><td>  97.35308</td><td> 699.3419</td><td> 883.2799</td><td> 743.272</td><td> 333.0103</td><td>⋯</td><td> 489.0157</td><td> 184.8858</td><td>  345.0086</td><td>  507.4915</td><td>  357.7912</td><td>  75</td><td> 219.3036</td><td>  253.2669</td><td> 208.8918</td><td> 123.2886</td></tr>\n",
       "\t<tr><th scope=row>ENSMUSG00000000049</th><td>   0.00000</td><td>   0.0000</td><td>   0.0000</td><td>   0.0000</td><td>   0.0000</td><td>   0.00000</td><td>   0.0000</td><td>   0.0000</td><td>   2.000</td><td>   0.0000</td><td>⋯</td><td>   1.0000</td><td>   0.0000</td><td>    0.0000</td><td>    0.0000</td><td>    0.0000</td><td>   0</td><td>   0.0000</td><td>    0.0000</td><td>   0.0000</td><td>   0.0000</td></tr>\n",
       "</tbody>\n",
       "</table>\n"
      ],
      "text/latex": [
       "A matrix: 6 × 24 of type dbl\n",
       "\\begin{tabular}{r|lllllllllllllllllllll}\n",
       "  & SRR5517500 & SRR5517501 & SRR5517502 & SRR5517503 & SRR5517504 & SRR5517505 & SRR5517506 & SRR5517507 & SRR5517508 & SRR5517509 & ⋯ & SRR5517514 & SRR5517515 & SRR5517516 & SRR5517517 & SRR5517518 & SRR5517519 & SRR5517520 & SRR5517521 & SRR5517522 & SRR5517523\\\\\n",
       "\\hline\n",
       "\tENSMUSG00000000001 & 2068.00000 & 1859.0000 & 2966.0000 & 2545.0000 & 2211.0000 & 4792.00000 & 5192.0000 & 5233.0000 & 4693.000 & 6473.0000 & ⋯ & 9352.0000 & 7182.0000 & 12709.0000 & 18706.0000 & 11184.0000 & 1230 & 6731.0000 & 12695.0000 & 7882.0000 & 5317.0000\\\\\n",
       "\tENSMUSG00000000003 &    0.00000 &    0.0000 &    0.0000 &    0.0000 &    0.0000 &    0.00000 &    0.0000 &    0.0000 &    0.000 &    1.0000 & ⋯ &    0.0000 &    0.0000 &     0.0000 &     0.0000 &     0.0000 &    0 &    1.0000 &     0.0000 &    0.0000 &    0.0000\\\\\n",
       "\tENSMUSG00000000028 & 1049.00000 & 1252.0000 & 1377.0000 &  900.0000 & 1174.0000 & 2102.00000 & 1886.0000 & 1927.0000 & 1984.000 & 2568.0000 & ⋯ & 3956.0000 & 2650.0000 &  5790.0000 &  6500.0000 &  3913.0000 &  852 & 2105.0000 &  4494.0000 & 2550.0815 & 1572.0000\\\\\n",
       "\tENSMUSG00000000031 &   21.00000 &   20.0000 &   19.0000 &   21.0000 &   35.0000 &   27.00000 &   19.0000 &   21.0000 &   68.000 &   90.0000 & ⋯ &   82.0000 &  411.0000 &  1083.0000 &  1286.0000 &  1621.0000 &  443 & 1100.0000 &   873.0000 &  487.0000 &  291.0000\\\\\n",
       "\tENSMUSG00000000037 &   57.24222 &  125.6492 &  535.8678 &  314.4085 &  114.8587 &   97.35308 &  699.3419 &  883.2799 &  743.272 &  333.0103 & ⋯ &  489.0157 &  184.8858 &   345.0086 &   507.4915 &   357.7912 &   75 &  219.3036 &   253.2669 &  208.8918 &  123.2886\\\\\n",
       "\tENSMUSG00000000049 &    0.00000 &    0.0000 &    0.0000 &    0.0000 &    0.0000 &    0.00000 &    0.0000 &    0.0000 &    2.000 &    0.0000 & ⋯ &    1.0000 &    0.0000 &     0.0000 &     0.0000 &     0.0000 &    0 &    0.0000 &     0.0000 &    0.0000 &    0.0000\\\\\n",
       "\\end{tabular}\n"
      ],
      "text/markdown": [
       "\n",
       "A matrix: 6 × 24 of type dbl\n",
       "\n",
       "| <!--/--> | SRR5517500 | SRR5517501 | SRR5517502 | SRR5517503 | SRR5517504 | SRR5517505 | SRR5517506 | SRR5517507 | SRR5517508 | SRR5517509 | ⋯ | SRR5517514 | SRR5517515 | SRR5517516 | SRR5517517 | SRR5517518 | SRR5517519 | SRR5517520 | SRR5517521 | SRR5517522 | SRR5517523 |\n",
       "|---|---|---|---|---|---|---|---|---|---|---|---|---|---|---|---|---|---|---|---|---|---|\n",
       "| ENSMUSG00000000001 | 2068.00000 | 1859.0000 | 2966.0000 | 2545.0000 | 2211.0000 | 4792.00000 | 5192.0000 | 5233.0000 | 4693.000 | 6473.0000 | ⋯ | 9352.0000 | 7182.0000 | 12709.0000 | 18706.0000 | 11184.0000 | 1230 | 6731.0000 | 12695.0000 | 7882.0000 | 5317.0000 |\n",
       "| ENSMUSG00000000003 |    0.00000 |    0.0000 |    0.0000 |    0.0000 |    0.0000 |    0.00000 |    0.0000 |    0.0000 |    0.000 |    1.0000 | ⋯ |    0.0000 |    0.0000 |     0.0000 |     0.0000 |     0.0000 |    0 |    1.0000 |     0.0000 |    0.0000 |    0.0000 |\n",
       "| ENSMUSG00000000028 | 1049.00000 | 1252.0000 | 1377.0000 |  900.0000 | 1174.0000 | 2102.00000 | 1886.0000 | 1927.0000 | 1984.000 | 2568.0000 | ⋯ | 3956.0000 | 2650.0000 |  5790.0000 |  6500.0000 |  3913.0000 |  852 | 2105.0000 |  4494.0000 | 2550.0815 | 1572.0000 |\n",
       "| ENSMUSG00000000031 |   21.00000 |   20.0000 |   19.0000 |   21.0000 |   35.0000 |   27.00000 |   19.0000 |   21.0000 |   68.000 |   90.0000 | ⋯ |   82.0000 |  411.0000 |  1083.0000 |  1286.0000 |  1621.0000 |  443 | 1100.0000 |   873.0000 |  487.0000 |  291.0000 |\n",
       "| ENSMUSG00000000037 |   57.24222 |  125.6492 |  535.8678 |  314.4085 |  114.8587 |   97.35308 |  699.3419 |  883.2799 |  743.272 |  333.0103 | ⋯ |  489.0157 |  184.8858 |   345.0086 |   507.4915 |   357.7912 |   75 |  219.3036 |   253.2669 |  208.8918 |  123.2886 |\n",
       "| ENSMUSG00000000049 |    0.00000 |    0.0000 |    0.0000 |    0.0000 |    0.0000 |    0.00000 |    0.0000 |    0.0000 |    2.000 |    0.0000 | ⋯ |    1.0000 |    0.0000 |     0.0000 |     0.0000 |     0.0000 |    0 |    0.0000 |     0.0000 |    0.0000 |    0.0000 |\n",
       "\n"
      ],
      "text/plain": [
       "                   SRR5517500 SRR5517501 SRR5517502 SRR5517503 SRR5517504\n",
       "ENSMUSG00000000001 2068.00000 1859.0000  2966.0000  2545.0000  2211.0000 \n",
       "ENSMUSG00000000003    0.00000    0.0000     0.0000     0.0000     0.0000 \n",
       "ENSMUSG00000000028 1049.00000 1252.0000  1377.0000   900.0000  1174.0000 \n",
       "ENSMUSG00000000031   21.00000   20.0000    19.0000    21.0000    35.0000 \n",
       "ENSMUSG00000000037   57.24222  125.6492   535.8678   314.4085   114.8587 \n",
       "ENSMUSG00000000049    0.00000    0.0000     0.0000     0.0000     0.0000 \n",
       "                   SRR5517505 SRR5517506 SRR5517507 SRR5517508 SRR5517509\n",
       "ENSMUSG00000000001 4792.00000 5192.0000  5233.0000  4693.000   6473.0000 \n",
       "ENSMUSG00000000003    0.00000    0.0000     0.0000     0.000      1.0000 \n",
       "ENSMUSG00000000028 2102.00000 1886.0000  1927.0000  1984.000   2568.0000 \n",
       "ENSMUSG00000000031   27.00000   19.0000    21.0000    68.000     90.0000 \n",
       "ENSMUSG00000000037   97.35308  699.3419   883.2799   743.272    333.0103 \n",
       "ENSMUSG00000000049    0.00000    0.0000     0.0000     2.000      0.0000 \n",
       "                   <U+22EF>   SRR5517514 SRR5517515 SRR5517516 SRR5517517\n",
       "ENSMUSG00000000001 <U+22EF> 9352.0000  7182.0000  12709.0000 18706.0000\n",
       "ENSMUSG00000000003 <U+22EF>    0.0000     0.0000      0.0000     0.0000\n",
       "ENSMUSG00000000028 <U+22EF> 3956.0000  2650.0000   5790.0000  6500.0000\n",
       "ENSMUSG00000000031 <U+22EF>   82.0000   411.0000   1083.0000  1286.0000\n",
       "ENSMUSG00000000037 <U+22EF>  489.0157   184.8858    345.0086   507.4915\n",
       "ENSMUSG00000000049 <U+22EF>    1.0000     0.0000      0.0000     0.0000\n",
       "                   SRR5517518 SRR5517519 SRR5517520 SRR5517521 SRR5517522\n",
       "ENSMUSG00000000001 11184.0000 1230       6731.0000  12695.0000 7882.0000 \n",
       "ENSMUSG00000000003     0.0000    0          1.0000      0.0000    0.0000 \n",
       "ENSMUSG00000000028  3913.0000  852       2105.0000   4494.0000 2550.0815 \n",
       "ENSMUSG00000000031  1621.0000  443       1100.0000    873.0000  487.0000 \n",
       "ENSMUSG00000000037   357.7912   75        219.3036    253.2669  208.8918 \n",
       "ENSMUSG00000000049     0.0000    0          0.0000      0.0000    0.0000 \n",
       "                   SRR5517523\n",
       "ENSMUSG00000000001 5317.0000 \n",
       "ENSMUSG00000000003    0.0000 \n",
       "ENSMUSG00000000028 1572.0000 \n",
       "ENSMUSG00000000031  291.0000 \n",
       "ENSMUSG00000000037  123.2886 \n",
       "ENSMUSG00000000049    0.0000 "
      ]
     },
     "metadata": {},
     "output_type": "display_data"
    }
   ],
   "source": [
    "head(tx_by_genes_all$counts)"
   ]
  },
  {
   "cell_type": "code",
   "execution_count": 10,
   "id": "047291bf-da88-4a42-868c-d4ca35105d88",
   "metadata": {},
   "outputs": [],
   "source": [
    "# exporting abundances for all genes\n",
    "write.csv(tx_by_genes_all$counts, file.path(elphege_proj_files, \"deseq-mm10-results\", \"tximport\", \"gene-counts.csv\"))"
   ]
  },
  {
   "cell_type": "code",
   "execution_count": null,
   "id": "a5ddd456-918f-448c-9112-26a99b73e44c",
   "metadata": {},
   "outputs": [],
   "source": [
    "dds_all <- DESeqDataSetFromTximport(tx_by_genes_all,\n",
    "                                colData = s2c,\n",
    "                                design = ~ condition)"
   ]
  },
  {
   "cell_type": "code",
   "execution_count": 19,
   "id": "35eb3084-c412-4f6d-a6a7-6befe52277da",
   "metadata": {},
   "outputs": [
    {
     "name": "stderr",
     "output_type": "stream",
     "text": [
      "using 'avgTxLength' from assays(dds), correcting for library size\n",
      "\n"
     ]
    }
   ],
   "source": [
    "vsd_all <- vst(dds_all, blind=FALSE)\n"
   ]
  },
  {
   "cell_type": "code",
   "execution_count": 20,
   "id": "433cfa72-57c7-405d-a26d-77ce3faf8809",
   "metadata": {},
   "outputs": [
    {
     "data": {
      "image/png": "[encoded data removed]",
      "text/plain": [
       "plot without title"
      ]
     },
     "metadata": {
      "image/png": {
       "height": 420,
       "width": 420
      }
     },
     "output_type": "display_data"
    }
   ],
   "source": [
    "plotPCA(vsd_all)"
   ]
  },
  {
   "cell_type": "code",
   "execution_count": 21,
   "id": "e5011638-4398-41d9-9572-9c72e2ee01da",
   "metadata": {},
   "outputs": [
    {
     "name": "stdout",
     "output_type": "stream",
     "text": [
      "[1] \"CTCF_AID_auxin1day\"     \"CTCF_AID_auxin2days\"    \"CTCF_AID_auxin4days\"   \n",
      "[4] \"CTCF_AID_untreated\"     \"CTCF_AID_washoff2days\"  \"WT_untagged_auxin2days\"\n",
      "[7] \"WT_untagged_auxin4days\" \"WT_untagged_untreated\" \n"
     ]
    }
   ],
   "source": [
    "print(levels(s2c$condition))\n",
    "\n",
    "\n"
   ]
  },
  {
   "cell_type": "markdown",
   "id": "9f6f6db0-7bd6-4c73-bfac-d7f8d36005da",
   "metadata": {},
   "source": [
    "## Pairwise deseq for genes for rest of conditions"
   ]
  },
  {
   "cell_type": "code",
   "execution_count": 15,
   "id": "20800a07-6d55-484b-a044-7ae279c4eaae",
   "metadata": {},
   "outputs": [
    {
     "name": "stdout",
     "output_type": "stream",
     "text": [
      "[1] \"Performing test for condition: CTCF_AID_auxin1day\"\n"
     ]
    },
    {
     "name": "stderr",
     "output_type": "stream",
     "text": [
      "1 \n",
      "2 \n",
      "3 \n",
      "4 \n",
      "5 \n",
      "6 \n",
      "\n",
      "\n",
      "transcripts missing from tx2gene: 8427\n",
      "\n",
      "summarizing abundance\n",
      "\n",
      "summarizing counts\n",
      "\n",
      "summarizing length\n",
      "\n",
      "summarizing inferential replicates\n",
      "\n"
     ]
    },
    {
     "name": "stdout",
     "output_type": "stream",
     "text": [
      "[1] \"Variables in design ~condition looks like: \"\n",
      "~condition\n"
     ]
    },
    {
     "name": "stderr",
     "output_type": "stream",
     "text": [
      "using counts and average transcript lengths from tximport\n",
      "\n",
      "estimating size factors\n",
      "\n",
      "using 'avgTxLength' from assays(dds), correcting for library size\n",
      "\n",
      "estimating dispersions\n",
      "\n",
      "gene-wise dispersion estimates\n",
      "\n",
      "mean-dispersion relationship\n",
      "\n",
      "final dispersion estimates\n",
      "\n",
      "fitting model and testing\n",
      "\n"
     ]
    },
    {
     "name": "stdout",
     "output_type": "stream",
     "text": [
      "log2 fold change (MLE): condition CTCF AID auxin1day vs CTCF AID untreated \n",
      "Wald test p-value: condition CTCF AID auxin1day vs CTCF AID untreated \n",
      "DataFrame with 6 rows and 6 columns\n",
      "                    baseMean log2FoldChange     lfcSE      stat      pvalue\n",
      "                   <numeric>      <numeric> <numeric> <numeric>   <numeric>\n",
      "ENSMUSG00000000001 4946.9216     -0.0308229  0.252413 -0.122113 9.02809e-01\n",
      "ENSMUSG00000000003    0.0000             NA        NA        NA          NA\n",
      "ENSMUSG00000000028 2277.2352     -0.0917477  0.176626 -0.519447 6.03449e-01\n",
      "ENSMUSG00000000031   27.6991     -0.3298840  0.641314 -0.514388 6.06981e-01\n",
      "ENSMUSG00000000037  330.5182      2.0200113  0.509448  3.965098 7.33658e-05\n",
      "ENSMUSG00000000049    0.0000             NA        NA        NA          NA\n",
      "                         padj\n",
      "                    <numeric>\n",
      "ENSMUSG00000000001 0.99997628\n",
      "ENSMUSG00000000003         NA\n",
      "ENSMUSG00000000028 0.99997628\n",
      "ENSMUSG00000000031 0.99997628\n",
      "ENSMUSG00000000037 0.00728352\n",
      "ENSMUSG00000000049         NA\n",
      "\n",
      "out of 24794 with nonzero total read count\n",
      "adjusted p-value < 0.05\n",
      "LFC > 0 (up)       : 116, 0.47%\n",
      "LFC < 0 (down)     : 147, 0.59%\n",
      "outliers [1]       : 87, 0.35%\n",
      "low counts [2]     : 7135, 29%\n",
      "(mean count < 6)\n",
      "[1] see 'cooksCutoff' argument of ?results\n",
      "[2] see 'independentFiltering' argument of ?results\n",
      "\n",
      "NULL\n",
      "[1] \"Performing test for condition: CTCF_AID_auxin2days\"\n"
     ]
    },
    {
     "name": "stderr",
     "output_type": "stream",
     "text": [
      "1 \n",
      "2 \n",
      "3 \n",
      "4 \n",
      "5 \n",
      "6 \n",
      "\n",
      "\n",
      "transcripts missing from tx2gene: 8427\n",
      "\n",
      "summarizing abundance\n",
      "\n",
      "summarizing counts\n",
      "\n",
      "summarizing length\n",
      "\n",
      "summarizing inferential replicates\n",
      "\n"
     ]
    },
    {
     "name": "stdout",
     "output_type": "stream",
     "text": [
      "[1] \"Variables in design ~condition looks like: \"\n",
      "~condition\n"
     ]
    },
    {
     "name": "stderr",
     "output_type": "stream",
     "text": [
      "using counts and average transcript lengths from tximport\n",
      "\n",
      "estimating size factors\n",
      "\n",
      "using 'avgTxLength' from assays(dds), correcting for library size\n",
      "\n",
      "estimating dispersions\n",
      "\n",
      "gene-wise dispersion estimates\n",
      "\n",
      "mean-dispersion relationship\n",
      "\n",
      "final dispersion estimates\n",
      "\n",
      "fitting model and testing\n",
      "\n"
     ]
    },
    {
     "name": "stdout",
     "output_type": "stream",
     "text": [
      "log2 fold change (MLE): condition CTCF AID auxin2days vs CTCF AID untreated \n",
      "Wald test p-value: condition CTCF AID auxin2days vs CTCF AID untreated \n",
      "DataFrame with 6 rows and 6 columns\n",
      "                    baseMean log2FoldChange     lfcSE      stat      pvalue\n",
      "                   <numeric>      <numeric> <numeric> <numeric>   <numeric>\n",
      "ENSMUSG00000000001 5001.9591      -0.148058  0.222614 -0.665088 5.05994e-01\n",
      "ENSMUSG00000000003    0.0000             NA        NA        NA          NA\n",
      "ENSMUSG00000000028 2244.6738      -0.302052  0.191133 -1.580322 1.14033e-01\n",
      "ENSMUSG00000000031   28.3536      -0.100458  0.620469 -0.161906 8.71380e-01\n",
      "ENSMUSG00000000037  433.3437       2.512400  0.320592  7.836763 4.62310e-15\n",
      "ENSMUSG00000000049    0.0000             NA        NA        NA          NA\n",
      "                          padj\n",
      "                     <numeric>\n",
      "ENSMUSG00000000001 9.23888e-01\n",
      "ENSMUSG00000000003          NA\n",
      "ENSMUSG00000000028 5.54805e-01\n",
      "ENSMUSG00000000031 9.90942e-01\n",
      "ENSMUSG00000000037 2.53903e-12\n",
      "ENSMUSG00000000049          NA\n",
      "\n",
      "out of 25000 with nonzero total read count\n",
      "adjusted p-value < 0.05\n",
      "LFC > 0 (up)       : 609, 2.4%\n",
      "LFC < 0 (down)     : 288, 1.2%\n",
      "outliers [1]       : 89, 0.36%\n",
      "low counts [2]     : 6238, 25%\n",
      "(mean count < 4)\n",
      "[1] see 'cooksCutoff' argument of ?results\n",
      "[2] see 'independentFiltering' argument of ?results\n",
      "\n",
      "NULL\n",
      "[1] \"Performing test for condition: CTCF_AID_auxin4days\"\n"
     ]
    },
    {
     "name": "stderr",
     "output_type": "stream",
     "text": [
      "1 \n",
      "2 \n",
      "3 \n",
      "4 \n",
      "5 \n",
      "6 \n",
      "\n",
      "\n",
      "transcripts missing from tx2gene: 8427\n",
      "\n",
      "summarizing abundance\n",
      "\n",
      "summarizing counts\n",
      "\n",
      "summarizing length\n",
      "\n",
      "summarizing inferential replicates\n",
      "\n"
     ]
    },
    {
     "name": "stdout",
     "output_type": "stream",
     "text": [
      "[1] \"Variables in design ~condition looks like: \"\n",
      "~condition\n"
     ]
    },
    {
     "name": "stderr",
     "output_type": "stream",
     "text": [
      "using counts and average transcript lengths from tximport\n",
      "\n",
      "estimating size factors\n",
      "\n",
      "using 'avgTxLength' from assays(dds), correcting for library size\n",
      "\n",
      "estimating dispersions\n",
      "\n",
      "gene-wise dispersion estimates\n",
      "\n",
      "mean-dispersion relationship\n",
      "\n",
      "final dispersion estimates\n",
      "\n",
      "fitting model and testing\n",
      "\n"
     ]
    },
    {
     "name": "stdout",
     "output_type": "stream",
     "text": [
      "log2 fold change (MLE): condition CTCF AID auxin4days vs CTCF AID untreated \n",
      "Wald test p-value: condition CTCF AID auxin4days vs CTCF AID untreated \n",
      "DataFrame with 6 rows and 6 columns\n",
      "                      baseMean log2FoldChange     lfcSE      stat      pvalue\n",
      "                     <numeric>      <numeric> <numeric> <numeric>   <numeric>\n",
      "ENSMUSG00000000001 4948.928170      -0.158858  0.200859 -0.790893 4.29006e-01\n",
      "ENSMUSG00000000003    0.000000             NA        NA        NA          NA\n",
      "ENSMUSG00000000028 2129.077342      -0.433839  0.180891 -2.398340 1.64696e-02\n",
      "ENSMUSG00000000031   38.635521       0.724092  0.553304  1.308671 1.90646e-01\n",
      "ENSMUSG00000000037  379.427633       2.157000  0.299316  7.206440 5.74338e-13\n",
      "ENSMUSG00000000049    0.816414       3.147246  3.577265  0.879791 3.78973e-01\n",
      "                          padj\n",
      "                     <numeric>\n",
      "ENSMUSG00000000001 6.78132e-01\n",
      "ENSMUSG00000000003          NA\n",
      "ENSMUSG00000000028 7.11982e-02\n",
      "ENSMUSG00000000031 4.14096e-01\n",
      "ENSMUSG00000000037 3.70744e-11\n",
      "ENSMUSG00000000049          NA\n",
      "\n",
      "out of 25351 with nonzero total read count\n",
      "adjusted p-value < 0.05\n",
      "LFC > 0 (up)       : 2338, 9.2%\n",
      "LFC < 0 (down)     : 1704, 6.7%\n",
      "outliers [1]       : 76, 0.3%\n",
      "low counts [2]     : 5845, 23%\n",
      "(mean count < 3)\n",
      "[1] see 'cooksCutoff' argument of ?results\n",
      "[2] see 'independentFiltering' argument of ?results\n",
      "\n",
      "NULL\n",
      "[1] \"Performing test for condition: CTCF_AID_washoff2days\"\n"
     ]
    },
    {
     "name": "stderr",
     "output_type": "stream",
     "text": [
      "1 \n",
      "2 \n",
      "3 \n",
      "4 \n",
      "5 \n",
      "6 \n",
      "\n",
      "\n",
      "transcripts missing from tx2gene: 8427\n",
      "\n",
      "summarizing abundance\n",
      "\n",
      "summarizing counts\n",
      "\n",
      "summarizing length\n",
      "\n",
      "summarizing inferential replicates\n",
      "\n"
     ]
    },
    {
     "name": "stdout",
     "output_type": "stream",
     "text": [
      "[1] \"Variables in design ~condition looks like: \"\n",
      "~condition\n"
     ]
    },
    {
     "name": "stderr",
     "output_type": "stream",
     "text": [
      "using counts and average transcript lengths from tximport\n",
      "\n",
      "estimating size factors\n",
      "\n",
      "using 'avgTxLength' from assays(dds), correcting for library size\n",
      "\n",
      "estimating dispersions\n",
      "\n",
      "gene-wise dispersion estimates\n",
      "\n",
      "mean-dispersion relationship\n",
      "\n",
      "final dispersion estimates\n",
      "\n",
      "fitting model and testing\n",
      "\n"
     ]
    },
    {
     "name": "stdout",
     "output_type": "stream",
     "text": [
      "log2 fold change (MLE): condition CTCF AID washoff2days vs CTCF AID untreated \n",
      "Wald test p-value: condition CTCF AID washoff2days vs CTCF AID untreated \n",
      "DataFrame with 6 rows and 6 columns\n",
      "                      baseMean log2FoldChange     lfcSE      stat    pvalue\n",
      "                     <numeric>      <numeric> <numeric> <numeric> <numeric>\n",
      "ENSMUSG00000000001 5192.404215      0.0244910  0.233400  0.104932 0.9164301\n",
      "ENSMUSG00000000003    0.140060      1.0783969  4.070709  0.264916 0.7910740\n",
      "ENSMUSG00000000028 2371.726261     -0.0645147  0.196175 -0.328863 0.7422591\n",
      "ENSMUSG00000000031   51.086003      1.3586945  0.563756  2.410074 0.0159493\n",
      "ENSMUSG00000000037  194.658852      1.0106096  0.318469  3.173333 0.0015070\n",
      "ENSMUSG00000000049    0.106074      0.9642415  4.074714  0.236640 0.8129359\n",
      "                        padj\n",
      "                   <numeric>\n",
      "ENSMUSG00000000001 0.9999880\n",
      "ENSMUSG00000000003        NA\n",
      "ENSMUSG00000000028 0.9999880\n",
      "ENSMUSG00000000031 0.4529011\n",
      "ENSMUSG00000000037 0.0986712\n",
      "ENSMUSG00000000049        NA\n",
      "\n",
      "out of 25006 with nonzero total read count\n",
      "adjusted p-value < 0.05\n",
      "LFC > 0 (up)       : 201, 0.8%\n",
      "LFC < 0 (down)     : 12, 0.048%\n",
      "outliers [1]       : 75, 0.3%\n",
      "low counts [2]     : 6720, 27%\n",
      "(mean count < 5)\n",
      "[1] see 'cooksCutoff' argument of ?results\n",
      "[2] see 'independentFiltering' argument of ?results\n",
      "\n",
      "NULL\n",
      "[1] \"Performing test for condition: WT_untagged_auxin2days\"\n"
     ]
    },
    {
     "name": "stderr",
     "output_type": "stream",
     "text": [
      "1 \n",
      "2 \n",
      "3 \n",
      "4 \n",
      "5 \n",
      "6 \n",
      "\n",
      "\n",
      "transcripts missing from tx2gene: 8427\n",
      "\n",
      "summarizing abundance\n",
      "\n",
      "summarizing counts\n",
      "\n",
      "summarizing length\n",
      "\n",
      "summarizing inferential replicates\n",
      "\n"
     ]
    },
    {
     "name": "stdout",
     "output_type": "stream",
     "text": [
      "[1] \"Variables in design ~condition looks like: \"\n",
      "~condition\n"
     ]
    },
    {
     "name": "stderr",
     "output_type": "stream",
     "text": [
      "using counts and average transcript lengths from tximport\n",
      "\n",
      "estimating size factors\n",
      "\n",
      "using 'avgTxLength' from assays(dds), correcting for library size\n",
      "\n",
      "estimating dispersions\n",
      "\n",
      "gene-wise dispersion estimates\n",
      "\n",
      "mean-dispersion relationship\n",
      "\n",
      "final dispersion estimates\n",
      "\n",
      "fitting model and testing\n",
      "\n"
     ]
    },
    {
     "name": "stdout",
     "output_type": "stream",
     "text": [
      "log2 fold change (MLE): condition WT untagged auxin2days vs CTCF AID untreated \n",
      "Wald test p-value: condition WT untagged auxin2days vs CTCF AID untreated \n",
      "DataFrame with 6 rows and 6 columns\n",
      "                    baseMean log2FoldChange     lfcSE       stat      pvalue\n",
      "                   <numeric>      <numeric> <numeric>  <numeric>   <numeric>\n",
      "ENSMUSG00000000001  5474.841      0.0102988  0.478707  0.0215137 9.82836e-01\n",
      "ENSMUSG00000000003     0.000             NA        NA         NA          NA\n",
      "ENSMUSG00000000028  2434.608     -0.1331290  0.349009 -0.3814488 7.02870e-01\n",
      "ENSMUSG00000000031   312.997      4.2142904  0.490700  8.5883162 8.82531e-18\n",
      "ENSMUSG00000000037   154.702      0.2352174  0.465551  0.5052455 6.13386e-01\n",
      "ENSMUSG00000000049     0.000             NA        NA         NA          NA\n",
      "                         padj\n",
      "                    <numeric>\n",
      "ENSMUSG00000000001 9.9994e-01\n",
      "ENSMUSG00000000003         NA\n",
      "ENSMUSG00000000028 9.9994e-01\n",
      "ENSMUSG00000000031 9.2529e-14\n",
      "ENSMUSG00000000037 9.9994e-01\n",
      "ENSMUSG00000000049         NA\n",
      "\n",
      "out of 24888 with nonzero total read count\n",
      "adjusted p-value < 0.05\n",
      "LFC > 0 (up)       : 14, 0.056%\n",
      "LFC < 0 (down)     : 8, 0.032%\n",
      "outliers [1]       : 98, 0.39%\n",
      "low counts [2]     : 3821, 15%\n",
      "(mean count < 1)\n",
      "[1] see 'cooksCutoff' argument of ?results\n",
      "[2] see 'independentFiltering' argument of ?results\n",
      "\n",
      "NULL\n",
      "[1] \"Performing test for condition: WT_untagged_auxin4days\"\n"
     ]
    },
    {
     "name": "stderr",
     "output_type": "stream",
     "text": [
      "1 \n",
      "2 \n",
      "3 \n",
      "4 \n",
      "5 \n",
      "6 \n",
      "\n",
      "\n",
      "transcripts missing from tx2gene: 8427\n",
      "\n",
      "summarizing abundance\n",
      "\n",
      "summarizing counts\n",
      "\n",
      "summarizing length\n",
      "\n",
      "summarizing inferential replicates\n",
      "\n"
     ]
    },
    {
     "name": "stdout",
     "output_type": "stream",
     "text": [
      "[1] \"Variables in design ~condition looks like: \"\n",
      "~condition\n"
     ]
    },
    {
     "name": "stderr",
     "output_type": "stream",
     "text": [
      "using counts and average transcript lengths from tximport\n",
      "\n",
      "estimating size factors\n",
      "\n",
      "using 'avgTxLength' from assays(dds), correcting for library size\n",
      "\n",
      "estimating dispersions\n",
      "\n",
      "gene-wise dispersion estimates\n",
      "\n",
      "mean-dispersion relationship\n",
      "\n",
      "final dispersion estimates\n",
      "\n",
      "fitting model and testing\n",
      "\n"
     ]
    },
    {
     "name": "stdout",
     "output_type": "stream",
     "text": [
      "log2 fold change (MLE): condition WT untagged auxin4days vs CTCF AID untreated \n",
      "Wald test p-value: condition WT untagged auxin4days vs CTCF AID untreated \n",
      "DataFrame with 6 rows and 6 columns\n",
      "                      baseMean log2FoldChange     lfcSE      stat      pvalue\n",
      "                     <numeric>      <numeric> <numeric> <numeric>   <numeric>\n",
      "ENSMUSG00000000001 6848.932736       0.400170  0.206748  1.935545 5.29235e-02\n",
      "ENSMUSG00000000003    0.165093       0.855741  4.054581  0.211055 8.32844e-01\n",
      "ENSMUSG00000000028 2626.234836      -0.180206  0.197151 -0.914049 3.60691e-01\n",
      "ENSMUSG00000000031  366.997700       4.347430  0.467961  9.290158 1.54060e-20\n",
      "ENSMUSG00000000037  175.036980       0.423305  0.285896  1.480628 1.38706e-01\n",
      "ENSMUSG00000000049    0.000000             NA        NA        NA          NA\n",
      "                          padj\n",
      "                     <numeric>\n",
      "ENSMUSG00000000001 5.18853e-01\n",
      "ENSMUSG00000000003          NA\n",
      "ENSMUSG00000000028 7.99485e-01\n",
      "ENSMUSG00000000031 1.24634e-16\n",
      "ENSMUSG00000000037 6.36283e-01\n",
      "ENSMUSG00000000049          NA\n",
      "\n",
      "out of 25645 with nonzero total read count\n",
      "adjusted p-value < 0.05\n",
      "LFC > 0 (up)       : 63, 0.25%\n",
      "LFC < 0 (down)     : 43, 0.17%\n",
      "outliers [1]       : 100, 0.39%\n",
      "low counts [2]     : 9365, 37%\n",
      "(mean count < 13)\n",
      "[1] see 'cooksCutoff' argument of ?results\n",
      "[2] see 'independentFiltering' argument of ?results\n",
      "\n",
      "NULL\n",
      "[1] \"Performing test for condition: WT_untagged_untreated\"\n"
     ]
    },
    {
     "name": "stderr",
     "output_type": "stream",
     "text": [
      "1 \n",
      "2 \n",
      "3 \n",
      "4 \n",
      "5 \n",
      "6 \n",
      "\n",
      "\n",
      "transcripts missing from tx2gene: 8427\n",
      "\n",
      "summarizing abundance\n",
      "\n",
      "summarizing counts\n",
      "\n",
      "summarizing length\n",
      "\n",
      "summarizing inferential replicates\n",
      "\n"
     ]
    },
    {
     "name": "stdout",
     "output_type": "stream",
     "text": [
      "[1] \"Variables in design ~condition looks like: \"\n",
      "~condition\n"
     ]
    },
    {
     "name": "stderr",
     "output_type": "stream",
     "text": [
      "using counts and average transcript lengths from tximport\n",
      "\n",
      "estimating size factors\n",
      "\n",
      "using 'avgTxLength' from assays(dds), correcting for library size\n",
      "\n",
      "estimating dispersions\n",
      "\n",
      "gene-wise dispersion estimates\n",
      "\n",
      "mean-dispersion relationship\n",
      "\n",
      "final dispersion estimates\n",
      "\n",
      "fitting model and testing\n",
      "\n"
     ]
    },
    {
     "name": "stdout",
     "output_type": "stream",
     "text": [
      "log2 fold change (MLE): condition WT untagged untreated vs CTCF AID untreated \n",
      "Wald test p-value: condition WT untagged untreated vs CTCF AID untreated \n",
      "DataFrame with 6 rows and 6 columns\n",
      "                    baseMean log2FoldChange     lfcSE      stat      pvalue\n",
      "                   <numeric>      <numeric> <numeric> <numeric>   <numeric>\n",
      "ENSMUSG00000000001  7307.100       0.296431  0.189243  1.566401 1.17255e-01\n",
      "ENSMUSG00000000003     0.000             NA        NA        NA          NA\n",
      "ENSMUSG00000000028  2982.190      -0.121074  0.179385 -0.674937 4.99716e-01\n",
      "ENSMUSG00000000031   362.703       4.168079  0.449292  9.276999 1.74319e-20\n",
      "ENSMUSG00000000037   179.959       0.347245  0.255703  1.358000 1.74464e-01\n",
      "ENSMUSG00000000049     0.000             NA        NA        NA          NA\n",
      "                          padj\n",
      "                     <numeric>\n",
      "ENSMUSG00000000001 7.95288e-01\n",
      "ENSMUSG00000000003          NA\n",
      "ENSMUSG00000000028 9.33692e-01\n",
      "ENSMUSG00000000031 1.07938e-16\n",
      "ENSMUSG00000000037 8.35826e-01\n",
      "ENSMUSG00000000049          NA\n",
      "\n",
      "out of 25535 with nonzero total read count\n",
      "adjusted p-value < 0.05\n",
      "LFC > 0 (up)       : 32, 0.13%\n",
      "LFC < 0 (down)     : 39, 0.15%\n",
      "outliers [1]       : 88, 0.34%\n",
      "low counts [2]     : 6871, 27%\n",
      "(mean count < 4)\n",
      "[1] see 'cooksCutoff' argument of ?results\n",
      "[2] see 'independentFiltering' argument of ?results\n",
      "\n",
      "NULL\n"
     ]
    }
   ],
   "source": [
    " ## saving all .csvs and getting summaries to generate heatmaps for all of these conditions\n",
    "for (cond in levels(s2c$condition)) {\n",
    "    \n",
    "    if (cond != 'CTCF_AID_untreated') {\n",
    "        \n",
    "        print(paste(\"Performing test for condition:\", cond))\n",
    "        \n",
    "        s2c_untreated_vs_variable <- s2c[ (s2c$condition=='CTCF_AID_untreated') | \n",
    "                                       (s2c$condition==cond) , ]\n",
    "\n",
    "        files_untreated_vs_variable = files[s2c_untreated_vs_variable$sample]\n",
    "\n",
    "        s2c_untreated_vs_variable$condition <-  factor(s2c_untreated_vs_variable$condition,\n",
    "                                                    levels = c(\"CTCF_AID_untreated\", cond))\n",
    "        tx_by_genes <- tximport(\n",
    "                 files_untreated_vs_variable,\n",
    "                 type = \"kallisto\", \n",
    "                 tx2gene = tx2gene, \n",
    "                 ignoreAfterBar = TRUE, \n",
    "                )\n",
    "        \n",
    "        print(\"Variables in design ~condition looks like: \")\n",
    "        print(~ condition)\n",
    "        \n",
    "        dds <- DESeqDataSetFromTximport(tx_by_genes,\n",
    "                                colData = s2c_untreated_vs_variable,\n",
    "                                design = ~ condition)\n",
    "        \n",
    "        \n",
    "        dds <- DESeq(dds)\n",
    "        \n",
    "        res <- results(dds, name=paste('condition_', cond, '_vs_CTCF_AID_untreated', sep=\"\"), alpha=0.05)\n",
    "        \n",
    "        print(head(res, 6))\n",
    "        \n",
    "        # save as .csv so can generate heat plots, analyze elsewhere, etc\n",
    "        write.csv(res,file.path(elphege_proj_files, \"deseq-mm10-results\", paste(\"pairwise_deseq_wt_\", cond, \".csv\", sep=\"\")))\n",
    "        \n",
    "        # printing some general stats about the significant set\n",
    "        print(summary(results(dds, alpha=0.05)))\n",
    "        \n",
    "    }\n",
    "    \n",
    "}"
   ]
  },
  {
   "cell_type": "markdown",
   "id": "b289d36c-28ee-4632-9046-6aa0333bed95",
   "metadata": {},
   "source": [
    "# Controlling for batch effect in DESeq\n",
    "\n"
   ]
  },
  {
   "cell_type": "code",
   "execution_count": 22,
   "id": "daf82cbd-7835-455e-a7ca-bd26a8867726",
   "metadata": {},
   "outputs": [
    {
     "data": {
      "text/html": [
       "'3'"
      ],
      "text/latex": [
       "'3'"
      ],
      "text/markdown": [
       "'3'"
      ],
      "text/plain": [
       "[1] \"3\""
      ]
     },
     "metadata": {},
     "output_type": "display_data"
    }
   ],
   "source": [
    "str_split_fixed( str_split_fixed(\n",
    "    sra_summary$Experiment.Title[1], \n",
    "    '_rep', 2)[,2], ';', 2)[,1]"
   ]
  },
  {
   "cell_type": "code",
   "execution_count": 23,
   "id": "5e4393b5-b66c-48b9-897a-d2ccd9906bdd",
   "metadata": {},
   "outputs": [],
   "source": [
    "# ## note: added this segment above, during initial loading (putting here for ref)\n",
    "# batches = data.frame(\n",
    "#                 batch=str_split_fixed( str_split_fixed(\n",
    "#                 sra_summary$Experiment.Title, \n",
    "#                 '_rep', 2)[,2], ';', 2)[,1])\n",
    "\n",
    "# sra_summary <- cbind(sra_summary,  conditions, batches)\n",
    "\n",
    "# setting up experiment to include both condition and replicate number\n",
    "s2condition_batch <- dplyr::select(sra_info_combined, Experiment, Run, condition, batch, Library.Strategy, Library.Selection)\n",
    "s2condition_batch <- dplyr::select(s2condition_batch, sample = Run, condition, batch)\n",
    "s2condition_batch$condition <- gsub('-', '_', s2condition_batch$condition) # apparently R wants  of factors in the design to only have letters, numbers, '_' and '.'\n",
    "s2condition_batch$condition <- as.factor(s2condition_batch$condition)        # Convert character column to factor (not necessary, just suppresses warning below)"
   ]
  },
  {
   "cell_type": "markdown",
   "id": "93008109-3951-4d3e-8416-87c0da460242",
   "metadata": {},
   "source": [
    "## Looking at impact of batch"
   ]
  },
  {
   "cell_type": "code",
   "execution_count": 24,
   "id": "dddf09e2-5174-4197-bed0-cc9b19902214",
   "metadata": {},
   "outputs": [
    {
     "name": "stderr",
     "output_type": "stream",
     "text": [
      "1 \n",
      "2 \n",
      "3 \n",
      "4 \n",
      "5 \n",
      "6 \n",
      "7 \n",
      "8 \n",
      "9 \n",
      "10 \n",
      "11 \n",
      "12 \n",
      "13 \n",
      "14 \n",
      "15 \n",
      "16 \n",
      "17 \n",
      "18 \n",
      "19 \n",
      "20 \n",
      "21 \n",
      "22 \n",
      "23 \n",
      "24 \n",
      "\n",
      "\n",
      "removing duplicated transcript rows from tx2gene\n",
      "\n",
      "transcripts missing from tx2gene: 47421\n",
      "\n",
      "summarizing abundance\n",
      "\n",
      "summarizing counts\n",
      "\n",
      "summarizing length\n",
      "\n",
      "summarizing inferential replicates\n",
      "\n"
     ]
    }
   ],
   "source": [
    "tx_by_genes_all_batch <- tximport(\n",
    "                 files[s2condition_batch$sample],\n",
    "                 type = \"kallisto\", \n",
    "                 tx2gene = tx2gene, \n",
    "                 ignoreAfterBar = TRUE, \n",
    "                )"
   ]
  },
  {
   "cell_type": "code",
   "execution_count": 25,
   "id": "a3376ff5-b199-4b01-a441-284ba5ffdae8",
   "metadata": {},
   "outputs": [
    {
     "name": "stderr",
     "output_type": "stream",
     "text": [
      "Warning message in DESeqDataSet(se, design = design, ignoreRank):\n",
      "\"some variables in design formula are characters, converting to factors\"\n",
      "using counts and average transcript lengths from tximport\n",
      "\n"
     ]
    }
   ],
   "source": [
    "## Training model with all and looking at quality of data\n",
    "dds_all_batch <- DESeqDataSetFromTximport(tx_by_genes_all_batch,\n",
    "                                colData = s2condition_batch,\n",
    "                                design = ~batch + condition )\n"
   ]
  },
  {
   "cell_type": "code",
   "execution_count": 26,
   "id": "117b3b9a-562a-48be-95e9-c9f5f621b976",
   "metadata": {},
   "outputs": [
    {
     "name": "stderr",
     "output_type": "stream",
     "text": [
      "using 'avgTxLength' from assays(dds), correcting for library size\n",
      "\n"
     ]
    },
    {
     "data": {
      "image/png": "[encoded data removed]",
      "text/plain": [
       "plot without title"
      ]
     },
     "metadata": {
      "image/png": {
       "height": 420,
       "width": 420
      }
     },
     "output_type": "display_data"
    }
   ],
   "source": [
    "vsd_batch <- vst(dds_all_batch)\n",
    "\n",
    "plotPCA(vsd_batch, intgroup=c(\"batch\"))"
   ]
  },
  {
   "cell_type": "code",
   "execution_count": 27,
   "id": "47be4f34-b043-48fb-bb11-ead588e294b9",
   "metadata": {},
   "outputs": [],
   "source": [
    "library(ggplot2)"
   ]
  },
  {
   "cell_type": "code",
   "execution_count": 28,
   "id": "7e544cf2-3296-4dec-af99-314575de10ca",
   "metadata": {},
   "outputs": [
    {
     "data": {
      "image/png": "[encoded data removed]",
      "text/plain": [
       "plot without title"
      ]
     },
     "metadata": {
      "image/png": {
       "height": 420,
       "width": 420
      }
     },
     "output_type": "display_data"
    }
   ],
   "source": [
    "pcaData <- plotPCA(vsd_batch, intgroup=c(\"condition\", \"batch\"), returnData=TRUE)\n",
    "percentVar <- round(100 * attr(pcaData, \"percentVar\"))\n",
    "ggplot(pcaData, aes(PC1, PC2, color=condition, shape=batch)) +\n",
    "  geom_point(size=3) +\n",
    "  xlab(paste0(\"PC1: \",percentVar[1],\"% variance\")) +\n",
    "  ylab(paste0(\"PC2: \",percentVar[2],\"% variance\")) + \n",
    "  coord_fixed()"
   ]
  },
  {
   "cell_type": "code",
   "execution_count": 35,
   "id": "cb93e2b1-80db-49b3-af5e-a8ed261345f4",
   "metadata": {},
   "outputs": [
    {
     "name": "stderr",
     "output_type": "stream",
     "text": [
      "1 \n",
      "2 \n",
      "3 \n",
      "4 \n",
      "5 \n",
      "6 \n",
      "7 \n",
      "8 \n",
      "9 \n",
      "10 \n",
      "11 \n",
      "12 \n",
      "13 \n",
      "14 \n",
      "15 \n",
      "16 \n",
      "\n",
      "\n",
      "removing duplicated transcript rows from tx2gene\n",
      "\n",
      "transcripts missing from tx2gene: 47421\n",
      "\n",
      "summarizing abundance\n",
      "\n",
      "summarizing counts\n",
      "\n",
      "summarizing length\n",
      "\n",
      "summarizing inferential replicates\n",
      "\n"
     ]
    }
   ],
   "source": [
    "# Try removing replicate 1\n",
    "s2condition_batch_no1 <- s2condition_batch[s2condition_batch$batch != 1, ]\n",
    "\n",
    "tx_by_genes_subtracted_batch <- tximport(\n",
    "                 files[s2condition_batch_no1$sample],\n",
    "                 type = \"kallisto\", \n",
    "                 tx2gene = tx2gene, \n",
    "                 ignoreAfterBar = TRUE, \n",
    "                )"
   ]
  },
  {
   "cell_type": "code",
   "execution_count": 37,
   "id": "e4bd3b15-c210-415c-a091-d9ba420c296c",
   "metadata": {},
   "outputs": [
    {
     "name": "stderr",
     "output_type": "stream",
     "text": [
      "Warning message in DESeqDataSet(se, design = design, ignoreRank):\n",
      "\"some variables in design formula are characters, converting to factors\"\n",
      "using counts and average transcript lengths from tximport\n",
      "\n"
     ]
    }
   ],
   "source": [
    "dds_sub_batch <- DESeqDataSetFromTximport(tx_by_genes_subtracted_batch,\n",
    "                                colData = s2condition_batch_no1,\n",
    "                                design = ~batch + condition )"
   ]
  },
  {
   "cell_type": "code",
   "execution_count": 39,
   "id": "fa719a72-b8db-489a-8bb7-f9a078f2b679",
   "metadata": {},
   "outputs": [
    {
     "name": "stderr",
     "output_type": "stream",
     "text": [
      "using 'avgTxLength' from assays(dds), correcting for library size\n",
      "\n"
     ]
    },
    {
     "data": {
      "image/png": "[encoded data removed]",
      "text/plain": [
       "plot without title"
      ]
     },
     "metadata": {
      "image/png": {
       "height": 420,
       "width": 420
      }
     },
     "output_type": "display_data"
    }
   ],
   "source": [
    "vsd_sub_batch <- vst(dds_sub_batch)\n",
    "\n",
    "plotPCA(vsd_sub_batch, intgroup=c(\"batch\", \"condition\"))"
   ]
  },
  {
   "cell_type": "code",
   "execution_count": 25,
   "id": "c4c998cf-cb4c-4ded-83f5-bf109a155b07",
   "metadata": {},
   "outputs": [],
   "source": [
    "# Looking at model set up for adding batch to s2c\n",
    "s2c_untreated_vs_variable <- s2condition_batch[ \n",
    "                                (s2condition_batch$condition=='CTCF_AID_untreated') | \n",
    "                                (s2condition_batch$condition=='CTCF_AID_auxin1day') , ]\n",
    "\n",
    "files_untreated_vs_variable = files[s2c_untreated_vs_variable$sample]\n",
    "\n",
    "s2c_untreated_vs_variable$condition <-  factor(s2c_untreated_vs_variable$condition,\n",
    "                                            levels = c(\"CTCF_AID_untreated\", 'CTCF_AID_auxin1day'))\n",
    "\n",
    "s2c_untreated_vs_variable$batch <- factor(s2c_untreated_vs_variable$batch)"
   ]
  },
  {
   "cell_type": "code",
   "execution_count": null,
   "id": "c23fa1ef-b2e3-4d20-b8a2-23b9b9507bcc",
   "metadata": {},
   "outputs": [],
   "source": []
  },
  {
   "cell_type": "code",
   "execution_count": 26,
   "id": "b673f980-a96d-4148-9b9b-a68d254ab5b4",
   "metadata": {},
   "outputs": [
    {
     "data": {
      "text/html": [
       "<table class=\"dataframe\">\n",
       "<caption>A data.frame: 6 × 3</caption>\n",
       "<thead>\n",
       "\t<tr><th></th><th scope=col>sample</th><th scope=col>condition</th><th scope=col>batch</th></tr>\n",
       "\t<tr><th></th><th scope=col>&lt;chr&gt;</th><th scope=col>&lt;fct&gt;</th><th scope=col>&lt;fct&gt;</th></tr>\n",
       "</thead>\n",
       "<tbody>\n",
       "\t<tr><th scope=row>1</th><td>SRR5517500</td><td>CTCF_AID_untreated</td><td>1</td></tr>\n",
       "\t<tr><th scope=row>2</th><td>SRR5517501</td><td>CTCF_AID_auxin1day</td><td>1</td></tr>\n",
       "\t<tr><th scope=row>6</th><td>SRR5517505</td><td>CTCF_AID_untreated</td><td>2</td></tr>\n",
       "\t<tr><th scope=row>7</th><td>SRR5517506</td><td>CTCF_AID_auxin1day</td><td>2</td></tr>\n",
       "\t<tr><th scope=row>11</th><td>SRR5517510</td><td>CTCF_AID_untreated</td><td>3</td></tr>\n",
       "\t<tr><th scope=row>12</th><td>SRR5517511</td><td>CTCF_AID_auxin1day</td><td>3</td></tr>\n",
       "</tbody>\n",
       "</table>\n"
      ],
      "text/latex": [
       "A data.frame: 6 × 3\n",
       "\\begin{tabular}{r|lll}\n",
       "  & sample & condition & batch\\\\\n",
       "  & <chr> & <fct> & <fct>\\\\\n",
       "\\hline\n",
       "\t1 & SRR5517500 & CTCF\\_AID\\_untreated & 1\\\\\n",
       "\t2 & SRR5517501 & CTCF\\_AID\\_auxin1day & 1\\\\\n",
       "\t6 & SRR5517505 & CTCF\\_AID\\_untreated & 2\\\\\n",
       "\t7 & SRR5517506 & CTCF\\_AID\\_auxin1day & 2\\\\\n",
       "\t11 & SRR5517510 & CTCF\\_AID\\_untreated & 3\\\\\n",
       "\t12 & SRR5517511 & CTCF\\_AID\\_auxin1day & 3\\\\\n",
       "\\end{tabular}\n"
      ],
      "text/markdown": [
       "\n",
       "A data.frame: 6 × 3\n",
       "\n",
       "| <!--/--> | sample &lt;chr&gt; | condition &lt;fct&gt; | batch &lt;fct&gt; |\n",
       "|---|---|---|---|\n",
       "| 1 | SRR5517500 | CTCF_AID_untreated | 1 |\n",
       "| 2 | SRR5517501 | CTCF_AID_auxin1day | 1 |\n",
       "| 6 | SRR5517505 | CTCF_AID_untreated | 2 |\n",
       "| 7 | SRR5517506 | CTCF_AID_auxin1day | 2 |\n",
       "| 11 | SRR5517510 | CTCF_AID_untreated | 3 |\n",
       "| 12 | SRR5517511 | CTCF_AID_auxin1day | 3 |\n",
       "\n"
      ],
      "text/plain": [
       "   sample     condition          batch\n",
       "1  SRR5517500 CTCF_AID_untreated 1    \n",
       "2  SRR5517501 CTCF_AID_auxin1day 1    \n",
       "6  SRR5517505 CTCF_AID_untreated 2    \n",
       "7  SRR5517506 CTCF_AID_auxin1day 2    \n",
       "11 SRR5517510 CTCF_AID_untreated 3    \n",
       "12 SRR5517511 CTCF_AID_auxin1day 3    "
      ]
     },
     "metadata": {},
     "output_type": "display_data"
    }
   ],
   "source": [
    "s2c_untreated_vs_variable"
   ]
  },
  {
   "cell_type": "code",
   "execution_count": 27,
   "id": "556cc80d-3ea2-491d-9a9e-c97d49be1777",
   "metadata": {},
   "outputs": [
    {
     "data": {
      "text/html": [
       "<table class=\"dataframe\">\n",
       "<caption>A matrix: 6 × 4 of type dbl</caption>\n",
       "<thead>\n",
       "\t<tr><th></th><th scope=col>(Intercept)</th><th scope=col>s2c_untreated_vs_variable$batch2</th><th scope=col>s2c_untreated_vs_variable$batch3</th><th scope=col>s2c_untreated_vs_variable$conditionCTCF_AID_auxin1day</th></tr>\n",
       "</thead>\n",
       "<tbody>\n",
       "\t<tr><th scope=row>1</th><td>1</td><td>0</td><td>0</td><td>0</td></tr>\n",
       "\t<tr><th scope=row>2</th><td>1</td><td>0</td><td>0</td><td>1</td></tr>\n",
       "\t<tr><th scope=row>3</th><td>1</td><td>1</td><td>0</td><td>0</td></tr>\n",
       "\t<tr><th scope=row>4</th><td>1</td><td>1</td><td>0</td><td>1</td></tr>\n",
       "\t<tr><th scope=row>5</th><td>1</td><td>0</td><td>1</td><td>0</td></tr>\n",
       "\t<tr><th scope=row>6</th><td>1</td><td>0</td><td>1</td><td>1</td></tr>\n",
       "</tbody>\n",
       "</table>\n"
      ],
      "text/latex": [
       "A matrix: 6 × 4 of type dbl\n",
       "\\begin{tabular}{r|llll}\n",
       "  & (Intercept) & s2c\\_untreated\\_vs\\_variable\\$batch2 & s2c\\_untreated\\_vs\\_variable\\$batch3 & s2c\\_untreated\\_vs\\_variable\\$conditionCTCF\\_AID\\_auxin1day\\\\\n",
       "\\hline\n",
       "\t1 & 1 & 0 & 0 & 0\\\\\n",
       "\t2 & 1 & 0 & 0 & 1\\\\\n",
       "\t3 & 1 & 1 & 0 & 0\\\\\n",
       "\t4 & 1 & 1 & 0 & 1\\\\\n",
       "\t5 & 1 & 0 & 1 & 0\\\\\n",
       "\t6 & 1 & 0 & 1 & 1\\\\\n",
       "\\end{tabular}\n"
      ],
      "text/markdown": [
       "\n",
       "A matrix: 6 × 4 of type dbl\n",
       "\n",
       "| <!--/--> | (Intercept) | s2c_untreated_vs_variable$batch2 | s2c_untreated_vs_variable$batch3 | s2c_untreated_vs_variable$conditionCTCF_AID_auxin1day |\n",
       "|---|---|---|---|---|\n",
       "| 1 | 1 | 0 | 0 | 0 |\n",
       "| 2 | 1 | 0 | 0 | 1 |\n",
       "| 3 | 1 | 1 | 0 | 0 |\n",
       "| 4 | 1 | 1 | 0 | 1 |\n",
       "| 5 | 1 | 0 | 1 | 0 |\n",
       "| 6 | 1 | 0 | 1 | 1 |\n",
       "\n"
      ],
      "text/plain": [
       "  (Intercept) s2c_untreated_vs_variable$batch2 s2c_untreated_vs_variable$batch3\n",
       "1 1           0                                0                               \n",
       "2 1           0                                0                               \n",
       "3 1           1                                0                               \n",
       "4 1           1                                0                               \n",
       "5 1           0                                1                               \n",
       "6 1           0                                1                               \n",
       "  s2c_untreated_vs_variable$conditionCTCF_AID_auxin1day\n",
       "1 0                                                    \n",
       "2 1                                                    \n",
       "3 0                                                    \n",
       "4 1                                                    \n",
       "5 0                                                    \n",
       "6 1                                                    "
      ]
     },
     "metadata": {},
     "output_type": "display_data"
    }
   ],
   "source": [
    "model.matrix(~s2c_untreated_vs_variable$batch + s2c_untreated_vs_variable$condition)"
   ]
  },
  {
   "cell_type": "code",
   "execution_count": 28,
   "id": "25b5ccd9-f320-45a7-9eed-b78319c638ba",
   "metadata": {},
   "outputs": [
    {
     "name": "stderr",
     "output_type": "stream",
     "text": [
      "1 \n",
      "2 \n",
      "3 \n",
      "4 \n",
      "5 \n",
      "6 \n",
      "\n",
      "\n",
      "removing duplicated transcript rows from tx2gene\n",
      "\n",
      "transcripts missing from tx2gene: 47421\n",
      "\n",
      "summarizing abundance\n",
      "\n",
      "summarizing counts\n",
      "\n",
      "summarizing length\n",
      "\n",
      "summarizing inferential replicates\n",
      "\n",
      "using counts and average transcript lengths from tximport\n",
      "\n"
     ]
    }
   ],
   "source": [
    "tx_by_genes_all <- tximport(\n",
    "                 files_untreated_vs_variable,\n",
    "                 type = \"kallisto\", \n",
    "                 tx2gene = tx2gene, \n",
    "                 ignoreAfterBar = TRUE, \n",
    "                )\n",
    "dds_batch <- DESeqDataSetFromTximport(tx_by_genes_all,\n",
    "                                colData = s2c_untreated_vs_variable,\n",
    "                                design = ~batch + condition)"
   ]
  },
  {
   "cell_type": "code",
   "execution_count": null,
   "id": "308116ed-9a54-4892-b59e-718e8a24c87f",
   "metadata": {},
   "outputs": [],
   "source": []
  },
  {
   "cell_type": "code",
   "execution_count": 29,
   "id": "ddbcd54c-42f3-4b0c-b1f1-be178fd351b6",
   "metadata": {},
   "outputs": [
    {
     "name": "stderr",
     "output_type": "stream",
     "text": [
      "estimating size factors\n",
      "\n",
      "using 'avgTxLength' from assays(dds), correcting for library size\n",
      "\n",
      "estimating dispersions\n",
      "\n",
      "gene-wise dispersion estimates\n",
      "\n",
      "mean-dispersion relationship\n",
      "\n",
      "final dispersion estimates\n",
      "\n",
      "fitting model and testing\n",
      "\n"
     ]
    },
    {
     "data": {
      "text/plain": [
       "log2 fold change (MLE): condition CTCF AID auxin1day vs CTCF AID untreated \n",
       "Wald test p-value: condition CTCF AID auxin1day vs CTCF AID untreated \n",
       "DataFrame with 10 rows and 6 columns\n",
       "                    baseMean log2FoldChange     lfcSE      stat      pvalue\n",
       "                   <numeric>      <numeric> <numeric> <numeric>   <numeric>\n",
       "ENSMUSG00000000001 4942.4579     -0.0514565 0.1090935 -0.471673 6.37160e-01\n",
       "ENSMUSG00000000003    0.0000             NA        NA        NA          NA\n",
       "ENSMUSG00000000028 2278.3352     -0.0984831 0.1135039 -0.867663 3.85579e-01\n",
       "ENSMUSG00000000037  398.3251      2.4686875 0.1922132 12.843487 9.35638e-38\n",
       "ENSMUSG00000000049    0.0000             NA        NA        NA          NA\n",
       "ENSMUSG00000000056  667.8164     -0.0883968 0.1393911 -0.634164 5.25974e-01\n",
       "ENSMUSG00000000058   15.9514      0.9085348 0.8733456  1.040292 2.98204e-01\n",
       "ENSMUSG00000000078 1667.1759      0.2189450 0.1577203  1.388185 1.65081e-01\n",
       "ENSMUSG00000000085  632.1845     -0.5835157 0.1758538 -3.318186 9.06042e-04\n",
       "ENSMUSG00000000088 8211.2863      0.0108228 0.0659166  0.164190 8.69582e-01\n",
       "                          padj\n",
       "                     <numeric>\n",
       "ENSMUSG00000000001 8.84101e-01\n",
       "ENSMUSG00000000003          NA\n",
       "ENSMUSG00000000028 7.45618e-01\n",
       "ENSMUSG00000000037 5.20035e-35\n",
       "ENSMUSG00000000049          NA\n",
       "ENSMUSG00000000056 8.33450e-01\n",
       "ENSMUSG00000000058 6.72926e-01\n",
       "ENSMUSG00000000078 5.09848e-01\n",
       "ENSMUSG00000000085 1.48787e-02\n",
       "ENSMUSG00000000088 9.66365e-01"
      ]
     },
     "metadata": {},
     "output_type": "display_data"
    }
   ],
   "source": [
    "dds_batch <- DESeq(dds_batch)\n",
    "\n",
    "res <- results(dds_batch)\n",
    "\n",
    "head(res, 10)"
   ]
  },
  {
   "cell_type": "code",
   "execution_count": 30,
   "id": "8d309630-0eb9-4362-bafe-29dfaaeb199f",
   "metadata": {},
   "outputs": [
    {
     "data": {
      "image/png": "[encoded data removed]",
      "text/plain": [
       "plot without title"
      ]
     },
     "metadata": {
      "image/png": {
       "height": 420,
       "width": 420
      }
     },
     "output_type": "display_data"
    }
   ],
   "source": [
    "vsd_all <- vst(dds_batch, blind=FALSE)\n",
    "plotPCA(vsd_all)"
   ]
  },
  {
   "cell_type": "code",
   "execution_count": 65,
   "id": "b0643432-26c7-4839-8589-b5d272439dd5",
   "metadata": {},
   "outputs": [
    {
     "name": "stderr",
     "output_type": "stream",
     "text": [
      "using counts and average transcript lengths from tximport\n",
      "\n",
      "using 'avgTxLength' from assays(dds), correcting for library size\n",
      "\n"
     ]
    },
    {
     "data": {
      "image/png": "[encoded data removed]",
      "text/plain": [
       "plot without title"
      ]
     },
     "metadata": {
      "image/png": {
       "height": 420,
       "width": 420
      }
     },
     "output_type": "display_data"
    }
   ],
   "source": [
    "dds_alt <- DESeqDataSetFromTximport(tx_by_genes_all,\n",
    "                                colData = s2c_untreated_vs_variable,\n",
    "                                design = ~ condition + batch)\n",
    "vsd_alt <- vst(dds_alt, blind=FALSE)\n",
    "plotPCA(vsd_alt)"
   ]
  },
  {
   "cell_type": "code",
   "execution_count": 28,
   "id": "e0f0190c-04d1-42fd-90e6-ed5bc2fdbc14",
   "metadata": {},
   "outputs": [
    {
     "name": "stdout",
     "output_type": "stream",
     "text": [
      "[1] \"Performing test for condition: CTCF_AID_auxin1day\"\n"
     ]
    },
    {
     "name": "stderr",
     "output_type": "stream",
     "text": [
      "1 \n",
      "2 \n",
      "3 \n",
      "4 \n",
      "5 \n",
      "6 \n",
      "\n",
      "\n",
      "removing duplicated transcript rows from tx2gene\n",
      "\n",
      "transcripts missing from tx2gene: 47421\n",
      "\n",
      "summarizing abundance\n",
      "\n",
      "summarizing counts\n",
      "\n",
      "summarizing length\n",
      "\n",
      "summarizing inferential replicates\n",
      "\n",
      "using counts and average transcript lengths from tximport\n",
      "\n",
      "estimating size factors\n",
      "\n",
      "using 'avgTxLength' from assays(dds), correcting for library size\n",
      "\n",
      "estimating dispersions\n",
      "\n",
      "gene-wise dispersion estimates\n",
      "\n",
      "mean-dispersion relationship\n",
      "\n",
      "final dispersion estimates\n",
      "\n",
      "fitting model and testing\n",
      "\n"
     ]
    },
    {
     "name": "stdout",
     "output_type": "stream",
     "text": [
      "\n",
      "out of 22072 with nonzero total read count\n",
      "adjusted p-value < 0.05\n",
      "LFC > 0 (up)       : 539, 2.4%\n",
      "LFC < 0 (down)     : 759, 3.4%\n",
      "outliers [1]       : 0, 0%\n",
      "low counts [2]     : 8891, 40%\n",
      "(mean count < 30)\n",
      "[1] see 'cooksCutoff' argument of ?results\n",
      "[2] see 'independentFiltering' argument of ?results\n",
      "\n",
      "NULL\n",
      "[1] \"Performing test for condition: CTCF_AID_auxin2days\"\n"
     ]
    },
    {
     "name": "stderr",
     "output_type": "stream",
     "text": [
      "1 \n",
      "2 \n",
      "3 \n",
      "4 \n",
      "5 \n",
      "6 \n",
      "\n",
      "\n",
      "removing duplicated transcript rows from tx2gene\n",
      "\n",
      "transcripts missing from tx2gene: 47421\n",
      "\n",
      "summarizing abundance\n",
      "\n",
      "summarizing counts\n",
      "\n",
      "summarizing length\n",
      "\n",
      "summarizing inferential replicates\n",
      "\n",
      "using counts and average transcript lengths from tximport\n",
      "\n",
      "estimating size factors\n",
      "\n",
      "using 'avgTxLength' from assays(dds), correcting for library size\n",
      "\n",
      "estimating dispersions\n",
      "\n",
      "gene-wise dispersion estimates\n",
      "\n",
      "mean-dispersion relationship\n",
      "\n",
      "final dispersion estimates\n",
      "\n",
      "fitting model and testing\n",
      "\n"
     ]
    },
    {
     "name": "stdout",
     "output_type": "stream",
     "text": [
      "\n",
      "out of 22266 with nonzero total read count\n",
      "adjusted p-value < 0.05\n",
      "LFC > 0 (up)       : 1458, 6.5%\n",
      "LFC < 0 (down)     : 2301, 10%\n",
      "outliers [1]       : 0, 0%\n",
      "low counts [2]     : 6410, 29%\n",
      "(mean count < 8)\n",
      "[1] see 'cooksCutoff' argument of ?results\n",
      "[2] see 'independentFiltering' argument of ?results\n",
      "\n",
      "NULL\n",
      "[1] \"Performing test for condition: CTCF_AID_auxin4days\"\n"
     ]
    },
    {
     "name": "stderr",
     "output_type": "stream",
     "text": [
      "1 \n",
      "2 \n",
      "3 \n",
      "4 \n",
      "5 \n",
      "6 \n",
      "\n",
      "\n",
      "removing duplicated transcript rows from tx2gene\n",
      "\n",
      "transcripts missing from tx2gene: 47421\n",
      "\n",
      "summarizing abundance\n",
      "\n",
      "summarizing counts\n",
      "\n",
      "summarizing length\n",
      "\n",
      "summarizing inferential replicates\n",
      "\n",
      "using counts and average transcript lengths from tximport\n",
      "\n",
      "estimating size factors\n",
      "\n",
      "using 'avgTxLength' from assays(dds), correcting for library size\n",
      "\n",
      "estimating dispersions\n",
      "\n",
      "gene-wise dispersion estimates\n",
      "\n",
      "mean-dispersion relationship\n",
      "\n",
      "final dispersion estimates\n",
      "\n",
      "fitting model and testing\n",
      "\n"
     ]
    },
    {
     "name": "stdout",
     "output_type": "stream",
     "text": [
      "\n",
      "out of 22572 with nonzero total read count\n",
      "adjusted p-value < 0.05\n",
      "LFC > 0 (up)       : 3130, 14%\n",
      "LFC < 0 (down)     : 3602, 16%\n",
      "outliers [1]       : 0, 0%\n",
      "low counts [2]     : 5637, 25%\n",
      "(mean count < 5)\n",
      "[1] see 'cooksCutoff' argument of ?results\n",
      "[2] see 'independentFiltering' argument of ?results\n",
      "\n",
      "NULL\n",
      "[1] \"Performing test for condition: CTCF_AID_washoff2days\"\n"
     ]
    },
    {
     "name": "stderr",
     "output_type": "stream",
     "text": [
      "1 \n",
      "2 \n",
      "3 \n",
      "4 \n",
      "5 \n",
      "6 \n",
      "\n",
      "\n",
      "removing duplicated transcript rows from tx2gene\n",
      "\n",
      "transcripts missing from tx2gene: 47421\n",
      "\n",
      "summarizing abundance\n",
      "\n",
      "summarizing counts\n",
      "\n",
      "summarizing length\n",
      "\n",
      "summarizing inferential replicates\n",
      "\n",
      "using counts and average transcript lengths from tximport\n",
      "\n",
      "estimating size factors\n",
      "\n",
      "using 'avgTxLength' from assays(dds), correcting for library size\n",
      "\n",
      "estimating dispersions\n",
      "\n",
      "gene-wise dispersion estimates\n",
      "\n",
      "mean-dispersion relationship\n",
      "\n",
      "final dispersion estimates\n",
      "\n",
      "fitting model and testing\n",
      "\n"
     ]
    },
    {
     "name": "stdout",
     "output_type": "stream",
     "text": [
      "\n",
      "out of 22287 with nonzero total read count\n",
      "adjusted p-value < 0.05\n",
      "LFC > 0 (up)       : 518, 2.3%\n",
      "LFC < 0 (down)     : 462, 2.1%\n",
      "outliers [1]       : 0, 0%\n",
      "low counts [2]     : 7700, 35%\n",
      "(mean count < 15)\n",
      "[1] see 'cooksCutoff' argument of ?results\n",
      "[2] see 'independentFiltering' argument of ?results\n",
      "\n",
      "NULL\n",
      "[1] \"Performing test for condition: WT_untagged_auxin2days\"\n"
     ]
    },
    {
     "name": "stderr",
     "output_type": "stream",
     "text": [
      "1 \n",
      "2 \n",
      "3 \n",
      "4 \n",
      "5 \n",
      "6 \n",
      "\n",
      "\n",
      "removing duplicated transcript rows from tx2gene\n",
      "\n",
      "transcripts missing from tx2gene: 47421\n",
      "\n",
      "summarizing abundance\n",
      "\n",
      "summarizing counts\n",
      "\n",
      "summarizing length\n",
      "\n",
      "summarizing inferential replicates\n",
      "\n",
      "using counts and average transcript lengths from tximport\n",
      "\n",
      "estimating size factors\n",
      "\n",
      "using 'avgTxLength' from assays(dds), correcting for library size\n",
      "\n",
      "estimating dispersions\n",
      "\n",
      "gene-wise dispersion estimates\n",
      "\n",
      "mean-dispersion relationship\n",
      "\n",
      "final dispersion estimates\n",
      "\n",
      "fitting model and testing\n",
      "\n"
     ]
    },
    {
     "name": "stdout",
     "output_type": "stream",
     "text": [
      "\n",
      "out of 22157 with nonzero total read count\n",
      "adjusted p-value < 0.05\n",
      "LFC > 0 (up)       : 9, 0.041%\n",
      "LFC < 0 (down)     : 7, 0.032%\n",
      "outliers [1]       : 0, 0%\n",
      "low counts [2]     : 6377, 29%\n",
      "(mean count < 9)\n",
      "[1] see 'cooksCutoff' argument of ?results\n",
      "[2] see 'independentFiltering' argument of ?results\n",
      "\n",
      "NULL\n",
      "[1] \"Performing test for condition: WT_untagged_auxin4days\"\n"
     ]
    },
    {
     "name": "stderr",
     "output_type": "stream",
     "text": [
      "1 \n",
      "2 \n",
      "3 \n",
      "4 \n",
      "5 \n",
      "6 \n",
      "\n",
      "\n",
      "removing duplicated transcript rows from tx2gene\n",
      "\n",
      "transcripts missing from tx2gene: 47421\n",
      "\n",
      "summarizing abundance\n",
      "\n",
      "summarizing counts\n",
      "\n",
      "summarizing length\n",
      "\n",
      "summarizing inferential replicates\n",
      "\n",
      "using counts and average transcript lengths from tximport\n",
      "\n",
      "estimating size factors\n",
      "\n",
      "using 'avgTxLength' from assays(dds), correcting for library size\n",
      "\n",
      "estimating dispersions\n",
      "\n",
      "gene-wise dispersion estimates\n",
      "\n",
      "mean-dispersion relationship\n",
      "\n",
      "final dispersion estimates\n",
      "\n",
      "fitting model and testing\n",
      "\n"
     ]
    },
    {
     "name": "stdout",
     "output_type": "stream",
     "text": [
      "\n",
      "out of 22811 with nonzero total read count\n",
      "adjusted p-value < 0.05\n",
      "LFC > 0 (up)       : 33, 0.14%\n",
      "LFC < 0 (down)     : 36, 0.16%\n",
      "outliers [1]       : 0, 0%\n",
      "low counts [2]     : 7016, 31%\n",
      "(mean count < 8)\n",
      "[1] see 'cooksCutoff' argument of ?results\n",
      "[2] see 'independentFiltering' argument of ?results\n",
      "\n",
      "NULL\n",
      "[1] \"Performing test for condition: WT_untagged_untreated\"\n"
     ]
    },
    {
     "name": "stderr",
     "output_type": "stream",
     "text": [
      "1 \n",
      "2 \n",
      "3 \n",
      "4 \n",
      "5 \n",
      "6 \n",
      "\n",
      "\n",
      "removing duplicated transcript rows from tx2gene\n",
      "\n",
      "transcripts missing from tx2gene: 47421\n",
      "\n",
      "summarizing abundance\n",
      "\n",
      "summarizing counts\n",
      "\n",
      "summarizing length\n",
      "\n",
      "summarizing inferential replicates\n",
      "\n",
      "using counts and average transcript lengths from tximport\n",
      "\n",
      "estimating size factors\n",
      "\n",
      "using 'avgTxLength' from assays(dds), correcting for library size\n",
      "\n",
      "estimating dispersions\n",
      "\n",
      "gene-wise dispersion estimates\n",
      "\n",
      "mean-dispersion relationship\n",
      "\n",
      "final dispersion estimates\n",
      "\n",
      "fitting model and testing\n",
      "\n"
     ]
    },
    {
     "name": "stdout",
     "output_type": "stream",
     "text": [
      "\n",
      "out of 22697 with nonzero total read count\n",
      "adjusted p-value < 0.05\n",
      "LFC > 0 (up)       : 17, 0.075%\n",
      "LFC < 0 (down)     : 19, 0.084%\n",
      "outliers [1]       : 0, 0%\n",
      "low counts [2]     : 6106, 27%\n",
      "(mean count < 6)\n",
      "[1] see 'cooksCutoff' argument of ?results\n",
      "[2] see 'independentFiltering' argument of ?results\n",
      "\n",
      "NULL\n"
     ]
    }
   ],
   "source": [
    " ## saving all .csvs and getting summaries to generate heatmaps for all of these conditions\n",
    "for (cond in levels(s2condition_batch$condition)) {\n",
    "    \n",
    "    if (cond != 'CTCF_AID_untreated') {\n",
    "        \n",
    "        print(paste(\"Performing test for condition:\", cond))\n",
    "        \n",
    "        s2c_untreated_vs_variable <- s2condition_batch[ \n",
    "                                        (s2condition_batch$condition=='CTCF_AID_untreated') | \n",
    "                                        (s2condition_batch$condition==cond) , ]\n",
    "\n",
    "        files_untreated_vs_variable = files[s2c_untreated_vs_variable$sample]\n",
    "\n",
    "        s2c_untreated_vs_variable$condition <-  factor(s2c_untreated_vs_variable$condition,\n",
    "                                                    levels = c(\"CTCF_AID_untreated\", cond))\n",
    "        \n",
    "        s2c_untreated_vs_variable$batch <- factor(s2c_untreated_vs_variable$batch)\n",
    "        \n",
    "        \n",
    "        tx_by_genes <- tximport(\n",
    "                 files_untreated_vs_variable,\n",
    "                 type = \"kallisto\", \n",
    "                 tx2gene = tx2gene, \n",
    "                 ignoreAfterBar = TRUE, \n",
    "                )\n",
    "\n",
    "        \n",
    "        dds <- DESeqDataSetFromTximport(tx_by_genes,\n",
    "                                colData = s2c_untreated_vs_variable,\n",
    "                                design = ~ batch + condition)\n",
    "        \n",
    "        \n",
    "        dds <- DESeq(dds)\n",
    "        \n",
    "        res <- results(dds, name=paste('condition_', cond, '_vs_CTCF_AID_untreated', sep=\"\"))\n",
    "        \n",
    "        # save as .csv so can generate heat plots, analyze elsewhere, etc\n",
    "        write.csv(res,file.path(elphege_proj_files, \"deseq-mm9-results\", paste(\"pairwise_batch_deseq_wt_\", cond, \".csv\", sep=\"\")))\n",
    "        \n",
    "        # printing some general stats about the significant set\n",
    "        print(summary(results(dds, alpha=0.05)))\n",
    "        \n",
    "    }\n",
    "    \n",
    "}"
   ]
  },
  {
   "cell_type": "code",
   "execution_count": null,
   "id": "70c128f0-6561-4a3d-8a20-f120a5c70f59",
   "metadata": {},
   "outputs": [],
   "source": []
  }
 ],
 "metadata": {
  "kernelspec": {
   "display_name": "deseq-R",
   "language": "R",
   "name": "deseq-r-4.1"
  },
  "language_info": {
   "codemirror_mode": "r",
   "file_extension": ".r",
   "mimetype": "text/x-r-source",
   "name": "R",
   "pygments_lexer": "r",
   "version": "4.1.2"
  }
 },
 "nbformat": 4,
 "nbformat_minor": 5
}
