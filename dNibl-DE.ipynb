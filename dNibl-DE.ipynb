{
 "cells": [
  {
   "cell_type": "code",
   "execution_count": 1,
   "id": "9a50685d-96d8-4b8e-9f85-ee502c71e03a",
   "metadata": {},
   "outputs": [],
   "source": [
    "suppressMessages({\n",
    "  library(DESeq2)\n",
    "})"
   ]
  },
  {
   "cell_type": "code",
   "execution_count": 2,
   "id": "5c52b48a-96a5-4964-a03f-45c0bc3dbb39",
   "metadata": {},
   "outputs": [
    {
     "name": "stderr",
     "output_type": "stream",
     "text": [
      "\n",
      "Attaching package: 'dplyr'\n",
      "\n",
      "\n",
      "The following object is masked from 'package:Biobase':\n",
      "\n",
      "    combine\n",
      "\n",
      "\n",
      "The following object is masked from 'package:matrixStats':\n",
      "\n",
      "    count\n",
      "\n",
      "\n",
      "The following objects are masked from 'package:GenomicRanges':\n",
      "\n",
      "    intersect, setdiff, union\n",
      "\n",
      "\n",
      "The following object is masked from 'package:GenomeInfoDb':\n",
      "\n",
      "    intersect\n",
      "\n",
      "\n",
      "The following objects are masked from 'package:IRanges':\n",
      "\n",
      "    collapse, desc, intersect, setdiff, slice, union\n",
      "\n",
      "\n",
      "The following objects are masked from 'package:S4Vectors':\n",
      "\n",
      "    first, intersect, rename, setdiff, setequal, union\n",
      "\n",
      "\n",
      "The following objects are masked from 'package:BiocGenerics':\n",
      "\n",
      "    combine, intersect, setdiff, union\n",
      "\n",
      "\n",
      "The following objects are masked from 'package:stats':\n",
      "\n",
      "    filter, lag\n",
      "\n",
      "\n",
      "The following objects are masked from 'package:base':\n",
      "\n",
      "    intersect, setdiff, setequal, union\n",
      "\n",
      "\n"
     ]
    }
   ],
   "source": [
    "library(\"tximport\")\n",
    "library(\"rhdf5\")\n",
    "library(stringr)\n",
    "library(dplyr)"
   ]
  },
  {
   "cell_type": "code",
   "execution_count": 3,
   "id": "6a461729-280b-4d23-8db6-262c65974645",
   "metadata": {},
   "outputs": [],
   "source": [
    "proj = \"/project/fudenber_735/collaborations/karissa_2022\"\n",
    "ensembl_relations = \"/project/fudenber_735/genomes/mm10/ensembl/ensembl_relational_downloads\"\n",
    "elphege_proj_files = \"/project/fudenber_735/GEO/nora_2017_rna-seq_SRP106652\""
   ]
  },
  {
   "cell_type": "code",
   "execution_count": 4,
   "id": "f7faf9a2-dca3-42c1-b018-016b763f1613",
   "metadata": {},
   "outputs": [],
   "source": [
    "# building s2c table\n",
    "\n",
    "meta <- read.table(file.path(proj, \"RNAseq\", \"fastq\", \"KHRNA_Libraries_Nora-Fudenberg.csv\"), \n",
    "                   sep=',', \n",
    "                   header=TRUE,\n",
    "                  stringsAsFactors=FALSE)"
   ]
  },
  {
   "cell_type": "code",
   "execution_count": 5,
   "id": "fe2215a0-04c5-4e70-86d5-30e7a50830c1",
   "metadata": {},
   "outputs": [],
   "source": [
    "meta <- meta %>% \n",
    "          dplyr::rename(\n",
    "            library = X...library)\n",
    "\n",
    "#names(meta)[0] <- \"library\""
   ]
  },
  {
   "cell_type": "code",
   "execution_count": 6,
   "id": "dcb2db27-c4ce-44d7-a835-747603c67464",
   "metadata": {},
   "outputs": [
    {
     "data": {
      "text/html": [
       "<table class=\"dataframe\">\n",
       "<caption>A data.frame: 6 × 8</caption>\n",
       "<thead>\n",
       "\t<tr><th scope=col>library</th><th scope=col>cell.line</th><th scope=col>cell.type</th><th scope=col>genotype</th><th scope=col>treatment</th><th scope=col>replicate</th><th scope=col>Illumina.Index</th><th scope=col>CAT.submission</th></tr>\n",
       "\t<tr><th scope=col>&lt;chr&gt;</th><th scope=col>&lt;chr&gt;</th><th scope=col>&lt;chr&gt;</th><th scope=col>&lt;chr&gt;</th><th scope=col>&lt;chr&gt;</th><th scope=col>&lt;int&gt;</th><th scope=col>&lt;chr&gt;</th><th scope=col>&lt;chr&gt;</th></tr>\n",
       "</thead>\n",
       "<tbody>\n",
       "\t<tr><td>KHRNA22</td><td>EA18.1</td><td>ESC</td><td>NIPBL-FKBP</td><td>DMSO 24h   </td><td>1</td><td>UDP0028</td><td>KHEN02</td></tr>\n",
       "\t<tr><td>KHRNA23</td><td>EA18.1</td><td>ESC</td><td>NIPBL-FKBP</td><td>DMSO 24h   </td><td>2</td><td>UDP0033</td><td>KHEN02</td></tr>\n",
       "\t<tr><td>KHRNA50</td><td>EA18.1</td><td>ESC</td><td>NIPBL-FKBP</td><td>DMSO 24h   </td><td>4</td><td>UDP0006</td><td>KHEN03</td></tr>\n",
       "\t<tr><td>KHRNA25</td><td>EA18.1</td><td>ESC</td><td>NIPBL-FKBP</td><td>dTAG-13 24h</td><td>1</td><td>UDP0029</td><td>KHEN02</td></tr>\n",
       "\t<tr><td>KHRNA26</td><td>EA18.1</td><td>ESC</td><td>NIPBL-FKBP</td><td>dTAG-13 24h</td><td>2</td><td>UDP0034</td><td>KHEN02</td></tr>\n",
       "\t<tr><td>KHRNA51</td><td>EA18.1</td><td>ESC</td><td>NIPBL-FKBP</td><td>dTAG-13 24h</td><td>4</td><td>UDP0071</td><td>KHEN03</td></tr>\n",
       "</tbody>\n",
       "</table>\n"
      ],
      "text/latex": [
       "A data.frame: 6 × 8\n",
       "\\begin{tabular}{llllllll}\n",
       " library & cell.line & cell.type & genotype & treatment & replicate & Illumina.Index & CAT.submission\\\\\n",
       " <chr> & <chr> & <chr> & <chr> & <chr> & <int> & <chr> & <chr>\\\\\n",
       "\\hline\n",
       "\t KHRNA22 & EA18.1 & ESC & NIPBL-FKBP & DMSO 24h    & 1 & UDP0028 & KHEN02\\\\\n",
       "\t KHRNA23 & EA18.1 & ESC & NIPBL-FKBP & DMSO 24h    & 2 & UDP0033 & KHEN02\\\\\n",
       "\t KHRNA50 & EA18.1 & ESC & NIPBL-FKBP & DMSO 24h    & 4 & UDP0006 & KHEN03\\\\\n",
       "\t KHRNA25 & EA18.1 & ESC & NIPBL-FKBP & dTAG-13 24h & 1 & UDP0029 & KHEN02\\\\\n",
       "\t KHRNA26 & EA18.1 & ESC & NIPBL-FKBP & dTAG-13 24h & 2 & UDP0034 & KHEN02\\\\\n",
       "\t KHRNA51 & EA18.1 & ESC & NIPBL-FKBP & dTAG-13 24h & 4 & UDP0071 & KHEN03\\\\\n",
       "\\end{tabular}\n"
      ],
      "text/markdown": [
       "\n",
       "A data.frame: 6 × 8\n",
       "\n",
       "| library &lt;chr&gt; | cell.line &lt;chr&gt; | cell.type &lt;chr&gt; | genotype &lt;chr&gt; | treatment &lt;chr&gt; | replicate &lt;int&gt; | Illumina.Index &lt;chr&gt; | CAT.submission &lt;chr&gt; |\n",
       "|---|---|---|---|---|---|---|---|\n",
       "| KHRNA22 | EA18.1 | ESC | NIPBL-FKBP | DMSO 24h    | 1 | UDP0028 | KHEN02 |\n",
       "| KHRNA23 | EA18.1 | ESC | NIPBL-FKBP | DMSO 24h    | 2 | UDP0033 | KHEN02 |\n",
       "| KHRNA50 | EA18.1 | ESC | NIPBL-FKBP | DMSO 24h    | 4 | UDP0006 | KHEN03 |\n",
       "| KHRNA25 | EA18.1 | ESC | NIPBL-FKBP | dTAG-13 24h | 1 | UDP0029 | KHEN02 |\n",
       "| KHRNA26 | EA18.1 | ESC | NIPBL-FKBP | dTAG-13 24h | 2 | UDP0034 | KHEN02 |\n",
       "| KHRNA51 | EA18.1 | ESC | NIPBL-FKBP | dTAG-13 24h | 4 | UDP0071 | KHEN03 |\n",
       "\n"
      ],
      "text/plain": [
       "  library cell.line cell.type genotype   treatment   replicate Illumina.Index\n",
       "1 KHRNA22 EA18.1    ESC       NIPBL-FKBP DMSO 24h    1         UDP0028       \n",
       "2 KHRNA23 EA18.1    ESC       NIPBL-FKBP DMSO 24h    2         UDP0033       \n",
       "3 KHRNA50 EA18.1    ESC       NIPBL-FKBP DMSO 24h    4         UDP0006       \n",
       "4 KHRNA25 EA18.1    ESC       NIPBL-FKBP dTAG-13 24h 1         UDP0029       \n",
       "5 KHRNA26 EA18.1    ESC       NIPBL-FKBP dTAG-13 24h 2         UDP0034       \n",
       "6 KHRNA51 EA18.1    ESC       NIPBL-FKBP dTAG-13 24h 4         UDP0071       \n",
       "  CAT.submission\n",
       "1 KHEN02        \n",
       "2 KHEN02        \n",
       "3 KHEN03        \n",
       "4 KHEN02        \n",
       "5 KHEN02        \n",
       "6 KHEN03        "
      ]
     },
     "metadata": {},
     "output_type": "display_data"
    }
   ],
   "source": [
    "meta"
   ]
  },
  {
   "cell_type": "code",
   "execution_count": 7,
   "id": "5a5926a1-3173-420a-a574-2c7c98b7c718",
   "metadata": {},
   "outputs": [],
   "source": [
    "s2c <- dplyr::select(meta, sample = library, condition = treatment)\n",
    "s2c$condition <- gsub(' ', '_', s2c$condition)\n",
    "s2c$condition <- gsub('-', '_', s2c$condition)\n",
    "s2c$condition <- factor(s2c$condition,\n",
    "                        levels = c(\"DMSO_24h\", \"dTAG_13_24h\"))"
   ]
  },
  {
   "cell_type": "code",
   "execution_count": 8,
   "id": "fd66a3b7-3d22-4bfe-8fac-3d3aafaf0ea6",
   "metadata": {},
   "outputs": [
    {
     "data": {
      "text/html": [
       "<table class=\"dataframe\">\n",
       "<caption>A data.frame: 6 × 2</caption>\n",
       "<thead>\n",
       "\t<tr><th scope=col>sample</th><th scope=col>condition</th></tr>\n",
       "\t<tr><th scope=col>&lt;chr&gt;</th><th scope=col>&lt;fct&gt;</th></tr>\n",
       "</thead>\n",
       "<tbody>\n",
       "\t<tr><td>KHRNA22</td><td>DMSO_24h   </td></tr>\n",
       "\t<tr><td>KHRNA23</td><td>DMSO_24h   </td></tr>\n",
       "\t<tr><td>KHRNA50</td><td>DMSO_24h   </td></tr>\n",
       "\t<tr><td>KHRNA25</td><td>dTAG_13_24h</td></tr>\n",
       "\t<tr><td>KHRNA26</td><td>dTAG_13_24h</td></tr>\n",
       "\t<tr><td>KHRNA51</td><td>dTAG_13_24h</td></tr>\n",
       "</tbody>\n",
       "</table>\n"
      ],
      "text/latex": [
       "A data.frame: 6 × 2\n",
       "\\begin{tabular}{ll}\n",
       " sample & condition\\\\\n",
       " <chr> & <fct>\\\\\n",
       "\\hline\n",
       "\t KHRNA22 & DMSO\\_24h   \\\\\n",
       "\t KHRNA23 & DMSO\\_24h   \\\\\n",
       "\t KHRNA50 & DMSO\\_24h   \\\\\n",
       "\t KHRNA25 & dTAG\\_13\\_24h\\\\\n",
       "\t KHRNA26 & dTAG\\_13\\_24h\\\\\n",
       "\t KHRNA51 & dTAG\\_13\\_24h\\\\\n",
       "\\end{tabular}\n"
      ],
      "text/markdown": [
       "\n",
       "A data.frame: 6 × 2\n",
       "\n",
       "| sample &lt;chr&gt; | condition &lt;fct&gt; |\n",
       "|---|---|\n",
       "| KHRNA22 | DMSO_24h    |\n",
       "| KHRNA23 | DMSO_24h    |\n",
       "| KHRNA50 | DMSO_24h    |\n",
       "| KHRNA25 | dTAG_13_24h |\n",
       "| KHRNA26 | dTAG_13_24h |\n",
       "| KHRNA51 | dTAG_13_24h |\n",
       "\n"
      ],
      "text/plain": [
       "  sample  condition  \n",
       "1 KHRNA22 DMSO_24h   \n",
       "2 KHRNA23 DMSO_24h   \n",
       "3 KHRNA50 DMSO_24h   \n",
       "4 KHRNA25 dTAG_13_24h\n",
       "5 KHRNA26 dTAG_13_24h\n",
       "6 KHRNA51 dTAG_13_24h"
      ]
     },
     "metadata": {},
     "output_type": "display_data"
    }
   ],
   "source": [
    "s2c"
   ]
  },
  {
   "cell_type": "code",
   "execution_count": 9,
   "id": "e60193ca-5e21-40ce-a6ef-1fbd7fdd370f",
   "metadata": {},
   "outputs": [],
   "source": [
    "write.csv(s2c ,file.path(proj, \"RNAseq-mapped\", paste(\"s2c\", \"_DMSO_24h_vs_dTAG_13_24h\", \".csv\", sep=\"\")))"
   ]
  },
  {
   "cell_type": "code",
   "execution_count": 51,
   "id": "109cbc1f-cbc1-477b-addd-b4bc5841c176",
   "metadata": {},
   "outputs": [],
   "source": [
    "files <- file.path(proj, \"RNAseq-mapped\", \"kallisto\", meta$library, \"abundance.h5\")\n",
    "names(files) <- str_split_fixed(files,'/',9)[,8]"
   ]
  },
  {
   "cell_type": "code",
   "execution_count": 53,
   "id": "445ba45f-be15-4811-bc4f-c1c14bb8c88b",
   "metadata": {},
   "outputs": [
    {
     "data": {
      "text/html": [
       "<style>\n",
       ".dl-inline {width: auto; margin:0; padding: 0}\n",
       ".dl-inline>dt, .dl-inline>dd {float: none; width: auto; display: inline-block}\n",
       ".dl-inline>dt::after {content: \":\\0020\"; padding-right: .5ex}\n",
       ".dl-inline>dt:not(:first-of-type) {padding-left: .5ex}\n",
       "</style><dl class=dl-inline><dt>KHRNA22</dt><dd>'/project/fudenber_735/collaborations/karissa_2022/RNAseq-mapped/kallisto/KHRNA22/abundance.h5'</dd><dt>KHRNA23</dt><dd>'/project/fudenber_735/collaborations/karissa_2022/RNAseq-mapped/kallisto/KHRNA23/abundance.h5'</dd><dt>KHRNA50</dt><dd>'/project/fudenber_735/collaborations/karissa_2022/RNAseq-mapped/kallisto/KHRNA50/abundance.h5'</dd><dt>KHRNA25</dt><dd>'/project/fudenber_735/collaborations/karissa_2022/RNAseq-mapped/kallisto/KHRNA25/abundance.h5'</dd><dt>KHRNA26</dt><dd>'/project/fudenber_735/collaborations/karissa_2022/RNAseq-mapped/kallisto/KHRNA26/abundance.h5'</dd><dt>KHRNA51</dt><dd>'/project/fudenber_735/collaborations/karissa_2022/RNAseq-mapped/kallisto/KHRNA51/abundance.h5'</dd></dl>\n"
      ],
      "text/latex": [
       "\\begin{description*}\n",
       "\\item[KHRNA22] '/project/fudenber\\_735/collaborations/karissa\\_2022/RNAseq-mapped/kallisto/KHRNA22/abundance.h5'\n",
       "\\item[KHRNA23] '/project/fudenber\\_735/collaborations/karissa\\_2022/RNAseq-mapped/kallisto/KHRNA23/abundance.h5'\n",
       "\\item[KHRNA50] '/project/fudenber\\_735/collaborations/karissa\\_2022/RNAseq-mapped/kallisto/KHRNA50/abundance.h5'\n",
       "\\item[KHRNA25] '/project/fudenber\\_735/collaborations/karissa\\_2022/RNAseq-mapped/kallisto/KHRNA25/abundance.h5'\n",
       "\\item[KHRNA26] '/project/fudenber\\_735/collaborations/karissa\\_2022/RNAseq-mapped/kallisto/KHRNA26/abundance.h5'\n",
       "\\item[KHRNA51] '/project/fudenber\\_735/collaborations/karissa\\_2022/RNAseq-mapped/kallisto/KHRNA51/abundance.h5'\n",
       "\\end{description*}\n"
      ],
      "text/markdown": [
       "KHRNA22\n",
       ":   '/project/fudenber_735/collaborations/karissa_2022/RNAseq-mapped/kallisto/KHRNA22/abundance.h5'KHRNA23\n",
       ":   '/project/fudenber_735/collaborations/karissa_2022/RNAseq-mapped/kallisto/KHRNA23/abundance.h5'KHRNA50\n",
       ":   '/project/fudenber_735/collaborations/karissa_2022/RNAseq-mapped/kallisto/KHRNA50/abundance.h5'KHRNA25\n",
       ":   '/project/fudenber_735/collaborations/karissa_2022/RNAseq-mapped/kallisto/KHRNA25/abundance.h5'KHRNA26\n",
       ":   '/project/fudenber_735/collaborations/karissa_2022/RNAseq-mapped/kallisto/KHRNA26/abundance.h5'KHRNA51\n",
       ":   '/project/fudenber_735/collaborations/karissa_2022/RNAseq-mapped/kallisto/KHRNA51/abundance.h5'\n",
       "\n"
      ],
      "text/plain": [
       "                                                                                        KHRNA22 \n",
       "\"/project/fudenber_735/collaborations/karissa_2022/RNAseq-mapped/kallisto/KHRNA22/abundance.h5\" \n",
       "                                                                                        KHRNA23 \n",
       "\"/project/fudenber_735/collaborations/karissa_2022/RNAseq-mapped/kallisto/KHRNA23/abundance.h5\" \n",
       "                                                                                        KHRNA50 \n",
       "\"/project/fudenber_735/collaborations/karissa_2022/RNAseq-mapped/kallisto/KHRNA50/abundance.h5\" \n",
       "                                                                                        KHRNA25 \n",
       "\"/project/fudenber_735/collaborations/karissa_2022/RNAseq-mapped/kallisto/KHRNA25/abundance.h5\" \n",
       "                                                                                        KHRNA26 \n",
       "\"/project/fudenber_735/collaborations/karissa_2022/RNAseq-mapped/kallisto/KHRNA26/abundance.h5\" \n",
       "                                                                                        KHRNA51 \n",
       "\"/project/fudenber_735/collaborations/karissa_2022/RNAseq-mapped/kallisto/KHRNA51/abundance.h5\" "
      ]
     },
     "metadata": {},
     "output_type": "display_data"
    }
   ],
   "source": [
    "files"
   ]
  },
  {
   "cell_type": "code",
   "execution_count": 54,
   "id": "3f5898d1-1b5e-451f-8b43-136787318f75",
   "metadata": {},
   "outputs": [],
   "source": [
    "tx2gene <- read.csv(file.path(ensembl_relations,\"biomaRt_mm10_t2g.csv\"))[,-1]"
   ]
  },
  {
   "cell_type": "code",
   "execution_count": 55,
   "id": "fb71bf34-4af2-48b1-a7fb-4f7d0d646070",
   "metadata": {},
   "outputs": [
    {
     "name": "stderr",
     "output_type": "stream",
     "text": [
      "1 \n",
      "2 \n",
      "3 \n",
      "4 \n",
      "5 \n",
      "6 \n",
      "\n",
      "\n",
      "transcripts missing from tx2gene: 8427\n",
      "\n",
      "summarizing abundance\n",
      "\n",
      "summarizing counts\n",
      "\n",
      "summarizing length\n",
      "\n",
      "summarizing inferential replicates\n",
      "\n"
     ]
    }
   ],
   "source": [
    "tx_by_genes <- tximport(\n",
    "                 files,\n",
    "                 type = \"kallisto\", \n",
    "                 tx2gene = tx2gene, \n",
    "                 ignoreAfterBar = TRUE\n",
    "                )"
   ]
  },
  {
   "cell_type": "code",
   "execution_count": 63,
   "id": "0d1e506f-1244-48c5-b9b7-a4772d22d2e2",
   "metadata": {},
   "outputs": [],
   "source": [
    "# exporting abundances \n",
    "write.csv(tx_by_genes$counts, file.path(proj, \"RNAseq-mapped\", \"tximport\", \"gene-counts.csv\"))"
   ]
  },
  {
   "cell_type": "code",
   "execution_count": 13,
   "id": "3901d8c3-cde5-4ac4-b1e4-1fe1525bbb8f",
   "metadata": {},
   "outputs": [
    {
     "name": "stderr",
     "output_type": "stream",
     "text": [
      "using counts and average transcript lengths from tximport\n",
      "\n"
     ]
    }
   ],
   "source": [
    "dds <- DESeqDataSetFromTximport(tx_by_genes,\n",
    "                                colData = s2c,\n",
    "                                design = ~ condition)"
   ]
  },
  {
   "cell_type": "code",
   "execution_count": 14,
   "id": "8f4d2301-f61e-4fe6-832b-801f26386171",
   "metadata": {},
   "outputs": [
    {
     "data": {
      "text/plain": [
       "class: DESeqDataSet \n",
       "dim: 29723 6 \n",
       "metadata(1): version\n",
       "assays(2): counts avgTxLength\n",
       "rownames(29723): ENSMUSG00000000001 ENSMUSG00000000003 ...\n",
       "  ENSMUSG00000099113 ENSMUSG00000099329\n",
       "rowData names(0):\n",
       "colnames(6): KHRNA22 KHRNA23 ... KHRNA26 KHRNA51\n",
       "colData names(2): sample condition"
      ]
     },
     "metadata": {},
     "output_type": "display_data"
    }
   ],
   "source": [
    "dds"
   ]
  },
  {
   "cell_type": "code",
   "execution_count": 15,
   "id": "462ac5bf-97bc-4cb8-b312-4d04b945809b",
   "metadata": {},
   "outputs": [
    {
     "name": "stderr",
     "output_type": "stream",
     "text": [
      "estimating size factors\n",
      "\n",
      "using 'avgTxLength' from assays(dds), correcting for library size\n",
      "\n",
      "estimating dispersions\n",
      "\n",
      "gene-wise dispersion estimates\n",
      "\n",
      "mean-dispersion relationship\n",
      "\n",
      "final dispersion estimates\n",
      "\n",
      "fitting model and testing\n",
      "\n"
     ]
    }
   ],
   "source": [
    "dds <- DESeq(dds)"
   ]
  },
  {
   "cell_type": "code",
   "execution_count": 16,
   "id": "032f6deb-6464-4a70-90de-d9274ee008c7",
   "metadata": {},
   "outputs": [
    {
     "data": {
      "text/plain": [
       "log2 fold change (MLE): condition dTAG 13 24h vs DMSO 24h \n",
       "Wald test p-value: condition dTAG 13 24h vs DMSO 24h \n",
       "DataFrame with 10 rows and 6 columns\n",
       "                      baseMean log2FoldChange     lfcSE      stat      pvalue\n",
       "                     <numeric>      <numeric> <numeric> <numeric>   <numeric>\n",
       "ENSMUSG00000000001 4292.214151     -0.1015234  0.100625 -1.008924 3.13011e-01\n",
       "ENSMUSG00000000003    0.000000             NA        NA        NA          NA\n",
       "ENSMUSG00000000028 1694.940934     -0.0713420  0.117240 -0.608512 5.42848e-01\n",
       "ENSMUSG00000000031   50.489910      1.7234198  0.416543  4.137436 3.51208e-05\n",
       "ENSMUSG00000000037  196.342074     -0.5612423  0.448194 -1.252232 2.10485e-01\n",
       "ENSMUSG00000000049    0.163406      1.1039082  4.080473  0.270534 7.86749e-01\n",
       "ENSMUSG00000000056  871.917098      0.3791893  0.116249  3.261877 1.10677e-03\n",
       "ENSMUSG00000000058    0.156952      1.1039082  4.080473  0.270534 7.86749e-01\n",
       "ENSMUSG00000000078  969.549826     -0.0385543  0.137075 -0.281264 7.78508e-01\n",
       "ENSMUSG00000000085  456.948047      0.1259603  0.175320  0.718458 4.72475e-01\n",
       "                         padj\n",
       "                    <numeric>\n",
       "ENSMUSG00000000001 0.73350080\n",
       "ENSMUSG00000000003         NA\n",
       "ENSMUSG00000000028 0.87429764\n",
       "ENSMUSG00000000031 0.00128377\n",
       "ENSMUSG00000000037 0.62162829\n",
       "ENSMUSG00000000049         NA\n",
       "ENSMUSG00000000056 0.02069317\n",
       "ENSMUSG00000000058         NA\n",
       "ENSMUSG00000000078 0.95666459\n",
       "ENSMUSG00000000085 0.83983492"
      ]
     },
     "metadata": {},
     "output_type": "display_data"
    }
   ],
   "source": [
    "head(results(dds), 10)"
   ]
  },
  {
   "cell_type": "code",
   "execution_count": 17,
   "id": "67aa6495-64b7-4950-9cf9-4fd50ababe3e",
   "metadata": {},
   "outputs": [
    {
     "data": {
      "text/plain": [
       "class: DESeqDataSet \n",
       "dim: 29723 6 \n",
       "metadata(1): version\n",
       "assays(6): counts avgTxLength ... H cooks\n",
       "rownames(29723): ENSMUSG00000000001 ENSMUSG00000000003 ...\n",
       "  ENSMUSG00000099113 ENSMUSG00000099329\n",
       "rowData names(22): baseMean baseVar ... deviance maxCooks\n",
       "colnames(6): KHRNA22 KHRNA23 ... KHRNA26 KHRNA51\n",
       "colData names(2): sample condition"
      ]
     },
     "metadata": {},
     "output_type": "display_data"
    }
   ],
   "source": [
    "dds"
   ]
  },
  {
   "cell_type": "code",
   "execution_count": 18,
   "id": "229af548-402b-42c7-9102-01d94eebfa4a",
   "metadata": {},
   "outputs": [],
   "source": [
    "cond = \"dTAG_13_24h_vs_DMSO_24h\"\n",
    "res <- results(dds, alpha=0.05)\n",
    "\n",
    "write.csv(res,file.path(proj, \"RNAseq-mapped\", \"DE-results\", paste(\"pairwise_deseq_wt_\", cond, \".csv\", sep=\"\")))"
   ]
  },
  {
   "cell_type": "code",
   "execution_count": 1,
   "id": "43527eed-8eab-4875-a6e3-9cb0e08f0c43",
   "metadata": {},
   "outputs": [
    {
     "ename": "ERROR",
     "evalue": "Error in plotMA(res, ylim = c(-8, 8)): could not find function \"plotMA\"\n",
     "output_type": "error",
     "traceback": [
      "Error in plotMA(res, ylim = c(-8, 8)): could not find function \"plotMA\"\nTraceback:\n"
     ]
    }
   ],
   "source": [
    "plotMA(res, ylim=c(-8,8))"
   ]
  },
  {
   "cell_type": "code",
   "execution_count": 19,
   "id": "53633b21-3af0-4001-a277-1b439797e2a8",
   "metadata": {},
   "outputs": [
    {
     "data": {
      "text/plain": [
       "log2 fold change (MLE): condition dTAG 13 24h vs DMSO 24h \n",
       "Wald test p-value: condition dTAG 13 24h vs DMSO 24h \n",
       "DataFrame with 5 rows and 6 columns\n",
       "                    baseMean log2FoldChange     lfcSE      stat      pvalue\n",
       "                   <numeric>      <numeric> <numeric> <numeric>   <numeric>\n",
       "ENSMUSG00000000001 4292.2142      -0.101523  0.100625 -1.008924 3.13011e-01\n",
       "ENSMUSG00000000003    0.0000             NA        NA        NA          NA\n",
       "ENSMUSG00000000028 1694.9409      -0.071342  0.117240 -0.608512 5.42848e-01\n",
       "ENSMUSG00000000031   50.4899       1.723420  0.416543  4.137436 3.51208e-05\n",
       "ENSMUSG00000000037  196.3421      -0.561242  0.448194 -1.252232 2.10485e-01\n",
       "                        padj\n",
       "                   <numeric>\n",
       "ENSMUSG00000000001 0.7249787\n",
       "ENSMUSG00000000003        NA\n",
       "ENSMUSG00000000028 0.8681955\n",
       "ENSMUSG00000000031 0.0012514\n",
       "ENSMUSG00000000037 0.6128376"
      ]
     },
     "metadata": {},
     "output_type": "display_data"
    }
   ],
   "source": [
    "head(res, 5)"
   ]
  },
  {
   "cell_type": "code",
   "execution_count": 20,
   "id": "435fd520-6a32-4adf-9efe-e9f9e95fe536",
   "metadata": {},
   "outputs": [],
   "source": [
    "dNipbl = as.data.frame(res)"
   ]
  },
  {
   "cell_type": "code",
   "execution_count": 21,
   "id": "e923174d-edaf-46c6-b425-03e095364a1a",
   "metadata": {},
   "outputs": [
    {
     "data": {
      "text/html": [
       "<table class=\"dataframe\">\n",
       "<caption>A data.frame: 5 × 6</caption>\n",
       "<thead>\n",
       "\t<tr><th></th><th scope=col>baseMean</th><th scope=col>log2FoldChange</th><th scope=col>lfcSE</th><th scope=col>stat</th><th scope=col>pvalue</th><th scope=col>padj</th></tr>\n",
       "\t<tr><th></th><th scope=col>&lt;dbl&gt;</th><th scope=col>&lt;dbl&gt;</th><th scope=col>&lt;dbl&gt;</th><th scope=col>&lt;dbl&gt;</th><th scope=col>&lt;dbl&gt;</th><th scope=col>&lt;dbl&gt;</th></tr>\n",
       "</thead>\n",
       "<tbody>\n",
       "\t<tr><th scope=row>ENSMUSG00000000001</th><td>4292.21415</td><td>-0.10152343</td><td>0.1006254</td><td>-1.0089242</td><td>0.3130110053</td><td>0.724978743</td></tr>\n",
       "\t<tr><th scope=row>ENSMUSG00000000003</th><td>   0.00000</td><td>         NA</td><td>       NA</td><td>        NA</td><td>          NA</td><td>         NA</td></tr>\n",
       "\t<tr><th scope=row>ENSMUSG00000000028</th><td>1694.94093</td><td>-0.07134204</td><td>0.1172402</td><td>-0.6085119</td><td>0.5428480184</td><td>0.868195533</td></tr>\n",
       "\t<tr><th scope=row>ENSMUSG00000000031</th><td>  50.48991</td><td> 1.72341985</td><td>0.4165429</td><td> 4.1374362</td><td>0.0000351208</td><td>0.001251401</td></tr>\n",
       "\t<tr><th scope=row>ENSMUSG00000000037</th><td> 196.34207</td><td>-0.56124233</td><td>0.4481935</td><td>-1.2522322</td><td>0.2104852735</td><td>0.612837643</td></tr>\n",
       "</tbody>\n",
       "</table>\n"
      ],
      "text/latex": [
       "A data.frame: 5 × 6\n",
       "\\begin{tabular}{r|llllll}\n",
       "  & baseMean & log2FoldChange & lfcSE & stat & pvalue & padj\\\\\n",
       "  & <dbl> & <dbl> & <dbl> & <dbl> & <dbl> & <dbl>\\\\\n",
       "\\hline\n",
       "\tENSMUSG00000000001 & 4292.21415 & -0.10152343 & 0.1006254 & -1.0089242 & 0.3130110053 & 0.724978743\\\\\n",
       "\tENSMUSG00000000003 &    0.00000 &          NA &        NA &         NA &           NA &          NA\\\\\n",
       "\tENSMUSG00000000028 & 1694.94093 & -0.07134204 & 0.1172402 & -0.6085119 & 0.5428480184 & 0.868195533\\\\\n",
       "\tENSMUSG00000000031 &   50.48991 &  1.72341985 & 0.4165429 &  4.1374362 & 0.0000351208 & 0.001251401\\\\\n",
       "\tENSMUSG00000000037 &  196.34207 & -0.56124233 & 0.4481935 & -1.2522322 & 0.2104852735 & 0.612837643\\\\\n",
       "\\end{tabular}\n"
      ],
      "text/markdown": [
       "\n",
       "A data.frame: 5 × 6\n",
       "\n",
       "| <!--/--> | baseMean &lt;dbl&gt; | log2FoldChange &lt;dbl&gt; | lfcSE &lt;dbl&gt; | stat &lt;dbl&gt; | pvalue &lt;dbl&gt; | padj &lt;dbl&gt; |\n",
       "|---|---|---|---|---|---|---|\n",
       "| ENSMUSG00000000001 | 4292.21415 | -0.10152343 | 0.1006254 | -1.0089242 | 0.3130110053 | 0.724978743 |\n",
       "| ENSMUSG00000000003 |    0.00000 |          NA |        NA |         NA |           NA |          NA |\n",
       "| ENSMUSG00000000028 | 1694.94093 | -0.07134204 | 0.1172402 | -0.6085119 | 0.5428480184 | 0.868195533 |\n",
       "| ENSMUSG00000000031 |   50.48991 |  1.72341985 | 0.4165429 |  4.1374362 | 0.0000351208 | 0.001251401 |\n",
       "| ENSMUSG00000000037 |  196.34207 | -0.56124233 | 0.4481935 | -1.2522322 | 0.2104852735 | 0.612837643 |\n",
       "\n"
      ],
      "text/plain": [
       "                   baseMean   log2FoldChange lfcSE     stat       pvalue      \n",
       "ENSMUSG00000000001 4292.21415 -0.10152343    0.1006254 -1.0089242 0.3130110053\n",
       "ENSMUSG00000000003    0.00000          NA           NA         NA           NA\n",
       "ENSMUSG00000000028 1694.94093 -0.07134204    0.1172402 -0.6085119 0.5428480184\n",
       "ENSMUSG00000000031   50.48991  1.72341985    0.4165429  4.1374362 0.0000351208\n",
       "ENSMUSG00000000037  196.34207 -0.56124233    0.4481935 -1.2522322 0.2104852735\n",
       "                   padj       \n",
       "ENSMUSG00000000001 0.724978743\n",
       "ENSMUSG00000000003          NA\n",
       "ENSMUSG00000000028 0.868195533\n",
       "ENSMUSG00000000031 0.001251401\n",
       "ENSMUSG00000000037 0.612837643"
      ]
     },
     "metadata": {},
     "output_type": "display_data"
    },
    {
     "data": {
      "text/html": [
       "<style>\n",
       ".list-inline {list-style: none; margin:0; padding: 0}\n",
       ".list-inline>li {display: inline-block}\n",
       ".list-inline>li:not(:last-child)::after {content: \"\\00b7\"; padding: 0 .5ex}\n",
       "</style>\n",
       "<ol class=list-inline><li>29723</li><li>6</li></ol>\n"
      ],
      "text/latex": [
       "\\begin{enumerate*}\n",
       "\\item 29723\n",
       "\\item 6\n",
       "\\end{enumerate*}\n"
      ],
      "text/markdown": [
       "1. 29723\n",
       "2. 6\n",
       "\n",
       "\n"
      ],
      "text/plain": [
       "[1] 29723     6"
      ]
     },
     "metadata": {},
     "output_type": "display_data"
    }
   ],
   "source": [
    "head(dNipbl, 5)\n",
    "dim(dNipbl)"
   ]
  },
  {
   "cell_type": "code",
   "execution_count": null,
   "id": "d86d606c-88fb-439a-a5c8-082935dd84a6",
   "metadata": {},
   "outputs": [],
   "source": []
  },
  {
   "cell_type": "markdown",
   "id": "e1b04810-6bec-416c-8d8f-a9c37c22a1e5",
   "metadata": {},
   "source": [
    "# Compare DE of dNipbl and dCTCF genes\n",
    "\n",
    "See basic-deseq-mm9, adjusted the input/output files to generate DESeq2 output for mm10 mapping"
   ]
  },
  {
   "cell_type": "code",
   "execution_count": 22,
   "id": "afcd82db-a316-429d-9f96-5d3eaa3791f1",
   "metadata": {},
   "outputs": [
    {
     "ename": "ERROR",
     "evalue": "Error in library(\"ggVennDiagram\"): there is no package called 'ggVennDiagram'\n",
     "output_type": "error",
     "traceback": [
      "Error in library(\"ggVennDiagram\"): there is no package called 'ggVennDiagram'\nTraceback:\n",
      "1. library(\"ggVennDiagram\")"
     ]
    }
   ],
   "source": [
    "library(ggplot2)\n",
    "library(\"ggVennDiagram\")"
   ]
  },
  {
   "cell_type": "code",
   "execution_count": 23,
   "id": "ef8ceac5-478c-437b-8b33-ea50f7d05768",
   "metadata": {},
   "outputs": [],
   "source": [
    "dCTCF <- read.csv(file.path(elphege_proj_files, \"deseq-mm10-results\", paste(\"pairwise_deseq_wt_\", \"CTCF_AID_auxin1day.csv\", sep=\"\")), header=TRUE)"
   ]
  },
  {
   "cell_type": "code",
   "execution_count": 24,
   "id": "63316a68-a862-4817-8a09-e59764eaab52",
   "metadata": {},
   "outputs": [
    {
     "data": {
      "text/html": [
       "<table class=\"dataframe\">\n",
       "<caption>A data.frame: 5 × 7</caption>\n",
       "<thead>\n",
       "\t<tr><th></th><th scope=col>X</th><th scope=col>baseMean</th><th scope=col>log2FoldChange</th><th scope=col>lfcSE</th><th scope=col>stat</th><th scope=col>pvalue</th><th scope=col>padj</th></tr>\n",
       "\t<tr><th></th><th scope=col>&lt;chr&gt;</th><th scope=col>&lt;dbl&gt;</th><th scope=col>&lt;dbl&gt;</th><th scope=col>&lt;dbl&gt;</th><th scope=col>&lt;dbl&gt;</th><th scope=col>&lt;dbl&gt;</th><th scope=col>&lt;dbl&gt;</th></tr>\n",
       "</thead>\n",
       "<tbody>\n",
       "\t<tr><th scope=row>1</th><td>ENSMUSG00000000001</td><td>4946.9216</td><td>-0.03082289</td><td>0.2524125</td><td>-0.1221132</td><td>9.028094e-01</td><td>0.999976277</td></tr>\n",
       "\t<tr><th scope=row>2</th><td>ENSMUSG00000000003</td><td>   0.0000</td><td>         NA</td><td>       NA</td><td>        NA</td><td>          NA</td><td>         NA</td></tr>\n",
       "\t<tr><th scope=row>3</th><td>ENSMUSG00000000028</td><td>2277.2352</td><td>-0.09174769</td><td>0.1766256</td><td>-0.5194472</td><td>6.034489e-01</td><td>0.999976277</td></tr>\n",
       "\t<tr><th scope=row>4</th><td>ENSMUSG00000000031</td><td>  27.6991</td><td>-0.32988401</td><td>0.6413135</td><td>-0.5143880</td><td>6.069807e-01</td><td>0.999976277</td></tr>\n",
       "\t<tr><th scope=row>5</th><td>ENSMUSG00000000037</td><td> 330.5182</td><td> 2.02001132</td><td>0.5094480</td><td> 3.9650981</td><td>7.336576e-05</td><td>0.007283521</td></tr>\n",
       "</tbody>\n",
       "</table>\n"
      ],
      "text/latex": [
       "A data.frame: 5 × 7\n",
       "\\begin{tabular}{r|lllllll}\n",
       "  & X & baseMean & log2FoldChange & lfcSE & stat & pvalue & padj\\\\\n",
       "  & <chr> & <dbl> & <dbl> & <dbl> & <dbl> & <dbl> & <dbl>\\\\\n",
       "\\hline\n",
       "\t1 & ENSMUSG00000000001 & 4946.9216 & -0.03082289 & 0.2524125 & -0.1221132 & 9.028094e-01 & 0.999976277\\\\\n",
       "\t2 & ENSMUSG00000000003 &    0.0000 &          NA &        NA &         NA &           NA &          NA\\\\\n",
       "\t3 & ENSMUSG00000000028 & 2277.2352 & -0.09174769 & 0.1766256 & -0.5194472 & 6.034489e-01 & 0.999976277\\\\\n",
       "\t4 & ENSMUSG00000000031 &   27.6991 & -0.32988401 & 0.6413135 & -0.5143880 & 6.069807e-01 & 0.999976277\\\\\n",
       "\t5 & ENSMUSG00000000037 &  330.5182 &  2.02001132 & 0.5094480 &  3.9650981 & 7.336576e-05 & 0.007283521\\\\\n",
       "\\end{tabular}\n"
      ],
      "text/markdown": [
       "\n",
       "A data.frame: 5 × 7\n",
       "\n",
       "| <!--/--> | X &lt;chr&gt; | baseMean &lt;dbl&gt; | log2FoldChange &lt;dbl&gt; | lfcSE &lt;dbl&gt; | stat &lt;dbl&gt; | pvalue &lt;dbl&gt; | padj &lt;dbl&gt; |\n",
       "|---|---|---|---|---|---|---|---|\n",
       "| 1 | ENSMUSG00000000001 | 4946.9216 | -0.03082289 | 0.2524125 | -0.1221132 | 9.028094e-01 | 0.999976277 |\n",
       "| 2 | ENSMUSG00000000003 |    0.0000 |          NA |        NA |         NA |           NA |          NA |\n",
       "| 3 | ENSMUSG00000000028 | 2277.2352 | -0.09174769 | 0.1766256 | -0.5194472 | 6.034489e-01 | 0.999976277 |\n",
       "| 4 | ENSMUSG00000000031 |   27.6991 | -0.32988401 | 0.6413135 | -0.5143880 | 6.069807e-01 | 0.999976277 |\n",
       "| 5 | ENSMUSG00000000037 |  330.5182 |  2.02001132 | 0.5094480 |  3.9650981 | 7.336576e-05 | 0.007283521 |\n",
       "\n"
      ],
      "text/plain": [
       "  X                  baseMean  log2FoldChange lfcSE     stat       pvalue      \n",
       "1 ENSMUSG00000000001 4946.9216 -0.03082289    0.2524125 -0.1221132 9.028094e-01\n",
       "2 ENSMUSG00000000003    0.0000          NA           NA         NA           NA\n",
       "3 ENSMUSG00000000028 2277.2352 -0.09174769    0.1766256 -0.5194472 6.034489e-01\n",
       "4 ENSMUSG00000000031   27.6991 -0.32988401    0.6413135 -0.5143880 6.069807e-01\n",
       "5 ENSMUSG00000000037  330.5182  2.02001132    0.5094480  3.9650981 7.336576e-05\n",
       "  padj       \n",
       "1 0.999976277\n",
       "2          NA\n",
       "3 0.999976277\n",
       "4 0.999976277\n",
       "5 0.007283521"
      ]
     },
     "metadata": {},
     "output_type": "display_data"
    },
    {
     "data": {
      "text/html": [
       "<style>\n",
       ".list-inline {list-style: none; margin:0; padding: 0}\n",
       ".list-inline>li {display: inline-block}\n",
       ".list-inline>li:not(:last-child)::after {content: \"\\00b7\"; padding: 0 .5ex}\n",
       "</style>\n",
       "<ol class=list-inline><li>29723</li><li>7</li></ol>\n"
      ],
      "text/latex": [
       "\\begin{enumerate*}\n",
       "\\item 29723\n",
       "\\item 7\n",
       "\\end{enumerate*}\n"
      ],
      "text/markdown": [
       "1. 29723\n",
       "2. 7\n",
       "\n",
       "\n"
      ],
      "text/plain": [
       "[1] 29723     7"
      ]
     },
     "metadata": {},
     "output_type": "display_data"
    }
   ],
   "source": [
    "head(dCTCF, 5)\n",
    "dim(dCTCF)"
   ]
  },
  {
   "cell_type": "code",
   "execution_count": 25,
   "id": "399a2111-3453-4db3-93d1-2ee939c961c7",
   "metadata": {},
   "outputs": [],
   "source": [
    "# Maybe a little scatter plot\n",
    "allDEG = merge(x=dNipbl, y=dCTCF, by.x=0, by.y=\"X\", all=TRUE)"
   ]
  },
  {
   "cell_type": "code",
   "execution_count": 26,
   "id": "95f598f6-2bbf-4ea3-8f36-16435e0dc633",
   "metadata": {},
   "outputs": [
    {
     "data": {
      "text/html": [
       "<table class=\"dataframe\">\n",
       "<caption>A data.frame: 5 × 13</caption>\n",
       "<thead>\n",
       "\t<tr><th></th><th scope=col>Row.names</th><th scope=col>baseMean.x</th><th scope=col>log2FoldChange.x</th><th scope=col>lfcSE.x</th><th scope=col>stat.x</th><th scope=col>pvalue.x</th><th scope=col>padj.x</th><th scope=col>baseMean.y</th><th scope=col>log2FoldChange.y</th><th scope=col>lfcSE.y</th><th scope=col>stat.y</th><th scope=col>pvalue.y</th><th scope=col>padj.y</th></tr>\n",
       "\t<tr><th></th><th scope=col>&lt;I&lt;chr&gt;&gt;</th><th scope=col>&lt;dbl&gt;</th><th scope=col>&lt;dbl&gt;</th><th scope=col>&lt;dbl&gt;</th><th scope=col>&lt;dbl&gt;</th><th scope=col>&lt;dbl&gt;</th><th scope=col>&lt;dbl&gt;</th><th scope=col>&lt;dbl&gt;</th><th scope=col>&lt;dbl&gt;</th><th scope=col>&lt;dbl&gt;</th><th scope=col>&lt;dbl&gt;</th><th scope=col>&lt;dbl&gt;</th><th scope=col>&lt;dbl&gt;</th></tr>\n",
       "</thead>\n",
       "<tbody>\n",
       "\t<tr><th scope=row>1</th><td>ENSMUSG00000000001</td><td>4292.21415</td><td>-0.10152343</td><td>0.1006254</td><td>-1.0089242</td><td>0.3130110053</td><td>0.724978743</td><td>4946.9216</td><td>-0.03082289</td><td>0.2524125</td><td>-0.1221132</td><td>9.028094e-01</td><td>0.999976277</td></tr>\n",
       "\t<tr><th scope=row>2</th><td>ENSMUSG00000000003</td><td>   0.00000</td><td>         NA</td><td>       NA</td><td>        NA</td><td>          NA</td><td>         NA</td><td>   0.0000</td><td>         NA</td><td>       NA</td><td>        NA</td><td>          NA</td><td>         NA</td></tr>\n",
       "\t<tr><th scope=row>3</th><td>ENSMUSG00000000028</td><td>1694.94093</td><td>-0.07134204</td><td>0.1172402</td><td>-0.6085119</td><td>0.5428480184</td><td>0.868195533</td><td>2277.2352</td><td>-0.09174769</td><td>0.1766256</td><td>-0.5194472</td><td>6.034489e-01</td><td>0.999976277</td></tr>\n",
       "\t<tr><th scope=row>4</th><td>ENSMUSG00000000031</td><td>  50.48991</td><td> 1.72341985</td><td>0.4165429</td><td> 4.1374362</td><td>0.0000351208</td><td>0.001251401</td><td>  27.6991</td><td>-0.32988401</td><td>0.6413135</td><td>-0.5143880</td><td>6.069807e-01</td><td>0.999976277</td></tr>\n",
       "\t<tr><th scope=row>5</th><td>ENSMUSG00000000037</td><td> 196.34207</td><td>-0.56124233</td><td>0.4481935</td><td>-1.2522322</td><td>0.2104852735</td><td>0.612837643</td><td> 330.5182</td><td> 2.02001132</td><td>0.5094480</td><td> 3.9650981</td><td>7.336576e-05</td><td>0.007283521</td></tr>\n",
       "</tbody>\n",
       "</table>\n"
      ],
      "text/latex": [
       "A data.frame: 5 × 13\n",
       "\\begin{tabular}{r|lllllllllllll}\n",
       "  & Row.names & baseMean.x & log2FoldChange.x & lfcSE.x & stat.x & pvalue.x & padj.x & baseMean.y & log2FoldChange.y & lfcSE.y & stat.y & pvalue.y & padj.y\\\\\n",
       "  & <I<chr>> & <dbl> & <dbl> & <dbl> & <dbl> & <dbl> & <dbl> & <dbl> & <dbl> & <dbl> & <dbl> & <dbl> & <dbl>\\\\\n",
       "\\hline\n",
       "\t1 & ENSMUSG00000000001 & 4292.21415 & -0.10152343 & 0.1006254 & -1.0089242 & 0.3130110053 & 0.724978743 & 4946.9216 & -0.03082289 & 0.2524125 & -0.1221132 & 9.028094e-01 & 0.999976277\\\\\n",
       "\t2 & ENSMUSG00000000003 &    0.00000 &          NA &        NA &         NA &           NA &          NA &    0.0000 &          NA &        NA &         NA &           NA &          NA\\\\\n",
       "\t3 & ENSMUSG00000000028 & 1694.94093 & -0.07134204 & 0.1172402 & -0.6085119 & 0.5428480184 & 0.868195533 & 2277.2352 & -0.09174769 & 0.1766256 & -0.5194472 & 6.034489e-01 & 0.999976277\\\\\n",
       "\t4 & ENSMUSG00000000031 &   50.48991 &  1.72341985 & 0.4165429 &  4.1374362 & 0.0000351208 & 0.001251401 &   27.6991 & -0.32988401 & 0.6413135 & -0.5143880 & 6.069807e-01 & 0.999976277\\\\\n",
       "\t5 & ENSMUSG00000000037 &  196.34207 & -0.56124233 & 0.4481935 & -1.2522322 & 0.2104852735 & 0.612837643 &  330.5182 &  2.02001132 & 0.5094480 &  3.9650981 & 7.336576e-05 & 0.007283521\\\\\n",
       "\\end{tabular}\n"
      ],
      "text/markdown": [
       "\n",
       "A data.frame: 5 × 13\n",
       "\n",
       "| <!--/--> | Row.names &lt;I&lt;chr&gt;&gt; | baseMean.x &lt;dbl&gt; | log2FoldChange.x &lt;dbl&gt; | lfcSE.x &lt;dbl&gt; | stat.x &lt;dbl&gt; | pvalue.x &lt;dbl&gt; | padj.x &lt;dbl&gt; | baseMean.y &lt;dbl&gt; | log2FoldChange.y &lt;dbl&gt; | lfcSE.y &lt;dbl&gt; | stat.y &lt;dbl&gt; | pvalue.y &lt;dbl&gt; | padj.y &lt;dbl&gt; |\n",
       "|---|---|---|---|---|---|---|---|---|---|---|---|---|---|\n",
       "| 1 | ENSMUSG00000000001 | 4292.21415 | -0.10152343 | 0.1006254 | -1.0089242 | 0.3130110053 | 0.724978743 | 4946.9216 | -0.03082289 | 0.2524125 | -0.1221132 | 9.028094e-01 | 0.999976277 |\n",
       "| 2 | ENSMUSG00000000003 |    0.00000 |          NA |        NA |         NA |           NA |          NA |    0.0000 |          NA |        NA |         NA |           NA |          NA |\n",
       "| 3 | ENSMUSG00000000028 | 1694.94093 | -0.07134204 | 0.1172402 | -0.6085119 | 0.5428480184 | 0.868195533 | 2277.2352 | -0.09174769 | 0.1766256 | -0.5194472 | 6.034489e-01 | 0.999976277 |\n",
       "| 4 | ENSMUSG00000000031 |   50.48991 |  1.72341985 | 0.4165429 |  4.1374362 | 0.0000351208 | 0.001251401 |   27.6991 | -0.32988401 | 0.6413135 | -0.5143880 | 6.069807e-01 | 0.999976277 |\n",
       "| 5 | ENSMUSG00000000037 |  196.34207 | -0.56124233 | 0.4481935 | -1.2522322 | 0.2104852735 | 0.612837643 |  330.5182 |  2.02001132 | 0.5094480 |  3.9650981 | 7.336576e-05 | 0.007283521 |\n",
       "\n"
      ],
      "text/plain": [
       "  Row.names          baseMean.x log2FoldChange.x lfcSE.x   stat.x    \n",
       "1 ENSMUSG00000000001 4292.21415 -0.10152343      0.1006254 -1.0089242\n",
       "2 ENSMUSG00000000003    0.00000          NA             NA         NA\n",
       "3 ENSMUSG00000000028 1694.94093 -0.07134204      0.1172402 -0.6085119\n",
       "4 ENSMUSG00000000031   50.48991  1.72341985      0.4165429  4.1374362\n",
       "5 ENSMUSG00000000037  196.34207 -0.56124233      0.4481935 -1.2522322\n",
       "  pvalue.x     padj.x      baseMean.y log2FoldChange.y lfcSE.y   stat.y    \n",
       "1 0.3130110053 0.724978743 4946.9216  -0.03082289      0.2524125 -0.1221132\n",
       "2           NA          NA    0.0000           NA             NA         NA\n",
       "3 0.5428480184 0.868195533 2277.2352  -0.09174769      0.1766256 -0.5194472\n",
       "4 0.0000351208 0.001251401   27.6991  -0.32988401      0.6413135 -0.5143880\n",
       "5 0.2104852735 0.612837643  330.5182   2.02001132      0.5094480  3.9650981\n",
       "  pvalue.y     padj.y     \n",
       "1 9.028094e-01 0.999976277\n",
       "2           NA          NA\n",
       "3 6.034489e-01 0.999976277\n",
       "4 6.069807e-01 0.999976277\n",
       "5 7.336576e-05 0.007283521"
      ]
     },
     "metadata": {},
     "output_type": "display_data"
    }
   ],
   "source": [
    "head(allDEG, 5)"
   ]
  },
  {
   "cell_type": "code",
   "execution_count": 27,
   "id": "fb3e5f7d-11dc-4bd1-945a-6e36a16d81f4",
   "metadata": {},
   "outputs": [
    {
     "name": "stderr",
     "output_type": "stream",
     "text": [
      "Warning message:\n",
      "\"Removed 6944 rows containing missing values (geom_point).\"\n"
     ]
    },
    {
     "data": {
      "image/png": "[encoded data removed]",
      "text/plain": [
       "plot without title"
      ]
     },
     "metadata": {
      "image/png": {
       "height": 420,
       "width": 420
      }
     },
     "output_type": "display_data"
    }
   ],
   "source": [
    "# scatter plot: raw abundances WT-CTCF, WT-nipBl, depletion after 24 hours for each of the two\n",
    "\n",
    "ggplot(allDEG, aes(x=log2FoldChange.x, y=log2FoldChange.y)) + geom_point()"
   ]
  },
  {
   "cell_type": "markdown",
   "id": "9c1e283d-d95e-4023-ae80-3b1a25bee8aa",
   "metadata": {},
   "source": [
    "# Comparing results from STAR vs Kallisto"
   ]
  },
  {
   "cell_type": "code",
   "execution_count": 29,
   "id": "41f5af93-e594-4107-96b3-abb755752724",
   "metadata": {},
   "outputs": [],
   "source": [
    "StarFeatureCount <- read.csv(file.path('/project/fudenber_735/collaborations/karissa_2022/RNAseq/STAR_Gencode_alignment/20220304_featureCounts_EA18-1_dTAG13-24h.csv'))\n"
   ]
  },
  {
   "cell_type": "code",
   "execution_count": 30,
   "id": "7d84a57b-1904-4032-9771-3da09adb8814",
   "metadata": {},
   "outputs": [
    {
     "data": {
      "text/html": [
       "<table class=\"dataframe\">\n",
       "<caption>A data.frame: 10 × 7</caption>\n",
       "<thead>\n",
       "\t<tr><th></th><th scope=col>X</th><th scope=col>KHRNA22</th><th scope=col>KHRNA23</th><th scope=col>KHRNA25</th><th scope=col>KHRNA26</th><th scope=col>KHRNA50</th><th scope=col>KHRNA51</th></tr>\n",
       "\t<tr><th></th><th scope=col>&lt;chr&gt;</th><th scope=col>&lt;int&gt;</th><th scope=col>&lt;int&gt;</th><th scope=col>&lt;int&gt;</th><th scope=col>&lt;int&gt;</th><th scope=col>&lt;int&gt;</th><th scope=col>&lt;int&gt;</th></tr>\n",
       "</thead>\n",
       "<tbody>\n",
       "\t<tr><th scope=row>1</th><td>ENSMUSG00000000001.4 </td><td>5220</td><td>5438</td><td>4263</td><td>4021</td><td>3298</td><td>3160</td></tr>\n",
       "\t<tr><th scope=row>2</th><td>ENSMUSG00000000003.15</td><td>   0</td><td>   0</td><td>   0</td><td>   0</td><td>   0</td><td>   0</td></tr>\n",
       "\t<tr><th scope=row>3</th><td>ENSMUSG00000000028.15</td><td>1972</td><td>2195</td><td>1655</td><td>1709</td><td>1328</td><td>1246</td></tr>\n",
       "\t<tr><th scope=row>4</th><td>ENSMUSG00000000031.16</td><td>  41</td><td>  18</td><td>  72</td><td>  44</td><td>  10</td><td>  70</td></tr>\n",
       "\t<tr><th scope=row>5</th><td>ENSMUSG00000000037.17</td><td> 174</td><td> 140</td><td> 132</td><td> 107</td><td> 170</td><td> 166</td></tr>\n",
       "\t<tr><th scope=row>6</th><td>ENSMUSG00000000049.11</td><td>   0</td><td>   0</td><td>   0</td><td>   0</td><td>   0</td><td>   0</td></tr>\n",
       "\t<tr><th scope=row>7</th><td>ENSMUSG00000000056.7 </td><td> 944</td><td> 904</td><td> 982</td><td>1014</td><td> 538</td><td> 748</td></tr>\n",
       "\t<tr><th scope=row>8</th><td>ENSMUSG00000000058.6 </td><td>   0</td><td>   0</td><td>   1</td><td>   0</td><td>   0</td><td>   0</td></tr>\n",
       "\t<tr><th scope=row>9</th><td>ENSMUSG00000000078.7 </td><td>1124</td><td>1074</td><td> 924</td><td> 888</td><td> 790</td><td> 782</td></tr>\n",
       "\t<tr><th scope=row>10</th><td>ENSMUSG00000000085.16</td><td> 487</td><td> 367</td><td> 414</td><td> 437</td><td> 279</td><td> 363</td></tr>\n",
       "</tbody>\n",
       "</table>\n"
      ],
      "text/latex": [
       "A data.frame: 10 × 7\n",
       "\\begin{tabular}{r|lllllll}\n",
       "  & X & KHRNA22 & KHRNA23 & KHRNA25 & KHRNA26 & KHRNA50 & KHRNA51\\\\\n",
       "  & <chr> & <int> & <int> & <int> & <int> & <int> & <int>\\\\\n",
       "\\hline\n",
       "\t1 & ENSMUSG00000000001.4  & 5220 & 5438 & 4263 & 4021 & 3298 & 3160\\\\\n",
       "\t2 & ENSMUSG00000000003.15 &    0 &    0 &    0 &    0 &    0 &    0\\\\\n",
       "\t3 & ENSMUSG00000000028.15 & 1972 & 2195 & 1655 & 1709 & 1328 & 1246\\\\\n",
       "\t4 & ENSMUSG00000000031.16 &   41 &   18 &   72 &   44 &   10 &   70\\\\\n",
       "\t5 & ENSMUSG00000000037.17 &  174 &  140 &  132 &  107 &  170 &  166\\\\\n",
       "\t6 & ENSMUSG00000000049.11 &    0 &    0 &    0 &    0 &    0 &    0\\\\\n",
       "\t7 & ENSMUSG00000000056.7  &  944 &  904 &  982 & 1014 &  538 &  748\\\\\n",
       "\t8 & ENSMUSG00000000058.6  &    0 &    0 &    1 &    0 &    0 &    0\\\\\n",
       "\t9 & ENSMUSG00000000078.7  & 1124 & 1074 &  924 &  888 &  790 &  782\\\\\n",
       "\t10 & ENSMUSG00000000085.16 &  487 &  367 &  414 &  437 &  279 &  363\\\\\n",
       "\\end{tabular}\n"
      ],
      "text/markdown": [
       "\n",
       "A data.frame: 10 × 7\n",
       "\n",
       "| <!--/--> | X &lt;chr&gt; | KHRNA22 &lt;int&gt; | KHRNA23 &lt;int&gt; | KHRNA25 &lt;int&gt; | KHRNA26 &lt;int&gt; | KHRNA50 &lt;int&gt; | KHRNA51 &lt;int&gt; |\n",
       "|---|---|---|---|---|---|---|---|\n",
       "| 1 | ENSMUSG00000000001.4  | 5220 | 5438 | 4263 | 4021 | 3298 | 3160 |\n",
       "| 2 | ENSMUSG00000000003.15 |    0 |    0 |    0 |    0 |    0 |    0 |\n",
       "| 3 | ENSMUSG00000000028.15 | 1972 | 2195 | 1655 | 1709 | 1328 | 1246 |\n",
       "| 4 | ENSMUSG00000000031.16 |   41 |   18 |   72 |   44 |   10 |   70 |\n",
       "| 5 | ENSMUSG00000000037.17 |  174 |  140 |  132 |  107 |  170 |  166 |\n",
       "| 6 | ENSMUSG00000000049.11 |    0 |    0 |    0 |    0 |    0 |    0 |\n",
       "| 7 | ENSMUSG00000000056.7  |  944 |  904 |  982 | 1014 |  538 |  748 |\n",
       "| 8 | ENSMUSG00000000058.6  |    0 |    0 |    1 |    0 |    0 |    0 |\n",
       "| 9 | ENSMUSG00000000078.7  | 1124 | 1074 |  924 |  888 |  790 |  782 |\n",
       "| 10 | ENSMUSG00000000085.16 |  487 |  367 |  414 |  437 |  279 |  363 |\n",
       "\n"
      ],
      "text/plain": [
       "   X                     KHRNA22 KHRNA23 KHRNA25 KHRNA26 KHRNA50 KHRNA51\n",
       "1  ENSMUSG00000000001.4  5220    5438    4263    4021    3298    3160   \n",
       "2  ENSMUSG00000000003.15    0       0       0       0       0       0   \n",
       "3  ENSMUSG00000000028.15 1972    2195    1655    1709    1328    1246   \n",
       "4  ENSMUSG00000000031.16   41      18      72      44      10      70   \n",
       "5  ENSMUSG00000000037.17  174     140     132     107     170     166   \n",
       "6  ENSMUSG00000000049.11    0       0       0       0       0       0   \n",
       "7  ENSMUSG00000000056.7   944     904     982    1014     538     748   \n",
       "8  ENSMUSG00000000058.6     0       0       1       0       0       0   \n",
       "9  ENSMUSG00000000078.7  1124    1074     924     888     790     782   \n",
       "10 ENSMUSG00000000085.16  487     367     414     437     279     363   "
      ]
     },
     "metadata": {},
     "output_type": "display_data"
    }
   ],
   "source": [
    "head(StarFeatureCount, 10)"
   ]
  },
  {
   "cell_type": "code",
   "execution_count": 46,
   "id": "32f13a0e-2e63-4384-93d3-2296b8da2797",
   "metadata": {},
   "outputs": [
    {
     "data": {
      "text/html": [
       "<ol>\n",
       "\t<li><style>\n",
       ".list-inline {list-style: none; margin:0; padding: 0}\n",
       ".list-inline>li {display: inline-block}\n",
       ".list-inline>li:not(:last-child)::after {content: \"\\00b7\"; padding: 0 .5ex}\n",
       "</style>\n",
       "<ol class=list-inline><li>'/project/fudenber_735/collaborations/karissa_2022/RNAseq-mapped/kallisto/KHRNA22/abundance'</li><li>''</li></ol>\n",
       "</li>\n",
       "</ol>\n"
      ],
      "text/latex": [
       "\\begin{enumerate}\n",
       "\\item \\begin{enumerate*}\n",
       "\\item '/project/fudenber\\_735/collaborations/karissa\\_2022/RNAseq-mapped/kallisto/KHRNA22/abundance'\n",
       "\\item ''\n",
       "\\end{enumerate*}\n",
       "\n",
       "\\end{enumerate}\n"
      ],
      "text/markdown": [
       "1. 1. '/project/fudenber_735/collaborations/karissa_2022/RNAseq-mapped/kallisto/KHRNA22/abundance'\n",
       "2. ''\n",
       "\n",
       "\n",
       "\n",
       "\n",
       "\n"
      ],
      "text/plain": [
       "[[1]]\n",
       "[1] \"/project/fudenber_735/collaborations/karissa_2022/RNAseq-mapped/kallisto/KHRNA22/abundance\"\n",
       "[2] \"\"                                                                                          \n"
      ]
     },
     "metadata": {},
     "output_type": "display_data"
    }
   ],
   "source": [
    "str_split(files['KHRNA22'], '.h5', n=2)[1]"
   ]
  },
  {
   "cell_type": "code",
   "execution_count": null,
   "id": "1375819d-93ac-4309-8233-4c48f0cc06d6",
   "metadata": {},
   "outputs": [],
   "source": []
  }
 ],
 "metadata": {
  "kernelspec": {
   "display_name": "deseq-R",
   "language": "R",
   "name": "deseq-r-4.1"
  },
  "language_info": {
   "codemirror_mode": "r",
   "file_extension": ".r",
   "mimetype": "text/x-r-source",
   "name": "R",
   "pygments_lexer": "r",
   "version": "4.1.2"
  }
 },
 "nbformat": 4,
 "nbformat_minor": 5
}
