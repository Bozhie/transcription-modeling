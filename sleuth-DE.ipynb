{
 "cells": [
  {
   "cell_type": "code",
   "execution_count": 1,
   "id": "5f594b4d-4d58-45e4-a8df-526d04dc7cd0",
   "metadata": {},
   "outputs": [],
   "source": [
    "library(\"sleuth\")"
   ]
  },
  {
   "cell_type": "code",
   "execution_count": 2,
   "id": "aa07490a-95e5-4cec-b8d6-eb9179623ede",
   "metadata": {},
   "outputs": [],
   "source": [
    "suppressMessages({\n",
    "  library(\"sleuth\")\n",
    "})"
   ]
  },
  {
   "cell_type": "code",
   "execution_count": 3,
   "id": "69ab2d73-dd35-416a-950f-9c98d26836cb",
   "metadata": {},
   "outputs": [],
   "source": [
    "elphege_proj_files = \"/project/fudenber_735/GEO/nora_2017_rna-seq_SRP106652\""
   ]
  },
  {
   "cell_type": "code",
   "execution_count": 4,
   "id": "97ca82f2-0a72-4ca0-a257-dd50c5cf4b2c",
   "metadata": {},
   "outputs": [],
   "source": [
    "sample_id <- dir(file.path(elphege_proj_files,\"SRP106652\"))"
   ]
  },
  {
   "cell_type": "code",
   "execution_count": 5,
   "id": "8a8628d8-1458-44c2-a75f-e2f79c0e3362",
   "metadata": {},
   "outputs": [
    {
     "data": {
      "text/html": [
       "<style>\n",
       ".list-inline {list-style: none; margin:0; padding: 0}\n",
       ".list-inline>li {display: inline-block}\n",
       ".list-inline>li:not(:last-child)::after {content: \"\\00b7\"; padding: 0 .5ex}\n",
       "</style>\n",
       "<ol class=list-inline><li>'SRR5517500'</li><li>'SRR5517501'</li><li>'SRR5517502'</li><li>'SRR5517503'</li><li>'SRR5517504'</li><li>'SRR5517505'</li><li>'SRR5517506'</li><li>'SRR5517507'</li><li>'SRR5517508'</li><li>'SRR5517509'</li><li>'SRR5517510'</li><li>'SRR5517511'</li><li>'SRR5517512'</li><li>'SRR5517513'</li><li>'SRR5517514'</li><li>'SRR5517515'</li><li>'SRR5517516'</li><li>'SRR5517517'</li><li>'SRR5517518'</li><li>'SRR5517519'</li><li>'SRR5517520'</li><li>'SRR5517521'</li><li>'SRR5517522'</li><li>'SRR5517523'</li></ol>\n"
      ],
      "text/latex": [
       "\\begin{enumerate*}\n",
       "\\item 'SRR5517500'\n",
       "\\item 'SRR5517501'\n",
       "\\item 'SRR5517502'\n",
       "\\item 'SRR5517503'\n",
       "\\item 'SRR5517504'\n",
       "\\item 'SRR5517505'\n",
       "\\item 'SRR5517506'\n",
       "\\item 'SRR5517507'\n",
       "\\item 'SRR5517508'\n",
       "\\item 'SRR5517509'\n",
       "\\item 'SRR5517510'\n",
       "\\item 'SRR5517511'\n",
       "\\item 'SRR5517512'\n",
       "\\item 'SRR5517513'\n",
       "\\item 'SRR5517514'\n",
       "\\item 'SRR5517515'\n",
       "\\item 'SRR5517516'\n",
       "\\item 'SRR5517517'\n",
       "\\item 'SRR5517518'\n",
       "\\item 'SRR5517519'\n",
       "\\item 'SRR5517520'\n",
       "\\item 'SRR5517521'\n",
       "\\item 'SRR5517522'\n",
       "\\item 'SRR5517523'\n",
       "\\end{enumerate*}\n"
      ],
      "text/markdown": [
       "1. 'SRR5517500'\n",
       "2. 'SRR5517501'\n",
       "3. 'SRR5517502'\n",
       "4. 'SRR5517503'\n",
       "5. 'SRR5517504'\n",
       "6. 'SRR5517505'\n",
       "7. 'SRR5517506'\n",
       "8. 'SRR5517507'\n",
       "9. 'SRR5517508'\n",
       "10. 'SRR5517509'\n",
       "11. 'SRR5517510'\n",
       "12. 'SRR5517511'\n",
       "13. 'SRR5517512'\n",
       "14. 'SRR5517513'\n",
       "15. 'SRR5517514'\n",
       "16. 'SRR5517515'\n",
       "17. 'SRR5517516'\n",
       "18. 'SRR5517517'\n",
       "19. 'SRR5517518'\n",
       "20. 'SRR5517519'\n",
       "21. 'SRR5517520'\n",
       "22. 'SRR5517521'\n",
       "23. 'SRR5517522'\n",
       "24. 'SRR5517523'\n",
       "\n",
       "\n"
      ],
      "text/plain": [
       " [1] \"SRR5517500\" \"SRR5517501\" \"SRR5517502\" \"SRR5517503\" \"SRR5517504\"\n",
       " [6] \"SRR5517505\" \"SRR5517506\" \"SRR5517507\" \"SRR5517508\" \"SRR5517509\"\n",
       "[11] \"SRR5517510\" \"SRR5517511\" \"SRR5517512\" \"SRR5517513\" \"SRR5517514\"\n",
       "[16] \"SRR5517515\" \"SRR5517516\" \"SRR5517517\" \"SRR5517518\" \"SRR5517519\"\n",
       "[21] \"SRR5517520\" \"SRR5517521\" \"SRR5517522\" \"SRR5517523\""
      ]
     },
     "metadata": {},
     "output_type": "display_data"
    }
   ],
   "source": [
    "sample_id"
   ]
  },
  {
   "cell_type": "code",
   "execution_count": 6,
   "id": "780b1044-3ee7-4edb-ad58-38e3bba37618",
   "metadata": {},
   "outputs": [
    {
     "data": {
      "text/html": [
       "<style>\n",
       ".list-inline {list-style: none; margin:0; padding: 0}\n",
       ".list-inline>li {display: inline-block}\n",
       ".list-inline>li:not(:last-child)::after {content: \"\\00b7\"; padding: 0 .5ex}\n",
       "</style>\n",
       "<ol class=list-inline><li>'/project/fudenber_735/GEO/nora_2017_rna-seq_SRP106652/SRP106652-rna-seq/SRR5517500/kallisto'</li><li>'/project/fudenber_735/GEO/nora_2017_rna-seq_SRP106652/SRP106652-rna-seq/SRR5517501/kallisto'</li><li>'/project/fudenber_735/GEO/nora_2017_rna-seq_SRP106652/SRP106652-rna-seq/SRR5517502/kallisto'</li><li>'/project/fudenber_735/GEO/nora_2017_rna-seq_SRP106652/SRP106652-rna-seq/SRR5517503/kallisto'</li><li>'/project/fudenber_735/GEO/nora_2017_rna-seq_SRP106652/SRP106652-rna-seq/SRR5517504/kallisto'</li><li>'/project/fudenber_735/GEO/nora_2017_rna-seq_SRP106652/SRP106652-rna-seq/SRR5517505/kallisto'</li><li>'/project/fudenber_735/GEO/nora_2017_rna-seq_SRP106652/SRP106652-rna-seq/SRR5517506/kallisto'</li><li>'/project/fudenber_735/GEO/nora_2017_rna-seq_SRP106652/SRP106652-rna-seq/SRR5517507/kallisto'</li><li>'/project/fudenber_735/GEO/nora_2017_rna-seq_SRP106652/SRP106652-rna-seq/SRR5517508/kallisto'</li><li>'/project/fudenber_735/GEO/nora_2017_rna-seq_SRP106652/SRP106652-rna-seq/SRR5517509/kallisto'</li><li>'/project/fudenber_735/GEO/nora_2017_rna-seq_SRP106652/SRP106652-rna-seq/SRR5517510/kallisto'</li><li>'/project/fudenber_735/GEO/nora_2017_rna-seq_SRP106652/SRP106652-rna-seq/SRR5517511/kallisto'</li><li>'/project/fudenber_735/GEO/nora_2017_rna-seq_SRP106652/SRP106652-rna-seq/SRR5517512/kallisto'</li><li>'/project/fudenber_735/GEO/nora_2017_rna-seq_SRP106652/SRP106652-rna-seq/SRR5517513/kallisto'</li><li>'/project/fudenber_735/GEO/nora_2017_rna-seq_SRP106652/SRP106652-rna-seq/SRR5517514/kallisto'</li><li>'/project/fudenber_735/GEO/nora_2017_rna-seq_SRP106652/SRP106652-rna-seq/SRR5517515/kallisto'</li><li>'/project/fudenber_735/GEO/nora_2017_rna-seq_SRP106652/SRP106652-rna-seq/SRR5517516/kallisto'</li><li>'/project/fudenber_735/GEO/nora_2017_rna-seq_SRP106652/SRP106652-rna-seq/SRR5517517/kallisto'</li><li>'/project/fudenber_735/GEO/nora_2017_rna-seq_SRP106652/SRP106652-rna-seq/SRR5517518/kallisto'</li><li>'/project/fudenber_735/GEO/nora_2017_rna-seq_SRP106652/SRP106652-rna-seq/SRR5517519/kallisto'</li><li>'/project/fudenber_735/GEO/nora_2017_rna-seq_SRP106652/SRP106652-rna-seq/SRR5517520/kallisto'</li><li>'/project/fudenber_735/GEO/nora_2017_rna-seq_SRP106652/SRP106652-rna-seq/SRR5517521/kallisto'</li><li>'/project/fudenber_735/GEO/nora_2017_rna-seq_SRP106652/SRP106652-rna-seq/SRR5517522/kallisto'</li><li>'/project/fudenber_735/GEO/nora_2017_rna-seq_SRP106652/SRP106652-rna-seq/SRR5517523/kallisto'</li></ol>\n"
      ],
      "text/latex": [
       "\\begin{enumerate*}\n",
       "\\item '/project/fudenber\\_735/GEO/nora\\_2017\\_rna-seq\\_SRP106652/SRP106652-rna-seq/SRR5517500/kallisto'\n",
       "\\item '/project/fudenber\\_735/GEO/nora\\_2017\\_rna-seq\\_SRP106652/SRP106652-rna-seq/SRR5517501/kallisto'\n",
       "\\item '/project/fudenber\\_735/GEO/nora\\_2017\\_rna-seq\\_SRP106652/SRP106652-rna-seq/SRR5517502/kallisto'\n",
       "\\item '/project/fudenber\\_735/GEO/nora\\_2017\\_rna-seq\\_SRP106652/SRP106652-rna-seq/SRR5517503/kallisto'\n",
       "\\item '/project/fudenber\\_735/GEO/nora\\_2017\\_rna-seq\\_SRP106652/SRP106652-rna-seq/SRR5517504/kallisto'\n",
       "\\item '/project/fudenber\\_735/GEO/nora\\_2017\\_rna-seq\\_SRP106652/SRP106652-rna-seq/SRR5517505/kallisto'\n",
       "\\item '/project/fudenber\\_735/GEO/nora\\_2017\\_rna-seq\\_SRP106652/SRP106652-rna-seq/SRR5517506/kallisto'\n",
       "\\item '/project/fudenber\\_735/GEO/nora\\_2017\\_rna-seq\\_SRP106652/SRP106652-rna-seq/SRR5517507/kallisto'\n",
       "\\item '/project/fudenber\\_735/GEO/nora\\_2017\\_rna-seq\\_SRP106652/SRP106652-rna-seq/SRR5517508/kallisto'\n",
       "\\item '/project/fudenber\\_735/GEO/nora\\_2017\\_rna-seq\\_SRP106652/SRP106652-rna-seq/SRR5517509/kallisto'\n",
       "\\item '/project/fudenber\\_735/GEO/nora\\_2017\\_rna-seq\\_SRP106652/SRP106652-rna-seq/SRR5517510/kallisto'\n",
       "\\item '/project/fudenber\\_735/GEO/nora\\_2017\\_rna-seq\\_SRP106652/SRP106652-rna-seq/SRR5517511/kallisto'\n",
       "\\item '/project/fudenber\\_735/GEO/nora\\_2017\\_rna-seq\\_SRP106652/SRP106652-rna-seq/SRR5517512/kallisto'\n",
       "\\item '/project/fudenber\\_735/GEO/nora\\_2017\\_rna-seq\\_SRP106652/SRP106652-rna-seq/SRR5517513/kallisto'\n",
       "\\item '/project/fudenber\\_735/GEO/nora\\_2017\\_rna-seq\\_SRP106652/SRP106652-rna-seq/SRR5517514/kallisto'\n",
       "\\item '/project/fudenber\\_735/GEO/nora\\_2017\\_rna-seq\\_SRP106652/SRP106652-rna-seq/SRR5517515/kallisto'\n",
       "\\item '/project/fudenber\\_735/GEO/nora\\_2017\\_rna-seq\\_SRP106652/SRP106652-rna-seq/SRR5517516/kallisto'\n",
       "\\item '/project/fudenber\\_735/GEO/nora\\_2017\\_rna-seq\\_SRP106652/SRP106652-rna-seq/SRR5517517/kallisto'\n",
       "\\item '/project/fudenber\\_735/GEO/nora\\_2017\\_rna-seq\\_SRP106652/SRP106652-rna-seq/SRR5517518/kallisto'\n",
       "\\item '/project/fudenber\\_735/GEO/nora\\_2017\\_rna-seq\\_SRP106652/SRP106652-rna-seq/SRR5517519/kallisto'\n",
       "\\item '/project/fudenber\\_735/GEO/nora\\_2017\\_rna-seq\\_SRP106652/SRP106652-rna-seq/SRR5517520/kallisto'\n",
       "\\item '/project/fudenber\\_735/GEO/nora\\_2017\\_rna-seq\\_SRP106652/SRP106652-rna-seq/SRR5517521/kallisto'\n",
       "\\item '/project/fudenber\\_735/GEO/nora\\_2017\\_rna-seq\\_SRP106652/SRP106652-rna-seq/SRR5517522/kallisto'\n",
       "\\item '/project/fudenber\\_735/GEO/nora\\_2017\\_rna-seq\\_SRP106652/SRP106652-rna-seq/SRR5517523/kallisto'\n",
       "\\end{enumerate*}\n"
      ],
      "text/markdown": [
       "1. '/project/fudenber_735/GEO/nora_2017_rna-seq_SRP106652/SRP106652-rna-seq/SRR5517500/kallisto'\n",
       "2. '/project/fudenber_735/GEO/nora_2017_rna-seq_SRP106652/SRP106652-rna-seq/SRR5517501/kallisto'\n",
       "3. '/project/fudenber_735/GEO/nora_2017_rna-seq_SRP106652/SRP106652-rna-seq/SRR5517502/kallisto'\n",
       "4. '/project/fudenber_735/GEO/nora_2017_rna-seq_SRP106652/SRP106652-rna-seq/SRR5517503/kallisto'\n",
       "5. '/project/fudenber_735/GEO/nora_2017_rna-seq_SRP106652/SRP106652-rna-seq/SRR5517504/kallisto'\n",
       "6. '/project/fudenber_735/GEO/nora_2017_rna-seq_SRP106652/SRP106652-rna-seq/SRR5517505/kallisto'\n",
       "7. '/project/fudenber_735/GEO/nora_2017_rna-seq_SRP106652/SRP106652-rna-seq/SRR5517506/kallisto'\n",
       "8. '/project/fudenber_735/GEO/nora_2017_rna-seq_SRP106652/SRP106652-rna-seq/SRR5517507/kallisto'\n",
       "9. '/project/fudenber_735/GEO/nora_2017_rna-seq_SRP106652/SRP106652-rna-seq/SRR5517508/kallisto'\n",
       "10. '/project/fudenber_735/GEO/nora_2017_rna-seq_SRP106652/SRP106652-rna-seq/SRR5517509/kallisto'\n",
       "11. '/project/fudenber_735/GEO/nora_2017_rna-seq_SRP106652/SRP106652-rna-seq/SRR5517510/kallisto'\n",
       "12. '/project/fudenber_735/GEO/nora_2017_rna-seq_SRP106652/SRP106652-rna-seq/SRR5517511/kallisto'\n",
       "13. '/project/fudenber_735/GEO/nora_2017_rna-seq_SRP106652/SRP106652-rna-seq/SRR5517512/kallisto'\n",
       "14. '/project/fudenber_735/GEO/nora_2017_rna-seq_SRP106652/SRP106652-rna-seq/SRR5517513/kallisto'\n",
       "15. '/project/fudenber_735/GEO/nora_2017_rna-seq_SRP106652/SRP106652-rna-seq/SRR5517514/kallisto'\n",
       "16. '/project/fudenber_735/GEO/nora_2017_rna-seq_SRP106652/SRP106652-rna-seq/SRR5517515/kallisto'\n",
       "17. '/project/fudenber_735/GEO/nora_2017_rna-seq_SRP106652/SRP106652-rna-seq/SRR5517516/kallisto'\n",
       "18. '/project/fudenber_735/GEO/nora_2017_rna-seq_SRP106652/SRP106652-rna-seq/SRR5517517/kallisto'\n",
       "19. '/project/fudenber_735/GEO/nora_2017_rna-seq_SRP106652/SRP106652-rna-seq/SRR5517518/kallisto'\n",
       "20. '/project/fudenber_735/GEO/nora_2017_rna-seq_SRP106652/SRP106652-rna-seq/SRR5517519/kallisto'\n",
       "21. '/project/fudenber_735/GEO/nora_2017_rna-seq_SRP106652/SRP106652-rna-seq/SRR5517520/kallisto'\n",
       "22. '/project/fudenber_735/GEO/nora_2017_rna-seq_SRP106652/SRP106652-rna-seq/SRR5517521/kallisto'\n",
       "23. '/project/fudenber_735/GEO/nora_2017_rna-seq_SRP106652/SRP106652-rna-seq/SRR5517522/kallisto'\n",
       "24. '/project/fudenber_735/GEO/nora_2017_rna-seq_SRP106652/SRP106652-rna-seq/SRR5517523/kallisto'\n",
       "\n",
       "\n"
      ],
      "text/plain": [
       " [1] \"/project/fudenber_735/GEO/nora_2017_rna-seq_SRP106652/SRP106652-rna-seq/SRR5517500/kallisto\"\n",
       " [2] \"/project/fudenber_735/GEO/nora_2017_rna-seq_SRP106652/SRP106652-rna-seq/SRR5517501/kallisto\"\n",
       " [3] \"/project/fudenber_735/GEO/nora_2017_rna-seq_SRP106652/SRP106652-rna-seq/SRR5517502/kallisto\"\n",
       " [4] \"/project/fudenber_735/GEO/nora_2017_rna-seq_SRP106652/SRP106652-rna-seq/SRR5517503/kallisto\"\n",
       " [5] \"/project/fudenber_735/GEO/nora_2017_rna-seq_SRP106652/SRP106652-rna-seq/SRR5517504/kallisto\"\n",
       " [6] \"/project/fudenber_735/GEO/nora_2017_rna-seq_SRP106652/SRP106652-rna-seq/SRR5517505/kallisto\"\n",
       " [7] \"/project/fudenber_735/GEO/nora_2017_rna-seq_SRP106652/SRP106652-rna-seq/SRR5517506/kallisto\"\n",
       " [8] \"/project/fudenber_735/GEO/nora_2017_rna-seq_SRP106652/SRP106652-rna-seq/SRR5517507/kallisto\"\n",
       " [9] \"/project/fudenber_735/GEO/nora_2017_rna-seq_SRP106652/SRP106652-rna-seq/SRR5517508/kallisto\"\n",
       "[10] \"/project/fudenber_735/GEO/nora_2017_rna-seq_SRP106652/SRP106652-rna-seq/SRR5517509/kallisto\"\n",
       "[11] \"/project/fudenber_735/GEO/nora_2017_rna-seq_SRP106652/SRP106652-rna-seq/SRR5517510/kallisto\"\n",
       "[12] \"/project/fudenber_735/GEO/nora_2017_rna-seq_SRP106652/SRP106652-rna-seq/SRR5517511/kallisto\"\n",
       "[13] \"/project/fudenber_735/GEO/nora_2017_rna-seq_SRP106652/SRP106652-rna-seq/SRR5517512/kallisto\"\n",
       "[14] \"/project/fudenber_735/GEO/nora_2017_rna-seq_SRP106652/SRP106652-rna-seq/SRR5517513/kallisto\"\n",
       "[15] \"/project/fudenber_735/GEO/nora_2017_rna-seq_SRP106652/SRP106652-rna-seq/SRR5517514/kallisto\"\n",
       "[16] \"/project/fudenber_735/GEO/nora_2017_rna-seq_SRP106652/SRP106652-rna-seq/SRR5517515/kallisto\"\n",
       "[17] \"/project/fudenber_735/GEO/nora_2017_rna-seq_SRP106652/SRP106652-rna-seq/SRR5517516/kallisto\"\n",
       "[18] \"/project/fudenber_735/GEO/nora_2017_rna-seq_SRP106652/SRP106652-rna-seq/SRR5517517/kallisto\"\n",
       "[19] \"/project/fudenber_735/GEO/nora_2017_rna-seq_SRP106652/SRP106652-rna-seq/SRR5517518/kallisto\"\n",
       "[20] \"/project/fudenber_735/GEO/nora_2017_rna-seq_SRP106652/SRP106652-rna-seq/SRR5517519/kallisto\"\n",
       "[21] \"/project/fudenber_735/GEO/nora_2017_rna-seq_SRP106652/SRP106652-rna-seq/SRR5517520/kallisto\"\n",
       "[22] \"/project/fudenber_735/GEO/nora_2017_rna-seq_SRP106652/SRP106652-rna-seq/SRR5517521/kallisto\"\n",
       "[23] \"/project/fudenber_735/GEO/nora_2017_rna-seq_SRP106652/SRP106652-rna-seq/SRR5517522/kallisto\"\n",
       "[24] \"/project/fudenber_735/GEO/nora_2017_rna-seq_SRP106652/SRP106652-rna-seq/SRR5517523/kallisto\""
      ]
     },
     "metadata": {},
     "output_type": "display_data"
    }
   ],
   "source": [
    "kal_dirs <- file.path(elphege_proj_files, \"SRP106652-rna-seq\", sample_id, \"kallisto\")\n",
    "kal_dirs"
   ]
  },
  {
   "cell_type": "markdown",
   "id": "b20816ac-02cc-45f8-a84e-925a19dfa86a",
   "metadata": {},
   "source": [
    "Need to create sleuth constructor object -- matches the experiment files to the conditions"
   ]
  },
  {
   "cell_type": "code",
   "execution_count": 8,
   "id": "bebe7bf1-4f73-4ca1-b259-2bb8b477fba1",
   "metadata": {},
   "outputs": [
    {
     "data": {
      "text/html": [
       "<table class=\"dataframe\">\n",
       "<caption>A data.frame: 5 × 21</caption>\n",
       "<thead>\n",
       "\t<tr><th></th><th scope=col>Experiment.Accession</th><th scope=col>Experiment.Title</th><th scope=col>Organism.Name</th><th scope=col>Instrument</th><th scope=col>Submitter</th><th scope=col>Study.Accession</th><th scope=col>Study.Title</th><th scope=col>Sample.Accession</th><th scope=col>Sample.Title</th><th scope=col>Total.Size..Mb</th><th scope=col>⋯</th><th scope=col>Total.Spots</th><th scope=col>Total.Bases</th><th scope=col>Library.Name</th><th scope=col>Library.Strategy</th><th scope=col>Library.Source</th><th scope=col>Library.Selection</th><th scope=col>1</th><th scope=col>condition</th><th scope=col>3</th><th scope=col>4</th></tr>\n",
       "\t<tr><th></th><th scope=col>&lt;chr&gt;</th><th scope=col>&lt;chr&gt;</th><th scope=col>&lt;chr&gt;</th><th scope=col>&lt;chr&gt;</th><th scope=col>&lt;chr&gt;</th><th scope=col>&lt;chr&gt;</th><th scope=col>&lt;chr&gt;</th><th scope=col>&lt;chr&gt;</th><th scope=col>&lt;lgl&gt;</th><th scope=col>&lt;dbl&gt;</th><th scope=col>⋯</th><th scope=col>&lt;int&gt;</th><th scope=col>&lt;dbl&gt;</th><th scope=col>&lt;lgl&gt;</th><th scope=col>&lt;chr&gt;</th><th scope=col>&lt;chr&gt;</th><th scope=col>&lt;chr&gt;</th><th scope=col>&lt;fct&gt;</th><th scope=col>&lt;chr&gt;</th><th scope=col>&lt;fct&gt;</th><th scope=col>&lt;fct&gt;</th></tr>\n",
       "</thead>\n",
       "<tbody>\n",
       "\t<tr><th scope=row>1</th><td>SRX2790892</td><td>GSM2609232: RNA-seq_WT-untagged_auxin4days_rep3; Mus musculus; RNA-Seq</td><td>Mus musculus</td><td>NextSeq 500</td><td>GEO</td><td>SRP106652</td><td>Targeted degradation of CTCF decouples local insulation of chromosome domains from genomic compartmentalization</td><td>SRS2172370</td><td>NA</td><td>2053.02</td><td>⋯</td><td>37444268</td><td> 5691528736</td><td>NA</td><td>RNA-Seq</td><td>TRANSCRIPTOMIC</td><td>cDNA</td><td>GSM2609232</td><td> RNA-seq_WT-untagged_auxin4days</td><td> Mus musculus</td><td> RNA-Seq</td></tr>\n",
       "\t<tr><th scope=row>2</th><td>SRX2790891</td><td>GSM2609231: RNA-seq_WT-untagged_auxin2days_rep3; Mus musculus; RNA-Seq</td><td>Mus musculus</td><td>NextSeq 500</td><td>GEO</td><td>SRP106652</td><td>Targeted degradation of CTCF decouples local insulation of chromosome domains from genomic compartmentalization</td><td>SRS2172369</td><td>NA</td><td>3252.85</td><td>⋯</td><td>58726186</td><td> 8926380272</td><td>NA</td><td>RNA-Seq</td><td>TRANSCRIPTOMIC</td><td>cDNA</td><td>GSM2609231</td><td> RNA-seq_WT-untagged_auxin2days</td><td> Mus musculus</td><td> RNA-Seq</td></tr>\n",
       "\t<tr><th scope=row>3</th><td>SRX2790890</td><td>GSM2609230: RNA-seq_WT-untagged_untreated_rep3; Mus musculus; RNA-Seq </td><td>Mus musculus</td><td>NextSeq 500</td><td>GEO</td><td>SRP106652</td><td>Targeted degradation of CTCF decouples local insulation of chromosome domains from genomic compartmentalization</td><td>SRS2172368</td><td>NA</td><td>5413.41</td><td>⋯</td><td>98190712</td><td>14924988224</td><td>NA</td><td>RNA-Seq</td><td>TRANSCRIPTOMIC</td><td>cDNA</td><td>GSM2609230</td><td> RNA-seq_WT-untagged_untreated </td><td> Mus musculus</td><td> RNA-Seq</td></tr>\n",
       "\t<tr><th scope=row>4</th><td>SRX2790889</td><td>GSM2609229: RNA-seq_WT-untagged_auxin4days_rep2; Mus musculus; RNA-Seq</td><td>Mus musculus</td><td>NextSeq 500</td><td>GEO</td><td>SRP106652</td><td>Targeted degradation of CTCF decouples local insulation of chromosome domains from genomic compartmentalization</td><td>SRS2172367</td><td>NA</td><td>3291.89</td><td>⋯</td><td>58686036</td><td> 8920277472</td><td>NA</td><td>RNA-Seq</td><td>TRANSCRIPTOMIC</td><td>cDNA</td><td>GSM2609229</td><td> RNA-seq_WT-untagged_auxin4days</td><td> Mus musculus</td><td> RNA-Seq</td></tr>\n",
       "\t<tr><th scope=row>5</th><td>SRX2790888</td><td>GSM2609228: RNA-seq_WT-untagged_auxin2days_rep2; Mus musculus; RNA-Seq</td><td>Mus musculus</td><td>NextSeq 500</td><td>GEO</td><td>SRP106652</td><td>Targeted degradation of CTCF decouples local insulation of chromosome domains from genomic compartmentalization</td><td>SRS2172366</td><td>NA</td><td>2394.52</td><td>⋯</td><td>38024426</td><td> 5779712752</td><td>NA</td><td>RNA-Seq</td><td>TRANSCRIPTOMIC</td><td>cDNA</td><td>GSM2609228</td><td> RNA-seq_WT-untagged_auxin2days</td><td> Mus musculus</td><td> RNA-Seq</td></tr>\n",
       "</tbody>\n",
       "</table>\n"
      ],
      "text/latex": [
       "A data.frame: 5 × 21\n",
       "\\begin{tabular}{r|lllllllllllllllllllll}\n",
       "  & Experiment.Accession & Experiment.Title & Organism.Name & Instrument & Submitter & Study.Accession & Study.Title & Sample.Accession & Sample.Title & Total.Size..Mb & ⋯ & Total.Spots & Total.Bases & Library.Name & Library.Strategy & Library.Source & Library.Selection & 1 & condition & 3 & 4\\\\\n",
       "  & <chr> & <chr> & <chr> & <chr> & <chr> & <chr> & <chr> & <chr> & <lgl> & <dbl> & ⋯ & <int> & <dbl> & <lgl> & <chr> & <chr> & <chr> & <fct> & <chr> & <fct> & <fct>\\\\\n",
       "\\hline\n",
       "\t1 & SRX2790892 & GSM2609232: RNA-seq\\_WT-untagged\\_auxin4days\\_rep3; Mus musculus; RNA-Seq & Mus musculus & NextSeq 500 & GEO & SRP106652 & Targeted degradation of CTCF decouples local insulation of chromosome domains from genomic compartmentalization & SRS2172370 & NA & 2053.02 & ⋯ & 37444268 &  5691528736 & NA & RNA-Seq & TRANSCRIPTOMIC & cDNA & GSM2609232 &  RNA-seq\\_WT-untagged\\_auxin4days &  Mus musculus &  RNA-Seq\\\\\n",
       "\t2 & SRX2790891 & GSM2609231: RNA-seq\\_WT-untagged\\_auxin2days\\_rep3; Mus musculus; RNA-Seq & Mus musculus & NextSeq 500 & GEO & SRP106652 & Targeted degradation of CTCF decouples local insulation of chromosome domains from genomic compartmentalization & SRS2172369 & NA & 3252.85 & ⋯ & 58726186 &  8926380272 & NA & RNA-Seq & TRANSCRIPTOMIC & cDNA & GSM2609231 &  RNA-seq\\_WT-untagged\\_auxin2days &  Mus musculus &  RNA-Seq\\\\\n",
       "\t3 & SRX2790890 & GSM2609230: RNA-seq\\_WT-untagged\\_untreated\\_rep3; Mus musculus; RNA-Seq  & Mus musculus & NextSeq 500 & GEO & SRP106652 & Targeted degradation of CTCF decouples local insulation of chromosome domains from genomic compartmentalization & SRS2172368 & NA & 5413.41 & ⋯ & 98190712 & 14924988224 & NA & RNA-Seq & TRANSCRIPTOMIC & cDNA & GSM2609230 &  RNA-seq\\_WT-untagged\\_untreated  &  Mus musculus &  RNA-Seq\\\\\n",
       "\t4 & SRX2790889 & GSM2609229: RNA-seq\\_WT-untagged\\_auxin4days\\_rep2; Mus musculus; RNA-Seq & Mus musculus & NextSeq 500 & GEO & SRP106652 & Targeted degradation of CTCF decouples local insulation of chromosome domains from genomic compartmentalization & SRS2172367 & NA & 3291.89 & ⋯ & 58686036 &  8920277472 & NA & RNA-Seq & TRANSCRIPTOMIC & cDNA & GSM2609229 &  RNA-seq\\_WT-untagged\\_auxin4days &  Mus musculus &  RNA-Seq\\\\\n",
       "\t5 & SRX2790888 & GSM2609228: RNA-seq\\_WT-untagged\\_auxin2days\\_rep2; Mus musculus; RNA-Seq & Mus musculus & NextSeq 500 & GEO & SRP106652 & Targeted degradation of CTCF decouples local insulation of chromosome domains from genomic compartmentalization & SRS2172366 & NA & 2394.52 & ⋯ & 38024426 &  5779712752 & NA & RNA-Seq & TRANSCRIPTOMIC & cDNA & GSM2609228 &  RNA-seq\\_WT-untagged\\_auxin2days &  Mus musculus &  RNA-Seq\\\\\n",
       "\\end{tabular}\n"
      ],
      "text/markdown": [
       "\n",
       "A data.frame: 5 × 21\n",
       "\n",
       "| <!--/--> | Experiment.Accession &lt;chr&gt; | Experiment.Title &lt;chr&gt; | Organism.Name &lt;chr&gt; | Instrument &lt;chr&gt; | Submitter &lt;chr&gt; | Study.Accession &lt;chr&gt; | Study.Title &lt;chr&gt; | Sample.Accession &lt;chr&gt; | Sample.Title &lt;lgl&gt; | Total.Size..Mb &lt;dbl&gt; | ⋯ ⋯ | Total.Spots &lt;int&gt; | Total.Bases &lt;dbl&gt; | Library.Name &lt;lgl&gt; | Library.Strategy &lt;chr&gt; | Library.Source &lt;chr&gt; | Library.Selection &lt;chr&gt; | 1 &lt;fct&gt; | condition &lt;chr&gt; | 3 &lt;fct&gt; | 4 &lt;fct&gt; |\n",
       "|---|---|---|---|---|---|---|---|---|---|---|---|---|---|---|---|---|---|---|---|---|---|\n",
       "| 1 | SRX2790892 | GSM2609232: RNA-seq_WT-untagged_auxin4days_rep3; Mus musculus; RNA-Seq | Mus musculus | NextSeq 500 | GEO | SRP106652 | Targeted degradation of CTCF decouples local insulation of chromosome domains from genomic compartmentalization | SRS2172370 | NA | 2053.02 | ⋯ | 37444268 |  5691528736 | NA | RNA-Seq | TRANSCRIPTOMIC | cDNA | GSM2609232 |  RNA-seq_WT-untagged_auxin4days |  Mus musculus |  RNA-Seq |\n",
       "| 2 | SRX2790891 | GSM2609231: RNA-seq_WT-untagged_auxin2days_rep3; Mus musculus; RNA-Seq | Mus musculus | NextSeq 500 | GEO | SRP106652 | Targeted degradation of CTCF decouples local insulation of chromosome domains from genomic compartmentalization | SRS2172369 | NA | 3252.85 | ⋯ | 58726186 |  8926380272 | NA | RNA-Seq | TRANSCRIPTOMIC | cDNA | GSM2609231 |  RNA-seq_WT-untagged_auxin2days |  Mus musculus |  RNA-Seq |\n",
       "| 3 | SRX2790890 | GSM2609230: RNA-seq_WT-untagged_untreated_rep3; Mus musculus; RNA-Seq  | Mus musculus | NextSeq 500 | GEO | SRP106652 | Targeted degradation of CTCF decouples local insulation of chromosome domains from genomic compartmentalization | SRS2172368 | NA | 5413.41 | ⋯ | 98190712 | 14924988224 | NA | RNA-Seq | TRANSCRIPTOMIC | cDNA | GSM2609230 |  RNA-seq_WT-untagged_untreated  |  Mus musculus |  RNA-Seq |\n",
       "| 4 | SRX2790889 | GSM2609229: RNA-seq_WT-untagged_auxin4days_rep2; Mus musculus; RNA-Seq | Mus musculus | NextSeq 500 | GEO | SRP106652 | Targeted degradation of CTCF decouples local insulation of chromosome domains from genomic compartmentalization | SRS2172367 | NA | 3291.89 | ⋯ | 58686036 |  8920277472 | NA | RNA-Seq | TRANSCRIPTOMIC | cDNA | GSM2609229 |  RNA-seq_WT-untagged_auxin4days |  Mus musculus |  RNA-Seq |\n",
       "| 5 | SRX2790888 | GSM2609228: RNA-seq_WT-untagged_auxin2days_rep2; Mus musculus; RNA-Seq | Mus musculus | NextSeq 500 | GEO | SRP106652 | Targeted degradation of CTCF decouples local insulation of chromosome domains from genomic compartmentalization | SRS2172366 | NA | 2394.52 | ⋯ | 38024426 |  5779712752 | NA | RNA-Seq | TRANSCRIPTOMIC | cDNA | GSM2609228 |  RNA-seq_WT-untagged_auxin2days |  Mus musculus |  RNA-Seq |\n",
       "\n"
      ],
      "text/plain": [
       "  Experiment.Accession\n",
       "1 SRX2790892          \n",
       "2 SRX2790891          \n",
       "3 SRX2790890          \n",
       "4 SRX2790889          \n",
       "5 SRX2790888          \n",
       "  Experiment.Title                                                      \n",
       "1 GSM2609232: RNA-seq_WT-untagged_auxin4days_rep3; Mus musculus; RNA-Seq\n",
       "2 GSM2609231: RNA-seq_WT-untagged_auxin2days_rep3; Mus musculus; RNA-Seq\n",
       "3 GSM2609230: RNA-seq_WT-untagged_untreated_rep3; Mus musculus; RNA-Seq \n",
       "4 GSM2609229: RNA-seq_WT-untagged_auxin4days_rep2; Mus musculus; RNA-Seq\n",
       "5 GSM2609228: RNA-seq_WT-untagged_auxin2days_rep2; Mus musculus; RNA-Seq\n",
       "  Organism.Name Instrument  Submitter Study.Accession\n",
       "1 Mus musculus  NextSeq 500 GEO       SRP106652      \n",
       "2 Mus musculus  NextSeq 500 GEO       SRP106652      \n",
       "3 Mus musculus  NextSeq 500 GEO       SRP106652      \n",
       "4 Mus musculus  NextSeq 500 GEO       SRP106652      \n",
       "5 Mus musculus  NextSeq 500 GEO       SRP106652      \n",
       "  Study.Title                                                                                                    \n",
       "1 Targeted degradation of CTCF decouples local insulation of chromosome domains from genomic compartmentalization\n",
       "2 Targeted degradation of CTCF decouples local insulation of chromosome domains from genomic compartmentalization\n",
       "3 Targeted degradation of CTCF decouples local insulation of chromosome domains from genomic compartmentalization\n",
       "4 Targeted degradation of CTCF decouples local insulation of chromosome domains from genomic compartmentalization\n",
       "5 Targeted degradation of CTCF decouples local insulation of chromosome domains from genomic compartmentalization\n",
       "  Sample.Accession Sample.Title Total.Size..Mb <U+22EF>   Total.Spots Total.Bases\n",
       "1 SRS2172370       NA           2053.02        <U+22EF> 37444268     5691528736\n",
       "2 SRS2172369       NA           3252.85        <U+22EF> 58726186     8926380272\n",
       "3 SRS2172368       NA           5413.41        <U+22EF> 98190712    14924988224\n",
       "4 SRS2172367       NA           3291.89        <U+22EF> 58686036     8920277472\n",
       "5 SRS2172366       NA           2394.52        <U+22EF> 38024426     5779712752\n",
       "  Library.Name Library.Strategy Library.Source Library.Selection 1         \n",
       "1 NA           RNA-Seq          TRANSCRIPTOMIC cDNA              GSM2609232\n",
       "2 NA           RNA-Seq          TRANSCRIPTOMIC cDNA              GSM2609231\n",
       "3 NA           RNA-Seq          TRANSCRIPTOMIC cDNA              GSM2609230\n",
       "4 NA           RNA-Seq          TRANSCRIPTOMIC cDNA              GSM2609229\n",
       "5 NA           RNA-Seq          TRANSCRIPTOMIC cDNA              GSM2609228\n",
       "  condition                       3             4       \n",
       "1  RNA-seq_WT-untagged_auxin4days  Mus musculus  RNA-Seq\n",
       "2  RNA-seq_WT-untagged_auxin2days  Mus musculus  RNA-Seq\n",
       "3  RNA-seq_WT-untagged_untreated   Mus musculus  RNA-Seq\n",
       "4  RNA-seq_WT-untagged_auxin4days  Mus musculus  RNA-Seq\n",
       "5  RNA-seq_WT-untagged_auxin2days  Mus musculus  RNA-Seq"
      ]
     },
     "metadata": {},
     "output_type": "display_data"
    }
   ],
   "source": [
    "# Getting \"Run\" and \"condition\" from Experiment Name of the SRA deposits\n",
    "\n",
    "sum <- read.table(file.path(elphege_proj_files, \"metadata\", \"sra_result_summary.csv\"), header = TRUE, sep = \",\", stringsAsFactors=FALSE)\n",
    "\n",
    "# Parse experiment name to get 'condition' -- str_split_fixed(string, pattern, n)\n",
    "sum_extended <- cbind(sum,  stringr::str_split_fixed(sum$Experiment.Title, \"[:;]+\", 4))\n",
    "colnames(sum_extended)[19] <- \"condition\"\n",
    "\n",
    "# Removing replicate number so that sleuth can do some grouping\n",
    "sum_extended$condition <- sub(\"_rep[0-4]\", \"\", sum_extended$condition)\n",
    "head(sum_extended, 5)"
   ]
  },
  {
   "cell_type": "code",
   "execution_count": 9,
   "id": "f755a869-9910-41c1-bb5f-80ab50275411",
   "metadata": {},
   "outputs": [
    {
     "data": {
      "text/html": [
       "<table class=\"dataframe\">\n",
       "<caption>A data.frame: 5 × 47</caption>\n",
       "<thead>\n",
       "\t<tr><th></th><th scope=col>Run</th><th scope=col>ReleaseDate</th><th scope=col>LoadDate</th><th scope=col>spots</th><th scope=col>bases</th><th scope=col>spots_with_mates</th><th scope=col>avgLength</th><th scope=col>size_MB</th><th scope=col>AssemblyName</th><th scope=col>download_path</th><th scope=col>⋯</th><th scope=col>Affection_Status</th><th scope=col>Analyte_Type</th><th scope=col>Histological_Type</th><th scope=col>Body_Site</th><th scope=col>CenterName</th><th scope=col>Submission</th><th scope=col>dbgap_study_accession</th><th scope=col>Consent</th><th scope=col>RunHash</th><th scope=col>ReadHash</th></tr>\n",
       "\t<tr><th></th><th scope=col>&lt;chr&gt;</th><th scope=col>&lt;chr&gt;</th><th scope=col>&lt;chr&gt;</th><th scope=col>&lt;int&gt;</th><th scope=col>&lt;dbl&gt;</th><th scope=col>&lt;int&gt;</th><th scope=col>&lt;int&gt;</th><th scope=col>&lt;int&gt;</th><th scope=col>&lt;lgl&gt;</th><th scope=col>&lt;chr&gt;</th><th scope=col>⋯</th><th scope=col>&lt;lgl&gt;</th><th scope=col>&lt;lgl&gt;</th><th scope=col>&lt;lgl&gt;</th><th scope=col>&lt;lgl&gt;</th><th scope=col>&lt;chr&gt;</th><th scope=col>&lt;chr&gt;</th><th scope=col>&lt;lgl&gt;</th><th scope=col>&lt;chr&gt;</th><th scope=col>&lt;chr&gt;</th><th scope=col>&lt;chr&gt;</th></tr>\n",
       "</thead>\n",
       "<tbody>\n",
       "\t<tr><th scope=row>1</th><td>SRR5517500</td><td>2017-05-26 10:16:21</td><td>2017-05-08 17:35:25</td><td>28656716</td><td>4355820832</td><td>28656716</td><td>152</td><td>1603</td><td>NA</td><td>https://sra-downloadb.st-va.ncbi.nlm.nih.gov/sos1/sra-pub-run-8/SRR5517500/SRR5517500.1</td><td>⋯</td><td>NA</td><td>NA</td><td>NA</td><td>NA</td><td>GEO</td><td>SRA560605</td><td>NA</td><td>public</td><td>F81677DDDD471559B2F07AE966817AAF</td><td>7C8A3510A0405D532E497E49E19F67B9</td></tr>\n",
       "\t<tr><th scope=row>2</th><td>SRR5517501</td><td>2017-05-26 10:16:21</td><td>2017-05-08 17:35:57</td><td>30176838</td><td>4586879376</td><td>30176838</td><td>152</td><td>1672</td><td>NA</td><td>https://sra-downloadb.st-va.ncbi.nlm.nih.gov/sos1/sra-pub-run-8/SRR5517501/SRR5517501.1</td><td>⋯</td><td>NA</td><td>NA</td><td>NA</td><td>NA</td><td>GEO</td><td>SRA560605</td><td>NA</td><td>public</td><td>B8469693637BD9B86CA631EDC8C3F149</td><td>850B6F66A9C3670E4D7A9D42ECEA8FDE</td></tr>\n",
       "\t<tr><th scope=row>3</th><td>SRR5517502</td><td>2017-05-26 10:16:21</td><td>2017-05-08 17:55:26</td><td>41274152</td><td>6273671104</td><td>41274152</td><td>152</td><td>2310</td><td>NA</td><td>https://sra-downloadb.st-va.ncbi.nlm.nih.gov/sos1/sra-pub-run-8/SRR5517502/SRR5517502.1</td><td>⋯</td><td>NA</td><td>NA</td><td>NA</td><td>NA</td><td>GEO</td><td>SRA560605</td><td>NA</td><td>public</td><td>1EAA03FB52CABD86B77EDC88F938701C</td><td>AE5EA653D9F5031ABE66E27ABAEC2773</td></tr>\n",
       "\t<tr><th scope=row>4</th><td>SRR5517503</td><td>2017-05-26 10:16:21</td><td>2017-05-08 17:39:08</td><td>28848858</td><td>4385026416</td><td>28848858</td><td>152</td><td>1603</td><td>NA</td><td>https://sra-downloadb.st-va.ncbi.nlm.nih.gov/sos1/sra-pub-run-8/SRR5517503/SRR5517503.1</td><td>⋯</td><td>NA</td><td>NA</td><td>NA</td><td>NA</td><td>GEO</td><td>SRA560605</td><td>NA</td><td>public</td><td>EC245424F964BB5621856DA6FCFB0ED2</td><td>264A772C22561DD1B389FC115F2767ED</td></tr>\n",
       "\t<tr><th scope=row>5</th><td>SRR5517504</td><td>2017-05-26 10:16:21</td><td>2017-05-08 17:36:17</td><td>28605084</td><td>4347972768</td><td>28605084</td><td>152</td><td>1589</td><td>NA</td><td>https://sra-downloadb.st-va.ncbi.nlm.nih.gov/sos1/sra-pub-run-8/SRR5517504/SRR5517504.1</td><td>⋯</td><td>NA</td><td>NA</td><td>NA</td><td>NA</td><td>GEO</td><td>SRA560605</td><td>NA</td><td>public</td><td>238EDD94BDDEDACD0D2D51FAF7FE86AD</td><td>E9D992BB7AA74585B2AE37AF7953ED12</td></tr>\n",
       "</tbody>\n",
       "</table>\n"
      ],
      "text/latex": [
       "A data.frame: 5 × 47\n",
       "\\begin{tabular}{r|lllllllllllllllllllll}\n",
       "  & Run & ReleaseDate & LoadDate & spots & bases & spots\\_with\\_mates & avgLength & size\\_MB & AssemblyName & download\\_path & ⋯ & Affection\\_Status & Analyte\\_Type & Histological\\_Type & Body\\_Site & CenterName & Submission & dbgap\\_study\\_accession & Consent & RunHash & ReadHash\\\\\n",
       "  & <chr> & <chr> & <chr> & <int> & <dbl> & <int> & <int> & <int> & <lgl> & <chr> & ⋯ & <lgl> & <lgl> & <lgl> & <lgl> & <chr> & <chr> & <lgl> & <chr> & <chr> & <chr>\\\\\n",
       "\\hline\n",
       "\t1 & SRR5517500 & 2017-05-26 10:16:21 & 2017-05-08 17:35:25 & 28656716 & 4355820832 & 28656716 & 152 & 1603 & NA & https://sra-downloadb.st-va.ncbi.nlm.nih.gov/sos1/sra-pub-run-8/SRR5517500/SRR5517500.1 & ⋯ & NA & NA & NA & NA & GEO & SRA560605 & NA & public & F81677DDDD471559B2F07AE966817AAF & 7C8A3510A0405D532E497E49E19F67B9\\\\\n",
       "\t2 & SRR5517501 & 2017-05-26 10:16:21 & 2017-05-08 17:35:57 & 30176838 & 4586879376 & 30176838 & 152 & 1672 & NA & https://sra-downloadb.st-va.ncbi.nlm.nih.gov/sos1/sra-pub-run-8/SRR5517501/SRR5517501.1 & ⋯ & NA & NA & NA & NA & GEO & SRA560605 & NA & public & B8469693637BD9B86CA631EDC8C3F149 & 850B6F66A9C3670E4D7A9D42ECEA8FDE\\\\\n",
       "\t3 & SRR5517502 & 2017-05-26 10:16:21 & 2017-05-08 17:55:26 & 41274152 & 6273671104 & 41274152 & 152 & 2310 & NA & https://sra-downloadb.st-va.ncbi.nlm.nih.gov/sos1/sra-pub-run-8/SRR5517502/SRR5517502.1 & ⋯ & NA & NA & NA & NA & GEO & SRA560605 & NA & public & 1EAA03FB52CABD86B77EDC88F938701C & AE5EA653D9F5031ABE66E27ABAEC2773\\\\\n",
       "\t4 & SRR5517503 & 2017-05-26 10:16:21 & 2017-05-08 17:39:08 & 28848858 & 4385026416 & 28848858 & 152 & 1603 & NA & https://sra-downloadb.st-va.ncbi.nlm.nih.gov/sos1/sra-pub-run-8/SRR5517503/SRR5517503.1 & ⋯ & NA & NA & NA & NA & GEO & SRA560605 & NA & public & EC245424F964BB5621856DA6FCFB0ED2 & 264A772C22561DD1B389FC115F2767ED\\\\\n",
       "\t5 & SRR5517504 & 2017-05-26 10:16:21 & 2017-05-08 17:36:17 & 28605084 & 4347972768 & 28605084 & 152 & 1589 & NA & https://sra-downloadb.st-va.ncbi.nlm.nih.gov/sos1/sra-pub-run-8/SRR5517504/SRR5517504.1 & ⋯ & NA & NA & NA & NA & GEO & SRA560605 & NA & public & 238EDD94BDDEDACD0D2D51FAF7FE86AD & E9D992BB7AA74585B2AE37AF7953ED12\\\\\n",
       "\\end{tabular}\n"
      ],
      "text/markdown": [
       "\n",
       "A data.frame: 5 × 47\n",
       "\n",
       "| <!--/--> | Run &lt;chr&gt; | ReleaseDate &lt;chr&gt; | LoadDate &lt;chr&gt; | spots &lt;int&gt; | bases &lt;dbl&gt; | spots_with_mates &lt;int&gt; | avgLength &lt;int&gt; | size_MB &lt;int&gt; | AssemblyName &lt;lgl&gt; | download_path &lt;chr&gt; | ⋯ ⋯ | Affection_Status &lt;lgl&gt; | Analyte_Type &lt;lgl&gt; | Histological_Type &lt;lgl&gt; | Body_Site &lt;lgl&gt; | CenterName &lt;chr&gt; | Submission &lt;chr&gt; | dbgap_study_accession &lt;lgl&gt; | Consent &lt;chr&gt; | RunHash &lt;chr&gt; | ReadHash &lt;chr&gt; |\n",
       "|---|---|---|---|---|---|---|---|---|---|---|---|---|---|---|---|---|---|---|---|---|---|\n",
       "| 1 | SRR5517500 | 2017-05-26 10:16:21 | 2017-05-08 17:35:25 | 28656716 | 4355820832 | 28656716 | 152 | 1603 | NA | https://sra-downloadb.st-va.ncbi.nlm.nih.gov/sos1/sra-pub-run-8/SRR5517500/SRR5517500.1 | ⋯ | NA | NA | NA | NA | GEO | SRA560605 | NA | public | F81677DDDD471559B2F07AE966817AAF | 7C8A3510A0405D532E497E49E19F67B9 |\n",
       "| 2 | SRR5517501 | 2017-05-26 10:16:21 | 2017-05-08 17:35:57 | 30176838 | 4586879376 | 30176838 | 152 | 1672 | NA | https://sra-downloadb.st-va.ncbi.nlm.nih.gov/sos1/sra-pub-run-8/SRR5517501/SRR5517501.1 | ⋯ | NA | NA | NA | NA | GEO | SRA560605 | NA | public | B8469693637BD9B86CA631EDC8C3F149 | 850B6F66A9C3670E4D7A9D42ECEA8FDE |\n",
       "| 3 | SRR5517502 | 2017-05-26 10:16:21 | 2017-05-08 17:55:26 | 41274152 | 6273671104 | 41274152 | 152 | 2310 | NA | https://sra-downloadb.st-va.ncbi.nlm.nih.gov/sos1/sra-pub-run-8/SRR5517502/SRR5517502.1 | ⋯ | NA | NA | NA | NA | GEO | SRA560605 | NA | public | 1EAA03FB52CABD86B77EDC88F938701C | AE5EA653D9F5031ABE66E27ABAEC2773 |\n",
       "| 4 | SRR5517503 | 2017-05-26 10:16:21 | 2017-05-08 17:39:08 | 28848858 | 4385026416 | 28848858 | 152 | 1603 | NA | https://sra-downloadb.st-va.ncbi.nlm.nih.gov/sos1/sra-pub-run-8/SRR5517503/SRR5517503.1 | ⋯ | NA | NA | NA | NA | GEO | SRA560605 | NA | public | EC245424F964BB5621856DA6FCFB0ED2 | 264A772C22561DD1B389FC115F2767ED |\n",
       "| 5 | SRR5517504 | 2017-05-26 10:16:21 | 2017-05-08 17:36:17 | 28605084 | 4347972768 | 28605084 | 152 | 1589 | NA | https://sra-downloadb.st-va.ncbi.nlm.nih.gov/sos1/sra-pub-run-8/SRR5517504/SRR5517504.1 | ⋯ | NA | NA | NA | NA | GEO | SRA560605 | NA | public | 238EDD94BDDEDACD0D2D51FAF7FE86AD | E9D992BB7AA74585B2AE37AF7953ED12 |\n",
       "\n"
      ],
      "text/plain": [
       "  Run        ReleaseDate         LoadDate            spots    bases     \n",
       "1 SRR5517500 2017-05-26 10:16:21 2017-05-08 17:35:25 28656716 4355820832\n",
       "2 SRR5517501 2017-05-26 10:16:21 2017-05-08 17:35:57 30176838 4586879376\n",
       "3 SRR5517502 2017-05-26 10:16:21 2017-05-08 17:55:26 41274152 6273671104\n",
       "4 SRR5517503 2017-05-26 10:16:21 2017-05-08 17:39:08 28848858 4385026416\n",
       "5 SRR5517504 2017-05-26 10:16:21 2017-05-08 17:36:17 28605084 4347972768\n",
       "  spots_with_mates avgLength size_MB AssemblyName\n",
       "1 28656716         152       1603    NA          \n",
       "2 30176838         152       1672    NA          \n",
       "3 41274152         152       2310    NA          \n",
       "4 28848858         152       1603    NA          \n",
       "5 28605084         152       1589    NA          \n",
       "  download_path                                                                          \n",
       "1 https://sra-downloadb.st-va.ncbi.nlm.nih.gov/sos1/sra-pub-run-8/SRR5517500/SRR5517500.1\n",
       "2 https://sra-downloadb.st-va.ncbi.nlm.nih.gov/sos1/sra-pub-run-8/SRR5517501/SRR5517501.1\n",
       "3 https://sra-downloadb.st-va.ncbi.nlm.nih.gov/sos1/sra-pub-run-8/SRR5517502/SRR5517502.1\n",
       "4 https://sra-downloadb.st-va.ncbi.nlm.nih.gov/sos1/sra-pub-run-8/SRR5517503/SRR5517503.1\n",
       "5 https://sra-downloadb.st-va.ncbi.nlm.nih.gov/sos1/sra-pub-run-8/SRR5517504/SRR5517504.1\n",
       "  <U+22EF>   Affection_Status Analyte_Type Histological_Type Body_Site CenterName\n",
       "1 <U+22EF> NA               NA           NA                NA        GEO       \n",
       "2 <U+22EF> NA               NA           NA                NA        GEO       \n",
       "3 <U+22EF> NA               NA           NA                NA        GEO       \n",
       "4 <U+22EF> NA               NA           NA                NA        GEO       \n",
       "5 <U+22EF> NA               NA           NA                NA        GEO       \n",
       "  Submission dbgap_study_accession Consent RunHash                         \n",
       "1 SRA560605  NA                    public  F81677DDDD471559B2F07AE966817AAF\n",
       "2 SRA560605  NA                    public  B8469693637BD9B86CA631EDC8C3F149\n",
       "3 SRA560605  NA                    public  1EAA03FB52CABD86B77EDC88F938701C\n",
       "4 SRA560605  NA                    public  EC245424F964BB5621856DA6FCFB0ED2\n",
       "5 SRA560605  NA                    public  238EDD94BDDEDACD0D2D51FAF7FE86AD\n",
       "  ReadHash                        \n",
       "1 7C8A3510A0405D532E497E49E19F67B9\n",
       "2 850B6F66A9C3670E4D7A9D42ECEA8FDE\n",
       "3 AE5EA653D9F5031ABE66E27ABAEC2773\n",
       "4 264A772C22561DD1B389FC115F2767ED\n",
       "5 E9D992BB7AA74585B2AE37AF7953ED12"
      ]
     },
     "metadata": {},
     "output_type": "display_data"
    }
   ],
   "source": [
    "runInfo <- read.table(file.path(elphege_proj_files, \"metadata\", \"SraRunInfo.csv\"), header = TRUE, sep = \",\", stringsAsFactors=FALSE)\n",
    "head(runInfo, 5)"
   ]
  },
  {
   "cell_type": "code",
   "execution_count": 11,
   "id": "27a1fb19-6741-41d5-89a5-6760ed9da04d",
   "metadata": {},
   "outputs": [
    {
     "data": {
      "text/html": [
       "<table class=\"dataframe\">\n",
       "<caption>A data.frame: 24 × 2</caption>\n",
       "<thead>\n",
       "\t<tr><th scope=col>sample</th><th scope=col>condition</th></tr>\n",
       "\t<tr><th scope=col>&lt;chr&gt;</th><th scope=col>&lt;chr&gt;</th></tr>\n",
       "</thead>\n",
       "<tbody>\n",
       "\t<tr><td>SRR5517500</td><td>RNA-seq_CTCF-AID_untreated    </td></tr>\n",
       "\t<tr><td>SRR5517501</td><td>RNA-seq_CTCF-AID_auxin1day    </td></tr>\n",
       "\t<tr><td>SRR5517502</td><td>RNA-seq_CTCF-AID_auxin2days   </td></tr>\n",
       "\t<tr><td>SRR5517503</td><td>RNA-seq_CTCF-AID_auxin4days   </td></tr>\n",
       "\t<tr><td>SRR5517504</td><td>RNA-seq_CTCF-AID_washoff2days </td></tr>\n",
       "\t<tr><td>SRR5517505</td><td>RNA-seq_CTCF-AID_untreated    </td></tr>\n",
       "\t<tr><td>SRR5517506</td><td>RNA-seq_CTCF-AID_auxin1day    </td></tr>\n",
       "\t<tr><td>SRR5517507</td><td>RNA-seq_CTCF-AID_auxin2days   </td></tr>\n",
       "\t<tr><td>SRR5517508</td><td>RNA-seq_CTCF-AID_auxin4days   </td></tr>\n",
       "\t<tr><td>SRR5517509</td><td>RNA-seq_CTCF-AID_washoff2days </td></tr>\n",
       "\t<tr><td>SRR5517510</td><td>RNA-seq_CTCF-AID_untreated    </td></tr>\n",
       "\t<tr><td>SRR5517511</td><td>RNA-seq_CTCF-AID_auxin1day    </td></tr>\n",
       "\t<tr><td>SRR5517512</td><td>RNA-seq_CTCF-AID_auxin2days   </td></tr>\n",
       "\t<tr><td>SRR5517513</td><td>RNA-seq_CTCF-AID_auxin4days   </td></tr>\n",
       "\t<tr><td>SRR5517514</td><td>RNA-seq_CTCF-AID_washoff2days </td></tr>\n",
       "\t<tr><td>SRR5517515</td><td>RNA-seq_WT-untagged_untreated </td></tr>\n",
       "\t<tr><td>SRR5517516</td><td>RNA-seq_WT-untagged_auxin2days</td></tr>\n",
       "\t<tr><td>SRR5517517</td><td>RNA-seq_WT-untagged_auxin4days</td></tr>\n",
       "\t<tr><td>SRR5517518</td><td>RNA-seq_WT-untagged_untreated </td></tr>\n",
       "\t<tr><td>SRR5517519</td><td>RNA-seq_WT-untagged_auxin2days</td></tr>\n",
       "\t<tr><td>SRR5517520</td><td>RNA-seq_WT-untagged_auxin4days</td></tr>\n",
       "\t<tr><td>SRR5517521</td><td>RNA-seq_WT-untagged_untreated </td></tr>\n",
       "\t<tr><td>SRR5517522</td><td>RNA-seq_WT-untagged_auxin2days</td></tr>\n",
       "\t<tr><td>SRR5517523</td><td>RNA-seq_WT-untagged_auxin4days</td></tr>\n",
       "</tbody>\n",
       "</table>\n"
      ],
      "text/latex": [
       "A data.frame: 24 × 2\n",
       "\\begin{tabular}{ll}\n",
       " sample & condition\\\\\n",
       " <chr> & <chr>\\\\\n",
       "\\hline\n",
       "\t SRR5517500 & RNA-seq\\_CTCF-AID\\_untreated    \\\\\n",
       "\t SRR5517501 & RNA-seq\\_CTCF-AID\\_auxin1day    \\\\\n",
       "\t SRR5517502 & RNA-seq\\_CTCF-AID\\_auxin2days   \\\\\n",
       "\t SRR5517503 & RNA-seq\\_CTCF-AID\\_auxin4days   \\\\\n",
       "\t SRR5517504 & RNA-seq\\_CTCF-AID\\_washoff2days \\\\\n",
       "\t SRR5517505 & RNA-seq\\_CTCF-AID\\_untreated    \\\\\n",
       "\t SRR5517506 & RNA-seq\\_CTCF-AID\\_auxin1day    \\\\\n",
       "\t SRR5517507 & RNA-seq\\_CTCF-AID\\_auxin2days   \\\\\n",
       "\t SRR5517508 & RNA-seq\\_CTCF-AID\\_auxin4days   \\\\\n",
       "\t SRR5517509 & RNA-seq\\_CTCF-AID\\_washoff2days \\\\\n",
       "\t SRR5517510 & RNA-seq\\_CTCF-AID\\_untreated    \\\\\n",
       "\t SRR5517511 & RNA-seq\\_CTCF-AID\\_auxin1day    \\\\\n",
       "\t SRR5517512 & RNA-seq\\_CTCF-AID\\_auxin2days   \\\\\n",
       "\t SRR5517513 & RNA-seq\\_CTCF-AID\\_auxin4days   \\\\\n",
       "\t SRR5517514 & RNA-seq\\_CTCF-AID\\_washoff2days \\\\\n",
       "\t SRR5517515 & RNA-seq\\_WT-untagged\\_untreated \\\\\n",
       "\t SRR5517516 & RNA-seq\\_WT-untagged\\_auxin2days\\\\\n",
       "\t SRR5517517 & RNA-seq\\_WT-untagged\\_auxin4days\\\\\n",
       "\t SRR5517518 & RNA-seq\\_WT-untagged\\_untreated \\\\\n",
       "\t SRR5517519 & RNA-seq\\_WT-untagged\\_auxin2days\\\\\n",
       "\t SRR5517520 & RNA-seq\\_WT-untagged\\_auxin4days\\\\\n",
       "\t SRR5517521 & RNA-seq\\_WT-untagged\\_untreated \\\\\n",
       "\t SRR5517522 & RNA-seq\\_WT-untagged\\_auxin2days\\\\\n",
       "\t SRR5517523 & RNA-seq\\_WT-untagged\\_auxin4days\\\\\n",
       "\\end{tabular}\n"
      ],
      "text/markdown": [
       "\n",
       "A data.frame: 24 × 2\n",
       "\n",
       "| sample &lt;chr&gt; | condition &lt;chr&gt; |\n",
       "|---|---|\n",
       "| SRR5517500 | RNA-seq_CTCF-AID_untreated     |\n",
       "| SRR5517501 | RNA-seq_CTCF-AID_auxin1day     |\n",
       "| SRR5517502 | RNA-seq_CTCF-AID_auxin2days    |\n",
       "| SRR5517503 | RNA-seq_CTCF-AID_auxin4days    |\n",
       "| SRR5517504 | RNA-seq_CTCF-AID_washoff2days  |\n",
       "| SRR5517505 | RNA-seq_CTCF-AID_untreated     |\n",
       "| SRR5517506 | RNA-seq_CTCF-AID_auxin1day     |\n",
       "| SRR5517507 | RNA-seq_CTCF-AID_auxin2days    |\n",
       "| SRR5517508 | RNA-seq_CTCF-AID_auxin4days    |\n",
       "| SRR5517509 | RNA-seq_CTCF-AID_washoff2days  |\n",
       "| SRR5517510 | RNA-seq_CTCF-AID_untreated     |\n",
       "| SRR5517511 | RNA-seq_CTCF-AID_auxin1day     |\n",
       "| SRR5517512 | RNA-seq_CTCF-AID_auxin2days    |\n",
       "| SRR5517513 | RNA-seq_CTCF-AID_auxin4days    |\n",
       "| SRR5517514 | RNA-seq_CTCF-AID_washoff2days  |\n",
       "| SRR5517515 | RNA-seq_WT-untagged_untreated  |\n",
       "| SRR5517516 | RNA-seq_WT-untagged_auxin2days |\n",
       "| SRR5517517 | RNA-seq_WT-untagged_auxin4days |\n",
       "| SRR5517518 | RNA-seq_WT-untagged_untreated  |\n",
       "| SRR5517519 | RNA-seq_WT-untagged_auxin2days |\n",
       "| SRR5517520 | RNA-seq_WT-untagged_auxin4days |\n",
       "| SRR5517521 | RNA-seq_WT-untagged_untreated  |\n",
       "| SRR5517522 | RNA-seq_WT-untagged_auxin2days |\n",
       "| SRR5517523 | RNA-seq_WT-untagged_auxin4days |\n",
       "\n"
      ],
      "text/plain": [
       "   sample     condition                     \n",
       "1  SRR5517500 RNA-seq_CTCF-AID_untreated    \n",
       "2  SRR5517501 RNA-seq_CTCF-AID_auxin1day    \n",
       "3  SRR5517502 RNA-seq_CTCF-AID_auxin2days   \n",
       "4  SRR5517503 RNA-seq_CTCF-AID_auxin4days   \n",
       "5  SRR5517504 RNA-seq_CTCF-AID_washoff2days \n",
       "6  SRR5517505 RNA-seq_CTCF-AID_untreated    \n",
       "7  SRR5517506 RNA-seq_CTCF-AID_auxin1day    \n",
       "8  SRR5517507 RNA-seq_CTCF-AID_auxin2days   \n",
       "9  SRR5517508 RNA-seq_CTCF-AID_auxin4days   \n",
       "10 SRR5517509 RNA-seq_CTCF-AID_washoff2days \n",
       "11 SRR5517510 RNA-seq_CTCF-AID_untreated    \n",
       "12 SRR5517511 RNA-seq_CTCF-AID_auxin1day    \n",
       "13 SRR5517512 RNA-seq_CTCF-AID_auxin2days   \n",
       "14 SRR5517513 RNA-seq_CTCF-AID_auxin4days   \n",
       "15 SRR5517514 RNA-seq_CTCF-AID_washoff2days \n",
       "16 SRR5517515 RNA-seq_WT-untagged_untreated \n",
       "17 SRR5517516 RNA-seq_WT-untagged_auxin2days\n",
       "18 SRR5517517 RNA-seq_WT-untagged_auxin4days\n",
       "19 SRR5517518 RNA-seq_WT-untagged_untreated \n",
       "20 SRR5517519 RNA-seq_WT-untagged_auxin2days\n",
       "21 SRR5517520 RNA-seq_WT-untagged_auxin4days\n",
       "22 SRR5517521 RNA-seq_WT-untagged_untreated \n",
       "23 SRR5517522 RNA-seq_WT-untagged_auxin2days\n",
       "24 SRR5517523 RNA-seq_WT-untagged_auxin4days"
      ]
     },
     "metadata": {},
     "output_type": "display_data"
    },
    {
     "data": {
      "text/html": [
       "<table class=\"dataframe\">\n",
       "<caption>A data.frame: 24 × 2</caption>\n",
       "<thead>\n",
       "\t<tr><th scope=col>sample</th><th scope=col>condition</th></tr>\n",
       "\t<tr><th scope=col>&lt;chr&gt;</th><th scope=col>&lt;chr&gt;</th></tr>\n",
       "</thead>\n",
       "<tbody>\n",
       "\t<tr><td>SRR5517500</td><td> RNA-seq_CTCF-AID_untreated    </td></tr>\n",
       "\t<tr><td>SRR5517501</td><td> RNA-seq_CTCF-AID_auxin1day    </td></tr>\n",
       "\t<tr><td>SRR5517502</td><td> RNA-seq_CTCF-AID_auxin2days   </td></tr>\n",
       "\t<tr><td>SRR5517503</td><td> RNA-seq_CTCF-AID_auxin4days   </td></tr>\n",
       "\t<tr><td>SRR5517504</td><td> RNA-seq_CTCF-AID_washoff2days </td></tr>\n",
       "\t<tr><td>SRR5517505</td><td> RNA-seq_CTCF-AID_untreated    </td></tr>\n",
       "\t<tr><td>SRR5517506</td><td> RNA-seq_CTCF-AID_auxin1day    </td></tr>\n",
       "\t<tr><td>SRR5517507</td><td> RNA-seq_CTCF-AID_auxin2days   </td></tr>\n",
       "\t<tr><td>SRR5517508</td><td> RNA-seq_CTCF-AID_auxin4days   </td></tr>\n",
       "\t<tr><td>SRR5517509</td><td> RNA-seq_CTCF-AID_washoff2days </td></tr>\n",
       "\t<tr><td>SRR5517510</td><td> RNA-seq_CTCF-AID_untreated    </td></tr>\n",
       "\t<tr><td>SRR5517511</td><td> RNA-seq_CTCF-AID_auxin1day    </td></tr>\n",
       "\t<tr><td>SRR5517512</td><td> RNA-seq_CTCF-AID_auxin2days   </td></tr>\n",
       "\t<tr><td>SRR5517513</td><td> RNA-seq_CTCF-AID_auxin4days   </td></tr>\n",
       "\t<tr><td>SRR5517514</td><td> RNA-seq_CTCF-AID_washoff2days </td></tr>\n",
       "\t<tr><td>SRR5517515</td><td> RNA-seq_WT-untagged_untreated </td></tr>\n",
       "\t<tr><td>SRR5517516</td><td> RNA-seq_WT-untagged_auxin2days</td></tr>\n",
       "\t<tr><td>SRR5517517</td><td> RNA-seq_WT-untagged_auxin4days</td></tr>\n",
       "\t<tr><td>SRR5517518</td><td> RNA-seq_WT-untagged_untreated </td></tr>\n",
       "\t<tr><td>SRR5517519</td><td> RNA-seq_WT-untagged_auxin2days</td></tr>\n",
       "\t<tr><td>SRR5517520</td><td> RNA-seq_WT-untagged_auxin4days</td></tr>\n",
       "\t<tr><td>SRR5517521</td><td> RNA-seq_WT-untagged_untreated </td></tr>\n",
       "\t<tr><td>SRR5517522</td><td> RNA-seq_WT-untagged_auxin2days</td></tr>\n",
       "\t<tr><td>SRR5517523</td><td> RNA-seq_WT-untagged_auxin4days</td></tr>\n",
       "</tbody>\n",
       "</table>\n"
      ],
      "text/latex": [
       "A data.frame: 24 × 2\n",
       "\\begin{tabular}{ll}\n",
       " sample & condition\\\\\n",
       " <chr> & <chr>\\\\\n",
       "\\hline\n",
       "\t SRR5517500 &  RNA-seq\\_CTCF-AID\\_untreated    \\\\\n",
       "\t SRR5517501 &  RNA-seq\\_CTCF-AID\\_auxin1day    \\\\\n",
       "\t SRR5517502 &  RNA-seq\\_CTCF-AID\\_auxin2days   \\\\\n",
       "\t SRR5517503 &  RNA-seq\\_CTCF-AID\\_auxin4days   \\\\\n",
       "\t SRR5517504 &  RNA-seq\\_CTCF-AID\\_washoff2days \\\\\n",
       "\t SRR5517505 &  RNA-seq\\_CTCF-AID\\_untreated    \\\\\n",
       "\t SRR5517506 &  RNA-seq\\_CTCF-AID\\_auxin1day    \\\\\n",
       "\t SRR5517507 &  RNA-seq\\_CTCF-AID\\_auxin2days   \\\\\n",
       "\t SRR5517508 &  RNA-seq\\_CTCF-AID\\_auxin4days   \\\\\n",
       "\t SRR5517509 &  RNA-seq\\_CTCF-AID\\_washoff2days \\\\\n",
       "\t SRR5517510 &  RNA-seq\\_CTCF-AID\\_untreated    \\\\\n",
       "\t SRR5517511 &  RNA-seq\\_CTCF-AID\\_auxin1day    \\\\\n",
       "\t SRR5517512 &  RNA-seq\\_CTCF-AID\\_auxin2days   \\\\\n",
       "\t SRR5517513 &  RNA-seq\\_CTCF-AID\\_auxin4days   \\\\\n",
       "\t SRR5517514 &  RNA-seq\\_CTCF-AID\\_washoff2days \\\\\n",
       "\t SRR5517515 &  RNA-seq\\_WT-untagged\\_untreated \\\\\n",
       "\t SRR5517516 &  RNA-seq\\_WT-untagged\\_auxin2days\\\\\n",
       "\t SRR5517517 &  RNA-seq\\_WT-untagged\\_auxin4days\\\\\n",
       "\t SRR5517518 &  RNA-seq\\_WT-untagged\\_untreated \\\\\n",
       "\t SRR5517519 &  RNA-seq\\_WT-untagged\\_auxin2days\\\\\n",
       "\t SRR5517520 &  RNA-seq\\_WT-untagged\\_auxin4days\\\\\n",
       "\t SRR5517521 &  RNA-seq\\_WT-untagged\\_untreated \\\\\n",
       "\t SRR5517522 &  RNA-seq\\_WT-untagged\\_auxin2days\\\\\n",
       "\t SRR5517523 &  RNA-seq\\_WT-untagged\\_auxin4days\\\\\n",
       "\\end{tabular}\n"
      ],
      "text/markdown": [
       "\n",
       "A data.frame: 24 × 2\n",
       "\n",
       "| sample &lt;chr&gt; | condition &lt;chr&gt; |\n",
       "|---|---|\n",
       "| SRR5517500 |  RNA-seq_CTCF-AID_untreated     |\n",
       "| SRR5517501 |  RNA-seq_CTCF-AID_auxin1day     |\n",
       "| SRR5517502 |  RNA-seq_CTCF-AID_auxin2days    |\n",
       "| SRR5517503 |  RNA-seq_CTCF-AID_auxin4days    |\n",
       "| SRR5517504 |  RNA-seq_CTCF-AID_washoff2days  |\n",
       "| SRR5517505 |  RNA-seq_CTCF-AID_untreated     |\n",
       "| SRR5517506 |  RNA-seq_CTCF-AID_auxin1day     |\n",
       "| SRR5517507 |  RNA-seq_CTCF-AID_auxin2days    |\n",
       "| SRR5517508 |  RNA-seq_CTCF-AID_auxin4days    |\n",
       "| SRR5517509 |  RNA-seq_CTCF-AID_washoff2days  |\n",
       "| SRR5517510 |  RNA-seq_CTCF-AID_untreated     |\n",
       "| SRR5517511 |  RNA-seq_CTCF-AID_auxin1day     |\n",
       "| SRR5517512 |  RNA-seq_CTCF-AID_auxin2days    |\n",
       "| SRR5517513 |  RNA-seq_CTCF-AID_auxin4days    |\n",
       "| SRR5517514 |  RNA-seq_CTCF-AID_washoff2days  |\n",
       "| SRR5517515 |  RNA-seq_WT-untagged_untreated  |\n",
       "| SRR5517516 |  RNA-seq_WT-untagged_auxin2days |\n",
       "| SRR5517517 |  RNA-seq_WT-untagged_auxin4days |\n",
       "| SRR5517518 |  RNA-seq_WT-untagged_untreated  |\n",
       "| SRR5517519 |  RNA-seq_WT-untagged_auxin2days |\n",
       "| SRR5517520 |  RNA-seq_WT-untagged_auxin4days |\n",
       "| SRR5517521 |  RNA-seq_WT-untagged_untreated  |\n",
       "| SRR5517522 |  RNA-seq_WT-untagged_auxin2days |\n",
       "| SRR5517523 |  RNA-seq_WT-untagged_auxin4days |\n",
       "\n"
      ],
      "text/plain": [
       "   sample     condition                      \n",
       "1  SRR5517500  RNA-seq_CTCF-AID_untreated    \n",
       "2  SRR5517501  RNA-seq_CTCF-AID_auxin1day    \n",
       "3  SRR5517502  RNA-seq_CTCF-AID_auxin2days   \n",
       "4  SRR5517503  RNA-seq_CTCF-AID_auxin4days   \n",
       "5  SRR5517504  RNA-seq_CTCF-AID_washoff2days \n",
       "6  SRR5517505  RNA-seq_CTCF-AID_untreated    \n",
       "7  SRR5517506  RNA-seq_CTCF-AID_auxin1day    \n",
       "8  SRR5517507  RNA-seq_CTCF-AID_auxin2days   \n",
       "9  SRR5517508  RNA-seq_CTCF-AID_auxin4days   \n",
       "10 SRR5517509  RNA-seq_CTCF-AID_washoff2days \n",
       "11 SRR5517510  RNA-seq_CTCF-AID_untreated    \n",
       "12 SRR5517511  RNA-seq_CTCF-AID_auxin1day    \n",
       "13 SRR5517512  RNA-seq_CTCF-AID_auxin2days   \n",
       "14 SRR5517513  RNA-seq_CTCF-AID_auxin4days   \n",
       "15 SRR5517514  RNA-seq_CTCF-AID_washoff2days \n",
       "16 SRR5517515  RNA-seq_WT-untagged_untreated \n",
       "17 SRR5517516  RNA-seq_WT-untagged_auxin2days\n",
       "18 SRR5517517  RNA-seq_WT-untagged_auxin4days\n",
       "19 SRR5517518  RNA-seq_WT-untagged_untreated \n",
       "20 SRR5517519  RNA-seq_WT-untagged_auxin2days\n",
       "21 SRR5517520  RNA-seq_WT-untagged_auxin4days\n",
       "22 SRR5517521  RNA-seq_WT-untagged_untreated \n",
       "23 SRR5517522  RNA-seq_WT-untagged_auxin2days\n",
       "24 SRR5517523  RNA-seq_WT-untagged_auxin4days"
      ]
     },
     "metadata": {},
     "output_type": "display_data"
    }
   ],
   "source": [
    "# merge sra_result file and sraRunInfo to get the condition (buried in 'Experiment Name' in sra_result_summary -- put in 'condition')\n",
    "\n",
    "# runInfo.Experiment\n",
    "# sum_extended.Experiment.Accession\n",
    "\n",
    "# merge(authors, books, by.x=c(\"FirstName\", \"LastName\"),\n",
    "#       by.y=c(\"AuthorFirstName\", \"AuthorLastName\"),\n",
    "#       all.x=TRUE)\n",
    "\n",
    "total <- merge(runInfo, sum_extended, by.x=c(\"Experiment\"),\n",
    "      by.y=c(\"Experiment.Accession\"),\n",
    "      all.x=TRUE)\n",
    "\n",
    "library(dplyr)\n",
    "\n",
    "s2c <- select(total, Experiment, Run, condition, Library.Strategy, Library.Selection)\n",
    "s2c <- dplyr::select(s2c, sample = Run, condition)\n",
    "\n",
    "# getting rid of whitespace \n",
    "s2c %>%\n",
    "  mutate(across(where(is.character), stringr::str_trim))\n",
    "\n",
    "s2c\n"
   ]
  },
  {
   "cell_type": "code",
   "execution_count": 20,
   "id": "4a2c8310-7f95-4094-9e1a-a9c1ef2439f7",
   "metadata": {},
   "outputs": [
    {
     "data": {
      "text/html": [
       "<style>\n",
       ".list-inline {list-style: none; margin:0; padding: 0}\n",
       ".list-inline>li {display: inline-block}\n",
       ".list-inline>li:not(:last-child)::after {content: \"\\00b7\"; padding: 0 .5ex}\n",
       "</style>\n",
       "<ol class=list-inline><li>' RNA-seq_CTCF-AID_untreated'</li><li>' RNA-seq_CTCF-AID_auxin1day'</li><li>' RNA-seq_CTCF-AID_auxin2days'</li><li>' RNA-seq_CTCF-AID_auxin4days'</li><li>' RNA-seq_CTCF-AID_washoff2days'</li><li>' RNA-seq_WT-untagged_auxin2days'</li><li>' RNA-seq_WT-untagged_auxin4days'</li><li>' RNA-seq_WT-untagged_untreated'</li></ol>\n"
      ],
      "text/latex": [
       "\\begin{enumerate*}\n",
       "\\item ' RNA-seq\\_CTCF-AID\\_untreated'\n",
       "\\item ' RNA-seq\\_CTCF-AID\\_auxin1day'\n",
       "\\item ' RNA-seq\\_CTCF-AID\\_auxin2days'\n",
       "\\item ' RNA-seq\\_CTCF-AID\\_auxin4days'\n",
       "\\item ' RNA-seq\\_CTCF-AID\\_washoff2days'\n",
       "\\item ' RNA-seq\\_WT-untagged\\_auxin2days'\n",
       "\\item ' RNA-seq\\_WT-untagged\\_auxin4days'\n",
       "\\item ' RNA-seq\\_WT-untagged\\_untreated'\n",
       "\\end{enumerate*}\n"
      ],
      "text/markdown": [
       "1. ' RNA-seq_CTCF-AID_untreated'\n",
       "2. ' RNA-seq_CTCF-AID_auxin1day'\n",
       "3. ' RNA-seq_CTCF-AID_auxin2days'\n",
       "4. ' RNA-seq_CTCF-AID_auxin4days'\n",
       "5. ' RNA-seq_CTCF-AID_washoff2days'\n",
       "6. ' RNA-seq_WT-untagged_auxin2days'\n",
       "7. ' RNA-seq_WT-untagged_auxin4days'\n",
       "8. ' RNA-seq_WT-untagged_untreated'\n",
       "\n",
       "\n"
      ],
      "text/plain": [
       "[1] \" RNA-seq_CTCF-AID_untreated\"     \" RNA-seq_CTCF-AID_auxin1day\"    \n",
       "[3] \" RNA-seq_CTCF-AID_auxin2days\"    \" RNA-seq_CTCF-AID_auxin4days\"   \n",
       "[5] \" RNA-seq_CTCF-AID_washoff2days\"  \" RNA-seq_WT-untagged_auxin2days\"\n",
       "[7] \" RNA-seq_WT-untagged_auxin4days\" \" RNA-seq_WT-untagged_untreated\" "
      ]
     },
     "metadata": {},
     "output_type": "display_data"
    }
   ],
   "source": [
    "s2c$condition = as.factor(s2c$condition)\n",
    "\n",
    "levels(s2c$condition)"
   ]
  },
  {
   "cell_type": "code",
   "execution_count": 21,
   "id": "4dee3669-42b4-43d8-91eb-0425653cf19c",
   "metadata": {},
   "outputs": [
    {
     "data": {
      "text/html": [
       "<style>\n",
       ".list-inline {list-style: none; margin:0; padding: 0}\n",
       ".list-inline>li {display: inline-block}\n",
       ".list-inline>li:not(:last-child)::after {content: \"\\00b7\"; padding: 0 .5ex}\n",
       "</style>\n",
       "<ol class=list-inline><li>' RNA-seq_CTCF-AID_untreated'</li><li>' RNA-seq_CTCF-AID_auxin1day'</li><li>' RNA-seq_CTCF-AID_auxin2days'</li><li>' RNA-seq_CTCF-AID_auxin4days'</li><li>' RNA-seq_CTCF-AID_washoff2days'</li><li>' RNA-seq_WT-untagged_auxin2days'</li><li>' RNA-seq_WT-untagged_auxin4days'</li><li>' RNA-seq_WT-untagged_untreated'</li></ol>\n"
      ],
      "text/latex": [
       "\\begin{enumerate*}\n",
       "\\item ' RNA-seq\\_CTCF-AID\\_untreated'\n",
       "\\item ' RNA-seq\\_CTCF-AID\\_auxin1day'\n",
       "\\item ' RNA-seq\\_CTCF-AID\\_auxin2days'\n",
       "\\item ' RNA-seq\\_CTCF-AID\\_auxin4days'\n",
       "\\item ' RNA-seq\\_CTCF-AID\\_washoff2days'\n",
       "\\item ' RNA-seq\\_WT-untagged\\_auxin2days'\n",
       "\\item ' RNA-seq\\_WT-untagged\\_auxin4days'\n",
       "\\item ' RNA-seq\\_WT-untagged\\_untreated'\n",
       "\\end{enumerate*}\n"
      ],
      "text/markdown": [
       "1. ' RNA-seq_CTCF-AID_untreated'\n",
       "2. ' RNA-seq_CTCF-AID_auxin1day'\n",
       "3. ' RNA-seq_CTCF-AID_auxin2days'\n",
       "4. ' RNA-seq_CTCF-AID_auxin4days'\n",
       "5. ' RNA-seq_CTCF-AID_washoff2days'\n",
       "6. ' RNA-seq_WT-untagged_auxin2days'\n",
       "7. ' RNA-seq_WT-untagged_auxin4days'\n",
       "8. ' RNA-seq_WT-untagged_untreated'\n",
       "\n",
       "\n"
      ],
      "text/plain": [
       "[1] \" RNA-seq_CTCF-AID_untreated\"     \" RNA-seq_CTCF-AID_auxin1day\"    \n",
       "[3] \" RNA-seq_CTCF-AID_auxin2days\"    \" RNA-seq_CTCF-AID_auxin4days\"   \n",
       "[5] \" RNA-seq_CTCF-AID_washoff2days\"  \" RNA-seq_WT-untagged_auxin2days\"\n",
       "[7] \" RNA-seq_WT-untagged_auxin4days\" \" RNA-seq_WT-untagged_untreated\" "
      ]
     },
     "metadata": {},
     "output_type": "display_data"
    },
    {
     "data": {
      "text/html": [
       "<table class=\"dataframe\">\n",
       "<caption>A data.frame: 24 × 3</caption>\n",
       "<thead>\n",
       "\t<tr><th scope=col>sample</th><th scope=col>condition</th><th scope=col>path</th></tr>\n",
       "\t<tr><th scope=col>&lt;chr&gt;</th><th scope=col>&lt;fct&gt;</th><th scope=col>&lt;chr&gt;</th></tr>\n",
       "</thead>\n",
       "<tbody>\n",
       "\t<tr><td>SRR5517500</td><td> RNA-seq_CTCF-AID_untreated    </td><td>/project/fudenber_735/GEO/nora_2017_rna-seq_SRP106652/SRP106652-rna-seq/SRR5517500/kallisto</td></tr>\n",
       "\t<tr><td>SRR5517501</td><td> RNA-seq_CTCF-AID_auxin1day    </td><td>/project/fudenber_735/GEO/nora_2017_rna-seq_SRP106652/SRP106652-rna-seq/SRR5517501/kallisto</td></tr>\n",
       "\t<tr><td>SRR5517502</td><td> RNA-seq_CTCF-AID_auxin2days   </td><td>/project/fudenber_735/GEO/nora_2017_rna-seq_SRP106652/SRP106652-rna-seq/SRR5517502/kallisto</td></tr>\n",
       "\t<tr><td>SRR5517503</td><td> RNA-seq_CTCF-AID_auxin4days   </td><td>/project/fudenber_735/GEO/nora_2017_rna-seq_SRP106652/SRP106652-rna-seq/SRR5517503/kallisto</td></tr>\n",
       "\t<tr><td>SRR5517504</td><td> RNA-seq_CTCF-AID_washoff2days </td><td>/project/fudenber_735/GEO/nora_2017_rna-seq_SRP106652/SRP106652-rna-seq/SRR5517504/kallisto</td></tr>\n",
       "\t<tr><td>SRR5517505</td><td> RNA-seq_CTCF-AID_untreated    </td><td>/project/fudenber_735/GEO/nora_2017_rna-seq_SRP106652/SRP106652-rna-seq/SRR5517505/kallisto</td></tr>\n",
       "\t<tr><td>SRR5517506</td><td> RNA-seq_CTCF-AID_auxin1day    </td><td>/project/fudenber_735/GEO/nora_2017_rna-seq_SRP106652/SRP106652-rna-seq/SRR5517506/kallisto</td></tr>\n",
       "\t<tr><td>SRR5517507</td><td> RNA-seq_CTCF-AID_auxin2days   </td><td>/project/fudenber_735/GEO/nora_2017_rna-seq_SRP106652/SRP106652-rna-seq/SRR5517507/kallisto</td></tr>\n",
       "\t<tr><td>SRR5517508</td><td> RNA-seq_CTCF-AID_auxin4days   </td><td>/project/fudenber_735/GEO/nora_2017_rna-seq_SRP106652/SRP106652-rna-seq/SRR5517508/kallisto</td></tr>\n",
       "\t<tr><td>SRR5517509</td><td> RNA-seq_CTCF-AID_washoff2days </td><td>/project/fudenber_735/GEO/nora_2017_rna-seq_SRP106652/SRP106652-rna-seq/SRR5517509/kallisto</td></tr>\n",
       "\t<tr><td>SRR5517510</td><td> RNA-seq_CTCF-AID_untreated    </td><td>/project/fudenber_735/GEO/nora_2017_rna-seq_SRP106652/SRP106652-rna-seq/SRR5517510/kallisto</td></tr>\n",
       "\t<tr><td>SRR5517511</td><td> RNA-seq_CTCF-AID_auxin1day    </td><td>/project/fudenber_735/GEO/nora_2017_rna-seq_SRP106652/SRP106652-rna-seq/SRR5517511/kallisto</td></tr>\n",
       "\t<tr><td>SRR5517512</td><td> RNA-seq_CTCF-AID_auxin2days   </td><td>/project/fudenber_735/GEO/nora_2017_rna-seq_SRP106652/SRP106652-rna-seq/SRR5517512/kallisto</td></tr>\n",
       "\t<tr><td>SRR5517513</td><td> RNA-seq_CTCF-AID_auxin4days   </td><td>/project/fudenber_735/GEO/nora_2017_rna-seq_SRP106652/SRP106652-rna-seq/SRR5517513/kallisto</td></tr>\n",
       "\t<tr><td>SRR5517514</td><td> RNA-seq_CTCF-AID_washoff2days </td><td>/project/fudenber_735/GEO/nora_2017_rna-seq_SRP106652/SRP106652-rna-seq/SRR5517514/kallisto</td></tr>\n",
       "\t<tr><td>SRR5517515</td><td> RNA-seq_WT-untagged_untreated </td><td>/project/fudenber_735/GEO/nora_2017_rna-seq_SRP106652/SRP106652-rna-seq/SRR5517515/kallisto</td></tr>\n",
       "\t<tr><td>SRR5517516</td><td> RNA-seq_WT-untagged_auxin2days</td><td>/project/fudenber_735/GEO/nora_2017_rna-seq_SRP106652/SRP106652-rna-seq/SRR5517516/kallisto</td></tr>\n",
       "\t<tr><td>SRR5517517</td><td> RNA-seq_WT-untagged_auxin4days</td><td>/project/fudenber_735/GEO/nora_2017_rna-seq_SRP106652/SRP106652-rna-seq/SRR5517517/kallisto</td></tr>\n",
       "\t<tr><td>SRR5517518</td><td> RNA-seq_WT-untagged_untreated </td><td>/project/fudenber_735/GEO/nora_2017_rna-seq_SRP106652/SRP106652-rna-seq/SRR5517518/kallisto</td></tr>\n",
       "\t<tr><td>SRR5517519</td><td> RNA-seq_WT-untagged_auxin2days</td><td>/project/fudenber_735/GEO/nora_2017_rna-seq_SRP106652/SRP106652-rna-seq/SRR5517519/kallisto</td></tr>\n",
       "\t<tr><td>SRR5517520</td><td> RNA-seq_WT-untagged_auxin4days</td><td>/project/fudenber_735/GEO/nora_2017_rna-seq_SRP106652/SRP106652-rna-seq/SRR5517520/kallisto</td></tr>\n",
       "\t<tr><td>SRR5517521</td><td> RNA-seq_WT-untagged_untreated </td><td>/project/fudenber_735/GEO/nora_2017_rna-seq_SRP106652/SRP106652-rna-seq/SRR5517521/kallisto</td></tr>\n",
       "\t<tr><td>SRR5517522</td><td> RNA-seq_WT-untagged_auxin2days</td><td>/project/fudenber_735/GEO/nora_2017_rna-seq_SRP106652/SRP106652-rna-seq/SRR5517522/kallisto</td></tr>\n",
       "\t<tr><td>SRR5517523</td><td> RNA-seq_WT-untagged_auxin4days</td><td>/project/fudenber_735/GEO/nora_2017_rna-seq_SRP106652/SRP106652-rna-seq/SRR5517523/kallisto</td></tr>\n",
       "</tbody>\n",
       "</table>\n"
      ],
      "text/latex": [
       "A data.frame: 24 × 3\n",
       "\\begin{tabular}{lll}\n",
       " sample & condition & path\\\\\n",
       " <chr> & <fct> & <chr>\\\\\n",
       "\\hline\n",
       "\t SRR5517500 &  RNA-seq\\_CTCF-AID\\_untreated     & /project/fudenber\\_735/GEO/nora\\_2017\\_rna-seq\\_SRP106652/SRP106652-rna-seq/SRR5517500/kallisto\\\\\n",
       "\t SRR5517501 &  RNA-seq\\_CTCF-AID\\_auxin1day     & /project/fudenber\\_735/GEO/nora\\_2017\\_rna-seq\\_SRP106652/SRP106652-rna-seq/SRR5517501/kallisto\\\\\n",
       "\t SRR5517502 &  RNA-seq\\_CTCF-AID\\_auxin2days    & /project/fudenber\\_735/GEO/nora\\_2017\\_rna-seq\\_SRP106652/SRP106652-rna-seq/SRR5517502/kallisto\\\\\n",
       "\t SRR5517503 &  RNA-seq\\_CTCF-AID\\_auxin4days    & /project/fudenber\\_735/GEO/nora\\_2017\\_rna-seq\\_SRP106652/SRP106652-rna-seq/SRR5517503/kallisto\\\\\n",
       "\t SRR5517504 &  RNA-seq\\_CTCF-AID\\_washoff2days  & /project/fudenber\\_735/GEO/nora\\_2017\\_rna-seq\\_SRP106652/SRP106652-rna-seq/SRR5517504/kallisto\\\\\n",
       "\t SRR5517505 &  RNA-seq\\_CTCF-AID\\_untreated     & /project/fudenber\\_735/GEO/nora\\_2017\\_rna-seq\\_SRP106652/SRP106652-rna-seq/SRR5517505/kallisto\\\\\n",
       "\t SRR5517506 &  RNA-seq\\_CTCF-AID\\_auxin1day     & /project/fudenber\\_735/GEO/nora\\_2017\\_rna-seq\\_SRP106652/SRP106652-rna-seq/SRR5517506/kallisto\\\\\n",
       "\t SRR5517507 &  RNA-seq\\_CTCF-AID\\_auxin2days    & /project/fudenber\\_735/GEO/nora\\_2017\\_rna-seq\\_SRP106652/SRP106652-rna-seq/SRR5517507/kallisto\\\\\n",
       "\t SRR5517508 &  RNA-seq\\_CTCF-AID\\_auxin4days    & /project/fudenber\\_735/GEO/nora\\_2017\\_rna-seq\\_SRP106652/SRP106652-rna-seq/SRR5517508/kallisto\\\\\n",
       "\t SRR5517509 &  RNA-seq\\_CTCF-AID\\_washoff2days  & /project/fudenber\\_735/GEO/nora\\_2017\\_rna-seq\\_SRP106652/SRP106652-rna-seq/SRR5517509/kallisto\\\\\n",
       "\t SRR5517510 &  RNA-seq\\_CTCF-AID\\_untreated     & /project/fudenber\\_735/GEO/nora\\_2017\\_rna-seq\\_SRP106652/SRP106652-rna-seq/SRR5517510/kallisto\\\\\n",
       "\t SRR5517511 &  RNA-seq\\_CTCF-AID\\_auxin1day     & /project/fudenber\\_735/GEO/nora\\_2017\\_rna-seq\\_SRP106652/SRP106652-rna-seq/SRR5517511/kallisto\\\\\n",
       "\t SRR5517512 &  RNA-seq\\_CTCF-AID\\_auxin2days    & /project/fudenber\\_735/GEO/nora\\_2017\\_rna-seq\\_SRP106652/SRP106652-rna-seq/SRR5517512/kallisto\\\\\n",
       "\t SRR5517513 &  RNA-seq\\_CTCF-AID\\_auxin4days    & /project/fudenber\\_735/GEO/nora\\_2017\\_rna-seq\\_SRP106652/SRP106652-rna-seq/SRR5517513/kallisto\\\\\n",
       "\t SRR5517514 &  RNA-seq\\_CTCF-AID\\_washoff2days  & /project/fudenber\\_735/GEO/nora\\_2017\\_rna-seq\\_SRP106652/SRP106652-rna-seq/SRR5517514/kallisto\\\\\n",
       "\t SRR5517515 &  RNA-seq\\_WT-untagged\\_untreated  & /project/fudenber\\_735/GEO/nora\\_2017\\_rna-seq\\_SRP106652/SRP106652-rna-seq/SRR5517515/kallisto\\\\\n",
       "\t SRR5517516 &  RNA-seq\\_WT-untagged\\_auxin2days & /project/fudenber\\_735/GEO/nora\\_2017\\_rna-seq\\_SRP106652/SRP106652-rna-seq/SRR5517516/kallisto\\\\\n",
       "\t SRR5517517 &  RNA-seq\\_WT-untagged\\_auxin4days & /project/fudenber\\_735/GEO/nora\\_2017\\_rna-seq\\_SRP106652/SRP106652-rna-seq/SRR5517517/kallisto\\\\\n",
       "\t SRR5517518 &  RNA-seq\\_WT-untagged\\_untreated  & /project/fudenber\\_735/GEO/nora\\_2017\\_rna-seq\\_SRP106652/SRP106652-rna-seq/SRR5517518/kallisto\\\\\n",
       "\t SRR5517519 &  RNA-seq\\_WT-untagged\\_auxin2days & /project/fudenber\\_735/GEO/nora\\_2017\\_rna-seq\\_SRP106652/SRP106652-rna-seq/SRR5517519/kallisto\\\\\n",
       "\t SRR5517520 &  RNA-seq\\_WT-untagged\\_auxin4days & /project/fudenber\\_735/GEO/nora\\_2017\\_rna-seq\\_SRP106652/SRP106652-rna-seq/SRR5517520/kallisto\\\\\n",
       "\t SRR5517521 &  RNA-seq\\_WT-untagged\\_untreated  & /project/fudenber\\_735/GEO/nora\\_2017\\_rna-seq\\_SRP106652/SRP106652-rna-seq/SRR5517521/kallisto\\\\\n",
       "\t SRR5517522 &  RNA-seq\\_WT-untagged\\_auxin2days & /project/fudenber\\_735/GEO/nora\\_2017\\_rna-seq\\_SRP106652/SRP106652-rna-seq/SRR5517522/kallisto\\\\\n",
       "\t SRR5517523 &  RNA-seq\\_WT-untagged\\_auxin4days & /project/fudenber\\_735/GEO/nora\\_2017\\_rna-seq\\_SRP106652/SRP106652-rna-seq/SRR5517523/kallisto\\\\\n",
       "\\end{tabular}\n"
      ],
      "text/markdown": [
       "\n",
       "A data.frame: 24 × 3\n",
       "\n",
       "| sample &lt;chr&gt; | condition &lt;fct&gt; | path &lt;chr&gt; |\n",
       "|---|---|---|\n",
       "| SRR5517500 |  RNA-seq_CTCF-AID_untreated     | /project/fudenber_735/GEO/nora_2017_rna-seq_SRP106652/SRP106652-rna-seq/SRR5517500/kallisto |\n",
       "| SRR5517501 |  RNA-seq_CTCF-AID_auxin1day     | /project/fudenber_735/GEO/nora_2017_rna-seq_SRP106652/SRP106652-rna-seq/SRR5517501/kallisto |\n",
       "| SRR5517502 |  RNA-seq_CTCF-AID_auxin2days    | /project/fudenber_735/GEO/nora_2017_rna-seq_SRP106652/SRP106652-rna-seq/SRR5517502/kallisto |\n",
       "| SRR5517503 |  RNA-seq_CTCF-AID_auxin4days    | /project/fudenber_735/GEO/nora_2017_rna-seq_SRP106652/SRP106652-rna-seq/SRR5517503/kallisto |\n",
       "| SRR5517504 |  RNA-seq_CTCF-AID_washoff2days  | /project/fudenber_735/GEO/nora_2017_rna-seq_SRP106652/SRP106652-rna-seq/SRR5517504/kallisto |\n",
       "| SRR5517505 |  RNA-seq_CTCF-AID_untreated     | /project/fudenber_735/GEO/nora_2017_rna-seq_SRP106652/SRP106652-rna-seq/SRR5517505/kallisto |\n",
       "| SRR5517506 |  RNA-seq_CTCF-AID_auxin1day     | /project/fudenber_735/GEO/nora_2017_rna-seq_SRP106652/SRP106652-rna-seq/SRR5517506/kallisto |\n",
       "| SRR5517507 |  RNA-seq_CTCF-AID_auxin2days    | /project/fudenber_735/GEO/nora_2017_rna-seq_SRP106652/SRP106652-rna-seq/SRR5517507/kallisto |\n",
       "| SRR5517508 |  RNA-seq_CTCF-AID_auxin4days    | /project/fudenber_735/GEO/nora_2017_rna-seq_SRP106652/SRP106652-rna-seq/SRR5517508/kallisto |\n",
       "| SRR5517509 |  RNA-seq_CTCF-AID_washoff2days  | /project/fudenber_735/GEO/nora_2017_rna-seq_SRP106652/SRP106652-rna-seq/SRR5517509/kallisto |\n",
       "| SRR5517510 |  RNA-seq_CTCF-AID_untreated     | /project/fudenber_735/GEO/nora_2017_rna-seq_SRP106652/SRP106652-rna-seq/SRR5517510/kallisto |\n",
       "| SRR5517511 |  RNA-seq_CTCF-AID_auxin1day     | /project/fudenber_735/GEO/nora_2017_rna-seq_SRP106652/SRP106652-rna-seq/SRR5517511/kallisto |\n",
       "| SRR5517512 |  RNA-seq_CTCF-AID_auxin2days    | /project/fudenber_735/GEO/nora_2017_rna-seq_SRP106652/SRP106652-rna-seq/SRR5517512/kallisto |\n",
       "| SRR5517513 |  RNA-seq_CTCF-AID_auxin4days    | /project/fudenber_735/GEO/nora_2017_rna-seq_SRP106652/SRP106652-rna-seq/SRR5517513/kallisto |\n",
       "| SRR5517514 |  RNA-seq_CTCF-AID_washoff2days  | /project/fudenber_735/GEO/nora_2017_rna-seq_SRP106652/SRP106652-rna-seq/SRR5517514/kallisto |\n",
       "| SRR5517515 |  RNA-seq_WT-untagged_untreated  | /project/fudenber_735/GEO/nora_2017_rna-seq_SRP106652/SRP106652-rna-seq/SRR5517515/kallisto |\n",
       "| SRR5517516 |  RNA-seq_WT-untagged_auxin2days | /project/fudenber_735/GEO/nora_2017_rna-seq_SRP106652/SRP106652-rna-seq/SRR5517516/kallisto |\n",
       "| SRR5517517 |  RNA-seq_WT-untagged_auxin4days | /project/fudenber_735/GEO/nora_2017_rna-seq_SRP106652/SRP106652-rna-seq/SRR5517517/kallisto |\n",
       "| SRR5517518 |  RNA-seq_WT-untagged_untreated  | /project/fudenber_735/GEO/nora_2017_rna-seq_SRP106652/SRP106652-rna-seq/SRR5517518/kallisto |\n",
       "| SRR5517519 |  RNA-seq_WT-untagged_auxin2days | /project/fudenber_735/GEO/nora_2017_rna-seq_SRP106652/SRP106652-rna-seq/SRR5517519/kallisto |\n",
       "| SRR5517520 |  RNA-seq_WT-untagged_auxin4days | /project/fudenber_735/GEO/nora_2017_rna-seq_SRP106652/SRP106652-rna-seq/SRR5517520/kallisto |\n",
       "| SRR5517521 |  RNA-seq_WT-untagged_untreated  | /project/fudenber_735/GEO/nora_2017_rna-seq_SRP106652/SRP106652-rna-seq/SRR5517521/kallisto |\n",
       "| SRR5517522 |  RNA-seq_WT-untagged_auxin2days | /project/fudenber_735/GEO/nora_2017_rna-seq_SRP106652/SRP106652-rna-seq/SRR5517522/kallisto |\n",
       "| SRR5517523 |  RNA-seq_WT-untagged_auxin4days | /project/fudenber_735/GEO/nora_2017_rna-seq_SRP106652/SRP106652-rna-seq/SRR5517523/kallisto |\n",
       "\n"
      ],
      "text/plain": [
       "   sample     condition                      \n",
       "1  SRR5517500  RNA-seq_CTCF-AID_untreated    \n",
       "2  SRR5517501  RNA-seq_CTCF-AID_auxin1day    \n",
       "3  SRR5517502  RNA-seq_CTCF-AID_auxin2days   \n",
       "4  SRR5517503  RNA-seq_CTCF-AID_auxin4days   \n",
       "5  SRR5517504  RNA-seq_CTCF-AID_washoff2days \n",
       "6  SRR5517505  RNA-seq_CTCF-AID_untreated    \n",
       "7  SRR5517506  RNA-seq_CTCF-AID_auxin1day    \n",
       "8  SRR5517507  RNA-seq_CTCF-AID_auxin2days   \n",
       "9  SRR5517508  RNA-seq_CTCF-AID_auxin4days   \n",
       "10 SRR5517509  RNA-seq_CTCF-AID_washoff2days \n",
       "11 SRR5517510  RNA-seq_CTCF-AID_untreated    \n",
       "12 SRR5517511  RNA-seq_CTCF-AID_auxin1day    \n",
       "13 SRR5517512  RNA-seq_CTCF-AID_auxin2days   \n",
       "14 SRR5517513  RNA-seq_CTCF-AID_auxin4days   \n",
       "15 SRR5517514  RNA-seq_CTCF-AID_washoff2days \n",
       "16 SRR5517515  RNA-seq_WT-untagged_untreated \n",
       "17 SRR5517516  RNA-seq_WT-untagged_auxin2days\n",
       "18 SRR5517517  RNA-seq_WT-untagged_auxin4days\n",
       "19 SRR5517518  RNA-seq_WT-untagged_untreated \n",
       "20 SRR5517519  RNA-seq_WT-untagged_auxin2days\n",
       "21 SRR5517520  RNA-seq_WT-untagged_auxin4days\n",
       "22 SRR5517521  RNA-seq_WT-untagged_untreated \n",
       "23 SRR5517522  RNA-seq_WT-untagged_auxin2days\n",
       "24 SRR5517523  RNA-seq_WT-untagged_auxin4days\n",
       "   path                                                                                       \n",
       "1  /project/fudenber_735/GEO/nora_2017_rna-seq_SRP106652/SRP106652-rna-seq/SRR5517500/kallisto\n",
       "2  /project/fudenber_735/GEO/nora_2017_rna-seq_SRP106652/SRP106652-rna-seq/SRR5517501/kallisto\n",
       "3  /project/fudenber_735/GEO/nora_2017_rna-seq_SRP106652/SRP106652-rna-seq/SRR5517502/kallisto\n",
       "4  /project/fudenber_735/GEO/nora_2017_rna-seq_SRP106652/SRP106652-rna-seq/SRR5517503/kallisto\n",
       "5  /project/fudenber_735/GEO/nora_2017_rna-seq_SRP106652/SRP106652-rna-seq/SRR5517504/kallisto\n",
       "6  /project/fudenber_735/GEO/nora_2017_rna-seq_SRP106652/SRP106652-rna-seq/SRR5517505/kallisto\n",
       "7  /project/fudenber_735/GEO/nora_2017_rna-seq_SRP106652/SRP106652-rna-seq/SRR5517506/kallisto\n",
       "8  /project/fudenber_735/GEO/nora_2017_rna-seq_SRP106652/SRP106652-rna-seq/SRR5517507/kallisto\n",
       "9  /project/fudenber_735/GEO/nora_2017_rna-seq_SRP106652/SRP106652-rna-seq/SRR5517508/kallisto\n",
       "10 /project/fudenber_735/GEO/nora_2017_rna-seq_SRP106652/SRP106652-rna-seq/SRR5517509/kallisto\n",
       "11 /project/fudenber_735/GEO/nora_2017_rna-seq_SRP106652/SRP106652-rna-seq/SRR5517510/kallisto\n",
       "12 /project/fudenber_735/GEO/nora_2017_rna-seq_SRP106652/SRP106652-rna-seq/SRR5517511/kallisto\n",
       "13 /project/fudenber_735/GEO/nora_2017_rna-seq_SRP106652/SRP106652-rna-seq/SRR5517512/kallisto\n",
       "14 /project/fudenber_735/GEO/nora_2017_rna-seq_SRP106652/SRP106652-rna-seq/SRR5517513/kallisto\n",
       "15 /project/fudenber_735/GEO/nora_2017_rna-seq_SRP106652/SRP106652-rna-seq/SRR5517514/kallisto\n",
       "16 /project/fudenber_735/GEO/nora_2017_rna-seq_SRP106652/SRP106652-rna-seq/SRR5517515/kallisto\n",
       "17 /project/fudenber_735/GEO/nora_2017_rna-seq_SRP106652/SRP106652-rna-seq/SRR5517516/kallisto\n",
       "18 /project/fudenber_735/GEO/nora_2017_rna-seq_SRP106652/SRP106652-rna-seq/SRR5517517/kallisto\n",
       "19 /project/fudenber_735/GEO/nora_2017_rna-seq_SRP106652/SRP106652-rna-seq/SRR5517518/kallisto\n",
       "20 /project/fudenber_735/GEO/nora_2017_rna-seq_SRP106652/SRP106652-rna-seq/SRR5517519/kallisto\n",
       "21 /project/fudenber_735/GEO/nora_2017_rna-seq_SRP106652/SRP106652-rna-seq/SRR5517520/kallisto\n",
       "22 /project/fudenber_735/GEO/nora_2017_rna-seq_SRP106652/SRP106652-rna-seq/SRR5517521/kallisto\n",
       "23 /project/fudenber_735/GEO/nora_2017_rna-seq_SRP106652/SRP106652-rna-seq/SRR5517522/kallisto\n",
       "24 /project/fudenber_735/GEO/nora_2017_rna-seq_SRP106652/SRP106652-rna-seq/SRR5517523/kallisto"
      ]
     },
     "metadata": {},
     "output_type": "display_data"
    }
   ],
   "source": [
    "# Getting rid of whitespace didn't work? so just going to try to se the base level\n",
    "s2c$condition <- relevel(s2c$condition, ref = \" RNA-seq_CTCF-AID_untreated\")\n",
    "levels(s2c$condition)\n",
    "s2c"
   ]
  },
  {
   "cell_type": "code",
   "execution_count": 22,
   "id": "89d46eec-2552-4491-8363-6574335b173c",
   "metadata": {},
   "outputs": [],
   "source": [
    "s2c <- dplyr::mutate(s2c, path = kal_dirs)"
   ]
  },
  {
   "cell_type": "code",
   "execution_count": 23,
   "id": "a0904e48-1f25-4bd0-beae-b7e076dab9c9",
   "metadata": {},
   "outputs": [
    {
     "name": "stdout",
     "output_type": "stream",
     "text": [
      "       sample                       condition\n",
      "1  SRR5517500      RNA-seq_CTCF-AID_untreated\n",
      "2  SRR5517501      RNA-seq_CTCF-AID_auxin1day\n",
      "3  SRR5517502     RNA-seq_CTCF-AID_auxin2days\n",
      "4  SRR5517503     RNA-seq_CTCF-AID_auxin4days\n",
      "5  SRR5517504   RNA-seq_CTCF-AID_washoff2days\n",
      "6  SRR5517505      RNA-seq_CTCF-AID_untreated\n",
      "7  SRR5517506      RNA-seq_CTCF-AID_auxin1day\n",
      "8  SRR5517507     RNA-seq_CTCF-AID_auxin2days\n",
      "9  SRR5517508     RNA-seq_CTCF-AID_auxin4days\n",
      "10 SRR5517509   RNA-seq_CTCF-AID_washoff2days\n",
      "11 SRR5517510      RNA-seq_CTCF-AID_untreated\n",
      "12 SRR5517511      RNA-seq_CTCF-AID_auxin1day\n",
      "13 SRR5517512     RNA-seq_CTCF-AID_auxin2days\n",
      "14 SRR5517513     RNA-seq_CTCF-AID_auxin4days\n",
      "15 SRR5517514   RNA-seq_CTCF-AID_washoff2days\n",
      "16 SRR5517515   RNA-seq_WT-untagged_untreated\n",
      "17 SRR5517516  RNA-seq_WT-untagged_auxin2days\n",
      "18 SRR5517517  RNA-seq_WT-untagged_auxin4days\n",
      "19 SRR5517518   RNA-seq_WT-untagged_untreated\n",
      "20 SRR5517519  RNA-seq_WT-untagged_auxin2days\n",
      "21 SRR5517520  RNA-seq_WT-untagged_auxin4days\n",
      "22 SRR5517521   RNA-seq_WT-untagged_untreated\n",
      "23 SRR5517522  RNA-seq_WT-untagged_auxin2days\n",
      "24 SRR5517523  RNA-seq_WT-untagged_auxin4days\n",
      "                                                                                          path\n",
      "1  /project/fudenber_735/GEO/nora_2017_rna-seq_SRP106652/SRP106652-rna-seq/SRR5517500/kallisto\n",
      "2  /project/fudenber_735/GEO/nora_2017_rna-seq_SRP106652/SRP106652-rna-seq/SRR5517501/kallisto\n",
      "3  /project/fudenber_735/GEO/nora_2017_rna-seq_SRP106652/SRP106652-rna-seq/SRR5517502/kallisto\n",
      "4  /project/fudenber_735/GEO/nora_2017_rna-seq_SRP106652/SRP106652-rna-seq/SRR5517503/kallisto\n",
      "5  /project/fudenber_735/GEO/nora_2017_rna-seq_SRP106652/SRP106652-rna-seq/SRR5517504/kallisto\n",
      "6  /project/fudenber_735/GEO/nora_2017_rna-seq_SRP106652/SRP106652-rna-seq/SRR5517505/kallisto\n",
      "7  /project/fudenber_735/GEO/nora_2017_rna-seq_SRP106652/SRP106652-rna-seq/SRR5517506/kallisto\n",
      "8  /project/fudenber_735/GEO/nora_2017_rna-seq_SRP106652/SRP106652-rna-seq/SRR5517507/kallisto\n",
      "9  /project/fudenber_735/GEO/nora_2017_rna-seq_SRP106652/SRP106652-rna-seq/SRR5517508/kallisto\n",
      "10 /project/fudenber_735/GEO/nora_2017_rna-seq_SRP106652/SRP106652-rna-seq/SRR5517509/kallisto\n",
      "11 /project/fudenber_735/GEO/nora_2017_rna-seq_SRP106652/SRP106652-rna-seq/SRR5517510/kallisto\n",
      "12 /project/fudenber_735/GEO/nora_2017_rna-seq_SRP106652/SRP106652-rna-seq/SRR5517511/kallisto\n",
      "13 /project/fudenber_735/GEO/nora_2017_rna-seq_SRP106652/SRP106652-rna-seq/SRR5517512/kallisto\n",
      "14 /project/fudenber_735/GEO/nora_2017_rna-seq_SRP106652/SRP106652-rna-seq/SRR5517513/kallisto\n",
      "15 /project/fudenber_735/GEO/nora_2017_rna-seq_SRP106652/SRP106652-rna-seq/SRR5517514/kallisto\n",
      "16 /project/fudenber_735/GEO/nora_2017_rna-seq_SRP106652/SRP106652-rna-seq/SRR5517515/kallisto\n",
      "17 /project/fudenber_735/GEO/nora_2017_rna-seq_SRP106652/SRP106652-rna-seq/SRR5517516/kallisto\n",
      "18 /project/fudenber_735/GEO/nora_2017_rna-seq_SRP106652/SRP106652-rna-seq/SRR5517517/kallisto\n",
      "19 /project/fudenber_735/GEO/nora_2017_rna-seq_SRP106652/SRP106652-rna-seq/SRR5517518/kallisto\n",
      "20 /project/fudenber_735/GEO/nora_2017_rna-seq_SRP106652/SRP106652-rna-seq/SRR5517519/kallisto\n",
      "21 /project/fudenber_735/GEO/nora_2017_rna-seq_SRP106652/SRP106652-rna-seq/SRR5517520/kallisto\n",
      "22 /project/fudenber_735/GEO/nora_2017_rna-seq_SRP106652/SRP106652-rna-seq/SRR5517521/kallisto\n",
      "23 /project/fudenber_735/GEO/nora_2017_rna-seq_SRP106652/SRP106652-rna-seq/SRR5517522/kallisto\n",
      "24 /project/fudenber_735/GEO/nora_2017_rna-seq_SRP106652/SRP106652-rna-seq/SRR5517523/kallisto\n"
     ]
    }
   ],
   "source": [
    "print(s2c)"
   ]
  },
  {
   "cell_type": "markdown",
   "id": "583d2447-6c14-4fd9-839e-8a2e5cd1d5f2",
   "metadata": {},
   "source": [
    "Looks good\n",
    "\n",
    "Lot's of this prep is what goes into describing the variables and the experimental design. For now, choosing the simplest method (only mapping conditions as described by CTCF-AID_ / WT + number of days. But, I think we can group the replicates with aggregation_column (I think?) https://pachterlab.github.io/sleuth/docs/sleuth_prep.html  "
   ]
  },
  {
   "cell_type": "markdown",
   "id": "a534bdf4-3d8a-4f6b-839e-e5282b3277c8",
   "metadata": {},
   "source": [
    "## Todo: Create strain vs treatment column in s2c\n",
    "\n",
    "So that we can fully capture the 2-factor experiments"
   ]
  },
  {
   "cell_type": "code",
   "execution_count": 16,
   "id": "225da208-15ea-490b-bbb9-f228640a8636",
   "metadata": {},
   "outputs": [],
   "source": [
    "## todo: some parsing of the columns -- probably just splitting 'condition' by '_' to get CTCF-AID / WT-untagged into its own column\n",
    "\n",
    "#sum_extended <- cbind(sum,  stringr::str_split_fixed(sum$Experiment.Title, \"[:;]+\", 4))\n",
    "#colnames(sum_extended)[19] <- \"condition\""
   ]
  },
  {
   "cell_type": "code",
   "execution_count": 17,
   "id": "c3e47352-5fcb-41dd-a71f-f908e18e7c2a",
   "metadata": {},
   "outputs": [
    {
     "data": {
      "text/html": [
       "<style>\n",
       ".list-inline {list-style: none; margin:0; padding: 0}\n",
       ".list-inline>li {display: inline-block}\n",
       ".list-inline>li:not(:last-child)::after {content: \"\\00b7\"; padding: 0 .5ex}\n",
       "</style>\n",
       "<ol class=list-inline><li>' RNA-seq_CTCF-AID_untreated'</li><li>' RNA-seq_CTCF-AID_auxin1day'</li><li>' RNA-seq_CTCF-AID_auxin2days'</li><li>' RNA-seq_CTCF-AID_auxin4days'</li><li>' RNA-seq_CTCF-AID_washoff2days'</li><li>' RNA-seq_WT-untagged_auxin2days'</li><li>' RNA-seq_WT-untagged_auxin4days'</li><li>' RNA-seq_WT-untagged_untreated'</li></ol>\n"
      ],
      "text/latex": [
       "\\begin{enumerate*}\n",
       "\\item ' RNA-seq\\_CTCF-AID\\_untreated'\n",
       "\\item ' RNA-seq\\_CTCF-AID\\_auxin1day'\n",
       "\\item ' RNA-seq\\_CTCF-AID\\_auxin2days'\n",
       "\\item ' RNA-seq\\_CTCF-AID\\_auxin4days'\n",
       "\\item ' RNA-seq\\_CTCF-AID\\_washoff2days'\n",
       "\\item ' RNA-seq\\_WT-untagged\\_auxin2days'\n",
       "\\item ' RNA-seq\\_WT-untagged\\_auxin4days'\n",
       "\\item ' RNA-seq\\_WT-untagged\\_untreated'\n",
       "\\end{enumerate*}\n"
      ],
      "text/markdown": [
       "1. ' RNA-seq_CTCF-AID_untreated'\n",
       "2. ' RNA-seq_CTCF-AID_auxin1day'\n",
       "3. ' RNA-seq_CTCF-AID_auxin2days'\n",
       "4. ' RNA-seq_CTCF-AID_auxin4days'\n",
       "5. ' RNA-seq_CTCF-AID_washoff2days'\n",
       "6. ' RNA-seq_WT-untagged_auxin2days'\n",
       "7. ' RNA-seq_WT-untagged_auxin4days'\n",
       "8. ' RNA-seq_WT-untagged_untreated'\n",
       "\n",
       "\n"
      ],
      "text/plain": [
       "[1] \" RNA-seq_CTCF-AID_untreated\"     \" RNA-seq_CTCF-AID_auxin1day\"    \n",
       "[3] \" RNA-seq_CTCF-AID_auxin2days\"    \" RNA-seq_CTCF-AID_auxin4days\"   \n",
       "[5] \" RNA-seq_CTCF-AID_washoff2days\"  \" RNA-seq_WT-untagged_auxin2days\"\n",
       "[7] \" RNA-seq_WT-untagged_auxin4days\" \" RNA-seq_WT-untagged_untreated\" "
      ]
     },
     "metadata": {},
     "output_type": "display_data"
    }
   ],
   "source": [
    "# making sure untreated is still base\n",
    "levels(s2c$condition)"
   ]
  },
  {
   "cell_type": "markdown",
   "id": "dfd8939f-c76f-4d93-b977-2a98289dcfe4",
   "metadata": {},
   "source": [
    "`sleuth_prep( )` makes a regression model, using 'condition' as the dependent variable."
   ]
  },
  {
   "cell_type": "code",
   "execution_count": 18,
   "id": "5aac6a12-ae39-4910-a7aa-60803b6b1e6a",
   "metadata": {},
   "outputs": [
    {
     "name": "stderr",
     "output_type": "stream",
     "text": [
      "reading in kallisto results\n",
      "\n",
      "dropping unused factor levels\n",
      "\n",
      ".\n"
     ]
    },
    {
     "ename": "ERROR",
     "evalue": "Error in get_kallisto_path(path): '/project/fudenber_735/GEO/nora_2017_rna-seq_SRP106652/SRP106652-rna-seq/SRR5517500/kallisto' does not exist.\n",
     "output_type": "error",
     "traceback": [
      "Error in get_kallisto_path(path): '/project/fudenber_735/GEO/nora_2017_rna-seq_SRP106652/SRP106652-rna-seq/SRR5517500/kallisto' does not exist.\nTraceback:\n",
      "1. sleuth_prep(s2c, ~condition, extra_bootstrap_summary = TRUE, \n .     read_bootstrap_tpm = TRUE, transformation_function = function(x) log2(x + \n .         0.5))",
      "2. lapply(seq_along(kal_dirs), function(i) {\n .     nsamp <- dot(nsamp)\n .     path <- kal_dirs[i]\n .     suppressMessages({\n .         kal <- read_kallisto(path, read_bootstrap = FALSE, max_bootstrap = max_bootstrap)\n .     })\n .     kal$abundance <- dplyr::mutate(kal$abundance, sample = sample_to_covariates$sample[i])\n .     kal\n . })",
      "3. FUN(X[[i]], ...)",
      "4. suppressMessages({\n .     kal <- read_kallisto(path, read_bootstrap = FALSE, max_bootstrap = max_bootstrap)\n . })",
      "5. withCallingHandlers(expr, message = function(c) invokeRestart(\"muffleMessage\"))",
      "6. read_kallisto(path, read_bootstrap = FALSE, max_bootstrap = max_bootstrap)",
      "7. get_kallisto_path(path)",
      "8. stop(\"'\", path, \"' does not exist.\")"
     ]
    }
   ],
   "source": [
    "# todo: for log2 change in wald test, add transformation_function = function(x) log2(x + 0.5) \n",
    "## from : https://hbctraining.github.io/DGE_workshop_salmon/lessons/09_sleuth.html\n",
    "\n",
    "so <- sleuth_prep(s2c, ~ condition, \n",
    "                  extra_bootstrap_summary = TRUE, \n",
    "                  read_bootstrap_tpm=TRUE, \n",
    "                  transformation_function = function(x) log2(x + 0.5))"
   ]
  },
  {
   "cell_type": "code",
   "execution_count": 19,
   "id": "c99835f6-7901-4d88-8fe9-734ac4df9194",
   "metadata": {},
   "outputs": [
    {
     "ename": "ERROR",
     "evalue": "Error in is(obj, \"sleuth\"): object 'so' not found\n",
     "output_type": "error",
     "traceback": [
      "Error in is(obj, \"sleuth\"): object 'so' not found\nTraceback:\n",
      "1. plot_group_density(so, use_filtered = TRUE, units = \"est_counts\", \n .     trans = \"log\", grouping = \"condition\")",
      "2. sleuth:::check_quant_mode(obj, units)",
      "3. stopifnot(is(obj, \"sleuth\"))",
      "4. is(obj, \"sleuth\")"
     ]
    }
   ],
   "source": [
    "plot_group_density(so, use_filtered = TRUE, units = \"est_counts\", trans = \"log\", grouping = \"condition\")"
   ]
  },
  {
   "cell_type": "markdown",
   "id": "e954ac80-efe9-48af-b2bc-ce26f139031b",
   "metadata": {},
   "source": [
    "### Fit model\n",
    "\n",
    "(from the manual):\n",
    "\n",
    "It performs the technical variance estimation from the boostraps, biological variance estimation, and shrinkage estimation.\n",
    "\n",
    "Usage\n",
    "`sleuth_fit(obj, formula = NULL, fit_name = NULL, ...)`\n"
   ]
  },
  {
   "cell_type": "markdown",
   "id": "c550d7a8-63b4-4f4c-aaad-4993b64f5a5f",
   "metadata": {},
   "source": [
    "estimate parameters for the sleuth response error measurement (full) model as responding to the 'condition' factor"
   ]
  },
  {
   "cell_type": "code",
   "execution_count": 18,
   "id": "ec644ef2-a45c-424d-8b41-4ef1fde9a28d",
   "metadata": {},
   "outputs": [
    {
     "name": "stderr",
     "output_type": "stream",
     "text": [
      "fitting measurement error models\n",
      "\n",
      "shrinkage estimation\n",
      "\n",
      "1 NA values were found during variance shrinkage estimation due to mean observation values outside of the range used for the LOESS fit.\n",
      "The LOESS fit will be repeated using exact computation of the fitted surface to extrapolate the missing values.\n",
      "These are the target ids with NA values: ENSMUST00000049324\n",
      "\n",
      "computing variance of betas\n",
      "\n"
     ]
    }
   ],
   "source": [
    "so <- sleuth_fit(so)"
   ]
  },
  {
   "cell_type": "markdown",
   "id": "14ab17a9-b1c5-4986-bbf6-475d955d6d86",
   "metadata": {},
   "source": [
    "Create another model where the gene expression is not dependent on any factor."
   ]
  },
  {
   "cell_type": "code",
   "execution_count": 19,
   "id": "febbfaa1-484d-4cc2-b5ff-a6d67fb008da",
   "metadata": {},
   "outputs": [
    {
     "name": "stderr",
     "output_type": "stream",
     "text": [
      "fitting measurement error models\n",
      "\n",
      "shrinkage estimation\n",
      "\n",
      "1 NA values were found during variance shrinkage estimation due to mean observation values outside of the range used for the LOESS fit.\n",
      "The LOESS fit will be repeated using exact computation of the fitted surface to extrapolate the missing values.\n",
      "These are the target ids with NA values: ENSMUST00000049324\n",
      "\n",
      "computing variance of betas\n",
      "\n"
     ]
    }
   ],
   "source": [
    "so <- sleuth_fit(so, ~condition, 'full')"
   ]
  },
  {
   "cell_type": "code",
   "execution_count": 20,
   "id": "75032df5-c878-4922-bb6c-282a98f81f4c",
   "metadata": {},
   "outputs": [
    {
     "name": "stderr",
     "output_type": "stream",
     "text": [
      "fitting measurement error models\n",
      "\n",
      "shrinkage estimation\n",
      "\n",
      "computing variance of betas\n",
      "\n"
     ]
    }
   ],
   "source": [
    "so <- sleuth_fit(so, ~1, 'reduced')"
   ]
  },
  {
   "cell_type": "code",
   "execution_count": 21,
   "id": "946a7202-73a9-45c4-b01f-3ea1eede42c7",
   "metadata": {},
   "outputs": [
    {
     "name": "stdout",
     "output_type": "stream",
     "text": [
      "[  full  ]\n",
      "formula:  ~condition \n",
      "data modeled:  obs_counts \n",
      "transform sync'ed:  TRUE \n",
      "coefficients:\n",
      "\t(Intercept)\n",
      " \tcondition RNA-seq_CTCF-AID_auxin1day\n",
      " \tcondition RNA-seq_CTCF-AID_auxin2days\n",
      " \tcondition RNA-seq_CTCF-AID_auxin4days\n",
      " \tcondition RNA-seq_CTCF-AID_washoff2days\n",
      " \tcondition RNA-seq_WT-untagged_auxin2days\n",
      " \tcondition RNA-seq_WT-untagged_auxin4days\n",
      " \tcondition RNA-seq_WT-untagged_untreated\n",
      "[  reduced  ]\n",
      "formula:  ~1 \n",
      "data modeled:  obs_counts \n",
      "transform sync'ed:  TRUE \n",
      "coefficients:\n",
      "\t(Intercept)\n"
     ]
    }
   ],
   "source": [
    "models(so)"
   ]
  },
  {
   "cell_type": "markdown",
   "id": "4d446035-f045-4c76-ba37-f5623c21fa82",
   "metadata": {},
   "source": [
    "### Apply likelihood ratio test\n",
    "\n",
    "In the typical Sleuth's workflow, the likelihood ratio test (LRT) is applied. Briefly, the LRT models the likelihood of the data given 2 models:\n",
    "\n",
    "full: transcript abundance affected on one or more dependent variables (here just being treated or not)\n",
    "reduced: transcript abundance unaffected by the treatment (null hypothesis)\n",
    "\n",
    "`sleuth_lrt(obj, null_model, alt_model)`\n",
    "compute the likelihood ratio test for 2 models. this requires that the null model be nested in the alternate model\n",
    "\n",
    "--> null is 'reduced', alt is 'full'\n",
    "\n",
    " - sleuth docs appear to recommend sleuth_lrt and sleuth_wt for hypothesis testing"
   ]
  },
  {
   "cell_type": "code",
   "execution_count": 22,
   "id": "5536500b-7060-4ec3-8dc9-d846ee00fb08",
   "metadata": {},
   "outputs": [],
   "source": [
    "# perform a test\n",
    "so <- sleuth_lrt(so, 'reduced', 'full')"
   ]
  },
  {
   "cell_type": "code",
   "execution_count": 23,
   "id": "fcddb167-aba0-4795-a1f8-bcd893e7d49b",
   "metadata": {},
   "outputs": [
    {
     "name": "stdout",
     "output_type": "stream",
     "text": [
      "[  full  ]\n",
      "formula:  ~condition \n",
      "data modeled:  obs_counts \n",
      "transform sync'ed:  TRUE \n",
      "coefficients:\n",
      "\t(Intercept)\n",
      " \tcondition RNA-seq_CTCF-AID_auxin1day\n",
      " \tcondition RNA-seq_CTCF-AID_auxin2days\n",
      " \tcondition RNA-seq_CTCF-AID_auxin4days\n",
      " \tcondition RNA-seq_CTCF-AID_washoff2days\n",
      " \tcondition RNA-seq_WT-untagged_auxin2days\n",
      " \tcondition RNA-seq_WT-untagged_auxin4days\n",
      " \tcondition RNA-seq_WT-untagged_untreated\n",
      "[  reduced  ]\n",
      "formula:  ~1 \n",
      "data modeled:  obs_counts \n",
      "transform sync'ed:  TRUE \n",
      "coefficients:\n",
      "\t(Intercept)\n"
     ]
    }
   ],
   "source": [
    "models(so)"
   ]
  },
  {
   "cell_type": "markdown",
   "id": "9a9dbd67-61b0-40e9-85a4-7081a53a88f8",
   "metadata": {},
   "source": [
    "Examine the results of the above test\n",
    "\n",
    "more info on options: https://www.rdocumentation.org/packages/sleuth/versions/0.30.0/topics/sleuth_results "
   ]
  },
  {
   "cell_type": "code",
   "execution_count": 24,
   "id": "7de8cebd-6c38-4cd2-a125-aedcf26572c3",
   "metadata": {},
   "outputs": [
    {
     "data": {
      "text/html": [
       "<table class=\"dataframe\">\n",
       "<caption>A data.frame: 20 × 12</caption>\n",
       "<thead>\n",
       "\t<tr><th></th><th scope=col>target_id</th><th scope=col>pval</th><th scope=col>qval</th><th scope=col>test_stat</th><th scope=col>rss</th><th scope=col>degrees_free</th><th scope=col>mean_obs</th><th scope=col>var_obs</th><th scope=col>tech_var</th><th scope=col>sigma_sq</th><th scope=col>smooth_sigma_sq</th><th scope=col>final_sigma_sq</th></tr>\n",
       "\t<tr><th></th><th scope=col>&lt;chr&gt;</th><th scope=col>&lt;dbl&gt;</th><th scope=col>&lt;dbl&gt;</th><th scope=col>&lt;dbl&gt;</th><th scope=col>&lt;dbl&gt;</th><th scope=col>&lt;int&gt;</th><th scope=col>&lt;dbl&gt;</th><th scope=col>&lt;dbl&gt;</th><th scope=col>&lt;dbl&gt;</th><th scope=col>&lt;dbl&gt;</th><th scope=col>&lt;dbl&gt;</th><th scope=col>&lt;dbl&gt;</th></tr>\n",
       "</thead>\n",
       "<tbody>\n",
       "\t<tr><th scope=row>1</th><td>ENSMUST00000029644</td><td>3.047563e-14</td><td>1.464506e-09</td><td>78.30769</td><td> 22.208030</td><td>7</td><td>6.862515</td><td>0.9655665</td><td>0.0029059542</td><td>0.9626605</td><td>0.09593575</td><td>0.9626605</td></tr>\n",
       "\t<tr><th scope=row>2</th><td>ENSMUST00000102763</td><td>1.079232e-13</td><td>2.593125e-09</td><td>75.60788</td><td> 16.367575</td><td>7</td><td>7.556659</td><td>0.7116337</td><td>0.0008762691</td><td>0.7107574</td><td>0.07613686</td><td>0.7107574</td></tr>\n",
       "\t<tr><th scope=row>3</th><td>ENSMUST00000006451</td><td>3.690048e-13</td><td>4.026421e-09</td><td>72.97684</td><td> 20.415453</td><td>7</td><td>7.017841</td><td>0.8876284</td><td>0.0033801130</td><td>0.8842483</td><td>0.09048501</td><td>0.8842483</td></tr>\n",
       "\t<tr><th scope=row>4</th><td>ENSMUST00000078953</td><td>4.004208e-13</td><td>4.026421e-09</td><td>72.80175</td><td> 44.937222</td><td>7</td><td>5.188072</td><td>1.9537923</td><td>0.0177739637</td><td>1.9360183</td><td>0.21619344</td><td>1.9360183</td></tr>\n",
       "\t<tr><th scope=row>5</th><td>ENSMUST00000155572</td><td>4.189388e-13</td><td>4.026421e-09</td><td>72.70486</td><td> 16.652961</td><td>7</td><td>8.060573</td><td>0.7240418</td><td>0.0004519891</td><td>0.7235898</td><td>0.06742466</td><td>0.7235898</td></tr>\n",
       "\t<tr><th scope=row>6</th><td>ENSMUST00000168900</td><td>6.272445e-13</td><td>5.023706e-09</td><td>71.83944</td><td> 20.212557</td><td>7</td><td>7.059538</td><td>0.8788068</td><td>0.0019773653</td><td>0.8768295</td><td>0.08914646</td><td>0.8768295</td></tr>\n",
       "\t<tr><th scope=row>7</th><td>ENSMUST00000136299</td><td>1.374398e-12</td><td>8.255836e-09</td><td>70.15534</td><td> 26.363584</td><td>7</td><td>8.066746</td><td>1.1462428</td><td>0.0004998462</td><td>1.1457429</td><td>0.06734164</td><td>1.1457429</td></tr>\n",
       "\t<tr><th scope=row>8</th><td>ENSMUST00000171066</td><td>1.212480e-12</td><td>8.255836e-09</td><td>70.42464</td><td> 24.015087</td><td>7</td><td>9.518412</td><td>1.0441342</td><td>0.0001302209</td><td>1.0440040</td><td>0.06076378</td><td>1.0440040</td></tr>\n",
       "\t<tr><th scope=row>9</th><td>ENSMUST00000014892</td><td>2.382672e-12</td><td>1.272214e-08</td><td>68.97237</td><td> 15.942756</td><td>7</td><td>6.670008</td><td>0.6931633</td><td>0.0027184562</td><td>0.6904448</td><td>0.10375566</td><td>0.6904448</td></tr>\n",
       "\t<tr><th scope=row>10</th><td>ENSMUST00000004949</td><td>4.088220e-12</td><td>1.964594e-08</td><td>67.81014</td><td> 29.054561</td><td>7</td><td>5.892552</td><td>1.2632418</td><td>0.0066628145</td><td>1.2565790</td><td>0.14910365</td><td>1.2565790</td></tr>\n",
       "\t<tr><th scope=row>11</th><td>ENSMUST00000032747</td><td>1.464767e-11</td><td>6.013487e-08</td><td>65.05687</td><td> 60.830140</td><td>7</td><td>4.413944</td><td>2.6447887</td><td>0.0796148464</td><td>2.5651738</td><td>0.33169214</td><td>2.5651738</td></tr>\n",
       "\t<tr><th scope=row>12</th><td>ENSMUST00000033866</td><td>1.501651e-11</td><td>6.013487e-08</td><td>65.00313</td><td> 10.135222</td><td>7</td><td>7.648090</td><td>0.4406618</td><td>0.0007730289</td><td>0.4398888</td><td>0.07425387</td><td>0.4398888</td></tr>\n",
       "\t<tr><th scope=row>13</th><td>ENSMUST00000052027</td><td>2.100491e-11</td><td>7.209936e-08</td><td>64.27755</td><td> 34.417660</td><td>7</td><td>5.546691</td><td>1.4964200</td><td>0.0098973854</td><td>1.4865226</td><td>0.17804995</td><td>1.4865226</td></tr>\n",
       "\t<tr><th scope=row>14</th><td>ENSMUST00000091190</td><td>2.045639e-11</td><td>7.209936e-08</td><td>64.33478</td><td> 37.078975</td><td>7</td><td>6.135758</td><td>1.6121293</td><td>0.0060172597</td><td>1.6061121</td><td>0.13233592</td><td>1.6061121</td></tr>\n",
       "\t<tr><th scope=row>15</th><td>ENSMUST00000002400</td><td>2.310938e-11</td><td>7.403476e-08</td><td>64.07100</td><td> 16.829977</td><td>7</td><td>6.372578</td><td>0.7317381</td><td>0.0027712808</td><td>0.7289668</td><td>0.11834396</td><td>0.7289668</td></tr>\n",
       "\t<tr><th scope=row>16</th><td>ENSMUST00000022945</td><td>3.345631e-11</td><td>9.232058e-08</td><td>63.27010</td><td> 13.315491</td><td>7</td><td>7.483690</td><td>0.5789344</td><td>0.0008690044</td><td>0.5780654</td><td>0.07774491</td><td>0.5780654</td></tr>\n",
       "\t<tr><th scope=row>17</th><td>ENSMUST00000097228</td><td>3.348513e-11</td><td>9.232058e-08</td><td>63.26824</td><td> 30.827146</td><td>7</td><td>5.315158</td><td>1.3403107</td><td>0.0130789123</td><td>1.3272318</td><td>0.20167668</td><td>1.3272318</td></tr>\n",
       "\t<tr><th scope=row>18</th><td>ENSMUST00000160289</td><td>3.458060e-11</td><td>9.232058e-08</td><td>63.19852</td><td>  7.523589</td><td>7</td><td>8.188183</td><td>0.3271126</td><td>0.0003795243</td><td>0.3267331</td><td>0.06581499</td><td>0.3267331</td></tr>\n",
       "\t<tr><th scope=row>19</th><td>ENSMUST00000087557</td><td>3.923126e-11</td><td>9.922413e-08</td><td>62.92518</td><td> 28.529367</td><td>7</td><td>5.824121</td><td>1.2404072</td><td>0.0069853791</td><td>1.2334219</td><td>0.15428595</td><td>1.2334219</td></tr>\n",
       "\t<tr><th scope=row>20</th><td>ENSMUST00000151797</td><td>5.132499e-11</td><td>1.233211e-07</td><td>62.34278</td><td>121.141927</td><td>7</td><td>3.644737</td><td>5.2670403</td><td>0.1190867605</td><td>5.1479536</td><td>0.51106168</td><td>5.1479536</td></tr>\n",
       "</tbody>\n",
       "</table>\n"
      ],
      "text/latex": [
       "A data.frame: 20 × 12\n",
       "\\begin{tabular}{r|llllllllllll}\n",
       "  & target\\_id & pval & qval & test\\_stat & rss & degrees\\_free & mean\\_obs & var\\_obs & tech\\_var & sigma\\_sq & smooth\\_sigma\\_sq & final\\_sigma\\_sq\\\\\n",
       "  & <chr> & <dbl> & <dbl> & <dbl> & <dbl> & <int> & <dbl> & <dbl> & <dbl> & <dbl> & <dbl> & <dbl>\\\\\n",
       "\\hline\n",
       "\t1 & ENSMUST00000029644 & 3.047563e-14 & 1.464506e-09 & 78.30769 &  22.208030 & 7 & 6.862515 & 0.9655665 & 0.0029059542 & 0.9626605 & 0.09593575 & 0.9626605\\\\\n",
       "\t2 & ENSMUST00000102763 & 1.079232e-13 & 2.593125e-09 & 75.60788 &  16.367575 & 7 & 7.556659 & 0.7116337 & 0.0008762691 & 0.7107574 & 0.07613686 & 0.7107574\\\\\n",
       "\t3 & ENSMUST00000006451 & 3.690048e-13 & 4.026421e-09 & 72.97684 &  20.415453 & 7 & 7.017841 & 0.8876284 & 0.0033801130 & 0.8842483 & 0.09048501 & 0.8842483\\\\\n",
       "\t4 & ENSMUST00000078953 & 4.004208e-13 & 4.026421e-09 & 72.80175 &  44.937222 & 7 & 5.188072 & 1.9537923 & 0.0177739637 & 1.9360183 & 0.21619344 & 1.9360183\\\\\n",
       "\t5 & ENSMUST00000155572 & 4.189388e-13 & 4.026421e-09 & 72.70486 &  16.652961 & 7 & 8.060573 & 0.7240418 & 0.0004519891 & 0.7235898 & 0.06742466 & 0.7235898\\\\\n",
       "\t6 & ENSMUST00000168900 & 6.272445e-13 & 5.023706e-09 & 71.83944 &  20.212557 & 7 & 7.059538 & 0.8788068 & 0.0019773653 & 0.8768295 & 0.08914646 & 0.8768295\\\\\n",
       "\t7 & ENSMUST00000136299 & 1.374398e-12 & 8.255836e-09 & 70.15534 &  26.363584 & 7 & 8.066746 & 1.1462428 & 0.0004998462 & 1.1457429 & 0.06734164 & 1.1457429\\\\\n",
       "\t8 & ENSMUST00000171066 & 1.212480e-12 & 8.255836e-09 & 70.42464 &  24.015087 & 7 & 9.518412 & 1.0441342 & 0.0001302209 & 1.0440040 & 0.06076378 & 1.0440040\\\\\n",
       "\t9 & ENSMUST00000014892 & 2.382672e-12 & 1.272214e-08 & 68.97237 &  15.942756 & 7 & 6.670008 & 0.6931633 & 0.0027184562 & 0.6904448 & 0.10375566 & 0.6904448\\\\\n",
       "\t10 & ENSMUST00000004949 & 4.088220e-12 & 1.964594e-08 & 67.81014 &  29.054561 & 7 & 5.892552 & 1.2632418 & 0.0066628145 & 1.2565790 & 0.14910365 & 1.2565790\\\\\n",
       "\t11 & ENSMUST00000032747 & 1.464767e-11 & 6.013487e-08 & 65.05687 &  60.830140 & 7 & 4.413944 & 2.6447887 & 0.0796148464 & 2.5651738 & 0.33169214 & 2.5651738\\\\\n",
       "\t12 & ENSMUST00000033866 & 1.501651e-11 & 6.013487e-08 & 65.00313 &  10.135222 & 7 & 7.648090 & 0.4406618 & 0.0007730289 & 0.4398888 & 0.07425387 & 0.4398888\\\\\n",
       "\t13 & ENSMUST00000052027 & 2.100491e-11 & 7.209936e-08 & 64.27755 &  34.417660 & 7 & 5.546691 & 1.4964200 & 0.0098973854 & 1.4865226 & 0.17804995 & 1.4865226\\\\\n",
       "\t14 & ENSMUST00000091190 & 2.045639e-11 & 7.209936e-08 & 64.33478 &  37.078975 & 7 & 6.135758 & 1.6121293 & 0.0060172597 & 1.6061121 & 0.13233592 & 1.6061121\\\\\n",
       "\t15 & ENSMUST00000002400 & 2.310938e-11 & 7.403476e-08 & 64.07100 &  16.829977 & 7 & 6.372578 & 0.7317381 & 0.0027712808 & 0.7289668 & 0.11834396 & 0.7289668\\\\\n",
       "\t16 & ENSMUST00000022945 & 3.345631e-11 & 9.232058e-08 & 63.27010 &  13.315491 & 7 & 7.483690 & 0.5789344 & 0.0008690044 & 0.5780654 & 0.07774491 & 0.5780654\\\\\n",
       "\t17 & ENSMUST00000097228 & 3.348513e-11 & 9.232058e-08 & 63.26824 &  30.827146 & 7 & 5.315158 & 1.3403107 & 0.0130789123 & 1.3272318 & 0.20167668 & 1.3272318\\\\\n",
       "\t18 & ENSMUST00000160289 & 3.458060e-11 & 9.232058e-08 & 63.19852 &   7.523589 & 7 & 8.188183 & 0.3271126 & 0.0003795243 & 0.3267331 & 0.06581499 & 0.3267331\\\\\n",
       "\t19 & ENSMUST00000087557 & 3.923126e-11 & 9.922413e-08 & 62.92518 &  28.529367 & 7 & 5.824121 & 1.2404072 & 0.0069853791 & 1.2334219 & 0.15428595 & 1.2334219\\\\\n",
       "\t20 & ENSMUST00000151797 & 5.132499e-11 & 1.233211e-07 & 62.34278 & 121.141927 & 7 & 3.644737 & 5.2670403 & 0.1190867605 & 5.1479536 & 0.51106168 & 5.1479536\\\\\n",
       "\\end{tabular}\n"
      ],
      "text/markdown": [
       "\n",
       "A data.frame: 20 × 12\n",
       "\n",
       "| <!--/--> | target_id &lt;chr&gt; | pval &lt;dbl&gt; | qval &lt;dbl&gt; | test_stat &lt;dbl&gt; | rss &lt;dbl&gt; | degrees_free &lt;int&gt; | mean_obs &lt;dbl&gt; | var_obs &lt;dbl&gt; | tech_var &lt;dbl&gt; | sigma_sq &lt;dbl&gt; | smooth_sigma_sq &lt;dbl&gt; | final_sigma_sq &lt;dbl&gt; |\n",
       "|---|---|---|---|---|---|---|---|---|---|---|---|---|\n",
       "| 1 | ENSMUST00000029644 | 3.047563e-14 | 1.464506e-09 | 78.30769 |  22.208030 | 7 | 6.862515 | 0.9655665 | 0.0029059542 | 0.9626605 | 0.09593575 | 0.9626605 |\n",
       "| 2 | ENSMUST00000102763 | 1.079232e-13 | 2.593125e-09 | 75.60788 |  16.367575 | 7 | 7.556659 | 0.7116337 | 0.0008762691 | 0.7107574 | 0.07613686 | 0.7107574 |\n",
       "| 3 | ENSMUST00000006451 | 3.690048e-13 | 4.026421e-09 | 72.97684 |  20.415453 | 7 | 7.017841 | 0.8876284 | 0.0033801130 | 0.8842483 | 0.09048501 | 0.8842483 |\n",
       "| 4 | ENSMUST00000078953 | 4.004208e-13 | 4.026421e-09 | 72.80175 |  44.937222 | 7 | 5.188072 | 1.9537923 | 0.0177739637 | 1.9360183 | 0.21619344 | 1.9360183 |\n",
       "| 5 | ENSMUST00000155572 | 4.189388e-13 | 4.026421e-09 | 72.70486 |  16.652961 | 7 | 8.060573 | 0.7240418 | 0.0004519891 | 0.7235898 | 0.06742466 | 0.7235898 |\n",
       "| 6 | ENSMUST00000168900 | 6.272445e-13 | 5.023706e-09 | 71.83944 |  20.212557 | 7 | 7.059538 | 0.8788068 | 0.0019773653 | 0.8768295 | 0.08914646 | 0.8768295 |\n",
       "| 7 | ENSMUST00000136299 | 1.374398e-12 | 8.255836e-09 | 70.15534 |  26.363584 | 7 | 8.066746 | 1.1462428 | 0.0004998462 | 1.1457429 | 0.06734164 | 1.1457429 |\n",
       "| 8 | ENSMUST00000171066 | 1.212480e-12 | 8.255836e-09 | 70.42464 |  24.015087 | 7 | 9.518412 | 1.0441342 | 0.0001302209 | 1.0440040 | 0.06076378 | 1.0440040 |\n",
       "| 9 | ENSMUST00000014892 | 2.382672e-12 | 1.272214e-08 | 68.97237 |  15.942756 | 7 | 6.670008 | 0.6931633 | 0.0027184562 | 0.6904448 | 0.10375566 | 0.6904448 |\n",
       "| 10 | ENSMUST00000004949 | 4.088220e-12 | 1.964594e-08 | 67.81014 |  29.054561 | 7 | 5.892552 | 1.2632418 | 0.0066628145 | 1.2565790 | 0.14910365 | 1.2565790 |\n",
       "| 11 | ENSMUST00000032747 | 1.464767e-11 | 6.013487e-08 | 65.05687 |  60.830140 | 7 | 4.413944 | 2.6447887 | 0.0796148464 | 2.5651738 | 0.33169214 | 2.5651738 |\n",
       "| 12 | ENSMUST00000033866 | 1.501651e-11 | 6.013487e-08 | 65.00313 |  10.135222 | 7 | 7.648090 | 0.4406618 | 0.0007730289 | 0.4398888 | 0.07425387 | 0.4398888 |\n",
       "| 13 | ENSMUST00000052027 | 2.100491e-11 | 7.209936e-08 | 64.27755 |  34.417660 | 7 | 5.546691 | 1.4964200 | 0.0098973854 | 1.4865226 | 0.17804995 | 1.4865226 |\n",
       "| 14 | ENSMUST00000091190 | 2.045639e-11 | 7.209936e-08 | 64.33478 |  37.078975 | 7 | 6.135758 | 1.6121293 | 0.0060172597 | 1.6061121 | 0.13233592 | 1.6061121 |\n",
       "| 15 | ENSMUST00000002400 | 2.310938e-11 | 7.403476e-08 | 64.07100 |  16.829977 | 7 | 6.372578 | 0.7317381 | 0.0027712808 | 0.7289668 | 0.11834396 | 0.7289668 |\n",
       "| 16 | ENSMUST00000022945 | 3.345631e-11 | 9.232058e-08 | 63.27010 |  13.315491 | 7 | 7.483690 | 0.5789344 | 0.0008690044 | 0.5780654 | 0.07774491 | 0.5780654 |\n",
       "| 17 | ENSMUST00000097228 | 3.348513e-11 | 9.232058e-08 | 63.26824 |  30.827146 | 7 | 5.315158 | 1.3403107 | 0.0130789123 | 1.3272318 | 0.20167668 | 1.3272318 |\n",
       "| 18 | ENSMUST00000160289 | 3.458060e-11 | 9.232058e-08 | 63.19852 |   7.523589 | 7 | 8.188183 | 0.3271126 | 0.0003795243 | 0.3267331 | 0.06581499 | 0.3267331 |\n",
       "| 19 | ENSMUST00000087557 | 3.923126e-11 | 9.922413e-08 | 62.92518 |  28.529367 | 7 | 5.824121 | 1.2404072 | 0.0069853791 | 1.2334219 | 0.15428595 | 1.2334219 |\n",
       "| 20 | ENSMUST00000151797 | 5.132499e-11 | 1.233211e-07 | 62.34278 | 121.141927 | 7 | 3.644737 | 5.2670403 | 0.1190867605 | 5.1479536 | 0.51106168 | 5.1479536 |\n",
       "\n"
      ],
      "text/plain": [
       "   target_id          pval         qval         test_stat rss       \n",
       "1  ENSMUST00000029644 3.047563e-14 1.464506e-09 78.30769   22.208030\n",
       "2  ENSMUST00000102763 1.079232e-13 2.593125e-09 75.60788   16.367575\n",
       "3  ENSMUST00000006451 3.690048e-13 4.026421e-09 72.97684   20.415453\n",
       "4  ENSMUST00000078953 4.004208e-13 4.026421e-09 72.80175   44.937222\n",
       "5  ENSMUST00000155572 4.189388e-13 4.026421e-09 72.70486   16.652961\n",
       "6  ENSMUST00000168900 6.272445e-13 5.023706e-09 71.83944   20.212557\n",
       "7  ENSMUST00000136299 1.374398e-12 8.255836e-09 70.15534   26.363584\n",
       "8  ENSMUST00000171066 1.212480e-12 8.255836e-09 70.42464   24.015087\n",
       "9  ENSMUST00000014892 2.382672e-12 1.272214e-08 68.97237   15.942756\n",
       "10 ENSMUST00000004949 4.088220e-12 1.964594e-08 67.81014   29.054561\n",
       "11 ENSMUST00000032747 1.464767e-11 6.013487e-08 65.05687   60.830140\n",
       "12 ENSMUST00000033866 1.501651e-11 6.013487e-08 65.00313   10.135222\n",
       "13 ENSMUST00000052027 2.100491e-11 7.209936e-08 64.27755   34.417660\n",
       "14 ENSMUST00000091190 2.045639e-11 7.209936e-08 64.33478   37.078975\n",
       "15 ENSMUST00000002400 2.310938e-11 7.403476e-08 64.07100   16.829977\n",
       "16 ENSMUST00000022945 3.345631e-11 9.232058e-08 63.27010   13.315491\n",
       "17 ENSMUST00000097228 3.348513e-11 9.232058e-08 63.26824   30.827146\n",
       "18 ENSMUST00000160289 3.458060e-11 9.232058e-08 63.19852    7.523589\n",
       "19 ENSMUST00000087557 3.923126e-11 9.922413e-08 62.92518   28.529367\n",
       "20 ENSMUST00000151797 5.132499e-11 1.233211e-07 62.34278  121.141927\n",
       "   degrees_free mean_obs var_obs   tech_var     sigma_sq  smooth_sigma_sq\n",
       "1  7            6.862515 0.9655665 0.0029059542 0.9626605 0.09593575     \n",
       "2  7            7.556659 0.7116337 0.0008762691 0.7107574 0.07613686     \n",
       "3  7            7.017841 0.8876284 0.0033801130 0.8842483 0.09048501     \n",
       "4  7            5.188072 1.9537923 0.0177739637 1.9360183 0.21619344     \n",
       "5  7            8.060573 0.7240418 0.0004519891 0.7235898 0.06742466     \n",
       "6  7            7.059538 0.8788068 0.0019773653 0.8768295 0.08914646     \n",
       "7  7            8.066746 1.1462428 0.0004998462 1.1457429 0.06734164     \n",
       "8  7            9.518412 1.0441342 0.0001302209 1.0440040 0.06076378     \n",
       "9  7            6.670008 0.6931633 0.0027184562 0.6904448 0.10375566     \n",
       "10 7            5.892552 1.2632418 0.0066628145 1.2565790 0.14910365     \n",
       "11 7            4.413944 2.6447887 0.0796148464 2.5651738 0.33169214     \n",
       "12 7            7.648090 0.4406618 0.0007730289 0.4398888 0.07425387     \n",
       "13 7            5.546691 1.4964200 0.0098973854 1.4865226 0.17804995     \n",
       "14 7            6.135758 1.6121293 0.0060172597 1.6061121 0.13233592     \n",
       "15 7            6.372578 0.7317381 0.0027712808 0.7289668 0.11834396     \n",
       "16 7            7.483690 0.5789344 0.0008690044 0.5780654 0.07774491     \n",
       "17 7            5.315158 1.3403107 0.0130789123 1.3272318 0.20167668     \n",
       "18 7            8.188183 0.3271126 0.0003795243 0.3267331 0.06581499     \n",
       "19 7            5.824121 1.2404072 0.0069853791 1.2334219 0.15428595     \n",
       "20 7            3.644737 5.2670403 0.1190867605 5.1479536 0.51106168     \n",
       "   final_sigma_sq\n",
       "1  0.9626605     \n",
       "2  0.7107574     \n",
       "3  0.8842483     \n",
       "4  1.9360183     \n",
       "5  0.7235898     \n",
       "6  0.8768295     \n",
       "7  1.1457429     \n",
       "8  1.0440040     \n",
       "9  0.6904448     \n",
       "10 1.2565790     \n",
       "11 2.5651738     \n",
       "12 0.4398888     \n",
       "13 1.4865226     \n",
       "14 1.6061121     \n",
       "15 0.7289668     \n",
       "16 0.5780654     \n",
       "17 1.3272318     \n",
       "18 0.3267331     \n",
       "19 1.2334219     \n",
       "20 5.1479536     "
      ]
     },
     "metadata": {},
     "output_type": "display_data"
    }
   ],
   "source": [
    "# Getting results of test -- from pachterlab tutorial\n",
    "\n",
    "sleuth_table <- sleuth_results(so, 'reduced:full', 'lrt', show_all = FALSE)\n",
    "sleuth_significant <- dplyr::filter(sleuth_table, qval <= 0.05)\n",
    "head(sleuth_significant, 20)"
   ]
  },
  {
   "cell_type": "markdown",
   "id": "3df74d45-4081-4a2e-b08e-729950c8beca",
   "metadata": {},
   "source": [
    "Checking how many significant DE genes (transcripts)"
   ]
  },
  {
   "cell_type": "code",
   "execution_count": 25,
   "id": "c1e05372-dddd-4d81-b5c6-7a2ce38e5da9",
   "metadata": {},
   "outputs": [
    {
     "data": {
      "text/html": [
       "<style>\n",
       ".list-inline {list-style: none; margin:0; padding: 0}\n",
       ".list-inline>li {display: inline-block}\n",
       ".list-inline>li:not(:last-child)::after {content: \"\\00b7\"; padding: 0 .5ex}\n",
       "</style>\n",
       "<ol class=list-inline><li>48055</li><li>12</li></ol>\n"
      ],
      "text/latex": [
       "\\begin{enumerate*}\n",
       "\\item 48055\n",
       "\\item 12\n",
       "\\end{enumerate*}\n"
      ],
      "text/markdown": [
       "1. 48055\n",
       "2. 12\n",
       "\n",
       "\n"
      ],
      "text/plain": [
       "[1] 48055    12"
      ]
     },
     "metadata": {},
     "output_type": "display_data"
    },
    {
     "data": {
      "text/html": [
       "<style>\n",
       ".list-inline {list-style: none; margin:0; padding: 0}\n",
       ".list-inline>li {display: inline-block}\n",
       ".list-inline>li:not(:last-child)::after {content: \"\\00b7\"; padding: 0 .5ex}\n",
       "</style>\n",
       "<ol class=list-inline><li>1018</li><li>12</li></ol>\n"
      ],
      "text/latex": [
       "\\begin{enumerate*}\n",
       "\\item 1018\n",
       "\\item 12\n",
       "\\end{enumerate*}\n"
      ],
      "text/markdown": [
       "1. 1018\n",
       "2. 12\n",
       "\n",
       "\n"
      ],
      "text/plain": [
       "[1] 1018   12"
      ]
     },
     "metadata": {},
     "output_type": "display_data"
    }
   ],
   "source": [
    "dim(sleuth_table)\n",
    "dim(sleuth_significant)"
   ]
  },
  {
   "cell_type": "code",
   "execution_count": 26,
   "id": "bf30a2c5-9370-4863-a04d-1de94318d548",
   "metadata": {},
   "outputs": [
    {
     "data": {
      "text/html": [
       "0.0211840599313287"
      ],
      "text/latex": [
       "0.0211840599313287"
      ],
      "text/markdown": [
       "0.0211840599313287"
      ],
      "text/plain": [
       "[1] 0.02118406"
      ]
     },
     "metadata": {},
     "output_type": "display_data"
    }
   ],
   "source": [
    "1018/48055"
   ]
  },
  {
   "cell_type": "code",
   "execution_count": 27,
   "id": "64ed9adc-db42-473f-9054-7476a7997918",
   "metadata": {},
   "outputs": [
    {
     "data": {
      "image/png": "[encoded data removed]",
      "text/plain": [
       "plot without title"
      ]
     },
     "metadata": {
      "image/png": {
       "height": 420,
       "width": 420
      }
     },
     "output_type": "display_data"
    }
   ],
   "source": [
    "plot_bootstrap(so, \"ENSMUST00000029644\", units = \"est_counts\", color_by = \"condition\")"
   ]
  },
  {
   "cell_type": "markdown",
   "id": "05967678-2f99-414e-9ca3-0eaaa149439c",
   "metadata": {},
   "source": [
    "### Notes/Observations:\n",
    "\n",
    "These sleuth results using the likelihood ratio test may be useful for extracting significantly differentially expressed genes/transcripts. It does not directly compare two sets (for e.g. WT vs dCTCF+auxin treatment). It does still appear to be useful, the above significant gene looks like it follows an expected pattern -- where it has much lower expression in the CTCF-AID+auxin treatments sets compared to any other conditions (either WT, untreated, or washoff).\n",
    "\n",
    "Seems like a very low number of significant genes... maybe it's just that this isn't the right model, but maybe I should play around a bit more with the cutoff?\n",
    "\n",
    "I want to see if this gene shows up in Elphege's data. Looking up the RefSeq ID for this:"
   ]
  },
  {
   "cell_type": "code",
   "execution_count": 28,
   "id": "d1bfb8db-989d-46e4-84cd-dfafccfd1165",
   "metadata": {},
   "outputs": [],
   "source": [
    "refseq_ids <- read.csv(\"/scratch/pokorny/ensembl_queries_downloads/mm9_ensembl_refseq_id.csv\")"
   ]
  },
  {
   "cell_type": "code",
   "execution_count": 29,
   "id": "cec30f27-3577-4ea4-b68e-70dbf1e628ea",
   "metadata": {},
   "outputs": [
    {
     "data": {
      "text/html": [
       "<table class=\"dataframe\">\n",
       "<caption>A data.frame: 6 × 2</caption>\n",
       "<thead>\n",
       "\t<tr><th></th><th scope=col>stable_id</th><th scope=col>display_label</th></tr>\n",
       "\t<tr><th></th><th scope=col>&lt;fct&gt;</th><th scope=col>&lt;fct&gt;</th></tr>\n",
       "</thead>\n",
       "<tbody>\n",
       "\t<tr><th scope=row>1</th><td>ENSMUST00000021634</td><td>NM_013778.2   </td></tr>\n",
       "\t<tr><th scope=row>2</th><td>ENSMUST00000112933</td><td>NM_170786.2   </td></tr>\n",
       "\t<tr><th scope=row>3</th><td>ENSMUST00000189181</td><td>NM_008829.2   </td></tr>\n",
       "\t<tr><th scope=row>4</th><td>ENSMUST00000180159</td><td>NM_023127.2   </td></tr>\n",
       "\t<tr><th scope=row>5</th><td>ENSMUST00000057177</td><td>NM_001039368.1</td></tr>\n",
       "\t<tr><th scope=row>6</th><td>ENSMUST00000021772</td><td>NM_001013389.1</td></tr>\n",
       "</tbody>\n",
       "</table>\n"
      ],
      "text/latex": [
       "A data.frame: 6 × 2\n",
       "\\begin{tabular}{r|ll}\n",
       "  & stable\\_id & display\\_label\\\\\n",
       "  & <fct> & <fct>\\\\\n",
       "\\hline\n",
       "\t1 & ENSMUST00000021634 & NM\\_013778.2   \\\\\n",
       "\t2 & ENSMUST00000112933 & NM\\_170786.2   \\\\\n",
       "\t3 & ENSMUST00000189181 & NM\\_008829.2   \\\\\n",
       "\t4 & ENSMUST00000180159 & NM\\_023127.2   \\\\\n",
       "\t5 & ENSMUST00000057177 & NM\\_001039368.1\\\\\n",
       "\t6 & ENSMUST00000021772 & NM\\_001013389.1\\\\\n",
       "\\end{tabular}\n"
      ],
      "text/markdown": [
       "\n",
       "A data.frame: 6 × 2\n",
       "\n",
       "| <!--/--> | stable_id &lt;fct&gt; | display_label &lt;fct&gt; |\n",
       "|---|---|---|\n",
       "| 1 | ENSMUST00000021634 | NM_013778.2    |\n",
       "| 2 | ENSMUST00000112933 | NM_170786.2    |\n",
       "| 3 | ENSMUST00000189181 | NM_008829.2    |\n",
       "| 4 | ENSMUST00000180159 | NM_023127.2    |\n",
       "| 5 | ENSMUST00000057177 | NM_001039368.1 |\n",
       "| 6 | ENSMUST00000021772 | NM_001013389.1 |\n",
       "\n"
      ],
      "text/plain": [
       "  stable_id          display_label \n",
       "1 ENSMUST00000021634 NM_013778.2   \n",
       "2 ENSMUST00000112933 NM_170786.2   \n",
       "3 ENSMUST00000189181 NM_008829.2   \n",
       "4 ENSMUST00000180159 NM_023127.2   \n",
       "5 ENSMUST00000057177 NM_001039368.1\n",
       "6 ENSMUST00000021772 NM_001013389.1"
      ]
     },
     "metadata": {},
     "output_type": "display_data"
    }
   ],
   "source": [
    "head(refseq_ids)"
   ]
  },
  {
   "cell_type": "code",
   "execution_count": 30,
   "id": "68ff49b3-41e1-4b91-8baf-49cabfbe93dd",
   "metadata": {},
   "outputs": [
    {
     "data": {
      "text/html": [
       "<table class=\"dataframe\">\n",
       "<caption>A data.frame: 1 × 2</caption>\n",
       "<thead>\n",
       "\t<tr><th scope=col>stable_id</th><th scope=col>display_label</th></tr>\n",
       "\t<tr><th scope=col>&lt;fct&gt;</th><th scope=col>&lt;fct&gt;</th></tr>\n",
       "</thead>\n",
       "<tbody>\n",
       "\t<tr><td>ENSMUST00000029644</td><td>NM_146141.1</td></tr>\n",
       "</tbody>\n",
       "</table>\n"
      ],
      "text/latex": [
       "A data.frame: 1 × 2\n",
       "\\begin{tabular}{ll}\n",
       " stable\\_id & display\\_label\\\\\n",
       " <fct> & <fct>\\\\\n",
       "\\hline\n",
       "\t ENSMUST00000029644 & NM\\_146141.1\\\\\n",
       "\\end{tabular}\n"
      ],
      "text/markdown": [
       "\n",
       "A data.frame: 1 × 2\n",
       "\n",
       "| stable_id &lt;fct&gt; | display_label &lt;fct&gt; |\n",
       "|---|---|\n",
       "| ENSMUST00000029644 | NM_146141.1 |\n",
       "\n"
      ],
      "text/plain": [
       "  stable_id          display_label\n",
       "1 ENSMUST00000029644 NM_146141.1  "
      ]
     },
     "metadata": {},
     "output_type": "display_data"
    }
   ],
   "source": [
    "refseq_ids %>% filter(stable_id == \"ENSMUST00000029644\")"
   ]
  },
  {
   "cell_type": "markdown",
   "id": "8c093ee1-1886-4de4-bace-0f740aad8ebe",
   "metadata": {},
   "source": [
    "### Notes/observations:\n",
    "\n",
    "Looked up transcript tracking ID on ensembl website and found transcript names/RefSeq transcript IDs --> these did not have any matches in suppl. 10, but the gene name \"Ppa2\" matched suppl 10 tracking_id (so genes are likely the way to go).\n",
    "\n",
    "Looks like the rough bootstrap plot matches up with the called_differentially_expressed column.\n",
    "\n",
    "However, I looked up a handful of others and none of the ids on the ensembl result page (transcript id or gene id) match an entry in suppl. table 10.\n",
    "\n",
    "I'll try other models to look at WT vs CTCF, and gene-level analysis is probably needed."
   ]
  },
  {
   "cell_type": "markdown",
   "id": "933f3e1a-f8ab-4256-85d2-caf69f0eb191",
   "metadata": {},
   "source": [
    "## Wald Test for each individual conditions\n",
    "\n",
    "Specify which_beta = the condition that we want to compare against the base level. \n",
    "\n",
    "Going to use 2-days auxin treatment at first and do some analysis, but will want to add a test fo reach of the conditions we're looking into here. \n"
   ]
  },
  {
   "cell_type": "markdown",
   "id": "12e2535a-b268-4029-a32c-03466624989b",
   "metadata": {},
   "source": [
    "sleuth_wt: Wald test for a sleuth model\n",
    "\n",
    "`sleuth_wt(obj, which_beta, which_model = \"full\")`\n",
    "* computes the Wald test on one specific 'beta' coefficient on every transcript.\n",
    "* WT is used becase it generates the beta statistic, which approximates to the log2 fold change in expression between the 2 condition tested\n",
    "* sleuth does not \n"
   ]
  },
  {
   "cell_type": "code",
   "execution_count": 31,
   "id": "23f3e85f-eeea-466d-8ab9-16cc6675dcca",
   "metadata": {},
   "outputs": [
    {
     "name": "stdout",
     "output_type": "stream",
     "text": [
      "[  full  ]\n",
      "formula:  ~condition \n",
      "data modeled:  obs_counts \n",
      "transform sync'ed:  TRUE \n",
      "coefficients:\n",
      "\t(Intercept)\n",
      " \tcondition RNA-seq_CTCF-AID_auxin1day\n",
      " \tcondition RNA-seq_CTCF-AID_auxin2days\n",
      " \tcondition RNA-seq_CTCF-AID_auxin4days\n",
      " \tcondition RNA-seq_CTCF-AID_washoff2days\n",
      " \tcondition RNA-seq_WT-untagged_auxin2days\n",
      " \tcondition RNA-seq_WT-untagged_auxin4days\n",
      " \tcondition RNA-seq_WT-untagged_untreated\n",
      "[  reduced  ]\n",
      "formula:  ~1 \n",
      "data modeled:  obs_counts \n",
      "transform sync'ed:  TRUE \n",
      "coefficients:\n",
      "\t(Intercept)\n"
     ]
    }
   ],
   "source": [
    "models(so)"
   ]
  },
  {
   "cell_type": "code",
   "execution_count": 32,
   "id": "ad60f8f5-1eb5-4fe9-917f-d1bb2c73ed56",
   "metadata": {},
   "outputs": [],
   "source": [
    "# specify which_beta = the condition that we want to compare against. Use 2-days auxin treatment for now \n",
    "so <- sleuth_wt(so, which_beta = 'condition RNA-seq_CTCF-AID_auxin2days')"
   ]
  },
  {
   "cell_type": "code",
   "execution_count": 33,
   "id": "d9f39885-8199-4d00-90c1-f36aedf52d8b",
   "metadata": {},
   "outputs": [],
   "source": [
    "sleuth_results_wt <- sleuth_results(so, \n",
    "                                    test = 'condition RNA-seq_CTCF-AID_auxin2days', \n",
    "                                    show_all = TRUE)"
   ]
  },
  {
   "cell_type": "code",
   "execution_count": 34,
   "id": "a067506a-a053-49ad-a159-c860ce997c21",
   "metadata": {},
   "outputs": [
    {
     "data": {
      "text/html": [
       "<table class=\"dataframe\">\n",
       "<caption>A data.frame: 20 × 11</caption>\n",
       "<thead>\n",
       "\t<tr><th></th><th scope=col>target_id</th><th scope=col>pval</th><th scope=col>qval</th><th scope=col>b</th><th scope=col>se_b</th><th scope=col>mean_obs</th><th scope=col>var_obs</th><th scope=col>tech_var</th><th scope=col>sigma_sq</th><th scope=col>smooth_sigma_sq</th><th scope=col>final_sigma_sq</th></tr>\n",
       "\t<tr><th></th><th scope=col>&lt;chr&gt;</th><th scope=col>&lt;dbl&gt;</th><th scope=col>&lt;dbl&gt;</th><th scope=col>&lt;dbl&gt;</th><th scope=col>&lt;dbl&gt;</th><th scope=col>&lt;dbl&gt;</th><th scope=col>&lt;dbl&gt;</th><th scope=col>&lt;dbl&gt;</th><th scope=col>&lt;dbl&gt;</th><th scope=col>&lt;dbl&gt;</th><th scope=col>&lt;dbl&gt;</th></tr>\n",
       "</thead>\n",
       "<tbody>\n",
       "\t<tr><th scope=row>1</th><td>ENSMUST00000006451</td><td>1.310202e-19</td><td>6.296178e-15</td><td>-2.076555</td><td>0.2292124</td><td>7.017841</td><td>0.8876284</td><td>0.0033801130</td><td> 0.03671444</td><td>0.07542735</td><td>0.07542735</td></tr>\n",
       "\t<tr><th scope=row>2</th><td>ENSMUST00000168900</td><td>4.730789e-18</td><td>1.136690e-13</td><td>-1.952073</td><td>0.2254208</td><td>7.059538</td><td>0.8788068</td><td>0.0019773653</td><td> 0.04489230</td><td>0.07424445</td><td>0.07424445</td></tr>\n",
       "\t<tr><th scope=row>3</th><td>ENSMUST00000029644</td><td>5.032497e-17</td><td>8.061221e-13</td><td>-1.974098</td><td>0.2354059</td><td>6.862515</td><td>0.9655665</td><td>0.0029059542</td><td> 0.01553460</td><td>0.08021792</td><td>0.08021792</td></tr>\n",
       "\t<tr><th scope=row>4</th><td>ENSMUST00000102763</td><td>3.508500e-16</td><td>4.215025e-12</td><td>-1.679309</td><td>0.2059385</td><td>7.556659</td><td>0.7116337</td><td>0.0008762691</td><td> 0.02037499</td><td>0.06273970</td><td>0.06273970</td></tr>\n",
       "\t<tr><th scope=row>5</th><td>ENSMUST00000078953</td><td>1.415829e-15</td><td>1.360753e-11</td><td>-2.970831</td><td>0.3720947</td><td>5.188072</td><td>1.9537923</td><td>0.0177739637</td><td> 0.03407843</td><td>0.18990770</td><td>0.18990770</td></tr>\n",
       "\t<tr><th scope=row>6</th><td>ENSMUST00000087557</td><td>3.485095e-15</td><td>2.791271e-11</td><td>-2.395991</td><td>0.3043618</td><td>5.824121</td><td>1.2404072</td><td>0.0069853791</td><td> 0.10254561</td><td>0.13196877</td><td>0.13196877</td></tr>\n",
       "\t<tr><th scope=row>7</th><td>ENSMUST00000171066</td><td>6.435442e-15</td><td>3.865690e-11</td><td> 1.735006</td><td>0.2225763</td><td>9.518412</td><td>1.0441342</td><td>0.0001302209</td><td> 0.07418011</td><td>0.04829636</td><td>0.07418011</td></tr>\n",
       "\t<tr><th scope=row>8</th><td>ENSMUST00000155572</td><td>5.652235e-15</td><td>3.865690e-11</td><td> 1.501574</td><td>0.1922266</td><td>8.060573</td><td>0.7240418</td><td>0.0004519891</td><td> 0.04101434</td><td>0.05497463</td><td>0.05497463</td></tr>\n",
       "\t<tr><th scope=row>9</th><td>ENSMUST00000151797</td><td>6.857866e-14</td><td>3.661719e-10</td><td>-4.770005</td><td>0.6368019</td><td>3.644737</td><td>5.2670403</td><td>0.1190867605</td><td> 0.35474197</td><td>0.48918818</td><td>0.48918818</td></tr>\n",
       "\t<tr><th scope=row>10</th><td>ENSMUST00000034097</td><td>9.811040e-14</td><td>4.714695e-10</td><td>-1.353943</td><td>0.1818979</td><td>8.730232</td><td>0.4182998</td><td>0.0002998160</td><td> 0.03687634</td><td>0.04933048</td><td>0.04933048</td></tr>\n",
       "\t<tr><th scope=row>11</th><td>ENSMUST00000108830</td><td>1.827492e-13</td><td>7.983650e-10</td><td>-6.382005</td><td>0.8670207</td><td>3.389990</td><td>8.9131355</td><td>0.2951307665</td><td> 0.83245665</td><td>0.57447928</td><td>0.83245665</td></tr>\n",
       "\t<tr><th scope=row>12</th><td>ENSMUST00000166009</td><td>2.759838e-13</td><td>1.105200e-09</td><td>-6.661807</td><td>0.9118738</td><td>4.895332</td><td>5.7848326</td><td>1.0209887781</td><td>-0.47091181</td><td>0.22628205</td><td>0.22628205</td></tr>\n",
       "\t<tr><th scope=row>13</th><td>ENSMUST00000136299</td><td>1.689450e-12</td><td>6.245115e-09</td><td> 1.655221</td><td>0.2345177</td><td>8.066746</td><td>1.1462428</td><td>0.0004998462</td><td> 0.08199801</td><td>0.05489996</td><td>0.08199801</td></tr>\n",
       "\t<tr><th scope=row>14</th><td>ENSMUST00000044165</td><td>3.334226e-12</td><td>1.144473e-08</td><td>-2.198717</td><td>0.3157777</td><td>5.680464</td><td>0.8600059</td><td>0.0068378432</td><td> 0.12630813</td><td>0.14273546</td><td>0.14273546</td></tr>\n",
       "\t<tr><th scope=row>15</th><td>ENSMUST00000004949</td><td>3.693121e-12</td><td>1.183153e-08</td><td>-2.076178</td><td>0.2987971</td><td>5.892552</td><td>1.2632418</td><td>0.0066628145</td><td> 0.06909039</td><td>0.12725675</td><td>0.12725675</td></tr>\n",
       "\t<tr><th scope=row>16</th><td>ENSMUST00000002400</td><td>4.131083e-12</td><td>1.240745e-08</td><td>-1.813146</td><td>0.2615382</td><td>6.372578</td><td>0.7317381</td><td>0.0027712808</td><td> 0.03620680</td><td>0.09983205</td><td>0.09983205</td></tr>\n",
       "\t<tr><th scope=row>17</th><td>ENSMUST00000037728</td><td>4.543173e-12</td><td>1.284248e-08</td><td> 2.308970</td><td>0.3337065</td><td>5.500272</td><td>0.9349855</td><td>0.0089590120</td><td> 0.03324911</td><td>0.15808100</td><td>0.15808100</td></tr>\n",
       "\t<tr><th scope=row>18</th><td>ENSMUST00000014892</td><td>9.156650e-12</td><td>2.444571e-08</td><td>-1.668260</td><td>0.2446426</td><td>6.670008</td><td>0.6931633</td><td>0.0027184562</td><td> 0.01457809</td><td>0.08705654</td><td>0.08705654</td></tr>\n",
       "\t<tr><th scope=row>19</th><td>ENSMUST00000032839</td><td>3.658720e-11</td><td>9.253673e-08</td><td>-1.950045</td><td>0.2946898</td><td>5.913418</td><td>0.8208856</td><td>0.0043996734</td><td> 0.05702484</td><td>0.12586348</td><td>0.12586348</td></tr>\n",
       "\t<tr><th scope=row>20</th><td>ENSMUST00000103213</td><td>4.581543e-11</td><td>1.100830e-07</td><td>-1.715928</td><td>0.2606234</td><td>7.236000</td><td>0.6812121</td><td>0.0015262437</td><td> 0.10036061</td><td>0.06965481</td><td>0.10036061</td></tr>\n",
       "</tbody>\n",
       "</table>\n"
      ],
      "text/latex": [
       "A data.frame: 20 × 11\n",
       "\\begin{tabular}{r|lllllllllll}\n",
       "  & target\\_id & pval & qval & b & se\\_b & mean\\_obs & var\\_obs & tech\\_var & sigma\\_sq & smooth\\_sigma\\_sq & final\\_sigma\\_sq\\\\\n",
       "  & <chr> & <dbl> & <dbl> & <dbl> & <dbl> & <dbl> & <dbl> & <dbl> & <dbl> & <dbl> & <dbl>\\\\\n",
       "\\hline\n",
       "\t1 & ENSMUST00000006451 & 1.310202e-19 & 6.296178e-15 & -2.076555 & 0.2292124 & 7.017841 & 0.8876284 & 0.0033801130 &  0.03671444 & 0.07542735 & 0.07542735\\\\\n",
       "\t2 & ENSMUST00000168900 & 4.730789e-18 & 1.136690e-13 & -1.952073 & 0.2254208 & 7.059538 & 0.8788068 & 0.0019773653 &  0.04489230 & 0.07424445 & 0.07424445\\\\\n",
       "\t3 & ENSMUST00000029644 & 5.032497e-17 & 8.061221e-13 & -1.974098 & 0.2354059 & 6.862515 & 0.9655665 & 0.0029059542 &  0.01553460 & 0.08021792 & 0.08021792\\\\\n",
       "\t4 & ENSMUST00000102763 & 3.508500e-16 & 4.215025e-12 & -1.679309 & 0.2059385 & 7.556659 & 0.7116337 & 0.0008762691 &  0.02037499 & 0.06273970 & 0.06273970\\\\\n",
       "\t5 & ENSMUST00000078953 & 1.415829e-15 & 1.360753e-11 & -2.970831 & 0.3720947 & 5.188072 & 1.9537923 & 0.0177739637 &  0.03407843 & 0.18990770 & 0.18990770\\\\\n",
       "\t6 & ENSMUST00000087557 & 3.485095e-15 & 2.791271e-11 & -2.395991 & 0.3043618 & 5.824121 & 1.2404072 & 0.0069853791 &  0.10254561 & 0.13196877 & 0.13196877\\\\\n",
       "\t7 & ENSMUST00000171066 & 6.435442e-15 & 3.865690e-11 &  1.735006 & 0.2225763 & 9.518412 & 1.0441342 & 0.0001302209 &  0.07418011 & 0.04829636 & 0.07418011\\\\\n",
       "\t8 & ENSMUST00000155572 & 5.652235e-15 & 3.865690e-11 &  1.501574 & 0.1922266 & 8.060573 & 0.7240418 & 0.0004519891 &  0.04101434 & 0.05497463 & 0.05497463\\\\\n",
       "\t9 & ENSMUST00000151797 & 6.857866e-14 & 3.661719e-10 & -4.770005 & 0.6368019 & 3.644737 & 5.2670403 & 0.1190867605 &  0.35474197 & 0.48918818 & 0.48918818\\\\\n",
       "\t10 & ENSMUST00000034097 & 9.811040e-14 & 4.714695e-10 & -1.353943 & 0.1818979 & 8.730232 & 0.4182998 & 0.0002998160 &  0.03687634 & 0.04933048 & 0.04933048\\\\\n",
       "\t11 & ENSMUST00000108830 & 1.827492e-13 & 7.983650e-10 & -6.382005 & 0.8670207 & 3.389990 & 8.9131355 & 0.2951307665 &  0.83245665 & 0.57447928 & 0.83245665\\\\\n",
       "\t12 & ENSMUST00000166009 & 2.759838e-13 & 1.105200e-09 & -6.661807 & 0.9118738 & 4.895332 & 5.7848326 & 1.0209887781 & -0.47091181 & 0.22628205 & 0.22628205\\\\\n",
       "\t13 & ENSMUST00000136299 & 1.689450e-12 & 6.245115e-09 &  1.655221 & 0.2345177 & 8.066746 & 1.1462428 & 0.0004998462 &  0.08199801 & 0.05489996 & 0.08199801\\\\\n",
       "\t14 & ENSMUST00000044165 & 3.334226e-12 & 1.144473e-08 & -2.198717 & 0.3157777 & 5.680464 & 0.8600059 & 0.0068378432 &  0.12630813 & 0.14273546 & 0.14273546\\\\\n",
       "\t15 & ENSMUST00000004949 & 3.693121e-12 & 1.183153e-08 & -2.076178 & 0.2987971 & 5.892552 & 1.2632418 & 0.0066628145 &  0.06909039 & 0.12725675 & 0.12725675\\\\\n",
       "\t16 & ENSMUST00000002400 & 4.131083e-12 & 1.240745e-08 & -1.813146 & 0.2615382 & 6.372578 & 0.7317381 & 0.0027712808 &  0.03620680 & 0.09983205 & 0.09983205\\\\\n",
       "\t17 & ENSMUST00000037728 & 4.543173e-12 & 1.284248e-08 &  2.308970 & 0.3337065 & 5.500272 & 0.9349855 & 0.0089590120 &  0.03324911 & 0.15808100 & 0.15808100\\\\\n",
       "\t18 & ENSMUST00000014892 & 9.156650e-12 & 2.444571e-08 & -1.668260 & 0.2446426 & 6.670008 & 0.6931633 & 0.0027184562 &  0.01457809 & 0.08705654 & 0.08705654\\\\\n",
       "\t19 & ENSMUST00000032839 & 3.658720e-11 & 9.253673e-08 & -1.950045 & 0.2946898 & 5.913418 & 0.8208856 & 0.0043996734 &  0.05702484 & 0.12586348 & 0.12586348\\\\\n",
       "\t20 & ENSMUST00000103213 & 4.581543e-11 & 1.100830e-07 & -1.715928 & 0.2606234 & 7.236000 & 0.6812121 & 0.0015262437 &  0.10036061 & 0.06965481 & 0.10036061\\\\\n",
       "\\end{tabular}\n"
      ],
      "text/markdown": [
       "\n",
       "A data.frame: 20 × 11\n",
       "\n",
       "| <!--/--> | target_id &lt;chr&gt; | pval &lt;dbl&gt; | qval &lt;dbl&gt; | b &lt;dbl&gt; | se_b &lt;dbl&gt; | mean_obs &lt;dbl&gt; | var_obs &lt;dbl&gt; | tech_var &lt;dbl&gt; | sigma_sq &lt;dbl&gt; | smooth_sigma_sq &lt;dbl&gt; | final_sigma_sq &lt;dbl&gt; |\n",
       "|---|---|---|---|---|---|---|---|---|---|---|---|\n",
       "| 1 | ENSMUST00000006451 | 1.310202e-19 | 6.296178e-15 | -2.076555 | 0.2292124 | 7.017841 | 0.8876284 | 0.0033801130 |  0.03671444 | 0.07542735 | 0.07542735 |\n",
       "| 2 | ENSMUST00000168900 | 4.730789e-18 | 1.136690e-13 | -1.952073 | 0.2254208 | 7.059538 | 0.8788068 | 0.0019773653 |  0.04489230 | 0.07424445 | 0.07424445 |\n",
       "| 3 | ENSMUST00000029644 | 5.032497e-17 | 8.061221e-13 | -1.974098 | 0.2354059 | 6.862515 | 0.9655665 | 0.0029059542 |  0.01553460 | 0.08021792 | 0.08021792 |\n",
       "| 4 | ENSMUST00000102763 | 3.508500e-16 | 4.215025e-12 | -1.679309 | 0.2059385 | 7.556659 | 0.7116337 | 0.0008762691 |  0.02037499 | 0.06273970 | 0.06273970 |\n",
       "| 5 | ENSMUST00000078953 | 1.415829e-15 | 1.360753e-11 | -2.970831 | 0.3720947 | 5.188072 | 1.9537923 | 0.0177739637 |  0.03407843 | 0.18990770 | 0.18990770 |\n",
       "| 6 | ENSMUST00000087557 | 3.485095e-15 | 2.791271e-11 | -2.395991 | 0.3043618 | 5.824121 | 1.2404072 | 0.0069853791 |  0.10254561 | 0.13196877 | 0.13196877 |\n",
       "| 7 | ENSMUST00000171066 | 6.435442e-15 | 3.865690e-11 |  1.735006 | 0.2225763 | 9.518412 | 1.0441342 | 0.0001302209 |  0.07418011 | 0.04829636 | 0.07418011 |\n",
       "| 8 | ENSMUST00000155572 | 5.652235e-15 | 3.865690e-11 |  1.501574 | 0.1922266 | 8.060573 | 0.7240418 | 0.0004519891 |  0.04101434 | 0.05497463 | 0.05497463 |\n",
       "| 9 | ENSMUST00000151797 | 6.857866e-14 | 3.661719e-10 | -4.770005 | 0.6368019 | 3.644737 | 5.2670403 | 0.1190867605 |  0.35474197 | 0.48918818 | 0.48918818 |\n",
       "| 10 | ENSMUST00000034097 | 9.811040e-14 | 4.714695e-10 | -1.353943 | 0.1818979 | 8.730232 | 0.4182998 | 0.0002998160 |  0.03687634 | 0.04933048 | 0.04933048 |\n",
       "| 11 | ENSMUST00000108830 | 1.827492e-13 | 7.983650e-10 | -6.382005 | 0.8670207 | 3.389990 | 8.9131355 | 0.2951307665 |  0.83245665 | 0.57447928 | 0.83245665 |\n",
       "| 12 | ENSMUST00000166009 | 2.759838e-13 | 1.105200e-09 | -6.661807 | 0.9118738 | 4.895332 | 5.7848326 | 1.0209887781 | -0.47091181 | 0.22628205 | 0.22628205 |\n",
       "| 13 | ENSMUST00000136299 | 1.689450e-12 | 6.245115e-09 |  1.655221 | 0.2345177 | 8.066746 | 1.1462428 | 0.0004998462 |  0.08199801 | 0.05489996 | 0.08199801 |\n",
       "| 14 | ENSMUST00000044165 | 3.334226e-12 | 1.144473e-08 | -2.198717 | 0.3157777 | 5.680464 | 0.8600059 | 0.0068378432 |  0.12630813 | 0.14273546 | 0.14273546 |\n",
       "| 15 | ENSMUST00000004949 | 3.693121e-12 | 1.183153e-08 | -2.076178 | 0.2987971 | 5.892552 | 1.2632418 | 0.0066628145 |  0.06909039 | 0.12725675 | 0.12725675 |\n",
       "| 16 | ENSMUST00000002400 | 4.131083e-12 | 1.240745e-08 | -1.813146 | 0.2615382 | 6.372578 | 0.7317381 | 0.0027712808 |  0.03620680 | 0.09983205 | 0.09983205 |\n",
       "| 17 | ENSMUST00000037728 | 4.543173e-12 | 1.284248e-08 |  2.308970 | 0.3337065 | 5.500272 | 0.9349855 | 0.0089590120 |  0.03324911 | 0.15808100 | 0.15808100 |\n",
       "| 18 | ENSMUST00000014892 | 9.156650e-12 | 2.444571e-08 | -1.668260 | 0.2446426 | 6.670008 | 0.6931633 | 0.0027184562 |  0.01457809 | 0.08705654 | 0.08705654 |\n",
       "| 19 | ENSMUST00000032839 | 3.658720e-11 | 9.253673e-08 | -1.950045 | 0.2946898 | 5.913418 | 0.8208856 | 0.0043996734 |  0.05702484 | 0.12586348 | 0.12586348 |\n",
       "| 20 | ENSMUST00000103213 | 4.581543e-11 | 1.100830e-07 | -1.715928 | 0.2606234 | 7.236000 | 0.6812121 | 0.0015262437 |  0.10036061 | 0.06965481 | 0.10036061 |\n",
       "\n"
      ],
      "text/plain": [
       "   target_id          pval         qval         b         se_b      mean_obs\n",
       "1  ENSMUST00000006451 1.310202e-19 6.296178e-15 -2.076555 0.2292124 7.017841\n",
       "2  ENSMUST00000168900 4.730789e-18 1.136690e-13 -1.952073 0.2254208 7.059538\n",
       "3  ENSMUST00000029644 5.032497e-17 8.061221e-13 -1.974098 0.2354059 6.862515\n",
       "4  ENSMUST00000102763 3.508500e-16 4.215025e-12 -1.679309 0.2059385 7.556659\n",
       "5  ENSMUST00000078953 1.415829e-15 1.360753e-11 -2.970831 0.3720947 5.188072\n",
       "6  ENSMUST00000087557 3.485095e-15 2.791271e-11 -2.395991 0.3043618 5.824121\n",
       "7  ENSMUST00000171066 6.435442e-15 3.865690e-11  1.735006 0.2225763 9.518412\n",
       "8  ENSMUST00000155572 5.652235e-15 3.865690e-11  1.501574 0.1922266 8.060573\n",
       "9  ENSMUST00000151797 6.857866e-14 3.661719e-10 -4.770005 0.6368019 3.644737\n",
       "10 ENSMUST00000034097 9.811040e-14 4.714695e-10 -1.353943 0.1818979 8.730232\n",
       "11 ENSMUST00000108830 1.827492e-13 7.983650e-10 -6.382005 0.8670207 3.389990\n",
       "12 ENSMUST00000166009 2.759838e-13 1.105200e-09 -6.661807 0.9118738 4.895332\n",
       "13 ENSMUST00000136299 1.689450e-12 6.245115e-09  1.655221 0.2345177 8.066746\n",
       "14 ENSMUST00000044165 3.334226e-12 1.144473e-08 -2.198717 0.3157777 5.680464\n",
       "15 ENSMUST00000004949 3.693121e-12 1.183153e-08 -2.076178 0.2987971 5.892552\n",
       "16 ENSMUST00000002400 4.131083e-12 1.240745e-08 -1.813146 0.2615382 6.372578\n",
       "17 ENSMUST00000037728 4.543173e-12 1.284248e-08  2.308970 0.3337065 5.500272\n",
       "18 ENSMUST00000014892 9.156650e-12 2.444571e-08 -1.668260 0.2446426 6.670008\n",
       "19 ENSMUST00000032839 3.658720e-11 9.253673e-08 -1.950045 0.2946898 5.913418\n",
       "20 ENSMUST00000103213 4.581543e-11 1.100830e-07 -1.715928 0.2606234 7.236000\n",
       "   var_obs   tech_var     sigma_sq    smooth_sigma_sq final_sigma_sq\n",
       "1  0.8876284 0.0033801130  0.03671444 0.07542735      0.07542735    \n",
       "2  0.8788068 0.0019773653  0.04489230 0.07424445      0.07424445    \n",
       "3  0.9655665 0.0029059542  0.01553460 0.08021792      0.08021792    \n",
       "4  0.7116337 0.0008762691  0.02037499 0.06273970      0.06273970    \n",
       "5  1.9537923 0.0177739637  0.03407843 0.18990770      0.18990770    \n",
       "6  1.2404072 0.0069853791  0.10254561 0.13196877      0.13196877    \n",
       "7  1.0441342 0.0001302209  0.07418011 0.04829636      0.07418011    \n",
       "8  0.7240418 0.0004519891  0.04101434 0.05497463      0.05497463    \n",
       "9  5.2670403 0.1190867605  0.35474197 0.48918818      0.48918818    \n",
       "10 0.4182998 0.0002998160  0.03687634 0.04933048      0.04933048    \n",
       "11 8.9131355 0.2951307665  0.83245665 0.57447928      0.83245665    \n",
       "12 5.7848326 1.0209887781 -0.47091181 0.22628205      0.22628205    \n",
       "13 1.1462428 0.0004998462  0.08199801 0.05489996      0.08199801    \n",
       "14 0.8600059 0.0068378432  0.12630813 0.14273546      0.14273546    \n",
       "15 1.2632418 0.0066628145  0.06909039 0.12725675      0.12725675    \n",
       "16 0.7317381 0.0027712808  0.03620680 0.09983205      0.09983205    \n",
       "17 0.9349855 0.0089590120  0.03324911 0.15808100      0.15808100    \n",
       "18 0.6931633 0.0027184562  0.01457809 0.08705654      0.08705654    \n",
       "19 0.8208856 0.0043996734  0.05702484 0.12586348      0.12586348    \n",
       "20 0.6812121 0.0015262437  0.10036061 0.06965481      0.10036061    "
      ]
     },
     "metadata": {},
     "output_type": "display_data"
    },
    {
     "data": {
      "text/html": [
       "<style>\n",
       ".list-inline {list-style: none; margin:0; padding: 0}\n",
       ".list-inline>li {display: inline-block}\n",
       ".list-inline>li:not(:last-child)::after {content: \"\\00b7\"; padding: 0 .5ex}\n",
       "</style>\n",
       "<ol class=list-inline><li>88366</li><li>11</li></ol>\n"
      ],
      "text/latex": [
       "\\begin{enumerate*}\n",
       "\\item 88366\n",
       "\\item 11\n",
       "\\end{enumerate*}\n"
      ],
      "text/markdown": [
       "1. 88366\n",
       "2. 11\n",
       "\n",
       "\n"
      ],
      "text/plain": [
       "[1] 88366    11"
      ]
     },
     "metadata": {},
     "output_type": "display_data"
    }
   ],
   "source": [
    "head(sleuth_results_wt, 20)\n",
    "dim(sleuth_results_wt)"
   ]
  },
  {
   "cell_type": "markdown",
   "id": "93335003-9a7b-449a-9245-d6339d758ddf",
   "metadata": {},
   "source": [
    "Note:\n",
    "\n",
    "The output represents the results from the differential expression testing with the following columns:\n",
    "\n",
    "- target_id: the Ensembl transcript ID\n",
    "- pval: the Wald test FDR adjusted pvalue using Benjamini-Hochberg\n",
    "- qval: the p-value adjusted for multiple test correction\n",
    "- b: beta value, which is the log2 fold changes between conditions (These are log2 b/c we specified log2 transformation in the sleuth_prep() step. By default, these would have been natural log fold changes).\n",
    "- se_b: standard error of the beta value\n",
    "- mean_obs: the mean expression (log2) of the transcript across all samples\n",
    "- var_obs: the biological variance of the expression\n",
    "- tech_var: the technical variance of expression (derived from the bootstraps)\n",
    "- sigma_sq: raw estimator of the variance once the technical variance has been removed\n",
    "- smooth_sigma_sq: the smooth regression fit for the shrinkage estimation\n",
    "- final_sigma_sq: max(sigma_sq, smooth_sigma_sq). this is the one used for covariance estimation of beta (in addition to tech_var)\n",
    "- ens_gene: associated Ensembl gene ID\n",
    "- ext_gene: associated gene symbol"
   ]
  },
  {
   "cell_type": "code",
   "execution_count": 35,
   "id": "4113ed64-9b70-45b4-83c8-a4b0ba664fe7",
   "metadata": {},
   "outputs": [],
   "source": [
    "sleuth_results_wt <- sleuth_results(so, \n",
    "                                    test = 'condition RNA-seq_CTCF-AID_auxin2days', \n",
    "                                    show_all = TRUE)"
   ]
  },
  {
   "cell_type": "code",
   "execution_count": 36,
   "id": "2a15d730-37a7-4936-8dfa-3b6c2facda51",
   "metadata": {},
   "outputs": [
    {
     "data": {
      "text/html": [
       "<table class=\"dataframe\">\n",
       "<caption>A data.frame: 351 × 11</caption>\n",
       "<thead>\n",
       "\t<tr><th scope=col>target_id</th><th scope=col>pval</th><th scope=col>qval</th><th scope=col>b</th><th scope=col>se_b</th><th scope=col>mean_obs</th><th scope=col>var_obs</th><th scope=col>tech_var</th><th scope=col>sigma_sq</th><th scope=col>smooth_sigma_sq</th><th scope=col>final_sigma_sq</th></tr>\n",
       "\t<tr><th scope=col>&lt;chr&gt;</th><th scope=col>&lt;dbl&gt;</th><th scope=col>&lt;dbl&gt;</th><th scope=col>&lt;dbl&gt;</th><th scope=col>&lt;dbl&gt;</th><th scope=col>&lt;dbl&gt;</th><th scope=col>&lt;dbl&gt;</th><th scope=col>&lt;dbl&gt;</th><th scope=col>&lt;dbl&gt;</th><th scope=col>&lt;dbl&gt;</th><th scope=col>&lt;dbl&gt;</th></tr>\n",
       "</thead>\n",
       "<tbody>\n",
       "\t<tr><td>ENSMUST00000006451</td><td>1.310202e-19</td><td>6.296178e-15</td><td>-2.076555</td><td>0.2292124</td><td>7.017841</td><td>0.8876284</td><td>0.0033801130</td><td> 0.036714444</td><td>0.07542735</td><td>0.07542735</td></tr>\n",
       "\t<tr><td>ENSMUST00000168900</td><td>4.730789e-18</td><td>1.136690e-13</td><td>-1.952073</td><td>0.2254208</td><td>7.059538</td><td>0.8788068</td><td>0.0019773653</td><td> 0.044892297</td><td>0.07424445</td><td>0.07424445</td></tr>\n",
       "\t<tr><td>ENSMUST00000029644</td><td>5.032497e-17</td><td>8.061221e-13</td><td>-1.974098</td><td>0.2354059</td><td>6.862515</td><td>0.9655665</td><td>0.0029059542</td><td> 0.015534599</td><td>0.08021792</td><td>0.08021792</td></tr>\n",
       "\t<tr><td>ENSMUST00000102763</td><td>3.508500e-16</td><td>4.215025e-12</td><td>-1.679309</td><td>0.2059385</td><td>7.556659</td><td>0.7116337</td><td>0.0008762691</td><td> 0.020374987</td><td>0.06273970</td><td>0.06273970</td></tr>\n",
       "\t<tr><td>ENSMUST00000078953</td><td>1.415829e-15</td><td>1.360753e-11</td><td>-2.970831</td><td>0.3720947</td><td>5.188072</td><td>1.9537923</td><td>0.0177739637</td><td> 0.034078426</td><td>0.18990770</td><td>0.18990770</td></tr>\n",
       "\t<tr><td>ENSMUST00000087557</td><td>3.485095e-15</td><td>2.791271e-11</td><td>-2.395991</td><td>0.3043618</td><td>5.824121</td><td>1.2404072</td><td>0.0069853791</td><td> 0.102545612</td><td>0.13196877</td><td>0.13196877</td></tr>\n",
       "\t<tr><td>ENSMUST00000171066</td><td>6.435442e-15</td><td>3.865690e-11</td><td> 1.735006</td><td>0.2225763</td><td>9.518412</td><td>1.0441342</td><td>0.0001302209</td><td> 0.074180110</td><td>0.04829636</td><td>0.07418011</td></tr>\n",
       "\t<tr><td>ENSMUST00000155572</td><td>5.652235e-15</td><td>3.865690e-11</td><td> 1.501574</td><td>0.1922266</td><td>8.060573</td><td>0.7240418</td><td>0.0004519891</td><td> 0.041014343</td><td>0.05497463</td><td>0.05497463</td></tr>\n",
       "\t<tr><td>ENSMUST00000151797</td><td>6.857866e-14</td><td>3.661719e-10</td><td>-4.770005</td><td>0.6368019</td><td>3.644737</td><td>5.2670403</td><td>0.1190867605</td><td> 0.354741972</td><td>0.48918818</td><td>0.48918818</td></tr>\n",
       "\t<tr><td>ENSMUST00000034097</td><td>9.811040e-14</td><td>4.714695e-10</td><td>-1.353943</td><td>0.1818979</td><td>8.730232</td><td>0.4182998</td><td>0.0002998160</td><td> 0.036876336</td><td>0.04933048</td><td>0.04933048</td></tr>\n",
       "\t<tr><td>ENSMUST00000108830</td><td>1.827492e-13</td><td>7.983650e-10</td><td>-6.382005</td><td>0.8670207</td><td>3.389990</td><td>8.9131355</td><td>0.2951307665</td><td> 0.832456651</td><td>0.57447928</td><td>0.83245665</td></tr>\n",
       "\t<tr><td>ENSMUST00000166009</td><td>2.759838e-13</td><td>1.105200e-09</td><td>-6.661807</td><td>0.9118738</td><td>4.895332</td><td>5.7848326</td><td>1.0209887781</td><td>-0.470911809</td><td>0.22628205</td><td>0.22628205</td></tr>\n",
       "\t<tr><td>ENSMUST00000136299</td><td>1.689450e-12</td><td>6.245115e-09</td><td> 1.655221</td><td>0.2345177</td><td>8.066746</td><td>1.1462428</td><td>0.0004998462</td><td> 0.081998005</td><td>0.05489996</td><td>0.08199801</td></tr>\n",
       "\t<tr><td>ENSMUST00000044165</td><td>3.334226e-12</td><td>1.144473e-08</td><td>-2.198717</td><td>0.3157777</td><td>5.680464</td><td>0.8600059</td><td>0.0068378432</td><td> 0.126308129</td><td>0.14273546</td><td>0.14273546</td></tr>\n",
       "\t<tr><td>ENSMUST00000004949</td><td>3.693121e-12</td><td>1.183153e-08</td><td>-2.076178</td><td>0.2987971</td><td>5.892552</td><td>1.2632418</td><td>0.0066628145</td><td> 0.069090391</td><td>0.12725675</td><td>0.12725675</td></tr>\n",
       "\t<tr><td>ENSMUST00000002400</td><td>4.131083e-12</td><td>1.240745e-08</td><td>-1.813146</td><td>0.2615382</td><td>6.372578</td><td>0.7317381</td><td>0.0027712808</td><td> 0.036206802</td><td>0.09983205</td><td>0.09983205</td></tr>\n",
       "\t<tr><td>ENSMUST00000037728</td><td>4.543173e-12</td><td>1.284248e-08</td><td> 2.308970</td><td>0.3337065</td><td>5.500272</td><td>0.9349855</td><td>0.0089590120</td><td> 0.033249109</td><td>0.15808100</td><td>0.15808100</td></tr>\n",
       "\t<tr><td>ENSMUST00000014892</td><td>9.156650e-12</td><td>2.444571e-08</td><td>-1.668260</td><td>0.2446426</td><td>6.670008</td><td>0.6931633</td><td>0.0027184562</td><td> 0.014578095</td><td>0.08705654</td><td>0.08705654</td></tr>\n",
       "\t<tr><td>ENSMUST00000032839</td><td>3.658720e-11</td><td>9.253673e-08</td><td>-1.950045</td><td>0.2946898</td><td>5.913418</td><td>0.8208856</td><td>0.0043996734</td><td> 0.057024841</td><td>0.12586348</td><td>0.12586348</td></tr>\n",
       "\t<tr><td>ENSMUST00000103213</td><td>4.581543e-11</td><td>1.100830e-07</td><td>-1.715928</td><td>0.2606234</td><td>7.236000</td><td>0.6812121</td><td>0.0015262437</td><td> 0.100360612</td><td>0.06965481</td><td>0.10036061</td></tr>\n",
       "\t<tr><td>ENSMUST00000102617</td><td>3.105004e-10</td><td>7.105284e-07</td><td>-1.565532</td><td>0.2487560</td><td>6.963113</td><td>0.6341977</td><td>0.0016935201</td><td> 0.091125823</td><td>0.07704499</td><td>0.09112582</td></tr>\n",
       "\t<tr><td>ENSMUST00000022945</td><td>3.258723e-10</td><td>7.118088e-07</td><td>-1.308862</td><td>0.2082204</td><td>7.483690</td><td>0.5789344</td><td>0.0008690044</td><td> 0.048722111</td><td>0.06416462</td><td>0.06416462</td></tr>\n",
       "\t<tr><td>ENSMUST00000063562</td><td>3.846170e-10</td><td>8.035987e-07</td><td>-1.467452</td><td>0.2344117</td><td>6.844074</td><td>0.4638727</td><td>0.0015948071</td><td> 0.024043504</td><td>0.08082846</td><td>0.08082846</td></tr>\n",
       "\t<tr><td>ENSMUST00000075175</td><td>4.295420e-10</td><td>8.600683e-07</td><td>-1.848694</td><td>0.2961276</td><td>6.553820</td><td>0.7888796</td><td>0.0041369895</td><td> 0.127400325</td><td>0.09170934</td><td>0.12740033</td></tr>\n",
       "\t<tr><td>ENSMUST00000096093</td><td>1.005283e-09</td><td>1.932355e-06</td><td> 2.154342</td><td>0.3526753</td><td>5.326163</td><td>1.3343192</td><td>0.0115916829</td><td> 0.092528017</td><td>0.17497815</td><td>0.17497815</td></tr>\n",
       "\t<tr><td>ENSMUST00000136501</td><td>1.250540e-09</td><td>2.311335e-06</td><td>-2.273283</td><td>0.3742876</td><td>5.146253</td><td>1.0271403</td><td>0.0154318070</td><td> 0.170772007</td><td>0.19470503</td><td>0.19470503</td></tr>\n",
       "\t<tr><td>ENSMUST00000054287</td><td>2.167780e-09</td><td>3.858247e-06</td><td>-1.952072</td><td>0.3261766</td><td>5.560342</td><td>0.8627186</td><td>0.0068568311</td><td> 0.053861386</td><td>0.15272992</td><td>0.15272992</td></tr>\n",
       "\t<tr><td>ENSMUST00000160289</td><td>3.059729e-09</td><td>5.251260e-06</td><td>-1.123806</td><td>0.1895644</td><td>8.188183</td><td>0.3271126</td><td>0.0003795243</td><td> 0.009985718</td><td>0.05352247</td><td>0.05352247</td></tr>\n",
       "\t<tr><td>ENSMUST00000148284</td><td>4.972672e-09</td><td>8.240060e-06</td><td> 1.947862</td><td>0.3330770</td><td>5.503529</td><td>1.2607013</td><td>0.0086256724</td><td> 0.130567109</td><td>0.15778474</td><td>0.15778474</td></tr>\n",
       "\t<tr><td>ENSMUST00000097228</td><td>8.713699e-09</td><td>1.395789e-05</td><td> 2.043541</td><td>0.3551491</td><td>5.315158</td><td>1.3403107</td><td>0.0130789123</td><td> 0.066391527</td><td>0.17611745</td><td>0.17611745</td></tr>\n",
       "\t<tr><td>⋮</td><td>⋮</td><td>⋮</td><td>⋮</td><td>⋮</td><td>⋮</td><td>⋮</td><td>⋮</td><td>⋮</td><td>⋮</td><td>⋮</td></tr>\n",
       "\t<tr><td>ENSMUST00000139118</td><td>0.001211110</td><td>0.1803116</td><td>-4.3143295</td><td>1.3331259</td><td>1.857107</td><td>4.3222087</td><td>1.3095560443</td><td>1.35628104</td><td>1.04679559</td><td>1.35628104</td></tr>\n",
       "\t<tr><td>ENSMUST00000102536</td><td>0.001211958</td><td>0.1803116</td><td>-0.5946696</td><td>0.1837640</td><td>8.666552</td><td>0.2004128</td><td>0.0009861002</td><td>0.03687196</td><td>0.04966770</td><td>0.04966770</td></tr>\n",
       "\t<tr><td>ENSMUST00000112393</td><td>0.001273564</td><td>0.1888924</td><td> 1.0384279</td><td>0.3223059</td><td>5.591612</td><td>0.2869356</td><td>0.0057829715</td><td>0.04098612</td><td>0.15003863</td><td>0.15003863</td></tr>\n",
       "\t<tr><td>ENSMUST00000026159</td><td>0.001281355</td><td>0.1894631</td><td> 2.7360159</td><td>0.8496619</td><td>2.457163</td><td>1.1897204</td><td>0.2120882251</td><td>0.47950730</td><td>0.87079973</td><td>0.87079973</td></tr>\n",
       "\t<tr><td>ENSMUST00000099225</td><td>0.001291746</td><td>0.1904136</td><td> 0.6455717</td><td>0.2006247</td><td>7.785201</td><td>0.1405090</td><td>0.0015844590</td><td>0.03142632</td><td>0.05879095</td><td>0.05879095</td></tr>\n",
       "\t<tr><td>ENSMUST00000111415</td><td>0.001305756</td><td>0.1907238</td><td> 3.3246931</td><td>1.0342119</td><td>3.632281</td><td>3.2133462</td><td>0.2578689990</td><td>1.34652251</td><td>0.49312756</td><td>1.34652251</td></tr>\n",
       "\t<tr><td>ENSMUST00000108760</td><td>0.001305756</td><td>0.1907238</td><td> 3.3246931</td><td>1.0342119</td><td>3.632281</td><td>3.2133462</td><td>0.2578689990</td><td>1.34652251</td><td>0.49312756</td><td>1.34652251</td></tr>\n",
       "\t<tr><td>ENSMUST00000045487</td><td>0.001304958</td><td>0.1907238</td><td>-1.0417445</td><td>0.3240377</td><td>5.628573</td><td>0.5990337</td><td>0.0105613353</td><td>0.13395147</td><td>0.14693926</td><td>0.14693926</td></tr>\n",
       "\t<tr><td>ENSMUST00000171280</td><td>0.001317970</td><td>0.1907682</td><td> 1.4932975</td><td>0.4649066</td><td>4.437640</td><td>0.9677143</td><td>0.0247180053</td><td>0.17636061</td><td>0.29948917</td><td>0.29948917</td></tr>\n",
       "\t<tr><td>ENSMUST00000160529</td><td>0.001314945</td><td>0.1907682</td><td>-1.2665854</td><td>0.3942435</td><td>6.123914</td><td>0.4658428</td><td>0.0088482896</td><td>0.22429366</td><td>0.11287841</td><td>0.22429366</td></tr>\n",
       "\t<tr><td>ENSMUST00000041030</td><td>0.001312045</td><td>0.1907682</td><td>-1.9363580</td><td>0.6026013</td><td>3.655650</td><td>0.5587772</td><td>0.0589264549</td><td>0.17158662</td><td>0.48576603</td><td>0.48576603</td></tr>\n",
       "\t<tr><td>ENSMUST00000120805</td><td>0.001341585</td><td>0.1932791</td><td> 3.1908266</td><td>0.9949778</td><td>3.648155</td><td>1.9175214</td><td>0.4165605886</td><td>1.06841074</td><td>0.48811332</td><td>1.06841074</td></tr>\n",
       "\t<tr><td>ENSMUST00000078528</td><td>0.001343361</td><td>0.1932791</td><td>-0.7099811</td><td>0.2214158</td><td>9.144608</td><td>0.1627189</td><td>0.0001931869</td><td>0.07334423</td><td>0.04807385</td><td>0.07334423</td></tr>\n",
       "\t<tr><td>ENSMUST00000170223</td><td>0.001363958</td><td>0.1933642</td><td>-3.9523709</td><td>1.2342784</td><td>1.380086</td><td>3.8903432</td><td>1.1241894493</td><td>1.02325532</td><td>1.16097528</td><td>1.16097528</td></tr>\n",
       "\t<tr><td>ENSMUST00000051401</td><td>0.001372119</td><td>0.1933642</td><td> 0.9509376</td><td>0.2971260</td><td>7.932121</td><td>0.4508036</td><td>0.0005028354</td><td>0.13192293</td><td>0.05663429</td><td>0.13192293</td></tr>\n",
       "\t<tr><td>ENSMUST00000028950</td><td>0.001365448</td><td>0.1933642</td><td> 1.1059204</td><td>0.3453997</td><td>5.344685</td><td>0.2895964</td><td>0.0058712958</td><td>0.04715525</td><td>0.17308012</td><td>0.17308012</td></tr>\n",
       "\t<tr><td>ENSMUST00000144734</td><td>0.001369456</td><td>0.1933642</td><td>-0.8573850</td><td>0.2678481</td><td>6.603325</td><td>0.2381280</td><td>0.0179376681</td><td>0.03422873</td><td>0.08967621</td><td>0.08967621</td></tr>\n",
       "\t<tr><td>ENSMUST00000003643</td><td>0.001356563</td><td>0.1933642</td><td> 1.6532950</td><td>0.5160520</td><td>4.075886</td><td>0.9414712</td><td>0.0232937281</td><td>0.29214196</td><td>0.37617080</td><td>0.37617080</td></tr>\n",
       "\t<tr><td>ENSMUST00000021550</td><td>0.001359332</td><td>0.1933642</td><td> 1.3271975</td><td>0.4143414</td><td>4.764455</td><td>0.8048935</td><td>0.0128149820</td><td>0.08817206</td><td>0.24470316</td><td>0.24470316</td></tr>\n",
       "\t<tr><td>ENSMUST00000076362</td><td>0.001353872</td><td>0.1933642</td><td>-0.8860553</td><td>0.2765199</td><td>6.461345</td><td>0.1870093</td><td>0.0189780376</td><td>0.08877535</td><td>0.09571688</td><td>0.09571688</td></tr>\n",
       "\t<tr><td>ENSMUST00000035852</td><td>0.001412180</td><td>0.1969106</td><td>-0.6678047</td><td>0.2092022</td><td>7.456020</td><td>0.1263707</td><td>0.0009213756</td><td>0.05675948</td><td>0.06472694</td><td>0.06472694</td></tr>\n",
       "\t<tr><td>ENSMUST00000004428</td><td>0.001413675</td><td>0.1969106</td><td> 0.7522924</td><td>0.2356921</td><td>6.976450</td><td>0.2512584</td><td>0.0017846392</td><td>0.08154149</td><td>0.07664386</td><td>0.08154149</td></tr>\n",
       "\t<tr><td>ENSMUST00000032910</td><td>0.001402582</td><td>0.1969106</td><td> 0.5801871</td><td>0.1816423</td><td>8.748104</td><td>0.3359031</td><td>0.0002479910</td><td>0.02933850</td><td>0.04924289</td><td>0.04924289</td></tr>\n",
       "\t<tr><td>ENSMUST00000058981</td><td>0.001410378</td><td>0.1969106</td><td> 1.4455639</td><td>0.4527973</td><td>4.729880</td><td>0.6271540</td><td>0.0577381343</td><td>0.03480620</td><td>0.24979995</td><td>0.24979995</td></tr>\n",
       "\t<tr><td>ENSMUST00000033741</td><td>0.001418929</td><td>0.1970711</td><td> 2.2085600</td><td>0.6921709</td><td>3.769515</td><td>1.4373322</td><td>0.0647495732</td><td>0.65390128</td><td>0.45190244</td><td>0.65390128</td></tr>\n",
       "\t<tr><td>ENSMUST00000168064</td><td>0.001423172</td><td>0.1970909</td><td> 1.1541031</td><td>0.3617980</td><td>5.188293</td><td>0.4298574</td><td>0.0064640560</td><td>0.04843454</td><td>0.18988267</td><td>0.18988267</td></tr>\n",
       "\t<tr><td>ENSMUST00000122067</td><td>0.001435651</td><td>0.1982477</td><td> 3.6025591</td><td>1.1302551</td><td>2.238417</td><td>4.3127327</td><td>0.9789932621</td><td>0.76471344</td><td>0.93722153</td><td>0.93722153</td></tr>\n",
       "\t<tr><td>ENSMUST00000024894</td><td>0.001452936</td><td>0.1989197</td><td> 2.0011969</td><td>0.6285318</td><td>4.032124</td><td>1.2925636</td><td>0.2062153454</td><td>0.14335274</td><td>0.38636296</td><td>0.38636296</td></tr>\n",
       "\t<tr><td>ENSMUST00000120401</td><td>0.001452652</td><td>0.1989197</td><td> 3.0573922</td><td>0.9602424</td><td>1.819800</td><td>2.3442587</td><td>0.3263502393</td><td>0.50114591</td><td>1.05674786</td><td>1.05674786</td></tr>\n",
       "\t<tr><td>ENSMUST00000078952</td><td>0.001452652</td><td>0.1989197</td><td> 3.0573922</td><td>0.9602424</td><td>1.819800</td><td>2.3442587</td><td>0.3263502393</td><td>0.50114591</td><td>1.05674786</td><td>1.05674786</td></tr>\n",
       "</tbody>\n",
       "</table>\n"
      ],
      "text/latex": [
       "A data.frame: 351 × 11\n",
       "\\begin{tabular}{lllllllllll}\n",
       " target\\_id & pval & qval & b & se\\_b & mean\\_obs & var\\_obs & tech\\_var & sigma\\_sq & smooth\\_sigma\\_sq & final\\_sigma\\_sq\\\\\n",
       " <chr> & <dbl> & <dbl> & <dbl> & <dbl> & <dbl> & <dbl> & <dbl> & <dbl> & <dbl> & <dbl>\\\\\n",
       "\\hline\n",
       "\t ENSMUST00000006451 & 1.310202e-19 & 6.296178e-15 & -2.076555 & 0.2292124 & 7.017841 & 0.8876284 & 0.0033801130 &  0.036714444 & 0.07542735 & 0.07542735\\\\\n",
       "\t ENSMUST00000168900 & 4.730789e-18 & 1.136690e-13 & -1.952073 & 0.2254208 & 7.059538 & 0.8788068 & 0.0019773653 &  0.044892297 & 0.07424445 & 0.07424445\\\\\n",
       "\t ENSMUST00000029644 & 5.032497e-17 & 8.061221e-13 & -1.974098 & 0.2354059 & 6.862515 & 0.9655665 & 0.0029059542 &  0.015534599 & 0.08021792 & 0.08021792\\\\\n",
       "\t ENSMUST00000102763 & 3.508500e-16 & 4.215025e-12 & -1.679309 & 0.2059385 & 7.556659 & 0.7116337 & 0.0008762691 &  0.020374987 & 0.06273970 & 0.06273970\\\\\n",
       "\t ENSMUST00000078953 & 1.415829e-15 & 1.360753e-11 & -2.970831 & 0.3720947 & 5.188072 & 1.9537923 & 0.0177739637 &  0.034078426 & 0.18990770 & 0.18990770\\\\\n",
       "\t ENSMUST00000087557 & 3.485095e-15 & 2.791271e-11 & -2.395991 & 0.3043618 & 5.824121 & 1.2404072 & 0.0069853791 &  0.102545612 & 0.13196877 & 0.13196877\\\\\n",
       "\t ENSMUST00000171066 & 6.435442e-15 & 3.865690e-11 &  1.735006 & 0.2225763 & 9.518412 & 1.0441342 & 0.0001302209 &  0.074180110 & 0.04829636 & 0.07418011\\\\\n",
       "\t ENSMUST00000155572 & 5.652235e-15 & 3.865690e-11 &  1.501574 & 0.1922266 & 8.060573 & 0.7240418 & 0.0004519891 &  0.041014343 & 0.05497463 & 0.05497463\\\\\n",
       "\t ENSMUST00000151797 & 6.857866e-14 & 3.661719e-10 & -4.770005 & 0.6368019 & 3.644737 & 5.2670403 & 0.1190867605 &  0.354741972 & 0.48918818 & 0.48918818\\\\\n",
       "\t ENSMUST00000034097 & 9.811040e-14 & 4.714695e-10 & -1.353943 & 0.1818979 & 8.730232 & 0.4182998 & 0.0002998160 &  0.036876336 & 0.04933048 & 0.04933048\\\\\n",
       "\t ENSMUST00000108830 & 1.827492e-13 & 7.983650e-10 & -6.382005 & 0.8670207 & 3.389990 & 8.9131355 & 0.2951307665 &  0.832456651 & 0.57447928 & 0.83245665\\\\\n",
       "\t ENSMUST00000166009 & 2.759838e-13 & 1.105200e-09 & -6.661807 & 0.9118738 & 4.895332 & 5.7848326 & 1.0209887781 & -0.470911809 & 0.22628205 & 0.22628205\\\\\n",
       "\t ENSMUST00000136299 & 1.689450e-12 & 6.245115e-09 &  1.655221 & 0.2345177 & 8.066746 & 1.1462428 & 0.0004998462 &  0.081998005 & 0.05489996 & 0.08199801\\\\\n",
       "\t ENSMUST00000044165 & 3.334226e-12 & 1.144473e-08 & -2.198717 & 0.3157777 & 5.680464 & 0.8600059 & 0.0068378432 &  0.126308129 & 0.14273546 & 0.14273546\\\\\n",
       "\t ENSMUST00000004949 & 3.693121e-12 & 1.183153e-08 & -2.076178 & 0.2987971 & 5.892552 & 1.2632418 & 0.0066628145 &  0.069090391 & 0.12725675 & 0.12725675\\\\\n",
       "\t ENSMUST00000002400 & 4.131083e-12 & 1.240745e-08 & -1.813146 & 0.2615382 & 6.372578 & 0.7317381 & 0.0027712808 &  0.036206802 & 0.09983205 & 0.09983205\\\\\n",
       "\t ENSMUST00000037728 & 4.543173e-12 & 1.284248e-08 &  2.308970 & 0.3337065 & 5.500272 & 0.9349855 & 0.0089590120 &  0.033249109 & 0.15808100 & 0.15808100\\\\\n",
       "\t ENSMUST00000014892 & 9.156650e-12 & 2.444571e-08 & -1.668260 & 0.2446426 & 6.670008 & 0.6931633 & 0.0027184562 &  0.014578095 & 0.08705654 & 0.08705654\\\\\n",
       "\t ENSMUST00000032839 & 3.658720e-11 & 9.253673e-08 & -1.950045 & 0.2946898 & 5.913418 & 0.8208856 & 0.0043996734 &  0.057024841 & 0.12586348 & 0.12586348\\\\\n",
       "\t ENSMUST00000103213 & 4.581543e-11 & 1.100830e-07 & -1.715928 & 0.2606234 & 7.236000 & 0.6812121 & 0.0015262437 &  0.100360612 & 0.06965481 & 0.10036061\\\\\n",
       "\t ENSMUST00000102617 & 3.105004e-10 & 7.105284e-07 & -1.565532 & 0.2487560 & 6.963113 & 0.6341977 & 0.0016935201 &  0.091125823 & 0.07704499 & 0.09112582\\\\\n",
       "\t ENSMUST00000022945 & 3.258723e-10 & 7.118088e-07 & -1.308862 & 0.2082204 & 7.483690 & 0.5789344 & 0.0008690044 &  0.048722111 & 0.06416462 & 0.06416462\\\\\n",
       "\t ENSMUST00000063562 & 3.846170e-10 & 8.035987e-07 & -1.467452 & 0.2344117 & 6.844074 & 0.4638727 & 0.0015948071 &  0.024043504 & 0.08082846 & 0.08082846\\\\\n",
       "\t ENSMUST00000075175 & 4.295420e-10 & 8.600683e-07 & -1.848694 & 0.2961276 & 6.553820 & 0.7888796 & 0.0041369895 &  0.127400325 & 0.09170934 & 0.12740033\\\\\n",
       "\t ENSMUST00000096093 & 1.005283e-09 & 1.932355e-06 &  2.154342 & 0.3526753 & 5.326163 & 1.3343192 & 0.0115916829 &  0.092528017 & 0.17497815 & 0.17497815\\\\\n",
       "\t ENSMUST00000136501 & 1.250540e-09 & 2.311335e-06 & -2.273283 & 0.3742876 & 5.146253 & 1.0271403 & 0.0154318070 &  0.170772007 & 0.19470503 & 0.19470503\\\\\n",
       "\t ENSMUST00000054287 & 2.167780e-09 & 3.858247e-06 & -1.952072 & 0.3261766 & 5.560342 & 0.8627186 & 0.0068568311 &  0.053861386 & 0.15272992 & 0.15272992\\\\\n",
       "\t ENSMUST00000160289 & 3.059729e-09 & 5.251260e-06 & -1.123806 & 0.1895644 & 8.188183 & 0.3271126 & 0.0003795243 &  0.009985718 & 0.05352247 & 0.05352247\\\\\n",
       "\t ENSMUST00000148284 & 4.972672e-09 & 8.240060e-06 &  1.947862 & 0.3330770 & 5.503529 & 1.2607013 & 0.0086256724 &  0.130567109 & 0.15778474 & 0.15778474\\\\\n",
       "\t ENSMUST00000097228 & 8.713699e-09 & 1.395789e-05 &  2.043541 & 0.3551491 & 5.315158 & 1.3403107 & 0.0130789123 &  0.066391527 & 0.17611745 & 0.17611745\\\\\n",
       "\t ⋮ & ⋮ & ⋮ & ⋮ & ⋮ & ⋮ & ⋮ & ⋮ & ⋮ & ⋮ & ⋮\\\\\n",
       "\t ENSMUST00000139118 & 0.001211110 & 0.1803116 & -4.3143295 & 1.3331259 & 1.857107 & 4.3222087 & 1.3095560443 & 1.35628104 & 1.04679559 & 1.35628104\\\\\n",
       "\t ENSMUST00000102536 & 0.001211958 & 0.1803116 & -0.5946696 & 0.1837640 & 8.666552 & 0.2004128 & 0.0009861002 & 0.03687196 & 0.04966770 & 0.04966770\\\\\n",
       "\t ENSMUST00000112393 & 0.001273564 & 0.1888924 &  1.0384279 & 0.3223059 & 5.591612 & 0.2869356 & 0.0057829715 & 0.04098612 & 0.15003863 & 0.15003863\\\\\n",
       "\t ENSMUST00000026159 & 0.001281355 & 0.1894631 &  2.7360159 & 0.8496619 & 2.457163 & 1.1897204 & 0.2120882251 & 0.47950730 & 0.87079973 & 0.87079973\\\\\n",
       "\t ENSMUST00000099225 & 0.001291746 & 0.1904136 &  0.6455717 & 0.2006247 & 7.785201 & 0.1405090 & 0.0015844590 & 0.03142632 & 0.05879095 & 0.05879095\\\\\n",
       "\t ENSMUST00000111415 & 0.001305756 & 0.1907238 &  3.3246931 & 1.0342119 & 3.632281 & 3.2133462 & 0.2578689990 & 1.34652251 & 0.49312756 & 1.34652251\\\\\n",
       "\t ENSMUST00000108760 & 0.001305756 & 0.1907238 &  3.3246931 & 1.0342119 & 3.632281 & 3.2133462 & 0.2578689990 & 1.34652251 & 0.49312756 & 1.34652251\\\\\n",
       "\t ENSMUST00000045487 & 0.001304958 & 0.1907238 & -1.0417445 & 0.3240377 & 5.628573 & 0.5990337 & 0.0105613353 & 0.13395147 & 0.14693926 & 0.14693926\\\\\n",
       "\t ENSMUST00000171280 & 0.001317970 & 0.1907682 &  1.4932975 & 0.4649066 & 4.437640 & 0.9677143 & 0.0247180053 & 0.17636061 & 0.29948917 & 0.29948917\\\\\n",
       "\t ENSMUST00000160529 & 0.001314945 & 0.1907682 & -1.2665854 & 0.3942435 & 6.123914 & 0.4658428 & 0.0088482896 & 0.22429366 & 0.11287841 & 0.22429366\\\\\n",
       "\t ENSMUST00000041030 & 0.001312045 & 0.1907682 & -1.9363580 & 0.6026013 & 3.655650 & 0.5587772 & 0.0589264549 & 0.17158662 & 0.48576603 & 0.48576603\\\\\n",
       "\t ENSMUST00000120805 & 0.001341585 & 0.1932791 &  3.1908266 & 0.9949778 & 3.648155 & 1.9175214 & 0.4165605886 & 1.06841074 & 0.48811332 & 1.06841074\\\\\n",
       "\t ENSMUST00000078528 & 0.001343361 & 0.1932791 & -0.7099811 & 0.2214158 & 9.144608 & 0.1627189 & 0.0001931869 & 0.07334423 & 0.04807385 & 0.07334423\\\\\n",
       "\t ENSMUST00000170223 & 0.001363958 & 0.1933642 & -3.9523709 & 1.2342784 & 1.380086 & 3.8903432 & 1.1241894493 & 1.02325532 & 1.16097528 & 1.16097528\\\\\n",
       "\t ENSMUST00000051401 & 0.001372119 & 0.1933642 &  0.9509376 & 0.2971260 & 7.932121 & 0.4508036 & 0.0005028354 & 0.13192293 & 0.05663429 & 0.13192293\\\\\n",
       "\t ENSMUST00000028950 & 0.001365448 & 0.1933642 &  1.1059204 & 0.3453997 & 5.344685 & 0.2895964 & 0.0058712958 & 0.04715525 & 0.17308012 & 0.17308012\\\\\n",
       "\t ENSMUST00000144734 & 0.001369456 & 0.1933642 & -0.8573850 & 0.2678481 & 6.603325 & 0.2381280 & 0.0179376681 & 0.03422873 & 0.08967621 & 0.08967621\\\\\n",
       "\t ENSMUST00000003643 & 0.001356563 & 0.1933642 &  1.6532950 & 0.5160520 & 4.075886 & 0.9414712 & 0.0232937281 & 0.29214196 & 0.37617080 & 0.37617080\\\\\n",
       "\t ENSMUST00000021550 & 0.001359332 & 0.1933642 &  1.3271975 & 0.4143414 & 4.764455 & 0.8048935 & 0.0128149820 & 0.08817206 & 0.24470316 & 0.24470316\\\\\n",
       "\t ENSMUST00000076362 & 0.001353872 & 0.1933642 & -0.8860553 & 0.2765199 & 6.461345 & 0.1870093 & 0.0189780376 & 0.08877535 & 0.09571688 & 0.09571688\\\\\n",
       "\t ENSMUST00000035852 & 0.001412180 & 0.1969106 & -0.6678047 & 0.2092022 & 7.456020 & 0.1263707 & 0.0009213756 & 0.05675948 & 0.06472694 & 0.06472694\\\\\n",
       "\t ENSMUST00000004428 & 0.001413675 & 0.1969106 &  0.7522924 & 0.2356921 & 6.976450 & 0.2512584 & 0.0017846392 & 0.08154149 & 0.07664386 & 0.08154149\\\\\n",
       "\t ENSMUST00000032910 & 0.001402582 & 0.1969106 &  0.5801871 & 0.1816423 & 8.748104 & 0.3359031 & 0.0002479910 & 0.02933850 & 0.04924289 & 0.04924289\\\\\n",
       "\t ENSMUST00000058981 & 0.001410378 & 0.1969106 &  1.4455639 & 0.4527973 & 4.729880 & 0.6271540 & 0.0577381343 & 0.03480620 & 0.24979995 & 0.24979995\\\\\n",
       "\t ENSMUST00000033741 & 0.001418929 & 0.1970711 &  2.2085600 & 0.6921709 & 3.769515 & 1.4373322 & 0.0647495732 & 0.65390128 & 0.45190244 & 0.65390128\\\\\n",
       "\t ENSMUST00000168064 & 0.001423172 & 0.1970909 &  1.1541031 & 0.3617980 & 5.188293 & 0.4298574 & 0.0064640560 & 0.04843454 & 0.18988267 & 0.18988267\\\\\n",
       "\t ENSMUST00000122067 & 0.001435651 & 0.1982477 &  3.6025591 & 1.1302551 & 2.238417 & 4.3127327 & 0.9789932621 & 0.76471344 & 0.93722153 & 0.93722153\\\\\n",
       "\t ENSMUST00000024894 & 0.001452936 & 0.1989197 &  2.0011969 & 0.6285318 & 4.032124 & 1.2925636 & 0.2062153454 & 0.14335274 & 0.38636296 & 0.38636296\\\\\n",
       "\t ENSMUST00000120401 & 0.001452652 & 0.1989197 &  3.0573922 & 0.9602424 & 1.819800 & 2.3442587 & 0.3263502393 & 0.50114591 & 1.05674786 & 1.05674786\\\\\n",
       "\t ENSMUST00000078952 & 0.001452652 & 0.1989197 &  3.0573922 & 0.9602424 & 1.819800 & 2.3442587 & 0.3263502393 & 0.50114591 & 1.05674786 & 1.05674786\\\\\n",
       "\\end{tabular}\n"
      ],
      "text/markdown": [
       "\n",
       "A data.frame: 351 × 11\n",
       "\n",
       "| target_id &lt;chr&gt; | pval &lt;dbl&gt; | qval &lt;dbl&gt; | b &lt;dbl&gt; | se_b &lt;dbl&gt; | mean_obs &lt;dbl&gt; | var_obs &lt;dbl&gt; | tech_var &lt;dbl&gt; | sigma_sq &lt;dbl&gt; | smooth_sigma_sq &lt;dbl&gt; | final_sigma_sq &lt;dbl&gt; |\n",
       "|---|---|---|---|---|---|---|---|---|---|---|\n",
       "| ENSMUST00000006451 | 1.310202e-19 | 6.296178e-15 | -2.076555 | 0.2292124 | 7.017841 | 0.8876284 | 0.0033801130 |  0.036714444 | 0.07542735 | 0.07542735 |\n",
       "| ENSMUST00000168900 | 4.730789e-18 | 1.136690e-13 | -1.952073 | 0.2254208 | 7.059538 | 0.8788068 | 0.0019773653 |  0.044892297 | 0.07424445 | 0.07424445 |\n",
       "| ENSMUST00000029644 | 5.032497e-17 | 8.061221e-13 | -1.974098 | 0.2354059 | 6.862515 | 0.9655665 | 0.0029059542 |  0.015534599 | 0.08021792 | 0.08021792 |\n",
       "| ENSMUST00000102763 | 3.508500e-16 | 4.215025e-12 | -1.679309 | 0.2059385 | 7.556659 | 0.7116337 | 0.0008762691 |  0.020374987 | 0.06273970 | 0.06273970 |\n",
       "| ENSMUST00000078953 | 1.415829e-15 | 1.360753e-11 | -2.970831 | 0.3720947 | 5.188072 | 1.9537923 | 0.0177739637 |  0.034078426 | 0.18990770 | 0.18990770 |\n",
       "| ENSMUST00000087557 | 3.485095e-15 | 2.791271e-11 | -2.395991 | 0.3043618 | 5.824121 | 1.2404072 | 0.0069853791 |  0.102545612 | 0.13196877 | 0.13196877 |\n",
       "| ENSMUST00000171066 | 6.435442e-15 | 3.865690e-11 |  1.735006 | 0.2225763 | 9.518412 | 1.0441342 | 0.0001302209 |  0.074180110 | 0.04829636 | 0.07418011 |\n",
       "| ENSMUST00000155572 | 5.652235e-15 | 3.865690e-11 |  1.501574 | 0.1922266 | 8.060573 | 0.7240418 | 0.0004519891 |  0.041014343 | 0.05497463 | 0.05497463 |\n",
       "| ENSMUST00000151797 | 6.857866e-14 | 3.661719e-10 | -4.770005 | 0.6368019 | 3.644737 | 5.2670403 | 0.1190867605 |  0.354741972 | 0.48918818 | 0.48918818 |\n",
       "| ENSMUST00000034097 | 9.811040e-14 | 4.714695e-10 | -1.353943 | 0.1818979 | 8.730232 | 0.4182998 | 0.0002998160 |  0.036876336 | 0.04933048 | 0.04933048 |\n",
       "| ENSMUST00000108830 | 1.827492e-13 | 7.983650e-10 | -6.382005 | 0.8670207 | 3.389990 | 8.9131355 | 0.2951307665 |  0.832456651 | 0.57447928 | 0.83245665 |\n",
       "| ENSMUST00000166009 | 2.759838e-13 | 1.105200e-09 | -6.661807 | 0.9118738 | 4.895332 | 5.7848326 | 1.0209887781 | -0.470911809 | 0.22628205 | 0.22628205 |\n",
       "| ENSMUST00000136299 | 1.689450e-12 | 6.245115e-09 |  1.655221 | 0.2345177 | 8.066746 | 1.1462428 | 0.0004998462 |  0.081998005 | 0.05489996 | 0.08199801 |\n",
       "| ENSMUST00000044165 | 3.334226e-12 | 1.144473e-08 | -2.198717 | 0.3157777 | 5.680464 | 0.8600059 | 0.0068378432 |  0.126308129 | 0.14273546 | 0.14273546 |\n",
       "| ENSMUST00000004949 | 3.693121e-12 | 1.183153e-08 | -2.076178 | 0.2987971 | 5.892552 | 1.2632418 | 0.0066628145 |  0.069090391 | 0.12725675 | 0.12725675 |\n",
       "| ENSMUST00000002400 | 4.131083e-12 | 1.240745e-08 | -1.813146 | 0.2615382 | 6.372578 | 0.7317381 | 0.0027712808 |  0.036206802 | 0.09983205 | 0.09983205 |\n",
       "| ENSMUST00000037728 | 4.543173e-12 | 1.284248e-08 |  2.308970 | 0.3337065 | 5.500272 | 0.9349855 | 0.0089590120 |  0.033249109 | 0.15808100 | 0.15808100 |\n",
       "| ENSMUST00000014892 | 9.156650e-12 | 2.444571e-08 | -1.668260 | 0.2446426 | 6.670008 | 0.6931633 | 0.0027184562 |  0.014578095 | 0.08705654 | 0.08705654 |\n",
       "| ENSMUST00000032839 | 3.658720e-11 | 9.253673e-08 | -1.950045 | 0.2946898 | 5.913418 | 0.8208856 | 0.0043996734 |  0.057024841 | 0.12586348 | 0.12586348 |\n",
       "| ENSMUST00000103213 | 4.581543e-11 | 1.100830e-07 | -1.715928 | 0.2606234 | 7.236000 | 0.6812121 | 0.0015262437 |  0.100360612 | 0.06965481 | 0.10036061 |\n",
       "| ENSMUST00000102617 | 3.105004e-10 | 7.105284e-07 | -1.565532 | 0.2487560 | 6.963113 | 0.6341977 | 0.0016935201 |  0.091125823 | 0.07704499 | 0.09112582 |\n",
       "| ENSMUST00000022945 | 3.258723e-10 | 7.118088e-07 | -1.308862 | 0.2082204 | 7.483690 | 0.5789344 | 0.0008690044 |  0.048722111 | 0.06416462 | 0.06416462 |\n",
       "| ENSMUST00000063562 | 3.846170e-10 | 8.035987e-07 | -1.467452 | 0.2344117 | 6.844074 | 0.4638727 | 0.0015948071 |  0.024043504 | 0.08082846 | 0.08082846 |\n",
       "| ENSMUST00000075175 | 4.295420e-10 | 8.600683e-07 | -1.848694 | 0.2961276 | 6.553820 | 0.7888796 | 0.0041369895 |  0.127400325 | 0.09170934 | 0.12740033 |\n",
       "| ENSMUST00000096093 | 1.005283e-09 | 1.932355e-06 |  2.154342 | 0.3526753 | 5.326163 | 1.3343192 | 0.0115916829 |  0.092528017 | 0.17497815 | 0.17497815 |\n",
       "| ENSMUST00000136501 | 1.250540e-09 | 2.311335e-06 | -2.273283 | 0.3742876 | 5.146253 | 1.0271403 | 0.0154318070 |  0.170772007 | 0.19470503 | 0.19470503 |\n",
       "| ENSMUST00000054287 | 2.167780e-09 | 3.858247e-06 | -1.952072 | 0.3261766 | 5.560342 | 0.8627186 | 0.0068568311 |  0.053861386 | 0.15272992 | 0.15272992 |\n",
       "| ENSMUST00000160289 | 3.059729e-09 | 5.251260e-06 | -1.123806 | 0.1895644 | 8.188183 | 0.3271126 | 0.0003795243 |  0.009985718 | 0.05352247 | 0.05352247 |\n",
       "| ENSMUST00000148284 | 4.972672e-09 | 8.240060e-06 |  1.947862 | 0.3330770 | 5.503529 | 1.2607013 | 0.0086256724 |  0.130567109 | 0.15778474 | 0.15778474 |\n",
       "| ENSMUST00000097228 | 8.713699e-09 | 1.395789e-05 |  2.043541 | 0.3551491 | 5.315158 | 1.3403107 | 0.0130789123 |  0.066391527 | 0.17611745 | 0.17611745 |\n",
       "| ⋮ | ⋮ | ⋮ | ⋮ | ⋮ | ⋮ | ⋮ | ⋮ | ⋮ | ⋮ | ⋮ |\n",
       "| ENSMUST00000139118 | 0.001211110 | 0.1803116 | -4.3143295 | 1.3331259 | 1.857107 | 4.3222087 | 1.3095560443 | 1.35628104 | 1.04679559 | 1.35628104 |\n",
       "| ENSMUST00000102536 | 0.001211958 | 0.1803116 | -0.5946696 | 0.1837640 | 8.666552 | 0.2004128 | 0.0009861002 | 0.03687196 | 0.04966770 | 0.04966770 |\n",
       "| ENSMUST00000112393 | 0.001273564 | 0.1888924 |  1.0384279 | 0.3223059 | 5.591612 | 0.2869356 | 0.0057829715 | 0.04098612 | 0.15003863 | 0.15003863 |\n",
       "| ENSMUST00000026159 | 0.001281355 | 0.1894631 |  2.7360159 | 0.8496619 | 2.457163 | 1.1897204 | 0.2120882251 | 0.47950730 | 0.87079973 | 0.87079973 |\n",
       "| ENSMUST00000099225 | 0.001291746 | 0.1904136 |  0.6455717 | 0.2006247 | 7.785201 | 0.1405090 | 0.0015844590 | 0.03142632 | 0.05879095 | 0.05879095 |\n",
       "| ENSMUST00000111415 | 0.001305756 | 0.1907238 |  3.3246931 | 1.0342119 | 3.632281 | 3.2133462 | 0.2578689990 | 1.34652251 | 0.49312756 | 1.34652251 |\n",
       "| ENSMUST00000108760 | 0.001305756 | 0.1907238 |  3.3246931 | 1.0342119 | 3.632281 | 3.2133462 | 0.2578689990 | 1.34652251 | 0.49312756 | 1.34652251 |\n",
       "| ENSMUST00000045487 | 0.001304958 | 0.1907238 | -1.0417445 | 0.3240377 | 5.628573 | 0.5990337 | 0.0105613353 | 0.13395147 | 0.14693926 | 0.14693926 |\n",
       "| ENSMUST00000171280 | 0.001317970 | 0.1907682 |  1.4932975 | 0.4649066 | 4.437640 | 0.9677143 | 0.0247180053 | 0.17636061 | 0.29948917 | 0.29948917 |\n",
       "| ENSMUST00000160529 | 0.001314945 | 0.1907682 | -1.2665854 | 0.3942435 | 6.123914 | 0.4658428 | 0.0088482896 | 0.22429366 | 0.11287841 | 0.22429366 |\n",
       "| ENSMUST00000041030 | 0.001312045 | 0.1907682 | -1.9363580 | 0.6026013 | 3.655650 | 0.5587772 | 0.0589264549 | 0.17158662 | 0.48576603 | 0.48576603 |\n",
       "| ENSMUST00000120805 | 0.001341585 | 0.1932791 |  3.1908266 | 0.9949778 | 3.648155 | 1.9175214 | 0.4165605886 | 1.06841074 | 0.48811332 | 1.06841074 |\n",
       "| ENSMUST00000078528 | 0.001343361 | 0.1932791 | -0.7099811 | 0.2214158 | 9.144608 | 0.1627189 | 0.0001931869 | 0.07334423 | 0.04807385 | 0.07334423 |\n",
       "| ENSMUST00000170223 | 0.001363958 | 0.1933642 | -3.9523709 | 1.2342784 | 1.380086 | 3.8903432 | 1.1241894493 | 1.02325532 | 1.16097528 | 1.16097528 |\n",
       "| ENSMUST00000051401 | 0.001372119 | 0.1933642 |  0.9509376 | 0.2971260 | 7.932121 | 0.4508036 | 0.0005028354 | 0.13192293 | 0.05663429 | 0.13192293 |\n",
       "| ENSMUST00000028950 | 0.001365448 | 0.1933642 |  1.1059204 | 0.3453997 | 5.344685 | 0.2895964 | 0.0058712958 | 0.04715525 | 0.17308012 | 0.17308012 |\n",
       "| ENSMUST00000144734 | 0.001369456 | 0.1933642 | -0.8573850 | 0.2678481 | 6.603325 | 0.2381280 | 0.0179376681 | 0.03422873 | 0.08967621 | 0.08967621 |\n",
       "| ENSMUST00000003643 | 0.001356563 | 0.1933642 |  1.6532950 | 0.5160520 | 4.075886 | 0.9414712 | 0.0232937281 | 0.29214196 | 0.37617080 | 0.37617080 |\n",
       "| ENSMUST00000021550 | 0.001359332 | 0.1933642 |  1.3271975 | 0.4143414 | 4.764455 | 0.8048935 | 0.0128149820 | 0.08817206 | 0.24470316 | 0.24470316 |\n",
       "| ENSMUST00000076362 | 0.001353872 | 0.1933642 | -0.8860553 | 0.2765199 | 6.461345 | 0.1870093 | 0.0189780376 | 0.08877535 | 0.09571688 | 0.09571688 |\n",
       "| ENSMUST00000035852 | 0.001412180 | 0.1969106 | -0.6678047 | 0.2092022 | 7.456020 | 0.1263707 | 0.0009213756 | 0.05675948 | 0.06472694 | 0.06472694 |\n",
       "| ENSMUST00000004428 | 0.001413675 | 0.1969106 |  0.7522924 | 0.2356921 | 6.976450 | 0.2512584 | 0.0017846392 | 0.08154149 | 0.07664386 | 0.08154149 |\n",
       "| ENSMUST00000032910 | 0.001402582 | 0.1969106 |  0.5801871 | 0.1816423 | 8.748104 | 0.3359031 | 0.0002479910 | 0.02933850 | 0.04924289 | 0.04924289 |\n",
       "| ENSMUST00000058981 | 0.001410378 | 0.1969106 |  1.4455639 | 0.4527973 | 4.729880 | 0.6271540 | 0.0577381343 | 0.03480620 | 0.24979995 | 0.24979995 |\n",
       "| ENSMUST00000033741 | 0.001418929 | 0.1970711 |  2.2085600 | 0.6921709 | 3.769515 | 1.4373322 | 0.0647495732 | 0.65390128 | 0.45190244 | 0.65390128 |\n",
       "| ENSMUST00000168064 | 0.001423172 | 0.1970909 |  1.1541031 | 0.3617980 | 5.188293 | 0.4298574 | 0.0064640560 | 0.04843454 | 0.18988267 | 0.18988267 |\n",
       "| ENSMUST00000122067 | 0.001435651 | 0.1982477 |  3.6025591 | 1.1302551 | 2.238417 | 4.3127327 | 0.9789932621 | 0.76471344 | 0.93722153 | 0.93722153 |\n",
       "| ENSMUST00000024894 | 0.001452936 | 0.1989197 |  2.0011969 | 0.6285318 | 4.032124 | 1.2925636 | 0.2062153454 | 0.14335274 | 0.38636296 | 0.38636296 |\n",
       "| ENSMUST00000120401 | 0.001452652 | 0.1989197 |  3.0573922 | 0.9602424 | 1.819800 | 2.3442587 | 0.3263502393 | 0.50114591 | 1.05674786 | 1.05674786 |\n",
       "| ENSMUST00000078952 | 0.001452652 | 0.1989197 |  3.0573922 | 0.9602424 | 1.819800 | 2.3442587 | 0.3263502393 | 0.50114591 | 1.05674786 | 1.05674786 |\n",
       "\n"
      ],
      "text/plain": [
       "       target_id          pval         qval         b          se_b     \n",
       "1      ENSMUST00000006451 1.310202e-19 6.296178e-15 -2.076555  0.2292124\n",
       "2      ENSMUST00000168900 4.730789e-18 1.136690e-13 -1.952073  0.2254208\n",
       "3      ENSMUST00000029644 5.032497e-17 8.061221e-13 -1.974098  0.2354059\n",
       "4      ENSMUST00000102763 3.508500e-16 4.215025e-12 -1.679309  0.2059385\n",
       "5      ENSMUST00000078953 1.415829e-15 1.360753e-11 -2.970831  0.3720947\n",
       "6      ENSMUST00000087557 3.485095e-15 2.791271e-11 -2.395991  0.3043618\n",
       "7      ENSMUST00000171066 6.435442e-15 3.865690e-11  1.735006  0.2225763\n",
       "8      ENSMUST00000155572 5.652235e-15 3.865690e-11  1.501574  0.1922266\n",
       "9      ENSMUST00000151797 6.857866e-14 3.661719e-10 -4.770005  0.6368019\n",
       "10     ENSMUST00000034097 9.811040e-14 4.714695e-10 -1.353943  0.1818979\n",
       "11     ENSMUST00000108830 1.827492e-13 7.983650e-10 -6.382005  0.8670207\n",
       "12     ENSMUST00000166009 2.759838e-13 1.105200e-09 -6.661807  0.9118738\n",
       "13     ENSMUST00000136299 1.689450e-12 6.245115e-09  1.655221  0.2345177\n",
       "14     ENSMUST00000044165 3.334226e-12 1.144473e-08 -2.198717  0.3157777\n",
       "15     ENSMUST00000004949 3.693121e-12 1.183153e-08 -2.076178  0.2987971\n",
       "16     ENSMUST00000002400 4.131083e-12 1.240745e-08 -1.813146  0.2615382\n",
       "17     ENSMUST00000037728 4.543173e-12 1.284248e-08  2.308970  0.3337065\n",
       "18     ENSMUST00000014892 9.156650e-12 2.444571e-08 -1.668260  0.2446426\n",
       "19     ENSMUST00000032839 3.658720e-11 9.253673e-08 -1.950045  0.2946898\n",
       "20     ENSMUST00000103213 4.581543e-11 1.100830e-07 -1.715928  0.2606234\n",
       "21     ENSMUST00000102617 3.105004e-10 7.105284e-07 -1.565532  0.2487560\n",
       "22     ENSMUST00000022945 3.258723e-10 7.118088e-07 -1.308862  0.2082204\n",
       "23     ENSMUST00000063562 3.846170e-10 8.035987e-07 -1.467452  0.2344117\n",
       "24     ENSMUST00000075175 4.295420e-10 8.600683e-07 -1.848694  0.2961276\n",
       "25     ENSMUST00000096093 1.005283e-09 1.932355e-06  2.154342  0.3526753\n",
       "26     ENSMUST00000136501 1.250540e-09 2.311335e-06 -2.273283  0.3742876\n",
       "27     ENSMUST00000054287 2.167780e-09 3.858247e-06 -1.952072  0.3261766\n",
       "28     ENSMUST00000160289 3.059729e-09 5.251260e-06 -1.123806  0.1895644\n",
       "29     ENSMUST00000148284 4.972672e-09 8.240060e-06  1.947862  0.3330770\n",
       "30     ENSMUST00000097228 8.713699e-09 1.395789e-05  2.043541  0.3551491\n",
       "<U+22EE> <U+22EE>           <U+22EE>     <U+22EE>     <U+22EE>   <U+22EE> \n",
       "322    ENSMUST00000139118 0.001211110  0.1803116    -4.3143295 1.3331259\n",
       "323    ENSMUST00000102536 0.001211958  0.1803116    -0.5946696 0.1837640\n",
       "324    ENSMUST00000112393 0.001273564  0.1888924     1.0384279 0.3223059\n",
       "325    ENSMUST00000026159 0.001281355  0.1894631     2.7360159 0.8496619\n",
       "326    ENSMUST00000099225 0.001291746  0.1904136     0.6455717 0.2006247\n",
       "327    ENSMUST00000111415 0.001305756  0.1907238     3.3246931 1.0342119\n",
       "328    ENSMUST00000108760 0.001305756  0.1907238     3.3246931 1.0342119\n",
       "329    ENSMUST00000045487 0.001304958  0.1907238    -1.0417445 0.3240377\n",
       "330    ENSMUST00000171280 0.001317970  0.1907682     1.4932975 0.4649066\n",
       "331    ENSMUST00000160529 0.001314945  0.1907682    -1.2665854 0.3942435\n",
       "332    ENSMUST00000041030 0.001312045  0.1907682    -1.9363580 0.6026013\n",
       "333    ENSMUST00000120805 0.001341585  0.1932791     3.1908266 0.9949778\n",
       "334    ENSMUST00000078528 0.001343361  0.1932791    -0.7099811 0.2214158\n",
       "335    ENSMUST00000170223 0.001363958  0.1933642    -3.9523709 1.2342784\n",
       "336    ENSMUST00000051401 0.001372119  0.1933642     0.9509376 0.2971260\n",
       "337    ENSMUST00000028950 0.001365448  0.1933642     1.1059204 0.3453997\n",
       "338    ENSMUST00000144734 0.001369456  0.1933642    -0.8573850 0.2678481\n",
       "339    ENSMUST00000003643 0.001356563  0.1933642     1.6532950 0.5160520\n",
       "340    ENSMUST00000021550 0.001359332  0.1933642     1.3271975 0.4143414\n",
       "341    ENSMUST00000076362 0.001353872  0.1933642    -0.8860553 0.2765199\n",
       "342    ENSMUST00000035852 0.001412180  0.1969106    -0.6678047 0.2092022\n",
       "343    ENSMUST00000004428 0.001413675  0.1969106     0.7522924 0.2356921\n",
       "344    ENSMUST00000032910 0.001402582  0.1969106     0.5801871 0.1816423\n",
       "345    ENSMUST00000058981 0.001410378  0.1969106     1.4455639 0.4527973\n",
       "346    ENSMUST00000033741 0.001418929  0.1970711     2.2085600 0.6921709\n",
       "347    ENSMUST00000168064 0.001423172  0.1970909     1.1541031 0.3617980\n",
       "348    ENSMUST00000122067 0.001435651  0.1982477     3.6025591 1.1302551\n",
       "349    ENSMUST00000024894 0.001452936  0.1989197     2.0011969 0.6285318\n",
       "350    ENSMUST00000120401 0.001452652  0.1989197     3.0573922 0.9602424\n",
       "351    ENSMUST00000078952 0.001452652  0.1989197     3.0573922 0.9602424\n",
       "       mean_obs var_obs   tech_var     sigma_sq     smooth_sigma_sq\n",
       "1      7.017841 0.8876284 0.0033801130  0.036714444 0.07542735     \n",
       "2      7.059538 0.8788068 0.0019773653  0.044892297 0.07424445     \n",
       "3      6.862515 0.9655665 0.0029059542  0.015534599 0.08021792     \n",
       "4      7.556659 0.7116337 0.0008762691  0.020374987 0.06273970     \n",
       "5      5.188072 1.9537923 0.0177739637  0.034078426 0.18990770     \n",
       "6      5.824121 1.2404072 0.0069853791  0.102545612 0.13196877     \n",
       "7      9.518412 1.0441342 0.0001302209  0.074180110 0.04829636     \n",
       "8      8.060573 0.7240418 0.0004519891  0.041014343 0.05497463     \n",
       "9      3.644737 5.2670403 0.1190867605  0.354741972 0.48918818     \n",
       "10     8.730232 0.4182998 0.0002998160  0.036876336 0.04933048     \n",
       "11     3.389990 8.9131355 0.2951307665  0.832456651 0.57447928     \n",
       "12     4.895332 5.7848326 1.0209887781 -0.470911809 0.22628205     \n",
       "13     8.066746 1.1462428 0.0004998462  0.081998005 0.05489996     \n",
       "14     5.680464 0.8600059 0.0068378432  0.126308129 0.14273546     \n",
       "15     5.892552 1.2632418 0.0066628145  0.069090391 0.12725675     \n",
       "16     6.372578 0.7317381 0.0027712808  0.036206802 0.09983205     \n",
       "17     5.500272 0.9349855 0.0089590120  0.033249109 0.15808100     \n",
       "18     6.670008 0.6931633 0.0027184562  0.014578095 0.08705654     \n",
       "19     5.913418 0.8208856 0.0043996734  0.057024841 0.12586348     \n",
       "20     7.236000 0.6812121 0.0015262437  0.100360612 0.06965481     \n",
       "21     6.963113 0.6341977 0.0016935201  0.091125823 0.07704499     \n",
       "22     7.483690 0.5789344 0.0008690044  0.048722111 0.06416462     \n",
       "23     6.844074 0.4638727 0.0015948071  0.024043504 0.08082846     \n",
       "24     6.553820 0.7888796 0.0041369895  0.127400325 0.09170934     \n",
       "25     5.326163 1.3343192 0.0115916829  0.092528017 0.17497815     \n",
       "26     5.146253 1.0271403 0.0154318070  0.170772007 0.19470503     \n",
       "27     5.560342 0.8627186 0.0068568311  0.053861386 0.15272992     \n",
       "28     8.188183 0.3271126 0.0003795243  0.009985718 0.05352247     \n",
       "29     5.503529 1.2607013 0.0086256724  0.130567109 0.15778474     \n",
       "30     5.315158 1.3403107 0.0130789123  0.066391527 0.17611745     \n",
       "<U+22EE> <U+22EE> <U+22EE>  <U+22EE>     <U+22EE>     <U+22EE>       \n",
       "322    1.857107 4.3222087 1.3095560443 1.35628104   1.04679559     \n",
       "323    8.666552 0.2004128 0.0009861002 0.03687196   0.04966770     \n",
       "324    5.591612 0.2869356 0.0057829715 0.04098612   0.15003863     \n",
       "325    2.457163 1.1897204 0.2120882251 0.47950730   0.87079973     \n",
       "326    7.785201 0.1405090 0.0015844590 0.03142632   0.05879095     \n",
       "327    3.632281 3.2133462 0.2578689990 1.34652251   0.49312756     \n",
       "328    3.632281 3.2133462 0.2578689990 1.34652251   0.49312756     \n",
       "329    5.628573 0.5990337 0.0105613353 0.13395147   0.14693926     \n",
       "330    4.437640 0.9677143 0.0247180053 0.17636061   0.29948917     \n",
       "331    6.123914 0.4658428 0.0088482896 0.22429366   0.11287841     \n",
       "332    3.655650 0.5587772 0.0589264549 0.17158662   0.48576603     \n",
       "333    3.648155 1.9175214 0.4165605886 1.06841074   0.48811332     \n",
       "334    9.144608 0.1627189 0.0001931869 0.07334423   0.04807385     \n",
       "335    1.380086 3.8903432 1.1241894493 1.02325532   1.16097528     \n",
       "336    7.932121 0.4508036 0.0005028354 0.13192293   0.05663429     \n",
       "337    5.344685 0.2895964 0.0058712958 0.04715525   0.17308012     \n",
       "338    6.603325 0.2381280 0.0179376681 0.03422873   0.08967621     \n",
       "339    4.075886 0.9414712 0.0232937281 0.29214196   0.37617080     \n",
       "340    4.764455 0.8048935 0.0128149820 0.08817206   0.24470316     \n",
       "341    6.461345 0.1870093 0.0189780376 0.08877535   0.09571688     \n",
       "342    7.456020 0.1263707 0.0009213756 0.05675948   0.06472694     \n",
       "343    6.976450 0.2512584 0.0017846392 0.08154149   0.07664386     \n",
       "344    8.748104 0.3359031 0.0002479910 0.02933850   0.04924289     \n",
       "345    4.729880 0.6271540 0.0577381343 0.03480620   0.24979995     \n",
       "346    3.769515 1.4373322 0.0647495732 0.65390128   0.45190244     \n",
       "347    5.188293 0.4298574 0.0064640560 0.04843454   0.18988267     \n",
       "348    2.238417 4.3127327 0.9789932621 0.76471344   0.93722153     \n",
       "349    4.032124 1.2925636 0.2062153454 0.14335274   0.38636296     \n",
       "350    1.819800 2.3442587 0.3263502393 0.50114591   1.05674786     \n",
       "351    1.819800 2.3442587 0.3263502393 0.50114591   1.05674786     \n",
       "       final_sigma_sq\n",
       "1      0.07542735    \n",
       "2      0.07424445    \n",
       "3      0.08021792    \n",
       "4      0.06273970    \n",
       "5      0.18990770    \n",
       "6      0.13196877    \n",
       "7      0.07418011    \n",
       "8      0.05497463    \n",
       "9      0.48918818    \n",
       "10     0.04933048    \n",
       "11     0.83245665    \n",
       "12     0.22628205    \n",
       "13     0.08199801    \n",
       "14     0.14273546    \n",
       "15     0.12725675    \n",
       "16     0.09983205    \n",
       "17     0.15808100    \n",
       "18     0.08705654    \n",
       "19     0.12586348    \n",
       "20     0.10036061    \n",
       "21     0.09112582    \n",
       "22     0.06416462    \n",
       "23     0.08082846    \n",
       "24     0.12740033    \n",
       "25     0.17497815    \n",
       "26     0.19470503    \n",
       "27     0.15272992    \n",
       "28     0.05352247    \n",
       "29     0.15778474    \n",
       "30     0.17611745    \n",
       "<U+22EE> <U+22EE>      \n",
       "322    1.35628104    \n",
       "323    0.04966770    \n",
       "324    0.15003863    \n",
       "325    0.87079973    \n",
       "326    0.05879095    \n",
       "327    1.34652251    \n",
       "328    1.34652251    \n",
       "329    0.14693926    \n",
       "330    0.29948917    \n",
       "331    0.22429366    \n",
       "332    0.48576603    \n",
       "333    1.06841074    \n",
       "334    0.07334423    \n",
       "335    1.16097528    \n",
       "336    0.13192293    \n",
       "337    0.17308012    \n",
       "338    0.08967621    \n",
       "339    0.37617080    \n",
       "340    0.24470316    \n",
       "341    0.09571688    \n",
       "342    0.06472694    \n",
       "343    0.08154149    \n",
       "344    0.04924289    \n",
       "345    0.24979995    \n",
       "346    0.65390128    \n",
       "347    0.18988267    \n",
       "348    0.93722153    \n",
       "349    0.38636296    \n",
       "350    1.05674786    \n",
       "351    1.05674786    "
      ]
     },
     "metadata": {},
     "output_type": "display_data"
    }
   ],
   "source": [
    "sig_transcripts <- sleuth_results_wt %>% \n",
    "  filter(qval < 0.2)\n",
    "\n",
    "sig_transcripts"
   ]
  },
  {
   "cell_type": "markdown",
   "id": "589abeb2-6058-4966-93c6-3d68934ea6fa",
   "metadata": {},
   "source": [
    "## Notes:\n",
    "\n",
    "Most tutorials use a qvalue of 0.05. Seems like this might not be the best model? "
   ]
  },
  {
   "cell_type": "code",
   "execution_count": 37,
   "id": "41f8361d-f9fe-4f63-b3b0-3619adb28242",
   "metadata": {},
   "outputs": [
    {
     "name": "stdout",
     "output_type": "stream",
     "text": [
      "[  full  ]\n",
      "formula:  ~condition \n",
      "data modeled:  obs_counts \n",
      "transform sync'ed:  TRUE \n",
      "coefficients:\n",
      "\t(Intercept)\n",
      " \tcondition RNA-seq_CTCF-AID_auxin1day\n",
      " \tcondition RNA-seq_CTCF-AID_auxin2days\n",
      " \tcondition RNA-seq_CTCF-AID_auxin4days\n",
      " \tcondition RNA-seq_CTCF-AID_washoff2days\n",
      " \tcondition RNA-seq_WT-untagged_auxin2days\n",
      " \tcondition RNA-seq_WT-untagged_auxin4days\n",
      " \tcondition RNA-seq_WT-untagged_untreated\n",
      "[  reduced  ]\n",
      "formula:  ~1 \n",
      "data modeled:  obs_counts \n",
      "transform sync'ed:  TRUE \n",
      "coefficients:\n",
      "\t(Intercept)\n"
     ]
    }
   ],
   "source": [
    "models(so)"
   ]
  },
  {
   "cell_type": "code",
   "execution_count": 38,
   "id": "0bd2aa4d-289e-4592-848e-e30d8f60360e",
   "metadata": {},
   "outputs": [],
   "source": [
    "# Adding rest of the conditions -- all except untreated (so this is the base of comparison)\n",
    "\n",
    "so <- sleuth_wt(so, which_beta = 'condition RNA-seq_CTCF-AID_auxin4days')\n",
    "so <- sleuth_wt(so, which_beta = 'condition RNA-seq_CTCF-AID_washoff2days')\n",
    "so <- sleuth_wt(so, which_beta = 'condition RNA-seq_WT-untagged_auxin2days')\n",
    "so <- sleuth_wt(so, which_beta = 'condition RNA-seq_WT-untagged_auxin4days')\n",
    "\n",
    "sleuth_results_wt <- sleuth_results(so, \n",
    "                                    test = 'condition RNA-seq_CTCF-AID_auxin4days', \n",
    "                                    show_all = TRUE)\n",
    "sleuth_results_wt <- sleuth_results(so, \n",
    "                                    test = 'condition RNA-seq_CTCF-AID_washoff2days', \n",
    "                                    show_all = TRUE)\n",
    "sleuth_results_wt <- sleuth_results(so, \n",
    "                                    test = 'condition RNA-seq_WT-untagged_auxin2days', \n",
    "                                    show_all = TRUE)\n",
    "sleuth_results_wt <- sleuth_results(so, \n",
    "                                    test = 'condition RNA-seq_WT-untagged_auxin4days', \n",
    "                                    show_all = TRUE)"
   ]
  },
  {
   "cell_type": "code",
   "execution_count": 39,
   "id": "4ae09141-975e-4fd9-83b6-d6dd36ca31ef",
   "metadata": {},
   "outputs": [
    {
     "data": {
      "text/html": [
       "<table class=\"dataframe\">\n",
       "<caption>A data.frame: 6 × 11</caption>\n",
       "<thead>\n",
       "\t<tr><th></th><th scope=col>target_id</th><th scope=col>pval</th><th scope=col>qval</th><th scope=col>b</th><th scope=col>se_b</th><th scope=col>mean_obs</th><th scope=col>var_obs</th><th scope=col>tech_var</th><th scope=col>sigma_sq</th><th scope=col>smooth_sigma_sq</th><th scope=col>final_sigma_sq</th></tr>\n",
       "\t<tr><th></th><th scope=col>&lt;chr&gt;</th><th scope=col>&lt;dbl&gt;</th><th scope=col>&lt;dbl&gt;</th><th scope=col>&lt;dbl&gt;</th><th scope=col>&lt;dbl&gt;</th><th scope=col>&lt;dbl&gt;</th><th scope=col>&lt;dbl&gt;</th><th scope=col>&lt;dbl&gt;</th><th scope=col>&lt;dbl&gt;</th><th scope=col>&lt;dbl&gt;</th><th scope=col>&lt;dbl&gt;</th></tr>\n",
       "</thead>\n",
       "<tbody>\n",
       "\t<tr><th scope=row>1</th><td>ENSMUST00000091190</td><td>4.948176e-15</td><td>2.377846e-10</td><td> 2.457897</td><td>0.3139790</td><td>6.135758</td><td>1.6121293</td><td>0.0060172597</td><td> 0.141856949</td><td>0.11220299</td><td>0.1418569</td></tr>\n",
       "\t<tr><th scope=row>2</th><td>ENSMUST00000136359</td><td>5.054153e-09</td><td>1.214387e-04</td><td> 3.200460</td><td>0.5475196</td><td>4.600168</td><td>2.2268563</td><td>0.1792910296</td><td>-0.004567387</td><td>0.27037552</td><td>0.2703755</td></tr>\n",
       "\t<tr><th scope=row>3</th><td>ENSMUST00000100572</td><td>2.055520e-07</td><td>3.292600e-03</td><td>-4.408336</td><td>0.8486962</td><td>2.221188</td><td>5.1849474</td><td>0.1380356675</td><td> 0.237898754</td><td>0.94239214</td><td>0.9423921</td></tr>\n",
       "\t<tr><th scope=row>4</th><td>ENSMUST00000073261</td><td>6.963469e-06</td><td>8.365738e-02</td><td>-1.789294</td><td>0.3980807</td><td>8.769689</td><td>0.7348572</td><td>0.0005069639</td><td> 0.237195427</td><td>0.04914121</td><td>0.2371954</td></tr>\n",
       "\t<tr><th scope=row>5</th><td>ENSMUST00000024894</td><td>8.764711e-06</td><td>8.423764e-02</td><td> 2.794201</td><td>0.6285318</td><td>4.032124</td><td>1.2925636</td><td>0.2062153454</td><td> 0.143352740</td><td>0.38636296</td><td>0.3863630</td></tr>\n",
       "\t<tr><th scope=row>6</th><td>ENSMUST00000034865</td><td>1.942244e-05</td><td>1.555575e-01</td><td> 2.693507</td><td>0.6305868</td><td>3.645245</td><td>1.7572136</td><td>0.1074313620</td><td> 0.100185818</td><td>0.48902825</td><td>0.4890283</td></tr>\n",
       "</tbody>\n",
       "</table>\n"
      ],
      "text/latex": [
       "A data.frame: 6 × 11\n",
       "\\begin{tabular}{r|lllllllllll}\n",
       "  & target\\_id & pval & qval & b & se\\_b & mean\\_obs & var\\_obs & tech\\_var & sigma\\_sq & smooth\\_sigma\\_sq & final\\_sigma\\_sq\\\\\n",
       "  & <chr> & <dbl> & <dbl> & <dbl> & <dbl> & <dbl> & <dbl> & <dbl> & <dbl> & <dbl> & <dbl>\\\\\n",
       "\\hline\n",
       "\t1 & ENSMUST00000091190 & 4.948176e-15 & 2.377846e-10 &  2.457897 & 0.3139790 & 6.135758 & 1.6121293 & 0.0060172597 &  0.141856949 & 0.11220299 & 0.1418569\\\\\n",
       "\t2 & ENSMUST00000136359 & 5.054153e-09 & 1.214387e-04 &  3.200460 & 0.5475196 & 4.600168 & 2.2268563 & 0.1792910296 & -0.004567387 & 0.27037552 & 0.2703755\\\\\n",
       "\t3 & ENSMUST00000100572 & 2.055520e-07 & 3.292600e-03 & -4.408336 & 0.8486962 & 2.221188 & 5.1849474 & 0.1380356675 &  0.237898754 & 0.94239214 & 0.9423921\\\\\n",
       "\t4 & ENSMUST00000073261 & 6.963469e-06 & 8.365738e-02 & -1.789294 & 0.3980807 & 8.769689 & 0.7348572 & 0.0005069639 &  0.237195427 & 0.04914121 & 0.2371954\\\\\n",
       "\t5 & ENSMUST00000024894 & 8.764711e-06 & 8.423764e-02 &  2.794201 & 0.6285318 & 4.032124 & 1.2925636 & 0.2062153454 &  0.143352740 & 0.38636296 & 0.3863630\\\\\n",
       "\t6 & ENSMUST00000034865 & 1.942244e-05 & 1.555575e-01 &  2.693507 & 0.6305868 & 3.645245 & 1.7572136 & 0.1074313620 &  0.100185818 & 0.48902825 & 0.4890283\\\\\n",
       "\\end{tabular}\n"
      ],
      "text/markdown": [
       "\n",
       "A data.frame: 6 × 11\n",
       "\n",
       "| <!--/--> | target_id &lt;chr&gt; | pval &lt;dbl&gt; | qval &lt;dbl&gt; | b &lt;dbl&gt; | se_b &lt;dbl&gt; | mean_obs &lt;dbl&gt; | var_obs &lt;dbl&gt; | tech_var &lt;dbl&gt; | sigma_sq &lt;dbl&gt; | smooth_sigma_sq &lt;dbl&gt; | final_sigma_sq &lt;dbl&gt; |\n",
       "|---|---|---|---|---|---|---|---|---|---|---|---|\n",
       "| 1 | ENSMUST00000091190 | 4.948176e-15 | 2.377846e-10 |  2.457897 | 0.3139790 | 6.135758 | 1.6121293 | 0.0060172597 |  0.141856949 | 0.11220299 | 0.1418569 |\n",
       "| 2 | ENSMUST00000136359 | 5.054153e-09 | 1.214387e-04 |  3.200460 | 0.5475196 | 4.600168 | 2.2268563 | 0.1792910296 | -0.004567387 | 0.27037552 | 0.2703755 |\n",
       "| 3 | ENSMUST00000100572 | 2.055520e-07 | 3.292600e-03 | -4.408336 | 0.8486962 | 2.221188 | 5.1849474 | 0.1380356675 |  0.237898754 | 0.94239214 | 0.9423921 |\n",
       "| 4 | ENSMUST00000073261 | 6.963469e-06 | 8.365738e-02 | -1.789294 | 0.3980807 | 8.769689 | 0.7348572 | 0.0005069639 |  0.237195427 | 0.04914121 | 0.2371954 |\n",
       "| 5 | ENSMUST00000024894 | 8.764711e-06 | 8.423764e-02 |  2.794201 | 0.6285318 | 4.032124 | 1.2925636 | 0.2062153454 |  0.143352740 | 0.38636296 | 0.3863630 |\n",
       "| 6 | ENSMUST00000034865 | 1.942244e-05 | 1.555575e-01 |  2.693507 | 0.6305868 | 3.645245 | 1.7572136 | 0.1074313620 |  0.100185818 | 0.48902825 | 0.4890283 |\n",
       "\n"
      ],
      "text/plain": [
       "  target_id          pval         qval         b         se_b      mean_obs\n",
       "1 ENSMUST00000091190 4.948176e-15 2.377846e-10  2.457897 0.3139790 6.135758\n",
       "2 ENSMUST00000136359 5.054153e-09 1.214387e-04  3.200460 0.5475196 4.600168\n",
       "3 ENSMUST00000100572 2.055520e-07 3.292600e-03 -4.408336 0.8486962 2.221188\n",
       "4 ENSMUST00000073261 6.963469e-06 8.365738e-02 -1.789294 0.3980807 8.769689\n",
       "5 ENSMUST00000024894 8.764711e-06 8.423764e-02  2.794201 0.6285318 4.032124\n",
       "6 ENSMUST00000034865 1.942244e-05 1.555575e-01  2.693507 0.6305868 3.645245\n",
       "  var_obs   tech_var     sigma_sq     smooth_sigma_sq final_sigma_sq\n",
       "1 1.6121293 0.0060172597  0.141856949 0.11220299      0.1418569     \n",
       "2 2.2268563 0.1792910296 -0.004567387 0.27037552      0.2703755     \n",
       "3 5.1849474 0.1380356675  0.237898754 0.94239214      0.9423921     \n",
       "4 0.7348572 0.0005069639  0.237195427 0.04914121      0.2371954     \n",
       "5 1.2925636 0.2062153454  0.143352740 0.38636296      0.3863630     \n",
       "6 1.7572136 0.1074313620  0.100185818 0.48902825      0.4890283     "
      ]
     },
     "metadata": {},
     "output_type": "display_data"
    }
   ],
   "source": [
    "head(sleuth_results_wt)\n",
    "dim(sleuth_results_wt)"
   ]
  },
  {
   "cell_type": "code",
   "execution_count": 42,
   "id": "e9d10755-c2b2-45fb-9141-9dd67b8accdf",
   "metadata": {},
   "outputs": [
    {
     "data": {
      "text/html": [
       "<table class=\"dataframe\">\n",
       "<caption>A data.frame: 3 × 11</caption>\n",
       "<thead>\n",
       "\t<tr><th></th><th scope=col>target_id</th><th scope=col>pval</th><th scope=col>qval</th><th scope=col>b</th><th scope=col>se_b</th><th scope=col>mean_obs</th><th scope=col>var_obs</th><th scope=col>tech_var</th><th scope=col>sigma_sq</th><th scope=col>smooth_sigma_sq</th><th scope=col>final_sigma_sq</th></tr>\n",
       "\t<tr><th></th><th scope=col>&lt;chr&gt;</th><th scope=col>&lt;dbl&gt;</th><th scope=col>&lt;dbl&gt;</th><th scope=col>&lt;dbl&gt;</th><th scope=col>&lt;dbl&gt;</th><th scope=col>&lt;dbl&gt;</th><th scope=col>&lt;dbl&gt;</th><th scope=col>&lt;dbl&gt;</th><th scope=col>&lt;dbl&gt;</th><th scope=col>&lt;dbl&gt;</th><th scope=col>&lt;dbl&gt;</th></tr>\n",
       "</thead>\n",
       "<tbody>\n",
       "\t<tr><th scope=row>1</th><td>ENSMUST00000091190</td><td>4.948176e-15</td><td>2.377846e-10</td><td> 2.457897</td><td>0.3139790</td><td>6.135758</td><td>1.612129</td><td>0.00601726</td><td> 0.141856949</td><td>0.1122030</td><td>0.1418569</td></tr>\n",
       "\t<tr><th scope=row>2</th><td>ENSMUST00000136359</td><td>5.054153e-09</td><td>1.214387e-04</td><td> 3.200460</td><td>0.5475196</td><td>4.600168</td><td>2.226856</td><td>0.17929103</td><td>-0.004567387</td><td>0.2703755</td><td>0.2703755</td></tr>\n",
       "\t<tr><th scope=row>3</th><td>ENSMUST00000100572</td><td>2.055520e-07</td><td>3.292600e-03</td><td>-4.408336</td><td>0.8486962</td><td>2.221188</td><td>5.184947</td><td>0.13803567</td><td> 0.237898754</td><td>0.9423921</td><td>0.9423921</td></tr>\n",
       "</tbody>\n",
       "</table>\n"
      ],
      "text/latex": [
       "A data.frame: 3 × 11\n",
       "\\begin{tabular}{r|lllllllllll}\n",
       "  & target\\_id & pval & qval & b & se\\_b & mean\\_obs & var\\_obs & tech\\_var & sigma\\_sq & smooth\\_sigma\\_sq & final\\_sigma\\_sq\\\\\n",
       "  & <chr> & <dbl> & <dbl> & <dbl> & <dbl> & <dbl> & <dbl> & <dbl> & <dbl> & <dbl> & <dbl>\\\\\n",
       "\\hline\n",
       "\t1 & ENSMUST00000091190 & 4.948176e-15 & 2.377846e-10 &  2.457897 & 0.3139790 & 6.135758 & 1.612129 & 0.00601726 &  0.141856949 & 0.1122030 & 0.1418569\\\\\n",
       "\t2 & ENSMUST00000136359 & 5.054153e-09 & 1.214387e-04 &  3.200460 & 0.5475196 & 4.600168 & 2.226856 & 0.17929103 & -0.004567387 & 0.2703755 & 0.2703755\\\\\n",
       "\t3 & ENSMUST00000100572 & 2.055520e-07 & 3.292600e-03 & -4.408336 & 0.8486962 & 2.221188 & 5.184947 & 0.13803567 &  0.237898754 & 0.9423921 & 0.9423921\\\\\n",
       "\\end{tabular}\n"
      ],
      "text/markdown": [
       "\n",
       "A data.frame: 3 × 11\n",
       "\n",
       "| <!--/--> | target_id &lt;chr&gt; | pval &lt;dbl&gt; | qval &lt;dbl&gt; | b &lt;dbl&gt; | se_b &lt;dbl&gt; | mean_obs &lt;dbl&gt; | var_obs &lt;dbl&gt; | tech_var &lt;dbl&gt; | sigma_sq &lt;dbl&gt; | smooth_sigma_sq &lt;dbl&gt; | final_sigma_sq &lt;dbl&gt; |\n",
       "|---|---|---|---|---|---|---|---|---|---|---|---|\n",
       "| 1 | ENSMUST00000091190 | 4.948176e-15 | 2.377846e-10 |  2.457897 | 0.3139790 | 6.135758 | 1.612129 | 0.00601726 |  0.141856949 | 0.1122030 | 0.1418569 |\n",
       "| 2 | ENSMUST00000136359 | 5.054153e-09 | 1.214387e-04 |  3.200460 | 0.5475196 | 4.600168 | 2.226856 | 0.17929103 | -0.004567387 | 0.2703755 | 0.2703755 |\n",
       "| 3 | ENSMUST00000100572 | 2.055520e-07 | 3.292600e-03 | -4.408336 | 0.8486962 | 2.221188 | 5.184947 | 0.13803567 |  0.237898754 | 0.9423921 | 0.9423921 |\n",
       "\n"
      ],
      "text/plain": [
       "  target_id          pval         qval         b         se_b      mean_obs\n",
       "1 ENSMUST00000091190 4.948176e-15 2.377846e-10  2.457897 0.3139790 6.135758\n",
       "2 ENSMUST00000136359 5.054153e-09 1.214387e-04  3.200460 0.5475196 4.600168\n",
       "3 ENSMUST00000100572 2.055520e-07 3.292600e-03 -4.408336 0.8486962 2.221188\n",
       "  var_obs  tech_var   sigma_sq     smooth_sigma_sq final_sigma_sq\n",
       "1 1.612129 0.00601726  0.141856949 0.1122030       0.1418569     \n",
       "2 2.226856 0.17929103 -0.004567387 0.2703755       0.2703755     \n",
       "3 5.184947 0.13803567  0.237898754 0.9423921       0.9423921     "
      ]
     },
     "metadata": {},
     "output_type": "display_data"
    },
    {
     "data": {
      "text/html": [
       "<style>\n",
       ".list-inline {list-style: none; margin:0; padding: 0}\n",
       ".list-inline>li {display: inline-block}\n",
       ".list-inline>li:not(:last-child)::after {content: \"\\00b7\"; padding: 0 .5ex}\n",
       "</style>\n",
       "<ol class=list-inline><li>3</li><li>11</li></ol>\n"
      ],
      "text/latex": [
       "\\begin{enumerate*}\n",
       "\\item 3\n",
       "\\item 11\n",
       "\\end{enumerate*}\n"
      ],
      "text/markdown": [
       "1. 3\n",
       "2. 11\n",
       "\n",
       "\n"
      ],
      "text/plain": [
       "[1]  3 11"
      ]
     },
     "metadata": {},
     "output_type": "display_data"
    }
   ],
   "source": [
    "sig_transcripts <- sleuth_results_wt %>% \n",
    "  filter(qval < 0.05)\n",
    "\n",
    "head(sig_transcripts, 20)\n",
    "dim(sig_transcripts)"
   ]
  },
  {
   "cell_type": "code",
   "execution_count": 43,
   "id": "811b32ea-e485-4e90-95c3-f18986754f37",
   "metadata": {},
   "outputs": [
    {
     "name": "stderr",
     "output_type": "stream",
     "text": [
      "Warning message in eval(expr, envir, enclos):\n",
      "\"strings not representable in native encoding will be translated to UTF-8\"\n",
      "Loading required package: shiny\n",
      "\n",
      "Warning message in name %in% fa_tbl$v4_name:\n",
      "\"strings not representable in native encoding will be translated to UTF-8\"\n",
      "\n",
      "Listening on http://127.0.0.1:42427\n",
      "\n"
     ]
    }
   ],
   "source": [
    "sleuth_live(so)"
   ]
  },
  {
   "cell_type": "markdown",
   "id": "285a5009-bfc5-4f3f-83bd-915beeb81704",
   "metadata": {},
   "source": [
    "## Notes:\n",
    "\n",
    "This still seems like a small number of significant DE transcripts. I think that building the model with ~strain + treatment might be the way to go.\n",
    "\n",
    "Should still do a little bit comparison with the above results and Elphege's data"
   ]
  },
  {
   "cell_type": "code",
   "execution_count": 41,
   "id": "ed8f909a-8fef-495c-931b-b5c6e1928331",
   "metadata": {},
   "outputs": [
    {
     "ename": "ERROR",
     "evalue": "Error in plot_transcript_heatmap(so, transcripts = sig_transcripts$target_id[0:20]): Couldn't find the following transcripts: NA, NA, NA, NA, NA, NA, NA, NA, NA, NA, NA, NA, NA, NA, NA, NA, NA\n\tIt is highly likely that some of them were filtered out.\n",
     "output_type": "error",
     "traceback": [
      "Error in plot_transcript_heatmap(so, transcripts = sig_transcripts$target_id[0:20]): Couldn't find the following transcripts: NA, NA, NA, NA, NA, NA, NA, NA, NA, NA, NA, NA, NA, NA, NA, NA, NA\n\tIt is highly likely that some of them were filtered out.\nTraceback:\n",
      "1. plot_transcript_heatmap(so, transcripts = sig_transcripts$target_id[0:20])",
      "2. stop(\"Couldn't find the following transcripts: \", paste(transcripts[!(transcripts %in% \n .     obj$obs_norm$target_id)], collapse = \", \"), \"\\n\\tIt is highly likely that some of them were filtered out.\")"
     ]
    }
   ],
   "source": [
    "plot_transcript_heatmap(so, \n",
    "                        transcripts = sig_transcripts$target_id[0:20])"
   ]
  },
  {
   "cell_type": "markdown",
   "id": "3623d65b-c03c-4f84-998f-240040f8e9ce",
   "metadata": {
    "tags": []
   },
   "source": [
    "# Doing gene-level analysis\n"
   ]
  },
  {
   "cell_type": "code",
   "execution_count": null,
   "id": "5ff105aa-5931-459c-9ddc-3fb8eee01e18",
   "metadata": {},
   "outputs": [],
   "source": [
    "refseq_ids <- read.csv(\"/scratch/pokorny/ensembl_queries_downloads/mm9_ensembl_refseq_id.csv\")"
   ]
  },
  {
   "cell_type": "code",
   "execution_count": null,
   "id": "071e6094-828f-4652-bd8f-057990923c1a",
   "metadata": {},
   "outputs": [],
   "source": [
    "head(refseq_ids, 10)"
   ]
  },
  {
   "cell_type": "code",
   "execution_count": null,
   "id": "c84cb0d4-837c-420d-af4e-7cea3411ab7c",
   "metadata": {},
   "outputs": [],
   "source": [
    "genes <-read.csv(\"/scratch/pokorny/ensembl_queries_downloads/mm9_transcripts_gene.csv\")"
   ]
  },
  {
   "cell_type": "code",
   "execution_count": null,
   "id": "8f61eeed-2b9f-4d81-886d-07793cadf27f",
   "metadata": {},
   "outputs": [],
   "source": [
    "head(genes, 5)"
   ]
  },
  {
   "cell_type": "code",
   "execution_count": null,
   "id": "6e5cbec7-fc94-4ccd-9eb0-9396deeef402",
   "metadata": {},
   "outputs": [],
   "source": [
    "genes <- dplyr::rename(genes, target_id = stable_id,\n",
    "  ens_gene = stable_id.1, ext_gene = description) "
   ]
  },
  {
   "cell_type": "code",
   "execution_count": null,
   "id": "8861dcc5-4e29-420c-bb7d-2f3472641e6a",
   "metadata": {},
   "outputs": [],
   "source": [
    "head(genes)"
   ]
  },
  {
   "cell_type": "code",
   "execution_count": null,
   "id": "262c034b-4d9b-4cbe-a289-f7e98d4d637f",
   "metadata": {},
   "outputs": [],
   "source": [
    "genes <- genes %>% distinct(target_id, .keep_all= TRUE)"
   ]
  },
  {
   "cell_type": "code",
   "execution_count": null,
   "id": "4551da3f-c85d-4664-80ac-5f7a22158aa2",
   "metadata": {},
   "outputs": [],
   "source": [
    "so_gene <- sleuth_prep(s2c, target_mapping = genes, aggregation_column = 'ens_gene')"
   ]
  },
  {
   "cell_type": "code",
   "execution_count": null,
   "id": "b93c956a-0a3c-4ffa-998d-f720d2dc9569",
   "metadata": {},
   "outputs": [],
   "source": [
    "so_gene("
   ]
  },
  {
   "cell_type": "code",
   "execution_count": null,
   "id": "f831d6d4-db85-476a-b3f0-80a6840733e3",
   "metadata": {},
   "outputs": [],
   "source": [
    "# Getting results of test -- from pachterlab tutorial\n",
    "\n",
    "so <- sleuth_wt(so, 'condition RNA-seq_CTCF-AID_auxin2days')\n",
    "models(so)"
   ]
  },
  {
   "cell_type": "code",
   "execution_count": null,
   "id": "afc76a87-0919-4e50-9a9d-f70aa3b5c0bf",
   "metadata": {},
   "outputs": [],
   "source": [
    "tests(so)"
   ]
  },
  {
   "cell_type": "code",
   "execution_count": null,
   "id": "98ba8027-d158-404f-a3e9-3a9556bf8cc6",
   "metadata": {},
   "outputs": [],
   "source": [
    "sleuth_wt_res <- sleuth_results(so, \"condition RNA-seq_CTCF-AID_auxin2days\")\n",
    "head(sleuth_wt_res, 20)"
   ]
  },
  {
   "cell_type": "code",
   "execution_count": null,
   "id": "193531a4-3ab4-4379-bfd7-72d57aa64810",
   "metadata": {},
   "outputs": [],
   "source": [
    "head(sleuth_table, 10)\n",
    "dim(sleuth_table)"
   ]
  },
  {
   "cell_type": "code",
   "execution_count": null,
   "id": "f634c69d-93e2-4f88-846c-921a1c76d97d",
   "metadata": {},
   "outputs": [],
   "source": []
  },
  {
   "cell_type": "markdown",
   "id": "28cabf6d-7d14-466b-9bba-014d310e2d2b",
   "metadata": {},
   "source": [
    "# Closer look at kallisto results\n",
    "\n",
    "Might move these analyses into python and do them there"
   ]
  },
  {
   "cell_type": "code",
   "execution_count": null,
   "id": "5e2ea821-b2de-4960-af16-66931b34ce50",
   "metadata": {},
   "outputs": [],
   "source": [
    "kal <- read.csv('/scratch2/pokorny/elphege-rna-seq/SRP106652-rna-seq/SRR5517523/kallisto/abundance.tsv', sep='\\t')"
   ]
  },
  {
   "cell_type": "code",
   "execution_count": null,
   "id": "b096e7b3-e3c9-44dd-bb5e-e66a570d9dd5",
   "metadata": {},
   "outputs": [],
   "source": [
    "head(kal)"
   ]
  },
  {
   "cell_type": "code",
   "execution_count": null,
   "id": "cedd6bf6-10e9-4377-8537-0f4f79ae1fae",
   "metadata": {},
   "outputs": [],
   "source": []
  },
  {
   "cell_type": "code",
   "execution_count": null,
   "id": "f4d81fb6-01b1-42fc-a3b6-6a983bd9d6b4",
   "metadata": {},
   "outputs": [],
   "source": []
  }
 ],
 "metadata": {
  "kernelspec": {
   "display_name": "R 4.1.0 sleuth",
   "language": "R",
   "name": "r410"
  },
  "language_info": {
   "codemirror_mode": "r",
   "file_extension": ".r",
   "mimetype": "text/x-r-source",
   "name": "R",
   "pygments_lexer": "r",
   "version": "3.6.1"
  }
 },
 "nbformat": 4,
 "nbformat_minor": 5
}
