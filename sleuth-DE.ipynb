{
 "cells": [
  {
   "cell_type": "code",
   "execution_count": 2,
   "id": "5f594b4d-4d58-45e4-a8df-526d04dc7cd0",
   "metadata": {},
   "outputs": [],
   "source": [
    "library(\"sleuth\")"
   ]
  },
  {
   "cell_type": "code",
   "execution_count": 3,
   "id": "aa07490a-95e5-4cec-b8d6-eb9179623ede",
   "metadata": {},
   "outputs": [],
   "source": [
    "suppressMessages({\n",
    "  library(\"sleuth\")\n",
    "})"
   ]
  },
  {
   "cell_type": "code",
   "execution_count": 4,
   "id": "69ab2d73-dd35-416a-950f-9c98d26836cb",
   "metadata": {},
   "outputs": [],
   "source": [
    "elphege_proj_files = \"/scratch2/pokorny/elphege-rna-seq\""
   ]
  },
  {
   "cell_type": "code",
   "execution_count": 5,
   "id": "97ca82f2-0a72-4ca0-a257-dd50c5cf4b2c",
   "metadata": {},
   "outputs": [],
   "source": [
    "sample_id <- dir(file.path(elphege_proj_files,\"SRP106652-rna-seq\"))"
   ]
  },
  {
   "cell_type": "code",
   "execution_count": 6,
   "id": "8a8628d8-1458-44c2-a75f-e2f79c0e3362",
   "metadata": {},
   "outputs": [
    {
     "data": {
      "text/html": [
       "<style>\n",
       ".list-inline {list-style: none; margin:0; padding: 0}\n",
       ".list-inline>li {display: inline-block}\n",
       ".list-inline>li:not(:last-child)::after {content: \"\\00b7\"; padding: 0 .5ex}\n",
       "</style>\n",
       "<ol class=list-inline><li>'SRR5517500'</li><li>'SRR5517501'</li><li>'SRR5517502'</li><li>'SRR5517503'</li><li>'SRR5517504'</li><li>'SRR5517505'</li><li>'SRR5517506'</li><li>'SRR5517507'</li><li>'SRR5517508'</li><li>'SRR5517509'</li><li>'SRR5517510'</li><li>'SRR5517511'</li><li>'SRR5517512'</li><li>'SRR5517513'</li><li>'SRR5517514'</li><li>'SRR5517515'</li><li>'SRR5517516'</li><li>'SRR5517517'</li><li>'SRR5517518'</li><li>'SRR5517519'</li><li>'SRR5517520'</li><li>'SRR5517521'</li><li>'SRR5517522'</li><li>'SRR5517523'</li></ol>\n"
      ],
      "text/latex": [
       "\\begin{enumerate*}\n",
       "\\item 'SRR5517500'\n",
       "\\item 'SRR5517501'\n",
       "\\item 'SRR5517502'\n",
       "\\item 'SRR5517503'\n",
       "\\item 'SRR5517504'\n",
       "\\item 'SRR5517505'\n",
       "\\item 'SRR5517506'\n",
       "\\item 'SRR5517507'\n",
       "\\item 'SRR5517508'\n",
       "\\item 'SRR5517509'\n",
       "\\item 'SRR5517510'\n",
       "\\item 'SRR5517511'\n",
       "\\item 'SRR5517512'\n",
       "\\item 'SRR5517513'\n",
       "\\item 'SRR5517514'\n",
       "\\item 'SRR5517515'\n",
       "\\item 'SRR5517516'\n",
       "\\item 'SRR5517517'\n",
       "\\item 'SRR5517518'\n",
       "\\item 'SRR5517519'\n",
       "\\item 'SRR5517520'\n",
       "\\item 'SRR5517521'\n",
       "\\item 'SRR5517522'\n",
       "\\item 'SRR5517523'\n",
       "\\end{enumerate*}\n"
      ],
      "text/markdown": [
       "1. 'SRR5517500'\n",
       "2. 'SRR5517501'\n",
       "3. 'SRR5517502'\n",
       "4. 'SRR5517503'\n",
       "5. 'SRR5517504'\n",
       "6. 'SRR5517505'\n",
       "7. 'SRR5517506'\n",
       "8. 'SRR5517507'\n",
       "9. 'SRR5517508'\n",
       "10. 'SRR5517509'\n",
       "11. 'SRR5517510'\n",
       "12. 'SRR5517511'\n",
       "13. 'SRR5517512'\n",
       "14. 'SRR5517513'\n",
       "15. 'SRR5517514'\n",
       "16. 'SRR5517515'\n",
       "17. 'SRR5517516'\n",
       "18. 'SRR5517517'\n",
       "19. 'SRR5517518'\n",
       "20. 'SRR5517519'\n",
       "21. 'SRR5517520'\n",
       "22. 'SRR5517521'\n",
       "23. 'SRR5517522'\n",
       "24. 'SRR5517523'\n",
       "\n",
       "\n"
      ],
      "text/plain": [
       " [1] \"SRR5517500\" \"SRR5517501\" \"SRR5517502\" \"SRR5517503\" \"SRR5517504\"\n",
       " [6] \"SRR5517505\" \"SRR5517506\" \"SRR5517507\" \"SRR5517508\" \"SRR5517509\"\n",
       "[11] \"SRR5517510\" \"SRR5517511\" \"SRR5517512\" \"SRR5517513\" \"SRR5517514\"\n",
       "[16] \"SRR5517515\" \"SRR5517516\" \"SRR5517517\" \"SRR5517518\" \"SRR5517519\"\n",
       "[21] \"SRR5517520\" \"SRR5517521\" \"SRR5517522\" \"SRR5517523\""
      ]
     },
     "metadata": {},
     "output_type": "display_data"
    }
   ],
   "source": [
    "sample_id"
   ]
  },
  {
   "cell_type": "code",
   "execution_count": 7,
   "id": "780b1044-3ee7-4edb-ad58-38e3bba37618",
   "metadata": {},
   "outputs": [
    {
     "data": {
      "text/html": [
       "<style>\n",
       ".list-inline {list-style: none; margin:0; padding: 0}\n",
       ".list-inline>li {display: inline-block}\n",
       ".list-inline>li:not(:last-child)::after {content: \"\\00b7\"; padding: 0 .5ex}\n",
       "</style>\n",
       "<ol class=list-inline><li>'/scratch2/pokorny/elphege-rna-seq/SRP106652-rna-seq/SRR5517500/kallisto'</li><li>'/scratch2/pokorny/elphege-rna-seq/SRP106652-rna-seq/SRR5517501/kallisto'</li><li>'/scratch2/pokorny/elphege-rna-seq/SRP106652-rna-seq/SRR5517502/kallisto'</li><li>'/scratch2/pokorny/elphege-rna-seq/SRP106652-rna-seq/SRR5517503/kallisto'</li><li>'/scratch2/pokorny/elphege-rna-seq/SRP106652-rna-seq/SRR5517504/kallisto'</li><li>'/scratch2/pokorny/elphege-rna-seq/SRP106652-rna-seq/SRR5517505/kallisto'</li><li>'/scratch2/pokorny/elphege-rna-seq/SRP106652-rna-seq/SRR5517506/kallisto'</li><li>'/scratch2/pokorny/elphege-rna-seq/SRP106652-rna-seq/SRR5517507/kallisto'</li><li>'/scratch2/pokorny/elphege-rna-seq/SRP106652-rna-seq/SRR5517508/kallisto'</li><li>'/scratch2/pokorny/elphege-rna-seq/SRP106652-rna-seq/SRR5517509/kallisto'</li><li>'/scratch2/pokorny/elphege-rna-seq/SRP106652-rna-seq/SRR5517510/kallisto'</li><li>'/scratch2/pokorny/elphege-rna-seq/SRP106652-rna-seq/SRR5517511/kallisto'</li><li>'/scratch2/pokorny/elphege-rna-seq/SRP106652-rna-seq/SRR5517512/kallisto'</li><li>'/scratch2/pokorny/elphege-rna-seq/SRP106652-rna-seq/SRR5517513/kallisto'</li><li>'/scratch2/pokorny/elphege-rna-seq/SRP106652-rna-seq/SRR5517514/kallisto'</li><li>'/scratch2/pokorny/elphege-rna-seq/SRP106652-rna-seq/SRR5517515/kallisto'</li><li>'/scratch2/pokorny/elphege-rna-seq/SRP106652-rna-seq/SRR5517516/kallisto'</li><li>'/scratch2/pokorny/elphege-rna-seq/SRP106652-rna-seq/SRR5517517/kallisto'</li><li>'/scratch2/pokorny/elphege-rna-seq/SRP106652-rna-seq/SRR5517518/kallisto'</li><li>'/scratch2/pokorny/elphege-rna-seq/SRP106652-rna-seq/SRR5517519/kallisto'</li><li>'/scratch2/pokorny/elphege-rna-seq/SRP106652-rna-seq/SRR5517520/kallisto'</li><li>'/scratch2/pokorny/elphege-rna-seq/SRP106652-rna-seq/SRR5517521/kallisto'</li><li>'/scratch2/pokorny/elphege-rna-seq/SRP106652-rna-seq/SRR5517522/kallisto'</li><li>'/scratch2/pokorny/elphege-rna-seq/SRP106652-rna-seq/SRR5517523/kallisto'</li></ol>\n"
      ],
      "text/latex": [
       "\\begin{enumerate*}\n",
       "\\item '/scratch2/pokorny/elphege-rna-seq/SRP106652-rna-seq/SRR5517500/kallisto'\n",
       "\\item '/scratch2/pokorny/elphege-rna-seq/SRP106652-rna-seq/SRR5517501/kallisto'\n",
       "\\item '/scratch2/pokorny/elphege-rna-seq/SRP106652-rna-seq/SRR5517502/kallisto'\n",
       "\\item '/scratch2/pokorny/elphege-rna-seq/SRP106652-rna-seq/SRR5517503/kallisto'\n",
       "\\item '/scratch2/pokorny/elphege-rna-seq/SRP106652-rna-seq/SRR5517504/kallisto'\n",
       "\\item '/scratch2/pokorny/elphege-rna-seq/SRP106652-rna-seq/SRR5517505/kallisto'\n",
       "\\item '/scratch2/pokorny/elphege-rna-seq/SRP106652-rna-seq/SRR5517506/kallisto'\n",
       "\\item '/scratch2/pokorny/elphege-rna-seq/SRP106652-rna-seq/SRR5517507/kallisto'\n",
       "\\item '/scratch2/pokorny/elphege-rna-seq/SRP106652-rna-seq/SRR5517508/kallisto'\n",
       "\\item '/scratch2/pokorny/elphege-rna-seq/SRP106652-rna-seq/SRR5517509/kallisto'\n",
       "\\item '/scratch2/pokorny/elphege-rna-seq/SRP106652-rna-seq/SRR5517510/kallisto'\n",
       "\\item '/scratch2/pokorny/elphege-rna-seq/SRP106652-rna-seq/SRR5517511/kallisto'\n",
       "\\item '/scratch2/pokorny/elphege-rna-seq/SRP106652-rna-seq/SRR5517512/kallisto'\n",
       "\\item '/scratch2/pokorny/elphege-rna-seq/SRP106652-rna-seq/SRR5517513/kallisto'\n",
       "\\item '/scratch2/pokorny/elphege-rna-seq/SRP106652-rna-seq/SRR5517514/kallisto'\n",
       "\\item '/scratch2/pokorny/elphege-rna-seq/SRP106652-rna-seq/SRR5517515/kallisto'\n",
       "\\item '/scratch2/pokorny/elphege-rna-seq/SRP106652-rna-seq/SRR5517516/kallisto'\n",
       "\\item '/scratch2/pokorny/elphege-rna-seq/SRP106652-rna-seq/SRR5517517/kallisto'\n",
       "\\item '/scratch2/pokorny/elphege-rna-seq/SRP106652-rna-seq/SRR5517518/kallisto'\n",
       "\\item '/scratch2/pokorny/elphege-rna-seq/SRP106652-rna-seq/SRR5517519/kallisto'\n",
       "\\item '/scratch2/pokorny/elphege-rna-seq/SRP106652-rna-seq/SRR5517520/kallisto'\n",
       "\\item '/scratch2/pokorny/elphege-rna-seq/SRP106652-rna-seq/SRR5517521/kallisto'\n",
       "\\item '/scratch2/pokorny/elphege-rna-seq/SRP106652-rna-seq/SRR5517522/kallisto'\n",
       "\\item '/scratch2/pokorny/elphege-rna-seq/SRP106652-rna-seq/SRR5517523/kallisto'\n",
       "\\end{enumerate*}\n"
      ],
      "text/markdown": [
       "1. '/scratch2/pokorny/elphege-rna-seq/SRP106652-rna-seq/SRR5517500/kallisto'\n",
       "2. '/scratch2/pokorny/elphege-rna-seq/SRP106652-rna-seq/SRR5517501/kallisto'\n",
       "3. '/scratch2/pokorny/elphege-rna-seq/SRP106652-rna-seq/SRR5517502/kallisto'\n",
       "4. '/scratch2/pokorny/elphege-rna-seq/SRP106652-rna-seq/SRR5517503/kallisto'\n",
       "5. '/scratch2/pokorny/elphege-rna-seq/SRP106652-rna-seq/SRR5517504/kallisto'\n",
       "6. '/scratch2/pokorny/elphege-rna-seq/SRP106652-rna-seq/SRR5517505/kallisto'\n",
       "7. '/scratch2/pokorny/elphege-rna-seq/SRP106652-rna-seq/SRR5517506/kallisto'\n",
       "8. '/scratch2/pokorny/elphege-rna-seq/SRP106652-rna-seq/SRR5517507/kallisto'\n",
       "9. '/scratch2/pokorny/elphege-rna-seq/SRP106652-rna-seq/SRR5517508/kallisto'\n",
       "10. '/scratch2/pokorny/elphege-rna-seq/SRP106652-rna-seq/SRR5517509/kallisto'\n",
       "11. '/scratch2/pokorny/elphege-rna-seq/SRP106652-rna-seq/SRR5517510/kallisto'\n",
       "12. '/scratch2/pokorny/elphege-rna-seq/SRP106652-rna-seq/SRR5517511/kallisto'\n",
       "13. '/scratch2/pokorny/elphege-rna-seq/SRP106652-rna-seq/SRR5517512/kallisto'\n",
       "14. '/scratch2/pokorny/elphege-rna-seq/SRP106652-rna-seq/SRR5517513/kallisto'\n",
       "15. '/scratch2/pokorny/elphege-rna-seq/SRP106652-rna-seq/SRR5517514/kallisto'\n",
       "16. '/scratch2/pokorny/elphege-rna-seq/SRP106652-rna-seq/SRR5517515/kallisto'\n",
       "17. '/scratch2/pokorny/elphege-rna-seq/SRP106652-rna-seq/SRR5517516/kallisto'\n",
       "18. '/scratch2/pokorny/elphege-rna-seq/SRP106652-rna-seq/SRR5517517/kallisto'\n",
       "19. '/scratch2/pokorny/elphege-rna-seq/SRP106652-rna-seq/SRR5517518/kallisto'\n",
       "20. '/scratch2/pokorny/elphege-rna-seq/SRP106652-rna-seq/SRR5517519/kallisto'\n",
       "21. '/scratch2/pokorny/elphege-rna-seq/SRP106652-rna-seq/SRR5517520/kallisto'\n",
       "22. '/scratch2/pokorny/elphege-rna-seq/SRP106652-rna-seq/SRR5517521/kallisto'\n",
       "23. '/scratch2/pokorny/elphege-rna-seq/SRP106652-rna-seq/SRR5517522/kallisto'\n",
       "24. '/scratch2/pokorny/elphege-rna-seq/SRP106652-rna-seq/SRR5517523/kallisto'\n",
       "\n",
       "\n"
      ],
      "text/plain": [
       " [1] \"/scratch2/pokorny/elphege-rna-seq/SRP106652-rna-seq/SRR5517500/kallisto\"\n",
       " [2] \"/scratch2/pokorny/elphege-rna-seq/SRP106652-rna-seq/SRR5517501/kallisto\"\n",
       " [3] \"/scratch2/pokorny/elphege-rna-seq/SRP106652-rna-seq/SRR5517502/kallisto\"\n",
       " [4] \"/scratch2/pokorny/elphege-rna-seq/SRP106652-rna-seq/SRR5517503/kallisto\"\n",
       " [5] \"/scratch2/pokorny/elphege-rna-seq/SRP106652-rna-seq/SRR5517504/kallisto\"\n",
       " [6] \"/scratch2/pokorny/elphege-rna-seq/SRP106652-rna-seq/SRR5517505/kallisto\"\n",
       " [7] \"/scratch2/pokorny/elphege-rna-seq/SRP106652-rna-seq/SRR5517506/kallisto\"\n",
       " [8] \"/scratch2/pokorny/elphege-rna-seq/SRP106652-rna-seq/SRR5517507/kallisto\"\n",
       " [9] \"/scratch2/pokorny/elphege-rna-seq/SRP106652-rna-seq/SRR5517508/kallisto\"\n",
       "[10] \"/scratch2/pokorny/elphege-rna-seq/SRP106652-rna-seq/SRR5517509/kallisto\"\n",
       "[11] \"/scratch2/pokorny/elphege-rna-seq/SRP106652-rna-seq/SRR5517510/kallisto\"\n",
       "[12] \"/scratch2/pokorny/elphege-rna-seq/SRP106652-rna-seq/SRR5517511/kallisto\"\n",
       "[13] \"/scratch2/pokorny/elphege-rna-seq/SRP106652-rna-seq/SRR5517512/kallisto\"\n",
       "[14] \"/scratch2/pokorny/elphege-rna-seq/SRP106652-rna-seq/SRR5517513/kallisto\"\n",
       "[15] \"/scratch2/pokorny/elphege-rna-seq/SRP106652-rna-seq/SRR5517514/kallisto\"\n",
       "[16] \"/scratch2/pokorny/elphege-rna-seq/SRP106652-rna-seq/SRR5517515/kallisto\"\n",
       "[17] \"/scratch2/pokorny/elphege-rna-seq/SRP106652-rna-seq/SRR5517516/kallisto\"\n",
       "[18] \"/scratch2/pokorny/elphege-rna-seq/SRP106652-rna-seq/SRR5517517/kallisto\"\n",
       "[19] \"/scratch2/pokorny/elphege-rna-seq/SRP106652-rna-seq/SRR5517518/kallisto\"\n",
       "[20] \"/scratch2/pokorny/elphege-rna-seq/SRP106652-rna-seq/SRR5517519/kallisto\"\n",
       "[21] \"/scratch2/pokorny/elphege-rna-seq/SRP106652-rna-seq/SRR5517520/kallisto\"\n",
       "[22] \"/scratch2/pokorny/elphege-rna-seq/SRP106652-rna-seq/SRR5517521/kallisto\"\n",
       "[23] \"/scratch2/pokorny/elphege-rna-seq/SRP106652-rna-seq/SRR5517522/kallisto\"\n",
       "[24] \"/scratch2/pokorny/elphege-rna-seq/SRP106652-rna-seq/SRR5517523/kallisto\""
      ]
     },
     "metadata": {},
     "output_type": "display_data"
    }
   ],
   "source": [
    "kal_dirs <- file.path(elphege_proj_files, \"SRP106652-rna-seq\", sample_id, \"kallisto\")\n",
    "kal_dirs"
   ]
  },
  {
   "cell_type": "markdown",
   "id": "b20816ac-02cc-45f8-a84e-925a19dfa86a",
   "metadata": {},
   "source": [
    "Need to create sleuth constructor object -- matches the experiment files to the conditions"
   ]
  },
  {
   "cell_type": "code",
   "execution_count": 81,
   "id": "bebe7bf1-4f73-4ca1-b259-2bb8b477fba1",
   "metadata": {},
   "outputs": [
    {
     "data": {
      "text/html": [
       "<table class=\"dataframe\">\n",
       "<caption>A data.frame: 5 × 21</caption>\n",
       "<thead>\n",
       "\t<tr><th></th><th scope=col>Experiment.Accession</th><th scope=col>Experiment.Title</th><th scope=col>Organism.Name</th><th scope=col>Instrument</th><th scope=col>Submitter</th><th scope=col>Study.Accession</th><th scope=col>Study.Title</th><th scope=col>Sample.Accession</th><th scope=col>Sample.Title</th><th scope=col>Total.Size..Mb</th><th scope=col>⋯</th><th scope=col>Total.Spots</th><th scope=col>Total.Bases</th><th scope=col>Library.Name</th><th scope=col>Library.Strategy</th><th scope=col>Library.Source</th><th scope=col>Library.Selection</th><th scope=col>1</th><th scope=col>condition</th><th scope=col>3</th><th scope=col>4</th></tr>\n",
       "\t<tr><th></th><th scope=col>&lt;chr&gt;</th><th scope=col>&lt;chr&gt;</th><th scope=col>&lt;chr&gt;</th><th scope=col>&lt;chr&gt;</th><th scope=col>&lt;chr&gt;</th><th scope=col>&lt;chr&gt;</th><th scope=col>&lt;chr&gt;</th><th scope=col>&lt;chr&gt;</th><th scope=col>&lt;lgl&gt;</th><th scope=col>&lt;dbl&gt;</th><th scope=col>⋯</th><th scope=col>&lt;int&gt;</th><th scope=col>&lt;dbl&gt;</th><th scope=col>&lt;lgl&gt;</th><th scope=col>&lt;chr&gt;</th><th scope=col>&lt;chr&gt;</th><th scope=col>&lt;chr&gt;</th><th scope=col>&lt;fct&gt;</th><th scope=col>&lt;chr&gt;</th><th scope=col>&lt;fct&gt;</th><th scope=col>&lt;fct&gt;</th></tr>\n",
       "</thead>\n",
       "<tbody>\n",
       "\t<tr><th scope=row>1</th><td>SRX2790892</td><td>GSM2609232: RNA-seq_WT-untagged_auxin4days_rep3; Mus musculus; RNA-Seq</td><td>Mus musculus</td><td>NextSeq 500</td><td>GEO</td><td>SRP106652</td><td>Targeted degradation of CTCF decouples local insulation of chromosome domains from genomic compartmentalization</td><td>SRS2172370</td><td>NA</td><td>2053.02</td><td>⋯</td><td>37444268</td><td> 5691528736</td><td>NA</td><td>RNA-Seq</td><td>TRANSCRIPTOMIC</td><td>cDNA</td><td>GSM2609232</td><td> RNA-seq_WT-untagged_auxin4days</td><td> Mus musculus</td><td> RNA-Seq</td></tr>\n",
       "\t<tr><th scope=row>2</th><td>SRX2790891</td><td>GSM2609231: RNA-seq_WT-untagged_auxin2days_rep3; Mus musculus; RNA-Seq</td><td>Mus musculus</td><td>NextSeq 500</td><td>GEO</td><td>SRP106652</td><td>Targeted degradation of CTCF decouples local insulation of chromosome domains from genomic compartmentalization</td><td>SRS2172369</td><td>NA</td><td>3252.85</td><td>⋯</td><td>58726186</td><td> 8926380272</td><td>NA</td><td>RNA-Seq</td><td>TRANSCRIPTOMIC</td><td>cDNA</td><td>GSM2609231</td><td> RNA-seq_WT-untagged_auxin2days</td><td> Mus musculus</td><td> RNA-Seq</td></tr>\n",
       "\t<tr><th scope=row>3</th><td>SRX2790890</td><td>GSM2609230: RNA-seq_WT-untagged_untreated_rep3; Mus musculus; RNA-Seq </td><td>Mus musculus</td><td>NextSeq 500</td><td>GEO</td><td>SRP106652</td><td>Targeted degradation of CTCF decouples local insulation of chromosome domains from genomic compartmentalization</td><td>SRS2172368</td><td>NA</td><td>5413.41</td><td>⋯</td><td>98190712</td><td>14924988224</td><td>NA</td><td>RNA-Seq</td><td>TRANSCRIPTOMIC</td><td>cDNA</td><td>GSM2609230</td><td> RNA-seq_WT-untagged_untreated </td><td> Mus musculus</td><td> RNA-Seq</td></tr>\n",
       "\t<tr><th scope=row>4</th><td>SRX2790889</td><td>GSM2609229: RNA-seq_WT-untagged_auxin4days_rep2; Mus musculus; RNA-Seq</td><td>Mus musculus</td><td>NextSeq 500</td><td>GEO</td><td>SRP106652</td><td>Targeted degradation of CTCF decouples local insulation of chromosome domains from genomic compartmentalization</td><td>SRS2172367</td><td>NA</td><td>3291.89</td><td>⋯</td><td>58686036</td><td> 8920277472</td><td>NA</td><td>RNA-Seq</td><td>TRANSCRIPTOMIC</td><td>cDNA</td><td>GSM2609229</td><td> RNA-seq_WT-untagged_auxin4days</td><td> Mus musculus</td><td> RNA-Seq</td></tr>\n",
       "\t<tr><th scope=row>5</th><td>SRX2790888</td><td>GSM2609228: RNA-seq_WT-untagged_auxin2days_rep2; Mus musculus; RNA-Seq</td><td>Mus musculus</td><td>NextSeq 500</td><td>GEO</td><td>SRP106652</td><td>Targeted degradation of CTCF decouples local insulation of chromosome domains from genomic compartmentalization</td><td>SRS2172366</td><td>NA</td><td>2394.52</td><td>⋯</td><td>38024426</td><td> 5779712752</td><td>NA</td><td>RNA-Seq</td><td>TRANSCRIPTOMIC</td><td>cDNA</td><td>GSM2609228</td><td> RNA-seq_WT-untagged_auxin2days</td><td> Mus musculus</td><td> RNA-Seq</td></tr>\n",
       "</tbody>\n",
       "</table>\n"
      ],
      "text/latex": [
       "A data.frame: 5 × 21\n",
       "\\begin{tabular}{r|lllllllllllllllllllll}\n",
       "  & Experiment.Accession & Experiment.Title & Organism.Name & Instrument & Submitter & Study.Accession & Study.Title & Sample.Accession & Sample.Title & Total.Size..Mb & ⋯ & Total.Spots & Total.Bases & Library.Name & Library.Strategy & Library.Source & Library.Selection & 1 & condition & 3 & 4\\\\\n",
       "  & <chr> & <chr> & <chr> & <chr> & <chr> & <chr> & <chr> & <chr> & <lgl> & <dbl> & ⋯ & <int> & <dbl> & <lgl> & <chr> & <chr> & <chr> & <fct> & <chr> & <fct> & <fct>\\\\\n",
       "\\hline\n",
       "\t1 & SRX2790892 & GSM2609232: RNA-seq\\_WT-untagged\\_auxin4days\\_rep3; Mus musculus; RNA-Seq & Mus musculus & NextSeq 500 & GEO & SRP106652 & Targeted degradation of CTCF decouples local insulation of chromosome domains from genomic compartmentalization & SRS2172370 & NA & 2053.02 & ⋯ & 37444268 &  5691528736 & NA & RNA-Seq & TRANSCRIPTOMIC & cDNA & GSM2609232 &  RNA-seq\\_WT-untagged\\_auxin4days &  Mus musculus &  RNA-Seq\\\\\n",
       "\t2 & SRX2790891 & GSM2609231: RNA-seq\\_WT-untagged\\_auxin2days\\_rep3; Mus musculus; RNA-Seq & Mus musculus & NextSeq 500 & GEO & SRP106652 & Targeted degradation of CTCF decouples local insulation of chromosome domains from genomic compartmentalization & SRS2172369 & NA & 3252.85 & ⋯ & 58726186 &  8926380272 & NA & RNA-Seq & TRANSCRIPTOMIC & cDNA & GSM2609231 &  RNA-seq\\_WT-untagged\\_auxin2days &  Mus musculus &  RNA-Seq\\\\\n",
       "\t3 & SRX2790890 & GSM2609230: RNA-seq\\_WT-untagged\\_untreated\\_rep3; Mus musculus; RNA-Seq  & Mus musculus & NextSeq 500 & GEO & SRP106652 & Targeted degradation of CTCF decouples local insulation of chromosome domains from genomic compartmentalization & SRS2172368 & NA & 5413.41 & ⋯ & 98190712 & 14924988224 & NA & RNA-Seq & TRANSCRIPTOMIC & cDNA & GSM2609230 &  RNA-seq\\_WT-untagged\\_untreated  &  Mus musculus &  RNA-Seq\\\\\n",
       "\t4 & SRX2790889 & GSM2609229: RNA-seq\\_WT-untagged\\_auxin4days\\_rep2; Mus musculus; RNA-Seq & Mus musculus & NextSeq 500 & GEO & SRP106652 & Targeted degradation of CTCF decouples local insulation of chromosome domains from genomic compartmentalization & SRS2172367 & NA & 3291.89 & ⋯ & 58686036 &  8920277472 & NA & RNA-Seq & TRANSCRIPTOMIC & cDNA & GSM2609229 &  RNA-seq\\_WT-untagged\\_auxin4days &  Mus musculus &  RNA-Seq\\\\\n",
       "\t5 & SRX2790888 & GSM2609228: RNA-seq\\_WT-untagged\\_auxin2days\\_rep2; Mus musculus; RNA-Seq & Mus musculus & NextSeq 500 & GEO & SRP106652 & Targeted degradation of CTCF decouples local insulation of chromosome domains from genomic compartmentalization & SRS2172366 & NA & 2394.52 & ⋯ & 38024426 &  5779712752 & NA & RNA-Seq & TRANSCRIPTOMIC & cDNA & GSM2609228 &  RNA-seq\\_WT-untagged\\_auxin2days &  Mus musculus &  RNA-Seq\\\\\n",
       "\\end{tabular}\n"
      ],
      "text/markdown": [
       "\n",
       "A data.frame: 5 × 21\n",
       "\n",
       "| <!--/--> | Experiment.Accession &lt;chr&gt; | Experiment.Title &lt;chr&gt; | Organism.Name &lt;chr&gt; | Instrument &lt;chr&gt; | Submitter &lt;chr&gt; | Study.Accession &lt;chr&gt; | Study.Title &lt;chr&gt; | Sample.Accession &lt;chr&gt; | Sample.Title &lt;lgl&gt; | Total.Size..Mb &lt;dbl&gt; | ⋯ ⋯ | Total.Spots &lt;int&gt; | Total.Bases &lt;dbl&gt; | Library.Name &lt;lgl&gt; | Library.Strategy &lt;chr&gt; | Library.Source &lt;chr&gt; | Library.Selection &lt;chr&gt; | 1 &lt;fct&gt; | condition &lt;chr&gt; | 3 &lt;fct&gt; | 4 &lt;fct&gt; |\n",
       "|---|---|---|---|---|---|---|---|---|---|---|---|---|---|---|---|---|---|---|---|---|---|\n",
       "| 1 | SRX2790892 | GSM2609232: RNA-seq_WT-untagged_auxin4days_rep3; Mus musculus; RNA-Seq | Mus musculus | NextSeq 500 | GEO | SRP106652 | Targeted degradation of CTCF decouples local insulation of chromosome domains from genomic compartmentalization | SRS2172370 | NA | 2053.02 | ⋯ | 37444268 |  5691528736 | NA | RNA-Seq | TRANSCRIPTOMIC | cDNA | GSM2609232 |  RNA-seq_WT-untagged_auxin4days |  Mus musculus |  RNA-Seq |\n",
       "| 2 | SRX2790891 | GSM2609231: RNA-seq_WT-untagged_auxin2days_rep3; Mus musculus; RNA-Seq | Mus musculus | NextSeq 500 | GEO | SRP106652 | Targeted degradation of CTCF decouples local insulation of chromosome domains from genomic compartmentalization | SRS2172369 | NA | 3252.85 | ⋯ | 58726186 |  8926380272 | NA | RNA-Seq | TRANSCRIPTOMIC | cDNA | GSM2609231 |  RNA-seq_WT-untagged_auxin2days |  Mus musculus |  RNA-Seq |\n",
       "| 3 | SRX2790890 | GSM2609230: RNA-seq_WT-untagged_untreated_rep3; Mus musculus; RNA-Seq  | Mus musculus | NextSeq 500 | GEO | SRP106652 | Targeted degradation of CTCF decouples local insulation of chromosome domains from genomic compartmentalization | SRS2172368 | NA | 5413.41 | ⋯ | 98190712 | 14924988224 | NA | RNA-Seq | TRANSCRIPTOMIC | cDNA | GSM2609230 |  RNA-seq_WT-untagged_untreated  |  Mus musculus |  RNA-Seq |\n",
       "| 4 | SRX2790889 | GSM2609229: RNA-seq_WT-untagged_auxin4days_rep2; Mus musculus; RNA-Seq | Mus musculus | NextSeq 500 | GEO | SRP106652 | Targeted degradation of CTCF decouples local insulation of chromosome domains from genomic compartmentalization | SRS2172367 | NA | 3291.89 | ⋯ | 58686036 |  8920277472 | NA | RNA-Seq | TRANSCRIPTOMIC | cDNA | GSM2609229 |  RNA-seq_WT-untagged_auxin4days |  Mus musculus |  RNA-Seq |\n",
       "| 5 | SRX2790888 | GSM2609228: RNA-seq_WT-untagged_auxin2days_rep2; Mus musculus; RNA-Seq | Mus musculus | NextSeq 500 | GEO | SRP106652 | Targeted degradation of CTCF decouples local insulation of chromosome domains from genomic compartmentalization | SRS2172366 | NA | 2394.52 | ⋯ | 38024426 |  5779712752 | NA | RNA-Seq | TRANSCRIPTOMIC | cDNA | GSM2609228 |  RNA-seq_WT-untagged_auxin2days |  Mus musculus |  RNA-Seq |\n",
       "\n"
      ],
      "text/plain": [
       "  Experiment.Accession\n",
       "1 SRX2790892          \n",
       "2 SRX2790891          \n",
       "3 SRX2790890          \n",
       "4 SRX2790889          \n",
       "5 SRX2790888          \n",
       "  Experiment.Title                                                      \n",
       "1 GSM2609232: RNA-seq_WT-untagged_auxin4days_rep3; Mus musculus; RNA-Seq\n",
       "2 GSM2609231: RNA-seq_WT-untagged_auxin2days_rep3; Mus musculus; RNA-Seq\n",
       "3 GSM2609230: RNA-seq_WT-untagged_untreated_rep3; Mus musculus; RNA-Seq \n",
       "4 GSM2609229: RNA-seq_WT-untagged_auxin4days_rep2; Mus musculus; RNA-Seq\n",
       "5 GSM2609228: RNA-seq_WT-untagged_auxin2days_rep2; Mus musculus; RNA-Seq\n",
       "  Organism.Name Instrument  Submitter Study.Accession\n",
       "1 Mus musculus  NextSeq 500 GEO       SRP106652      \n",
       "2 Mus musculus  NextSeq 500 GEO       SRP106652      \n",
       "3 Mus musculus  NextSeq 500 GEO       SRP106652      \n",
       "4 Mus musculus  NextSeq 500 GEO       SRP106652      \n",
       "5 Mus musculus  NextSeq 500 GEO       SRP106652      \n",
       "  Study.Title                                                                                                    \n",
       "1 Targeted degradation of CTCF decouples local insulation of chromosome domains from genomic compartmentalization\n",
       "2 Targeted degradation of CTCF decouples local insulation of chromosome domains from genomic compartmentalization\n",
       "3 Targeted degradation of CTCF decouples local insulation of chromosome domains from genomic compartmentalization\n",
       "4 Targeted degradation of CTCF decouples local insulation of chromosome domains from genomic compartmentalization\n",
       "5 Targeted degradation of CTCF decouples local insulation of chromosome domains from genomic compartmentalization\n",
       "  Sample.Accession Sample.Title Total.Size..Mb <U+22EF>   Total.Spots Total.Bases\n",
       "1 SRS2172370       NA           2053.02        <U+22EF> 37444268     5691528736\n",
       "2 SRS2172369       NA           3252.85        <U+22EF> 58726186     8926380272\n",
       "3 SRS2172368       NA           5413.41        <U+22EF> 98190712    14924988224\n",
       "4 SRS2172367       NA           3291.89        <U+22EF> 58686036     8920277472\n",
       "5 SRS2172366       NA           2394.52        <U+22EF> 38024426     5779712752\n",
       "  Library.Name Library.Strategy Library.Source Library.Selection 1         \n",
       "1 NA           RNA-Seq          TRANSCRIPTOMIC cDNA              GSM2609232\n",
       "2 NA           RNA-Seq          TRANSCRIPTOMIC cDNA              GSM2609231\n",
       "3 NA           RNA-Seq          TRANSCRIPTOMIC cDNA              GSM2609230\n",
       "4 NA           RNA-Seq          TRANSCRIPTOMIC cDNA              GSM2609229\n",
       "5 NA           RNA-Seq          TRANSCRIPTOMIC cDNA              GSM2609228\n",
       "  condition                       3             4       \n",
       "1  RNA-seq_WT-untagged_auxin4days  Mus musculus  RNA-Seq\n",
       "2  RNA-seq_WT-untagged_auxin2days  Mus musculus  RNA-Seq\n",
       "3  RNA-seq_WT-untagged_untreated   Mus musculus  RNA-Seq\n",
       "4  RNA-seq_WT-untagged_auxin4days  Mus musculus  RNA-Seq\n",
       "5  RNA-seq_WT-untagged_auxin2days  Mus musculus  RNA-Seq"
      ]
     },
     "metadata": {},
     "output_type": "display_data"
    }
   ],
   "source": [
    "# Getting \"Run\" and \"condition\" from Experiment Name of the SRA deposits\n",
    "\n",
    "sum <- read.table(file.path(elphege_proj_files, \"metadata\", \"sra_result_summary.csv\"), header = TRUE, sep = \",\", stringsAsFactors=FALSE)\n",
    "\n",
    "# Parse experiment name to get 'condition' -- str_split_fixed(string, pattern, n)\n",
    "sum_extended <- cbind(sum,  stringr::str_split_fixed(sum$Experiment.Title, \"[:;]+\", 4))\n",
    "colnames(sum_extended)[19] <- \"condition\"\n",
    "\n",
    "# Removing replicate number so that sleuth can do some grouping\n",
    "sum_extended$condition <- sub(\"_rep[0-4]\", \"\", sum_extended$condition)\n",
    "head(sum_extended, 5)"
   ]
  },
  {
   "cell_type": "code",
   "execution_count": 82,
   "id": "f755a869-9910-41c1-bb5f-80ab50275411",
   "metadata": {},
   "outputs": [
    {
     "data": {
      "text/html": [
       "<table class=\"dataframe\">\n",
       "<caption>A data.frame: 5 × 47</caption>\n",
       "<thead>\n",
       "\t<tr><th></th><th scope=col>Run</th><th scope=col>ReleaseDate</th><th scope=col>LoadDate</th><th scope=col>spots</th><th scope=col>bases</th><th scope=col>spots_with_mates</th><th scope=col>avgLength</th><th scope=col>size_MB</th><th scope=col>AssemblyName</th><th scope=col>download_path</th><th scope=col>⋯</th><th scope=col>Affection_Status</th><th scope=col>Analyte_Type</th><th scope=col>Histological_Type</th><th scope=col>Body_Site</th><th scope=col>CenterName</th><th scope=col>Submission</th><th scope=col>dbgap_study_accession</th><th scope=col>Consent</th><th scope=col>RunHash</th><th scope=col>ReadHash</th></tr>\n",
       "\t<tr><th></th><th scope=col>&lt;chr&gt;</th><th scope=col>&lt;chr&gt;</th><th scope=col>&lt;chr&gt;</th><th scope=col>&lt;int&gt;</th><th scope=col>&lt;dbl&gt;</th><th scope=col>&lt;int&gt;</th><th scope=col>&lt;int&gt;</th><th scope=col>&lt;int&gt;</th><th scope=col>&lt;lgl&gt;</th><th scope=col>&lt;chr&gt;</th><th scope=col>⋯</th><th scope=col>&lt;lgl&gt;</th><th scope=col>&lt;lgl&gt;</th><th scope=col>&lt;lgl&gt;</th><th scope=col>&lt;lgl&gt;</th><th scope=col>&lt;chr&gt;</th><th scope=col>&lt;chr&gt;</th><th scope=col>&lt;lgl&gt;</th><th scope=col>&lt;chr&gt;</th><th scope=col>&lt;chr&gt;</th><th scope=col>&lt;chr&gt;</th></tr>\n",
       "</thead>\n",
       "<tbody>\n",
       "\t<tr><th scope=row>1</th><td>SRR5517500</td><td>2017-05-26 10:16:21</td><td>2017-05-08 17:35:25</td><td>28656716</td><td>4355820832</td><td>28656716</td><td>152</td><td>1603</td><td>NA</td><td>https://sra-downloadb.st-va.ncbi.nlm.nih.gov/sos1/sra-pub-run-8/SRR5517500/SRR5517500.1</td><td>⋯</td><td>NA</td><td>NA</td><td>NA</td><td>NA</td><td>GEO</td><td>SRA560605</td><td>NA</td><td>public</td><td>F81677DDDD471559B2F07AE966817AAF</td><td>7C8A3510A0405D532E497E49E19F67B9</td></tr>\n",
       "\t<tr><th scope=row>2</th><td>SRR5517501</td><td>2017-05-26 10:16:21</td><td>2017-05-08 17:35:57</td><td>30176838</td><td>4586879376</td><td>30176838</td><td>152</td><td>1672</td><td>NA</td><td>https://sra-downloadb.st-va.ncbi.nlm.nih.gov/sos1/sra-pub-run-8/SRR5517501/SRR5517501.1</td><td>⋯</td><td>NA</td><td>NA</td><td>NA</td><td>NA</td><td>GEO</td><td>SRA560605</td><td>NA</td><td>public</td><td>B8469693637BD9B86CA631EDC8C3F149</td><td>850B6F66A9C3670E4D7A9D42ECEA8FDE</td></tr>\n",
       "\t<tr><th scope=row>3</th><td>SRR5517502</td><td>2017-05-26 10:16:21</td><td>2017-05-08 17:55:26</td><td>41274152</td><td>6273671104</td><td>41274152</td><td>152</td><td>2310</td><td>NA</td><td>https://sra-downloadb.st-va.ncbi.nlm.nih.gov/sos1/sra-pub-run-8/SRR5517502/SRR5517502.1</td><td>⋯</td><td>NA</td><td>NA</td><td>NA</td><td>NA</td><td>GEO</td><td>SRA560605</td><td>NA</td><td>public</td><td>1EAA03FB52CABD86B77EDC88F938701C</td><td>AE5EA653D9F5031ABE66E27ABAEC2773</td></tr>\n",
       "\t<tr><th scope=row>4</th><td>SRR5517503</td><td>2017-05-26 10:16:21</td><td>2017-05-08 17:39:08</td><td>28848858</td><td>4385026416</td><td>28848858</td><td>152</td><td>1603</td><td>NA</td><td>https://sra-downloadb.st-va.ncbi.nlm.nih.gov/sos1/sra-pub-run-8/SRR5517503/SRR5517503.1</td><td>⋯</td><td>NA</td><td>NA</td><td>NA</td><td>NA</td><td>GEO</td><td>SRA560605</td><td>NA</td><td>public</td><td>EC245424F964BB5621856DA6FCFB0ED2</td><td>264A772C22561DD1B389FC115F2767ED</td></tr>\n",
       "\t<tr><th scope=row>5</th><td>SRR5517504</td><td>2017-05-26 10:16:21</td><td>2017-05-08 17:36:17</td><td>28605084</td><td>4347972768</td><td>28605084</td><td>152</td><td>1589</td><td>NA</td><td>https://sra-downloadb.st-va.ncbi.nlm.nih.gov/sos1/sra-pub-run-8/SRR5517504/SRR5517504.1</td><td>⋯</td><td>NA</td><td>NA</td><td>NA</td><td>NA</td><td>GEO</td><td>SRA560605</td><td>NA</td><td>public</td><td>238EDD94BDDEDACD0D2D51FAF7FE86AD</td><td>E9D992BB7AA74585B2AE37AF7953ED12</td></tr>\n",
       "</tbody>\n",
       "</table>\n"
      ],
      "text/latex": [
       "A data.frame: 5 × 47\n",
       "\\begin{tabular}{r|lllllllllllllllllllll}\n",
       "  & Run & ReleaseDate & LoadDate & spots & bases & spots\\_with\\_mates & avgLength & size\\_MB & AssemblyName & download\\_path & ⋯ & Affection\\_Status & Analyte\\_Type & Histological\\_Type & Body\\_Site & CenterName & Submission & dbgap\\_study\\_accession & Consent & RunHash & ReadHash\\\\\n",
       "  & <chr> & <chr> & <chr> & <int> & <dbl> & <int> & <int> & <int> & <lgl> & <chr> & ⋯ & <lgl> & <lgl> & <lgl> & <lgl> & <chr> & <chr> & <lgl> & <chr> & <chr> & <chr>\\\\\n",
       "\\hline\n",
       "\t1 & SRR5517500 & 2017-05-26 10:16:21 & 2017-05-08 17:35:25 & 28656716 & 4355820832 & 28656716 & 152 & 1603 & NA & https://sra-downloadb.st-va.ncbi.nlm.nih.gov/sos1/sra-pub-run-8/SRR5517500/SRR5517500.1 & ⋯ & NA & NA & NA & NA & GEO & SRA560605 & NA & public & F81677DDDD471559B2F07AE966817AAF & 7C8A3510A0405D532E497E49E19F67B9\\\\\n",
       "\t2 & SRR5517501 & 2017-05-26 10:16:21 & 2017-05-08 17:35:57 & 30176838 & 4586879376 & 30176838 & 152 & 1672 & NA & https://sra-downloadb.st-va.ncbi.nlm.nih.gov/sos1/sra-pub-run-8/SRR5517501/SRR5517501.1 & ⋯ & NA & NA & NA & NA & GEO & SRA560605 & NA & public & B8469693637BD9B86CA631EDC8C3F149 & 850B6F66A9C3670E4D7A9D42ECEA8FDE\\\\\n",
       "\t3 & SRR5517502 & 2017-05-26 10:16:21 & 2017-05-08 17:55:26 & 41274152 & 6273671104 & 41274152 & 152 & 2310 & NA & https://sra-downloadb.st-va.ncbi.nlm.nih.gov/sos1/sra-pub-run-8/SRR5517502/SRR5517502.1 & ⋯ & NA & NA & NA & NA & GEO & SRA560605 & NA & public & 1EAA03FB52CABD86B77EDC88F938701C & AE5EA653D9F5031ABE66E27ABAEC2773\\\\\n",
       "\t4 & SRR5517503 & 2017-05-26 10:16:21 & 2017-05-08 17:39:08 & 28848858 & 4385026416 & 28848858 & 152 & 1603 & NA & https://sra-downloadb.st-va.ncbi.nlm.nih.gov/sos1/sra-pub-run-8/SRR5517503/SRR5517503.1 & ⋯ & NA & NA & NA & NA & GEO & SRA560605 & NA & public & EC245424F964BB5621856DA6FCFB0ED2 & 264A772C22561DD1B389FC115F2767ED\\\\\n",
       "\t5 & SRR5517504 & 2017-05-26 10:16:21 & 2017-05-08 17:36:17 & 28605084 & 4347972768 & 28605084 & 152 & 1589 & NA & https://sra-downloadb.st-va.ncbi.nlm.nih.gov/sos1/sra-pub-run-8/SRR5517504/SRR5517504.1 & ⋯ & NA & NA & NA & NA & GEO & SRA560605 & NA & public & 238EDD94BDDEDACD0D2D51FAF7FE86AD & E9D992BB7AA74585B2AE37AF7953ED12\\\\\n",
       "\\end{tabular}\n"
      ],
      "text/markdown": [
       "\n",
       "A data.frame: 5 × 47\n",
       "\n",
       "| <!--/--> | Run &lt;chr&gt; | ReleaseDate &lt;chr&gt; | LoadDate &lt;chr&gt; | spots &lt;int&gt; | bases &lt;dbl&gt; | spots_with_mates &lt;int&gt; | avgLength &lt;int&gt; | size_MB &lt;int&gt; | AssemblyName &lt;lgl&gt; | download_path &lt;chr&gt; | ⋯ ⋯ | Affection_Status &lt;lgl&gt; | Analyte_Type &lt;lgl&gt; | Histological_Type &lt;lgl&gt; | Body_Site &lt;lgl&gt; | CenterName &lt;chr&gt; | Submission &lt;chr&gt; | dbgap_study_accession &lt;lgl&gt; | Consent &lt;chr&gt; | RunHash &lt;chr&gt; | ReadHash &lt;chr&gt; |\n",
       "|---|---|---|---|---|---|---|---|---|---|---|---|---|---|---|---|---|---|---|---|---|---|\n",
       "| 1 | SRR5517500 | 2017-05-26 10:16:21 | 2017-05-08 17:35:25 | 28656716 | 4355820832 | 28656716 | 152 | 1603 | NA | https://sra-downloadb.st-va.ncbi.nlm.nih.gov/sos1/sra-pub-run-8/SRR5517500/SRR5517500.1 | ⋯ | NA | NA | NA | NA | GEO | SRA560605 | NA | public | F81677DDDD471559B2F07AE966817AAF | 7C8A3510A0405D532E497E49E19F67B9 |\n",
       "| 2 | SRR5517501 | 2017-05-26 10:16:21 | 2017-05-08 17:35:57 | 30176838 | 4586879376 | 30176838 | 152 | 1672 | NA | https://sra-downloadb.st-va.ncbi.nlm.nih.gov/sos1/sra-pub-run-8/SRR5517501/SRR5517501.1 | ⋯ | NA | NA | NA | NA | GEO | SRA560605 | NA | public | B8469693637BD9B86CA631EDC8C3F149 | 850B6F66A9C3670E4D7A9D42ECEA8FDE |\n",
       "| 3 | SRR5517502 | 2017-05-26 10:16:21 | 2017-05-08 17:55:26 | 41274152 | 6273671104 | 41274152 | 152 | 2310 | NA | https://sra-downloadb.st-va.ncbi.nlm.nih.gov/sos1/sra-pub-run-8/SRR5517502/SRR5517502.1 | ⋯ | NA | NA | NA | NA | GEO | SRA560605 | NA | public | 1EAA03FB52CABD86B77EDC88F938701C | AE5EA653D9F5031ABE66E27ABAEC2773 |\n",
       "| 4 | SRR5517503 | 2017-05-26 10:16:21 | 2017-05-08 17:39:08 | 28848858 | 4385026416 | 28848858 | 152 | 1603 | NA | https://sra-downloadb.st-va.ncbi.nlm.nih.gov/sos1/sra-pub-run-8/SRR5517503/SRR5517503.1 | ⋯ | NA | NA | NA | NA | GEO | SRA560605 | NA | public | EC245424F964BB5621856DA6FCFB0ED2 | 264A772C22561DD1B389FC115F2767ED |\n",
       "| 5 | SRR5517504 | 2017-05-26 10:16:21 | 2017-05-08 17:36:17 | 28605084 | 4347972768 | 28605084 | 152 | 1589 | NA | https://sra-downloadb.st-va.ncbi.nlm.nih.gov/sos1/sra-pub-run-8/SRR5517504/SRR5517504.1 | ⋯ | NA | NA | NA | NA | GEO | SRA560605 | NA | public | 238EDD94BDDEDACD0D2D51FAF7FE86AD | E9D992BB7AA74585B2AE37AF7953ED12 |\n",
       "\n"
      ],
      "text/plain": [
       "  Run        ReleaseDate         LoadDate            spots    bases     \n",
       "1 SRR5517500 2017-05-26 10:16:21 2017-05-08 17:35:25 28656716 4355820832\n",
       "2 SRR5517501 2017-05-26 10:16:21 2017-05-08 17:35:57 30176838 4586879376\n",
       "3 SRR5517502 2017-05-26 10:16:21 2017-05-08 17:55:26 41274152 6273671104\n",
       "4 SRR5517503 2017-05-26 10:16:21 2017-05-08 17:39:08 28848858 4385026416\n",
       "5 SRR5517504 2017-05-26 10:16:21 2017-05-08 17:36:17 28605084 4347972768\n",
       "  spots_with_mates avgLength size_MB AssemblyName\n",
       "1 28656716         152       1603    NA          \n",
       "2 30176838         152       1672    NA          \n",
       "3 41274152         152       2310    NA          \n",
       "4 28848858         152       1603    NA          \n",
       "5 28605084         152       1589    NA          \n",
       "  download_path                                                                          \n",
       "1 https://sra-downloadb.st-va.ncbi.nlm.nih.gov/sos1/sra-pub-run-8/SRR5517500/SRR5517500.1\n",
       "2 https://sra-downloadb.st-va.ncbi.nlm.nih.gov/sos1/sra-pub-run-8/SRR5517501/SRR5517501.1\n",
       "3 https://sra-downloadb.st-va.ncbi.nlm.nih.gov/sos1/sra-pub-run-8/SRR5517502/SRR5517502.1\n",
       "4 https://sra-downloadb.st-va.ncbi.nlm.nih.gov/sos1/sra-pub-run-8/SRR5517503/SRR5517503.1\n",
       "5 https://sra-downloadb.st-va.ncbi.nlm.nih.gov/sos1/sra-pub-run-8/SRR5517504/SRR5517504.1\n",
       "  <U+22EF>   Affection_Status Analyte_Type Histological_Type Body_Site CenterName\n",
       "1 <U+22EF> NA               NA           NA                NA        GEO       \n",
       "2 <U+22EF> NA               NA           NA                NA        GEO       \n",
       "3 <U+22EF> NA               NA           NA                NA        GEO       \n",
       "4 <U+22EF> NA               NA           NA                NA        GEO       \n",
       "5 <U+22EF> NA               NA           NA                NA        GEO       \n",
       "  Submission dbgap_study_accession Consent RunHash                         \n",
       "1 SRA560605  NA                    public  F81677DDDD471559B2F07AE966817AAF\n",
       "2 SRA560605  NA                    public  B8469693637BD9B86CA631EDC8C3F149\n",
       "3 SRA560605  NA                    public  1EAA03FB52CABD86B77EDC88F938701C\n",
       "4 SRA560605  NA                    public  EC245424F964BB5621856DA6FCFB0ED2\n",
       "5 SRA560605  NA                    public  238EDD94BDDEDACD0D2D51FAF7FE86AD\n",
       "  ReadHash                        \n",
       "1 7C8A3510A0405D532E497E49E19F67B9\n",
       "2 850B6F66A9C3670E4D7A9D42ECEA8FDE\n",
       "3 AE5EA653D9F5031ABE66E27ABAEC2773\n",
       "4 264A772C22561DD1B389FC115F2767ED\n",
       "5 E9D992BB7AA74585B2AE37AF7953ED12"
      ]
     },
     "metadata": {},
     "output_type": "display_data"
    }
   ],
   "source": [
    "runInfo <- read.table(file.path(elphege_proj_files, \"metadata\", \"SraRunInfo.csv\"), header = TRUE, sep = \",\", stringsAsFactors=FALSE)\n",
    "head(runInfo, 5)"
   ]
  },
  {
   "cell_type": "code",
   "execution_count": 10,
   "id": "27a1fb19-6741-41d5-89a5-6760ed9da04d",
   "metadata": {},
   "outputs": [
    {
     "name": "stderr",
     "output_type": "stream",
     "text": [
      "\n",
      "Attaching package: 'dplyr'\n",
      "\n",
      "\n",
      "The following objects are masked from 'package:stats':\n",
      "\n",
      "    filter, lag\n",
      "\n",
      "\n",
      "The following objects are masked from 'package:base':\n",
      "\n",
      "    intersect, setdiff, setequal, union\n",
      "\n",
      "\n"
     ]
    },
    {
     "data": {
      "text/html": [
       "<table class=\"dataframe\">\n",
       "<caption>A data.frame: 24 × 2</caption>\n",
       "<thead>\n",
       "\t<tr><th scope=col>sample</th><th scope=col>condition</th></tr>\n",
       "\t<tr><th scope=col>&lt;chr&gt;</th><th scope=col>&lt;chr&gt;</th></tr>\n",
       "</thead>\n",
       "<tbody>\n",
       "\t<tr><td>SRR5517500</td><td> RNA-seq_CTCF-AID_untreated    </td></tr>\n",
       "\t<tr><td>SRR5517501</td><td> RNA-seq_CTCF-AID_auxin1day    </td></tr>\n",
       "\t<tr><td>SRR5517502</td><td> RNA-seq_CTCF-AID_auxin2days   </td></tr>\n",
       "\t<tr><td>SRR5517503</td><td> RNA-seq_CTCF-AID_auxin4days   </td></tr>\n",
       "\t<tr><td>SRR5517504</td><td> RNA-seq_CTCF-AID_washoff2days </td></tr>\n",
       "\t<tr><td>SRR5517505</td><td> RNA-seq_CTCF-AID_untreated    </td></tr>\n",
       "\t<tr><td>SRR5517506</td><td> RNA-seq_CTCF-AID_auxin1day    </td></tr>\n",
       "\t<tr><td>SRR5517507</td><td> RNA-seq_CTCF-AID_auxin2days   </td></tr>\n",
       "\t<tr><td>SRR5517508</td><td> RNA-seq_CTCF-AID_auxin4days   </td></tr>\n",
       "\t<tr><td>SRR5517509</td><td> RNA-seq_CTCF-AID_washoff2days </td></tr>\n",
       "\t<tr><td>SRR5517510</td><td> RNA-seq_CTCF-AID_untreated    </td></tr>\n",
       "\t<tr><td>SRR5517511</td><td> RNA-seq_CTCF-AID_auxin1day    </td></tr>\n",
       "\t<tr><td>SRR5517512</td><td> RNA-seq_CTCF-AID_auxin2days   </td></tr>\n",
       "\t<tr><td>SRR5517513</td><td> RNA-seq_CTCF-AID_auxin4days   </td></tr>\n",
       "\t<tr><td>SRR5517514</td><td> RNA-seq_CTCF-AID_washoff2days </td></tr>\n",
       "\t<tr><td>SRR5517515</td><td> RNA-seq_WT-untagged_untreated </td></tr>\n",
       "\t<tr><td>SRR5517516</td><td> RNA-seq_WT-untagged_auxin2days</td></tr>\n",
       "\t<tr><td>SRR5517517</td><td> RNA-seq_WT-untagged_auxin4days</td></tr>\n",
       "\t<tr><td>SRR5517518</td><td> RNA-seq_WT-untagged_untreated </td></tr>\n",
       "\t<tr><td>SRR5517519</td><td> RNA-seq_WT-untagged_auxin2days</td></tr>\n",
       "\t<tr><td>SRR5517520</td><td> RNA-seq_WT-untagged_auxin4days</td></tr>\n",
       "\t<tr><td>SRR5517521</td><td> RNA-seq_WT-untagged_untreated </td></tr>\n",
       "\t<tr><td>SRR5517522</td><td> RNA-seq_WT-untagged_auxin2days</td></tr>\n",
       "\t<tr><td>SRR5517523</td><td> RNA-seq_WT-untagged_auxin4days</td></tr>\n",
       "</tbody>\n",
       "</table>\n"
      ],
      "text/latex": [
       "A data.frame: 24 × 2\n",
       "\\begin{tabular}{ll}\n",
       " sample & condition\\\\\n",
       " <chr> & <chr>\\\\\n",
       "\\hline\n",
       "\t SRR5517500 &  RNA-seq\\_CTCF-AID\\_untreated    \\\\\n",
       "\t SRR5517501 &  RNA-seq\\_CTCF-AID\\_auxin1day    \\\\\n",
       "\t SRR5517502 &  RNA-seq\\_CTCF-AID\\_auxin2days   \\\\\n",
       "\t SRR5517503 &  RNA-seq\\_CTCF-AID\\_auxin4days   \\\\\n",
       "\t SRR5517504 &  RNA-seq\\_CTCF-AID\\_washoff2days \\\\\n",
       "\t SRR5517505 &  RNA-seq\\_CTCF-AID\\_untreated    \\\\\n",
       "\t SRR5517506 &  RNA-seq\\_CTCF-AID\\_auxin1day    \\\\\n",
       "\t SRR5517507 &  RNA-seq\\_CTCF-AID\\_auxin2days   \\\\\n",
       "\t SRR5517508 &  RNA-seq\\_CTCF-AID\\_auxin4days   \\\\\n",
       "\t SRR5517509 &  RNA-seq\\_CTCF-AID\\_washoff2days \\\\\n",
       "\t SRR5517510 &  RNA-seq\\_CTCF-AID\\_untreated    \\\\\n",
       "\t SRR5517511 &  RNA-seq\\_CTCF-AID\\_auxin1day    \\\\\n",
       "\t SRR5517512 &  RNA-seq\\_CTCF-AID\\_auxin2days   \\\\\n",
       "\t SRR5517513 &  RNA-seq\\_CTCF-AID\\_auxin4days   \\\\\n",
       "\t SRR5517514 &  RNA-seq\\_CTCF-AID\\_washoff2days \\\\\n",
       "\t SRR5517515 &  RNA-seq\\_WT-untagged\\_untreated \\\\\n",
       "\t SRR5517516 &  RNA-seq\\_WT-untagged\\_auxin2days\\\\\n",
       "\t SRR5517517 &  RNA-seq\\_WT-untagged\\_auxin4days\\\\\n",
       "\t SRR5517518 &  RNA-seq\\_WT-untagged\\_untreated \\\\\n",
       "\t SRR5517519 &  RNA-seq\\_WT-untagged\\_auxin2days\\\\\n",
       "\t SRR5517520 &  RNA-seq\\_WT-untagged\\_auxin4days\\\\\n",
       "\t SRR5517521 &  RNA-seq\\_WT-untagged\\_untreated \\\\\n",
       "\t SRR5517522 &  RNA-seq\\_WT-untagged\\_auxin2days\\\\\n",
       "\t SRR5517523 &  RNA-seq\\_WT-untagged\\_auxin4days\\\\\n",
       "\\end{tabular}\n"
      ],
      "text/markdown": [
       "\n",
       "A data.frame: 24 × 2\n",
       "\n",
       "| sample &lt;chr&gt; | condition &lt;chr&gt; |\n",
       "|---|---|\n",
       "| SRR5517500 |  RNA-seq_CTCF-AID_untreated     |\n",
       "| SRR5517501 |  RNA-seq_CTCF-AID_auxin1day     |\n",
       "| SRR5517502 |  RNA-seq_CTCF-AID_auxin2days    |\n",
       "| SRR5517503 |  RNA-seq_CTCF-AID_auxin4days    |\n",
       "| SRR5517504 |  RNA-seq_CTCF-AID_washoff2days  |\n",
       "| SRR5517505 |  RNA-seq_CTCF-AID_untreated     |\n",
       "| SRR5517506 |  RNA-seq_CTCF-AID_auxin1day     |\n",
       "| SRR5517507 |  RNA-seq_CTCF-AID_auxin2days    |\n",
       "| SRR5517508 |  RNA-seq_CTCF-AID_auxin4days    |\n",
       "| SRR5517509 |  RNA-seq_CTCF-AID_washoff2days  |\n",
       "| SRR5517510 |  RNA-seq_CTCF-AID_untreated     |\n",
       "| SRR5517511 |  RNA-seq_CTCF-AID_auxin1day     |\n",
       "| SRR5517512 |  RNA-seq_CTCF-AID_auxin2days    |\n",
       "| SRR5517513 |  RNA-seq_CTCF-AID_auxin4days    |\n",
       "| SRR5517514 |  RNA-seq_CTCF-AID_washoff2days  |\n",
       "| SRR5517515 |  RNA-seq_WT-untagged_untreated  |\n",
       "| SRR5517516 |  RNA-seq_WT-untagged_auxin2days |\n",
       "| SRR5517517 |  RNA-seq_WT-untagged_auxin4days |\n",
       "| SRR5517518 |  RNA-seq_WT-untagged_untreated  |\n",
       "| SRR5517519 |  RNA-seq_WT-untagged_auxin2days |\n",
       "| SRR5517520 |  RNA-seq_WT-untagged_auxin4days |\n",
       "| SRR5517521 |  RNA-seq_WT-untagged_untreated  |\n",
       "| SRR5517522 |  RNA-seq_WT-untagged_auxin2days |\n",
       "| SRR5517523 |  RNA-seq_WT-untagged_auxin4days |\n",
       "\n"
      ],
      "text/plain": [
       "   sample     condition                      \n",
       "1  SRR5517500  RNA-seq_CTCF-AID_untreated    \n",
       "2  SRR5517501  RNA-seq_CTCF-AID_auxin1day    \n",
       "3  SRR5517502  RNA-seq_CTCF-AID_auxin2days   \n",
       "4  SRR5517503  RNA-seq_CTCF-AID_auxin4days   \n",
       "5  SRR5517504  RNA-seq_CTCF-AID_washoff2days \n",
       "6  SRR5517505  RNA-seq_CTCF-AID_untreated    \n",
       "7  SRR5517506  RNA-seq_CTCF-AID_auxin1day    \n",
       "8  SRR5517507  RNA-seq_CTCF-AID_auxin2days   \n",
       "9  SRR5517508  RNA-seq_CTCF-AID_auxin4days   \n",
       "10 SRR5517509  RNA-seq_CTCF-AID_washoff2days \n",
       "11 SRR5517510  RNA-seq_CTCF-AID_untreated    \n",
       "12 SRR5517511  RNA-seq_CTCF-AID_auxin1day    \n",
       "13 SRR5517512  RNA-seq_CTCF-AID_auxin2days   \n",
       "14 SRR5517513  RNA-seq_CTCF-AID_auxin4days   \n",
       "15 SRR5517514  RNA-seq_CTCF-AID_washoff2days \n",
       "16 SRR5517515  RNA-seq_WT-untagged_untreated \n",
       "17 SRR5517516  RNA-seq_WT-untagged_auxin2days\n",
       "18 SRR5517517  RNA-seq_WT-untagged_auxin4days\n",
       "19 SRR5517518  RNA-seq_WT-untagged_untreated \n",
       "20 SRR5517519  RNA-seq_WT-untagged_auxin2days\n",
       "21 SRR5517520  RNA-seq_WT-untagged_auxin4days\n",
       "22 SRR5517521  RNA-seq_WT-untagged_untreated \n",
       "23 SRR5517522  RNA-seq_WT-untagged_auxin2days\n",
       "24 SRR5517523  RNA-seq_WT-untagged_auxin4days"
      ]
     },
     "metadata": {},
     "output_type": "display_data"
    }
   ],
   "source": [
    "# merge sra_result file and sraRunInfo to get the condition (buried in 'Experiment Name' in sra_result_summary -- put in 'condition')\n",
    "\n",
    "# runInfo.Experiment\n",
    "# sum_extended.Experiment.Accession\n",
    "\n",
    "# merge(authors, books, by.x=c(\"FirstName\", \"LastName\"),\n",
    "#       by.y=c(\"AuthorFirstName\", \"AuthorLastName\"),\n",
    "#       all.x=TRUE)\n",
    "\n",
    "total <- merge(runInfo, sum_extended, by.x=c(\"Experiment\"),\n",
    "      by.y=c(\"Experiment.Accession\"),\n",
    "      all.x=TRUE)\n",
    "\n",
    "library(dplyr)\n",
    "\n",
    "s2c <- select(total, Experiment, Run, condition, Library.Strategy, Library.Selection)\n",
    "s2c <- dplyr::select(s2c, sample = Run, condition)\n",
    "s2c"
   ]
  },
  {
   "cell_type": "code",
   "execution_count": 11,
   "id": "89d46eec-2552-4491-8363-6574335b173c",
   "metadata": {},
   "outputs": [],
   "source": [
    "s2c <- dplyr::mutate(s2c, path = kal_dirs)"
   ]
  },
  {
   "cell_type": "code",
   "execution_count": 12,
   "id": "a0904e48-1f25-4bd0-beae-b7e076dab9c9",
   "metadata": {},
   "outputs": [
    {
     "name": "stdout",
     "output_type": "stream",
     "text": [
      "       sample                       condition\n",
      "1  SRR5517500      RNA-seq_CTCF-AID_untreated\n",
      "2  SRR5517501      RNA-seq_CTCF-AID_auxin1day\n",
      "3  SRR5517502     RNA-seq_CTCF-AID_auxin2days\n",
      "4  SRR5517503     RNA-seq_CTCF-AID_auxin4days\n",
      "5  SRR5517504   RNA-seq_CTCF-AID_washoff2days\n",
      "6  SRR5517505      RNA-seq_CTCF-AID_untreated\n",
      "7  SRR5517506      RNA-seq_CTCF-AID_auxin1day\n",
      "8  SRR5517507     RNA-seq_CTCF-AID_auxin2days\n",
      "9  SRR5517508     RNA-seq_CTCF-AID_auxin4days\n",
      "10 SRR5517509   RNA-seq_CTCF-AID_washoff2days\n",
      "11 SRR5517510      RNA-seq_CTCF-AID_untreated\n",
      "12 SRR5517511      RNA-seq_CTCF-AID_auxin1day\n",
      "13 SRR5517512     RNA-seq_CTCF-AID_auxin2days\n",
      "14 SRR5517513     RNA-seq_CTCF-AID_auxin4days\n",
      "15 SRR5517514   RNA-seq_CTCF-AID_washoff2days\n",
      "16 SRR5517515   RNA-seq_WT-untagged_untreated\n",
      "17 SRR5517516  RNA-seq_WT-untagged_auxin2days\n",
      "18 SRR5517517  RNA-seq_WT-untagged_auxin4days\n",
      "19 SRR5517518   RNA-seq_WT-untagged_untreated\n",
      "20 SRR5517519  RNA-seq_WT-untagged_auxin2days\n",
      "21 SRR5517520  RNA-seq_WT-untagged_auxin4days\n",
      "22 SRR5517521   RNA-seq_WT-untagged_untreated\n",
      "23 SRR5517522  RNA-seq_WT-untagged_auxin2days\n",
      "24 SRR5517523  RNA-seq_WT-untagged_auxin4days\n",
      "                                                                      path\n",
      "1  /scratch2/pokorny/elphege-rna-seq/SRP106652-rna-seq/SRR5517500/kallisto\n",
      "2  /scratch2/pokorny/elphege-rna-seq/SRP106652-rna-seq/SRR5517501/kallisto\n",
      "3  /scratch2/pokorny/elphege-rna-seq/SRP106652-rna-seq/SRR5517502/kallisto\n",
      "4  /scratch2/pokorny/elphege-rna-seq/SRP106652-rna-seq/SRR5517503/kallisto\n",
      "5  /scratch2/pokorny/elphege-rna-seq/SRP106652-rna-seq/SRR5517504/kallisto\n",
      "6  /scratch2/pokorny/elphege-rna-seq/SRP106652-rna-seq/SRR5517505/kallisto\n",
      "7  /scratch2/pokorny/elphege-rna-seq/SRP106652-rna-seq/SRR5517506/kallisto\n",
      "8  /scratch2/pokorny/elphege-rna-seq/SRP106652-rna-seq/SRR5517507/kallisto\n",
      "9  /scratch2/pokorny/elphege-rna-seq/SRP106652-rna-seq/SRR5517508/kallisto\n",
      "10 /scratch2/pokorny/elphege-rna-seq/SRP106652-rna-seq/SRR5517509/kallisto\n",
      "11 /scratch2/pokorny/elphege-rna-seq/SRP106652-rna-seq/SRR5517510/kallisto\n",
      "12 /scratch2/pokorny/elphege-rna-seq/SRP106652-rna-seq/SRR5517511/kallisto\n",
      "13 /scratch2/pokorny/elphege-rna-seq/SRP106652-rna-seq/SRR5517512/kallisto\n",
      "14 /scratch2/pokorny/elphege-rna-seq/SRP106652-rna-seq/SRR5517513/kallisto\n",
      "15 /scratch2/pokorny/elphege-rna-seq/SRP106652-rna-seq/SRR5517514/kallisto\n",
      "16 /scratch2/pokorny/elphege-rna-seq/SRP106652-rna-seq/SRR5517515/kallisto\n",
      "17 /scratch2/pokorny/elphege-rna-seq/SRP106652-rna-seq/SRR5517516/kallisto\n",
      "18 /scratch2/pokorny/elphege-rna-seq/SRP106652-rna-seq/SRR5517517/kallisto\n",
      "19 /scratch2/pokorny/elphege-rna-seq/SRP106652-rna-seq/SRR5517518/kallisto\n",
      "20 /scratch2/pokorny/elphege-rna-seq/SRP106652-rna-seq/SRR5517519/kallisto\n",
      "21 /scratch2/pokorny/elphege-rna-seq/SRP106652-rna-seq/SRR5517520/kallisto\n",
      "22 /scratch2/pokorny/elphege-rna-seq/SRP106652-rna-seq/SRR5517521/kallisto\n",
      "23 /scratch2/pokorny/elphege-rna-seq/SRP106652-rna-seq/SRR5517522/kallisto\n",
      "24 /scratch2/pokorny/elphege-rna-seq/SRP106652-rna-seq/SRR5517523/kallisto\n"
     ]
    }
   ],
   "source": [
    "print(s2c)"
   ]
  },
  {
   "cell_type": "markdown",
   "id": "583d2447-6c14-4fd9-839e-8a2e5cd1d5f2",
   "metadata": {},
   "source": [
    "Looks good\n",
    "\n",
    "Lot's of this prep is what goes into describing the variables and the experimental design. For now, choosing the simplest method (only mapping conditions as described by CTCF-AID_ / WT + number of days. But, I think we can group the replicates with aggregation_column (I think?) https://pachterlab.github.io/sleuth/docs/sleuth_prep.html  "
   ]
  },
  {
   "cell_type": "markdown",
   "id": "a534bdf4-3d8a-4f6b-839e-e5282b3277c8",
   "metadata": {},
   "source": [
    "## Todo: Create strain vs treatment column in s2c\n",
    "\n",
    "So that we can fully capture the 2-factor experiments"
   ]
  },
  {
   "cell_type": "code",
   "execution_count": 83,
   "id": "225da208-15ea-490b-bbb9-f228640a8636",
   "metadata": {},
   "outputs": [],
   "source": [
    "## todo: some parsing of the columns -- probably just splitting 'condition' by '_' to get CTCF-AID / WT-untagged into its own column\n",
    "\n",
    "#sum_extended <- cbind(sum,  stringr::str_split_fixed(sum$Experiment.Title, \"[:;]+\", 4))\n",
    "#colnames(sum_extended)[19] <- \"condition\""
   ]
  },
  {
   "cell_type": "code",
   "execution_count": 13,
   "id": "14613f11-1ed3-4f36-b202-8a6736c55b7e",
   "metadata": {},
   "outputs": [],
   "source": [
    "kal <- read.csv('/scratch2/pokorny/elphege-rna-seq/SRP106652-rna-seq/SRR5517523/kallisto/abundance.tsv', sep='\\t')"
   ]
  },
  {
   "cell_type": "code",
   "execution_count": 14,
   "id": "a5ca72b8-a91d-4465-9637-7797404e7efa",
   "metadata": {},
   "outputs": [
    {
     "data": {
      "text/html": [
       "<table class=\"dataframe\">\n",
       "<caption>A data.frame: 6 × 5</caption>\n",
       "<thead>\n",
       "\t<tr><th></th><th scope=col>target_id</th><th scope=col>length</th><th scope=col>eff_length</th><th scope=col>est_counts</th><th scope=col>tpm</th></tr>\n",
       "\t<tr><th></th><th scope=col>&lt;fct&gt;</th><th scope=col>&lt;int&gt;</th><th scope=col>&lt;dbl&gt;</th><th scope=col>&lt;dbl&gt;</th><th scope=col>&lt;dbl&gt;</th></tr>\n",
       "</thead>\n",
       "<tbody>\n",
       "\t<tr><th scope=row>1</th><td>ENSMUST00000167991</td><td> 699</td><td> 510.541</td><td>   0.0000</td><td> 0.000000</td></tr>\n",
       "\t<tr><th scope=row>2</th><td>ENSMUST00000003035</td><td>5030</td><td>4841.540</td><td> 184.8700</td><td> 1.373930</td></tr>\n",
       "\t<tr><th scope=row>3</th><td>ENSMUST00000171366</td><td>4683</td><td>4494.540</td><td>  36.1298</td><td> 0.289243</td></tr>\n",
       "\t<tr><th scope=row>4</th><td>ENSMUST00000057062</td><td>3456</td><td>3267.540</td><td> 952.3860</td><td>10.487600</td></tr>\n",
       "\t<tr><th scope=row>5</th><td>ENSMUST00000163528</td><td>2372</td><td>2183.540</td><td> 124.9070</td><td> 2.058300</td></tr>\n",
       "\t<tr><th scope=row>6</th><td>ENSMUST00000109166</td><td>3293</td><td>3104.540</td><td>1214.5900</td><td>14.077200</td></tr>\n",
       "</tbody>\n",
       "</table>\n"
      ],
      "text/latex": [
       "A data.frame: 6 × 5\n",
       "\\begin{tabular}{r|lllll}\n",
       "  & target\\_id & length & eff\\_length & est\\_counts & tpm\\\\\n",
       "  & <fct> & <int> & <dbl> & <dbl> & <dbl>\\\\\n",
       "\\hline\n",
       "\t1 & ENSMUST00000167991 &  699 &  510.541 &    0.0000 &  0.000000\\\\\n",
       "\t2 & ENSMUST00000003035 & 5030 & 4841.540 &  184.8700 &  1.373930\\\\\n",
       "\t3 & ENSMUST00000171366 & 4683 & 4494.540 &   36.1298 &  0.289243\\\\\n",
       "\t4 & ENSMUST00000057062 & 3456 & 3267.540 &  952.3860 & 10.487600\\\\\n",
       "\t5 & ENSMUST00000163528 & 2372 & 2183.540 &  124.9070 &  2.058300\\\\\n",
       "\t6 & ENSMUST00000109166 & 3293 & 3104.540 & 1214.5900 & 14.077200\\\\\n",
       "\\end{tabular}\n"
      ],
      "text/markdown": [
       "\n",
       "A data.frame: 6 × 5\n",
       "\n",
       "| <!--/--> | target_id &lt;fct&gt; | length &lt;int&gt; | eff_length &lt;dbl&gt; | est_counts &lt;dbl&gt; | tpm &lt;dbl&gt; |\n",
       "|---|---|---|---|---|---|\n",
       "| 1 | ENSMUST00000167991 |  699 |  510.541 |    0.0000 |  0.000000 |\n",
       "| 2 | ENSMUST00000003035 | 5030 | 4841.540 |  184.8700 |  1.373930 |\n",
       "| 3 | ENSMUST00000171366 | 4683 | 4494.540 |   36.1298 |  0.289243 |\n",
       "| 4 | ENSMUST00000057062 | 3456 | 3267.540 |  952.3860 | 10.487600 |\n",
       "| 5 | ENSMUST00000163528 | 2372 | 2183.540 |  124.9070 |  2.058300 |\n",
       "| 6 | ENSMUST00000109166 | 3293 | 3104.540 | 1214.5900 | 14.077200 |\n",
       "\n"
      ],
      "text/plain": [
       "  target_id          length eff_length est_counts tpm      \n",
       "1 ENSMUST00000167991  699    510.541      0.0000   0.000000\n",
       "2 ENSMUST00000003035 5030   4841.540    184.8700   1.373930\n",
       "3 ENSMUST00000171366 4683   4494.540     36.1298   0.289243\n",
       "4 ENSMUST00000057062 3456   3267.540    952.3860  10.487600\n",
       "5 ENSMUST00000163528 2372   2183.540    124.9070   2.058300\n",
       "6 ENSMUST00000109166 3293   3104.540   1214.5900  14.077200"
      ]
     },
     "metadata": {},
     "output_type": "display_data"
    }
   ],
   "source": [
    "head(kal)"
   ]
  },
  {
   "cell_type": "markdown",
   "id": "dfd8939f-c76f-4d93-b977-2a98289dcfe4",
   "metadata": {},
   "source": [
    "`sleuth_prep( )` makes a regression model, using 'condition' as the dependent variable."
   ]
  },
  {
   "cell_type": "code",
   "execution_count": 33,
   "id": "5aac6a12-ae39-4910-a7aa-60803b6b1e6a",
   "metadata": {},
   "outputs": [
    {
     "name": "stderr",
     "output_type": "stream",
     "text": [
      "reading in kallisto results\n",
      "\n",
      "dropping unused factor levels\n",
      "\n",
      ".\n",
      ".\n",
      ".\n",
      ".\n",
      ".\n",
      ".\n",
      ".\n",
      ".\n",
      ".\n",
      ".\n",
      ".\n",
      ".\n",
      ".\n",
      ".\n",
      ".\n",
      ".\n",
      ".\n",
      ".\n",
      ".\n",
      ".\n",
      ".\n",
      ".\n",
      ".\n",
      ".\n",
      "\n",
      "\n",
      "normalizing est_counts\n",
      "\n",
      "48055 targets passed the filter\n",
      "\n",
      "normalizing tpm\n",
      "\n",
      "merging in metadata\n",
      "\n",
      "summarizing bootstraps\n",
      "\n",
      "Warning message in parallel::mclapply(x, y, mc.cores = num_cores):\n",
      "\"scheduled cores 1, 6, 7, 8, 12, 15, 17, 20, 22, 23, 24 did not deliver results, all values of the jobs will be affected\"\n"
     ]
    },
    {
     "ename": "ERROR",
     "evalue": "Error in order(indices): unimplemented type 'list' in 'orderVector1'\n\n",
     "output_type": "error",
     "traceback": [
      "Error in order(indices): unimplemented type 'list' in 'orderVector1'\n\nTraceback:\n",
      "1. sleuth_prep(s2c, ~condition, extra_bootstrap_summary = TRUE, \n .     read_bootstrap_tpm = TRUE, transformation_function = function(x) log2(x + \n .         0.5))",
      "2. stopifnot(identical(indices, order(indices)))",
      "3. order(indices)"
     ]
    }
   ],
   "source": [
    "# todo: for log2 change in wald test, add transformation_function = function(x) log2(x + 0.5) \n",
    "## from : https://hbctraining.github.io/DGE_workshop_salmon/lessons/09_sleuth.html\n",
    "\n",
    "so <- sleuth_prep(s2c, ~ condition, extra_bootstrap_summary = TRUE, read_bootstrap_tpm=TRUE, transformation_function = function(x) log2(x + 0.5))"
   ]
  },
  {
   "cell_type": "code",
   "execution_count": 16,
   "id": "c99835f6-7901-4d88-8fe9-734ac4df9194",
   "metadata": {},
   "outputs": [
    {
     "name": "stderr",
     "output_type": "stream",
     "text": [
      "Warning message:\n",
      "\"`group_by_()` was deprecated in dplyr 0.7.0.\n",
      "Please use `group_by()` instead.\n",
      "See vignette('programming') for more help\n",
      "\u001b[90mThis warning is displayed once every 8 hours.\u001b[39m\n",
      "\u001b[90mCall `lifecycle::last_lifecycle_warnings()` to see where this warning was generated.\u001b[39m\"\n",
      "Warning message:\n",
      "\"`summarise_()` was deprecated in dplyr 0.7.0.\n",
      "Please use `summarise()` instead.\n",
      "\u001b[90mThis warning is displayed once every 8 hours.\u001b[39m\n",
      "\u001b[90mCall `lifecycle::last_lifecycle_warnings()` to see where this warning was generated.\u001b[39m\"\n"
     ]
    },
    {
     "data": {
      "image/png": "[encoded data removed]",
      "text/plain": [
       "plot without title"
      ]
     },
     "metadata": {
      "image/png": {
       "height": 420,
       "width": 420
      }
     },
     "output_type": "display_data"
    }
   ],
   "source": [
    "plot_group_density(so, use_filtered = TRUE, units = \"est_counts\", trans = \"log\", grouping = \"condition\")"
   ]
  },
  {
   "cell_type": "markdown",
   "id": "e954ac80-efe9-48af-b2bc-ce26f139031b",
   "metadata": {},
   "source": [
    "### Fit model\n",
    "\n",
    "(from the manual):\n",
    "\n",
    "It performs the technical variance estimation from the boostraps, biological variance estimation, and shrinkage estimation.\n",
    "\n",
    "Usage\n",
    "`sleuth_fit(obj, formula = NULL, fit_name = NULL, ...)`\n"
   ]
  },
  {
   "cell_type": "markdown",
   "id": "c550d7a8-63b4-4f4c-aaad-4993b64f5a5f",
   "metadata": {},
   "source": [
    "estimate parameters for the sleuth response error measurement (full) model as responding to the 'condition' factor"
   ]
  },
  {
   "cell_type": "code",
   "execution_count": 17,
   "id": "ec644ef2-a45c-424d-8b41-4ef1fde9a28d",
   "metadata": {},
   "outputs": [
    {
     "name": "stderr",
     "output_type": "stream",
     "text": [
      "fitting measurement error models\n",
      "\n",
      "shrinkage estimation\n",
      "\n",
      "1 NA values were found during variance shrinkage estimation due to mean observation values outside of the range used for the LOESS fit.\n",
      "The LOESS fit will be repeated using exact computation of the fitted surface to extrapolate the missing values.\n",
      "These are the target ids with NA values: ENSMUST00000049324\n",
      "\n",
      "computing variance of betas\n",
      "\n"
     ]
    }
   ],
   "source": [
    "so <- sleuth_fit(so)"
   ]
  },
  {
   "cell_type": "markdown",
   "id": "14ab17a9-b1c5-4986-bbf6-475d955d6d86",
   "metadata": {},
   "source": [
    "Create another model where the gene expression is not dependent on any factor."
   ]
  },
  {
   "cell_type": "code",
   "execution_count": null,
   "id": "febbfaa1-484d-4cc2-b5ff-a6d67fb008da",
   "metadata": {},
   "outputs": [],
   "source": [
    "so <- sleuth_fit(so, ~condition, 'full')"
   ]
  },
  {
   "cell_type": "code",
   "execution_count": null,
   "id": "75032df5-c878-4922-bb6c-282a98f81f4c",
   "metadata": {},
   "outputs": [],
   "source": [
    "so <- sleuth_fit(so, ~1, 'reduced')"
   ]
  },
  {
   "cell_type": "markdown",
   "id": "4d446035-f045-4c76-ba37-f5623c21fa82",
   "metadata": {},
   "source": [
    "### Apply likelihood ratio test\n",
    "\n",
    "In the typical Sleuth's workflow, the likelihood ratio test (LRT) is applied. Briefly, the LRT models the likelihood of the data given 2 models:\n",
    "\n",
    "full: transcript abundance affected on one or more dependent variables (here just being treated or not)\n",
    "reduced: transcript abundance unaffected by the treatment (null hypothesis)\n",
    "\n",
    "`sleuth_lrt(obj, null_model, alt_model)`\n",
    "compute the likelihood ratio test for 2 models. this requires that the null model be nested in the alternate model\n",
    "\n",
    "--> null is 'reduced', alt is 'full'\n",
    "\n",
    " - sleuth docs appear to recommend sleuth_lrt and sleuth_wt for hypothesis testing"
   ]
  },
  {
   "cell_type": "code",
   "execution_count": 20,
   "id": "5536500b-7060-4ec3-8dc9-d846ee00fb08",
   "metadata": {},
   "outputs": [],
   "source": [
    "# perform a test\n",
    "so <- sleuth_lrt(so, 'reduced', 'full')"
   ]
  },
  {
   "cell_type": "code",
   "execution_count": 21,
   "id": "fcddb167-aba0-4795-a1f8-bcd893e7d49b",
   "metadata": {},
   "outputs": [
    {
     "name": "stdout",
     "output_type": "stream",
     "text": [
      "[  full  ]\n",
      "formula:  ~condition \n",
      "data modeled:  obs_counts \n",
      "transform sync'ed:  TRUE \n",
      "coefficients:\n",
      "\t(Intercept)\n",
      " \tcondition RNA-seq_CTCF-AID_auxin2days\n",
      " \tcondition RNA-seq_CTCF-AID_auxin4days\n",
      " \tcondition RNA-seq_CTCF-AID_untreated\n",
      " \tcondition RNA-seq_CTCF-AID_washoff2days\n",
      " \tcondition RNA-seq_WT-untagged_auxin2days\n",
      " \tcondition RNA-seq_WT-untagged_auxin4days\n",
      " \tcondition RNA-seq_WT-untagged_untreated\n",
      "[  reduced  ]\n",
      "formula:  ~1 \n",
      "data modeled:  obs_counts \n",
      "transform sync'ed:  TRUE \n",
      "coefficients:\n",
      "\t(Intercept)\n"
     ]
    }
   ],
   "source": [
    "models(so)"
   ]
  },
  {
   "cell_type": "markdown",
   "id": "9a9dbd67-61b0-40e9-85a4-7081a53a88f8",
   "metadata": {},
   "source": [
    "Examine the results of the above test\n",
    "\n",
    "more info on options: https://www.rdocumentation.org/packages/sleuth/versions/0.30.0/topics/sleuth_results "
   ]
  },
  {
   "cell_type": "code",
   "execution_count": 22,
   "id": "7de8cebd-6c38-4cd2-a125-aedcf26572c3",
   "metadata": {},
   "outputs": [
    {
     "data": {
      "text/html": [
       "<table class=\"dataframe\">\n",
       "<caption>A data.frame: 20 × 12</caption>\n",
       "<thead>\n",
       "\t<tr><th></th><th scope=col>target_id</th><th scope=col>pval</th><th scope=col>qval</th><th scope=col>test_stat</th><th scope=col>rss</th><th scope=col>degrees_free</th><th scope=col>mean_obs</th><th scope=col>var_obs</th><th scope=col>tech_var</th><th scope=col>sigma_sq</th><th scope=col>smooth_sigma_sq</th><th scope=col>final_sigma_sq</th></tr>\n",
       "\t<tr><th></th><th scope=col>&lt;chr&gt;</th><th scope=col>&lt;dbl&gt;</th><th scope=col>&lt;dbl&gt;</th><th scope=col>&lt;dbl&gt;</th><th scope=col>&lt;dbl&gt;</th><th scope=col>&lt;int&gt;</th><th scope=col>&lt;dbl&gt;</th><th scope=col>&lt;dbl&gt;</th><th scope=col>&lt;dbl&gt;</th><th scope=col>&lt;dbl&gt;</th><th scope=col>&lt;dbl&gt;</th><th scope=col>&lt;dbl&gt;</th></tr>\n",
       "</thead>\n",
       "<tbody>\n",
       "\t<tr><th scope=row>1</th><td>ENSMUST00000029644</td><td>3.047563e-14</td><td>1.464506e-09</td><td>78.30769</td><td> 22.208030</td><td>7</td><td>6.862515</td><td>0.9655665</td><td>0.0029059542</td><td>0.9626605</td><td>0.09593575</td><td>0.9626605</td></tr>\n",
       "\t<tr><th scope=row>2</th><td>ENSMUST00000102763</td><td>1.079232e-13</td><td>2.593125e-09</td><td>75.60788</td><td> 16.367575</td><td>7</td><td>7.556659</td><td>0.7116337</td><td>0.0008762691</td><td>0.7107574</td><td>0.07613686</td><td>0.7107574</td></tr>\n",
       "\t<tr><th scope=row>3</th><td>ENSMUST00000006451</td><td>3.690048e-13</td><td>4.026421e-09</td><td>72.97684</td><td> 20.415453</td><td>7</td><td>7.017841</td><td>0.8876284</td><td>0.0033801130</td><td>0.8842483</td><td>0.09048501</td><td>0.8842483</td></tr>\n",
       "\t<tr><th scope=row>4</th><td>ENSMUST00000078953</td><td>4.004208e-13</td><td>4.026421e-09</td><td>72.80175</td><td> 44.937222</td><td>7</td><td>5.188072</td><td>1.9537923</td><td>0.0177739637</td><td>1.9360183</td><td>0.21619344</td><td>1.9360183</td></tr>\n",
       "\t<tr><th scope=row>5</th><td>ENSMUST00000155572</td><td>4.189388e-13</td><td>4.026421e-09</td><td>72.70486</td><td> 16.652961</td><td>7</td><td>8.060573</td><td>0.7240418</td><td>0.0004519891</td><td>0.7235898</td><td>0.06742466</td><td>0.7235898</td></tr>\n",
       "\t<tr><th scope=row>6</th><td>ENSMUST00000168900</td><td>6.272445e-13</td><td>5.023706e-09</td><td>71.83944</td><td> 20.212557</td><td>7</td><td>7.059538</td><td>0.8788068</td><td>0.0019773653</td><td>0.8768295</td><td>0.08914646</td><td>0.8768295</td></tr>\n",
       "\t<tr><th scope=row>7</th><td>ENSMUST00000136299</td><td>1.374398e-12</td><td>8.255836e-09</td><td>70.15534</td><td> 26.363584</td><td>7</td><td>8.066746</td><td>1.1462428</td><td>0.0004998462</td><td>1.1457429</td><td>0.06734164</td><td>1.1457429</td></tr>\n",
       "\t<tr><th scope=row>8</th><td>ENSMUST00000171066</td><td>1.212480e-12</td><td>8.255836e-09</td><td>70.42464</td><td> 24.015087</td><td>7</td><td>9.518412</td><td>1.0441342</td><td>0.0001302209</td><td>1.0440040</td><td>0.06076378</td><td>1.0440040</td></tr>\n",
       "\t<tr><th scope=row>9</th><td>ENSMUST00000014892</td><td>2.382672e-12</td><td>1.272214e-08</td><td>68.97237</td><td> 15.942756</td><td>7</td><td>6.670008</td><td>0.6931633</td><td>0.0027184562</td><td>0.6904448</td><td>0.10375566</td><td>0.6904448</td></tr>\n",
       "\t<tr><th scope=row>10</th><td>ENSMUST00000004949</td><td>4.088220e-12</td><td>1.964594e-08</td><td>67.81014</td><td> 29.054561</td><td>7</td><td>5.892552</td><td>1.2632418</td><td>0.0066628145</td><td>1.2565790</td><td>0.14910365</td><td>1.2565790</td></tr>\n",
       "\t<tr><th scope=row>11</th><td>ENSMUST00000032747</td><td>1.464767e-11</td><td>6.013487e-08</td><td>65.05687</td><td> 60.830140</td><td>7</td><td>4.413944</td><td>2.6447887</td><td>0.0796148464</td><td>2.5651738</td><td>0.33169214</td><td>2.5651738</td></tr>\n",
       "\t<tr><th scope=row>12</th><td>ENSMUST00000033866</td><td>1.501651e-11</td><td>6.013487e-08</td><td>65.00313</td><td> 10.135222</td><td>7</td><td>7.648090</td><td>0.4406618</td><td>0.0007730289</td><td>0.4398888</td><td>0.07425387</td><td>0.4398888</td></tr>\n",
       "\t<tr><th scope=row>13</th><td>ENSMUST00000052027</td><td>2.100491e-11</td><td>7.209936e-08</td><td>64.27755</td><td> 34.417660</td><td>7</td><td>5.546691</td><td>1.4964200</td><td>0.0098973854</td><td>1.4865226</td><td>0.17804995</td><td>1.4865226</td></tr>\n",
       "\t<tr><th scope=row>14</th><td>ENSMUST00000091190</td><td>2.045639e-11</td><td>7.209936e-08</td><td>64.33478</td><td> 37.078975</td><td>7</td><td>6.135758</td><td>1.6121293</td><td>0.0060172597</td><td>1.6061121</td><td>0.13233592</td><td>1.6061121</td></tr>\n",
       "\t<tr><th scope=row>15</th><td>ENSMUST00000002400</td><td>2.310938e-11</td><td>7.403476e-08</td><td>64.07100</td><td> 16.829977</td><td>7</td><td>6.372578</td><td>0.7317381</td><td>0.0027712808</td><td>0.7289668</td><td>0.11834396</td><td>0.7289668</td></tr>\n",
       "\t<tr><th scope=row>16</th><td>ENSMUST00000022945</td><td>3.345631e-11</td><td>9.232058e-08</td><td>63.27010</td><td> 13.315491</td><td>7</td><td>7.483690</td><td>0.5789344</td><td>0.0008690044</td><td>0.5780654</td><td>0.07774491</td><td>0.5780654</td></tr>\n",
       "\t<tr><th scope=row>17</th><td>ENSMUST00000097228</td><td>3.348513e-11</td><td>9.232058e-08</td><td>63.26824</td><td> 30.827146</td><td>7</td><td>5.315158</td><td>1.3403107</td><td>0.0130789123</td><td>1.3272318</td><td>0.20167668</td><td>1.3272318</td></tr>\n",
       "\t<tr><th scope=row>18</th><td>ENSMUST00000160289</td><td>3.458060e-11</td><td>9.232058e-08</td><td>63.19852</td><td>  7.523589</td><td>7</td><td>8.188183</td><td>0.3271126</td><td>0.0003795243</td><td>0.3267331</td><td>0.06581499</td><td>0.3267331</td></tr>\n",
       "\t<tr><th scope=row>19</th><td>ENSMUST00000087557</td><td>3.923126e-11</td><td>9.922413e-08</td><td>62.92518</td><td> 28.529367</td><td>7</td><td>5.824121</td><td>1.2404072</td><td>0.0069853791</td><td>1.2334219</td><td>0.15428595</td><td>1.2334219</td></tr>\n",
       "\t<tr><th scope=row>20</th><td>ENSMUST00000151797</td><td>5.132499e-11</td><td>1.233211e-07</td><td>62.34278</td><td>121.141927</td><td>7</td><td>3.644737</td><td>5.2670403</td><td>0.1190867605</td><td>5.1479536</td><td>0.51106168</td><td>5.1479536</td></tr>\n",
       "</tbody>\n",
       "</table>\n"
      ],
      "text/latex": [
       "A data.frame: 20 × 12\n",
       "\\begin{tabular}{r|llllllllllll}\n",
       "  & target\\_id & pval & qval & test\\_stat & rss & degrees\\_free & mean\\_obs & var\\_obs & tech\\_var & sigma\\_sq & smooth\\_sigma\\_sq & final\\_sigma\\_sq\\\\\n",
       "  & <chr> & <dbl> & <dbl> & <dbl> & <dbl> & <int> & <dbl> & <dbl> & <dbl> & <dbl> & <dbl> & <dbl>\\\\\n",
       "\\hline\n",
       "\t1 & ENSMUST00000029644 & 3.047563e-14 & 1.464506e-09 & 78.30769 &  22.208030 & 7 & 6.862515 & 0.9655665 & 0.0029059542 & 0.9626605 & 0.09593575 & 0.9626605\\\\\n",
       "\t2 & ENSMUST00000102763 & 1.079232e-13 & 2.593125e-09 & 75.60788 &  16.367575 & 7 & 7.556659 & 0.7116337 & 0.0008762691 & 0.7107574 & 0.07613686 & 0.7107574\\\\\n",
       "\t3 & ENSMUST00000006451 & 3.690048e-13 & 4.026421e-09 & 72.97684 &  20.415453 & 7 & 7.017841 & 0.8876284 & 0.0033801130 & 0.8842483 & 0.09048501 & 0.8842483\\\\\n",
       "\t4 & ENSMUST00000078953 & 4.004208e-13 & 4.026421e-09 & 72.80175 &  44.937222 & 7 & 5.188072 & 1.9537923 & 0.0177739637 & 1.9360183 & 0.21619344 & 1.9360183\\\\\n",
       "\t5 & ENSMUST00000155572 & 4.189388e-13 & 4.026421e-09 & 72.70486 &  16.652961 & 7 & 8.060573 & 0.7240418 & 0.0004519891 & 0.7235898 & 0.06742466 & 0.7235898\\\\\n",
       "\t6 & ENSMUST00000168900 & 6.272445e-13 & 5.023706e-09 & 71.83944 &  20.212557 & 7 & 7.059538 & 0.8788068 & 0.0019773653 & 0.8768295 & 0.08914646 & 0.8768295\\\\\n",
       "\t7 & ENSMUST00000136299 & 1.374398e-12 & 8.255836e-09 & 70.15534 &  26.363584 & 7 & 8.066746 & 1.1462428 & 0.0004998462 & 1.1457429 & 0.06734164 & 1.1457429\\\\\n",
       "\t8 & ENSMUST00000171066 & 1.212480e-12 & 8.255836e-09 & 70.42464 &  24.015087 & 7 & 9.518412 & 1.0441342 & 0.0001302209 & 1.0440040 & 0.06076378 & 1.0440040\\\\\n",
       "\t9 & ENSMUST00000014892 & 2.382672e-12 & 1.272214e-08 & 68.97237 &  15.942756 & 7 & 6.670008 & 0.6931633 & 0.0027184562 & 0.6904448 & 0.10375566 & 0.6904448\\\\\n",
       "\t10 & ENSMUST00000004949 & 4.088220e-12 & 1.964594e-08 & 67.81014 &  29.054561 & 7 & 5.892552 & 1.2632418 & 0.0066628145 & 1.2565790 & 0.14910365 & 1.2565790\\\\\n",
       "\t11 & ENSMUST00000032747 & 1.464767e-11 & 6.013487e-08 & 65.05687 &  60.830140 & 7 & 4.413944 & 2.6447887 & 0.0796148464 & 2.5651738 & 0.33169214 & 2.5651738\\\\\n",
       "\t12 & ENSMUST00000033866 & 1.501651e-11 & 6.013487e-08 & 65.00313 &  10.135222 & 7 & 7.648090 & 0.4406618 & 0.0007730289 & 0.4398888 & 0.07425387 & 0.4398888\\\\\n",
       "\t13 & ENSMUST00000052027 & 2.100491e-11 & 7.209936e-08 & 64.27755 &  34.417660 & 7 & 5.546691 & 1.4964200 & 0.0098973854 & 1.4865226 & 0.17804995 & 1.4865226\\\\\n",
       "\t14 & ENSMUST00000091190 & 2.045639e-11 & 7.209936e-08 & 64.33478 &  37.078975 & 7 & 6.135758 & 1.6121293 & 0.0060172597 & 1.6061121 & 0.13233592 & 1.6061121\\\\\n",
       "\t15 & ENSMUST00000002400 & 2.310938e-11 & 7.403476e-08 & 64.07100 &  16.829977 & 7 & 6.372578 & 0.7317381 & 0.0027712808 & 0.7289668 & 0.11834396 & 0.7289668\\\\\n",
       "\t16 & ENSMUST00000022945 & 3.345631e-11 & 9.232058e-08 & 63.27010 &  13.315491 & 7 & 7.483690 & 0.5789344 & 0.0008690044 & 0.5780654 & 0.07774491 & 0.5780654\\\\\n",
       "\t17 & ENSMUST00000097228 & 3.348513e-11 & 9.232058e-08 & 63.26824 &  30.827146 & 7 & 5.315158 & 1.3403107 & 0.0130789123 & 1.3272318 & 0.20167668 & 1.3272318\\\\\n",
       "\t18 & ENSMUST00000160289 & 3.458060e-11 & 9.232058e-08 & 63.19852 &   7.523589 & 7 & 8.188183 & 0.3271126 & 0.0003795243 & 0.3267331 & 0.06581499 & 0.3267331\\\\\n",
       "\t19 & ENSMUST00000087557 & 3.923126e-11 & 9.922413e-08 & 62.92518 &  28.529367 & 7 & 5.824121 & 1.2404072 & 0.0069853791 & 1.2334219 & 0.15428595 & 1.2334219\\\\\n",
       "\t20 & ENSMUST00000151797 & 5.132499e-11 & 1.233211e-07 & 62.34278 & 121.141927 & 7 & 3.644737 & 5.2670403 & 0.1190867605 & 5.1479536 & 0.51106168 & 5.1479536\\\\\n",
       "\\end{tabular}\n"
      ],
      "text/markdown": [
       "\n",
       "A data.frame: 20 × 12\n",
       "\n",
       "| <!--/--> | target_id &lt;chr&gt; | pval &lt;dbl&gt; | qval &lt;dbl&gt; | test_stat &lt;dbl&gt; | rss &lt;dbl&gt; | degrees_free &lt;int&gt; | mean_obs &lt;dbl&gt; | var_obs &lt;dbl&gt; | tech_var &lt;dbl&gt; | sigma_sq &lt;dbl&gt; | smooth_sigma_sq &lt;dbl&gt; | final_sigma_sq &lt;dbl&gt; |\n",
       "|---|---|---|---|---|---|---|---|---|---|---|---|---|\n",
       "| 1 | ENSMUST00000029644 | 3.047563e-14 | 1.464506e-09 | 78.30769 |  22.208030 | 7 | 6.862515 | 0.9655665 | 0.0029059542 | 0.9626605 | 0.09593575 | 0.9626605 |\n",
       "| 2 | ENSMUST00000102763 | 1.079232e-13 | 2.593125e-09 | 75.60788 |  16.367575 | 7 | 7.556659 | 0.7116337 | 0.0008762691 | 0.7107574 | 0.07613686 | 0.7107574 |\n",
       "| 3 | ENSMUST00000006451 | 3.690048e-13 | 4.026421e-09 | 72.97684 |  20.415453 | 7 | 7.017841 | 0.8876284 | 0.0033801130 | 0.8842483 | 0.09048501 | 0.8842483 |\n",
       "| 4 | ENSMUST00000078953 | 4.004208e-13 | 4.026421e-09 | 72.80175 |  44.937222 | 7 | 5.188072 | 1.9537923 | 0.0177739637 | 1.9360183 | 0.21619344 | 1.9360183 |\n",
       "| 5 | ENSMUST00000155572 | 4.189388e-13 | 4.026421e-09 | 72.70486 |  16.652961 | 7 | 8.060573 | 0.7240418 | 0.0004519891 | 0.7235898 | 0.06742466 | 0.7235898 |\n",
       "| 6 | ENSMUST00000168900 | 6.272445e-13 | 5.023706e-09 | 71.83944 |  20.212557 | 7 | 7.059538 | 0.8788068 | 0.0019773653 | 0.8768295 | 0.08914646 | 0.8768295 |\n",
       "| 7 | ENSMUST00000136299 | 1.374398e-12 | 8.255836e-09 | 70.15534 |  26.363584 | 7 | 8.066746 | 1.1462428 | 0.0004998462 | 1.1457429 | 0.06734164 | 1.1457429 |\n",
       "| 8 | ENSMUST00000171066 | 1.212480e-12 | 8.255836e-09 | 70.42464 |  24.015087 | 7 | 9.518412 | 1.0441342 | 0.0001302209 | 1.0440040 | 0.06076378 | 1.0440040 |\n",
       "| 9 | ENSMUST00000014892 | 2.382672e-12 | 1.272214e-08 | 68.97237 |  15.942756 | 7 | 6.670008 | 0.6931633 | 0.0027184562 | 0.6904448 | 0.10375566 | 0.6904448 |\n",
       "| 10 | ENSMUST00000004949 | 4.088220e-12 | 1.964594e-08 | 67.81014 |  29.054561 | 7 | 5.892552 | 1.2632418 | 0.0066628145 | 1.2565790 | 0.14910365 | 1.2565790 |\n",
       "| 11 | ENSMUST00000032747 | 1.464767e-11 | 6.013487e-08 | 65.05687 |  60.830140 | 7 | 4.413944 | 2.6447887 | 0.0796148464 | 2.5651738 | 0.33169214 | 2.5651738 |\n",
       "| 12 | ENSMUST00000033866 | 1.501651e-11 | 6.013487e-08 | 65.00313 |  10.135222 | 7 | 7.648090 | 0.4406618 | 0.0007730289 | 0.4398888 | 0.07425387 | 0.4398888 |\n",
       "| 13 | ENSMUST00000052027 | 2.100491e-11 | 7.209936e-08 | 64.27755 |  34.417660 | 7 | 5.546691 | 1.4964200 | 0.0098973854 | 1.4865226 | 0.17804995 | 1.4865226 |\n",
       "| 14 | ENSMUST00000091190 | 2.045639e-11 | 7.209936e-08 | 64.33478 |  37.078975 | 7 | 6.135758 | 1.6121293 | 0.0060172597 | 1.6061121 | 0.13233592 | 1.6061121 |\n",
       "| 15 | ENSMUST00000002400 | 2.310938e-11 | 7.403476e-08 | 64.07100 |  16.829977 | 7 | 6.372578 | 0.7317381 | 0.0027712808 | 0.7289668 | 0.11834396 | 0.7289668 |\n",
       "| 16 | ENSMUST00000022945 | 3.345631e-11 | 9.232058e-08 | 63.27010 |  13.315491 | 7 | 7.483690 | 0.5789344 | 0.0008690044 | 0.5780654 | 0.07774491 | 0.5780654 |\n",
       "| 17 | ENSMUST00000097228 | 3.348513e-11 | 9.232058e-08 | 63.26824 |  30.827146 | 7 | 5.315158 | 1.3403107 | 0.0130789123 | 1.3272318 | 0.20167668 | 1.3272318 |\n",
       "| 18 | ENSMUST00000160289 | 3.458060e-11 | 9.232058e-08 | 63.19852 |   7.523589 | 7 | 8.188183 | 0.3271126 | 0.0003795243 | 0.3267331 | 0.06581499 | 0.3267331 |\n",
       "| 19 | ENSMUST00000087557 | 3.923126e-11 | 9.922413e-08 | 62.92518 |  28.529367 | 7 | 5.824121 | 1.2404072 | 0.0069853791 | 1.2334219 | 0.15428595 | 1.2334219 |\n",
       "| 20 | ENSMUST00000151797 | 5.132499e-11 | 1.233211e-07 | 62.34278 | 121.141927 | 7 | 3.644737 | 5.2670403 | 0.1190867605 | 5.1479536 | 0.51106168 | 5.1479536 |\n",
       "\n"
      ],
      "text/plain": [
       "   target_id          pval         qval         test_stat rss       \n",
       "1  ENSMUST00000029644 3.047563e-14 1.464506e-09 78.30769   22.208030\n",
       "2  ENSMUST00000102763 1.079232e-13 2.593125e-09 75.60788   16.367575\n",
       "3  ENSMUST00000006451 3.690048e-13 4.026421e-09 72.97684   20.415453\n",
       "4  ENSMUST00000078953 4.004208e-13 4.026421e-09 72.80175   44.937222\n",
       "5  ENSMUST00000155572 4.189388e-13 4.026421e-09 72.70486   16.652961\n",
       "6  ENSMUST00000168900 6.272445e-13 5.023706e-09 71.83944   20.212557\n",
       "7  ENSMUST00000136299 1.374398e-12 8.255836e-09 70.15534   26.363584\n",
       "8  ENSMUST00000171066 1.212480e-12 8.255836e-09 70.42464   24.015087\n",
       "9  ENSMUST00000014892 2.382672e-12 1.272214e-08 68.97237   15.942756\n",
       "10 ENSMUST00000004949 4.088220e-12 1.964594e-08 67.81014   29.054561\n",
       "11 ENSMUST00000032747 1.464767e-11 6.013487e-08 65.05687   60.830140\n",
       "12 ENSMUST00000033866 1.501651e-11 6.013487e-08 65.00313   10.135222\n",
       "13 ENSMUST00000052027 2.100491e-11 7.209936e-08 64.27755   34.417660\n",
       "14 ENSMUST00000091190 2.045639e-11 7.209936e-08 64.33478   37.078975\n",
       "15 ENSMUST00000002400 2.310938e-11 7.403476e-08 64.07100   16.829977\n",
       "16 ENSMUST00000022945 3.345631e-11 9.232058e-08 63.27010   13.315491\n",
       "17 ENSMUST00000097228 3.348513e-11 9.232058e-08 63.26824   30.827146\n",
       "18 ENSMUST00000160289 3.458060e-11 9.232058e-08 63.19852    7.523589\n",
       "19 ENSMUST00000087557 3.923126e-11 9.922413e-08 62.92518   28.529367\n",
       "20 ENSMUST00000151797 5.132499e-11 1.233211e-07 62.34278  121.141927\n",
       "   degrees_free mean_obs var_obs   tech_var     sigma_sq  smooth_sigma_sq\n",
       "1  7            6.862515 0.9655665 0.0029059542 0.9626605 0.09593575     \n",
       "2  7            7.556659 0.7116337 0.0008762691 0.7107574 0.07613686     \n",
       "3  7            7.017841 0.8876284 0.0033801130 0.8842483 0.09048501     \n",
       "4  7            5.188072 1.9537923 0.0177739637 1.9360183 0.21619344     \n",
       "5  7            8.060573 0.7240418 0.0004519891 0.7235898 0.06742466     \n",
       "6  7            7.059538 0.8788068 0.0019773653 0.8768295 0.08914646     \n",
       "7  7            8.066746 1.1462428 0.0004998462 1.1457429 0.06734164     \n",
       "8  7            9.518412 1.0441342 0.0001302209 1.0440040 0.06076378     \n",
       "9  7            6.670008 0.6931633 0.0027184562 0.6904448 0.10375566     \n",
       "10 7            5.892552 1.2632418 0.0066628145 1.2565790 0.14910365     \n",
       "11 7            4.413944 2.6447887 0.0796148464 2.5651738 0.33169214     \n",
       "12 7            7.648090 0.4406618 0.0007730289 0.4398888 0.07425387     \n",
       "13 7            5.546691 1.4964200 0.0098973854 1.4865226 0.17804995     \n",
       "14 7            6.135758 1.6121293 0.0060172597 1.6061121 0.13233592     \n",
       "15 7            6.372578 0.7317381 0.0027712808 0.7289668 0.11834396     \n",
       "16 7            7.483690 0.5789344 0.0008690044 0.5780654 0.07774491     \n",
       "17 7            5.315158 1.3403107 0.0130789123 1.3272318 0.20167668     \n",
       "18 7            8.188183 0.3271126 0.0003795243 0.3267331 0.06581499     \n",
       "19 7            5.824121 1.2404072 0.0069853791 1.2334219 0.15428595     \n",
       "20 7            3.644737 5.2670403 0.1190867605 5.1479536 0.51106168     \n",
       "   final_sigma_sq\n",
       "1  0.9626605     \n",
       "2  0.7107574     \n",
       "3  0.8842483     \n",
       "4  1.9360183     \n",
       "5  0.7235898     \n",
       "6  0.8768295     \n",
       "7  1.1457429     \n",
       "8  1.0440040     \n",
       "9  0.6904448     \n",
       "10 1.2565790     \n",
       "11 2.5651738     \n",
       "12 0.4398888     \n",
       "13 1.4865226     \n",
       "14 1.6061121     \n",
       "15 0.7289668     \n",
       "16 0.5780654     \n",
       "17 1.3272318     \n",
       "18 0.3267331     \n",
       "19 1.2334219     \n",
       "20 5.1479536     "
      ]
     },
     "metadata": {},
     "output_type": "display_data"
    }
   ],
   "source": [
    "# Getting results of test -- from pachterlab tutorial\n",
    "\n",
    "sleuth_table <- sleuth_results(so, 'reduced:full', 'lrt', show_all = FALSE)\n",
    "sleuth_significant <- dplyr::filter(sleuth_table, qval <= 0.05)\n",
    "head(sleuth_significant, 20)"
   ]
  },
  {
   "cell_type": "markdown",
   "id": "3df74d45-4081-4a2e-b08e-729950c8beca",
   "metadata": {},
   "source": [
    "Checking how many significant DE genes (transcripts)"
   ]
  },
  {
   "cell_type": "code",
   "execution_count": 23,
   "id": "c1e05372-dddd-4d81-b5c6-7a2ce38e5da9",
   "metadata": {},
   "outputs": [
    {
     "data": {
      "text/html": [
       "<style>\n",
       ".list-inline {list-style: none; margin:0; padding: 0}\n",
       ".list-inline>li {display: inline-block}\n",
       ".list-inline>li:not(:last-child)::after {content: \"\\00b7\"; padding: 0 .5ex}\n",
       "</style>\n",
       "<ol class=list-inline><li>48055</li><li>12</li></ol>\n"
      ],
      "text/latex": [
       "\\begin{enumerate*}\n",
       "\\item 48055\n",
       "\\item 12\n",
       "\\end{enumerate*}\n"
      ],
      "text/markdown": [
       "1. 48055\n",
       "2. 12\n",
       "\n",
       "\n"
      ],
      "text/plain": [
       "[1] 48055    12"
      ]
     },
     "metadata": {},
     "output_type": "display_data"
    },
    {
     "data": {
      "text/html": [
       "<style>\n",
       ".list-inline {list-style: none; margin:0; padding: 0}\n",
       ".list-inline>li {display: inline-block}\n",
       ".list-inline>li:not(:last-child)::after {content: \"\\00b7\"; padding: 0 .5ex}\n",
       "</style>\n",
       "<ol class=list-inline><li>1018</li><li>12</li></ol>\n"
      ],
      "text/latex": [
       "\\begin{enumerate*}\n",
       "\\item 1018\n",
       "\\item 12\n",
       "\\end{enumerate*}\n"
      ],
      "text/markdown": [
       "1. 1018\n",
       "2. 12\n",
       "\n",
       "\n"
      ],
      "text/plain": [
       "[1] 1018   12"
      ]
     },
     "metadata": {},
     "output_type": "display_data"
    }
   ],
   "source": [
    "dim(sleuth_table)\n",
    "dim(sleuth_significant)"
   ]
  },
  {
   "cell_type": "code",
   "execution_count": 24,
   "id": "bf30a2c5-9370-4863-a04d-1de94318d548",
   "metadata": {},
   "outputs": [
    {
     "data": {
      "text/html": [
       "0.0211840599313287"
      ],
      "text/latex": [
       "0.0211840599313287"
      ],
      "text/markdown": [
       "0.0211840599313287"
      ],
      "text/plain": [
       "[1] 0.02118406"
      ]
     },
     "metadata": {},
     "output_type": "display_data"
    }
   ],
   "source": [
    "1018/48055"
   ]
  },
  {
   "cell_type": "code",
   "execution_count": 25,
   "id": "64ed9adc-db42-473f-9054-7476a7997918",
   "metadata": {},
   "outputs": [
    {
     "data": {
      "image/png": "[encoded data removed]",
      "text/plain": [
       "plot without title"
      ]
     },
     "metadata": {
      "image/png": {
       "height": 420,
       "width": 420
      }
     },
     "output_type": "display_data"
    }
   ],
   "source": [
    "plot_bootstrap(so, \"ENSMUST00000029644\", units = \"est_counts\", color_by = \"condition\")"
   ]
  },
  {
   "cell_type": "markdown",
   "id": "05967678-2f99-414e-9ca3-0eaaa149439c",
   "metadata": {},
   "source": [
    "### Notes/Observations:\n",
    "\n",
    "These sleuth results using the likelihood ratio test may be useful for extracting significantly differentially expressed genes/transcripts. It does not directly compare two sets (for e.g. WT vs dCTCF+auxin treatment). It does still appear to be useful, the above significant gene looks like it follows an expected pattern -- where it has much lower expression in the CTCF-AID+auxin treatments sets compared to any other conditions (either WT, untreated, or washoff).\n",
    "\n",
    "Seems like a very low number of significant genes... maybe it's just that this isn't the right model, but maybe I should play around a bit more with the cutoff?\n",
    "\n",
    "I want to see if this gene shows up in Elphege's data. Looking up the RefSeq ID for this:"
   ]
  },
  {
   "cell_type": "code",
   "execution_count": 26,
   "id": "d1bfb8db-989d-46e4-84cd-dfafccfd1165",
   "metadata": {},
   "outputs": [],
   "source": [
    "refseq_ids <- read.csv(\"/scratch/pokorny/ensembl_queries_downloads/mm9_ensembl_refseq_id.csv\")"
   ]
  },
  {
   "cell_type": "code",
   "execution_count": 27,
   "id": "cec30f27-3577-4ea4-b68e-70dbf1e628ea",
   "metadata": {},
   "outputs": [
    {
     "data": {
      "text/html": [
       "<table class=\"dataframe\">\n",
       "<caption>A data.frame: 6 × 2</caption>\n",
       "<thead>\n",
       "\t<tr><th></th><th scope=col>stable_id</th><th scope=col>display_label</th></tr>\n",
       "\t<tr><th></th><th scope=col>&lt;fct&gt;</th><th scope=col>&lt;fct&gt;</th></tr>\n",
       "</thead>\n",
       "<tbody>\n",
       "\t<tr><th scope=row>1</th><td>ENSMUST00000021634</td><td>NM_013778.2   </td></tr>\n",
       "\t<tr><th scope=row>2</th><td>ENSMUST00000112933</td><td>NM_170786.2   </td></tr>\n",
       "\t<tr><th scope=row>3</th><td>ENSMUST00000189181</td><td>NM_008829.2   </td></tr>\n",
       "\t<tr><th scope=row>4</th><td>ENSMUST00000180159</td><td>NM_023127.2   </td></tr>\n",
       "\t<tr><th scope=row>5</th><td>ENSMUST00000057177</td><td>NM_001039368.1</td></tr>\n",
       "\t<tr><th scope=row>6</th><td>ENSMUST00000021772</td><td>NM_001013389.1</td></tr>\n",
       "</tbody>\n",
       "</table>\n"
      ],
      "text/latex": [
       "A data.frame: 6 × 2\n",
       "\\begin{tabular}{r|ll}\n",
       "  & stable\\_id & display\\_label\\\\\n",
       "  & <fct> & <fct>\\\\\n",
       "\\hline\n",
       "\t1 & ENSMUST00000021634 & NM\\_013778.2   \\\\\n",
       "\t2 & ENSMUST00000112933 & NM\\_170786.2   \\\\\n",
       "\t3 & ENSMUST00000189181 & NM\\_008829.2   \\\\\n",
       "\t4 & ENSMUST00000180159 & NM\\_023127.2   \\\\\n",
       "\t5 & ENSMUST00000057177 & NM\\_001039368.1\\\\\n",
       "\t6 & ENSMUST00000021772 & NM\\_001013389.1\\\\\n",
       "\\end{tabular}\n"
      ],
      "text/markdown": [
       "\n",
       "A data.frame: 6 × 2\n",
       "\n",
       "| <!--/--> | stable_id &lt;fct&gt; | display_label &lt;fct&gt; |\n",
       "|---|---|---|\n",
       "| 1 | ENSMUST00000021634 | NM_013778.2    |\n",
       "| 2 | ENSMUST00000112933 | NM_170786.2    |\n",
       "| 3 | ENSMUST00000189181 | NM_008829.2    |\n",
       "| 4 | ENSMUST00000180159 | NM_023127.2    |\n",
       "| 5 | ENSMUST00000057177 | NM_001039368.1 |\n",
       "| 6 | ENSMUST00000021772 | NM_001013389.1 |\n",
       "\n"
      ],
      "text/plain": [
       "  stable_id          display_label \n",
       "1 ENSMUST00000021634 NM_013778.2   \n",
       "2 ENSMUST00000112933 NM_170786.2   \n",
       "3 ENSMUST00000189181 NM_008829.2   \n",
       "4 ENSMUST00000180159 NM_023127.2   \n",
       "5 ENSMUST00000057177 NM_001039368.1\n",
       "6 ENSMUST00000021772 NM_001013389.1"
      ]
     },
     "metadata": {},
     "output_type": "display_data"
    }
   ],
   "source": [
    "head(refseq_ids)"
   ]
  },
  {
   "cell_type": "code",
   "execution_count": 28,
   "id": "68ff49b3-41e1-4b91-8baf-49cabfbe93dd",
   "metadata": {},
   "outputs": [
    {
     "data": {
      "text/html": [
       "<table class=\"dataframe\">\n",
       "<caption>A data.frame: 1 × 2</caption>\n",
       "<thead>\n",
       "\t<tr><th scope=col>stable_id</th><th scope=col>display_label</th></tr>\n",
       "\t<tr><th scope=col>&lt;fct&gt;</th><th scope=col>&lt;fct&gt;</th></tr>\n",
       "</thead>\n",
       "<tbody>\n",
       "\t<tr><td>ENSMUST00000029644</td><td>NM_146141.1</td></tr>\n",
       "</tbody>\n",
       "</table>\n"
      ],
      "text/latex": [
       "A data.frame: 1 × 2\n",
       "\\begin{tabular}{ll}\n",
       " stable\\_id & display\\_label\\\\\n",
       " <fct> & <fct>\\\\\n",
       "\\hline\n",
       "\t ENSMUST00000029644 & NM\\_146141.1\\\\\n",
       "\\end{tabular}\n"
      ],
      "text/markdown": [
       "\n",
       "A data.frame: 1 × 2\n",
       "\n",
       "| stable_id &lt;fct&gt; | display_label &lt;fct&gt; |\n",
       "|---|---|\n",
       "| ENSMUST00000029644 | NM_146141.1 |\n",
       "\n"
      ],
      "text/plain": [
       "  stable_id          display_label\n",
       "1 ENSMUST00000029644 NM_146141.1  "
      ]
     },
     "metadata": {},
     "output_type": "display_data"
    }
   ],
   "source": [
    "refseq_ids %>% filter(stable_id == \"ENSMUST00000029644\")"
   ]
  },
  {
   "cell_type": "markdown",
   "id": "8c093ee1-1886-4de4-bace-0f740aad8ebe",
   "metadata": {},
   "source": [
    "### Notes/observations:\n",
    "\n",
    "Looked up transcript tracking ID on ensembl website and found transcript names/RefSeq transcript IDs --> these did not have any matches in suppl. 10, but the gene name \"Ppa2\" matched suppl 10 tracking_id (so genes are likely the way to go).\n",
    "\n",
    "Looks like the rough bootstrap plot matches up with the called_differentially_expressed column.\n",
    "\n",
    "However, I looked up a handful of others and none of the ids on the ensembl result page (transcript id or gene id) match an entry in suppl. table 10.\n",
    "\n",
    "I'll try other models to look at WT vs CTCF, and gene-level analysis is probably needed."
   ]
  },
  {
   "cell_type": "markdown",
   "id": "933f3e1a-f8ab-4256-85d2-caf69f0eb191",
   "metadata": {},
   "source": [
    "## Wald Test for each individual conditions\n",
    "\n",
    "Specify which_beta = the condition that we want to compare against the base level. \n",
    "\n",
    "Going to use 2-days auxin treatment at first and do some analysis, but will want to add a test fo reach of the conditions we're looking into here. \n"
   ]
  },
  {
   "cell_type": "markdown",
   "id": "12e2535a-b268-4029-a32c-03466624989b",
   "metadata": {},
   "source": [
    "sleuth_wt: Wald test for a sleuth model\n",
    "\n",
    "`sleuth_wt(obj, which_beta, which_model = \"full\")`\n",
    "* computes the Wald test on one specific 'beta' coefficient on every transcript.\n",
    "* WT is used becase it generates the beta statistic, which approximates to the log2 fold change in expression between the 2 condition tested\n",
    "* sleuth does not \n"
   ]
  },
  {
   "cell_type": "code",
   "execution_count": 34,
   "id": "23f3e85f-eeea-466d-8ab9-16cc6675dcca",
   "metadata": {},
   "outputs": [
    {
     "name": "stdout",
     "output_type": "stream",
     "text": [
      "[  full  ]\n",
      "formula:  ~condition \n",
      "data modeled:  obs_counts \n",
      "transform sync'ed:  TRUE \n",
      "coefficients:\n",
      "\t(Intercept)\n",
      " \tcondition RNA-seq_CTCF-AID_auxin2days\n",
      " \tcondition RNA-seq_CTCF-AID_auxin4days\n",
      " \tcondition RNA-seq_CTCF-AID_untreated\n",
      " \tcondition RNA-seq_CTCF-AID_washoff2days\n",
      " \tcondition RNA-seq_WT-untagged_auxin2days\n",
      " \tcondition RNA-seq_WT-untagged_auxin4days\n",
      " \tcondition RNA-seq_WT-untagged_untreated\n",
      "[  reduced  ]\n",
      "formula:  ~1 \n",
      "data modeled:  obs_counts \n",
      "transform sync'ed:  TRUE \n",
      "coefficients:\n",
      "\t(Intercept)\n"
     ]
    }
   ],
   "source": [
    "models(so)"
   ]
  },
  {
   "cell_type": "code",
   "execution_count": 30,
   "id": "ad60f8f5-1eb5-4fe9-917f-d1bb2c73ed56",
   "metadata": {},
   "outputs": [],
   "source": [
    "# specify which_beta = the condition that we want to compare against. Use 2-days auxin treatment for now \n",
    "so <- sleuth_wt(so, which_beta = 'condition RNA-seq_CTCF-AID_auxin2days')"
   ]
  },
  {
   "cell_type": "code",
   "execution_count": 31,
   "id": "d9f39885-8199-4d00-90c1-f36aedf52d8b",
   "metadata": {},
   "outputs": [],
   "source": [
    "sleuth_results_wt <- sleuth_results(so, \n",
    "                                    test = 'condition RNA-seq_CTCF-AID_auxin2days', \n",
    "                                    show_all = TRUE)"
   ]
  },
  {
   "cell_type": "code",
   "execution_count": 43,
   "id": "a067506a-a053-49ad-a159-c860ce997c21",
   "metadata": {},
   "outputs": [
    {
     "data": {
      "text/html": [
       "<table class=\"dataframe\">\n",
       "<caption>A data.frame: 20 × 11</caption>\n",
       "<thead>\n",
       "\t<tr><th></th><th scope=col>target_id</th><th scope=col>pval</th><th scope=col>qval</th><th scope=col>b</th><th scope=col>se_b</th><th scope=col>mean_obs</th><th scope=col>var_obs</th><th scope=col>tech_var</th><th scope=col>sigma_sq</th><th scope=col>smooth_sigma_sq</th><th scope=col>final_sigma_sq</th></tr>\n",
       "\t<tr><th></th><th scope=col>&lt;chr&gt;</th><th scope=col>&lt;dbl&gt;</th><th scope=col>&lt;dbl&gt;</th><th scope=col>&lt;dbl&gt;</th><th scope=col>&lt;dbl&gt;</th><th scope=col>&lt;dbl&gt;</th><th scope=col>&lt;dbl&gt;</th><th scope=col>&lt;dbl&gt;</th><th scope=col>&lt;dbl&gt;</th><th scope=col>&lt;dbl&gt;</th><th scope=col>&lt;dbl&gt;</th></tr>\n",
       "</thead>\n",
       "<tbody>\n",
       "\t<tr><th scope=row>1</th><td>ENSMUST00000070911</td><td>8.556287e-07</td><td>0.04111724</td><td> 4.1002087</td><td>0.8329979</td><td>3.909947</td><td>2.2662748</td><td>0.5115539102</td><td> 0.52927440</td><td>0.41555620</td><td>0.52927440</td></tr>\n",
       "\t<tr><th scope=row>2</th><td>ENSMUST00000038676</td><td>3.784414e-06</td><td>0.09093000</td><td> 1.9697013</td><td>0.4260763</td><td>4.695088</td><td>0.9393589</td><td>0.0172293531</td><td> 0.22279105</td><td>0.25508217</td><td>0.25508217</td></tr>\n",
       "\t<tr><th scope=row>3</th><td>ENSMUST00000166009</td><td>7.536496e-06</td><td>0.12072210</td><td>-4.0833210</td><td>0.9118738</td><td>4.895332</td><td>5.7848326</td><td>1.0209887781</td><td>-0.47091181</td><td>0.22628205</td><td>0.22628205</td></tr>\n",
       "\t<tr><th scope=row>4</th><td>ENSMUST00000173334</td><td>1.062948e-05</td><td>0.12769997</td><td> 1.4960822</td><td>0.3397133</td><td>5.679022</td><td>1.5617156</td><td>0.0076604275</td><td> 0.16544727</td><td>0.14284998</td><td>0.16544727</td></tr>\n",
       "\t<tr><th scope=row>5</th><td>ENSMUST00000151505</td><td>1.767477e-05</td><td>0.16987225</td><td> 5.4659208</td><td>1.2733934</td><td>3.254748</td><td>5.7637503</td><td>1.7372294673</td><td> 0.69506657</td><td>0.62038397</td><td>0.69506657</td></tr>\n",
       "\t<tr><th scope=row>6</th><td>ENSMUST00000067975</td><td>2.585061e-05</td><td>0.20704187</td><td> 3.7221266</td><td>0.8846951</td><td>3.029992</td><td>1.7061673</td><td>0.4831113932</td><td> 0.14007011</td><td>0.69091679</td><td>0.69091679</td></tr>\n",
       "\t<tr><th scope=row>7</th><td>ENSMUST00000171066</td><td>3.454127e-05</td><td>0.23712582</td><td> 0.9217450</td><td>0.2225763</td><td>9.518412</td><td>1.0441342</td><td>0.0001302209</td><td> 0.07418011</td><td>0.04829636</td><td>0.07418011</td></tr>\n",
       "\t<tr><th scope=row>8</th><td>ENSMUST00000113158</td><td>4.166372e-05</td><td>0.25026877</td><td>-4.7046539</td><td>1.1480213</td><td>5.621996</td><td>3.9741105</td><td>0.5903137533</td><td> 1.38661569</td><td>0.14748436</td><td>1.38661569</td></tr>\n",
       "\t<tr><th scope=row>9</th><td>ENSMUST00000062213</td><td>7.733745e-05</td><td>0.41293904</td><td> 3.3500008</td><td>0.8475640</td><td>4.243453</td><td>2.6153966</td><td>0.7387400655</td><td> 0.08906437</td><td>0.33880716</td><td>0.33880716</td></tr>\n",
       "\t<tr><th scope=row>10</th><td>ENSMUST00000155572</td><td>1.069657e-04</td><td>0.41469531</td><td> 0.7447287</td><td>0.1922266</td><td>8.060573</td><td>0.7240418</td><td>0.0004519891</td><td> 0.04101434</td><td>0.05497463</td><td>0.05497463</td></tr>\n",
       "\t<tr><th scope=row>11</th><td>ENSMUST00000136299</td><td>8.630645e-05</td><td>0.41469531</td><td> 0.9207583</td><td>0.2345177</td><td>8.066746</td><td>1.1462428</td><td>0.0004998462</td><td> 0.08199801</td><td>0.05489996</td><td>0.08199801</td></tr>\n",
       "\t<tr><th scope=row>12</th><td>ENSMUST00000103031</td><td>1.121848e-04</td><td>0.41469531</td><td> 4.0456234</td><td>1.0473824</td><td>4.654088</td><td>3.1047081</td><td>0.8697484208</td><td> 0.77576633</td><td>0.26153042</td><td>0.77576633</td></tr>\n",
       "\t<tr><th scope=row>13</th><td>ENSMUST00000099362</td><td>1.068372e-04</td><td>0.41469531</td><td> 0.9711517</td><td>0.2506511</td><td>6.566999</td><td>0.2772720</td><td>0.0030783912</td><td> 0.06919735</td><td>0.09116060</td><td>0.09116060</td></tr>\n",
       "\t<tr><th scope=row>14</th><td>ENSMUST00000044773</td><td>1.352756e-04</td><td>0.46433361</td><td> 3.3527664</td><td>0.8784578</td><td>3.922622</td><td>2.3774740</td><td>0.7450472078</td><td> 0.22188860</td><td>0.41248499</td><td>0.41248499</td></tr>\n",
       "\t<tr><th scope=row>15</th><td>ENSMUST00000034121</td><td>1.794990e-04</td><td>0.50740156</td><td> 0.7892773</td><td>0.2106847</td><td>7.404901</td><td>0.1823752</td><td>0.0007835711</td><td> 0.04091551</td><td>0.06579851</td><td>0.06579851</td></tr>\n",
       "\t<tr><th scope=row>16</th><td>ENSMUST00000107724</td><td>1.591749e-04</td><td>0.50740156</td><td>-1.3794773</td><td>0.3652986</td><td>6.531888</td><td>0.5431204</td><td>0.0911305147</td><td> 0.10903408</td><td>0.09263478</td><td>0.10903408</td></tr>\n",
       "\t<tr><th scope=row>17</th><td>ENSMUST00000086370</td><td>1.776081e-04</td><td>0.50740156</td><td> 1.0685435</td><td>0.2850281</td><td>6.414937</td><td>0.3346847</td><td>0.0033588471</td><td> 0.11850270</td><td>0.09783469</td><td>0.11850270</td></tr>\n",
       "\t<tr><th scope=row>18</th><td>ENSMUST00000144472</td><td>1.924491e-04</td><td>0.51378551</td><td>-3.1811120</td><td>0.8531361</td><td>3.217857</td><td>1.6839599</td><td>0.4593302795</td><td> 0.39613982</td><td>0.63243148</td><td>0.63243148</td></tr>\n",
       "\t<tr><th scope=row>19</th><td>ENSMUST00000073572</td><td>2.509640e-04</td><td>0.60300386</td><td> 4.6521992</td><td>1.2706503</td><td>2.356741</td><td>4.5124905</td><td>1.0748768743</td><td> 1.34695154</td><td>0.90142115</td><td>1.34695154</td></tr>\n",
       "\t<tr><th scope=row>20</th><td>ENSMUST00000162443</td><td>2.471286e-04</td><td>0.60300386</td><td> 3.1327035</td><td>0.8547115</td><td>4.030236</td><td>2.3591937</td><td>0.7089915599</td><td> 0.12711798</td><td>0.38680615</td><td>0.38680615</td></tr>\n",
       "</tbody>\n",
       "</table>\n"
      ],
      "text/latex": [
       "A data.frame: 20 × 11\n",
       "\\begin{tabular}{r|lllllllllll}\n",
       "  & target\\_id & pval & qval & b & se\\_b & mean\\_obs & var\\_obs & tech\\_var & sigma\\_sq & smooth\\_sigma\\_sq & final\\_sigma\\_sq\\\\\n",
       "  & <chr> & <dbl> & <dbl> & <dbl> & <dbl> & <dbl> & <dbl> & <dbl> & <dbl> & <dbl> & <dbl>\\\\\n",
       "\\hline\n",
       "\t1 & ENSMUST00000070911 & 8.556287e-07 & 0.04111724 &  4.1002087 & 0.8329979 & 3.909947 & 2.2662748 & 0.5115539102 &  0.52927440 & 0.41555620 & 0.52927440\\\\\n",
       "\t2 & ENSMUST00000038676 & 3.784414e-06 & 0.09093000 &  1.9697013 & 0.4260763 & 4.695088 & 0.9393589 & 0.0172293531 &  0.22279105 & 0.25508217 & 0.25508217\\\\\n",
       "\t3 & ENSMUST00000166009 & 7.536496e-06 & 0.12072210 & -4.0833210 & 0.9118738 & 4.895332 & 5.7848326 & 1.0209887781 & -0.47091181 & 0.22628205 & 0.22628205\\\\\n",
       "\t4 & ENSMUST00000173334 & 1.062948e-05 & 0.12769997 &  1.4960822 & 0.3397133 & 5.679022 & 1.5617156 & 0.0076604275 &  0.16544727 & 0.14284998 & 0.16544727\\\\\n",
       "\t5 & ENSMUST00000151505 & 1.767477e-05 & 0.16987225 &  5.4659208 & 1.2733934 & 3.254748 & 5.7637503 & 1.7372294673 &  0.69506657 & 0.62038397 & 0.69506657\\\\\n",
       "\t6 & ENSMUST00000067975 & 2.585061e-05 & 0.20704187 &  3.7221266 & 0.8846951 & 3.029992 & 1.7061673 & 0.4831113932 &  0.14007011 & 0.69091679 & 0.69091679\\\\\n",
       "\t7 & ENSMUST00000171066 & 3.454127e-05 & 0.23712582 &  0.9217450 & 0.2225763 & 9.518412 & 1.0441342 & 0.0001302209 &  0.07418011 & 0.04829636 & 0.07418011\\\\\n",
       "\t8 & ENSMUST00000113158 & 4.166372e-05 & 0.25026877 & -4.7046539 & 1.1480213 & 5.621996 & 3.9741105 & 0.5903137533 &  1.38661569 & 0.14748436 & 1.38661569\\\\\n",
       "\t9 & ENSMUST00000062213 & 7.733745e-05 & 0.41293904 &  3.3500008 & 0.8475640 & 4.243453 & 2.6153966 & 0.7387400655 &  0.08906437 & 0.33880716 & 0.33880716\\\\\n",
       "\t10 & ENSMUST00000155572 & 1.069657e-04 & 0.41469531 &  0.7447287 & 0.1922266 & 8.060573 & 0.7240418 & 0.0004519891 &  0.04101434 & 0.05497463 & 0.05497463\\\\\n",
       "\t11 & ENSMUST00000136299 & 8.630645e-05 & 0.41469531 &  0.9207583 & 0.2345177 & 8.066746 & 1.1462428 & 0.0004998462 &  0.08199801 & 0.05489996 & 0.08199801\\\\\n",
       "\t12 & ENSMUST00000103031 & 1.121848e-04 & 0.41469531 &  4.0456234 & 1.0473824 & 4.654088 & 3.1047081 & 0.8697484208 &  0.77576633 & 0.26153042 & 0.77576633\\\\\n",
       "\t13 & ENSMUST00000099362 & 1.068372e-04 & 0.41469531 &  0.9711517 & 0.2506511 & 6.566999 & 0.2772720 & 0.0030783912 &  0.06919735 & 0.09116060 & 0.09116060\\\\\n",
       "\t14 & ENSMUST00000044773 & 1.352756e-04 & 0.46433361 &  3.3527664 & 0.8784578 & 3.922622 & 2.3774740 & 0.7450472078 &  0.22188860 & 0.41248499 & 0.41248499\\\\\n",
       "\t15 & ENSMUST00000034121 & 1.794990e-04 & 0.50740156 &  0.7892773 & 0.2106847 & 7.404901 & 0.1823752 & 0.0007835711 &  0.04091551 & 0.06579851 & 0.06579851\\\\\n",
       "\t16 & ENSMUST00000107724 & 1.591749e-04 & 0.50740156 & -1.3794773 & 0.3652986 & 6.531888 & 0.5431204 & 0.0911305147 &  0.10903408 & 0.09263478 & 0.10903408\\\\\n",
       "\t17 & ENSMUST00000086370 & 1.776081e-04 & 0.50740156 &  1.0685435 & 0.2850281 & 6.414937 & 0.3346847 & 0.0033588471 &  0.11850270 & 0.09783469 & 0.11850270\\\\\n",
       "\t18 & ENSMUST00000144472 & 1.924491e-04 & 0.51378551 & -3.1811120 & 0.8531361 & 3.217857 & 1.6839599 & 0.4593302795 &  0.39613982 & 0.63243148 & 0.63243148\\\\\n",
       "\t19 & ENSMUST00000073572 & 2.509640e-04 & 0.60300386 &  4.6521992 & 1.2706503 & 2.356741 & 4.5124905 & 1.0748768743 &  1.34695154 & 0.90142115 & 1.34695154\\\\\n",
       "\t20 & ENSMUST00000162443 & 2.471286e-04 & 0.60300386 &  3.1327035 & 0.8547115 & 4.030236 & 2.3591937 & 0.7089915599 &  0.12711798 & 0.38680615 & 0.38680615\\\\\n",
       "\\end{tabular}\n"
      ],
      "text/markdown": [
       "\n",
       "A data.frame: 20 × 11\n",
       "\n",
       "| <!--/--> | target_id &lt;chr&gt; | pval &lt;dbl&gt; | qval &lt;dbl&gt; | b &lt;dbl&gt; | se_b &lt;dbl&gt; | mean_obs &lt;dbl&gt; | var_obs &lt;dbl&gt; | tech_var &lt;dbl&gt; | sigma_sq &lt;dbl&gt; | smooth_sigma_sq &lt;dbl&gt; | final_sigma_sq &lt;dbl&gt; |\n",
       "|---|---|---|---|---|---|---|---|---|---|---|---|\n",
       "| 1 | ENSMUST00000070911 | 8.556287e-07 | 0.04111724 |  4.1002087 | 0.8329979 | 3.909947 | 2.2662748 | 0.5115539102 |  0.52927440 | 0.41555620 | 0.52927440 |\n",
       "| 2 | ENSMUST00000038676 | 3.784414e-06 | 0.09093000 |  1.9697013 | 0.4260763 | 4.695088 | 0.9393589 | 0.0172293531 |  0.22279105 | 0.25508217 | 0.25508217 |\n",
       "| 3 | ENSMUST00000166009 | 7.536496e-06 | 0.12072210 | -4.0833210 | 0.9118738 | 4.895332 | 5.7848326 | 1.0209887781 | -0.47091181 | 0.22628205 | 0.22628205 |\n",
       "| 4 | ENSMUST00000173334 | 1.062948e-05 | 0.12769997 |  1.4960822 | 0.3397133 | 5.679022 | 1.5617156 | 0.0076604275 |  0.16544727 | 0.14284998 | 0.16544727 |\n",
       "| 5 | ENSMUST00000151505 | 1.767477e-05 | 0.16987225 |  5.4659208 | 1.2733934 | 3.254748 | 5.7637503 | 1.7372294673 |  0.69506657 | 0.62038397 | 0.69506657 |\n",
       "| 6 | ENSMUST00000067975 | 2.585061e-05 | 0.20704187 |  3.7221266 | 0.8846951 | 3.029992 | 1.7061673 | 0.4831113932 |  0.14007011 | 0.69091679 | 0.69091679 |\n",
       "| 7 | ENSMUST00000171066 | 3.454127e-05 | 0.23712582 |  0.9217450 | 0.2225763 | 9.518412 | 1.0441342 | 0.0001302209 |  0.07418011 | 0.04829636 | 0.07418011 |\n",
       "| 8 | ENSMUST00000113158 | 4.166372e-05 | 0.25026877 | -4.7046539 | 1.1480213 | 5.621996 | 3.9741105 | 0.5903137533 |  1.38661569 | 0.14748436 | 1.38661569 |\n",
       "| 9 | ENSMUST00000062213 | 7.733745e-05 | 0.41293904 |  3.3500008 | 0.8475640 | 4.243453 | 2.6153966 | 0.7387400655 |  0.08906437 | 0.33880716 | 0.33880716 |\n",
       "| 10 | ENSMUST00000155572 | 1.069657e-04 | 0.41469531 |  0.7447287 | 0.1922266 | 8.060573 | 0.7240418 | 0.0004519891 |  0.04101434 | 0.05497463 | 0.05497463 |\n",
       "| 11 | ENSMUST00000136299 | 8.630645e-05 | 0.41469531 |  0.9207583 | 0.2345177 | 8.066746 | 1.1462428 | 0.0004998462 |  0.08199801 | 0.05489996 | 0.08199801 |\n",
       "| 12 | ENSMUST00000103031 | 1.121848e-04 | 0.41469531 |  4.0456234 | 1.0473824 | 4.654088 | 3.1047081 | 0.8697484208 |  0.77576633 | 0.26153042 | 0.77576633 |\n",
       "| 13 | ENSMUST00000099362 | 1.068372e-04 | 0.41469531 |  0.9711517 | 0.2506511 | 6.566999 | 0.2772720 | 0.0030783912 |  0.06919735 | 0.09116060 | 0.09116060 |\n",
       "| 14 | ENSMUST00000044773 | 1.352756e-04 | 0.46433361 |  3.3527664 | 0.8784578 | 3.922622 | 2.3774740 | 0.7450472078 |  0.22188860 | 0.41248499 | 0.41248499 |\n",
       "| 15 | ENSMUST00000034121 | 1.794990e-04 | 0.50740156 |  0.7892773 | 0.2106847 | 7.404901 | 0.1823752 | 0.0007835711 |  0.04091551 | 0.06579851 | 0.06579851 |\n",
       "| 16 | ENSMUST00000107724 | 1.591749e-04 | 0.50740156 | -1.3794773 | 0.3652986 | 6.531888 | 0.5431204 | 0.0911305147 |  0.10903408 | 0.09263478 | 0.10903408 |\n",
       "| 17 | ENSMUST00000086370 | 1.776081e-04 | 0.50740156 |  1.0685435 | 0.2850281 | 6.414937 | 0.3346847 | 0.0033588471 |  0.11850270 | 0.09783469 | 0.11850270 |\n",
       "| 18 | ENSMUST00000144472 | 1.924491e-04 | 0.51378551 | -3.1811120 | 0.8531361 | 3.217857 | 1.6839599 | 0.4593302795 |  0.39613982 | 0.63243148 | 0.63243148 |\n",
       "| 19 | ENSMUST00000073572 | 2.509640e-04 | 0.60300386 |  4.6521992 | 1.2706503 | 2.356741 | 4.5124905 | 1.0748768743 |  1.34695154 | 0.90142115 | 1.34695154 |\n",
       "| 20 | ENSMUST00000162443 | 2.471286e-04 | 0.60300386 |  3.1327035 | 0.8547115 | 4.030236 | 2.3591937 | 0.7089915599 |  0.12711798 | 0.38680615 | 0.38680615 |\n",
       "\n"
      ],
      "text/plain": [
       "   target_id          pval         qval       b          se_b      mean_obs\n",
       "1  ENSMUST00000070911 8.556287e-07 0.04111724  4.1002087 0.8329979 3.909947\n",
       "2  ENSMUST00000038676 3.784414e-06 0.09093000  1.9697013 0.4260763 4.695088\n",
       "3  ENSMUST00000166009 7.536496e-06 0.12072210 -4.0833210 0.9118738 4.895332\n",
       "4  ENSMUST00000173334 1.062948e-05 0.12769997  1.4960822 0.3397133 5.679022\n",
       "5  ENSMUST00000151505 1.767477e-05 0.16987225  5.4659208 1.2733934 3.254748\n",
       "6  ENSMUST00000067975 2.585061e-05 0.20704187  3.7221266 0.8846951 3.029992\n",
       "7  ENSMUST00000171066 3.454127e-05 0.23712582  0.9217450 0.2225763 9.518412\n",
       "8  ENSMUST00000113158 4.166372e-05 0.25026877 -4.7046539 1.1480213 5.621996\n",
       "9  ENSMUST00000062213 7.733745e-05 0.41293904  3.3500008 0.8475640 4.243453\n",
       "10 ENSMUST00000155572 1.069657e-04 0.41469531  0.7447287 0.1922266 8.060573\n",
       "11 ENSMUST00000136299 8.630645e-05 0.41469531  0.9207583 0.2345177 8.066746\n",
       "12 ENSMUST00000103031 1.121848e-04 0.41469531  4.0456234 1.0473824 4.654088\n",
       "13 ENSMUST00000099362 1.068372e-04 0.41469531  0.9711517 0.2506511 6.566999\n",
       "14 ENSMUST00000044773 1.352756e-04 0.46433361  3.3527664 0.8784578 3.922622\n",
       "15 ENSMUST00000034121 1.794990e-04 0.50740156  0.7892773 0.2106847 7.404901\n",
       "16 ENSMUST00000107724 1.591749e-04 0.50740156 -1.3794773 0.3652986 6.531888\n",
       "17 ENSMUST00000086370 1.776081e-04 0.50740156  1.0685435 0.2850281 6.414937\n",
       "18 ENSMUST00000144472 1.924491e-04 0.51378551 -3.1811120 0.8531361 3.217857\n",
       "19 ENSMUST00000073572 2.509640e-04 0.60300386  4.6521992 1.2706503 2.356741\n",
       "20 ENSMUST00000162443 2.471286e-04 0.60300386  3.1327035 0.8547115 4.030236\n",
       "   var_obs   tech_var     sigma_sq    smooth_sigma_sq final_sigma_sq\n",
       "1  2.2662748 0.5115539102  0.52927440 0.41555620      0.52927440    \n",
       "2  0.9393589 0.0172293531  0.22279105 0.25508217      0.25508217    \n",
       "3  5.7848326 1.0209887781 -0.47091181 0.22628205      0.22628205    \n",
       "4  1.5617156 0.0076604275  0.16544727 0.14284998      0.16544727    \n",
       "5  5.7637503 1.7372294673  0.69506657 0.62038397      0.69506657    \n",
       "6  1.7061673 0.4831113932  0.14007011 0.69091679      0.69091679    \n",
       "7  1.0441342 0.0001302209  0.07418011 0.04829636      0.07418011    \n",
       "8  3.9741105 0.5903137533  1.38661569 0.14748436      1.38661569    \n",
       "9  2.6153966 0.7387400655  0.08906437 0.33880716      0.33880716    \n",
       "10 0.7240418 0.0004519891  0.04101434 0.05497463      0.05497463    \n",
       "11 1.1462428 0.0004998462  0.08199801 0.05489996      0.08199801    \n",
       "12 3.1047081 0.8697484208  0.77576633 0.26153042      0.77576633    \n",
       "13 0.2772720 0.0030783912  0.06919735 0.09116060      0.09116060    \n",
       "14 2.3774740 0.7450472078  0.22188860 0.41248499      0.41248499    \n",
       "15 0.1823752 0.0007835711  0.04091551 0.06579851      0.06579851    \n",
       "16 0.5431204 0.0911305147  0.10903408 0.09263478      0.10903408    \n",
       "17 0.3346847 0.0033588471  0.11850270 0.09783469      0.11850270    \n",
       "18 1.6839599 0.4593302795  0.39613982 0.63243148      0.63243148    \n",
       "19 4.5124905 1.0748768743  1.34695154 0.90142115      1.34695154    \n",
       "20 2.3591937 0.7089915599  0.12711798 0.38680615      0.38680615    "
      ]
     },
     "metadata": {},
     "output_type": "display_data"
    },
    {
     "data": {
      "text/html": [
       "<style>\n",
       ".list-inline {list-style: none; margin:0; padding: 0}\n",
       ".list-inline>li {display: inline-block}\n",
       ".list-inline>li:not(:last-child)::after {content: \"\\00b7\"; padding: 0 .5ex}\n",
       "</style>\n",
       "<ol class=list-inline><li>88366</li><li>11</li></ol>\n"
      ],
      "text/latex": [
       "\\begin{enumerate*}\n",
       "\\item 88366\n",
       "\\item 11\n",
       "\\end{enumerate*}\n"
      ],
      "text/markdown": [
       "1. 88366\n",
       "2. 11\n",
       "\n",
       "\n"
      ],
      "text/plain": [
       "[1] 88366    11"
      ]
     },
     "metadata": {},
     "output_type": "display_data"
    }
   ],
   "source": [
    "head(sleuth_results_wt, 20)\n",
    "dim(sleuth_results_wt)"
   ]
  },
  {
   "cell_type": "markdown",
   "id": "93335003-9a7b-449a-9245-d6339d758ddf",
   "metadata": {},
   "source": [
    "Note:\n",
    "\n",
    "The output represents the results from the differential expression testing with the following columns:\n",
    "\n",
    "- target_id: the Ensembl transcript ID\n",
    "- pval: the Wald test FDR adjusted pvalue using Benjamini-Hochberg\n",
    "- qval: the p-value adjusted for multiple test correction\n",
    "- b: beta value, which is the log2 fold changes between conditions (These are log2 b/c we specified log2 transformation in the sleuth_prep() step. By default, these would have been natural log fold changes).\n",
    "- se_b: standard error of the beta value\n",
    "- mean_obs: the mean expression (log2) of the transcript across all samples\n",
    "- var_obs: the biological variance of the expression\n",
    "- tech_var: the technical variance of expression (derived from the bootstraps)\n",
    "- sigma_sq: raw estimator of the variance once the technical variance has been removed\n",
    "- smooth_sigma_sq: the smooth regression fit for the shrinkage estimation\n",
    "- final_sigma_sq: max(sigma_sq, smooth_sigma_sq). this is the one used for covariance estimation of beta (in addition to tech_var)\n",
    "- ens_gene: associated Ensembl gene ID\n",
    "- ext_gene: associated gene symbol"
   ]
  },
  {
   "cell_type": "code",
   "execution_count": null,
   "id": "4113ed64-9b70-45b4-83c8-a4b0ba664fe7",
   "metadata": {},
   "outputs": [],
   "source": [
    "sleuth_results_wt <- sleuth_results(so, \n",
    "                                    test = 'condition RNA-seq_CTCF-AID_auxin2days', \n",
    "                                    show_all = TRUE)"
   ]
  },
  {
   "cell_type": "code",
   "execution_count": 46,
   "id": "2a15d730-37a7-4936-8dfa-3b6c2facda51",
   "metadata": {},
   "outputs": [
    {
     "data": {
      "text/html": [
       "<table class=\"dataframe\">\n",
       "<caption>A data.frame: 5 × 11</caption>\n",
       "<thead>\n",
       "\t<tr><th scope=col>target_id</th><th scope=col>pval</th><th scope=col>qval</th><th scope=col>b</th><th scope=col>se_b</th><th scope=col>mean_obs</th><th scope=col>var_obs</th><th scope=col>tech_var</th><th scope=col>sigma_sq</th><th scope=col>smooth_sigma_sq</th><th scope=col>final_sigma_sq</th></tr>\n",
       "\t<tr><th scope=col>&lt;chr&gt;</th><th scope=col>&lt;dbl&gt;</th><th scope=col>&lt;dbl&gt;</th><th scope=col>&lt;dbl&gt;</th><th scope=col>&lt;dbl&gt;</th><th scope=col>&lt;dbl&gt;</th><th scope=col>&lt;dbl&gt;</th><th scope=col>&lt;dbl&gt;</th><th scope=col>&lt;dbl&gt;</th><th scope=col>&lt;dbl&gt;</th><th scope=col>&lt;dbl&gt;</th></tr>\n",
       "</thead>\n",
       "<tbody>\n",
       "\t<tr><td>ENSMUST00000070911</td><td>8.556287e-07</td><td>0.04111724</td><td> 4.100209</td><td>0.8329979</td><td>3.909947</td><td>2.2662748</td><td>0.511553910</td><td> 0.5292744</td><td>0.4155562</td><td>0.5292744</td></tr>\n",
       "\t<tr><td>ENSMUST00000038676</td><td>3.784414e-06</td><td>0.09093000</td><td> 1.969701</td><td>0.4260763</td><td>4.695088</td><td>0.9393589</td><td>0.017229353</td><td> 0.2227911</td><td>0.2550822</td><td>0.2550822</td></tr>\n",
       "\t<tr><td>ENSMUST00000166009</td><td>7.536496e-06</td><td>0.12072210</td><td>-4.083321</td><td>0.9118738</td><td>4.895332</td><td>5.7848326</td><td>1.020988778</td><td>-0.4709118</td><td>0.2262821</td><td>0.2262821</td></tr>\n",
       "\t<tr><td>ENSMUST00000173334</td><td>1.062948e-05</td><td>0.12769997</td><td> 1.496082</td><td>0.3397133</td><td>5.679022</td><td>1.5617156</td><td>0.007660428</td><td> 0.1654473</td><td>0.1428500</td><td>0.1654473</td></tr>\n",
       "\t<tr><td>ENSMUST00000151505</td><td>1.767477e-05</td><td>0.16987225</td><td> 5.465921</td><td>1.2733934</td><td>3.254748</td><td>5.7637503</td><td>1.737229467</td><td> 0.6950666</td><td>0.6203840</td><td>0.6950666</td></tr>\n",
       "</tbody>\n",
       "</table>\n"
      ],
      "text/latex": [
       "A data.frame: 5 × 11\n",
       "\\begin{tabular}{lllllllllll}\n",
       " target\\_id & pval & qval & b & se\\_b & mean\\_obs & var\\_obs & tech\\_var & sigma\\_sq & smooth\\_sigma\\_sq & final\\_sigma\\_sq\\\\\n",
       " <chr> & <dbl> & <dbl> & <dbl> & <dbl> & <dbl> & <dbl> & <dbl> & <dbl> & <dbl> & <dbl>\\\\\n",
       "\\hline\n",
       "\t ENSMUST00000070911 & 8.556287e-07 & 0.04111724 &  4.100209 & 0.8329979 & 3.909947 & 2.2662748 & 0.511553910 &  0.5292744 & 0.4155562 & 0.5292744\\\\\n",
       "\t ENSMUST00000038676 & 3.784414e-06 & 0.09093000 &  1.969701 & 0.4260763 & 4.695088 & 0.9393589 & 0.017229353 &  0.2227911 & 0.2550822 & 0.2550822\\\\\n",
       "\t ENSMUST00000166009 & 7.536496e-06 & 0.12072210 & -4.083321 & 0.9118738 & 4.895332 & 5.7848326 & 1.020988778 & -0.4709118 & 0.2262821 & 0.2262821\\\\\n",
       "\t ENSMUST00000173334 & 1.062948e-05 & 0.12769997 &  1.496082 & 0.3397133 & 5.679022 & 1.5617156 & 0.007660428 &  0.1654473 & 0.1428500 & 0.1654473\\\\\n",
       "\t ENSMUST00000151505 & 1.767477e-05 & 0.16987225 &  5.465921 & 1.2733934 & 3.254748 & 5.7637503 & 1.737229467 &  0.6950666 & 0.6203840 & 0.6950666\\\\\n",
       "\\end{tabular}\n"
      ],
      "text/markdown": [
       "\n",
       "A data.frame: 5 × 11\n",
       "\n",
       "| target_id &lt;chr&gt; | pval &lt;dbl&gt; | qval &lt;dbl&gt; | b &lt;dbl&gt; | se_b &lt;dbl&gt; | mean_obs &lt;dbl&gt; | var_obs &lt;dbl&gt; | tech_var &lt;dbl&gt; | sigma_sq &lt;dbl&gt; | smooth_sigma_sq &lt;dbl&gt; | final_sigma_sq &lt;dbl&gt; |\n",
       "|---|---|---|---|---|---|---|---|---|---|---|\n",
       "| ENSMUST00000070911 | 8.556287e-07 | 0.04111724 |  4.100209 | 0.8329979 | 3.909947 | 2.2662748 | 0.511553910 |  0.5292744 | 0.4155562 | 0.5292744 |\n",
       "| ENSMUST00000038676 | 3.784414e-06 | 0.09093000 |  1.969701 | 0.4260763 | 4.695088 | 0.9393589 | 0.017229353 |  0.2227911 | 0.2550822 | 0.2550822 |\n",
       "| ENSMUST00000166009 | 7.536496e-06 | 0.12072210 | -4.083321 | 0.9118738 | 4.895332 | 5.7848326 | 1.020988778 | -0.4709118 | 0.2262821 | 0.2262821 |\n",
       "| ENSMUST00000173334 | 1.062948e-05 | 0.12769997 |  1.496082 | 0.3397133 | 5.679022 | 1.5617156 | 0.007660428 |  0.1654473 | 0.1428500 | 0.1654473 |\n",
       "| ENSMUST00000151505 | 1.767477e-05 | 0.16987225 |  5.465921 | 1.2733934 | 3.254748 | 5.7637503 | 1.737229467 |  0.6950666 | 0.6203840 | 0.6950666 |\n",
       "\n"
      ],
      "text/plain": [
       "  target_id          pval         qval       b         se_b      mean_obs\n",
       "1 ENSMUST00000070911 8.556287e-07 0.04111724  4.100209 0.8329979 3.909947\n",
       "2 ENSMUST00000038676 3.784414e-06 0.09093000  1.969701 0.4260763 4.695088\n",
       "3 ENSMUST00000166009 7.536496e-06 0.12072210 -4.083321 0.9118738 4.895332\n",
       "4 ENSMUST00000173334 1.062948e-05 0.12769997  1.496082 0.3397133 5.679022\n",
       "5 ENSMUST00000151505 1.767477e-05 0.16987225  5.465921 1.2733934 3.254748\n",
       "  var_obs   tech_var    sigma_sq   smooth_sigma_sq final_sigma_sq\n",
       "1 2.2662748 0.511553910  0.5292744 0.4155562       0.5292744     \n",
       "2 0.9393589 0.017229353  0.2227911 0.2550822       0.2550822     \n",
       "3 5.7848326 1.020988778 -0.4709118 0.2262821       0.2262821     \n",
       "4 1.5617156 0.007660428  0.1654473 0.1428500       0.1654473     \n",
       "5 5.7637503 1.737229467  0.6950666 0.6203840       0.6950666     "
      ]
     },
     "metadata": {},
     "output_type": "display_data"
    }
   ],
   "source": [
    "sig_transcripts <- sleuth_results_wt %>% \n",
    "  filter(qval < 0.2)\n",
    "\n",
    "sig_transcripts"
   ]
  },
  {
   "cell_type": "markdown",
   "id": "589abeb2-6058-4966-93c6-3d68934ea6fa",
   "metadata": {},
   "source": [
    "## Notes:\n",
    "\n",
    "Most tutorials use a qvalue of 0.05. Seems like this might not be the best model? "
   ]
  },
  {
   "cell_type": "code",
   "execution_count": 51,
   "id": "41f8361d-f9fe-4f63-b3b0-3619adb28242",
   "metadata": {},
   "outputs": [
    {
     "name": "stdout",
     "output_type": "stream",
     "text": [
      "[  full  ]\n",
      "formula:  ~condition \n",
      "data modeled:  obs_counts \n",
      "transform sync'ed:  TRUE \n",
      "coefficients:\n",
      "\t(Intercept)\n",
      " \tcondition RNA-seq_CTCF-AID_auxin2days\n",
      " \tcondition RNA-seq_CTCF-AID_auxin4days\n",
      " \tcondition RNA-seq_CTCF-AID_untreated\n",
      " \tcondition RNA-seq_CTCF-AID_washoff2days\n",
      " \tcondition RNA-seq_WT-untagged_auxin2days\n",
      " \tcondition RNA-seq_WT-untagged_auxin4days\n",
      " \tcondition RNA-seq_WT-untagged_untreated\n",
      "[  reduced  ]\n",
      "formula:  ~1 \n",
      "data modeled:  obs_counts \n",
      "transform sync'ed:  TRUE \n",
      "coefficients:\n",
      "\t(Intercept)\n"
     ]
    }
   ],
   "source": [
    "models(so)"
   ]
  },
  {
   "cell_type": "code",
   "execution_count": 56,
   "id": "0bd2aa4d-289e-4592-848e-e30d8f60360e",
   "metadata": {},
   "outputs": [],
   "source": [
    "# Adding rest of the conditions -- all except untreated (so this is the base of comparison)\n",
    "\n",
    "so <- sleuth_wt(so, which_beta = 'condition RNA-seq_CTCF-AID_auxin4days')\n",
    "so <- sleuth_wt(so, which_beta = 'condition RNA-seq_CTCF-AID_washoff2days')\n",
    "so <- sleuth_wt(so, which_beta = 'condition RNA-seq_WT-untagged_auxin2days')\n",
    "so <- sleuth_wt(so, which_beta = 'condition RNA-seq_WT-untagged_auxin4days')\n",
    "\n",
    "sleuth_results_wt <- sleuth_results(so, \n",
    "                                    test = 'condition RNA-seq_CTCF-AID_auxin4days', \n",
    "                                    show_all = TRUE)\n",
    "sleuth_results_wt <- sleuth_results(so, \n",
    "                                    test = 'condition RNA-seq_CTCF-AID_washoff2days', \n",
    "                                    show_all = TRUE)\n",
    "sleuth_results_wt <- sleuth_results(so, \n",
    "                                    test = 'condition RNA-seq_WT-untagged_auxin2days', \n",
    "                                    show_all = TRUE)\n",
    "sleuth_results_wt <- sleuth_results(so, \n",
    "                                    test = 'condition RNA-seq_WT-untagged_auxin4days', \n",
    "                                    show_all = TRUE)"
   ]
  },
  {
   "cell_type": "code",
   "execution_count": 59,
   "id": "4ae09141-975e-4fd9-83b6-d6dd36ca31ef",
   "metadata": {},
   "outputs": [
    {
     "data": {
      "text/html": [
       "<table class=\"dataframe\">\n",
       "<caption>A data.frame: 6 × 11</caption>\n",
       "<thead>\n",
       "\t<tr><th></th><th scope=col>target_id</th><th scope=col>pval</th><th scope=col>qval</th><th scope=col>b</th><th scope=col>se_b</th><th scope=col>mean_obs</th><th scope=col>var_obs</th><th scope=col>tech_var</th><th scope=col>sigma_sq</th><th scope=col>smooth_sigma_sq</th><th scope=col>final_sigma_sq</th></tr>\n",
       "\t<tr><th></th><th scope=col>&lt;chr&gt;</th><th scope=col>&lt;dbl&gt;</th><th scope=col>&lt;dbl&gt;</th><th scope=col>&lt;dbl&gt;</th><th scope=col>&lt;dbl&gt;</th><th scope=col>&lt;dbl&gt;</th><th scope=col>&lt;dbl&gt;</th><th scope=col>&lt;dbl&gt;</th><th scope=col>&lt;dbl&gt;</th><th scope=col>&lt;dbl&gt;</th><th scope=col>&lt;dbl&gt;</th></tr>\n",
       "</thead>\n",
       "<tbody>\n",
       "\t<tr><th scope=row>1</th><td>ENSMUST00000168900</td><td>1.264236e-17</td><td>2.183325e-13</td><td>1.926652</td><td>0.2254208</td><td>7.059538</td><td>0.8788068</td><td>0.0019773653</td><td>0.04489230</td><td>0.07424445</td><td>0.07424445</td></tr>\n",
       "\t<tr><th scope=row>2</th><td>ENSMUST00000091190</td><td>5.359422e-18</td><td>2.183325e-13</td><td>2.714489</td><td>0.3139790</td><td>6.135758</td><td>1.6121293</td><td>0.0060172597</td><td>0.14185695</td><td>0.11220299</td><td>0.14185695</td></tr>\n",
       "\t<tr><th scope=row>3</th><td>ENSMUST00000102763</td><td>1.363017e-17</td><td>2.183325e-13</td><td>1.758348</td><td>0.2059385</td><td>7.556659</td><td>0.7116337</td><td>0.0008762691</td><td>0.02037499</td><td>0.06273970</td><td>0.06273970</td></tr>\n",
       "\t<tr><th scope=row>4</th><td>ENSMUST00000029644</td><td>5.195529e-17</td><td>6.241779e-13</td><td>1.973215</td><td>0.2354059</td><td>6.862515</td><td>0.9655665</td><td>0.0029059542</td><td>0.01553460</td><td>0.08021792</td><td>0.08021792</td></tr>\n",
       "\t<tr><th scope=row>5</th><td>ENSMUST00000004949</td><td>1.458700e-16</td><td>1.401956e-12</td><td>2.468016</td><td>0.2987971</td><td>5.892552</td><td>1.2632418</td><td>0.0066628145</td><td>0.06909039</td><td>0.12725675</td><td>0.12725675</td></tr>\n",
       "\t<tr><th scope=row>6</th><td>ENSMUST00000033866</td><td>8.022296e-16</td><td>6.425191e-12</td><td>1.635311</td><td>0.2030469</td><td>7.648090</td><td>0.4406618</td><td>0.0007730289</td><td>0.01903780</td><td>0.06106904</td><td>0.06106904</td></tr>\n",
       "</tbody>\n",
       "</table>\n"
      ],
      "text/latex": [
       "A data.frame: 6 × 11\n",
       "\\begin{tabular}{r|lllllllllll}\n",
       "  & target\\_id & pval & qval & b & se\\_b & mean\\_obs & var\\_obs & tech\\_var & sigma\\_sq & smooth\\_sigma\\_sq & final\\_sigma\\_sq\\\\\n",
       "  & <chr> & <dbl> & <dbl> & <dbl> & <dbl> & <dbl> & <dbl> & <dbl> & <dbl> & <dbl> & <dbl>\\\\\n",
       "\\hline\n",
       "\t1 & ENSMUST00000168900 & 1.264236e-17 & 2.183325e-13 & 1.926652 & 0.2254208 & 7.059538 & 0.8788068 & 0.0019773653 & 0.04489230 & 0.07424445 & 0.07424445\\\\\n",
       "\t2 & ENSMUST00000091190 & 5.359422e-18 & 2.183325e-13 & 2.714489 & 0.3139790 & 6.135758 & 1.6121293 & 0.0060172597 & 0.14185695 & 0.11220299 & 0.14185695\\\\\n",
       "\t3 & ENSMUST00000102763 & 1.363017e-17 & 2.183325e-13 & 1.758348 & 0.2059385 & 7.556659 & 0.7116337 & 0.0008762691 & 0.02037499 & 0.06273970 & 0.06273970\\\\\n",
       "\t4 & ENSMUST00000029644 & 5.195529e-17 & 6.241779e-13 & 1.973215 & 0.2354059 & 6.862515 & 0.9655665 & 0.0029059542 & 0.01553460 & 0.08021792 & 0.08021792\\\\\n",
       "\t5 & ENSMUST00000004949 & 1.458700e-16 & 1.401956e-12 & 2.468016 & 0.2987971 & 5.892552 & 1.2632418 & 0.0066628145 & 0.06909039 & 0.12725675 & 0.12725675\\\\\n",
       "\t6 & ENSMUST00000033866 & 8.022296e-16 & 6.425191e-12 & 1.635311 & 0.2030469 & 7.648090 & 0.4406618 & 0.0007730289 & 0.01903780 & 0.06106904 & 0.06106904\\\\\n",
       "\\end{tabular}\n"
      ],
      "text/markdown": [
       "\n",
       "A data.frame: 6 × 11\n",
       "\n",
       "| <!--/--> | target_id &lt;chr&gt; | pval &lt;dbl&gt; | qval &lt;dbl&gt; | b &lt;dbl&gt; | se_b &lt;dbl&gt; | mean_obs &lt;dbl&gt; | var_obs &lt;dbl&gt; | tech_var &lt;dbl&gt; | sigma_sq &lt;dbl&gt; | smooth_sigma_sq &lt;dbl&gt; | final_sigma_sq &lt;dbl&gt; |\n",
       "|---|---|---|---|---|---|---|---|---|---|---|---|\n",
       "| 1 | ENSMUST00000168900 | 1.264236e-17 | 2.183325e-13 | 1.926652 | 0.2254208 | 7.059538 | 0.8788068 | 0.0019773653 | 0.04489230 | 0.07424445 | 0.07424445 |\n",
       "| 2 | ENSMUST00000091190 | 5.359422e-18 | 2.183325e-13 | 2.714489 | 0.3139790 | 6.135758 | 1.6121293 | 0.0060172597 | 0.14185695 | 0.11220299 | 0.14185695 |\n",
       "| 3 | ENSMUST00000102763 | 1.363017e-17 | 2.183325e-13 | 1.758348 | 0.2059385 | 7.556659 | 0.7116337 | 0.0008762691 | 0.02037499 | 0.06273970 | 0.06273970 |\n",
       "| 4 | ENSMUST00000029644 | 5.195529e-17 | 6.241779e-13 | 1.973215 | 0.2354059 | 6.862515 | 0.9655665 | 0.0029059542 | 0.01553460 | 0.08021792 | 0.08021792 |\n",
       "| 5 | ENSMUST00000004949 | 1.458700e-16 | 1.401956e-12 | 2.468016 | 0.2987971 | 5.892552 | 1.2632418 | 0.0066628145 | 0.06909039 | 0.12725675 | 0.12725675 |\n",
       "| 6 | ENSMUST00000033866 | 8.022296e-16 | 6.425191e-12 | 1.635311 | 0.2030469 | 7.648090 | 0.4406618 | 0.0007730289 | 0.01903780 | 0.06106904 | 0.06106904 |\n",
       "\n"
      ],
      "text/plain": [
       "  target_id          pval         qval         b        se_b      mean_obs\n",
       "1 ENSMUST00000168900 1.264236e-17 2.183325e-13 1.926652 0.2254208 7.059538\n",
       "2 ENSMUST00000091190 5.359422e-18 2.183325e-13 2.714489 0.3139790 6.135758\n",
       "3 ENSMUST00000102763 1.363017e-17 2.183325e-13 1.758348 0.2059385 7.556659\n",
       "4 ENSMUST00000029644 5.195529e-17 6.241779e-13 1.973215 0.2354059 6.862515\n",
       "5 ENSMUST00000004949 1.458700e-16 1.401956e-12 2.468016 0.2987971 5.892552\n",
       "6 ENSMUST00000033866 8.022296e-16 6.425191e-12 1.635311 0.2030469 7.648090\n",
       "  var_obs   tech_var     sigma_sq   smooth_sigma_sq final_sigma_sq\n",
       "1 0.8788068 0.0019773653 0.04489230 0.07424445      0.07424445    \n",
       "2 1.6121293 0.0060172597 0.14185695 0.11220299      0.14185695    \n",
       "3 0.7116337 0.0008762691 0.02037499 0.06273970      0.06273970    \n",
       "4 0.9655665 0.0029059542 0.01553460 0.08021792      0.08021792    \n",
       "5 1.2632418 0.0066628145 0.06909039 0.12725675      0.12725675    \n",
       "6 0.4406618 0.0007730289 0.01903780 0.06106904      0.06106904    "
      ]
     },
     "metadata": {},
     "output_type": "display_data"
    }
   ],
   "source": [
    "head(sleuth_results_wt)"
   ]
  },
  {
   "cell_type": "code",
   "execution_count": 60,
   "id": "e9d10755-c2b2-45fb-9141-9dd67b8accdf",
   "metadata": {},
   "outputs": [
    {
     "data": {
      "text/html": [
       "<table class=\"dataframe\">\n",
       "<caption>A data.frame: 20 × 11</caption>\n",
       "<thead>\n",
       "\t<tr><th></th><th scope=col>target_id</th><th scope=col>pval</th><th scope=col>qval</th><th scope=col>b</th><th scope=col>se_b</th><th scope=col>mean_obs</th><th scope=col>var_obs</th><th scope=col>tech_var</th><th scope=col>sigma_sq</th><th scope=col>smooth_sigma_sq</th><th scope=col>final_sigma_sq</th></tr>\n",
       "\t<tr><th></th><th scope=col>&lt;chr&gt;</th><th scope=col>&lt;dbl&gt;</th><th scope=col>&lt;dbl&gt;</th><th scope=col>&lt;dbl&gt;</th><th scope=col>&lt;dbl&gt;</th><th scope=col>&lt;dbl&gt;</th><th scope=col>&lt;dbl&gt;</th><th scope=col>&lt;dbl&gt;</th><th scope=col>&lt;dbl&gt;</th><th scope=col>&lt;dbl&gt;</th><th scope=col>&lt;dbl&gt;</th></tr>\n",
       "</thead>\n",
       "<tbody>\n",
       "\t<tr><th scope=row>1</th><td>ENSMUST00000168900</td><td>1.264236e-17</td><td>2.183325e-13</td><td> 1.926652</td><td>0.2254208</td><td>7.059538</td><td>0.8788068</td><td>0.0019773653</td><td> 0.04489230</td><td>0.07424445</td><td>0.07424445</td></tr>\n",
       "\t<tr><th scope=row>2</th><td>ENSMUST00000091190</td><td>5.359422e-18</td><td>2.183325e-13</td><td> 2.714489</td><td>0.3139790</td><td>6.135758</td><td>1.6121293</td><td>0.0060172597</td><td> 0.14185695</td><td>0.11220299</td><td>0.14185695</td></tr>\n",
       "\t<tr><th scope=row>3</th><td>ENSMUST00000102763</td><td>1.363017e-17</td><td>2.183325e-13</td><td> 1.758348</td><td>0.2059385</td><td>7.556659</td><td>0.7116337</td><td>0.0008762691</td><td> 0.02037499</td><td>0.06273970</td><td>0.06273970</td></tr>\n",
       "\t<tr><th scope=row>4</th><td>ENSMUST00000029644</td><td>5.195529e-17</td><td>6.241779e-13</td><td> 1.973215</td><td>0.2354059</td><td>6.862515</td><td>0.9655665</td><td>0.0029059542</td><td> 0.01553460</td><td>0.08021792</td><td>0.08021792</td></tr>\n",
       "\t<tr><th scope=row>5</th><td>ENSMUST00000004949</td><td>1.458700e-16</td><td>1.401956e-12</td><td> 2.468016</td><td>0.2987971</td><td>5.892552</td><td>1.2632418</td><td>0.0066628145</td><td> 0.06909039</td><td>0.12725675</td><td>0.12725675</td></tr>\n",
       "\t<tr><th scope=row>6</th><td>ENSMUST00000033866</td><td>8.022296e-16</td><td>6.425191e-12</td><td> 1.635311</td><td>0.2030469</td><td>7.648090</td><td>0.4406618</td><td>0.0007730289</td><td> 0.01903780</td><td>0.06106904</td><td>0.06106904</td></tr>\n",
       "\t<tr><th scope=row>7</th><td>ENSMUST00000006451</td><td>8.016167e-15</td><td>5.503098e-11</td><td> 1.780367</td><td>0.2292124</td><td>7.017841</td><td>0.8876284</td><td>0.0033801130</td><td> 0.03671444</td><td>0.07542735</td><td>0.07542735</td></tr>\n",
       "\t<tr><th scope=row>8</th><td>ENSMUST00000014892</td><td>7.997949e-14</td><td>4.804268e-10</td><td> 1.827567</td><td>0.2446426</td><td>6.670008</td><td>0.6931633</td><td>0.0027184562</td><td> 0.01457809</td><td>0.08705654</td><td>0.08705654</td></tr>\n",
       "\t<tr><th scope=row>9</th><td>ENSMUST00000108830</td><td>1.432351e-13</td><td>7.647958e-10</td><td> 6.410139</td><td>0.8670207</td><td>3.389990</td><td>8.9131355</td><td>0.2951307665</td><td> 0.83245665</td><td>0.57447928</td><td>0.83245665</td></tr>\n",
       "\t<tr><th scope=row>10</th><td>ENSMUST00000032747</td><td>2.374583e-13</td><td>1.141106e-09</td><td> 3.704897</td><td>0.5057319</td><td>4.413944</td><td>2.6447887</td><td>0.0796148464</td><td> 0.02296489</td><td>0.30403235</td><td>0.30403235</td></tr>\n",
       "\t<tr><th scope=row>11</th><td>ENSMUST00000022945</td><td>6.463774e-13</td><td>2.823788e-09</td><td> 1.497172</td><td>0.2082204</td><td>7.483690</td><td>0.5789344</td><td>0.0008690044</td><td> 0.04872211</td><td>0.06416462</td><td>0.06416462</td></tr>\n",
       "\t<tr><th scope=row>12</th><td>ENSMUST00000087557</td><td>1.025558e-12</td><td>4.106933e-09</td><td> 2.169196</td><td>0.3043618</td><td>5.824121</td><td>1.2404072</td><td>0.0069853791</td><td> 0.10254561</td><td>0.13196877</td><td>0.13196877</td></tr>\n",
       "\t<tr><th scope=row>13</th><td>ENSMUST00000078953</td><td>2.544153e-12</td><td>9.404561e-09</td><td> 2.604979</td><td>0.3720947</td><td>5.188072</td><td>1.9537923</td><td>0.0177739637</td><td> 0.03407843</td><td>0.18990770</td><td>0.18990770</td></tr>\n",
       "\t<tr><th scope=row>14</th><td>ENSMUST00000034097</td><td>3.357787e-12</td><td>1.152560e-08</td><td> 1.266350</td><td>0.1818979</td><td>8.730232</td><td>0.4182998</td><td>0.0002998160</td><td> 0.03687634</td><td>0.04933048</td><td>0.04933048</td></tr>\n",
       "\t<tr><th scope=row>15</th><td>ENSMUST00000151797</td><td>8.030347e-12</td><td>2.572655e-08</td><td> 4.354455</td><td>0.6368019</td><td>3.644737</td><td>5.2670403</td><td>0.1190867605</td><td> 0.35474197</td><td>0.48918818</td><td>0.48918818</td></tr>\n",
       "\t<tr><th scope=row>16</th><td>ENSMUST00000073447</td><td>2.437207e-11</td><td>7.319999e-08</td><td> 3.943473</td><td>0.5905968</td><td>4.163996</td><td>2.2805379</td><td>0.1670369600</td><td> 0.32713548</td><td>0.35616999</td><td>0.35616999</td></tr>\n",
       "\t<tr><th scope=row>17</th><td>ENSMUST00000037615</td><td>5.386045e-11</td><td>1.522508e-07</td><td> 2.656853</td><td>0.4050171</td><td>5.003154</td><td>1.0649531</td><td>0.0339393957</td><td> 0.13919092</td><td>0.21211887</td><td>0.21211887</td></tr>\n",
       "\t<tr><th scope=row>18</th><td>ENSMUST00000101351</td><td>7.618472e-11</td><td>2.033920e-07</td><td>-3.618843</td><td>0.5560652</td><td>4.032930</td><td>3.7208003</td><td>0.0776391343</td><td> 0.26074690</td><td>0.38617367</td><td>0.38617367</td></tr>\n",
       "\t<tr><th scope=row>19</th><td>ENSMUST00000119567</td><td>8.497068e-11</td><td>2.149087e-07</td><td> 2.737231</td><td>0.4216621</td><td>5.670671</td><td>1.4710117</td><td>0.1231826322</td><td>-0.08109905</td><td>0.14351573</td><td>0.14351573</td></tr>\n",
       "\t<tr><th scope=row>20</th><td>ENSMUST00000122216</td><td>9.077370e-11</td><td>2.181065e-07</td><td> 2.950423</td><td>0.4552020</td><td>5.246341</td><td>2.1558776</td><td>0.1273743944</td><td> 0.14369709</td><td>0.18343896</td><td>0.18343896</td></tr>\n",
       "</tbody>\n",
       "</table>\n"
      ],
      "text/latex": [
       "A data.frame: 20 × 11\n",
       "\\begin{tabular}{r|lllllllllll}\n",
       "  & target\\_id & pval & qval & b & se\\_b & mean\\_obs & var\\_obs & tech\\_var & sigma\\_sq & smooth\\_sigma\\_sq & final\\_sigma\\_sq\\\\\n",
       "  & <chr> & <dbl> & <dbl> & <dbl> & <dbl> & <dbl> & <dbl> & <dbl> & <dbl> & <dbl> & <dbl>\\\\\n",
       "\\hline\n",
       "\t1 & ENSMUST00000168900 & 1.264236e-17 & 2.183325e-13 &  1.926652 & 0.2254208 & 7.059538 & 0.8788068 & 0.0019773653 &  0.04489230 & 0.07424445 & 0.07424445\\\\\n",
       "\t2 & ENSMUST00000091190 & 5.359422e-18 & 2.183325e-13 &  2.714489 & 0.3139790 & 6.135758 & 1.6121293 & 0.0060172597 &  0.14185695 & 0.11220299 & 0.14185695\\\\\n",
       "\t3 & ENSMUST00000102763 & 1.363017e-17 & 2.183325e-13 &  1.758348 & 0.2059385 & 7.556659 & 0.7116337 & 0.0008762691 &  0.02037499 & 0.06273970 & 0.06273970\\\\\n",
       "\t4 & ENSMUST00000029644 & 5.195529e-17 & 6.241779e-13 &  1.973215 & 0.2354059 & 6.862515 & 0.9655665 & 0.0029059542 &  0.01553460 & 0.08021792 & 0.08021792\\\\\n",
       "\t5 & ENSMUST00000004949 & 1.458700e-16 & 1.401956e-12 &  2.468016 & 0.2987971 & 5.892552 & 1.2632418 & 0.0066628145 &  0.06909039 & 0.12725675 & 0.12725675\\\\\n",
       "\t6 & ENSMUST00000033866 & 8.022296e-16 & 6.425191e-12 &  1.635311 & 0.2030469 & 7.648090 & 0.4406618 & 0.0007730289 &  0.01903780 & 0.06106904 & 0.06106904\\\\\n",
       "\t7 & ENSMUST00000006451 & 8.016167e-15 & 5.503098e-11 &  1.780367 & 0.2292124 & 7.017841 & 0.8876284 & 0.0033801130 &  0.03671444 & 0.07542735 & 0.07542735\\\\\n",
       "\t8 & ENSMUST00000014892 & 7.997949e-14 & 4.804268e-10 &  1.827567 & 0.2446426 & 6.670008 & 0.6931633 & 0.0027184562 &  0.01457809 & 0.08705654 & 0.08705654\\\\\n",
       "\t9 & ENSMUST00000108830 & 1.432351e-13 & 7.647958e-10 &  6.410139 & 0.8670207 & 3.389990 & 8.9131355 & 0.2951307665 &  0.83245665 & 0.57447928 & 0.83245665\\\\\n",
       "\t10 & ENSMUST00000032747 & 2.374583e-13 & 1.141106e-09 &  3.704897 & 0.5057319 & 4.413944 & 2.6447887 & 0.0796148464 &  0.02296489 & 0.30403235 & 0.30403235\\\\\n",
       "\t11 & ENSMUST00000022945 & 6.463774e-13 & 2.823788e-09 &  1.497172 & 0.2082204 & 7.483690 & 0.5789344 & 0.0008690044 &  0.04872211 & 0.06416462 & 0.06416462\\\\\n",
       "\t12 & ENSMUST00000087557 & 1.025558e-12 & 4.106933e-09 &  2.169196 & 0.3043618 & 5.824121 & 1.2404072 & 0.0069853791 &  0.10254561 & 0.13196877 & 0.13196877\\\\\n",
       "\t13 & ENSMUST00000078953 & 2.544153e-12 & 9.404561e-09 &  2.604979 & 0.3720947 & 5.188072 & 1.9537923 & 0.0177739637 &  0.03407843 & 0.18990770 & 0.18990770\\\\\n",
       "\t14 & ENSMUST00000034097 & 3.357787e-12 & 1.152560e-08 &  1.266350 & 0.1818979 & 8.730232 & 0.4182998 & 0.0002998160 &  0.03687634 & 0.04933048 & 0.04933048\\\\\n",
       "\t15 & ENSMUST00000151797 & 8.030347e-12 & 2.572655e-08 &  4.354455 & 0.6368019 & 3.644737 & 5.2670403 & 0.1190867605 &  0.35474197 & 0.48918818 & 0.48918818\\\\\n",
       "\t16 & ENSMUST00000073447 & 2.437207e-11 & 7.319999e-08 &  3.943473 & 0.5905968 & 4.163996 & 2.2805379 & 0.1670369600 &  0.32713548 & 0.35616999 & 0.35616999\\\\\n",
       "\t17 & ENSMUST00000037615 & 5.386045e-11 & 1.522508e-07 &  2.656853 & 0.4050171 & 5.003154 & 1.0649531 & 0.0339393957 &  0.13919092 & 0.21211887 & 0.21211887\\\\\n",
       "\t18 & ENSMUST00000101351 & 7.618472e-11 & 2.033920e-07 & -3.618843 & 0.5560652 & 4.032930 & 3.7208003 & 0.0776391343 &  0.26074690 & 0.38617367 & 0.38617367\\\\\n",
       "\t19 & ENSMUST00000119567 & 8.497068e-11 & 2.149087e-07 &  2.737231 & 0.4216621 & 5.670671 & 1.4710117 & 0.1231826322 & -0.08109905 & 0.14351573 & 0.14351573\\\\\n",
       "\t20 & ENSMUST00000122216 & 9.077370e-11 & 2.181065e-07 &  2.950423 & 0.4552020 & 5.246341 & 2.1558776 & 0.1273743944 &  0.14369709 & 0.18343896 & 0.18343896\\\\\n",
       "\\end{tabular}\n"
      ],
      "text/markdown": [
       "\n",
       "A data.frame: 20 × 11\n",
       "\n",
       "| <!--/--> | target_id &lt;chr&gt; | pval &lt;dbl&gt; | qval &lt;dbl&gt; | b &lt;dbl&gt; | se_b &lt;dbl&gt; | mean_obs &lt;dbl&gt; | var_obs &lt;dbl&gt; | tech_var &lt;dbl&gt; | sigma_sq &lt;dbl&gt; | smooth_sigma_sq &lt;dbl&gt; | final_sigma_sq &lt;dbl&gt; |\n",
       "|---|---|---|---|---|---|---|---|---|---|---|---|\n",
       "| 1 | ENSMUST00000168900 | 1.264236e-17 | 2.183325e-13 |  1.926652 | 0.2254208 | 7.059538 | 0.8788068 | 0.0019773653 |  0.04489230 | 0.07424445 | 0.07424445 |\n",
       "| 2 | ENSMUST00000091190 | 5.359422e-18 | 2.183325e-13 |  2.714489 | 0.3139790 | 6.135758 | 1.6121293 | 0.0060172597 |  0.14185695 | 0.11220299 | 0.14185695 |\n",
       "| 3 | ENSMUST00000102763 | 1.363017e-17 | 2.183325e-13 |  1.758348 | 0.2059385 | 7.556659 | 0.7116337 | 0.0008762691 |  0.02037499 | 0.06273970 | 0.06273970 |\n",
       "| 4 | ENSMUST00000029644 | 5.195529e-17 | 6.241779e-13 |  1.973215 | 0.2354059 | 6.862515 | 0.9655665 | 0.0029059542 |  0.01553460 | 0.08021792 | 0.08021792 |\n",
       "| 5 | ENSMUST00000004949 | 1.458700e-16 | 1.401956e-12 |  2.468016 | 0.2987971 | 5.892552 | 1.2632418 | 0.0066628145 |  0.06909039 | 0.12725675 | 0.12725675 |\n",
       "| 6 | ENSMUST00000033866 | 8.022296e-16 | 6.425191e-12 |  1.635311 | 0.2030469 | 7.648090 | 0.4406618 | 0.0007730289 |  0.01903780 | 0.06106904 | 0.06106904 |\n",
       "| 7 | ENSMUST00000006451 | 8.016167e-15 | 5.503098e-11 |  1.780367 | 0.2292124 | 7.017841 | 0.8876284 | 0.0033801130 |  0.03671444 | 0.07542735 | 0.07542735 |\n",
       "| 8 | ENSMUST00000014892 | 7.997949e-14 | 4.804268e-10 |  1.827567 | 0.2446426 | 6.670008 | 0.6931633 | 0.0027184562 |  0.01457809 | 0.08705654 | 0.08705654 |\n",
       "| 9 | ENSMUST00000108830 | 1.432351e-13 | 7.647958e-10 |  6.410139 | 0.8670207 | 3.389990 | 8.9131355 | 0.2951307665 |  0.83245665 | 0.57447928 | 0.83245665 |\n",
       "| 10 | ENSMUST00000032747 | 2.374583e-13 | 1.141106e-09 |  3.704897 | 0.5057319 | 4.413944 | 2.6447887 | 0.0796148464 |  0.02296489 | 0.30403235 | 0.30403235 |\n",
       "| 11 | ENSMUST00000022945 | 6.463774e-13 | 2.823788e-09 |  1.497172 | 0.2082204 | 7.483690 | 0.5789344 | 0.0008690044 |  0.04872211 | 0.06416462 | 0.06416462 |\n",
       "| 12 | ENSMUST00000087557 | 1.025558e-12 | 4.106933e-09 |  2.169196 | 0.3043618 | 5.824121 | 1.2404072 | 0.0069853791 |  0.10254561 | 0.13196877 | 0.13196877 |\n",
       "| 13 | ENSMUST00000078953 | 2.544153e-12 | 9.404561e-09 |  2.604979 | 0.3720947 | 5.188072 | 1.9537923 | 0.0177739637 |  0.03407843 | 0.18990770 | 0.18990770 |\n",
       "| 14 | ENSMUST00000034097 | 3.357787e-12 | 1.152560e-08 |  1.266350 | 0.1818979 | 8.730232 | 0.4182998 | 0.0002998160 |  0.03687634 | 0.04933048 | 0.04933048 |\n",
       "| 15 | ENSMUST00000151797 | 8.030347e-12 | 2.572655e-08 |  4.354455 | 0.6368019 | 3.644737 | 5.2670403 | 0.1190867605 |  0.35474197 | 0.48918818 | 0.48918818 |\n",
       "| 16 | ENSMUST00000073447 | 2.437207e-11 | 7.319999e-08 |  3.943473 | 0.5905968 | 4.163996 | 2.2805379 | 0.1670369600 |  0.32713548 | 0.35616999 | 0.35616999 |\n",
       "| 17 | ENSMUST00000037615 | 5.386045e-11 | 1.522508e-07 |  2.656853 | 0.4050171 | 5.003154 | 1.0649531 | 0.0339393957 |  0.13919092 | 0.21211887 | 0.21211887 |\n",
       "| 18 | ENSMUST00000101351 | 7.618472e-11 | 2.033920e-07 | -3.618843 | 0.5560652 | 4.032930 | 3.7208003 | 0.0776391343 |  0.26074690 | 0.38617367 | 0.38617367 |\n",
       "| 19 | ENSMUST00000119567 | 8.497068e-11 | 2.149087e-07 |  2.737231 | 0.4216621 | 5.670671 | 1.4710117 | 0.1231826322 | -0.08109905 | 0.14351573 | 0.14351573 |\n",
       "| 20 | ENSMUST00000122216 | 9.077370e-11 | 2.181065e-07 |  2.950423 | 0.4552020 | 5.246341 | 2.1558776 | 0.1273743944 |  0.14369709 | 0.18343896 | 0.18343896 |\n",
       "\n"
      ],
      "text/plain": [
       "   target_id          pval         qval         b         se_b      mean_obs\n",
       "1  ENSMUST00000168900 1.264236e-17 2.183325e-13  1.926652 0.2254208 7.059538\n",
       "2  ENSMUST00000091190 5.359422e-18 2.183325e-13  2.714489 0.3139790 6.135758\n",
       "3  ENSMUST00000102763 1.363017e-17 2.183325e-13  1.758348 0.2059385 7.556659\n",
       "4  ENSMUST00000029644 5.195529e-17 6.241779e-13  1.973215 0.2354059 6.862515\n",
       "5  ENSMUST00000004949 1.458700e-16 1.401956e-12  2.468016 0.2987971 5.892552\n",
       "6  ENSMUST00000033866 8.022296e-16 6.425191e-12  1.635311 0.2030469 7.648090\n",
       "7  ENSMUST00000006451 8.016167e-15 5.503098e-11  1.780367 0.2292124 7.017841\n",
       "8  ENSMUST00000014892 7.997949e-14 4.804268e-10  1.827567 0.2446426 6.670008\n",
       "9  ENSMUST00000108830 1.432351e-13 7.647958e-10  6.410139 0.8670207 3.389990\n",
       "10 ENSMUST00000032747 2.374583e-13 1.141106e-09  3.704897 0.5057319 4.413944\n",
       "11 ENSMUST00000022945 6.463774e-13 2.823788e-09  1.497172 0.2082204 7.483690\n",
       "12 ENSMUST00000087557 1.025558e-12 4.106933e-09  2.169196 0.3043618 5.824121\n",
       "13 ENSMUST00000078953 2.544153e-12 9.404561e-09  2.604979 0.3720947 5.188072\n",
       "14 ENSMUST00000034097 3.357787e-12 1.152560e-08  1.266350 0.1818979 8.730232\n",
       "15 ENSMUST00000151797 8.030347e-12 2.572655e-08  4.354455 0.6368019 3.644737\n",
       "16 ENSMUST00000073447 2.437207e-11 7.319999e-08  3.943473 0.5905968 4.163996\n",
       "17 ENSMUST00000037615 5.386045e-11 1.522508e-07  2.656853 0.4050171 5.003154\n",
       "18 ENSMUST00000101351 7.618472e-11 2.033920e-07 -3.618843 0.5560652 4.032930\n",
       "19 ENSMUST00000119567 8.497068e-11 2.149087e-07  2.737231 0.4216621 5.670671\n",
       "20 ENSMUST00000122216 9.077370e-11 2.181065e-07  2.950423 0.4552020 5.246341\n",
       "   var_obs   tech_var     sigma_sq    smooth_sigma_sq final_sigma_sq\n",
       "1  0.8788068 0.0019773653  0.04489230 0.07424445      0.07424445    \n",
       "2  1.6121293 0.0060172597  0.14185695 0.11220299      0.14185695    \n",
       "3  0.7116337 0.0008762691  0.02037499 0.06273970      0.06273970    \n",
       "4  0.9655665 0.0029059542  0.01553460 0.08021792      0.08021792    \n",
       "5  1.2632418 0.0066628145  0.06909039 0.12725675      0.12725675    \n",
       "6  0.4406618 0.0007730289  0.01903780 0.06106904      0.06106904    \n",
       "7  0.8876284 0.0033801130  0.03671444 0.07542735      0.07542735    \n",
       "8  0.6931633 0.0027184562  0.01457809 0.08705654      0.08705654    \n",
       "9  8.9131355 0.2951307665  0.83245665 0.57447928      0.83245665    \n",
       "10 2.6447887 0.0796148464  0.02296489 0.30403235      0.30403235    \n",
       "11 0.5789344 0.0008690044  0.04872211 0.06416462      0.06416462    \n",
       "12 1.2404072 0.0069853791  0.10254561 0.13196877      0.13196877    \n",
       "13 1.9537923 0.0177739637  0.03407843 0.18990770      0.18990770    \n",
       "14 0.4182998 0.0002998160  0.03687634 0.04933048      0.04933048    \n",
       "15 5.2670403 0.1190867605  0.35474197 0.48918818      0.48918818    \n",
       "16 2.2805379 0.1670369600  0.32713548 0.35616999      0.35616999    \n",
       "17 1.0649531 0.0339393957  0.13919092 0.21211887      0.21211887    \n",
       "18 3.7208003 0.0776391343  0.26074690 0.38617367      0.38617367    \n",
       "19 1.4710117 0.1231826322 -0.08109905 0.14351573      0.14351573    \n",
       "20 2.1558776 0.1273743944  0.14369709 0.18343896      0.18343896    "
      ]
     },
     "metadata": {},
     "output_type": "display_data"
    },
    {
     "data": {
      "text/html": [
       "<style>\n",
       ".list-inline {list-style: none; margin:0; padding: 0}\n",
       ".list-inline>li {display: inline-block}\n",
       ".list-inline>li:not(:last-child)::after {content: \"\\00b7\"; padding: 0 .5ex}\n",
       "</style>\n",
       "<ol class=list-inline><li>159</li><li>11</li></ol>\n"
      ],
      "text/latex": [
       "\\begin{enumerate*}\n",
       "\\item 159\n",
       "\\item 11\n",
       "\\end{enumerate*}\n"
      ],
      "text/markdown": [
       "1. 159\n",
       "2. 11\n",
       "\n",
       "\n"
      ],
      "text/plain": [
       "[1] 159  11"
      ]
     },
     "metadata": {},
     "output_type": "display_data"
    }
   ],
   "source": [
    "sig_transcripts <- sleuth_results_wt %>% \n",
    "  filter(qval < 0.05)\n",
    "\n",
    "head(sig_transcripts, 20)\n",
    "dim(sig_transcripts)"
   ]
  },
  {
   "cell_type": "markdown",
   "id": "285a5009-bfc5-4f3f-83bd-915beeb81704",
   "metadata": {},
   "source": [
    "## Notes:\n",
    "\n",
    "This still seems like a small number of significant DE transcripts. I think that building the model with ~strain + treatment might be the way to go.\n",
    "\n",
    "Should still do a little bit comparison with the above results and Elphege's data"
   ]
  },
  {
   "cell_type": "code",
   "execution_count": 58,
   "id": "ed8f909a-8fef-495c-931b-b5c6e1928331",
   "metadata": {},
   "outputs": [
    {
     "ename": "ERROR",
     "evalue": "Error in loadNamespace(name): there is no package called 'gridExtra'\n",
     "output_type": "error",
     "traceback": [
      "Error in loadNamespace(name): there is no package called 'gridExtra'\nTraceback:\n",
      "1. plot_transcript_heatmap(so, transcripts = sig_transcripts$target_id[0:20])",
      "2. gridExtra::grid.arrange",
      "3. getExportedValue(pkg, name)",
      "4. asNamespace(ns)",
      "5. getNamespace(ns)",
      "6. loadNamespace(name)",
      "7. withRestarts(stop(cond), retry_loadNamespace = function() NULL)",
      "8. withOneRestart(expr, restarts[[1L]])",
      "9. doWithOneRestart(return(expr), restart)"
     ]
    }
   ],
   "source": [
    "plot_transcript_heatmap(so, \n",
    "                        transcripts = sig_transcripts$target_id[0:20])"
   ]
  },
  {
   "cell_type": "markdown",
   "id": "3623d65b-c03c-4f84-998f-240040f8e9ce",
   "metadata": {
    "tags": []
   },
   "source": [
    "# Doing gene-level analysis\n"
   ]
  },
  {
   "cell_type": "code",
   "execution_count": 4,
   "id": "5ff105aa-5931-459c-9ddc-3fb8eee01e18",
   "metadata": {},
   "outputs": [],
   "source": [
    "refseq_ids <- read.csv(\"/scratch/pokorny/ensembl_queries_downloads/mm9_ensembl_refseq_id.csv\")"
   ]
  },
  {
   "cell_type": "code",
   "execution_count": 5,
   "id": "071e6094-828f-4652-bd8f-057990923c1a",
   "metadata": {},
   "outputs": [
    {
     "data": {
      "text/html": [
       "<table class=\"dataframe\">\n",
       "<caption>A data.frame: 10 × 2</caption>\n",
       "<thead>\n",
       "\t<tr><th></th><th scope=col>stable_id</th><th scope=col>display_label</th></tr>\n",
       "\t<tr><th></th><th scope=col>&lt;fct&gt;</th><th scope=col>&lt;fct&gt;</th></tr>\n",
       "</thead>\n",
       "<tbody>\n",
       "\t<tr><th scope=row>1</th><td>ENSMUST00000021634</td><td>NM_013778.2   </td></tr>\n",
       "\t<tr><th scope=row>2</th><td>ENSMUST00000112933</td><td>NM_170786.2   </td></tr>\n",
       "\t<tr><th scope=row>3</th><td>ENSMUST00000189181</td><td>NM_008829.2   </td></tr>\n",
       "\t<tr><th scope=row>4</th><td>ENSMUST00000180159</td><td>NM_023127.2   </td></tr>\n",
       "\t<tr><th scope=row>5</th><td>ENSMUST00000057177</td><td>NM_001039368.1</td></tr>\n",
       "\t<tr><th scope=row>6</th><td>ENSMUST00000021772</td><td>NM_001013389.1</td></tr>\n",
       "\t<tr><th scope=row>7</th><td>ENSMUST00000018389</td><td>NM_023741.2   </td></tr>\n",
       "\t<tr><th scope=row>8</th><td>ENSMUST00000062037</td><td>NM_029465.3   </td></tr>\n",
       "\t<tr><th scope=row>9</th><td>ENSMUST00000101654</td><td>NM_001100610.2</td></tr>\n",
       "\t<tr><th scope=row>10</th><td>ENSMUST00000062292</td><td>NM_008592.2   </td></tr>\n",
       "</tbody>\n",
       "</table>\n"
      ],
      "text/latex": [
       "A data.frame: 10 × 2\n",
       "\\begin{tabular}{r|ll}\n",
       "  & stable\\_id & display\\_label\\\\\n",
       "  & <fct> & <fct>\\\\\n",
       "\\hline\n",
       "\t1 & ENSMUST00000021634 & NM\\_013778.2   \\\\\n",
       "\t2 & ENSMUST00000112933 & NM\\_170786.2   \\\\\n",
       "\t3 & ENSMUST00000189181 & NM\\_008829.2   \\\\\n",
       "\t4 & ENSMUST00000180159 & NM\\_023127.2   \\\\\n",
       "\t5 & ENSMUST00000057177 & NM\\_001039368.1\\\\\n",
       "\t6 & ENSMUST00000021772 & NM\\_001013389.1\\\\\n",
       "\t7 & ENSMUST00000018389 & NM\\_023741.2   \\\\\n",
       "\t8 & ENSMUST00000062037 & NM\\_029465.3   \\\\\n",
       "\t9 & ENSMUST00000101654 & NM\\_001100610.2\\\\\n",
       "\t10 & ENSMUST00000062292 & NM\\_008592.2   \\\\\n",
       "\\end{tabular}\n"
      ],
      "text/markdown": [
       "\n",
       "A data.frame: 10 × 2\n",
       "\n",
       "| <!--/--> | stable_id &lt;fct&gt; | display_label &lt;fct&gt; |\n",
       "|---|---|---|\n",
       "| 1 | ENSMUST00000021634 | NM_013778.2    |\n",
       "| 2 | ENSMUST00000112933 | NM_170786.2    |\n",
       "| 3 | ENSMUST00000189181 | NM_008829.2    |\n",
       "| 4 | ENSMUST00000180159 | NM_023127.2    |\n",
       "| 5 | ENSMUST00000057177 | NM_001039368.1 |\n",
       "| 6 | ENSMUST00000021772 | NM_001013389.1 |\n",
       "| 7 | ENSMUST00000018389 | NM_023741.2    |\n",
       "| 8 | ENSMUST00000062037 | NM_029465.3    |\n",
       "| 9 | ENSMUST00000101654 | NM_001100610.2 |\n",
       "| 10 | ENSMUST00000062292 | NM_008592.2    |\n",
       "\n"
      ],
      "text/plain": [
       "   stable_id          display_label \n",
       "1  ENSMUST00000021634 NM_013778.2   \n",
       "2  ENSMUST00000112933 NM_170786.2   \n",
       "3  ENSMUST00000189181 NM_008829.2   \n",
       "4  ENSMUST00000180159 NM_023127.2   \n",
       "5  ENSMUST00000057177 NM_001039368.1\n",
       "6  ENSMUST00000021772 NM_001013389.1\n",
       "7  ENSMUST00000018389 NM_023741.2   \n",
       "8  ENSMUST00000062037 NM_029465.3   \n",
       "9  ENSMUST00000101654 NM_001100610.2\n",
       "10 ENSMUST00000062292 NM_008592.2   "
      ]
     },
     "metadata": {},
     "output_type": "display_data"
    }
   ],
   "source": [
    "head(refseq_ids, 10)"
   ]
  },
  {
   "cell_type": "code",
   "execution_count": 73,
   "id": "c84cb0d4-837c-420d-af4e-7cea3411ab7c",
   "metadata": {},
   "outputs": [],
   "source": [
    "genes <-read.csv(\"/scratch/pokorny/ensembl_queries_downloads/mm9_transcripts_gene.csv\")"
   ]
  },
  {
   "cell_type": "code",
   "execution_count": 74,
   "id": "8f61eeed-2b9f-4d81-886d-07793cadf27f",
   "metadata": {},
   "outputs": [
    {
     "data": {
      "text/html": [
       "<table class=\"dataframe\">\n",
       "<caption>A data.frame: 5 × 7</caption>\n",
       "<thead>\n",
       "\t<tr><th></th><th scope=col>stable_id</th><th scope=col>stable_id.1</th><th scope=col>description</th><th scope=col>biotype</th><th scope=col>seq_region_start</th><th scope=col>seq_region_end</th><th scope=col>seq_region_strand</th></tr>\n",
       "\t<tr><th></th><th scope=col>&lt;fct&gt;</th><th scope=col>&lt;fct&gt;</th><th scope=col>&lt;fct&gt;</th><th scope=col>&lt;fct&gt;</th><th scope=col>&lt;fct&gt;</th><th scope=col>&lt;fct&gt;</th><th scope=col>&lt;fct&gt;</th></tr>\n",
       "</thead>\n",
       "<tbody>\n",
       "\t<tr><th scope=row>1</th><td>ENSMUST00000082423</td><td>ENSMUSG00000064372</td><td>mitochondrially encoded tRNA proline [Source:MGI Symbol;Acc:MGI:102478]        </td><td>Mt_tRNA       </td><td>15356</td><td>15422</td><td>-1</td></tr>\n",
       "\t<tr><th scope=row>2</th><td>ENSMUST00000082422</td><td>ENSMUSG00000064371</td><td>mitochondrially encoded tRNA threonine [Source:MGI Symbol;Acc:MGI:102473]      </td><td>Mt_tRNA       </td><td>15289</td><td>15355</td><td>1 </td></tr>\n",
       "\t<tr><th scope=row>3</th><td>ENSMUST00000082421</td><td>ENSMUSG00000064370</td><td>mitochondrially encoded cytochrome b [Source:MGI Symbol;Acc:MGI:102501]        </td><td>protein_coding</td><td>14145</td><td>15288</td><td>1 </td></tr>\n",
       "\t<tr><th scope=row>4</th><td>ENSMUST00000082420</td><td>ENSMUSG00000064369</td><td>mitochondrially encoded tRNA glutamic acid [Source:MGI Symbol;Acc:MGI:102488]  </td><td>Mt_tRNA       </td><td>14071</td><td>14139</td><td>-1</td></tr>\n",
       "\t<tr><th scope=row>5</th><td>ENSMUST00000082419</td><td>ENSMUSG00000064368</td><td>mitochondrially encoded NADH dehydrogenase 6 [Source:MGI Symbol;Acc:MGI:102495]</td><td>protein_coding</td><td>13552</td><td>14070</td><td>-1</td></tr>\n",
       "</tbody>\n",
       "</table>\n"
      ],
      "text/latex": [
       "A data.frame: 5 × 7\n",
       "\\begin{tabular}{r|lllllll}\n",
       "  & stable\\_id & stable\\_id.1 & description & biotype & seq\\_region\\_start & seq\\_region\\_end & seq\\_region\\_strand\\\\\n",
       "  & <fct> & <fct> & <fct> & <fct> & <fct> & <fct> & <fct>\\\\\n",
       "\\hline\n",
       "\t1 & ENSMUST00000082423 & ENSMUSG00000064372 & mitochondrially encoded tRNA proline {[}Source:MGI Symbol;Acc:MGI:102478{]}         & Mt\\_tRNA        & 15356 & 15422 & -1\\\\\n",
       "\t2 & ENSMUST00000082422 & ENSMUSG00000064371 & mitochondrially encoded tRNA threonine {[}Source:MGI Symbol;Acc:MGI:102473{]}       & Mt\\_tRNA        & 15289 & 15355 & 1 \\\\\n",
       "\t3 & ENSMUST00000082421 & ENSMUSG00000064370 & mitochondrially encoded cytochrome b {[}Source:MGI Symbol;Acc:MGI:102501{]}         & protein\\_coding & 14145 & 15288 & 1 \\\\\n",
       "\t4 & ENSMUST00000082420 & ENSMUSG00000064369 & mitochondrially encoded tRNA glutamic acid {[}Source:MGI Symbol;Acc:MGI:102488{]}   & Mt\\_tRNA        & 14071 & 14139 & -1\\\\\n",
       "\t5 & ENSMUST00000082419 & ENSMUSG00000064368 & mitochondrially encoded NADH dehydrogenase 6 {[}Source:MGI Symbol;Acc:MGI:102495{]} & protein\\_coding & 13552 & 14070 & -1\\\\\n",
       "\\end{tabular}\n"
      ],
      "text/markdown": [
       "\n",
       "A data.frame: 5 × 7\n",
       "\n",
       "| <!--/--> | stable_id &lt;fct&gt; | stable_id.1 &lt;fct&gt; | description &lt;fct&gt; | biotype &lt;fct&gt; | seq_region_start &lt;fct&gt; | seq_region_end &lt;fct&gt; | seq_region_strand &lt;fct&gt; |\n",
       "|---|---|---|---|---|---|---|---|\n",
       "| 1 | ENSMUST00000082423 | ENSMUSG00000064372 | mitochondrially encoded tRNA proline [Source:MGI Symbol;Acc:MGI:102478]         | Mt_tRNA        | 15356 | 15422 | -1 |\n",
       "| 2 | ENSMUST00000082422 | ENSMUSG00000064371 | mitochondrially encoded tRNA threonine [Source:MGI Symbol;Acc:MGI:102473]       | Mt_tRNA        | 15289 | 15355 | 1  |\n",
       "| 3 | ENSMUST00000082421 | ENSMUSG00000064370 | mitochondrially encoded cytochrome b [Source:MGI Symbol;Acc:MGI:102501]         | protein_coding | 14145 | 15288 | 1  |\n",
       "| 4 | ENSMUST00000082420 | ENSMUSG00000064369 | mitochondrially encoded tRNA glutamic acid [Source:MGI Symbol;Acc:MGI:102488]   | Mt_tRNA        | 14071 | 14139 | -1 |\n",
       "| 5 | ENSMUST00000082419 | ENSMUSG00000064368 | mitochondrially encoded NADH dehydrogenase 6 [Source:MGI Symbol;Acc:MGI:102495] | protein_coding | 13552 | 14070 | -1 |\n",
       "\n"
      ],
      "text/plain": [
       "  stable_id          stable_id.1       \n",
       "1 ENSMUST00000082423 ENSMUSG00000064372\n",
       "2 ENSMUST00000082422 ENSMUSG00000064371\n",
       "3 ENSMUST00000082421 ENSMUSG00000064370\n",
       "4 ENSMUST00000082420 ENSMUSG00000064369\n",
       "5 ENSMUST00000082419 ENSMUSG00000064368\n",
       "  description                                                                    \n",
       "1 mitochondrially encoded tRNA proline [Source:MGI Symbol;Acc:MGI:102478]        \n",
       "2 mitochondrially encoded tRNA threonine [Source:MGI Symbol;Acc:MGI:102473]      \n",
       "3 mitochondrially encoded cytochrome b [Source:MGI Symbol;Acc:MGI:102501]        \n",
       "4 mitochondrially encoded tRNA glutamic acid [Source:MGI Symbol;Acc:MGI:102488]  \n",
       "5 mitochondrially encoded NADH dehydrogenase 6 [Source:MGI Symbol;Acc:MGI:102495]\n",
       "  biotype        seq_region_start seq_region_end seq_region_strand\n",
       "1 Mt_tRNA        15356            15422          -1               \n",
       "2 Mt_tRNA        15289            15355          1                \n",
       "3 protein_coding 14145            15288          1                \n",
       "4 Mt_tRNA        14071            14139          -1               \n",
       "5 protein_coding 13552            14070          -1               "
      ]
     },
     "metadata": {},
     "output_type": "display_data"
    }
   ],
   "source": [
    "head(genes, 5)"
   ]
  },
  {
   "cell_type": "code",
   "execution_count": 75,
   "id": "6e5cbec7-fc94-4ccd-9eb0-9396deeef402",
   "metadata": {},
   "outputs": [],
   "source": [
    "genes <- dplyr::rename(genes, target_id = stable_id,\n",
    "  ens_gene = stable_id.1, ext_gene = description) "
   ]
  },
  {
   "cell_type": "code",
   "execution_count": 76,
   "id": "8861dcc5-4e29-420c-bb7d-2f3472641e6a",
   "metadata": {},
   "outputs": [
    {
     "data": {
      "text/html": [
       "<table class=\"dataframe\">\n",
       "<caption>A data.frame: 6 × 7</caption>\n",
       "<thead>\n",
       "\t<tr><th></th><th scope=col>target_id</th><th scope=col>ens_gene</th><th scope=col>ext_gene</th><th scope=col>biotype</th><th scope=col>seq_region_start</th><th scope=col>seq_region_end</th><th scope=col>seq_region_strand</th></tr>\n",
       "\t<tr><th></th><th scope=col>&lt;fct&gt;</th><th scope=col>&lt;fct&gt;</th><th scope=col>&lt;fct&gt;</th><th scope=col>&lt;fct&gt;</th><th scope=col>&lt;fct&gt;</th><th scope=col>&lt;fct&gt;</th><th scope=col>&lt;fct&gt;</th></tr>\n",
       "</thead>\n",
       "<tbody>\n",
       "\t<tr><th scope=row>1</th><td>ENSMUST00000082423</td><td>ENSMUSG00000064372</td><td>mitochondrially encoded tRNA proline [Source:MGI Symbol;Acc:MGI:102478]        </td><td>Mt_tRNA       </td><td>15356</td><td>15422</td><td>-1</td></tr>\n",
       "\t<tr><th scope=row>2</th><td>ENSMUST00000082422</td><td>ENSMUSG00000064371</td><td>mitochondrially encoded tRNA threonine [Source:MGI Symbol;Acc:MGI:102473]      </td><td>Mt_tRNA       </td><td>15289</td><td>15355</td><td>1 </td></tr>\n",
       "\t<tr><th scope=row>3</th><td>ENSMUST00000082421</td><td>ENSMUSG00000064370</td><td>mitochondrially encoded cytochrome b [Source:MGI Symbol;Acc:MGI:102501]        </td><td>protein_coding</td><td>14145</td><td>15288</td><td>1 </td></tr>\n",
       "\t<tr><th scope=row>4</th><td>ENSMUST00000082420</td><td>ENSMUSG00000064369</td><td>mitochondrially encoded tRNA glutamic acid [Source:MGI Symbol;Acc:MGI:102488]  </td><td>Mt_tRNA       </td><td>14071</td><td>14139</td><td>-1</td></tr>\n",
       "\t<tr><th scope=row>5</th><td>ENSMUST00000082419</td><td>ENSMUSG00000064368</td><td>mitochondrially encoded NADH dehydrogenase 6 [Source:MGI Symbol;Acc:MGI:102495]</td><td>protein_coding</td><td>13552</td><td>14070</td><td>-1</td></tr>\n",
       "\t<tr><th scope=row>6</th><td>ENSMUST00000082418</td><td>ENSMUSG00000064367</td><td>mitochondrially encoded NADH dehydrogenase 5 [Source:MGI Symbol;Acc:MGI:102496]</td><td>protein_coding</td><td>11742</td><td>13565</td><td>1 </td></tr>\n",
       "</tbody>\n",
       "</table>\n"
      ],
      "text/latex": [
       "A data.frame: 6 × 7\n",
       "\\begin{tabular}{r|lllllll}\n",
       "  & target\\_id & ens\\_gene & ext\\_gene & biotype & seq\\_region\\_start & seq\\_region\\_end & seq\\_region\\_strand\\\\\n",
       "  & <fct> & <fct> & <fct> & <fct> & <fct> & <fct> & <fct>\\\\\n",
       "\\hline\n",
       "\t1 & ENSMUST00000082423 & ENSMUSG00000064372 & mitochondrially encoded tRNA proline {[}Source:MGI Symbol;Acc:MGI:102478{]}         & Mt\\_tRNA        & 15356 & 15422 & -1\\\\\n",
       "\t2 & ENSMUST00000082422 & ENSMUSG00000064371 & mitochondrially encoded tRNA threonine {[}Source:MGI Symbol;Acc:MGI:102473{]}       & Mt\\_tRNA        & 15289 & 15355 & 1 \\\\\n",
       "\t3 & ENSMUST00000082421 & ENSMUSG00000064370 & mitochondrially encoded cytochrome b {[}Source:MGI Symbol;Acc:MGI:102501{]}         & protein\\_coding & 14145 & 15288 & 1 \\\\\n",
       "\t4 & ENSMUST00000082420 & ENSMUSG00000064369 & mitochondrially encoded tRNA glutamic acid {[}Source:MGI Symbol;Acc:MGI:102488{]}   & Mt\\_tRNA        & 14071 & 14139 & -1\\\\\n",
       "\t5 & ENSMUST00000082419 & ENSMUSG00000064368 & mitochondrially encoded NADH dehydrogenase 6 {[}Source:MGI Symbol;Acc:MGI:102495{]} & protein\\_coding & 13552 & 14070 & -1\\\\\n",
       "\t6 & ENSMUST00000082418 & ENSMUSG00000064367 & mitochondrially encoded NADH dehydrogenase 5 {[}Source:MGI Symbol;Acc:MGI:102496{]} & protein\\_coding & 11742 & 13565 & 1 \\\\\n",
       "\\end{tabular}\n"
      ],
      "text/markdown": [
       "\n",
       "A data.frame: 6 × 7\n",
       "\n",
       "| <!--/--> | target_id &lt;fct&gt; | ens_gene &lt;fct&gt; | ext_gene &lt;fct&gt; | biotype &lt;fct&gt; | seq_region_start &lt;fct&gt; | seq_region_end &lt;fct&gt; | seq_region_strand &lt;fct&gt; |\n",
       "|---|---|---|---|---|---|---|---|\n",
       "| 1 | ENSMUST00000082423 | ENSMUSG00000064372 | mitochondrially encoded tRNA proline [Source:MGI Symbol;Acc:MGI:102478]         | Mt_tRNA        | 15356 | 15422 | -1 |\n",
       "| 2 | ENSMUST00000082422 | ENSMUSG00000064371 | mitochondrially encoded tRNA threonine [Source:MGI Symbol;Acc:MGI:102473]       | Mt_tRNA        | 15289 | 15355 | 1  |\n",
       "| 3 | ENSMUST00000082421 | ENSMUSG00000064370 | mitochondrially encoded cytochrome b [Source:MGI Symbol;Acc:MGI:102501]         | protein_coding | 14145 | 15288 | 1  |\n",
       "| 4 | ENSMUST00000082420 | ENSMUSG00000064369 | mitochondrially encoded tRNA glutamic acid [Source:MGI Symbol;Acc:MGI:102488]   | Mt_tRNA        | 14071 | 14139 | -1 |\n",
       "| 5 | ENSMUST00000082419 | ENSMUSG00000064368 | mitochondrially encoded NADH dehydrogenase 6 [Source:MGI Symbol;Acc:MGI:102495] | protein_coding | 13552 | 14070 | -1 |\n",
       "| 6 | ENSMUST00000082418 | ENSMUSG00000064367 | mitochondrially encoded NADH dehydrogenase 5 [Source:MGI Symbol;Acc:MGI:102496] | protein_coding | 11742 | 13565 | 1  |\n",
       "\n"
      ],
      "text/plain": [
       "  target_id          ens_gene          \n",
       "1 ENSMUST00000082423 ENSMUSG00000064372\n",
       "2 ENSMUST00000082422 ENSMUSG00000064371\n",
       "3 ENSMUST00000082421 ENSMUSG00000064370\n",
       "4 ENSMUST00000082420 ENSMUSG00000064369\n",
       "5 ENSMUST00000082419 ENSMUSG00000064368\n",
       "6 ENSMUST00000082418 ENSMUSG00000064367\n",
       "  ext_gene                                                                       \n",
       "1 mitochondrially encoded tRNA proline [Source:MGI Symbol;Acc:MGI:102478]        \n",
       "2 mitochondrially encoded tRNA threonine [Source:MGI Symbol;Acc:MGI:102473]      \n",
       "3 mitochondrially encoded cytochrome b [Source:MGI Symbol;Acc:MGI:102501]        \n",
       "4 mitochondrially encoded tRNA glutamic acid [Source:MGI Symbol;Acc:MGI:102488]  \n",
       "5 mitochondrially encoded NADH dehydrogenase 6 [Source:MGI Symbol;Acc:MGI:102495]\n",
       "6 mitochondrially encoded NADH dehydrogenase 5 [Source:MGI Symbol;Acc:MGI:102496]\n",
       "  biotype        seq_region_start seq_region_end seq_region_strand\n",
       "1 Mt_tRNA        15356            15422          -1               \n",
       "2 Mt_tRNA        15289            15355          1                \n",
       "3 protein_coding 14145            15288          1                \n",
       "4 Mt_tRNA        14071            14139          -1               \n",
       "5 protein_coding 13552            14070          -1               \n",
       "6 protein_coding 11742            13565          1                "
      ]
     },
     "metadata": {},
     "output_type": "display_data"
    }
   ],
   "source": [
    "head(genes)"
   ]
  },
  {
   "cell_type": "code",
   "execution_count": 79,
   "id": "262c034b-4d9b-4cbe-a289-f7e98d4d637f",
   "metadata": {},
   "outputs": [],
   "source": [
    "genes <- genes %>% distinct(target_id, .keep_all= TRUE)"
   ]
  },
  {
   "cell_type": "code",
   "execution_count": 80,
   "id": "4551da3f-c85d-4664-80ac-5f7a22158aa2",
   "metadata": {},
   "outputs": [
    {
     "name": "stderr",
     "output_type": "stream",
     "text": [
      "reading in kallisto results\n",
      "\n",
      "dropping unused factor levels\n",
      "\n",
      ".\n",
      ".\n",
      ".\n",
      ".\n",
      ".\n",
      ".\n",
      ".\n",
      ".\n",
      ".\n",
      ".\n",
      ".\n",
      ".\n",
      ".\n",
      ".\n",
      ".\n",
      ".\n",
      ".\n",
      ".\n",
      ".\n",
      ".\n",
      ".\n",
      ".\n",
      ".\n",
      ".\n",
      "\n",
      "\n",
      "normalizing est_counts\n",
      "\n",
      "48055 targets passed the filter\n",
      "\n",
      "normalizing tpm\n",
      "\n",
      "merging in metadata\n",
      "\n",
      "summarizing bootstraps\n",
      "\n",
      "\n",
      "\n"
     ]
    }
   ],
   "source": [
    "so_gene <- sleuth_prep(s2c, target_mapping = genes, aggregation_column = 'ens_gene')"
   ]
  },
  {
   "cell_type": "code",
   "execution_count": 38,
   "id": "b93c956a-0a3c-4ffa-998d-f720d2dc9569",
   "metadata": {},
   "outputs": [
    {
     "name": "stdout",
     "output_type": "stream",
     "text": [
      "[  full  ]\n",
      "formula:  ~condition \n",
      "data modeled:  obs_counts \n",
      "transform sync'ed:  TRUE \n",
      "coefficients:\n",
      "\t(Intercept)\n",
      " \tcondition RNA-seq_CTCF-AID_auxin2days\n",
      " \tcondition RNA-seq_CTCF-AID_auxin4days\n",
      " \tcondition RNA-seq_CTCF-AID_untreated\n",
      " \tcondition RNA-seq_CTCF-AID_washoff2days\n",
      " \tcondition RNA-seq_WT-untagged_auxin2days\n",
      " \tcondition RNA-seq_WT-untagged_auxin4days\n",
      " \tcondition RNA-seq_WT-untagged_untreated\n",
      "[  reduced  ]\n",
      "formula:  ~1 \n",
      "data modeled:  obs_counts \n",
      "transform sync'ed:  TRUE \n",
      "coefficients:\n",
      "\t(Intercept)\n"
     ]
    }
   ],
   "source": [
    "so_gene("
   ]
  },
  {
   "cell_type": "code",
   "execution_count": 39,
   "id": "f831d6d4-db85-476a-b3f0-80a6840733e3",
   "metadata": {},
   "outputs": [
    {
     "name": "stdout",
     "output_type": "stream",
     "text": [
      "[  full  ]\n",
      "formula:  ~condition \n",
      "data modeled:  obs_counts \n",
      "transform sync'ed:  TRUE \n",
      "coefficients:\n",
      "\t(Intercept)\n",
      " \tcondition RNA-seq_CTCF-AID_auxin2days\n",
      " \tcondition RNA-seq_CTCF-AID_auxin4days\n",
      " \tcondition RNA-seq_CTCF-AID_untreated\n",
      " \tcondition RNA-seq_CTCF-AID_washoff2days\n",
      " \tcondition RNA-seq_WT-untagged_auxin2days\n",
      " \tcondition RNA-seq_WT-untagged_auxin4days\n",
      " \tcondition RNA-seq_WT-untagged_untreated\n",
      "[  reduced  ]\n",
      "formula:  ~1 \n",
      "data modeled:  obs_counts \n",
      "transform sync'ed:  TRUE \n",
      "coefficients:\n",
      "\t(Intercept)\n"
     ]
    }
   ],
   "source": [
    "# Getting results of test -- from pachterlab tutorial\n",
    "\n",
    "so <- sleuth_wt(so, 'condition RNA-seq_CTCF-AID_auxin2days')\n",
    "models(so)"
   ]
  },
  {
   "cell_type": "code",
   "execution_count": 40,
   "id": "afc76a87-0919-4e50-9a9d-f70aa3b5c0bf",
   "metadata": {},
   "outputs": [
    {
     "name": "stdout",
     "output_type": "stream",
     "text": [
      "~likelihood ratio tests:\n",
      "\treduced:full\n",
      "\n",
      "~wald tests:\n",
      "\t[ full ]\n",
      "\tcondition RNA-seq_CTCF-AID_auxin2days\n"
     ]
    }
   ],
   "source": [
    "tests(so)"
   ]
  },
  {
   "cell_type": "code",
   "execution_count": 41,
   "id": "98ba8027-d158-404f-a3e9-3a9556bf8cc6",
   "metadata": {},
   "outputs": [
    {
     "data": {
      "text/html": [
       "<table class=\"dataframe\">\n",
       "<caption>A data.frame: 20 × 11</caption>\n",
       "<thead>\n",
       "\t<tr><th></th><th scope=col>target_id</th><th scope=col>pval</th><th scope=col>qval</th><th scope=col>b</th><th scope=col>se_b</th><th scope=col>mean_obs</th><th scope=col>var_obs</th><th scope=col>tech_var</th><th scope=col>sigma_sq</th><th scope=col>smooth_sigma_sq</th><th scope=col>final_sigma_sq</th></tr>\n",
       "\t<tr><th></th><th scope=col>&lt;chr&gt;</th><th scope=col>&lt;dbl&gt;</th><th scope=col>&lt;dbl&gt;</th><th scope=col>&lt;dbl&gt;</th><th scope=col>&lt;dbl&gt;</th><th scope=col>&lt;dbl&gt;</th><th scope=col>&lt;dbl&gt;</th><th scope=col>&lt;dbl&gt;</th><th scope=col>&lt;dbl&gt;</th><th scope=col>&lt;dbl&gt;</th><th scope=col>&lt;dbl&gt;</th></tr>\n",
       "</thead>\n",
       "<tbody>\n",
       "\t<tr><th scope=row>1</th><td>ENSMUST00000070911</td><td>8.556287e-07</td><td>0.04111724</td><td> 4.1002087</td><td>0.8329979</td><td>3.909947</td><td>2.2662748</td><td>0.5115539102</td><td> 0.52927440</td><td>0.41555620</td><td>0.52927440</td></tr>\n",
       "\t<tr><th scope=row>2</th><td>ENSMUST00000038676</td><td>3.784414e-06</td><td>0.09093000</td><td> 1.9697013</td><td>0.4260763</td><td>4.695088</td><td>0.9393589</td><td>0.0172293531</td><td> 0.22279105</td><td>0.25508217</td><td>0.25508217</td></tr>\n",
       "\t<tr><th scope=row>3</th><td>ENSMUST00000166009</td><td>7.536496e-06</td><td>0.12072210</td><td>-4.0833210</td><td>0.9118738</td><td>4.895332</td><td>5.7848326</td><td>1.0209887781</td><td>-0.47091181</td><td>0.22628205</td><td>0.22628205</td></tr>\n",
       "\t<tr><th scope=row>4</th><td>ENSMUST00000173334</td><td>1.062948e-05</td><td>0.12769997</td><td> 1.4960822</td><td>0.3397133</td><td>5.679022</td><td>1.5617156</td><td>0.0076604275</td><td> 0.16544727</td><td>0.14284998</td><td>0.16544727</td></tr>\n",
       "\t<tr><th scope=row>5</th><td>ENSMUST00000151505</td><td>1.767477e-05</td><td>0.16987225</td><td> 5.4659208</td><td>1.2733934</td><td>3.254748</td><td>5.7637503</td><td>1.7372294673</td><td> 0.69506657</td><td>0.62038397</td><td>0.69506657</td></tr>\n",
       "\t<tr><th scope=row>6</th><td>ENSMUST00000067975</td><td>2.585061e-05</td><td>0.20704187</td><td> 3.7221266</td><td>0.8846951</td><td>3.029992</td><td>1.7061673</td><td>0.4831113932</td><td> 0.14007011</td><td>0.69091679</td><td>0.69091679</td></tr>\n",
       "\t<tr><th scope=row>7</th><td>ENSMUST00000171066</td><td>3.454127e-05</td><td>0.23712582</td><td> 0.9217450</td><td>0.2225763</td><td>9.518412</td><td>1.0441342</td><td>0.0001302209</td><td> 0.07418011</td><td>0.04829636</td><td>0.07418011</td></tr>\n",
       "\t<tr><th scope=row>8</th><td>ENSMUST00000113158</td><td>4.166372e-05</td><td>0.25026877</td><td>-4.7046539</td><td>1.1480213</td><td>5.621996</td><td>3.9741105</td><td>0.5903137533</td><td> 1.38661569</td><td>0.14748436</td><td>1.38661569</td></tr>\n",
       "\t<tr><th scope=row>9</th><td>ENSMUST00000062213</td><td>7.733745e-05</td><td>0.41293904</td><td> 3.3500008</td><td>0.8475640</td><td>4.243453</td><td>2.6153966</td><td>0.7387400655</td><td> 0.08906437</td><td>0.33880716</td><td>0.33880716</td></tr>\n",
       "\t<tr><th scope=row>10</th><td>ENSMUST00000155572</td><td>1.069657e-04</td><td>0.41469531</td><td> 0.7447287</td><td>0.1922266</td><td>8.060573</td><td>0.7240418</td><td>0.0004519891</td><td> 0.04101434</td><td>0.05497463</td><td>0.05497463</td></tr>\n",
       "\t<tr><th scope=row>11</th><td>ENSMUST00000136299</td><td>8.630645e-05</td><td>0.41469531</td><td> 0.9207583</td><td>0.2345177</td><td>8.066746</td><td>1.1462428</td><td>0.0004998462</td><td> 0.08199801</td><td>0.05489996</td><td>0.08199801</td></tr>\n",
       "\t<tr><th scope=row>12</th><td>ENSMUST00000103031</td><td>1.121848e-04</td><td>0.41469531</td><td> 4.0456234</td><td>1.0473824</td><td>4.654088</td><td>3.1047081</td><td>0.8697484208</td><td> 0.77576633</td><td>0.26153042</td><td>0.77576633</td></tr>\n",
       "\t<tr><th scope=row>13</th><td>ENSMUST00000099362</td><td>1.068372e-04</td><td>0.41469531</td><td> 0.9711517</td><td>0.2506511</td><td>6.566999</td><td>0.2772720</td><td>0.0030783912</td><td> 0.06919735</td><td>0.09116060</td><td>0.09116060</td></tr>\n",
       "\t<tr><th scope=row>14</th><td>ENSMUST00000044773</td><td>1.352756e-04</td><td>0.46433361</td><td> 3.3527664</td><td>0.8784578</td><td>3.922622</td><td>2.3774740</td><td>0.7450472078</td><td> 0.22188860</td><td>0.41248499</td><td>0.41248499</td></tr>\n",
       "\t<tr><th scope=row>15</th><td>ENSMUST00000034121</td><td>1.794990e-04</td><td>0.50740156</td><td> 0.7892773</td><td>0.2106847</td><td>7.404901</td><td>0.1823752</td><td>0.0007835711</td><td> 0.04091551</td><td>0.06579851</td><td>0.06579851</td></tr>\n",
       "\t<tr><th scope=row>16</th><td>ENSMUST00000107724</td><td>1.591749e-04</td><td>0.50740156</td><td>-1.3794773</td><td>0.3652986</td><td>6.531888</td><td>0.5431204</td><td>0.0911305147</td><td> 0.10903408</td><td>0.09263478</td><td>0.10903408</td></tr>\n",
       "\t<tr><th scope=row>17</th><td>ENSMUST00000086370</td><td>1.776081e-04</td><td>0.50740156</td><td> 1.0685435</td><td>0.2850281</td><td>6.414937</td><td>0.3346847</td><td>0.0033588471</td><td> 0.11850270</td><td>0.09783469</td><td>0.11850270</td></tr>\n",
       "\t<tr><th scope=row>18</th><td>ENSMUST00000144472</td><td>1.924491e-04</td><td>0.51378551</td><td>-3.1811120</td><td>0.8531361</td><td>3.217857</td><td>1.6839599</td><td>0.4593302795</td><td> 0.39613982</td><td>0.63243148</td><td>0.63243148</td></tr>\n",
       "\t<tr><th scope=row>19</th><td>ENSMUST00000073572</td><td>2.509640e-04</td><td>0.60300386</td><td> 4.6521992</td><td>1.2706503</td><td>2.356741</td><td>4.5124905</td><td>1.0748768743</td><td> 1.34695154</td><td>0.90142115</td><td>1.34695154</td></tr>\n",
       "\t<tr><th scope=row>20</th><td>ENSMUST00000162443</td><td>2.471286e-04</td><td>0.60300386</td><td> 3.1327035</td><td>0.8547115</td><td>4.030236</td><td>2.3591937</td><td>0.7089915599</td><td> 0.12711798</td><td>0.38680615</td><td>0.38680615</td></tr>\n",
       "</tbody>\n",
       "</table>\n"
      ],
      "text/latex": [
       "A data.frame: 20 × 11\n",
       "\\begin{tabular}{r|lllllllllll}\n",
       "  & target\\_id & pval & qval & b & se\\_b & mean\\_obs & var\\_obs & tech\\_var & sigma\\_sq & smooth\\_sigma\\_sq & final\\_sigma\\_sq\\\\\n",
       "  & <chr> & <dbl> & <dbl> & <dbl> & <dbl> & <dbl> & <dbl> & <dbl> & <dbl> & <dbl> & <dbl>\\\\\n",
       "\\hline\n",
       "\t1 & ENSMUST00000070911 & 8.556287e-07 & 0.04111724 &  4.1002087 & 0.8329979 & 3.909947 & 2.2662748 & 0.5115539102 &  0.52927440 & 0.41555620 & 0.52927440\\\\\n",
       "\t2 & ENSMUST00000038676 & 3.784414e-06 & 0.09093000 &  1.9697013 & 0.4260763 & 4.695088 & 0.9393589 & 0.0172293531 &  0.22279105 & 0.25508217 & 0.25508217\\\\\n",
       "\t3 & ENSMUST00000166009 & 7.536496e-06 & 0.12072210 & -4.0833210 & 0.9118738 & 4.895332 & 5.7848326 & 1.0209887781 & -0.47091181 & 0.22628205 & 0.22628205\\\\\n",
       "\t4 & ENSMUST00000173334 & 1.062948e-05 & 0.12769997 &  1.4960822 & 0.3397133 & 5.679022 & 1.5617156 & 0.0076604275 &  0.16544727 & 0.14284998 & 0.16544727\\\\\n",
       "\t5 & ENSMUST00000151505 & 1.767477e-05 & 0.16987225 &  5.4659208 & 1.2733934 & 3.254748 & 5.7637503 & 1.7372294673 &  0.69506657 & 0.62038397 & 0.69506657\\\\\n",
       "\t6 & ENSMUST00000067975 & 2.585061e-05 & 0.20704187 &  3.7221266 & 0.8846951 & 3.029992 & 1.7061673 & 0.4831113932 &  0.14007011 & 0.69091679 & 0.69091679\\\\\n",
       "\t7 & ENSMUST00000171066 & 3.454127e-05 & 0.23712582 &  0.9217450 & 0.2225763 & 9.518412 & 1.0441342 & 0.0001302209 &  0.07418011 & 0.04829636 & 0.07418011\\\\\n",
       "\t8 & ENSMUST00000113158 & 4.166372e-05 & 0.25026877 & -4.7046539 & 1.1480213 & 5.621996 & 3.9741105 & 0.5903137533 &  1.38661569 & 0.14748436 & 1.38661569\\\\\n",
       "\t9 & ENSMUST00000062213 & 7.733745e-05 & 0.41293904 &  3.3500008 & 0.8475640 & 4.243453 & 2.6153966 & 0.7387400655 &  0.08906437 & 0.33880716 & 0.33880716\\\\\n",
       "\t10 & ENSMUST00000155572 & 1.069657e-04 & 0.41469531 &  0.7447287 & 0.1922266 & 8.060573 & 0.7240418 & 0.0004519891 &  0.04101434 & 0.05497463 & 0.05497463\\\\\n",
       "\t11 & ENSMUST00000136299 & 8.630645e-05 & 0.41469531 &  0.9207583 & 0.2345177 & 8.066746 & 1.1462428 & 0.0004998462 &  0.08199801 & 0.05489996 & 0.08199801\\\\\n",
       "\t12 & ENSMUST00000103031 & 1.121848e-04 & 0.41469531 &  4.0456234 & 1.0473824 & 4.654088 & 3.1047081 & 0.8697484208 &  0.77576633 & 0.26153042 & 0.77576633\\\\\n",
       "\t13 & ENSMUST00000099362 & 1.068372e-04 & 0.41469531 &  0.9711517 & 0.2506511 & 6.566999 & 0.2772720 & 0.0030783912 &  0.06919735 & 0.09116060 & 0.09116060\\\\\n",
       "\t14 & ENSMUST00000044773 & 1.352756e-04 & 0.46433361 &  3.3527664 & 0.8784578 & 3.922622 & 2.3774740 & 0.7450472078 &  0.22188860 & 0.41248499 & 0.41248499\\\\\n",
       "\t15 & ENSMUST00000034121 & 1.794990e-04 & 0.50740156 &  0.7892773 & 0.2106847 & 7.404901 & 0.1823752 & 0.0007835711 &  0.04091551 & 0.06579851 & 0.06579851\\\\\n",
       "\t16 & ENSMUST00000107724 & 1.591749e-04 & 0.50740156 & -1.3794773 & 0.3652986 & 6.531888 & 0.5431204 & 0.0911305147 &  0.10903408 & 0.09263478 & 0.10903408\\\\\n",
       "\t17 & ENSMUST00000086370 & 1.776081e-04 & 0.50740156 &  1.0685435 & 0.2850281 & 6.414937 & 0.3346847 & 0.0033588471 &  0.11850270 & 0.09783469 & 0.11850270\\\\\n",
       "\t18 & ENSMUST00000144472 & 1.924491e-04 & 0.51378551 & -3.1811120 & 0.8531361 & 3.217857 & 1.6839599 & 0.4593302795 &  0.39613982 & 0.63243148 & 0.63243148\\\\\n",
       "\t19 & ENSMUST00000073572 & 2.509640e-04 & 0.60300386 &  4.6521992 & 1.2706503 & 2.356741 & 4.5124905 & 1.0748768743 &  1.34695154 & 0.90142115 & 1.34695154\\\\\n",
       "\t20 & ENSMUST00000162443 & 2.471286e-04 & 0.60300386 &  3.1327035 & 0.8547115 & 4.030236 & 2.3591937 & 0.7089915599 &  0.12711798 & 0.38680615 & 0.38680615\\\\\n",
       "\\end{tabular}\n"
      ],
      "text/markdown": [
       "\n",
       "A data.frame: 20 × 11\n",
       "\n",
       "| <!--/--> | target_id &lt;chr&gt; | pval &lt;dbl&gt; | qval &lt;dbl&gt; | b &lt;dbl&gt; | se_b &lt;dbl&gt; | mean_obs &lt;dbl&gt; | var_obs &lt;dbl&gt; | tech_var &lt;dbl&gt; | sigma_sq &lt;dbl&gt; | smooth_sigma_sq &lt;dbl&gt; | final_sigma_sq &lt;dbl&gt; |\n",
       "|---|---|---|---|---|---|---|---|---|---|---|---|\n",
       "| 1 | ENSMUST00000070911 | 8.556287e-07 | 0.04111724 |  4.1002087 | 0.8329979 | 3.909947 | 2.2662748 | 0.5115539102 |  0.52927440 | 0.41555620 | 0.52927440 |\n",
       "| 2 | ENSMUST00000038676 | 3.784414e-06 | 0.09093000 |  1.9697013 | 0.4260763 | 4.695088 | 0.9393589 | 0.0172293531 |  0.22279105 | 0.25508217 | 0.25508217 |\n",
       "| 3 | ENSMUST00000166009 | 7.536496e-06 | 0.12072210 | -4.0833210 | 0.9118738 | 4.895332 | 5.7848326 | 1.0209887781 | -0.47091181 | 0.22628205 | 0.22628205 |\n",
       "| 4 | ENSMUST00000173334 | 1.062948e-05 | 0.12769997 |  1.4960822 | 0.3397133 | 5.679022 | 1.5617156 | 0.0076604275 |  0.16544727 | 0.14284998 | 0.16544727 |\n",
       "| 5 | ENSMUST00000151505 | 1.767477e-05 | 0.16987225 |  5.4659208 | 1.2733934 | 3.254748 | 5.7637503 | 1.7372294673 |  0.69506657 | 0.62038397 | 0.69506657 |\n",
       "| 6 | ENSMUST00000067975 | 2.585061e-05 | 0.20704187 |  3.7221266 | 0.8846951 | 3.029992 | 1.7061673 | 0.4831113932 |  0.14007011 | 0.69091679 | 0.69091679 |\n",
       "| 7 | ENSMUST00000171066 | 3.454127e-05 | 0.23712582 |  0.9217450 | 0.2225763 | 9.518412 | 1.0441342 | 0.0001302209 |  0.07418011 | 0.04829636 | 0.07418011 |\n",
       "| 8 | ENSMUST00000113158 | 4.166372e-05 | 0.25026877 | -4.7046539 | 1.1480213 | 5.621996 | 3.9741105 | 0.5903137533 |  1.38661569 | 0.14748436 | 1.38661569 |\n",
       "| 9 | ENSMUST00000062213 | 7.733745e-05 | 0.41293904 |  3.3500008 | 0.8475640 | 4.243453 | 2.6153966 | 0.7387400655 |  0.08906437 | 0.33880716 | 0.33880716 |\n",
       "| 10 | ENSMUST00000155572 | 1.069657e-04 | 0.41469531 |  0.7447287 | 0.1922266 | 8.060573 | 0.7240418 | 0.0004519891 |  0.04101434 | 0.05497463 | 0.05497463 |\n",
       "| 11 | ENSMUST00000136299 | 8.630645e-05 | 0.41469531 |  0.9207583 | 0.2345177 | 8.066746 | 1.1462428 | 0.0004998462 |  0.08199801 | 0.05489996 | 0.08199801 |\n",
       "| 12 | ENSMUST00000103031 | 1.121848e-04 | 0.41469531 |  4.0456234 | 1.0473824 | 4.654088 | 3.1047081 | 0.8697484208 |  0.77576633 | 0.26153042 | 0.77576633 |\n",
       "| 13 | ENSMUST00000099362 | 1.068372e-04 | 0.41469531 |  0.9711517 | 0.2506511 | 6.566999 | 0.2772720 | 0.0030783912 |  0.06919735 | 0.09116060 | 0.09116060 |\n",
       "| 14 | ENSMUST00000044773 | 1.352756e-04 | 0.46433361 |  3.3527664 | 0.8784578 | 3.922622 | 2.3774740 | 0.7450472078 |  0.22188860 | 0.41248499 | 0.41248499 |\n",
       "| 15 | ENSMUST00000034121 | 1.794990e-04 | 0.50740156 |  0.7892773 | 0.2106847 | 7.404901 | 0.1823752 | 0.0007835711 |  0.04091551 | 0.06579851 | 0.06579851 |\n",
       "| 16 | ENSMUST00000107724 | 1.591749e-04 | 0.50740156 | -1.3794773 | 0.3652986 | 6.531888 | 0.5431204 | 0.0911305147 |  0.10903408 | 0.09263478 | 0.10903408 |\n",
       "| 17 | ENSMUST00000086370 | 1.776081e-04 | 0.50740156 |  1.0685435 | 0.2850281 | 6.414937 | 0.3346847 | 0.0033588471 |  0.11850270 | 0.09783469 | 0.11850270 |\n",
       "| 18 | ENSMUST00000144472 | 1.924491e-04 | 0.51378551 | -3.1811120 | 0.8531361 | 3.217857 | 1.6839599 | 0.4593302795 |  0.39613982 | 0.63243148 | 0.63243148 |\n",
       "| 19 | ENSMUST00000073572 | 2.509640e-04 | 0.60300386 |  4.6521992 | 1.2706503 | 2.356741 | 4.5124905 | 1.0748768743 |  1.34695154 | 0.90142115 | 1.34695154 |\n",
       "| 20 | ENSMUST00000162443 | 2.471286e-04 | 0.60300386 |  3.1327035 | 0.8547115 | 4.030236 | 2.3591937 | 0.7089915599 |  0.12711798 | 0.38680615 | 0.38680615 |\n",
       "\n"
      ],
      "text/plain": [
       "   target_id          pval         qval       b          se_b      mean_obs\n",
       "1  ENSMUST00000070911 8.556287e-07 0.04111724  4.1002087 0.8329979 3.909947\n",
       "2  ENSMUST00000038676 3.784414e-06 0.09093000  1.9697013 0.4260763 4.695088\n",
       "3  ENSMUST00000166009 7.536496e-06 0.12072210 -4.0833210 0.9118738 4.895332\n",
       "4  ENSMUST00000173334 1.062948e-05 0.12769997  1.4960822 0.3397133 5.679022\n",
       "5  ENSMUST00000151505 1.767477e-05 0.16987225  5.4659208 1.2733934 3.254748\n",
       "6  ENSMUST00000067975 2.585061e-05 0.20704187  3.7221266 0.8846951 3.029992\n",
       "7  ENSMUST00000171066 3.454127e-05 0.23712582  0.9217450 0.2225763 9.518412\n",
       "8  ENSMUST00000113158 4.166372e-05 0.25026877 -4.7046539 1.1480213 5.621996\n",
       "9  ENSMUST00000062213 7.733745e-05 0.41293904  3.3500008 0.8475640 4.243453\n",
       "10 ENSMUST00000155572 1.069657e-04 0.41469531  0.7447287 0.1922266 8.060573\n",
       "11 ENSMUST00000136299 8.630645e-05 0.41469531  0.9207583 0.2345177 8.066746\n",
       "12 ENSMUST00000103031 1.121848e-04 0.41469531  4.0456234 1.0473824 4.654088\n",
       "13 ENSMUST00000099362 1.068372e-04 0.41469531  0.9711517 0.2506511 6.566999\n",
       "14 ENSMUST00000044773 1.352756e-04 0.46433361  3.3527664 0.8784578 3.922622\n",
       "15 ENSMUST00000034121 1.794990e-04 0.50740156  0.7892773 0.2106847 7.404901\n",
       "16 ENSMUST00000107724 1.591749e-04 0.50740156 -1.3794773 0.3652986 6.531888\n",
       "17 ENSMUST00000086370 1.776081e-04 0.50740156  1.0685435 0.2850281 6.414937\n",
       "18 ENSMUST00000144472 1.924491e-04 0.51378551 -3.1811120 0.8531361 3.217857\n",
       "19 ENSMUST00000073572 2.509640e-04 0.60300386  4.6521992 1.2706503 2.356741\n",
       "20 ENSMUST00000162443 2.471286e-04 0.60300386  3.1327035 0.8547115 4.030236\n",
       "   var_obs   tech_var     sigma_sq    smooth_sigma_sq final_sigma_sq\n",
       "1  2.2662748 0.5115539102  0.52927440 0.41555620      0.52927440    \n",
       "2  0.9393589 0.0172293531  0.22279105 0.25508217      0.25508217    \n",
       "3  5.7848326 1.0209887781 -0.47091181 0.22628205      0.22628205    \n",
       "4  1.5617156 0.0076604275  0.16544727 0.14284998      0.16544727    \n",
       "5  5.7637503 1.7372294673  0.69506657 0.62038397      0.69506657    \n",
       "6  1.7061673 0.4831113932  0.14007011 0.69091679      0.69091679    \n",
       "7  1.0441342 0.0001302209  0.07418011 0.04829636      0.07418011    \n",
       "8  3.9741105 0.5903137533  1.38661569 0.14748436      1.38661569    \n",
       "9  2.6153966 0.7387400655  0.08906437 0.33880716      0.33880716    \n",
       "10 0.7240418 0.0004519891  0.04101434 0.05497463      0.05497463    \n",
       "11 1.1462428 0.0004998462  0.08199801 0.05489996      0.08199801    \n",
       "12 3.1047081 0.8697484208  0.77576633 0.26153042      0.77576633    \n",
       "13 0.2772720 0.0030783912  0.06919735 0.09116060      0.09116060    \n",
       "14 2.3774740 0.7450472078  0.22188860 0.41248499      0.41248499    \n",
       "15 0.1823752 0.0007835711  0.04091551 0.06579851      0.06579851    \n",
       "16 0.5431204 0.0911305147  0.10903408 0.09263478      0.10903408    \n",
       "17 0.3346847 0.0033588471  0.11850270 0.09783469      0.11850270    \n",
       "18 1.6839599 0.4593302795  0.39613982 0.63243148      0.63243148    \n",
       "19 4.5124905 1.0748768743  1.34695154 0.90142115      1.34695154    \n",
       "20 2.3591937 0.7089915599  0.12711798 0.38680615      0.38680615    "
      ]
     },
     "metadata": {},
     "output_type": "display_data"
    }
   ],
   "source": [
    "sleuth_wt_res <- sleuth_results(so, \"condition RNA-seq_CTCF-AID_auxin2days\")\n",
    "head(sleuth_wt_res, 20)"
   ]
  },
  {
   "cell_type": "code",
   "execution_count": 42,
   "id": "193531a4-3ab4-4379-bfd7-72d57aa64810",
   "metadata": {},
   "outputs": [
    {
     "data": {
      "text/html": [
       "<table class=\"dataframe\">\n",
       "<caption>A data.frame: 10 × 12</caption>\n",
       "<thead>\n",
       "\t<tr><th></th><th scope=col>target_id</th><th scope=col>pval</th><th scope=col>qval</th><th scope=col>test_stat</th><th scope=col>rss</th><th scope=col>degrees_free</th><th scope=col>mean_obs</th><th scope=col>var_obs</th><th scope=col>tech_var</th><th scope=col>sigma_sq</th><th scope=col>smooth_sigma_sq</th><th scope=col>final_sigma_sq</th></tr>\n",
       "\t<tr><th></th><th scope=col>&lt;chr&gt;</th><th scope=col>&lt;dbl&gt;</th><th scope=col>&lt;dbl&gt;</th><th scope=col>&lt;dbl&gt;</th><th scope=col>&lt;dbl&gt;</th><th scope=col>&lt;int&gt;</th><th scope=col>&lt;dbl&gt;</th><th scope=col>&lt;dbl&gt;</th><th scope=col>&lt;dbl&gt;</th><th scope=col>&lt;dbl&gt;</th><th scope=col>&lt;dbl&gt;</th><th scope=col>&lt;dbl&gt;</th></tr>\n",
       "</thead>\n",
       "<tbody>\n",
       "\t<tr><th scope=row>1</th><td>ENSMUST00000029644</td><td>3.047563e-14</td><td>1.464506e-09</td><td>78.30769</td><td>22.20803</td><td>7</td><td>6.862515</td><td>0.9655665</td><td>0.0029059542</td><td>0.9626605</td><td>0.09593575</td><td>0.9626605</td></tr>\n",
       "\t<tr><th scope=row>2</th><td>ENSMUST00000102763</td><td>1.079232e-13</td><td>2.593125e-09</td><td>75.60788</td><td>16.36757</td><td>7</td><td>7.556659</td><td>0.7116337</td><td>0.0008762691</td><td>0.7107574</td><td>0.07613686</td><td>0.7107574</td></tr>\n",
       "\t<tr><th scope=row>3</th><td>ENSMUST00000006451</td><td>3.690048e-13</td><td>4.026421e-09</td><td>72.97684</td><td>20.41545</td><td>7</td><td>7.017841</td><td>0.8876284</td><td>0.0033801130</td><td>0.8842483</td><td>0.09048501</td><td>0.8842483</td></tr>\n",
       "\t<tr><th scope=row>4</th><td>ENSMUST00000078953</td><td>4.004208e-13</td><td>4.026421e-09</td><td>72.80175</td><td>44.93722</td><td>7</td><td>5.188072</td><td>1.9537923</td><td>0.0177739637</td><td>1.9360183</td><td>0.21619344</td><td>1.9360183</td></tr>\n",
       "\t<tr><th scope=row>5</th><td>ENSMUST00000155572</td><td>4.189388e-13</td><td>4.026421e-09</td><td>72.70486</td><td>16.65296</td><td>7</td><td>8.060573</td><td>0.7240418</td><td>0.0004519891</td><td>0.7235898</td><td>0.06742466</td><td>0.7235898</td></tr>\n",
       "\t<tr><th scope=row>6</th><td>ENSMUST00000168900</td><td>6.272445e-13</td><td>5.023706e-09</td><td>71.83944</td><td>20.21256</td><td>7</td><td>7.059538</td><td>0.8788068</td><td>0.0019773653</td><td>0.8768295</td><td>0.08914646</td><td>0.8768295</td></tr>\n",
       "\t<tr><th scope=row>7</th><td>ENSMUST00000136299</td><td>1.374398e-12</td><td>8.255836e-09</td><td>70.15534</td><td>26.36358</td><td>7</td><td>8.066746</td><td>1.1462428</td><td>0.0004998462</td><td>1.1457429</td><td>0.06734164</td><td>1.1457429</td></tr>\n",
       "\t<tr><th scope=row>8</th><td>ENSMUST00000171066</td><td>1.212480e-12</td><td>8.255836e-09</td><td>70.42464</td><td>24.01509</td><td>7</td><td>9.518412</td><td>1.0441342</td><td>0.0001302209</td><td>1.0440040</td><td>0.06076378</td><td>1.0440040</td></tr>\n",
       "\t<tr><th scope=row>9</th><td>ENSMUST00000014892</td><td>2.382672e-12</td><td>1.272214e-08</td><td>68.97237</td><td>15.94276</td><td>7</td><td>6.670008</td><td>0.6931633</td><td>0.0027184562</td><td>0.6904448</td><td>0.10375566</td><td>0.6904448</td></tr>\n",
       "\t<tr><th scope=row>10</th><td>ENSMUST00000004949</td><td>4.088220e-12</td><td>1.964594e-08</td><td>67.81014</td><td>29.05456</td><td>7</td><td>5.892552</td><td>1.2632418</td><td>0.0066628145</td><td>1.2565790</td><td>0.14910365</td><td>1.2565790</td></tr>\n",
       "</tbody>\n",
       "</table>\n"
      ],
      "text/latex": [
       "A data.frame: 10 × 12\n",
       "\\begin{tabular}{r|llllllllllll}\n",
       "  & target\\_id & pval & qval & test\\_stat & rss & degrees\\_free & mean\\_obs & var\\_obs & tech\\_var & sigma\\_sq & smooth\\_sigma\\_sq & final\\_sigma\\_sq\\\\\n",
       "  & <chr> & <dbl> & <dbl> & <dbl> & <dbl> & <int> & <dbl> & <dbl> & <dbl> & <dbl> & <dbl> & <dbl>\\\\\n",
       "\\hline\n",
       "\t1 & ENSMUST00000029644 & 3.047563e-14 & 1.464506e-09 & 78.30769 & 22.20803 & 7 & 6.862515 & 0.9655665 & 0.0029059542 & 0.9626605 & 0.09593575 & 0.9626605\\\\\n",
       "\t2 & ENSMUST00000102763 & 1.079232e-13 & 2.593125e-09 & 75.60788 & 16.36757 & 7 & 7.556659 & 0.7116337 & 0.0008762691 & 0.7107574 & 0.07613686 & 0.7107574\\\\\n",
       "\t3 & ENSMUST00000006451 & 3.690048e-13 & 4.026421e-09 & 72.97684 & 20.41545 & 7 & 7.017841 & 0.8876284 & 0.0033801130 & 0.8842483 & 0.09048501 & 0.8842483\\\\\n",
       "\t4 & ENSMUST00000078953 & 4.004208e-13 & 4.026421e-09 & 72.80175 & 44.93722 & 7 & 5.188072 & 1.9537923 & 0.0177739637 & 1.9360183 & 0.21619344 & 1.9360183\\\\\n",
       "\t5 & ENSMUST00000155572 & 4.189388e-13 & 4.026421e-09 & 72.70486 & 16.65296 & 7 & 8.060573 & 0.7240418 & 0.0004519891 & 0.7235898 & 0.06742466 & 0.7235898\\\\\n",
       "\t6 & ENSMUST00000168900 & 6.272445e-13 & 5.023706e-09 & 71.83944 & 20.21256 & 7 & 7.059538 & 0.8788068 & 0.0019773653 & 0.8768295 & 0.08914646 & 0.8768295\\\\\n",
       "\t7 & ENSMUST00000136299 & 1.374398e-12 & 8.255836e-09 & 70.15534 & 26.36358 & 7 & 8.066746 & 1.1462428 & 0.0004998462 & 1.1457429 & 0.06734164 & 1.1457429\\\\\n",
       "\t8 & ENSMUST00000171066 & 1.212480e-12 & 8.255836e-09 & 70.42464 & 24.01509 & 7 & 9.518412 & 1.0441342 & 0.0001302209 & 1.0440040 & 0.06076378 & 1.0440040\\\\\n",
       "\t9 & ENSMUST00000014892 & 2.382672e-12 & 1.272214e-08 & 68.97237 & 15.94276 & 7 & 6.670008 & 0.6931633 & 0.0027184562 & 0.6904448 & 0.10375566 & 0.6904448\\\\\n",
       "\t10 & ENSMUST00000004949 & 4.088220e-12 & 1.964594e-08 & 67.81014 & 29.05456 & 7 & 5.892552 & 1.2632418 & 0.0066628145 & 1.2565790 & 0.14910365 & 1.2565790\\\\\n",
       "\\end{tabular}\n"
      ],
      "text/markdown": [
       "\n",
       "A data.frame: 10 × 12\n",
       "\n",
       "| <!--/--> | target_id &lt;chr&gt; | pval &lt;dbl&gt; | qval &lt;dbl&gt; | test_stat &lt;dbl&gt; | rss &lt;dbl&gt; | degrees_free &lt;int&gt; | mean_obs &lt;dbl&gt; | var_obs &lt;dbl&gt; | tech_var &lt;dbl&gt; | sigma_sq &lt;dbl&gt; | smooth_sigma_sq &lt;dbl&gt; | final_sigma_sq &lt;dbl&gt; |\n",
       "|---|---|---|---|---|---|---|---|---|---|---|---|---|\n",
       "| 1 | ENSMUST00000029644 | 3.047563e-14 | 1.464506e-09 | 78.30769 | 22.20803 | 7 | 6.862515 | 0.9655665 | 0.0029059542 | 0.9626605 | 0.09593575 | 0.9626605 |\n",
       "| 2 | ENSMUST00000102763 | 1.079232e-13 | 2.593125e-09 | 75.60788 | 16.36757 | 7 | 7.556659 | 0.7116337 | 0.0008762691 | 0.7107574 | 0.07613686 | 0.7107574 |\n",
       "| 3 | ENSMUST00000006451 | 3.690048e-13 | 4.026421e-09 | 72.97684 | 20.41545 | 7 | 7.017841 | 0.8876284 | 0.0033801130 | 0.8842483 | 0.09048501 | 0.8842483 |\n",
       "| 4 | ENSMUST00000078953 | 4.004208e-13 | 4.026421e-09 | 72.80175 | 44.93722 | 7 | 5.188072 | 1.9537923 | 0.0177739637 | 1.9360183 | 0.21619344 | 1.9360183 |\n",
       "| 5 | ENSMUST00000155572 | 4.189388e-13 | 4.026421e-09 | 72.70486 | 16.65296 | 7 | 8.060573 | 0.7240418 | 0.0004519891 | 0.7235898 | 0.06742466 | 0.7235898 |\n",
       "| 6 | ENSMUST00000168900 | 6.272445e-13 | 5.023706e-09 | 71.83944 | 20.21256 | 7 | 7.059538 | 0.8788068 | 0.0019773653 | 0.8768295 | 0.08914646 | 0.8768295 |\n",
       "| 7 | ENSMUST00000136299 | 1.374398e-12 | 8.255836e-09 | 70.15534 | 26.36358 | 7 | 8.066746 | 1.1462428 | 0.0004998462 | 1.1457429 | 0.06734164 | 1.1457429 |\n",
       "| 8 | ENSMUST00000171066 | 1.212480e-12 | 8.255836e-09 | 70.42464 | 24.01509 | 7 | 9.518412 | 1.0441342 | 0.0001302209 | 1.0440040 | 0.06076378 | 1.0440040 |\n",
       "| 9 | ENSMUST00000014892 | 2.382672e-12 | 1.272214e-08 | 68.97237 | 15.94276 | 7 | 6.670008 | 0.6931633 | 0.0027184562 | 0.6904448 | 0.10375566 | 0.6904448 |\n",
       "| 10 | ENSMUST00000004949 | 4.088220e-12 | 1.964594e-08 | 67.81014 | 29.05456 | 7 | 5.892552 | 1.2632418 | 0.0066628145 | 1.2565790 | 0.14910365 | 1.2565790 |\n",
       "\n"
      ],
      "text/plain": [
       "   target_id          pval         qval         test_stat rss      degrees_free\n",
       "1  ENSMUST00000029644 3.047563e-14 1.464506e-09 78.30769  22.20803 7           \n",
       "2  ENSMUST00000102763 1.079232e-13 2.593125e-09 75.60788  16.36757 7           \n",
       "3  ENSMUST00000006451 3.690048e-13 4.026421e-09 72.97684  20.41545 7           \n",
       "4  ENSMUST00000078953 4.004208e-13 4.026421e-09 72.80175  44.93722 7           \n",
       "5  ENSMUST00000155572 4.189388e-13 4.026421e-09 72.70486  16.65296 7           \n",
       "6  ENSMUST00000168900 6.272445e-13 5.023706e-09 71.83944  20.21256 7           \n",
       "7  ENSMUST00000136299 1.374398e-12 8.255836e-09 70.15534  26.36358 7           \n",
       "8  ENSMUST00000171066 1.212480e-12 8.255836e-09 70.42464  24.01509 7           \n",
       "9  ENSMUST00000014892 2.382672e-12 1.272214e-08 68.97237  15.94276 7           \n",
       "10 ENSMUST00000004949 4.088220e-12 1.964594e-08 67.81014  29.05456 7           \n",
       "   mean_obs var_obs   tech_var     sigma_sq  smooth_sigma_sq final_sigma_sq\n",
       "1  6.862515 0.9655665 0.0029059542 0.9626605 0.09593575      0.9626605     \n",
       "2  7.556659 0.7116337 0.0008762691 0.7107574 0.07613686      0.7107574     \n",
       "3  7.017841 0.8876284 0.0033801130 0.8842483 0.09048501      0.8842483     \n",
       "4  5.188072 1.9537923 0.0177739637 1.9360183 0.21619344      1.9360183     \n",
       "5  8.060573 0.7240418 0.0004519891 0.7235898 0.06742466      0.7235898     \n",
       "6  7.059538 0.8788068 0.0019773653 0.8768295 0.08914646      0.8768295     \n",
       "7  8.066746 1.1462428 0.0004998462 1.1457429 0.06734164      1.1457429     \n",
       "8  9.518412 1.0441342 0.0001302209 1.0440040 0.06076378      1.0440040     \n",
       "9  6.670008 0.6931633 0.0027184562 0.6904448 0.10375566      0.6904448     \n",
       "10 5.892552 1.2632418 0.0066628145 1.2565790 0.14910365      1.2565790     "
      ]
     },
     "metadata": {},
     "output_type": "display_data"
    },
    {
     "data": {
      "text/html": [
       "<style>\n",
       ".list-inline {list-style: none; margin:0; padding: 0}\n",
       ".list-inline>li {display: inline-block}\n",
       ".list-inline>li:not(:last-child)::after {content: \"\\00b7\"; padding: 0 .5ex}\n",
       "</style>\n",
       "<ol class=list-inline><li>48055</li><li>12</li></ol>\n"
      ],
      "text/latex": [
       "\\begin{enumerate*}\n",
       "\\item 48055\n",
       "\\item 12\n",
       "\\end{enumerate*}\n"
      ],
      "text/markdown": [
       "1. 48055\n",
       "2. 12\n",
       "\n",
       "\n"
      ],
      "text/plain": [
       "[1] 48055    12"
      ]
     },
     "metadata": {},
     "output_type": "display_data"
    }
   ],
   "source": [
    "head(sleuth_table, 10)\n",
    "dim(sleuth_table)"
   ]
  },
  {
   "cell_type": "code",
   "execution_count": null,
   "id": "f634c69d-93e2-4f88-846c-921a1c76d97d",
   "metadata": {},
   "outputs": [],
   "source": []
  },
  {
   "cell_type": "markdown",
   "id": "28cabf6d-7d14-466b-9bba-014d310e2d2b",
   "metadata": {},
   "source": [
    "# Closer look at kallisto results\n",
    "\n",
    "Might move these analyses into python and do them there"
   ]
  },
  {
   "cell_type": "code",
   "execution_count": 50,
   "id": "5e2ea821-b2de-4960-af16-66931b34ce50",
   "metadata": {},
   "outputs": [],
   "source": [
    "kal <- read.csv('/scratch2/pokorny/elphege-rna-seq/SRP106652-rna-seq/SRR5517523/kallisto/abundance.tsv', sep='\\t')"
   ]
  },
  {
   "cell_type": "code",
   "execution_count": 51,
   "id": "b096e7b3-e3c9-44dd-bb5e-e66a570d9dd5",
   "metadata": {},
   "outputs": [
    {
     "data": {
      "text/html": [
       "<table class=\"dataframe\">\n",
       "<caption>A data.frame: 6 × 5</caption>\n",
       "<thead>\n",
       "\t<tr><th></th><th scope=col>target_id</th><th scope=col>length</th><th scope=col>eff_length</th><th scope=col>est_counts</th><th scope=col>tpm</th></tr>\n",
       "\t<tr><th></th><th scope=col>&lt;fct&gt;</th><th scope=col>&lt;int&gt;</th><th scope=col>&lt;dbl&gt;</th><th scope=col>&lt;dbl&gt;</th><th scope=col>&lt;dbl&gt;</th></tr>\n",
       "</thead>\n",
       "<tbody>\n",
       "\t<tr><th scope=row>1</th><td>ENSMUST00000167991</td><td> 699</td><td> 510.541</td><td>   0.0000</td><td> 0.000000</td></tr>\n",
       "\t<tr><th scope=row>2</th><td>ENSMUST00000003035</td><td>5030</td><td>4841.540</td><td> 184.8700</td><td> 1.373930</td></tr>\n",
       "\t<tr><th scope=row>3</th><td>ENSMUST00000171366</td><td>4683</td><td>4494.540</td><td>  36.1298</td><td> 0.289243</td></tr>\n",
       "\t<tr><th scope=row>4</th><td>ENSMUST00000057062</td><td>3456</td><td>3267.540</td><td> 952.3860</td><td>10.487600</td></tr>\n",
       "\t<tr><th scope=row>5</th><td>ENSMUST00000163528</td><td>2372</td><td>2183.540</td><td> 124.9070</td><td> 2.058300</td></tr>\n",
       "\t<tr><th scope=row>6</th><td>ENSMUST00000109166</td><td>3293</td><td>3104.540</td><td>1214.5900</td><td>14.077200</td></tr>\n",
       "</tbody>\n",
       "</table>\n"
      ],
      "text/latex": [
       "A data.frame: 6 × 5\n",
       "\\begin{tabular}{r|lllll}\n",
       "  & target\\_id & length & eff\\_length & est\\_counts & tpm\\\\\n",
       "  & <fct> & <int> & <dbl> & <dbl> & <dbl>\\\\\n",
       "\\hline\n",
       "\t1 & ENSMUST00000167991 &  699 &  510.541 &    0.0000 &  0.000000\\\\\n",
       "\t2 & ENSMUST00000003035 & 5030 & 4841.540 &  184.8700 &  1.373930\\\\\n",
       "\t3 & ENSMUST00000171366 & 4683 & 4494.540 &   36.1298 &  0.289243\\\\\n",
       "\t4 & ENSMUST00000057062 & 3456 & 3267.540 &  952.3860 & 10.487600\\\\\n",
       "\t5 & ENSMUST00000163528 & 2372 & 2183.540 &  124.9070 &  2.058300\\\\\n",
       "\t6 & ENSMUST00000109166 & 3293 & 3104.540 & 1214.5900 & 14.077200\\\\\n",
       "\\end{tabular}\n"
      ],
      "text/markdown": [
       "\n",
       "A data.frame: 6 × 5\n",
       "\n",
       "| <!--/--> | target_id &lt;fct&gt; | length &lt;int&gt; | eff_length &lt;dbl&gt; | est_counts &lt;dbl&gt; | tpm &lt;dbl&gt; |\n",
       "|---|---|---|---|---|---|\n",
       "| 1 | ENSMUST00000167991 |  699 |  510.541 |    0.0000 |  0.000000 |\n",
       "| 2 | ENSMUST00000003035 | 5030 | 4841.540 |  184.8700 |  1.373930 |\n",
       "| 3 | ENSMUST00000171366 | 4683 | 4494.540 |   36.1298 |  0.289243 |\n",
       "| 4 | ENSMUST00000057062 | 3456 | 3267.540 |  952.3860 | 10.487600 |\n",
       "| 5 | ENSMUST00000163528 | 2372 | 2183.540 |  124.9070 |  2.058300 |\n",
       "| 6 | ENSMUST00000109166 | 3293 | 3104.540 | 1214.5900 | 14.077200 |\n",
       "\n"
      ],
      "text/plain": [
       "  target_id          length eff_length est_counts tpm      \n",
       "1 ENSMUST00000167991  699    510.541      0.0000   0.000000\n",
       "2 ENSMUST00000003035 5030   4841.540    184.8700   1.373930\n",
       "3 ENSMUST00000171366 4683   4494.540     36.1298   0.289243\n",
       "4 ENSMUST00000057062 3456   3267.540    952.3860  10.487600\n",
       "5 ENSMUST00000163528 2372   2183.540    124.9070   2.058300\n",
       "6 ENSMUST00000109166 3293   3104.540   1214.5900  14.077200"
      ]
     },
     "metadata": {},
     "output_type": "display_data"
    }
   ],
   "source": [
    "head(kal)"
   ]
  },
  {
   "cell_type": "code",
   "execution_count": null,
   "id": "738ca671-a055-425a-9595-02eada61dfee",
   "metadata": {},
   "outputs": [],
   "source": []
  }
 ],
 "metadata": {
  "kernelspec": {
   "display_name": "R 4.1.0 sleuth",
   "language": "R",
   "name": "r410"
  },
  "language_info": {
   "codemirror_mode": "r",
   "file_extension": ".r",
   "mimetype": "text/x-r-source",
   "name": "R",
   "pygments_lexer": "r",
   "version": "3.6.1"
  }
 },
 "nbformat": 4,
 "nbformat_minor": 5
}
