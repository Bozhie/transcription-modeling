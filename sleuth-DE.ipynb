{
 "cells": [
  {
   "cell_type": "code",
   "execution_count": 2,
   "id": "5f594b4d-4d58-45e4-a8df-526d04dc7cd0",
   "metadata": {},
   "outputs": [],
   "source": [
    "library(\"sleuth\")"
   ]
  },
  {
   "cell_type": "code",
   "execution_count": 3,
   "id": "aa07490a-95e5-4cec-b8d6-eb9179623ede",
   "metadata": {},
   "outputs": [],
   "source": [
    "suppressMessages({\n",
    "  library(\"sleuth\")\n",
    "})"
   ]
  },
  {
   "cell_type": "code",
   "execution_count": 4,
   "id": "69ab2d73-dd35-416a-950f-9c98d26836cb",
   "metadata": {},
   "outputs": [],
   "source": [
    "elphege_proj_files = \"/project/fudenber_735/GEO/nora_2017_rna-seq_SRP106652\""
   ]
  },
  {
   "cell_type": "code",
   "execution_count": 5,
   "id": "97ca82f2-0a72-4ca0-a257-dd50c5cf4b2c",
   "metadata": {},
   "outputs": [],
   "source": [
    "sample_id <- dir(file.path(elphege_proj_files,\"SRP106652\"))"
   ]
  },
  {
   "cell_type": "code",
   "execution_count": 6,
   "id": "8a8628d8-1458-44c2-a75f-e2f79c0e3362",
   "metadata": {},
   "outputs": [
    {
     "data": {
      "text/html": [
       "<style>\n",
       ".list-inline {list-style: none; margin:0; padding: 0}\n",
       ".list-inline>li {display: inline-block}\n",
       ".list-inline>li:not(:last-child)::after {content: \"\\00b7\"; padding: 0 .5ex}\n",
       "</style>\n",
       "<ol class=list-inline><li>'SRR5517500'</li><li>'SRR5517501'</li><li>'SRR5517502'</li><li>'SRR5517503'</li><li>'SRR5517504'</li><li>'SRR5517505'</li><li>'SRR5517506'</li><li>'SRR5517507'</li><li>'SRR5517508'</li><li>'SRR5517509'</li><li>'SRR5517510'</li><li>'SRR5517511'</li><li>'SRR5517512'</li><li>'SRR5517513'</li><li>'SRR5517514'</li><li>'SRR5517515'</li><li>'SRR5517516'</li><li>'SRR5517517'</li><li>'SRR5517518'</li><li>'SRR5517519'</li><li>'SRR5517520'</li><li>'SRR5517521'</li><li>'SRR5517522'</li><li>'SRR5517523'</li></ol>\n"
      ],
      "text/latex": [
       "\\begin{enumerate*}\n",
       "\\item 'SRR5517500'\n",
       "\\item 'SRR5517501'\n",
       "\\item 'SRR5517502'\n",
       "\\item 'SRR5517503'\n",
       "\\item 'SRR5517504'\n",
       "\\item 'SRR5517505'\n",
       "\\item 'SRR5517506'\n",
       "\\item 'SRR5517507'\n",
       "\\item 'SRR5517508'\n",
       "\\item 'SRR5517509'\n",
       "\\item 'SRR5517510'\n",
       "\\item 'SRR5517511'\n",
       "\\item 'SRR5517512'\n",
       "\\item 'SRR5517513'\n",
       "\\item 'SRR5517514'\n",
       "\\item 'SRR5517515'\n",
       "\\item 'SRR5517516'\n",
       "\\item 'SRR5517517'\n",
       "\\item 'SRR5517518'\n",
       "\\item 'SRR5517519'\n",
       "\\item 'SRR5517520'\n",
       "\\item 'SRR5517521'\n",
       "\\item 'SRR5517522'\n",
       "\\item 'SRR5517523'\n",
       "\\end{enumerate*}\n"
      ],
      "text/markdown": [
       "1. 'SRR5517500'\n",
       "2. 'SRR5517501'\n",
       "3. 'SRR5517502'\n",
       "4. 'SRR5517503'\n",
       "5. 'SRR5517504'\n",
       "6. 'SRR5517505'\n",
       "7. 'SRR5517506'\n",
       "8. 'SRR5517507'\n",
       "9. 'SRR5517508'\n",
       "10. 'SRR5517509'\n",
       "11. 'SRR5517510'\n",
       "12. 'SRR5517511'\n",
       "13. 'SRR5517512'\n",
       "14. 'SRR5517513'\n",
       "15. 'SRR5517514'\n",
       "16. 'SRR5517515'\n",
       "17. 'SRR5517516'\n",
       "18. 'SRR5517517'\n",
       "19. 'SRR5517518'\n",
       "20. 'SRR5517519'\n",
       "21. 'SRR5517520'\n",
       "22. 'SRR5517521'\n",
       "23. 'SRR5517522'\n",
       "24. 'SRR5517523'\n",
       "\n",
       "\n"
      ],
      "text/plain": [
       " [1] \"SRR5517500\" \"SRR5517501\" \"SRR5517502\" \"SRR5517503\" \"SRR5517504\"\n",
       " [6] \"SRR5517505\" \"SRR5517506\" \"SRR5517507\" \"SRR5517508\" \"SRR5517509\"\n",
       "[11] \"SRR5517510\" \"SRR5517511\" \"SRR5517512\" \"SRR5517513\" \"SRR5517514\"\n",
       "[16] \"SRR5517515\" \"SRR5517516\" \"SRR5517517\" \"SRR5517518\" \"SRR5517519\"\n",
       "[21] \"SRR5517520\" \"SRR5517521\" \"SRR5517522\" \"SRR5517523\""
      ]
     },
     "metadata": {},
     "output_type": "display_data"
    }
   ],
   "source": [
    "sample_id"
   ]
  },
  {
   "cell_type": "code",
   "execution_count": 7,
   "id": "780b1044-3ee7-4edb-ad58-38e3bba37618",
   "metadata": {},
   "outputs": [
    {
     "data": {
      "text/html": [
       "<style>\n",
       ".list-inline {list-style: none; margin:0; padding: 0}\n",
       ".list-inline>li {display: inline-block}\n",
       ".list-inline>li:not(:last-child)::after {content: \"\\00b7\"; padding: 0 .5ex}\n",
       "</style>\n",
       "<ol class=list-inline><li>'/project/fudenber_735/GEO/nora_2017_rna-seq_SRP106652/SRP106652/SRR5517500/kallisto-mm9'</li><li>'/project/fudenber_735/GEO/nora_2017_rna-seq_SRP106652/SRP106652/SRR5517501/kallisto-mm9'</li><li>'/project/fudenber_735/GEO/nora_2017_rna-seq_SRP106652/SRP106652/SRR5517502/kallisto-mm9'</li><li>'/project/fudenber_735/GEO/nora_2017_rna-seq_SRP106652/SRP106652/SRR5517503/kallisto-mm9'</li><li>'/project/fudenber_735/GEO/nora_2017_rna-seq_SRP106652/SRP106652/SRR5517504/kallisto-mm9'</li><li>'/project/fudenber_735/GEO/nora_2017_rna-seq_SRP106652/SRP106652/SRR5517505/kallisto-mm9'</li><li>'/project/fudenber_735/GEO/nora_2017_rna-seq_SRP106652/SRP106652/SRR5517506/kallisto-mm9'</li><li>'/project/fudenber_735/GEO/nora_2017_rna-seq_SRP106652/SRP106652/SRR5517507/kallisto-mm9'</li><li>'/project/fudenber_735/GEO/nora_2017_rna-seq_SRP106652/SRP106652/SRR5517508/kallisto-mm9'</li><li>'/project/fudenber_735/GEO/nora_2017_rna-seq_SRP106652/SRP106652/SRR5517509/kallisto-mm9'</li><li>'/project/fudenber_735/GEO/nora_2017_rna-seq_SRP106652/SRP106652/SRR5517510/kallisto-mm9'</li><li>'/project/fudenber_735/GEO/nora_2017_rna-seq_SRP106652/SRP106652/SRR5517511/kallisto-mm9'</li><li>'/project/fudenber_735/GEO/nora_2017_rna-seq_SRP106652/SRP106652/SRR5517512/kallisto-mm9'</li><li>'/project/fudenber_735/GEO/nora_2017_rna-seq_SRP106652/SRP106652/SRR5517513/kallisto-mm9'</li><li>'/project/fudenber_735/GEO/nora_2017_rna-seq_SRP106652/SRP106652/SRR5517514/kallisto-mm9'</li><li>'/project/fudenber_735/GEO/nora_2017_rna-seq_SRP106652/SRP106652/SRR5517515/kallisto-mm9'</li><li>'/project/fudenber_735/GEO/nora_2017_rna-seq_SRP106652/SRP106652/SRR5517516/kallisto-mm9'</li><li>'/project/fudenber_735/GEO/nora_2017_rna-seq_SRP106652/SRP106652/SRR5517517/kallisto-mm9'</li><li>'/project/fudenber_735/GEO/nora_2017_rna-seq_SRP106652/SRP106652/SRR5517518/kallisto-mm9'</li><li>'/project/fudenber_735/GEO/nora_2017_rna-seq_SRP106652/SRP106652/SRR5517519/kallisto-mm9'</li><li>'/project/fudenber_735/GEO/nora_2017_rna-seq_SRP106652/SRP106652/SRR5517520/kallisto-mm9'</li><li>'/project/fudenber_735/GEO/nora_2017_rna-seq_SRP106652/SRP106652/SRR5517521/kallisto-mm9'</li><li>'/project/fudenber_735/GEO/nora_2017_rna-seq_SRP106652/SRP106652/SRR5517522/kallisto-mm9'</li><li>'/project/fudenber_735/GEO/nora_2017_rna-seq_SRP106652/SRP106652/SRR5517523/kallisto-mm9'</li></ol>\n"
      ],
      "text/latex": [
       "\\begin{enumerate*}\n",
       "\\item '/project/fudenber\\_735/GEO/nora\\_2017\\_rna-seq\\_SRP106652/SRP106652/SRR5517500/kallisto-mm9'\n",
       "\\item '/project/fudenber\\_735/GEO/nora\\_2017\\_rna-seq\\_SRP106652/SRP106652/SRR5517501/kallisto-mm9'\n",
       "\\item '/project/fudenber\\_735/GEO/nora\\_2017\\_rna-seq\\_SRP106652/SRP106652/SRR5517502/kallisto-mm9'\n",
       "\\item '/project/fudenber\\_735/GEO/nora\\_2017\\_rna-seq\\_SRP106652/SRP106652/SRR5517503/kallisto-mm9'\n",
       "\\item '/project/fudenber\\_735/GEO/nora\\_2017\\_rna-seq\\_SRP106652/SRP106652/SRR5517504/kallisto-mm9'\n",
       "\\item '/project/fudenber\\_735/GEO/nora\\_2017\\_rna-seq\\_SRP106652/SRP106652/SRR5517505/kallisto-mm9'\n",
       "\\item '/project/fudenber\\_735/GEO/nora\\_2017\\_rna-seq\\_SRP106652/SRP106652/SRR5517506/kallisto-mm9'\n",
       "\\item '/project/fudenber\\_735/GEO/nora\\_2017\\_rna-seq\\_SRP106652/SRP106652/SRR5517507/kallisto-mm9'\n",
       "\\item '/project/fudenber\\_735/GEO/nora\\_2017\\_rna-seq\\_SRP106652/SRP106652/SRR5517508/kallisto-mm9'\n",
       "\\item '/project/fudenber\\_735/GEO/nora\\_2017\\_rna-seq\\_SRP106652/SRP106652/SRR5517509/kallisto-mm9'\n",
       "\\item '/project/fudenber\\_735/GEO/nora\\_2017\\_rna-seq\\_SRP106652/SRP106652/SRR5517510/kallisto-mm9'\n",
       "\\item '/project/fudenber\\_735/GEO/nora\\_2017\\_rna-seq\\_SRP106652/SRP106652/SRR5517511/kallisto-mm9'\n",
       "\\item '/project/fudenber\\_735/GEO/nora\\_2017\\_rna-seq\\_SRP106652/SRP106652/SRR5517512/kallisto-mm9'\n",
       "\\item '/project/fudenber\\_735/GEO/nora\\_2017\\_rna-seq\\_SRP106652/SRP106652/SRR5517513/kallisto-mm9'\n",
       "\\item '/project/fudenber\\_735/GEO/nora\\_2017\\_rna-seq\\_SRP106652/SRP106652/SRR5517514/kallisto-mm9'\n",
       "\\item '/project/fudenber\\_735/GEO/nora\\_2017\\_rna-seq\\_SRP106652/SRP106652/SRR5517515/kallisto-mm9'\n",
       "\\item '/project/fudenber\\_735/GEO/nora\\_2017\\_rna-seq\\_SRP106652/SRP106652/SRR5517516/kallisto-mm9'\n",
       "\\item '/project/fudenber\\_735/GEO/nora\\_2017\\_rna-seq\\_SRP106652/SRP106652/SRR5517517/kallisto-mm9'\n",
       "\\item '/project/fudenber\\_735/GEO/nora\\_2017\\_rna-seq\\_SRP106652/SRP106652/SRR5517518/kallisto-mm9'\n",
       "\\item '/project/fudenber\\_735/GEO/nora\\_2017\\_rna-seq\\_SRP106652/SRP106652/SRR5517519/kallisto-mm9'\n",
       "\\item '/project/fudenber\\_735/GEO/nora\\_2017\\_rna-seq\\_SRP106652/SRP106652/SRR5517520/kallisto-mm9'\n",
       "\\item '/project/fudenber\\_735/GEO/nora\\_2017\\_rna-seq\\_SRP106652/SRP106652/SRR5517521/kallisto-mm9'\n",
       "\\item '/project/fudenber\\_735/GEO/nora\\_2017\\_rna-seq\\_SRP106652/SRP106652/SRR5517522/kallisto-mm9'\n",
       "\\item '/project/fudenber\\_735/GEO/nora\\_2017\\_rna-seq\\_SRP106652/SRP106652/SRR5517523/kallisto-mm9'\n",
       "\\end{enumerate*}\n"
      ],
      "text/markdown": [
       "1. '/project/fudenber_735/GEO/nora_2017_rna-seq_SRP106652/SRP106652/SRR5517500/kallisto-mm9'\n",
       "2. '/project/fudenber_735/GEO/nora_2017_rna-seq_SRP106652/SRP106652/SRR5517501/kallisto-mm9'\n",
       "3. '/project/fudenber_735/GEO/nora_2017_rna-seq_SRP106652/SRP106652/SRR5517502/kallisto-mm9'\n",
       "4. '/project/fudenber_735/GEO/nora_2017_rna-seq_SRP106652/SRP106652/SRR5517503/kallisto-mm9'\n",
       "5. '/project/fudenber_735/GEO/nora_2017_rna-seq_SRP106652/SRP106652/SRR5517504/kallisto-mm9'\n",
       "6. '/project/fudenber_735/GEO/nora_2017_rna-seq_SRP106652/SRP106652/SRR5517505/kallisto-mm9'\n",
       "7. '/project/fudenber_735/GEO/nora_2017_rna-seq_SRP106652/SRP106652/SRR5517506/kallisto-mm9'\n",
       "8. '/project/fudenber_735/GEO/nora_2017_rna-seq_SRP106652/SRP106652/SRR5517507/kallisto-mm9'\n",
       "9. '/project/fudenber_735/GEO/nora_2017_rna-seq_SRP106652/SRP106652/SRR5517508/kallisto-mm9'\n",
       "10. '/project/fudenber_735/GEO/nora_2017_rna-seq_SRP106652/SRP106652/SRR5517509/kallisto-mm9'\n",
       "11. '/project/fudenber_735/GEO/nora_2017_rna-seq_SRP106652/SRP106652/SRR5517510/kallisto-mm9'\n",
       "12. '/project/fudenber_735/GEO/nora_2017_rna-seq_SRP106652/SRP106652/SRR5517511/kallisto-mm9'\n",
       "13. '/project/fudenber_735/GEO/nora_2017_rna-seq_SRP106652/SRP106652/SRR5517512/kallisto-mm9'\n",
       "14. '/project/fudenber_735/GEO/nora_2017_rna-seq_SRP106652/SRP106652/SRR5517513/kallisto-mm9'\n",
       "15. '/project/fudenber_735/GEO/nora_2017_rna-seq_SRP106652/SRP106652/SRR5517514/kallisto-mm9'\n",
       "16. '/project/fudenber_735/GEO/nora_2017_rna-seq_SRP106652/SRP106652/SRR5517515/kallisto-mm9'\n",
       "17. '/project/fudenber_735/GEO/nora_2017_rna-seq_SRP106652/SRP106652/SRR5517516/kallisto-mm9'\n",
       "18. '/project/fudenber_735/GEO/nora_2017_rna-seq_SRP106652/SRP106652/SRR5517517/kallisto-mm9'\n",
       "19. '/project/fudenber_735/GEO/nora_2017_rna-seq_SRP106652/SRP106652/SRR5517518/kallisto-mm9'\n",
       "20. '/project/fudenber_735/GEO/nora_2017_rna-seq_SRP106652/SRP106652/SRR5517519/kallisto-mm9'\n",
       "21. '/project/fudenber_735/GEO/nora_2017_rna-seq_SRP106652/SRP106652/SRR5517520/kallisto-mm9'\n",
       "22. '/project/fudenber_735/GEO/nora_2017_rna-seq_SRP106652/SRP106652/SRR5517521/kallisto-mm9'\n",
       "23. '/project/fudenber_735/GEO/nora_2017_rna-seq_SRP106652/SRP106652/SRR5517522/kallisto-mm9'\n",
       "24. '/project/fudenber_735/GEO/nora_2017_rna-seq_SRP106652/SRP106652/SRR5517523/kallisto-mm9'\n",
       "\n",
       "\n"
      ],
      "text/plain": [
       " [1] \"/project/fudenber_735/GEO/nora_2017_rna-seq_SRP106652/SRP106652/SRR5517500/kallisto-mm9\"\n",
       " [2] \"/project/fudenber_735/GEO/nora_2017_rna-seq_SRP106652/SRP106652/SRR5517501/kallisto-mm9\"\n",
       " [3] \"/project/fudenber_735/GEO/nora_2017_rna-seq_SRP106652/SRP106652/SRR5517502/kallisto-mm9\"\n",
       " [4] \"/project/fudenber_735/GEO/nora_2017_rna-seq_SRP106652/SRP106652/SRR5517503/kallisto-mm9\"\n",
       " [5] \"/project/fudenber_735/GEO/nora_2017_rna-seq_SRP106652/SRP106652/SRR5517504/kallisto-mm9\"\n",
       " [6] \"/project/fudenber_735/GEO/nora_2017_rna-seq_SRP106652/SRP106652/SRR5517505/kallisto-mm9\"\n",
       " [7] \"/project/fudenber_735/GEO/nora_2017_rna-seq_SRP106652/SRP106652/SRR5517506/kallisto-mm9\"\n",
       " [8] \"/project/fudenber_735/GEO/nora_2017_rna-seq_SRP106652/SRP106652/SRR5517507/kallisto-mm9\"\n",
       " [9] \"/project/fudenber_735/GEO/nora_2017_rna-seq_SRP106652/SRP106652/SRR5517508/kallisto-mm9\"\n",
       "[10] \"/project/fudenber_735/GEO/nora_2017_rna-seq_SRP106652/SRP106652/SRR5517509/kallisto-mm9\"\n",
       "[11] \"/project/fudenber_735/GEO/nora_2017_rna-seq_SRP106652/SRP106652/SRR5517510/kallisto-mm9\"\n",
       "[12] \"/project/fudenber_735/GEO/nora_2017_rna-seq_SRP106652/SRP106652/SRR5517511/kallisto-mm9\"\n",
       "[13] \"/project/fudenber_735/GEO/nora_2017_rna-seq_SRP106652/SRP106652/SRR5517512/kallisto-mm9\"\n",
       "[14] \"/project/fudenber_735/GEO/nora_2017_rna-seq_SRP106652/SRP106652/SRR5517513/kallisto-mm9\"\n",
       "[15] \"/project/fudenber_735/GEO/nora_2017_rna-seq_SRP106652/SRP106652/SRR5517514/kallisto-mm9\"\n",
       "[16] \"/project/fudenber_735/GEO/nora_2017_rna-seq_SRP106652/SRP106652/SRR5517515/kallisto-mm9\"\n",
       "[17] \"/project/fudenber_735/GEO/nora_2017_rna-seq_SRP106652/SRP106652/SRR5517516/kallisto-mm9\"\n",
       "[18] \"/project/fudenber_735/GEO/nora_2017_rna-seq_SRP106652/SRP106652/SRR5517517/kallisto-mm9\"\n",
       "[19] \"/project/fudenber_735/GEO/nora_2017_rna-seq_SRP106652/SRP106652/SRR5517518/kallisto-mm9\"\n",
       "[20] \"/project/fudenber_735/GEO/nora_2017_rna-seq_SRP106652/SRP106652/SRR5517519/kallisto-mm9\"\n",
       "[21] \"/project/fudenber_735/GEO/nora_2017_rna-seq_SRP106652/SRP106652/SRR5517520/kallisto-mm9\"\n",
       "[22] \"/project/fudenber_735/GEO/nora_2017_rna-seq_SRP106652/SRP106652/SRR5517521/kallisto-mm9\"\n",
       "[23] \"/project/fudenber_735/GEO/nora_2017_rna-seq_SRP106652/SRP106652/SRR5517522/kallisto-mm9\"\n",
       "[24] \"/project/fudenber_735/GEO/nora_2017_rna-seq_SRP106652/SRP106652/SRR5517523/kallisto-mm9\""
      ]
     },
     "metadata": {},
     "output_type": "display_data"
    }
   ],
   "source": [
    "kal_dirs <- file.path(elphege_proj_files, \"SRP106652\", sample_id, \"kallisto-mm9\")\n",
    "kal_dirs"
   ]
  },
  {
   "cell_type": "markdown",
   "id": "b20816ac-02cc-45f8-a84e-925a19dfa86a",
   "metadata": {},
   "source": [
    "Need to create sleuth constructor object -- matches the experiment files to the conditions"
   ]
  },
  {
   "cell_type": "code",
   "execution_count": 8,
   "id": "bebe7bf1-4f73-4ca1-b259-2bb8b477fba1",
   "metadata": {},
   "outputs": [
    {
     "data": {
      "text/html": [
       "<table class=\"dataframe\">\n",
       "<caption>A data.frame: 5 × 21</caption>\n",
       "<thead>\n",
       "\t<tr><th></th><th scope=col>Experiment.Accession</th><th scope=col>Experiment.Title</th><th scope=col>Organism.Name</th><th scope=col>Instrument</th><th scope=col>Submitter</th><th scope=col>Study.Accession</th><th scope=col>Study.Title</th><th scope=col>Sample.Accession</th><th scope=col>Sample.Title</th><th scope=col>Total.Size..Mb</th><th scope=col>⋯</th><th scope=col>Total.Spots</th><th scope=col>Total.Bases</th><th scope=col>Library.Name</th><th scope=col>Library.Strategy</th><th scope=col>Library.Source</th><th scope=col>Library.Selection</th><th scope=col>1</th><th scope=col>condition</th><th scope=col>3</th><th scope=col>4</th></tr>\n",
       "\t<tr><th></th><th scope=col>&lt;chr&gt;</th><th scope=col>&lt;chr&gt;</th><th scope=col>&lt;chr&gt;</th><th scope=col>&lt;chr&gt;</th><th scope=col>&lt;chr&gt;</th><th scope=col>&lt;chr&gt;</th><th scope=col>&lt;chr&gt;</th><th scope=col>&lt;chr&gt;</th><th scope=col>&lt;lgl&gt;</th><th scope=col>&lt;dbl&gt;</th><th scope=col>⋯</th><th scope=col>&lt;int&gt;</th><th scope=col>&lt;dbl&gt;</th><th scope=col>&lt;lgl&gt;</th><th scope=col>&lt;chr&gt;</th><th scope=col>&lt;chr&gt;</th><th scope=col>&lt;chr&gt;</th><th scope=col>&lt;fct&gt;</th><th scope=col>&lt;chr&gt;</th><th scope=col>&lt;fct&gt;</th><th scope=col>&lt;fct&gt;</th></tr>\n",
       "</thead>\n",
       "<tbody>\n",
       "\t<tr><th scope=row>1</th><td>SRX2790892</td><td>GSM2609232: RNA-seq_WT-untagged_auxin4days_rep3; Mus musculus; RNA-Seq</td><td>Mus musculus</td><td>NextSeq 500</td><td>GEO</td><td>SRP106652</td><td>Targeted degradation of CTCF decouples local insulation of chromosome domains from genomic compartmentalization</td><td>SRS2172370</td><td>NA</td><td>2053.02</td><td>⋯</td><td>37444268</td><td> 5691528736</td><td>NA</td><td>RNA-Seq</td><td>TRANSCRIPTOMIC</td><td>cDNA</td><td>GSM2609232</td><td> RNA-seq_WT-untagged_auxin4days</td><td> Mus musculus</td><td> RNA-Seq</td></tr>\n",
       "\t<tr><th scope=row>2</th><td>SRX2790891</td><td>GSM2609231: RNA-seq_WT-untagged_auxin2days_rep3; Mus musculus; RNA-Seq</td><td>Mus musculus</td><td>NextSeq 500</td><td>GEO</td><td>SRP106652</td><td>Targeted degradation of CTCF decouples local insulation of chromosome domains from genomic compartmentalization</td><td>SRS2172369</td><td>NA</td><td>3252.85</td><td>⋯</td><td>58726186</td><td> 8926380272</td><td>NA</td><td>RNA-Seq</td><td>TRANSCRIPTOMIC</td><td>cDNA</td><td>GSM2609231</td><td> RNA-seq_WT-untagged_auxin2days</td><td> Mus musculus</td><td> RNA-Seq</td></tr>\n",
       "\t<tr><th scope=row>3</th><td>SRX2790890</td><td>GSM2609230: RNA-seq_WT-untagged_untreated_rep3; Mus musculus; RNA-Seq </td><td>Mus musculus</td><td>NextSeq 500</td><td>GEO</td><td>SRP106652</td><td>Targeted degradation of CTCF decouples local insulation of chromosome domains from genomic compartmentalization</td><td>SRS2172368</td><td>NA</td><td>5413.41</td><td>⋯</td><td>98190712</td><td>14924988224</td><td>NA</td><td>RNA-Seq</td><td>TRANSCRIPTOMIC</td><td>cDNA</td><td>GSM2609230</td><td> RNA-seq_WT-untagged_untreated </td><td> Mus musculus</td><td> RNA-Seq</td></tr>\n",
       "\t<tr><th scope=row>4</th><td>SRX2790889</td><td>GSM2609229: RNA-seq_WT-untagged_auxin4days_rep2; Mus musculus; RNA-Seq</td><td>Mus musculus</td><td>NextSeq 500</td><td>GEO</td><td>SRP106652</td><td>Targeted degradation of CTCF decouples local insulation of chromosome domains from genomic compartmentalization</td><td>SRS2172367</td><td>NA</td><td>3291.89</td><td>⋯</td><td>58686036</td><td> 8920277472</td><td>NA</td><td>RNA-Seq</td><td>TRANSCRIPTOMIC</td><td>cDNA</td><td>GSM2609229</td><td> RNA-seq_WT-untagged_auxin4days</td><td> Mus musculus</td><td> RNA-Seq</td></tr>\n",
       "\t<tr><th scope=row>5</th><td>SRX2790888</td><td>GSM2609228: RNA-seq_WT-untagged_auxin2days_rep2; Mus musculus; RNA-Seq</td><td>Mus musculus</td><td>NextSeq 500</td><td>GEO</td><td>SRP106652</td><td>Targeted degradation of CTCF decouples local insulation of chromosome domains from genomic compartmentalization</td><td>SRS2172366</td><td>NA</td><td>2394.52</td><td>⋯</td><td>38024426</td><td> 5779712752</td><td>NA</td><td>RNA-Seq</td><td>TRANSCRIPTOMIC</td><td>cDNA</td><td>GSM2609228</td><td> RNA-seq_WT-untagged_auxin2days</td><td> Mus musculus</td><td> RNA-Seq</td></tr>\n",
       "</tbody>\n",
       "</table>\n"
      ],
      "text/latex": [
       "A data.frame: 5 × 21\n",
       "\\begin{tabular}{r|lllllllllllllllllllll}\n",
       "  & Experiment.Accession & Experiment.Title & Organism.Name & Instrument & Submitter & Study.Accession & Study.Title & Sample.Accession & Sample.Title & Total.Size..Mb & ⋯ & Total.Spots & Total.Bases & Library.Name & Library.Strategy & Library.Source & Library.Selection & 1 & condition & 3 & 4\\\\\n",
       "  & <chr> & <chr> & <chr> & <chr> & <chr> & <chr> & <chr> & <chr> & <lgl> & <dbl> & ⋯ & <int> & <dbl> & <lgl> & <chr> & <chr> & <chr> & <fct> & <chr> & <fct> & <fct>\\\\\n",
       "\\hline\n",
       "\t1 & SRX2790892 & GSM2609232: RNA-seq\\_WT-untagged\\_auxin4days\\_rep3; Mus musculus; RNA-Seq & Mus musculus & NextSeq 500 & GEO & SRP106652 & Targeted degradation of CTCF decouples local insulation of chromosome domains from genomic compartmentalization & SRS2172370 & NA & 2053.02 & ⋯ & 37444268 &  5691528736 & NA & RNA-Seq & TRANSCRIPTOMIC & cDNA & GSM2609232 &  RNA-seq\\_WT-untagged\\_auxin4days &  Mus musculus &  RNA-Seq\\\\\n",
       "\t2 & SRX2790891 & GSM2609231: RNA-seq\\_WT-untagged\\_auxin2days\\_rep3; Mus musculus; RNA-Seq & Mus musculus & NextSeq 500 & GEO & SRP106652 & Targeted degradation of CTCF decouples local insulation of chromosome domains from genomic compartmentalization & SRS2172369 & NA & 3252.85 & ⋯ & 58726186 &  8926380272 & NA & RNA-Seq & TRANSCRIPTOMIC & cDNA & GSM2609231 &  RNA-seq\\_WT-untagged\\_auxin2days &  Mus musculus &  RNA-Seq\\\\\n",
       "\t3 & SRX2790890 & GSM2609230: RNA-seq\\_WT-untagged\\_untreated\\_rep3; Mus musculus; RNA-Seq  & Mus musculus & NextSeq 500 & GEO & SRP106652 & Targeted degradation of CTCF decouples local insulation of chromosome domains from genomic compartmentalization & SRS2172368 & NA & 5413.41 & ⋯ & 98190712 & 14924988224 & NA & RNA-Seq & TRANSCRIPTOMIC & cDNA & GSM2609230 &  RNA-seq\\_WT-untagged\\_untreated  &  Mus musculus &  RNA-Seq\\\\\n",
       "\t4 & SRX2790889 & GSM2609229: RNA-seq\\_WT-untagged\\_auxin4days\\_rep2; Mus musculus; RNA-Seq & Mus musculus & NextSeq 500 & GEO & SRP106652 & Targeted degradation of CTCF decouples local insulation of chromosome domains from genomic compartmentalization & SRS2172367 & NA & 3291.89 & ⋯ & 58686036 &  8920277472 & NA & RNA-Seq & TRANSCRIPTOMIC & cDNA & GSM2609229 &  RNA-seq\\_WT-untagged\\_auxin4days &  Mus musculus &  RNA-Seq\\\\\n",
       "\t5 & SRX2790888 & GSM2609228: RNA-seq\\_WT-untagged\\_auxin2days\\_rep2; Mus musculus; RNA-Seq & Mus musculus & NextSeq 500 & GEO & SRP106652 & Targeted degradation of CTCF decouples local insulation of chromosome domains from genomic compartmentalization & SRS2172366 & NA & 2394.52 & ⋯ & 38024426 &  5779712752 & NA & RNA-Seq & TRANSCRIPTOMIC & cDNA & GSM2609228 &  RNA-seq\\_WT-untagged\\_auxin2days &  Mus musculus &  RNA-Seq\\\\\n",
       "\\end{tabular}\n"
      ],
      "text/markdown": [
       "\n",
       "A data.frame: 5 × 21\n",
       "\n",
       "| <!--/--> | Experiment.Accession &lt;chr&gt; | Experiment.Title &lt;chr&gt; | Organism.Name &lt;chr&gt; | Instrument &lt;chr&gt; | Submitter &lt;chr&gt; | Study.Accession &lt;chr&gt; | Study.Title &lt;chr&gt; | Sample.Accession &lt;chr&gt; | Sample.Title &lt;lgl&gt; | Total.Size..Mb &lt;dbl&gt; | ⋯ ⋯ | Total.Spots &lt;int&gt; | Total.Bases &lt;dbl&gt; | Library.Name &lt;lgl&gt; | Library.Strategy &lt;chr&gt; | Library.Source &lt;chr&gt; | Library.Selection &lt;chr&gt; | 1 &lt;fct&gt; | condition &lt;chr&gt; | 3 &lt;fct&gt; | 4 &lt;fct&gt; |\n",
       "|---|---|---|---|---|---|---|---|---|---|---|---|---|---|---|---|---|---|---|---|---|---|\n",
       "| 1 | SRX2790892 | GSM2609232: RNA-seq_WT-untagged_auxin4days_rep3; Mus musculus; RNA-Seq | Mus musculus | NextSeq 500 | GEO | SRP106652 | Targeted degradation of CTCF decouples local insulation of chromosome domains from genomic compartmentalization | SRS2172370 | NA | 2053.02 | ⋯ | 37444268 |  5691528736 | NA | RNA-Seq | TRANSCRIPTOMIC | cDNA | GSM2609232 |  RNA-seq_WT-untagged_auxin4days |  Mus musculus |  RNA-Seq |\n",
       "| 2 | SRX2790891 | GSM2609231: RNA-seq_WT-untagged_auxin2days_rep3; Mus musculus; RNA-Seq | Mus musculus | NextSeq 500 | GEO | SRP106652 | Targeted degradation of CTCF decouples local insulation of chromosome domains from genomic compartmentalization | SRS2172369 | NA | 3252.85 | ⋯ | 58726186 |  8926380272 | NA | RNA-Seq | TRANSCRIPTOMIC | cDNA | GSM2609231 |  RNA-seq_WT-untagged_auxin2days |  Mus musculus |  RNA-Seq |\n",
       "| 3 | SRX2790890 | GSM2609230: RNA-seq_WT-untagged_untreated_rep3; Mus musculus; RNA-Seq  | Mus musculus | NextSeq 500 | GEO | SRP106652 | Targeted degradation of CTCF decouples local insulation of chromosome domains from genomic compartmentalization | SRS2172368 | NA | 5413.41 | ⋯ | 98190712 | 14924988224 | NA | RNA-Seq | TRANSCRIPTOMIC | cDNA | GSM2609230 |  RNA-seq_WT-untagged_untreated  |  Mus musculus |  RNA-Seq |\n",
       "| 4 | SRX2790889 | GSM2609229: RNA-seq_WT-untagged_auxin4days_rep2; Mus musculus; RNA-Seq | Mus musculus | NextSeq 500 | GEO | SRP106652 | Targeted degradation of CTCF decouples local insulation of chromosome domains from genomic compartmentalization | SRS2172367 | NA | 3291.89 | ⋯ | 58686036 |  8920277472 | NA | RNA-Seq | TRANSCRIPTOMIC | cDNA | GSM2609229 |  RNA-seq_WT-untagged_auxin4days |  Mus musculus |  RNA-Seq |\n",
       "| 5 | SRX2790888 | GSM2609228: RNA-seq_WT-untagged_auxin2days_rep2; Mus musculus; RNA-Seq | Mus musculus | NextSeq 500 | GEO | SRP106652 | Targeted degradation of CTCF decouples local insulation of chromosome domains from genomic compartmentalization | SRS2172366 | NA | 2394.52 | ⋯ | 38024426 |  5779712752 | NA | RNA-Seq | TRANSCRIPTOMIC | cDNA | GSM2609228 |  RNA-seq_WT-untagged_auxin2days |  Mus musculus |  RNA-Seq |\n",
       "\n"
      ],
      "text/plain": [
       "  Experiment.Accession\n",
       "1 SRX2790892          \n",
       "2 SRX2790891          \n",
       "3 SRX2790890          \n",
       "4 SRX2790889          \n",
       "5 SRX2790888          \n",
       "  Experiment.Title                                                      \n",
       "1 GSM2609232: RNA-seq_WT-untagged_auxin4days_rep3; Mus musculus; RNA-Seq\n",
       "2 GSM2609231: RNA-seq_WT-untagged_auxin2days_rep3; Mus musculus; RNA-Seq\n",
       "3 GSM2609230: RNA-seq_WT-untagged_untreated_rep3; Mus musculus; RNA-Seq \n",
       "4 GSM2609229: RNA-seq_WT-untagged_auxin4days_rep2; Mus musculus; RNA-Seq\n",
       "5 GSM2609228: RNA-seq_WT-untagged_auxin2days_rep2; Mus musculus; RNA-Seq\n",
       "  Organism.Name Instrument  Submitter Study.Accession\n",
       "1 Mus musculus  NextSeq 500 GEO       SRP106652      \n",
       "2 Mus musculus  NextSeq 500 GEO       SRP106652      \n",
       "3 Mus musculus  NextSeq 500 GEO       SRP106652      \n",
       "4 Mus musculus  NextSeq 500 GEO       SRP106652      \n",
       "5 Mus musculus  NextSeq 500 GEO       SRP106652      \n",
       "  Study.Title                                                                                                    \n",
       "1 Targeted degradation of CTCF decouples local insulation of chromosome domains from genomic compartmentalization\n",
       "2 Targeted degradation of CTCF decouples local insulation of chromosome domains from genomic compartmentalization\n",
       "3 Targeted degradation of CTCF decouples local insulation of chromosome domains from genomic compartmentalization\n",
       "4 Targeted degradation of CTCF decouples local insulation of chromosome domains from genomic compartmentalization\n",
       "5 Targeted degradation of CTCF decouples local insulation of chromosome domains from genomic compartmentalization\n",
       "  Sample.Accession Sample.Title Total.Size..Mb <U+22EF>   Total.Spots Total.Bases\n",
       "1 SRS2172370       NA           2053.02        <U+22EF> 37444268     5691528736\n",
       "2 SRS2172369       NA           3252.85        <U+22EF> 58726186     8926380272\n",
       "3 SRS2172368       NA           5413.41        <U+22EF> 98190712    14924988224\n",
       "4 SRS2172367       NA           3291.89        <U+22EF> 58686036     8920277472\n",
       "5 SRS2172366       NA           2394.52        <U+22EF> 38024426     5779712752\n",
       "  Library.Name Library.Strategy Library.Source Library.Selection 1         \n",
       "1 NA           RNA-Seq          TRANSCRIPTOMIC cDNA              GSM2609232\n",
       "2 NA           RNA-Seq          TRANSCRIPTOMIC cDNA              GSM2609231\n",
       "3 NA           RNA-Seq          TRANSCRIPTOMIC cDNA              GSM2609230\n",
       "4 NA           RNA-Seq          TRANSCRIPTOMIC cDNA              GSM2609229\n",
       "5 NA           RNA-Seq          TRANSCRIPTOMIC cDNA              GSM2609228\n",
       "  condition                       3             4       \n",
       "1  RNA-seq_WT-untagged_auxin4days  Mus musculus  RNA-Seq\n",
       "2  RNA-seq_WT-untagged_auxin2days  Mus musculus  RNA-Seq\n",
       "3  RNA-seq_WT-untagged_untreated   Mus musculus  RNA-Seq\n",
       "4  RNA-seq_WT-untagged_auxin4days  Mus musculus  RNA-Seq\n",
       "5  RNA-seq_WT-untagged_auxin2days  Mus musculus  RNA-Seq"
      ]
     },
     "metadata": {},
     "output_type": "display_data"
    }
   ],
   "source": [
    "# Getting \"Run\" and \"condition\" from Experiment Name of the SRA deposits\n",
    "\n",
    "sum <- read.table(file.path(elphege_proj_files, \"metadata\", \"sra_result_summary.csv\"), header = TRUE, sep = \",\", stringsAsFactors=FALSE)\n",
    "\n",
    "# Parse experiment name to get 'condition' -- str_split_fixed(string, pattern, n)\n",
    "sum_extended <- cbind(sum,  stringr::str_split_fixed(sum$Experiment.Title, \"[:;]+\", 4))\n",
    "colnames(sum_extended)[19] <- \"condition\"\n",
    "\n",
    "# Removing replicate number so that sleuth can do some grouping\n",
    "sum_extended$condition <- sub(\"_rep[0-4]\", \"\", sum_extended$condition)\n",
    "head(sum_extended, 5)"
   ]
  },
  {
   "cell_type": "code",
   "execution_count": 9,
   "id": "f755a869-9910-41c1-bb5f-80ab50275411",
   "metadata": {},
   "outputs": [
    {
     "data": {
      "text/html": [
       "<table class=\"dataframe\">\n",
       "<caption>A data.frame: 5 × 47</caption>\n",
       "<thead>\n",
       "\t<tr><th></th><th scope=col>Run</th><th scope=col>ReleaseDate</th><th scope=col>LoadDate</th><th scope=col>spots</th><th scope=col>bases</th><th scope=col>spots_with_mates</th><th scope=col>avgLength</th><th scope=col>size_MB</th><th scope=col>AssemblyName</th><th scope=col>download_path</th><th scope=col>⋯</th><th scope=col>Affection_Status</th><th scope=col>Analyte_Type</th><th scope=col>Histological_Type</th><th scope=col>Body_Site</th><th scope=col>CenterName</th><th scope=col>Submission</th><th scope=col>dbgap_study_accession</th><th scope=col>Consent</th><th scope=col>RunHash</th><th scope=col>ReadHash</th></tr>\n",
       "\t<tr><th></th><th scope=col>&lt;chr&gt;</th><th scope=col>&lt;chr&gt;</th><th scope=col>&lt;chr&gt;</th><th scope=col>&lt;int&gt;</th><th scope=col>&lt;dbl&gt;</th><th scope=col>&lt;int&gt;</th><th scope=col>&lt;int&gt;</th><th scope=col>&lt;int&gt;</th><th scope=col>&lt;lgl&gt;</th><th scope=col>&lt;chr&gt;</th><th scope=col>⋯</th><th scope=col>&lt;lgl&gt;</th><th scope=col>&lt;lgl&gt;</th><th scope=col>&lt;lgl&gt;</th><th scope=col>&lt;lgl&gt;</th><th scope=col>&lt;chr&gt;</th><th scope=col>&lt;chr&gt;</th><th scope=col>&lt;lgl&gt;</th><th scope=col>&lt;chr&gt;</th><th scope=col>&lt;chr&gt;</th><th scope=col>&lt;chr&gt;</th></tr>\n",
       "</thead>\n",
       "<tbody>\n",
       "\t<tr><th scope=row>1</th><td>SRR5517500</td><td>2017-05-26 10:16:21</td><td>2017-05-08 17:35:25</td><td>28656716</td><td>4355820832</td><td>28656716</td><td>152</td><td>1603</td><td>NA</td><td>https://sra-downloadb.st-va.ncbi.nlm.nih.gov/sos1/sra-pub-run-8/SRR5517500/SRR5517500.1</td><td>⋯</td><td>NA</td><td>NA</td><td>NA</td><td>NA</td><td>GEO</td><td>SRA560605</td><td>NA</td><td>public</td><td>F81677DDDD471559B2F07AE966817AAF</td><td>7C8A3510A0405D532E497E49E19F67B9</td></tr>\n",
       "\t<tr><th scope=row>2</th><td>SRR5517501</td><td>2017-05-26 10:16:21</td><td>2017-05-08 17:35:57</td><td>30176838</td><td>4586879376</td><td>30176838</td><td>152</td><td>1672</td><td>NA</td><td>https://sra-downloadb.st-va.ncbi.nlm.nih.gov/sos1/sra-pub-run-8/SRR5517501/SRR5517501.1</td><td>⋯</td><td>NA</td><td>NA</td><td>NA</td><td>NA</td><td>GEO</td><td>SRA560605</td><td>NA</td><td>public</td><td>B8469693637BD9B86CA631EDC8C3F149</td><td>850B6F66A9C3670E4D7A9D42ECEA8FDE</td></tr>\n",
       "\t<tr><th scope=row>3</th><td>SRR5517502</td><td>2017-05-26 10:16:21</td><td>2017-05-08 17:55:26</td><td>41274152</td><td>6273671104</td><td>41274152</td><td>152</td><td>2310</td><td>NA</td><td>https://sra-downloadb.st-va.ncbi.nlm.nih.gov/sos1/sra-pub-run-8/SRR5517502/SRR5517502.1</td><td>⋯</td><td>NA</td><td>NA</td><td>NA</td><td>NA</td><td>GEO</td><td>SRA560605</td><td>NA</td><td>public</td><td>1EAA03FB52CABD86B77EDC88F938701C</td><td>AE5EA653D9F5031ABE66E27ABAEC2773</td></tr>\n",
       "\t<tr><th scope=row>4</th><td>SRR5517503</td><td>2017-05-26 10:16:21</td><td>2017-05-08 17:39:08</td><td>28848858</td><td>4385026416</td><td>28848858</td><td>152</td><td>1603</td><td>NA</td><td>https://sra-downloadb.st-va.ncbi.nlm.nih.gov/sos1/sra-pub-run-8/SRR5517503/SRR5517503.1</td><td>⋯</td><td>NA</td><td>NA</td><td>NA</td><td>NA</td><td>GEO</td><td>SRA560605</td><td>NA</td><td>public</td><td>EC245424F964BB5621856DA6FCFB0ED2</td><td>264A772C22561DD1B389FC115F2767ED</td></tr>\n",
       "\t<tr><th scope=row>5</th><td>SRR5517504</td><td>2017-05-26 10:16:21</td><td>2017-05-08 17:36:17</td><td>28605084</td><td>4347972768</td><td>28605084</td><td>152</td><td>1589</td><td>NA</td><td>https://sra-downloadb.st-va.ncbi.nlm.nih.gov/sos1/sra-pub-run-8/SRR5517504/SRR5517504.1</td><td>⋯</td><td>NA</td><td>NA</td><td>NA</td><td>NA</td><td>GEO</td><td>SRA560605</td><td>NA</td><td>public</td><td>238EDD94BDDEDACD0D2D51FAF7FE86AD</td><td>E9D992BB7AA74585B2AE37AF7953ED12</td></tr>\n",
       "</tbody>\n",
       "</table>\n"
      ],
      "text/latex": [
       "A data.frame: 5 × 47\n",
       "\\begin{tabular}{r|lllllllllllllllllllll}\n",
       "  & Run & ReleaseDate & LoadDate & spots & bases & spots\\_with\\_mates & avgLength & size\\_MB & AssemblyName & download\\_path & ⋯ & Affection\\_Status & Analyte\\_Type & Histological\\_Type & Body\\_Site & CenterName & Submission & dbgap\\_study\\_accession & Consent & RunHash & ReadHash\\\\\n",
       "  & <chr> & <chr> & <chr> & <int> & <dbl> & <int> & <int> & <int> & <lgl> & <chr> & ⋯ & <lgl> & <lgl> & <lgl> & <lgl> & <chr> & <chr> & <lgl> & <chr> & <chr> & <chr>\\\\\n",
       "\\hline\n",
       "\t1 & SRR5517500 & 2017-05-26 10:16:21 & 2017-05-08 17:35:25 & 28656716 & 4355820832 & 28656716 & 152 & 1603 & NA & https://sra-downloadb.st-va.ncbi.nlm.nih.gov/sos1/sra-pub-run-8/SRR5517500/SRR5517500.1 & ⋯ & NA & NA & NA & NA & GEO & SRA560605 & NA & public & F81677DDDD471559B2F07AE966817AAF & 7C8A3510A0405D532E497E49E19F67B9\\\\\n",
       "\t2 & SRR5517501 & 2017-05-26 10:16:21 & 2017-05-08 17:35:57 & 30176838 & 4586879376 & 30176838 & 152 & 1672 & NA & https://sra-downloadb.st-va.ncbi.nlm.nih.gov/sos1/sra-pub-run-8/SRR5517501/SRR5517501.1 & ⋯ & NA & NA & NA & NA & GEO & SRA560605 & NA & public & B8469693637BD9B86CA631EDC8C3F149 & 850B6F66A9C3670E4D7A9D42ECEA8FDE\\\\\n",
       "\t3 & SRR5517502 & 2017-05-26 10:16:21 & 2017-05-08 17:55:26 & 41274152 & 6273671104 & 41274152 & 152 & 2310 & NA & https://sra-downloadb.st-va.ncbi.nlm.nih.gov/sos1/sra-pub-run-8/SRR5517502/SRR5517502.1 & ⋯ & NA & NA & NA & NA & GEO & SRA560605 & NA & public & 1EAA03FB52CABD86B77EDC88F938701C & AE5EA653D9F5031ABE66E27ABAEC2773\\\\\n",
       "\t4 & SRR5517503 & 2017-05-26 10:16:21 & 2017-05-08 17:39:08 & 28848858 & 4385026416 & 28848858 & 152 & 1603 & NA & https://sra-downloadb.st-va.ncbi.nlm.nih.gov/sos1/sra-pub-run-8/SRR5517503/SRR5517503.1 & ⋯ & NA & NA & NA & NA & GEO & SRA560605 & NA & public & EC245424F964BB5621856DA6FCFB0ED2 & 264A772C22561DD1B389FC115F2767ED\\\\\n",
       "\t5 & SRR5517504 & 2017-05-26 10:16:21 & 2017-05-08 17:36:17 & 28605084 & 4347972768 & 28605084 & 152 & 1589 & NA & https://sra-downloadb.st-va.ncbi.nlm.nih.gov/sos1/sra-pub-run-8/SRR5517504/SRR5517504.1 & ⋯ & NA & NA & NA & NA & GEO & SRA560605 & NA & public & 238EDD94BDDEDACD0D2D51FAF7FE86AD & E9D992BB7AA74585B2AE37AF7953ED12\\\\\n",
       "\\end{tabular}\n"
      ],
      "text/markdown": [
       "\n",
       "A data.frame: 5 × 47\n",
       "\n",
       "| <!--/--> | Run &lt;chr&gt; | ReleaseDate &lt;chr&gt; | LoadDate &lt;chr&gt; | spots &lt;int&gt; | bases &lt;dbl&gt; | spots_with_mates &lt;int&gt; | avgLength &lt;int&gt; | size_MB &lt;int&gt; | AssemblyName &lt;lgl&gt; | download_path &lt;chr&gt; | ⋯ ⋯ | Affection_Status &lt;lgl&gt; | Analyte_Type &lt;lgl&gt; | Histological_Type &lt;lgl&gt; | Body_Site &lt;lgl&gt; | CenterName &lt;chr&gt; | Submission &lt;chr&gt; | dbgap_study_accession &lt;lgl&gt; | Consent &lt;chr&gt; | RunHash &lt;chr&gt; | ReadHash &lt;chr&gt; |\n",
       "|---|---|---|---|---|---|---|---|---|---|---|---|---|---|---|---|---|---|---|---|---|---|\n",
       "| 1 | SRR5517500 | 2017-05-26 10:16:21 | 2017-05-08 17:35:25 | 28656716 | 4355820832 | 28656716 | 152 | 1603 | NA | https://sra-downloadb.st-va.ncbi.nlm.nih.gov/sos1/sra-pub-run-8/SRR5517500/SRR5517500.1 | ⋯ | NA | NA | NA | NA | GEO | SRA560605 | NA | public | F81677DDDD471559B2F07AE966817AAF | 7C8A3510A0405D532E497E49E19F67B9 |\n",
       "| 2 | SRR5517501 | 2017-05-26 10:16:21 | 2017-05-08 17:35:57 | 30176838 | 4586879376 | 30176838 | 152 | 1672 | NA | https://sra-downloadb.st-va.ncbi.nlm.nih.gov/sos1/sra-pub-run-8/SRR5517501/SRR5517501.1 | ⋯ | NA | NA | NA | NA | GEO | SRA560605 | NA | public | B8469693637BD9B86CA631EDC8C3F149 | 850B6F66A9C3670E4D7A9D42ECEA8FDE |\n",
       "| 3 | SRR5517502 | 2017-05-26 10:16:21 | 2017-05-08 17:55:26 | 41274152 | 6273671104 | 41274152 | 152 | 2310 | NA | https://sra-downloadb.st-va.ncbi.nlm.nih.gov/sos1/sra-pub-run-8/SRR5517502/SRR5517502.1 | ⋯ | NA | NA | NA | NA | GEO | SRA560605 | NA | public | 1EAA03FB52CABD86B77EDC88F938701C | AE5EA653D9F5031ABE66E27ABAEC2773 |\n",
       "| 4 | SRR5517503 | 2017-05-26 10:16:21 | 2017-05-08 17:39:08 | 28848858 | 4385026416 | 28848858 | 152 | 1603 | NA | https://sra-downloadb.st-va.ncbi.nlm.nih.gov/sos1/sra-pub-run-8/SRR5517503/SRR5517503.1 | ⋯ | NA | NA | NA | NA | GEO | SRA560605 | NA | public | EC245424F964BB5621856DA6FCFB0ED2 | 264A772C22561DD1B389FC115F2767ED |\n",
       "| 5 | SRR5517504 | 2017-05-26 10:16:21 | 2017-05-08 17:36:17 | 28605084 | 4347972768 | 28605084 | 152 | 1589 | NA | https://sra-downloadb.st-va.ncbi.nlm.nih.gov/sos1/sra-pub-run-8/SRR5517504/SRR5517504.1 | ⋯ | NA | NA | NA | NA | GEO | SRA560605 | NA | public | 238EDD94BDDEDACD0D2D51FAF7FE86AD | E9D992BB7AA74585B2AE37AF7953ED12 |\n",
       "\n"
      ],
      "text/plain": [
       "  Run        ReleaseDate         LoadDate            spots    bases     \n",
       "1 SRR5517500 2017-05-26 10:16:21 2017-05-08 17:35:25 28656716 4355820832\n",
       "2 SRR5517501 2017-05-26 10:16:21 2017-05-08 17:35:57 30176838 4586879376\n",
       "3 SRR5517502 2017-05-26 10:16:21 2017-05-08 17:55:26 41274152 6273671104\n",
       "4 SRR5517503 2017-05-26 10:16:21 2017-05-08 17:39:08 28848858 4385026416\n",
       "5 SRR5517504 2017-05-26 10:16:21 2017-05-08 17:36:17 28605084 4347972768\n",
       "  spots_with_mates avgLength size_MB AssemblyName\n",
       "1 28656716         152       1603    NA          \n",
       "2 30176838         152       1672    NA          \n",
       "3 41274152         152       2310    NA          \n",
       "4 28848858         152       1603    NA          \n",
       "5 28605084         152       1589    NA          \n",
       "  download_path                                                                          \n",
       "1 https://sra-downloadb.st-va.ncbi.nlm.nih.gov/sos1/sra-pub-run-8/SRR5517500/SRR5517500.1\n",
       "2 https://sra-downloadb.st-va.ncbi.nlm.nih.gov/sos1/sra-pub-run-8/SRR5517501/SRR5517501.1\n",
       "3 https://sra-downloadb.st-va.ncbi.nlm.nih.gov/sos1/sra-pub-run-8/SRR5517502/SRR5517502.1\n",
       "4 https://sra-downloadb.st-va.ncbi.nlm.nih.gov/sos1/sra-pub-run-8/SRR5517503/SRR5517503.1\n",
       "5 https://sra-downloadb.st-va.ncbi.nlm.nih.gov/sos1/sra-pub-run-8/SRR5517504/SRR5517504.1\n",
       "  <U+22EF>   Affection_Status Analyte_Type Histological_Type Body_Site CenterName\n",
       "1 <U+22EF> NA               NA           NA                NA        GEO       \n",
       "2 <U+22EF> NA               NA           NA                NA        GEO       \n",
       "3 <U+22EF> NA               NA           NA                NA        GEO       \n",
       "4 <U+22EF> NA               NA           NA                NA        GEO       \n",
       "5 <U+22EF> NA               NA           NA                NA        GEO       \n",
       "  Submission dbgap_study_accession Consent RunHash                         \n",
       "1 SRA560605  NA                    public  F81677DDDD471559B2F07AE966817AAF\n",
       "2 SRA560605  NA                    public  B8469693637BD9B86CA631EDC8C3F149\n",
       "3 SRA560605  NA                    public  1EAA03FB52CABD86B77EDC88F938701C\n",
       "4 SRA560605  NA                    public  EC245424F964BB5621856DA6FCFB0ED2\n",
       "5 SRA560605  NA                    public  238EDD94BDDEDACD0D2D51FAF7FE86AD\n",
       "  ReadHash                        \n",
       "1 7C8A3510A0405D532E497E49E19F67B9\n",
       "2 850B6F66A9C3670E4D7A9D42ECEA8FDE\n",
       "3 AE5EA653D9F5031ABE66E27ABAEC2773\n",
       "4 264A772C22561DD1B389FC115F2767ED\n",
       "5 E9D992BB7AA74585B2AE37AF7953ED12"
      ]
     },
     "metadata": {},
     "output_type": "display_data"
    }
   ],
   "source": [
    "runInfo <- read.table(file.path(elphege_proj_files, \"metadata\", \"SraRunInfo.csv\"), header = TRUE, sep = \",\", stringsAsFactors=FALSE)\n",
    "head(runInfo, 5)"
   ]
  },
  {
   "cell_type": "code",
   "execution_count": 10,
   "id": "27a1fb19-6741-41d5-89a5-6760ed9da04d",
   "metadata": {},
   "outputs": [
    {
     "name": "stderr",
     "output_type": "stream",
     "text": [
      "\n",
      "Attaching package: 'dplyr'\n",
      "\n",
      "\n",
      "The following objects are masked from 'package:stats':\n",
      "\n",
      "    filter, lag\n",
      "\n",
      "\n",
      "The following objects are masked from 'package:base':\n",
      "\n",
      "    intersect, setdiff, setequal, union\n",
      "\n",
      "\n"
     ]
    },
    {
     "data": {
      "text/html": [
       "<table class=\"dataframe\">\n",
       "<caption>A data.frame: 24 × 2</caption>\n",
       "<thead>\n",
       "\t<tr><th scope=col>sample</th><th scope=col>condition</th></tr>\n",
       "\t<tr><th scope=col>&lt;chr&gt;</th><th scope=col>&lt;chr&gt;</th></tr>\n",
       "</thead>\n",
       "<tbody>\n",
       "\t<tr><td>SRR5517500</td><td>RNA-seq_CTCF-AID_untreated    </td></tr>\n",
       "\t<tr><td>SRR5517501</td><td>RNA-seq_CTCF-AID_auxin1day    </td></tr>\n",
       "\t<tr><td>SRR5517502</td><td>RNA-seq_CTCF-AID_auxin2days   </td></tr>\n",
       "\t<tr><td>SRR5517503</td><td>RNA-seq_CTCF-AID_auxin4days   </td></tr>\n",
       "\t<tr><td>SRR5517504</td><td>RNA-seq_CTCF-AID_washoff2days </td></tr>\n",
       "\t<tr><td>SRR5517505</td><td>RNA-seq_CTCF-AID_untreated    </td></tr>\n",
       "\t<tr><td>SRR5517506</td><td>RNA-seq_CTCF-AID_auxin1day    </td></tr>\n",
       "\t<tr><td>SRR5517507</td><td>RNA-seq_CTCF-AID_auxin2days   </td></tr>\n",
       "\t<tr><td>SRR5517508</td><td>RNA-seq_CTCF-AID_auxin4days   </td></tr>\n",
       "\t<tr><td>SRR5517509</td><td>RNA-seq_CTCF-AID_washoff2days </td></tr>\n",
       "\t<tr><td>SRR5517510</td><td>RNA-seq_CTCF-AID_untreated    </td></tr>\n",
       "\t<tr><td>SRR5517511</td><td>RNA-seq_CTCF-AID_auxin1day    </td></tr>\n",
       "\t<tr><td>SRR5517512</td><td>RNA-seq_CTCF-AID_auxin2days   </td></tr>\n",
       "\t<tr><td>SRR5517513</td><td>RNA-seq_CTCF-AID_auxin4days   </td></tr>\n",
       "\t<tr><td>SRR5517514</td><td>RNA-seq_CTCF-AID_washoff2days </td></tr>\n",
       "\t<tr><td>SRR5517515</td><td>RNA-seq_WT-untagged_untreated </td></tr>\n",
       "\t<tr><td>SRR5517516</td><td>RNA-seq_WT-untagged_auxin2days</td></tr>\n",
       "\t<tr><td>SRR5517517</td><td>RNA-seq_WT-untagged_auxin4days</td></tr>\n",
       "\t<tr><td>SRR5517518</td><td>RNA-seq_WT-untagged_untreated </td></tr>\n",
       "\t<tr><td>SRR5517519</td><td>RNA-seq_WT-untagged_auxin2days</td></tr>\n",
       "\t<tr><td>SRR5517520</td><td>RNA-seq_WT-untagged_auxin4days</td></tr>\n",
       "\t<tr><td>SRR5517521</td><td>RNA-seq_WT-untagged_untreated </td></tr>\n",
       "\t<tr><td>SRR5517522</td><td>RNA-seq_WT-untagged_auxin2days</td></tr>\n",
       "\t<tr><td>SRR5517523</td><td>RNA-seq_WT-untagged_auxin4days</td></tr>\n",
       "</tbody>\n",
       "</table>\n"
      ],
      "text/latex": [
       "A data.frame: 24 × 2\n",
       "\\begin{tabular}{ll}\n",
       " sample & condition\\\\\n",
       " <chr> & <chr>\\\\\n",
       "\\hline\n",
       "\t SRR5517500 & RNA-seq\\_CTCF-AID\\_untreated    \\\\\n",
       "\t SRR5517501 & RNA-seq\\_CTCF-AID\\_auxin1day    \\\\\n",
       "\t SRR5517502 & RNA-seq\\_CTCF-AID\\_auxin2days   \\\\\n",
       "\t SRR5517503 & RNA-seq\\_CTCF-AID\\_auxin4days   \\\\\n",
       "\t SRR5517504 & RNA-seq\\_CTCF-AID\\_washoff2days \\\\\n",
       "\t SRR5517505 & RNA-seq\\_CTCF-AID\\_untreated    \\\\\n",
       "\t SRR5517506 & RNA-seq\\_CTCF-AID\\_auxin1day    \\\\\n",
       "\t SRR5517507 & RNA-seq\\_CTCF-AID\\_auxin2days   \\\\\n",
       "\t SRR5517508 & RNA-seq\\_CTCF-AID\\_auxin4days   \\\\\n",
       "\t SRR5517509 & RNA-seq\\_CTCF-AID\\_washoff2days \\\\\n",
       "\t SRR5517510 & RNA-seq\\_CTCF-AID\\_untreated    \\\\\n",
       "\t SRR5517511 & RNA-seq\\_CTCF-AID\\_auxin1day    \\\\\n",
       "\t SRR5517512 & RNA-seq\\_CTCF-AID\\_auxin2days   \\\\\n",
       "\t SRR5517513 & RNA-seq\\_CTCF-AID\\_auxin4days   \\\\\n",
       "\t SRR5517514 & RNA-seq\\_CTCF-AID\\_washoff2days \\\\\n",
       "\t SRR5517515 & RNA-seq\\_WT-untagged\\_untreated \\\\\n",
       "\t SRR5517516 & RNA-seq\\_WT-untagged\\_auxin2days\\\\\n",
       "\t SRR5517517 & RNA-seq\\_WT-untagged\\_auxin4days\\\\\n",
       "\t SRR5517518 & RNA-seq\\_WT-untagged\\_untreated \\\\\n",
       "\t SRR5517519 & RNA-seq\\_WT-untagged\\_auxin2days\\\\\n",
       "\t SRR5517520 & RNA-seq\\_WT-untagged\\_auxin4days\\\\\n",
       "\t SRR5517521 & RNA-seq\\_WT-untagged\\_untreated \\\\\n",
       "\t SRR5517522 & RNA-seq\\_WT-untagged\\_auxin2days\\\\\n",
       "\t SRR5517523 & RNA-seq\\_WT-untagged\\_auxin4days\\\\\n",
       "\\end{tabular}\n"
      ],
      "text/markdown": [
       "\n",
       "A data.frame: 24 × 2\n",
       "\n",
       "| sample &lt;chr&gt; | condition &lt;chr&gt; |\n",
       "|---|---|\n",
       "| SRR5517500 | RNA-seq_CTCF-AID_untreated     |\n",
       "| SRR5517501 | RNA-seq_CTCF-AID_auxin1day     |\n",
       "| SRR5517502 | RNA-seq_CTCF-AID_auxin2days    |\n",
       "| SRR5517503 | RNA-seq_CTCF-AID_auxin4days    |\n",
       "| SRR5517504 | RNA-seq_CTCF-AID_washoff2days  |\n",
       "| SRR5517505 | RNA-seq_CTCF-AID_untreated     |\n",
       "| SRR5517506 | RNA-seq_CTCF-AID_auxin1day     |\n",
       "| SRR5517507 | RNA-seq_CTCF-AID_auxin2days    |\n",
       "| SRR5517508 | RNA-seq_CTCF-AID_auxin4days    |\n",
       "| SRR5517509 | RNA-seq_CTCF-AID_washoff2days  |\n",
       "| SRR5517510 | RNA-seq_CTCF-AID_untreated     |\n",
       "| SRR5517511 | RNA-seq_CTCF-AID_auxin1day     |\n",
       "| SRR5517512 | RNA-seq_CTCF-AID_auxin2days    |\n",
       "| SRR5517513 | RNA-seq_CTCF-AID_auxin4days    |\n",
       "| SRR5517514 | RNA-seq_CTCF-AID_washoff2days  |\n",
       "| SRR5517515 | RNA-seq_WT-untagged_untreated  |\n",
       "| SRR5517516 | RNA-seq_WT-untagged_auxin2days |\n",
       "| SRR5517517 | RNA-seq_WT-untagged_auxin4days |\n",
       "| SRR5517518 | RNA-seq_WT-untagged_untreated  |\n",
       "| SRR5517519 | RNA-seq_WT-untagged_auxin2days |\n",
       "| SRR5517520 | RNA-seq_WT-untagged_auxin4days |\n",
       "| SRR5517521 | RNA-seq_WT-untagged_untreated  |\n",
       "| SRR5517522 | RNA-seq_WT-untagged_auxin2days |\n",
       "| SRR5517523 | RNA-seq_WT-untagged_auxin4days |\n",
       "\n"
      ],
      "text/plain": [
       "   sample     condition                     \n",
       "1  SRR5517500 RNA-seq_CTCF-AID_untreated    \n",
       "2  SRR5517501 RNA-seq_CTCF-AID_auxin1day    \n",
       "3  SRR5517502 RNA-seq_CTCF-AID_auxin2days   \n",
       "4  SRR5517503 RNA-seq_CTCF-AID_auxin4days   \n",
       "5  SRR5517504 RNA-seq_CTCF-AID_washoff2days \n",
       "6  SRR5517505 RNA-seq_CTCF-AID_untreated    \n",
       "7  SRR5517506 RNA-seq_CTCF-AID_auxin1day    \n",
       "8  SRR5517507 RNA-seq_CTCF-AID_auxin2days   \n",
       "9  SRR5517508 RNA-seq_CTCF-AID_auxin4days   \n",
       "10 SRR5517509 RNA-seq_CTCF-AID_washoff2days \n",
       "11 SRR5517510 RNA-seq_CTCF-AID_untreated    \n",
       "12 SRR5517511 RNA-seq_CTCF-AID_auxin1day    \n",
       "13 SRR5517512 RNA-seq_CTCF-AID_auxin2days   \n",
       "14 SRR5517513 RNA-seq_CTCF-AID_auxin4days   \n",
       "15 SRR5517514 RNA-seq_CTCF-AID_washoff2days \n",
       "16 SRR5517515 RNA-seq_WT-untagged_untreated \n",
       "17 SRR5517516 RNA-seq_WT-untagged_auxin2days\n",
       "18 SRR5517517 RNA-seq_WT-untagged_auxin4days\n",
       "19 SRR5517518 RNA-seq_WT-untagged_untreated \n",
       "20 SRR5517519 RNA-seq_WT-untagged_auxin2days\n",
       "21 SRR5517520 RNA-seq_WT-untagged_auxin4days\n",
       "22 SRR5517521 RNA-seq_WT-untagged_untreated \n",
       "23 SRR5517522 RNA-seq_WT-untagged_auxin2days\n",
       "24 SRR5517523 RNA-seq_WT-untagged_auxin4days"
      ]
     },
     "metadata": {},
     "output_type": "display_data"
    },
    {
     "data": {
      "text/html": [
       "<table class=\"dataframe\">\n",
       "<caption>A data.frame: 24 × 2</caption>\n",
       "<thead>\n",
       "\t<tr><th scope=col>sample</th><th scope=col>condition</th></tr>\n",
       "\t<tr><th scope=col>&lt;chr&gt;</th><th scope=col>&lt;chr&gt;</th></tr>\n",
       "</thead>\n",
       "<tbody>\n",
       "\t<tr><td>SRR5517500</td><td> RNA-seq_CTCF-AID_untreated    </td></tr>\n",
       "\t<tr><td>SRR5517501</td><td> RNA-seq_CTCF-AID_auxin1day    </td></tr>\n",
       "\t<tr><td>SRR5517502</td><td> RNA-seq_CTCF-AID_auxin2days   </td></tr>\n",
       "\t<tr><td>SRR5517503</td><td> RNA-seq_CTCF-AID_auxin4days   </td></tr>\n",
       "\t<tr><td>SRR5517504</td><td> RNA-seq_CTCF-AID_washoff2days </td></tr>\n",
       "\t<tr><td>SRR5517505</td><td> RNA-seq_CTCF-AID_untreated    </td></tr>\n",
       "\t<tr><td>SRR5517506</td><td> RNA-seq_CTCF-AID_auxin1day    </td></tr>\n",
       "\t<tr><td>SRR5517507</td><td> RNA-seq_CTCF-AID_auxin2days   </td></tr>\n",
       "\t<tr><td>SRR5517508</td><td> RNA-seq_CTCF-AID_auxin4days   </td></tr>\n",
       "\t<tr><td>SRR5517509</td><td> RNA-seq_CTCF-AID_washoff2days </td></tr>\n",
       "\t<tr><td>SRR5517510</td><td> RNA-seq_CTCF-AID_untreated    </td></tr>\n",
       "\t<tr><td>SRR5517511</td><td> RNA-seq_CTCF-AID_auxin1day    </td></tr>\n",
       "\t<tr><td>SRR5517512</td><td> RNA-seq_CTCF-AID_auxin2days   </td></tr>\n",
       "\t<tr><td>SRR5517513</td><td> RNA-seq_CTCF-AID_auxin4days   </td></tr>\n",
       "\t<tr><td>SRR5517514</td><td> RNA-seq_CTCF-AID_washoff2days </td></tr>\n",
       "\t<tr><td>SRR5517515</td><td> RNA-seq_WT-untagged_untreated </td></tr>\n",
       "\t<tr><td>SRR5517516</td><td> RNA-seq_WT-untagged_auxin2days</td></tr>\n",
       "\t<tr><td>SRR5517517</td><td> RNA-seq_WT-untagged_auxin4days</td></tr>\n",
       "\t<tr><td>SRR5517518</td><td> RNA-seq_WT-untagged_untreated </td></tr>\n",
       "\t<tr><td>SRR5517519</td><td> RNA-seq_WT-untagged_auxin2days</td></tr>\n",
       "\t<tr><td>SRR5517520</td><td> RNA-seq_WT-untagged_auxin4days</td></tr>\n",
       "\t<tr><td>SRR5517521</td><td> RNA-seq_WT-untagged_untreated </td></tr>\n",
       "\t<tr><td>SRR5517522</td><td> RNA-seq_WT-untagged_auxin2days</td></tr>\n",
       "\t<tr><td>SRR5517523</td><td> RNA-seq_WT-untagged_auxin4days</td></tr>\n",
       "</tbody>\n",
       "</table>\n"
      ],
      "text/latex": [
       "A data.frame: 24 × 2\n",
       "\\begin{tabular}{ll}\n",
       " sample & condition\\\\\n",
       " <chr> & <chr>\\\\\n",
       "\\hline\n",
       "\t SRR5517500 &  RNA-seq\\_CTCF-AID\\_untreated    \\\\\n",
       "\t SRR5517501 &  RNA-seq\\_CTCF-AID\\_auxin1day    \\\\\n",
       "\t SRR5517502 &  RNA-seq\\_CTCF-AID\\_auxin2days   \\\\\n",
       "\t SRR5517503 &  RNA-seq\\_CTCF-AID\\_auxin4days   \\\\\n",
       "\t SRR5517504 &  RNA-seq\\_CTCF-AID\\_washoff2days \\\\\n",
       "\t SRR5517505 &  RNA-seq\\_CTCF-AID\\_untreated    \\\\\n",
       "\t SRR5517506 &  RNA-seq\\_CTCF-AID\\_auxin1day    \\\\\n",
       "\t SRR5517507 &  RNA-seq\\_CTCF-AID\\_auxin2days   \\\\\n",
       "\t SRR5517508 &  RNA-seq\\_CTCF-AID\\_auxin4days   \\\\\n",
       "\t SRR5517509 &  RNA-seq\\_CTCF-AID\\_washoff2days \\\\\n",
       "\t SRR5517510 &  RNA-seq\\_CTCF-AID\\_untreated    \\\\\n",
       "\t SRR5517511 &  RNA-seq\\_CTCF-AID\\_auxin1day    \\\\\n",
       "\t SRR5517512 &  RNA-seq\\_CTCF-AID\\_auxin2days   \\\\\n",
       "\t SRR5517513 &  RNA-seq\\_CTCF-AID\\_auxin4days   \\\\\n",
       "\t SRR5517514 &  RNA-seq\\_CTCF-AID\\_washoff2days \\\\\n",
       "\t SRR5517515 &  RNA-seq\\_WT-untagged\\_untreated \\\\\n",
       "\t SRR5517516 &  RNA-seq\\_WT-untagged\\_auxin2days\\\\\n",
       "\t SRR5517517 &  RNA-seq\\_WT-untagged\\_auxin4days\\\\\n",
       "\t SRR5517518 &  RNA-seq\\_WT-untagged\\_untreated \\\\\n",
       "\t SRR5517519 &  RNA-seq\\_WT-untagged\\_auxin2days\\\\\n",
       "\t SRR5517520 &  RNA-seq\\_WT-untagged\\_auxin4days\\\\\n",
       "\t SRR5517521 &  RNA-seq\\_WT-untagged\\_untreated \\\\\n",
       "\t SRR5517522 &  RNA-seq\\_WT-untagged\\_auxin2days\\\\\n",
       "\t SRR5517523 &  RNA-seq\\_WT-untagged\\_auxin4days\\\\\n",
       "\\end{tabular}\n"
      ],
      "text/markdown": [
       "\n",
       "A data.frame: 24 × 2\n",
       "\n",
       "| sample &lt;chr&gt; | condition &lt;chr&gt; |\n",
       "|---|---|\n",
       "| SRR5517500 |  RNA-seq_CTCF-AID_untreated     |\n",
       "| SRR5517501 |  RNA-seq_CTCF-AID_auxin1day     |\n",
       "| SRR5517502 |  RNA-seq_CTCF-AID_auxin2days    |\n",
       "| SRR5517503 |  RNA-seq_CTCF-AID_auxin4days    |\n",
       "| SRR5517504 |  RNA-seq_CTCF-AID_washoff2days  |\n",
       "| SRR5517505 |  RNA-seq_CTCF-AID_untreated     |\n",
       "| SRR5517506 |  RNA-seq_CTCF-AID_auxin1day     |\n",
       "| SRR5517507 |  RNA-seq_CTCF-AID_auxin2days    |\n",
       "| SRR5517508 |  RNA-seq_CTCF-AID_auxin4days    |\n",
       "| SRR5517509 |  RNA-seq_CTCF-AID_washoff2days  |\n",
       "| SRR5517510 |  RNA-seq_CTCF-AID_untreated     |\n",
       "| SRR5517511 |  RNA-seq_CTCF-AID_auxin1day     |\n",
       "| SRR5517512 |  RNA-seq_CTCF-AID_auxin2days    |\n",
       "| SRR5517513 |  RNA-seq_CTCF-AID_auxin4days    |\n",
       "| SRR5517514 |  RNA-seq_CTCF-AID_washoff2days  |\n",
       "| SRR5517515 |  RNA-seq_WT-untagged_untreated  |\n",
       "| SRR5517516 |  RNA-seq_WT-untagged_auxin2days |\n",
       "| SRR5517517 |  RNA-seq_WT-untagged_auxin4days |\n",
       "| SRR5517518 |  RNA-seq_WT-untagged_untreated  |\n",
       "| SRR5517519 |  RNA-seq_WT-untagged_auxin2days |\n",
       "| SRR5517520 |  RNA-seq_WT-untagged_auxin4days |\n",
       "| SRR5517521 |  RNA-seq_WT-untagged_untreated  |\n",
       "| SRR5517522 |  RNA-seq_WT-untagged_auxin2days |\n",
       "| SRR5517523 |  RNA-seq_WT-untagged_auxin4days |\n",
       "\n"
      ],
      "text/plain": [
       "   sample     condition                      \n",
       "1  SRR5517500  RNA-seq_CTCF-AID_untreated    \n",
       "2  SRR5517501  RNA-seq_CTCF-AID_auxin1day    \n",
       "3  SRR5517502  RNA-seq_CTCF-AID_auxin2days   \n",
       "4  SRR5517503  RNA-seq_CTCF-AID_auxin4days   \n",
       "5  SRR5517504  RNA-seq_CTCF-AID_washoff2days \n",
       "6  SRR5517505  RNA-seq_CTCF-AID_untreated    \n",
       "7  SRR5517506  RNA-seq_CTCF-AID_auxin1day    \n",
       "8  SRR5517507  RNA-seq_CTCF-AID_auxin2days   \n",
       "9  SRR5517508  RNA-seq_CTCF-AID_auxin4days   \n",
       "10 SRR5517509  RNA-seq_CTCF-AID_washoff2days \n",
       "11 SRR5517510  RNA-seq_CTCF-AID_untreated    \n",
       "12 SRR5517511  RNA-seq_CTCF-AID_auxin1day    \n",
       "13 SRR5517512  RNA-seq_CTCF-AID_auxin2days   \n",
       "14 SRR5517513  RNA-seq_CTCF-AID_auxin4days   \n",
       "15 SRR5517514  RNA-seq_CTCF-AID_washoff2days \n",
       "16 SRR5517515  RNA-seq_WT-untagged_untreated \n",
       "17 SRR5517516  RNA-seq_WT-untagged_auxin2days\n",
       "18 SRR5517517  RNA-seq_WT-untagged_auxin4days\n",
       "19 SRR5517518  RNA-seq_WT-untagged_untreated \n",
       "20 SRR5517519  RNA-seq_WT-untagged_auxin2days\n",
       "21 SRR5517520  RNA-seq_WT-untagged_auxin4days\n",
       "22 SRR5517521  RNA-seq_WT-untagged_untreated \n",
       "23 SRR5517522  RNA-seq_WT-untagged_auxin2days\n",
       "24 SRR5517523  RNA-seq_WT-untagged_auxin4days"
      ]
     },
     "metadata": {},
     "output_type": "display_data"
    }
   ],
   "source": [
    "# merge sra_result file and sraRunInfo to get the condition (buried in 'Experiment Name' in sra_result_summary -- put in 'condition')\n",
    "\n",
    "# runInfo.Experiment\n",
    "# sum_extended.Experiment.Accession\n",
    "\n",
    "# merge(authors, books, by.x=c(\"FirstName\", \"LastName\"),\n",
    "#       by.y=c(\"AuthorFirstName\", \"AuthorLastName\"),\n",
    "#       all.x=TRUE)\n",
    "\n",
    "total <- merge(runInfo, sum_extended, by.x=c(\"Experiment\"),\n",
    "      by.y=c(\"Experiment.Accession\"),\n",
    "      all.x=TRUE)\n",
    "\n",
    "library(dplyr)\n",
    "\n",
    "s2c <- select(total, Experiment, Run, condition, Library.Strategy, Library.Selection)\n",
    "s2c <- dplyr::select(s2c, sample = Run, condition)\n",
    "\n",
    "# getting rid of whitespace \n",
    "s2c %>%\n",
    "  mutate(across(where(is.character), stringr::str_trim))\n",
    "\n",
    "s2c\n"
   ]
  },
  {
   "cell_type": "code",
   "execution_count": 11,
   "id": "4a2c8310-7f95-4094-9e1a-a9c1ef2439f7",
   "metadata": {},
   "outputs": [
    {
     "data": {
      "text/html": [
       "<style>\n",
       ".list-inline {list-style: none; margin:0; padding: 0}\n",
       ".list-inline>li {display: inline-block}\n",
       ".list-inline>li:not(:last-child)::after {content: \"\\00b7\"; padding: 0 .5ex}\n",
       "</style>\n",
       "<ol class=list-inline><li>' RNA-seq_CTCF-AID_auxin1day'</li><li>' RNA-seq_CTCF-AID_auxin2days'</li><li>' RNA-seq_CTCF-AID_auxin4days'</li><li>' RNA-seq_CTCF-AID_untreated'</li><li>' RNA-seq_CTCF-AID_washoff2days'</li><li>' RNA-seq_WT-untagged_auxin2days'</li><li>' RNA-seq_WT-untagged_auxin4days'</li><li>' RNA-seq_WT-untagged_untreated'</li></ol>\n"
      ],
      "text/latex": [
       "\\begin{enumerate*}\n",
       "\\item ' RNA-seq\\_CTCF-AID\\_auxin1day'\n",
       "\\item ' RNA-seq\\_CTCF-AID\\_auxin2days'\n",
       "\\item ' RNA-seq\\_CTCF-AID\\_auxin4days'\n",
       "\\item ' RNA-seq\\_CTCF-AID\\_untreated'\n",
       "\\item ' RNA-seq\\_CTCF-AID\\_washoff2days'\n",
       "\\item ' RNA-seq\\_WT-untagged\\_auxin2days'\n",
       "\\item ' RNA-seq\\_WT-untagged\\_auxin4days'\n",
       "\\item ' RNA-seq\\_WT-untagged\\_untreated'\n",
       "\\end{enumerate*}\n"
      ],
      "text/markdown": [
       "1. ' RNA-seq_CTCF-AID_auxin1day'\n",
       "2. ' RNA-seq_CTCF-AID_auxin2days'\n",
       "3. ' RNA-seq_CTCF-AID_auxin4days'\n",
       "4. ' RNA-seq_CTCF-AID_untreated'\n",
       "5. ' RNA-seq_CTCF-AID_washoff2days'\n",
       "6. ' RNA-seq_WT-untagged_auxin2days'\n",
       "7. ' RNA-seq_WT-untagged_auxin4days'\n",
       "8. ' RNA-seq_WT-untagged_untreated'\n",
       "\n",
       "\n"
      ],
      "text/plain": [
       "[1] \" RNA-seq_CTCF-AID_auxin1day\"     \" RNA-seq_CTCF-AID_auxin2days\"   \n",
       "[3] \" RNA-seq_CTCF-AID_auxin4days\"    \" RNA-seq_CTCF-AID_untreated\"    \n",
       "[5] \" RNA-seq_CTCF-AID_washoff2days\"  \" RNA-seq_WT-untagged_auxin2days\"\n",
       "[7] \" RNA-seq_WT-untagged_auxin4days\" \" RNA-seq_WT-untagged_untreated\" "
      ]
     },
     "metadata": {},
     "output_type": "display_data"
    }
   ],
   "source": [
    "s2c$condition = as.factor(s2c$condition)\n",
    "\n",
    "levels(s2c$condition)"
   ]
  },
  {
   "cell_type": "code",
   "execution_count": 12,
   "id": "4dee3669-42b4-43d8-91eb-0425653cf19c",
   "metadata": {},
   "outputs": [
    {
     "data": {
      "text/html": [
       "<style>\n",
       ".list-inline {list-style: none; margin:0; padding: 0}\n",
       ".list-inline>li {display: inline-block}\n",
       ".list-inline>li:not(:last-child)::after {content: \"\\00b7\"; padding: 0 .5ex}\n",
       "</style>\n",
       "<ol class=list-inline><li>' RNA-seq_CTCF-AID_untreated'</li><li>' RNA-seq_CTCF-AID_auxin1day'</li><li>' RNA-seq_CTCF-AID_auxin2days'</li><li>' RNA-seq_CTCF-AID_auxin4days'</li><li>' RNA-seq_CTCF-AID_washoff2days'</li><li>' RNA-seq_WT-untagged_auxin2days'</li><li>' RNA-seq_WT-untagged_auxin4days'</li><li>' RNA-seq_WT-untagged_untreated'</li></ol>\n"
      ],
      "text/latex": [
       "\\begin{enumerate*}\n",
       "\\item ' RNA-seq\\_CTCF-AID\\_untreated'\n",
       "\\item ' RNA-seq\\_CTCF-AID\\_auxin1day'\n",
       "\\item ' RNA-seq\\_CTCF-AID\\_auxin2days'\n",
       "\\item ' RNA-seq\\_CTCF-AID\\_auxin4days'\n",
       "\\item ' RNA-seq\\_CTCF-AID\\_washoff2days'\n",
       "\\item ' RNA-seq\\_WT-untagged\\_auxin2days'\n",
       "\\item ' RNA-seq\\_WT-untagged\\_auxin4days'\n",
       "\\item ' RNA-seq\\_WT-untagged\\_untreated'\n",
       "\\end{enumerate*}\n"
      ],
      "text/markdown": [
       "1. ' RNA-seq_CTCF-AID_untreated'\n",
       "2. ' RNA-seq_CTCF-AID_auxin1day'\n",
       "3. ' RNA-seq_CTCF-AID_auxin2days'\n",
       "4. ' RNA-seq_CTCF-AID_auxin4days'\n",
       "5. ' RNA-seq_CTCF-AID_washoff2days'\n",
       "6. ' RNA-seq_WT-untagged_auxin2days'\n",
       "7. ' RNA-seq_WT-untagged_auxin4days'\n",
       "8. ' RNA-seq_WT-untagged_untreated'\n",
       "\n",
       "\n"
      ],
      "text/plain": [
       "[1] \" RNA-seq_CTCF-AID_untreated\"     \" RNA-seq_CTCF-AID_auxin1day\"    \n",
       "[3] \" RNA-seq_CTCF-AID_auxin2days\"    \" RNA-seq_CTCF-AID_auxin4days\"   \n",
       "[5] \" RNA-seq_CTCF-AID_washoff2days\"  \" RNA-seq_WT-untagged_auxin2days\"\n",
       "[7] \" RNA-seq_WT-untagged_auxin4days\" \" RNA-seq_WT-untagged_untreated\" "
      ]
     },
     "metadata": {},
     "output_type": "display_data"
    },
    {
     "data": {
      "text/html": [
       "<table class=\"dataframe\">\n",
       "<caption>A data.frame: 24 × 2</caption>\n",
       "<thead>\n",
       "\t<tr><th scope=col>sample</th><th scope=col>condition</th></tr>\n",
       "\t<tr><th scope=col>&lt;chr&gt;</th><th scope=col>&lt;fct&gt;</th></tr>\n",
       "</thead>\n",
       "<tbody>\n",
       "\t<tr><td>SRR5517500</td><td> RNA-seq_CTCF-AID_untreated    </td></tr>\n",
       "\t<tr><td>SRR5517501</td><td> RNA-seq_CTCF-AID_auxin1day    </td></tr>\n",
       "\t<tr><td>SRR5517502</td><td> RNA-seq_CTCF-AID_auxin2days   </td></tr>\n",
       "\t<tr><td>SRR5517503</td><td> RNA-seq_CTCF-AID_auxin4days   </td></tr>\n",
       "\t<tr><td>SRR5517504</td><td> RNA-seq_CTCF-AID_washoff2days </td></tr>\n",
       "\t<tr><td>SRR5517505</td><td> RNA-seq_CTCF-AID_untreated    </td></tr>\n",
       "\t<tr><td>SRR5517506</td><td> RNA-seq_CTCF-AID_auxin1day    </td></tr>\n",
       "\t<tr><td>SRR5517507</td><td> RNA-seq_CTCF-AID_auxin2days   </td></tr>\n",
       "\t<tr><td>SRR5517508</td><td> RNA-seq_CTCF-AID_auxin4days   </td></tr>\n",
       "\t<tr><td>SRR5517509</td><td> RNA-seq_CTCF-AID_washoff2days </td></tr>\n",
       "\t<tr><td>SRR5517510</td><td> RNA-seq_CTCF-AID_untreated    </td></tr>\n",
       "\t<tr><td>SRR5517511</td><td> RNA-seq_CTCF-AID_auxin1day    </td></tr>\n",
       "\t<tr><td>SRR5517512</td><td> RNA-seq_CTCF-AID_auxin2days   </td></tr>\n",
       "\t<tr><td>SRR5517513</td><td> RNA-seq_CTCF-AID_auxin4days   </td></tr>\n",
       "\t<tr><td>SRR5517514</td><td> RNA-seq_CTCF-AID_washoff2days </td></tr>\n",
       "\t<tr><td>SRR5517515</td><td> RNA-seq_WT-untagged_untreated </td></tr>\n",
       "\t<tr><td>SRR5517516</td><td> RNA-seq_WT-untagged_auxin2days</td></tr>\n",
       "\t<tr><td>SRR5517517</td><td> RNA-seq_WT-untagged_auxin4days</td></tr>\n",
       "\t<tr><td>SRR5517518</td><td> RNA-seq_WT-untagged_untreated </td></tr>\n",
       "\t<tr><td>SRR5517519</td><td> RNA-seq_WT-untagged_auxin2days</td></tr>\n",
       "\t<tr><td>SRR5517520</td><td> RNA-seq_WT-untagged_auxin4days</td></tr>\n",
       "\t<tr><td>SRR5517521</td><td> RNA-seq_WT-untagged_untreated </td></tr>\n",
       "\t<tr><td>SRR5517522</td><td> RNA-seq_WT-untagged_auxin2days</td></tr>\n",
       "\t<tr><td>SRR5517523</td><td> RNA-seq_WT-untagged_auxin4days</td></tr>\n",
       "</tbody>\n",
       "</table>\n"
      ],
      "text/latex": [
       "A data.frame: 24 × 2\n",
       "\\begin{tabular}{ll}\n",
       " sample & condition\\\\\n",
       " <chr> & <fct>\\\\\n",
       "\\hline\n",
       "\t SRR5517500 &  RNA-seq\\_CTCF-AID\\_untreated    \\\\\n",
       "\t SRR5517501 &  RNA-seq\\_CTCF-AID\\_auxin1day    \\\\\n",
       "\t SRR5517502 &  RNA-seq\\_CTCF-AID\\_auxin2days   \\\\\n",
       "\t SRR5517503 &  RNA-seq\\_CTCF-AID\\_auxin4days   \\\\\n",
       "\t SRR5517504 &  RNA-seq\\_CTCF-AID\\_washoff2days \\\\\n",
       "\t SRR5517505 &  RNA-seq\\_CTCF-AID\\_untreated    \\\\\n",
       "\t SRR5517506 &  RNA-seq\\_CTCF-AID\\_auxin1day    \\\\\n",
       "\t SRR5517507 &  RNA-seq\\_CTCF-AID\\_auxin2days   \\\\\n",
       "\t SRR5517508 &  RNA-seq\\_CTCF-AID\\_auxin4days   \\\\\n",
       "\t SRR5517509 &  RNA-seq\\_CTCF-AID\\_washoff2days \\\\\n",
       "\t SRR5517510 &  RNA-seq\\_CTCF-AID\\_untreated    \\\\\n",
       "\t SRR5517511 &  RNA-seq\\_CTCF-AID\\_auxin1day    \\\\\n",
       "\t SRR5517512 &  RNA-seq\\_CTCF-AID\\_auxin2days   \\\\\n",
       "\t SRR5517513 &  RNA-seq\\_CTCF-AID\\_auxin4days   \\\\\n",
       "\t SRR5517514 &  RNA-seq\\_CTCF-AID\\_washoff2days \\\\\n",
       "\t SRR5517515 &  RNA-seq\\_WT-untagged\\_untreated \\\\\n",
       "\t SRR5517516 &  RNA-seq\\_WT-untagged\\_auxin2days\\\\\n",
       "\t SRR5517517 &  RNA-seq\\_WT-untagged\\_auxin4days\\\\\n",
       "\t SRR5517518 &  RNA-seq\\_WT-untagged\\_untreated \\\\\n",
       "\t SRR5517519 &  RNA-seq\\_WT-untagged\\_auxin2days\\\\\n",
       "\t SRR5517520 &  RNA-seq\\_WT-untagged\\_auxin4days\\\\\n",
       "\t SRR5517521 &  RNA-seq\\_WT-untagged\\_untreated \\\\\n",
       "\t SRR5517522 &  RNA-seq\\_WT-untagged\\_auxin2days\\\\\n",
       "\t SRR5517523 &  RNA-seq\\_WT-untagged\\_auxin4days\\\\\n",
       "\\end{tabular}\n"
      ],
      "text/markdown": [
       "\n",
       "A data.frame: 24 × 2\n",
       "\n",
       "| sample &lt;chr&gt; | condition &lt;fct&gt; |\n",
       "|---|---|\n",
       "| SRR5517500 |  RNA-seq_CTCF-AID_untreated     |\n",
       "| SRR5517501 |  RNA-seq_CTCF-AID_auxin1day     |\n",
       "| SRR5517502 |  RNA-seq_CTCF-AID_auxin2days    |\n",
       "| SRR5517503 |  RNA-seq_CTCF-AID_auxin4days    |\n",
       "| SRR5517504 |  RNA-seq_CTCF-AID_washoff2days  |\n",
       "| SRR5517505 |  RNA-seq_CTCF-AID_untreated     |\n",
       "| SRR5517506 |  RNA-seq_CTCF-AID_auxin1day     |\n",
       "| SRR5517507 |  RNA-seq_CTCF-AID_auxin2days    |\n",
       "| SRR5517508 |  RNA-seq_CTCF-AID_auxin4days    |\n",
       "| SRR5517509 |  RNA-seq_CTCF-AID_washoff2days  |\n",
       "| SRR5517510 |  RNA-seq_CTCF-AID_untreated     |\n",
       "| SRR5517511 |  RNA-seq_CTCF-AID_auxin1day     |\n",
       "| SRR5517512 |  RNA-seq_CTCF-AID_auxin2days    |\n",
       "| SRR5517513 |  RNA-seq_CTCF-AID_auxin4days    |\n",
       "| SRR5517514 |  RNA-seq_CTCF-AID_washoff2days  |\n",
       "| SRR5517515 |  RNA-seq_WT-untagged_untreated  |\n",
       "| SRR5517516 |  RNA-seq_WT-untagged_auxin2days |\n",
       "| SRR5517517 |  RNA-seq_WT-untagged_auxin4days |\n",
       "| SRR5517518 |  RNA-seq_WT-untagged_untreated  |\n",
       "| SRR5517519 |  RNA-seq_WT-untagged_auxin2days |\n",
       "| SRR5517520 |  RNA-seq_WT-untagged_auxin4days |\n",
       "| SRR5517521 |  RNA-seq_WT-untagged_untreated  |\n",
       "| SRR5517522 |  RNA-seq_WT-untagged_auxin2days |\n",
       "| SRR5517523 |  RNA-seq_WT-untagged_auxin4days |\n",
       "\n"
      ],
      "text/plain": [
       "   sample     condition                      \n",
       "1  SRR5517500  RNA-seq_CTCF-AID_untreated    \n",
       "2  SRR5517501  RNA-seq_CTCF-AID_auxin1day    \n",
       "3  SRR5517502  RNA-seq_CTCF-AID_auxin2days   \n",
       "4  SRR5517503  RNA-seq_CTCF-AID_auxin4days   \n",
       "5  SRR5517504  RNA-seq_CTCF-AID_washoff2days \n",
       "6  SRR5517505  RNA-seq_CTCF-AID_untreated    \n",
       "7  SRR5517506  RNA-seq_CTCF-AID_auxin1day    \n",
       "8  SRR5517507  RNA-seq_CTCF-AID_auxin2days   \n",
       "9  SRR5517508  RNA-seq_CTCF-AID_auxin4days   \n",
       "10 SRR5517509  RNA-seq_CTCF-AID_washoff2days \n",
       "11 SRR5517510  RNA-seq_CTCF-AID_untreated    \n",
       "12 SRR5517511  RNA-seq_CTCF-AID_auxin1day    \n",
       "13 SRR5517512  RNA-seq_CTCF-AID_auxin2days   \n",
       "14 SRR5517513  RNA-seq_CTCF-AID_auxin4days   \n",
       "15 SRR5517514  RNA-seq_CTCF-AID_washoff2days \n",
       "16 SRR5517515  RNA-seq_WT-untagged_untreated \n",
       "17 SRR5517516  RNA-seq_WT-untagged_auxin2days\n",
       "18 SRR5517517  RNA-seq_WT-untagged_auxin4days\n",
       "19 SRR5517518  RNA-seq_WT-untagged_untreated \n",
       "20 SRR5517519  RNA-seq_WT-untagged_auxin2days\n",
       "21 SRR5517520  RNA-seq_WT-untagged_auxin4days\n",
       "22 SRR5517521  RNA-seq_WT-untagged_untreated \n",
       "23 SRR5517522  RNA-seq_WT-untagged_auxin2days\n",
       "24 SRR5517523  RNA-seq_WT-untagged_auxin4days"
      ]
     },
     "metadata": {},
     "output_type": "display_data"
    }
   ],
   "source": [
    "# Getting rid of whitespace didn't work? so just going to try to se the base level\n",
    "s2c$condition <- relevel(s2c$condition, ref = \" RNA-seq_CTCF-AID_untreated\")\n",
    "levels(s2c$condition)\n",
    "s2c"
   ]
  },
  {
   "cell_type": "code",
   "execution_count": 13,
   "id": "89d46eec-2552-4491-8363-6574335b173c",
   "metadata": {},
   "outputs": [],
   "source": [
    "s2c <- dplyr::mutate(s2c, path = kal_dirs)"
   ]
  },
  {
   "cell_type": "code",
   "execution_count": 14,
   "id": "a0904e48-1f25-4bd0-beae-b7e076dab9c9",
   "metadata": {},
   "outputs": [
    {
     "name": "stdout",
     "output_type": "stream",
     "text": [
      "       sample                       condition\n",
      "1  SRR5517500      RNA-seq_CTCF-AID_untreated\n",
      "2  SRR5517501      RNA-seq_CTCF-AID_auxin1day\n",
      "3  SRR5517502     RNA-seq_CTCF-AID_auxin2days\n",
      "4  SRR5517503     RNA-seq_CTCF-AID_auxin4days\n",
      "5  SRR5517504   RNA-seq_CTCF-AID_washoff2days\n",
      "6  SRR5517505      RNA-seq_CTCF-AID_untreated\n",
      "7  SRR5517506      RNA-seq_CTCF-AID_auxin1day\n",
      "8  SRR5517507     RNA-seq_CTCF-AID_auxin2days\n",
      "9  SRR5517508     RNA-seq_CTCF-AID_auxin4days\n",
      "10 SRR5517509   RNA-seq_CTCF-AID_washoff2days\n",
      "11 SRR5517510      RNA-seq_CTCF-AID_untreated\n",
      "12 SRR5517511      RNA-seq_CTCF-AID_auxin1day\n",
      "13 SRR5517512     RNA-seq_CTCF-AID_auxin2days\n",
      "14 SRR5517513     RNA-seq_CTCF-AID_auxin4days\n",
      "15 SRR5517514   RNA-seq_CTCF-AID_washoff2days\n",
      "16 SRR5517515   RNA-seq_WT-untagged_untreated\n",
      "17 SRR5517516  RNA-seq_WT-untagged_auxin2days\n",
      "18 SRR5517517  RNA-seq_WT-untagged_auxin4days\n",
      "19 SRR5517518   RNA-seq_WT-untagged_untreated\n",
      "20 SRR5517519  RNA-seq_WT-untagged_auxin2days\n",
      "21 SRR5517520  RNA-seq_WT-untagged_auxin4days\n",
      "22 SRR5517521   RNA-seq_WT-untagged_untreated\n",
      "23 SRR5517522  RNA-seq_WT-untagged_auxin2days\n",
      "24 SRR5517523  RNA-seq_WT-untagged_auxin4days\n",
      "                                                                                      path\n",
      "1  /project/fudenber_735/GEO/nora_2017_rna-seq_SRP106652/SRP106652/SRR5517500/kallisto-mm9\n",
      "2  /project/fudenber_735/GEO/nora_2017_rna-seq_SRP106652/SRP106652/SRR5517501/kallisto-mm9\n",
      "3  /project/fudenber_735/GEO/nora_2017_rna-seq_SRP106652/SRP106652/SRR5517502/kallisto-mm9\n",
      "4  /project/fudenber_735/GEO/nora_2017_rna-seq_SRP106652/SRP106652/SRR5517503/kallisto-mm9\n",
      "5  /project/fudenber_735/GEO/nora_2017_rna-seq_SRP106652/SRP106652/SRR5517504/kallisto-mm9\n",
      "6  /project/fudenber_735/GEO/nora_2017_rna-seq_SRP106652/SRP106652/SRR5517505/kallisto-mm9\n",
      "7  /project/fudenber_735/GEO/nora_2017_rna-seq_SRP106652/SRP106652/SRR5517506/kallisto-mm9\n",
      "8  /project/fudenber_735/GEO/nora_2017_rna-seq_SRP106652/SRP106652/SRR5517507/kallisto-mm9\n",
      "9  /project/fudenber_735/GEO/nora_2017_rna-seq_SRP106652/SRP106652/SRR5517508/kallisto-mm9\n",
      "10 /project/fudenber_735/GEO/nora_2017_rna-seq_SRP106652/SRP106652/SRR5517509/kallisto-mm9\n",
      "11 /project/fudenber_735/GEO/nora_2017_rna-seq_SRP106652/SRP106652/SRR5517510/kallisto-mm9\n",
      "12 /project/fudenber_735/GEO/nora_2017_rna-seq_SRP106652/SRP106652/SRR5517511/kallisto-mm9\n",
      "13 /project/fudenber_735/GEO/nora_2017_rna-seq_SRP106652/SRP106652/SRR5517512/kallisto-mm9\n",
      "14 /project/fudenber_735/GEO/nora_2017_rna-seq_SRP106652/SRP106652/SRR5517513/kallisto-mm9\n",
      "15 /project/fudenber_735/GEO/nora_2017_rna-seq_SRP106652/SRP106652/SRR5517514/kallisto-mm9\n",
      "16 /project/fudenber_735/GEO/nora_2017_rna-seq_SRP106652/SRP106652/SRR5517515/kallisto-mm9\n",
      "17 /project/fudenber_735/GEO/nora_2017_rna-seq_SRP106652/SRP106652/SRR5517516/kallisto-mm9\n",
      "18 /project/fudenber_735/GEO/nora_2017_rna-seq_SRP106652/SRP106652/SRR5517517/kallisto-mm9\n",
      "19 /project/fudenber_735/GEO/nora_2017_rna-seq_SRP106652/SRP106652/SRR5517518/kallisto-mm9\n",
      "20 /project/fudenber_735/GEO/nora_2017_rna-seq_SRP106652/SRP106652/SRR5517519/kallisto-mm9\n",
      "21 /project/fudenber_735/GEO/nora_2017_rna-seq_SRP106652/SRP106652/SRR5517520/kallisto-mm9\n",
      "22 /project/fudenber_735/GEO/nora_2017_rna-seq_SRP106652/SRP106652/SRR5517521/kallisto-mm9\n",
      "23 /project/fudenber_735/GEO/nora_2017_rna-seq_SRP106652/SRP106652/SRR5517522/kallisto-mm9\n",
      "24 /project/fudenber_735/GEO/nora_2017_rna-seq_SRP106652/SRP106652/SRR5517523/kallisto-mm9\n"
     ]
    }
   ],
   "source": [
    "print(s2c)"
   ]
  },
  {
   "cell_type": "markdown",
   "id": "583d2447-6c14-4fd9-839e-8a2e5cd1d5f2",
   "metadata": {},
   "source": [
    "Looks good\n",
    "\n",
    "Lot's of this prep is what goes into describing the variables and the experimental design. For now, choosing the simplest method (only mapping conditions as described by CTCF-AID_ / WT + number of days. But, I think we can group the replicates with aggregation_column (I think?) https://pachterlab.github.io/sleuth/docs/sleuth_prep.html  "
   ]
  },
  {
   "cell_type": "markdown",
   "id": "88c42047-4958-4650-9bd2-a59230a03fa5",
   "metadata": {},
   "source": [
    "# Simplest Wald test"
   ]
  },
  {
   "cell_type": "code",
   "execution_count": 15,
   "id": "5aac6a12-ae39-4910-a7aa-60803b6b1e6a",
   "metadata": {},
   "outputs": [
    {
     "name": "stderr",
     "output_type": "stream",
     "text": [
      "reading in kallisto results\n",
      "\n",
      "dropping unused factor levels\n",
      "\n",
      ".\n",
      ".\n",
      ".\n",
      ".\n",
      ".\n",
      ".\n",
      ".\n",
      ".\n",
      ".\n",
      ".\n",
      ".\n",
      ".\n",
      ".\n",
      ".\n",
      ".\n",
      ".\n",
      ".\n",
      ".\n",
      ".\n",
      ".\n",
      ".\n",
      ".\n",
      ".\n",
      ".\n",
      "\n",
      "\n",
      "normalizing est_counts\n",
      "\n",
      "48055 targets passed the filter\n",
      "\n",
      "normalizing tpm\n",
      "\n",
      "merging in metadata\n",
      "\n",
      "summarizing bootstraps\n",
      "\n",
      "\n",
      "\n"
     ]
    }
   ],
   "source": [
    "# todo: for log2 change in wald test, add transformation_function = function(x) log2(x + 0.5) \n",
    "## from : https://hbctraining.github.io/DGE_workshop_salmon/lessons/09_sleuth.html\n",
    "\n",
    "so <- sleuth_prep(s2c,\n",
    "                  extra_bootstrap_summary = TRUE, \n",
    "                  read_bootstrap_tpm=TRUE, \n",
    "                  transformation_function = function(x) log2(x + 0.5))"
   ]
  },
  {
   "cell_type": "code",
   "execution_count": 16,
   "id": "a582cadd-2396-4c42-a951-89f29190849a",
   "metadata": {},
   "outputs": [
    {
     "name": "stderr",
     "output_type": "stream",
     "text": [
      "fitting measurement error models\n",
      "\n",
      "shrinkage estimation\n",
      "\n",
      "1 NA values were found during variance shrinkage estimation due to mean observation values outside of the range used for the LOESS fit.\n",
      "The LOESS fit will be repeated using exact computation of the fitted surface to extrapolate the missing values.\n",
      "These are the target ids with NA values: ENSMUST00000049324\n",
      "\n",
      "computing variance of betas\n",
      "\n"
     ]
    }
   ],
   "source": [
    "so <- sleuth_fit(so, ~condition, 'full')"
   ]
  },
  {
   "cell_type": "code",
   "execution_count": 17,
   "id": "35390408-290d-4cab-adf4-c01b47391175",
   "metadata": {},
   "outputs": [
    {
     "name": "stderr",
     "output_type": "stream",
     "text": [
      "fitting measurement error models\n",
      "\n",
      "shrinkage estimation\n",
      "\n",
      "computing variance of betas\n",
      "\n"
     ]
    }
   ],
   "source": [
    "so <- sleuth_fit(so, ~1, 'reduced')"
   ]
  },
  {
   "cell_type": "code",
   "execution_count": 18,
   "id": "69f4a5b5-5d54-4ea1-b7e8-5d01bff67276",
   "metadata": {},
   "outputs": [
    {
     "name": "stdout",
     "output_type": "stream",
     "text": [
      "[  full  ]\n",
      "formula:  ~condition \n",
      "data modeled:  obs_counts \n",
      "transform sync'ed:  TRUE \n",
      "coefficients:\n",
      "\t(Intercept)\n",
      " \tcondition RNA-seq_CTCF-AID_auxin1day\n",
      " \tcondition RNA-seq_CTCF-AID_auxin2days\n",
      " \tcondition RNA-seq_CTCF-AID_auxin4days\n",
      " \tcondition RNA-seq_CTCF-AID_washoff2days\n",
      " \tcondition RNA-seq_WT-untagged_auxin2days\n",
      " \tcondition RNA-seq_WT-untagged_auxin4days\n",
      " \tcondition RNA-seq_WT-untagged_untreated\n",
      "[  reduced  ]\n",
      "formula:  ~1 \n",
      "data modeled:  obs_counts \n",
      "transform sync'ed:  TRUE \n",
      "coefficients:\n",
      "\t(Intercept)\n"
     ]
    }
   ],
   "source": [
    "models(so)"
   ]
  },
  {
   "cell_type": "markdown",
   "id": "1afe7bde-07fd-4492-979a-f29640c1f748",
   "metadata": {},
   "source": [
    "### Apply likelihood ratio test\n",
    "\n",
    "In the typical Sleuth's workflow, the likelihood ratio test (LRT) is applied. Briefly, the LRT models the likelihood of the data given 2 models:\n",
    "\n",
    "full: transcript abundance affected on one or more dependent variables (here just being treated or not)\n",
    "reduced: transcript abundance unaffected by the treatment (null hypothesis)\n",
    "\n",
    "`sleuth_lrt(obj, null_model, alt_model)`\n",
    "compute the likelihood ratio test for 2 models. this requires that the null model be nested in the alternate model\n",
    "\n",
    "--> null is 'reduced', alt is 'full'\n",
    "\n",
    " - sleuth docs appear to recommend sleuth_lrt and sleuth_wt for hypothesis testing"
   ]
  },
  {
   "cell_type": "code",
   "execution_count": 19,
   "id": "45e1bdb5-6c58-417e-be90-ac9192d00c9c",
   "metadata": {},
   "outputs": [],
   "source": [
    "# perform a test\n",
    "so <- sleuth_lrt(so, 'reduced', 'full')"
   ]
  },
  {
   "cell_type": "code",
   "execution_count": 20,
   "id": "e9560dd4-29a0-462b-8d88-2709b10e7f14",
   "metadata": {},
   "outputs": [
    {
     "name": "stdout",
     "output_type": "stream",
     "text": [
      "[  full  ]\n",
      "formula:  ~condition \n",
      "data modeled:  obs_counts \n",
      "transform sync'ed:  TRUE \n",
      "coefficients:\n",
      "\t(Intercept)\n",
      " \tcondition RNA-seq_CTCF-AID_auxin1day\n",
      " \tcondition RNA-seq_CTCF-AID_auxin2days\n",
      " \tcondition RNA-seq_CTCF-AID_auxin4days\n",
      " \tcondition RNA-seq_CTCF-AID_washoff2days\n",
      " \tcondition RNA-seq_WT-untagged_auxin2days\n",
      " \tcondition RNA-seq_WT-untagged_auxin4days\n",
      " \tcondition RNA-seq_WT-untagged_untreated\n",
      "[  reduced  ]\n",
      "formula:  ~1 \n",
      "data modeled:  obs_counts \n",
      "transform sync'ed:  TRUE \n",
      "coefficients:\n",
      "\t(Intercept)\n"
     ]
    }
   ],
   "source": [
    "models(so)"
   ]
  },
  {
   "cell_type": "markdown",
   "id": "ec2df56e-96b9-4056-9cac-8dcd23c957a3",
   "metadata": {},
   "source": [
    "### Examine the results of the above test\n",
    "\n",
    "Note that these are using the correct base condition -- so every other condition is being compared to RNA-seq_CTCF-AID_untreated\n",
    "\n",
    "more info on options: https://www.rdocumentation.org/packages/sleuth/versions/0.30.0/topics/sleuth_results "
   ]
  },
  {
   "cell_type": "code",
   "execution_count": 21,
   "id": "74522563-7ef0-40cc-af7c-542237f620cc",
   "metadata": {},
   "outputs": [
    {
     "data": {
      "text/html": [
       "<table class=\"dataframe\">\n",
       "<caption>A data.frame: 20 × 12</caption>\n",
       "<thead>\n",
       "\t<tr><th></th><th scope=col>target_id</th><th scope=col>pval</th><th scope=col>qval</th><th scope=col>test_stat</th><th scope=col>rss</th><th scope=col>degrees_free</th><th scope=col>mean_obs</th><th scope=col>var_obs</th><th scope=col>tech_var</th><th scope=col>sigma_sq</th><th scope=col>smooth_sigma_sq</th><th scope=col>final_sigma_sq</th></tr>\n",
       "\t<tr><th></th><th scope=col>&lt;chr&gt;</th><th scope=col>&lt;dbl&gt;</th><th scope=col>&lt;dbl&gt;</th><th scope=col>&lt;dbl&gt;</th><th scope=col>&lt;dbl&gt;</th><th scope=col>&lt;int&gt;</th><th scope=col>&lt;dbl&gt;</th><th scope=col>&lt;dbl&gt;</th><th scope=col>&lt;dbl&gt;</th><th scope=col>&lt;dbl&gt;</th><th scope=col>&lt;dbl&gt;</th><th scope=col>&lt;dbl&gt;</th></tr>\n",
       "</thead>\n",
       "<tbody>\n",
       "\t<tr><th scope=row>1</th><td>ENSMUST00000029644</td><td>3.047563e-14</td><td>1.464506e-09</td><td>78.30769</td><td> 22.208030</td><td>7</td><td>6.862515</td><td>0.9655665</td><td>0.0029059542</td><td>0.9626605</td><td>0.09593575</td><td>0.9626605</td></tr>\n",
       "\t<tr><th scope=row>2</th><td>ENSMUST00000102763</td><td>1.079232e-13</td><td>2.593125e-09</td><td>75.60788</td><td> 16.367575</td><td>7</td><td>7.556659</td><td>0.7116337</td><td>0.0008762691</td><td>0.7107574</td><td>0.07613686</td><td>0.7107574</td></tr>\n",
       "\t<tr><th scope=row>3</th><td>ENSMUST00000006451</td><td>3.690048e-13</td><td>4.026421e-09</td><td>72.97684</td><td> 20.415453</td><td>7</td><td>7.017841</td><td>0.8876284</td><td>0.0033801130</td><td>0.8842483</td><td>0.09048501</td><td>0.8842483</td></tr>\n",
       "\t<tr><th scope=row>4</th><td>ENSMUST00000155572</td><td>4.189388e-13</td><td>4.026421e-09</td><td>72.70486</td><td> 16.652961</td><td>7</td><td>8.060573</td><td>0.7240418</td><td>0.0004519891</td><td>0.7235898</td><td>0.06742466</td><td>0.7235898</td></tr>\n",
       "\t<tr><th scope=row>5</th><td>ENSMUST00000078953</td><td>4.004208e-13</td><td>4.026421e-09</td><td>72.80175</td><td> 44.937222</td><td>7</td><td>5.188072</td><td>1.9537923</td><td>0.0177739637</td><td>1.9360183</td><td>0.21619344</td><td>1.9360183</td></tr>\n",
       "\t<tr><th scope=row>6</th><td>ENSMUST00000168900</td><td>6.272445e-13</td><td>5.023706e-09</td><td>71.83944</td><td> 20.212557</td><td>7</td><td>7.059538</td><td>0.8788068</td><td>0.0019773653</td><td>0.8768295</td><td>0.08914646</td><td>0.8768295</td></tr>\n",
       "\t<tr><th scope=row>7</th><td>ENSMUST00000171066</td><td>1.212480e-12</td><td>8.255836e-09</td><td>70.42464</td><td> 24.015087</td><td>7</td><td>9.518412</td><td>1.0441342</td><td>0.0001302209</td><td>1.0440040</td><td>0.06076378</td><td>1.0440040</td></tr>\n",
       "\t<tr><th scope=row>8</th><td>ENSMUST00000136299</td><td>1.374398e-12</td><td>8.255836e-09</td><td>70.15534</td><td> 26.363584</td><td>7</td><td>8.066746</td><td>1.1462428</td><td>0.0004998462</td><td>1.1457429</td><td>0.06734164</td><td>1.1457429</td></tr>\n",
       "\t<tr><th scope=row>9</th><td>ENSMUST00000014892</td><td>2.382672e-12</td><td>1.272214e-08</td><td>68.97237</td><td> 15.942756</td><td>7</td><td>6.670008</td><td>0.6931633</td><td>0.0027184562</td><td>0.6904448</td><td>0.10375566</td><td>0.6904448</td></tr>\n",
       "\t<tr><th scope=row>10</th><td>ENSMUST00000004949</td><td>4.088220e-12</td><td>1.964594e-08</td><td>67.81014</td><td> 29.054561</td><td>7</td><td>5.892552</td><td>1.2632418</td><td>0.0066628145</td><td>1.2565790</td><td>0.14910365</td><td>1.2565790</td></tr>\n",
       "\t<tr><th scope=row>11</th><td>ENSMUST00000033866</td><td>1.501651e-11</td><td>6.013487e-08</td><td>65.00313</td><td> 10.135222</td><td>7</td><td>7.648090</td><td>0.4406618</td><td>0.0007730289</td><td>0.4398888</td><td>0.07425387</td><td>0.4398888</td></tr>\n",
       "\t<tr><th scope=row>12</th><td>ENSMUST00000032747</td><td>1.464767e-11</td><td>6.013487e-08</td><td>65.05687</td><td> 60.830140</td><td>7</td><td>4.413944</td><td>2.6447887</td><td>0.0796148464</td><td>2.5651738</td><td>0.33169214</td><td>2.5651738</td></tr>\n",
       "\t<tr><th scope=row>13</th><td>ENSMUST00000091190</td><td>2.045639e-11</td><td>7.209936e-08</td><td>64.33478</td><td> 37.078975</td><td>7</td><td>6.135758</td><td>1.6121293</td><td>0.0060172597</td><td>1.6061121</td><td>0.13233592</td><td>1.6061121</td></tr>\n",
       "\t<tr><th scope=row>14</th><td>ENSMUST00000052027</td><td>2.100491e-11</td><td>7.209936e-08</td><td>64.27755</td><td> 34.417660</td><td>7</td><td>5.546691</td><td>1.4964200</td><td>0.0098973854</td><td>1.4865226</td><td>0.17804995</td><td>1.4865226</td></tr>\n",
       "\t<tr><th scope=row>15</th><td>ENSMUST00000002400</td><td>2.310938e-11</td><td>7.403476e-08</td><td>64.07100</td><td> 16.829977</td><td>7</td><td>6.372578</td><td>0.7317381</td><td>0.0027712808</td><td>0.7289668</td><td>0.11834396</td><td>0.7289668</td></tr>\n",
       "\t<tr><th scope=row>16</th><td>ENSMUST00000097228</td><td>3.348513e-11</td><td>9.232058e-08</td><td>63.26824</td><td> 30.827146</td><td>7</td><td>5.315158</td><td>1.3403107</td><td>0.0130789123</td><td>1.3272318</td><td>0.20167668</td><td>1.3272318</td></tr>\n",
       "\t<tr><th scope=row>17</th><td>ENSMUST00000160289</td><td>3.458060e-11</td><td>9.232058e-08</td><td>63.19852</td><td>  7.523589</td><td>7</td><td>8.188183</td><td>0.3271126</td><td>0.0003795243</td><td>0.3267331</td><td>0.06581499</td><td>0.3267331</td></tr>\n",
       "\t<tr><th scope=row>18</th><td>ENSMUST00000022945</td><td>3.345631e-11</td><td>9.232058e-08</td><td>63.27010</td><td> 13.315491</td><td>7</td><td>7.483690</td><td>0.5789344</td><td>0.0008690044</td><td>0.5780654</td><td>0.07774491</td><td>0.5780654</td></tr>\n",
       "\t<tr><th scope=row>19</th><td>ENSMUST00000087557</td><td>3.923126e-11</td><td>9.922413e-08</td><td>62.92518</td><td> 28.529367</td><td>7</td><td>5.824121</td><td>1.2404072</td><td>0.0069853791</td><td>1.2334219</td><td>0.15428595</td><td>1.2334219</td></tr>\n",
       "\t<tr><th scope=row>20</th><td>ENSMUST00000151797</td><td>5.132499e-11</td><td>1.233211e-07</td><td>62.34278</td><td>121.141927</td><td>7</td><td>3.644737</td><td>5.2670403</td><td>0.1190867605</td><td>5.1479536</td><td>0.51106168</td><td>5.1479536</td></tr>\n",
       "</tbody>\n",
       "</table>\n"
      ],
      "text/latex": [
       "A data.frame: 20 × 12\n",
       "\\begin{tabular}{r|llllllllllll}\n",
       "  & target\\_id & pval & qval & test\\_stat & rss & degrees\\_free & mean\\_obs & var\\_obs & tech\\_var & sigma\\_sq & smooth\\_sigma\\_sq & final\\_sigma\\_sq\\\\\n",
       "  & <chr> & <dbl> & <dbl> & <dbl> & <dbl> & <int> & <dbl> & <dbl> & <dbl> & <dbl> & <dbl> & <dbl>\\\\\n",
       "\\hline\n",
       "\t1 & ENSMUST00000029644 & 3.047563e-14 & 1.464506e-09 & 78.30769 &  22.208030 & 7 & 6.862515 & 0.9655665 & 0.0029059542 & 0.9626605 & 0.09593575 & 0.9626605\\\\\n",
       "\t2 & ENSMUST00000102763 & 1.079232e-13 & 2.593125e-09 & 75.60788 &  16.367575 & 7 & 7.556659 & 0.7116337 & 0.0008762691 & 0.7107574 & 0.07613686 & 0.7107574\\\\\n",
       "\t3 & ENSMUST00000006451 & 3.690048e-13 & 4.026421e-09 & 72.97684 &  20.415453 & 7 & 7.017841 & 0.8876284 & 0.0033801130 & 0.8842483 & 0.09048501 & 0.8842483\\\\\n",
       "\t4 & ENSMUST00000155572 & 4.189388e-13 & 4.026421e-09 & 72.70486 &  16.652961 & 7 & 8.060573 & 0.7240418 & 0.0004519891 & 0.7235898 & 0.06742466 & 0.7235898\\\\\n",
       "\t5 & ENSMUST00000078953 & 4.004208e-13 & 4.026421e-09 & 72.80175 &  44.937222 & 7 & 5.188072 & 1.9537923 & 0.0177739637 & 1.9360183 & 0.21619344 & 1.9360183\\\\\n",
       "\t6 & ENSMUST00000168900 & 6.272445e-13 & 5.023706e-09 & 71.83944 &  20.212557 & 7 & 7.059538 & 0.8788068 & 0.0019773653 & 0.8768295 & 0.08914646 & 0.8768295\\\\\n",
       "\t7 & ENSMUST00000171066 & 1.212480e-12 & 8.255836e-09 & 70.42464 &  24.015087 & 7 & 9.518412 & 1.0441342 & 0.0001302209 & 1.0440040 & 0.06076378 & 1.0440040\\\\\n",
       "\t8 & ENSMUST00000136299 & 1.374398e-12 & 8.255836e-09 & 70.15534 &  26.363584 & 7 & 8.066746 & 1.1462428 & 0.0004998462 & 1.1457429 & 0.06734164 & 1.1457429\\\\\n",
       "\t9 & ENSMUST00000014892 & 2.382672e-12 & 1.272214e-08 & 68.97237 &  15.942756 & 7 & 6.670008 & 0.6931633 & 0.0027184562 & 0.6904448 & 0.10375566 & 0.6904448\\\\\n",
       "\t10 & ENSMUST00000004949 & 4.088220e-12 & 1.964594e-08 & 67.81014 &  29.054561 & 7 & 5.892552 & 1.2632418 & 0.0066628145 & 1.2565790 & 0.14910365 & 1.2565790\\\\\n",
       "\t11 & ENSMUST00000033866 & 1.501651e-11 & 6.013487e-08 & 65.00313 &  10.135222 & 7 & 7.648090 & 0.4406618 & 0.0007730289 & 0.4398888 & 0.07425387 & 0.4398888\\\\\n",
       "\t12 & ENSMUST00000032747 & 1.464767e-11 & 6.013487e-08 & 65.05687 &  60.830140 & 7 & 4.413944 & 2.6447887 & 0.0796148464 & 2.5651738 & 0.33169214 & 2.5651738\\\\\n",
       "\t13 & ENSMUST00000091190 & 2.045639e-11 & 7.209936e-08 & 64.33478 &  37.078975 & 7 & 6.135758 & 1.6121293 & 0.0060172597 & 1.6061121 & 0.13233592 & 1.6061121\\\\\n",
       "\t14 & ENSMUST00000052027 & 2.100491e-11 & 7.209936e-08 & 64.27755 &  34.417660 & 7 & 5.546691 & 1.4964200 & 0.0098973854 & 1.4865226 & 0.17804995 & 1.4865226\\\\\n",
       "\t15 & ENSMUST00000002400 & 2.310938e-11 & 7.403476e-08 & 64.07100 &  16.829977 & 7 & 6.372578 & 0.7317381 & 0.0027712808 & 0.7289668 & 0.11834396 & 0.7289668\\\\\n",
       "\t16 & ENSMUST00000097228 & 3.348513e-11 & 9.232058e-08 & 63.26824 &  30.827146 & 7 & 5.315158 & 1.3403107 & 0.0130789123 & 1.3272318 & 0.20167668 & 1.3272318\\\\\n",
       "\t17 & ENSMUST00000160289 & 3.458060e-11 & 9.232058e-08 & 63.19852 &   7.523589 & 7 & 8.188183 & 0.3271126 & 0.0003795243 & 0.3267331 & 0.06581499 & 0.3267331\\\\\n",
       "\t18 & ENSMUST00000022945 & 3.345631e-11 & 9.232058e-08 & 63.27010 &  13.315491 & 7 & 7.483690 & 0.5789344 & 0.0008690044 & 0.5780654 & 0.07774491 & 0.5780654\\\\\n",
       "\t19 & ENSMUST00000087557 & 3.923126e-11 & 9.922413e-08 & 62.92518 &  28.529367 & 7 & 5.824121 & 1.2404072 & 0.0069853791 & 1.2334219 & 0.15428595 & 1.2334219\\\\\n",
       "\t20 & ENSMUST00000151797 & 5.132499e-11 & 1.233211e-07 & 62.34278 & 121.141927 & 7 & 3.644737 & 5.2670403 & 0.1190867605 & 5.1479536 & 0.51106168 & 5.1479536\\\\\n",
       "\\end{tabular}\n"
      ],
      "text/markdown": [
       "\n",
       "A data.frame: 20 × 12\n",
       "\n",
       "| <!--/--> | target_id &lt;chr&gt; | pval &lt;dbl&gt; | qval &lt;dbl&gt; | test_stat &lt;dbl&gt; | rss &lt;dbl&gt; | degrees_free &lt;int&gt; | mean_obs &lt;dbl&gt; | var_obs &lt;dbl&gt; | tech_var &lt;dbl&gt; | sigma_sq &lt;dbl&gt; | smooth_sigma_sq &lt;dbl&gt; | final_sigma_sq &lt;dbl&gt; |\n",
       "|---|---|---|---|---|---|---|---|---|---|---|---|---|\n",
       "| 1 | ENSMUST00000029644 | 3.047563e-14 | 1.464506e-09 | 78.30769 |  22.208030 | 7 | 6.862515 | 0.9655665 | 0.0029059542 | 0.9626605 | 0.09593575 | 0.9626605 |\n",
       "| 2 | ENSMUST00000102763 | 1.079232e-13 | 2.593125e-09 | 75.60788 |  16.367575 | 7 | 7.556659 | 0.7116337 | 0.0008762691 | 0.7107574 | 0.07613686 | 0.7107574 |\n",
       "| 3 | ENSMUST00000006451 | 3.690048e-13 | 4.026421e-09 | 72.97684 |  20.415453 | 7 | 7.017841 | 0.8876284 | 0.0033801130 | 0.8842483 | 0.09048501 | 0.8842483 |\n",
       "| 4 | ENSMUST00000155572 | 4.189388e-13 | 4.026421e-09 | 72.70486 |  16.652961 | 7 | 8.060573 | 0.7240418 | 0.0004519891 | 0.7235898 | 0.06742466 | 0.7235898 |\n",
       "| 5 | ENSMUST00000078953 | 4.004208e-13 | 4.026421e-09 | 72.80175 |  44.937222 | 7 | 5.188072 | 1.9537923 | 0.0177739637 | 1.9360183 | 0.21619344 | 1.9360183 |\n",
       "| 6 | ENSMUST00000168900 | 6.272445e-13 | 5.023706e-09 | 71.83944 |  20.212557 | 7 | 7.059538 | 0.8788068 | 0.0019773653 | 0.8768295 | 0.08914646 | 0.8768295 |\n",
       "| 7 | ENSMUST00000171066 | 1.212480e-12 | 8.255836e-09 | 70.42464 |  24.015087 | 7 | 9.518412 | 1.0441342 | 0.0001302209 | 1.0440040 | 0.06076378 | 1.0440040 |\n",
       "| 8 | ENSMUST00000136299 | 1.374398e-12 | 8.255836e-09 | 70.15534 |  26.363584 | 7 | 8.066746 | 1.1462428 | 0.0004998462 | 1.1457429 | 0.06734164 | 1.1457429 |\n",
       "| 9 | ENSMUST00000014892 | 2.382672e-12 | 1.272214e-08 | 68.97237 |  15.942756 | 7 | 6.670008 | 0.6931633 | 0.0027184562 | 0.6904448 | 0.10375566 | 0.6904448 |\n",
       "| 10 | ENSMUST00000004949 | 4.088220e-12 | 1.964594e-08 | 67.81014 |  29.054561 | 7 | 5.892552 | 1.2632418 | 0.0066628145 | 1.2565790 | 0.14910365 | 1.2565790 |\n",
       "| 11 | ENSMUST00000033866 | 1.501651e-11 | 6.013487e-08 | 65.00313 |  10.135222 | 7 | 7.648090 | 0.4406618 | 0.0007730289 | 0.4398888 | 0.07425387 | 0.4398888 |\n",
       "| 12 | ENSMUST00000032747 | 1.464767e-11 | 6.013487e-08 | 65.05687 |  60.830140 | 7 | 4.413944 | 2.6447887 | 0.0796148464 | 2.5651738 | 0.33169214 | 2.5651738 |\n",
       "| 13 | ENSMUST00000091190 | 2.045639e-11 | 7.209936e-08 | 64.33478 |  37.078975 | 7 | 6.135758 | 1.6121293 | 0.0060172597 | 1.6061121 | 0.13233592 | 1.6061121 |\n",
       "| 14 | ENSMUST00000052027 | 2.100491e-11 | 7.209936e-08 | 64.27755 |  34.417660 | 7 | 5.546691 | 1.4964200 | 0.0098973854 | 1.4865226 | 0.17804995 | 1.4865226 |\n",
       "| 15 | ENSMUST00000002400 | 2.310938e-11 | 7.403476e-08 | 64.07100 |  16.829977 | 7 | 6.372578 | 0.7317381 | 0.0027712808 | 0.7289668 | 0.11834396 | 0.7289668 |\n",
       "| 16 | ENSMUST00000097228 | 3.348513e-11 | 9.232058e-08 | 63.26824 |  30.827146 | 7 | 5.315158 | 1.3403107 | 0.0130789123 | 1.3272318 | 0.20167668 | 1.3272318 |\n",
       "| 17 | ENSMUST00000160289 | 3.458060e-11 | 9.232058e-08 | 63.19852 |   7.523589 | 7 | 8.188183 | 0.3271126 | 0.0003795243 | 0.3267331 | 0.06581499 | 0.3267331 |\n",
       "| 18 | ENSMUST00000022945 | 3.345631e-11 | 9.232058e-08 | 63.27010 |  13.315491 | 7 | 7.483690 | 0.5789344 | 0.0008690044 | 0.5780654 | 0.07774491 | 0.5780654 |\n",
       "| 19 | ENSMUST00000087557 | 3.923126e-11 | 9.922413e-08 | 62.92518 |  28.529367 | 7 | 5.824121 | 1.2404072 | 0.0069853791 | 1.2334219 | 0.15428595 | 1.2334219 |\n",
       "| 20 | ENSMUST00000151797 | 5.132499e-11 | 1.233211e-07 | 62.34278 | 121.141927 | 7 | 3.644737 | 5.2670403 | 0.1190867605 | 5.1479536 | 0.51106168 | 5.1479536 |\n",
       "\n"
      ],
      "text/plain": [
       "   target_id          pval         qval         test_stat rss       \n",
       "1  ENSMUST00000029644 3.047563e-14 1.464506e-09 78.30769   22.208030\n",
       "2  ENSMUST00000102763 1.079232e-13 2.593125e-09 75.60788   16.367575\n",
       "3  ENSMUST00000006451 3.690048e-13 4.026421e-09 72.97684   20.415453\n",
       "4  ENSMUST00000155572 4.189388e-13 4.026421e-09 72.70486   16.652961\n",
       "5  ENSMUST00000078953 4.004208e-13 4.026421e-09 72.80175   44.937222\n",
       "6  ENSMUST00000168900 6.272445e-13 5.023706e-09 71.83944   20.212557\n",
       "7  ENSMUST00000171066 1.212480e-12 8.255836e-09 70.42464   24.015087\n",
       "8  ENSMUST00000136299 1.374398e-12 8.255836e-09 70.15534   26.363584\n",
       "9  ENSMUST00000014892 2.382672e-12 1.272214e-08 68.97237   15.942756\n",
       "10 ENSMUST00000004949 4.088220e-12 1.964594e-08 67.81014   29.054561\n",
       "11 ENSMUST00000033866 1.501651e-11 6.013487e-08 65.00313   10.135222\n",
       "12 ENSMUST00000032747 1.464767e-11 6.013487e-08 65.05687   60.830140\n",
       "13 ENSMUST00000091190 2.045639e-11 7.209936e-08 64.33478   37.078975\n",
       "14 ENSMUST00000052027 2.100491e-11 7.209936e-08 64.27755   34.417660\n",
       "15 ENSMUST00000002400 2.310938e-11 7.403476e-08 64.07100   16.829977\n",
       "16 ENSMUST00000097228 3.348513e-11 9.232058e-08 63.26824   30.827146\n",
       "17 ENSMUST00000160289 3.458060e-11 9.232058e-08 63.19852    7.523589\n",
       "18 ENSMUST00000022945 3.345631e-11 9.232058e-08 63.27010   13.315491\n",
       "19 ENSMUST00000087557 3.923126e-11 9.922413e-08 62.92518   28.529367\n",
       "20 ENSMUST00000151797 5.132499e-11 1.233211e-07 62.34278  121.141927\n",
       "   degrees_free mean_obs var_obs   tech_var     sigma_sq  smooth_sigma_sq\n",
       "1  7            6.862515 0.9655665 0.0029059542 0.9626605 0.09593575     \n",
       "2  7            7.556659 0.7116337 0.0008762691 0.7107574 0.07613686     \n",
       "3  7            7.017841 0.8876284 0.0033801130 0.8842483 0.09048501     \n",
       "4  7            8.060573 0.7240418 0.0004519891 0.7235898 0.06742466     \n",
       "5  7            5.188072 1.9537923 0.0177739637 1.9360183 0.21619344     \n",
       "6  7            7.059538 0.8788068 0.0019773653 0.8768295 0.08914646     \n",
       "7  7            9.518412 1.0441342 0.0001302209 1.0440040 0.06076378     \n",
       "8  7            8.066746 1.1462428 0.0004998462 1.1457429 0.06734164     \n",
       "9  7            6.670008 0.6931633 0.0027184562 0.6904448 0.10375566     \n",
       "10 7            5.892552 1.2632418 0.0066628145 1.2565790 0.14910365     \n",
       "11 7            7.648090 0.4406618 0.0007730289 0.4398888 0.07425387     \n",
       "12 7            4.413944 2.6447887 0.0796148464 2.5651738 0.33169214     \n",
       "13 7            6.135758 1.6121293 0.0060172597 1.6061121 0.13233592     \n",
       "14 7            5.546691 1.4964200 0.0098973854 1.4865226 0.17804995     \n",
       "15 7            6.372578 0.7317381 0.0027712808 0.7289668 0.11834396     \n",
       "16 7            5.315158 1.3403107 0.0130789123 1.3272318 0.20167668     \n",
       "17 7            8.188183 0.3271126 0.0003795243 0.3267331 0.06581499     \n",
       "18 7            7.483690 0.5789344 0.0008690044 0.5780654 0.07774491     \n",
       "19 7            5.824121 1.2404072 0.0069853791 1.2334219 0.15428595     \n",
       "20 7            3.644737 5.2670403 0.1190867605 5.1479536 0.51106168     \n",
       "   final_sigma_sq\n",
       "1  0.9626605     \n",
       "2  0.7107574     \n",
       "3  0.8842483     \n",
       "4  0.7235898     \n",
       "5  1.9360183     \n",
       "6  0.8768295     \n",
       "7  1.0440040     \n",
       "8  1.1457429     \n",
       "9  0.6904448     \n",
       "10 1.2565790     \n",
       "11 0.4398888     \n",
       "12 2.5651738     \n",
       "13 1.6061121     \n",
       "14 1.4865226     \n",
       "15 0.7289668     \n",
       "16 1.3272318     \n",
       "17 0.3267331     \n",
       "18 0.5780654     \n",
       "19 1.2334219     \n",
       "20 5.1479536     "
      ]
     },
     "metadata": {},
     "output_type": "display_data"
    }
   ],
   "source": [
    "# Getting results of test -- from pachterlab tutorial\n",
    "\n",
    "sleuth_table <- sleuth_results(so, 'reduced:full', 'lrt', show_all = TRUE)\n",
    "sleuth_significant <- dplyr::filter(sleuth_table, qval <= 0.05)\n",
    "head(sleuth_significant, 20)"
   ]
  },
  {
   "cell_type": "markdown",
   "id": "142a3cd4-26da-4648-a9c7-77f6e217945a",
   "metadata": {},
   "source": [
    "Checking how many significant DE genes (transcripts)"
   ]
  },
  {
   "cell_type": "code",
   "execution_count": 22,
   "id": "14781caf-8273-4813-beb5-4ba271cc76de",
   "metadata": {},
   "outputs": [
    {
     "data": {
      "text/html": [
       "<style>\n",
       ".list-inline {list-style: none; margin:0; padding: 0}\n",
       ".list-inline>li {display: inline-block}\n",
       ".list-inline>li:not(:last-child)::after {content: \"\\00b7\"; padding: 0 .5ex}\n",
       "</style>\n",
       "<ol class=list-inline><li>88366</li><li>12</li></ol>\n"
      ],
      "text/latex": [
       "\\begin{enumerate*}\n",
       "\\item 88366\n",
       "\\item 12\n",
       "\\end{enumerate*}\n"
      ],
      "text/markdown": [
       "1. 88366\n",
       "2. 12\n",
       "\n",
       "\n"
      ],
      "text/plain": [
       "[1] 88366    12"
      ]
     },
     "metadata": {},
     "output_type": "display_data"
    },
    {
     "data": {
      "text/html": [
       "<style>\n",
       ".list-inline {list-style: none; margin:0; padding: 0}\n",
       ".list-inline>li {display: inline-block}\n",
       ".list-inline>li:not(:last-child)::after {content: \"\\00b7\"; padding: 0 .5ex}\n",
       "</style>\n",
       "<ol class=list-inline><li>1018</li><li>12</li></ol>\n"
      ],
      "text/latex": [
       "\\begin{enumerate*}\n",
       "\\item 1018\n",
       "\\item 12\n",
       "\\end{enumerate*}\n"
      ],
      "text/markdown": [
       "1. 1018\n",
       "2. 12\n",
       "\n",
       "\n"
      ],
      "text/plain": [
       "[1] 1018   12"
      ]
     },
     "metadata": {},
     "output_type": "display_data"
    }
   ],
   "source": [
    "dim(sleuth_table)\n",
    "dim(sleuth_significant)"
   ]
  },
  {
   "cell_type": "code",
   "execution_count": 23,
   "id": "bf30a2c5-9370-4863-a04d-1de94318d548",
   "metadata": {},
   "outputs": [
    {
     "data": {
      "text/html": [
       "0.0211840599313287"
      ],
      "text/latex": [
       "0.0211840599313287"
      ],
      "text/markdown": [
       "0.0211840599313287"
      ],
      "text/plain": [
       "[1] 0.02118406"
      ]
     },
     "metadata": {},
     "output_type": "display_data"
    }
   ],
   "source": [
    "1018/48055"
   ]
  },
  {
   "cell_type": "markdown",
   "id": "050d02a7-12e7-4597-9312-04966ab15727",
   "metadata": {},
   "source": [
    "The significant genes do not appear to have changed with this test, now using the correct base case. Understanding the LRT better now, this makes sense since there is not a comparison to RNA-seq_CTCF-AID_untreated happening at this stage."
   ]
  },
  {
   "cell_type": "code",
   "execution_count": 24,
   "id": "64ed9adc-db42-473f-9054-7476a7997918",
   "metadata": {},
   "outputs": [
    {
     "data": {
      "image/png": "[encoded data removed]",
      "text/plain": [
       "plot without title"
      ]
     },
     "metadata": {
      "image/png": {
       "height": 420,
       "width": 420
      }
     },
     "output_type": "display_data"
    }
   ],
   "source": [
    "plot_bootstrap(so, \"ENSMUST00000029644\", units = \"est_counts\", color_by = \"condition\")"
   ]
  },
  {
   "cell_type": "markdown",
   "id": "933f3e1a-f8ab-4256-85d2-caf69f0eb191",
   "metadata": {
    "tags": []
   },
   "source": [
    "## Wald Test for each individual conditions\n",
    "\n",
    "Specify which_beta = the condition that we want to compare against the base level. \n",
    "\n",
    "Going to use 2-days auxin treatment at first and do some analysis, but will want to add a test fo reach of the conditions we're looking into here. \n"
   ]
  },
  {
   "cell_type": "markdown",
   "id": "12e2535a-b268-4029-a32c-03466624989b",
   "metadata": {},
   "source": [
    "sleuth_wt: Wald test for a sleuth model\n",
    "\n",
    "`sleuth_wt(obj, which_beta, which_model = \"full\")`\n",
    "* computes the Wald test on one specific 'beta' coefficient on every transcript.\n",
    "* WT is used becase it generates the beta statistic, which approximates to the log2 fold change in expression between the 2 condition tested\n",
    "* sleuth does not \n"
   ]
  },
  {
   "cell_type": "code",
   "execution_count": 25,
   "id": "23f3e85f-eeea-466d-8ab9-16cc6675dcca",
   "metadata": {},
   "outputs": [
    {
     "name": "stdout",
     "output_type": "stream",
     "text": [
      "[  full  ]\n",
      "formula:  ~condition \n",
      "data modeled:  obs_counts \n",
      "transform sync'ed:  TRUE \n",
      "coefficients:\n",
      "\t(Intercept)\n",
      " \tcondition RNA-seq_CTCF-AID_auxin1day\n",
      " \tcondition RNA-seq_CTCF-AID_auxin2days\n",
      " \tcondition RNA-seq_CTCF-AID_auxin4days\n",
      " \tcondition RNA-seq_CTCF-AID_washoff2days\n",
      " \tcondition RNA-seq_WT-untagged_auxin2days\n",
      " \tcondition RNA-seq_WT-untagged_auxin4days\n",
      " \tcondition RNA-seq_WT-untagged_untreated\n",
      "[  reduced  ]\n",
      "formula:  ~1 \n",
      "data modeled:  obs_counts \n",
      "transform sync'ed:  TRUE \n",
      "coefficients:\n",
      "\t(Intercept)\n"
     ]
    }
   ],
   "source": [
    "models(so)"
   ]
  },
  {
   "cell_type": "code",
   "execution_count": 26,
   "id": "ad60f8f5-1eb5-4fe9-917f-d1bb2c73ed56",
   "metadata": {},
   "outputs": [],
   "source": [
    "# specify which_beta = the condition that we want to compare against. Use 2-days auxin treatment for now \n",
    "so <- sleuth_wt(so, which_beta = 'condition RNA-seq_CTCF-AID_auxin1day')"
   ]
  },
  {
   "cell_type": "code",
   "execution_count": 27,
   "id": "d9f39885-8199-4d00-90c1-f36aedf52d8b",
   "metadata": {},
   "outputs": [],
   "source": [
    "sleuth_results_wt <- sleuth_results(so, \n",
    "                                    test = 'condition RNA-seq_CTCF-AID_auxin1day', \n",
    "                                    show_all = TRUE)"
   ]
  },
  {
   "cell_type": "code",
   "execution_count": 28,
   "id": "a067506a-a053-49ad-a159-c860ce997c21",
   "metadata": {},
   "outputs": [
    {
     "data": {
      "text/html": [
       "<table class=\"dataframe\">\n",
       "<caption>A data.frame: 10 × 11</caption>\n",
       "<thead>\n",
       "\t<tr><th></th><th scope=col>target_id</th><th scope=col>pval</th><th scope=col>qval</th><th scope=col>b</th><th scope=col>se_b</th><th scope=col>mean_obs</th><th scope=col>var_obs</th><th scope=col>tech_var</th><th scope=col>sigma_sq</th><th scope=col>smooth_sigma_sq</th><th scope=col>final_sigma_sq</th></tr>\n",
       "\t<tr><th></th><th scope=col>&lt;chr&gt;</th><th scope=col>&lt;dbl&gt;</th><th scope=col>&lt;dbl&gt;</th><th scope=col>&lt;dbl&gt;</th><th scope=col>&lt;dbl&gt;</th><th scope=col>&lt;dbl&gt;</th><th scope=col>&lt;dbl&gt;</th><th scope=col>&lt;dbl&gt;</th><th scope=col>&lt;dbl&gt;</th><th scope=col>&lt;dbl&gt;</th><th scope=col>&lt;dbl&gt;</th></tr>\n",
       "</thead>\n",
       "<tbody>\n",
       "\t<tr><th scope=row>1</th><td>ENSMUST00000168900</td><td>2.872365e-17</td><td>1.380315e-12</td><td>-1.905176</td><td>0.2254208</td><td>7.059538</td><td>0.8788068</td><td>0.0019773653</td><td>0.04489230</td><td>0.07424445</td><td>0.07424445</td></tr>\n",
       "\t<tr><th scope=row>2</th><td>ENSMUST00000006451</td><td>1.002711e-15</td><td>1.606176e-11</td><td>-1.839779</td><td>0.2292124</td><td>7.017841</td><td>0.8876284</td><td>0.0033801130</td><td>0.03671444</td><td>0.07542735</td><td>0.07542735</td></tr>\n",
       "\t<tr><th scope=row>3</th><td>ENSMUST00000102763</td><td>6.894337e-16</td><td>1.606176e-11</td><td>-1.662413</td><td>0.2059385</td><td>7.556659</td><td>0.7116337</td><td>0.0008762691</td><td>0.02037499</td><td>0.06273970</td><td>0.06273970</td></tr>\n",
       "\t<tr><th scope=row>4</th><td>ENSMUST00000029644</td><td>1.007347e-14</td><td>1.210202e-10</td><td>-1.821647</td><td>0.2354059</td><td>6.862515</td><td>0.9655665</td><td>0.0029059542</td><td>0.01553460</td><td>0.08021792</td><td>0.08021792</td></tr>\n",
       "\t<tr><th scope=row>5</th><td>ENSMUST00000108830</td><td>1.827492e-13</td><td>1.756403e-09</td><td>-6.382005</td><td>0.8670207</td><td>3.389990</td><td>8.9131355</td><td>0.2951307665</td><td>0.83245665</td><td>0.57447928</td><td>0.83245665</td></tr>\n",
       "\t<tr><th scope=row>6</th><td>ENSMUST00000032747</td><td>1.137684e-12</td><td>9.111900e-09</td><td>-3.597136</td><td>0.5057319</td><td>4.413944</td><td>2.6447887</td><td>0.0796148464</td><td>0.02296489</td><td>0.30403235</td><td>0.30403235</td></tr>\n",
       "\t<tr><th scope=row>7</th><td>ENSMUST00000078953</td><td>6.639283e-12</td><td>4.557868e-08</td><td>-2.554509</td><td>0.3720947</td><td>5.188072</td><td>1.9537923</td><td>0.0177739637</td><td>0.03407843</td><td>0.18990770</td><td>0.18990770</td></tr>\n",
       "\t<tr><th scope=row>8</th><td>ENSMUST00000014892</td><td>8.574306e-12</td><td>4.819460e-08</td><td>-1.670568</td><td>0.2446426</td><td>6.670008</td><td>0.6931633</td><td>0.0027184562</td><td>0.01457809</td><td>0.08705654</td><td>0.08705654</td></tr>\n",
       "\t<tr><th scope=row>9</th><td>ENSMUST00000034097</td><td>9.885852e-12</td><td>4.819460e-08</td><td>-1.238389</td><td>0.1818979</td><td>8.730232</td><td>0.4182998</td><td>0.0002998160</td><td>0.03687634</td><td>0.04933048</td><td>0.04933048</td></tr>\n",
       "\t<tr><th scope=row>10</th><td>ENSMUST00000004949</td><td>1.002905e-11</td><td>4.819460e-08</td><td>-2.033638</td><td>0.2987971</td><td>5.892552</td><td>1.2632418</td><td>0.0066628145</td><td>0.06909039</td><td>0.12725675</td><td>0.12725675</td></tr>\n",
       "</tbody>\n",
       "</table>\n"
      ],
      "text/latex": [
       "A data.frame: 10 × 11\n",
       "\\begin{tabular}{r|lllllllllll}\n",
       "  & target\\_id & pval & qval & b & se\\_b & mean\\_obs & var\\_obs & tech\\_var & sigma\\_sq & smooth\\_sigma\\_sq & final\\_sigma\\_sq\\\\\n",
       "  & <chr> & <dbl> & <dbl> & <dbl> & <dbl> & <dbl> & <dbl> & <dbl> & <dbl> & <dbl> & <dbl>\\\\\n",
       "\\hline\n",
       "\t1 & ENSMUST00000168900 & 2.872365e-17 & 1.380315e-12 & -1.905176 & 0.2254208 & 7.059538 & 0.8788068 & 0.0019773653 & 0.04489230 & 0.07424445 & 0.07424445\\\\\n",
       "\t2 & ENSMUST00000006451 & 1.002711e-15 & 1.606176e-11 & -1.839779 & 0.2292124 & 7.017841 & 0.8876284 & 0.0033801130 & 0.03671444 & 0.07542735 & 0.07542735\\\\\n",
       "\t3 & ENSMUST00000102763 & 6.894337e-16 & 1.606176e-11 & -1.662413 & 0.2059385 & 7.556659 & 0.7116337 & 0.0008762691 & 0.02037499 & 0.06273970 & 0.06273970\\\\\n",
       "\t4 & ENSMUST00000029644 & 1.007347e-14 & 1.210202e-10 & -1.821647 & 0.2354059 & 6.862515 & 0.9655665 & 0.0029059542 & 0.01553460 & 0.08021792 & 0.08021792\\\\\n",
       "\t5 & ENSMUST00000108830 & 1.827492e-13 & 1.756403e-09 & -6.382005 & 0.8670207 & 3.389990 & 8.9131355 & 0.2951307665 & 0.83245665 & 0.57447928 & 0.83245665\\\\\n",
       "\t6 & ENSMUST00000032747 & 1.137684e-12 & 9.111900e-09 & -3.597136 & 0.5057319 & 4.413944 & 2.6447887 & 0.0796148464 & 0.02296489 & 0.30403235 & 0.30403235\\\\\n",
       "\t7 & ENSMUST00000078953 & 6.639283e-12 & 4.557868e-08 & -2.554509 & 0.3720947 & 5.188072 & 1.9537923 & 0.0177739637 & 0.03407843 & 0.18990770 & 0.18990770\\\\\n",
       "\t8 & ENSMUST00000014892 & 8.574306e-12 & 4.819460e-08 & -1.670568 & 0.2446426 & 6.670008 & 0.6931633 & 0.0027184562 & 0.01457809 & 0.08705654 & 0.08705654\\\\\n",
       "\t9 & ENSMUST00000034097 & 9.885852e-12 & 4.819460e-08 & -1.238389 & 0.1818979 & 8.730232 & 0.4182998 & 0.0002998160 & 0.03687634 & 0.04933048 & 0.04933048\\\\\n",
       "\t10 & ENSMUST00000004949 & 1.002905e-11 & 4.819460e-08 & -2.033638 & 0.2987971 & 5.892552 & 1.2632418 & 0.0066628145 & 0.06909039 & 0.12725675 & 0.12725675\\\\\n",
       "\\end{tabular}\n"
      ],
      "text/markdown": [
       "\n",
       "A data.frame: 10 × 11\n",
       "\n",
       "| <!--/--> | target_id &lt;chr&gt; | pval &lt;dbl&gt; | qval &lt;dbl&gt; | b &lt;dbl&gt; | se_b &lt;dbl&gt; | mean_obs &lt;dbl&gt; | var_obs &lt;dbl&gt; | tech_var &lt;dbl&gt; | sigma_sq &lt;dbl&gt; | smooth_sigma_sq &lt;dbl&gt; | final_sigma_sq &lt;dbl&gt; |\n",
       "|---|---|---|---|---|---|---|---|---|---|---|---|\n",
       "| 1 | ENSMUST00000168900 | 2.872365e-17 | 1.380315e-12 | -1.905176 | 0.2254208 | 7.059538 | 0.8788068 | 0.0019773653 | 0.04489230 | 0.07424445 | 0.07424445 |\n",
       "| 2 | ENSMUST00000006451 | 1.002711e-15 | 1.606176e-11 | -1.839779 | 0.2292124 | 7.017841 | 0.8876284 | 0.0033801130 | 0.03671444 | 0.07542735 | 0.07542735 |\n",
       "| 3 | ENSMUST00000102763 | 6.894337e-16 | 1.606176e-11 | -1.662413 | 0.2059385 | 7.556659 | 0.7116337 | 0.0008762691 | 0.02037499 | 0.06273970 | 0.06273970 |\n",
       "| 4 | ENSMUST00000029644 | 1.007347e-14 | 1.210202e-10 | -1.821647 | 0.2354059 | 6.862515 | 0.9655665 | 0.0029059542 | 0.01553460 | 0.08021792 | 0.08021792 |\n",
       "| 5 | ENSMUST00000108830 | 1.827492e-13 | 1.756403e-09 | -6.382005 | 0.8670207 | 3.389990 | 8.9131355 | 0.2951307665 | 0.83245665 | 0.57447928 | 0.83245665 |\n",
       "| 6 | ENSMUST00000032747 | 1.137684e-12 | 9.111900e-09 | -3.597136 | 0.5057319 | 4.413944 | 2.6447887 | 0.0796148464 | 0.02296489 | 0.30403235 | 0.30403235 |\n",
       "| 7 | ENSMUST00000078953 | 6.639283e-12 | 4.557868e-08 | -2.554509 | 0.3720947 | 5.188072 | 1.9537923 | 0.0177739637 | 0.03407843 | 0.18990770 | 0.18990770 |\n",
       "| 8 | ENSMUST00000014892 | 8.574306e-12 | 4.819460e-08 | -1.670568 | 0.2446426 | 6.670008 | 0.6931633 | 0.0027184562 | 0.01457809 | 0.08705654 | 0.08705654 |\n",
       "| 9 | ENSMUST00000034097 | 9.885852e-12 | 4.819460e-08 | -1.238389 | 0.1818979 | 8.730232 | 0.4182998 | 0.0002998160 | 0.03687634 | 0.04933048 | 0.04933048 |\n",
       "| 10 | ENSMUST00000004949 | 1.002905e-11 | 4.819460e-08 | -2.033638 | 0.2987971 | 5.892552 | 1.2632418 | 0.0066628145 | 0.06909039 | 0.12725675 | 0.12725675 |\n",
       "\n"
      ],
      "text/plain": [
       "   target_id          pval         qval         b         se_b      mean_obs\n",
       "1  ENSMUST00000168900 2.872365e-17 1.380315e-12 -1.905176 0.2254208 7.059538\n",
       "2  ENSMUST00000006451 1.002711e-15 1.606176e-11 -1.839779 0.2292124 7.017841\n",
       "3  ENSMUST00000102763 6.894337e-16 1.606176e-11 -1.662413 0.2059385 7.556659\n",
       "4  ENSMUST00000029644 1.007347e-14 1.210202e-10 -1.821647 0.2354059 6.862515\n",
       "5  ENSMUST00000108830 1.827492e-13 1.756403e-09 -6.382005 0.8670207 3.389990\n",
       "6  ENSMUST00000032747 1.137684e-12 9.111900e-09 -3.597136 0.5057319 4.413944\n",
       "7  ENSMUST00000078953 6.639283e-12 4.557868e-08 -2.554509 0.3720947 5.188072\n",
       "8  ENSMUST00000014892 8.574306e-12 4.819460e-08 -1.670568 0.2446426 6.670008\n",
       "9  ENSMUST00000034097 9.885852e-12 4.819460e-08 -1.238389 0.1818979 8.730232\n",
       "10 ENSMUST00000004949 1.002905e-11 4.819460e-08 -2.033638 0.2987971 5.892552\n",
       "   var_obs   tech_var     sigma_sq   smooth_sigma_sq final_sigma_sq\n",
       "1  0.8788068 0.0019773653 0.04489230 0.07424445      0.07424445    \n",
       "2  0.8876284 0.0033801130 0.03671444 0.07542735      0.07542735    \n",
       "3  0.7116337 0.0008762691 0.02037499 0.06273970      0.06273970    \n",
       "4  0.9655665 0.0029059542 0.01553460 0.08021792      0.08021792    \n",
       "5  8.9131355 0.2951307665 0.83245665 0.57447928      0.83245665    \n",
       "6  2.6447887 0.0796148464 0.02296489 0.30403235      0.30403235    \n",
       "7  1.9537923 0.0177739637 0.03407843 0.18990770      0.18990770    \n",
       "8  0.6931633 0.0027184562 0.01457809 0.08705654      0.08705654    \n",
       "9  0.4182998 0.0002998160 0.03687634 0.04933048      0.04933048    \n",
       "10 1.2632418 0.0066628145 0.06909039 0.12725675      0.12725675    "
      ]
     },
     "metadata": {},
     "output_type": "display_data"
    },
    {
     "data": {
      "text/html": [
       "<style>\n",
       ".list-inline {list-style: none; margin:0; padding: 0}\n",
       ".list-inline>li {display: inline-block}\n",
       ".list-inline>li:not(:last-child)::after {content: \"\\00b7\"; padding: 0 .5ex}\n",
       "</style>\n",
       "<ol class=list-inline><li>88366</li><li>11</li></ol>\n"
      ],
      "text/latex": [
       "\\begin{enumerate*}\n",
       "\\item 88366\n",
       "\\item 11\n",
       "\\end{enumerate*}\n"
      ],
      "text/markdown": [
       "1. 88366\n",
       "2. 11\n",
       "\n",
       "\n"
      ],
      "text/plain": [
       "[1] 88366    11"
      ]
     },
     "metadata": {},
     "output_type": "display_data"
    }
   ],
   "source": [
    "head(sleuth_results_wt, 10)\n",
    "dim(sleuth_results_wt)"
   ]
  },
  {
   "cell_type": "markdown",
   "id": "93335003-9a7b-449a-9245-d6339d758ddf",
   "metadata": {},
   "source": [
    "Note:\n",
    "\n",
    "The output represents the results from the differential expression testing with the following columns:\n",
    "\n",
    "- target_id: the Ensembl transcript ID\n",
    "- pval: the Wald test FDR adjusted pvalue using Benjamini-Hochberg\n",
    "- qval: the p-value adjusted for multiple test correction\n",
    "- b: beta value, which is the log2 fold changes between conditions (These are log2 b/c we specified log2 transformation in the sleuth_prep() step. By default, these would have been natural log fold changes).\n",
    "- se_b: standard error of the beta value\n",
    "- mean_obs: the mean expression (log2) of the transcript across all samples\n",
    "- var_obs: the biological variance of the expression\n",
    "- tech_var: the technical variance of expression (derived from the bootstraps)\n",
    "- sigma_sq: raw estimator of the variance once the technical variance has been removed\n",
    "- smooth_sigma_sq: the smooth regression fit for the shrinkage estimation\n",
    "- final_sigma_sq: max(sigma_sq, smooth_sigma_sq). this is the one used for covariance estimation of beta (in addition to tech_var)\n",
    "- ens_gene: associated Ensembl gene ID\n",
    "- ext_gene: associated gene symbol"
   ]
  },
  {
   "cell_type": "code",
   "execution_count": 29,
   "id": "2a15d730-37a7-4936-8dfa-3b6c2facda51",
   "metadata": {},
   "outputs": [
    {
     "data": {
      "text/html": [
       "<table class=\"dataframe\">\n",
       "<caption>A data.frame: 76 × 11</caption>\n",
       "<thead>\n",
       "\t<tr><th scope=col>target_id</th><th scope=col>pval</th><th scope=col>qval</th><th scope=col>b</th><th scope=col>se_b</th><th scope=col>mean_obs</th><th scope=col>var_obs</th><th scope=col>tech_var</th><th scope=col>sigma_sq</th><th scope=col>smooth_sigma_sq</th><th scope=col>final_sigma_sq</th></tr>\n",
       "\t<tr><th scope=col>&lt;chr&gt;</th><th scope=col>&lt;dbl&gt;</th><th scope=col>&lt;dbl&gt;</th><th scope=col>&lt;dbl&gt;</th><th scope=col>&lt;dbl&gt;</th><th scope=col>&lt;dbl&gt;</th><th scope=col>&lt;dbl&gt;</th><th scope=col>&lt;dbl&gt;</th><th scope=col>&lt;dbl&gt;</th><th scope=col>&lt;dbl&gt;</th><th scope=col>&lt;dbl&gt;</th></tr>\n",
       "</thead>\n",
       "<tbody>\n",
       "\t<tr><td>ENSMUST00000168900</td><td>2.872365e-17</td><td>1.380315e-12</td><td>-1.905176</td><td>0.2254208</td><td>7.059538</td><td>0.8788068</td><td>0.0019773653</td><td> 0.044892297</td><td>0.07424445</td><td>0.07424445</td></tr>\n",
       "\t<tr><td>ENSMUST00000006451</td><td>1.002711e-15</td><td>1.606176e-11</td><td>-1.839779</td><td>0.2292124</td><td>7.017841</td><td>0.8876284</td><td>0.0033801130</td><td> 0.036714444</td><td>0.07542735</td><td>0.07542735</td></tr>\n",
       "\t<tr><td>ENSMUST00000102763</td><td>6.894337e-16</td><td>1.606176e-11</td><td>-1.662413</td><td>0.2059385</td><td>7.556659</td><td>0.7116337</td><td>0.0008762691</td><td> 0.020374987</td><td>0.06273970</td><td>0.06273970</td></tr>\n",
       "\t<tr><td>ENSMUST00000029644</td><td>1.007347e-14</td><td>1.210202e-10</td><td>-1.821647</td><td>0.2354059</td><td>6.862515</td><td>0.9655665</td><td>0.0029059542</td><td> 0.015534599</td><td>0.08021792</td><td>0.08021792</td></tr>\n",
       "\t<tr><td>ENSMUST00000108830</td><td>1.827492e-13</td><td>1.756403e-09</td><td>-6.382005</td><td>0.8670207</td><td>3.389990</td><td>8.9131355</td><td>0.2951307665</td><td> 0.832456651</td><td>0.57447928</td><td>0.83245665</td></tr>\n",
       "\t<tr><td>ENSMUST00000032747</td><td>1.137684e-12</td><td>9.111900e-09</td><td>-3.597136</td><td>0.5057319</td><td>4.413944</td><td>2.6447887</td><td>0.0796148464</td><td> 0.022964890</td><td>0.30403235</td><td>0.30403235</td></tr>\n",
       "\t<tr><td>ENSMUST00000078953</td><td>6.639283e-12</td><td>4.557868e-08</td><td>-2.554509</td><td>0.3720947</td><td>5.188072</td><td>1.9537923</td><td>0.0177739637</td><td> 0.034078426</td><td>0.18990770</td><td>0.18990770</td></tr>\n",
       "\t<tr><td>ENSMUST00000014892</td><td>8.574306e-12</td><td>4.819460e-08</td><td>-1.670568</td><td>0.2446426</td><td>6.670008</td><td>0.6931633</td><td>0.0027184562</td><td> 0.014578095</td><td>0.08705654</td><td>0.08705654</td></tr>\n",
       "\t<tr><td>ENSMUST00000034097</td><td>9.885852e-12</td><td>4.819460e-08</td><td>-1.238389</td><td>0.1818979</td><td>8.730232</td><td>0.4182998</td><td>0.0002998160</td><td> 0.036876336</td><td>0.04933048</td><td>0.04933048</td></tr>\n",
       "\t<tr><td>ENSMUST00000004949</td><td>1.002905e-11</td><td>4.819460e-08</td><td>-2.033638</td><td>0.2987971</td><td>5.892552</td><td>1.2632418</td><td>0.0066628145</td><td> 0.069090391</td><td>0.12725675</td><td>0.12725675</td></tr>\n",
       "\t<tr><td>ENSMUST00000102617</td><td>1.352449e-11</td><td>5.750055e-08</td><td>-1.682315</td><td>0.2487560</td><td>6.963113</td><td>0.6341977</td><td>0.0016935201</td><td> 0.091125823</td><td>0.07704499</td><td>0.09112582</td></tr>\n",
       "\t<tr><td>ENSMUST00000033866</td><td>1.435868e-11</td><td>5.750055e-08</td><td>-1.371427</td><td>0.2030469</td><td>7.648090</td><td>0.4406618</td><td>0.0007730289</td><td> 0.019037799</td><td>0.06106904</td><td>0.06106904</td></tr>\n",
       "\t<tr><td>ENSMUST00000032839</td><td>2.206101e-11</td><td>8.154937e-08</td><td>-1.971973</td><td>0.2946898</td><td>5.913418</td><td>0.8208856</td><td>0.0043996734</td><td> 0.057024841</td><td>0.12586348</td><td>0.12586348</td></tr>\n",
       "\t<tr><td>ENSMUST00000103213</td><td>9.526216e-11</td><td>3.269874e-07</td><td>-1.687350</td><td>0.2606234</td><td>7.236000</td><td>0.6812121</td><td>0.0015262437</td><td> 0.100360612</td><td>0.06965481</td><td>0.10036061</td></tr>\n",
       "\t<tr><td>ENSMUST00000136501</td><td>1.125800e-10</td><td>3.486588e-07</td><td>-2.413786</td><td>0.3742876</td><td>5.146253</td><td>1.0271403</td><td>0.0154318070</td><td> 0.170772007</td><td>0.19470503</td><td>0.19470503</td></tr>\n",
       "\t<tr><td>ENSMUST00000002400</td><td>1.160866e-10</td><td>3.486588e-07</td><td>-1.685447</td><td>0.2615382</td><td>6.372578</td><td>0.7317381</td><td>0.0027712808</td><td> 0.036206802</td><td>0.09983205</td><td>0.09983205</td></tr>\n",
       "\t<tr><td>ENSMUST00000122216</td><td>1.275982e-09</td><td>3.465042e-06</td><td>-2.763255</td><td>0.4552020</td><td>5.246341</td><td>2.1558776</td><td>0.1273743944</td><td> 0.143697089</td><td>0.18343896</td><td>0.18343896</td></tr>\n",
       "\t<tr><td>ENSMUST00000063562</td><td>1.297904e-09</td><td>3.465042e-06</td><td>-1.422330</td><td>0.2344117</td><td>6.844074</td><td>0.4638727</td><td>0.0015948071</td><td> 0.024043504</td><td>0.08082846</td><td>0.08082846</td></tr>\n",
       "\t<tr><td>ENSMUST00000087557</td><td>1.711765e-09</td><td>4.329414e-06</td><td>-1.833182</td><td>0.3043618</td><td>5.824121</td><td>1.2404072</td><td>0.0069853791</td><td> 0.102545612</td><td>0.13196877</td><td>0.13196877</td></tr>\n",
       "\t<tr><td>ENSMUST00000073447</td><td>2.149333e-09</td><td>5.164309e-06</td><td>-3.535371</td><td>0.5905968</td><td>4.163996</td><td>2.2805379</td><td>0.1670369600</td><td> 0.327135478</td><td>0.35616999</td><td>0.35616999</td></tr>\n",
       "\t<tr><td>ENSMUST00000151797</td><td>2.599611e-09</td><td>5.948777e-06</td><td>-3.792200</td><td>0.6368019</td><td>3.644737</td><td>5.2670403</td><td>0.1190867605</td><td> 0.354741972</td><td>0.48918818</td><td>0.48918818</td></tr>\n",
       "\t<tr><td>ENSMUST00000054287</td><td>8.041407e-09</td><td>1.756499e-05</td><td>-1.881252</td><td>0.3261766</td><td>5.560342</td><td>0.8627186</td><td>0.0068568311</td><td> 0.053861386</td><td>0.15272992</td><td>0.15272992</td></tr>\n",
       "\t<tr><td>ENSMUST00000160289</td><td>9.920522e-09</td><td>2.072742e-05</td><td>-1.086599</td><td>0.1895644</td><td>8.188183</td><td>0.3271126</td><td>0.0003795243</td><td> 0.009985718</td><td>0.05352247</td><td>0.05352247</td></tr>\n",
       "\t<tr><td>ENSMUST00000129564</td><td>1.141041e-08</td><td>2.284696e-05</td><td>-5.368804</td><td>0.9405244</td><td>4.267009</td><td>4.7639039</td><td>0.5752494544</td><td> 0.751629702</td><td>0.33379399</td><td>0.75162970</td></tr>\n",
       "\t<tr><td>ENSMUST00000006948</td><td>1.811159e-08</td><td>3.481409e-05</td><td>-1.703136</td><td>0.3025574</td><td>5.947324</td><td>0.6097749</td><td>0.0136697587</td><td> 0.046475511</td><td>0.12364170</td><td>0.12364170</td></tr>\n",
       "\t<tr><td>ENSMUST00000037615</td><td>2.581826e-08</td><td>4.771909e-05</td><td>-2.254998</td><td>0.4050171</td><td>5.003154</td><td>1.0649531</td><td>0.0339393957</td><td> 0.139190917</td><td>0.21211887</td><td>0.21211887</td></tr>\n",
       "\t<tr><td>ENSMUST00000121142</td><td>4.733852e-08</td><td>8.425380e-05</td><td>-3.779319</td><td>0.6920526</td><td>3.967484</td><td>2.4703681</td><td>0.0990380002</td><td> 0.619367197</td><td>0.40168717</td><td>0.61936720</td></tr>\n",
       "\t<tr><td>ENSMUST00000119567</td><td>5.887576e-08</td><td>1.010455e-04</td><td>-2.286329</td><td>0.4216621</td><td>5.670671</td><td>1.4710117</td><td>0.1231826322</td><td>-0.081099054</td><td>0.14351573</td><td>0.14351573</td></tr>\n",
       "\t<tr><td>ENSMUST00000125866</td><td>8.796694e-08</td><td>1.457673e-04</td><td>-2.833673</td><td>0.5296610</td><td>4.584610</td><td>2.4083327</td><td>0.1478069376</td><td>-0.036159619</td><td>0.27300424</td><td>0.27300424</td></tr>\n",
       "\t<tr><td>ENSMUST00000022945</td><td>9.779625e-08</td><td>1.566533e-04</td><td>-1.109976</td><td>0.2082204</td><td>7.483690</td><td>0.5789344</td><td>0.0008690044</td><td> 0.048722111</td><td>0.06416462</td><td>0.06416462</td></tr>\n",
       "\t<tr><td>⋮</td><td>⋮</td><td>⋮</td><td>⋮</td><td>⋮</td><td>⋮</td><td>⋮</td><td>⋮</td><td>⋮</td><td>⋮</td><td>⋮</td></tr>\n",
       "\t<tr><td>ENSMUST00000061833</td><td>3.096204e-06</td><td>0.003165703</td><td>-1.9199017</td><td>0.4116134</td><td>4.836087</td><td>1.0594971</td><td>0.0196858668</td><td>0.13118066</td><td>0.23445250</td><td>0.23445250</td></tr>\n",
       "\t<tr><td>ENSMUST00000031002</td><td>3.584934e-06</td><td>0.003589042</td><td>-1.6717627</td><td>0.3607524</td><td>5.241149</td><td>0.6865945</td><td>0.0112082239</td><td>0.09107077</td><td>0.18400521</td><td>0.18400521</td></tr>\n",
       "\t<tr><td>ENSMUST00000019932</td><td>5.291638e-06</td><td>0.005189585</td><td>-1.0401415</td><td>0.2284579</td><td>6.968504</td><td>0.3545897</td><td>0.0014072119</td><td>0.06477538</td><td>0.07688230</td><td>0.07688230</td></tr>\n",
       "\t<tr><td>ENSMUST00000029078</td><td>1.031027e-05</td><td>0.009909203</td><td>-0.9219048</td><td>0.2090221</td><td>8.644801</td><td>0.4926792</td><td>0.0002497255</td><td>0.06528561</td><td>0.04979196</td><td>0.06528561</td></tr>\n",
       "\t<tr><td>ENSMUST00000142381</td><td>1.141286e-05</td><td>0.010753825</td><td>-1.1174246</td><td>0.2546249</td><td>6.494740</td><td>0.2897397</td><td>0.0030132459</td><td>0.05543690</td><td>0.09423752</td><td>0.09423752</td></tr>\n",
       "\t<tr><td>ENSMUST00000023050</td><td>1.165463e-05</td><td>0.010770444</td><td>-1.2690812</td><td>0.2894835</td><td>5.974823</td><td>0.3863304</td><td>0.0038235238</td><td>0.02414491</td><td>0.12187750</td><td>0.12187750</td></tr>\n",
       "\t<tr><td>ENSMUST00000093138</td><td>1.260158e-05</td><td>0.011425827</td><td>-1.3064049</td><td>0.2991599</td><td>6.029270</td><td>0.3597735</td><td>0.0080765024</td><td>0.12616849</td><td>0.11848209</td><td>0.12616849</td></tr>\n",
       "\t<tr><td>ENSMUST00000165963</td><td>1.316775e-05</td><td>0.011718080</td><td>-4.5229190</td><td>1.0380099</td><td>1.948157</td><td>4.8695320</td><td>0.5943838468</td><td>0.64789938</td><td>1.02181285</td><td>1.02181285</td></tr>\n",
       "\t<tr><td>ENSMUST00000029915</td><td>1.553143e-05</td><td>0.013570232</td><td>-1.3370386</td><td>0.3094271</td><td>5.755769</td><td>0.6221773</td><td>0.0066831231</td><td>0.08281336</td><td>0.13693456</td><td>0.13693456</td></tr>\n",
       "\t<tr><td>ENSMUST00000045487</td><td>1.609816e-05</td><td>0.013814238</td><td>-1.3976066</td><td>0.3240377</td><td>5.628573</td><td>0.5990337</td><td>0.0105613353</td><td>0.13395147</td><td>0.14693926</td><td>0.14693926</td></tr>\n",
       "\t<tr><td>ENSMUST00000068291</td><td>1.916781e-05</td><td>0.016159811</td><td> 1.8357193</td><td>0.4294713</td><td>4.685050</td><td>0.6118823</td><td>0.0200298014</td><td>0.08448964</td><td>0.25663856</td><td>0.25663856</td></tr>\n",
       "\t<tr><td>ENSMUST00000062957</td><td>1.997079e-05</td><td>0.016287327</td><td>-1.0229038</td><td>0.2398246</td><td>6.730116</td><td>0.2747276</td><td>0.0014652599</td><td>0.08418358</td><td>0.08480846</td><td>0.08480846</td></tr>\n",
       "\t<tr><td>ENSMUST00000128188</td><td>1.999693e-05</td><td>0.016287327</td><td>-1.9511974</td><td>0.4574986</td><td>4.691565</td><td>0.7653362</td><td>0.0583306257</td><td>0.08411035</td><td>0.25562687</td><td>0.25562687</td></tr>\n",
       "\t<tr><td>ENSMUST00000050569</td><td>2.600833e-05</td><td>0.020830506</td><td>-0.9828381</td><td>0.2336826</td><td>6.857622</td><td>0.2129907</td><td>0.0015323646</td><td>0.03648249</td><td>0.08037901</td><td>0.08037901</td></tr>\n",
       "\t<tr><td>ENSMUST00000061279</td><td>2.746180e-05</td><td>0.021634046</td><td>-1.7275525</td><td>0.4119543</td><td>5.356267</td><td>0.6626755</td><td>0.0826539089</td><td>0.08968510</td><td>0.17190562</td><td>0.17190562</td></tr>\n",
       "\t<tr><td>ENSMUST00000056890</td><td>3.008631e-05</td><td>0.023319316</td><td> 2.0329142</td><td>0.4871809</td><td>4.289268</td><td>1.3215813</td><td>0.0265901762</td><td>0.32942763</td><td>0.32911593</td><td>0.32942763</td></tr>\n",
       "\t<tr><td>ENSMUST00000021239</td><td>3.066260e-05</td><td>0.023388751</td><td>-0.7468122</td><td>0.1791566</td><td>9.317316</td><td>0.1347153</td><td>0.0001278566</td><td>0.02505590</td><td>0.04801776</td><td>0.04801776</td></tr>\n",
       "\t<tr><td>ENSMUST00000103031</td><td>3.491306e-05</td><td>0.026214797</td><td>-4.3349038</td><td>1.0473824</td><td>4.654088</td><td>3.1047081</td><td>0.8697484208</td><td>0.77576633</td><td>0.26153042</td><td>0.77576633</td></tr>\n",
       "\t<tr><td>ENSMUST00000113097</td><td>3.670079e-05</td><td>0.027133175</td><td> 1.1889249</td><td>0.2880619</td><td>8.895204</td><td>0.4476353</td><td>0.0045893994</td><td>0.11988006</td><td>0.04863783</td><td>0.11988006</td></tr>\n",
       "\t<tr><td>ENSMUST00000113541</td><td>4.232111e-05</td><td>0.030814259</td><td>-1.0342906</td><td>0.2526093</td><td>6.539288</td><td>0.3175305</td><td>0.0033963579</td><td>0.03174510</td><td>0.09232081</td><td>0.09232081</td></tr>\n",
       "\t<tr><td>ENSMUST00000162443</td><td>4.354567e-05</td><td>0.031232647</td><td>-3.4939019</td><td>0.8547115</td><td>4.030236</td><td>2.3591937</td><td>0.7089915599</td><td>0.12711798</td><td>0.38680615</td><td>0.38680615</td></tr>\n",
       "\t<tr><td>ENSMUST00000141788</td><td>4.996780e-05</td><td>0.035311805</td><td>-3.5815430</td><td>0.8830719</td><td>1.832615</td><td>3.5114036</td><td>0.1163760593</td><td>0.24598488</td><td>1.05334782</td><td>1.05334782</td></tr>\n",
       "\t<tr><td>ENSMUST00000120647</td><td>5.342698e-05</td><td>0.037209185</td><td>-1.5834022</td><td>0.3919209</td><td>5.001604</td><td>0.5949478</td><td>0.0180869372</td><td>0.05931210</td><td>0.21231608</td><td>0.21231608</td></tr>\n",
       "\t<tr><td>ENSMUST00000028623</td><td>5.468285e-05</td><td>0.037539777</td><td>-0.9671787</td><td>0.2397179</td><td>6.734657</td><td>0.2607231</td><td>0.0015541025</td><td>0.05730154</td><td>0.08464290</td><td>0.08464290</td></tr>\n",
       "\t<tr><td>ENSMUST00000062149</td><td>5.923042e-05</td><td>0.039833343</td><td>-3.0729834</td><td>0.7652125</td><td>4.788970</td><td>1.9058269</td><td>0.6371763018</td><td>0.21398820</td><td>0.24114906</td><td>0.24114906</td></tr>\n",
       "\t<tr><td>ENSMUST00000074208</td><td>5.968163e-05</td><td>0.039833343</td><td>-1.1092758</td><td>0.2763472</td><td>6.142296</td><td>0.2360820</td><td>0.0027190234</td><td>0.06450637</td><td>0.11183260</td><td>0.11183260</td></tr>\n",
       "\t<tr><td>ENSMUST00000110051</td><td>6.409048e-05</td><td>0.042189972</td><td> 1.6032842</td><td>0.4010997</td><td>5.279287</td><td>0.7527119</td><td>0.0127661116</td><td>0.22855537</td><td>0.17989115</td><td>0.22855537</td></tr>\n",
       "\t<tr><td>ENSMUST00000137773</td><td>7.229022e-05</td><td>0.046944681</td><td>-3.9424830</td><td>0.9934142</td><td>2.181419</td><td>2.1676626</td><td>0.5260344634</td><td>0.41993756</td><td>0.95427326</td><td>0.95427326</td></tr>\n",
       "\t<tr><td>ENSMUST00000022256</td><td>7.757924e-05</td><td>0.049053559</td><td>-0.7187781</td><td>0.1818882</td><td>8.717024</td><td>0.1546970</td><td>0.0002278003</td><td>0.01015297</td><td>0.04939718</td><td>0.04939718</td></tr>\n",
       "\t<tr><td>ENSMUST00000031051</td><td>7.674608e-05</td><td>0.049053559</td><td>-1.4574209</td><td>0.3685623</td><td>5.154368</td><td>0.8554919</td><td>0.0099933782</td><td>0.10237321</td><td>0.19376390</td><td>0.19376390</td></tr>\n",
       "</tbody>\n",
       "</table>\n"
      ],
      "text/latex": [
       "A data.frame: 76 × 11\n",
       "\\begin{tabular}{lllllllllll}\n",
       " target\\_id & pval & qval & b & se\\_b & mean\\_obs & var\\_obs & tech\\_var & sigma\\_sq & smooth\\_sigma\\_sq & final\\_sigma\\_sq\\\\\n",
       " <chr> & <dbl> & <dbl> & <dbl> & <dbl> & <dbl> & <dbl> & <dbl> & <dbl> & <dbl> & <dbl>\\\\\n",
       "\\hline\n",
       "\t ENSMUST00000168900 & 2.872365e-17 & 1.380315e-12 & -1.905176 & 0.2254208 & 7.059538 & 0.8788068 & 0.0019773653 &  0.044892297 & 0.07424445 & 0.07424445\\\\\n",
       "\t ENSMUST00000006451 & 1.002711e-15 & 1.606176e-11 & -1.839779 & 0.2292124 & 7.017841 & 0.8876284 & 0.0033801130 &  0.036714444 & 0.07542735 & 0.07542735\\\\\n",
       "\t ENSMUST00000102763 & 6.894337e-16 & 1.606176e-11 & -1.662413 & 0.2059385 & 7.556659 & 0.7116337 & 0.0008762691 &  0.020374987 & 0.06273970 & 0.06273970\\\\\n",
       "\t ENSMUST00000029644 & 1.007347e-14 & 1.210202e-10 & -1.821647 & 0.2354059 & 6.862515 & 0.9655665 & 0.0029059542 &  0.015534599 & 0.08021792 & 0.08021792\\\\\n",
       "\t ENSMUST00000108830 & 1.827492e-13 & 1.756403e-09 & -6.382005 & 0.8670207 & 3.389990 & 8.9131355 & 0.2951307665 &  0.832456651 & 0.57447928 & 0.83245665\\\\\n",
       "\t ENSMUST00000032747 & 1.137684e-12 & 9.111900e-09 & -3.597136 & 0.5057319 & 4.413944 & 2.6447887 & 0.0796148464 &  0.022964890 & 0.30403235 & 0.30403235\\\\\n",
       "\t ENSMUST00000078953 & 6.639283e-12 & 4.557868e-08 & -2.554509 & 0.3720947 & 5.188072 & 1.9537923 & 0.0177739637 &  0.034078426 & 0.18990770 & 0.18990770\\\\\n",
       "\t ENSMUST00000014892 & 8.574306e-12 & 4.819460e-08 & -1.670568 & 0.2446426 & 6.670008 & 0.6931633 & 0.0027184562 &  0.014578095 & 0.08705654 & 0.08705654\\\\\n",
       "\t ENSMUST00000034097 & 9.885852e-12 & 4.819460e-08 & -1.238389 & 0.1818979 & 8.730232 & 0.4182998 & 0.0002998160 &  0.036876336 & 0.04933048 & 0.04933048\\\\\n",
       "\t ENSMUST00000004949 & 1.002905e-11 & 4.819460e-08 & -2.033638 & 0.2987971 & 5.892552 & 1.2632418 & 0.0066628145 &  0.069090391 & 0.12725675 & 0.12725675\\\\\n",
       "\t ENSMUST00000102617 & 1.352449e-11 & 5.750055e-08 & -1.682315 & 0.2487560 & 6.963113 & 0.6341977 & 0.0016935201 &  0.091125823 & 0.07704499 & 0.09112582\\\\\n",
       "\t ENSMUST00000033866 & 1.435868e-11 & 5.750055e-08 & -1.371427 & 0.2030469 & 7.648090 & 0.4406618 & 0.0007730289 &  0.019037799 & 0.06106904 & 0.06106904\\\\\n",
       "\t ENSMUST00000032839 & 2.206101e-11 & 8.154937e-08 & -1.971973 & 0.2946898 & 5.913418 & 0.8208856 & 0.0043996734 &  0.057024841 & 0.12586348 & 0.12586348\\\\\n",
       "\t ENSMUST00000103213 & 9.526216e-11 & 3.269874e-07 & -1.687350 & 0.2606234 & 7.236000 & 0.6812121 & 0.0015262437 &  0.100360612 & 0.06965481 & 0.10036061\\\\\n",
       "\t ENSMUST00000136501 & 1.125800e-10 & 3.486588e-07 & -2.413786 & 0.3742876 & 5.146253 & 1.0271403 & 0.0154318070 &  0.170772007 & 0.19470503 & 0.19470503\\\\\n",
       "\t ENSMUST00000002400 & 1.160866e-10 & 3.486588e-07 & -1.685447 & 0.2615382 & 6.372578 & 0.7317381 & 0.0027712808 &  0.036206802 & 0.09983205 & 0.09983205\\\\\n",
       "\t ENSMUST00000122216 & 1.275982e-09 & 3.465042e-06 & -2.763255 & 0.4552020 & 5.246341 & 2.1558776 & 0.1273743944 &  0.143697089 & 0.18343896 & 0.18343896\\\\\n",
       "\t ENSMUST00000063562 & 1.297904e-09 & 3.465042e-06 & -1.422330 & 0.2344117 & 6.844074 & 0.4638727 & 0.0015948071 &  0.024043504 & 0.08082846 & 0.08082846\\\\\n",
       "\t ENSMUST00000087557 & 1.711765e-09 & 4.329414e-06 & -1.833182 & 0.3043618 & 5.824121 & 1.2404072 & 0.0069853791 &  0.102545612 & 0.13196877 & 0.13196877\\\\\n",
       "\t ENSMUST00000073447 & 2.149333e-09 & 5.164309e-06 & -3.535371 & 0.5905968 & 4.163996 & 2.2805379 & 0.1670369600 &  0.327135478 & 0.35616999 & 0.35616999\\\\\n",
       "\t ENSMUST00000151797 & 2.599611e-09 & 5.948777e-06 & -3.792200 & 0.6368019 & 3.644737 & 5.2670403 & 0.1190867605 &  0.354741972 & 0.48918818 & 0.48918818\\\\\n",
       "\t ENSMUST00000054287 & 8.041407e-09 & 1.756499e-05 & -1.881252 & 0.3261766 & 5.560342 & 0.8627186 & 0.0068568311 &  0.053861386 & 0.15272992 & 0.15272992\\\\\n",
       "\t ENSMUST00000160289 & 9.920522e-09 & 2.072742e-05 & -1.086599 & 0.1895644 & 8.188183 & 0.3271126 & 0.0003795243 &  0.009985718 & 0.05352247 & 0.05352247\\\\\n",
       "\t ENSMUST00000129564 & 1.141041e-08 & 2.284696e-05 & -5.368804 & 0.9405244 & 4.267009 & 4.7639039 & 0.5752494544 &  0.751629702 & 0.33379399 & 0.75162970\\\\\n",
       "\t ENSMUST00000006948 & 1.811159e-08 & 3.481409e-05 & -1.703136 & 0.3025574 & 5.947324 & 0.6097749 & 0.0136697587 &  0.046475511 & 0.12364170 & 0.12364170\\\\\n",
       "\t ENSMUST00000037615 & 2.581826e-08 & 4.771909e-05 & -2.254998 & 0.4050171 & 5.003154 & 1.0649531 & 0.0339393957 &  0.139190917 & 0.21211887 & 0.21211887\\\\\n",
       "\t ENSMUST00000121142 & 4.733852e-08 & 8.425380e-05 & -3.779319 & 0.6920526 & 3.967484 & 2.4703681 & 0.0990380002 &  0.619367197 & 0.40168717 & 0.61936720\\\\\n",
       "\t ENSMUST00000119567 & 5.887576e-08 & 1.010455e-04 & -2.286329 & 0.4216621 & 5.670671 & 1.4710117 & 0.1231826322 & -0.081099054 & 0.14351573 & 0.14351573\\\\\n",
       "\t ENSMUST00000125866 & 8.796694e-08 & 1.457673e-04 & -2.833673 & 0.5296610 & 4.584610 & 2.4083327 & 0.1478069376 & -0.036159619 & 0.27300424 & 0.27300424\\\\\n",
       "\t ENSMUST00000022945 & 9.779625e-08 & 1.566533e-04 & -1.109976 & 0.2082204 & 7.483690 & 0.5789344 & 0.0008690044 &  0.048722111 & 0.06416462 & 0.06416462\\\\\n",
       "\t ⋮ & ⋮ & ⋮ & ⋮ & ⋮ & ⋮ & ⋮ & ⋮ & ⋮ & ⋮ & ⋮\\\\\n",
       "\t ENSMUST00000061833 & 3.096204e-06 & 0.003165703 & -1.9199017 & 0.4116134 & 4.836087 & 1.0594971 & 0.0196858668 & 0.13118066 & 0.23445250 & 0.23445250\\\\\n",
       "\t ENSMUST00000031002 & 3.584934e-06 & 0.003589042 & -1.6717627 & 0.3607524 & 5.241149 & 0.6865945 & 0.0112082239 & 0.09107077 & 0.18400521 & 0.18400521\\\\\n",
       "\t ENSMUST00000019932 & 5.291638e-06 & 0.005189585 & -1.0401415 & 0.2284579 & 6.968504 & 0.3545897 & 0.0014072119 & 0.06477538 & 0.07688230 & 0.07688230\\\\\n",
       "\t ENSMUST00000029078 & 1.031027e-05 & 0.009909203 & -0.9219048 & 0.2090221 & 8.644801 & 0.4926792 & 0.0002497255 & 0.06528561 & 0.04979196 & 0.06528561\\\\\n",
       "\t ENSMUST00000142381 & 1.141286e-05 & 0.010753825 & -1.1174246 & 0.2546249 & 6.494740 & 0.2897397 & 0.0030132459 & 0.05543690 & 0.09423752 & 0.09423752\\\\\n",
       "\t ENSMUST00000023050 & 1.165463e-05 & 0.010770444 & -1.2690812 & 0.2894835 & 5.974823 & 0.3863304 & 0.0038235238 & 0.02414491 & 0.12187750 & 0.12187750\\\\\n",
       "\t ENSMUST00000093138 & 1.260158e-05 & 0.011425827 & -1.3064049 & 0.2991599 & 6.029270 & 0.3597735 & 0.0080765024 & 0.12616849 & 0.11848209 & 0.12616849\\\\\n",
       "\t ENSMUST00000165963 & 1.316775e-05 & 0.011718080 & -4.5229190 & 1.0380099 & 1.948157 & 4.8695320 & 0.5943838468 & 0.64789938 & 1.02181285 & 1.02181285\\\\\n",
       "\t ENSMUST00000029915 & 1.553143e-05 & 0.013570232 & -1.3370386 & 0.3094271 & 5.755769 & 0.6221773 & 0.0066831231 & 0.08281336 & 0.13693456 & 0.13693456\\\\\n",
       "\t ENSMUST00000045487 & 1.609816e-05 & 0.013814238 & -1.3976066 & 0.3240377 & 5.628573 & 0.5990337 & 0.0105613353 & 0.13395147 & 0.14693926 & 0.14693926\\\\\n",
       "\t ENSMUST00000068291 & 1.916781e-05 & 0.016159811 &  1.8357193 & 0.4294713 & 4.685050 & 0.6118823 & 0.0200298014 & 0.08448964 & 0.25663856 & 0.25663856\\\\\n",
       "\t ENSMUST00000062957 & 1.997079e-05 & 0.016287327 & -1.0229038 & 0.2398246 & 6.730116 & 0.2747276 & 0.0014652599 & 0.08418358 & 0.08480846 & 0.08480846\\\\\n",
       "\t ENSMUST00000128188 & 1.999693e-05 & 0.016287327 & -1.9511974 & 0.4574986 & 4.691565 & 0.7653362 & 0.0583306257 & 0.08411035 & 0.25562687 & 0.25562687\\\\\n",
       "\t ENSMUST00000050569 & 2.600833e-05 & 0.020830506 & -0.9828381 & 0.2336826 & 6.857622 & 0.2129907 & 0.0015323646 & 0.03648249 & 0.08037901 & 0.08037901\\\\\n",
       "\t ENSMUST00000061279 & 2.746180e-05 & 0.021634046 & -1.7275525 & 0.4119543 & 5.356267 & 0.6626755 & 0.0826539089 & 0.08968510 & 0.17190562 & 0.17190562\\\\\n",
       "\t ENSMUST00000056890 & 3.008631e-05 & 0.023319316 &  2.0329142 & 0.4871809 & 4.289268 & 1.3215813 & 0.0265901762 & 0.32942763 & 0.32911593 & 0.32942763\\\\\n",
       "\t ENSMUST00000021239 & 3.066260e-05 & 0.023388751 & -0.7468122 & 0.1791566 & 9.317316 & 0.1347153 & 0.0001278566 & 0.02505590 & 0.04801776 & 0.04801776\\\\\n",
       "\t ENSMUST00000103031 & 3.491306e-05 & 0.026214797 & -4.3349038 & 1.0473824 & 4.654088 & 3.1047081 & 0.8697484208 & 0.77576633 & 0.26153042 & 0.77576633\\\\\n",
       "\t ENSMUST00000113097 & 3.670079e-05 & 0.027133175 &  1.1889249 & 0.2880619 & 8.895204 & 0.4476353 & 0.0045893994 & 0.11988006 & 0.04863783 & 0.11988006\\\\\n",
       "\t ENSMUST00000113541 & 4.232111e-05 & 0.030814259 & -1.0342906 & 0.2526093 & 6.539288 & 0.3175305 & 0.0033963579 & 0.03174510 & 0.09232081 & 0.09232081\\\\\n",
       "\t ENSMUST00000162443 & 4.354567e-05 & 0.031232647 & -3.4939019 & 0.8547115 & 4.030236 & 2.3591937 & 0.7089915599 & 0.12711798 & 0.38680615 & 0.38680615\\\\\n",
       "\t ENSMUST00000141788 & 4.996780e-05 & 0.035311805 & -3.5815430 & 0.8830719 & 1.832615 & 3.5114036 & 0.1163760593 & 0.24598488 & 1.05334782 & 1.05334782\\\\\n",
       "\t ENSMUST00000120647 & 5.342698e-05 & 0.037209185 & -1.5834022 & 0.3919209 & 5.001604 & 0.5949478 & 0.0180869372 & 0.05931210 & 0.21231608 & 0.21231608\\\\\n",
       "\t ENSMUST00000028623 & 5.468285e-05 & 0.037539777 & -0.9671787 & 0.2397179 & 6.734657 & 0.2607231 & 0.0015541025 & 0.05730154 & 0.08464290 & 0.08464290\\\\\n",
       "\t ENSMUST00000062149 & 5.923042e-05 & 0.039833343 & -3.0729834 & 0.7652125 & 4.788970 & 1.9058269 & 0.6371763018 & 0.21398820 & 0.24114906 & 0.24114906\\\\\n",
       "\t ENSMUST00000074208 & 5.968163e-05 & 0.039833343 & -1.1092758 & 0.2763472 & 6.142296 & 0.2360820 & 0.0027190234 & 0.06450637 & 0.11183260 & 0.11183260\\\\\n",
       "\t ENSMUST00000110051 & 6.409048e-05 & 0.042189972 &  1.6032842 & 0.4010997 & 5.279287 & 0.7527119 & 0.0127661116 & 0.22855537 & 0.17989115 & 0.22855537\\\\\n",
       "\t ENSMUST00000137773 & 7.229022e-05 & 0.046944681 & -3.9424830 & 0.9934142 & 2.181419 & 2.1676626 & 0.5260344634 & 0.41993756 & 0.95427326 & 0.95427326\\\\\n",
       "\t ENSMUST00000022256 & 7.757924e-05 & 0.049053559 & -0.7187781 & 0.1818882 & 8.717024 & 0.1546970 & 0.0002278003 & 0.01015297 & 0.04939718 & 0.04939718\\\\\n",
       "\t ENSMUST00000031051 & 7.674608e-05 & 0.049053559 & -1.4574209 & 0.3685623 & 5.154368 & 0.8554919 & 0.0099933782 & 0.10237321 & 0.19376390 & 0.19376390\\\\\n",
       "\\end{tabular}\n"
      ],
      "text/markdown": [
       "\n",
       "A data.frame: 76 × 11\n",
       "\n",
       "| target_id &lt;chr&gt; | pval &lt;dbl&gt; | qval &lt;dbl&gt; | b &lt;dbl&gt; | se_b &lt;dbl&gt; | mean_obs &lt;dbl&gt; | var_obs &lt;dbl&gt; | tech_var &lt;dbl&gt; | sigma_sq &lt;dbl&gt; | smooth_sigma_sq &lt;dbl&gt; | final_sigma_sq &lt;dbl&gt; |\n",
       "|---|---|---|---|---|---|---|---|---|---|---|\n",
       "| ENSMUST00000168900 | 2.872365e-17 | 1.380315e-12 | -1.905176 | 0.2254208 | 7.059538 | 0.8788068 | 0.0019773653 |  0.044892297 | 0.07424445 | 0.07424445 |\n",
       "| ENSMUST00000006451 | 1.002711e-15 | 1.606176e-11 | -1.839779 | 0.2292124 | 7.017841 | 0.8876284 | 0.0033801130 |  0.036714444 | 0.07542735 | 0.07542735 |\n",
       "| ENSMUST00000102763 | 6.894337e-16 | 1.606176e-11 | -1.662413 | 0.2059385 | 7.556659 | 0.7116337 | 0.0008762691 |  0.020374987 | 0.06273970 | 0.06273970 |\n",
       "| ENSMUST00000029644 | 1.007347e-14 | 1.210202e-10 | -1.821647 | 0.2354059 | 6.862515 | 0.9655665 | 0.0029059542 |  0.015534599 | 0.08021792 | 0.08021792 |\n",
       "| ENSMUST00000108830 | 1.827492e-13 | 1.756403e-09 | -6.382005 | 0.8670207 | 3.389990 | 8.9131355 | 0.2951307665 |  0.832456651 | 0.57447928 | 0.83245665 |\n",
       "| ENSMUST00000032747 | 1.137684e-12 | 9.111900e-09 | -3.597136 | 0.5057319 | 4.413944 | 2.6447887 | 0.0796148464 |  0.022964890 | 0.30403235 | 0.30403235 |\n",
       "| ENSMUST00000078953 | 6.639283e-12 | 4.557868e-08 | -2.554509 | 0.3720947 | 5.188072 | 1.9537923 | 0.0177739637 |  0.034078426 | 0.18990770 | 0.18990770 |\n",
       "| ENSMUST00000014892 | 8.574306e-12 | 4.819460e-08 | -1.670568 | 0.2446426 | 6.670008 | 0.6931633 | 0.0027184562 |  0.014578095 | 0.08705654 | 0.08705654 |\n",
       "| ENSMUST00000034097 | 9.885852e-12 | 4.819460e-08 | -1.238389 | 0.1818979 | 8.730232 | 0.4182998 | 0.0002998160 |  0.036876336 | 0.04933048 | 0.04933048 |\n",
       "| ENSMUST00000004949 | 1.002905e-11 | 4.819460e-08 | -2.033638 | 0.2987971 | 5.892552 | 1.2632418 | 0.0066628145 |  0.069090391 | 0.12725675 | 0.12725675 |\n",
       "| ENSMUST00000102617 | 1.352449e-11 | 5.750055e-08 | -1.682315 | 0.2487560 | 6.963113 | 0.6341977 | 0.0016935201 |  0.091125823 | 0.07704499 | 0.09112582 |\n",
       "| ENSMUST00000033866 | 1.435868e-11 | 5.750055e-08 | -1.371427 | 0.2030469 | 7.648090 | 0.4406618 | 0.0007730289 |  0.019037799 | 0.06106904 | 0.06106904 |\n",
       "| ENSMUST00000032839 | 2.206101e-11 | 8.154937e-08 | -1.971973 | 0.2946898 | 5.913418 | 0.8208856 | 0.0043996734 |  0.057024841 | 0.12586348 | 0.12586348 |\n",
       "| ENSMUST00000103213 | 9.526216e-11 | 3.269874e-07 | -1.687350 | 0.2606234 | 7.236000 | 0.6812121 | 0.0015262437 |  0.100360612 | 0.06965481 | 0.10036061 |\n",
       "| ENSMUST00000136501 | 1.125800e-10 | 3.486588e-07 | -2.413786 | 0.3742876 | 5.146253 | 1.0271403 | 0.0154318070 |  0.170772007 | 0.19470503 | 0.19470503 |\n",
       "| ENSMUST00000002400 | 1.160866e-10 | 3.486588e-07 | -1.685447 | 0.2615382 | 6.372578 | 0.7317381 | 0.0027712808 |  0.036206802 | 0.09983205 | 0.09983205 |\n",
       "| ENSMUST00000122216 | 1.275982e-09 | 3.465042e-06 | -2.763255 | 0.4552020 | 5.246341 | 2.1558776 | 0.1273743944 |  0.143697089 | 0.18343896 | 0.18343896 |\n",
       "| ENSMUST00000063562 | 1.297904e-09 | 3.465042e-06 | -1.422330 | 0.2344117 | 6.844074 | 0.4638727 | 0.0015948071 |  0.024043504 | 0.08082846 | 0.08082846 |\n",
       "| ENSMUST00000087557 | 1.711765e-09 | 4.329414e-06 | -1.833182 | 0.3043618 | 5.824121 | 1.2404072 | 0.0069853791 |  0.102545612 | 0.13196877 | 0.13196877 |\n",
       "| ENSMUST00000073447 | 2.149333e-09 | 5.164309e-06 | -3.535371 | 0.5905968 | 4.163996 | 2.2805379 | 0.1670369600 |  0.327135478 | 0.35616999 | 0.35616999 |\n",
       "| ENSMUST00000151797 | 2.599611e-09 | 5.948777e-06 | -3.792200 | 0.6368019 | 3.644737 | 5.2670403 | 0.1190867605 |  0.354741972 | 0.48918818 | 0.48918818 |\n",
       "| ENSMUST00000054287 | 8.041407e-09 | 1.756499e-05 | -1.881252 | 0.3261766 | 5.560342 | 0.8627186 | 0.0068568311 |  0.053861386 | 0.15272992 | 0.15272992 |\n",
       "| ENSMUST00000160289 | 9.920522e-09 | 2.072742e-05 | -1.086599 | 0.1895644 | 8.188183 | 0.3271126 | 0.0003795243 |  0.009985718 | 0.05352247 | 0.05352247 |\n",
       "| ENSMUST00000129564 | 1.141041e-08 | 2.284696e-05 | -5.368804 | 0.9405244 | 4.267009 | 4.7639039 | 0.5752494544 |  0.751629702 | 0.33379399 | 0.75162970 |\n",
       "| ENSMUST00000006948 | 1.811159e-08 | 3.481409e-05 | -1.703136 | 0.3025574 | 5.947324 | 0.6097749 | 0.0136697587 |  0.046475511 | 0.12364170 | 0.12364170 |\n",
       "| ENSMUST00000037615 | 2.581826e-08 | 4.771909e-05 | -2.254998 | 0.4050171 | 5.003154 | 1.0649531 | 0.0339393957 |  0.139190917 | 0.21211887 | 0.21211887 |\n",
       "| ENSMUST00000121142 | 4.733852e-08 | 8.425380e-05 | -3.779319 | 0.6920526 | 3.967484 | 2.4703681 | 0.0990380002 |  0.619367197 | 0.40168717 | 0.61936720 |\n",
       "| ENSMUST00000119567 | 5.887576e-08 | 1.010455e-04 | -2.286329 | 0.4216621 | 5.670671 | 1.4710117 | 0.1231826322 | -0.081099054 | 0.14351573 | 0.14351573 |\n",
       "| ENSMUST00000125866 | 8.796694e-08 | 1.457673e-04 | -2.833673 | 0.5296610 | 4.584610 | 2.4083327 | 0.1478069376 | -0.036159619 | 0.27300424 | 0.27300424 |\n",
       "| ENSMUST00000022945 | 9.779625e-08 | 1.566533e-04 | -1.109976 | 0.2082204 | 7.483690 | 0.5789344 | 0.0008690044 |  0.048722111 | 0.06416462 | 0.06416462 |\n",
       "| ⋮ | ⋮ | ⋮ | ⋮ | ⋮ | ⋮ | ⋮ | ⋮ | ⋮ | ⋮ | ⋮ |\n",
       "| ENSMUST00000061833 | 3.096204e-06 | 0.003165703 | -1.9199017 | 0.4116134 | 4.836087 | 1.0594971 | 0.0196858668 | 0.13118066 | 0.23445250 | 0.23445250 |\n",
       "| ENSMUST00000031002 | 3.584934e-06 | 0.003589042 | -1.6717627 | 0.3607524 | 5.241149 | 0.6865945 | 0.0112082239 | 0.09107077 | 0.18400521 | 0.18400521 |\n",
       "| ENSMUST00000019932 | 5.291638e-06 | 0.005189585 | -1.0401415 | 0.2284579 | 6.968504 | 0.3545897 | 0.0014072119 | 0.06477538 | 0.07688230 | 0.07688230 |\n",
       "| ENSMUST00000029078 | 1.031027e-05 | 0.009909203 | -0.9219048 | 0.2090221 | 8.644801 | 0.4926792 | 0.0002497255 | 0.06528561 | 0.04979196 | 0.06528561 |\n",
       "| ENSMUST00000142381 | 1.141286e-05 | 0.010753825 | -1.1174246 | 0.2546249 | 6.494740 | 0.2897397 | 0.0030132459 | 0.05543690 | 0.09423752 | 0.09423752 |\n",
       "| ENSMUST00000023050 | 1.165463e-05 | 0.010770444 | -1.2690812 | 0.2894835 | 5.974823 | 0.3863304 | 0.0038235238 | 0.02414491 | 0.12187750 | 0.12187750 |\n",
       "| ENSMUST00000093138 | 1.260158e-05 | 0.011425827 | -1.3064049 | 0.2991599 | 6.029270 | 0.3597735 | 0.0080765024 | 0.12616849 | 0.11848209 | 0.12616849 |\n",
       "| ENSMUST00000165963 | 1.316775e-05 | 0.011718080 | -4.5229190 | 1.0380099 | 1.948157 | 4.8695320 | 0.5943838468 | 0.64789938 | 1.02181285 | 1.02181285 |\n",
       "| ENSMUST00000029915 | 1.553143e-05 | 0.013570232 | -1.3370386 | 0.3094271 | 5.755769 | 0.6221773 | 0.0066831231 | 0.08281336 | 0.13693456 | 0.13693456 |\n",
       "| ENSMUST00000045487 | 1.609816e-05 | 0.013814238 | -1.3976066 | 0.3240377 | 5.628573 | 0.5990337 | 0.0105613353 | 0.13395147 | 0.14693926 | 0.14693926 |\n",
       "| ENSMUST00000068291 | 1.916781e-05 | 0.016159811 |  1.8357193 | 0.4294713 | 4.685050 | 0.6118823 | 0.0200298014 | 0.08448964 | 0.25663856 | 0.25663856 |\n",
       "| ENSMUST00000062957 | 1.997079e-05 | 0.016287327 | -1.0229038 | 0.2398246 | 6.730116 | 0.2747276 | 0.0014652599 | 0.08418358 | 0.08480846 | 0.08480846 |\n",
       "| ENSMUST00000128188 | 1.999693e-05 | 0.016287327 | -1.9511974 | 0.4574986 | 4.691565 | 0.7653362 | 0.0583306257 | 0.08411035 | 0.25562687 | 0.25562687 |\n",
       "| ENSMUST00000050569 | 2.600833e-05 | 0.020830506 | -0.9828381 | 0.2336826 | 6.857622 | 0.2129907 | 0.0015323646 | 0.03648249 | 0.08037901 | 0.08037901 |\n",
       "| ENSMUST00000061279 | 2.746180e-05 | 0.021634046 | -1.7275525 | 0.4119543 | 5.356267 | 0.6626755 | 0.0826539089 | 0.08968510 | 0.17190562 | 0.17190562 |\n",
       "| ENSMUST00000056890 | 3.008631e-05 | 0.023319316 |  2.0329142 | 0.4871809 | 4.289268 | 1.3215813 | 0.0265901762 | 0.32942763 | 0.32911593 | 0.32942763 |\n",
       "| ENSMUST00000021239 | 3.066260e-05 | 0.023388751 | -0.7468122 | 0.1791566 | 9.317316 | 0.1347153 | 0.0001278566 | 0.02505590 | 0.04801776 | 0.04801776 |\n",
       "| ENSMUST00000103031 | 3.491306e-05 | 0.026214797 | -4.3349038 | 1.0473824 | 4.654088 | 3.1047081 | 0.8697484208 | 0.77576633 | 0.26153042 | 0.77576633 |\n",
       "| ENSMUST00000113097 | 3.670079e-05 | 0.027133175 |  1.1889249 | 0.2880619 | 8.895204 | 0.4476353 | 0.0045893994 | 0.11988006 | 0.04863783 | 0.11988006 |\n",
       "| ENSMUST00000113541 | 4.232111e-05 | 0.030814259 | -1.0342906 | 0.2526093 | 6.539288 | 0.3175305 | 0.0033963579 | 0.03174510 | 0.09232081 | 0.09232081 |\n",
       "| ENSMUST00000162443 | 4.354567e-05 | 0.031232647 | -3.4939019 | 0.8547115 | 4.030236 | 2.3591937 | 0.7089915599 | 0.12711798 | 0.38680615 | 0.38680615 |\n",
       "| ENSMUST00000141788 | 4.996780e-05 | 0.035311805 | -3.5815430 | 0.8830719 | 1.832615 | 3.5114036 | 0.1163760593 | 0.24598488 | 1.05334782 | 1.05334782 |\n",
       "| ENSMUST00000120647 | 5.342698e-05 | 0.037209185 | -1.5834022 | 0.3919209 | 5.001604 | 0.5949478 | 0.0180869372 | 0.05931210 | 0.21231608 | 0.21231608 |\n",
       "| ENSMUST00000028623 | 5.468285e-05 | 0.037539777 | -0.9671787 | 0.2397179 | 6.734657 | 0.2607231 | 0.0015541025 | 0.05730154 | 0.08464290 | 0.08464290 |\n",
       "| ENSMUST00000062149 | 5.923042e-05 | 0.039833343 | -3.0729834 | 0.7652125 | 4.788970 | 1.9058269 | 0.6371763018 | 0.21398820 | 0.24114906 | 0.24114906 |\n",
       "| ENSMUST00000074208 | 5.968163e-05 | 0.039833343 | -1.1092758 | 0.2763472 | 6.142296 | 0.2360820 | 0.0027190234 | 0.06450637 | 0.11183260 | 0.11183260 |\n",
       "| ENSMUST00000110051 | 6.409048e-05 | 0.042189972 |  1.6032842 | 0.4010997 | 5.279287 | 0.7527119 | 0.0127661116 | 0.22855537 | 0.17989115 | 0.22855537 |\n",
       "| ENSMUST00000137773 | 7.229022e-05 | 0.046944681 | -3.9424830 | 0.9934142 | 2.181419 | 2.1676626 | 0.5260344634 | 0.41993756 | 0.95427326 | 0.95427326 |\n",
       "| ENSMUST00000022256 | 7.757924e-05 | 0.049053559 | -0.7187781 | 0.1818882 | 8.717024 | 0.1546970 | 0.0002278003 | 0.01015297 | 0.04939718 | 0.04939718 |\n",
       "| ENSMUST00000031051 | 7.674608e-05 | 0.049053559 | -1.4574209 | 0.3685623 | 5.154368 | 0.8554919 | 0.0099933782 | 0.10237321 | 0.19376390 | 0.19376390 |\n",
       "\n"
      ],
      "text/plain": [
       "       target_id          pval         qval         b          se_b     \n",
       "1      ENSMUST00000168900 2.872365e-17 1.380315e-12 -1.905176  0.2254208\n",
       "2      ENSMUST00000006451 1.002711e-15 1.606176e-11 -1.839779  0.2292124\n",
       "3      ENSMUST00000102763 6.894337e-16 1.606176e-11 -1.662413  0.2059385\n",
       "4      ENSMUST00000029644 1.007347e-14 1.210202e-10 -1.821647  0.2354059\n",
       "5      ENSMUST00000108830 1.827492e-13 1.756403e-09 -6.382005  0.8670207\n",
       "6      ENSMUST00000032747 1.137684e-12 9.111900e-09 -3.597136  0.5057319\n",
       "7      ENSMUST00000078953 6.639283e-12 4.557868e-08 -2.554509  0.3720947\n",
       "8      ENSMUST00000014892 8.574306e-12 4.819460e-08 -1.670568  0.2446426\n",
       "9      ENSMUST00000034097 9.885852e-12 4.819460e-08 -1.238389  0.1818979\n",
       "10     ENSMUST00000004949 1.002905e-11 4.819460e-08 -2.033638  0.2987971\n",
       "11     ENSMUST00000102617 1.352449e-11 5.750055e-08 -1.682315  0.2487560\n",
       "12     ENSMUST00000033866 1.435868e-11 5.750055e-08 -1.371427  0.2030469\n",
       "13     ENSMUST00000032839 2.206101e-11 8.154937e-08 -1.971973  0.2946898\n",
       "14     ENSMUST00000103213 9.526216e-11 3.269874e-07 -1.687350  0.2606234\n",
       "15     ENSMUST00000136501 1.125800e-10 3.486588e-07 -2.413786  0.3742876\n",
       "16     ENSMUST00000002400 1.160866e-10 3.486588e-07 -1.685447  0.2615382\n",
       "17     ENSMUST00000122216 1.275982e-09 3.465042e-06 -2.763255  0.4552020\n",
       "18     ENSMUST00000063562 1.297904e-09 3.465042e-06 -1.422330  0.2344117\n",
       "19     ENSMUST00000087557 1.711765e-09 4.329414e-06 -1.833182  0.3043618\n",
       "20     ENSMUST00000073447 2.149333e-09 5.164309e-06 -3.535371  0.5905968\n",
       "21     ENSMUST00000151797 2.599611e-09 5.948777e-06 -3.792200  0.6368019\n",
       "22     ENSMUST00000054287 8.041407e-09 1.756499e-05 -1.881252  0.3261766\n",
       "23     ENSMUST00000160289 9.920522e-09 2.072742e-05 -1.086599  0.1895644\n",
       "24     ENSMUST00000129564 1.141041e-08 2.284696e-05 -5.368804  0.9405244\n",
       "25     ENSMUST00000006948 1.811159e-08 3.481409e-05 -1.703136  0.3025574\n",
       "26     ENSMUST00000037615 2.581826e-08 4.771909e-05 -2.254998  0.4050171\n",
       "27     ENSMUST00000121142 4.733852e-08 8.425380e-05 -3.779319  0.6920526\n",
       "28     ENSMUST00000119567 5.887576e-08 1.010455e-04 -2.286329  0.4216621\n",
       "29     ENSMUST00000125866 8.796694e-08 1.457673e-04 -2.833673  0.5296610\n",
       "30     ENSMUST00000022945 9.779625e-08 1.566533e-04 -1.109976  0.2082204\n",
       "<U+22EE> <U+22EE>           <U+22EE>     <U+22EE>     <U+22EE>   <U+22EE> \n",
       "47     ENSMUST00000061833 3.096204e-06 0.003165703  -1.9199017 0.4116134\n",
       "48     ENSMUST00000031002 3.584934e-06 0.003589042  -1.6717627 0.3607524\n",
       "49     ENSMUST00000019932 5.291638e-06 0.005189585  -1.0401415 0.2284579\n",
       "50     ENSMUST00000029078 1.031027e-05 0.009909203  -0.9219048 0.2090221\n",
       "51     ENSMUST00000142381 1.141286e-05 0.010753825  -1.1174246 0.2546249\n",
       "52     ENSMUST00000023050 1.165463e-05 0.010770444  -1.2690812 0.2894835\n",
       "53     ENSMUST00000093138 1.260158e-05 0.011425827  -1.3064049 0.2991599\n",
       "54     ENSMUST00000165963 1.316775e-05 0.011718080  -4.5229190 1.0380099\n",
       "55     ENSMUST00000029915 1.553143e-05 0.013570232  -1.3370386 0.3094271\n",
       "56     ENSMUST00000045487 1.609816e-05 0.013814238  -1.3976066 0.3240377\n",
       "57     ENSMUST00000068291 1.916781e-05 0.016159811   1.8357193 0.4294713\n",
       "58     ENSMUST00000062957 1.997079e-05 0.016287327  -1.0229038 0.2398246\n",
       "59     ENSMUST00000128188 1.999693e-05 0.016287327  -1.9511974 0.4574986\n",
       "60     ENSMUST00000050569 2.600833e-05 0.020830506  -0.9828381 0.2336826\n",
       "61     ENSMUST00000061279 2.746180e-05 0.021634046  -1.7275525 0.4119543\n",
       "62     ENSMUST00000056890 3.008631e-05 0.023319316   2.0329142 0.4871809\n",
       "63     ENSMUST00000021239 3.066260e-05 0.023388751  -0.7468122 0.1791566\n",
       "64     ENSMUST00000103031 3.491306e-05 0.026214797  -4.3349038 1.0473824\n",
       "65     ENSMUST00000113097 3.670079e-05 0.027133175   1.1889249 0.2880619\n",
       "66     ENSMUST00000113541 4.232111e-05 0.030814259  -1.0342906 0.2526093\n",
       "67     ENSMUST00000162443 4.354567e-05 0.031232647  -3.4939019 0.8547115\n",
       "68     ENSMUST00000141788 4.996780e-05 0.035311805  -3.5815430 0.8830719\n",
       "69     ENSMUST00000120647 5.342698e-05 0.037209185  -1.5834022 0.3919209\n",
       "70     ENSMUST00000028623 5.468285e-05 0.037539777  -0.9671787 0.2397179\n",
       "71     ENSMUST00000062149 5.923042e-05 0.039833343  -3.0729834 0.7652125\n",
       "72     ENSMUST00000074208 5.968163e-05 0.039833343  -1.1092758 0.2763472\n",
       "73     ENSMUST00000110051 6.409048e-05 0.042189972   1.6032842 0.4010997\n",
       "74     ENSMUST00000137773 7.229022e-05 0.046944681  -3.9424830 0.9934142\n",
       "75     ENSMUST00000022256 7.757924e-05 0.049053559  -0.7187781 0.1818882\n",
       "76     ENSMUST00000031051 7.674608e-05 0.049053559  -1.4574209 0.3685623\n",
       "       mean_obs var_obs   tech_var     sigma_sq     smooth_sigma_sq\n",
       "1      7.059538 0.8788068 0.0019773653  0.044892297 0.07424445     \n",
       "2      7.017841 0.8876284 0.0033801130  0.036714444 0.07542735     \n",
       "3      7.556659 0.7116337 0.0008762691  0.020374987 0.06273970     \n",
       "4      6.862515 0.9655665 0.0029059542  0.015534599 0.08021792     \n",
       "5      3.389990 8.9131355 0.2951307665  0.832456651 0.57447928     \n",
       "6      4.413944 2.6447887 0.0796148464  0.022964890 0.30403235     \n",
       "7      5.188072 1.9537923 0.0177739637  0.034078426 0.18990770     \n",
       "8      6.670008 0.6931633 0.0027184562  0.014578095 0.08705654     \n",
       "9      8.730232 0.4182998 0.0002998160  0.036876336 0.04933048     \n",
       "10     5.892552 1.2632418 0.0066628145  0.069090391 0.12725675     \n",
       "11     6.963113 0.6341977 0.0016935201  0.091125823 0.07704499     \n",
       "12     7.648090 0.4406618 0.0007730289  0.019037799 0.06106904     \n",
       "13     5.913418 0.8208856 0.0043996734  0.057024841 0.12586348     \n",
       "14     7.236000 0.6812121 0.0015262437  0.100360612 0.06965481     \n",
       "15     5.146253 1.0271403 0.0154318070  0.170772007 0.19470503     \n",
       "16     6.372578 0.7317381 0.0027712808  0.036206802 0.09983205     \n",
       "17     5.246341 2.1558776 0.1273743944  0.143697089 0.18343896     \n",
       "18     6.844074 0.4638727 0.0015948071  0.024043504 0.08082846     \n",
       "19     5.824121 1.2404072 0.0069853791  0.102545612 0.13196877     \n",
       "20     4.163996 2.2805379 0.1670369600  0.327135478 0.35616999     \n",
       "21     3.644737 5.2670403 0.1190867605  0.354741972 0.48918818     \n",
       "22     5.560342 0.8627186 0.0068568311  0.053861386 0.15272992     \n",
       "23     8.188183 0.3271126 0.0003795243  0.009985718 0.05352247     \n",
       "24     4.267009 4.7639039 0.5752494544  0.751629702 0.33379399     \n",
       "25     5.947324 0.6097749 0.0136697587  0.046475511 0.12364170     \n",
       "26     5.003154 1.0649531 0.0339393957  0.139190917 0.21211887     \n",
       "27     3.967484 2.4703681 0.0990380002  0.619367197 0.40168717     \n",
       "28     5.670671 1.4710117 0.1231826322 -0.081099054 0.14351573     \n",
       "29     4.584610 2.4083327 0.1478069376 -0.036159619 0.27300424     \n",
       "30     7.483690 0.5789344 0.0008690044  0.048722111 0.06416462     \n",
       "<U+22EE> <U+22EE> <U+22EE>  <U+22EE>     <U+22EE>     <U+22EE>       \n",
       "47     4.836087 1.0594971 0.0196858668 0.13118066   0.23445250     \n",
       "48     5.241149 0.6865945 0.0112082239 0.09107077   0.18400521     \n",
       "49     6.968504 0.3545897 0.0014072119 0.06477538   0.07688230     \n",
       "50     8.644801 0.4926792 0.0002497255 0.06528561   0.04979196     \n",
       "51     6.494740 0.2897397 0.0030132459 0.05543690   0.09423752     \n",
       "52     5.974823 0.3863304 0.0038235238 0.02414491   0.12187750     \n",
       "53     6.029270 0.3597735 0.0080765024 0.12616849   0.11848209     \n",
       "54     1.948157 4.8695320 0.5943838468 0.64789938   1.02181285     \n",
       "55     5.755769 0.6221773 0.0066831231 0.08281336   0.13693456     \n",
       "56     5.628573 0.5990337 0.0105613353 0.13395147   0.14693926     \n",
       "57     4.685050 0.6118823 0.0200298014 0.08448964   0.25663856     \n",
       "58     6.730116 0.2747276 0.0014652599 0.08418358   0.08480846     \n",
       "59     4.691565 0.7653362 0.0583306257 0.08411035   0.25562687     \n",
       "60     6.857622 0.2129907 0.0015323646 0.03648249   0.08037901     \n",
       "61     5.356267 0.6626755 0.0826539089 0.08968510   0.17190562     \n",
       "62     4.289268 1.3215813 0.0265901762 0.32942763   0.32911593     \n",
       "63     9.317316 0.1347153 0.0001278566 0.02505590   0.04801776     \n",
       "64     4.654088 3.1047081 0.8697484208 0.77576633   0.26153042     \n",
       "65     8.895204 0.4476353 0.0045893994 0.11988006   0.04863783     \n",
       "66     6.539288 0.3175305 0.0033963579 0.03174510   0.09232081     \n",
       "67     4.030236 2.3591937 0.7089915599 0.12711798   0.38680615     \n",
       "68     1.832615 3.5114036 0.1163760593 0.24598488   1.05334782     \n",
       "69     5.001604 0.5949478 0.0180869372 0.05931210   0.21231608     \n",
       "70     6.734657 0.2607231 0.0015541025 0.05730154   0.08464290     \n",
       "71     4.788970 1.9058269 0.6371763018 0.21398820   0.24114906     \n",
       "72     6.142296 0.2360820 0.0027190234 0.06450637   0.11183260     \n",
       "73     5.279287 0.7527119 0.0127661116 0.22855537   0.17989115     \n",
       "74     2.181419 2.1676626 0.5260344634 0.41993756   0.95427326     \n",
       "75     8.717024 0.1546970 0.0002278003 0.01015297   0.04939718     \n",
       "76     5.154368 0.8554919 0.0099933782 0.10237321   0.19376390     \n",
       "       final_sigma_sq\n",
       "1      0.07424445    \n",
       "2      0.07542735    \n",
       "3      0.06273970    \n",
       "4      0.08021792    \n",
       "5      0.83245665    \n",
       "6      0.30403235    \n",
       "7      0.18990770    \n",
       "8      0.08705654    \n",
       "9      0.04933048    \n",
       "10     0.12725675    \n",
       "11     0.09112582    \n",
       "12     0.06106904    \n",
       "13     0.12586348    \n",
       "14     0.10036061    \n",
       "15     0.19470503    \n",
       "16     0.09983205    \n",
       "17     0.18343896    \n",
       "18     0.08082846    \n",
       "19     0.13196877    \n",
       "20     0.35616999    \n",
       "21     0.48918818    \n",
       "22     0.15272992    \n",
       "23     0.05352247    \n",
       "24     0.75162970    \n",
       "25     0.12364170    \n",
       "26     0.21211887    \n",
       "27     0.61936720    \n",
       "28     0.14351573    \n",
       "29     0.27300424    \n",
       "30     0.06416462    \n",
       "<U+22EE> <U+22EE>      \n",
       "47     0.23445250    \n",
       "48     0.18400521    \n",
       "49     0.07688230    \n",
       "50     0.06528561    \n",
       "51     0.09423752    \n",
       "52     0.12187750    \n",
       "53     0.12616849    \n",
       "54     1.02181285    \n",
       "55     0.13693456    \n",
       "56     0.14693926    \n",
       "57     0.25663856    \n",
       "58     0.08480846    \n",
       "59     0.25562687    \n",
       "60     0.08037901    \n",
       "61     0.17190562    \n",
       "62     0.32942763    \n",
       "63     0.04801776    \n",
       "64     0.77576633    \n",
       "65     0.11988006    \n",
       "66     0.09232081    \n",
       "67     0.38680615    \n",
       "68     1.05334782    \n",
       "69     0.21231608    \n",
       "70     0.08464290    \n",
       "71     0.24114906    \n",
       "72     0.11183260    \n",
       "73     0.22855537    \n",
       "74     0.95427326    \n",
       "75     0.04939718    \n",
       "76     0.19376390    "
      ]
     },
     "metadata": {},
     "output_type": "display_data"
    },
    {
     "data": {
      "text/html": [
       "<style>\n",
       ".list-inline {list-style: none; margin:0; padding: 0}\n",
       ".list-inline>li {display: inline-block}\n",
       ".list-inline>li:not(:last-child)::after {content: \"\\00b7\"; padding: 0 .5ex}\n",
       "</style>\n",
       "<ol class=list-inline><li>76</li><li>11</li></ol>\n"
      ],
      "text/latex": [
       "\\begin{enumerate*}\n",
       "\\item 76\n",
       "\\item 11\n",
       "\\end{enumerate*}\n"
      ],
      "text/markdown": [
       "1. 76\n",
       "2. 11\n",
       "\n",
       "\n"
      ],
      "text/plain": [
       "[1] 76 11"
      ]
     },
     "metadata": {},
     "output_type": "display_data"
    }
   ],
   "source": [
    "sig_transcripts <- sleuth_results_wt %>% \n",
    "  filter(qval < 0.05)\n",
    "\n",
    "sig_transcripts\n",
    "dim(sig_transcripts)"
   ]
  },
  {
   "cell_type": "markdown",
   "id": "08f4ac91-6f7b-4e3a-9b95-66df33bca097",
   "metadata": {},
   "source": [
    "Waay more significant transcripts are appearing now. :D"
   ]
  },
  {
   "cell_type": "code",
   "execution_count": 30,
   "id": "6cbe4b00-e54b-4225-bd25-b829c78bb0fa",
   "metadata": {},
   "outputs": [
    {
     "name": "stdout",
     "output_type": "stream",
     "text": [
      "[  full  ]\n",
      "formula:  ~condition \n",
      "data modeled:  obs_counts \n",
      "transform sync'ed:  TRUE \n",
      "coefficients:\n",
      "\t(Intercept)\n",
      " \tcondition RNA-seq_CTCF-AID_auxin1day\n",
      " \tcondition RNA-seq_CTCF-AID_auxin2days\n",
      " \tcondition RNA-seq_CTCF-AID_auxin4days\n",
      " \tcondition RNA-seq_CTCF-AID_washoff2days\n",
      " \tcondition RNA-seq_WT-untagged_auxin2days\n",
      " \tcondition RNA-seq_WT-untagged_auxin4days\n",
      " \tcondition RNA-seq_WT-untagged_untreated\n",
      "[  reduced  ]\n",
      "formula:  ~1 \n",
      "data modeled:  obs_counts \n",
      "transform sync'ed:  TRUE \n",
      "coefficients:\n",
      "\t(Intercept)\n"
     ]
    }
   ],
   "source": [
    "models(so)"
   ]
  },
  {
   "cell_type": "code",
   "execution_count": 43,
   "id": "5ffcd5ad-121a-467e-8a8a-43bdd87fd9e1",
   "metadata": {},
   "outputs": [],
   "source": [
    "for(cond in levels(s2c$condition)) {\n",
    "    if (cond != levels(s2c$condition)[1]) {\n",
    "        \n",
    "        so <- sleuth_wt(so, which_beta = paste(\"condition\",cond, sep=\"\"))\n",
    "        res <- sleuth_results(so, test = paste(\"condition\",cond, sep=\"\"), show_all = TRUE)\n",
    "        colnames(res) <- paste(colnames(res),cond,sep=\"_\")\n",
    "        \n",
    "        # first, initialize new wt if this is a new set\n",
    "        if(cond == levels(s2c$condition)[2]) {\n",
    "            sleuth_results_wt <- res\n",
    "            \n",
    "            \n",
    "        } else {\n",
    "            sleuth_results_wt <- merge(sleuth_results_wt, res, \n",
    "                                       by.x = colnames(sleuth_results_wt)[1], \n",
    "                                       by.y = colnames(res)[1],\n",
    "                                       all.x = TRUE,\n",
    "                                       all.y = TRUE)        }\n",
    "        \n",
    "    }\n",
    "}\n"
   ]
  },
  {
   "cell_type": "code",
   "execution_count": 44,
   "id": "bb661fc3-e6f3-4003-8527-689b3f523a2b",
   "metadata": {},
   "outputs": [
    {
     "data": {
      "text/html": [
       "<table class=\"dataframe\">\n",
       "<caption>A data.frame: 10 × 71</caption>\n",
       "<thead>\n",
       "\t<tr><th></th><th scope=col>target_id_ RNA-seq_CTCF-AID_auxin1day</th><th scope=col>pval_ RNA-seq_CTCF-AID_auxin1day</th><th scope=col>qval_ RNA-seq_CTCF-AID_auxin1day</th><th scope=col>b_ RNA-seq_CTCF-AID_auxin1day</th><th scope=col>se_b_ RNA-seq_CTCF-AID_auxin1day</th><th scope=col>mean_obs_ RNA-seq_CTCF-AID_auxin1day</th><th scope=col>var_obs_ RNA-seq_CTCF-AID_auxin1day</th><th scope=col>tech_var_ RNA-seq_CTCF-AID_auxin1day</th><th scope=col>sigma_sq_ RNA-seq_CTCF-AID_auxin1day</th><th scope=col>smooth_sigma_sq_ RNA-seq_CTCF-AID_auxin1day</th><th scope=col>⋯</th><th scope=col>pval_ RNA-seq_WT-untagged_untreated</th><th scope=col>qval_ RNA-seq_WT-untagged_untreated</th><th scope=col>b_ RNA-seq_WT-untagged_untreated</th><th scope=col>se_b_ RNA-seq_WT-untagged_untreated</th><th scope=col>mean_obs_ RNA-seq_WT-untagged_untreated</th><th scope=col>var_obs_ RNA-seq_WT-untagged_untreated</th><th scope=col>tech_var_ RNA-seq_WT-untagged_untreated</th><th scope=col>sigma_sq_ RNA-seq_WT-untagged_untreated</th><th scope=col>smooth_sigma_sq_ RNA-seq_WT-untagged_untreated</th><th scope=col>final_sigma_sq_ RNA-seq_WT-untagged_untreated</th></tr>\n",
       "\t<tr><th></th><th scope=col>&lt;chr&gt;</th><th scope=col>&lt;dbl&gt;</th><th scope=col>&lt;dbl&gt;</th><th scope=col>&lt;dbl&gt;</th><th scope=col>&lt;dbl&gt;</th><th scope=col>&lt;dbl&gt;</th><th scope=col>&lt;dbl&gt;</th><th scope=col>&lt;dbl&gt;</th><th scope=col>&lt;dbl&gt;</th><th scope=col>&lt;dbl&gt;</th><th scope=col>⋯</th><th scope=col>&lt;dbl&gt;</th><th scope=col>&lt;dbl&gt;</th><th scope=col>&lt;dbl&gt;</th><th scope=col>&lt;dbl&gt;</th><th scope=col>&lt;dbl&gt;</th><th scope=col>&lt;dbl&gt;</th><th scope=col>&lt;dbl&gt;</th><th scope=col>&lt;dbl&gt;</th><th scope=col>&lt;dbl&gt;</th><th scope=col>&lt;dbl&gt;</th></tr>\n",
       "</thead>\n",
       "<tbody>\n",
       "\t<tr><th scope=row>1</th><td>ENSMUST00000000001</td><td>0.90570544</td><td> 1</td><td>-0.02358943</td><td>0.1991389</td><td>8.655712</td><td>0.05682316</td><td>0.0002441731</td><td>0.05924031</td><td>0.04972905</td><td>⋯</td><td>0.3342214</td><td>0.9999711</td><td> 0.19229770</td><td>0.1991389</td><td>8.655712</td><td>0.05682316</td><td>0.0002441731</td><td>0.05924031</td><td>0.04972905</td><td>0.05924031</td></tr>\n",
       "\t<tr><th scope=row>2</th><td>ENSMUST00000000003</td><td>        NA</td><td>NA</td><td>         NA</td><td>       NA</td><td>      NA</td><td>        NA</td><td>          NA</td><td>        NA</td><td>        NA</td><td>⋯</td><td>       NA</td><td>       NA</td><td>         NA</td><td>       NA</td><td>      NA</td><td>        NA</td><td>          NA</td><td>        NA</td><td>        NA</td><td>        NA</td></tr>\n",
       "\t<tr><th scope=row>3</th><td>ENSMUST00000000010</td><td>0.69830588</td><td> 1</td><td> 0.17765065</td><td>0.4583251</td><td>4.440927</td><td>0.21211535</td><td>0.0162280842</td><td>0.04600689</td><td>0.29886479</td><td>⋯</td><td>0.9224850</td><td>0.9999711</td><td> 0.04459684</td><td>0.4583251</td><td>4.440927</td><td>0.21211535</td><td>0.0162280842</td><td>0.04600689</td><td>0.29886479</td><td>0.29886479</td></tr>\n",
       "\t<tr><th scope=row>4</th><td>ENSMUST00000000028</td><td>0.82872248</td><td> 1</td><td>-0.06157805</td><td>0.2846351</td><td>7.438187</td><td>0.10001307</td><td>0.0035042013</td><td>0.11802149</td><td>0.06509591</td><td>⋯</td><td>0.9303832</td><td>0.9999711</td><td>-0.02486648</td><td>0.2846351</td><td>7.438187</td><td>0.10001307</td><td>0.0035042013</td><td>0.11802149</td><td>0.06509591</td><td>0.11802149</td></tr>\n",
       "\t<tr><th scope=row>5</th><td>ENSMUST00000000033</td><td>0.81134715</td><td> 1</td><td> 0.44495424</td><td>1.8641630</td><td>5.160701</td><td>5.72203955</td><td>0.1502120944</td><td>5.06244356</td><td>0.19303283</td><td>⋯</td><td>0.1642919</td><td>0.9999711</td><td> 2.59264235</td><td>1.8641630</td><td>5.160701</td><td>5.72203955</td><td>0.1502120944</td><td>5.06244356</td><td>0.19303283</td><td>5.06244356</td></tr>\n",
       "\t<tr><th scope=row>6</th><td>ENSMUST00000000049</td><td>        NA</td><td>NA</td><td>         NA</td><td>       NA</td><td>      NA</td><td>        NA</td><td>          NA</td><td>        NA</td><td>        NA</td><td>⋯</td><td>       NA</td><td>       NA</td><td>         NA</td><td>       NA</td><td>      NA</td><td>        NA</td><td>          NA</td><td>        NA</td><td>        NA</td><td>        NA</td></tr>\n",
       "\t<tr><th scope=row>7</th><td>ENSMUST00000000058</td><td>0.31520065</td><td> 1</td><td> 0.69674296</td><td>0.6937119</td><td>3.232592</td><td>0.54340358</td><td>0.0941986064</td><td>0.15236334</td><td>0.62765575</td><td>⋯</td><td>0.5007491</td><td>0.9999711</td><td> 0.46708430</td><td>0.6937119</td><td>3.232592</td><td>0.54340358</td><td>0.0941986064</td><td>0.15236334</td><td>0.62765575</td><td>0.62765575</td></tr>\n",
       "\t<tr><th scope=row>8</th><td>ENSMUST00000000080</td><td>0.42479111</td><td> 1</td><td> 0.16026022</td><td>0.2007929</td><td>7.715875</td><td>0.12819970</td><td>0.0005670555</td><td>0.02684092</td><td>0.05990964</td><td>⋯</td><td>0.8013308</td><td>0.9999711</td><td> 0.05052456</td><td>0.2007929</td><td>7.715875</td><td>0.12819970</td><td>0.0005670555</td><td>0.02684092</td><td>0.05990964</td><td>0.05990964</td></tr>\n",
       "\t<tr><th scope=row>9</th><td>ENSMUST00000000087</td><td>0.02262465</td><td> 1</td><td>-1.71229310</td><td>0.7510999</td><td>5.649420</td><td>0.84976153</td><td>0.3739270014</td><td>0.47229967</td><td>0.14522988</td><td>⋯</td><td>0.3758461</td><td>0.9999711</td><td>-0.66515607</td><td>0.7510999</td><td>5.649420</td><td>0.84976153</td><td>0.3739270014</td><td>0.47229967</td><td>0.14522988</td><td>0.47229967</td></tr>\n",
       "\t<tr><th scope=row>10</th><td>ENSMUST00000000090</td><td>0.91417882</td><td> 1</td><td> 0.01931621</td><td>0.1792369</td><td>9.142045</td><td>0.02226943</td><td>0.0001120650</td><td>0.02182892</td><td>0.04807674</td><td>⋯</td><td>0.5845718</td><td>0.9999711</td><td> 0.09799222</td><td>0.1792369</td><td>9.142045</td><td>0.02226943</td><td>0.0001120650</td><td>0.02182892</td><td>0.04807674</td><td>0.04807674</td></tr>\n",
       "</tbody>\n",
       "</table>\n"
      ],
      "text/latex": [
       "A data.frame: 10 × 71\n",
       "\\begin{tabular}{r|lllllllllllllllllllll}\n",
       "  & target\\_id\\_ RNA-seq\\_CTCF-AID\\_auxin1day & pval\\_ RNA-seq\\_CTCF-AID\\_auxin1day & qval\\_ RNA-seq\\_CTCF-AID\\_auxin1day & b\\_ RNA-seq\\_CTCF-AID\\_auxin1day & se\\_b\\_ RNA-seq\\_CTCF-AID\\_auxin1day & mean\\_obs\\_ RNA-seq\\_CTCF-AID\\_auxin1day & var\\_obs\\_ RNA-seq\\_CTCF-AID\\_auxin1day & tech\\_var\\_ RNA-seq\\_CTCF-AID\\_auxin1day & sigma\\_sq\\_ RNA-seq\\_CTCF-AID\\_auxin1day & smooth\\_sigma\\_sq\\_ RNA-seq\\_CTCF-AID\\_auxin1day & ⋯ & pval\\_ RNA-seq\\_WT-untagged\\_untreated & qval\\_ RNA-seq\\_WT-untagged\\_untreated & b\\_ RNA-seq\\_WT-untagged\\_untreated & se\\_b\\_ RNA-seq\\_WT-untagged\\_untreated & mean\\_obs\\_ RNA-seq\\_WT-untagged\\_untreated & var\\_obs\\_ RNA-seq\\_WT-untagged\\_untreated & tech\\_var\\_ RNA-seq\\_WT-untagged\\_untreated & sigma\\_sq\\_ RNA-seq\\_WT-untagged\\_untreated & smooth\\_sigma\\_sq\\_ RNA-seq\\_WT-untagged\\_untreated & final\\_sigma\\_sq\\_ RNA-seq\\_WT-untagged\\_untreated\\\\\n",
       "  & <chr> & <dbl> & <dbl> & <dbl> & <dbl> & <dbl> & <dbl> & <dbl> & <dbl> & <dbl> & ⋯ & <dbl> & <dbl> & <dbl> & <dbl> & <dbl> & <dbl> & <dbl> & <dbl> & <dbl> & <dbl>\\\\\n",
       "\\hline\n",
       "\t1 & ENSMUST00000000001 & 0.90570544 &  1 & -0.02358943 & 0.1991389 & 8.655712 & 0.05682316 & 0.0002441731 & 0.05924031 & 0.04972905 & ⋯ & 0.3342214 & 0.9999711 &  0.19229770 & 0.1991389 & 8.655712 & 0.05682316 & 0.0002441731 & 0.05924031 & 0.04972905 & 0.05924031\\\\\n",
       "\t2 & ENSMUST00000000003 &         NA & NA &          NA &        NA &       NA &         NA &           NA &         NA &         NA & ⋯ &        NA &        NA &          NA &        NA &       NA &         NA &           NA &         NA &         NA &         NA\\\\\n",
       "\t3 & ENSMUST00000000010 & 0.69830588 &  1 &  0.17765065 & 0.4583251 & 4.440927 & 0.21211535 & 0.0162280842 & 0.04600689 & 0.29886479 & ⋯ & 0.9224850 & 0.9999711 &  0.04459684 & 0.4583251 & 4.440927 & 0.21211535 & 0.0162280842 & 0.04600689 & 0.29886479 & 0.29886479\\\\\n",
       "\t4 & ENSMUST00000000028 & 0.82872248 &  1 & -0.06157805 & 0.2846351 & 7.438187 & 0.10001307 & 0.0035042013 & 0.11802149 & 0.06509591 & ⋯ & 0.9303832 & 0.9999711 & -0.02486648 & 0.2846351 & 7.438187 & 0.10001307 & 0.0035042013 & 0.11802149 & 0.06509591 & 0.11802149\\\\\n",
       "\t5 & ENSMUST00000000033 & 0.81134715 &  1 &  0.44495424 & 1.8641630 & 5.160701 & 5.72203955 & 0.1502120944 & 5.06244356 & 0.19303283 & ⋯ & 0.1642919 & 0.9999711 &  2.59264235 & 1.8641630 & 5.160701 & 5.72203955 & 0.1502120944 & 5.06244356 & 0.19303283 & 5.06244356\\\\\n",
       "\t6 & ENSMUST00000000049 &         NA & NA &          NA &        NA &       NA &         NA &           NA &         NA &         NA & ⋯ &        NA &        NA &          NA &        NA &       NA &         NA &           NA &         NA &         NA &         NA\\\\\n",
       "\t7 & ENSMUST00000000058 & 0.31520065 &  1 &  0.69674296 & 0.6937119 & 3.232592 & 0.54340358 & 0.0941986064 & 0.15236334 & 0.62765575 & ⋯ & 0.5007491 & 0.9999711 &  0.46708430 & 0.6937119 & 3.232592 & 0.54340358 & 0.0941986064 & 0.15236334 & 0.62765575 & 0.62765575\\\\\n",
       "\t8 & ENSMUST00000000080 & 0.42479111 &  1 &  0.16026022 & 0.2007929 & 7.715875 & 0.12819970 & 0.0005670555 & 0.02684092 & 0.05990964 & ⋯ & 0.8013308 & 0.9999711 &  0.05052456 & 0.2007929 & 7.715875 & 0.12819970 & 0.0005670555 & 0.02684092 & 0.05990964 & 0.05990964\\\\\n",
       "\t9 & ENSMUST00000000087 & 0.02262465 &  1 & -1.71229310 & 0.7510999 & 5.649420 & 0.84976153 & 0.3739270014 & 0.47229967 & 0.14522988 & ⋯ & 0.3758461 & 0.9999711 & -0.66515607 & 0.7510999 & 5.649420 & 0.84976153 & 0.3739270014 & 0.47229967 & 0.14522988 & 0.47229967\\\\\n",
       "\t10 & ENSMUST00000000090 & 0.91417882 &  1 &  0.01931621 & 0.1792369 & 9.142045 & 0.02226943 & 0.0001120650 & 0.02182892 & 0.04807674 & ⋯ & 0.5845718 & 0.9999711 &  0.09799222 & 0.1792369 & 9.142045 & 0.02226943 & 0.0001120650 & 0.02182892 & 0.04807674 & 0.04807674\\\\\n",
       "\\end{tabular}\n"
      ],
      "text/markdown": [
       "\n",
       "A data.frame: 10 × 71\n",
       "\n",
       "| <!--/--> | target_id_ RNA-seq_CTCF-AID_auxin1day &lt;chr&gt; | pval_ RNA-seq_CTCF-AID_auxin1day &lt;dbl&gt; | qval_ RNA-seq_CTCF-AID_auxin1day &lt;dbl&gt; | b_ RNA-seq_CTCF-AID_auxin1day &lt;dbl&gt; | se_b_ RNA-seq_CTCF-AID_auxin1day &lt;dbl&gt; | mean_obs_ RNA-seq_CTCF-AID_auxin1day &lt;dbl&gt; | var_obs_ RNA-seq_CTCF-AID_auxin1day &lt;dbl&gt; | tech_var_ RNA-seq_CTCF-AID_auxin1day &lt;dbl&gt; | sigma_sq_ RNA-seq_CTCF-AID_auxin1day &lt;dbl&gt; | smooth_sigma_sq_ RNA-seq_CTCF-AID_auxin1day &lt;dbl&gt; | ⋯ ⋯ | pval_ RNA-seq_WT-untagged_untreated &lt;dbl&gt; | qval_ RNA-seq_WT-untagged_untreated &lt;dbl&gt; | b_ RNA-seq_WT-untagged_untreated &lt;dbl&gt; | se_b_ RNA-seq_WT-untagged_untreated &lt;dbl&gt; | mean_obs_ RNA-seq_WT-untagged_untreated &lt;dbl&gt; | var_obs_ RNA-seq_WT-untagged_untreated &lt;dbl&gt; | tech_var_ RNA-seq_WT-untagged_untreated &lt;dbl&gt; | sigma_sq_ RNA-seq_WT-untagged_untreated &lt;dbl&gt; | smooth_sigma_sq_ RNA-seq_WT-untagged_untreated &lt;dbl&gt; | final_sigma_sq_ RNA-seq_WT-untagged_untreated &lt;dbl&gt; |\n",
       "|---|---|---|---|---|---|---|---|---|---|---|---|---|---|---|---|---|---|---|---|---|---|\n",
       "| 1 | ENSMUST00000000001 | 0.90570544 |  1 | -0.02358943 | 0.1991389 | 8.655712 | 0.05682316 | 0.0002441731 | 0.05924031 | 0.04972905 | ⋯ | 0.3342214 | 0.9999711 |  0.19229770 | 0.1991389 | 8.655712 | 0.05682316 | 0.0002441731 | 0.05924031 | 0.04972905 | 0.05924031 |\n",
       "| 2 | ENSMUST00000000003 |         NA | NA |          NA |        NA |       NA |         NA |           NA |         NA |         NA | ⋯ |        NA |        NA |          NA |        NA |       NA |         NA |           NA |         NA |         NA |         NA |\n",
       "| 3 | ENSMUST00000000010 | 0.69830588 |  1 |  0.17765065 | 0.4583251 | 4.440927 | 0.21211535 | 0.0162280842 | 0.04600689 | 0.29886479 | ⋯ | 0.9224850 | 0.9999711 |  0.04459684 | 0.4583251 | 4.440927 | 0.21211535 | 0.0162280842 | 0.04600689 | 0.29886479 | 0.29886479 |\n",
       "| 4 | ENSMUST00000000028 | 0.82872248 |  1 | -0.06157805 | 0.2846351 | 7.438187 | 0.10001307 | 0.0035042013 | 0.11802149 | 0.06509591 | ⋯ | 0.9303832 | 0.9999711 | -0.02486648 | 0.2846351 | 7.438187 | 0.10001307 | 0.0035042013 | 0.11802149 | 0.06509591 | 0.11802149 |\n",
       "| 5 | ENSMUST00000000033 | 0.81134715 |  1 |  0.44495424 | 1.8641630 | 5.160701 | 5.72203955 | 0.1502120944 | 5.06244356 | 0.19303283 | ⋯ | 0.1642919 | 0.9999711 |  2.59264235 | 1.8641630 | 5.160701 | 5.72203955 | 0.1502120944 | 5.06244356 | 0.19303283 | 5.06244356 |\n",
       "| 6 | ENSMUST00000000049 |         NA | NA |          NA |        NA |       NA |         NA |           NA |         NA |         NA | ⋯ |        NA |        NA |          NA |        NA |       NA |         NA |           NA |         NA |         NA |         NA |\n",
       "| 7 | ENSMUST00000000058 | 0.31520065 |  1 |  0.69674296 | 0.6937119 | 3.232592 | 0.54340358 | 0.0941986064 | 0.15236334 | 0.62765575 | ⋯ | 0.5007491 | 0.9999711 |  0.46708430 | 0.6937119 | 3.232592 | 0.54340358 | 0.0941986064 | 0.15236334 | 0.62765575 | 0.62765575 |\n",
       "| 8 | ENSMUST00000000080 | 0.42479111 |  1 |  0.16026022 | 0.2007929 | 7.715875 | 0.12819970 | 0.0005670555 | 0.02684092 | 0.05990964 | ⋯ | 0.8013308 | 0.9999711 |  0.05052456 | 0.2007929 | 7.715875 | 0.12819970 | 0.0005670555 | 0.02684092 | 0.05990964 | 0.05990964 |\n",
       "| 9 | ENSMUST00000000087 | 0.02262465 |  1 | -1.71229310 | 0.7510999 | 5.649420 | 0.84976153 | 0.3739270014 | 0.47229967 | 0.14522988 | ⋯ | 0.3758461 | 0.9999711 | -0.66515607 | 0.7510999 | 5.649420 | 0.84976153 | 0.3739270014 | 0.47229967 | 0.14522988 | 0.47229967 |\n",
       "| 10 | ENSMUST00000000090 | 0.91417882 |  1 |  0.01931621 | 0.1792369 | 9.142045 | 0.02226943 | 0.0001120650 | 0.02182892 | 0.04807674 | ⋯ | 0.5845718 | 0.9999711 |  0.09799222 | 0.1792369 | 9.142045 | 0.02226943 | 0.0001120650 | 0.02182892 | 0.04807674 | 0.04807674 |\n",
       "\n"
      ],
      "text/plain": [
       "   target_id_ RNA-seq_CTCF-AID_auxin1day pval_ RNA-seq_CTCF-AID_auxin1day\n",
       "1  ENSMUST00000000001                    0.90570544                      \n",
       "2  ENSMUST00000000003                            NA                      \n",
       "3  ENSMUST00000000010                    0.69830588                      \n",
       "4  ENSMUST00000000028                    0.82872248                      \n",
       "5  ENSMUST00000000033                    0.81134715                      \n",
       "6  ENSMUST00000000049                            NA                      \n",
       "7  ENSMUST00000000058                    0.31520065                      \n",
       "8  ENSMUST00000000080                    0.42479111                      \n",
       "9  ENSMUST00000000087                    0.02262465                      \n",
       "10 ENSMUST00000000090                    0.91417882                      \n",
       "   qval_ RNA-seq_CTCF-AID_auxin1day b_ RNA-seq_CTCF-AID_auxin1day\n",
       "1   1                               -0.02358943                  \n",
       "2  NA                                        NA                  \n",
       "3   1                                0.17765065                  \n",
       "4   1                               -0.06157805                  \n",
       "5   1                                0.44495424                  \n",
       "6  NA                                        NA                  \n",
       "7   1                                0.69674296                  \n",
       "8   1                                0.16026022                  \n",
       "9   1                               -1.71229310                  \n",
       "10  1                                0.01931621                  \n",
       "   se_b_ RNA-seq_CTCF-AID_auxin1day mean_obs_ RNA-seq_CTCF-AID_auxin1day\n",
       "1  0.1991389                        8.655712                            \n",
       "2         NA                              NA                            \n",
       "3  0.4583251                        4.440927                            \n",
       "4  0.2846351                        7.438187                            \n",
       "5  1.8641630                        5.160701                            \n",
       "6         NA                              NA                            \n",
       "7  0.6937119                        3.232592                            \n",
       "8  0.2007929                        7.715875                            \n",
       "9  0.7510999                        5.649420                            \n",
       "10 0.1792369                        9.142045                            \n",
       "   var_obs_ RNA-seq_CTCF-AID_auxin1day tech_var_ RNA-seq_CTCF-AID_auxin1day\n",
       "1  0.05682316                          0.0002441731                        \n",
       "2          NA                                    NA                        \n",
       "3  0.21211535                          0.0162280842                        \n",
       "4  0.10001307                          0.0035042013                        \n",
       "5  5.72203955                          0.1502120944                        \n",
       "6          NA                                    NA                        \n",
       "7  0.54340358                          0.0941986064                        \n",
       "8  0.12819970                          0.0005670555                        \n",
       "9  0.84976153                          0.3739270014                        \n",
       "10 0.02226943                          0.0001120650                        \n",
       "   sigma_sq_ RNA-seq_CTCF-AID_auxin1day\n",
       "1  0.05924031                          \n",
       "2          NA                          \n",
       "3  0.04600689                          \n",
       "4  0.11802149                          \n",
       "5  5.06244356                          \n",
       "6          NA                          \n",
       "7  0.15236334                          \n",
       "8  0.02684092                          \n",
       "9  0.47229967                          \n",
       "10 0.02182892                          \n",
       "   smooth_sigma_sq_ RNA-seq_CTCF-AID_auxin1day <U+22EF>  \n",
       "1  0.04972905                                  <U+22EF>\n",
       "2          NA                                  <U+22EF>\n",
       "3  0.29886479                                  <U+22EF>\n",
       "4  0.06509591                                  <U+22EF>\n",
       "5  0.19303283                                  <U+22EF>\n",
       "6          NA                                  <U+22EF>\n",
       "7  0.62765575                                  <U+22EF>\n",
       "8  0.05990964                                  <U+22EF>\n",
       "9  0.14522988                                  <U+22EF>\n",
       "10 0.04807674                                  <U+22EF>\n",
       "   pval_ RNA-seq_WT-untagged_untreated qval_ RNA-seq_WT-untagged_untreated\n",
       "1  0.3342214                           0.9999711                          \n",
       "2         NA                                  NA                          \n",
       "3  0.9224850                           0.9999711                          \n",
       "4  0.9303832                           0.9999711                          \n",
       "5  0.1642919                           0.9999711                          \n",
       "6         NA                                  NA                          \n",
       "7  0.5007491                           0.9999711                          \n",
       "8  0.8013308                           0.9999711                          \n",
       "9  0.3758461                           0.9999711                          \n",
       "10 0.5845718                           0.9999711                          \n",
       "   b_ RNA-seq_WT-untagged_untreated se_b_ RNA-seq_WT-untagged_untreated\n",
       "1   0.19229770                      0.1991389                          \n",
       "2           NA                             NA                          \n",
       "3   0.04459684                      0.4583251                          \n",
       "4  -0.02486648                      0.2846351                          \n",
       "5   2.59264235                      1.8641630                          \n",
       "6           NA                             NA                          \n",
       "7   0.46708430                      0.6937119                          \n",
       "8   0.05052456                      0.2007929                          \n",
       "9  -0.66515607                      0.7510999                          \n",
       "10  0.09799222                      0.1792369                          \n",
       "   mean_obs_ RNA-seq_WT-untagged_untreated\n",
       "1  8.655712                               \n",
       "2        NA                               \n",
       "3  4.440927                               \n",
       "4  7.438187                               \n",
       "5  5.160701                               \n",
       "6        NA                               \n",
       "7  3.232592                               \n",
       "8  7.715875                               \n",
       "9  5.649420                               \n",
       "10 9.142045                               \n",
       "   var_obs_ RNA-seq_WT-untagged_untreated\n",
       "1  0.05682316                            \n",
       "2          NA                            \n",
       "3  0.21211535                            \n",
       "4  0.10001307                            \n",
       "5  5.72203955                            \n",
       "6          NA                            \n",
       "7  0.54340358                            \n",
       "8  0.12819970                            \n",
       "9  0.84976153                            \n",
       "10 0.02226943                            \n",
       "   tech_var_ RNA-seq_WT-untagged_untreated\n",
       "1  0.0002441731                           \n",
       "2            NA                           \n",
       "3  0.0162280842                           \n",
       "4  0.0035042013                           \n",
       "5  0.1502120944                           \n",
       "6            NA                           \n",
       "7  0.0941986064                           \n",
       "8  0.0005670555                           \n",
       "9  0.3739270014                           \n",
       "10 0.0001120650                           \n",
       "   sigma_sq_ RNA-seq_WT-untagged_untreated\n",
       "1  0.05924031                             \n",
       "2          NA                             \n",
       "3  0.04600689                             \n",
       "4  0.11802149                             \n",
       "5  5.06244356                             \n",
       "6          NA                             \n",
       "7  0.15236334                             \n",
       "8  0.02684092                             \n",
       "9  0.47229967                             \n",
       "10 0.02182892                             \n",
       "   smooth_sigma_sq_ RNA-seq_WT-untagged_untreated\n",
       "1  0.04972905                                    \n",
       "2          NA                                    \n",
       "3  0.29886479                                    \n",
       "4  0.06509591                                    \n",
       "5  0.19303283                                    \n",
       "6          NA                                    \n",
       "7  0.62765575                                    \n",
       "8  0.05990964                                    \n",
       "9  0.14522988                                    \n",
       "10 0.04807674                                    \n",
       "   final_sigma_sq_ RNA-seq_WT-untagged_untreated\n",
       "1  0.05924031                                   \n",
       "2          NA                                   \n",
       "3  0.29886479                                   \n",
       "4  0.11802149                                   \n",
       "5  5.06244356                                   \n",
       "6          NA                                   \n",
       "7  0.62765575                                   \n",
       "8  0.05990964                                   \n",
       "9  0.47229967                                   \n",
       "10 0.04807674                                   "
      ]
     },
     "metadata": {},
     "output_type": "display_data"
    }
   ],
   "source": [
    "head(sleuth_results_wt, 10)"
   ]
  },
  {
   "cell_type": "code",
   "execution_count": 40,
   "id": "9e52e083-3bfd-4455-81ce-1f8a00307ac7",
   "metadata": {},
   "outputs": [
    {
     "data": {
      "text/html": [
       "<style>\n",
       ".list-inline {list-style: none; margin:0; padding: 0}\n",
       ".list-inline>li {display: inline-block}\n",
       ".list-inline>li:not(:last-child)::after {content: \"\\00b7\"; padding: 0 .5ex}\n",
       "</style>\n",
       "<ol class=list-inline><li>'target_id_ RNA-seq_CTCF-AID_auxin1day'</li><li>'pval_ RNA-seq_CTCF-AID_auxin1day'</li><li>'qval_ RNA-seq_CTCF-AID_auxin1day'</li><li>'b_ RNA-seq_CTCF-AID_auxin1day'</li><li>'se_b_ RNA-seq_CTCF-AID_auxin1day'</li><li>'mean_obs_ RNA-seq_CTCF-AID_auxin1day'</li><li>'var_obs_ RNA-seq_CTCF-AID_auxin1day'</li><li>'tech_var_ RNA-seq_CTCF-AID_auxin1day'</li><li>'sigma_sq_ RNA-seq_CTCF-AID_auxin1day'</li><li>'smooth_sigma_sq_ RNA-seq_CTCF-AID_auxin1day'</li><li>'final_sigma_sq_ RNA-seq_CTCF-AID_auxin1day'</li><li>'pval_ RNA-seq_CTCF-AID_auxin2days'</li><li>'qval_ RNA-seq_CTCF-AID_auxin2days'</li><li>'b_ RNA-seq_CTCF-AID_auxin2days'</li><li>'se_b_ RNA-seq_CTCF-AID_auxin2days'</li><li>'mean_obs_ RNA-seq_CTCF-AID_auxin2days'</li><li>'var_obs_ RNA-seq_CTCF-AID_auxin2days'</li><li>'tech_var_ RNA-seq_CTCF-AID_auxin2days'</li><li>'sigma_sq_ RNA-seq_CTCF-AID_auxin2days'</li><li>'smooth_sigma_sq_ RNA-seq_CTCF-AID_auxin2days'</li><li>'final_sigma_sq_ RNA-seq_CTCF-AID_auxin2days'</li><li>'pval_ RNA-seq_CTCF-AID_auxin4days'</li><li>'qval_ RNA-seq_CTCF-AID_auxin4days'</li><li>'b_ RNA-seq_CTCF-AID_auxin4days'</li><li>'se_b_ RNA-seq_CTCF-AID_auxin4days'</li><li>'mean_obs_ RNA-seq_CTCF-AID_auxin4days'</li><li>'var_obs_ RNA-seq_CTCF-AID_auxin4days'</li><li>'tech_var_ RNA-seq_CTCF-AID_auxin4days'</li><li>'sigma_sq_ RNA-seq_CTCF-AID_auxin4days'</li><li>'smooth_sigma_sq_ RNA-seq_CTCF-AID_auxin4days'</li><li>'final_sigma_sq_ RNA-seq_CTCF-AID_auxin4days'</li><li>'pval_ RNA-seq_CTCF-AID_washoff2days'</li><li>'qval_ RNA-seq_CTCF-AID_washoff2days'</li><li>'b_ RNA-seq_CTCF-AID_washoff2days'</li><li>'se_b_ RNA-seq_CTCF-AID_washoff2days'</li><li>'mean_obs_ RNA-seq_CTCF-AID_washoff2days'</li><li>'var_obs_ RNA-seq_CTCF-AID_washoff2days'</li><li>'tech_var_ RNA-seq_CTCF-AID_washoff2days'</li><li>'sigma_sq_ RNA-seq_CTCF-AID_washoff2days'</li><li>'smooth_sigma_sq_ RNA-seq_CTCF-AID_washoff2days'</li><li>'final_sigma_sq_ RNA-seq_CTCF-AID_washoff2days'</li><li>'pval_ RNA-seq_WT-untagged_auxin2days'</li><li>'qval_ RNA-seq_WT-untagged_auxin2days'</li><li>'b_ RNA-seq_WT-untagged_auxin2days'</li><li>'se_b_ RNA-seq_WT-untagged_auxin2days'</li><li>'mean_obs_ RNA-seq_WT-untagged_auxin2days'</li><li>'var_obs_ RNA-seq_WT-untagged_auxin2days'</li><li>'tech_var_ RNA-seq_WT-untagged_auxin2days'</li><li>'sigma_sq_ RNA-seq_WT-untagged_auxin2days'</li><li>'smooth_sigma_sq_ RNA-seq_WT-untagged_auxin2days'</li><li>'final_sigma_sq_ RNA-seq_WT-untagged_auxin2days'</li><li>'pval_ RNA-seq_WT-untagged_auxin4days'</li><li>'qval_ RNA-seq_WT-untagged_auxin4days'</li><li>'b_ RNA-seq_WT-untagged_auxin4days'</li><li>'se_b_ RNA-seq_WT-untagged_auxin4days'</li><li>'mean_obs_ RNA-seq_WT-untagged_auxin4days'</li><li>'var_obs_ RNA-seq_WT-untagged_auxin4days'</li><li>'tech_var_ RNA-seq_WT-untagged_auxin4days'</li><li>'sigma_sq_ RNA-seq_WT-untagged_auxin4days'</li><li>'smooth_sigma_sq_ RNA-seq_WT-untagged_auxin4days'</li><li>'final_sigma_sq_ RNA-seq_WT-untagged_auxin4days'</li><li>'pval_ RNA-seq_WT-untagged_untreated'</li><li>'qval_ RNA-seq_WT-untagged_untreated'</li><li>'b_ RNA-seq_WT-untagged_untreated'</li><li>'se_b_ RNA-seq_WT-untagged_untreated'</li><li>'mean_obs_ RNA-seq_WT-untagged_untreated'</li><li>'var_obs_ RNA-seq_WT-untagged_untreated'</li><li>'tech_var_ RNA-seq_WT-untagged_untreated'</li><li>'sigma_sq_ RNA-seq_WT-untagged_untreated'</li><li>'smooth_sigma_sq_ RNA-seq_WT-untagged_untreated'</li><li>'final_sigma_sq_ RNA-seq_WT-untagged_untreated'</li></ol>\n"
      ],
      "text/latex": [
       "\\begin{enumerate*}\n",
       "\\item 'target\\_id\\_ RNA-seq\\_CTCF-AID\\_auxin1day'\n",
       "\\item 'pval\\_ RNA-seq\\_CTCF-AID\\_auxin1day'\n",
       "\\item 'qval\\_ RNA-seq\\_CTCF-AID\\_auxin1day'\n",
       "\\item 'b\\_ RNA-seq\\_CTCF-AID\\_auxin1day'\n",
       "\\item 'se\\_b\\_ RNA-seq\\_CTCF-AID\\_auxin1day'\n",
       "\\item 'mean\\_obs\\_ RNA-seq\\_CTCF-AID\\_auxin1day'\n",
       "\\item 'var\\_obs\\_ RNA-seq\\_CTCF-AID\\_auxin1day'\n",
       "\\item 'tech\\_var\\_ RNA-seq\\_CTCF-AID\\_auxin1day'\n",
       "\\item 'sigma\\_sq\\_ RNA-seq\\_CTCF-AID\\_auxin1day'\n",
       "\\item 'smooth\\_sigma\\_sq\\_ RNA-seq\\_CTCF-AID\\_auxin1day'\n",
       "\\item 'final\\_sigma\\_sq\\_ RNA-seq\\_CTCF-AID\\_auxin1day'\n",
       "\\item 'pval\\_ RNA-seq\\_CTCF-AID\\_auxin2days'\n",
       "\\item 'qval\\_ RNA-seq\\_CTCF-AID\\_auxin2days'\n",
       "\\item 'b\\_ RNA-seq\\_CTCF-AID\\_auxin2days'\n",
       "\\item 'se\\_b\\_ RNA-seq\\_CTCF-AID\\_auxin2days'\n",
       "\\item 'mean\\_obs\\_ RNA-seq\\_CTCF-AID\\_auxin2days'\n",
       "\\item 'var\\_obs\\_ RNA-seq\\_CTCF-AID\\_auxin2days'\n",
       "\\item 'tech\\_var\\_ RNA-seq\\_CTCF-AID\\_auxin2days'\n",
       "\\item 'sigma\\_sq\\_ RNA-seq\\_CTCF-AID\\_auxin2days'\n",
       "\\item 'smooth\\_sigma\\_sq\\_ RNA-seq\\_CTCF-AID\\_auxin2days'\n",
       "\\item 'final\\_sigma\\_sq\\_ RNA-seq\\_CTCF-AID\\_auxin2days'\n",
       "\\item 'pval\\_ RNA-seq\\_CTCF-AID\\_auxin4days'\n",
       "\\item 'qval\\_ RNA-seq\\_CTCF-AID\\_auxin4days'\n",
       "\\item 'b\\_ RNA-seq\\_CTCF-AID\\_auxin4days'\n",
       "\\item 'se\\_b\\_ RNA-seq\\_CTCF-AID\\_auxin4days'\n",
       "\\item 'mean\\_obs\\_ RNA-seq\\_CTCF-AID\\_auxin4days'\n",
       "\\item 'var\\_obs\\_ RNA-seq\\_CTCF-AID\\_auxin4days'\n",
       "\\item 'tech\\_var\\_ RNA-seq\\_CTCF-AID\\_auxin4days'\n",
       "\\item 'sigma\\_sq\\_ RNA-seq\\_CTCF-AID\\_auxin4days'\n",
       "\\item 'smooth\\_sigma\\_sq\\_ RNA-seq\\_CTCF-AID\\_auxin4days'\n",
       "\\item 'final\\_sigma\\_sq\\_ RNA-seq\\_CTCF-AID\\_auxin4days'\n",
       "\\item 'pval\\_ RNA-seq\\_CTCF-AID\\_washoff2days'\n",
       "\\item 'qval\\_ RNA-seq\\_CTCF-AID\\_washoff2days'\n",
       "\\item 'b\\_ RNA-seq\\_CTCF-AID\\_washoff2days'\n",
       "\\item 'se\\_b\\_ RNA-seq\\_CTCF-AID\\_washoff2days'\n",
       "\\item 'mean\\_obs\\_ RNA-seq\\_CTCF-AID\\_washoff2days'\n",
       "\\item 'var\\_obs\\_ RNA-seq\\_CTCF-AID\\_washoff2days'\n",
       "\\item 'tech\\_var\\_ RNA-seq\\_CTCF-AID\\_washoff2days'\n",
       "\\item 'sigma\\_sq\\_ RNA-seq\\_CTCF-AID\\_washoff2days'\n",
       "\\item 'smooth\\_sigma\\_sq\\_ RNA-seq\\_CTCF-AID\\_washoff2days'\n",
       "\\item 'final\\_sigma\\_sq\\_ RNA-seq\\_CTCF-AID\\_washoff2days'\n",
       "\\item 'pval\\_ RNA-seq\\_WT-untagged\\_auxin2days'\n",
       "\\item 'qval\\_ RNA-seq\\_WT-untagged\\_auxin2days'\n",
       "\\item 'b\\_ RNA-seq\\_WT-untagged\\_auxin2days'\n",
       "\\item 'se\\_b\\_ RNA-seq\\_WT-untagged\\_auxin2days'\n",
       "\\item 'mean\\_obs\\_ RNA-seq\\_WT-untagged\\_auxin2days'\n",
       "\\item 'var\\_obs\\_ RNA-seq\\_WT-untagged\\_auxin2days'\n",
       "\\item 'tech\\_var\\_ RNA-seq\\_WT-untagged\\_auxin2days'\n",
       "\\item 'sigma\\_sq\\_ RNA-seq\\_WT-untagged\\_auxin2days'\n",
       "\\item 'smooth\\_sigma\\_sq\\_ RNA-seq\\_WT-untagged\\_auxin2days'\n",
       "\\item 'final\\_sigma\\_sq\\_ RNA-seq\\_WT-untagged\\_auxin2days'\n",
       "\\item 'pval\\_ RNA-seq\\_WT-untagged\\_auxin4days'\n",
       "\\item 'qval\\_ RNA-seq\\_WT-untagged\\_auxin4days'\n",
       "\\item 'b\\_ RNA-seq\\_WT-untagged\\_auxin4days'\n",
       "\\item 'se\\_b\\_ RNA-seq\\_WT-untagged\\_auxin4days'\n",
       "\\item 'mean\\_obs\\_ RNA-seq\\_WT-untagged\\_auxin4days'\n",
       "\\item 'var\\_obs\\_ RNA-seq\\_WT-untagged\\_auxin4days'\n",
       "\\item 'tech\\_var\\_ RNA-seq\\_WT-untagged\\_auxin4days'\n",
       "\\item 'sigma\\_sq\\_ RNA-seq\\_WT-untagged\\_auxin4days'\n",
       "\\item 'smooth\\_sigma\\_sq\\_ RNA-seq\\_WT-untagged\\_auxin4days'\n",
       "\\item 'final\\_sigma\\_sq\\_ RNA-seq\\_WT-untagged\\_auxin4days'\n",
       "\\item 'pval\\_ RNA-seq\\_WT-untagged\\_untreated'\n",
       "\\item 'qval\\_ RNA-seq\\_WT-untagged\\_untreated'\n",
       "\\item 'b\\_ RNA-seq\\_WT-untagged\\_untreated'\n",
       "\\item 'se\\_b\\_ RNA-seq\\_WT-untagged\\_untreated'\n",
       "\\item 'mean\\_obs\\_ RNA-seq\\_WT-untagged\\_untreated'\n",
       "\\item 'var\\_obs\\_ RNA-seq\\_WT-untagged\\_untreated'\n",
       "\\item 'tech\\_var\\_ RNA-seq\\_WT-untagged\\_untreated'\n",
       "\\item 'sigma\\_sq\\_ RNA-seq\\_WT-untagged\\_untreated'\n",
       "\\item 'smooth\\_sigma\\_sq\\_ RNA-seq\\_WT-untagged\\_untreated'\n",
       "\\item 'final\\_sigma\\_sq\\_ RNA-seq\\_WT-untagged\\_untreated'\n",
       "\\end{enumerate*}\n"
      ],
      "text/markdown": [
       "1. 'target_id_ RNA-seq_CTCF-AID_auxin1day'\n",
       "2. 'pval_ RNA-seq_CTCF-AID_auxin1day'\n",
       "3. 'qval_ RNA-seq_CTCF-AID_auxin1day'\n",
       "4. 'b_ RNA-seq_CTCF-AID_auxin1day'\n",
       "5. 'se_b_ RNA-seq_CTCF-AID_auxin1day'\n",
       "6. 'mean_obs_ RNA-seq_CTCF-AID_auxin1day'\n",
       "7. 'var_obs_ RNA-seq_CTCF-AID_auxin1day'\n",
       "8. 'tech_var_ RNA-seq_CTCF-AID_auxin1day'\n",
       "9. 'sigma_sq_ RNA-seq_CTCF-AID_auxin1day'\n",
       "10. 'smooth_sigma_sq_ RNA-seq_CTCF-AID_auxin1day'\n",
       "11. 'final_sigma_sq_ RNA-seq_CTCF-AID_auxin1day'\n",
       "12. 'pval_ RNA-seq_CTCF-AID_auxin2days'\n",
       "13. 'qval_ RNA-seq_CTCF-AID_auxin2days'\n",
       "14. 'b_ RNA-seq_CTCF-AID_auxin2days'\n",
       "15. 'se_b_ RNA-seq_CTCF-AID_auxin2days'\n",
       "16. 'mean_obs_ RNA-seq_CTCF-AID_auxin2days'\n",
       "17. 'var_obs_ RNA-seq_CTCF-AID_auxin2days'\n",
       "18. 'tech_var_ RNA-seq_CTCF-AID_auxin2days'\n",
       "19. 'sigma_sq_ RNA-seq_CTCF-AID_auxin2days'\n",
       "20. 'smooth_sigma_sq_ RNA-seq_CTCF-AID_auxin2days'\n",
       "21. 'final_sigma_sq_ RNA-seq_CTCF-AID_auxin2days'\n",
       "22. 'pval_ RNA-seq_CTCF-AID_auxin4days'\n",
       "23. 'qval_ RNA-seq_CTCF-AID_auxin4days'\n",
       "24. 'b_ RNA-seq_CTCF-AID_auxin4days'\n",
       "25. 'se_b_ RNA-seq_CTCF-AID_auxin4days'\n",
       "26. 'mean_obs_ RNA-seq_CTCF-AID_auxin4days'\n",
       "27. 'var_obs_ RNA-seq_CTCF-AID_auxin4days'\n",
       "28. 'tech_var_ RNA-seq_CTCF-AID_auxin4days'\n",
       "29. 'sigma_sq_ RNA-seq_CTCF-AID_auxin4days'\n",
       "30. 'smooth_sigma_sq_ RNA-seq_CTCF-AID_auxin4days'\n",
       "31. 'final_sigma_sq_ RNA-seq_CTCF-AID_auxin4days'\n",
       "32. 'pval_ RNA-seq_CTCF-AID_washoff2days'\n",
       "33. 'qval_ RNA-seq_CTCF-AID_washoff2days'\n",
       "34. 'b_ RNA-seq_CTCF-AID_washoff2days'\n",
       "35. 'se_b_ RNA-seq_CTCF-AID_washoff2days'\n",
       "36. 'mean_obs_ RNA-seq_CTCF-AID_washoff2days'\n",
       "37. 'var_obs_ RNA-seq_CTCF-AID_washoff2days'\n",
       "38. 'tech_var_ RNA-seq_CTCF-AID_washoff2days'\n",
       "39. 'sigma_sq_ RNA-seq_CTCF-AID_washoff2days'\n",
       "40. 'smooth_sigma_sq_ RNA-seq_CTCF-AID_washoff2days'\n",
       "41. 'final_sigma_sq_ RNA-seq_CTCF-AID_washoff2days'\n",
       "42. 'pval_ RNA-seq_WT-untagged_auxin2days'\n",
       "43. 'qval_ RNA-seq_WT-untagged_auxin2days'\n",
       "44. 'b_ RNA-seq_WT-untagged_auxin2days'\n",
       "45. 'se_b_ RNA-seq_WT-untagged_auxin2days'\n",
       "46. 'mean_obs_ RNA-seq_WT-untagged_auxin2days'\n",
       "47. 'var_obs_ RNA-seq_WT-untagged_auxin2days'\n",
       "48. 'tech_var_ RNA-seq_WT-untagged_auxin2days'\n",
       "49. 'sigma_sq_ RNA-seq_WT-untagged_auxin2days'\n",
       "50. 'smooth_sigma_sq_ RNA-seq_WT-untagged_auxin2days'\n",
       "51. 'final_sigma_sq_ RNA-seq_WT-untagged_auxin2days'\n",
       "52. 'pval_ RNA-seq_WT-untagged_auxin4days'\n",
       "53. 'qval_ RNA-seq_WT-untagged_auxin4days'\n",
       "54. 'b_ RNA-seq_WT-untagged_auxin4days'\n",
       "55. 'se_b_ RNA-seq_WT-untagged_auxin4days'\n",
       "56. 'mean_obs_ RNA-seq_WT-untagged_auxin4days'\n",
       "57. 'var_obs_ RNA-seq_WT-untagged_auxin4days'\n",
       "58. 'tech_var_ RNA-seq_WT-untagged_auxin4days'\n",
       "59. 'sigma_sq_ RNA-seq_WT-untagged_auxin4days'\n",
       "60. 'smooth_sigma_sq_ RNA-seq_WT-untagged_auxin4days'\n",
       "61. 'final_sigma_sq_ RNA-seq_WT-untagged_auxin4days'\n",
       "62. 'pval_ RNA-seq_WT-untagged_untreated'\n",
       "63. 'qval_ RNA-seq_WT-untagged_untreated'\n",
       "64. 'b_ RNA-seq_WT-untagged_untreated'\n",
       "65. 'se_b_ RNA-seq_WT-untagged_untreated'\n",
       "66. 'mean_obs_ RNA-seq_WT-untagged_untreated'\n",
       "67. 'var_obs_ RNA-seq_WT-untagged_untreated'\n",
       "68. 'tech_var_ RNA-seq_WT-untagged_untreated'\n",
       "69. 'sigma_sq_ RNA-seq_WT-untagged_untreated'\n",
       "70. 'smooth_sigma_sq_ RNA-seq_WT-untagged_untreated'\n",
       "71. 'final_sigma_sq_ RNA-seq_WT-untagged_untreated'\n",
       "\n",
       "\n"
      ],
      "text/plain": [
       " [1] \"target_id_ RNA-seq_CTCF-AID_auxin1day\"          \n",
       " [2] \"pval_ RNA-seq_CTCF-AID_auxin1day\"               \n",
       " [3] \"qval_ RNA-seq_CTCF-AID_auxin1day\"               \n",
       " [4] \"b_ RNA-seq_CTCF-AID_auxin1day\"                  \n",
       " [5] \"se_b_ RNA-seq_CTCF-AID_auxin1day\"               \n",
       " [6] \"mean_obs_ RNA-seq_CTCF-AID_auxin1day\"           \n",
       " [7] \"var_obs_ RNA-seq_CTCF-AID_auxin1day\"            \n",
       " [8] \"tech_var_ RNA-seq_CTCF-AID_auxin1day\"           \n",
       " [9] \"sigma_sq_ RNA-seq_CTCF-AID_auxin1day\"           \n",
       "[10] \"smooth_sigma_sq_ RNA-seq_CTCF-AID_auxin1day\"    \n",
       "[11] \"final_sigma_sq_ RNA-seq_CTCF-AID_auxin1day\"     \n",
       "[12] \"pval_ RNA-seq_CTCF-AID_auxin2days\"              \n",
       "[13] \"qval_ RNA-seq_CTCF-AID_auxin2days\"              \n",
       "[14] \"b_ RNA-seq_CTCF-AID_auxin2days\"                 \n",
       "[15] \"se_b_ RNA-seq_CTCF-AID_auxin2days\"              \n",
       "[16] \"mean_obs_ RNA-seq_CTCF-AID_auxin2days\"          \n",
       "[17] \"var_obs_ RNA-seq_CTCF-AID_auxin2days\"           \n",
       "[18] \"tech_var_ RNA-seq_CTCF-AID_auxin2days\"          \n",
       "[19] \"sigma_sq_ RNA-seq_CTCF-AID_auxin2days\"          \n",
       "[20] \"smooth_sigma_sq_ RNA-seq_CTCF-AID_auxin2days\"   \n",
       "[21] \"final_sigma_sq_ RNA-seq_CTCF-AID_auxin2days\"    \n",
       "[22] \"pval_ RNA-seq_CTCF-AID_auxin4days\"              \n",
       "[23] \"qval_ RNA-seq_CTCF-AID_auxin4days\"              \n",
       "[24] \"b_ RNA-seq_CTCF-AID_auxin4days\"                 \n",
       "[25] \"se_b_ RNA-seq_CTCF-AID_auxin4days\"              \n",
       "[26] \"mean_obs_ RNA-seq_CTCF-AID_auxin4days\"          \n",
       "[27] \"var_obs_ RNA-seq_CTCF-AID_auxin4days\"           \n",
       "[28] \"tech_var_ RNA-seq_CTCF-AID_auxin4days\"          \n",
       "[29] \"sigma_sq_ RNA-seq_CTCF-AID_auxin4days\"          \n",
       "[30] \"smooth_sigma_sq_ RNA-seq_CTCF-AID_auxin4days\"   \n",
       "[31] \"final_sigma_sq_ RNA-seq_CTCF-AID_auxin4days\"    \n",
       "[32] \"pval_ RNA-seq_CTCF-AID_washoff2days\"            \n",
       "[33] \"qval_ RNA-seq_CTCF-AID_washoff2days\"            \n",
       "[34] \"b_ RNA-seq_CTCF-AID_washoff2days\"               \n",
       "[35] \"se_b_ RNA-seq_CTCF-AID_washoff2days\"            \n",
       "[36] \"mean_obs_ RNA-seq_CTCF-AID_washoff2days\"        \n",
       "[37] \"var_obs_ RNA-seq_CTCF-AID_washoff2days\"         \n",
       "[38] \"tech_var_ RNA-seq_CTCF-AID_washoff2days\"        \n",
       "[39] \"sigma_sq_ RNA-seq_CTCF-AID_washoff2days\"        \n",
       "[40] \"smooth_sigma_sq_ RNA-seq_CTCF-AID_washoff2days\" \n",
       "[41] \"final_sigma_sq_ RNA-seq_CTCF-AID_washoff2days\"  \n",
       "[42] \"pval_ RNA-seq_WT-untagged_auxin2days\"           \n",
       "[43] \"qval_ RNA-seq_WT-untagged_auxin2days\"           \n",
       "[44] \"b_ RNA-seq_WT-untagged_auxin2days\"              \n",
       "[45] \"se_b_ RNA-seq_WT-untagged_auxin2days\"           \n",
       "[46] \"mean_obs_ RNA-seq_WT-untagged_auxin2days\"       \n",
       "[47] \"var_obs_ RNA-seq_WT-untagged_auxin2days\"        \n",
       "[48] \"tech_var_ RNA-seq_WT-untagged_auxin2days\"       \n",
       "[49] \"sigma_sq_ RNA-seq_WT-untagged_auxin2days\"       \n",
       "[50] \"smooth_sigma_sq_ RNA-seq_WT-untagged_auxin2days\"\n",
       "[51] \"final_sigma_sq_ RNA-seq_WT-untagged_auxin2days\" \n",
       "[52] \"pval_ RNA-seq_WT-untagged_auxin4days\"           \n",
       "[53] \"qval_ RNA-seq_WT-untagged_auxin4days\"           \n",
       "[54] \"b_ RNA-seq_WT-untagged_auxin4days\"              \n",
       "[55] \"se_b_ RNA-seq_WT-untagged_auxin4days\"           \n",
       "[56] \"mean_obs_ RNA-seq_WT-untagged_auxin4days\"       \n",
       "[57] \"var_obs_ RNA-seq_WT-untagged_auxin4days\"        \n",
       "[58] \"tech_var_ RNA-seq_WT-untagged_auxin4days\"       \n",
       "[59] \"sigma_sq_ RNA-seq_WT-untagged_auxin4days\"       \n",
       "[60] \"smooth_sigma_sq_ RNA-seq_WT-untagged_auxin4days\"\n",
       "[61] \"final_sigma_sq_ RNA-seq_WT-untagged_auxin4days\" \n",
       "[62] \"pval_ RNA-seq_WT-untagged_untreated\"            \n",
       "[63] \"qval_ RNA-seq_WT-untagged_untreated\"            \n",
       "[64] \"b_ RNA-seq_WT-untagged_untreated\"               \n",
       "[65] \"se_b_ RNA-seq_WT-untagged_untreated\"            \n",
       "[66] \"mean_obs_ RNA-seq_WT-untagged_untreated\"        \n",
       "[67] \"var_obs_ RNA-seq_WT-untagged_untreated\"         \n",
       "[68] \"tech_var_ RNA-seq_WT-untagged_untreated\"        \n",
       "[69] \"sigma_sq_ RNA-seq_WT-untagged_untreated\"        \n",
       "[70] \"smooth_sigma_sq_ RNA-seq_WT-untagged_untreated\" \n",
       "[71] \"final_sigma_sq_ RNA-seq_WT-untagged_untreated\"  "
      ]
     },
     "metadata": {},
     "output_type": "display_data"
    }
   ],
   "source": [
    "colnames(sleuth_results_wt)"
   ]
  },
  {
   "cell_type": "code",
   "execution_count": 41,
   "id": "dc8763b0-1c40-4a37-b155-52b8eaaf6fa1",
   "metadata": {},
   "outputs": [
    {
     "data": {
      "text/html": [
       "<table class=\"dataframe\">\n",
       "<caption>A data.frame: 10 × 71</caption>\n",
       "<thead>\n",
       "\t<tr><th></th><th scope=col>target_id_ RNA-seq_CTCF-AID_auxin1day</th><th scope=col>pval_ RNA-seq_CTCF-AID_auxin1day</th><th scope=col>qval_ RNA-seq_CTCF-AID_auxin1day</th><th scope=col>b_ RNA-seq_CTCF-AID_auxin1day</th><th scope=col>se_b_ RNA-seq_CTCF-AID_auxin1day</th><th scope=col>mean_obs_ RNA-seq_CTCF-AID_auxin1day</th><th scope=col>var_obs_ RNA-seq_CTCF-AID_auxin1day</th><th scope=col>tech_var_ RNA-seq_CTCF-AID_auxin1day</th><th scope=col>sigma_sq_ RNA-seq_CTCF-AID_auxin1day</th><th scope=col>smooth_sigma_sq_ RNA-seq_CTCF-AID_auxin1day</th><th scope=col>⋯</th><th scope=col>pval_ RNA-seq_WT-untagged_untreated</th><th scope=col>qval_ RNA-seq_WT-untagged_untreated</th><th scope=col>b_ RNA-seq_WT-untagged_untreated</th><th scope=col>se_b_ RNA-seq_WT-untagged_untreated</th><th scope=col>mean_obs_ RNA-seq_WT-untagged_untreated</th><th scope=col>var_obs_ RNA-seq_WT-untagged_untreated</th><th scope=col>tech_var_ RNA-seq_WT-untagged_untreated</th><th scope=col>sigma_sq_ RNA-seq_WT-untagged_untreated</th><th scope=col>smooth_sigma_sq_ RNA-seq_WT-untagged_untreated</th><th scope=col>final_sigma_sq_ RNA-seq_WT-untagged_untreated</th></tr>\n",
       "\t<tr><th></th><th scope=col>&lt;chr&gt;</th><th scope=col>&lt;dbl&gt;</th><th scope=col>&lt;dbl&gt;</th><th scope=col>&lt;dbl&gt;</th><th scope=col>&lt;dbl&gt;</th><th scope=col>&lt;dbl&gt;</th><th scope=col>&lt;dbl&gt;</th><th scope=col>&lt;dbl&gt;</th><th scope=col>&lt;dbl&gt;</th><th scope=col>&lt;dbl&gt;</th><th scope=col>⋯</th><th scope=col>&lt;dbl&gt;</th><th scope=col>&lt;dbl&gt;</th><th scope=col>&lt;dbl&gt;</th><th scope=col>&lt;dbl&gt;</th><th scope=col>&lt;dbl&gt;</th><th scope=col>&lt;dbl&gt;</th><th scope=col>&lt;dbl&gt;</th><th scope=col>&lt;dbl&gt;</th><th scope=col>&lt;dbl&gt;</th><th scope=col>&lt;dbl&gt;</th></tr>\n",
       "</thead>\n",
       "<tbody>\n",
       "\t<tr><th scope=row>1</th><td>ENSMUST00000000001</td><td>0.90570544</td><td> 1</td><td>-0.02358943</td><td>0.1991389</td><td>8.655712</td><td>0.05682316</td><td>0.0002441731</td><td>0.05924031</td><td>0.04972905</td><td>⋯</td><td>0.3342214</td><td>0.9999711</td><td> 0.19229770</td><td>0.1991389</td><td>8.655712</td><td>0.05682316</td><td>0.0002441731</td><td>0.05924031</td><td>0.04972905</td><td>0.05924031</td></tr>\n",
       "\t<tr><th scope=row>2</th><td>ENSMUST00000000003</td><td>        NA</td><td>NA</td><td>         NA</td><td>       NA</td><td>      NA</td><td>        NA</td><td>          NA</td><td>        NA</td><td>        NA</td><td>⋯</td><td>       NA</td><td>       NA</td><td>         NA</td><td>       NA</td><td>      NA</td><td>        NA</td><td>          NA</td><td>        NA</td><td>        NA</td><td>        NA</td></tr>\n",
       "\t<tr><th scope=row>3</th><td>ENSMUST00000000010</td><td>0.69830588</td><td> 1</td><td> 0.17765065</td><td>0.4583251</td><td>4.440927</td><td>0.21211535</td><td>0.0162280842</td><td>0.04600689</td><td>0.29886479</td><td>⋯</td><td>0.9224850</td><td>0.9999711</td><td> 0.04459684</td><td>0.4583251</td><td>4.440927</td><td>0.21211535</td><td>0.0162280842</td><td>0.04600689</td><td>0.29886479</td><td>0.29886479</td></tr>\n",
       "\t<tr><th scope=row>4</th><td>ENSMUST00000000028</td><td>0.82872248</td><td> 1</td><td>-0.06157805</td><td>0.2846351</td><td>7.438187</td><td>0.10001307</td><td>0.0035042013</td><td>0.11802149</td><td>0.06509591</td><td>⋯</td><td>0.9303832</td><td>0.9999711</td><td>-0.02486648</td><td>0.2846351</td><td>7.438187</td><td>0.10001307</td><td>0.0035042013</td><td>0.11802149</td><td>0.06509591</td><td>0.11802149</td></tr>\n",
       "\t<tr><th scope=row>5</th><td>ENSMUST00000000033</td><td>0.81134715</td><td> 1</td><td> 0.44495424</td><td>1.8641630</td><td>5.160701</td><td>5.72203955</td><td>0.1502120944</td><td>5.06244356</td><td>0.19303283</td><td>⋯</td><td>0.1642919</td><td>0.9999711</td><td> 2.59264235</td><td>1.8641630</td><td>5.160701</td><td>5.72203955</td><td>0.1502120944</td><td>5.06244356</td><td>0.19303283</td><td>5.06244356</td></tr>\n",
       "\t<tr><th scope=row>6</th><td>ENSMUST00000000049</td><td>        NA</td><td>NA</td><td>         NA</td><td>       NA</td><td>      NA</td><td>        NA</td><td>          NA</td><td>        NA</td><td>        NA</td><td>⋯</td><td>       NA</td><td>       NA</td><td>         NA</td><td>       NA</td><td>      NA</td><td>        NA</td><td>          NA</td><td>        NA</td><td>        NA</td><td>        NA</td></tr>\n",
       "\t<tr><th scope=row>7</th><td>ENSMUST00000000058</td><td>0.31520065</td><td> 1</td><td> 0.69674296</td><td>0.6937119</td><td>3.232592</td><td>0.54340358</td><td>0.0941986064</td><td>0.15236334</td><td>0.62765575</td><td>⋯</td><td>0.5007491</td><td>0.9999711</td><td> 0.46708430</td><td>0.6937119</td><td>3.232592</td><td>0.54340358</td><td>0.0941986064</td><td>0.15236334</td><td>0.62765575</td><td>0.62765575</td></tr>\n",
       "\t<tr><th scope=row>8</th><td>ENSMUST00000000080</td><td>0.42479111</td><td> 1</td><td> 0.16026022</td><td>0.2007929</td><td>7.715875</td><td>0.12819970</td><td>0.0005670555</td><td>0.02684092</td><td>0.05990964</td><td>⋯</td><td>0.8013308</td><td>0.9999711</td><td> 0.05052456</td><td>0.2007929</td><td>7.715875</td><td>0.12819970</td><td>0.0005670555</td><td>0.02684092</td><td>0.05990964</td><td>0.05990964</td></tr>\n",
       "\t<tr><th scope=row>9</th><td>ENSMUST00000000087</td><td>0.02262465</td><td> 1</td><td>-1.71229310</td><td>0.7510999</td><td>5.649420</td><td>0.84976153</td><td>0.3739270014</td><td>0.47229967</td><td>0.14522988</td><td>⋯</td><td>0.3758461</td><td>0.9999711</td><td>-0.66515607</td><td>0.7510999</td><td>5.649420</td><td>0.84976153</td><td>0.3739270014</td><td>0.47229967</td><td>0.14522988</td><td>0.47229967</td></tr>\n",
       "\t<tr><th scope=row>10</th><td>ENSMUST00000000090</td><td>0.91417882</td><td> 1</td><td> 0.01931621</td><td>0.1792369</td><td>9.142045</td><td>0.02226943</td><td>0.0001120650</td><td>0.02182892</td><td>0.04807674</td><td>⋯</td><td>0.5845718</td><td>0.9999711</td><td> 0.09799222</td><td>0.1792369</td><td>9.142045</td><td>0.02226943</td><td>0.0001120650</td><td>0.02182892</td><td>0.04807674</td><td>0.04807674</td></tr>\n",
       "</tbody>\n",
       "</table>\n"
      ],
      "text/latex": [
       "A data.frame: 10 × 71\n",
       "\\begin{tabular}{r|lllllllllllllllllllll}\n",
       "  & target\\_id\\_ RNA-seq\\_CTCF-AID\\_auxin1day & pval\\_ RNA-seq\\_CTCF-AID\\_auxin1day & qval\\_ RNA-seq\\_CTCF-AID\\_auxin1day & b\\_ RNA-seq\\_CTCF-AID\\_auxin1day & se\\_b\\_ RNA-seq\\_CTCF-AID\\_auxin1day & mean\\_obs\\_ RNA-seq\\_CTCF-AID\\_auxin1day & var\\_obs\\_ RNA-seq\\_CTCF-AID\\_auxin1day & tech\\_var\\_ RNA-seq\\_CTCF-AID\\_auxin1day & sigma\\_sq\\_ RNA-seq\\_CTCF-AID\\_auxin1day & smooth\\_sigma\\_sq\\_ RNA-seq\\_CTCF-AID\\_auxin1day & ⋯ & pval\\_ RNA-seq\\_WT-untagged\\_untreated & qval\\_ RNA-seq\\_WT-untagged\\_untreated & b\\_ RNA-seq\\_WT-untagged\\_untreated & se\\_b\\_ RNA-seq\\_WT-untagged\\_untreated & mean\\_obs\\_ RNA-seq\\_WT-untagged\\_untreated & var\\_obs\\_ RNA-seq\\_WT-untagged\\_untreated & tech\\_var\\_ RNA-seq\\_WT-untagged\\_untreated & sigma\\_sq\\_ RNA-seq\\_WT-untagged\\_untreated & smooth\\_sigma\\_sq\\_ RNA-seq\\_WT-untagged\\_untreated & final\\_sigma\\_sq\\_ RNA-seq\\_WT-untagged\\_untreated\\\\\n",
       "  & <chr> & <dbl> & <dbl> & <dbl> & <dbl> & <dbl> & <dbl> & <dbl> & <dbl> & <dbl> & ⋯ & <dbl> & <dbl> & <dbl> & <dbl> & <dbl> & <dbl> & <dbl> & <dbl> & <dbl> & <dbl>\\\\\n",
       "\\hline\n",
       "\t1 & ENSMUST00000000001 & 0.90570544 &  1 & -0.02358943 & 0.1991389 & 8.655712 & 0.05682316 & 0.0002441731 & 0.05924031 & 0.04972905 & ⋯ & 0.3342214 & 0.9999711 &  0.19229770 & 0.1991389 & 8.655712 & 0.05682316 & 0.0002441731 & 0.05924031 & 0.04972905 & 0.05924031\\\\\n",
       "\t2 & ENSMUST00000000003 &         NA & NA &          NA &        NA &       NA &         NA &           NA &         NA &         NA & ⋯ &        NA &        NA &          NA &        NA &       NA &         NA &           NA &         NA &         NA &         NA\\\\\n",
       "\t3 & ENSMUST00000000010 & 0.69830588 &  1 &  0.17765065 & 0.4583251 & 4.440927 & 0.21211535 & 0.0162280842 & 0.04600689 & 0.29886479 & ⋯ & 0.9224850 & 0.9999711 &  0.04459684 & 0.4583251 & 4.440927 & 0.21211535 & 0.0162280842 & 0.04600689 & 0.29886479 & 0.29886479\\\\\n",
       "\t4 & ENSMUST00000000028 & 0.82872248 &  1 & -0.06157805 & 0.2846351 & 7.438187 & 0.10001307 & 0.0035042013 & 0.11802149 & 0.06509591 & ⋯ & 0.9303832 & 0.9999711 & -0.02486648 & 0.2846351 & 7.438187 & 0.10001307 & 0.0035042013 & 0.11802149 & 0.06509591 & 0.11802149\\\\\n",
       "\t5 & ENSMUST00000000033 & 0.81134715 &  1 &  0.44495424 & 1.8641630 & 5.160701 & 5.72203955 & 0.1502120944 & 5.06244356 & 0.19303283 & ⋯ & 0.1642919 & 0.9999711 &  2.59264235 & 1.8641630 & 5.160701 & 5.72203955 & 0.1502120944 & 5.06244356 & 0.19303283 & 5.06244356\\\\\n",
       "\t6 & ENSMUST00000000049 &         NA & NA &          NA &        NA &       NA &         NA &           NA &         NA &         NA & ⋯ &        NA &        NA &          NA &        NA &       NA &         NA &           NA &         NA &         NA &         NA\\\\\n",
       "\t7 & ENSMUST00000000058 & 0.31520065 &  1 &  0.69674296 & 0.6937119 & 3.232592 & 0.54340358 & 0.0941986064 & 0.15236334 & 0.62765575 & ⋯ & 0.5007491 & 0.9999711 &  0.46708430 & 0.6937119 & 3.232592 & 0.54340358 & 0.0941986064 & 0.15236334 & 0.62765575 & 0.62765575\\\\\n",
       "\t8 & ENSMUST00000000080 & 0.42479111 &  1 &  0.16026022 & 0.2007929 & 7.715875 & 0.12819970 & 0.0005670555 & 0.02684092 & 0.05990964 & ⋯ & 0.8013308 & 0.9999711 &  0.05052456 & 0.2007929 & 7.715875 & 0.12819970 & 0.0005670555 & 0.02684092 & 0.05990964 & 0.05990964\\\\\n",
       "\t9 & ENSMUST00000000087 & 0.02262465 &  1 & -1.71229310 & 0.7510999 & 5.649420 & 0.84976153 & 0.3739270014 & 0.47229967 & 0.14522988 & ⋯ & 0.3758461 & 0.9999711 & -0.66515607 & 0.7510999 & 5.649420 & 0.84976153 & 0.3739270014 & 0.47229967 & 0.14522988 & 0.47229967\\\\\n",
       "\t10 & ENSMUST00000000090 & 0.91417882 &  1 &  0.01931621 & 0.1792369 & 9.142045 & 0.02226943 & 0.0001120650 & 0.02182892 & 0.04807674 & ⋯ & 0.5845718 & 0.9999711 &  0.09799222 & 0.1792369 & 9.142045 & 0.02226943 & 0.0001120650 & 0.02182892 & 0.04807674 & 0.04807674\\\\\n",
       "\\end{tabular}\n"
      ],
      "text/markdown": [
       "\n",
       "A data.frame: 10 × 71\n",
       "\n",
       "| <!--/--> | target_id_ RNA-seq_CTCF-AID_auxin1day &lt;chr&gt; | pval_ RNA-seq_CTCF-AID_auxin1day &lt;dbl&gt; | qval_ RNA-seq_CTCF-AID_auxin1day &lt;dbl&gt; | b_ RNA-seq_CTCF-AID_auxin1day &lt;dbl&gt; | se_b_ RNA-seq_CTCF-AID_auxin1day &lt;dbl&gt; | mean_obs_ RNA-seq_CTCF-AID_auxin1day &lt;dbl&gt; | var_obs_ RNA-seq_CTCF-AID_auxin1day &lt;dbl&gt; | tech_var_ RNA-seq_CTCF-AID_auxin1day &lt;dbl&gt; | sigma_sq_ RNA-seq_CTCF-AID_auxin1day &lt;dbl&gt; | smooth_sigma_sq_ RNA-seq_CTCF-AID_auxin1day &lt;dbl&gt; | ⋯ ⋯ | pval_ RNA-seq_WT-untagged_untreated &lt;dbl&gt; | qval_ RNA-seq_WT-untagged_untreated &lt;dbl&gt; | b_ RNA-seq_WT-untagged_untreated &lt;dbl&gt; | se_b_ RNA-seq_WT-untagged_untreated &lt;dbl&gt; | mean_obs_ RNA-seq_WT-untagged_untreated &lt;dbl&gt; | var_obs_ RNA-seq_WT-untagged_untreated &lt;dbl&gt; | tech_var_ RNA-seq_WT-untagged_untreated &lt;dbl&gt; | sigma_sq_ RNA-seq_WT-untagged_untreated &lt;dbl&gt; | smooth_sigma_sq_ RNA-seq_WT-untagged_untreated &lt;dbl&gt; | final_sigma_sq_ RNA-seq_WT-untagged_untreated &lt;dbl&gt; |\n",
       "|---|---|---|---|---|---|---|---|---|---|---|---|---|---|---|---|---|---|---|---|---|---|\n",
       "| 1 | ENSMUST00000000001 | 0.90570544 |  1 | -0.02358943 | 0.1991389 | 8.655712 | 0.05682316 | 0.0002441731 | 0.05924031 | 0.04972905 | ⋯ | 0.3342214 | 0.9999711 |  0.19229770 | 0.1991389 | 8.655712 | 0.05682316 | 0.0002441731 | 0.05924031 | 0.04972905 | 0.05924031 |\n",
       "| 2 | ENSMUST00000000003 |         NA | NA |          NA |        NA |       NA |         NA |           NA |         NA |         NA | ⋯ |        NA |        NA |          NA |        NA |       NA |         NA |           NA |         NA |         NA |         NA |\n",
       "| 3 | ENSMUST00000000010 | 0.69830588 |  1 |  0.17765065 | 0.4583251 | 4.440927 | 0.21211535 | 0.0162280842 | 0.04600689 | 0.29886479 | ⋯ | 0.9224850 | 0.9999711 |  0.04459684 | 0.4583251 | 4.440927 | 0.21211535 | 0.0162280842 | 0.04600689 | 0.29886479 | 0.29886479 |\n",
       "| 4 | ENSMUST00000000028 | 0.82872248 |  1 | -0.06157805 | 0.2846351 | 7.438187 | 0.10001307 | 0.0035042013 | 0.11802149 | 0.06509591 | ⋯ | 0.9303832 | 0.9999711 | -0.02486648 | 0.2846351 | 7.438187 | 0.10001307 | 0.0035042013 | 0.11802149 | 0.06509591 | 0.11802149 |\n",
       "| 5 | ENSMUST00000000033 | 0.81134715 |  1 |  0.44495424 | 1.8641630 | 5.160701 | 5.72203955 | 0.1502120944 | 5.06244356 | 0.19303283 | ⋯ | 0.1642919 | 0.9999711 |  2.59264235 | 1.8641630 | 5.160701 | 5.72203955 | 0.1502120944 | 5.06244356 | 0.19303283 | 5.06244356 |\n",
       "| 6 | ENSMUST00000000049 |         NA | NA |          NA |        NA |       NA |         NA |           NA |         NA |         NA | ⋯ |        NA |        NA |          NA |        NA |       NA |         NA |           NA |         NA |         NA |         NA |\n",
       "| 7 | ENSMUST00000000058 | 0.31520065 |  1 |  0.69674296 | 0.6937119 | 3.232592 | 0.54340358 | 0.0941986064 | 0.15236334 | 0.62765575 | ⋯ | 0.5007491 | 0.9999711 |  0.46708430 | 0.6937119 | 3.232592 | 0.54340358 | 0.0941986064 | 0.15236334 | 0.62765575 | 0.62765575 |\n",
       "| 8 | ENSMUST00000000080 | 0.42479111 |  1 |  0.16026022 | 0.2007929 | 7.715875 | 0.12819970 | 0.0005670555 | 0.02684092 | 0.05990964 | ⋯ | 0.8013308 | 0.9999711 |  0.05052456 | 0.2007929 | 7.715875 | 0.12819970 | 0.0005670555 | 0.02684092 | 0.05990964 | 0.05990964 |\n",
       "| 9 | ENSMUST00000000087 | 0.02262465 |  1 | -1.71229310 | 0.7510999 | 5.649420 | 0.84976153 | 0.3739270014 | 0.47229967 | 0.14522988 | ⋯ | 0.3758461 | 0.9999711 | -0.66515607 | 0.7510999 | 5.649420 | 0.84976153 | 0.3739270014 | 0.47229967 | 0.14522988 | 0.47229967 |\n",
       "| 10 | ENSMUST00000000090 | 0.91417882 |  1 |  0.01931621 | 0.1792369 | 9.142045 | 0.02226943 | 0.0001120650 | 0.02182892 | 0.04807674 | ⋯ | 0.5845718 | 0.9999711 |  0.09799222 | 0.1792369 | 9.142045 | 0.02226943 | 0.0001120650 | 0.02182892 | 0.04807674 | 0.04807674 |\n",
       "\n"
      ],
      "text/plain": [
       "   target_id_ RNA-seq_CTCF-AID_auxin1day pval_ RNA-seq_CTCF-AID_auxin1day\n",
       "1  ENSMUST00000000001                    0.90570544                      \n",
       "2  ENSMUST00000000003                            NA                      \n",
       "3  ENSMUST00000000010                    0.69830588                      \n",
       "4  ENSMUST00000000028                    0.82872248                      \n",
       "5  ENSMUST00000000033                    0.81134715                      \n",
       "6  ENSMUST00000000049                            NA                      \n",
       "7  ENSMUST00000000058                    0.31520065                      \n",
       "8  ENSMUST00000000080                    0.42479111                      \n",
       "9  ENSMUST00000000087                    0.02262465                      \n",
       "10 ENSMUST00000000090                    0.91417882                      \n",
       "   qval_ RNA-seq_CTCF-AID_auxin1day b_ RNA-seq_CTCF-AID_auxin1day\n",
       "1   1                               -0.02358943                  \n",
       "2  NA                                        NA                  \n",
       "3   1                                0.17765065                  \n",
       "4   1                               -0.06157805                  \n",
       "5   1                                0.44495424                  \n",
       "6  NA                                        NA                  \n",
       "7   1                                0.69674296                  \n",
       "8   1                                0.16026022                  \n",
       "9   1                               -1.71229310                  \n",
       "10  1                                0.01931621                  \n",
       "   se_b_ RNA-seq_CTCF-AID_auxin1day mean_obs_ RNA-seq_CTCF-AID_auxin1day\n",
       "1  0.1991389                        8.655712                            \n",
       "2         NA                              NA                            \n",
       "3  0.4583251                        4.440927                            \n",
       "4  0.2846351                        7.438187                            \n",
       "5  1.8641630                        5.160701                            \n",
       "6         NA                              NA                            \n",
       "7  0.6937119                        3.232592                            \n",
       "8  0.2007929                        7.715875                            \n",
       "9  0.7510999                        5.649420                            \n",
       "10 0.1792369                        9.142045                            \n",
       "   var_obs_ RNA-seq_CTCF-AID_auxin1day tech_var_ RNA-seq_CTCF-AID_auxin1day\n",
       "1  0.05682316                          0.0002441731                        \n",
       "2          NA                                    NA                        \n",
       "3  0.21211535                          0.0162280842                        \n",
       "4  0.10001307                          0.0035042013                        \n",
       "5  5.72203955                          0.1502120944                        \n",
       "6          NA                                    NA                        \n",
       "7  0.54340358                          0.0941986064                        \n",
       "8  0.12819970                          0.0005670555                        \n",
       "9  0.84976153                          0.3739270014                        \n",
       "10 0.02226943                          0.0001120650                        \n",
       "   sigma_sq_ RNA-seq_CTCF-AID_auxin1day\n",
       "1  0.05924031                          \n",
       "2          NA                          \n",
       "3  0.04600689                          \n",
       "4  0.11802149                          \n",
       "5  5.06244356                          \n",
       "6          NA                          \n",
       "7  0.15236334                          \n",
       "8  0.02684092                          \n",
       "9  0.47229967                          \n",
       "10 0.02182892                          \n",
       "   smooth_sigma_sq_ RNA-seq_CTCF-AID_auxin1day <U+22EF>  \n",
       "1  0.04972905                                  <U+22EF>\n",
       "2          NA                                  <U+22EF>\n",
       "3  0.29886479                                  <U+22EF>\n",
       "4  0.06509591                                  <U+22EF>\n",
       "5  0.19303283                                  <U+22EF>\n",
       "6          NA                                  <U+22EF>\n",
       "7  0.62765575                                  <U+22EF>\n",
       "8  0.05990964                                  <U+22EF>\n",
       "9  0.14522988                                  <U+22EF>\n",
       "10 0.04807674                                  <U+22EF>\n",
       "   pval_ RNA-seq_WT-untagged_untreated qval_ RNA-seq_WT-untagged_untreated\n",
       "1  0.3342214                           0.9999711                          \n",
       "2         NA                                  NA                          \n",
       "3  0.9224850                           0.9999711                          \n",
       "4  0.9303832                           0.9999711                          \n",
       "5  0.1642919                           0.9999711                          \n",
       "6         NA                                  NA                          \n",
       "7  0.5007491                           0.9999711                          \n",
       "8  0.8013308                           0.9999711                          \n",
       "9  0.3758461                           0.9999711                          \n",
       "10 0.5845718                           0.9999711                          \n",
       "   b_ RNA-seq_WT-untagged_untreated se_b_ RNA-seq_WT-untagged_untreated\n",
       "1   0.19229770                      0.1991389                          \n",
       "2           NA                             NA                          \n",
       "3   0.04459684                      0.4583251                          \n",
       "4  -0.02486648                      0.2846351                          \n",
       "5   2.59264235                      1.8641630                          \n",
       "6           NA                             NA                          \n",
       "7   0.46708430                      0.6937119                          \n",
       "8   0.05052456                      0.2007929                          \n",
       "9  -0.66515607                      0.7510999                          \n",
       "10  0.09799222                      0.1792369                          \n",
       "   mean_obs_ RNA-seq_WT-untagged_untreated\n",
       "1  8.655712                               \n",
       "2        NA                               \n",
       "3  4.440927                               \n",
       "4  7.438187                               \n",
       "5  5.160701                               \n",
       "6        NA                               \n",
       "7  3.232592                               \n",
       "8  7.715875                               \n",
       "9  5.649420                               \n",
       "10 9.142045                               \n",
       "   var_obs_ RNA-seq_WT-untagged_untreated\n",
       "1  0.05682316                            \n",
       "2          NA                            \n",
       "3  0.21211535                            \n",
       "4  0.10001307                            \n",
       "5  5.72203955                            \n",
       "6          NA                            \n",
       "7  0.54340358                            \n",
       "8  0.12819970                            \n",
       "9  0.84976153                            \n",
       "10 0.02226943                            \n",
       "   tech_var_ RNA-seq_WT-untagged_untreated\n",
       "1  0.0002441731                           \n",
       "2            NA                           \n",
       "3  0.0162280842                           \n",
       "4  0.0035042013                           \n",
       "5  0.1502120944                           \n",
       "6            NA                           \n",
       "7  0.0941986064                           \n",
       "8  0.0005670555                           \n",
       "9  0.3739270014                           \n",
       "10 0.0001120650                           \n",
       "   sigma_sq_ RNA-seq_WT-untagged_untreated\n",
       "1  0.05924031                             \n",
       "2          NA                             \n",
       "3  0.04600689                             \n",
       "4  0.11802149                             \n",
       "5  5.06244356                             \n",
       "6          NA                             \n",
       "7  0.15236334                             \n",
       "8  0.02684092                             \n",
       "9  0.47229967                             \n",
       "10 0.02182892                             \n",
       "   smooth_sigma_sq_ RNA-seq_WT-untagged_untreated\n",
       "1  0.04972905                                    \n",
       "2          NA                                    \n",
       "3  0.29886479                                    \n",
       "4  0.06509591                                    \n",
       "5  0.19303283                                    \n",
       "6          NA                                    \n",
       "7  0.62765575                                    \n",
       "8  0.05990964                                    \n",
       "9  0.14522988                                    \n",
       "10 0.04807674                                    \n",
       "   final_sigma_sq_ RNA-seq_WT-untagged_untreated\n",
       "1  0.05924031                                   \n",
       "2          NA                                   \n",
       "3  0.29886479                                   \n",
       "4  0.11802149                                   \n",
       "5  5.06244356                                   \n",
       "6          NA                                   \n",
       "7  0.62765575                                   \n",
       "8  0.05990964                                   \n",
       "9  0.47229967                                   \n",
       "10 0.04807674                                   "
      ]
     },
     "metadata": {},
     "output_type": "display_data"
    },
    {
     "data": {
      "text/html": [
       "<style>\n",
       ".list-inline {list-style: none; margin:0; padding: 0}\n",
       ".list-inline>li {display: inline-block}\n",
       ".list-inline>li:not(:last-child)::after {content: \"\\00b7\"; padding: 0 .5ex}\n",
       "</style>\n",
       "<ol class=list-inline><li>88366</li><li>71</li></ol>\n"
      ],
      "text/latex": [
       "\\begin{enumerate*}\n",
       "\\item 88366\n",
       "\\item 71\n",
       "\\end{enumerate*}\n"
      ],
      "text/markdown": [
       "1. 88366\n",
       "2. 71\n",
       "\n",
       "\n"
      ],
      "text/plain": [
       "[1] 88366    71"
      ]
     },
     "metadata": {},
     "output_type": "display_data"
    }
   ],
   "source": [
    "head(sleuth_results_wt, 10)\n",
    "dim(sleuth_results_wt)"
   ]
  },
  {
   "cell_type": "code",
   "execution_count": 42,
   "id": "f21e45cd-a235-46ae-a9de-b09fe2e927eb",
   "metadata": {},
   "outputs": [
    {
     "ename": "ERROR",
     "evalue": "Error: Problem with `filter()` input `..1`.\n\u001b[34mi\u001b[39m Input `..1` is `qval < 0.05`.\n\u001b[31mx\u001b[39m object 'qval' not found\n",
     "output_type": "error",
     "traceback": [
      "Error: Problem with `filter()` input `..1`.\n\u001b[34mi\u001b[39m Input `..1` is `qval < 0.05`.\n\u001b[31mx\u001b[39m object 'qval' not found\nTraceback:\n",
      "1. sleuth_results_wt %>% filter(qval < 0.05)",
      "2. filter(., qval < 0.05)",
      "3. filter.data.frame(., qval < 0.05)",
      "4. filter_rows(.data, ..., caller_env = caller_env())",
      "5. withCallingHandlers({\n .     dots <- new_quosures(flatten(imap(dots, function(dot, index) {\n .         env_filter$current_expression <- index\n .         expand_if_across(dot)\n .     })))\n .     mask$eval_all_filter(dots, env_filter)\n . }, error = function(e) {\n .     local_call_step(dots = dots, .index = env_filter$current_expression, \n .         .fn = \"filter\")\n .     abort(c(cnd_bullet_header(), i = cnd_bullet_input_info(), \n .         x = conditionMessage(e), i = cnd_bullet_cur_group_label()), \n .         class = \"dplyr_error\")\n . })",
      "6. mask$eval_all_filter(dots, env_filter)",
      "7. .handleSimpleError(function (e) \n . {\n .     local_call_step(dots = dots, .index = env_filter$current_expression, \n .         .fn = \"filter\")\n .     abort(c(cnd_bullet_header(), i = cnd_bullet_input_info(), \n .         x = conditionMessage(e), i = cnd_bullet_cur_group_label()), \n .         class = \"dplyr_error\")\n . }, \"object 'qval' not found\", base::quote(mask$eval_all_filter(dots, \n .     env_filter)))",
      "8. h(simpleError(msg, call))",
      "9. abort(c(cnd_bullet_header(), i = cnd_bullet_input_info(), x = conditionMessage(e), \n .     i = cnd_bullet_cur_group_label()), class = \"dplyr_error\")",
      "10. signal_abort(cnd)"
     ]
    }
   ],
   "source": [
    "sig_transcripts <- sleuth_results_wt %>% \n",
    "  filter(qval < 0.05)\n",
    "\n",
    "head(sig_transcripts, 20)\n",
    "dim(sig_transcripts)"
   ]
  },
  {
   "cell_type": "code",
   "execution_count": 48,
   "id": "0bd2aa4d-289e-4592-848e-e30d8f60360e",
   "metadata": {},
   "outputs": [],
   "source": [
    "# Adding rest of the conditions -- all except untreated (so this is the base of comparison)\n",
    "\n",
    "so <- sleuth_wt(so, which_beta = 'condition RNA-seq_CTCF-AID_auxin2days')\n",
    "so <- sleuth_wt(so, which_beta = 'condition RNA-seq_CTCF-AID_auxin4days')\n",
    "so <- sleuth_wt(so, which_beta = 'condition RNA-seq_CTCF-AID_washoff2days')\n",
    "so <- sleuth_wt(so, which_beta = 'condition RNA-seq_WT-untagged_auxin2days')\n",
    "so <- sleuth_wt(so, which_beta = 'condition RNA-seq_WT-untagged_auxin4days')\n",
    "\n",
    "sleuth_results_wt <- sleuth_results(so, \n",
    "                                    test = 'condition RNA-seq_CTCF-AID_auxin4days', \n",
    "                                    show_all = TRUE)\n",
    "sleuth_results_wt <- sleuth_results(so, \n",
    "                                    test = 'condition RNA-seq_CTCF-AID_washoff2days', \n",
    "                                    show_all = TRUE)\n",
    "sleuth_results_wt <- sleuth_results(so, \n",
    "                                    test = 'condition RNA-seq_WT-untagged_auxin2days', \n",
    "                                    show_all = TRUE)\n",
    "sleuth_results_wt <- sleuth_results(so, \n",
    "                                    test = 'condition RNA-seq_WT-untagged_auxin4days', \n",
    "                                    show_all = TRUE)"
   ]
  },
  {
   "cell_type": "code",
   "execution_count": 49,
   "id": "4ae09141-975e-4fd9-83b6-d6dd36ca31ef",
   "metadata": {},
   "outputs": [
    {
     "data": {
      "text/html": [
       "<table class=\"dataframe\">\n",
       "<caption>A data.frame: 6 × 11</caption>\n",
       "<thead>\n",
       "\t<tr><th></th><th scope=col>target_id</th><th scope=col>pval</th><th scope=col>qval</th><th scope=col>b</th><th scope=col>se_b</th><th scope=col>mean_obs</th><th scope=col>var_obs</th><th scope=col>tech_var</th><th scope=col>sigma_sq</th><th scope=col>smooth_sigma_sq</th><th scope=col>final_sigma_sq</th></tr>\n",
       "\t<tr><th></th><th scope=col>&lt;chr&gt;</th><th scope=col>&lt;dbl&gt;</th><th scope=col>&lt;dbl&gt;</th><th scope=col>&lt;dbl&gt;</th><th scope=col>&lt;dbl&gt;</th><th scope=col>&lt;dbl&gt;</th><th scope=col>&lt;dbl&gt;</th><th scope=col>&lt;dbl&gt;</th><th scope=col>&lt;dbl&gt;</th><th scope=col>&lt;dbl&gt;</th><th scope=col>&lt;dbl&gt;</th></tr>\n",
       "</thead>\n",
       "<tbody>\n",
       "\t<tr><th scope=row>1</th><td>ENSMUST00000091190</td><td>4.948176e-15</td><td>2.377846e-10</td><td> 2.457897</td><td>0.3139790</td><td>6.135758</td><td>1.6121293</td><td>0.0060172597</td><td> 0.141856949</td><td>0.11220299</td><td>0.1418569</td></tr>\n",
       "\t<tr><th scope=row>2</th><td>ENSMUST00000136359</td><td>5.054153e-09</td><td>1.214387e-04</td><td> 3.200460</td><td>0.5475196</td><td>4.600168</td><td>2.2268563</td><td>0.1792910296</td><td>-0.004567387</td><td>0.27037552</td><td>0.2703755</td></tr>\n",
       "\t<tr><th scope=row>3</th><td>ENSMUST00000100572</td><td>2.055520e-07</td><td>3.292600e-03</td><td>-4.408336</td><td>0.8486962</td><td>2.221188</td><td>5.1849474</td><td>0.1380356675</td><td> 0.237898754</td><td>0.94239214</td><td>0.9423921</td></tr>\n",
       "\t<tr><th scope=row>4</th><td>ENSMUST00000073261</td><td>6.963469e-06</td><td>8.365738e-02</td><td>-1.789294</td><td>0.3980807</td><td>8.769689</td><td>0.7348572</td><td>0.0005069639</td><td> 0.237195427</td><td>0.04914121</td><td>0.2371954</td></tr>\n",
       "\t<tr><th scope=row>5</th><td>ENSMUST00000024894</td><td>8.764711e-06</td><td>8.423764e-02</td><td> 2.794201</td><td>0.6285318</td><td>4.032124</td><td>1.2925636</td><td>0.2062153454</td><td> 0.143352740</td><td>0.38636296</td><td>0.3863630</td></tr>\n",
       "\t<tr><th scope=row>6</th><td>ENSMUST00000034865</td><td>1.942244e-05</td><td>1.555575e-01</td><td> 2.693507</td><td>0.6305868</td><td>3.645245</td><td>1.7572136</td><td>0.1074313620</td><td> 0.100185818</td><td>0.48902825</td><td>0.4890283</td></tr>\n",
       "</tbody>\n",
       "</table>\n"
      ],
      "text/latex": [
       "A data.frame: 6 × 11\n",
       "\\begin{tabular}{r|lllllllllll}\n",
       "  & target\\_id & pval & qval & b & se\\_b & mean\\_obs & var\\_obs & tech\\_var & sigma\\_sq & smooth\\_sigma\\_sq & final\\_sigma\\_sq\\\\\n",
       "  & <chr> & <dbl> & <dbl> & <dbl> & <dbl> & <dbl> & <dbl> & <dbl> & <dbl> & <dbl> & <dbl>\\\\\n",
       "\\hline\n",
       "\t1 & ENSMUST00000091190 & 4.948176e-15 & 2.377846e-10 &  2.457897 & 0.3139790 & 6.135758 & 1.6121293 & 0.0060172597 &  0.141856949 & 0.11220299 & 0.1418569\\\\\n",
       "\t2 & ENSMUST00000136359 & 5.054153e-09 & 1.214387e-04 &  3.200460 & 0.5475196 & 4.600168 & 2.2268563 & 0.1792910296 & -0.004567387 & 0.27037552 & 0.2703755\\\\\n",
       "\t3 & ENSMUST00000100572 & 2.055520e-07 & 3.292600e-03 & -4.408336 & 0.8486962 & 2.221188 & 5.1849474 & 0.1380356675 &  0.237898754 & 0.94239214 & 0.9423921\\\\\n",
       "\t4 & ENSMUST00000073261 & 6.963469e-06 & 8.365738e-02 & -1.789294 & 0.3980807 & 8.769689 & 0.7348572 & 0.0005069639 &  0.237195427 & 0.04914121 & 0.2371954\\\\\n",
       "\t5 & ENSMUST00000024894 & 8.764711e-06 & 8.423764e-02 &  2.794201 & 0.6285318 & 4.032124 & 1.2925636 & 0.2062153454 &  0.143352740 & 0.38636296 & 0.3863630\\\\\n",
       "\t6 & ENSMUST00000034865 & 1.942244e-05 & 1.555575e-01 &  2.693507 & 0.6305868 & 3.645245 & 1.7572136 & 0.1074313620 &  0.100185818 & 0.48902825 & 0.4890283\\\\\n",
       "\\end{tabular}\n"
      ],
      "text/markdown": [
       "\n",
       "A data.frame: 6 × 11\n",
       "\n",
       "| <!--/--> | target_id &lt;chr&gt; | pval &lt;dbl&gt; | qval &lt;dbl&gt; | b &lt;dbl&gt; | se_b &lt;dbl&gt; | mean_obs &lt;dbl&gt; | var_obs &lt;dbl&gt; | tech_var &lt;dbl&gt; | sigma_sq &lt;dbl&gt; | smooth_sigma_sq &lt;dbl&gt; | final_sigma_sq &lt;dbl&gt; |\n",
       "|---|---|---|---|---|---|---|---|---|---|---|---|\n",
       "| 1 | ENSMUST00000091190 | 4.948176e-15 | 2.377846e-10 |  2.457897 | 0.3139790 | 6.135758 | 1.6121293 | 0.0060172597 |  0.141856949 | 0.11220299 | 0.1418569 |\n",
       "| 2 | ENSMUST00000136359 | 5.054153e-09 | 1.214387e-04 |  3.200460 | 0.5475196 | 4.600168 | 2.2268563 | 0.1792910296 | -0.004567387 | 0.27037552 | 0.2703755 |\n",
       "| 3 | ENSMUST00000100572 | 2.055520e-07 | 3.292600e-03 | -4.408336 | 0.8486962 | 2.221188 | 5.1849474 | 0.1380356675 |  0.237898754 | 0.94239214 | 0.9423921 |\n",
       "| 4 | ENSMUST00000073261 | 6.963469e-06 | 8.365738e-02 | -1.789294 | 0.3980807 | 8.769689 | 0.7348572 | 0.0005069639 |  0.237195427 | 0.04914121 | 0.2371954 |\n",
       "| 5 | ENSMUST00000024894 | 8.764711e-06 | 8.423764e-02 |  2.794201 | 0.6285318 | 4.032124 | 1.2925636 | 0.2062153454 |  0.143352740 | 0.38636296 | 0.3863630 |\n",
       "| 6 | ENSMUST00000034865 | 1.942244e-05 | 1.555575e-01 |  2.693507 | 0.6305868 | 3.645245 | 1.7572136 | 0.1074313620 |  0.100185818 | 0.48902825 | 0.4890283 |\n",
       "\n"
      ],
      "text/plain": [
       "  target_id          pval         qval         b         se_b      mean_obs\n",
       "1 ENSMUST00000091190 4.948176e-15 2.377846e-10  2.457897 0.3139790 6.135758\n",
       "2 ENSMUST00000136359 5.054153e-09 1.214387e-04  3.200460 0.5475196 4.600168\n",
       "3 ENSMUST00000100572 2.055520e-07 3.292600e-03 -4.408336 0.8486962 2.221188\n",
       "4 ENSMUST00000073261 6.963469e-06 8.365738e-02 -1.789294 0.3980807 8.769689\n",
       "5 ENSMUST00000024894 8.764711e-06 8.423764e-02  2.794201 0.6285318 4.032124\n",
       "6 ENSMUST00000034865 1.942244e-05 1.555575e-01  2.693507 0.6305868 3.645245\n",
       "  var_obs   tech_var     sigma_sq     smooth_sigma_sq final_sigma_sq\n",
       "1 1.6121293 0.0060172597  0.141856949 0.11220299      0.1418569     \n",
       "2 2.2268563 0.1792910296 -0.004567387 0.27037552      0.2703755     \n",
       "3 5.1849474 0.1380356675  0.237898754 0.94239214      0.9423921     \n",
       "4 0.7348572 0.0005069639  0.237195427 0.04914121      0.2371954     \n",
       "5 1.2925636 0.2062153454  0.143352740 0.38636296      0.3863630     \n",
       "6 1.7572136 0.1074313620  0.100185818 0.48902825      0.4890283     "
      ]
     },
     "metadata": {},
     "output_type": "display_data"
    },
    {
     "data": {
      "text/html": [
       "<style>\n",
       ".list-inline {list-style: none; margin:0; padding: 0}\n",
       ".list-inline>li {display: inline-block}\n",
       ".list-inline>li:not(:last-child)::after {content: \"\\00b7\"; padding: 0 .5ex}\n",
       "</style>\n",
       "<ol class=list-inline><li>88366</li><li>11</li></ol>\n"
      ],
      "text/latex": [
       "\\begin{enumerate*}\n",
       "\\item 88366\n",
       "\\item 11\n",
       "\\end{enumerate*}\n"
      ],
      "text/markdown": [
       "1. 88366\n",
       "2. 11\n",
       "\n",
       "\n"
      ],
      "text/plain": [
       "[1] 88366    11"
      ]
     },
     "metadata": {},
     "output_type": "display_data"
    }
   ],
   "source": [
    "head(sleuth_results_wt)\n",
    "dim(sleuth_results_wt)"
   ]
  },
  {
   "cell_type": "code",
   "execution_count": 50,
   "id": "e9d10755-c2b2-45fb-9141-9dd67b8accdf",
   "metadata": {},
   "outputs": [
    {
     "data": {
      "text/html": [
       "<table class=\"dataframe\">\n",
       "<caption>A data.frame: 3 × 11</caption>\n",
       "<thead>\n",
       "\t<tr><th></th><th scope=col>target_id</th><th scope=col>pval</th><th scope=col>qval</th><th scope=col>b</th><th scope=col>se_b</th><th scope=col>mean_obs</th><th scope=col>var_obs</th><th scope=col>tech_var</th><th scope=col>sigma_sq</th><th scope=col>smooth_sigma_sq</th><th scope=col>final_sigma_sq</th></tr>\n",
       "\t<tr><th></th><th scope=col>&lt;chr&gt;</th><th scope=col>&lt;dbl&gt;</th><th scope=col>&lt;dbl&gt;</th><th scope=col>&lt;dbl&gt;</th><th scope=col>&lt;dbl&gt;</th><th scope=col>&lt;dbl&gt;</th><th scope=col>&lt;dbl&gt;</th><th scope=col>&lt;dbl&gt;</th><th scope=col>&lt;dbl&gt;</th><th scope=col>&lt;dbl&gt;</th><th scope=col>&lt;dbl&gt;</th></tr>\n",
       "</thead>\n",
       "<tbody>\n",
       "\t<tr><th scope=row>1</th><td>ENSMUST00000091190</td><td>4.948176e-15</td><td>2.377846e-10</td><td> 2.457897</td><td>0.3139790</td><td>6.135758</td><td>1.612129</td><td>0.00601726</td><td> 0.141856949</td><td>0.1122030</td><td>0.1418569</td></tr>\n",
       "\t<tr><th scope=row>2</th><td>ENSMUST00000136359</td><td>5.054153e-09</td><td>1.214387e-04</td><td> 3.200460</td><td>0.5475196</td><td>4.600168</td><td>2.226856</td><td>0.17929103</td><td>-0.004567387</td><td>0.2703755</td><td>0.2703755</td></tr>\n",
       "\t<tr><th scope=row>3</th><td>ENSMUST00000100572</td><td>2.055520e-07</td><td>3.292600e-03</td><td>-4.408336</td><td>0.8486962</td><td>2.221188</td><td>5.184947</td><td>0.13803567</td><td> 0.237898754</td><td>0.9423921</td><td>0.9423921</td></tr>\n",
       "</tbody>\n",
       "</table>\n"
      ],
      "text/latex": [
       "A data.frame: 3 × 11\n",
       "\\begin{tabular}{r|lllllllllll}\n",
       "  & target\\_id & pval & qval & b & se\\_b & mean\\_obs & var\\_obs & tech\\_var & sigma\\_sq & smooth\\_sigma\\_sq & final\\_sigma\\_sq\\\\\n",
       "  & <chr> & <dbl> & <dbl> & <dbl> & <dbl> & <dbl> & <dbl> & <dbl> & <dbl> & <dbl> & <dbl>\\\\\n",
       "\\hline\n",
       "\t1 & ENSMUST00000091190 & 4.948176e-15 & 2.377846e-10 &  2.457897 & 0.3139790 & 6.135758 & 1.612129 & 0.00601726 &  0.141856949 & 0.1122030 & 0.1418569\\\\\n",
       "\t2 & ENSMUST00000136359 & 5.054153e-09 & 1.214387e-04 &  3.200460 & 0.5475196 & 4.600168 & 2.226856 & 0.17929103 & -0.004567387 & 0.2703755 & 0.2703755\\\\\n",
       "\t3 & ENSMUST00000100572 & 2.055520e-07 & 3.292600e-03 & -4.408336 & 0.8486962 & 2.221188 & 5.184947 & 0.13803567 &  0.237898754 & 0.9423921 & 0.9423921\\\\\n",
       "\\end{tabular}\n"
      ],
      "text/markdown": [
       "\n",
       "A data.frame: 3 × 11\n",
       "\n",
       "| <!--/--> | target_id &lt;chr&gt; | pval &lt;dbl&gt; | qval &lt;dbl&gt; | b &lt;dbl&gt; | se_b &lt;dbl&gt; | mean_obs &lt;dbl&gt; | var_obs &lt;dbl&gt; | tech_var &lt;dbl&gt; | sigma_sq &lt;dbl&gt; | smooth_sigma_sq &lt;dbl&gt; | final_sigma_sq &lt;dbl&gt; |\n",
       "|---|---|---|---|---|---|---|---|---|---|---|---|\n",
       "| 1 | ENSMUST00000091190 | 4.948176e-15 | 2.377846e-10 |  2.457897 | 0.3139790 | 6.135758 | 1.612129 | 0.00601726 |  0.141856949 | 0.1122030 | 0.1418569 |\n",
       "| 2 | ENSMUST00000136359 | 5.054153e-09 | 1.214387e-04 |  3.200460 | 0.5475196 | 4.600168 | 2.226856 | 0.17929103 | -0.004567387 | 0.2703755 | 0.2703755 |\n",
       "| 3 | ENSMUST00000100572 | 2.055520e-07 | 3.292600e-03 | -4.408336 | 0.8486962 | 2.221188 | 5.184947 | 0.13803567 |  0.237898754 | 0.9423921 | 0.9423921 |\n",
       "\n"
      ],
      "text/plain": [
       "  target_id          pval         qval         b         se_b      mean_obs\n",
       "1 ENSMUST00000091190 4.948176e-15 2.377846e-10  2.457897 0.3139790 6.135758\n",
       "2 ENSMUST00000136359 5.054153e-09 1.214387e-04  3.200460 0.5475196 4.600168\n",
       "3 ENSMUST00000100572 2.055520e-07 3.292600e-03 -4.408336 0.8486962 2.221188\n",
       "  var_obs  tech_var   sigma_sq     smooth_sigma_sq final_sigma_sq\n",
       "1 1.612129 0.00601726  0.141856949 0.1122030       0.1418569     \n",
       "2 2.226856 0.17929103 -0.004567387 0.2703755       0.2703755     \n",
       "3 5.184947 0.13803567  0.237898754 0.9423921       0.9423921     "
      ]
     },
     "metadata": {},
     "output_type": "display_data"
    },
    {
     "data": {
      "text/html": [
       "<style>\n",
       ".list-inline {list-style: none; margin:0; padding: 0}\n",
       ".list-inline>li {display: inline-block}\n",
       ".list-inline>li:not(:last-child)::after {content: \"\\00b7\"; padding: 0 .5ex}\n",
       "</style>\n",
       "<ol class=list-inline><li>3</li><li>11</li></ol>\n"
      ],
      "text/latex": [
       "\\begin{enumerate*}\n",
       "\\item 3\n",
       "\\item 11\n",
       "\\end{enumerate*}\n"
      ],
      "text/markdown": [
       "1. 3\n",
       "2. 11\n",
       "\n",
       "\n"
      ],
      "text/plain": [
       "[1]  3 11"
      ]
     },
     "metadata": {},
     "output_type": "display_data"
    }
   ],
   "source": [
    "sig_transcripts <- sleuth_results_wt %>% \n",
    "  filter(qval < 0.05)\n",
    "\n",
    "head(sig_transcripts, 20)\n",
    "dim(sig_transcripts)"
   ]
  },
  {
   "cell_type": "markdown",
   "id": "05967678-2f99-414e-9ca3-0eaaa149439c",
   "metadata": {
    "jp-MarkdownHeadingCollapsed": true,
    "tags": []
   },
   "source": [
    "### Notes/Observations:\n",
    "\n",
    "These sleuth results using the likelihood ratio test may be useful for extracting significantly differentially expressed genes/transcripts. It does not directly compare two sets (for e.g. WT vs dCTCF+auxin treatment). It does still appear to be useful, the above significant gene looks like it follows an expected pattern -- where it has much lower expression in the CTCF-AID+auxin treatments sets compared to any other conditions (either WT, untreated, or washoff).\n",
    "\n",
    "Seems like a very low number of significant genes... maybe it's just that this isn't the right model, but maybe I should play around a bit more with the cutoff?\n",
    "\n",
    "I want to see if this gene shows up in Elphege's data. Looking up the RefSeq ID for this:"
   ]
  },
  {
   "cell_type": "code",
   "execution_count": 28,
   "id": "d1bfb8db-989d-46e4-84cd-dfafccfd1165",
   "metadata": {},
   "outputs": [],
   "source": [
    "refseq_ids <- read.csv(\"/scratch/pokorny/ensembl_queries_downloads/mm9_ensembl_refseq_id.csv\")"
   ]
  },
  {
   "cell_type": "code",
   "execution_count": 29,
   "id": "cec30f27-3577-4ea4-b68e-70dbf1e628ea",
   "metadata": {},
   "outputs": [
    {
     "data": {
      "text/html": [
       "<table class=\"dataframe\">\n",
       "<caption>A data.frame: 6 × 2</caption>\n",
       "<thead>\n",
       "\t<tr><th></th><th scope=col>stable_id</th><th scope=col>display_label</th></tr>\n",
       "\t<tr><th></th><th scope=col>&lt;fct&gt;</th><th scope=col>&lt;fct&gt;</th></tr>\n",
       "</thead>\n",
       "<tbody>\n",
       "\t<tr><th scope=row>1</th><td>ENSMUST00000021634</td><td>NM_013778.2   </td></tr>\n",
       "\t<tr><th scope=row>2</th><td>ENSMUST00000112933</td><td>NM_170786.2   </td></tr>\n",
       "\t<tr><th scope=row>3</th><td>ENSMUST00000189181</td><td>NM_008829.2   </td></tr>\n",
       "\t<tr><th scope=row>4</th><td>ENSMUST00000180159</td><td>NM_023127.2   </td></tr>\n",
       "\t<tr><th scope=row>5</th><td>ENSMUST00000057177</td><td>NM_001039368.1</td></tr>\n",
       "\t<tr><th scope=row>6</th><td>ENSMUST00000021772</td><td>NM_001013389.1</td></tr>\n",
       "</tbody>\n",
       "</table>\n"
      ],
      "text/latex": [
       "A data.frame: 6 × 2\n",
       "\\begin{tabular}{r|ll}\n",
       "  & stable\\_id & display\\_label\\\\\n",
       "  & <fct> & <fct>\\\\\n",
       "\\hline\n",
       "\t1 & ENSMUST00000021634 & NM\\_013778.2   \\\\\n",
       "\t2 & ENSMUST00000112933 & NM\\_170786.2   \\\\\n",
       "\t3 & ENSMUST00000189181 & NM\\_008829.2   \\\\\n",
       "\t4 & ENSMUST00000180159 & NM\\_023127.2   \\\\\n",
       "\t5 & ENSMUST00000057177 & NM\\_001039368.1\\\\\n",
       "\t6 & ENSMUST00000021772 & NM\\_001013389.1\\\\\n",
       "\\end{tabular}\n"
      ],
      "text/markdown": [
       "\n",
       "A data.frame: 6 × 2\n",
       "\n",
       "| <!--/--> | stable_id &lt;fct&gt; | display_label &lt;fct&gt; |\n",
       "|---|---|---|\n",
       "| 1 | ENSMUST00000021634 | NM_013778.2    |\n",
       "| 2 | ENSMUST00000112933 | NM_170786.2    |\n",
       "| 3 | ENSMUST00000189181 | NM_008829.2    |\n",
       "| 4 | ENSMUST00000180159 | NM_023127.2    |\n",
       "| 5 | ENSMUST00000057177 | NM_001039368.1 |\n",
       "| 6 | ENSMUST00000021772 | NM_001013389.1 |\n",
       "\n"
      ],
      "text/plain": [
       "  stable_id          display_label \n",
       "1 ENSMUST00000021634 NM_013778.2   \n",
       "2 ENSMUST00000112933 NM_170786.2   \n",
       "3 ENSMUST00000189181 NM_008829.2   \n",
       "4 ENSMUST00000180159 NM_023127.2   \n",
       "5 ENSMUST00000057177 NM_001039368.1\n",
       "6 ENSMUST00000021772 NM_001013389.1"
      ]
     },
     "metadata": {},
     "output_type": "display_data"
    }
   ],
   "source": [
    "head(refseq_ids)"
   ]
  },
  {
   "cell_type": "code",
   "execution_count": 30,
   "id": "68ff49b3-41e1-4b91-8baf-49cabfbe93dd",
   "metadata": {},
   "outputs": [
    {
     "data": {
      "text/html": [
       "<table class=\"dataframe\">\n",
       "<caption>A data.frame: 1 × 2</caption>\n",
       "<thead>\n",
       "\t<tr><th scope=col>stable_id</th><th scope=col>display_label</th></tr>\n",
       "\t<tr><th scope=col>&lt;fct&gt;</th><th scope=col>&lt;fct&gt;</th></tr>\n",
       "</thead>\n",
       "<tbody>\n",
       "\t<tr><td>ENSMUST00000029644</td><td>NM_146141.1</td></tr>\n",
       "</tbody>\n",
       "</table>\n"
      ],
      "text/latex": [
       "A data.frame: 1 × 2\n",
       "\\begin{tabular}{ll}\n",
       " stable\\_id & display\\_label\\\\\n",
       " <fct> & <fct>\\\\\n",
       "\\hline\n",
       "\t ENSMUST00000029644 & NM\\_146141.1\\\\\n",
       "\\end{tabular}\n"
      ],
      "text/markdown": [
       "\n",
       "A data.frame: 1 × 2\n",
       "\n",
       "| stable_id &lt;fct&gt; | display_label &lt;fct&gt; |\n",
       "|---|---|\n",
       "| ENSMUST00000029644 | NM_146141.1 |\n",
       "\n"
      ],
      "text/plain": [
       "  stable_id          display_label\n",
       "1 ENSMUST00000029644 NM_146141.1  "
      ]
     },
     "metadata": {},
     "output_type": "display_data"
    }
   ],
   "source": [
    "refseq_ids %>% filter(stable_id == \"ENSMUST00000029644\")"
   ]
  },
  {
   "cell_type": "markdown",
   "id": "8c093ee1-1886-4de4-bace-0f740aad8ebe",
   "metadata": {
    "tags": []
   },
   "source": [
    "### Notes/observations:\n",
    "\n",
    "Looked up transcript tracking ID on ensembl website and found transcript names/RefSeq transcript IDs --> these did not have any matches in suppl. 10, but the gene name \"Ppa2\" matched suppl 10 tracking_id (so genes are likely the way to go).\n",
    "\n",
    "Looks like the rough bootstrap plot matches up with the called_differentially_expressed column.\n",
    "\n",
    "However, I looked up a handful of others and none of the ids on the ensembl result page (transcript id or gene id) match an entry in suppl. table 10.\n",
    "\n",
    "I'll try other models to look at WT vs CTCF, and gene-level analysis is probably needed."
   ]
  },
  {
   "cell_type": "markdown",
   "id": "589abeb2-6058-4966-93c6-3d68934ea6fa",
   "metadata": {},
   "source": [
    "## Notes:\n",
    "\n",
    "Most tutorials use a qvalue of 0.05. Seems like this might not be the best model? "
   ]
  },
  {
   "cell_type": "code",
   "execution_count": 37,
   "id": "41f8361d-f9fe-4f63-b3b0-3619adb28242",
   "metadata": {},
   "outputs": [
    {
     "name": "stdout",
     "output_type": "stream",
     "text": [
      "[  full  ]\n",
      "formula:  ~condition \n",
      "data modeled:  obs_counts \n",
      "transform sync'ed:  TRUE \n",
      "coefficients:\n",
      "\t(Intercept)\n",
      " \tcondition RNA-seq_CTCF-AID_auxin1day\n",
      " \tcondition RNA-seq_CTCF-AID_auxin2days\n",
      " \tcondition RNA-seq_CTCF-AID_auxin4days\n",
      " \tcondition RNA-seq_CTCF-AID_washoff2days\n",
      " \tcondition RNA-seq_WT-untagged_auxin2days\n",
      " \tcondition RNA-seq_WT-untagged_auxin4days\n",
      " \tcondition RNA-seq_WT-untagged_untreated\n",
      "[  reduced  ]\n",
      "formula:  ~1 \n",
      "data modeled:  obs_counts \n",
      "transform sync'ed:  TRUE \n",
      "coefficients:\n",
      "\t(Intercept)\n"
     ]
    }
   ],
   "source": [
    "models(so)"
   ]
  },
  {
   "cell_type": "code",
   "execution_count": 43,
   "id": "811b32ea-e485-4e90-95c3-f18986754f37",
   "metadata": {},
   "outputs": [
    {
     "name": "stderr",
     "output_type": "stream",
     "text": [
      "Warning message in eval(expr, envir, enclos):\n",
      "\"strings not representable in native encoding will be translated to UTF-8\"\n",
      "Loading required package: shiny\n",
      "\n",
      "Warning message in name %in% fa_tbl$v4_name:\n",
      "\"strings not representable in native encoding will be translated to UTF-8\"\n",
      "\n",
      "Listening on http://127.0.0.1:42427\n",
      "\n"
     ]
    }
   ],
   "source": [
    "sleuth_live(so)"
   ]
  },
  {
   "cell_type": "markdown",
   "id": "285a5009-bfc5-4f3f-83bd-915beeb81704",
   "metadata": {},
   "source": [
    "## Notes:\n",
    "\n",
    "This still seems like a small number of significant DE transcripts. I think that building the model with ~strain + treatment might be the way to go.\n",
    "\n",
    "Should still do a little bit comparison with the above results and Elphege's data"
   ]
  },
  {
   "cell_type": "code",
   "execution_count": 41,
   "id": "ed8f909a-8fef-495c-931b-b5c6e1928331",
   "metadata": {},
   "outputs": [
    {
     "ename": "ERROR",
     "evalue": "Error in plot_transcript_heatmap(so, transcripts = sig_transcripts$target_id[0:20]): Couldn't find the following transcripts: NA, NA, NA, NA, NA, NA, NA, NA, NA, NA, NA, NA, NA, NA, NA, NA, NA\n\tIt is highly likely that some of them were filtered out.\n",
     "output_type": "error",
     "traceback": [
      "Error in plot_transcript_heatmap(so, transcripts = sig_transcripts$target_id[0:20]): Couldn't find the following transcripts: NA, NA, NA, NA, NA, NA, NA, NA, NA, NA, NA, NA, NA, NA, NA, NA, NA\n\tIt is highly likely that some of them were filtered out.\nTraceback:\n",
      "1. plot_transcript_heatmap(so, transcripts = sig_transcripts$target_id[0:20])",
      "2. stop(\"Couldn't find the following transcripts: \", paste(transcripts[!(transcripts %in% \n .     obj$obs_norm$target_id)], collapse = \", \"), \"\\n\\tIt is highly likely that some of them were filtered out.\")"
     ]
    }
   ],
   "source": [
    "plot_transcript_heatmap(so, \n",
    "                        transcripts = sig_transcripts$target_id[0:20])"
   ]
  },
  {
   "cell_type": "markdown",
   "id": "3623d65b-c03c-4f84-998f-240040f8e9ce",
   "metadata": {
    "tags": []
   },
   "source": [
    "# Doing gene-level analysis\n"
   ]
  },
  {
   "cell_type": "code",
   "execution_count": null,
   "id": "5ff105aa-5931-459c-9ddc-3fb8eee01e18",
   "metadata": {},
   "outputs": [],
   "source": [
    "refseq_ids <- read.csv(\"/scratch/pokorny/ensembl_queries_downloads/mm9_ensembl_refseq_id.csv\")"
   ]
  },
  {
   "cell_type": "code",
   "execution_count": null,
   "id": "071e6094-828f-4652-bd8f-057990923c1a",
   "metadata": {},
   "outputs": [],
   "source": [
    "head(refseq_ids, 10)"
   ]
  },
  {
   "cell_type": "code",
   "execution_count": null,
   "id": "c84cb0d4-837c-420d-af4e-7cea3411ab7c",
   "metadata": {},
   "outputs": [],
   "source": [
    "genes <-read.csv(\"/scratch/pokorny/ensembl_queries_downloads/mm9_transcripts_gene.csv\")"
   ]
  },
  {
   "cell_type": "code",
   "execution_count": null,
   "id": "8f61eeed-2b9f-4d81-886d-07793cadf27f",
   "metadata": {},
   "outputs": [],
   "source": [
    "head(genes, 5)"
   ]
  },
  {
   "cell_type": "code",
   "execution_count": null,
   "id": "6e5cbec7-fc94-4ccd-9eb0-9396deeef402",
   "metadata": {},
   "outputs": [],
   "source": [
    "genes <- dplyr::rename(genes, target_id = stable_id,\n",
    "  ens_gene = stable_id.1, ext_gene = description) "
   ]
  },
  {
   "cell_type": "code",
   "execution_count": null,
   "id": "8861dcc5-4e29-420c-bb7d-2f3472641e6a",
   "metadata": {},
   "outputs": [],
   "source": [
    "head(genes)"
   ]
  },
  {
   "cell_type": "code",
   "execution_count": null,
   "id": "262c034b-4d9b-4cbe-a289-f7e98d4d637f",
   "metadata": {},
   "outputs": [],
   "source": [
    "genes <- genes %>% distinct(target_id, .keep_all= TRUE)"
   ]
  },
  {
   "cell_type": "code",
   "execution_count": null,
   "id": "4551da3f-c85d-4664-80ac-5f7a22158aa2",
   "metadata": {},
   "outputs": [],
   "source": [
    "so_gene <- sleuth_prep(s2c, target_mapping = genes, aggregation_column = 'ens_gene')"
   ]
  },
  {
   "cell_type": "code",
   "execution_count": null,
   "id": "b93c956a-0a3c-4ffa-998d-f720d2dc9569",
   "metadata": {},
   "outputs": [],
   "source": [
    "so_gene("
   ]
  },
  {
   "cell_type": "code",
   "execution_count": null,
   "id": "f831d6d4-db85-476a-b3f0-80a6840733e3",
   "metadata": {},
   "outputs": [],
   "source": [
    "# Getting results of test -- from pachterlab tutorial\n",
    "\n",
    "so <- sleuth_wt(so, 'condition RNA-seq_CTCF-AID_auxin2days')\n",
    "models(so)"
   ]
  },
  {
   "cell_type": "code",
   "execution_count": null,
   "id": "afc76a87-0919-4e50-9a9d-f70aa3b5c0bf",
   "metadata": {},
   "outputs": [],
   "source": [
    "tests(so)"
   ]
  },
  {
   "cell_type": "code",
   "execution_count": null,
   "id": "98ba8027-d158-404f-a3e9-3a9556bf8cc6",
   "metadata": {},
   "outputs": [],
   "source": [
    "sleuth_wt_res <- sleuth_results(so, \"condition RNA-seq_CTCF-AID_auxin2days\")\n",
    "head(sleuth_wt_res, 20)"
   ]
  },
  {
   "cell_type": "code",
   "execution_count": null,
   "id": "193531a4-3ab4-4379-bfd7-72d57aa64810",
   "metadata": {},
   "outputs": [],
   "source": [
    "head(sleuth_table, 10)\n",
    "dim(sleuth_table)"
   ]
  },
  {
   "cell_type": "code",
   "execution_count": null,
   "id": "f634c69d-93e2-4f88-846c-921a1c76d97d",
   "metadata": {},
   "outputs": [],
   "source": []
  },
  {
   "cell_type": "markdown",
   "id": "28cabf6d-7d14-466b-9bba-014d310e2d2b",
   "metadata": {},
   "source": [
    "# Closer look at kallisto results\n",
    "\n",
    "Might move these analyses into python and do them there"
   ]
  },
  {
   "cell_type": "code",
   "execution_count": null,
   "id": "5e2ea821-b2de-4960-af16-66931b34ce50",
   "metadata": {},
   "outputs": [],
   "source": [
    "kal <- read.csv('/scratch2/pokorny/elphege-rna-seq/SRP106652-rna-seq/SRR5517523/kallisto/abundance.tsv', sep='\\t')"
   ]
  },
  {
   "cell_type": "code",
   "execution_count": null,
   "id": "b096e7b3-e3c9-44dd-bb5e-e66a570d9dd5",
   "metadata": {},
   "outputs": [],
   "source": [
    "head(kal)"
   ]
  },
  {
   "cell_type": "code",
   "execution_count": null,
   "id": "cedd6bf6-10e9-4377-8537-0f4f79ae1fae",
   "metadata": {},
   "outputs": [],
   "source": []
  },
  {
   "cell_type": "code",
   "execution_count": null,
   "id": "f4d81fb6-01b1-42fc-a3b6-6a983bd9d6b4",
   "metadata": {},
   "outputs": [],
   "source": []
  },
  {
   "cell_type": "markdown",
   "id": "8dd0ff23-c2f7-4011-bff2-dd0b03a5f9c6",
   "metadata": {},
   "source": [
    "## Todo: Create strain vs treatment column in s2c\n",
    "\n",
    "So that we can fully capture the 2-factor experiments"
   ]
  },
  {
   "cell_type": "code",
   "execution_count": 16,
   "id": "225da208-15ea-490b-bbb9-f228640a8636",
   "metadata": {},
   "outputs": [],
   "source": [
    "## todo: some parsing of the columns -- probably just splitting 'condition' by '_' to get CTCF-AID / WT-untagged into its own column\n",
    "\n",
    "#sum_extended <- cbind(sum,  stringr::str_split_fixed(sum$Experiment.Title, \"[:;]+\", 4))\n",
    "#colnames(sum_extended)[19] <- \"condition\""
   ]
  },
  {
   "cell_type": "code",
   "execution_count": 17,
   "id": "c3e47352-5fcb-41dd-a71f-f908e18e7c2a",
   "metadata": {},
   "outputs": [
    {
     "data": {
      "text/html": [
       "<style>\n",
       ".list-inline {list-style: none; margin:0; padding: 0}\n",
       ".list-inline>li {display: inline-block}\n",
       ".list-inline>li:not(:last-child)::after {content: \"\\00b7\"; padding: 0 .5ex}\n",
       "</style>\n",
       "<ol class=list-inline><li>' RNA-seq_CTCF-AID_untreated'</li><li>' RNA-seq_CTCF-AID_auxin1day'</li><li>' RNA-seq_CTCF-AID_auxin2days'</li><li>' RNA-seq_CTCF-AID_auxin4days'</li><li>' RNA-seq_CTCF-AID_washoff2days'</li><li>' RNA-seq_WT-untagged_auxin2days'</li><li>' RNA-seq_WT-untagged_auxin4days'</li><li>' RNA-seq_WT-untagged_untreated'</li></ol>\n"
      ],
      "text/latex": [
       "\\begin{enumerate*}\n",
       "\\item ' RNA-seq\\_CTCF-AID\\_untreated'\n",
       "\\item ' RNA-seq\\_CTCF-AID\\_auxin1day'\n",
       "\\item ' RNA-seq\\_CTCF-AID\\_auxin2days'\n",
       "\\item ' RNA-seq\\_CTCF-AID\\_auxin4days'\n",
       "\\item ' RNA-seq\\_CTCF-AID\\_washoff2days'\n",
       "\\item ' RNA-seq\\_WT-untagged\\_auxin2days'\n",
       "\\item ' RNA-seq\\_WT-untagged\\_auxin4days'\n",
       "\\item ' RNA-seq\\_WT-untagged\\_untreated'\n",
       "\\end{enumerate*}\n"
      ],
      "text/markdown": [
       "1. ' RNA-seq_CTCF-AID_untreated'\n",
       "2. ' RNA-seq_CTCF-AID_auxin1day'\n",
       "3. ' RNA-seq_CTCF-AID_auxin2days'\n",
       "4. ' RNA-seq_CTCF-AID_auxin4days'\n",
       "5. ' RNA-seq_CTCF-AID_washoff2days'\n",
       "6. ' RNA-seq_WT-untagged_auxin2days'\n",
       "7. ' RNA-seq_WT-untagged_auxin4days'\n",
       "8. ' RNA-seq_WT-untagged_untreated'\n",
       "\n",
       "\n"
      ],
      "text/plain": [
       "[1] \" RNA-seq_CTCF-AID_untreated\"     \" RNA-seq_CTCF-AID_auxin1day\"    \n",
       "[3] \" RNA-seq_CTCF-AID_auxin2days\"    \" RNA-seq_CTCF-AID_auxin4days\"   \n",
       "[5] \" RNA-seq_CTCF-AID_washoff2days\"  \" RNA-seq_WT-untagged_auxin2days\"\n",
       "[7] \" RNA-seq_WT-untagged_auxin4days\" \" RNA-seq_WT-untagged_untreated\" "
      ]
     },
     "metadata": {},
     "output_type": "display_data"
    }
   ],
   "source": [
    "# making sure untreated is still base\n",
    "levels(s2c$condition)"
   ]
  },
  {
   "cell_type": "markdown",
   "id": "5dc8e2fa-0a13-4d12-a43a-478536dabd71",
   "metadata": {},
   "source": [
    "`sleuth_prep( )` makes a regression model, using 'condition' as the dependent variable."
   ]
  },
  {
   "cell_type": "code",
   "execution_count": 19,
   "id": "c99835f6-7901-4d88-8fe9-734ac4df9194",
   "metadata": {},
   "outputs": [
    {
     "ename": "ERROR",
     "evalue": "Error in is(obj, \"sleuth\"): object 'so' not found\n",
     "output_type": "error",
     "traceback": [
      "Error in is(obj, \"sleuth\"): object 'so' not found\nTraceback:\n",
      "1. plot_group_density(so, use_filtered = TRUE, units = \"est_counts\", \n .     trans = \"log\", grouping = \"condition\")",
      "2. sleuth:::check_quant_mode(obj, units)",
      "3. stopifnot(is(obj, \"sleuth\"))",
      "4. is(obj, \"sleuth\")"
     ]
    }
   ],
   "source": [
    "plot_group_density(so, use_filtered = TRUE, units = \"est_counts\", trans = \"log\", grouping = \"condition\")"
   ]
  },
  {
   "cell_type": "markdown",
   "id": "c6c7bd49-f2d8-4543-87f1-d4a03e34733c",
   "metadata": {},
   "source": [
    "### Fit model\n",
    "\n",
    "(from the manual):\n",
    "\n",
    "It performs the technical variance estimation from the boostraps, biological variance estimation, and shrinkage estimation.\n",
    "\n",
    "Usage\n",
    "`sleuth_fit(obj, formula = NULL, fit_name = NULL, ...)`\n"
   ]
  },
  {
   "cell_type": "markdown",
   "id": "796c2598-2391-40e4-adb3-d320c267d63b",
   "metadata": {},
   "source": [
    "estimate parameters for the sleuth response error measurement (full) model as responding to the 'condition' factor"
   ]
  },
  {
   "cell_type": "code",
   "execution_count": 18,
   "id": "ec644ef2-a45c-424d-8b41-4ef1fde9a28d",
   "metadata": {},
   "outputs": [
    {
     "name": "stderr",
     "output_type": "stream",
     "text": [
      "fitting measurement error models\n",
      "\n",
      "shrinkage estimation\n",
      "\n",
      "1 NA values were found during variance shrinkage estimation due to mean observation values outside of the range used for the LOESS fit.\n",
      "The LOESS fit will be repeated using exact computation of the fitted surface to extrapolate the missing values.\n",
      "These are the target ids with NA values: ENSMUST00000049324\n",
      "\n",
      "computing variance of betas\n",
      "\n"
     ]
    }
   ],
   "source": [
    "so <- sleuth_fit(so)"
   ]
  },
  {
   "cell_type": "markdown",
   "id": "85ed477c-4743-43b5-ab7b-db9e83ce16ae",
   "metadata": {},
   "source": [
    "Create another model where the gene expression is not dependent on any factor."
   ]
  },
  {
   "cell_type": "code",
   "execution_count": 19,
   "id": "febbfaa1-484d-4cc2-b5ff-a6d67fb008da",
   "metadata": {},
   "outputs": [
    {
     "name": "stderr",
     "output_type": "stream",
     "text": [
      "fitting measurement error models\n",
      "\n",
      "shrinkage estimation\n",
      "\n",
      "1 NA values were found during variance shrinkage estimation due to mean observation values outside of the range used for the LOESS fit.\n",
      "The LOESS fit will be repeated using exact computation of the fitted surface to extrapolate the missing values.\n",
      "These are the target ids with NA values: ENSMUST00000049324\n",
      "\n",
      "computing variance of betas\n",
      "\n"
     ]
    }
   ],
   "source": [
    "so <- sleuth_fit(so, ~condition, 'full')"
   ]
  },
  {
   "cell_type": "code",
   "execution_count": 20,
   "id": "75032df5-c878-4922-bb6c-282a98f81f4c",
   "metadata": {},
   "outputs": [
    {
     "name": "stderr",
     "output_type": "stream",
     "text": [
      "fitting measurement error models\n",
      "\n",
      "shrinkage estimation\n",
      "\n",
      "computing variance of betas\n",
      "\n"
     ]
    }
   ],
   "source": [
    "so <- sleuth_fit(so, ~1, 'reduced')"
   ]
  },
  {
   "cell_type": "code",
   "execution_count": 21,
   "id": "946a7202-73a9-45c4-b01f-3ea1eede42c7",
   "metadata": {},
   "outputs": [
    {
     "name": "stdout",
     "output_type": "stream",
     "text": [
      "[  full  ]\n",
      "formula:  ~condition \n",
      "data modeled:  obs_counts \n",
      "transform sync'ed:  TRUE \n",
      "coefficients:\n",
      "\t(Intercept)\n",
      " \tcondition RNA-seq_CTCF-AID_auxin1day\n",
      " \tcondition RNA-seq_CTCF-AID_auxin2days\n",
      " \tcondition RNA-seq_CTCF-AID_auxin4days\n",
      " \tcondition RNA-seq_CTCF-AID_washoff2days\n",
      " \tcondition RNA-seq_WT-untagged_auxin2days\n",
      " \tcondition RNA-seq_WT-untagged_auxin4days\n",
      " \tcondition RNA-seq_WT-untagged_untreated\n",
      "[  reduced  ]\n",
      "formula:  ~1 \n",
      "data modeled:  obs_counts \n",
      "transform sync'ed:  TRUE \n",
      "coefficients:\n",
      "\t(Intercept)\n"
     ]
    }
   ],
   "source": [
    "models(so)"
   ]
  }
 ],
 "metadata": {
  "kernelspec": {
   "display_name": "R 4.1.0 sleuth",
   "language": "R",
   "name": "r410"
  },
  "language_info": {
   "codemirror_mode": "r",
   "file_extension": ".r",
   "mimetype": "text/x-r-source",
   "name": "R",
   "pygments_lexer": "r",
   "version": "3.6.1"
  }
 },
 "nbformat": 4,
 "nbformat_minor": 5
}
