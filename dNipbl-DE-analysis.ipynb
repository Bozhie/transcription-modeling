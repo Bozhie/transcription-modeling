{
 "cells": [
  {
   "cell_type": "code",
   "execution_count": 1,
   "id": "2dad40ed-7f62-4087-83fa-c2467ebab9b0",
   "metadata": {},
   "outputs": [],
   "source": [
    "import bioframe\n",
    "import pandas as pd\n",
    "import requests\n",
    "import numpy as np\n",
    "import matplotlib.pyplot as plt"
   ]
  },
  {
   "cell_type": "markdown",
   "id": "fde31d30-981c-40a0-9b98-95c4852d88dc",
   "metadata": {},
   "source": [
    "# Comparing abundances from STAR vs Kallisto"
   ]
  },
  {
   "cell_type": "code",
   "execution_count": 2,
   "id": "27d015c2-22ac-4d32-a996-3d37bfc29578",
   "metadata": {},
   "outputs": [],
   "source": [
    "proj = '/project/fudenber_735/collaborations/karissa_2022/'\n",
    "ensembl_relations = \"/project/fudenber_735/genomes/mm10/ensembl/ensembl_relational_downloads\"\n",
    "elphege_proj_files = \"/project/fudenber_735/GEO/nora_2017_rna-seq_SRP106652\""
   ]
  },
  {
   "cell_type": "code",
   "execution_count": 3,
   "id": "bfebdd9d-6a9c-4033-9bc5-b86f6b89dfc9",
   "metadata": {},
   "outputs": [],
   "source": [
    "meta = \"RNAseq/fastq/KHRNA_Libraries_Nora-Fudenberg.csv\"\n",
    "Star_feature_counts = 'RNAseq/STAR_Gencode_alignment/20220304_featureCounts_EA18-1_dTAG13-24h.csv'\n",
    "kallisto = \"RNAseq-mapped/kallisto\""
   ]
  },
  {
   "cell_type": "code",
   "execution_count": 4,
   "id": "b31d0053-2531-4541-b752-49152c332439",
   "metadata": {},
   "outputs": [],
   "source": [
    "metadb = pd.read_csv(proj + meta, delimiter=',')"
   ]
  },
  {
   "cell_type": "code",
   "execution_count": 6,
   "id": "46e9b242-55db-4009-9fe4-5a1a9a10b1f4",
   "metadata": {},
   "outputs": [],
   "source": [
    "star_counts = pd.read_csv(proj + Star_feature_counts)\n",
    "kallisto_counts = pd.read_csv(proj + \"RNAseq-mapped/tximport/gene-counts.csv\") # actually kallisto counts aggreggated by genes using tximport\n",
    "\n",
    "star_counts = star_counts.rename(columns={'Unnamed: 0' : 'gene'})\n",
    "kallisto_counts = kallisto_counts.rename(columns={'Unnamed: 0' : 'gene'})"
   ]
  },
  {
   "cell_type": "code",
   "execution_count": 77,
   "id": "91139ff8-3242-402d-ad95-0123b8120a0c",
   "metadata": {},
   "outputs": [
    {
     "name": "stdout",
     "output_type": "stream",
     "text": [
      "(29723, 7)\n"
     ]
    },
    {
     "data": {
      "text/html": [
       "<div>\n",
       "<style scoped>\n",
       "    .dataframe tbody tr th:only-of-type {\n",
       "        vertical-align: middle;\n",
       "    }\n",
       "\n",
       "    .dataframe tbody tr th {\n",
       "        vertical-align: top;\n",
       "    }\n",
       "\n",
       "    .dataframe thead th {\n",
       "        text-align: right;\n",
       "    }\n",
       "</style>\n",
       "<table border=\"1\" class=\"dataframe\">\n",
       "  <thead>\n",
       "    <tr style=\"text-align: right;\">\n",
       "      <th></th>\n",
       "      <th>gene</th>\n",
       "      <th>KHRNA22</th>\n",
       "      <th>KHRNA23</th>\n",
       "      <th>KHRNA50</th>\n",
       "      <th>KHRNA25</th>\n",
       "      <th>KHRNA26</th>\n",
       "      <th>KHRNA51</th>\n",
       "    </tr>\n",
       "  </thead>\n",
       "  <tbody>\n",
       "    <tr>\n",
       "      <th>0</th>\n",
       "      <td>ENSMUSG00000000001</td>\n",
       "      <td>5369.000000</td>\n",
       "      <td>5555.000000</td>\n",
       "      <td>3383.000000</td>\n",
       "      <td>4479.000000</td>\n",
       "      <td>4127.000000</td>\n",
       "      <td>3324.0</td>\n",
       "    </tr>\n",
       "    <tr>\n",
       "      <th>1</th>\n",
       "      <td>ENSMUSG00000000003</td>\n",
       "      <td>0.000000</td>\n",
       "      <td>0.000000</td>\n",
       "      <td>0.000000</td>\n",
       "      <td>0.000000</td>\n",
       "      <td>0.000000</td>\n",
       "      <td>0.0</td>\n",
       "    </tr>\n",
       "    <tr>\n",
       "      <th>2</th>\n",
       "      <td>ENSMUSG00000000028</td>\n",
       "      <td>2011.881893</td>\n",
       "      <td>2225.000000</td>\n",
       "      <td>1346.000000</td>\n",
       "      <td>1730.000000</td>\n",
       "      <td>1735.000000</td>\n",
       "      <td>1297.0</td>\n",
       "    </tr>\n",
       "    <tr>\n",
       "      <th>3</th>\n",
       "      <td>ENSMUSG00000000031</td>\n",
       "      <td>48.000000</td>\n",
       "      <td>22.000000</td>\n",
       "      <td>12.000000</td>\n",
       "      <td>98.000000</td>\n",
       "      <td>53.000000</td>\n",
       "      <td>77.0</td>\n",
       "    </tr>\n",
       "    <tr>\n",
       "      <th>4</th>\n",
       "      <td>ENSMUSG00000000037</td>\n",
       "      <td>215.657698</td>\n",
       "      <td>179.033615</td>\n",
       "      <td>209.304279</td>\n",
       "      <td>149.696089</td>\n",
       "      <td>103.686632</td>\n",
       "      <td>210.0</td>\n",
       "    </tr>\n",
       "  </tbody>\n",
       "</table>\n",
       "</div>"
      ],
      "text/plain": [
       "                 gene      KHRNA22      KHRNA23      KHRNA50      KHRNA25  \\\n",
       "0  ENSMUSG00000000001  5369.000000  5555.000000  3383.000000  4479.000000   \n",
       "1  ENSMUSG00000000003     0.000000     0.000000     0.000000     0.000000   \n",
       "2  ENSMUSG00000000028  2011.881893  2225.000000  1346.000000  1730.000000   \n",
       "3  ENSMUSG00000000031    48.000000    22.000000    12.000000    98.000000   \n",
       "4  ENSMUSG00000000037   215.657698   179.033615   209.304279   149.696089   \n",
       "\n",
       "       KHRNA26  KHRNA51  \n",
       "0  4127.000000   3324.0  \n",
       "1     0.000000      0.0  \n",
       "2  1735.000000   1297.0  \n",
       "3    53.000000     77.0  \n",
       "4   103.686632    210.0  "
      ]
     },
     "execution_count": 77,
     "metadata": {},
     "output_type": "execute_result"
    }
   ],
   "source": [
    "print(kallisto_counts.shape)\n",
    "kallisto_counts.head(5)"
   ]
  },
  {
   "cell_type": "code",
   "execution_count": 8,
   "id": "b6255f25-ad14-4f7b-8821-206a2d2b841f",
   "metadata": {},
   "outputs": [
    {
     "name": "stdout",
     "output_type": "stream",
     "text": [
      "(55421, 7)\n"
     ]
    },
    {
     "data": {
      "text/html": [
       "<div>\n",
       "<style scoped>\n",
       "    .dataframe tbody tr th:only-of-type {\n",
       "        vertical-align: middle;\n",
       "    }\n",
       "\n",
       "    .dataframe tbody tr th {\n",
       "        vertical-align: top;\n",
       "    }\n",
       "\n",
       "    .dataframe thead th {\n",
       "        text-align: right;\n",
       "    }\n",
       "</style>\n",
       "<table border=\"1\" class=\"dataframe\">\n",
       "  <thead>\n",
       "    <tr style=\"text-align: right;\">\n",
       "      <th></th>\n",
       "      <th>gene</th>\n",
       "      <th>KHRNA22</th>\n",
       "      <th>KHRNA23</th>\n",
       "      <th>KHRNA25</th>\n",
       "      <th>KHRNA26</th>\n",
       "      <th>KHRNA50</th>\n",
       "      <th>KHRNA51</th>\n",
       "    </tr>\n",
       "  </thead>\n",
       "  <tbody>\n",
       "    <tr>\n",
       "      <th>0</th>\n",
       "      <td>ENSMUSG00000000001</td>\n",
       "      <td>5220</td>\n",
       "      <td>5438</td>\n",
       "      <td>4263</td>\n",
       "      <td>4021</td>\n",
       "      <td>3298</td>\n",
       "      <td>3160</td>\n",
       "    </tr>\n",
       "    <tr>\n",
       "      <th>1</th>\n",
       "      <td>ENSMUSG00000000003</td>\n",
       "      <td>0</td>\n",
       "      <td>0</td>\n",
       "      <td>0</td>\n",
       "      <td>0</td>\n",
       "      <td>0</td>\n",
       "      <td>0</td>\n",
       "    </tr>\n",
       "    <tr>\n",
       "      <th>2</th>\n",
       "      <td>ENSMUSG00000000028</td>\n",
       "      <td>1972</td>\n",
       "      <td>2195</td>\n",
       "      <td>1655</td>\n",
       "      <td>1709</td>\n",
       "      <td>1328</td>\n",
       "      <td>1246</td>\n",
       "    </tr>\n",
       "    <tr>\n",
       "      <th>3</th>\n",
       "      <td>ENSMUSG00000000031</td>\n",
       "      <td>41</td>\n",
       "      <td>18</td>\n",
       "      <td>72</td>\n",
       "      <td>44</td>\n",
       "      <td>10</td>\n",
       "      <td>70</td>\n",
       "    </tr>\n",
       "    <tr>\n",
       "      <th>4</th>\n",
       "      <td>ENSMUSG00000000037</td>\n",
       "      <td>174</td>\n",
       "      <td>140</td>\n",
       "      <td>132</td>\n",
       "      <td>107</td>\n",
       "      <td>170</td>\n",
       "      <td>166</td>\n",
       "    </tr>\n",
       "  </tbody>\n",
       "</table>\n",
       "</div>"
      ],
      "text/plain": [
       "                 gene  KHRNA22  KHRNA23  KHRNA25  KHRNA26  KHRNA50  KHRNA51\n",
       "0  ENSMUSG00000000001     5220     5438     4263     4021     3298     3160\n",
       "1  ENSMUSG00000000003        0        0        0        0        0        0\n",
       "2  ENSMUSG00000000028     1972     2195     1655     1709     1328     1246\n",
       "3  ENSMUSG00000000031       41       18       72       44       10       70\n",
       "4  ENSMUSG00000000037      174      140      132      107      170      166"
      ]
     },
     "execution_count": 8,
     "metadata": {},
     "output_type": "execute_result"
    }
   ],
   "source": [
    "# removing the version for gene names and other formatting\n",
    "star_counts['gene'] = star_counts['gene'].map(lambda x : x.strip().split('.')[0])\n",
    "\n",
    "print(star_counts.shape)\n",
    "star_counts.head(5)"
   ]
  },
  {
   "cell_type": "code",
   "execution_count": 9,
   "id": "51b2f79f-52cc-4de7-98cb-3c2d8921bdc4",
   "metadata": {},
   "outputs": [
    {
     "data": {
      "text/plain": [
       "(0.0, 10000.0)"
      ]
     },
     "execution_count": 9,
     "metadata": {},
     "output_type": "execute_result"
    },
    {
     "data": {
      "image/png": "[encoded data removed]",
      "text/plain": [
       "<Figure size 432x288 with 1 Axes>"
      ]
     },
     "metadata": {
      "needs_background": "light"
     },
     "output_type": "display_data"
    }
   ],
   "source": [
    "counts = star_counts.merge(kallisto_counts, \n",
    "                           how = 'inner', \n",
    "                           on='gene', \n",
    "                           suffixes=(\"_star\", \"_kallisto\"))\n",
    "\n",
    "plt.xlabel(\"STAR feature counts\")\n",
    "plt.ylabel(\"Kallisto + tximport aggregated counts\")\n",
    "plt.scatter(counts['KHRNA22_star'], counts['KHRNA22_kallisto'], s=70, alpha=0.03)\n",
    "plt.xlim(0, 10000)\n",
    "plt.ylim(0, 10000)"
   ]
  },
  {
   "cell_type": "markdown",
   "id": "7c1e75b5-132b-4ec6-beca-28030d668f7d",
   "metadata": {},
   "source": [
    "## notes:\n",
    "\n",
    " - see if there are any papers that benchmark these (+other aligners) to see if there are differences in the tools causing this\n",
    " - "
   ]
  },
  {
   "cell_type": "code",
   "execution_count": 50,
   "id": "bd827b3a-380d-47b5-b609-38b721e764a5",
   "metadata": {},
   "outputs": [
    {
     "data": {
      "text/plain": [
       "(28906, 13)"
      ]
     },
     "execution_count": 50,
     "metadata": {},
     "output_type": "execute_result"
    }
   ],
   "source": []
  },
  {
   "cell_type": "code",
   "execution_count": 41,
   "id": "598b8b5c-1386-48c3-95f4-ef14bda0144f",
   "metadata": {},
   "outputs": [
    {
     "data": {
      "text/html": [
       "<div>\n",
       "<style scoped>\n",
       "    .dataframe tbody tr th:only-of-type {\n",
       "        vertical-align: middle;\n",
       "    }\n",
       "\n",
       "    .dataframe tbody tr th {\n",
       "        vertical-align: top;\n",
       "    }\n",
       "\n",
       "    .dataframe thead th {\n",
       "        text-align: right;\n",
       "    }\n",
       "</style>\n",
       "<table border=\"1\" class=\"dataframe\">\n",
       "  <thead>\n",
       "    <tr style=\"text-align: right;\">\n",
       "      <th></th>\n",
       "      <th>gene</th>\n",
       "      <th>KHRNA22_star</th>\n",
       "      <th>KHRNA23_star</th>\n",
       "      <th>KHRNA25_star</th>\n",
       "      <th>KHRNA26_star</th>\n",
       "      <th>KHRNA50_star</th>\n",
       "      <th>KHRNA51_star</th>\n",
       "      <th>KHRNA22_kallisto</th>\n",
       "      <th>KHRNA23_kallisto</th>\n",
       "      <th>KHRNA50_kallisto</th>\n",
       "      <th>KHRNA25_kallisto</th>\n",
       "      <th>KHRNA26_kallisto</th>\n",
       "      <th>KHRNA51_kallisto</th>\n",
       "    </tr>\n",
       "  </thead>\n",
       "  <tbody>\n",
       "    <tr>\n",
       "      <th>0</th>\n",
       "      <td>ENSMUSG00000000001</td>\n",
       "      <td>5220</td>\n",
       "      <td>5438</td>\n",
       "      <td>4263</td>\n",
       "      <td>4021</td>\n",
       "      <td>3298</td>\n",
       "      <td>3160</td>\n",
       "      <td>5369.000000</td>\n",
       "      <td>5555.000000</td>\n",
       "      <td>3383.000000</td>\n",
       "      <td>4479.000000</td>\n",
       "      <td>4127.000000</td>\n",
       "      <td>3324.0</td>\n",
       "    </tr>\n",
       "    <tr>\n",
       "      <th>1</th>\n",
       "      <td>ENSMUSG00000000003</td>\n",
       "      <td>0</td>\n",
       "      <td>0</td>\n",
       "      <td>0</td>\n",
       "      <td>0</td>\n",
       "      <td>0</td>\n",
       "      <td>0</td>\n",
       "      <td>0.000000</td>\n",
       "      <td>0.000000</td>\n",
       "      <td>0.000000</td>\n",
       "      <td>0.000000</td>\n",
       "      <td>0.000000</td>\n",
       "      <td>0.0</td>\n",
       "    </tr>\n",
       "    <tr>\n",
       "      <th>2</th>\n",
       "      <td>ENSMUSG00000000028</td>\n",
       "      <td>1972</td>\n",
       "      <td>2195</td>\n",
       "      <td>1655</td>\n",
       "      <td>1709</td>\n",
       "      <td>1328</td>\n",
       "      <td>1246</td>\n",
       "      <td>2011.881893</td>\n",
       "      <td>2225.000000</td>\n",
       "      <td>1346.000000</td>\n",
       "      <td>1730.000000</td>\n",
       "      <td>1735.000000</td>\n",
       "      <td>1297.0</td>\n",
       "    </tr>\n",
       "    <tr>\n",
       "      <th>3</th>\n",
       "      <td>ENSMUSG00000000031</td>\n",
       "      <td>41</td>\n",
       "      <td>18</td>\n",
       "      <td>72</td>\n",
       "      <td>44</td>\n",
       "      <td>10</td>\n",
       "      <td>70</td>\n",
       "      <td>48.000000</td>\n",
       "      <td>22.000000</td>\n",
       "      <td>12.000000</td>\n",
       "      <td>98.000000</td>\n",
       "      <td>53.000000</td>\n",
       "      <td>77.0</td>\n",
       "    </tr>\n",
       "    <tr>\n",
       "      <th>4</th>\n",
       "      <td>ENSMUSG00000000037</td>\n",
       "      <td>174</td>\n",
       "      <td>140</td>\n",
       "      <td>132</td>\n",
       "      <td>107</td>\n",
       "      <td>170</td>\n",
       "      <td>166</td>\n",
       "      <td>215.657698</td>\n",
       "      <td>179.033615</td>\n",
       "      <td>209.304279</td>\n",
       "      <td>149.696089</td>\n",
       "      <td>103.686632</td>\n",
       "      <td>210.0</td>\n",
       "    </tr>\n",
       "  </tbody>\n",
       "</table>\n",
       "</div>"
      ],
      "text/plain": [
       "                 gene  KHRNA22_star  KHRNA23_star  KHRNA25_star  KHRNA26_star  \\\n",
       "0  ENSMUSG00000000001          5220          5438          4263          4021   \n",
       "1  ENSMUSG00000000003             0             0             0             0   \n",
       "2  ENSMUSG00000000028          1972          2195          1655          1709   \n",
       "3  ENSMUSG00000000031            41            18            72            44   \n",
       "4  ENSMUSG00000000037           174           140           132           107   \n",
       "\n",
       "   KHRNA50_star  KHRNA51_star  KHRNA22_kallisto  KHRNA23_kallisto  \\\n",
       "0          3298          3160       5369.000000       5555.000000   \n",
       "1             0             0          0.000000          0.000000   \n",
       "2          1328          1246       2011.881893       2225.000000   \n",
       "3            10            70         48.000000         22.000000   \n",
       "4           170           166        215.657698        179.033615   \n",
       "\n",
       "   KHRNA50_kallisto  KHRNA25_kallisto  KHRNA26_kallisto  KHRNA51_kallisto  \n",
       "0       3383.000000       4479.000000       4127.000000            3324.0  \n",
       "1          0.000000          0.000000          0.000000               0.0  \n",
       "2       1346.000000       1730.000000       1735.000000            1297.0  \n",
       "3         12.000000         98.000000         53.000000              77.0  \n",
       "4        209.304279        149.696089        103.686632             210.0  "
      ]
     },
     "execution_count": 41,
     "metadata": {},
     "output_type": "execute_result"
    }
   ],
   "source": [
    "counts.head(5)"
   ]
  },
  {
   "cell_type": "code",
   "execution_count": null,
   "id": "d80e6b3b-d4e1-4a52-b904-c7ecedc8d026",
   "metadata": {},
   "outputs": [],
   "source": [
    "## possible difference:\n",
    "# try to redo tximport for kallisto results using gencode.vM23 for gene aggregation: https://www.bioconductor.org/help/course-materials/2019/CSAMA/materials/labs/lab-03-rnaseq/rnaseqGene_CSAMA2019.html"
   ]
  },
  {
   "cell_type": "code",
   "execution_count": null,
   "id": "4cba19b9-e750-4822-bad6-248cdf15a563",
   "metadata": {},
   "outputs": [],
   "source": [
    "# What is different between these?\n",
    "# To what extent do the DE genes after 24 hours between dNipbl and dCTCF overlap? maybe dWapl? "
   ]
  },
  {
   "cell_type": "markdown",
   "id": "f3456427-6b27-43fb-855f-512842ccc149",
   "metadata": {},
   "source": [
    "# Comparing DEGs between different depletions\n",
    "\n",
    " - To what extent do the DE genes after 24 hours between dNipbl and dCTCF overlap? maybe dWapl? \n",
    "    - scatterplots (for abundances of WTs, dNipbl-24h, dCTCF-24h) , PCA?"
   ]
  },
  {
   "cell_type": "code",
   "execution_count": 5,
   "id": "bdb4a20a-8e7b-48d7-a809-efa63c660865",
   "metadata": {},
   "outputs": [],
   "source": [
    "# DESeq2 results for 24hour depletion treatment for CTCF and NipBl \n",
    "dCTCF = pd.read_csv('/project/fudenber_735/GEO/nora_2017_rna-seq_SRP106652/deseq-mm10-results/pairwise_deseq_wt_CTCF_AID_auxin1day.csv')\n",
    "dNipBl = pd.read_csv(proj + 'RNAseq-mapped/DE-results/pairwise_deseq_wt_dTAG_13_24h_vs_DMSO_24h.csv')\n",
    "\n",
    "dCTCF = dCTCF.rename(columns={'Unnamed: 0' : 'gene'})\n",
    "dNipBl = dNipBl.rename(columns={'Unnamed: 0' : 'gene'})"
   ]
  },
  {
   "cell_type": "code",
   "execution_count": 6,
   "id": "419c8ea5-0309-4da3-ad0d-016eb42fe0b6",
   "metadata": {},
   "outputs": [
    {
     "name": "stdout",
     "output_type": "stream",
     "text": [
      "(29723, 7)\n",
      "(29723, 7)\n"
     ]
    },
    {
     "data": {
      "text/html": [
       "<div>\n",
       "<style scoped>\n",
       "    .dataframe tbody tr th:only-of-type {\n",
       "        vertical-align: middle;\n",
       "    }\n",
       "\n",
       "    .dataframe tbody tr th {\n",
       "        vertical-align: top;\n",
       "    }\n",
       "\n",
       "    .dataframe thead th {\n",
       "        text-align: right;\n",
       "    }\n",
       "</style>\n",
       "<table border=\"1\" class=\"dataframe\">\n",
       "  <thead>\n",
       "    <tr style=\"text-align: right;\">\n",
       "      <th></th>\n",
       "      <th>gene</th>\n",
       "      <th>baseMean</th>\n",
       "      <th>log2FoldChange</th>\n",
       "      <th>lfcSE</th>\n",
       "      <th>stat</th>\n",
       "      <th>pvalue</th>\n",
       "      <th>padj</th>\n",
       "    </tr>\n",
       "  </thead>\n",
       "  <tbody>\n",
       "    <tr>\n",
       "      <th>0</th>\n",
       "      <td>ENSMUSG00000000001</td>\n",
       "      <td>4946.921561</td>\n",
       "      <td>-0.030823</td>\n",
       "      <td>0.252413</td>\n",
       "      <td>-0.122113</td>\n",
       "      <td>0.902809</td>\n",
       "      <td>0.999976</td>\n",
       "    </tr>\n",
       "    <tr>\n",
       "      <th>1</th>\n",
       "      <td>ENSMUSG00000000003</td>\n",
       "      <td>0.000000</td>\n",
       "      <td>NaN</td>\n",
       "      <td>NaN</td>\n",
       "      <td>NaN</td>\n",
       "      <td>NaN</td>\n",
       "      <td>NaN</td>\n",
       "    </tr>\n",
       "    <tr>\n",
       "      <th>2</th>\n",
       "      <td>ENSMUSG00000000028</td>\n",
       "      <td>2277.235216</td>\n",
       "      <td>-0.091748</td>\n",
       "      <td>0.176626</td>\n",
       "      <td>-0.519447</td>\n",
       "      <td>0.603449</td>\n",
       "      <td>0.999976</td>\n",
       "    </tr>\n",
       "    <tr>\n",
       "      <th>3</th>\n",
       "      <td>ENSMUSG00000000031</td>\n",
       "      <td>27.699104</td>\n",
       "      <td>-0.329884</td>\n",
       "      <td>0.641314</td>\n",
       "      <td>-0.514388</td>\n",
       "      <td>0.606981</td>\n",
       "      <td>0.999976</td>\n",
       "    </tr>\n",
       "    <tr>\n",
       "      <th>4</th>\n",
       "      <td>ENSMUSG00000000037</td>\n",
       "      <td>330.518198</td>\n",
       "      <td>2.020011</td>\n",
       "      <td>0.509448</td>\n",
       "      <td>3.965098</td>\n",
       "      <td>0.000073</td>\n",
       "      <td>0.007284</td>\n",
       "    </tr>\n",
       "    <tr>\n",
       "      <th>5</th>\n",
       "      <td>ENSMUSG00000000049</td>\n",
       "      <td>0.000000</td>\n",
       "      <td>NaN</td>\n",
       "      <td>NaN</td>\n",
       "      <td>NaN</td>\n",
       "      <td>NaN</td>\n",
       "      <td>NaN</td>\n",
       "    </tr>\n",
       "    <tr>\n",
       "      <th>6</th>\n",
       "      <td>ENSMUSG00000000056</td>\n",
       "      <td>670.116954</td>\n",
       "      <td>-0.126357</td>\n",
       "      <td>0.185398</td>\n",
       "      <td>-0.681547</td>\n",
       "      <td>0.495525</td>\n",
       "      <td>0.999976</td>\n",
       "    </tr>\n",
       "    <tr>\n",
       "      <th>7</th>\n",
       "      <td>ENSMUSG00000000058</td>\n",
       "      <td>15.935184</td>\n",
       "      <td>0.737133</td>\n",
       "      <td>0.740699</td>\n",
       "      <td>0.995185</td>\n",
       "      <td>0.319646</td>\n",
       "      <td>0.999976</td>\n",
       "    </tr>\n",
       "    <tr>\n",
       "      <th>8</th>\n",
       "      <td>ENSMUSG00000000078</td>\n",
       "      <td>1669.312483</td>\n",
       "      <td>0.262253</td>\n",
       "      <td>0.307144</td>\n",
       "      <td>0.853846</td>\n",
       "      <td>0.393190</td>\n",
       "      <td>0.999976</td>\n",
       "    </tr>\n",
       "    <tr>\n",
       "      <th>9</th>\n",
       "      <td>ENSMUSG00000000085</td>\n",
       "      <td>794.738531</td>\n",
       "      <td>-0.076647</td>\n",
       "      <td>0.278078</td>\n",
       "      <td>-0.275632</td>\n",
       "      <td>0.782831</td>\n",
       "      <td>0.999976</td>\n",
       "    </tr>\n",
       "  </tbody>\n",
       "</table>\n",
       "</div>"
      ],
      "text/plain": [
       "                 gene     baseMean  log2FoldChange     lfcSE      stat  \\\n",
       "0  ENSMUSG00000000001  4946.921561       -0.030823  0.252413 -0.122113   \n",
       "1  ENSMUSG00000000003     0.000000             NaN       NaN       NaN   \n",
       "2  ENSMUSG00000000028  2277.235216       -0.091748  0.176626 -0.519447   \n",
       "3  ENSMUSG00000000031    27.699104       -0.329884  0.641314 -0.514388   \n",
       "4  ENSMUSG00000000037   330.518198        2.020011  0.509448  3.965098   \n",
       "5  ENSMUSG00000000049     0.000000             NaN       NaN       NaN   \n",
       "6  ENSMUSG00000000056   670.116954       -0.126357  0.185398 -0.681547   \n",
       "7  ENSMUSG00000000058    15.935184        0.737133  0.740699  0.995185   \n",
       "8  ENSMUSG00000000078  1669.312483        0.262253  0.307144  0.853846   \n",
       "9  ENSMUSG00000000085   794.738531       -0.076647  0.278078 -0.275632   \n",
       "\n",
       "     pvalue      padj  \n",
       "0  0.902809  0.999976  \n",
       "1       NaN       NaN  \n",
       "2  0.603449  0.999976  \n",
       "3  0.606981  0.999976  \n",
       "4  0.000073  0.007284  \n",
       "5       NaN       NaN  \n",
       "6  0.495525  0.999976  \n",
       "7  0.319646  0.999976  \n",
       "8  0.393190  0.999976  \n",
       "9  0.782831  0.999976  "
      ]
     },
     "execution_count": 6,
     "metadata": {},
     "output_type": "execute_result"
    }
   ],
   "source": [
    "print(dCTCF.shape)\n",
    "print(dNipBl.shape)\n",
    "dCTCF.head(10)"
   ]
  },
  {
   "cell_type": "code",
   "execution_count": 7,
   "id": "29fd96c3-64c4-483b-94b8-edc00b5130da",
   "metadata": {},
   "outputs": [],
   "source": [
    "both = dCTCF.merge(dNipBl, on='gene', how='inner', suffixes=('_CTCF', '_NipBl'))"
   ]
  },
  {
   "cell_type": "code",
   "execution_count": 8,
   "id": "9bf1eb11-8e20-4b5e-8ef3-b86a7c8fe3b6",
   "metadata": {},
   "outputs": [
    {
     "data": {
      "text/html": [
       "<div>\n",
       "<style scoped>\n",
       "    .dataframe tbody tr th:only-of-type {\n",
       "        vertical-align: middle;\n",
       "    }\n",
       "\n",
       "    .dataframe tbody tr th {\n",
       "        vertical-align: top;\n",
       "    }\n",
       "\n",
       "    .dataframe thead th {\n",
       "        text-align: right;\n",
       "    }\n",
       "</style>\n",
       "<table border=\"1\" class=\"dataframe\">\n",
       "  <thead>\n",
       "    <tr style=\"text-align: right;\">\n",
       "      <th></th>\n",
       "      <th>gene</th>\n",
       "      <th>baseMean_CTCF</th>\n",
       "      <th>log2FoldChange_CTCF</th>\n",
       "      <th>lfcSE_CTCF</th>\n",
       "      <th>stat_CTCF</th>\n",
       "      <th>pvalue_CTCF</th>\n",
       "      <th>padj_CTCF</th>\n",
       "      <th>baseMean_NipBl</th>\n",
       "      <th>log2FoldChange_NipBl</th>\n",
       "      <th>lfcSE_NipBl</th>\n",
       "      <th>stat_NipBl</th>\n",
       "      <th>pvalue_NipBl</th>\n",
       "      <th>padj_NipBl</th>\n",
       "    </tr>\n",
       "  </thead>\n",
       "  <tbody>\n",
       "    <tr>\n",
       "      <th>0</th>\n",
       "      <td>ENSMUSG00000000001</td>\n",
       "      <td>4946.921561</td>\n",
       "      <td>-0.030823</td>\n",
       "      <td>0.252413</td>\n",
       "      <td>-0.122113</td>\n",
       "      <td>0.902809</td>\n",
       "      <td>0.999976</td>\n",
       "      <td>4292.214151</td>\n",
       "      <td>-0.101523</td>\n",
       "      <td>0.100625</td>\n",
       "      <td>-1.008924</td>\n",
       "      <td>0.313011</td>\n",
       "      <td>0.724979</td>\n",
       "    </tr>\n",
       "    <tr>\n",
       "      <th>1</th>\n",
       "      <td>ENSMUSG00000000003</td>\n",
       "      <td>0.000000</td>\n",
       "      <td>NaN</td>\n",
       "      <td>NaN</td>\n",
       "      <td>NaN</td>\n",
       "      <td>NaN</td>\n",
       "      <td>NaN</td>\n",
       "      <td>0.000000</td>\n",
       "      <td>NaN</td>\n",
       "      <td>NaN</td>\n",
       "      <td>NaN</td>\n",
       "      <td>NaN</td>\n",
       "      <td>NaN</td>\n",
       "    </tr>\n",
       "    <tr>\n",
       "      <th>2</th>\n",
       "      <td>ENSMUSG00000000028</td>\n",
       "      <td>2277.235216</td>\n",
       "      <td>-0.091748</td>\n",
       "      <td>0.176626</td>\n",
       "      <td>-0.519447</td>\n",
       "      <td>0.603449</td>\n",
       "      <td>0.999976</td>\n",
       "      <td>1694.940934</td>\n",
       "      <td>-0.071342</td>\n",
       "      <td>0.117240</td>\n",
       "      <td>-0.608512</td>\n",
       "      <td>0.542848</td>\n",
       "      <td>0.868196</td>\n",
       "    </tr>\n",
       "    <tr>\n",
       "      <th>3</th>\n",
       "      <td>ENSMUSG00000000031</td>\n",
       "      <td>27.699104</td>\n",
       "      <td>-0.329884</td>\n",
       "      <td>0.641314</td>\n",
       "      <td>-0.514388</td>\n",
       "      <td>0.606981</td>\n",
       "      <td>0.999976</td>\n",
       "      <td>50.489910</td>\n",
       "      <td>1.723420</td>\n",
       "      <td>0.416543</td>\n",
       "      <td>4.137436</td>\n",
       "      <td>0.000035</td>\n",
       "      <td>0.001251</td>\n",
       "    </tr>\n",
       "    <tr>\n",
       "      <th>4</th>\n",
       "      <td>ENSMUSG00000000037</td>\n",
       "      <td>330.518198</td>\n",
       "      <td>2.020011</td>\n",
       "      <td>0.509448</td>\n",
       "      <td>3.965098</td>\n",
       "      <td>0.000073</td>\n",
       "      <td>0.007284</td>\n",
       "      <td>196.342074</td>\n",
       "      <td>-0.561242</td>\n",
       "      <td>0.448194</td>\n",
       "      <td>-1.252232</td>\n",
       "      <td>0.210485</td>\n",
       "      <td>0.612838</td>\n",
       "    </tr>\n",
       "    <tr>\n",
       "      <th>5</th>\n",
       "      <td>ENSMUSG00000000049</td>\n",
       "      <td>0.000000</td>\n",
       "      <td>NaN</td>\n",
       "      <td>NaN</td>\n",
       "      <td>NaN</td>\n",
       "      <td>NaN</td>\n",
       "      <td>NaN</td>\n",
       "      <td>0.163406</td>\n",
       "      <td>1.103908</td>\n",
       "      <td>4.080473</td>\n",
       "      <td>0.270534</td>\n",
       "      <td>0.786749</td>\n",
       "      <td>NaN</td>\n",
       "    </tr>\n",
       "    <tr>\n",
       "      <th>6</th>\n",
       "      <td>ENSMUSG00000000056</td>\n",
       "      <td>670.116954</td>\n",
       "      <td>-0.126357</td>\n",
       "      <td>0.185398</td>\n",
       "      <td>-0.681547</td>\n",
       "      <td>0.495525</td>\n",
       "      <td>0.999976</td>\n",
       "      <td>871.917098</td>\n",
       "      <td>0.379189</td>\n",
       "      <td>0.116249</td>\n",
       "      <td>3.261877</td>\n",
       "      <td>0.001107</td>\n",
       "      <td>0.020174</td>\n",
       "    </tr>\n",
       "    <tr>\n",
       "      <th>7</th>\n",
       "      <td>ENSMUSG00000000058</td>\n",
       "      <td>15.935184</td>\n",
       "      <td>0.737133</td>\n",
       "      <td>0.740699</td>\n",
       "      <td>0.995185</td>\n",
       "      <td>0.319646</td>\n",
       "      <td>0.999976</td>\n",
       "      <td>0.156952</td>\n",
       "      <td>1.103908</td>\n",
       "      <td>4.080473</td>\n",
       "      <td>0.270534</td>\n",
       "      <td>0.786749</td>\n",
       "      <td>NaN</td>\n",
       "    </tr>\n",
       "    <tr>\n",
       "      <th>8</th>\n",
       "      <td>ENSMUSG00000000078</td>\n",
       "      <td>1669.312483</td>\n",
       "      <td>0.262253</td>\n",
       "      <td>0.307144</td>\n",
       "      <td>0.853846</td>\n",
       "      <td>0.393190</td>\n",
       "      <td>0.999976</td>\n",
       "      <td>969.549826</td>\n",
       "      <td>-0.038554</td>\n",
       "      <td>0.137075</td>\n",
       "      <td>-0.281264</td>\n",
       "      <td>0.778508</td>\n",
       "      <td>0.954018</td>\n",
       "    </tr>\n",
       "    <tr>\n",
       "      <th>9</th>\n",
       "      <td>ENSMUSG00000000085</td>\n",
       "      <td>794.738531</td>\n",
       "      <td>-0.076647</td>\n",
       "      <td>0.278078</td>\n",
       "      <td>-0.275632</td>\n",
       "      <td>0.782831</td>\n",
       "      <td>0.999976</td>\n",
       "      <td>456.948047</td>\n",
       "      <td>0.125960</td>\n",
       "      <td>0.175320</td>\n",
       "      <td>0.718458</td>\n",
       "      <td>0.472475</td>\n",
       "      <td>0.833149</td>\n",
       "    </tr>\n",
       "  </tbody>\n",
       "</table>\n",
       "</div>"
      ],
      "text/plain": [
       "                 gene  baseMean_CTCF  log2FoldChange_CTCF  lfcSE_CTCF  \\\n",
       "0  ENSMUSG00000000001    4946.921561            -0.030823    0.252413   \n",
       "1  ENSMUSG00000000003       0.000000                  NaN         NaN   \n",
       "2  ENSMUSG00000000028    2277.235216            -0.091748    0.176626   \n",
       "3  ENSMUSG00000000031      27.699104            -0.329884    0.641314   \n",
       "4  ENSMUSG00000000037     330.518198             2.020011    0.509448   \n",
       "5  ENSMUSG00000000049       0.000000                  NaN         NaN   \n",
       "6  ENSMUSG00000000056     670.116954            -0.126357    0.185398   \n",
       "7  ENSMUSG00000000058      15.935184             0.737133    0.740699   \n",
       "8  ENSMUSG00000000078    1669.312483             0.262253    0.307144   \n",
       "9  ENSMUSG00000000085     794.738531            -0.076647    0.278078   \n",
       "\n",
       "   stat_CTCF  pvalue_CTCF  padj_CTCF  baseMean_NipBl  log2FoldChange_NipBl  \\\n",
       "0  -0.122113     0.902809   0.999976     4292.214151             -0.101523   \n",
       "1        NaN          NaN        NaN        0.000000                   NaN   \n",
       "2  -0.519447     0.603449   0.999976     1694.940934             -0.071342   \n",
       "3  -0.514388     0.606981   0.999976       50.489910              1.723420   \n",
       "4   3.965098     0.000073   0.007284      196.342074             -0.561242   \n",
       "5        NaN          NaN        NaN        0.163406              1.103908   \n",
       "6  -0.681547     0.495525   0.999976      871.917098              0.379189   \n",
       "7   0.995185     0.319646   0.999976        0.156952              1.103908   \n",
       "8   0.853846     0.393190   0.999976      969.549826             -0.038554   \n",
       "9  -0.275632     0.782831   0.999976      456.948047              0.125960   \n",
       "\n",
       "   lfcSE_NipBl  stat_NipBl  pvalue_NipBl  padj_NipBl  \n",
       "0     0.100625   -1.008924      0.313011    0.724979  \n",
       "1          NaN         NaN           NaN         NaN  \n",
       "2     0.117240   -0.608512      0.542848    0.868196  \n",
       "3     0.416543    4.137436      0.000035    0.001251  \n",
       "4     0.448194   -1.252232      0.210485    0.612838  \n",
       "5     4.080473    0.270534      0.786749         NaN  \n",
       "6     0.116249    3.261877      0.001107    0.020174  \n",
       "7     4.080473    0.270534      0.786749         NaN  \n",
       "8     0.137075   -0.281264      0.778508    0.954018  \n",
       "9     0.175320    0.718458      0.472475    0.833149  "
      ]
     },
     "execution_count": 8,
     "metadata": {},
     "output_type": "execute_result"
    }
   ],
   "source": [
    "both.head(10)"
   ]
  },
  {
   "cell_type": "code",
   "execution_count": 9,
   "id": "20cf55ad-9a6d-4ae3-af12-82071f0ff704",
   "metadata": {},
   "outputs": [
    {
     "data": {
      "text/plain": [
       "(263, 13)"
      ]
     },
     "execution_count": 9,
     "metadata": {},
     "output_type": "execute_result"
    }
   ],
   "source": [
    "sig_CTCF = both.loc[np.where(both['padj_CTCF'] < 0.05)]\n",
    "sig_CTCF.shape"
   ]
  },
  {
   "cell_type": "code",
   "execution_count": 10,
   "id": "887203dd-4f6e-474e-ab54-b33a6ab41170",
   "metadata": {},
   "outputs": [
    {
     "data": {
      "text/html": [
       "<div>\n",
       "<style scoped>\n",
       "    .dataframe tbody tr th:only-of-type {\n",
       "        vertical-align: middle;\n",
       "    }\n",
       "\n",
       "    .dataframe tbody tr th {\n",
       "        vertical-align: top;\n",
       "    }\n",
       "\n",
       "    .dataframe thead th {\n",
       "        text-align: right;\n",
       "    }\n",
       "</style>\n",
       "<table border=\"1\" class=\"dataframe\">\n",
       "  <thead>\n",
       "    <tr style=\"text-align: right;\">\n",
       "      <th></th>\n",
       "      <th>gene</th>\n",
       "      <th>baseMean_CTCF</th>\n",
       "      <th>log2FoldChange_CTCF</th>\n",
       "      <th>lfcSE_CTCF</th>\n",
       "      <th>stat_CTCF</th>\n",
       "      <th>pvalue_CTCF</th>\n",
       "      <th>padj_CTCF</th>\n",
       "      <th>baseMean_NipBl</th>\n",
       "      <th>log2FoldChange_NipBl</th>\n",
       "      <th>lfcSE_NipBl</th>\n",
       "      <th>stat_NipBl</th>\n",
       "      <th>pvalue_NipBl</th>\n",
       "      <th>padj_NipBl</th>\n",
       "    </tr>\n",
       "  </thead>\n",
       "  <tbody>\n",
       "    <tr>\n",
       "      <th>4</th>\n",
       "      <td>ENSMUSG00000000037</td>\n",
       "      <td>330.518198</td>\n",
       "      <td>2.020011</td>\n",
       "      <td>0.509448</td>\n",
       "      <td>3.965098</td>\n",
       "      <td>0.000073</td>\n",
       "      <td>0.007284</td>\n",
       "      <td>196.342074</td>\n",
       "      <td>-0.561242</td>\n",
       "      <td>0.448194</td>\n",
       "      <td>-1.252232</td>\n",
       "      <td>0.210485</td>\n",
       "      <td>0.612838</td>\n",
       "    </tr>\n",
       "    <tr>\n",
       "      <th>31</th>\n",
       "      <td>ENSMUSG00000000184</td>\n",
       "      <td>299.191108</td>\n",
       "      <td>-0.817306</td>\n",
       "      <td>0.222499</td>\n",
       "      <td>-3.673303</td>\n",
       "      <td>0.000239</td>\n",
       "      <td>0.019212</td>\n",
       "      <td>37.958103</td>\n",
       "      <td>1.926668</td>\n",
       "      <td>0.477647</td>\n",
       "      <td>4.033663</td>\n",
       "      <td>0.000055</td>\n",
       "      <td>0.001802</td>\n",
       "    </tr>\n",
       "    <tr>\n",
       "      <th>87</th>\n",
       "      <td>ENSMUSG00000000489</td>\n",
       "      <td>454.070221</td>\n",
       "      <td>1.146653</td>\n",
       "      <td>0.299644</td>\n",
       "      <td>3.826721</td>\n",
       "      <td>0.000130</td>\n",
       "      <td>0.011763</td>\n",
       "      <td>128.984440</td>\n",
       "      <td>1.184506</td>\n",
       "      <td>0.281402</td>\n",
       "      <td>4.209295</td>\n",
       "      <td>0.000026</td>\n",
       "      <td>0.000967</td>\n",
       "    </tr>\n",
       "    <tr>\n",
       "      <th>269</th>\n",
       "      <td>ENSMUSG00000001510</td>\n",
       "      <td>91.304966</td>\n",
       "      <td>1.685750</td>\n",
       "      <td>0.346972</td>\n",
       "      <td>4.858465</td>\n",
       "      <td>0.000001</td>\n",
       "      <td>0.000212</td>\n",
       "      <td>27.923476</td>\n",
       "      <td>0.862873</td>\n",
       "      <td>0.471301</td>\n",
       "      <td>1.830832</td>\n",
       "      <td>0.067126</td>\n",
       "      <td>0.338418</td>\n",
       "    </tr>\n",
       "  </tbody>\n",
       "</table>\n",
       "</div>"
      ],
      "text/plain": [
       "                   gene  baseMean_CTCF  log2FoldChange_CTCF  lfcSE_CTCF  \\\n",
       "4    ENSMUSG00000000037     330.518198             2.020011    0.509448   \n",
       "31   ENSMUSG00000000184     299.191108            -0.817306    0.222499   \n",
       "87   ENSMUSG00000000489     454.070221             1.146653    0.299644   \n",
       "269  ENSMUSG00000001510      91.304966             1.685750    0.346972   \n",
       "\n",
       "     stat_CTCF  pvalue_CTCF  padj_CTCF  baseMean_NipBl  log2FoldChange_NipBl  \\\n",
       "4     3.965098     0.000073   0.007284      196.342074             -0.561242   \n",
       "31   -3.673303     0.000239   0.019212       37.958103              1.926668   \n",
       "87    3.826721     0.000130   0.011763      128.984440              1.184506   \n",
       "269   4.858465     0.000001   0.000212       27.923476              0.862873   \n",
       "\n",
       "     lfcSE_NipBl  stat_NipBl  pvalue_NipBl  padj_NipBl  \n",
       "4       0.448194   -1.252232      0.210485    0.612838  \n",
       "31      0.477647    4.033663      0.000055    0.001802  \n",
       "87      0.281402    4.209295      0.000026    0.000967  \n",
       "269     0.471301    1.830832      0.067126    0.338418  "
      ]
     },
     "execution_count": 10,
     "metadata": {},
     "output_type": "execute_result"
    }
   ],
   "source": [
    "sig_CTCF.head(4)"
   ]
  },
  {
   "cell_type": "code",
   "execution_count": 11,
   "id": "211c8144-1b10-46d2-90c2-b15ac2ae0f6e",
   "metadata": {},
   "outputs": [
    {
     "data": {
      "text/plain": [
       "(1061, 13)"
      ]
     },
     "execution_count": 11,
     "metadata": {},
     "output_type": "execute_result"
    }
   ],
   "source": [
    "sig_Nipbl = both.loc[np.where(both['padj_NipBl'] < 0.05)]\n",
    "sig_Nipbl.shape"
   ]
  },
  {
   "cell_type": "code",
   "execution_count": 12,
   "id": "c3432c1c-fb65-427e-a6ee-87b26b7d1ba2",
   "metadata": {},
   "outputs": [
    {
     "data": {
      "text/html": [
       "<div>\n",
       "<style scoped>\n",
       "    .dataframe tbody tr th:only-of-type {\n",
       "        vertical-align: middle;\n",
       "    }\n",
       "\n",
       "    .dataframe tbody tr th {\n",
       "        vertical-align: top;\n",
       "    }\n",
       "\n",
       "    .dataframe thead th {\n",
       "        text-align: right;\n",
       "    }\n",
       "</style>\n",
       "<table border=\"1\" class=\"dataframe\">\n",
       "  <thead>\n",
       "    <tr style=\"text-align: right;\">\n",
       "      <th></th>\n",
       "      <th>gene</th>\n",
       "      <th>baseMean_CTCF</th>\n",
       "      <th>log2FoldChange_CTCF</th>\n",
       "      <th>lfcSE_CTCF</th>\n",
       "      <th>stat_CTCF</th>\n",
       "      <th>pvalue_CTCF</th>\n",
       "      <th>padj_CTCF</th>\n",
       "      <th>baseMean_NipBl</th>\n",
       "      <th>log2FoldChange_NipBl</th>\n",
       "      <th>lfcSE_NipBl</th>\n",
       "      <th>stat_NipBl</th>\n",
       "      <th>pvalue_NipBl</th>\n",
       "      <th>padj_NipBl</th>\n",
       "    </tr>\n",
       "  </thead>\n",
       "  <tbody>\n",
       "    <tr>\n",
       "      <th>3</th>\n",
       "      <td>ENSMUSG00000000031</td>\n",
       "      <td>27.699104</td>\n",
       "      <td>-0.329884</td>\n",
       "      <td>0.641314</td>\n",
       "      <td>-0.514388</td>\n",
       "      <td>0.606981</td>\n",
       "      <td>0.999976</td>\n",
       "      <td>50.489910</td>\n",
       "      <td>1.723420</td>\n",
       "      <td>0.416543</td>\n",
       "      <td>4.137436</td>\n",
       "      <td>0.000035</td>\n",
       "      <td>0.001251</td>\n",
       "    </tr>\n",
       "    <tr>\n",
       "      <th>6</th>\n",
       "      <td>ENSMUSG00000000056</td>\n",
       "      <td>670.116954</td>\n",
       "      <td>-0.126357</td>\n",
       "      <td>0.185398</td>\n",
       "      <td>-0.681547</td>\n",
       "      <td>0.495525</td>\n",
       "      <td>0.999976</td>\n",
       "      <td>871.917098</td>\n",
       "      <td>0.379189</td>\n",
       "      <td>0.116249</td>\n",
       "      <td>3.261877</td>\n",
       "      <td>0.001107</td>\n",
       "      <td>0.020174</td>\n",
       "    </tr>\n",
       "    <tr>\n",
       "      <th>14</th>\n",
       "      <td>ENSMUSG00000000120</td>\n",
       "      <td>581.938368</td>\n",
       "      <td>0.274466</td>\n",
       "      <td>0.348485</td>\n",
       "      <td>0.787598</td>\n",
       "      <td>0.430932</td>\n",
       "      <td>0.999976</td>\n",
       "      <td>2152.339630</td>\n",
       "      <td>0.689070</td>\n",
       "      <td>0.187539</td>\n",
       "      <td>3.674269</td>\n",
       "      <td>0.000239</td>\n",
       "      <td>0.005919</td>\n",
       "    </tr>\n",
       "  </tbody>\n",
       "</table>\n",
       "</div>"
      ],
      "text/plain": [
       "                  gene  baseMean_CTCF  log2FoldChange_CTCF  lfcSE_CTCF  \\\n",
       "3   ENSMUSG00000000031      27.699104            -0.329884    0.641314   \n",
       "6   ENSMUSG00000000056     670.116954            -0.126357    0.185398   \n",
       "14  ENSMUSG00000000120     581.938368             0.274466    0.348485   \n",
       "\n",
       "    stat_CTCF  pvalue_CTCF  padj_CTCF  baseMean_NipBl  log2FoldChange_NipBl  \\\n",
       "3   -0.514388     0.606981   0.999976       50.489910              1.723420   \n",
       "6   -0.681547     0.495525   0.999976      871.917098              0.379189   \n",
       "14   0.787598     0.430932   0.999976     2152.339630              0.689070   \n",
       "\n",
       "    lfcSE_NipBl  stat_NipBl  pvalue_NipBl  padj_NipBl  \n",
       "3      0.416543    4.137436      0.000035    0.001251  \n",
       "6      0.116249    3.261877      0.001107    0.020174  \n",
       "14     0.187539    3.674269      0.000239    0.005919  "
      ]
     },
     "execution_count": 12,
     "metadata": {},
     "output_type": "execute_result"
    }
   ],
   "source": [
    "sig_Nipbl.head(3)"
   ]
  },
  {
   "cell_type": "code",
   "execution_count": 13,
   "id": "3de9a543-f7f7-49a2-97ed-b232a21ba765",
   "metadata": {},
   "outputs": [
    {
     "ename": "NameError",
     "evalue": "name 'kallisto_counts' is not defined",
     "output_type": "error",
     "traceback": [
      "\u001b[0;31m---------------------------------------------------------------------------\u001b[0m",
      "\u001b[0;31mNameError\u001b[0m                                 Traceback (most recent call last)",
      "\u001b[0;32m/tmp/SLURM_4496417/ipykernel_38263/1759165084.py\u001b[0m in \u001b[0;36m<module>\u001b[0;34m\u001b[0m\n\u001b[0;32m----> 1\u001b[0;31m sig_Nipbl_abundance = sig_Nipbl.merge(kallisto_counts,\n\u001b[0m\u001b[1;32m      2\u001b[0m                                        \u001b[0mon\u001b[0m\u001b[0;34m=\u001b[0m\u001b[0;34m'gene'\u001b[0m\u001b[0;34m,\u001b[0m\u001b[0;34m\u001b[0m\u001b[0;34m\u001b[0m\u001b[0m\n\u001b[1;32m      3\u001b[0m                                        how='left')\n\u001b[1;32m      4\u001b[0m \u001b[0msig_Nipbl_abundance\u001b[0m\u001b[0;34m.\u001b[0m\u001b[0mhead\u001b[0m\u001b[0;34m(\u001b[0m\u001b[0;36m5\u001b[0m\u001b[0;34m)\u001b[0m\u001b[0;34m\u001b[0m\u001b[0;34m\u001b[0m\u001b[0m\n",
      "\u001b[0;31mNameError\u001b[0m: name 'kallisto_counts' is not defined"
     ]
    }
   ],
   "source": [
    "sig_Nipbl_abundance = sig_Nipbl.merge(kallisto_counts,\n",
    "                                       on='gene',\n",
    "                                       how='left')\n",
    "sig_Nipbl_abundance.head(5)"
   ]
  },
  {
   "cell_type": "code",
   "execution_count": null,
   "id": "ef64c9d8-fd8f-447c-90de-05ae3c6b80e0",
   "metadata": {},
   "outputs": [],
   "source": [
    "plt.title('Aggregated gene abundance for significant DEGs after 24hours dNipbl')\n",
    "plt.xlabel('Gene counts DMSO 24h')\n",
    "plt.ylabel('Gene counts dTAG-13 24h')\n",
    "\n",
    "for wt, t in zip(metadb.loc[metadb['treatment'] == 'DMSO 24h']['library'], metadb.loc[metadb['treatment'] == 'dTAG-13 24h']['library']):\n",
    "    print(t)\n",
    "    plt.scatter(sig_Nipbl_abundance[wt], \n",
    "                sig_Nipbl_abundance[t], \n",
    "                s=20, alpha=0.1, color='blue')\n",
    "\n",
    "plt.xlim(0,30000)\n",
    "plt.ylim(0,30000)"
   ]
  },
  {
   "cell_type": "markdown",
   "id": "95d60724-d6a4-4d83-8766-54813a78b434",
   "metadata": {},
   "source": [
    "Looks like there are more up-regulated genes following depletion of NipBl than down-regulated genes\n",
    "\n",
    " - include non-sig background in grey"
   ]
  },
  {
   "cell_type": "code",
   "execution_count": 14,
   "id": "eb6c3033-4de7-41d9-86fd-9892ca2fb1bb",
   "metadata": {},
   "outputs": [],
   "source": [
    "ctcf_kallisto_counts = pd.read_csv(\"/project/fudenber_735/GEO/nora_2017_rna-seq_SRP106652/deseq-mm10-results/tximport/gene-counts.csv\")\n",
    "ctcf_kallisto_counts = ctcf_kallisto_counts.rename(columns={'Unnamed: 0' : 'gene'})\n",
    "\n",
    "ctcf_meta = pd.read_csv(\"/project/fudenber_735/GEO/nora_2017_rna-seq_SRP106652/metadata/sample2condition.csv\")"
   ]
  },
  {
   "cell_type": "code",
   "execution_count": 15,
   "id": "b593a434-3e1a-43b1-b94c-9e8d646b3ae3",
   "metadata": {},
   "outputs": [
    {
     "name": "stdout",
     "output_type": "stream",
     "text": [
      "(263, 13)\n"
     ]
    }
   ],
   "source": [
    "sig_ctcf = both.loc[np.where(both['padj_CTCF'] < 0.05)]\n",
    "\n",
    "print(sig_ctcf.shape)\n",
    "sig_ctcf_abundance = sig_ctcf.merge(ctcf_kallisto_counts,\n",
    "                                       on='gene',\n",
    "                                       how='left')"
   ]
  },
  {
   "cell_type": "code",
   "execution_count": 16,
   "id": "231b4946-7197-43e6-a8a3-2157de274470",
   "metadata": {},
   "outputs": [
    {
     "name": "stdout",
     "output_type": "stream",
     "text": [
      "SRR5517515\n",
      "SRR5517501\n",
      "SRR5517518\n",
      "SRR5517506\n",
      "SRR5517521\n",
      "SRR5517511\n"
     ]
    },
    {
     "data": {
      "text/plain": [
       "(0.0, 10000.0)"
      ]
     },
     "execution_count": 16,
     "metadata": {},
     "output_type": "execute_result"
    },
    {
     "data": {
      "image/png": "[encoded data removed]",
      "text/plain": [
       "<Figure size 432x288 with 1 Axes>"
      ]
     },
     "metadata": {
      "needs_background": "light"
     },
     "output_type": "display_data"
    }
   ],
   "source": [
    "plt.title('Aggregated gene abundance for significant DEGs after 24hours dCTCF')\n",
    "plt.xlabel('Gene counts WT untagged untreated')\n",
    "plt.ylabel('Gene counts CTCF AID auxin1day')\n",
    "\n",
    "for wt, t in zip(ctcf_meta.loc[ctcf_meta['condition'] == 'WT_untagged_untreated']['sample'], ctcf_meta.loc[ctcf_meta['condition'] == 'CTCF_AID_auxin1day']['sample']):\n",
    "    print(wt)\n",
    "    print(t)\n",
    "    plt.scatter(sig_ctcf_abundance[wt], \n",
    "                sig_ctcf_abundance[t], \n",
    "                s=20, alpha=0.1, color='blue')\n",
    "\n",
    "plt.xlim(0,10000)\n",
    "plt.ylim(0,10000)"
   ]
  },
  {
   "cell_type": "markdown",
   "id": "f295b1bc-fde2-4fc9-9053-cd96e1c64eb9",
   "metadata": {},
   "source": [
    "After 24 hours of dCTCF, looks like most of the DE is down-regulation."
   ]
  },
  {
   "cell_type": "code",
   "execution_count": 17,
   "id": "4f2e22ea-d997-4e0c-8a48-065242d9e81a",
   "metadata": {},
   "outputs": [],
   "source": [
    "# plot: abundance of WT vs dNipBl\n",
    "# plot: abundance of WT vs dCTCF\n",
    "# DESeq experiment with both in design formula and a PCA to see differences between two?"
   ]
  },
  {
   "cell_type": "code",
   "execution_count": 18,
   "id": "c34f2496-e010-4357-a4a1-3a1aeeeeac41",
   "metadata": {},
   "outputs": [
    {
     "ename": "NameError",
     "evalue": "name 'sig' is not defined",
     "output_type": "error",
     "traceback": [
      "\u001b[0;31m---------------------------------------------------------------------------\u001b[0m",
      "\u001b[0;31mNameError\u001b[0m                                 Traceback (most recent call last)",
      "\u001b[0;32m/tmp/SLURM_4496417/ipykernel_38263/2553484480.py\u001b[0m in \u001b[0;36m<module>\u001b[0;34m\u001b[0m\n\u001b[1;32m      3\u001b[0m \u001b[0many_sig\u001b[0m \u001b[0;34m=\u001b[0m \u001b[0mboth\u001b[0m\u001b[0;34m.\u001b[0m\u001b[0mloc\u001b[0m\u001b[0;34m[\u001b[0m\u001b[0msig_loc\u001b[0m\u001b[0;34m]\u001b[0m\u001b[0;34m\u001b[0m\u001b[0;34m\u001b[0m\u001b[0m\n\u001b[1;32m      4\u001b[0m \u001b[0;34m\u001b[0m\u001b[0m\n\u001b[0;32m----> 5\u001b[0;31m \u001b[0mprint\u001b[0m\u001b[0;34m(\u001b[0m\u001b[0msig\u001b[0m\u001b[0;34m.\u001b[0m\u001b[0mshape\u001b[0m\u001b[0;34m)\u001b[0m\u001b[0;34m\u001b[0m\u001b[0;34m\u001b[0m\u001b[0m\n\u001b[0m\u001b[1;32m      6\u001b[0m any_sig_ctcf_abundance = sig.merge(ctcf_kallisto_counts,\n\u001b[1;32m      7\u001b[0m                                        \u001b[0mon\u001b[0m\u001b[0;34m=\u001b[0m\u001b[0;34m'gene'\u001b[0m\u001b[0;34m,\u001b[0m\u001b[0;34m\u001b[0m\u001b[0;34m\u001b[0m\u001b[0m\n",
      "\u001b[0;31mNameError\u001b[0m: name 'sig' is not defined"
     ]
    }
   ],
   "source": [
    "sig_loc = np.where((both['padj_CTCF'] < 0.05) | (both['padj_NipBl'] < 0.05))\n",
    "\n",
    "any_sig = both.loc[sig_loc]\n",
    "\n",
    "print(sig.shape)\n",
    "any_sig_ctcf_abundance = sig.merge(ctcf_kallisto_counts,\n",
    "                                       on='gene',\n",
    "                                       how='left')\n",
    "\n",
    "any_sig_nipbl_abundance = sig.merge(kallisto_counts,\n",
    "                                on='gene',\n",
    "                                how='left')\n",
    "\n",
    "plt.scatter(any_sig_ctcf_abundance['SRR5517501'], any_sig_nipbl_abundance['KHRNA25'])"
   ]
  },
  {
   "cell_type": "code",
   "execution_count": 53,
   "id": "6cbe86e6-34eb-4669-bc72-981ec3c35b2b",
   "metadata": {},
   "outputs": [
    {
     "name": "stdout",
     "output_type": "stream",
     "text": [
      "36\n"
     ]
    }
   ],
   "source": [
    "both_sig = both.loc[np.where((both['padj_CTCF'] < 0.05) & (both['padj_NipBl'] < 0.05))]\n",
    "\n",
    "print(len(both_sig))"
   ]
  },
  {
   "cell_type": "code",
   "execution_count": 75,
   "id": "ec453684-c47e-43e9-9e43-403791d71e91",
   "metadata": {},
   "outputs": [
    {
     "name": "stdout",
     "output_type": "stream",
     "text": [
      "number sig DEGs after 24 hours of depletion: 1288\n",
      "number of significant DEGs in both groups: 36\n",
      "number of significant DEGs after 24hours dCTCF only: 194\n",
      "number of significant DEGs after 24hours dNipBl only: 1021\n"
     ]
    },
    {
     "data": {
      "image/png": "[encoded data removed]",
      "text/plain": [
       "<Figure size 432x288 with 1 Axes>"
      ]
     },
     "metadata": {
      "needs_background": "light"
     },
     "output_type": "display_data"
    }
   ],
   "source": [
    "fig, ax = plt.subplots()\n",
    "plt.title('Aggregated gene abundance for significant DEGs after 24hours dCTCF or dNipbl')\n",
    "plt.xlabel('Gene counts WT untagged untreated')\n",
    "plt.ylabel('Gene counts CTCF AID auxin1day')\n",
    "\n",
    "print(\"number sig DEGs after 24 hours of depletion: \" + str(len(any_sig))) \n",
    "\n",
    "# first plotting the DE that are significant for both datasets\n",
    "both_sig = both.loc[np.where((both['padj_CTCF'] < 0.05) & (both['padj_NipBl'] < 0.05))]\n",
    "print(\"number of significant DEGs in both groups: \" + str(len(both_sig)))\n",
    "both_ctcf_abundance = both_sig.merge(ctcf_kallisto_counts,\n",
    "                                       on='gene',\n",
    "                                       how='left')\n",
    "\n",
    "both_nipbl_abundance = both_sig.merge(kallisto_counts,\n",
    "                                on='gene',\n",
    "                                how='left')\n",
    "\n",
    "for ctcf, nipb in zip(ctcf_meta.loc[ctcf_meta['condition'] == 'CTCF_AID_auxin1day']['sample'], metadb.loc[metadb['treatment'] == 'dTAG-13 24h']['library']):\n",
    "        ax.scatter(both_ctcf_abundance[ctcf], \n",
    "                both_nipbl_abundance[nipb], \n",
    "                s=20, alpha=0.1, color='purple', label='DE for both depletions')\n",
    "        \n",
    "\n",
    "# first plotting the DE that are significant for only dCTCF dataset\n",
    "ctcf_sig = both.loc[np.where((both['padj_CTCF'] < 0.05) & (both['padj_NipBl'] >= 0.05))]\n",
    "print(\"number of significant DEGs after 24hours dCTCF only: \" + str(len(ctcf_sig)))\n",
    "ctcf_sig_ctcf_abundance = ctcf_sig.merge(ctcf_kallisto_counts,\n",
    "                                       on='gene',\n",
    "                                       how='left')\n",
    "\n",
    "ctcf_sig_nipbl_abundance = ctcf_sig.merge(kallisto_counts,\n",
    "                                on='gene',\n",
    "                                how='left')      \n",
    "       \n",
    "for ctcf, nipb in zip(ctcf_meta.loc[ctcf_meta['condition'] == 'CTCF_AID_auxin1day']['sample'], metadb.loc[metadb['treatment'] == 'dTAG-13 24h']['library']):\n",
    "        ax.scatter(ctcf_sig_ctcf_abundance[ctcf], \n",
    "                ctcf_sig_nipbl_abundance[nipb], \n",
    "                s=20, alpha=0.1, color='blue', label='DEG after dCTCF')    \n",
    "        \n",
    "        \n",
    "# plotting the DE that are significant for only dNipbl dataset\n",
    "nipb_sig = both.loc[np.where((both['padj_CTCF'] >= 0.05) & (both['padj_NipBl'] < 0.05))]\n",
    "print(\"number of significant DEGs after 24hours dNipBl only: \" + str(len(nipb_sig)))\n",
    "nipb_sig_ctcf_abundance = nipb_sig.merge(ctcf_kallisto_counts,\n",
    "                                       on='gene',\n",
    "                                       how='left')\n",
    "\n",
    "nipb_sig_nipbl_abundance = nipb_sig.merge(kallisto_counts,\n",
    "                                on='gene',\n",
    "                                how='left')      \n",
    "       \n",
    "for ctcf, nipb in zip(ctcf_meta.loc[ctcf_meta['condition'] == 'CTCF_AID_auxin1day']['sample'], metadb.loc[metadb['treatment'] == 'dTAG-13 24h']['library']):\n",
    "        ax.scatter(nipb_sig_ctcf_abundance[ctcf], \n",
    "                nipb_sig_nipbl_abundance[nipb], \n",
    "                s=20, alpha=0.1, color='red', label='DEG after dCTCF')   \n",
    "        \n",
    "        \n",
    "plt.xlim(0,10000)\n",
    "plt.ylim(0,10000)\n",
    "plt.show()"
   ]
  },
  {
   "cell_type": "markdown",
   "id": "c490c380-b84e-4be2-9288-abb49186cddd",
   "metadata": {},
   "source": [
    "Notes: Trying to map gene abundances for significant genes \n",
    "\n",
    "- instead, will try get a ctcf_abundance and nipbl_abundance tables that have significant DEG in either category, then label the category as a group, then plot in scatter plot by extracting indices by group: https://stackoverflow.com/questions/47006268/matplotlib-scatter-plot-with-color-label-and-legend-specified-by-c-option ? \n",
    "- probably not be a good measure, since each has different baselines. Logically, would be better to compare the change in DE between the two (but L2FC might not be right either)\n",
    "- look into next steps to generate a PCA plot of both datasets together?"
   ]
  },
  {
   "cell_type": "code",
   "execution_count": 19,
   "id": "182b873b-b144-4fe6-81a7-c8249108f842",
   "metadata": {},
   "outputs": [],
   "source": [
    "\n",
    "sig_loc = np.where((both['padj_CTCF'] < 0.05) | (both['padj_NipBl'] < 0.05))\n",
    "\n",
    "sig = both.loc[sig_loc]"
   ]
  },
  {
   "cell_type": "code",
   "execution_count": 20,
   "id": "82e34f33-416e-4901-ae82-113b4e5a6d29",
   "metadata": {},
   "outputs": [
    {
     "name": "stdout",
     "output_type": "stream",
     "text": [
      "(1288, 13)\n"
     ]
    },
    {
     "data": {
      "text/html": [
       "<div>\n",
       "<style scoped>\n",
       "    .dataframe tbody tr th:only-of-type {\n",
       "        vertical-align: middle;\n",
       "    }\n",
       "\n",
       "    .dataframe tbody tr th {\n",
       "        vertical-align: top;\n",
       "    }\n",
       "\n",
       "    .dataframe thead th {\n",
       "        text-align: right;\n",
       "    }\n",
       "</style>\n",
       "<table border=\"1\" class=\"dataframe\">\n",
       "  <thead>\n",
       "    <tr style=\"text-align: right;\">\n",
       "      <th></th>\n",
       "      <th>gene</th>\n",
       "      <th>baseMean_CTCF</th>\n",
       "      <th>log2FoldChange_CTCF</th>\n",
       "      <th>lfcSE_CTCF</th>\n",
       "      <th>stat_CTCF</th>\n",
       "      <th>pvalue_CTCF</th>\n",
       "      <th>padj_CTCF</th>\n",
       "      <th>baseMean_NipBl</th>\n",
       "      <th>log2FoldChange_NipBl</th>\n",
       "      <th>lfcSE_NipBl</th>\n",
       "      <th>stat_NipBl</th>\n",
       "      <th>pvalue_NipBl</th>\n",
       "      <th>padj_NipBl</th>\n",
       "    </tr>\n",
       "  </thead>\n",
       "  <tbody>\n",
       "    <tr>\n",
       "      <th>3</th>\n",
       "      <td>ENSMUSG00000000031</td>\n",
       "      <td>27.699104</td>\n",
       "      <td>-0.329884</td>\n",
       "      <td>0.641314</td>\n",
       "      <td>-0.514388</td>\n",
       "      <td>0.606981</td>\n",
       "      <td>0.999976</td>\n",
       "      <td>50.489910</td>\n",
       "      <td>1.723420</td>\n",
       "      <td>0.416543</td>\n",
       "      <td>4.137436</td>\n",
       "      <td>0.000035</td>\n",
       "      <td>0.001251</td>\n",
       "    </tr>\n",
       "    <tr>\n",
       "      <th>4</th>\n",
       "      <td>ENSMUSG00000000037</td>\n",
       "      <td>330.518198</td>\n",
       "      <td>2.020011</td>\n",
       "      <td>0.509448</td>\n",
       "      <td>3.965098</td>\n",
       "      <td>0.000073</td>\n",
       "      <td>0.007284</td>\n",
       "      <td>196.342074</td>\n",
       "      <td>-0.561242</td>\n",
       "      <td>0.448194</td>\n",
       "      <td>-1.252232</td>\n",
       "      <td>0.210485</td>\n",
       "      <td>0.612838</td>\n",
       "    </tr>\n",
       "    <tr>\n",
       "      <th>6</th>\n",
       "      <td>ENSMUSG00000000056</td>\n",
       "      <td>670.116954</td>\n",
       "      <td>-0.126357</td>\n",
       "      <td>0.185398</td>\n",
       "      <td>-0.681547</td>\n",
       "      <td>0.495525</td>\n",
       "      <td>0.999976</td>\n",
       "      <td>871.917098</td>\n",
       "      <td>0.379189</td>\n",
       "      <td>0.116249</td>\n",
       "      <td>3.261877</td>\n",
       "      <td>0.001107</td>\n",
       "      <td>0.020174</td>\n",
       "    </tr>\n",
       "    <tr>\n",
       "      <th>14</th>\n",
       "      <td>ENSMUSG00000000120</td>\n",
       "      <td>581.938368</td>\n",
       "      <td>0.274466</td>\n",
       "      <td>0.348485</td>\n",
       "      <td>0.787598</td>\n",
       "      <td>0.430932</td>\n",
       "      <td>0.999976</td>\n",
       "      <td>2152.339630</td>\n",
       "      <td>0.689070</td>\n",
       "      <td>0.187539</td>\n",
       "      <td>3.674269</td>\n",
       "      <td>0.000239</td>\n",
       "      <td>0.005919</td>\n",
       "    </tr>\n",
       "    <tr>\n",
       "      <th>15</th>\n",
       "      <td>ENSMUSG00000000125</td>\n",
       "      <td>62.547196</td>\n",
       "      <td>0.164560</td>\n",
       "      <td>0.455484</td>\n",
       "      <td>0.361287</td>\n",
       "      <td>0.717885</td>\n",
       "      <td>0.999976</td>\n",
       "      <td>22.139246</td>\n",
       "      <td>3.345909</td>\n",
       "      <td>0.780020</td>\n",
       "      <td>4.289516</td>\n",
       "      <td>0.000018</td>\n",
       "      <td>0.000742</td>\n",
       "    </tr>\n",
       "  </tbody>\n",
       "</table>\n",
       "</div>"
      ],
      "text/plain": [
       "                  gene  baseMean_CTCF  log2FoldChange_CTCF  lfcSE_CTCF  \\\n",
       "3   ENSMUSG00000000031      27.699104            -0.329884    0.641314   \n",
       "4   ENSMUSG00000000037     330.518198             2.020011    0.509448   \n",
       "6   ENSMUSG00000000056     670.116954            -0.126357    0.185398   \n",
       "14  ENSMUSG00000000120     581.938368             0.274466    0.348485   \n",
       "15  ENSMUSG00000000125      62.547196             0.164560    0.455484   \n",
       "\n",
       "    stat_CTCF  pvalue_CTCF  padj_CTCF  baseMean_NipBl  log2FoldChange_NipBl  \\\n",
       "3   -0.514388     0.606981   0.999976       50.489910              1.723420   \n",
       "4    3.965098     0.000073   0.007284      196.342074             -0.561242   \n",
       "6   -0.681547     0.495525   0.999976      871.917098              0.379189   \n",
       "14   0.787598     0.430932   0.999976     2152.339630              0.689070   \n",
       "15   0.361287     0.717885   0.999976       22.139246              3.345909   \n",
       "\n",
       "    lfcSE_NipBl  stat_NipBl  pvalue_NipBl  padj_NipBl  \n",
       "3      0.416543    4.137436      0.000035    0.001251  \n",
       "4      0.448194   -1.252232      0.210485    0.612838  \n",
       "6      0.116249    3.261877      0.001107    0.020174  \n",
       "14     0.187539    3.674269      0.000239    0.005919  \n",
       "15     0.780020    4.289516      0.000018    0.000742  "
      ]
     },
     "execution_count": 20,
     "metadata": {},
     "output_type": "execute_result"
    }
   ],
   "source": [
    "print(sig.shape)\n",
    "sig.head(5)"
   ]
  },
  {
   "cell_type": "code",
   "execution_count": 21,
   "id": "d3045ea8-6336-4806-b821-cca267df1bb8",
   "metadata": {},
   "outputs": [
    {
     "data": {
      "text/plain": [
       "<matplotlib.collections.PathCollection at 0x7fddabd4e160>"
      ]
     },
     "execution_count": 21,
     "metadata": {},
     "output_type": "execute_result"
    },
    {
     "data": {
      "image/png": "[encoded data removed]",
      "text/plain": [
       "<Figure size 432x288 with 1 Axes>"
      ]
     },
     "metadata": {
      "needs_background": "light"
     },
     "output_type": "display_data"
    }
   ],
   "source": [
    "plt.title(\"DEGs after 24hour depletion treatment\")\n",
    "plt.xlabel(\"log2FoldChange of dCTCF\")\n",
    "plt.ylabel(\"log2FoldChange of dNipl\")\n",
    "plt.scatter(sig['log2FoldChange_CTCF'], sig['log2FoldChange_NipBl'], s=70, alpha=0.03)"
   ]
  },
  {
   "cell_type": "code",
   "execution_count": null,
   "id": "00d7abd7-0388-4c57-9717-80a102d2505f",
   "metadata": {},
   "outputs": [],
   "source": []
  },
  {
   "cell_type": "code",
   "execution_count": 37,
   "id": "85e0d738-bcba-4d30-8d2d-1ae0f23c8524",
   "metadata": {},
   "outputs": [
    {
     "data": {
      "text/plain": [
       "(-6.0, 6.0)"
      ]
     },
     "execution_count": 37,
     "metadata": {},
     "output_type": "execute_result"
    },
    {
     "data": {
      "image/png": "[encoded data removed]",
      "text/plain": [
       "<Figure size 432x288 with 1 Axes>"
      ]
     },
     "metadata": {
      "needs_background": "light"
     },
     "output_type": "display_data"
    }
   ],
   "source": [
    "plt.title(\"DEGs after 24hour depletion treatment\")\n",
    "plt.xlabel(\"log2FoldChange of dCTCF\")\n",
    "plt.ylabel(\"log2FoldChange of dNipl\")\n",
    "nonsig = both.loc[np.where((both['padj_CTCF'] >= 0.05) & (both['padj_NipBl'] >= 0.05))]\n",
    "plt.scatter(nonsig['log2FoldChange_CTCF'], nonsig['log2FoldChange_NipBl'], s=10, color='grey')\n",
    "\n",
    "sigctcf = both.loc[np.where((both['padj_CTCF'] < 0.05) | (both['padj_NipBl'] >= 0.05))]\n",
    "plt.scatter(sigctcf['log2FoldChange_CTCF'], sigctcf['log2FoldChange_NipBl'], s=10, color='blue', alpha=0.1)\n",
    "\n",
    "signipbl = both.loc[np.where((both['padj_CTCF'] >= 0.05) | (both['padj_NipBl'] < 0.05))]\n",
    "plt.scatter(signipbl['log2FoldChange_CTCF'], signipbl['log2FoldChange_NipBl'], s=10, color='red', alpha=0.1)\n",
    "\n",
    "sigboth = both.loc[np.where((both['padj_CTCF'] < 0.05) | (both['padj_NipBl'] < 0.05))]\n",
    "plt.scatter(sigboth['log2FoldChange_CTCF'], sigboth['log2FoldChange_NipBl'], s=10, color='yellow', alpha=0.1)\n",
    "                    \n",
    "plt.xlim(-6, 6)\n",
    "plt.ylim(-6, 6)"
   ]
  },
  {
   "cell_type": "code",
   "execution_count": 36,
   "id": "cc0ac3fb-e9e3-4d09-89d3-4d1fc4fd03a2",
   "metadata": {},
   "outputs": [
    {
     "ename": "ValueError",
     "evalue": "setting an array element with a sequence.",
     "output_type": "error",
     "traceback": [
      "\u001b[0;31m---------------------------------------------------------------------------\u001b[0m",
      "\u001b[0;31mValueError\u001b[0m                                Traceback (most recent call last)",
      "\u001b[0;31mValueError\u001b[0m: The truth value of an array with more than one element is ambiguous. Use a.any() or a.all()",
      "\nThe above exception was the direct cause of the following exception:\n",
      "\u001b[0;31mValueError\u001b[0m                                Traceback (most recent call last)",
      "\u001b[0;32m/tmp/SLURM_4496417/ipykernel_38263/4003272011.py\u001b[0m in \u001b[0;36m<module>\u001b[0;34m\u001b[0m\n\u001b[1;32m      1\u001b[0m \u001b[0;31m#filtering dataset to get rid of huge outliers\u001b[0m\u001b[0;34m\u001b[0m\u001b[0;34m\u001b[0m\u001b[0m\n\u001b[1;32m      2\u001b[0m \u001b[0;34m\u001b[0m\u001b[0m\n\u001b[0;32m----> 3\u001b[0;31m \u001b[0mboth\u001b[0m \u001b[0;34m=\u001b[0m \u001b[0mboth\u001b[0m\u001b[0;34m.\u001b[0m\u001b[0mloc\u001b[0m\u001b[0;34m[\u001b[0m\u001b[0mnp\u001b[0m\u001b[0;34m.\u001b[0m\u001b[0mwhere\u001b[0m\u001b[0;34m(\u001b[0m\u001b[0mnp\u001b[0m\u001b[0;34m.\u001b[0m\u001b[0mabs\u001b[0m\u001b[0;34m(\u001b[0m\u001b[0mboth\u001b[0m\u001b[0;34m[\u001b[0m\u001b[0;34m'log2FoldChange_CTCF'\u001b[0m\u001b[0;34m]\u001b[0m\u001b[0;34m)\u001b[0m \u001b[0;34m<\u001b[0m \u001b[0;36m6\u001b[0m\u001b[0;34m)\u001b[0m \u001b[0;34m&\u001b[0m \u001b[0;34m(\u001b[0m\u001b[0mnp\u001b[0m\u001b[0;34m.\u001b[0m\u001b[0mabs\u001b[0m\u001b[0;34m(\u001b[0m\u001b[0mboth\u001b[0m\u001b[0;34m[\u001b[0m\u001b[0;34m'log2FoldChange_NipBl'\u001b[0m\u001b[0;34m]\u001b[0m\u001b[0;34m)\u001b[0m \u001b[0;34m<\u001b[0m \u001b[0;36m6\u001b[0m\u001b[0;34m)\u001b[0m\u001b[0;34m]\u001b[0m\u001b[0;34m\u001b[0m\u001b[0;34m\u001b[0m\u001b[0m\n\u001b[0m",
      "\u001b[0;32m~/.conda/envs/bioenv/lib/python3.9/site-packages/pandas/core/ops/common.py\u001b[0m in \u001b[0;36mnew_method\u001b[0;34m(self, other)\u001b[0m\n\u001b[1;32m     68\u001b[0m         \u001b[0mother\u001b[0m \u001b[0;34m=\u001b[0m \u001b[0mitem_from_zerodim\u001b[0m\u001b[0;34m(\u001b[0m\u001b[0mother\u001b[0m\u001b[0;34m)\u001b[0m\u001b[0;34m\u001b[0m\u001b[0;34m\u001b[0m\u001b[0m\n\u001b[1;32m     69\u001b[0m \u001b[0;34m\u001b[0m\u001b[0m\n\u001b[0;32m---> 70\u001b[0;31m         \u001b[0;32mreturn\u001b[0m \u001b[0mmethod\u001b[0m\u001b[0;34m(\u001b[0m\u001b[0mself\u001b[0m\u001b[0;34m,\u001b[0m \u001b[0mother\u001b[0m\u001b[0;34m)\u001b[0m\u001b[0;34m\u001b[0m\u001b[0;34m\u001b[0m\u001b[0m\n\u001b[0m\u001b[1;32m     71\u001b[0m \u001b[0;34m\u001b[0m\u001b[0m\n\u001b[1;32m     72\u001b[0m     \u001b[0;32mreturn\u001b[0m \u001b[0mnew_method\u001b[0m\u001b[0;34m\u001b[0m\u001b[0;34m\u001b[0m\u001b[0m\n",
      "\u001b[0;32m~/.conda/envs/bioenv/lib/python3.9/site-packages/pandas/core/arraylike.py\u001b[0m in \u001b[0;36m__rand__\u001b[0;34m(self, other)\u001b[0m\n\u001b[1;32m     72\u001b[0m     \u001b[0;34m@\u001b[0m\u001b[0munpack_zerodim_and_defer\u001b[0m\u001b[0;34m(\u001b[0m\u001b[0;34m\"__rand__\"\u001b[0m\u001b[0;34m)\u001b[0m\u001b[0;34m\u001b[0m\u001b[0;34m\u001b[0m\u001b[0m\n\u001b[1;32m     73\u001b[0m     \u001b[0;32mdef\u001b[0m \u001b[0m__rand__\u001b[0m\u001b[0;34m(\u001b[0m\u001b[0mself\u001b[0m\u001b[0;34m,\u001b[0m \u001b[0mother\u001b[0m\u001b[0;34m)\u001b[0m\u001b[0;34m:\u001b[0m\u001b[0;34m\u001b[0m\u001b[0;34m\u001b[0m\u001b[0m\n\u001b[0;32m---> 74\u001b[0;31m         \u001b[0;32mreturn\u001b[0m \u001b[0mself\u001b[0m\u001b[0;34m.\u001b[0m\u001b[0m_logical_method\u001b[0m\u001b[0;34m(\u001b[0m\u001b[0mother\u001b[0m\u001b[0;34m,\u001b[0m \u001b[0mroperator\u001b[0m\u001b[0;34m.\u001b[0m\u001b[0mrand_\u001b[0m\u001b[0;34m)\u001b[0m\u001b[0;34m\u001b[0m\u001b[0;34m\u001b[0m\u001b[0m\n\u001b[0m\u001b[1;32m     75\u001b[0m \u001b[0;34m\u001b[0m\u001b[0m\n\u001b[1;32m     76\u001b[0m     \u001b[0;34m@\u001b[0m\u001b[0munpack_zerodim_and_defer\u001b[0m\u001b[0;34m(\u001b[0m\u001b[0;34m\"__or__\"\u001b[0m\u001b[0;34m)\u001b[0m\u001b[0;34m\u001b[0m\u001b[0;34m\u001b[0m\u001b[0m\n",
      "\u001b[0;32m~/.conda/envs/bioenv/lib/python3.9/site-packages/pandas/core/series.py\u001b[0m in \u001b[0;36m_logical_method\u001b[0;34m(self, other, op)\u001b[0m\n\u001b[1;32m   5629\u001b[0m         \u001b[0mrvalues\u001b[0m \u001b[0;34m=\u001b[0m \u001b[0mextract_array\u001b[0m\u001b[0;34m(\u001b[0m\u001b[0mother\u001b[0m\u001b[0;34m,\u001b[0m \u001b[0mextract_numpy\u001b[0m\u001b[0;34m=\u001b[0m\u001b[0;32mTrue\u001b[0m\u001b[0;34m,\u001b[0m \u001b[0mextract_range\u001b[0m\u001b[0;34m=\u001b[0m\u001b[0;32mTrue\u001b[0m\u001b[0;34m)\u001b[0m\u001b[0;34m\u001b[0m\u001b[0;34m\u001b[0m\u001b[0m\n\u001b[1;32m   5630\u001b[0m \u001b[0;34m\u001b[0m\u001b[0m\n\u001b[0;32m-> 5631\u001b[0;31m         \u001b[0mres_values\u001b[0m \u001b[0;34m=\u001b[0m \u001b[0mops\u001b[0m\u001b[0;34m.\u001b[0m\u001b[0mlogical_op\u001b[0m\u001b[0;34m(\u001b[0m\u001b[0mlvalues\u001b[0m\u001b[0;34m,\u001b[0m \u001b[0mrvalues\u001b[0m\u001b[0;34m,\u001b[0m \u001b[0mop\u001b[0m\u001b[0;34m)\u001b[0m\u001b[0;34m\u001b[0m\u001b[0;34m\u001b[0m\u001b[0m\n\u001b[0m\u001b[1;32m   5632\u001b[0m         \u001b[0;32mreturn\u001b[0m \u001b[0mself\u001b[0m\u001b[0;34m.\u001b[0m\u001b[0m_construct_result\u001b[0m\u001b[0;34m(\u001b[0m\u001b[0mres_values\u001b[0m\u001b[0;34m,\u001b[0m \u001b[0mname\u001b[0m\u001b[0;34m=\u001b[0m\u001b[0mres_name\u001b[0m\u001b[0;34m)\u001b[0m\u001b[0;34m\u001b[0m\u001b[0;34m\u001b[0m\u001b[0m\n\u001b[1;32m   5633\u001b[0m \u001b[0;34m\u001b[0m\u001b[0m\n",
      "\u001b[0;32m~/.conda/envs/bioenv/lib/python3.9/site-packages/pandas/core/ops/array_ops.py\u001b[0m in \u001b[0;36mlogical_op\u001b[0;34m(left, right, op)\u001b[0m\n\u001b[1;32m    379\u001b[0m         \u001b[0;32mif\u001b[0m \u001b[0misinstance\u001b[0m\u001b[0;34m(\u001b[0m\u001b[0mrvalues\u001b[0m\u001b[0;34m,\u001b[0m \u001b[0mnp\u001b[0m\u001b[0;34m.\u001b[0m\u001b[0mndarray\u001b[0m\u001b[0;34m)\u001b[0m\u001b[0;34m:\u001b[0m\u001b[0;34m\u001b[0m\u001b[0;34m\u001b[0m\u001b[0m\n\u001b[1;32m    380\u001b[0m             \u001b[0mis_other_int_dtype\u001b[0m \u001b[0;34m=\u001b[0m \u001b[0mis_integer_dtype\u001b[0m\u001b[0;34m(\u001b[0m\u001b[0mrvalues\u001b[0m\u001b[0;34m.\u001b[0m\u001b[0mdtype\u001b[0m\u001b[0;34m)\u001b[0m\u001b[0;34m\u001b[0m\u001b[0;34m\u001b[0m\u001b[0m\n\u001b[0;32m--> 381\u001b[0;31m             \u001b[0mrvalues\u001b[0m \u001b[0;34m=\u001b[0m \u001b[0mrvalues\u001b[0m \u001b[0;32mif\u001b[0m \u001b[0mis_other_int_dtype\u001b[0m \u001b[0;32melse\u001b[0m \u001b[0mfill_bool\u001b[0m\u001b[0;34m(\u001b[0m\u001b[0mrvalues\u001b[0m\u001b[0;34m,\u001b[0m \u001b[0mlvalues\u001b[0m\u001b[0;34m)\u001b[0m\u001b[0;34m\u001b[0m\u001b[0;34m\u001b[0m\u001b[0m\n\u001b[0m\u001b[1;32m    382\u001b[0m \u001b[0;34m\u001b[0m\u001b[0m\n\u001b[1;32m    383\u001b[0m         \u001b[0;32melse\u001b[0m\u001b[0;34m:\u001b[0m\u001b[0;34m\u001b[0m\u001b[0;34m\u001b[0m\u001b[0m\n",
      "\u001b[0;32m~/.conda/envs/bioenv/lib/python3.9/site-packages/pandas/core/ops/array_ops.py\u001b[0m in \u001b[0;36mfill_bool\u001b[0;34m(x, left)\u001b[0m\n\u001b[1;32m    358\u001b[0m \u001b[0;34m\u001b[0m\u001b[0m\n\u001b[1;32m    359\u001b[0m         \u001b[0;32mif\u001b[0m \u001b[0mleft\u001b[0m \u001b[0;32mis\u001b[0m \u001b[0;32mNone\u001b[0m \u001b[0;32mor\u001b[0m \u001b[0mis_bool_dtype\u001b[0m\u001b[0;34m(\u001b[0m\u001b[0mleft\u001b[0m\u001b[0;34m.\u001b[0m\u001b[0mdtype\u001b[0m\u001b[0;34m)\u001b[0m\u001b[0;34m:\u001b[0m\u001b[0;34m\u001b[0m\u001b[0;34m\u001b[0m\u001b[0m\n\u001b[0;32m--> 360\u001b[0;31m             \u001b[0mx\u001b[0m \u001b[0;34m=\u001b[0m \u001b[0mx\u001b[0m\u001b[0;34m.\u001b[0m\u001b[0mastype\u001b[0m\u001b[0;34m(\u001b[0m\u001b[0mbool\u001b[0m\u001b[0;34m)\u001b[0m\u001b[0;34m\u001b[0m\u001b[0;34m\u001b[0m\u001b[0m\n\u001b[0m\u001b[1;32m    361\u001b[0m         \u001b[0;32mreturn\u001b[0m \u001b[0mx\u001b[0m\u001b[0;34m\u001b[0m\u001b[0;34m\u001b[0m\u001b[0m\n\u001b[1;32m    362\u001b[0m \u001b[0;34m\u001b[0m\u001b[0m\n",
      "\u001b[0;31mValueError\u001b[0m: setting an array element with a sequence."
     ]
    }
   ],
   "source": [
    "#filtering dataset to get rid of huge outliers\n",
    "\n",
    "both = both.loc[np.where(np.abs(both['log2FoldChange_CTCF']) < 6) & (np.abs(both['log2FoldChange_NipBl']) < 6)]"
   ]
  },
  {
   "cell_type": "markdown",
   "id": "851830bc-7b5c-48d9-8241-6abe98db897f",
   "metadata": {},
   "source": [
    " - include all genes in background, plus color-code dCTCf only, dNipbl only, both"
   ]
  },
  {
   "cell_type": "markdown",
   "id": "28b8ee7b-4522-4c3e-b228-8fdd7963b847",
   "metadata": {},
   "source": [
    "## next steps for comparison:\n",
    " - maybe --> euclidean distance between the two sets using normalizes log transformation https://www.bioconductor.org/help/course-materials/2019/CSAMA/materials/labs/lab-03-rnaseq/rnaseqGene_CSAMA2019.html#sample-distances , https://bioc.ism.ac.jp/packages/2.14/bioc/vignettes/DESeq2/inst/doc/beginner.pdf\n",
    " - set up experimental design with all 4 conditions and all 4 datasets (WT-CTCF, WT-Nipl, treatments) and put in DESeq2\n",
    "     - probably best way to perform PCA?\n",
    "     - gene clustering (at end of bioc.vignette\n",
    "     - MDS plot for sample distances --> Q: can I get these sample distances between the two dataset? Maybe I do the plot for each of the 4 comparisons with the abundances? \n",
    "     \n",
    " - comparison against promoter/enhancer dataset\n",
    " - CTCF at TSS\n",
    " \n",
    " \n",
    "milestone for karissa:\n",
    "- PCA with all combinations\n",
    "- CTCF at TSS for dCTCF and dNipBl (with mm10) + dataset\n",
    "- look into distance to enhancers with mm9 1st, with ctcf, then port over (with liftover) to mm10 \n",
    "    - distance for dNipbl dataset to mm10 enhancer set\n",
    "\n",
    "revisiting pipeline question:\n",
    "- review differences between mapping tools, best practices in RNAseq + Differential Expression to help make decisions for building a snakemake "
   ]
  },
  {
   "cell_type": "code",
   "execution_count": null,
   "id": "b62cac38-68e0-421a-a8a3-8248b353b8d4",
   "metadata": {},
   "outputs": [],
   "source": []
  }
 ],
 "metadata": {
  "kernelspec": {
   "display_name": "Bioframe Env",
   "language": "python",
   "name": "bioenv"
  },
  "language_info": {
   "codemirror_mode": {
    "name": "ipython",
    "version": 3
   },
   "file_extension": ".py",
   "mimetype": "text/x-python",
   "name": "python",
   "nbconvert_exporter": "python",
   "pygments_lexer": "ipython3",
   "version": "3.9.7"
  }
 },
 "nbformat": 4,
 "nbformat_minor": 5
}
